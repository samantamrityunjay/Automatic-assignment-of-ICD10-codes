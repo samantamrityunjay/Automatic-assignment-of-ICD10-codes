{
  "nbformat": 4,
  "nbformat_minor": 0,
  "metadata": {
    "colab": {
      "name": "DeepLearning.ipynb",
      "provenance": [],
      "collapsed_sections": [],
      "authorship_tag": "ABX9TyPi9nDYawIsy1BQRfrzAKuT",
      "include_colab_link": true
    },
    "kernelspec": {
      "name": "python3",
      "display_name": "Python 3"
    },
    "widgets": {
      "application/vnd.jupyter.widget-state+json": {
        "44e7754bdb4d4ed1bd5392acb260aa31": {
          "model_module": "@jupyter-widgets/controls",
          "model_name": "HBoxModel",
          "state": {
            "_view_name": "HBoxView",
            "_dom_classes": [],
            "_model_name": "HBoxModel",
            "_view_module": "@jupyter-widgets/controls",
            "_model_module_version": "1.5.0",
            "_view_count": null,
            "_view_module_version": "1.5.0",
            "box_style": "",
            "layout": "IPY_MODEL_c3baabd91cf64796bbe761fc4adf9e1d",
            "_model_module": "@jupyter-widgets/controls",
            "children": [
              "IPY_MODEL_6a04229fe8ef442191235600b9b8df07",
              "IPY_MODEL_10237c6a4cfe4e129f5815ad9b32956e"
            ]
          }
        },
        "c3baabd91cf64796bbe761fc4adf9e1d": {
          "model_module": "@jupyter-widgets/base",
          "model_name": "LayoutModel",
          "state": {
            "_view_name": "LayoutView",
            "grid_template_rows": null,
            "right": null,
            "justify_content": null,
            "_view_module": "@jupyter-widgets/base",
            "overflow": null,
            "_model_module_version": "1.2.0",
            "_view_count": null,
            "flex_flow": null,
            "width": null,
            "min_width": null,
            "border": null,
            "align_items": null,
            "bottom": null,
            "_model_module": "@jupyter-widgets/base",
            "top": null,
            "grid_column": null,
            "overflow_y": null,
            "overflow_x": null,
            "grid_auto_flow": null,
            "grid_area": null,
            "grid_template_columns": null,
            "flex": null,
            "_model_name": "LayoutModel",
            "justify_items": null,
            "grid_row": null,
            "max_height": null,
            "align_content": null,
            "visibility": null,
            "align_self": null,
            "height": null,
            "min_height": null,
            "padding": null,
            "grid_auto_rows": null,
            "grid_gap": null,
            "max_width": null,
            "order": null,
            "_view_module_version": "1.2.0",
            "grid_template_areas": null,
            "object_position": null,
            "object_fit": null,
            "grid_auto_columns": null,
            "margin": null,
            "display": null,
            "left": null
          }
        },
        "6a04229fe8ef442191235600b9b8df07": {
          "model_module": "@jupyter-widgets/controls",
          "model_name": "FloatProgressModel",
          "state": {
            "_view_name": "ProgressView",
            "style": "IPY_MODEL_30d8f642ea154d56aaf8dbf7ed71ea75",
            "_dom_classes": [],
            "description": "100%",
            "_model_name": "FloatProgressModel",
            "bar_style": "success",
            "max": 40478,
            "_view_module": "@jupyter-widgets/controls",
            "_model_module_version": "1.5.0",
            "value": 40478,
            "_view_count": null,
            "_view_module_version": "1.5.0",
            "orientation": "horizontal",
            "min": 0,
            "description_tooltip": null,
            "_model_module": "@jupyter-widgets/controls",
            "layout": "IPY_MODEL_0a82b4e5db2b408190ee1cc67a56a3d4"
          }
        },
        "10237c6a4cfe4e129f5815ad9b32956e": {
          "model_module": "@jupyter-widgets/controls",
          "model_name": "HTMLModel",
          "state": {
            "_view_name": "HTMLView",
            "style": "IPY_MODEL_769f66a6782847628e44275d81ffb4f4",
            "_dom_classes": [],
            "description": "",
            "_model_name": "HTMLModel",
            "placeholder": "​",
            "_view_module": "@jupyter-widgets/controls",
            "_model_module_version": "1.5.0",
            "value": " 40478/40478 [13:12&lt;00:00, 51.06it/s]",
            "_view_count": null,
            "_view_module_version": "1.5.0",
            "description_tooltip": null,
            "_model_module": "@jupyter-widgets/controls",
            "layout": "IPY_MODEL_41f692f8319941ffb9f6c871867c4a63"
          }
        },
        "30d8f642ea154d56aaf8dbf7ed71ea75": {
          "model_module": "@jupyter-widgets/controls",
          "model_name": "ProgressStyleModel",
          "state": {
            "_view_name": "StyleView",
            "_model_name": "ProgressStyleModel",
            "description_width": "initial",
            "_view_module": "@jupyter-widgets/base",
            "_model_module_version": "1.5.0",
            "_view_count": null,
            "_view_module_version": "1.2.0",
            "bar_color": null,
            "_model_module": "@jupyter-widgets/controls"
          }
        },
        "0a82b4e5db2b408190ee1cc67a56a3d4": {
          "model_module": "@jupyter-widgets/base",
          "model_name": "LayoutModel",
          "state": {
            "_view_name": "LayoutView",
            "grid_template_rows": null,
            "right": null,
            "justify_content": null,
            "_view_module": "@jupyter-widgets/base",
            "overflow": null,
            "_model_module_version": "1.2.0",
            "_view_count": null,
            "flex_flow": null,
            "width": null,
            "min_width": null,
            "border": null,
            "align_items": null,
            "bottom": null,
            "_model_module": "@jupyter-widgets/base",
            "top": null,
            "grid_column": null,
            "overflow_y": null,
            "overflow_x": null,
            "grid_auto_flow": null,
            "grid_area": null,
            "grid_template_columns": null,
            "flex": null,
            "_model_name": "LayoutModel",
            "justify_items": null,
            "grid_row": null,
            "max_height": null,
            "align_content": null,
            "visibility": null,
            "align_self": null,
            "height": null,
            "min_height": null,
            "padding": null,
            "grid_auto_rows": null,
            "grid_gap": null,
            "max_width": null,
            "order": null,
            "_view_module_version": "1.2.0",
            "grid_template_areas": null,
            "object_position": null,
            "object_fit": null,
            "grid_auto_columns": null,
            "margin": null,
            "display": null,
            "left": null
          }
        },
        "769f66a6782847628e44275d81ffb4f4": {
          "model_module": "@jupyter-widgets/controls",
          "model_name": "DescriptionStyleModel",
          "state": {
            "_view_name": "StyleView",
            "_model_name": "DescriptionStyleModel",
            "description_width": "",
            "_view_module": "@jupyter-widgets/base",
            "_model_module_version": "1.5.0",
            "_view_count": null,
            "_view_module_version": "1.2.0",
            "_model_module": "@jupyter-widgets/controls"
          }
        },
        "41f692f8319941ffb9f6c871867c4a63": {
          "model_module": "@jupyter-widgets/base",
          "model_name": "LayoutModel",
          "state": {
            "_view_name": "LayoutView",
            "grid_template_rows": null,
            "right": null,
            "justify_content": null,
            "_view_module": "@jupyter-widgets/base",
            "overflow": null,
            "_model_module_version": "1.2.0",
            "_view_count": null,
            "flex_flow": null,
            "width": null,
            "min_width": null,
            "border": null,
            "align_items": null,
            "bottom": null,
            "_model_module": "@jupyter-widgets/base",
            "top": null,
            "grid_column": null,
            "overflow_y": null,
            "overflow_x": null,
            "grid_auto_flow": null,
            "grid_area": null,
            "grid_template_columns": null,
            "flex": null,
            "_model_name": "LayoutModel",
            "justify_items": null,
            "grid_row": null,
            "max_height": null,
            "align_content": null,
            "visibility": null,
            "align_self": null,
            "height": null,
            "min_height": null,
            "padding": null,
            "grid_auto_rows": null,
            "grid_gap": null,
            "max_width": null,
            "order": null,
            "_view_module_version": "1.2.0",
            "grid_template_areas": null,
            "object_position": null,
            "object_fit": null,
            "grid_auto_columns": null,
            "margin": null,
            "display": null,
            "left": null
          }
        },
        "d6dd3dfe71824ff8a7f393004a20bd6f": {
          "model_module": "@jupyter-widgets/controls",
          "model_name": "HBoxModel",
          "state": {
            "_view_name": "HBoxView",
            "_dom_classes": [],
            "_model_name": "HBoxModel",
            "_view_module": "@jupyter-widgets/controls",
            "_model_module_version": "1.5.0",
            "_view_count": null,
            "_view_module_version": "1.5.0",
            "box_style": "",
            "layout": "IPY_MODEL_ca0328c74f774d29b5b2d83d532f7922",
            "_model_module": "@jupyter-widgets/controls",
            "children": [
              "IPY_MODEL_43f3ef195728411a950f7763dff88621",
              "IPY_MODEL_c0f169cdf47246e9b061b8b941f74ba0"
            ]
          }
        },
        "ca0328c74f774d29b5b2d83d532f7922": {
          "model_module": "@jupyter-widgets/base",
          "model_name": "LayoutModel",
          "state": {
            "_view_name": "LayoutView",
            "grid_template_rows": null,
            "right": null,
            "justify_content": null,
            "_view_module": "@jupyter-widgets/base",
            "overflow": null,
            "_model_module_version": "1.2.0",
            "_view_count": null,
            "flex_flow": null,
            "width": null,
            "min_width": null,
            "border": null,
            "align_items": null,
            "bottom": null,
            "_model_module": "@jupyter-widgets/base",
            "top": null,
            "grid_column": null,
            "overflow_y": null,
            "overflow_x": null,
            "grid_auto_flow": null,
            "grid_area": null,
            "grid_template_columns": null,
            "flex": null,
            "_model_name": "LayoutModel",
            "justify_items": null,
            "grid_row": null,
            "max_height": null,
            "align_content": null,
            "visibility": null,
            "align_self": null,
            "height": null,
            "min_height": null,
            "padding": null,
            "grid_auto_rows": null,
            "grid_gap": null,
            "max_width": null,
            "order": null,
            "_view_module_version": "1.2.0",
            "grid_template_areas": null,
            "object_position": null,
            "object_fit": null,
            "grid_auto_columns": null,
            "margin": null,
            "display": null,
            "left": null
          }
        },
        "43f3ef195728411a950f7763dff88621": {
          "model_module": "@jupyter-widgets/controls",
          "model_name": "FloatProgressModel",
          "state": {
            "_view_name": "ProgressView",
            "style": "IPY_MODEL_3fc02380cfde478a91065faa134bf250",
            "_dom_classes": [],
            "description": "100%",
            "_model_name": "FloatProgressModel",
            "bar_style": "success",
            "max": 40478,
            "_view_module": "@jupyter-widgets/controls",
            "_model_module_version": "1.5.0",
            "value": 40478,
            "_view_count": null,
            "_view_module_version": "1.5.0",
            "orientation": "horizontal",
            "min": 0,
            "description_tooltip": null,
            "_model_module": "@jupyter-widgets/controls",
            "layout": "IPY_MODEL_bf2fa4419d214fbdb4efb70e0c4f6bfb"
          }
        },
        "c0f169cdf47246e9b061b8b941f74ba0": {
          "model_module": "@jupyter-widgets/controls",
          "model_name": "HTMLModel",
          "state": {
            "_view_name": "HTMLView",
            "style": "IPY_MODEL_e7ba622d613444058fbb36c062363786",
            "_dom_classes": [],
            "description": "",
            "_model_name": "HTMLModel",
            "placeholder": "​",
            "_view_module": "@jupyter-widgets/controls",
            "_model_module_version": "1.5.0",
            "value": " 40478/40478 [13:12&lt;00:00, 51.10it/s]",
            "_view_count": null,
            "_view_module_version": "1.5.0",
            "description_tooltip": null,
            "_model_module": "@jupyter-widgets/controls",
            "layout": "IPY_MODEL_53cc808deb7e4ea89c45ab52767a6990"
          }
        },
        "3fc02380cfde478a91065faa134bf250": {
          "model_module": "@jupyter-widgets/controls",
          "model_name": "ProgressStyleModel",
          "state": {
            "_view_name": "StyleView",
            "_model_name": "ProgressStyleModel",
            "description_width": "initial",
            "_view_module": "@jupyter-widgets/base",
            "_model_module_version": "1.5.0",
            "_view_count": null,
            "_view_module_version": "1.2.0",
            "bar_color": null,
            "_model_module": "@jupyter-widgets/controls"
          }
        },
        "bf2fa4419d214fbdb4efb70e0c4f6bfb": {
          "model_module": "@jupyter-widgets/base",
          "model_name": "LayoutModel",
          "state": {
            "_view_name": "LayoutView",
            "grid_template_rows": null,
            "right": null,
            "justify_content": null,
            "_view_module": "@jupyter-widgets/base",
            "overflow": null,
            "_model_module_version": "1.2.0",
            "_view_count": null,
            "flex_flow": null,
            "width": null,
            "min_width": null,
            "border": null,
            "align_items": null,
            "bottom": null,
            "_model_module": "@jupyter-widgets/base",
            "top": null,
            "grid_column": null,
            "overflow_y": null,
            "overflow_x": null,
            "grid_auto_flow": null,
            "grid_area": null,
            "grid_template_columns": null,
            "flex": null,
            "_model_name": "LayoutModel",
            "justify_items": null,
            "grid_row": null,
            "max_height": null,
            "align_content": null,
            "visibility": null,
            "align_self": null,
            "height": null,
            "min_height": null,
            "padding": null,
            "grid_auto_rows": null,
            "grid_gap": null,
            "max_width": null,
            "order": null,
            "_view_module_version": "1.2.0",
            "grid_template_areas": null,
            "object_position": null,
            "object_fit": null,
            "grid_auto_columns": null,
            "margin": null,
            "display": null,
            "left": null
          }
        },
        "e7ba622d613444058fbb36c062363786": {
          "model_module": "@jupyter-widgets/controls",
          "model_name": "DescriptionStyleModel",
          "state": {
            "_view_name": "StyleView",
            "_model_name": "DescriptionStyleModel",
            "description_width": "",
            "_view_module": "@jupyter-widgets/base",
            "_model_module_version": "1.5.0",
            "_view_count": null,
            "_view_module_version": "1.2.0",
            "_model_module": "@jupyter-widgets/controls"
          }
        },
        "53cc808deb7e4ea89c45ab52767a6990": {
          "model_module": "@jupyter-widgets/base",
          "model_name": "LayoutModel",
          "state": {
            "_view_name": "LayoutView",
            "grid_template_rows": null,
            "right": null,
            "justify_content": null,
            "_view_module": "@jupyter-widgets/base",
            "overflow": null,
            "_model_module_version": "1.2.0",
            "_view_count": null,
            "flex_flow": null,
            "width": null,
            "min_width": null,
            "border": null,
            "align_items": null,
            "bottom": null,
            "_model_module": "@jupyter-widgets/base",
            "top": null,
            "grid_column": null,
            "overflow_y": null,
            "overflow_x": null,
            "grid_auto_flow": null,
            "grid_area": null,
            "grid_template_columns": null,
            "flex": null,
            "_model_name": "LayoutModel",
            "justify_items": null,
            "grid_row": null,
            "max_height": null,
            "align_content": null,
            "visibility": null,
            "align_self": null,
            "height": null,
            "min_height": null,
            "padding": null,
            "grid_auto_rows": null,
            "grid_gap": null,
            "max_width": null,
            "order": null,
            "_view_module_version": "1.2.0",
            "grid_template_areas": null,
            "object_position": null,
            "object_fit": null,
            "grid_auto_columns": null,
            "margin": null,
            "display": null,
            "left": null
          }
        },
        "e6e239ad2dc3412ab2e12c602bea493c": {
          "model_module": "@jupyter-widgets/controls",
          "model_name": "HBoxModel",
          "state": {
            "_view_name": "HBoxView",
            "_dom_classes": [],
            "_model_name": "HBoxModel",
            "_view_module": "@jupyter-widgets/controls",
            "_model_module_version": "1.5.0",
            "_view_count": null,
            "_view_module_version": "1.5.0",
            "box_style": "",
            "layout": "IPY_MODEL_5174821391604bd49b2a660fa825cbce",
            "_model_module": "@jupyter-widgets/controls",
            "children": [
              "IPY_MODEL_26b23e7416c84831983e53665d61db0c",
              "IPY_MODEL_877ac6b8cb1d4d02ae21eea40c6e1e90"
            ]
          }
        },
        "5174821391604bd49b2a660fa825cbce": {
          "model_module": "@jupyter-widgets/base",
          "model_name": "LayoutModel",
          "state": {
            "_view_name": "LayoutView",
            "grid_template_rows": null,
            "right": null,
            "justify_content": null,
            "_view_module": "@jupyter-widgets/base",
            "overflow": null,
            "_model_module_version": "1.2.0",
            "_view_count": null,
            "flex_flow": null,
            "width": null,
            "min_width": null,
            "border": null,
            "align_items": null,
            "bottom": null,
            "_model_module": "@jupyter-widgets/base",
            "top": null,
            "grid_column": null,
            "overflow_y": null,
            "overflow_x": null,
            "grid_auto_flow": null,
            "grid_area": null,
            "grid_template_columns": null,
            "flex": null,
            "_model_name": "LayoutModel",
            "justify_items": null,
            "grid_row": null,
            "max_height": null,
            "align_content": null,
            "visibility": null,
            "align_self": null,
            "height": null,
            "min_height": null,
            "padding": null,
            "grid_auto_rows": null,
            "grid_gap": null,
            "max_width": null,
            "order": null,
            "_view_module_version": "1.2.0",
            "grid_template_areas": null,
            "object_position": null,
            "object_fit": null,
            "grid_auto_columns": null,
            "margin": null,
            "display": null,
            "left": null
          }
        },
        "26b23e7416c84831983e53665d61db0c": {
          "model_module": "@jupyter-widgets/controls",
          "model_name": "FloatProgressModel",
          "state": {
            "_view_name": "ProgressView",
            "style": "IPY_MODEL_5168626d74184ddaa3d2bcc6af6deb07",
            "_dom_classes": [],
            "description": "100%",
            "_model_name": "FloatProgressModel",
            "bar_style": "success",
            "max": 40478,
            "_view_module": "@jupyter-widgets/controls",
            "_model_module_version": "1.5.0",
            "value": 40478,
            "_view_count": null,
            "_view_module_version": "1.5.0",
            "orientation": "horizontal",
            "min": 0,
            "description_tooltip": null,
            "_model_module": "@jupyter-widgets/controls",
            "layout": "IPY_MODEL_c9a9e9c976c04604881707f1813d0fe5"
          }
        },
        "877ac6b8cb1d4d02ae21eea40c6e1e90": {
          "model_module": "@jupyter-widgets/controls",
          "model_name": "HTMLModel",
          "state": {
            "_view_name": "HTMLView",
            "style": "IPY_MODEL_152349ee88704af88b852a6b0eaafe71",
            "_dom_classes": [],
            "description": "",
            "_model_name": "HTMLModel",
            "placeholder": "​",
            "_view_module": "@jupyter-widgets/controls",
            "_model_module_version": "1.5.0",
            "value": " 40478/40478 [00:54&lt;00:00, 742.41it/s]",
            "_view_count": null,
            "_view_module_version": "1.5.0",
            "description_tooltip": null,
            "_model_module": "@jupyter-widgets/controls",
            "layout": "IPY_MODEL_baa44c6027644d93bc75b63453878c2b"
          }
        },
        "5168626d74184ddaa3d2bcc6af6deb07": {
          "model_module": "@jupyter-widgets/controls",
          "model_name": "ProgressStyleModel",
          "state": {
            "_view_name": "StyleView",
            "_model_name": "ProgressStyleModel",
            "description_width": "initial",
            "_view_module": "@jupyter-widgets/base",
            "_model_module_version": "1.5.0",
            "_view_count": null,
            "_view_module_version": "1.2.0",
            "bar_color": null,
            "_model_module": "@jupyter-widgets/controls"
          }
        },
        "c9a9e9c976c04604881707f1813d0fe5": {
          "model_module": "@jupyter-widgets/base",
          "model_name": "LayoutModel",
          "state": {
            "_view_name": "LayoutView",
            "grid_template_rows": null,
            "right": null,
            "justify_content": null,
            "_view_module": "@jupyter-widgets/base",
            "overflow": null,
            "_model_module_version": "1.2.0",
            "_view_count": null,
            "flex_flow": null,
            "width": null,
            "min_width": null,
            "border": null,
            "align_items": null,
            "bottom": null,
            "_model_module": "@jupyter-widgets/base",
            "top": null,
            "grid_column": null,
            "overflow_y": null,
            "overflow_x": null,
            "grid_auto_flow": null,
            "grid_area": null,
            "grid_template_columns": null,
            "flex": null,
            "_model_name": "LayoutModel",
            "justify_items": null,
            "grid_row": null,
            "max_height": null,
            "align_content": null,
            "visibility": null,
            "align_self": null,
            "height": null,
            "min_height": null,
            "padding": null,
            "grid_auto_rows": null,
            "grid_gap": null,
            "max_width": null,
            "order": null,
            "_view_module_version": "1.2.0",
            "grid_template_areas": null,
            "object_position": null,
            "object_fit": null,
            "grid_auto_columns": null,
            "margin": null,
            "display": null,
            "left": null
          }
        },
        "152349ee88704af88b852a6b0eaafe71": {
          "model_module": "@jupyter-widgets/controls",
          "model_name": "DescriptionStyleModel",
          "state": {
            "_view_name": "StyleView",
            "_model_name": "DescriptionStyleModel",
            "description_width": "",
            "_view_module": "@jupyter-widgets/base",
            "_model_module_version": "1.5.0",
            "_view_count": null,
            "_view_module_version": "1.2.0",
            "_model_module": "@jupyter-widgets/controls"
          }
        },
        "baa44c6027644d93bc75b63453878c2b": {
          "model_module": "@jupyter-widgets/base",
          "model_name": "LayoutModel",
          "state": {
            "_view_name": "LayoutView",
            "grid_template_rows": null,
            "right": null,
            "justify_content": null,
            "_view_module": "@jupyter-widgets/base",
            "overflow": null,
            "_model_module_version": "1.2.0",
            "_view_count": null,
            "flex_flow": null,
            "width": null,
            "min_width": null,
            "border": null,
            "align_items": null,
            "bottom": null,
            "_model_module": "@jupyter-widgets/base",
            "top": null,
            "grid_column": null,
            "overflow_y": null,
            "overflow_x": null,
            "grid_auto_flow": null,
            "grid_area": null,
            "grid_template_columns": null,
            "flex": null,
            "_model_name": "LayoutModel",
            "justify_items": null,
            "grid_row": null,
            "max_height": null,
            "align_content": null,
            "visibility": null,
            "align_self": null,
            "height": null,
            "min_height": null,
            "padding": null,
            "grid_auto_rows": null,
            "grid_gap": null,
            "max_width": null,
            "order": null,
            "_view_module_version": "1.2.0",
            "grid_template_areas": null,
            "object_position": null,
            "object_fit": null,
            "grid_auto_columns": null,
            "margin": null,
            "display": null,
            "left": null
          }
        },
        "ead16873fcbc4fe795f6f48e24061f3b": {
          "model_module": "@jupyter-widgets/controls",
          "model_name": "HBoxModel",
          "state": {
            "_view_name": "HBoxView",
            "_dom_classes": [],
            "_model_name": "HBoxModel",
            "_view_module": "@jupyter-widgets/controls",
            "_model_module_version": "1.5.0",
            "_view_count": null,
            "_view_module_version": "1.5.0",
            "box_style": "",
            "layout": "IPY_MODEL_4552c662d1cc4720b92077cfe904ef10",
            "_model_module": "@jupyter-widgets/controls",
            "children": [
              "IPY_MODEL_dab956287fda4527b03a83bf956a03e8",
              "IPY_MODEL_e34a7d31607d4471af9082f7a607222a"
            ]
          }
        },
        "4552c662d1cc4720b92077cfe904ef10": {
          "model_module": "@jupyter-widgets/base",
          "model_name": "LayoutModel",
          "state": {
            "_view_name": "LayoutView",
            "grid_template_rows": null,
            "right": null,
            "justify_content": null,
            "_view_module": "@jupyter-widgets/base",
            "overflow": null,
            "_model_module_version": "1.2.0",
            "_view_count": null,
            "flex_flow": null,
            "width": null,
            "min_width": null,
            "border": null,
            "align_items": null,
            "bottom": null,
            "_model_module": "@jupyter-widgets/base",
            "top": null,
            "grid_column": null,
            "overflow_y": null,
            "overflow_x": null,
            "grid_auto_flow": null,
            "grid_area": null,
            "grid_template_columns": null,
            "flex": null,
            "_model_name": "LayoutModel",
            "justify_items": null,
            "grid_row": null,
            "max_height": null,
            "align_content": null,
            "visibility": null,
            "align_self": null,
            "height": null,
            "min_height": null,
            "padding": null,
            "grid_auto_rows": null,
            "grid_gap": null,
            "max_width": null,
            "order": null,
            "_view_module_version": "1.2.0",
            "grid_template_areas": null,
            "object_position": null,
            "object_fit": null,
            "grid_auto_columns": null,
            "margin": null,
            "display": null,
            "left": null
          }
        },
        "dab956287fda4527b03a83bf956a03e8": {
          "model_module": "@jupyter-widgets/controls",
          "model_name": "FloatProgressModel",
          "state": {
            "_view_name": "ProgressView",
            "style": "IPY_MODEL_bbaf5606dc244484969a5d4ec1c1dd44",
            "_dom_classes": [],
            "description": "100%",
            "_model_name": "FloatProgressModel",
            "bar_style": "success",
            "max": 40478,
            "_view_module": "@jupyter-widgets/controls",
            "_model_module_version": "1.5.0",
            "value": 40478,
            "_view_count": null,
            "_view_module_version": "1.5.0",
            "orientation": "horizontal",
            "min": 0,
            "description_tooltip": null,
            "_model_module": "@jupyter-widgets/controls",
            "layout": "IPY_MODEL_30960fa8ddfc42cfa0cb33892ea4cd79"
          }
        },
        "e34a7d31607d4471af9082f7a607222a": {
          "model_module": "@jupyter-widgets/controls",
          "model_name": "HTMLModel",
          "state": {
            "_view_name": "HTMLView",
            "style": "IPY_MODEL_4b4b8c70289f44f582376bebd1196ef7",
            "_dom_classes": [],
            "description": "",
            "_model_name": "HTMLModel",
            "placeholder": "​",
            "_view_module": "@jupyter-widgets/controls",
            "_model_module_version": "1.5.0",
            "value": " 40478/40478 [00:30&lt;00:00, 1340.44it/s]",
            "_view_count": null,
            "_view_module_version": "1.5.0",
            "description_tooltip": null,
            "_model_module": "@jupyter-widgets/controls",
            "layout": "IPY_MODEL_c13220cd78ea42889ed95fac8ee729f1"
          }
        },
        "bbaf5606dc244484969a5d4ec1c1dd44": {
          "model_module": "@jupyter-widgets/controls",
          "model_name": "ProgressStyleModel",
          "state": {
            "_view_name": "StyleView",
            "_model_name": "ProgressStyleModel",
            "description_width": "initial",
            "_view_module": "@jupyter-widgets/base",
            "_model_module_version": "1.5.0",
            "_view_count": null,
            "_view_module_version": "1.2.0",
            "bar_color": null,
            "_model_module": "@jupyter-widgets/controls"
          }
        },
        "30960fa8ddfc42cfa0cb33892ea4cd79": {
          "model_module": "@jupyter-widgets/base",
          "model_name": "LayoutModel",
          "state": {
            "_view_name": "LayoutView",
            "grid_template_rows": null,
            "right": null,
            "justify_content": null,
            "_view_module": "@jupyter-widgets/base",
            "overflow": null,
            "_model_module_version": "1.2.0",
            "_view_count": null,
            "flex_flow": null,
            "width": null,
            "min_width": null,
            "border": null,
            "align_items": null,
            "bottom": null,
            "_model_module": "@jupyter-widgets/base",
            "top": null,
            "grid_column": null,
            "overflow_y": null,
            "overflow_x": null,
            "grid_auto_flow": null,
            "grid_area": null,
            "grid_template_columns": null,
            "flex": null,
            "_model_name": "LayoutModel",
            "justify_items": null,
            "grid_row": null,
            "max_height": null,
            "align_content": null,
            "visibility": null,
            "align_self": null,
            "height": null,
            "min_height": null,
            "padding": null,
            "grid_auto_rows": null,
            "grid_gap": null,
            "max_width": null,
            "order": null,
            "_view_module_version": "1.2.0",
            "grid_template_areas": null,
            "object_position": null,
            "object_fit": null,
            "grid_auto_columns": null,
            "margin": null,
            "display": null,
            "left": null
          }
        },
        "4b4b8c70289f44f582376bebd1196ef7": {
          "model_module": "@jupyter-widgets/controls",
          "model_name": "DescriptionStyleModel",
          "state": {
            "_view_name": "StyleView",
            "_model_name": "DescriptionStyleModel",
            "description_width": "",
            "_view_module": "@jupyter-widgets/base",
            "_model_module_version": "1.5.0",
            "_view_count": null,
            "_view_module_version": "1.2.0",
            "_model_module": "@jupyter-widgets/controls"
          }
        },
        "c13220cd78ea42889ed95fac8ee729f1": {
          "model_module": "@jupyter-widgets/base",
          "model_name": "LayoutModel",
          "state": {
            "_view_name": "LayoutView",
            "grid_template_rows": null,
            "right": null,
            "justify_content": null,
            "_view_module": "@jupyter-widgets/base",
            "overflow": null,
            "_model_module_version": "1.2.0",
            "_view_count": null,
            "flex_flow": null,
            "width": null,
            "min_width": null,
            "border": null,
            "align_items": null,
            "bottom": null,
            "_model_module": "@jupyter-widgets/base",
            "top": null,
            "grid_column": null,
            "overflow_y": null,
            "overflow_x": null,
            "grid_auto_flow": null,
            "grid_area": null,
            "grid_template_columns": null,
            "flex": null,
            "_model_name": "LayoutModel",
            "justify_items": null,
            "grid_row": null,
            "max_height": null,
            "align_content": null,
            "visibility": null,
            "align_self": null,
            "height": null,
            "min_height": null,
            "padding": null,
            "grid_auto_rows": null,
            "grid_gap": null,
            "max_width": null,
            "order": null,
            "_view_module_version": "1.2.0",
            "grid_template_areas": null,
            "object_position": null,
            "object_fit": null,
            "grid_auto_columns": null,
            "margin": null,
            "display": null,
            "left": null
          }
        },
        "6908007259e1418bb9704aa7ca9823b0": {
          "model_module": "@jupyter-widgets/controls",
          "model_name": "HBoxModel",
          "state": {
            "_view_name": "HBoxView",
            "_dom_classes": [],
            "_model_name": "HBoxModel",
            "_view_module": "@jupyter-widgets/controls",
            "_model_module_version": "1.5.0",
            "_view_count": null,
            "_view_module_version": "1.5.0",
            "box_style": "",
            "layout": "IPY_MODEL_0f6764b5ff50400987b45d176a82cc03",
            "_model_module": "@jupyter-widgets/controls",
            "children": [
              "IPY_MODEL_6422641758044658adbee17d1096937d",
              "IPY_MODEL_4ac05728e1534c5d8ffb605e4a9ab0fc"
            ]
          }
        },
        "0f6764b5ff50400987b45d176a82cc03": {
          "model_module": "@jupyter-widgets/base",
          "model_name": "LayoutModel",
          "state": {
            "_view_name": "LayoutView",
            "grid_template_rows": null,
            "right": null,
            "justify_content": null,
            "_view_module": "@jupyter-widgets/base",
            "overflow": null,
            "_model_module_version": "1.2.0",
            "_view_count": null,
            "flex_flow": null,
            "width": null,
            "min_width": null,
            "border": null,
            "align_items": null,
            "bottom": null,
            "_model_module": "@jupyter-widgets/base",
            "top": null,
            "grid_column": null,
            "overflow_y": null,
            "overflow_x": null,
            "grid_auto_flow": null,
            "grid_area": null,
            "grid_template_columns": null,
            "flex": null,
            "_model_name": "LayoutModel",
            "justify_items": null,
            "grid_row": null,
            "max_height": null,
            "align_content": null,
            "visibility": null,
            "align_self": null,
            "height": null,
            "min_height": null,
            "padding": null,
            "grid_auto_rows": null,
            "grid_gap": null,
            "max_width": null,
            "order": null,
            "_view_module_version": "1.2.0",
            "grid_template_areas": null,
            "object_position": null,
            "object_fit": null,
            "grid_auto_columns": null,
            "margin": null,
            "display": null,
            "left": null
          }
        },
        "6422641758044658adbee17d1096937d": {
          "model_module": "@jupyter-widgets/controls",
          "model_name": "FloatProgressModel",
          "state": {
            "_view_name": "ProgressView",
            "style": "IPY_MODEL_37ccb0a3ae6a465095eb5a1b5ce40df9",
            "_dom_classes": [],
            "description": "100%",
            "_model_name": "FloatProgressModel",
            "bar_style": "success",
            "max": 40478,
            "_view_module": "@jupyter-widgets/controls",
            "_model_module_version": "1.5.0",
            "value": 40478,
            "_view_count": null,
            "_view_module_version": "1.5.0",
            "orientation": "horizontal",
            "min": 0,
            "description_tooltip": null,
            "_model_module": "@jupyter-widgets/controls",
            "layout": "IPY_MODEL_15779951a73d410ca4fb85099d24317e"
          }
        },
        "4ac05728e1534c5d8ffb605e4a9ab0fc": {
          "model_module": "@jupyter-widgets/controls",
          "model_name": "HTMLModel",
          "state": {
            "_view_name": "HTMLView",
            "style": "IPY_MODEL_8f08104f361e4adcab55e902e5350cd1",
            "_dom_classes": [],
            "description": "",
            "_model_name": "HTMLModel",
            "placeholder": "​",
            "_view_module": "@jupyter-widgets/controls",
            "_model_module_version": "1.5.0",
            "value": " 40478/40478 [26:48&lt;00:00, 25.16it/s]",
            "_view_count": null,
            "_view_module_version": "1.5.0",
            "description_tooltip": null,
            "_model_module": "@jupyter-widgets/controls",
            "layout": "IPY_MODEL_06022840ce904018b3ed2c1a95ba9381"
          }
        },
        "37ccb0a3ae6a465095eb5a1b5ce40df9": {
          "model_module": "@jupyter-widgets/controls",
          "model_name": "ProgressStyleModel",
          "state": {
            "_view_name": "StyleView",
            "_model_name": "ProgressStyleModel",
            "description_width": "initial",
            "_view_module": "@jupyter-widgets/base",
            "_model_module_version": "1.5.0",
            "_view_count": null,
            "_view_module_version": "1.2.0",
            "bar_color": null,
            "_model_module": "@jupyter-widgets/controls"
          }
        },
        "15779951a73d410ca4fb85099d24317e": {
          "model_module": "@jupyter-widgets/base",
          "model_name": "LayoutModel",
          "state": {
            "_view_name": "LayoutView",
            "grid_template_rows": null,
            "right": null,
            "justify_content": null,
            "_view_module": "@jupyter-widgets/base",
            "overflow": null,
            "_model_module_version": "1.2.0",
            "_view_count": null,
            "flex_flow": null,
            "width": null,
            "min_width": null,
            "border": null,
            "align_items": null,
            "bottom": null,
            "_model_module": "@jupyter-widgets/base",
            "top": null,
            "grid_column": null,
            "overflow_y": null,
            "overflow_x": null,
            "grid_auto_flow": null,
            "grid_area": null,
            "grid_template_columns": null,
            "flex": null,
            "_model_name": "LayoutModel",
            "justify_items": null,
            "grid_row": null,
            "max_height": null,
            "align_content": null,
            "visibility": null,
            "align_self": null,
            "height": null,
            "min_height": null,
            "padding": null,
            "grid_auto_rows": null,
            "grid_gap": null,
            "max_width": null,
            "order": null,
            "_view_module_version": "1.2.0",
            "grid_template_areas": null,
            "object_position": null,
            "object_fit": null,
            "grid_auto_columns": null,
            "margin": null,
            "display": null,
            "left": null
          }
        },
        "8f08104f361e4adcab55e902e5350cd1": {
          "model_module": "@jupyter-widgets/controls",
          "model_name": "DescriptionStyleModel",
          "state": {
            "_view_name": "StyleView",
            "_model_name": "DescriptionStyleModel",
            "description_width": "",
            "_view_module": "@jupyter-widgets/base",
            "_model_module_version": "1.5.0",
            "_view_count": null,
            "_view_module_version": "1.2.0",
            "_model_module": "@jupyter-widgets/controls"
          }
        },
        "06022840ce904018b3ed2c1a95ba9381": {
          "model_module": "@jupyter-widgets/base",
          "model_name": "LayoutModel",
          "state": {
            "_view_name": "LayoutView",
            "grid_template_rows": null,
            "right": null,
            "justify_content": null,
            "_view_module": "@jupyter-widgets/base",
            "overflow": null,
            "_model_module_version": "1.2.0",
            "_view_count": null,
            "flex_flow": null,
            "width": null,
            "min_width": null,
            "border": null,
            "align_items": null,
            "bottom": null,
            "_model_module": "@jupyter-widgets/base",
            "top": null,
            "grid_column": null,
            "overflow_y": null,
            "overflow_x": null,
            "grid_auto_flow": null,
            "grid_area": null,
            "grid_template_columns": null,
            "flex": null,
            "_model_name": "LayoutModel",
            "justify_items": null,
            "grid_row": null,
            "max_height": null,
            "align_content": null,
            "visibility": null,
            "align_self": null,
            "height": null,
            "min_height": null,
            "padding": null,
            "grid_auto_rows": null,
            "grid_gap": null,
            "max_width": null,
            "order": null,
            "_view_module_version": "1.2.0",
            "grid_template_areas": null,
            "object_position": null,
            "object_fit": null,
            "grid_auto_columns": null,
            "margin": null,
            "display": null,
            "left": null
          }
        },
        "a822b179930941f1b361e54a20cd274a": {
          "model_module": "@jupyter-widgets/controls",
          "model_name": "HBoxModel",
          "state": {
            "_view_name": "HBoxView",
            "_dom_classes": [],
            "_model_name": "HBoxModel",
            "_view_module": "@jupyter-widgets/controls",
            "_model_module_version": "1.5.0",
            "_view_count": null,
            "_view_module_version": "1.5.0",
            "box_style": "",
            "layout": "IPY_MODEL_2b49dc63582a4881a45d295a93a7b0af",
            "_model_module": "@jupyter-widgets/controls",
            "children": [
              "IPY_MODEL_71bdec67049e45cabebe68cc57a0d2fa",
              "IPY_MODEL_aea0dae12065411188d212c904d286eb"
            ]
          }
        },
        "2b49dc63582a4881a45d295a93a7b0af": {
          "model_module": "@jupyter-widgets/base",
          "model_name": "LayoutModel",
          "state": {
            "_view_name": "LayoutView",
            "grid_template_rows": null,
            "right": null,
            "justify_content": null,
            "_view_module": "@jupyter-widgets/base",
            "overflow": null,
            "_model_module_version": "1.2.0",
            "_view_count": null,
            "flex_flow": null,
            "width": null,
            "min_width": null,
            "border": null,
            "align_items": null,
            "bottom": null,
            "_model_module": "@jupyter-widgets/base",
            "top": null,
            "grid_column": null,
            "overflow_y": null,
            "overflow_x": null,
            "grid_auto_flow": null,
            "grid_area": null,
            "grid_template_columns": null,
            "flex": null,
            "_model_name": "LayoutModel",
            "justify_items": null,
            "grid_row": null,
            "max_height": null,
            "align_content": null,
            "visibility": null,
            "align_self": null,
            "height": null,
            "min_height": null,
            "padding": null,
            "grid_auto_rows": null,
            "grid_gap": null,
            "max_width": null,
            "order": null,
            "_view_module_version": "1.2.0",
            "grid_template_areas": null,
            "object_position": null,
            "object_fit": null,
            "grid_auto_columns": null,
            "margin": null,
            "display": null,
            "left": null
          }
        },
        "71bdec67049e45cabebe68cc57a0d2fa": {
          "model_module": "@jupyter-widgets/controls",
          "model_name": "FloatProgressModel",
          "state": {
            "_view_name": "ProgressView",
            "style": "IPY_MODEL_14b352ac92044c1db51a6020c324213e",
            "_dom_classes": [],
            "description": "100%",
            "_model_name": "FloatProgressModel",
            "bar_style": "success",
            "max": 40478,
            "_view_module": "@jupyter-widgets/controls",
            "_model_module_version": "1.5.0",
            "value": 40478,
            "_view_count": null,
            "_view_module_version": "1.5.0",
            "orientation": "horizontal",
            "min": 0,
            "description_tooltip": null,
            "_model_module": "@jupyter-widgets/controls",
            "layout": "IPY_MODEL_3bac6fc0b3674945868aeb8a140858d4"
          }
        },
        "aea0dae12065411188d212c904d286eb": {
          "model_module": "@jupyter-widgets/controls",
          "model_name": "HTMLModel",
          "state": {
            "_view_name": "HTMLView",
            "style": "IPY_MODEL_ecf710de52f441b8b84423a5887039f4",
            "_dom_classes": [],
            "description": "",
            "_model_name": "HTMLModel",
            "placeholder": "​",
            "_view_module": "@jupyter-widgets/controls",
            "_model_module_version": "1.5.0",
            "value": " 40478/40478 [02:25&lt;00:00, 277.44it/s]",
            "_view_count": null,
            "_view_module_version": "1.5.0",
            "description_tooltip": null,
            "_model_module": "@jupyter-widgets/controls",
            "layout": "IPY_MODEL_f55b4eddad264ef1b426f219bf0244d9"
          }
        },
        "14b352ac92044c1db51a6020c324213e": {
          "model_module": "@jupyter-widgets/controls",
          "model_name": "ProgressStyleModel",
          "state": {
            "_view_name": "StyleView",
            "_model_name": "ProgressStyleModel",
            "description_width": "initial",
            "_view_module": "@jupyter-widgets/base",
            "_model_module_version": "1.5.0",
            "_view_count": null,
            "_view_module_version": "1.2.0",
            "bar_color": null,
            "_model_module": "@jupyter-widgets/controls"
          }
        },
        "3bac6fc0b3674945868aeb8a140858d4": {
          "model_module": "@jupyter-widgets/base",
          "model_name": "LayoutModel",
          "state": {
            "_view_name": "LayoutView",
            "grid_template_rows": null,
            "right": null,
            "justify_content": null,
            "_view_module": "@jupyter-widgets/base",
            "overflow": null,
            "_model_module_version": "1.2.0",
            "_view_count": null,
            "flex_flow": null,
            "width": null,
            "min_width": null,
            "border": null,
            "align_items": null,
            "bottom": null,
            "_model_module": "@jupyter-widgets/base",
            "top": null,
            "grid_column": null,
            "overflow_y": null,
            "overflow_x": null,
            "grid_auto_flow": null,
            "grid_area": null,
            "grid_template_columns": null,
            "flex": null,
            "_model_name": "LayoutModel",
            "justify_items": null,
            "grid_row": null,
            "max_height": null,
            "align_content": null,
            "visibility": null,
            "align_self": null,
            "height": null,
            "min_height": null,
            "padding": null,
            "grid_auto_rows": null,
            "grid_gap": null,
            "max_width": null,
            "order": null,
            "_view_module_version": "1.2.0",
            "grid_template_areas": null,
            "object_position": null,
            "object_fit": null,
            "grid_auto_columns": null,
            "margin": null,
            "display": null,
            "left": null
          }
        },
        "ecf710de52f441b8b84423a5887039f4": {
          "model_module": "@jupyter-widgets/controls",
          "model_name": "DescriptionStyleModel",
          "state": {
            "_view_name": "StyleView",
            "_model_name": "DescriptionStyleModel",
            "description_width": "",
            "_view_module": "@jupyter-widgets/base",
            "_model_module_version": "1.5.0",
            "_view_count": null,
            "_view_module_version": "1.2.0",
            "_model_module": "@jupyter-widgets/controls"
          }
        },
        "f55b4eddad264ef1b426f219bf0244d9": {
          "model_module": "@jupyter-widgets/base",
          "model_name": "LayoutModel",
          "state": {
            "_view_name": "LayoutView",
            "grid_template_rows": null,
            "right": null,
            "justify_content": null,
            "_view_module": "@jupyter-widgets/base",
            "overflow": null,
            "_model_module_version": "1.2.0",
            "_view_count": null,
            "flex_flow": null,
            "width": null,
            "min_width": null,
            "border": null,
            "align_items": null,
            "bottom": null,
            "_model_module": "@jupyter-widgets/base",
            "top": null,
            "grid_column": null,
            "overflow_y": null,
            "overflow_x": null,
            "grid_auto_flow": null,
            "grid_area": null,
            "grid_template_columns": null,
            "flex": null,
            "_model_name": "LayoutModel",
            "justify_items": null,
            "grid_row": null,
            "max_height": null,
            "align_content": null,
            "visibility": null,
            "align_self": null,
            "height": null,
            "min_height": null,
            "padding": null,
            "grid_auto_rows": null,
            "grid_gap": null,
            "max_width": null,
            "order": null,
            "_view_module_version": "1.2.0",
            "grid_template_areas": null,
            "object_position": null,
            "object_fit": null,
            "grid_auto_columns": null,
            "margin": null,
            "display": null,
            "left": null
          }
        }
      }
    },
    "accelerator": "GPU"
  },
  "cells": [
    {
      "cell_type": "markdown",
      "metadata": {
        "id": "view-in-github",
        "colab_type": "text"
      },
      "source": [
        "<a href=\"https://colab.research.google.com/github/samantamrityunjay/ICDcoding/blob/master/DeepLearning.ipynb\" target=\"_parent\"><img src=\"https://colab.research.google.com/assets/colab-badge.svg\" alt=\"Open In Colab\"/></a>"
      ]
    },
    {
      "cell_type": "code",
      "metadata": {
        "colab": {
          "base_uri": "https://localhost:8080/"
        },
        "id": "xsxmwxDrWkHW",
        "outputId": "744ac9c1-1b0e-4da9-ce8a-5d51d48106ff"
      },
      "source": [
        "from google.colab import drive\n",
        "drive.mount('/content/drive')"
      ],
      "execution_count": 1,
      "outputs": [
        {
          "output_type": "stream",
          "text": [
            "Mounted at /content/drive\n"
          ],
          "name": "stdout"
        }
      ]
    },
    {
      "cell_type": "code",
      "metadata": {
        "id": "LwCgw0qr0QuZ"
      },
      "source": [
        "import pandas as pd\n",
        "import numpy as np\n",
        "import matplotlib.pyplot as plt\n",
        "%matplotlib inline\n",
        "import re"
      ],
      "execution_count": 2,
      "outputs": []
    },
    {
      "cell_type": "code",
      "metadata": {
        "id": "XDr5ppXSbRHa"
      },
      "source": [
        "from tqdm.notebook import tqdm_notebook\n",
        "tqdm_notebook.pandas()\n",
        "from collections import Counter"
      ],
      "execution_count": 3,
      "outputs": []
    },
    {
      "cell_type": "code",
      "metadata": {
        "id": "TDRsmwbCS6U1"
      },
      "source": [
        "import torch \n",
        "import torch.nn as nn\n",
        "from torchtext import data\n",
        "from torch.utils.data import Dataset, DataLoader, random_split, SubsetRandomSampler"
      ],
      "execution_count": 4,
      "outputs": []
    },
    {
      "cell_type": "code",
      "metadata": {
        "id": "MQleySRkE1nc"
      },
      "source": [
        "device = torch.device('cuda' if torch.cuda.is_available() else 'cpu')"
      ],
      "execution_count": 5,
      "outputs": []
    },
    {
      "cell_type": "code",
      "metadata": {
        "id": "dcfCMYX07lqE"
      },
      "source": [
        "SEED = 2020\n",
        "torch.manual_seed(SEED)\n",
        "torch.cuda.manual_seed_all(SEED)\n",
        "torch.backends.cudnn.deterministic = True\n",
        "torch.backends.cudnn.benchmark = False\n",
        "np.random.seed(SEED)\n",
        "# random.seed(SEED)"
      ],
      "execution_count": 6,
      "outputs": []
    },
    {
      "cell_type": "code",
      "metadata": {
        "id": "_dfC_MW4TfFj"
      },
      "source": [
        "diagnosis=pd.read_csv('/content/drive/MyDrive/AlgoIntern/Data/discharge_diagnosis_icd.csv')"
      ],
      "execution_count": 10,
      "outputs": []
    },
    {
      "cell_type": "code",
      "metadata": {
        "colab": {
          "base_uri": "https://localhost:8080/",
          "height": 589
        },
        "id": "TiaBNLq-XvcD",
        "outputId": "5910afb8-996e-455e-d0ea-328a7e09fead"
      },
      "source": [
        "diagnosis"
      ],
      "execution_count": 11,
      "outputs": [
        {
          "output_type": "execute_result",
          "data": {
            "text/html": [
              "<div>\n",
              "<style scoped>\n",
              "    .dataframe tbody tr th:only-of-type {\n",
              "        vertical-align: middle;\n",
              "    }\n",
              "\n",
              "    .dataframe tbody tr th {\n",
              "        vertical-align: top;\n",
              "    }\n",
              "\n",
              "    .dataframe thead th {\n",
              "        text-align: right;\n",
              "    }\n",
              "</style>\n",
              "<table border=\"1\" class=\"dataframe\">\n",
              "  <thead>\n",
              "    <tr style=\"text-align: right;\">\n",
              "      <th></th>\n",
              "      <th>HADM_ID</th>\n",
              "      <th>CATEGORY</th>\n",
              "      <th>description</th>\n",
              "      <th>discharge diagnosis:</th>\n",
              "      <th>ICD9_CODE</th>\n",
              "      <th>ICD10</th>\n",
              "    </tr>\n",
              "  </thead>\n",
              "  <tbody>\n",
              "    <tr>\n",
              "      <th>0</th>\n",
              "      <td>100001.0</td>\n",
              "      <td>Discharge summary</td>\n",
              "      <td>{'Report': 1}</td>\n",
              "      <td>osteomyelitis bleeding duodenal ulcer heart f...</td>\n",
              "      <td>25013,3371,5849,5780,V5867,25063,5363,4580,250...</td>\n",
              "      <td>Misc,Misc,N179,Misc,Z794,Misc,Misc,Misc,Misc,I...</td>\n",
              "    </tr>\n",
              "    <tr>\n",
              "      <th>1</th>\n",
              "      <td>100009.0</td>\n",
              "      <td>Discharge summary</td>\n",
              "      <td>{'Report': 1}</td>\n",
              "      <td>r subdural hematoma, right mca stroke</td>\n",
              "      <td>41401,99604,4142,25000,27800,V8535,4148,4111,V...</td>\n",
              "      <td>I2510,Misc,Misc,E119,E669,Misc,Misc,I200,Z9861...</td>\n",
              "    </tr>\n",
              "    <tr>\n",
              "      <th>2</th>\n",
              "      <td>100010.0</td>\n",
              "      <td>Discharge summary</td>\n",
              "      <td>{'Report': 1}</td>\n",
              "      <td>type a aortic dissection s/p replacement of a...</td>\n",
              "      <td>1890,1961,1987,1976,27652</td>\n",
              "      <td>Misc,Misc,Misc,Misc,E861</td>\n",
              "    </tr>\n",
              "    <tr>\n",
              "      <th>3</th>\n",
              "      <td>100011.0</td>\n",
              "      <td>Discharge summary</td>\n",
              "      <td>{'Report': 1}</td>\n",
              "      <td>primary diagnosis s/p pedestrian struck by ca...</td>\n",
              "      <td>85206,82111,86403,48242,8600,2851,86121,80703,...</td>\n",
              "      <td>Misc,Misc,Misc,Misc,Misc,D62,Misc,Misc,Misc,Mi...</td>\n",
              "    </tr>\n",
              "    <tr>\n",
              "      <th>4</th>\n",
              "      <td>100016.0</td>\n",
              "      <td>Discharge summary</td>\n",
              "      <td>{'Report': 1}</td>\n",
              "      <td>atrial fibrillation with rapid ventricular re...</td>\n",
              "      <td>5070,51881,51881,25541,47874,7580,34590,2512,4...</td>\n",
              "      <td>J690,J9600,J9690,Misc,Misc,Misc,Misc,Misc,I952...</td>\n",
              "    </tr>\n",
              "    <tr>\n",
              "      <th>...</th>\n",
              "      <td>...</td>\n",
              "      <td>...</td>\n",
              "      <td>...</td>\n",
              "      <td>...</td>\n",
              "      <td>...</td>\n",
              "      <td>...</td>\n",
              "    </tr>\n",
              "    <tr>\n",
              "      <th>40473</th>\n",
              "      <td>199987.0</td>\n",
              "      <td>Discharge summary</td>\n",
              "      <td>{'Report': 1}</td>\n",
              "      <td>s/p motor vehicle crash injuries: multiple le...</td>\n",
              "      <td>8080,8604,80709,5180,5180,8082,8056,9190,E8120</td>\n",
              "      <td>Misc,Misc,Misc,J9811,J9819,Misc,Misc,Misc,Misc</td>\n",
              "    </tr>\n",
              "    <tr>\n",
              "      <th>40474</th>\n",
              "      <td>199988.0</td>\n",
              "      <td>Discharge summary</td>\n",
              "      <td>{'Report': 1}</td>\n",
              "      <td>1.  rectal cancer. 2.  status post proctocole...</td>\n",
              "      <td>1541,99859,9974,5672,0389,5609,7070,E8792,2720</td>\n",
              "      <td>Misc,Misc,Misc,Misc,A419,Misc,Misc,Misc,E780</td>\n",
              "    </tr>\n",
              "    <tr>\n",
              "      <th>40475</th>\n",
              "      <td>199992.0</td>\n",
              "      <td>Discharge summary</td>\n",
              "      <td>{'Report': 1}</td>\n",
              "      <td>junctional bradycardia chronic diastolic cong...</td>\n",
              "      <td>42789,42789,5070,5849,2760,1120,2449,0539,3272...</td>\n",
              "      <td>I498,R001,J690,N179,E870,Misc,E039,Misc,G4733,...</td>\n",
              "    </tr>\n",
              "    <tr>\n",
              "      <th>40476</th>\n",
              "      <td>199998.0</td>\n",
              "      <td>Discharge summary</td>\n",
              "      <td>{'Report': 1}</td>\n",
              "      <td>deceased.  gastrointestinal stromal tumor.  f...</td>\n",
              "      <td>41401,9971,9971,9971,9971,9975,42731,78820,411...</td>\n",
              "      <td>I2510,I97710,I97790,I9788,I9789,Misc,I4891,Mis...</td>\n",
              "    </tr>\n",
              "    <tr>\n",
              "      <th>40477</th>\n",
              "      <td>199999.0</td>\n",
              "      <td>Discharge summary</td>\n",
              "      <td>{'Report': 1}</td>\n",
              "      <td>primary: legionella pneumonia left pleural ef...</td>\n",
              "      <td>48284,51881,51881,5119,5849,2761,78606,79902,4...</td>\n",
              "      <td>Misc,J9600,J9690,J918,N179,E871,Misc,R0902,I25...</td>\n",
              "    </tr>\n",
              "  </tbody>\n",
              "</table>\n",
              "<p>40478 rows × 6 columns</p>\n",
              "</div>"
            ],
            "text/plain": [
              "        HADM_ID  ...                                              ICD10\n",
              "0      100001.0  ...  Misc,Misc,N179,Misc,Z794,Misc,Misc,Misc,Misc,I...\n",
              "1      100009.0  ...  I2510,Misc,Misc,E119,E669,Misc,Misc,I200,Z9861...\n",
              "2      100010.0  ...                           Misc,Misc,Misc,Misc,E861\n",
              "3      100011.0  ...  Misc,Misc,Misc,Misc,Misc,D62,Misc,Misc,Misc,Mi...\n",
              "4      100016.0  ...  J690,J9600,J9690,Misc,Misc,Misc,Misc,Misc,I952...\n",
              "...         ...  ...                                                ...\n",
              "40473  199987.0  ...     Misc,Misc,Misc,J9811,J9819,Misc,Misc,Misc,Misc\n",
              "40474  199988.0  ...       Misc,Misc,Misc,Misc,A419,Misc,Misc,Misc,E780\n",
              "40475  199992.0  ...  I498,R001,J690,N179,E870,Misc,E039,Misc,G4733,...\n",
              "40476  199998.0  ...  I2510,I97710,I97790,I9788,I9789,Misc,I4891,Mis...\n",
              "40477  199999.0  ...  Misc,J9600,J9690,J918,N179,E871,Misc,R0902,I25...\n",
              "\n",
              "[40478 rows x 6 columns]"
            ]
          },
          "metadata": {
            "tags": []
          },
          "execution_count": 11
        }
      ]
    },
    {
      "cell_type": "code",
      "metadata": {
        "colab": {
          "base_uri": "https://localhost:8080/",
          "height": 66,
          "referenced_widgets": [
            "44e7754bdb4d4ed1bd5392acb260aa31",
            "c3baabd91cf64796bbe761fc4adf9e1d",
            "6a04229fe8ef442191235600b9b8df07",
            "10237c6a4cfe4e129f5815ad9b32956e",
            "30d8f642ea154d56aaf8dbf7ed71ea75",
            "0a82b4e5db2b408190ee1cc67a56a3d4",
            "769f66a6782847628e44275d81ffb4f4",
            "41f692f8319941ffb9f6c871867c4a63"
          ]
        },
        "id": "G--MKZZdXyRw",
        "outputId": "3a03de3f-de43-4d29-8f03-0892e0455367"
      },
      "source": [
        "diagnosis['ICD9_CODE_list']=diagnosis['ICD9_CODE'].progress_apply(lambda x: list(set(re.split(',',x))))"
      ],
      "execution_count": 12,
      "outputs": [
        {
          "output_type": "display_data",
          "data": {
            "application/vnd.jupyter.widget-view+json": {
              "model_id": "44e7754bdb4d4ed1bd5392acb260aa31",
              "version_minor": 0,
              "version_major": 2
            },
            "text/plain": [
              "HBox(children=(FloatProgress(value=0.0, max=40478.0), HTML(value='')))"
            ]
          },
          "metadata": {
            "tags": []
          }
        },
        {
          "output_type": "stream",
          "text": [
            "\n"
          ],
          "name": "stdout"
        }
      ]
    },
    {
      "cell_type": "code",
      "metadata": {
        "colab": {
          "base_uri": "https://localhost:8080/",
          "height": 66,
          "referenced_widgets": [
            "d6dd3dfe71824ff8a7f393004a20bd6f",
            "ca0328c74f774d29b5b2d83d532f7922",
            "43f3ef195728411a950f7763dff88621",
            "c0f169cdf47246e9b061b8b941f74ba0",
            "3fc02380cfde478a91065faa134bf250",
            "bf2fa4419d214fbdb4efb70e0c4f6bfb",
            "e7ba622d613444058fbb36c062363786",
            "53cc808deb7e4ea89c45ab52767a6990"
          ]
        },
        "id": "SIwbNQCgad2J",
        "outputId": "b55fedfd-ecca-4363-9cf5-cc0f78da59da"
      },
      "source": [
        "diagnosis['ICD9_CATEGORY_list']=diagnosis['ICD9_CODE_list'].progress_apply(lambda x:list(set([re.split(\"(\\d{3}|[VE]\\d{2})\",i)[1] for i in x]))) # converting codes into high level category"
      ],
      "execution_count": 13,
      "outputs": [
        {
          "output_type": "display_data",
          "data": {
            "application/vnd.jupyter.widget-view+json": {
              "model_id": "d6dd3dfe71824ff8a7f393004a20bd6f",
              "version_minor": 0,
              "version_major": 2
            },
            "text/plain": [
              "HBox(children=(FloatProgress(value=0.0, max=40478.0), HTML(value='')))"
            ]
          },
          "metadata": {
            "tags": []
          }
        },
        {
          "output_type": "stream",
          "text": [
            "\n"
          ],
          "name": "stdout"
        }
      ]
    },
    {
      "cell_type": "code",
      "metadata": {
        "colab": {
          "base_uri": "https://localhost:8080/",
          "height": 983
        },
        "id": "OYruZVxXbwHm",
        "outputId": "53ef7745-ff99-4f08-b046-f3bf6437ab90"
      },
      "source": [
        "diagnosis"
      ],
      "execution_count": 14,
      "outputs": [
        {
          "output_type": "execute_result",
          "data": {
            "text/html": [
              "<div>\n",
              "<style scoped>\n",
              "    .dataframe tbody tr th:only-of-type {\n",
              "        vertical-align: middle;\n",
              "    }\n",
              "\n",
              "    .dataframe tbody tr th {\n",
              "        vertical-align: top;\n",
              "    }\n",
              "\n",
              "    .dataframe thead th {\n",
              "        text-align: right;\n",
              "    }\n",
              "</style>\n",
              "<table border=\"1\" class=\"dataframe\">\n",
              "  <thead>\n",
              "    <tr style=\"text-align: right;\">\n",
              "      <th></th>\n",
              "      <th>HADM_ID</th>\n",
              "      <th>CATEGORY</th>\n",
              "      <th>description</th>\n",
              "      <th>discharge diagnosis:</th>\n",
              "      <th>ICD9_CODE</th>\n",
              "      <th>ICD10</th>\n",
              "      <th>ICD9_CODE_list</th>\n",
              "      <th>ICD9_CATEGORY_list</th>\n",
              "    </tr>\n",
              "  </thead>\n",
              "  <tbody>\n",
              "    <tr>\n",
              "      <th>0</th>\n",
              "      <td>100001.0</td>\n",
              "      <td>Discharge summary</td>\n",
              "      <td>{'Report': 1}</td>\n",
              "      <td>osteomyelitis bleeding duodenal ulcer heart f...</td>\n",
              "      <td>25013,3371,5849,5780,V5867,25063,5363,4580,250...</td>\n",
              "      <td>Misc,Misc,N179,Misc,Z794,Misc,Misc,Misc,Misc,I...</td>\n",
              "      <td>[36201, 25063, 7078, 25043, 25083, 5780, 5849,...</td>\n",
              "      <td>[337, 536, 584, V13, 458, 403, V58, 585, 362, ...</td>\n",
              "    </tr>\n",
              "    <tr>\n",
              "      <th>1</th>\n",
              "      <td>100009.0</td>\n",
              "      <td>Discharge summary</td>\n",
              "      <td>{'Report': 1}</td>\n",
              "      <td>r subdural hematoma, right mca stroke</td>\n",
              "      <td>41401,99604,4142,25000,27800,V8535,4148,4111,V...</td>\n",
              "      <td>I2510,Misc,Misc,E119,E669,Misc,Misc,I200,Z9861...</td>\n",
              "      <td>[2859, V8535, V4582, V5867, 4142, 4148, 41401,...</td>\n",
              "      <td>[414, 272, 996, 278, 411, V85, V58, V15, 401, ...</td>\n",
              "    </tr>\n",
              "    <tr>\n",
              "      <th>2</th>\n",
              "      <td>100010.0</td>\n",
              "      <td>Discharge summary</td>\n",
              "      <td>{'Report': 1}</td>\n",
              "      <td>type a aortic dissection s/p replacement of a...</td>\n",
              "      <td>1890,1961,1987,1976,27652</td>\n",
              "      <td>Misc,Misc,Misc,Misc,E861</td>\n",
              "      <td>[27652, 1961, 1976, 1890, 1987]</td>\n",
              "      <td>[189, 198, 196, 276, 197]</td>\n",
              "    </tr>\n",
              "    <tr>\n",
              "      <th>3</th>\n",
              "      <td>100011.0</td>\n",
              "      <td>Discharge summary</td>\n",
              "      <td>{'Report': 1}</td>\n",
              "      <td>primary diagnosis s/p pedestrian struck by ca...</td>\n",
              "      <td>85206,82111,86403,48242,8600,2851,86121,80703,...</td>\n",
              "      <td>Misc,Misc,Misc,Misc,Misc,D62,Misc,Misc,Misc,Mi...</td>\n",
              "      <td>[82111, E8152, 85206, 82525, 86121, 80703, 864...</td>\n",
              "      <td>[852, 822, 305, 805, 861, 807, 825, 482, 285, ...</td>\n",
              "    </tr>\n",
              "    <tr>\n",
              "      <th>4</th>\n",
              "      <td>100016.0</td>\n",
              "      <td>Discharge summary</td>\n",
              "      <td>{'Report': 1}</td>\n",
              "      <td>atrial fibrillation with rapid ventricular re...</td>\n",
              "      <td>5070,51881,51881,25541,47874,7580,34590,2512,4...</td>\n",
              "      <td>J690,J9600,J9690,Misc,Misc,Misc,Misc,Misc,I952...</td>\n",
              "      <td>[30000, V441, 5070, 51881, 2512, 45829, 5368, ...</td>\n",
              "      <td>[458, V44, 478, 345, 251, 300, 255, 507, 758, ...</td>\n",
              "    </tr>\n",
              "    <tr>\n",
              "      <th>...</th>\n",
              "      <td>...</td>\n",
              "      <td>...</td>\n",
              "      <td>...</td>\n",
              "      <td>...</td>\n",
              "      <td>...</td>\n",
              "      <td>...</td>\n",
              "      <td>...</td>\n",
              "      <td>...</td>\n",
              "    </tr>\n",
              "    <tr>\n",
              "      <th>40473</th>\n",
              "      <td>199987.0</td>\n",
              "      <td>Discharge summary</td>\n",
              "      <td>{'Report': 1}</td>\n",
              "      <td>s/p motor vehicle crash injuries: multiple le...</td>\n",
              "      <td>8080,8604,80709,5180,5180,8082,8056,9190,E8120</td>\n",
              "      <td>Misc,Misc,Misc,J9811,J9819,Misc,Misc,Misc,Misc</td>\n",
              "      <td>[8080, 8082, 80709, 8604, 8056, 9190, E8120, 5...</td>\n",
              "      <td>[805, 807, 860, E81, 919, 808, 518]</td>\n",
              "    </tr>\n",
              "    <tr>\n",
              "      <th>40474</th>\n",
              "      <td>199988.0</td>\n",
              "      <td>Discharge summary</td>\n",
              "      <td>{'Report': 1}</td>\n",
              "      <td>1.  rectal cancer. 2.  status post proctocole...</td>\n",
              "      <td>1541,99859,9974,5672,0389,5609,7070,E8792,2720</td>\n",
              "      <td>Misc,Misc,Misc,Misc,A419,Misc,Misc,Misc,E780</td>\n",
              "      <td>[7070, 5672, 9974, 0389, E8792, 5609, 1541, 99...</td>\n",
              "      <td>[272, 038, 997, 998, 154, 560, E87, 707, 567]</td>\n",
              "    </tr>\n",
              "    <tr>\n",
              "      <th>40475</th>\n",
              "      <td>199992.0</td>\n",
              "      <td>Discharge summary</td>\n",
              "      <td>{'Report': 1}</td>\n",
              "      <td>junctional bradycardia chronic diastolic cong...</td>\n",
              "      <td>42789,42789,5070,5849,2760,1120,2449,0539,3272...</td>\n",
              "      <td>I498,R001,J690,N179,E870,Misc,E039,Misc,G4733,...</td>\n",
              "      <td>[5849, 2760, 1120, 42789, 5070, 32723, 2859, E...</td>\n",
              "      <td>[327, 584, 787, 443, 427, 112, 276, 285, E93, ...</td>\n",
              "    </tr>\n",
              "    <tr>\n",
              "      <th>40476</th>\n",
              "      <td>199998.0</td>\n",
              "      <td>Discharge summary</td>\n",
              "      <td>{'Report': 1}</td>\n",
              "      <td>deceased.  gastrointestinal stromal tumor.  f...</td>\n",
              "      <td>41401,9971,9971,9971,9971,9975,42731,78820,411...</td>\n",
              "      <td>I2510,I97710,I97790,I9788,I9789,Misc,I4891,Mis...</td>\n",
              "      <td>[9975, 42731, 51889, V4589, 4400, V4582, 4019,...</td>\n",
              "      <td>[414, 272, 429, 443, 411, 788, 427, 997, 401, ...</td>\n",
              "    </tr>\n",
              "    <tr>\n",
              "      <th>40477</th>\n",
              "      <td>199999.0</td>\n",
              "      <td>Discharge summary</td>\n",
              "      <td>{'Report': 1}</td>\n",
              "      <td>primary: legionella pneumonia left pleural ef...</td>\n",
              "      <td>48284,51881,51881,5119,5849,2761,78606,79902,4...</td>\n",
              "      <td>Misc,J9600,J9690,J918,N179,E871,Misc,R0902,I25...</td>\n",
              "      <td>[5119, 5849, V4582, 51881, 41401, 4293, V4986,...</td>\n",
              "      <td>[799, 414, V49, 429, 584, 788, 511, 276, 285, ...</td>\n",
              "    </tr>\n",
              "  </tbody>\n",
              "</table>\n",
              "<p>40478 rows × 8 columns</p>\n",
              "</div>"
            ],
            "text/plain": [
              "        HADM_ID  ...                                 ICD9_CATEGORY_list\n",
              "0      100001.0  ...  [337, 536, 584, V13, 458, 403, V58, 585, 362, ...\n",
              "1      100009.0  ...  [414, 272, 996, 278, 411, V85, V58, V15, 401, ...\n",
              "2      100010.0  ...                          [189, 198, 196, 276, 197]\n",
              "3      100011.0  ...  [852, 822, 305, 805, 861, 807, 825, 482, 285, ...\n",
              "4      100016.0  ...  [458, V44, 478, 345, 251, 300, 255, 507, 758, ...\n",
              "...         ...  ...                                                ...\n",
              "40473  199987.0  ...                [805, 807, 860, E81, 919, 808, 518]\n",
              "40474  199988.0  ...      [272, 038, 997, 998, 154, 560, E87, 707, 567]\n",
              "40475  199992.0  ...  [327, 584, 787, 443, 427, 112, 276, 285, E93, ...\n",
              "40476  199998.0  ...  [414, 272, 429, 443, 411, 788, 427, 997, 401, ...\n",
              "40477  199999.0  ...  [799, 414, V49, 429, 584, 788, 511, 276, 285, ...\n",
              "\n",
              "[40478 rows x 8 columns]"
            ]
          },
          "metadata": {
            "tags": []
          },
          "execution_count": 14
        }
      ]
    },
    {
      "cell_type": "code",
      "metadata": {
        "id": "PjwW7puAXQ28"
      },
      "source": [
        "diagnosis['discharge diagnosis:'].replace(r'\\t',' ',regex=True,inplace=True)\n",
        "diagnosis['discharge diagnosis:']=diagnosis['discharge diagnosis:'].apply(lambda x:x.strip())\n",
        "diagnosis['discharge diagnosis:']=diagnosis['discharge diagnosis:'].apply(lambda x:re.sub('\\s+',' ',x))"
      ],
      "execution_count": 15,
      "outputs": []
    },
    {
      "cell_type": "code",
      "metadata": {
        "id": "qc53Xl5wNa3f"
      },
      "source": [
        "frequent_icd9category = ['401','427','276','414','272','250','428','518','285','584']"
      ],
      "execution_count": 16,
      "outputs": []
    },
    {
      "cell_type": "code",
      "metadata": {
        "id": "e24vG0EYQHIs"
      },
      "source": [
        "frequent_icd9code = ['4019', '4280', '42731', '41401', '5849', '25000', '2724', '51881', '5990', '53081']"
      ],
      "execution_count": 17,
      "outputs": []
    },
    {
      "cell_type": "markdown",
      "metadata": {
        "id": "f8yzLV2txrM2"
      },
      "source": [
        "## Character Embedding\n"
      ]
    },
    {
      "cell_type": "code",
      "metadata": {
        "id": "Orec31vD14B9"
      },
      "source": [
        "vocabulary = list(\"\"\"abcdefghijklmnopqrstuvwxyz0123456789,;.!?:'\"/\\|_@#$%^&*~`+-=<>()[]{}\"\"\")"
      ],
      "execution_count": 23,
      "outputs": []
    },
    {
      "cell_type": "code",
      "metadata": {
        "colab": {
          "base_uri": "https://localhost:8080/"
        },
        "id": "7rFd_oVmQcZX",
        "outputId": "6f6acf5a-6e17-4e04-8a47-44ccd83d99f2"
      },
      "source": [
        "len(vocabulary)"
      ],
      "execution_count": 24,
      "outputs": [
        {
          "output_type": "execute_result",
          "data": {
            "text/plain": [
              "68"
            ]
          },
          "metadata": {
            "tags": []
          },
          "execution_count": 24
        }
      ]
    },
    {
      "cell_type": "code",
      "metadata": {
        "colab": {
          "base_uri": "https://localhost:8080/"
        },
        "id": "IgHgVKFfyiQ2",
        "outputId": "41bf41e6-e9d1-4223-ce51-b28040ab2966"
      },
      "source": [
        "print(vocabulary)"
      ],
      "execution_count": 25,
      "outputs": [
        {
          "output_type": "stream",
          "text": [
            "['a', 'b', 'c', 'd', 'e', 'f', 'g', 'h', 'i', 'j', 'k', 'l', 'm', 'n', 'o', 'p', 'q', 'r', 's', 't', 'u', 'v', 'w', 'x', 'y', 'z', '0', '1', '2', '3', '4', '5', '6', '7', '8', '9', ',', ';', '.', '!', '?', ':', \"'\", '\"', '/', '\\\\', '|', '_', '@', '#', '$', '%', '^', '&', '*', '~', '`', '+', '-', '=', '<', '>', '(', ')', '[', ']', '{', '}']\n"
          ],
          "name": "stdout"
        }
      ]
    },
    {
      "cell_type": "code",
      "metadata": {
        "id": "OrEqN_miRM_O"
      },
      "source": [
        "def character_index(sentence, vocabulary, sequence_length = 500):\r\n",
        "  index_list = []\r\n",
        "  for i in range(len(sentence)):\r\n",
        "    if i > sequence_length-1:\r\n",
        "      break\r\n",
        "    else:\r\n",
        "      if sentence[i] in vocabulary:\r\n",
        "        index_list.append(vocabulary.index(sentence[i]) + 1)\r\n",
        "      else :\r\n",
        "        index_list.append(len(vocabulary)+1)\r\n",
        "  if len(index_list) == sequence_length:\r\n",
        "    return index_list\r\n",
        "  else:\r\n",
        "    index_list.extend([0]*(sequence_length-len(index_list)))\r\n",
        "    return index_list"
      ],
      "execution_count": 35,
      "outputs": []
    },
    {
      "cell_type": "code",
      "metadata": {
        "colab": {
          "base_uri": "https://localhost:8080/"
        },
        "id": "EE0qjYtZTbRH",
        "outputId": "ac3c67d7-7f61-465e-8bfa-12eb9c41c351"
      },
      "source": [
        "character_index('mrityunjay', vocabulary, 11)"
      ],
      "execution_count": 59,
      "outputs": [
        {
          "output_type": "execute_result",
          "data": {
            "text/plain": [
              "[13, 18, 9, 20, 25, 21, 14, 10, 1, 25, 0]"
            ]
          },
          "metadata": {
            "tags": []
          },
          "execution_count": 59
        }
      ]
    },
    {
      "cell_type": "code",
      "metadata": {
        "id": "kaVTvL4hXwwN"
      },
      "source": [
        "def character_embedding(index_list):\r\n",
        "  embedding_weights = []\r\n",
        "  for index,i in enumerate(index_list):\r\n",
        "    one_hot = np.zeros(len(vocabulary)+1)\r\n",
        "    if i != 0:\r\n",
        "      one_hot[i-1] = 1\r\n",
        "    embedding_weights.append(one_hot)\r\n",
        "  return np.array(embedding_weights,dtype = 'float32').T\r\n",
        "\r\n"
      ],
      "execution_count": 55,
      "outputs": []
    },
    {
      "cell_type": "code",
      "metadata": {
        "colab": {
          "base_uri": "https://localhost:8080/"
        },
        "id": "ErUCINdoZwqF",
        "outputId": "807db2ac-b5f2-4e2a-a343-f002d94cd36b"
      },
      "source": [
        "character_embedding(character_index('mrityunjay ', vocabulary, 12))"
      ],
      "execution_count": 58,
      "outputs": [
        {
          "output_type": "execute_result",
          "data": {
            "text/plain": [
              "array([[0., 0., 0., 0., 0., 0., 0., 0., 1., 0., 0., 0.],\n",
              "       [0., 0., 0., 0., 0., 0., 0., 0., 0., 0., 0., 0.],\n",
              "       [0., 0., 0., 0., 0., 0., 0., 0., 0., 0., 0., 0.],\n",
              "       [0., 0., 0., 0., 0., 0., 0., 0., 0., 0., 0., 0.],\n",
              "       [0., 0., 0., 0., 0., 0., 0., 0., 0., 0., 0., 0.],\n",
              "       [0., 0., 0., 0., 0., 0., 0., 0., 0., 0., 0., 0.],\n",
              "       [0., 0., 0., 0., 0., 0., 0., 0., 0., 0., 0., 0.],\n",
              "       [0., 0., 0., 0., 0., 0., 0., 0., 0., 0., 0., 0.],\n",
              "       [0., 0., 1., 0., 0., 0., 0., 0., 0., 0., 0., 0.],\n",
              "       [0., 0., 0., 0., 0., 0., 0., 1., 0., 0., 0., 0.],\n",
              "       [0., 0., 0., 0., 0., 0., 0., 0., 0., 0., 0., 0.],\n",
              "       [0., 0., 0., 0., 0., 0., 0., 0., 0., 0., 0., 0.],\n",
              "       [1., 0., 0., 0., 0., 0., 0., 0., 0., 0., 0., 0.],\n",
              "       [0., 0., 0., 0., 0., 0., 1., 0., 0., 0., 0., 0.],\n",
              "       [0., 0., 0., 0., 0., 0., 0., 0., 0., 0., 0., 0.],\n",
              "       [0., 0., 0., 0., 0., 0., 0., 0., 0., 0., 0., 0.],\n",
              "       [0., 0., 0., 0., 0., 0., 0., 0., 0., 0., 0., 0.],\n",
              "       [0., 1., 0., 0., 0., 0., 0., 0., 0., 0., 0., 0.],\n",
              "       [0., 0., 0., 0., 0., 0., 0., 0., 0., 0., 0., 0.],\n",
              "       [0., 0., 0., 1., 0., 0., 0., 0., 0., 0., 0., 0.],\n",
              "       [0., 0., 0., 0., 0., 1., 0., 0., 0., 0., 0., 0.],\n",
              "       [0., 0., 0., 0., 0., 0., 0., 0., 0., 0., 0., 0.],\n",
              "       [0., 0., 0., 0., 0., 0., 0., 0., 0., 0., 0., 0.],\n",
              "       [0., 0., 0., 0., 0., 0., 0., 0., 0., 0., 0., 0.],\n",
              "       [0., 0., 0., 0., 1., 0., 0., 0., 0., 1., 0., 0.],\n",
              "       [0., 0., 0., 0., 0., 0., 0., 0., 0., 0., 0., 0.],\n",
              "       [0., 0., 0., 0., 0., 0., 0., 0., 0., 0., 0., 0.],\n",
              "       [0., 0., 0., 0., 0., 0., 0., 0., 0., 0., 0., 0.],\n",
              "       [0., 0., 0., 0., 0., 0., 0., 0., 0., 0., 0., 0.],\n",
              "       [0., 0., 0., 0., 0., 0., 0., 0., 0., 0., 0., 0.],\n",
              "       [0., 0., 0., 0., 0., 0., 0., 0., 0., 0., 0., 0.],\n",
              "       [0., 0., 0., 0., 0., 0., 0., 0., 0., 0., 0., 0.],\n",
              "       [0., 0., 0., 0., 0., 0., 0., 0., 0., 0., 0., 0.],\n",
              "       [0., 0., 0., 0., 0., 0., 0., 0., 0., 0., 0., 0.],\n",
              "       [0., 0., 0., 0., 0., 0., 0., 0., 0., 0., 0., 0.],\n",
              "       [0., 0., 0., 0., 0., 0., 0., 0., 0., 0., 0., 0.],\n",
              "       [0., 0., 0., 0., 0., 0., 0., 0., 0., 0., 0., 0.],\n",
              "       [0., 0., 0., 0., 0., 0., 0., 0., 0., 0., 0., 0.],\n",
              "       [0., 0., 0., 0., 0., 0., 0., 0., 0., 0., 0., 0.],\n",
              "       [0., 0., 0., 0., 0., 0., 0., 0., 0., 0., 0., 0.],\n",
              "       [0., 0., 0., 0., 0., 0., 0., 0., 0., 0., 0., 0.],\n",
              "       [0., 0., 0., 0., 0., 0., 0., 0., 0., 0., 0., 0.],\n",
              "       [0., 0., 0., 0., 0., 0., 0., 0., 0., 0., 0., 0.],\n",
              "       [0., 0., 0., 0., 0., 0., 0., 0., 0., 0., 0., 0.],\n",
              "       [0., 0., 0., 0., 0., 0., 0., 0., 0., 0., 0., 0.],\n",
              "       [0., 0., 0., 0., 0., 0., 0., 0., 0., 0., 0., 0.],\n",
              "       [0., 0., 0., 0., 0., 0., 0., 0., 0., 0., 0., 0.],\n",
              "       [0., 0., 0., 0., 0., 0., 0., 0., 0., 0., 0., 0.],\n",
              "       [0., 0., 0., 0., 0., 0., 0., 0., 0., 0., 0., 0.],\n",
              "       [0., 0., 0., 0., 0., 0., 0., 0., 0., 0., 0., 0.],\n",
              "       [0., 0., 0., 0., 0., 0., 0., 0., 0., 0., 0., 0.],\n",
              "       [0., 0., 0., 0., 0., 0., 0., 0., 0., 0., 0., 0.],\n",
              "       [0., 0., 0., 0., 0., 0., 0., 0., 0., 0., 0., 0.],\n",
              "       [0., 0., 0., 0., 0., 0., 0., 0., 0., 0., 0., 0.],\n",
              "       [0., 0., 0., 0., 0., 0., 0., 0., 0., 0., 0., 0.],\n",
              "       [0., 0., 0., 0., 0., 0., 0., 0., 0., 0., 0., 0.],\n",
              "       [0., 0., 0., 0., 0., 0., 0., 0., 0., 0., 0., 0.],\n",
              "       [0., 0., 0., 0., 0., 0., 0., 0., 0., 0., 0., 0.],\n",
              "       [0., 0., 0., 0., 0., 0., 0., 0., 0., 0., 0., 0.],\n",
              "       [0., 0., 0., 0., 0., 0., 0., 0., 0., 0., 0., 0.],\n",
              "       [0., 0., 0., 0., 0., 0., 0., 0., 0., 0., 0., 0.],\n",
              "       [0., 0., 0., 0., 0., 0., 0., 0., 0., 0., 0., 0.],\n",
              "       [0., 0., 0., 0., 0., 0., 0., 0., 0., 0., 0., 0.],\n",
              "       [0., 0., 0., 0., 0., 0., 0., 0., 0., 0., 0., 0.],\n",
              "       [0., 0., 0., 0., 0., 0., 0., 0., 0., 0., 0., 0.],\n",
              "       [0., 0., 0., 0., 0., 0., 0., 0., 0., 0., 0., 0.],\n",
              "       [0., 0., 0., 0., 0., 0., 0., 0., 0., 0., 0., 0.],\n",
              "       [0., 0., 0., 0., 0., 0., 0., 0., 0., 0., 0., 0.],\n",
              "       [0., 0., 0., 0., 0., 0., 0., 0., 0., 0., 1., 0.]], dtype=float32)"
            ]
          },
          "metadata": {
            "tags": []
          },
          "execution_count": 58
        }
      ]
    },
    {
      "cell_type": "code",
      "metadata": {
        "id": "-_GVj5Rkk1nu"
      },
      "source": [
        "# def character_embedding(word,input_size=500):\n",
        "#   embedding_matrix=np.zeros((65,input_size),dtype=\"float32\")\n",
        "#   for i in range(len(word)):\n",
        "#     if i>input_size-1:\n",
        "#       break\n",
        "#     if word[i]!=' ':\n",
        "#       index_one_hot=list(vocabulary).index(word[i])\n",
        "#       embedding_matrix[index_one_hot][i]=1\n",
        "    \n",
        "#   return embedding_matrix\n"
      ],
      "execution_count": null,
      "outputs": []
    },
    {
      "cell_type": "code",
      "metadata": {
        "id": "bdc4iivAJnDX"
      },
      "source": [
        "def labeltarget(x):\n",
        "  target=np.zeros(10,dtype=\"float32\")\n",
        "  for index,code in enumerate(frequent_icd9category[:10]):\n",
        "    if code in x :\n",
        "      target[index]=1\n",
        "  return target"
      ],
      "execution_count": 274,
      "outputs": []
    },
    {
      "cell_type": "code",
      "metadata": {
        "colab": {
          "base_uri": "https://localhost:8080/"
        },
        "id": "N0Fw25iKLKIb",
        "outputId": "f847032e-e24d-48be-c7e8-7dd7c8bcb2ee"
      },
      "source": [
        "labeltarget(['E81', '919', '807', '518', '805', '860', '276'])"
      ],
      "execution_count": 275,
      "outputs": [
        {
          "output_type": "execute_result",
          "data": {
            "text/plain": [
              "array([0., 0., 1., 0., 0., 0., 0., 1., 0., 0.], dtype=float32)"
            ]
          },
          "metadata": {
            "tags": []
          },
          "execution_count": 275
        }
      ]
    },
    {
      "cell_type": "code",
      "metadata": {
        "colab": {
          "base_uri": "https://localhost:8080/",
          "height": 66,
          "referenced_widgets": [
            "e6e239ad2dc3412ab2e12c602bea493c",
            "5174821391604bd49b2a660fa825cbce",
            "26b23e7416c84831983e53665d61db0c",
            "877ac6b8cb1d4d02ae21eea40c6e1e90",
            "5168626d74184ddaa3d2bcc6af6deb07",
            "c9a9e9c976c04604881707f1813d0fe5",
            "152349ee88704af88b852a6b0eaafe71",
            "baa44c6027644d93bc75b63453878c2b"
          ]
        },
        "id": "4vKnOYTZLNLt",
        "outputId": "9f62e4a4-d70f-4785-e8cd-1fcc10e743c3"
      },
      "source": [
        "diagnosis['target_label']=diagnosis['ICD9_CATEGORY_list'].progress_apply(labeltarget) # creating a label for each adm id"
      ],
      "execution_count": 276,
      "outputs": [
        {
          "output_type": "display_data",
          "data": {
            "application/vnd.jupyter.widget-view+json": {
              "model_id": "e6e239ad2dc3412ab2e12c602bea493c",
              "version_minor": 0,
              "version_major": 2
            },
            "text/plain": [
              "HBox(children=(FloatProgress(value=0.0, max=40478.0), HTML(value='')))"
            ]
          },
          "metadata": {
            "tags": []
          }
        },
        {
          "output_type": "stream",
          "text": [
            "\n"
          ],
          "name": "stdout"
        }
      ]
    },
    {
      "cell_type": "code",
      "metadata": {
        "colab": {
          "base_uri": "https://localhost:8080/",
          "height": 983
        },
        "id": "uyre4dC6OQie",
        "outputId": "2f877898-36ef-4119-84f9-bb9c8e191761"
      },
      "source": [
        "diagnosis"
      ],
      "execution_count": 138,
      "outputs": [
        {
          "output_type": "execute_result",
          "data": {
            "text/html": [
              "<div>\n",
              "<style scoped>\n",
              "    .dataframe tbody tr th:only-of-type {\n",
              "        vertical-align: middle;\n",
              "    }\n",
              "\n",
              "    .dataframe tbody tr th {\n",
              "        vertical-align: top;\n",
              "    }\n",
              "\n",
              "    .dataframe thead th {\n",
              "        text-align: right;\n",
              "    }\n",
              "</style>\n",
              "<table border=\"1\" class=\"dataframe\">\n",
              "  <thead>\n",
              "    <tr style=\"text-align: right;\">\n",
              "      <th></th>\n",
              "      <th>HADM_ID</th>\n",
              "      <th>CATEGORY</th>\n",
              "      <th>description</th>\n",
              "      <th>discharge diagnosis:</th>\n",
              "      <th>ICD9_CODE</th>\n",
              "      <th>ICD10</th>\n",
              "      <th>ICD9_CODE_list</th>\n",
              "      <th>ICD9_CATEGORY_list</th>\n",
              "      <th>target_label</th>\n",
              "    </tr>\n",
              "  </thead>\n",
              "  <tbody>\n",
              "    <tr>\n",
              "      <th>0</th>\n",
              "      <td>100001.0</td>\n",
              "      <td>Discharge summary</td>\n",
              "      <td>{'Report': 1}</td>\n",
              "      <td>osteomyelitis bleeding duodenal ulcer heart fa...</td>\n",
              "      <td>25013,3371,5849,5780,V5867,25063,5363,4580,250...</td>\n",
              "      <td>Misc,Misc,N179,Misc,Z794,Misc,Misc,Misc,Misc,I...</td>\n",
              "      <td>[36201, 25063, 7078, 25043, 25083, 5780, 5849,...</td>\n",
              "      <td>[337, 536, 584, V13, 458, 403, V58, 585, 362, ...</td>\n",
              "      <td>[0.0, 0.0, 0.0, 0.0, 0.0]</td>\n",
              "    </tr>\n",
              "    <tr>\n",
              "      <th>1</th>\n",
              "      <td>100009.0</td>\n",
              "      <td>Discharge summary</td>\n",
              "      <td>{'Report': 1}</td>\n",
              "      <td>r subdural hematoma, right mca stroke</td>\n",
              "      <td>41401,99604,4142,25000,27800,V8535,4148,4111,V...</td>\n",
              "      <td>I2510,Misc,Misc,E119,E669,Misc,Misc,I200,Z9861...</td>\n",
              "      <td>[2859, V8535, V4582, V5867, 4142, 4148, 41401,...</td>\n",
              "      <td>[414, 272, 996, 278, 411, V85, V58, V15, 401, ...</td>\n",
              "      <td>[1.0, 0.0, 0.0, 1.0, 1.0]</td>\n",
              "    </tr>\n",
              "    <tr>\n",
              "      <th>2</th>\n",
              "      <td>100010.0</td>\n",
              "      <td>Discharge summary</td>\n",
              "      <td>{'Report': 1}</td>\n",
              "      <td>type a aortic dissection s/p replacement of as...</td>\n",
              "      <td>1890,1961,1987,1976,27652</td>\n",
              "      <td>Misc,Misc,Misc,Misc,E861</td>\n",
              "      <td>[27652, 1961, 1976, 1890, 1987]</td>\n",
              "      <td>[189, 198, 196, 276, 197]</td>\n",
              "      <td>[0.0, 0.0, 1.0, 0.0, 0.0]</td>\n",
              "    </tr>\n",
              "    <tr>\n",
              "      <th>3</th>\n",
              "      <td>100011.0</td>\n",
              "      <td>Discharge summary</td>\n",
              "      <td>{'Report': 1}</td>\n",
              "      <td>primary diagnosis s/p pedestrian struck by car...</td>\n",
              "      <td>85206,82111,86403,48242,8600,2851,86121,80703,...</td>\n",
              "      <td>Misc,Misc,Misc,Misc,Misc,D62,Misc,Misc,Misc,Mi...</td>\n",
              "      <td>[82111, E8152, 85206, 82525, 86121, 80703, 864...</td>\n",
              "      <td>[852, 822, 305, 805, 861, 807, 825, 482, 285, ...</td>\n",
              "      <td>[0.0, 0.0, 0.0, 0.0, 0.0]</td>\n",
              "    </tr>\n",
              "    <tr>\n",
              "      <th>4</th>\n",
              "      <td>100016.0</td>\n",
              "      <td>Discharge summary</td>\n",
              "      <td>{'Report': 1}</td>\n",
              "      <td>atrial fibrillation with rapid ventricular res...</td>\n",
              "      <td>5070,51881,51881,25541,47874,7580,34590,2512,4...</td>\n",
              "      <td>J690,J9600,J9690,Misc,Misc,Misc,Misc,Misc,I952...</td>\n",
              "      <td>[30000, V441, 5070, 51881, 2512, 45829, 5368, ...</td>\n",
              "      <td>[458, V44, 478, 345, 251, 300, 255, 507, 758, ...</td>\n",
              "      <td>[0.0, 0.0, 0.0, 0.0, 0.0]</td>\n",
              "    </tr>\n",
              "    <tr>\n",
              "      <th>...</th>\n",
              "      <td>...</td>\n",
              "      <td>...</td>\n",
              "      <td>...</td>\n",
              "      <td>...</td>\n",
              "      <td>...</td>\n",
              "      <td>...</td>\n",
              "      <td>...</td>\n",
              "      <td>...</td>\n",
              "      <td>...</td>\n",
              "    </tr>\n",
              "    <tr>\n",
              "      <th>40473</th>\n",
              "      <td>199987.0</td>\n",
              "      <td>Discharge summary</td>\n",
              "      <td>{'Report': 1}</td>\n",
              "      <td>s/p motor vehicle crash injuries: multiple lef...</td>\n",
              "      <td>8080,8604,80709,5180,5180,8082,8056,9190,E8120</td>\n",
              "      <td>Misc,Misc,Misc,J9811,J9819,Misc,Misc,Misc,Misc</td>\n",
              "      <td>[8080, 8082, 80709, 8604, 8056, 9190, E8120, 5...</td>\n",
              "      <td>[805, 807, 860, E81, 919, 808, 518]</td>\n",
              "      <td>[0.0, 0.0, 0.0, 0.0, 0.0]</td>\n",
              "    </tr>\n",
              "    <tr>\n",
              "      <th>40474</th>\n",
              "      <td>199988.0</td>\n",
              "      <td>Discharge summary</td>\n",
              "      <td>{'Report': 1}</td>\n",
              "      <td>1. rectal cancer. 2. status post proctocolecto...</td>\n",
              "      <td>1541,99859,9974,5672,0389,5609,7070,E8792,2720</td>\n",
              "      <td>Misc,Misc,Misc,Misc,A419,Misc,Misc,Misc,E780</td>\n",
              "      <td>[7070, 5672, 9974, 0389, E8792, 5609, 1541, 99...</td>\n",
              "      <td>[272, 038, 997, 998, 154, 560, E87, 707, 567]</td>\n",
              "      <td>[0.0, 0.0, 0.0, 0.0, 1.0]</td>\n",
              "    </tr>\n",
              "    <tr>\n",
              "      <th>40475</th>\n",
              "      <td>199992.0</td>\n",
              "      <td>Discharge summary</td>\n",
              "      <td>{'Report': 1}</td>\n",
              "      <td>junctional bradycardia chronic diastolic conge...</td>\n",
              "      <td>42789,42789,5070,5849,2760,1120,2449,0539,3272...</td>\n",
              "      <td>I498,R001,J690,N179,E870,Misc,E039,Misc,G4733,...</td>\n",
              "      <td>[5849, 2760, 1120, 42789, 5070, 32723, 2859, E...</td>\n",
              "      <td>[327, 584, 787, 443, 427, 112, 276, 285, E93, ...</td>\n",
              "      <td>[0.0, 1.0, 1.0, 0.0, 0.0]</td>\n",
              "    </tr>\n",
              "    <tr>\n",
              "      <th>40476</th>\n",
              "      <td>199998.0</td>\n",
              "      <td>Discharge summary</td>\n",
              "      <td>{'Report': 1}</td>\n",
              "      <td>deceased. gastrointestinal stromal tumor. fulm...</td>\n",
              "      <td>41401,9971,9971,9971,9971,9975,42731,78820,411...</td>\n",
              "      <td>I2510,I97710,I97790,I9788,I9789,Misc,I4891,Mis...</td>\n",
              "      <td>[9975, 42731, 51889, V4589, 4400, V4582, 4019,...</td>\n",
              "      <td>[414, 272, 429, 443, 411, 788, 427, 997, 401, ...</td>\n",
              "      <td>[1.0, 1.0, 0.0, 1.0, 1.0]</td>\n",
              "    </tr>\n",
              "    <tr>\n",
              "      <th>40477</th>\n",
              "      <td>199999.0</td>\n",
              "      <td>Discharge summary</td>\n",
              "      <td>{'Report': 1}</td>\n",
              "      <td>primary: legionella pneumonia left pleural eff...</td>\n",
              "      <td>48284,51881,51881,5119,5849,2761,78606,79902,4...</td>\n",
              "      <td>Misc,J9600,J9690,J918,N179,E871,Misc,R0902,I25...</td>\n",
              "      <td>[5119, 5849, V4582, 51881, 41401, 4293, V4986,...</td>\n",
              "      <td>[799, 414, V49, 429, 584, 788, 511, 276, 285, ...</td>\n",
              "      <td>[0.0, 0.0, 1.0, 1.0, 0.0]</td>\n",
              "    </tr>\n",
              "  </tbody>\n",
              "</table>\n",
              "<p>40478 rows × 9 columns</p>\n",
              "</div>"
            ],
            "text/plain": [
              "        HADM_ID  ...               target_label\n",
              "0      100001.0  ...  [0.0, 0.0, 0.0, 0.0, 0.0]\n",
              "1      100009.0  ...  [1.0, 0.0, 0.0, 1.0, 1.0]\n",
              "2      100010.0  ...  [0.0, 0.0, 1.0, 0.0, 0.0]\n",
              "3      100011.0  ...  [0.0, 0.0, 0.0, 0.0, 0.0]\n",
              "4      100016.0  ...  [0.0, 0.0, 0.0, 0.0, 0.0]\n",
              "...         ...  ...                        ...\n",
              "40473  199987.0  ...  [0.0, 0.0, 0.0, 0.0, 0.0]\n",
              "40474  199988.0  ...  [0.0, 0.0, 0.0, 0.0, 1.0]\n",
              "40475  199992.0  ...  [0.0, 1.0, 1.0, 0.0, 0.0]\n",
              "40476  199998.0  ...  [1.0, 1.0, 0.0, 1.0, 1.0]\n",
              "40477  199999.0  ...  [0.0, 0.0, 1.0, 1.0, 0.0]\n",
              "\n",
              "[40478 rows x 9 columns]"
            ]
          },
          "metadata": {
            "tags": []
          },
          "execution_count": 138
        }
      ]
    },
    {
      "cell_type": "code",
      "metadata": {
        "id": "ZOyVB-ZUOSLb"
      },
      "source": [
        "diagnosis_text_code=diagnosis[['discharge diagnosis:','target_label']]"
      ],
      "execution_count": 277,
      "outputs": []
    },
    {
      "cell_type": "code",
      "metadata": {
        "colab": {
          "base_uri": "https://localhost:8080/",
          "height": 419
        },
        "id": "Mr6xsnRUiNAf",
        "outputId": "1d2bfad9-82de-4a8f-9727-524f4991ebcc"
      },
      "source": [
        "diagnosis_text_code"
      ],
      "execution_count": 278,
      "outputs": [
        {
          "output_type": "execute_result",
          "data": {
            "text/html": [
              "<div>\n",
              "<style scoped>\n",
              "    .dataframe tbody tr th:only-of-type {\n",
              "        vertical-align: middle;\n",
              "    }\n",
              "\n",
              "    .dataframe tbody tr th {\n",
              "        vertical-align: top;\n",
              "    }\n",
              "\n",
              "    .dataframe thead th {\n",
              "        text-align: right;\n",
              "    }\n",
              "</style>\n",
              "<table border=\"1\" class=\"dataframe\">\n",
              "  <thead>\n",
              "    <tr style=\"text-align: right;\">\n",
              "      <th></th>\n",
              "      <th>discharge diagnosis:</th>\n",
              "      <th>target_label</th>\n",
              "    </tr>\n",
              "  </thead>\n",
              "  <tbody>\n",
              "    <tr>\n",
              "      <th>0</th>\n",
              "      <td>osteomyelitis bleeding duodenal ulcer heart fa...</td>\n",
              "      <td>[0.0, 0.0, 0.0, 0.0, 0.0, 1.0, 0.0, 0.0, 0.0, ...</td>\n",
              "    </tr>\n",
              "    <tr>\n",
              "      <th>1</th>\n",
              "      <td>r subdural hematoma, right mca stroke</td>\n",
              "      <td>[1.0, 0.0, 0.0, 1.0, 1.0, 1.0, 0.0, 0.0, 1.0, ...</td>\n",
              "    </tr>\n",
              "    <tr>\n",
              "      <th>2</th>\n",
              "      <td>type a aortic dissection s/p replacement of as...</td>\n",
              "      <td>[0.0, 0.0, 1.0, 0.0, 0.0, 0.0, 0.0, 0.0, 0.0, ...</td>\n",
              "    </tr>\n",
              "    <tr>\n",
              "      <th>3</th>\n",
              "      <td>primary diagnosis s/p pedestrian struck by car...</td>\n",
              "      <td>[0.0, 0.0, 0.0, 0.0, 0.0, 0.0, 0.0, 0.0, 1.0, ...</td>\n",
              "    </tr>\n",
              "    <tr>\n",
              "      <th>4</th>\n",
              "      <td>atrial fibrillation with rapid ventricular res...</td>\n",
              "      <td>[0.0, 0.0, 0.0, 0.0, 0.0, 0.0, 0.0, 1.0, 0.0, ...</td>\n",
              "    </tr>\n",
              "    <tr>\n",
              "      <th>...</th>\n",
              "      <td>...</td>\n",
              "      <td>...</td>\n",
              "    </tr>\n",
              "    <tr>\n",
              "      <th>40473</th>\n",
              "      <td>s/p motor vehicle crash injuries: multiple lef...</td>\n",
              "      <td>[0.0, 0.0, 0.0, 0.0, 0.0, 0.0, 0.0, 1.0, 0.0, ...</td>\n",
              "    </tr>\n",
              "    <tr>\n",
              "      <th>40474</th>\n",
              "      <td>1. rectal cancer. 2. status post proctocolecto...</td>\n",
              "      <td>[0.0, 0.0, 0.0, 0.0, 1.0, 0.0, 0.0, 0.0, 0.0, ...</td>\n",
              "    </tr>\n",
              "    <tr>\n",
              "      <th>40475</th>\n",
              "      <td>junctional bradycardia chronic diastolic conge...</td>\n",
              "      <td>[0.0, 1.0, 1.0, 0.0, 0.0, 0.0, 0.0, 0.0, 1.0, ...</td>\n",
              "    </tr>\n",
              "    <tr>\n",
              "      <th>40476</th>\n",
              "      <td>deceased. gastrointestinal stromal tumor. fulm...</td>\n",
              "      <td>[1.0, 1.0, 0.0, 1.0, 1.0, 0.0, 0.0, 1.0, 0.0, ...</td>\n",
              "    </tr>\n",
              "    <tr>\n",
              "      <th>40477</th>\n",
              "      <td>primary: legionella pneumonia left pleural eff...</td>\n",
              "      <td>[0.0, 0.0, 1.0, 1.0, 0.0, 0.0, 0.0, 1.0, 1.0, ...</td>\n",
              "    </tr>\n",
              "  </tbody>\n",
              "</table>\n",
              "<p>40478 rows × 2 columns</p>\n",
              "</div>"
            ],
            "text/plain": [
              "                                    discharge diagnosis:                                       target_label\n",
              "0      osteomyelitis bleeding duodenal ulcer heart fa...  [0.0, 0.0, 0.0, 0.0, 0.0, 1.0, 0.0, 0.0, 0.0, ...\n",
              "1                  r subdural hematoma, right mca stroke  [1.0, 0.0, 0.0, 1.0, 1.0, 1.0, 0.0, 0.0, 1.0, ...\n",
              "2      type a aortic dissection s/p replacement of as...  [0.0, 0.0, 1.0, 0.0, 0.0, 0.0, 0.0, 0.0, 0.0, ...\n",
              "3      primary diagnosis s/p pedestrian struck by car...  [0.0, 0.0, 0.0, 0.0, 0.0, 0.0, 0.0, 0.0, 1.0, ...\n",
              "4      atrial fibrillation with rapid ventricular res...  [0.0, 0.0, 0.0, 0.0, 0.0, 0.0, 0.0, 1.0, 0.0, ...\n",
              "...                                                  ...                                                ...\n",
              "40473  s/p motor vehicle crash injuries: multiple lef...  [0.0, 0.0, 0.0, 0.0, 0.0, 0.0, 0.0, 1.0, 0.0, ...\n",
              "40474  1. rectal cancer. 2. status post proctocolecto...  [0.0, 0.0, 0.0, 0.0, 1.0, 0.0, 0.0, 0.0, 0.0, ...\n",
              "40475  junctional bradycardia chronic diastolic conge...  [0.0, 1.0, 1.0, 0.0, 0.0, 0.0, 0.0, 0.0, 1.0, ...\n",
              "40476  deceased. gastrointestinal stromal tumor. fulm...  [1.0, 1.0, 0.0, 1.0, 1.0, 0.0, 0.0, 1.0, 0.0, ...\n",
              "40477  primary: legionella pneumonia left pleural eff...  [0.0, 0.0, 1.0, 1.0, 0.0, 0.0, 0.0, 1.0, 1.0, ...\n",
              "\n",
              "[40478 rows x 2 columns]"
            ]
          },
          "metadata": {
            "tags": []
          },
          "execution_count": 278
        }
      ]
    },
    {
      "cell_type": "code",
      "metadata": {
        "id": "sqjkqtypBMZk"
      },
      "source": [
        "character_length=diagnosis_text_code['discharge diagnosis:'].apply(lambda x:len([i for i in x])).to_list()"
      ],
      "execution_count": 279,
      "outputs": []
    },
    {
      "cell_type": "code",
      "metadata": {
        "colab": {
          "base_uri": "https://localhost:8080/"
        },
        "id": "aQYfHe9eDTY3",
        "outputId": "1f2e5893-bcb4-4c70-daae-d6bf13816a36"
      },
      "source": [
        "max(character_length)"
      ],
      "execution_count": 280,
      "outputs": [
        {
          "output_type": "execute_result",
          "data": {
            "text/plain": [
              "9043"
            ]
          },
          "metadata": {
            "tags": []
          },
          "execution_count": 280
        }
      ]
    },
    {
      "cell_type": "code",
      "metadata": {
        "colab": {
          "base_uri": "https://localhost:8080/"
        },
        "id": "msWmgdGiDUGc",
        "outputId": "7e9fee6f-00ef-4b11-ca04-a14c7d6312ac"
      },
      "source": [
        "sum(character_length)/len(character_length)"
      ],
      "execution_count": 281,
      "outputs": [
        {
          "output_type": "execute_result",
          "data": {
            "text/plain": [
              "154.87558673847522"
            ]
          },
          "metadata": {
            "tags": []
          },
          "execution_count": 281
        }
      ]
    },
    {
      "cell_type": "code",
      "metadata": {
        "colab": {
          "base_uri": "https://localhost:8080/",
          "height": 168,
          "referenced_widgets": [
            "ead16873fcbc4fe795f6f48e24061f3b",
            "4552c662d1cc4720b92077cfe904ef10",
            "dab956287fda4527b03a83bf956a03e8",
            "e34a7d31607d4471af9082f7a607222a",
            "bbaf5606dc244484969a5d4ec1c1dd44",
            "30960fa8ddfc42cfa0cb33892ea4cd79",
            "4b4b8c70289f44f582376bebd1196ef7",
            "c13220cd78ea42889ed95fac8ee729f1"
          ]
        },
        "id": "qrv3PDlvFJOD",
        "outputId": "91deaec0-0919-459d-9f42-47b10d48052e"
      },
      "source": [
        "diagnosis_text_code['character_matrix']=diagnosis_text_code['discharge diagnosis:'].progress_apply(lambda x:character_embedding(character_index(x, vocabulary, 100)))"
      ],
      "execution_count": 282,
      "outputs": [
        {
          "output_type": "display_data",
          "data": {
            "application/vnd.jupyter.widget-view+json": {
              "model_id": "ead16873fcbc4fe795f6f48e24061f3b",
              "version_minor": 0,
              "version_major": 2
            },
            "text/plain": [
              "HBox(children=(FloatProgress(value=0.0, max=40478.0), HTML(value='')))"
            ]
          },
          "metadata": {
            "tags": []
          }
        },
        {
          "output_type": "stream",
          "text": [
            "\n"
          ],
          "name": "stdout"
        },
        {
          "output_type": "stream",
          "text": [
            "/usr/local/lib/python3.6/dist-packages/ipykernel_launcher.py:1: SettingWithCopyWarning: \n",
            "A value is trying to be set on a copy of a slice from a DataFrame.\n",
            "Try using .loc[row_indexer,col_indexer] = value instead\n",
            "\n",
            "See the caveats in the documentation: https://pandas.pydata.org/pandas-docs/stable/user_guide/indexing.html#returning-a-view-versus-a-copy\n",
            "  \"\"\"Entry point for launching an IPython kernel.\n"
          ],
          "name": "stderr"
        }
      ]
    },
    {
      "cell_type": "code",
      "metadata": {
        "colab": {
          "base_uri": "https://localhost:8080/"
        },
        "id": "SArDUoKuFJW5",
        "outputId": "52a403fd-4bab-4690-c296-0f12997eccae"
      },
      "source": [
        "(diagnosis_text_code.character_matrix.iloc[2]).dtype"
      ],
      "execution_count": 283,
      "outputs": [
        {
          "output_type": "execute_result",
          "data": {
            "text/plain": [
              "dtype('float32')"
            ]
          },
          "metadata": {
            "tags": []
          },
          "execution_count": 283
        }
      ]
    },
    {
      "cell_type": "code",
      "metadata": {
        "colab": {
          "base_uri": "https://localhost:8080/",
          "height": 419
        },
        "id": "pxmZulz7fD3R",
        "outputId": "bf63b634-ea27-474e-a420-ecbc25be8add"
      },
      "source": [
        "diagnosis_text_code"
      ],
      "execution_count": 284,
      "outputs": [
        {
          "output_type": "execute_result",
          "data": {
            "text/html": [
              "<div>\n",
              "<style scoped>\n",
              "    .dataframe tbody tr th:only-of-type {\n",
              "        vertical-align: middle;\n",
              "    }\n",
              "\n",
              "    .dataframe tbody tr th {\n",
              "        vertical-align: top;\n",
              "    }\n",
              "\n",
              "    .dataframe thead th {\n",
              "        text-align: right;\n",
              "    }\n",
              "</style>\n",
              "<table border=\"1\" class=\"dataframe\">\n",
              "  <thead>\n",
              "    <tr style=\"text-align: right;\">\n",
              "      <th></th>\n",
              "      <th>discharge diagnosis:</th>\n",
              "      <th>target_label</th>\n",
              "      <th>character_matrix</th>\n",
              "    </tr>\n",
              "  </thead>\n",
              "  <tbody>\n",
              "    <tr>\n",
              "      <th>0</th>\n",
              "      <td>osteomyelitis bleeding duodenal ulcer heart fa...</td>\n",
              "      <td>[0.0, 0.0, 0.0, 0.0, 0.0, 1.0, 0.0, 0.0, 0.0, ...</td>\n",
              "      <td>[[0.0, 0.0, 0.0, 0.0, 0.0, 0.0, 0.0, 0.0, 0.0,...</td>\n",
              "    </tr>\n",
              "    <tr>\n",
              "      <th>1</th>\n",
              "      <td>r subdural hematoma, right mca stroke</td>\n",
              "      <td>[1.0, 0.0, 0.0, 1.0, 1.0, 1.0, 0.0, 0.0, 1.0, ...</td>\n",
              "      <td>[[0.0, 0.0, 0.0, 0.0, 0.0, 0.0, 0.0, 0.0, 1.0,...</td>\n",
              "    </tr>\n",
              "    <tr>\n",
              "      <th>2</th>\n",
              "      <td>type a aortic dissection s/p replacement of as...</td>\n",
              "      <td>[0.0, 0.0, 1.0, 0.0, 0.0, 0.0, 0.0, 0.0, 0.0, ...</td>\n",
              "      <td>[[0.0, 0.0, 0.0, 0.0, 0.0, 1.0, 0.0, 1.0, 0.0,...</td>\n",
              "    </tr>\n",
              "    <tr>\n",
              "      <th>3</th>\n",
              "      <td>primary diagnosis s/p pedestrian struck by car...</td>\n",
              "      <td>[0.0, 0.0, 0.0, 0.0, 0.0, 0.0, 0.0, 0.0, 1.0, ...</td>\n",
              "      <td>[[0.0, 0.0, 0.0, 0.0, 1.0, 0.0, 0.0, 0.0, 0.0,...</td>\n",
              "    </tr>\n",
              "    <tr>\n",
              "      <th>4</th>\n",
              "      <td>atrial fibrillation with rapid ventricular res...</td>\n",
              "      <td>[0.0, 0.0, 0.0, 0.0, 0.0, 0.0, 0.0, 1.0, 0.0, ...</td>\n",
              "      <td>[[1.0, 0.0, 0.0, 0.0, 1.0, 0.0, 0.0, 0.0, 0.0,...</td>\n",
              "    </tr>\n",
              "    <tr>\n",
              "      <th>...</th>\n",
              "      <td>...</td>\n",
              "      <td>...</td>\n",
              "      <td>...</td>\n",
              "    </tr>\n",
              "    <tr>\n",
              "      <th>40473</th>\n",
              "      <td>s/p motor vehicle crash injuries: multiple lef...</td>\n",
              "      <td>[0.0, 0.0, 0.0, 0.0, 0.0, 0.0, 0.0, 1.0, 0.0, ...</td>\n",
              "      <td>[[0.0, 0.0, 0.0, 0.0, 0.0, 0.0, 0.0, 0.0, 0.0,...</td>\n",
              "    </tr>\n",
              "    <tr>\n",
              "      <th>40474</th>\n",
              "      <td>1. rectal cancer. 2. status post proctocolecto...</td>\n",
              "      <td>[0.0, 0.0, 0.0, 0.0, 1.0, 0.0, 0.0, 0.0, 0.0, ...</td>\n",
              "      <td>[[0.0, 0.0, 0.0, 0.0, 0.0, 0.0, 0.0, 1.0, 0.0,...</td>\n",
              "    </tr>\n",
              "    <tr>\n",
              "      <th>40475</th>\n",
              "      <td>junctional bradycardia chronic diastolic conge...</td>\n",
              "      <td>[0.0, 1.0, 1.0, 0.0, 0.0, 0.0, 0.0, 0.0, 1.0, ...</td>\n",
              "      <td>[[0.0, 0.0, 0.0, 0.0, 0.0, 0.0, 0.0, 0.0, 1.0,...</td>\n",
              "    </tr>\n",
              "    <tr>\n",
              "      <th>40476</th>\n",
              "      <td>deceased. gastrointestinal stromal tumor. fulm...</td>\n",
              "      <td>[1.0, 1.0, 0.0, 1.0, 1.0, 0.0, 0.0, 1.0, 0.0, ...</td>\n",
              "      <td>[[0.0, 0.0, 0.0, 0.0, 1.0, 0.0, 0.0, 0.0, 0.0,...</td>\n",
              "    </tr>\n",
              "    <tr>\n",
              "      <th>40477</th>\n",
              "      <td>primary: legionella pneumonia left pleural eff...</td>\n",
              "      <td>[0.0, 0.0, 1.0, 1.0, 0.0, 0.0, 0.0, 1.0, 1.0, ...</td>\n",
              "      <td>[[0.0, 0.0, 0.0, 0.0, 1.0, 0.0, 0.0, 0.0, 0.0,...</td>\n",
              "    </tr>\n",
              "  </tbody>\n",
              "</table>\n",
              "<p>40478 rows × 3 columns</p>\n",
              "</div>"
            ],
            "text/plain": [
              "                                    discharge diagnosis:  ...                                   character_matrix\n",
              "0      osteomyelitis bleeding duodenal ulcer heart fa...  ...  [[0.0, 0.0, 0.0, 0.0, 0.0, 0.0, 0.0, 0.0, 0.0,...\n",
              "1                  r subdural hematoma, right mca stroke  ...  [[0.0, 0.0, 0.0, 0.0, 0.0, 0.0, 0.0, 0.0, 1.0,...\n",
              "2      type a aortic dissection s/p replacement of as...  ...  [[0.0, 0.0, 0.0, 0.0, 0.0, 1.0, 0.0, 1.0, 0.0,...\n",
              "3      primary diagnosis s/p pedestrian struck by car...  ...  [[0.0, 0.0, 0.0, 0.0, 1.0, 0.0, 0.0, 0.0, 0.0,...\n",
              "4      atrial fibrillation with rapid ventricular res...  ...  [[1.0, 0.0, 0.0, 0.0, 1.0, 0.0, 0.0, 0.0, 0.0,...\n",
              "...                                                  ...  ...                                                ...\n",
              "40473  s/p motor vehicle crash injuries: multiple lef...  ...  [[0.0, 0.0, 0.0, 0.0, 0.0, 0.0, 0.0, 0.0, 0.0,...\n",
              "40474  1. rectal cancer. 2. status post proctocolecto...  ...  [[0.0, 0.0, 0.0, 0.0, 0.0, 0.0, 0.0, 1.0, 0.0,...\n",
              "40475  junctional bradycardia chronic diastolic conge...  ...  [[0.0, 0.0, 0.0, 0.0, 0.0, 0.0, 0.0, 0.0, 1.0,...\n",
              "40476  deceased. gastrointestinal stromal tumor. fulm...  ...  [[0.0, 0.0, 0.0, 0.0, 1.0, 0.0, 0.0, 0.0, 0.0,...\n",
              "40477  primary: legionella pneumonia left pleural eff...  ...  [[0.0, 0.0, 0.0, 0.0, 1.0, 0.0, 0.0, 0.0, 0.0,...\n",
              "\n",
              "[40478 rows x 3 columns]"
            ]
          },
          "metadata": {
            "tags": []
          },
          "execution_count": 284
        }
      ]
    },
    {
      "cell_type": "code",
      "metadata": {
        "id": "ACPUaY5CDlMT",
        "colab": {
          "base_uri": "https://localhost:8080/"
        },
        "outputId": "2ff9f7fd-e17a-485f-b22f-202dddb379e2"
      },
      "source": [
        "diagnosis_text_code['sum'] = diagnosis_text_code.target_label.apply(lambda x:np.sum(x))"
      ],
      "execution_count": 285,
      "outputs": [
        {
          "output_type": "stream",
          "text": [
            "/usr/local/lib/python3.6/dist-packages/ipykernel_launcher.py:1: SettingWithCopyWarning: \n",
            "A value is trying to be set on a copy of a slice from a DataFrame.\n",
            "Try using .loc[row_indexer,col_indexer] = value instead\n",
            "\n",
            "See the caveats in the documentation: https://pandas.pydata.org/pandas-docs/stable/user_guide/indexing.html#returning-a-view-versus-a-copy\n",
            "  \"\"\"Entry point for launching an IPython kernel.\n"
          ],
          "name": "stderr"
        }
      ]
    },
    {
      "cell_type": "code",
      "metadata": {
        "id": "ribAdcz3Jrvj"
      },
      "source": [
        "diagnosis_text_code = diagnosis_text_code.loc[diagnosis_text_code['sum'] != 0.0]"
      ],
      "execution_count": 286,
      "outputs": []
    },
    {
      "cell_type": "code",
      "metadata": {
        "colab": {
          "base_uri": "https://localhost:8080/",
          "height": 419
        },
        "id": "H4hq2MZtKA77",
        "outputId": "f66f4f4e-dfe3-4d39-b980-27e06e4adc63"
      },
      "source": [
        "diagnosis_text_code"
      ],
      "execution_count": 287,
      "outputs": [
        {
          "output_type": "execute_result",
          "data": {
            "text/html": [
              "<div>\n",
              "<style scoped>\n",
              "    .dataframe tbody tr th:only-of-type {\n",
              "        vertical-align: middle;\n",
              "    }\n",
              "\n",
              "    .dataframe tbody tr th {\n",
              "        vertical-align: top;\n",
              "    }\n",
              "\n",
              "    .dataframe thead th {\n",
              "        text-align: right;\n",
              "    }\n",
              "</style>\n",
              "<table border=\"1\" class=\"dataframe\">\n",
              "  <thead>\n",
              "    <tr style=\"text-align: right;\">\n",
              "      <th></th>\n",
              "      <th>discharge diagnosis:</th>\n",
              "      <th>target_label</th>\n",
              "      <th>character_matrix</th>\n",
              "      <th>sum</th>\n",
              "    </tr>\n",
              "  </thead>\n",
              "  <tbody>\n",
              "    <tr>\n",
              "      <th>0</th>\n",
              "      <td>osteomyelitis bleeding duodenal ulcer heart fa...</td>\n",
              "      <td>[0.0, 0.0, 0.0, 0.0, 0.0, 1.0, 0.0, 0.0, 0.0, ...</td>\n",
              "      <td>[[0.0, 0.0, 0.0, 0.0, 0.0, 0.0, 0.0, 0.0, 0.0,...</td>\n",
              "      <td>2.0</td>\n",
              "    </tr>\n",
              "    <tr>\n",
              "      <th>1</th>\n",
              "      <td>r subdural hematoma, right mca stroke</td>\n",
              "      <td>[1.0, 0.0, 0.0, 1.0, 1.0, 1.0, 0.0, 0.0, 1.0, ...</td>\n",
              "      <td>[[0.0, 0.0, 0.0, 0.0, 0.0, 0.0, 0.0, 0.0, 1.0,...</td>\n",
              "      <td>5.0</td>\n",
              "    </tr>\n",
              "    <tr>\n",
              "      <th>2</th>\n",
              "      <td>type a aortic dissection s/p replacement of as...</td>\n",
              "      <td>[0.0, 0.0, 1.0, 0.0, 0.0, 0.0, 0.0, 0.0, 0.0, ...</td>\n",
              "      <td>[[0.0, 0.0, 0.0, 0.0, 0.0, 1.0, 0.0, 1.0, 0.0,...</td>\n",
              "      <td>1.0</td>\n",
              "    </tr>\n",
              "    <tr>\n",
              "      <th>3</th>\n",
              "      <td>primary diagnosis s/p pedestrian struck by car...</td>\n",
              "      <td>[0.0, 0.0, 0.0, 0.0, 0.0, 0.0, 0.0, 0.0, 1.0, ...</td>\n",
              "      <td>[[0.0, 0.0, 0.0, 0.0, 1.0, 0.0, 0.0, 0.0, 0.0,...</td>\n",
              "      <td>1.0</td>\n",
              "    </tr>\n",
              "    <tr>\n",
              "      <th>4</th>\n",
              "      <td>atrial fibrillation with rapid ventricular res...</td>\n",
              "      <td>[0.0, 0.0, 0.0, 0.0, 0.0, 0.0, 0.0, 1.0, 0.0, ...</td>\n",
              "      <td>[[1.0, 0.0, 0.0, 0.0, 1.0, 0.0, 0.0, 0.0, 0.0,...</td>\n",
              "      <td>1.0</td>\n",
              "    </tr>\n",
              "    <tr>\n",
              "      <th>...</th>\n",
              "      <td>...</td>\n",
              "      <td>...</td>\n",
              "      <td>...</td>\n",
              "      <td>...</td>\n",
              "    </tr>\n",
              "    <tr>\n",
              "      <th>40473</th>\n",
              "      <td>s/p motor vehicle crash injuries: multiple lef...</td>\n",
              "      <td>[0.0, 0.0, 0.0, 0.0, 0.0, 0.0, 0.0, 1.0, 0.0, ...</td>\n",
              "      <td>[[0.0, 0.0, 0.0, 0.0, 0.0, 0.0, 0.0, 0.0, 0.0,...</td>\n",
              "      <td>1.0</td>\n",
              "    </tr>\n",
              "    <tr>\n",
              "      <th>40474</th>\n",
              "      <td>1. rectal cancer. 2. status post proctocolecto...</td>\n",
              "      <td>[0.0, 0.0, 0.0, 0.0, 1.0, 0.0, 0.0, 0.0, 0.0, ...</td>\n",
              "      <td>[[0.0, 0.0, 0.0, 0.0, 0.0, 0.0, 0.0, 1.0, 0.0,...</td>\n",
              "      <td>1.0</td>\n",
              "    </tr>\n",
              "    <tr>\n",
              "      <th>40475</th>\n",
              "      <td>junctional bradycardia chronic diastolic conge...</td>\n",
              "      <td>[0.0, 1.0, 1.0, 0.0, 0.0, 0.0, 0.0, 0.0, 1.0, ...</td>\n",
              "      <td>[[0.0, 0.0, 0.0, 0.0, 0.0, 0.0, 0.0, 0.0, 1.0,...</td>\n",
              "      <td>4.0</td>\n",
              "    </tr>\n",
              "    <tr>\n",
              "      <th>40476</th>\n",
              "      <td>deceased. gastrointestinal stromal tumor. fulm...</td>\n",
              "      <td>[1.0, 1.0, 0.0, 1.0, 1.0, 0.0, 0.0, 1.0, 0.0, ...</td>\n",
              "      <td>[[0.0, 0.0, 0.0, 0.0, 1.0, 0.0, 0.0, 0.0, 0.0,...</td>\n",
              "      <td>5.0</td>\n",
              "    </tr>\n",
              "    <tr>\n",
              "      <th>40477</th>\n",
              "      <td>primary: legionella pneumonia left pleural eff...</td>\n",
              "      <td>[0.0, 0.0, 1.0, 1.0, 0.0, 0.0, 0.0, 1.0, 1.0, ...</td>\n",
              "      <td>[[0.0, 0.0, 0.0, 0.0, 1.0, 0.0, 0.0, 0.0, 0.0,...</td>\n",
              "      <td>5.0</td>\n",
              "    </tr>\n",
              "  </tbody>\n",
              "</table>\n",
              "<p>34669 rows × 4 columns</p>\n",
              "</div>"
            ],
            "text/plain": [
              "                                    discharge diagnosis:  ...  sum\n",
              "0      osteomyelitis bleeding duodenal ulcer heart fa...  ...  2.0\n",
              "1                  r subdural hematoma, right mca stroke  ...  5.0\n",
              "2      type a aortic dissection s/p replacement of as...  ...  1.0\n",
              "3      primary diagnosis s/p pedestrian struck by car...  ...  1.0\n",
              "4      atrial fibrillation with rapid ventricular res...  ...  1.0\n",
              "...                                                  ...  ...  ...\n",
              "40473  s/p motor vehicle crash injuries: multiple lef...  ...  1.0\n",
              "40474  1. rectal cancer. 2. status post proctocolecto...  ...  1.0\n",
              "40475  junctional bradycardia chronic diastolic conge...  ...  4.0\n",
              "40476  deceased. gastrointestinal stromal tumor. fulm...  ...  5.0\n",
              "40477  primary: legionella pneumonia left pleural eff...  ...  5.0\n",
              "\n",
              "[34669 rows x 4 columns]"
            ]
          },
          "metadata": {
            "tags": []
          },
          "execution_count": 287
        }
      ]
    },
    {
      "cell_type": "code",
      "metadata": {
        "colab": {
          "base_uri": "https://localhost:8080/"
        },
        "id": "T8Dn5m_HDrIa",
        "outputId": "5736b7ea-98dd-4644-f212-f3990f13ad11"
      },
      "source": [
        "device"
      ],
      "execution_count": 288,
      "outputs": [
        {
          "output_type": "execute_result",
          "data": {
            "text/plain": [
              "device(type='cuda')"
            ]
          },
          "metadata": {
            "tags": []
          },
          "execution_count": 288
        }
      ]
    },
    {
      "cell_type": "code",
      "metadata": {
        "id": "2Y25mLPSc-Jt"
      },
      "source": [
        ""
      ],
      "execution_count": 288,
      "outputs": []
    },
    {
      "cell_type": "code",
      "metadata": {
        "id": "SpGe7je-btMt"
      },
      "source": [
        "class cnndataset(Dataset):\n",
        "  def __init__(self):\n",
        "    self.nsamples=diagnosis_text_code.shape[0]  \n",
        "\n",
        "  def __getitem__(self,index):\n",
        "    x=torch.from_numpy(diagnosis_text_code.iloc[index,2])\n",
        "    y=torch.from_numpy(diagnosis_text_code.iloc[index,1])\n",
        "    return x,y\n",
        "\n",
        "  def __len__(self):\n",
        "    return self.nsamples\n"
      ],
      "execution_count": 289,
      "outputs": []
    },
    {
      "cell_type": "code",
      "metadata": {
        "id": "tUsqZM0Jdtrs"
      },
      "source": [
        "dataset=cnndataset()"
      ],
      "execution_count": 290,
      "outputs": []
    },
    {
      "cell_type": "code",
      "metadata": {
        "id": "Is_1z7VNw1hf"
      },
      "source": [
        "def split_indices(n,fraction_train):\n",
        "  n_train=int(n*fraction_train)\n",
        "  n_remain=n-n_train\n",
        "  idxs=np.random.permutation(n)\n",
        "  n_test=int(n_remain/3)\n",
        "  return idxs[:n_train],idxs[n_train:n_train+n_test],idxs[n_train+n_test:n_train+n_test*2],idxs[n_train+n_test*2:]\n"
      ],
      "execution_count": 291,
      "outputs": []
    },
    {
      "cell_type": "code",
      "metadata": {
        "id": "c-dKXKHr1Ii_"
      },
      "source": [
        "train_indices,test1_indices,test2_indices,test3_indices=split_indices(len(dataset),0.5)"
      ],
      "execution_count": null,
      "outputs": []
    },
    {
      "cell_type": "code",
      "metadata": {
        "colab": {
          "base_uri": "https://localhost:8080/"
        },
        "id": "GWJBkrBo1bl6",
        "outputId": "678fa520-5534-4d57-ee3a-42e7b1881cff"
      },
      "source": [
        "len(train_indices)+len(test1_indices)+len(test2_indices)+len(test3_indices)"
      ],
      "execution_count": null,
      "outputs": [
        {
          "output_type": "execute_result",
          "data": {
            "text/plain": [
              "40478"
            ]
          },
          "metadata": {
            "tags": []
          },
          "execution_count": 44
        }
      ]
    },
    {
      "cell_type": "code",
      "metadata": {
        "id": "145L3J6Bq5gs"
      },
      "source": [
        "features,label=dataset[0]"
      ],
      "execution_count": null,
      "outputs": []
    },
    {
      "cell_type": "code",
      "metadata": {
        "colab": {
          "base_uri": "https://localhost:8080/"
        },
        "id": "XjU4t4idnkKc",
        "outputId": "88f76df7-8fbf-4132-8701-444167bb7d8f"
      },
      "source": [
        "features.dtype"
      ],
      "execution_count": null,
      "outputs": [
        {
          "output_type": "execute_result",
          "data": {
            "text/plain": [
              "torch.float32"
            ]
          },
          "metadata": {
            "tags": []
          },
          "execution_count": 47
        }
      ]
    },
    {
      "cell_type": "code",
      "metadata": {
        "colab": {
          "base_uri": "https://localhost:8080/"
        },
        "id": "R5rEN4YIrEh1",
        "outputId": "f8b27b1a-fb38-4c61-ddeb-0a3a00fc597a"
      },
      "source": [
        "dataset.nsamples"
      ],
      "execution_count": null,
      "outputs": [
        {
          "output_type": "execute_result",
          "data": {
            "text/plain": [
              "40478"
            ]
          },
          "metadata": {
            "tags": []
          },
          "execution_count": 48
        }
      ]
    },
    {
      "cell_type": "code",
      "metadata": {
        "colab": {
          "base_uri": "https://localhost:8080/"
        },
        "id": "g27ZLy1Rgqh9",
        "outputId": "b0e4b1e1-ca3c-4590-e461-9cae68001577"
      },
      "source": [
        "len(dataset)"
      ],
      "execution_count": 75,
      "outputs": [
        {
          "output_type": "execute_result",
          "data": {
            "text/plain": [
              "40478"
            ]
          },
          "metadata": {
            "tags": []
          },
          "execution_count": 75
        }
      ]
    },
    {
      "cell_type": "code",
      "metadata": {
        "id": "xRdJM5lNgtLe"
      },
      "source": [
        "test_split = 0.3\r\n",
        "dataset_size = len(dataset)\r\n",
        "indices = list(range(dataset_size))\r\n",
        "split = int(np.floor(test_split * dataset_size))\r\n",
        "train_indices, test_indices = indices[split:], indices[:split]\r\n"
      ],
      "execution_count": 292,
      "outputs": []
    },
    {
      "cell_type": "code",
      "metadata": {
        "id": "ZWCoCJ5zt4vX"
      },
      "source": [
        "batch_size=128\n",
        "train_sampler=SubsetRandomSampler(train_indices)\n",
        "cnn_train_loader=DataLoader(dataset,batch_size,sampler=train_sampler)"
      ],
      "execution_count": 293,
      "outputs": []
    },
    {
      "cell_type": "code",
      "metadata": {
        "colab": {
          "base_uri": "https://localhost:8080/"
        },
        "id": "V-SQ4EHc20CB",
        "outputId": "2b68d8dc-ab61-44f0-947e-59dd19b945be"
      },
      "source": [
        "for x,y in cnn_train_loader:\n",
        "  print(x.shape)\n",
        "  print(y.shape)\n",
        "  \n",
        "  break"
      ],
      "execution_count": 294,
      "outputs": [
        {
          "output_type": "stream",
          "text": [
            "torch.Size([128, 69, 100])\n",
            "torch.Size([128, 10])\n"
          ],
          "name": "stdout"
        }
      ]
    },
    {
      "cell_type": "code",
      "metadata": {
        "id": "zvLJnwrm5PL9"
      },
      "source": [
        "# sequential1=nn.Sequential(nn.Conv1d(65,128,3),nn.ReLU(),nn.MaxPool1d(3))"
      ],
      "execution_count": 295,
      "outputs": []
    },
    {
      "cell_type": "code",
      "metadata": {
        "id": "yhCq4Lyp57CW"
      },
      "source": [
        "# x_in=torch.randn(128,65,150)"
      ],
      "execution_count": 171,
      "outputs": []
    },
    {
      "cell_type": "code",
      "metadata": {
        "id": "e0CBON7Z62Qn"
      },
      "source": [
        "# x_out=sequential1(x_in)"
      ],
      "execution_count": null,
      "outputs": []
    },
    {
      "cell_type": "code",
      "metadata": {
        "id": "vwWSbuks69oL"
      },
      "source": [
        "# x_out.shape"
      ],
      "execution_count": null,
      "outputs": []
    },
    {
      "cell_type": "code",
      "metadata": {
        "id": "fE3LeHRyEtLH"
      },
      "source": [
        "# layer4=nn.Flatten()"
      ],
      "execution_count": null,
      "outputs": []
    },
    {
      "cell_type": "code",
      "metadata": {
        "id": "X9EYxUhWDWf2"
      },
      "source": [
        "# layer4(x_out).shape"
      ],
      "execution_count": null,
      "outputs": []
    },
    {
      "cell_type": "code",
      "metadata": {
        "id": "-_1hfDPkTFz-",
        "cellView": "code"
      },
      "source": [
        "class characterCNN(nn.Module):\n",
        "  def __init__(self):\n",
        "    super().__init__()\n",
        "    # layers of NN\n",
        "    self.conv=nn.Sequential(nn.Conv1d(65,128,kernel_size=3,padding=0),nn.ReLU(),nn.MaxPool1d(3))\n",
        "    self.flatten=nn.Flatten()\n",
        "    self.fc = nn.Linear(6272, 10)\n",
        "    # activation \n",
        "    self.act = nn.Sigmoid()\n",
        "  \n",
        "  # forward\n",
        "\n",
        "  def forward(self, x):\n",
        "    out = self.conv(x)\n",
        "    out = self.flatten(out)\n",
        "    out = self.fc(out)\n",
        "    out = self.act(out)\n",
        "    return out\n",
        "\n",
        "\n",
        "    "
      ],
      "execution_count": null,
      "outputs": []
    },
    {
      "cell_type": "code",
      "metadata": {
        "id": "NLCdZrBBsBBj"
      },
      "source": [
        "class CharacterLevelCNN(nn.Module):\r\n",
        "    def __init__(self, number_of_classes):\r\n",
        "        super(CharacterLevelCNN, self).__init__()\r\n",
        "\r\n",
        "        # define conv layers\r\n",
        "\r\n",
        "        # self.dropout_input = nn.Dropout2d(args.dropout_input)\r\n",
        "\r\n",
        "        self.conv1 = nn.Sequential(nn.Conv1d(69,\r\n",
        "                                             256,\r\n",
        "                                             kernel_size=7,\r\n",
        "                                             padding=0),\r\n",
        "                                   nn.ReLU(),\r\n",
        "                                   nn.MaxPool1d(3)\r\n",
        "                                   )\r\n",
        "\r\n",
        "        self.conv2 = nn.Sequential(nn.Conv1d(256, 256, kernel_size=7, padding=0),\r\n",
        "                                   nn.ReLU(),\r\n",
        "                                   nn.MaxPool1d(3)\r\n",
        "                                   )\r\n",
        "\r\n",
        "        self.conv3 = nn.Sequential(nn.Conv1d(256, 256, kernel_size=3, padding=0),\r\n",
        "                                   nn.ReLU()\r\n",
        "                                   )\r\n",
        "\r\n",
        "        self.conv4 = nn.Sequential(nn.Conv1d(256, 256, kernel_size=3, padding=0),\r\n",
        "                                   nn.ReLU()\r\n",
        "                                   )\r\n",
        "\r\n",
        "        # self.conv5 = nn.Sequential(nn.Conv1d(256, 256, kernel_size=3, padding=0),\r\n",
        "        #                            nn.ReLU()\r\n",
        "        #                            )\r\n",
        "\r\n",
        "        # self.conv6 = nn.Sequential(nn.Conv1d(256, 256, kernel_size=3, padding=0),\r\n",
        "        #                            nn.ReLU(),\r\n",
        "        #                            nn.MaxPool1d(3)\r\n",
        "        #                            )\r\n",
        "\r\n",
        "        # compute the  output shape after forwarding an input to the conv layers\r\n",
        "\r\n",
        "        input_shape = (128, 69, 100)\r\n",
        "        self.output_dimension = self._get_conv_output(input_shape)\r\n",
        "\r\n",
        "        # define linear layers\r\n",
        "\r\n",
        "        self.fc1 = nn.Sequential(\r\n",
        "            nn.Linear(self.output_dimension, 1024),\r\n",
        "            nn.ReLU(),\r\n",
        "            # nn.Dropout(0.5)\r\n",
        "        )\r\n",
        "\r\n",
        "        self.fc2 = nn.Sequential(\r\n",
        "            nn.Linear(1024, 1024),\r\n",
        "            nn.ReLU(),\r\n",
        "            # nn.Dropout(0.5)\r\n",
        "        )\r\n",
        "\r\n",
        "        self.fc3 = nn.Linear(1024, number_of_classes)\r\n",
        "\r\n",
        "\r\n",
        "        # activation\r\n",
        "        self.act = nn.Sigmoid()\r\n",
        "\r\n",
        "        # initialize weights\r\n",
        "\r\n",
        "        # self._create_weights()\r\n",
        "\r\n",
        "    # utility private functions\r\n",
        "\r\n",
        "    # def _create_weights(self, mean=0.0, std=0.05):\r\n",
        "    #     for module in self.modules():\r\n",
        "    #         if isinstance(module, nn.Conv1d) or isinstance(module, nn.Linear):\r\n",
        "    #             module.weight.data.normal_(mean, std)\r\n",
        "\r\n",
        "\r\n",
        "    def _get_conv_output(self, shape):\r\n",
        "        x = torch.rand(shape)\r\n",
        "        # x = x.transpose(1, 2)\r\n",
        "        x = self.conv1(x)\r\n",
        "        x = self.conv2(x)\r\n",
        "        x = self.conv3(x)\r\n",
        "        x = self.conv4(x)\r\n",
        "        # x = self.conv5(x)\r\n",
        "        # x = self.conv6(x)\r\n",
        "        x = x.view(x.size(0), -1)\r\n",
        "        output_dimension = x.size(1)\r\n",
        "        return output_dimension\r\n",
        "\r\n",
        "    # forward\r\n",
        "\r\n",
        "    def forward(self, x):\r\n",
        "        # x = self.dropout_input(x)\r\n",
        "        # x = x.transpose(1, 2)\r\n",
        "        x = self.conv1(x)\r\n",
        "        x = self.conv2(x)\r\n",
        "        x = self.conv3(x)\r\n",
        "        x = self.conv4(x)\r\n",
        "        # x = self.conv5(x)\r\n",
        "        # x = self.conv6(x)\r\n",
        "        x = x.view(x.size(0), -1)\r\n",
        "        x = self.fc1(x)\r\n",
        "        x = self.fc2(x)\r\n",
        "        x = self.fc3(x)\r\n",
        "        x =self.act(x)\r\n",
        "        return x"
      ],
      "execution_count": 296,
      "outputs": []
    },
    {
      "cell_type": "code",
      "metadata": {
        "id": "-mYoOWRPibQS"
      },
      "source": [
        "modelcnn=CharacterLevelCNN(number_of_classes=10).to(device)"
      ],
      "execution_count": 297,
      "outputs": []
    },
    {
      "cell_type": "code",
      "metadata": {
        "colab": {
          "base_uri": "https://localhost:8080/"
        },
        "id": "mzGEODQ1jL6H",
        "outputId": "87fc4c7c-05a1-41fa-b36e-89942ce51e72"
      },
      "source": [
        "modelcnn"
      ],
      "execution_count": 298,
      "outputs": [
        {
          "output_type": "execute_result",
          "data": {
            "text/plain": [
              "CharacterLevelCNN(\n",
              "  (conv1): Sequential(\n",
              "    (0): Conv1d(69, 256, kernel_size=(7,), stride=(1,))\n",
              "    (1): ReLU()\n",
              "    (2): MaxPool1d(kernel_size=3, stride=3, padding=0, dilation=1, ceil_mode=False)\n",
              "  )\n",
              "  (conv2): Sequential(\n",
              "    (0): Conv1d(256, 256, kernel_size=(7,), stride=(1,))\n",
              "    (1): ReLU()\n",
              "    (2): MaxPool1d(kernel_size=3, stride=3, padding=0, dilation=1, ceil_mode=False)\n",
              "  )\n",
              "  (conv3): Sequential(\n",
              "    (0): Conv1d(256, 256, kernel_size=(3,), stride=(1,))\n",
              "    (1): ReLU()\n",
              "  )\n",
              "  (conv4): Sequential(\n",
              "    (0): Conv1d(256, 256, kernel_size=(3,), stride=(1,))\n",
              "    (1): ReLU()\n",
              "  )\n",
              "  (fc1): Sequential(\n",
              "    (0): Linear(in_features=1024, out_features=1024, bias=True)\n",
              "    (1): ReLU()\n",
              "  )\n",
              "  (fc2): Sequential(\n",
              "    (0): Linear(in_features=1024, out_features=1024, bias=True)\n",
              "    (1): ReLU()\n",
              "  )\n",
              "  (fc3): Linear(in_features=1024, out_features=10, bias=True)\n",
              "  (act): Sigmoid()\n",
              ")"
            ]
          },
          "metadata": {
            "tags": []
          },
          "execution_count": 298
        }
      ]
    },
    {
      "cell_type": "code",
      "metadata": {
        "id": "Wu-cS9kNhb5T"
      },
      "source": [
        "learning_rate=1e-3\n",
        "loss_fn=nn.BCELoss()\n",
        "opt_fn=torch.optim.Adam(modelcnn.parameters(), lr=learning_rate)\n"
      ],
      "execution_count": 299,
      "outputs": []
    },
    {
      "cell_type": "code",
      "metadata": {
        "id": "giqprTB22QS8"
      },
      "source": [
        "def multi_acc(y_pred, y_test,threshold=0.5):\r\n",
        "  num_classes=y_pred.shape[1]\r\n",
        "  y_pred_tags = (y_pred>0.5).float()\r\n",
        "\r\n",
        "  correct_pred = (y_pred_tags == y_test).float()\r\n",
        "  accuracy = (correct_pred.sum(dim=1) == num_classes).float().sum() / len(correct_pred)\r\n",
        "  return accuracy"
      ],
      "execution_count": 300,
      "outputs": []
    },
    {
      "cell_type": "code",
      "metadata": {
        "id": "vItjgaT0hboZ"
      },
      "source": [
        "def fit(epochs,model,train_loader,opt_fn,loss_fn):\n",
        "  model.train()\n",
        "\n",
        "  for epoch in range(1,epochs+1):\n",
        "\n",
        "    train_epoch_loss=0\n",
        "    train_epoch_accuracy=0\n",
        "\n",
        "    for x,y in train_loader:\n",
        "\n",
        "      x=x.to(device)\n",
        "      y=y.to(device)\n",
        "\n",
        "      opt_fn.zero_grad()\n",
        "\n",
        "      preds=model(x)\n",
        "\n",
        "      \n",
        "\n",
        "      loss=loss_fn(preds,y)\n",
        "      accuracy= multi_acc(preds,y)\n",
        "\n",
        "      loss.backward()\n",
        "      opt_fn.step()\n",
        "      \n",
        "\n",
        "      train_epoch_loss+=loss.item()\n",
        "      train_epoch_accuracy+=accuracy.item()\n",
        "      \n",
        "\n",
        "    if epoch%5==0:\n",
        "      print('Epoch = {}/{}, loss = {:.4f}, accuracy = {:.4f}'.format(epoch\n",
        "                                                               ,epochs\n",
        "                                                               ,train_epoch_loss/len(train_loader)\n",
        "                                                               ,train_epoch_accuracy/len(train_loader)\n",
        "                                                               ))\n",
        "    "
      ],
      "execution_count": 301,
      "outputs": []
    },
    {
      "cell_type": "code",
      "metadata": {
        "colab": {
          "base_uri": "https://localhost:8080/"
        },
        "id": "uEsKGug_lDxL",
        "outputId": "93d8e0f9-e480-4485-d822-7595356c5df8"
      },
      "source": [
        "fit(100,modelcnn,cnn_train_loader,opt_fn,loss_fn)"
      ],
      "execution_count": 302,
      "outputs": [
        {
          "output_type": "stream",
          "text": [
            "Epoch = 5/100, loss = 0.6260, accuracy = 0.0082\n",
            "Epoch = 10/100, loss = 0.5907, accuracy = 0.0277\n",
            "Epoch = 15/100, loss = 0.5301, accuracy = 0.0498\n",
            "Epoch = 20/100, loss = 0.4759, accuracy = 0.0823\n",
            "Epoch = 25/100, loss = 0.4273, accuracy = 0.1321\n",
            "Epoch = 30/100, loss = 0.3649, accuracy = 0.2131\n",
            "Epoch = 35/100, loss = 0.2826, accuracy = 0.3555\n",
            "Epoch = 40/100, loss = 0.2090, accuracy = 0.5109\n",
            "Epoch = 45/100, loss = 0.1569, accuracy = 0.6325\n",
            "Epoch = 50/100, loss = 0.1311, accuracy = 0.7013\n",
            "Epoch = 55/100, loss = 0.1164, accuracy = 0.7396\n",
            "Epoch = 60/100, loss = 0.1121, accuracy = 0.7484\n",
            "Epoch = 65/100, loss = 0.1036, accuracy = 0.7723\n",
            "Epoch = 70/100, loss = 0.0970, accuracy = 0.7947\n",
            "Epoch = 75/100, loss = 0.0984, accuracy = 0.7873\n",
            "Epoch = 80/100, loss = 0.0935, accuracy = 0.7966\n",
            "Epoch = 85/100, loss = 0.0898, accuracy = 0.8080\n",
            "Epoch = 90/100, loss = 0.0877, accuracy = 0.8138\n",
            "Epoch = 95/100, loss = 0.0852, accuracy = 0.8166\n",
            "Epoch = 100/100, loss = 0.0829, accuracy = 0.8252\n"
          ],
          "name": "stdout"
        }
      ]
    },
    {
      "cell_type": "code",
      "metadata": {
        "id": "SsIaY2_tqeQs"
      },
      "source": [
        "import sklearn\n",
        "from sklearn.metrics import accuracy_score,hamming_loss,precision_score,recall_score,f1_score,classification_report"
      ],
      "execution_count": 303,
      "outputs": []
    },
    {
      "cell_type": "code",
      "metadata": {
        "id": "6ShoaD15pxIQ"
      },
      "source": [
        "def calculate_metrics(pred, target,target_names, threshold=0.5):\n",
        "  pred = np.array(pred > threshold, dtype=\"float32\")\n",
        "  # print(classification_report(target,pred,target_names=target_names))\n",
        "  return {'micro/precision': precision_score(y_true=target, y_pred=pred, average='micro'),\n",
        "            'micro/recall': recall_score(y_true=target, y_pred=pred, average='micro'),\n",
        "            'micro/f1': f1_score(y_true=target, y_pred=pred, average='micro'),\n",
        "            'macro/f1': f1_score(y_true=target, y_pred=pred, average='macro'),\n",
        "            'samples/f1': f1_score(y_true=target, y_pred=pred, average='samples'),\n",
        "             }\n"
      ],
      "execution_count": 304,
      "outputs": []
    },
    {
      "cell_type": "code",
      "metadata": {
        "id": "c7w5dE3paXdj"
      },
      "source": [
        ""
      ],
      "execution_count": 304,
      "outputs": []
    },
    {
      "cell_type": "code",
      "metadata": {
        "id": "e9f-TUVargcX"
      },
      "source": [
        "test_sampler=SubsetRandomSampler(test_indices)\n",
        "cnn_test_loader=DataLoader(dataset,batch_size,sampler=test_sampler)"
      ],
      "execution_count": 305,
      "outputs": []
    },
    {
      "cell_type": "code",
      "metadata": {
        "colab": {
          "base_uri": "https://localhost:8080/"
        },
        "id": "G558XifUtC1e",
        "outputId": "4a6553c3-c136-44e6-b634-67c4653eda4e"
      },
      "source": [
        "modelcnn.eval()\n",
        "with torch.no_grad():\n",
        "  model_result = []\n",
        "  targets = []\n",
        "  for x_test, batch_targets in cnn_test_loader:\n",
        "    x_test = x_test.to(device)\n",
        "    model_batch_result = modelcnn(x_test)\n",
        "    model_result.extend(model_batch_result.cpu().numpy())\n",
        "    targets.extend(batch_targets.cpu().numpy())\n",
        "  result = calculate_metrics(np.array(model_result), np.array(targets),frequent_icd9category)\n",
        "  print(\" micro_precision:{:.2f} micro_recall:{:.2f} micro f1: {:.2f} macro/f1:{:.2f}\".format(result['micro/precision'],result['micro/recall'],result['micro/f1'],result['macro/f1']))"
      ],
      "execution_count": 306,
      "outputs": [
        {
          "output_type": "stream",
          "text": [
            " micro_precision:0.36 micro_recall:0.33 micro f1: 0.34 macro/f1:0.33\n"
          ],
          "name": "stdout"
        }
      ]
    },
    {
      "cell_type": "code",
      "metadata": {
        "colab": {
          "base_uri": "https://localhost:8080/"
        },
        "id": "-Sh_mg28ZP9J",
        "outputId": "f74593a4-d29f-4cd5-c846-86eb72eb3757"
      },
      "source": [
        "np.array(np.array(model_result)>0.5,dtype=\"float32\")"
      ],
      "execution_count": 307,
      "outputs": [
        {
          "output_type": "execute_result",
          "data": {
            "text/plain": [
              "array([[1., 0., 0., ..., 0., 0., 0.],\n",
              "       [0., 0., 0., ..., 0., 0., 0.],\n",
              "       [1., 1., 0., ..., 0., 0., 0.],\n",
              "       ...,\n",
              "       [0., 1., 0., ..., 0., 1., 0.],\n",
              "       [1., 0., 0., ..., 1., 1., 0.],\n",
              "       [1., 0., 0., ..., 1., 0., 0.]], dtype=float32)"
            ]
          },
          "metadata": {
            "tags": []
          },
          "execution_count": 307
        }
      ]
    },
    {
      "cell_type": "code",
      "metadata": {
        "colab": {
          "base_uri": "https://localhost:8080/"
        },
        "id": "e39P3zSpkeZs",
        "outputId": "8a8b4057-3984-4db2-e028-a7771c8bcc8b"
      },
      "source": [
        "print(np.array(targets)[1].tolist())"
      ],
      "execution_count": 308,
      "outputs": [
        {
          "output_type": "stream",
          "text": [
            "[1.0, 1.0, 0.0, 0.0, 0.0, 1.0, 0.0, 0.0, 0.0, 0.0]\n"
          ],
          "name": "stdout"
        }
      ]
    },
    {
      "cell_type": "code",
      "metadata": {
        "colab": {
          "base_uri": "https://localhost:8080/"
        },
        "id": "v2kkrAg6bRDi",
        "outputId": "59a331c2-cac8-4ea9-86af-00e78bcb992a"
      },
      "source": [
        "for i in np.array(targets):\r\n",
        "  print(i)\r\n",
        "  break"
      ],
      "execution_count": 309,
      "outputs": [
        {
          "output_type": "stream",
          "text": [
            "[1. 1. 0. 1. 1. 0. 0. 0. 0. 0.]\n"
          ],
          "name": "stdout"
        }
      ]
    },
    {
      "cell_type": "code",
      "metadata": {
        "colab": {
          "base_uri": "https://localhost:8080/"
        },
        "id": "gnErPZrDcN0y",
        "outputId": "48ed61eb-dd34-4b14-bc8e-f92994b5813d"
      },
      "source": [
        "calculate_metrics(np.array(model_result), np.array(targets),frequent_icd9category)"
      ],
      "execution_count": 310,
      "outputs": [
        {
          "output_type": "execute_result",
          "data": {
            "text/plain": [
              "{'macro/f1': 0.3309251678658802,\n",
              " 'micro/f1': 0.3434063032753496,\n",
              " 'micro/precision': 0.35634667167637296,\n",
              " 'micro/recall': 0.3313728344737225,\n",
              " 'samples/f1': 0.2995670157833619}"
            ]
          },
          "metadata": {
            "tags": []
          },
          "execution_count": 310
        }
      ]
    },
    {
      "cell_type": "code",
      "metadata": {
        "id": "02HxTvpHjixv"
      },
      "source": [
        "#diagnosis_text_code.to_csv(r'/content/drive/My Drive/AlgoIntern/Data/diagnosis_text_code.csv',index=False)"
      ],
      "execution_count": null,
      "outputs": []
    },
    {
      "cell_type": "markdown",
      "metadata": {
        "id": "mSfYYSb75Hpq"
      },
      "source": [
        "## Word Embedding"
      ]
    },
    {
      "cell_type": "code",
      "metadata": {
        "colab": {
          "base_uri": "https://localhost:8080/"
        },
        "id": "8IeqGxU3w-1P",
        "outputId": "ec6ff989-ea0c-4004-da16-8aeeca3bab5c"
      },
      "source": [
        "import nltk\n",
        "import string\n",
        "nltk.download('punkt')\n",
        "nltk.download('stopwords')\n",
        "nltk.download('wordnet')\n",
        "from nltk import sent_tokenize, word_tokenize\n",
        "from nltk.stem import WordNetLemmatizer\n",
        "from nltk.corpus import stopwords\n",
        "stop_words = set(stopwords.words('english')).union(set(string.punctuation)).union(set(list(range(10)))) # stopwords + punctuation+ numbers"
      ],
      "execution_count": null,
      "outputs": [
        {
          "output_type": "stream",
          "text": [
            "[nltk_data] Downloading package punkt to /root/nltk_data...\n",
            "[nltk_data]   Unzipping tokenizers/punkt.zip.\n",
            "[nltk_data] Downloading package stopwords to /root/nltk_data...\n",
            "[nltk_data]   Unzipping corpora/stopwords.zip.\n",
            "[nltk_data] Downloading package wordnet to /root/nltk_data...\n",
            "[nltk_data]   Unzipping corpora/wordnet.zip.\n"
          ],
          "name": "stdout"
        }
      ]
    },
    {
      "cell_type": "code",
      "metadata": {
        "id": "bMqB_04NiWXN"
      },
      "source": [
        "def preprocessing(text):\n",
        "  words=word_tokenize(text)\n",
        "  filtered_sentence = [] \n",
        "  # remove stopwords\n",
        "  for word in words: \n",
        "    if word not in stop_words: \n",
        "        filtered_sentence.append(word) \n",
        "  \n",
        "  # lemmatize\n",
        "  lemma_word = []\n",
        "  wordnet_lemmatizer = WordNetLemmatizer()\n",
        "  for w in filtered_sentence:\n",
        "    word1 = wordnet_lemmatizer.lemmatize(w, pos = \"n\")\n",
        "    word2 = wordnet_lemmatizer.lemmatize(word1, pos = \"v\")\n",
        "    word3 = wordnet_lemmatizer.lemmatize(word2, pos = (\"a\"))\n",
        "    lemma_word.append(word3)\n",
        "  return lemma_word\n",
        "\n"
      ],
      "execution_count": null,
      "outputs": []
    },
    {
      "cell_type": "code",
      "metadata": {
        "id": "khSvb-b0AYaZ"
      },
      "source": [
        "top10_icd9category=['401', '427', '276', '272', '250', '414', '428', '518', '285', '584']"
      ],
      "execution_count": null,
      "outputs": []
    },
    {
      "cell_type": "code",
      "metadata": {
        "id": "6jH0NT7FAbr6"
      },
      "source": [
        "def labeltarget(x):\r\n",
        "  target=np.zeros(10,dtype=\"float32\")\r\n",
        "  for index,code in enumerate(top10_icd9category):\r\n",
        "    if code in x :\r\n",
        "      target[index]=1\r\n",
        "  return target"
      ],
      "execution_count": null,
      "outputs": []
    },
    {
      "cell_type": "code",
      "metadata": {
        "colab": {
          "base_uri": "https://localhost:8080/",
          "height": 983
        },
        "id": "mUVN4oHB7QWQ",
        "outputId": "7d5d6be4-a962-41a2-f8c1-c1b7035fa25c"
      },
      "source": [
        "diagnosis"
      ],
      "execution_count": null,
      "outputs": [
        {
          "output_type": "execute_result",
          "data": {
            "text/html": [
              "<div>\n",
              "<style scoped>\n",
              "    .dataframe tbody tr th:only-of-type {\n",
              "        vertical-align: middle;\n",
              "    }\n",
              "\n",
              "    .dataframe tbody tr th {\n",
              "        vertical-align: top;\n",
              "    }\n",
              "\n",
              "    .dataframe thead th {\n",
              "        text-align: right;\n",
              "    }\n",
              "</style>\n",
              "<table border=\"1\" class=\"dataframe\">\n",
              "  <thead>\n",
              "    <tr style=\"text-align: right;\">\n",
              "      <th></th>\n",
              "      <th>HADM_ID</th>\n",
              "      <th>CATEGORY</th>\n",
              "      <th>description</th>\n",
              "      <th>discharge diagnosis:</th>\n",
              "      <th>ICD9_CODE</th>\n",
              "      <th>ICD10</th>\n",
              "      <th>ICD9_CODE_list</th>\n",
              "      <th>ICD9_CATEGORY_list</th>\n",
              "    </tr>\n",
              "  </thead>\n",
              "  <tbody>\n",
              "    <tr>\n",
              "      <th>0</th>\n",
              "      <td>100001.0</td>\n",
              "      <td>Discharge summary</td>\n",
              "      <td>{'Report': 1}</td>\n",
              "      <td>osteomyelitis bleeding duodenal ulcer heart fa...</td>\n",
              "      <td>25013,3371,5849,5780,V5867,25063,5363,4580,250...</td>\n",
              "      <td>Misc,Misc,N179,Misc,Z794,Misc,Misc,Misc,Misc,I...</td>\n",
              "      <td>[5853, 3371, V5867, 25053, 36201, 5849, 5780, ...</td>\n",
              "      <td>[250, 585, 584, V58, 458, V13, 403, 362, 707, ...</td>\n",
              "    </tr>\n",
              "    <tr>\n",
              "      <th>1</th>\n",
              "      <td>100009.0</td>\n",
              "      <td>Discharge summary</td>\n",
              "      <td>{'Report': 1}</td>\n",
              "      <td>r subdural hematoma, right mca stroke</td>\n",
              "      <td>41401,99604,4142,25000,27800,V8535,4148,4111,V...</td>\n",
              "      <td>I2510,Misc,Misc,E119,E669,Misc,Misc,I200,Z9861...</td>\n",
              "      <td>[25000, 4142, 44021, 4148, 99604, V1582, V4582...</td>\n",
              "      <td>[440, 250, 285, 278, V58, V85, 996, V45, 272, ...</td>\n",
              "    </tr>\n",
              "    <tr>\n",
              "      <th>2</th>\n",
              "      <td>100010.0</td>\n",
              "      <td>Discharge summary</td>\n",
              "      <td>{'Report': 1}</td>\n",
              "      <td>type a aortic dissection s/p replacement of as...</td>\n",
              "      <td>1890,1961,1987,1976,27652</td>\n",
              "      <td>Misc,Misc,Misc,Misc,E861</td>\n",
              "      <td>[1987, 27652, 1890, 1961, 1976]</td>\n",
              "      <td>[196, 189, 276, 198, 197]</td>\n",
              "    </tr>\n",
              "    <tr>\n",
              "      <th>3</th>\n",
              "      <td>100011.0</td>\n",
              "      <td>Discharge summary</td>\n",
              "      <td>{'Report': 1}</td>\n",
              "      <td>primary diagnosis s/p pedestrian struck by car...</td>\n",
              "      <td>85206,82111,86403,48242,8600,2851,86121,80703,...</td>\n",
              "      <td>Misc,Misc,Misc,Misc,Misc,D62,Misc,Misc,Misc,Mi...</td>\n",
              "      <td>[82111, 85206, 48242, 80703, 8052, 8600, 86403...</td>\n",
              "      <td>[285, 864, E81, 861, 805, 807, 852, 821, 305, ...</td>\n",
              "    </tr>\n",
              "    <tr>\n",
              "      <th>4</th>\n",
              "      <td>100016.0</td>\n",
              "      <td>Discharge summary</td>\n",
              "      <td>{'Report': 1}</td>\n",
              "      <td>atrial fibrillation with rapid ventricular res...</td>\n",
              "      <td>5070,51881,51881,25541,47874,7580,34590,2512,4...</td>\n",
              "      <td>J690,J9600,J9690,Misc,Misc,Misc,Misc,Misc,I952...</td>\n",
              "      <td>[5368, 34590, V441, 25541, 51881, 47874, 5070,...</td>\n",
              "      <td>[251, 458, 478, 345, 507, 758, 255, 518, V44, ...</td>\n",
              "    </tr>\n",
              "    <tr>\n",
              "      <th>...</th>\n",
              "      <td>...</td>\n",
              "      <td>...</td>\n",
              "      <td>...</td>\n",
              "      <td>...</td>\n",
              "      <td>...</td>\n",
              "      <td>...</td>\n",
              "      <td>...</td>\n",
              "      <td>...</td>\n",
              "    </tr>\n",
              "    <tr>\n",
              "      <th>40473</th>\n",
              "      <td>199987.0</td>\n",
              "      <td>Discharge summary</td>\n",
              "      <td>{'Report': 1}</td>\n",
              "      <td>s/p motor vehicle crash injuries: multiple lef...</td>\n",
              "      <td>8080,8604,80709,5180,5180,8082,8056,9190,E8120</td>\n",
              "      <td>Misc,Misc,Misc,J9811,J9819,Misc,Misc,Misc,Misc</td>\n",
              "      <td>[80709, 5180, 8082, 8604, 8056, 9190, 8080, E8...</td>\n",
              "      <td>[E81, 805, 807, 808, 518, 860, 919]</td>\n",
              "    </tr>\n",
              "    <tr>\n",
              "      <th>40474</th>\n",
              "      <td>199988.0</td>\n",
              "      <td>Discharge summary</td>\n",
              "      <td>{'Report': 1}</td>\n",
              "      <td>1. rectal cancer. 2. status post proctocolecto...</td>\n",
              "      <td>1541,99859,9974,5672,0389,5609,7070,E8792,2720</td>\n",
              "      <td>Misc,Misc,Misc,Misc,A419,Misc,Misc,Misc,E780</td>\n",
              "      <td>[1541, 0389, 5609, E8792, 99859, 2720, 9974, 5...</td>\n",
              "      <td>[560, 998, 272, E87, 038, 707, 154, 997, 567]</td>\n",
              "    </tr>\n",
              "    <tr>\n",
              "      <th>40475</th>\n",
              "      <td>199992.0</td>\n",
              "      <td>Discharge summary</td>\n",
              "      <td>{'Report': 1}</td>\n",
              "      <td>junctional bradycardia chronic diastolic conge...</td>\n",
              "      <td>42789,42789,5070,5849,2760,1120,2449,0539,3272...</td>\n",
              "      <td>I498,R001,J690,N179,E870,Misc,E039,Misc,G4733,...</td>\n",
              "      <td>[2449, 42789, E9363, 78720, E9394, 5849, 56400...</td>\n",
              "      <td>[285, 584, 112, 276, 053, 507, 327, 244, E93, ...</td>\n",
              "    </tr>\n",
              "    <tr>\n",
              "      <th>40476</th>\n",
              "      <td>199998.0</td>\n",
              "      <td>Discharge summary</td>\n",
              "      <td>{'Report': 1}</td>\n",
              "      <td>deceased. gastrointestinal stromal tumor. fulm...</td>\n",
              "      <td>41401,9971,9971,9971,9971,9975,42731,78820,411...</td>\n",
              "      <td>I2510,I97710,I97790,I9788,I9789,Misc,I4891,Mis...</td>\n",
              "      <td>[V4589, V4582, 9971, 4111, 2724, 4400, 78820, ...</td>\n",
              "      <td>[440, 443, 272, V45, E87, 429, 518, 997, 788, ...</td>\n",
              "    </tr>\n",
              "    <tr>\n",
              "      <th>40477</th>\n",
              "      <td>199999.0</td>\n",
              "      <td>Discharge summary</td>\n",
              "      <td>{'Report': 1}</td>\n",
              "      <td>primary: legionella pneumonia left pleural eff...</td>\n",
              "      <td>48284,51881,51881,5119,5849,2761,78606,79902,4...</td>\n",
              "      <td>Misc,J9600,J9690,J918,N179,E871,Misc,R0902,I25...</td>\n",
              "      <td>[28529, 79902, V4582, 5849, 2761, 51881, 78606...</td>\n",
              "      <td>[285, 584, V49, 799, 276, 786, V45, 511, 429, ...</td>\n",
              "    </tr>\n",
              "  </tbody>\n",
              "</table>\n",
              "<p>40478 rows × 8 columns</p>\n",
              "</div>"
            ],
            "text/plain": [
              "        HADM_ID  ...                                 ICD9_CATEGORY_list\n",
              "0      100001.0  ...  [250, 585, 584, V58, 458, V13, 403, 362, 707, ...\n",
              "1      100009.0  ...  [440, 250, 285, 278, V58, V85, 996, V45, 272, ...\n",
              "2      100010.0  ...                          [196, 189, 276, 198, 197]\n",
              "3      100011.0  ...  [285, 864, E81, 861, 805, 807, 852, 821, 305, ...\n",
              "4      100016.0  ...  [251, 458, 478, 345, 507, 758, 255, 518, V44, ...\n",
              "...         ...  ...                                                ...\n",
              "40473  199987.0  ...                [E81, 805, 807, 808, 518, 860, 919]\n",
              "40474  199988.0  ...      [560, 998, 272, E87, 038, 707, 154, 997, 567]\n",
              "40475  199992.0  ...  [285, 584, 112, 276, 053, 507, 327, 244, E93, ...\n",
              "40476  199998.0  ...  [440, 443, 272, V45, E87, 429, 518, 997, 788, ...\n",
              "40477  199999.0  ...  [285, 584, V49, 799, 276, 786, V45, 511, 429, ...\n",
              "\n",
              "[40478 rows x 8 columns]"
            ]
          },
          "metadata": {
            "tags": []
          },
          "execution_count": 17
        }
      ]
    },
    {
      "cell_type": "code",
      "metadata": {
        "id": "RSax6xgX7YzR"
      },
      "source": [
        "diagnosis_rnn=diagnosis[['discharge diagnosis:','ICD9_CATEGORY_list']]"
      ],
      "execution_count": null,
      "outputs": []
    },
    {
      "cell_type": "code",
      "metadata": {
        "colab": {
          "base_uri": "https://localhost:8080/",
          "height": 168,
          "referenced_widgets": [
            "6908007259e1418bb9704aa7ca9823b0",
            "0f6764b5ff50400987b45d176a82cc03",
            "6422641758044658adbee17d1096937d",
            "4ac05728e1534c5d8ffb605e4a9ab0fc",
            "37ccb0a3ae6a465095eb5a1b5ce40df9",
            "15779951a73d410ca4fb85099d24317e",
            "8f08104f361e4adcab55e902e5350cd1",
            "06022840ce904018b3ed2c1a95ba9381"
          ]
        },
        "id": "4YQYHUfYm_y8",
        "outputId": "2ffec375-0e26-46e4-cef6-8c79d4b379a9"
      },
      "source": [
        "diagnosis_rnn['tokenized']=diagnosis_rnn['discharge diagnosis:'].progress_apply(preprocessing)"
      ],
      "execution_count": null,
      "outputs": [
        {
          "output_type": "display_data",
          "data": {
            "application/vnd.jupyter.widget-view+json": {
              "model_id": "6908007259e1418bb9704aa7ca9823b0",
              "version_minor": 0,
              "version_major": 2
            },
            "text/plain": [
              "HBox(children=(FloatProgress(value=0.0, max=40478.0), HTML(value='')))"
            ]
          },
          "metadata": {
            "tags": []
          }
        },
        {
          "output_type": "stream",
          "text": [
            "\n"
          ],
          "name": "stdout"
        },
        {
          "output_type": "stream",
          "text": [
            "/usr/local/lib/python3.6/dist-packages/ipykernel_launcher.py:1: SettingWithCopyWarning: \n",
            "A value is trying to be set on a copy of a slice from a DataFrame.\n",
            "Try using .loc[row_indexer,col_indexer] = value instead\n",
            "\n",
            "See the caveats in the documentation: https://pandas.pydata.org/pandas-docs/stable/user_guide/indexing.html#returning-a-view-versus-a-copy\n",
            "  \"\"\"Entry point for launching an IPython kernel.\n"
          ],
          "name": "stderr"
        }
      ]
    },
    {
      "cell_type": "code",
      "metadata": {
        "colab": {
          "base_uri": "https://localhost:8080/",
          "height": 419
        },
        "id": "3jNnpLTLPhaV",
        "outputId": "aa8ec7ff-2ee4-41b6-83f9-b9799b362773"
      },
      "source": [
        "diagnosis_rnn"
      ],
      "execution_count": null,
      "outputs": [
        {
          "output_type": "execute_result",
          "data": {
            "text/html": [
              "<div>\n",
              "<style scoped>\n",
              "    .dataframe tbody tr th:only-of-type {\n",
              "        vertical-align: middle;\n",
              "    }\n",
              "\n",
              "    .dataframe tbody tr th {\n",
              "        vertical-align: top;\n",
              "    }\n",
              "\n",
              "    .dataframe thead th {\n",
              "        text-align: right;\n",
              "    }\n",
              "</style>\n",
              "<table border=\"1\" class=\"dataframe\">\n",
              "  <thead>\n",
              "    <tr style=\"text-align: right;\">\n",
              "      <th></th>\n",
              "      <th>discharge diagnosis:</th>\n",
              "      <th>ICD9_CATEGORY_list</th>\n",
              "      <th>tokenized</th>\n",
              "    </tr>\n",
              "  </thead>\n",
              "  <tbody>\n",
              "    <tr>\n",
              "      <th>0</th>\n",
              "      <td>osteomyelitis bleeding duodenal ulcer heart fa...</td>\n",
              "      <td>[250, 585, 584, V58, 458, V13, 403, 362, 707, ...</td>\n",
              "      <td>[osteomyelitis, bleed, duodenal, ulcer, heart,...</td>\n",
              "    </tr>\n",
              "    <tr>\n",
              "      <th>1</th>\n",
              "      <td>r subdural hematoma, right mca stroke</td>\n",
              "      <td>[440, 250, 285, 278, V58, V85, 996, V45, 272, ...</td>\n",
              "      <td>[r, subdural, hematoma, right, mca, stroke]</td>\n",
              "    </tr>\n",
              "    <tr>\n",
              "      <th>2</th>\n",
              "      <td>type a aortic dissection s/p replacement of as...</td>\n",
              "      <td>[196, 189, 276, 198, 197]</td>\n",
              "      <td>[type, aortic, dissection, s/p, replacement, a...</td>\n",
              "    </tr>\n",
              "    <tr>\n",
              "      <th>3</th>\n",
              "      <td>primary diagnosis s/p pedestrian struck by car...</td>\n",
              "      <td>[285, 864, E81, 861, 805, 807, 852, 821, 305, ...</td>\n",
              "      <td>[primary, diagnosis, s/p, pedestrian, strike, ...</td>\n",
              "    </tr>\n",
              "    <tr>\n",
              "      <th>4</th>\n",
              "      <td>atrial fibrillation with rapid ventricular res...</td>\n",
              "      <td>[251, 458, 478, 345, 507, 758, 255, 518, V44, ...</td>\n",
              "      <td>[atrial, fibrillation, rapid, ventricular, res...</td>\n",
              "    </tr>\n",
              "    <tr>\n",
              "      <th>...</th>\n",
              "      <td>...</td>\n",
              "      <td>...</td>\n",
              "      <td>...</td>\n",
              "    </tr>\n",
              "    <tr>\n",
              "      <th>40473</th>\n",
              "      <td>s/p motor vehicle crash injuries: multiple lef...</td>\n",
              "      <td>[E81, 805, 807, 808, 518, 860, 919]</td>\n",
              "      <td>[s/p, motor, vehicle, crash, injury, multiple,...</td>\n",
              "    </tr>\n",
              "    <tr>\n",
              "      <th>40474</th>\n",
              "      <td>1. rectal cancer. 2. status post proctocolecto...</td>\n",
              "      <td>[560, 998, 272, E87, 038, 707, 154, 997, 567]</td>\n",
              "      <td>[1., rectal, cancer, 2., status, post, proctoc...</td>\n",
              "    </tr>\n",
              "    <tr>\n",
              "      <th>40475</th>\n",
              "      <td>junctional bradycardia chronic diastolic conge...</td>\n",
              "      <td>[285, 584, 112, 276, 053, 507, 327, 244, E93, ...</td>\n",
              "      <td>[junctional, bradycardia, chronic, diastolic, ...</td>\n",
              "    </tr>\n",
              "    <tr>\n",
              "      <th>40476</th>\n",
              "      <td>deceased. gastrointestinal stromal tumor. fulm...</td>\n",
              "      <td>[440, 443, 272, V45, E87, 429, 518, 997, 788, ...</td>\n",
              "      <td>[decease, gastrointestinal, stromal, tumor, fu...</td>\n",
              "    </tr>\n",
              "    <tr>\n",
              "      <th>40477</th>\n",
              "      <td>primary: legionella pneumonia left pleural eff...</td>\n",
              "      <td>[285, 584, V49, 799, 276, 786, V45, 511, 429, ...</td>\n",
              "      <td>[primary, legionella, pneumonia, leave, pleura...</td>\n",
              "    </tr>\n",
              "  </tbody>\n",
              "</table>\n",
              "<p>40478 rows × 3 columns</p>\n",
              "</div>"
            ],
            "text/plain": [
              "                                    discharge diagnosis:  ...                                          tokenized\n",
              "0      osteomyelitis bleeding duodenal ulcer heart fa...  ...  [osteomyelitis, bleed, duodenal, ulcer, heart,...\n",
              "1                  r subdural hematoma, right mca stroke  ...        [r, subdural, hematoma, right, mca, stroke]\n",
              "2      type a aortic dissection s/p replacement of as...  ...  [type, aortic, dissection, s/p, replacement, a...\n",
              "3      primary diagnosis s/p pedestrian struck by car...  ...  [primary, diagnosis, s/p, pedestrian, strike, ...\n",
              "4      atrial fibrillation with rapid ventricular res...  ...  [atrial, fibrillation, rapid, ventricular, res...\n",
              "...                                                  ...  ...                                                ...\n",
              "40473  s/p motor vehicle crash injuries: multiple lef...  ...  [s/p, motor, vehicle, crash, injury, multiple,...\n",
              "40474  1. rectal cancer. 2. status post proctocolecto...  ...  [1., rectal, cancer, 2., status, post, proctoc...\n",
              "40475  junctional bradycardia chronic diastolic conge...  ...  [junctional, bradycardia, chronic, diastolic, ...\n",
              "40476  deceased. gastrointestinal stromal tumor. fulm...  ...  [decease, gastrointestinal, stromal, tumor, fu...\n",
              "40477  primary: legionella pneumonia left pleural eff...  ...  [primary, legionella, pneumonia, leave, pleura...\n",
              "\n",
              "[40478 rows x 3 columns]"
            ]
          },
          "metadata": {
            "tags": []
          },
          "execution_count": 20
        }
      ]
    },
    {
      "cell_type": "code",
      "metadata": {
        "colab": {
          "base_uri": "https://localhost:8080/"
        },
        "id": "hyjCjEx1ArYI",
        "outputId": "7dcf2030-ca5a-46f4-8e20-513f13756d4e"
      },
      "source": [
        "diagnosis_rnn['target']=diagnosis_rnn['ICD9_CATEGORY_list'].apply(labeltarget)"
      ],
      "execution_count": null,
      "outputs": [
        {
          "output_type": "stream",
          "text": [
            "/usr/local/lib/python3.6/dist-packages/ipykernel_launcher.py:1: SettingWithCopyWarning: \n",
            "A value is trying to be set on a copy of a slice from a DataFrame.\n",
            "Try using .loc[row_indexer,col_indexer] = value instead\n",
            "\n",
            "See the caveats in the documentation: https://pandas.pydata.org/pandas-docs/stable/user_guide/indexing.html#returning-a-view-versus-a-copy\n",
            "  \"\"\"Entry point for launching an IPython kernel.\n"
          ],
          "name": "stderr"
        }
      ]
    },
    {
      "cell_type": "code",
      "metadata": {
        "colab": {
          "base_uri": "https://localhost:8080/",
          "height": 589
        },
        "id": "g5fuKgXIBCc6",
        "outputId": "cccaa67f-2877-4a89-f9d9-a2af3b881744"
      },
      "source": [
        "diagnosis_rnn"
      ],
      "execution_count": null,
      "outputs": [
        {
          "output_type": "execute_result",
          "data": {
            "text/html": [
              "<div>\n",
              "<style scoped>\n",
              "    .dataframe tbody tr th:only-of-type {\n",
              "        vertical-align: middle;\n",
              "    }\n",
              "\n",
              "    .dataframe tbody tr th {\n",
              "        vertical-align: top;\n",
              "    }\n",
              "\n",
              "    .dataframe thead th {\n",
              "        text-align: right;\n",
              "    }\n",
              "</style>\n",
              "<table border=\"1\" class=\"dataframe\">\n",
              "  <thead>\n",
              "    <tr style=\"text-align: right;\">\n",
              "      <th></th>\n",
              "      <th>discharge diagnosis:</th>\n",
              "      <th>ICD9_CATEGORY_list</th>\n",
              "      <th>tokenized</th>\n",
              "      <th>target</th>\n",
              "    </tr>\n",
              "  </thead>\n",
              "  <tbody>\n",
              "    <tr>\n",
              "      <th>0</th>\n",
              "      <td>osteomyelitis bleeding duodenal ulcer heart fa...</td>\n",
              "      <td>[250, 585, 584, V58, 458, V13, 403, 362, 707, ...</td>\n",
              "      <td>[osteomyelitis, bleed, duodenal, ulcer, heart,...</td>\n",
              "      <td>[0.0, 0.0, 0.0, 0.0, 1.0, 0.0, 0.0, 0.0, 0.0, ...</td>\n",
              "    </tr>\n",
              "    <tr>\n",
              "      <th>1</th>\n",
              "      <td>r subdural hematoma, right mca stroke</td>\n",
              "      <td>[440, 250, 285, 278, V58, V85, 996, V45, 272, ...</td>\n",
              "      <td>[r, subdural, hematoma, right, mca, stroke]</td>\n",
              "      <td>[1.0, 0.0, 0.0, 1.0, 1.0, 1.0, 0.0, 0.0, 1.0, ...</td>\n",
              "    </tr>\n",
              "    <tr>\n",
              "      <th>2</th>\n",
              "      <td>type a aortic dissection s/p replacement of as...</td>\n",
              "      <td>[196, 189, 276, 198, 197]</td>\n",
              "      <td>[type, aortic, dissection, s/p, replacement, a...</td>\n",
              "      <td>[0.0, 0.0, 1.0, 0.0, 0.0, 0.0, 0.0, 0.0, 0.0, ...</td>\n",
              "    </tr>\n",
              "    <tr>\n",
              "      <th>3</th>\n",
              "      <td>primary diagnosis s/p pedestrian struck by car...</td>\n",
              "      <td>[285, 864, E81, 861, 805, 807, 852, 821, 305, ...</td>\n",
              "      <td>[primary, diagnosis, s/p, pedestrian, strike, ...</td>\n",
              "      <td>[0.0, 0.0, 0.0, 0.0, 0.0, 0.0, 0.0, 0.0, 1.0, ...</td>\n",
              "    </tr>\n",
              "    <tr>\n",
              "      <th>4</th>\n",
              "      <td>atrial fibrillation with rapid ventricular res...</td>\n",
              "      <td>[251, 458, 478, 345, 507, 758, 255, 518, V44, ...</td>\n",
              "      <td>[atrial, fibrillation, rapid, ventricular, res...</td>\n",
              "      <td>[0.0, 0.0, 0.0, 0.0, 0.0, 0.0, 0.0, 1.0, 0.0, ...</td>\n",
              "    </tr>\n",
              "    <tr>\n",
              "      <th>...</th>\n",
              "      <td>...</td>\n",
              "      <td>...</td>\n",
              "      <td>...</td>\n",
              "      <td>...</td>\n",
              "    </tr>\n",
              "    <tr>\n",
              "      <th>40473</th>\n",
              "      <td>s/p motor vehicle crash injuries: multiple lef...</td>\n",
              "      <td>[E81, 805, 807, 808, 518, 860, 919]</td>\n",
              "      <td>[s/p, motor, vehicle, crash, injury, multiple,...</td>\n",
              "      <td>[0.0, 0.0, 0.0, 0.0, 0.0, 0.0, 0.0, 1.0, 0.0, ...</td>\n",
              "    </tr>\n",
              "    <tr>\n",
              "      <th>40474</th>\n",
              "      <td>1. rectal cancer. 2. status post proctocolecto...</td>\n",
              "      <td>[560, 998, 272, E87, 038, 707, 154, 997, 567]</td>\n",
              "      <td>[1., rectal, cancer, 2., status, post, proctoc...</td>\n",
              "      <td>[0.0, 0.0, 0.0, 1.0, 0.0, 0.0, 0.0, 0.0, 0.0, ...</td>\n",
              "    </tr>\n",
              "    <tr>\n",
              "      <th>40475</th>\n",
              "      <td>junctional bradycardia chronic diastolic conge...</td>\n",
              "      <td>[285, 584, 112, 276, 053, 507, 327, 244, E93, ...</td>\n",
              "      <td>[junctional, bradycardia, chronic, diastolic, ...</td>\n",
              "      <td>[0.0, 1.0, 1.0, 0.0, 0.0, 0.0, 0.0, 0.0, 1.0, ...</td>\n",
              "    </tr>\n",
              "    <tr>\n",
              "      <th>40476</th>\n",
              "      <td>deceased. gastrointestinal stromal tumor. fulm...</td>\n",
              "      <td>[440, 443, 272, V45, E87, 429, 518, 997, 788, ...</td>\n",
              "      <td>[decease, gastrointestinal, stromal, tumor, fu...</td>\n",
              "      <td>[1.0, 1.0, 0.0, 1.0, 0.0, 1.0, 0.0, 1.0, 0.0, ...</td>\n",
              "    </tr>\n",
              "    <tr>\n",
              "      <th>40477</th>\n",
              "      <td>primary: legionella pneumonia left pleural eff...</td>\n",
              "      <td>[285, 584, V49, 799, 276, 786, V45, 511, 429, ...</td>\n",
              "      <td>[primary, legionella, pneumonia, leave, pleura...</td>\n",
              "      <td>[0.0, 0.0, 1.0, 0.0, 0.0, 1.0, 0.0, 1.0, 1.0, ...</td>\n",
              "    </tr>\n",
              "  </tbody>\n",
              "</table>\n",
              "<p>40478 rows × 4 columns</p>\n",
              "</div>"
            ],
            "text/plain": [
              "                                    discharge diagnosis:  ...                                             target\n",
              "0      osteomyelitis bleeding duodenal ulcer heart fa...  ...  [0.0, 0.0, 0.0, 0.0, 1.0, 0.0, 0.0, 0.0, 0.0, ...\n",
              "1                  r subdural hematoma, right mca stroke  ...  [1.0, 0.0, 0.0, 1.0, 1.0, 1.0, 0.0, 0.0, 1.0, ...\n",
              "2      type a aortic dissection s/p replacement of as...  ...  [0.0, 0.0, 1.0, 0.0, 0.0, 0.0, 0.0, 0.0, 0.0, ...\n",
              "3      primary diagnosis s/p pedestrian struck by car...  ...  [0.0, 0.0, 0.0, 0.0, 0.0, 0.0, 0.0, 0.0, 1.0, ...\n",
              "4      atrial fibrillation with rapid ventricular res...  ...  [0.0, 0.0, 0.0, 0.0, 0.0, 0.0, 0.0, 1.0, 0.0, ...\n",
              "...                                                  ...  ...                                                ...\n",
              "40473  s/p motor vehicle crash injuries: multiple lef...  ...  [0.0, 0.0, 0.0, 0.0, 0.0, 0.0, 0.0, 1.0, 0.0, ...\n",
              "40474  1. rectal cancer. 2. status post proctocolecto...  ...  [0.0, 0.0, 0.0, 1.0, 0.0, 0.0, 0.0, 0.0, 0.0, ...\n",
              "40475  junctional bradycardia chronic diastolic conge...  ...  [0.0, 1.0, 1.0, 0.0, 0.0, 0.0, 0.0, 0.0, 1.0, ...\n",
              "40476  deceased. gastrointestinal stromal tumor. fulm...  ...  [1.0, 1.0, 0.0, 1.0, 0.0, 1.0, 0.0, 1.0, 0.0, ...\n",
              "40477  primary: legionella pneumonia left pleural eff...  ...  [0.0, 0.0, 1.0, 0.0, 0.0, 1.0, 0.0, 1.0, 1.0, ...\n",
              "\n",
              "[40478 rows x 4 columns]"
            ]
          },
          "metadata": {
            "tags": []
          },
          "execution_count": 25
        }
      ]
    },
    {
      "cell_type": "code",
      "metadata": {
        "id": "0v9_HdeIQt-7"
      },
      "source": [
        "total_tokens=diagnosis_rnn['tokenized'].to_list()"
      ],
      "execution_count": null,
      "outputs": []
    },
    {
      "cell_type": "code",
      "metadata": {
        "id": "SCW-cuoVSQrL"
      },
      "source": [
        "from gensim.models import Word2Vec"
      ],
      "execution_count": null,
      "outputs": []
    },
    {
      "cell_type": "code",
      "metadata": {
        "id": "oLk2CHZwS_38"
      },
      "source": [
        "model = Word2Vec(total_tokens, min_count=1)"
      ],
      "execution_count": null,
      "outputs": []
    },
    {
      "cell_type": "code",
      "metadata": {
        "colab": {
          "base_uri": "https://localhost:8080/"
        },
        "id": "zajXf9GYTTPa",
        "outputId": "5a451f66-e99f-427b-cd70-c793e6722d8e"
      },
      "source": [
        "# summarize model\n",
        "print(model)\n",
        "\n",
        "# summarize vocabulary\n",
        "words = list(model.wv.vocab)\n",
        "print(words)\n",
        "\n",
        "# save model\n",
        "model.save('model.bin')"
      ],
      "execution_count": null,
      "outputs": [
        {
          "output_type": "stream",
          "text": [
            "Word2Vec(vocab=25375, size=100, alpha=0.025)\n",
            "['osteomyelitis', 'bleed', 'duodenal', 'ulcer', 'heart', 'failure', 'chronic', 'kidney', 'disease', 'cardiogenic/hemorrhagic', 'shock', 'require', 'pressor', 'r', 'subdural', 'hematoma', 'right', 'mca', 'stroke', 'type', 'aortic', 'dissection', 's/p', 'replacement', 'ascend', 'aorta', 'postop', 'uti', 'past', 'medical', 'history', 'remote', 'low', 'back', 'pain', 'obstructive', 'sleep', 'apnea', 'lumbar', 'laminectomy', 'femoral', 'rodding', 'h/o', 'tympanic', 'membrane', 'surgery', 'primary', 'diagnosis', 'pedestrian', 'strike', 'car', '1.', 'leave', 'humerus', 'fracture', '2.', 'scapula', '3.', 'clavicle', '4.', 'posterior', 'rib', 'unknown', '5.', 'apical', 'pulmonary', 'contusion', '6.', 'tibial', 'plateau', '7.', 'acute', 'blood', 'loss', 'anemia', 'secondary', 'hiv', 'atrial', 'fibrillation', 'rapid', 'ventricular', 'response', 'cardiogenic', 'systolic', 'dysfunction', 'severe', 'coronary', 'artery', 'diabetes', 'mellitus', 'toe', 'osteomyolitis', 'gangrene', 'peripheral', 'cervical', 'myelopathy', 'c1', 'tumor', 'diastolic', 'multiple', 'sclerosis', 'urinary', 'tract', 'infection', 'complicate', 'hyponatremia', 'chf', 'tylenol', 'pm', 'overdose', 'alcohol', 'intoxication', 'depression', 'streptococcus', 'pneumonia', 'bacteremia', 'septic', 'empyema', 'resolve', 'hypoglycemia', 'term', 'male', 'infant', 'name', 'm.d', 'number', 'dictate', 'medquist36', 'date', '01:36', '02:18', 'job', 'migraine-optical', 'flash', 'lights-resolves', '5', 'min-occurs', 'q2', 'mo', 'essential', 'hypertension', 'dyslipidemia', 'prior', 'henoch-schonlein', 'purpura', 'sciatica', 'seborrheic', 'keratosis', 'erectile', '8.', 'colonic', 'adenoma', '9.', 'gout', '10.', 'elevate', 'psa', '11.', 'glucose', 'intolerance', 'diet', 'control', '12.', 'hyperparathyroidism', '13.', 'ventral', 'hernia', '14.', 'vasovagal', 'episode', '-felt', 'bblockers', 'diminish', 'medication', 'adjust', '15.', 'aneurysm-', '16.', 'lung', 'nodule', 'follow', 'dr.', 'consistent', 'malignancy', 'decrease', 'size', '17.', '-following', 'death', 'wife', '18.', 'stenosis-s/p', 'avr', '19.', 'cad-s/p', 'cabg', 'bilobar', 'atypical', 'fever', 'embolus', 'rectus', 'anticardiolipin', 'antibody', 'igm', 'positive', 'patient', 'provider', 'week', 'discharge', 'lovenox', 'bridge', 'coumadin', 'also', 'clindamycin', 'complete', 'ten', 'day', 'course', '17:14', '19:08', 'ischemic', 'circulation', 'pontine/midbrain', 'infarct', 'hypercholesterolemia', 'hyperlipidemia', 'cea', 'hospital', 'days/year', 'lima', 'lad', 'svg', 'rca', 'first', 'diagonal', 'om2', 'nstemi', 'month', 'renal', 'insufficiency', 'baseline', 'creatinine', '1.5', 'dementia', 'pvd', 'hematocrit', '32-34', 'fib', 'apml', 'intracranial', 'hemorrhage', 'syncope', 'decease', 'malignant', 'pericardial', 'effusion', 'tamponade', 'unspecified', 'presbylaryngis', 'laryngeal/pharyngeal', 'reflux', 'emphysema', 'incontinence', 'stenosis', 'bicuspid', 'vaslve', 'dilate', 'valve', 'appendectomy', 'rheumatic', 'osteoporosis', 'hysterectomy', 'ovarian', 'cystectomy', 'hypothyroidism', 'open', 'reduction', 'internal', 'fixation', 'foot', 'significant', 'three', 'vessel', 'status', 'post', 'bypass', 'graft', 'x', '4', 'mammary', 'anterior', 'descend', 'saphenous', 'vein', 'obtuse', 'marginal', '6', 'cm', 'abdominal', 'aneurysm', 'benign', 'prostatic', 'hypertrophy', 'mild', '7', '50', 'pack', 'year', 'smoker', 'inferior', 'myocardial', 'infarction', 'questionable', 'osteoarthritis', '22:42', '00:35', 'mental', 'change', 'eeg', 'seizure', 'like', 'activity', 'liver', 'hepatic', 'encephalopathy', '...', '2', 'esrd', 'hd', 'q', 'w', 'f', 'orif', 'distal', 'femur', 'sheath', 'demand', 'ischemia', 'congestive', 'multi', 'trauma', 'motorcycle', 'crash', 'metastatic', 'adenocarcinoma', 'myasthenia', 'bile', 'leak', 'gastrointestinal', 'recent', 'polypectomy', 'expire', 'respiratory', 'epidural', 'abscess', 'clot', 'upper', 'extremity', 'av', 'ii', 'ketoacidosis', 'glaucoma', 'suicide', 'attempt', 'asthma', 'exacerbation', 'perforate', 'viscus', 'dead', 'bowel', 'deep', 'tissue', 'hepatitis', 'rhabdomyolysis', 'coag', 'negative', 'staph', 'origin', 'acquire', 'schizoaffective', 'disorder', 'abuse', 'due', 'thoracentesis', 'healthcare-associated', 'recurrent', 'cancer', 'colon', 'tracheoesophageal', 'fistula', 'brain', 'mass', 'gi', 'cholangitis', 'post-ercp', 'pancreatitis', 'epistaxis', 'traumatic', 'stress', 'syndrome', 'time', 'two', 'mitral', 'regurgitation', '25', 'mosaic', 'paroxysmal', 'gastroesophageal', 'lobectomy', 'bilateral', 'cardiac', 'cirrhosis', 'mvc', 'tibia', 'compartment', 'wall', 'acetabular', 'post-operative', 'four', '11:28', '11:33', 'pheochrocytoma', 'dm', 'cellulitis', 'arf', 'pheochromocytoma', 'stage', 'iv', 'interstitial', 'ischemic/gangrenous', 'small', 'post-op', 'hypotension', 'c.diff', 'colitis', 'hypertensive', 'urgency', 'intracerebral', 'hyperkalemia', 'high', 'potassium', 'pressure', 'fast', 'irregular', 'arrhythmia', 'hypoxia', 'oxygen', 'level', 'edema', 'fluid', 'delirium', 'confusion', 'humeral', 'pathological', 'break', 'arm', 'mucositis', 'inflammation', 'mucosa', 'mouth/throat', 'pmh', 'vfib', 'arrest', 'pci', 'diverticulitis', 'psh', 'hip', 'x2', 'knee', 'tonsillectomy', 'hypovolemic', 'end', 'etiology', 'hemodialysis', 'catheterization', 'normal', 'ef', '60', 'copd', '2l', 'home', 'night', 'us', 'cpap', 'intraparenchymal', 'htn', 'afib', 'cri', 'alter', 'drug', 'critical', 'insulin', 'dependent', 'paroxsymal', '55', 'cad', 'l', 'fist', 'mi', '^lipids', 'dm2', 'thr', 'prostate', 'ca', 'cryo/lupron', 'gastric', 'non', 'st', 'elevation', 'angioedema', '1', 'esld', '3', 'aureus', 'withdrawal', 'fall', 'facial', 'leforte', 'orbital', 'avulsion', 'laceration', 'lip', 't7', 'compression', 'rectal', 'resection', 'necrosis', 'omental', 'flap', 'drain', 'stump', 'amiodarone', 'lopressor', 'mrsa', 'sepsis', 'fungemia', 'peg', 'placement', 'lima-lad', 'svg-om', 'svg-dg', 'svg-pda', 'obesity', 'noninsulin', 'angioplasty', 'rentention', 'uropathy', 'tachycardia', 'anxiety', 'vascular', 'cerebrovascular', 'multinodular', 'goiter', 'cell', 'rbc', 'bacterial', 'vaginosis', 'probable', 'oral', 'herpes', 'simplex', 'finger', 'amputation', 'reattachment', '09:20', '11:55', 'carotid', 'tobacco', 'transient', 'attack', 'laryngeal', 'radiation', 'as/cad', 'breast', 'lumpectomy', 'd/t', '50-70', 'bilaterally', 'redo', 'sternotomy/avr/redo', 'le', 'venous', 'stasis', 'op', 'retention', 'gastroparesis/ileus/constipation', '+heparin', 'sinus', 'embolism', 'dvt', 'ivc', 'filter', 'community', 'extensive', 'anticoagulated', '10', 'unit', 'prbcs', 'current', 'noscomial', 'gnr', 'sputum', 'coagulopathy', 'e.', 'coli', 'quinolone', 'resistant', '8', 'vagnitis', 'attribute', 'broad', 'spectrum', 'antibiotic', 'usage', '9', 'otitis', 'externa', '11', 'diarrhea', '12', 'incidentally', 'note', 'cyst/mass', 'no', '13', 'coagulase', 'staphylococcal', '14', 'set', 'anticoagulation', 'orthostatic', 'ulcerative', 'remission', 'frontal', 'meningioma', 'stemi', 'ulcer/gastritis', 'aspiration', 'pneumonitis', 'systemic', 'c-difficile', 'b', 'disection', 'ventialtor', 'associate', '-peritoneal', 'mesothelioma', '-l1', '-acute', 'hemolytic', 'reaction', '-pseudomonas', '-afib', 'pacemaker', '-chf', '-copd', '-osteoporosis', '-hypothyroid', 'thrombotic', 'thrombocytopenic', 'preeclampsia', 'pregnancy', 'spondylosis', 'arthritis', 'migraine', 'many', 'cataract', 'trachael', 'guaiac', 'stool', 'cause', 'cerebral', 'cholecystitis', 'new', 'onset', 'fossa', 'lue', 'wind', 'dehisence', 'malnutrition', 'dysphagia', 'mentation', 'heparin-induced', 'thrombocytopenia', 'end-stage', 'stent', 'ejection', 'fraction', 'side', 'icd', 'accident', 'without', 'residual', 'complication', 'deficit', 'basal', 'squamous', 'skin', 'excision', 'face', 'pleurisy', 'c', 'genotype', 'lle', 'fe-deficiency', 'tinea', 'pedis', 'lymphedema', 'medium', 'h/oirregular', 'period', 'group', 'strep', 'pharyngitis', 'repair', 'mesh', 'salpingo-oophorectomy', 'communicate', 'ntraventricular', 'block', 'fk506', 'tacrolimus', 'enterococcal', 'staphyloccocal', 'picc', 'basilic', 'thrombophlebitis', 'orthotopic', 'transplant', 'tracheostomy', 'bipolar', 'd/o', 'vre', 'ileocolonic', 'anatosmosis', 'junctional', 'rhythm', 'ica', 'unruptured', 'pcomm', 'prematurity', '36', '6/7', 'gestation', '22:06:58', '01:07:18', '-mental', '-chronic', '-dementia', 'likely', 'alzheimers', '-urinary', '-depression', '-cva', '-a', '-htn', '-gout', '-gerd', '-anemia', 'glioblastoma', 'retroperitoneal', 'thrombosis', 'septicemia', 'esophageal', 'varix', 'band', 'cva', 'increase', 'cholesterol', 'idiopathic', 'procedure', 'five', 'include', 'present', 'illness', '47-year-old', 'female', 'since', 'age', 'process', 'workup', 'live', 'relate', 'test', 'show', 'asymptomatic', 'chest', 'consumptive', 'alcoholic', 'health-care', 'injury', 'need', 'temporary', 'dialysis', 'hypernatremia', 'hypercalcemia', 'thigh', 'parieto-occpital', 'subarachnoid', 'substance', 'cocaine', 'condition', 'schizophrenia', 'supratherapeutic', 'inr', 'non-obstructing', 'stone', 'anorexia', 'affective', 'hypothyroid', '11:07', '11:19', 'pleural', 'pleurex', 'catheter', 'stop', 'cll', 'transform', 'lymphoma', 'carcinoma', 'observe', 'hx', 'colectomy', 'recurrence', '2.5', 'mr', '10:13', '10:35', 'ingestion', 'supra', 'profuse', 'peritonitis', 'pre-pyloric', 'hypovolemia', 'hypoxemia', 'cardiopulmonary', 'cariogenic', 'contusion/right', 'repl', 'arch', 'afib-', 'pradaxa', 'ablation', 'dz', 'per', 'osh', 'hpi', 'volume', 'overload', 'adrenal', 'blepharitis', 'anasarca', 'hypoalbuminemia', 'byapss', 'myeloproliferative', '-lower', '-cellulitis', 'surgical', '-hypertension', 'node', 'specifically', 'pause/arrest', 'middle', 'territory', 'community-acquired', 'location', '-gastaut', 'intractable', 'epilepsy', 'medically', 'refractory', 'esophagitis', 'duodenitis', 'pump', 'non-insulin', 'vasc', 'elev', 'tia', 'mast', 'growth', 'atherosclerosis', 'ldl', 'flare', 'angioplasty/stent', 'retinal', 'pancolitis', 'autoimmune', 'aortoiliac', 'occlusive', 'borderline', '-occasional', 'memory', 'issue', 'shaft', 'calcaneous', 'intertrochanteric', '20', 'scalp', 'pneumothorax', 'comminute', 'ganglion', 'enlarge', 'followup', 'instruction', 'ct', 'contrast', 'telephone', 'care', 'physician', 'health', 'center', 'please', 'find', 'local', 'cardiologist/heart', 'doctor', 'ask', 'recommendation', 'endocrinologist/diabetes', 'md', 'febrile', 'neutropenia', 'hyperglycemia', 'hiv/aids', 'burkitt', \"'s\", 'core/surface', 'ab', 'eczema', 'pain/muscle', 'spasm', 'enterobacter', 'autonomic', 'neuropathy', 'service', 'within', 'next', 'cardiovascular', 'electrophysiologic', 'family', 'refuse', 'work-up', 'nonhodgkins', 'melanoma', 'non-st', 'uterine', 'oliguria', 'aortio-bifemoral', 'leg', 'thromboembolism', 'endartectomy', 'thrombolectomy', 'popteial', 'ptfe', 'intra', 'operative', 'angio', 'diffuse', 'parietal', 'sah', 'pass', 'saddle', 'swell', 'rash', 'obstruction', 'hypercarbic', 'pseudomonas', 'metabolic', 'sigmoidcolectomy', 'head', 'neck', 'ear', 'disc', 'lens', 'implant', 'grave', 'disease/hyperthyroidism', 'irritable', 'de', 'coccyx', 'ago-', 'difficulty', 'lie', 'flat', 'tubal', 'ligation', 'avg', 'stable', 'pulmonic', 'toraco-lumbar', 'spine', 'rod', 'parkinson', 'neurology', 'walk', 'motor', 'disability', 'peptic', '--', 'nsaid', 'prolapse', 'dehydration', 'metablic', 'acidosis', 'macricytic', 'gerd', 'embolic', 'huerthle', 'neoplasm', 'trach', 'lyme', 'fibromyalgia', 'food', 'impaction', 'stricture', 'diverticuli', 'ring', 'c/w', 'feline', 'esophagus', 'atery', '3-vessel', 'cardioversion', 'infuffiency', '1.4-1.7', 'urge', 'gait', 'instability', 'a-fib', 'rvr', 'frontoparietal', 'vertex', 'subgaleal', 'lesion', 'subcutaneous', '4th', 'digit', 'subpleural', 'distress', 'reintubations', 'poor', 'nutrition', 'leg/chest', 'necrotizing', 'polycythemia', 'lateral', 'hemopericardium', 'oa', 'c.', 'dificile', 'hypoxic', 'ascites', '-dyslipidemia', '-bph', '-cataracts', '-asbestosis', 'exposure', '-urine', '-prostate', 'laser', '-bkr', '-cholecystectomy', '-back', '-lymph', 'remove', 'groin', 'stoke', 'insular', 'cortex', 'extend', 'temporal', 'lobe', 'diverticulosis', '428.33', 'b2', '401.1', '414.01', 'native', '311', '496', '427.31', '424.1', 'stenosis-insufficiency', '428.21', 'a1', '244.9', '284.1', 'pancytopenia', '427.0', 'supraventricular', '487.1', 'influenza', 'manifestation', 'unsigned', 'occipital', 'abcess', 'bm', 'isr', 'treat', 'promus', 'dysplipidemia', 'murmur', 'mva', 'full', 'thickness', 'tear', 'rotator', 'cuff', 'anxiety/depression', 'headache', 'trigeminal', 'neuralgia', 'auto', 'tib/fib', 'herniation', 'diabetic', 'iron', 'deficiency', 'leukopenia', 'improve', 'hcc', 'output', 'operatively', 'hypertrophic', 'cardiomyopathy', 'vehicle', 'pelvic', 'laceration-grade', 'bilteral', 't2', 'l3', 'transverse', 'strain', 'osteopenia', 'squampous', 'calculus', 'bronchitis', 'cholecystectomy', 'mv', 'spinal', 'ileus', 'symptomatic', 'bradycardia', 'flutter', 'variable', 'block-resolved', 'w/ppm', 'implantation', '1/', 'ppm', 'w/explant', 'factor', 'v', 'leiden', 'thrombus', 'tee', '-on', 'rapidly', 'progressive', 'glomerulonephritis', 'hospital-acquired', 'tachy-brady', 'suspect', '13:11', '13:09', 'dccv', 'none', 'inguinal', 'ankle', 'pea', 'lactic', 'mesenteric', 'asystole', 'x4', 'asbestosis', 'chr', 'myodardial', 'multifocal', 'hemorrhoid', 'mssa', 'endocarditis', 'prolong', 'intubation', 'vp', 'shunt', '30', 'yr', 'ago', 'diff', 'anoxic', 'serratia', 'cns', 'generalize', 'tonic', 'clonic', '__________________________', 'follow-up', 'appointment', 'see', 'social', 'work', 'company', 'russian-speaking', 'individual', 'help', 'anger', 'management', 'aids/hiv', 'crytopsoridia', 'c.difficile', '15-20', 'e.coli', 'common', 'duct', 'induce', 'hypotension-dehydration', 'mix', 'hypophosphatemia', 'mm', 'constipation', 'subacute', 'symphysis', 'pubis', 'ramus', 'ckd', 'iii', 'c2', 'instrumentation', 'partial', 'subclavian', 'histoplasmosis', 'last', 'gastroparesis', 'stomach', 'degenerative', 'mini-maze', 'stab', 'assault', '-myocardial', '-compartment', 'hand', '-right', '-liver', 'milliary', 'tuberculosis', '-altered', 'excessive', 'narcotic', '-severe', '-anxiety', '-coronary', 'sacral', 'decubitus', 'polysubstance', 'attention', 'joint', 'corneal', 'hemorrhoidectomy', '-vasovagal', 'cystitis', '-multiple', 'al', '4/7', 'presume', '02:02:14', '03:04:24', 'etoh', 'pericardectomy', 'cmp', 'w/biventricular', 'dysfx', 'rhabomyosarcoma', 'chemo/rads', 'uri', 'bone', 'spur', 'ventilator', 'silent', 'hypercholesterol', 'intraparnchymal', 'virus', 'encephelopathy', 'depression/anxiety', 'kinase', 'nash', 'melitus', 'ards', 'il-2', 'therapy', 'total', 'maxillectomy', 'pterygopalatine', 'well', 'skull', 'base', 'foramen', 'pet', 'scan', 'uptake', 'pulm', 'hilar', 'subcarinal', 'admit', 'do', 'impairment', 'undetermined', 'radical', 'xrt/chemo', 'superior', 'vena', 'cava', 'myelogenous', 'm5b', 'allogenic', 'marrow', '4/', 'cystoscopy', 'turp', '16', '52', 'child', 'macular', 'degeneration', 'surgery-', 'acl', 'primary-', 'secondary-', 'enzyme', 'paraganglioma', 'crisis', 'clostridium', 'transection', 'grade', 'splenic', 'hemopneumothorax', 'tube', 'toxic-metabolic', 'nature', 'vs.', 'occulsion', 'purulent', 'pericarditis', 'sarcoidosis', 'transbronch', 'bx', 'tx', '14:20', '17:54', 'diet-controlled', 'transurethral', 'carpal', 'tunnel', 'mucinous', 'st-elevation', 'prostatitis', 'staphyloccoccus', 'exerbation', 'tracheobroncitis', 'hypetension', 'morbid', 'csf', 'defect', 'dislocation', 'incisor', 'tmj', 'facial/lip', 'stenting', 'c/b', 'recently', 'cypher', '**05**', 'cath', 'large', 'superiorly', 'pole', 'sustain', 'polymorphic', 'vt', 'panic', 'attacks/anxiety', 'psychiatric', 'admission', 'several', 'serial', 'image', 'h.', 'pylorus', 'osteomylitis', 'rt', 'tma', 'parainfluenza', 'responsive', 'gvhd', 'postoperative', 'root', 'non-hodgkins', 'currently', '14years', 'chemotherapy', 'prosatic', 'x3', 'vertigo', 'oophorectomy', 'inner', 'sle', 'uremic', 'ddavp', 'treatment', 'rule', 'ac', 'worsen', 'hit', 'ttp', 'immunosuppression', 'preparation', 'nondisplaced', 'fibrillation/flutter', 'pancreatic', 'concern', 'hemangioma', 'polyp', 'reverse', 'single', 'sr', 'proximal', 'di', 'e', 'surgeon', 'approximately', 'one', 'cardiologist', 'perforation', 'biliary', 'colic', 'choledocholithiasis', 'puncture', 'lacunar', 'toxic', 'sterile', 'sternal', 'dehiscence', 'coronray', 'viral', 'gastroenteritis', 'possible', 'moderate', 'restrictive', 'pfts', 'porcine', 'inv', 'mvr', 'persistent', 'air', 'wedge', 'fibrosis/boop', 'organize', 'lul', 'mediastinal', 'lymph', 'adhd', 'angioectasias', 'mechanical', 'hemothroax', 'dementia/parkinson', 'acetaminophen', 'hcv', 'cirrhosis/hcc', 'steroid', 'gatrointestinal', 'avascular', 'line', 'distant', 'rle', 'weakness', 'urosepsis', 'biventricular', 'mop', 'den', 'forehead', 'cad/stemi', 'esdr', 'basilar', 'nonischemic', '40', 'lead/generator', 'severely', 'depress', 'automatic', 'implantable', 'cardioverter-defibrillator', 'toxicity', 'principal', 'mrse', 'red-man', 'syndrome/anaphylaxis', 'vancomycin', 'desensitize', 'schistocytes', 'smear', 'context', '15', 'pci/stent', 'ablation/ddd-icd', 'iii/iv', '-left', 'lead', '-non-sustained', '-post-operation', '-history', 'emboli-on', '-obesity', '-type', '-hypercholesterolemia', '-venous', 'dysgenesis', 'brainstem', 'atrophy', 'arthrogryposis', 'central', 'suspicion', 'trisomy', '18', '21:39:10', '22:17:38', 'coarse', 'variceal', 'cabgx3', '^chol', 'transitional', 'staphylococcus', 'physiologic', 'hyperbilirubinemia', '03:08', '03:13', 'instent', 'bronchoalveolar', 'dysmotility', 'monocytosis', 'myelodysplastic', 'allergic', 'rhinitis', 'fnh', 'scapular', 'status-post', 'element', 'stomal', 'revision', '6.5', 'fenestrated', 'f.', 'aline', 'osa', 'faint', 'count', 'hemophagocytic', 'lymphohistiocytosis', 'hlh', 'rheumatoid', 'transaminitis', 'etoh-related', 'alcohol-related', 'alcoholic/hepatitis', 'angina', '2-vessel', 'aflutter', 'thalamic', 'charcot', 'sensitivy', '35', '2/7', '13:21:11', '13:52:15', 'mellitud', 'sceondary', 'bacteremia/sepsis', 'source', 'incision', 'spontaneous', 'albicans', 'discitis', '++', 'diagnose', '23', 'ileostomy', 'polyposis', 'subsequent', 'short', 'tpn', 'cystadenoma', 'hepatectomy', 'line-associated', 'stream', 'cvl', 'place', 'least', 'wire', 'parapsilosis', 'neg', 'non-albicans', 'c.parapsilosis', 'k.', 'pneumoniae', 'cipro', 'cefuroxime', 'tmp/smx', 'meropenem', '/08', 'culture', '-coag', 'linezolid', 'thrombosis/occlusion', 'fail', 'access', 'ij', 'brachiocephalic', 'reconstruct', 'w/', 'kiss', 'extension', 'external', 'iliac', 'hsv-1', 'scoliosis', 'meniscal', 'dermoid', 'cyst', 'removal', 'ovary', 'resect', 'tracheomalacia', 'mycotic', 'axillo-bifem', 'infect', 'clinic', 'pcp', 'breathe', '9:30', 'disposition', 'rehabilitation', 'sigmoid', 'volvulus', 'major', 'arterial', '13:37:57', '15:11:44', 'occlusion', 'arthroplasty', 'inflammatory', 'disase-', 'crohn', 'aaa', 'hypercarbia', 'ativan', 'normalization', 'befor', 'dc', 'droop', 'sedate', 'active', '28', '3/7', 'gestational', 'surfactant', 'patent', 'ductus', 'arteriosus', 'indocin', 'mediate', 'epidermidis', '21:49', '22:11', 'multivessel', 'intervene', 'sp', 'phlebitic', 'vein/i', 'early', 'intraparechymal', 'detoxification', 'paraplegia', 'cyanotic', 'atresia', 'versus', 'intact', 'septum', 'npo', 'd10w', 'ml', 'kg', 'good', '74f', 'thrombectomy', 'b/l', 'aorto-bifem', 'limb', 'sfa', 'profundas', 'patch', 'closure', 'arteriotomies', 'fasciotomies', 'occlued', 'abf', 'lt', '100', 'occlude', 'post-cea', 'chol', 'niddm', 'hiatal', 'asd', 'pah', 'b12', 'ccy', 'main', 'bronchial', 'silicon', 'stent-', 'diaphragmatic', 'g-tube', 'c3-4', 'neurosurgical', 'evacuation', 'paralysis', 'proctitis', 'resperidone', 'polyp/mass', 'duodenum', 'gangrenei', 'ventilation', 'bypas', 'biscuspid', 'varicosity', 'bad', 'occasional', 'shoulder', 'elbow', 'calciphylaxis', 'bacteremia/hypotension', 'foley', 'replace', 'mri', 'normalize', 'think', 'nephrology', 'exploratory', 'laparotomy', 'plan', 'rehab', 'cap', 'gravity', 'g', 'j', 'fee', 'peptamen', '90', 'cc/hour', 'ursodiol', 'supplement', 'remain', 'near', 'request', 'recommend', 'schedule', '2333', '07:26:20', '08:01:37', 'sir', 'distribution', 'dye-induced', 'nephropathy', 'call', 'insertion', 'jugular', 'swan-ganz', 'discontinue', 'pyelonephritis', '31', 'carbomedics', '..', '05:58', '18:02', 'left-sided', 'parafalcine', 'exudative', 'regard', 'symptom', 'sinusitis', 'nasal', 'drip', 'cough', 'insulinoma', 'non-gap', 'carcinoid', 'mainstem', 'bronchus', '21mm', 'ultra', 'vasculitis', 'permanent', 'ddd', 'pacer', 'endarterectomy', 'extraction', 'hepatocellular', 'chemoembolization', 'hepatoma', 'pca', 'hygroma', 'hemiparesis', 'aphasia', 'tvr/ra', 'via', 'thoracotomy', 'commissurotomy', 'celiac', 'sprue', 'lactose', 'hepatorenal', 'thyroidectomy', 'abd', 'tah', 'nephrectomy', '24', 'hemoperitoneum', 'bph', 'bentall', 'sclc', 'sternotomy', 'balloon', 'valvuloplasty', 'retinopathy', 'eye', 'blindness', 'rupture', 'trigger', 'biopsy', 'ercp', 'gilbert', 'w/baseline', 'bili', '1.7', 'iiib', 'nonsmall', 'anastomotic', 'oversew', 'staple', 'gastrointesintal', 'hemolysis', 'pyloir', 'vitamin', 'thyromegaly', 'intrauterine', 'retardation', '16:44', '18:08', 'video-assisted', 'thoracoscopy', 'serratus', 'muscle', 'pedicle', 'transfusion', 'heparin', 'hypokalemia', 'hypomagnesemia', 'legally', 'blind', 'cholelithiasis', 'mcc', 'sdh', 'iph', 'gluteal', 'non-small', 'parosymal', 'vocal', 'cord', 'immobility', 'j-tube/porta', 'hemorrhagic', 'cerebellar', 'clopidogrel', 'radiotherapy', 'thoracoabdominal', 'sclera', 'scar', 'tylenol-induced', 'emergent', 'heavy', 'use', 'quit', 'diseases/p', 'aortobifemoral', 'segment', 'myoacardial', 'rhabdomyolsis', 'nonsteroidal', 'klebsiella', 'dress', 'lamictal', 'thyroid', 'hsv', 'intermittent', 'rate', 'arterty', 'lcx', 'f/b', 'rih', 'metal', 'premature', '5/7', 'distress/ttn', 'immature', 'feed', 'pps', 'f/u', '23:41:04', '05:32:54', 'sarcoid', 'nerve', 'palsy', 'paranoia', 'mandibular', 'frequent', 'zoster', 'exacervation', 'hyptertension', 'human', 'immunodeficiency', 'bronchiectasis', 'amyloidosis', 't12', 'burst', 'electrolyte', 'imbalance', 'cad/as', 'cabg/avr', 'pud', 'lga', 'mother', 'svt', 'adenosine', 'esmolol', '13:14', '15:27', '34-4/7', '11:37:07', '13:20:46', '-dm', '-s/p', 'vitrectomy', 'vision', '-esrd', 'pd', '-gallstones', 'arthroscopic', '-diveriticulosis', 'dental', 'cavity', 'molar', 'bruit', 'phlebitis', 'ectopy', 'disease/inferolateral', 'multilobar', 'tongue-on', 'teh', 'polymyalgia', 'rheumatica-on', 'prednisone', 'c-diff', 'hypoxemic', 'pacemeker', 'diapragmatic', 'sphenoid', 'zygoma', 'avms', '3cm', 'lm', 'deafness', 'appy', '10:38', '10:40', 'acomm', 't11', 'l2', 'superior/inferior', 'pubic', 'ala', '9th', 'gallstone', 'myopathy', 'arrest/hypotension', 'cx', 'toxin', 'triopathy', 'intolerant', 'ace', 'non-st-elevation', 'procrit', 'capsule', 'suicidality', 'benzodiapene', 'opiate', 'alveolar', 'hemmhorage', 'fatigue', 'nightsweats', 'doe', 'eosinophilia', 'fungal', 'hyponatremia/siadh', 'bronchoscopy', 'bal/biopsy', 'n/a', 'diverticular', 'elute', 'pad', 'claudication', 'stenosis-', 'speech', 'problem', 'cane', 'gib', 'hct', 'prbc', 'endoscopy-', 'anxiety/', 'dysfunction/prosthesis', '34', 'fem-', 'sv', 're-do', 'l-arm', 'b-cell', 'cycle', 'r-chop', 'involve', 'field', 'arthroscopy', 'fusion', 'c4-c6', 'achilles', 'tendon', 'release', 'polyneuropathy', 'chemo', 'apnea-', 'drop/sciatic', 'harware', 'stabilization', 'metestatic', 'tricuspid', 'burkitts', 'erosion', 'gastro-esophageal', 'junction', 'thoracic', 'comrepssion', 'bovine', 'bundle', 'branch', 'dilation', 'hital', 'benzodiazepine', 'attempt/ideation', '33', 'distress/retained', 'fetal', 'unconjugated', 'perinatal', 'epidermis', 'contaminant', 'omphalitis', '06:12', '06:59', 'edited/signed', 'dkr', 'fe', 'non-ischemic', '23-mm', 'magna', 'ease', 'bioprosthesis', 'model', '3300tfx', 'mgus', 'monoclonal', 'gammopathy', 'significance', 'tamponade/cardiac', 'ama', 'rv', 'iga', 'fibrilaltion', 'iabp', 'click', 'avr/ascending', 'plavix', '75', 'mg', 'p.o', 'q.', 'captopril', '12.5', 'q.d', 'titrate', 'tolerate', 't.i.d', 'digoxin', '0.25', 'aspirin', '325', 'imdur', 'lipitor', 'q.h.s', 'nitroglycerin', '0.4', 'sublingually', 'prn', 'klonopin', '0.5', 'hour', 'aricept', 'celexa', 'requip', 'ropinirole', 'darvocet', 'n', 'tablet', '500', 'dulcolax', 'p.o./p.r', 'trazodone', 'insomnia', 'intraventricular', 'hydrocephalus', 'meningitis', 'paorxysmal', 'exertional', 'dyspnea', 'complex', 'seizures-pt', 'describe', 'absence', '6-8', '2-3', 'twice', '81', 'lisinopril', 'instructions/followup', 'monday', 'a.m.', 'check', 'p.m.', 'tell', 'echocardiogram', 'evaluate', 'progression', 'function', 'make', 'sure', 'therapeutic', 'electrocardiogram', 'continue', 'ass', 'abnormality', 'aware', 'seek', 'institution', 'previous', 'record', 'future', 'shortness', 'breath', 'nausea', 'vomit', 'dark', 'go', 'emergency', 'department', '14:37', '15:07', 'cc', 'indeterminate', 'malfunction', 'batter', 'life', 'state', 'nl', 'poorly', 'cr', '1.8-2.0', 'metastasis', 'possibly', 'wodespread', 'preserve', 'unclear', 'tongue', 'bite', '3c', 'temporal/frontal', 'floor', 'c6', 'spinous', 'c7', 'tranverse', 'colonoscopy', 'dry', 'labialis', 'lymphadenopathy', 'pe/dvt', 'identify', 'tardive', 'dyskinesia', 'ptca', 'report', 'tonsil', 'hematuria', 'lap', 'ft', '1.pneumocephalus', '2.right', '3.facial', 'zygomatic', '4.left', 'radius', '5.triquetral', '6.proximal', 'phalangeal', 'laparatomy', 'annuloplasty', 'achalasia', 'direct', 'first-degree', 'atrioventricular', 'sound', '1.4', '1.8', 'sydrome', 'intramedullary', 'x1', 'syst', 'hf', 'chb', 'esrd-hd', 'bilat', 'antral', 'cfa', 'pseudoaneurysm', 'ischemia/infarction', 'redo-sternotomy/coronary', 'vii', 'dysmorphic', 'hypothermia', 'top', 'overdiuresis', 'difficult', 'sugar', 'mellitis', 'plus', 'x-ray', 'alcoholism', 'osteopenia/osteoporosis', 'ucler', 'arteritis', 'pilonidal', 'cauda', 'equina', 'c1-3', 'thalassemia', 'trait', 'peroneal', 'gsw', 'difficile', 'tachy/brady', 'pe', '6mos', 'anticoag', 'l4', 'l5', 's1', 'decompression', 'recess', 'l4-5', 'af', 'prosthetic', 'stenosis/insufficiency', 'operation', 'homograft', 'omphalocele', '18:43', '18:48', 'ce', 'cabgx', 'lima-', 'svg-', 'om', 'vf', '1.5-2.2', 'lft', 'fx', 'bil', 'hoh', 'doxycycline', 'allergy', 'methicillin', 'sensitive', 'tracheobronchitis', 'hcap/vap', 'drown', 'aspiration/pneumonitis', 'gastrojejunostomy', 'undergo', 'roux-en-y', '09:19', '23:08', 'diagosis', 'lmca', 'angiographic', 'result', 'hospitalization', 'risk', 'om3', 'poba', 'unsuccessful', 'mwf', 'congenital', 'retinitis', 'pigmentosa', 'dyspepsia', 'wednesday', 'friday', 'estimate', 'weight', '64', '68', 'cruris', 'uncertain', 'hypertriglicidemia', 'ekg', 'incisional', 'iatrogenic', 'axillary', 'axillary-brachial', 'plexus', 'catheter-related', 'minor', 'bioprothetic', 'vvi', 'histroy', 'dependant', 'uncontrolled', 'absent', 'herniorraphy', 'transfuse', 'non-displaced', 'metatrasal', 'synd', 'intersticial', 'carcinom', 'intramural', 'twin', 'baby', 'girl', 'former', 'bear', 'year-old', 'prima', 'gravida', 'prenatal', 'screen', 'noncontributory', 'except', 'uncomplicated', 'maternal', 'bed', 'rest', 'evaluation', 'reveal', 'proteinuria', 'sign', 'receive', 'betamethasone', 'sporadic', 'deceleration', 'vaginal', 'delivery', 'apgars', 'weigh', '1890', 'circumference', '31.5', 'length', '44.5', 'appropriate', 'stay', 'room', 'throughout', 'infectious', 'initial', 'cbc', 'white', '7.7', '39', 'polys', '48', 'lymphocyte', '326', 'platelet', '42.8.', 'initiate', 'hematologic', 'peak', 'bilirubin', '6.9.', 'fer-in-', '1895', 'neosure', 'calorie', 'ounce', 'hear', 'perform', 'immunization', 'defer', 'reach', 'kilogram', 'underlie', 'infiltrate', 'cava/right', 'atrium', 'psoas', 'membranous', 'septal', 'muscular', '03:24:47', '09:20:06', 'rsv', 'hypocalcemia', 'nephrolithiasis', 'hyperphosphatemia', 'epiglottitis', 'peritonsilar', 'cognitive', 'decline', 'mucous', 'plug', 'small-for-gestational', '06:09', '08:09', '-etoh', 'neurontin', '-suicidal', 'ideation', '13:32', '15:11', 'radiographic', 'criterion', 'otherwise', 'clinically', '17:23', '18:31', 'addendum', '13:34', '14:12', 'driver', 'jump', 'faulty', 'brake', 'zygomaticomaxillary', 't2-5', 'ivh', 'tbi', 'leukemia', 'enteroccocal', 'staphlococcus', 'kyphosis', 'refer', 'close', 'axonal', 'buttox', 'vertebral', 'thrive', 'br', 'nstem', 'dm-2', 'post-polio', 'weakness/contractures', 'bright', 'red', 'rectum', 'gastritis', 'tracheocutaneous', 'iddm', 'global', 'amnesia', 'hyperosmolar', 'nonketotic', 'suprapubic', 'prostatectomy/catheter', 'legionella', '23:06', '08:50', 'axillobifemoral', 'percent', 'insulin-dependent', '10:12:28', '12:00:10', 'bactermia', '35-40', 'echo', 'pt', 'hungry', 'parathyroidectomy', 'indulin', 'hemorrhoidal', 'hemoptysis', '45', 'fibb', 'pmr', 'chest/mediastinal', 'heroin', 'endometriosis', '``', \"''\", 'pill', 'escherichia', 'hemiarthroplasty', '15:32', '16:35', 'paf', 'unsuccesful', 'maze', 'laa', 'expressive', 'abdominoplasty', 'cryptogenic', 'pericaridal', 'pda', 'cholangiocarcinoma', 'pseudocyst', 'felt', 'ambulate', 'walker', 'supervision', 'r/t', 'nurse', '6+', 'bipolar/anxiety', 'popliteal', 'thrombose', 'airway', 'mandible', 'angle', 'hardware', 'maxilla', 'debridement', 'confirm', 'hiv-', 'cd4', '235', 'cad-', 'perirectal', 'avr/cabg', 'endovascular', 'post-infection', 'reactive', 'developmental', 'delay', 'fecal', 'seronegative', 'urgent', 'w/primary', 'anastomosis', 'papillary', 'malrotation', '13:04:54', '13:30:23', 'primaru', 'hematome', 'roof', 'pseudomonal', 'wean', 'failure/cvvh', 'lult', 'arterial-venous', 'malformation', 'ileocolectomy', 'deficient', 'aortoilliac', 'hyperintensity', 'corpus', 'callosum', 'erythematosis', 'class', 'proliferative', 'glomeronephritis', 'nephrotic', 'antiphospholipid', 'itp', 'splenectomy', 'ttp/microangiopathic', 'hemoglobin', 'variant', 'immunosuppresion', 'dose', 'cytoxan', 'injury/', 'delerium', 'nqwmi', '93', '99', 'psoriasis', 'seq', 'bladder', 'suspension', '2.6-3.1', 'guiac-positive', 'odontoid', 'halo', 'ge', 'nonbleeding', 'erosive', 'ss', 'non-anion', 'gap', 't5', 't4-6', 'prolapse/mitral', 'herniorrhaphy', 'bursititis/cellulitis', 'multiforme', 'listeria', 'fibroid', 'umbilical', 'healthcare', 'tpa', 'rectovaginal', 'hep', 'olt', 'diabates', 'specify', 'avr/mv', 'jtube', 'ivdu', 'stenois', 'thyrombocytopenia', 'afib/dehydration', 'away', 'si', 'suicidal', 'multiorgan', 'sick', 'euthyroid', 'postive', 'lymphoblastic', 'cadaveric', 'cva-residual', 'swallow', 'study-showed', 'long', 'button', 'site', 'granulation', 'cryoptherapy', 'pna', 'tracheal', 'insufficiency/dilated', 'valve-sparing', 'orthopedic', 'periprosthetic', 'post-obstructive', 'htngerd', 'comorbidities', 'chiari', '-diabetes', '-essential', '-peripheral', '-legal', '-unspecified', 'psychosis', 'ethylene', 'glycol', '09:12', 'tacchycardia', 'epilepticus', 'hemiarch', 'barrett', 'hg', 'dysplasia', 'transhiatal', 'esophagectomy', 'ra', 'tib', '**19**', 'testicular', 'synovectomy', 'fixator', '08:39', '22:34', 'hematemesis', 'superficial', 'draw', 'pseudoaneuryms', 'embolization', 'ureter', 'invasion', 'rectosigmoid', '375', 'mcg', '250', 'alternate', 'toprol', 'xl', 'flovent', '110', 'puff', 'b.i.d', 'albuterol', '1-2', 'q.6h', 'lasix', 'keflex', 'x6', '12:25', '14:00', 'vent', 'assoc', 'aseptic', '14:39:00', '15:18:48', 'inclusion', 'body', 'myositis', 'tbm', 'y-stent', 'mucus', '8hrs', 'o2', 'ptsd', 'tremor', 'endarectomy', 'pvi', 'hemorroids', '-pathology', 'pending', 'supracondylar', 'daunorubicin', 'cisplatin', 'gunshot', 'abdomen', 'vi', 'l2/l3', 'paraspinal', 'syndome', 'additional', 'cerebellum', 'swab', 'endoscopic', 'harvest', 'fibrilation', 'metastasic', 'carcer', 'cardiorespiratory', 'specie', 'lusitaniae', 'susptect', 'obtain', 'intravenous', 'hepatitic', 'mycetoma', 'plueral', 'efussion', 'syrinx', 'peritoneal', 'avm', 'humoral', 'rejection', 'probably', '12:37', '12:42', 'leukocytosis', 'w/u', 'amyloid', 'angiopathy', 'focal', 'hypercholesterolemmia', 'ventilator-associated', 'neonatal', 'review', '00:28:33', '02:53:22', 'triglyceride', 'ffp', 'presentation', 'amicar', 'sytolic', 'valvular', '3.2', 'exophytic', 'highly', 'macrocytic', 'multifactorial', 'ophthalmic', 'cavernous', 'hcv/hbv/etoh', 'incarcerate', 'portal', 'tachypnea', 'newborn', '09:47:01', '10:15:24', '12:07', '15:28', 'occipital/parietal', 'angiosarcoma', 'physiology', 'cardiothoracic', 'percutaneous', 'cholecystostomy', '-hyperlipidemia', '-iron', '-monocytosis', '-pulmonary', 'initiation', 'carotids', 'cholecystecomy', 'paget', 'polymicrobial', 'sbp', 'failure/hrs', 'tachycardia-bradycardia', 'hytpertensive', '00:35:50', '04:16:17', 'pseudoseizure', 'cytomegalovirus', 'ugib-', 'sbo', 't+a', 'svc', 'entire', 'non-occlusive', 'pmx', 'tu/th/sat', 'hyperchol', 'hyperpth', 'utis', 'ppd', 'psx', 'avf', 'csx', 'aml', 'die', 'pneumocephalus', 'w/o', 'necrotic', 'decompensation', 'childhood', 'transluminal', '14:10', '15:53', 'arthitis', 'herniated', 'inpt', 'incarberated', 'psych', 'cabgx4', 'ar', 'ostomy', 'tibia/fibula', 'polyethylene', 'abo', 'incompatible', 'hr', 'obsessive/compulsive', 'depressive', 'dissociative', 'personality', 'viremia', 'infection/aids', 'dependence', 'pej', 'whipple', 'unstable', 'mnyocardial', 'reduction/internal', 'appendectomyh/o', 'melano', 'subarrachnoid', 'mellitus-on', 'tonsillar', 'invasive', 'replacment', 'ablation/pvi', 'mult', 'dccvs', 'appendage', 'asa', 'hypothyroid/neuropathy', 'hematoma-', 'c5', 'protrusion', 'extrusion', 'c5/6', 'anterolisthesis', 'tuesday/thursday/saturday', 'independent', 'systolic/diastolic', '2.460', 'old', 'para', 'whose', 'non-contributory', 'free', 'cxr', 'anal', 'fissure', 'post-polypectomy', 'na', 'c-section', 'gj', 'anastamotic', 'tubular', 'post-infections', 'cagb', 'herpetic', 'allogeneic', 'stem', 'non-hodgkin', 'host', 'r-thalamic', 'pneumothorax-r', 'candidemia', '345.10', 'convulsive', '291.81', 'perinephric', 'osteoperosis', 'atiral', 'fratures', '5,6', 'lac', '7cm', 'pneumatocele', 'aorto-iliac', 'calcium', 'channel', 'blocker', 'inhibitor', 'beta', 'great', 'esophagus/esophageal', 'non-epileptiform', 'siezure', 'pulseless', 'electrical', 'pulmonayr', 'outside', 'urethral', 'hbv', 'posteriorly', 'displace', 'anemia-', 'hemodilution', 'ligamentous', 'jaw', 'cranial', 'sub-dural', 'coma/encephalopathy', 'blunt', 'p.', 'opcabg', 'bil.superf', 'lipid', 'salivarius', 'hit-antibody', 'deficile', 'myxoma', 'peri-rectal', 'w/neg', 'egd', 'multisystem', 'organ', 'eleveation', 'parainfluena', 'maculopapular', 'audiology', '02:56', '06:48', 'list', 'repeat', 'sake', 'completeness', 'office', 'visit', '10:56', '11:59', 'mr/', 'bartholin', 'gland', 'abx', 'sphincterotomy', 'endoscopy', 'clip', 'visible', '01:50', '14:55', 'distress/', 'jaundice', 'tree', 'chongestive', 'somatization', 'gastrostomy', 'mantle', 'methicillin-sensitive', 'right-sided', 'aorta/hemiarch', 'ai', 'decompensated', 'mets', 'dilatation/sludge', 'melena', '1st', 'ishemia', 'drop', 'gall', 'replacemnt', 'urine', 'accquired', 'celullitis', 'scatter', 'frontotemporal', 'maxillofacial', 'ethmoidal', 'medial', 'maxillary', 'interventricular', 'enterocutaneous', 'disruption', 'eminent', 'domain', 'fibrilation/flutter', 'baceremia', 'await', 'asc', 'hospice', 'ftt', 'immune', 'alkalosis', 'anaphylaxis', 'creat', '0.8', 'disk', 'stenotrophomonas', 'circumflex', 'nausea/vomiting', 'steroid-induced', 'neuropahty', 'radiculopathy', 'ptx', 'm/w/f', 'imi', 'flutter/atrial', 'hand/forearm', 'metatarsal', 'hematochezia', 'eosinophilic', 'deconditioning', '12-191', '10:59', '05:54', 'focus', '-displaced', '-minimally', '-fx', '-hemmorrage', 'fat', 'herniating', 'entrapment', 'cricotreacheal', 'corevalve', 'copd/bronchiectasis', 'siadh', '88yom', 'stand', 't3', '5th', 'bradycardia/atrial', 'omr', 'deny', 'pedal', 'ever', '10/08', 'l1', 'horse', 'enterococcus', 'secdonary', 'conronary', 'post-infectious', 'desseminated', 'encephalomyelitis', 'cabgx1', '18:09', '00:00', '-men-1', 'gastrinomas', 'parathyroid', 'adrenalectomy', '-pancreatic', 'radioiodine', '-hypothyroidism', 'varicose', 'fibroidectomy', 'pancreas', 'atelectasis', 'resuscitation', 'reoperation', '13:31', '18:57', 'hemoorhoidectomy', 'sub', 'arachnoid', 'protein/', 'diastoilc', 'antenatally', '18:41', '19:02', 'brachial', 'flexion', 'noncompliance', 'lactulose', 'atazanavir', 'boost', 'ritonavir', 'lamivudine', 'raltegravir', 'take', '354', 'load', 'undetectable', 'give', '3a', 'dx', 'bottle', 'wine', 'deterioration', 'albumin', '2.8', 'spleno-megally', 'hiv-related', 'fentanyl', 'document', 'multilevel', 'chicken', 'pox', 'measles', 'mumps', 'g1p1', 'ankylose', 'spondylitis', 'mastoid', 'periorbital', 'c4-c7', 'mal-alignment', 'perioperative', 'mastectomy', 'reconstruction', 'hypercapnic', '15:14', '00:25', '11:13', '11:15', 'cystic', 'aid', 'aphthuous', 'candidal', 'postobstructive', '-mod', 'eval', '-asthma/', '-restrictive', 'neuromusc', 'fev1', '63', 'pred', 'fvc', 'fev/fvc', '121', '-unknown', 'demyelinate', 'paresis', 'demyelination', 'neurogenic', '-adrenal', 'papilloma', 'nipple', '-labile', '-igg', '-status', '-dysfunctional', '-atypical', 'pap', '-common', '-gastritis', 'prepyloric', '-bilateral', '-g-tube', 'gastrocutaneous', 'j-tube', '-mri', 'hyperintense', 'matter', 'extent', 'may', 'm', 'obstruct', 'pancreatico-colic', 'collection', 'hydronephrosis', 'hypopituitary/hypoadrenal', 'code', 'neuro-endocrinology', 'along', 'regular', 'meal', 'late', 'snack', 'whole', 'grain', 'toast', 'cracker', 'peanut', 'butter', 'pudding', 'cheese', 'prevent', 'morning', 'feel', 'nauseate', 'lightheaded', 'come', 'finally', 'keep', 'association', 'physical', 'safety', 'fair', 'able', 'assistance', 'mention', '14:40', '07:36', 'gastropathy', '20:40', 'dr', 'vap', 'iph/', 'sickle', 'hyposplenism', 'diminutive', 'spleen', 'dci', 'damage', 'fulminant', 'tonisllectomy', 'om1', 'diag', 'supra-therapeutic', 'diesase', 'bioprosthetic', 'prosthesis', 'atn', 'sternum', 'dilatation', 'smoke', 'asthma/copd', 'diaphgramatic', 'w/colles', 'gastroplasty', 'bare', '1/7', '20:54:02', '02:51:44', 'gastroesophogeal', 'disease/barretts', 'esophogitis', 'cornary', 'tonsilectomy', 'deviate', 'heal', 'flaccid', 'pneumonectomy', 'insult', 'labile', 'bare-metal', 'rfa', 'thrush', '21', 'fo', 'p', '13:20', 'min', 'feature', 'scrotum', '19', 'extravasation', 'orthotasis', 'orthostasis', '3rd', 'pesudoaneursym', 'demmand', 'anginosus', 'extended-spectrum', 'beta-lactamase', 'thalamus', '/leg', '-endstage', 'fibrosis', '-complete', '-cad', 'ef35', '-pci', 'nonsustained', 'cardioverter', 'defibrillator', 'mural', 'aspriation', 'dissemintated', 'intravascular', 'convert', 'spontaneously', '13:36', 'intergluteal', 'gram', '+ppd', 'abrasion', 'road', '20-25', 'crack', 'tracheobroncheomalacia', 'plastic', 'mounier-', 'tracheomegaly', 'iron-deficiency', 'arteriovenous', 'pryophosphate', 'deposition', 'thrombocytosis', '6x6', 'ascao', 'fib/flutter', 'narrow', 'tacchyardia', '+etoh', 'viridans', 'ceftriaxone', '-tee', 'impingement', 'phimosis', 'stenosis-ble', 'abcesses', 'seconday', 'discontinuous', 'indirect', '.2', 'daily', 'ferrous', 'sulfate', 'chloride', 'meq', 'anticipate', '50-aad', '15:33:23', '16:24:09', 'sepsis-like', 'eventually', 'successfully', 'eucalcemic', 'nephrogenic', 'insipidus', 'lithium', 'serum', 'sodium', 'depression/bipolar', 'psychiatry', 'outpatient', 'psyche', 'initially', 'intravenous-loaded', 'dilantin', 'however', 'occur', 'synthroid', 'upon', 'mark', 'improvement', 'intensive', '17:01', 'oncocytoma', 'avl', 'j7', 'colace', 'd.', 'percocet', '5/325', 'tab', 'atorvastatin', 'pantoprazole', '400', '200', 'metoprolol', 'atrovent', '23:29:30', '01:14:16', 'post-partum', 'cesarean', 'final', 'pathology', 'specimen', 'pituitary', 'diverticulum', 'conext', 'syphilis', 'post-lp', 'mycobacterium', 'avium', '-pneumonia', '-line', '-t2dm', '-atrial', 'dieulafoy', 'pedicled', 'decortication', 'stomache', 'osa/cpap', 'diaphragm', 'microwave', 'thermotherapy', 'withdrawl', 'ex-lap', 'subglottic', 'proteinosis', 'retain', '07:03:05', '07:48:32', 'tricyclic', 'antidepressant', 'posttraumatic', 'subcortical', 'plaque', 'decub', 'nosocomial', 'uremia', 'dmii', 'rlq', 'abscessed', 'lymphocele', 'malleolus', 'collision', 'agitation', '~30', 'scr', '~1.3-1.5', 'tranplant', 'pancreatectomy', 'toxoplasmosis', 'superimpose', 'ulna', 'caudate', 'olivopontocerebellar', '32', 'hydrocele', 'interim', 'summary', 'cover', 'although', 'develop', 'monilial', 'diaper', 'nystatin', 'seven', '2.275', 'ad.lib', 'express', 'milk', 'vaccine', 'genitourinary', 'discuss', 'carseat', 'carbed', 'vna', '08:56', '08:59', 'mesentaric', 'ortho', '-lupus', 'cerebritis', 'trochanter', 'massive', '15:23', '15:46', 'retropharyngeal', '11x10cm', 'effect', 'behavior', 'lll', 'injection', 'pneumothoraces', 't6', 'radius/ulnar', 'proxima', '3th', 'phalanx', 'malleolar', 'desx2', 'mid', 'nstmei', 'peri-mi', 'mj', 'post-hemorrhagic', 'submandibular', 'capillary', 'phototherapy', 'abnormal', 'ultrasound', 'periventricular', 'echolucency', '3.040', 'kilo', 'correct', '37', '11:20:13', '12:49:17', 'parietotemporal', 'pseudoanerusym/dissection', 'condylar', 'c1/2', 'fxs', 'salt', 'waste', 'pneumatosis', 'myeloma', 'widely', 'diffusely', 'duysfunction', 'well-controlled', 'pfo', 'stentis', 'vagally', 'nervous', 'system', 'stjude', 'spring', 'ptca-stent', 'hemisphere', 'hyperplasia', 'hamstring', '10.chronic', '13.gout', 'scleroderma/', 'mcp', 'cecal', 'reversal', 'jejunoileal', 'intraabdominal', 'aorto-mitral', 'curtain', 'sebaceous', '4years', 'parieto-occipital', 'midline', 'shift', 'ing', 'occpitital', 'oligodendroglioma', 'reaction/anaphylaxis', 'cave', 'phenytoin', 'cephalexin', 'craniotomy', 'dural', 'hemmorahge', 'hepatocelular', 'mibi', '1.23', 'hba1c', '7.0', 'hypercholerolemia', 'ampullectomy', 'visualization', 'intermedius', 'adenoidectomy', 'pattern', 'retrieval', 'broca', 'wernike', 'chayne-', 'x5', 'intra-aortic', 're-exploration', 'transplantation', 'zosyn', 'nutritional', 'exocrine', 'hospital-acquuired', 'hemicraniectomy', 'aquired', 'tracheo-', 'bronchiomalacia', 'pre-eclampsia', 'arma', 'gastro-intestinal', 'aberrant', 'kumeral', 'sling', 'compress', 'posterolateral', 'amplatzer', 'connective', 'lupus', 'sjogren', 'raynaud', 'hocm', 'iii-iv', 'c2-4', 'mass/articular', 'facet', 't3-4', 'conversion', 'craniectomy', 'southshore', 'outlet', 'profunda', 'country', 'macroadenoma', 'trachyarrhythmia', 'post-traumatic', 'legal', 'syncopal', 'tachyarrythmia', 'penile', 'degloving', 'thumb', 'index', 't4', 'reportedly', 'demonstrate', 'lack', 'adamsts', 'self-reports', 'quinolone-resistant', 'bactrim-sensitive', 'resultant', 'sepsis/line', 'gut', 'bike', 'v.', 'parenchymal', 'extra-axial', 'soft', 'tissue/scalp', 'fibula', '10.pulmonary', '11.subhepatic', '12.right', 'yeast', 'nonocclusive', 'symphyseal', 'diastasis', 'septis', 'desensitization', 'serious', 'gamma', 'hydroxybutyrate', 'pontine', 'complications-', 'hyperglycemic', 'catherization', 'def.', 'ventra', 'd/c', \"'d\", 'methimazole', 'obstuctive', 'failure-to-thrive', 'sma', 'fill', 'bovis', 'clostridiiforme', 'anisocoria', 'intra-cranial', 'expect', 'resolution', 'meconium', 'syndrome/rule', '17:34:00', '18:28:30', 'b-blockade', 'hemorrage', 'glomerulonephropathy', 'bacetermia', 'ca-s/p', 'lumpectomy/xrt-completed', 'hashimoto', 'thyroiditis', 'principle', 'ica/mca-territory', 'believe', 'thallium', 'seed', 'settng', 'choledocholithaisis', 'colonization', 'multidrug', 'pocket', 'flexure', 'obese', 'nsvt', 'vea', 'holter', 'begin', 'avoid', 'feso4', 'start', 'vulvodynia', 'r.', 'radial', 'copd/asthma', 'instruct', 'experience', 'inability', 'p.o.', 'chill', 'maintain', 'low-fat', 'around', 'fix', 'point', 'jejunostomy', '25-week', 'demise', 'collagenous', 'fourth-eighth', 'dacron', 'hemetemesis', 'bicsupid', 'relaxation', 'depuytren', 'contracture', 'freeze', 'lurt', 'ecoli', '-hyperglycemia', 'hypertnesion', '3mm', 'wrist', 'extravisation/necrosis', 'vasospasm', 'con', 'peritonsillar', 'phlegmon', 'cmv', 'l3-l4', 'fibillration', 'schf', 'neutropenic', 'neupogen', 'differentiate', 'carboplatin/taxol', 'c1d1', 'xrt', 'synchronous', 'didmoad', 'fever-', 'ii-insulin', 'hyper/hyponatremia', '11:18', '13:13', '18:23', '19:26', 'hepc', 'likley', 'bipap-', 'confirmative', 'study', '-sp', 'angiomyolipoma', '-healthcare', 'assoicated', '-c', 'acinetobacter', 'pectoralis', 'exploration', '-h/o', '-rib', '-tracheal', 'vanco', 'tobramycin', '44', '-lung', 'rll', 'chemo/radiation', 'shingle', 'chole', 'nissen', 'antherlisthesis', 't6-t7', 'tip', 'protien/calorie', 'dsyphasia', 'window', 'nodular', 'sclerosing', 'hodgkin', 'd+8', 'ice', 'djd', 'knock', 'talus', 'valgus', 'planus', 'neurodermatitis', 'microcytic', 'aicd', 'fatty', 'pnemonia', '2nd', 'degree', 'mobitz', 'dibetes', 'thoracolumbar', 'meniere', 'anti-', 'myasthenic', '02-248', '10:08', 'consciousness', 'post-lumbar', 'hypretension', 'gamma-hydroxybutyric', 'acid', 'poison', '11:51', '10:39', 'nicotine', 'exlap-mesh', '-thurnder', 'dvts', '23mm', 'restless', 'hepatomegaly', 'status/post', 'ladder', '-leforte', 'pterygoid', 'plate', 'fragment', 'orbit', 'intraarticular', 'minimally', '-laceration', 'eyebrow', 'hematemsis', 'resp', 'though', 'poly', 'garbage', 'truck', 'applicable', 'hemolytica', 'axis', 'tremens', 'intervention', '22:12:25', '11:48:46', 'staff', 'facility', '12-426', '15:54', '18:30', 'failrue', 'genitalis', 'pustule', 'i+d', 'reversible', 'perfusion', 'non-alcoholic', 'steatohepatits', 'angioectasia', 'mrsa/clostridium', 'pica', 'hypervolemia', 'regurgiation', 'enocarditis', 'svg-diag', 'svg-0m', 'vetral', 'wenkebach', 'a-v', 'pneumocystis', 'jirovecii', 'know', 'carinii', 'verapamil', 'c.dif', 'sepsis-', 'w/out', '08:14', '08:19', 'clear', 'antrum', 'discoid', 'nephritis', 'aka', 'contract', 'abuse/withdrawal', 'injuires', 'interior', 'nyha', '25-30', '4+', 'tr', '2+', 'circulatory', 'anaphylactic', 'dapsone', 'hypersensitivity', 'hypotensive', 'resuspension', 'comfort', 'measure', 'anaphylactoid', 'epinephrine', 'dystonic', 'trismus', 'lock', 'prochlorperazine', 'compazine', 'flank', 'relapsing-remitting', 'unrelated', 'steatohepatitis', 'cml-', 'blast', 'psuedocyst', 'triscuspid', 'tvr', 'drca', 'w/postop', 'preop', 'infrarenal', 'fax', '02-358', '19:49', '21:24', 'endocarditits', 'flail', 'tricuspic', 'epididymitis', 'methadone', '80', 'qd', 'baycove', 'abscess/osteomyelitis', 'inh', 'aca/mca', 'ischaemic', 'intraluminal', 'exaccerbation', 'hydrothorax', 'detach', 'retina', 'extra-pyramidal', 'adverse', 'anti-pyschotics', 'rvot', 'preoperative', 'constrictive', 'two-vessel', 'st.', 'addison', 'seasonal', 'post-operatively', 'desmoid', 'intestinal', 'cutaneous', 'sclerotic', 'definitive', 'stenosis/aortic', '1.6', 'rise', '3.0', '32-4/7', '50.622', '21:47:54', '22:49:24', 'sacrum', 'uretheral', '2.4-3.2cm', 'watchful', 'wait', 'patellofemoral', 'c4-6', 'anterior/posterior', 'plantar', 'osa-', 'bipap', 'asthma-', 'unable', 'wheelchair', 'nephrostomy', 'cellulities', 'coffee', 'grind', 'emesis', '12:39', '12:54', '-tricuspic', '-mitral', '-small', 'hemodynamically', 'insignificant', '-emphysema', '-migraine', '-tobacco', '0.30', '1.02', 'fvc/fev1', '38', '4l', 'nc', 'bmbx', 'isoniazid', '15/12', 'every', 'reperfusion', 'failure-', 'ii-', 'hypertension-', 'med', 'temporoparietal', 'calcification', '+troponin', '1.19', 'pansensitive', 'proteus', 'mirabilis', 'hyperemesis', 'gravidum', 'terminate', 'sqamous', 'second', 'loculated', 'hydropneumothoraces', 'demand-related', 'cental', 'subfalcine', 'dislodgement', 'prader', 'willi', '1.8-2', 'wegener', 'granulomatosis', 'deformity', 'dehissence', 'donor', 'dilaudid', 'q2-3hours', 'vicodin', 'q6hours', 'ciprofloxacin', 'phd', 'identifier', '19:39:23', '19:57:59', 'bppv', 'gastrectomy', '~40', '~4', 'indication', 'accidental', '-bronchial', '-community', '-primary', '-metastatic', 'staphyloccus', 'superfical', 'intestine', 'hemmorhoids', 'vit', 'heel/gluteal', 'fold', 'asystolic', 'dysfunctional', '/ascending', 'shallow', 'choroid', '16:16', '16:29', 'lad/rca', '/xrt', 'lytic', 'cellulitis/wound', 'arrthymia', 'elective', 'dm1', 'cll/pll', 'overuse', 'adjustment', 'opioid', 'colchicine', 'siatica', 'transamnitis', 'anion-gap', 'reflex', 'ventiricular', 'warfarin', 'dysmetria', 'esophagogastric', 'collapse', 'potential', 'supraclinoid', 'fusiform', 'post-rfa', 'intraparanchymal', 'marllory-', 'fibrillation/atrial', '23:13', 'avr/', 'proc', 'bell', 'hisotyr', 'subaortic', 'myectomy', 'intraductal', '11:31', '11:35', 'rf', 'myocarditis', 'worksheet-discharge', 'diagnosis-last', 'update', 'pa', '1111', 'prcoess', 't4-8', \"parkinson'sisease\", 'disseminate', 'train', 'neuroendocrine', 'patella', '09:50', '10:06', 'carotidid', 'bacteremia/fungemia', 'l-sided', 'm-w-f', 'nephrologist', '**awaiting', 'transplant**', 'dysarthria', 'apraxia', 'tracheo-esophageal', 'connection', 'sev', 'w/ai', 'avr/pfo', 'w/claudication', 'cvax2', 'occipital/cerebellar', '1.5-1.9', 'drainage', 'transudate', 'troponin', 'ceftazidime', 'zoloft', 'nph', 'sotalol', 't.i.d.', 'isordil', 'zocor', '16:26', '17:45', 'pseudogout', 'epididymoorchitis', 'ventriculoperitoneal', '02:14', 'congestion', 'esbl', 'kelbsiella', 'laminectomy/fusion', 'intra-abdominal', 'diease', 'akas', 'impossible', 'l5-s1/chronic', 'disease-', 'arotid', 'r/o', 'tb', 'stromal', 'gist', 'diamniotic', 'dichorionic', 'breech', 'deliver', 'vaginally', 'emerge', 'bag', 'mask', '47', 'insufficient', 'saline', 'bolus', 'normotensive', 'remainder', 'border', 'loud', 'towards', 'apex', 'bound', 'pulse', 'still', 'cardiology', 'ampicillin', 'gentamycin', 'area', 'slow', 'po', 'suggest', 'enfamil', 'ounce.his', '2545', 'synagis', 'pediatrician', 'mom', 'immunize', '13.3', '50.1.', 'ferinsol', 'bring', 'much', 'breastmilk', 'formula', 'l.nephrectomy', 'rcc', 'tkr', 'intraventicular', 'coma', '3rd/4th', 'planum', 'sphenoidal', 'rds', 'indomethacin', '16:09', '16:08', 'off-pump', 'infraction', 'tinitus', '04:05', '14:17', 'rule-out', '50-595', '17:32', 'shiga', 'produce', 'bacteria', 'combination', 'tacycardia', 'graft-versus-host', 'hemochromatosis/cirrhosis', 'prelim', 'glioma', 'divericulosis', 'tah/bso', '~88', 'exlap/loa', 'exlap/loa/sbr', 'originate', 'aplastic', 'stoma', 'nsclc', 'subsegmental', '26', 'rim', 'hypokinesis', 'afebrile', '11:46', '12:13', 'pathologic', 'cepholomedullary', 'nail', '1.mild', 'tracheobronchomalacia', '2.severe', '3.chronic', '4.hypertension', '5.anxiety', 'dis', 'mod.etoh', '20py', 'quit3/07', 'fasciitis', 'attack-', 'abcess/fisulae', 'component', 'convexity', 'disease/rheumatic', 'cortical', 'hypercholesterolinemia', 'aretery', 'hyperension', 'thrombocytopenia-drug', 'goal', 'p/o', 'icu', 'pshycosis', '1.2', '2.3', 'pre', 'nedh', 'dlad', 'd1', 'ett', 'myoview', 'exercise', 'minute', '96', 'phr', '2mm', 'anterolateral', 'recovery', 'lv', 'amount', '66', 'twitch', 'melenoma', 'sternotomy/avr', 'asthma/emphysema', 'apnea-uses', 'ventilatory', 'support', 'watery', 'k', '10/22/2200', '13:00', 'formally', 'ampullary', 'triplet', 'head-sparing', 'restriction', 'contact', 'dermatitis', '01:02:31', '06:55:30', 'eruption', 'enterocolitis', 'terminal', 'ileum', 'series', '14:24', '20:53', 'hemmorhage', 'hypotonia', '19:01', '20:09', '5.8', 'rue', 'finish', 'encourage', 'get', 'catch', 'machine', '-tissue', 'sprint', 'fidelis', 'rem', 'anemia/lower', '-hyperlipidema', '14:15', '14:39', '11:05', '12:43', 'concussion', 'hypogastric', 'liter/min', 'respitory', 'contrecoup', 'portion', 'w/petrous', 'involvement/canal', 'ossicle', 'bacteriemia', 'atopic', 'ileopathy', 'bilary', '9cm', 'massnsclc', '7/5', 'vat', 'pleuroscopy', 'mediastinoscopy', 'ablation/pacer', 'bullous', 'pemphigoid', 'calcaneal', 'encephalitis', 't-cell', 'spread', '10-15', 'non-sustained', 'obestiy', 'impair', 'prostatectomy', 'hormone', 'rx', 'occ.urinary', 'hard', 'cannulation', 'indwell', 'supracoronary', 'swallow/vocal', 'perihilar', 'recover', '5.2cm', 'limit', 'ambulation', 'microscopic', 'specific', 'knowledge', 'less', 'c6-7', '29mm', 'esoph', '06:32', '06:29', 'edh', 'bibasilar', 'acalculous', 'anuria', 'nocturnal', 'pre-renal', 'azotemia', 'alchoholic', 'atalectasis', 'pan-sensitive', 'cva-r', 'subcortical/corona', 'radiata', 'infarct-resolving', 'anaplastic', 'astrocytoma', 'vert', 'inf', 'corner', 't2-8', 'asthma/bronchitis', 'cluster', 'peripancreatic', 'hypertriglyceridemia', 'postmortem', 'examination', '15:17', '09:57', 'colostomy', 'pulmonay', 'hypertention', 'cholesterol/triglycerides', 'monthly', 'laparoscopic', 'gram-negative', 'non-stemi', 'nose', 'hypoglycemic', 'hyperthyroidism', 'sudden', 'infact', 'frotnal', 'cad/', 'afib/', '/xrt/', 'presbyesophagus', 'osteogenesis', 'imperfecta', 'nstemi/troponin', 'cardia', 'fiducial', 'tachycardia/torsades', 'qt', 'interval', 'gynecomastia', 'mammogram', 'genital', 'clavicular', 'ulnar', 'slip', 'sarcoma', '03:04', '04:15', 'l2,3', 't3,12', 'l1,4', 'in-stent', 'restenosis', 'brachytherapy', 'l2-l5', 'tahycardia', 'suppression', 'tibilal', 'pyrexia', '2u', '**59**', '**69**', 'angioplasty/om', '-ugib', '-hypoglycemia', 'porto-caval', '-hepatic', 'adenomas/hemangiomas', 'average-for-gestational-age', 'abstinence', 'prom', 'wnl', '17:04:59', '10:06:05', 'choleycystectomy', 'section', 'anesthesia', 'vomitting', 'anesthesia/dilaudid', 'hypertension/hyperlipidemia', 'gerd/barrett', 'c7-t1', 'mvrepair', 'thrombolysis', 'diagonsis', 'incavernous', '10:55', '14:57', 'oversedation', 'extubation', 'thin', 'liquid', '12:56', 'bka', 'ttp-hus', 'solitary', 'combivent', 'remeron', 'protonix', 'furosemide', 'albuterol/atrovent', 'nebulizer', 'taper', 'fosamax', '70', 'restart', 'gastroenterology', 'warrant', 'restructure', 'dictator', '08:58', '09:16', 'tranplantation', 'antabuse', 'drink', '-expired', '-respiratory', '-hypotension', 'stenosis/regurgitation', 'op-cabg', 'hemiplegia', 'scrotal', 'parapneumonic', 'kidlney', 'plat', 'brain/spine', 'dm-ii', 'ulceration', 'lar', 'hemicolectomy', 'arrange', '15:26', 'dx:51', 'yo', 'hiv/hcv', 'subtrochanteric/proximal', 'polyuria', 'polydipsia', 'non-compliance', 'mood', 'metacarpal', 'ileal', 'neobladder', 'axillo-bifemoral', '10:29', '10:41', '2-7th', 'ffacture', 'dystonia', 'port-a', 'vegetative', 'aneurism', 'rostrum', 'conjunctivitis', 'sdh/sah', 'ibs', 'bifrontal', 'small-bowel', 'testosterone', 'orchiectomy', 'anuric', 'totally', 'intra-op', 'brady', 'hypercholesteremia', 'leni', 'svg-rpda', '3vd', 'cross', 'avn', 'lupron', 'statin', 'od', 'dermatomyosistis', 'mtx/prednisone', 'esophogeal', 'sedation', 'aorta/', 'resusp', 'urosepsis/hypotension', 'd+c', '**63**', 'boop', 'dvt/pe', 'brca2', '4075', 'delgt', 'mutation', 's.', 'dcvv', 'endo-tracheal', 'cranioplasty', 'frontal/embolic', 'mrsa+', 'pleuritis', 'athritis', 'motorize', 'wheel', 'chair', 'clonidine', 'deconditioned', 'chylothorax', 'ventricle', 'waldenstroms', 'macroglobulinemia', 'avnrt', 'degranulation', 'h1n1', 'pth', '14:41', '15:10', '17:13', '20:48', 'stent-grafts', 'antegrade/cholecystectomy', 'r.femoral', 'respond', 'diuretic', 'storke', 'a1c', '9.2', 'escape', 'pace', 'fronatl', '**60**', '-15', 'aca', 'aneursym', 'turbt', 'division', 'urothelial', 'm.d.12-534', '14:42', '14:54', 'lymphadenectomy', 'radiation-induced', 'urgency/pulmonary', 'syncytial', 'oncologist', '20-year-old', 'unrestrained', 'gc', 'intubate', 'nothing', 'vital', 'ed', 'exam', 'dp', 'bay', 'notable', 'and/or', 'gross', 'pelvis', 'c-spine', 'evidence', 'subtle', 'density', 'sulcus', 'worrisome', 'mucosal', 'thicken', 'paranasal', 'material', 'represent', 'surround', 'region', 'pneumomediastinum', 'traverse', 'parenchyma', 'immediately', 'operate', 'bolt', 'neurosurgery', 'discover', 'successive', 'monitor', 'hold', 'suction', 'subsequently', 'pull', 'x-', 'ray', 'consult', 'orthopedics', 'event', 'transfer', 'pt/ot', 'product', 'unchanged', 'appearance', 'tiny', 'portable', 'dobhoff', 'crutch', 'cast', 'nonweightbearing', 'softener', 'magnesia', 'prescribe', 'submassive', 'sprain', 'meningococcemia', 'coagulation', 'respirator', 'hematobilia', 'survive', '27', '09:56:48', '11:00:34', '0', 'tooth', 'subcapital', 'requirement', 'hypothyroidism-', 'tsh', 'menorrhagia', 'ductal', 'situ', 'arthrotomy', '12:00', '09:43', '15:25', '11:20', '1-', 'tracheostomy/prolonged', '2-', 'postoperatively', 'hybrid', '11:21', 'tendonitis', 'obsessive', 'compulsive', '-urgent', '-intra/post', 'neurological', 'homonymous', 'hemianopia', 'spar', 'alexia', 'agraphia', 'localize', 'visual', 'involvement', 'thus', 'disconnection', 'c/o', 'extremitiy', 'evh', '-post', 'illeus', 'regularly', 'c3', 'occiput', 'pharyngeal', 'compensate', 'hypoventilation', 'gastroperesis', 'prostatis', 'cardioversions', 'wear', 'aide', 'lipoma', 'choledocolithiasis', 'morganella/e', 'billroth', 'sacroiliac', 'heel', 'scarcoidosis', '-ventral', '-obstructive', '-panic', 'endoleak', 'endo', 'fem-fem', 'vv', 'evar', '**29**', '/mv', 'neuroleptic', 'parotid', 'incompatibility', '07:51', '07:58', 'cclist', '-who', 'gbm', '-dysphagia', 'fire', 'endometrial', 'torsion', 'presumptive', 'culture-negative', 'intra-medullary', 'aortitis', 'crush', 'canal', '06:18:31', '07:35:44', 'protein', 'suspicious', '02:55:18', '04:22:01', 'penetrate', 'acute/chronic', 'fournier', 'subcutnaeous', 'artery-', 'diagnal/saphenous', 'bronchitic', 'pneumonia/copd', 'mvr/cabg', 'c3-5', 'post-cardiac', 'biliateral', 'femural', '-grade', '-presumed', '-t12', '-asymptomatic', 'high-grade', 'ugib', '53', 'woman', 'ethanol', 'temporal-parietal', 'ive', 'carcinomatosis', '1.congestive', 'contraction', 'hyaline', 'ovale', '04:46', '17:47', 'intraparenchemal', 'lt.', '1months', 'c2-c4', 'prophylaxis', 'clinical', 'rescucitation', 'dvt/', 'esophagitis/duodenitis/duodenal', 'cabgx2', '/av', 'tia-', 'osteoarthristis-knees', 'hemmroids', 'arteriogram', 'femoral-peroneal', 'conduit', 'vacuum-assisted', '18:51', '19:33', 'musculoskeletal', 'alzheimer', 'generator', 'adhesion', 'perineum', '-septecemia', '-aspiration', 'stenosis-hospitalized', 'prolongued', 'ext', 'biomarkers', 'chronic/subacute', 'trusopt', 'o.u', 'butoptic', 'norvasc', 'q4-6hours', 'p.r.n', 'zinc', '220', 'multivitamin', '10:19', 'needle', 'phobia', 'disesae', 'dka/hhs', 'newly', 'observation', 'unverified', '-malaria', 'falcipaurm', '-thrombocytopenia', '-hemolytic', 'methicillin-resistant', '5000', 'artificial', 'p.r', 'pro-mod', 'fiber', '105', 'cc/hr', 'enter', 'witness', 'tonoclonic', 'eight', 'valium', 'dictation', '18:36', 'hepatopulmonary', 'panhypopituitarism', '02:00', '16:03', 'hyperventilation', '414.05', '285.9', '682.3', 'dif', '-tracheobronchomalacia', '-vap', 'intermittently', '-mycobacterium', '-bronchiectasis', '-delirium', 'pseudomyxoma', 'peritonei', 'urinart', 'recatheterization', 'cipher', '06:03', '18:34', 'concussive', 'c4', 'frx', 'pons', 'cerebellopontine', 'symphasis', 'alonf', 'falx', 'w/right', 'calf', 'arthroscopy/meniscus', 'normochromic', 'alcohol/acetaminophen', 'untreated', '**39**', '-ventricular', 'providenci', 'stuartii', '9/', 'myelodysplasia', 'scc', 'compressive', '10:07', 'enterobacterium', 'flavobacterium', 'divisum', '3-4', 'lateralis', 'pta', 'symdrome', 'mediport', 'lysis', 'venogram', 'ballon', 'rotorooter', 'non-q', 'wave', 'femoral-femoral', 'femoral-to-posterior', 'lymphangitic', 'anorectal', 'attempt/suicidal', 'post-trauma', 'track', '3l/min', 'ptcas', '8-9', 'nisan', 'fundoplication', 'w/neuropathy', 'rhabomyolysis', 'fascial', 'vesiculoenteric/coloenteric', 'avr/mvr', 'flexible', 'sigmoidoscopy', 'ethiodol', 'hemostasis', 'chornic', 'ischial', 't4-t9', 'calcaneus', 'tib-fib', 'peri-thoracic', '01:24', '01:51', 'myoclonus', 'disesase', 't9', '-secondary', 'ue', '-trigeminal', 'necessitate', '-recurrent', 'colonize', '-decubitus', '-temporomandibular', 'retropulsion', 'thrombocytyopenia', 'caries', 'post-catheterization', 'anticoagulant', 'duration', 'immaturity', '12:09:53', '13:10:36', 'mucocele', '02:26:51', '04:16:13', 'graftx', 'dexamethasone', 't4-5', 'intradural', 'extramedullary', 'billiary', 'pyloric', '3u', 'pouchitis', 'aspergillosis', 'l345', 'moderately', 'mouth', 'high-degree', 'nodal', 'depakote', 'l-intracranial', 'hge', 'ich+', 'embolectomy', 'organism', 'yet', 'speciate', 'pan', 'tracheobronchial', 'malacia', 'tracheoplasty', 'troponins', 'blebectomy', 'pleurodiesis', 'pleurodesis', '02', '3l', 'adenopathy', 'speak', 'high-dose', 'methotrexate', 'inappropriate', 'anti-diuretic', 'bronchoconstriction', 'non-obstuctive', 'hyper', 'osmolar', 'non-ketotic', 'uncal', 'transtentorial', 'leftward', 'mycobacteria', 'complexum', 'desaturation', 'passage', 'thank', 'allow', 'u', 'boy', 'wish', 'best', 'luck', '11:09', '11:14', '-spinal', '-c4-c6', 'c3-c7', '-hypoxia', 'saphenectomy', '19:17', '19:31', 'ugi', 'cfv', 'diagnosis-finalized', '1220', 'dysrythmia', 'recebnturi', '/p', 'stag', 'perpheral', 'bpg', 'infract', 'ihr', 'acom', '250.13', '303.90', 'use/dependence', '070.54', 'hemothorax', '700', 'post-open', 'insuficiency', 'tendinosis', 'hyppertension', 'galstone', 'disease/dementia', 'enteric-coated', 'glyburide', 'effexor-xr', 'q.4h', '1800-calorie', 'american', '16:57', '17:16', 'multiply', 'proctocolectomy', 'blow-out', 'alkaline', 'phosphatase', 'brief', 'pectoral', '2.8cm', 'replacement/maze', 's/', 't-tube', 'pseudoaneursym', '1.3-1.7', 'dementia-vascular', 'disease/asthma', 'multi-vascular', 'toxicicity', 'parastomal', 'cholangioca', 'bleeding-resolved', 'phlebectomy', 'mammoplasties', 'reentrant', 'gallbladder', 'strangulate', 'intaparychymal', 'osteosarcoma', 'leukostasis', 'obesity-hypoventilation', 'germinal', 'matrix', 'cathether', 'dka', 'nuclear', 'p-mibi', 'motion', '72', 'transmetatarsal', 'bezoar', 'disclose', '1:45', 'hepato-renal', 'root-', '-thrombotic', '-alopecia', 'areata', 'gpc', 't2dm', 'tail', 'smv', 'ileo-colonic', 'anastamosis', 'chron', 'nephrolitihiasis', 'lithrotripsy', 'ureteral', 'appendicitis', 'alcohol-induced', 'ateriovenous', 'gastrojejunal', 'hematemeis', 'nafld', '65', '2.5.', '*patient', 'neurology*', '**76**', 'hyperlipiedemia', 'pernicious', 'lumbosacral', 'radiculitis', 'approx', 'nine', 'mohs', 'hyperlipid', 'embolis', 'club', 'bleeding/thrombocytopenia', 'torsade', 'fresh', 'plasma', 'intussusception', 'pbc', '13:33', '15:41', 'unresponsiveness', 'hypoalbuminema', 'bicycle', 'dissect', 'evd', 'epilepsia', 'partialis', 'continuum', 'depression-', 'buttock', 'could', 'diabtes', 'polyarticular', 'user', 'lcx/rca', '/circumcision', 'tentorial', 'wegner', 'pancreaticojejeunostomy', 'prevotella', 'lobar', 'psychogenic', 'oligoastrocytoma', 'flex', 'bronch', '4cmm', 'a-shaped', 'trachea', 'expiratory', 'maneuver', 'discectomy', 'cervicoplasty', '-acute-on-chronic', 'desire', 'minimal', '-hypernatremia', 'adequate', 'water', '-alzheimer', '34-2/7', '15:47', 'symmetric', 'parenteral', 'cholestasis', 'circumcision', '07:32', '7+3', 'induction', 'hidac', 'reinduction', 'effusion/tamponade', 'lfts', '**75**', 'autonomic/neuroendocrine', 'w/broca', 'garner', 'daughter', '82', 'suffer', 'nonproductive', 'senior', '4:00', 'quite', 'weak', 'orient', 'levofloxacin', 'articulate', 'nod', 'appropriately', 'question', 'diffusion', '5:10', 'appreciable', 'doppler', 'reflow', 'functional', 'house', 'chore', 'palpitation', 'six', 'son-in-law', 'ill', 'flu', 'scleroderma', 'hypothyrodism', 'typhlitis', 'supratherpeutic', 'preterm', '11:42:11', '12:14:22', '-gastrointestinal', '-stroke', 'pcom', 'vagal', 'vertebrobasilar', 'channel/antral', 'a.', 'apne', 'discharge.if', '08:15:22', '08:39:23', 'disease-right', 'bursistis', 'cheeck', 'nostril', 'hemangioma-', 'chart', 'unsure', 'cheek', 'erlichiosis', 'e-coli', 'd2', 'repiratory', 'seconary', 'crt', 'tte', 'lvedp', 'avb', 'bowel/retroperitoneum', 'ich', 'neurologic', 'rind', 'low-output', 'rub', 'either', 'lymphocytic', 'prolymphocytic', '14:45', '17:34', 'leakage', 'pipericillin', 'rash/renal', 'dmi', 'monomorphic', 'dysphasia', 'original', 'advancement', '==========================================', 'enfermidad', 'ulcera', 'peptica', 'sangrando', 'estomago', 'presion', 'tipo', 'hipotiroidismo', 'colesterol', 'alto', 'manage', 'juxtarenal', '3.5', '5.1', 'hnp', 'c5-c6', 'exit', 'in-hospital', 'range', '22:14', '00:15', 'intraparenchimal', 'neisseria', 'meningitidis', 'shatzki', 'disimpaction', '17:26', 'post-ileocecectomy', 'oncology', 'gasterointestinal', 'c4-c5', 'c6-c7', 'lefort', 'teeth', 'takotsubo', 'excison', 'uterus', 'encephalopathy-secondary', 'vancomycin-resistant', 'morphine', 'discontinuation', 'days-last', 'unasyn', 'administer', 'tent', 'tolerated-wean', 'ms.', 'surgical/invasive', 'electroconvulsive', 'determine', 'long-term', 'nosebleed', 'lob', 'cml', 'perineal', 'advice', 'transaminitis/chemical', 'distention', 'amemia', 'anemia/gi', 'superomedial', 'cephalic', 'genesis', 'creatine=', '1.7-1.9', 'sigmoidectomy', 'ileus/partial', 'multi-atrial', 'te', 'pull-up', 'inspiratory', 'stridor', 'floppy', 'arytenoid', '06:38', '09:13', 'arteryu', 'cautery', 'clippingx2', 'oliguric', 'pseudo', 'xamthmo', 'elasticum', 'cardioembolic', '9.7', 'mildly', 'ammonia', 'w.', 'pseudoaneurysms', 'sidewall', '18:15:56', '21:23:42', 'utero', 'restriction/small', '15:37', '16:53', '35+', 'partum', 'hypothyroid-new', 'feculent', '18:20', '18:49', 'failure/ards', 'arthoroscopy', 'catheter-associated', 'paraesophageal', 'occult', 'try', 'affirm', 'guillain-', 'unlikely', '29', 'laparoscopy', 'bunion', 'adenovirus', 'dermatographism', '8th', 'hgba1c', '7.9', 'q4h', 'fsbg', '25h', '12-15l', 'qhs', 'hdl', '76', 'tg', 'liter', 'vodka', 'detox', 'bayridge', 'relapse', 'nearly', 'illicits', 'brbpr', 'hemerhoids', '09:51', '09:56', 'meet', 'small/stable', 'stuff', '-thoracic', 'schatzker', 'vac', 'fourth', 'third', 'fifth', 'metacarpocarpal', '-non-healing', '-dm2', '-prolonged', 'rul', 'inhaler', 'sepsis/bacteremia', 'aicd/vvi', 'hypercoagulable', 'nonhealing', '13:49', '14:43', '06:41', 'w/pulmonary', 'book', 't5/t6', 'sestimibi', 'lbbb', 'plasmablastic', 'flatbush', '12-872', '00:04', '06:42', 'thrombocyopenia', 'cautious', 'closely', 'anyone', 'pseudocysts', 'betalactamase', 'depedent', '02-911', '18:27', 'ejetion', 'pseudoclaudication', 'prostic', 'nondiplaced', 'def', 'ultra-porcine', 'svg-drca', 'partially', 'generalization', 'tracheobronchiomalacia', 't10/11', 'chance', 'infection-viral', 'clubfoot', 'non-healing', 'successful', 'subglotic', 'rcc/left', 'bmi', '49', 'ebv', 'disorder/depression', 'coagulase-negative', 'plane', 'foreign', 'ankle/foot', 'li', 'franc', 'calcaneal/cuboid', 'oxycontin', '25mm', 'helicobacter', 'takedown', 'astric', '9s/p', 'bilateal', '14:51', 'listhesis', 'agranulocytosis', '-aggitation', '-anticholinergic', '-bipolar', '-hepatitis', '-asthma', '-polysubstance', 'cbd', 'dual', 'chamber', 'microabscess', 'ocular', 'endophthalmitis', 'detachment', 'situational', 'secondary/pmh', 'cva-bilateral', 'gemcitibine', '36-2/7', 'hyperinsulinemia', '15:27:01', '16:04:10', 'gastritits', '74', 'vl', '100,000', 'candidiasis', 'ia', 'positional', 'tachycardia-induced', '**90**', '12-664', '07:56', '07:47', '07:21', '20:33', 'unintentional', 'narcotic/benzo', 'hyperobstructive', 'alloantibody', 'anti', 'organic', 'subclinical', 'watershed', 'available', 'coag-negative', 'granulomatous', 'non-tb', 'surface', '08:51:19', '09:44:50', '/cabg', 'colonscopy', 'hysterectmy', 'lvef', 'perpherial', 'gangrenous', 'fibrillatiion', 'rheumatica-', '18:45', '18:52', 'resporatory', '09:11', '09:42', 'drug-induced', 'femoral-posterior', 'tension', 'frequency', 'gm', 'intravenously', 'flagyl', '16:23', '16:59', 'ongoing', '12:34:03', '14:26:02', 'identification', 'abort', '18:12', '18:13', 'multiorganism', '-sinus', 'burn', 'bsa', 'lobe/lingula', 'isopropyl', 'dilitation', '/coronary', 'non-', '+mrsa', 'hyprelipidemia', 'pre-op', 'phone', 'date/time', '1:00', 'retinopthy', 'strip', 'neo-pharynx', 'fistulous', 'nutrional', 'depletion', 'chord', 'readmitted', 'dysrhythmias', 'pauci-immune', 'crescentric', 'hydralazine', 'tu', 'th', 'sa', 'afib/aflutter', 'steal', 'age-related', 'macula', 'anomalous', 'dominant', '1.small', '2.pneumonia', '3.hypotension', 'fibrilllation', 'transuretheral', 'rescetion', 'jejunal', 'stricturoplasty', 'ck', 'myelodsyplastic', 'broncheoalveolar', 'aorto-enteric', '14:44', '15:15', '20unit', 'endoclip', 'arthrocentesis', 'aeromionas', 'fecium', 'lesions/abscess', 'acuite', 'primary/active', 'transformation', 'bk', 'viruria', 'adenoviremia', '-myelodysplastic', 'match', '-epilepsy', '-cmv', '-hypercalcemia', '-hyponatremia', 'ulcer/bleeding', 'disease/aortic', 'unkwn', 'osetoporosis', 'difuse', 'cytology', 'irradiation', 'flexor', 'median', 'glass', 'axilla', 'unprovoked', 'telangiectasia', 'myalgia', 'lvsd', 'wma', 'tah-bso', '10-20', 'additionally', 'pt/inr', 'thereafter', 'saturday', 'decide', '05:34', '20:27', 'osteomy', '____________________', 'wilson', 'handle', 'bronchopulmonary', '01:11', '01:31', 'mvp', 'burr', 'hole', 'calcify', 'aortovenous', 'trivalvular', 'hyperuricemia', 'graf', 'lvh', 'pancreatitis/', '12:05', 'withdrawal/agitation', 'cecum', 'withdraw', 'even', '21:15', '-diastolic', '-mild', 'mid-thoracic', 'lbp', 'hld', 'nonoperable', '15:06', '16:07', 'insufficency', '1.1-1.5', 'scarlet', 'imapcted', 'metadiaphysis', 'primay', 'post-procedural', 'hemorrhage/intrparenchymal', 'diptheria', 'infantile', 'progress', 'stimulator', 'tracheostomy/y-stent/g-tube', 'pseudomonal/mrsa', 'flex/rigid', 'silicone', 'w/electrocautery', 'reposition', '22:12:31', '00:10:46', 'paroxysma', 'transcalvarium', 'infiltrative', 't-spine', 'biocor', 'dementia/depression', 'fen', '08:24', '08:33', '4/7th', '2.180', '39-year-old', 'ab+', 'fetus', 'asthmatic', 'serovent', 'ventolin', 'prozac', 'clonazapin', 'labor', 'retract', 'grunt', 'wih', 'c-pap', 'angiocath', 'film', 'assist', 'cannula', 'transition', 'gas', 'possibility', 'choke', 'consider', 'suck', 'chmc', 'never', 'radiologist', 'somewhat', 'uplift', 'read', 'silhouette', 'agree', 'gentamicin', 'spit', 'desaturations', 'intake', 'team', 'barium', 'tablespoon', 'rice', 'cereal', 'feeder', 'thick', 'addition', 'reason', 'zantac', 'upwards', '160', 'enrich', '3.330', '3pm', 'entertain', '51.5.', '18.3', 'entirely', 'intrapelvic', 'pu', '07:49', '20:25', '-cocaine', 'talk', 'completion', 'subject', 'accept', '23:32', '00:53', 'cardiorenal', 'capability', 'amio', 'case', 'cancel', 'cad/mr', '27mm', 'elope', 'incomplete', 'lam', 'pmhx', 'pk', 'tularemia', 'babesioses', 'corona', 'pericardal', 'pericardiocentesis', '-congestive', '-arthritis', '-stable', '7.8', '6.8', '-aortic', '21:43', '00:31', '18:59', '19:59', '17:04', '17:19', 'dependency', 'endoscopically', 'bilaateral', 'hyperlipdemia', 'tues', 'thurs', 'sit', 'myocardium', 'infract-stable', 'arthritis/gout', 'metatstatic', 'ir', 'enlargement', 'encarcerated', 'pvc', 'polyendocrine', 'comprise', 'hypoparathyroidism', 'dxed', 'alopecia', 'totalis', 'mucocutaneous', 'ect', '17', 'developmentally', 'anxiety/panic', 'markedly', 'zenkers', 'rima', 'vasectomy', 'myelitis', '10:46', 'marfan', 'ax', 'bifem', 'ao', 'w/debranching', '02:07:46', '03:35:34', 'avr/mvr/cabg', 'bursitis', 'lithotripsy', 'carina', 'multidrug-resistant', 'prostatectomy/xrt', '**86**', 'occ', 'diplaced', '4th-8th', 'dysmotility-severe', '=================', '===================', 'grow', 'acne', '35k', 'wbc', '98', 'linear', 'lugdunesis', 'tet', 'ox/vanc/clinda/bactrim', 'as/ai', 'phtn', 'chrondrodermatitis', 'c-sectionx2', 'bypass/embolectomy', 'caf', 'agitate', 'haldol', 'qtc', 'prolongation', 'c3-c4', 'interspinous', 'ligament', 'distension', 'c5-6', 'pseudarthrosis', 'subphrenic', 'hypthyroidism', 'beast', 'gastroduodenal', 'locally', 'advance', 'anti-coagulation', 'polycystic', 'thrombpocytopenic', 'infarcted', 'omentum', 'segmental', 'omentectomy', '03:18', '03:55', 'hemochromatosis', '-iliac', 'disease-s/p', '1.left', 'copd/emphysema', 'malunion', 'devascularization', 'sensation', 'nondominant', 'perianal', 'awmi', 'lethargy', 'non-specific', 'dic', 'splenomegaly', 'vap/hap', '2.acute', 'surgs', '6th', 'pneumococcal', '-amiodarone', '-multifocal', 'lacuna', 'w/intra', 'preoperatively', 'trach/peg', 'abdominoperineal', 'man', 'n0', 't1', 'suture', 'general', 'auscultation', 'gallop', 'nontender', 'nondistended', 'pit', 'warm', 'noncyanotic', 'nonedematous', 'neurologically', 'grossly', 'em', 'disdtal', 'streptococcal', 'etoh/metabolic/chronic', 'device', 'medullary', 'pneumonia/sepsis/acute', 'ventrcle', 'ependymoma', '-osteomyelitis', '-drug', 'ertapenem', 'agep', '9acute', 'exanthematous', 'pustulosis', '-dupuytrens', 'capsulitis', 'barretts', 'mwmc', 'cystoscopy/fulgaration', 'perm', 'olupron/xrt', 'insufficiency/stenosis', 'bronchitits', 'giant', 'myocardiac', 'diagnoese', 'parkinsonism', 'collitis', 'subtotal', 'hypokelimia', 'hypomagnesimia', 'self-limited', 'pulonary', '16:30', '16:40', 'hypothroidism', 'pv', 'serous', 'rca-10yrs', 'couple', '11:31:19', '20:27:45', 'acromioclavicular', 'disclocation', 'arthralgia', 'verbaized', 'midbrain', 'endometriosis/pelvic', 'gun', 'shoot', 'cholestatic', 'refeeding', 'miscarriage', 'separation', 'paniculectomy', 'staghorn', 'atrophic', '**40**', 'beta-blocker', 't8', 'fracures', 'optic', 'l1/l2', 'dianosis', 'spondylolisthesis', 'incidental', 'durotomy', '78-year-old', 'intermediate', 'diuresed', 'accordingly', 'revascularization', 'folate', '0.6', 'moexipril', 'sevelamer', '800', 'q.i.d', 'labetalol', '1000', 'nifedipine', '120', 'quadrant', '15:33:19', '17:10:24', 'dermal', 'bloodstream', 'nephrosclerosis', 'esrd/chronic', 'merci', 'hemophilia', 'attempt/overdose', '12:52:38', '14:16:49', 'dislocate', 't10', 'vertebrectomy', 't9-t11', 'reinsertion', 'pleasant', '56', 'long-standing', 't10-t11', 'nonoperatively', 'bony', 'destruction', 'despite', 'electively', 'detail', 'aforementioned', 'apparent', 'intraoperative', 'approach', 'intraoperatively', 'essentially', 'unremarkable', 'extubated', 'uneventfully', 'brittle', 'lability', 'trough', 'presence', 'movement', 'twenty-one', 'aggressively', 'stimulation', 'enema', 'tlso', 'brace', 'fit', 'hall', 'candidate', 'continuance', 'optimization', 'q24hours', 'centimeter', 'standard', 'clean', 'strength', 'sooner', 'differential', 'esr', 'crp', 'diltiazem', 'docusate', 'bisacodyl', 'hydromorphone', 'q4hours', 'slide', 'scale', 'attach', 'documentation', '10:21', '10:58', 'aggitation/confusion', 'birth', 'matric', '19:23:31', '20:27:19', 'millimeter', 'myomectomy', 'paracentesis', 'infection/mediastinitis', '72-year-old', 'co2', 'send', 'disturbance', 'profound', 'laboratory', 'data', 'ptt', '2.2', '136', '4.4', 'bun', '1.0', '164', '09:03:31', '10:13:34', 'vertebral/basilar', 'pyelonephritis/urosepsis', 'retention/hydronephrosis', 'nephrostogram', 'granuloma', 'annulare', 'pm/icd', 'troponin-demand', '**24**', '**27**', '04:43', 'excess', 'pannus', 'panniculectomy', 'q4-6h', 'allopurinol', 'atenolol', 'latanoprost', 'solution', 'timolol', '09:34', '07:35', 'actinic', 'proctocolitis', 'temporoccipital', 'hemmorrhage', 'jude', 'bursectomy', 'bursa', 'stiff', 'person', 'cyberknife', 'compicated', 'adult', 'syphillis', '3/7th', '02:46', '06:21', 'tremans', '05:20', '20:13', 'dialated', 'cardiomyopathy-systolic', 'paroxismal', 'peritrochanteric', 'erythematosus', 'phenomenon', 'aga', 'pre-term', '23:20', '00:18', '^chol.', 'methicillin-senstive', 'endogenous', 'thromboembolic', 'motility', 'inertia', 'nstemi/post', 'aranesp', 'levothyroxine', 'neurosensory', 'lose', 'psoriatic', 'l.', '02-164', '12:38', '12:45', 'hyperbiliruninemia', 'paronychia', 'w/intramural', 'sub-therapeutic', 'asplenia', 'amp', 'fem/', 'depression/', 'bipolar/ocd', 'epigastric', 'pres', 'allograft', 'hypoperfusion', 'mr.', 'rapamune', 'fk', '506', 'bid', 'bactrim', 'double', 'valcyte', '450', 'univasc', '7.5', 'humalog', 'paxil', 'ritalin', '25/50', 'h', 'silver', 'sulfadiazine', 'wet', 'hibiclens', 'scrub', 'cleanse', 'podas', 'boot', 'apply', 'cream', 'appear', 'already', '20:47', '11:12', 'substernal', 'tracheitis', '10.atrial', '11.hypertension', 'fluconazole', 'vaginitis', 'temperature', 'dysregulation', 'vegatative', 'word', 'microangiopathy', 'ventillator', 'co', 'morbidity', '5q', 'minus', 'coombs', 'cerebrovasvular', 'coffee-ground', 'rml', 'esophagitis/esophageal', '11:08:11', '12:49:02', 'lantus', '16:06', 'punctate', 'hemorrahge', 'muchausen', 'baclofen', 'height', 'intraperitoneal', 'bronchomalacia', '2uprbc', 'copb/chronic', 'bronchitis/possible', 'gb', 'hypospadias', '13:29', '15:20', 'apnea/bradycardia', 'medquist3', '-decompensation', 'combine', '-humoral', 'dificle', 'failure/end-stage', 'haart', 'thrombecomy/embolectomy', 'anemia-secondary', 'arrival', '8.9', 'resusciation', 'alcalinization', 'bicarb', 'rhabdomyolysis-', 'faciotomy-now', 'drop-', 'agressive', 'splint', 'ln', 'dxn', 'app', 'failureshock', 'crest', 'trap', '-seizure', '-multifactorial', '3.6', '2.9', '07:55:24', '08:46:13', 'pprom', 'oligohydramnios', 'non-reassuring', 'stat', 'classical', 'cesaeran', 'micu', 'route', 'chemical', 'hiccup', 'lorazepam', '.5', 'neutra-phos', 'packet', 'haloperidol', '6.25', 'calcitonin', 'salmon', 'intranasal', 'chlorpromazine', 'metoclopramide', 'bacitracin', 'polymyxin', 'ophthalmologic', 'ointment', '20.', '21.', '22.', 'ipratropium', '23.', 'senna', '24.', '25.', 'ambazone', '26.', '27.', '28.', 'keppra', 'myelofibrosis', 'object', 'a-flutter', 'haemophilus', 'influenzae', '15:40', '08:32', 'bacteremia-', 'temporo-parietal', 'pacreatitis', 'appt', 'disable', 'tremulousness', 'self-nflicted', 'carrier', '-bacteremia', '-end-stage', 'milleri', 'vtach/', 'meralgia', 'parasthetica', 'mca/pca', 'mod', 'diasystolic', 'hypomania/bipolar', '-danlos', 'pneumoperitoneum', 'hydropneumothorax', 'non-infected', 'w/lvef', 'de-differentiated', 'ptc', 'mze', 'prostatism', 'mat', 'abberency/nsvt', '-speech', 'rue/rle', 'sensory', 'atherectomy', 'rheumatica', 'polytrauma', 'retrosternal', 'tonic-clonic', 'trileptal', '600', '300', 'trochanteric', 'rotation', 'grand', 'mal', 'confusion/delerium', 'polypharmacy', '292.81', '296.80', '969.3', 'antipsychotic', 'v62.84', '250.02', 'cyclobenzaprine', 'standpoint', 'guard', '11:39', 'pnuemonia', 'cellulits', 'lac/hematoma', 'hepatopathy', 'previously', 'portacath', 'steristrips', 'remicade', 'vertebra', 'methacillin', 'omi', 'bronchilitis', 'obliterans', 'regurgitation/tricuspid', 'regurgitation/aortic', 'replacement/aortic', 'tracheostomy/peg', 'enodvascular', 'aicd/ppm', 'guidant', 't125/guidant', '0158', 'c2-c3', 'intrahepatic', 'manually', 'reduce', 'asbestos', 't4-t5', 'quadriplegia', 'tuberculous', '-osa', '-dchf/right', '-rheumatoid', '-schizoaffective', '-glaucoma', '-postop', '-morbid', '-systolic', '-nephrolithiasis', 'disuse', 'tolerance', 'bacteremia/uti', 'uterosigmoid', 'enceaphalopathy', 'asthmaticus', 'relative', '80s-90s', 'tachycardial', 'coccygeal', 'breakdown', 'buckle', 'purpose', 'application', 'protection', 'critic-aid', '19:44', 'myoclonic', 'renovascular', 'interparenchymal', 'bleb', 'talc', '40-50', 'histopathologic', 'frank', 'ivda', 'signifcant', 'dheydration', 'filbrilation', 'hypercvad', 'intrathecal', '71f', 'rcia', 'bifemoral', '6mm', 'fem', 'ax-fem', 'chem', 'saplingoopherectomy', 'trauma-', 'would', 'bleed-', 'subdiaphragmatic', 'abscess-', 'ct-guided', 'hemothorax-', 'diagnosis-', 'transudative', 'vertigo-', 'mostly', 'vestibular', 'parent', 'ad-lib', 'seat', 'position', 'notification', 'daycare', 'season', 'household', 'neuromuscular', 'school-age', 'sibling', 'annually', 'out-of-home', 'caregiver', '03:57:59', '04:30:17', 'barrette', 'pulomary', 'percutanous', 'hyper-triglyceremia', 'slough', 'sig', 'outpt', 'choleystitis', 'similar', 'flu-like', 'precede', 'pre-ictal', 'shake', 'grand-mal', 'post-ictal', 'slit', 'psychiatrist', '3-6', 'excedrin', '19:19', '20:17', 'popliteal-tibial', 'mrs.', '84', 'vague', 'cemter', 'necessary', 'retension', 'rhabdomyolysis-mild', '+factor', 'post-herpetic', '13:40:49', '22:20:44', 'presacral', 'medial-temporal', 'medial-occipital', 'teardrop', 'lamina', 'endplate', 'displacement', 'suggestion', 'impact', 'transect', 'palate', 'w/left', 'hyperventillation', 'lima-diag', 'svg-lad', 'fenestration', 'sacreal', 'conception', 'schizo-affective', 'antidiuretic', 'wpw', 'recurrant', 'milliliter', 'inject', 'scopolamine', '04:48', '06:54', 'liver-kidney', 'latissimus', '19:20', '19:42', 'suprapatellar', 'calcific', 'l4-l5', 'citrobacter', 'guiaiac', 'superclinoid', 'coil', 'perforation/repair', '0.125', '2.6', 'discoordination', '18:07', 'symptoms/signs', 'subtype', 'multi-digit', 'table', 'saw', 'light', 'chain', 'glottic', 'hcap', 'ansarca', 'x1/avr', 'vtach', 'benzodiazapene', 'copd/resrictive', 'mrsa/pseudomonas', 'apical-aortic', 'porto-biliary', 'interventional', 'radiologic', 'cellcept', 'b.i.d.', 'simethicone', 'epogen', '40,000', 'subcutaneously', 'weekly', 'q.i.d.', 'lansoprazole', '.q', 'zofran', 'sarna', 'lotion', 'nepro', 'occupational', 'bulb', 'prograf', 'mg/dl', 'protocol', 'directly', '16:18', 'ectasia', 'wash-outs', 'dicloxacillin', 'provide', 'depression/acute', 'cholangiogram', 'lamotrigine', 'dispense', '60.', '14:07:42', '15:28:59', 'easy', 'seventh', 'good/stable', 'crf', 's/p-', 'epic', 'esrd/hd', 'verse', 'atonic', '150/65', 'sate', 'alert', 'pupil', 'equal', 'round', 'oropharynx', 'oropharyngeal', 'supple', 'wheeze', 'rale', 'rhonchus', 'iii/vi', '1+', '5/5', '12.3', '39.1', 'mcv', '87', '150.', 'cerebrospinal', 'analysis', 'chem-7', '95', '.8', '139', '4.1', '104', 'bicarbonate', '8.4', 'phosphate', 'magnesium', '1.7.', '54', 'polymorphonuclear', 'leukocyte', 'microorganism', 'vesicular', '11:24', '11:36', 'cardiopulmary', 'kaposi', '-bladder', 'postpone', 'numerous', 'aspect', 'bp', 'aa', 'rigor', 'self-limiting', 'rhabdomyolosis', 'sciatic', 'seconadary', 'expectancy', 'a.flutter', 'stenosis-undergoing', 'transtracheal', 'interrupt', 'coagulpathy', '1:4', 'hemidiaphragm', 'motorbike', 'mid-shaft', 'rn', 'edit', 'proof', 'nursery', '23:59', '00:55', 'balance', 'coarctation', '18:50', '19:54', 'nephritis/acute', 'viii', 't1dm', 'laparascopic', 'malaise', 'hypomagnesiemia', 'praimry', 'emypema', '-phenotypic', 'hairy', 'hyperkalemic', 'spesis', 'msof', 'penicillin', 'neurosyphilis', 'svg-d1', 'keloid', 'ectopic', '14:59:20', '21:04:14', 'surgey', 'alchohol', 'abuse/dependence', 'expose', 'tibia-fibula', 'respirtory', 'styloid', 'ptyerygoid', 'etomidate', '14:03', '10:49', 'membranoproliferative', 'ef=35', 'cirrhosis/decompensated', 'fluid/electrolyte', 'extended-criteria', 'ivj', 'acth', 'dvt/svc', 'seem', 'correlate', 'administration', 'remarkable', '8-mm', 'pectoris', 'schizo-type', 'discus', 'hematology', 'attend', '17:44:17', '19:56:46', 'redo-aortic', 'disease/mitral', 'copd/chronic', 'bkas', 'lbka', 'rbka', 'ivdu/morphine', 'addiction', 'fusobacterium', 'acute-on-chronic', '2+mr', 'polio', 'baffle', 'anaomolous', 'drug-eluting', 'pci/stenting', 'spondylosisthesis', 'lobulated', '1.9', 'hemispheric', 'myeloma/plasma', 'papryacea', 'influezae', '50-55', '7,9,10', '80-99', 'stage2', 'interstial', '10yrs', 'temporal-occipital', 'insula', 'advise', 'low-cholesterol', 'postdischarge', 'teach', 'self-administration', 'brain/liver', 'three-vessel', 'angiojet', 'ileocolic', 'submucosal', 'w/history', 'retro', 'endobronchial', 'schatzki', 'mediastinoscopy/bronchoscopy', 'non-q-wave', '=============', '12:49:38', '13:41:52', 'ludwig', 'step', 'central-lobular', 'x3/mitral', 'regurgitation/', 'amaurosis', 'fugax', 'cancer/radiation', '17.6', 'miss', 'volvulous', 'medications/follow', '16:22', 'colonic-splenic', 'olfactory', 'groove', 'meningeoma', 'fistual', 'error', 'paperwork', 'diahrea', '-recent', '-gastroparesis', '-mrsa', '-kidney', '-fournier', 'prodtatism', 'ghb', 'methamphetamine', 'pityriasis', 'versicolor', 'amphetamine', 'condyloma', 'acuminatum', 'seratonin', 'pyogenic', '12:23', 'ara-c', 'idarubicin', '17:11', '17:40', 'prepatellar', 'dm-i', 'chemotherapy-induced', '-nondisplaced', 'subcondylar', 'dislocation/acetabular', 'traceal', 'acitinobacter', 'morganella', 'spina', 'bifida', 'kyphoscoliosis', 'lbp/herniated', 'aphasia/hemiplegia', '+/-', 'xerosis', 'cutis', 'compliance', 'adenomatous', 'excoriation', 'itch', 'cdiff', '3/diabetic', 'multiinfarct', 'prosate', 'fem-dp', 'srtery', 'myofascial', 'subpectoral', 'cpr', 'penrose', 'regurgitation/prolapse', '12-13', 'cold-induced', 'tingle', '1.grade', '2.left', '3.distal', '04:59', 'pneumonia/sepsis', 'gastro-duodenal', 'ileoanal', 'pouch', '2:1', 'biv', 'below-knee', 'composite', '17:33', '18:03', 'head/neck', 'cavitary', 'meckel', 'acutely', 'pseudoarthrosis', 'secodary', 'cmml', 'prerenal', '21:31:26', '13:19:00', '394', 'pound', 'decubitis', 'chemotx', 'non-insulin-dependent', 'today', 'tomorrow', 'tuesday', 'valganciclovir', 'q8hours', 'isosorbide', 'dinitrate', '14:29', 'duplex', '13:01', '15:33', '17:06', '18:58', 'neurocysticercosis', 'throat', 'replacement/', 'pinch', 'chiropractor', '58f', 'w/complicated', 'pseudotumor', 'cerebri', 'qwk', 'lp', 'aspergillis', 'completely', '77', 'radiate', 'diaphoresis', 'rollover', 'temporal/parietal', 'hsp', 'moment', 'neurologist', 'anoscopy', 'pudendal', 'stones-', 'tinnitus', 'cut', 'retrograde', 'cholangiopancreatography', 'hematology/oncology', 'arterio-venous', 'trachestomy', 'vent-depedent', 'jejunum', 'undiagnosed', 'initially-', 'deficits-on', '18:00', 't+l', '78f', 're-admit', 'fx/pulm', 'contusions/rib', 'trach/spenic', 'splenectomy/pelvic', 'picture', 'respiratoy', 'desats', '13:27:56', '14:04:30', 'regional', 'enteritis', 'must', 'soon', 'dcd', '7.2', 'pm3', 'stress-induced', 'hemo/pneumothorax', 'pericolosal', '08:46', 'flight', 'stair', 'flare/exacerbation', 'lumbago', 'madgy', '13-282', '19:36', '19:35', 'indue', 'thromboctyopenia', 'hyperparathyroid', 'azithromycin', '3-day', '11-575', '11:53', '12:17', '10:09', '11:41', '1.3', 'neurofibromatosis', 'septick', 'bacillus', 'agitation/', 'college', 'non-obstructive', 'nml', '3.chronically', 'valvuloplasty-', 'fibular', 'emg', 'hallux', 'arteriosis', 'hypothyroxinemia', 'compound', 'pedunculated', '14:09:11', '15:44:39', 'non-reversed', 'pta/stent', '-r', 'hemachromatosis', '4.3cm', 'temporo/pariteal/occipital', 'conduction', 'colocutaneous', '20:34', '21:39', 'locally-advanced', '70-79', 'limb-threatening', '71', 'cool', 'w/stent', 'return', 'agram', 'ventillation', 'inotropic', 'intraaortic', 'vanc/levo/flagyl', 'empirically', 'forward', 'flow', 'sigma', 'paranoid', 'aspiration-induced', '1.4cm', 'non-diagnostic', '3v', 'regurgitation/mitral', 'respiratry', '24w5d', 'placenta', 'previa', 'jirovecci', 'hylicobactor', '1.5-3l', '~1month', 'cck', '83-86', '65-pack', 'hypercholesteolemia', '**44**', 'lbp-occassional', 'numb', 'appyendectomy', 'aneurysm/aortic', 'asc.hemiarch', '-methicillin', 'replacement/avr', 'radiofrequency', 'takostubo', 'ptca/5', 'hyperthyroid-on', 'ago-none', 'hemi-colectomy', 'neuropathic', 'leukoencephalopathy-hypertension', 'tension-type', 'juds', 'concentric', 'typhoid', 'post-induction', 'chemo/xrt', 'thymic', '16:51:22', '21:49:38', 'enucleation', 'failure/atn', 'difficule', 'tuberosity', 'failure/pneumonia', '11-447', '15:21', 'assessment', '12-154', '23:41', '10-14', 'dopamine', 'infusion', 'acetabulum', 'diaphysis', '13:18:32', '13:39:51', 'reexpansion', 'trial', 'ifn/ribavirin', '4-cm', 'mastoidectomy', 'deaf', 'spondylarthropathy', 'hl', 'bilaterall', 'emoblization', 'sup/inf', 'cochlear', 'pneuminia', 'stemi/lcx', 'aspiriation', 'unresectable', '67-year-old', 'transhepatic', 'brush', 'eat', '102/52', '73', 'respiration', '96.7.', 'obvious', 'scleral', 'icterus', 'slight', 'pericatheter', 'discomfort', 'hepatosplenomegaly', '11.2', 'thousand', '130.', '230.', 'malposition', 'aggressive', 'colloid', '37.2', 'in-fact', 'gradually', 'lengthy', 'discussion', 'elect', 'offer', 'palliative', '18:25', '13:42', '/rca', '12/97/plv', 'divert', 'kidnedy', 'diagoses', 'chronically', 'putaminal', 'orchitis', 'epidydimytis', 'babesiosis', '8.0', 'asymmetric', 'background', 'oopherectomy', 'dianosed', 'homocysteine', '13.6', '0-10.3', 'husband', 'perch', 'noninsulin-dependent', '05:00', 'raynauds', 'bacteremia/septicemia', 'ketotic', 'glaucoma/cataracts', 'intraparencyhmal', 'pancreatico-jejunostomy', 'dehisce', 'sepsis/leak', 'arrythmia', 'mycobacterial', 'mac', 'tachyarrythmias', 'pca+mca-territory', 'etohism', 'methemoglobinemia', 'benzocaine', 'spray', 'peri-anal', 'prox', 'taxus', 'obtundation', '12-875', '21:46', '10:42', 'erythrocytosis', '3.8cm', 'half', 'crescendo', 'persantine', 'collateral', 'tight', 'midlesion', 'ostial', 'aeruginosa', '15:03', '15:09', 'pulmonaryhypertension', 'distruction', 'acites', 'watermelon', '**53**', 'hemithyroidectomy', '**91**', '**95**', \"'70s\", '03:41', '03:52', 'benadryl', 'lymphocytosis', 'prmary', '-urosepsis', '-suprapubic', 'ms-related', '-known', 'anomaly', '-spondylosis', '-pe', '-bradycardia', 'deg', '-hx', 'hormonal', 'encephalitis-', 'ataxia', 'h.pylori', 'cerumen', 'pft', 'sober', '16:24', 'cirrhotic', 'multi-organ', '-septic', 'overestimate', 'elsewhere', '-decreased', '-pvd', 'arthrectomy', '-hysterectomy', '-endoscopic', 'postpolypectomy', 'accelerate', 'artertial', 't8-t9', 't7-t9', 'longitudinal', 't7-t11', 'regurgitation-', 'polymyositis', 'pacemaker/icd', 'icd/pacemaker', 'atlanto', 'subluxation', 'cervico-medullary', 'condyle', 'testis', 'port', 'nafcillin', 'hcv/hcc', 'tca', 'fibrillation/aflutter', 'episodic', 'boarderline', 'decadron', '21:30:35', '22:27:28', 'atlantoaxial', 'occiput-atlanto', 'disassociation', 'distraction', 'medulla', 'subpulmonic', 'contusion/sdh', 'sequential', 'scooter', 'liverlaceration', 'patellar', '10.right', 'tp', '12.acute', 'cryptosporidum', 'pseudo-obstruction', 'inferior/inferolateral', 'pseudoaa', 'fem-tibia', 'divticulosis', 'oscopy', 'pmibi', 'dg1', 'req', 'retrotracheal', 'talonavicular', 'pin', '19:00', 'cvvhd', '1.aortic', 'spinal/paraspinal', 'balantitis', 'embolsim', 'pci/stents', 'meadial', 'decompansated', '4mm', 'lefrt', 'ef50', 'post-', 'alar', 'right-1,2,4', 'left-1', '19:47:50', '21:41:09', 'reducible', 'ketosis', 'gouty', 'actively', 'delafoy', 'duadenal', '2.4', 'four-part', 'multidirectional', 'instability/dislocation', 'nonunion', 'osteotomy', 'rhd', 'unrepaired', 'dye', '14:14', '00:27', 'h/', 'ulcers/gerd', 'schwannoma', 'wernicke', 'diaylisis', 'lift', 'non-depressed', 'occiptal', 'fever/tachypnea/tachycardia', 'black', 'hyperactive', 'effusion/atelectasis', 'urgency/emergency', 'sll', 'pericardiectomy', 'subcapsular', 'perivascular', 'atlanto-occipital', 'widen', 'l2-l3', 'acromium', '12:27', 'supraglottitis', 'anticholinergic', '-ventilator', '-paroxysmal', '-anoxic', 'fluoxetine', 'depression/suicide', 'teenager', 'choledocholithasis', 'spinchterotomy', 'hypothryoidism', '70-year-old', 'restrain', 'accidentally', 'run', 'neighbor', 'recall', 'whether', 'hypopituitarism', 'ventriculoseptal', '04:50:50', '07:55:33', 'hydration', 'durgical', 'dependance', 'hemorrhage-', '23:03', '-diabetic', 'autoantibody', 'latent', 'brugada', 'bulimia', '-dehydration', '-vre-uti', '-c-diff', '-mucous', '-sdh', '-af', 'v-pacing', 'uti-', 'osteomyeletis', 'insufficeny', '20-30', 'nonobstructive', 'l3-l5', 'be', 'non-coronary', 'arthorscopic', 'fibrillation/tachycardia', 'concussional', 'urostomy', '16:38:56', '17:19:01', 'hypertension/hypotension', 'schwanommatosis', 'short-term', 'fibrillation-not', 'rupture-not', 'dialation', 'commminuted', 'ethmoid', 'skullbase', 'stroke/cva', '3:15', 'pilon', 'pott', 'non-intervened', 'dimentia', 'stenosis/patent', 'status-hypotension', 'avnrt/aflutter', 'self', 'pericardical', 'disorder/', '09:34:57', '10:33:07', 'c/cirrhosis', 'withdrawal/', 'transthoracic', 'hypercholestolemia', '1/05', '**09**', '**10**', '**13**', 'copd/', 'sometimes', 'resection/now', 'hypothryoid', 'mrsa/vre', 'laproscopic', '**34**', 'throcoscopy', 'mitochondrial', 'adnocarcinoma', 'hypopituitary', 'b/c', 'antecubital', 'pleuradesis', '21:42:36', '03:29:45', 'dorsal', 'extensor', 'tenosynovitis', 'pleura', 'copd-o2', 'pul', '13:44', 'noncritical', 'fla', '**30**', 'elephantiasis', 'verrucosa', 'nostra', 'difficle', 'delerium/toxic', 'vancomycin-sensitive', 'retinoblastoma', 'cad/cabg', 'myelolipoma', 'lih', 'follicular', 'ha', 'wisdom', 'budd', 'hashimotos', 'soy', 'aneurysem', 'cardiomyopaty', 'cxt', 'pkyrs', '13yrs', 'leukodystrophy', '-gram', '33-week', 'ivf-twin', '41-year-old', 'antigen', 'rpr', 'nonreactive', 'rubella', 'special', '-alcoholic', '-stage', 'myonecrosis', 'reimplantation', 'ble', 'play', 'football', '15yo', 'surgery-ruptured', 'mass/hemorrhage', 'mca/aca', 'uc', '13:01:12', '13:49:43', 'adenomas-', '**72**', 'offpump', 'hydrothrorax', '2.040', 'rhogam', 'beat', '47.5', 'rare', '79', '54.8', '151,000.', '2.325', 'ad', 'lib', 'upward', '145', '12.4', 'rebound', '6.6.', '09:23', 'rad', 'laryngitis', 'hypogonadism', '3.2cm', 'pseudopolyps', 'post-lupron', '-pseudomonal', '-volume', 'overload/diastolic', '-supraglottic', '-anxiety/depression', 'urticaria', 'la', 'mass/myxoma', 'mmce', 'noncompliant', 'poc', 'neontal', '12:00:26', '12:39:52', 'somnolence', 'hypercapnea', 'corkscrew', 'vessle', 'parapalegia', 'super', '62', 'intradominal', 'physio', '12:14', '12:58', 'dysautonomia', 'sympathetic', 'storm', 'hospital-community', 'ant', 'erior', 'intra-artic', 're-stenosis', 'svg-om-om', 'peptostreptococcus', 'hypovolemia/hypotension', 'humerous', 'fx\\\\npost', 'lacerate', 'sagittal', 'parietal/high', 'query', 'perhaps', 'transaminitis/hepatitis', 'alpha-1-antitrypsin', 'subside', 'inferior-posterior', '2-9th', 'terrain', 'l1-3,5', 'sytstem', '03:27:15', '08:09:10', 'hemotoma', 'hemo-peritoneum', 'pacemeker/defifrillator', 'virtuoso', \"weeks'gestation\", '10:28:01', '11:30:55', 'preseptal', 'c-', 'undifferentiated', 'epillepticus', 'subglottal', 'supratentorial', 'tibia/fubula', '-esophageal', 'empty', 'osteo', 'hypercoagable', 'vertical', '-post-partum', '-broad', 'espophogeal', 'polychondritis', 'migration', 'zone', 'cervicofacial', 'hrs/contrast', 'myelodysplasia/leukopenia/thrombocytopenia', 'pshx', 'mastoiditis', '6/7th', 'regress', 'm.d.50-622', '12:04', 'larynx', 'consideration', 'q.d.', '0.2', 'metasteses', 'infection-', 'l5/s1', 'linger', 'torso', 'periaortic', 'debulking', 'unuccessful', 'ultraflex', 'achieve', 'patency', 'enroll', 'phase', '880', 'xl880', 'research', '06-132', 'mech', 'valved', '-bicuspid', '-recently', 'numbness/', '-dilated', '-fungal', '-bilat', '-renal', '-sepsis', 'petechia', 'erythema', 'antrup', 'pyloris', 'cl', 'enrol', 'tolvaptan', 'inf/ribavarin', 'plt/alb', 'la/ra', 'sym', 'trivial', 'appendetomy', 'recur', '08:44', 'nocardia', 'pseudomeningocele', 'sciatria', 'meniscus', 'hemorhage', 'hydrocephelus', 'ventricula', 'hypotention', '40-1/7', 'bilious', 'obstetric', 'syndromic', 'pediatric', 'yesterday', '1528.', 'proceed', 'intrapartum', 'chorioamnionitis', 'yield', 'amniotic', 'antepartum', 'attendance', 'tactile', '3585', 'green', 'color', 'nonbilious', 'mucousy', 'secretion', 'breast-feeding', 'success', 'qualitatively', 'uric', 'crystal', '3540', '155', '85/52', 'mean', 'saturation', 'heent', 'fontanelle', 'facies', 'nondysmorphic', 'intercostal', 'subcostal', 'retraction', 'adventitious', 'cv', 'perfuse', 'palpation', 'organomegaly', 'anus', 'gu', 'penis', 'truncal', 'appendicular', 'tone', 'symmetrical', 'move', 'symmetrically', 'gag', 'grasp', 'integument', 'msk', 'investigation', 'loop', 'impression', 'anatomic', 'web', 'hirschsprung', 'gastrointesinal', 'maintenance', 'coverage', 'correction', 'anatomical', 'pediatrics', 'dextrose', '20:01:40', '21:08:13', 'ptca/stent', 'appendiceal', 'narrow-field', 'laryngectomy', '-singer', 'crust', 'moist', 'q-tips', 'duoderm', 'humidify', 'probalance', 'full-strength', '150', 'flush', 'microabscesses', 'regurgitation/stenosis', 'electrophysiology', '15:05', '11.841', '09:32', '-cmy', 'aicd/pacer', 'non-pacer', 'v-paced', 'cognis', '100-d', 'biv-icd', 'mode', 'lri', 'bpm', 'dlco', '41', '09:08', '09:14', 'adenoid', 'root/ascending', 'resxn', 'bii', 'w/partial', 'thrombocyotpenia', 'facial/skull', 'c5-t2', '-hypoxic', 'suboptimal', 'patchy', 'pneumonia/tracheobronchitis', 'cabg/avr/mvr/tvr', 'pneumonitis/pneumonia', 'aortogram/', 'femoral/profunda', 'endarterectomy/patch', 'angioplasty/aortogram', 'cad/ptca', '08:07', '08:48', '16:33', '16:43', '750', 'ranitidine', 'miconazole', 'powder', '08:28', 'subderal', 'hosp', 'hep.c', 'anthracycline-induced', 'cosmetic', 'lid', 'disease/ascending', 'aneurysm/mitral', 'cia', '-tex', 'dystrophy', '46', 'gentleman', 'v-fib', 'unresponsive', '1.6.', 'med-flight', 'ccu', 'en', 'another', 'torsades', 'fibillation', 'dynamic', 'dxs', '4000', 'cells/ml', 'hypercoagulability', 'emr', 'hypothydroidism', 'precipitate', 'indentation/compression', 'cirrhosis/etoh', 'inhalation', 'persistant', 'funguria', 'pancreatectomy/splenectomy', 'washout', 'briefly', 'myelomonocytic', 'mrsa/klebsiella', 'hemorrhage/acute', 'endometritis', 'dchf', 'suppressive', 'polydispsia', 'elevaton', 'rsfa/r', 'ullcers', 'bronchiolitis', 'receptor', 'faecium', 'hiatial', 'gangarenous', 'legs/heels', 'transgastric', 'bladder/major', 'anaemia', 'suppl', 'supra-ventricular', 'carotid/opthalmic', 'diagonses', 'neurosarcoid', 'diverticulosis/diverticulitis', 'thalamic/midbrain', 'hypercoaguable', 'lvf', 'post-cath', 'paracolic', 'pancreaticoduodenal', 'extrinsic', 'collateralize', 'comfortable', 'prompt', 'decision', 'forth', 'opioid-induced', 'water-shed', '02:09', 'falcine', '-cardiac', '-peripherial', 'vermal', 'hepatotoxicity', 'acetominophen', 'exact', 'pathophysiology', 'metastastic', '29-2/7', 'surfaktin', '12:57:19', '14:32:36', 'ivor-', 'esophagogastrectomy', 'endarterectomies-left', 'enterovaginal', 'effusion/trapped', 'lung-status', 'asystole-status', 'mellitus-steroid-induced', 'cabg/postoperative', 'dressler', 'avr-bovine', 'iii-b', '64-year-old', 'tap', 'relieve', 'exertion', 'shock/', 'lvad', 'clavicle/scapula', 'normocytic', 'necrosis-', 'debrided', 'clog', 'averbal', 'paraplegic', 'gastro-cystic', 'life-threatening', 'cadaver', 'stenosiss/p', 'heterozygous', 'pessary', 'rosacea', 'dog', '19:48:58', '20:20:05', '18:35', '01:03', '577.0', '518.81', '327.23', '682.6', '278.01', '250.82', 'periprocedural', 'cerbrovascular', 'hypercholestreolemia', 'foraminal', '08:36:15', '10:14:23', 'induct', 'parotitis', 'botulism', 'dislodge', 'onyx', 'non-verbal', 'decubiti', 'inpatient', 'medicine', '650', 'p.r.n.', 'nebulized', 'tobrastatin', 'bisacol', '5,000', 'ob-gyn', 'stabilize', '312', 'sort', 'might', 'examine', 'fen/gastrointestinal', 'fen/gi', 'okay', 'puree', 'fine', 'ability', 'nasogastric', 'sufficient', 'solely', 'tense', '13:03', '13:23', 'personal', 'dehydration/hypernatremia', 'little', '09:09', 'ascorbic', 'mononitrate', 'lantis', '22', 'humulin', 'reglan', '00:05', '20:24', 'anginal', '23.3', '295.', '3.4.', '141', '4.2', '114', '18:17', '00:49', 'sylvian', '47.', 'serosal', 'trapezius', 'cabg/repair', 'painful', 'blowout', 'fracutre', 'greater/lesser', 'displaced/comminuted', 'encroachment/invasion', 'beam', '-benign', 'fibrillaion', 'pericarial', 'effusion/cardiac', 'isolation', 'sob', 'quinidine', 'disopyramide', '-urethrocele', '-d', '-tonsillectomy', '-sciatica', 'sca', '50abqx', '19:47:32', '20:42:51', 'abiomed', 'explant', 're-eploration', 'colorectal', '8.1', 'urethritis', 'w/septic', 'ideation/seroquel', 'intoxication/withdrawal', 'daignosis', 'gatroparesis', 'digital', 'post-pyloric', 'bg', 'continute', '125', 'x7days', 'x14days', 'flagyl/', 'dapto', 'nutrician', 'nectar', 'safe', 'nector', 'cartilage', 'thoracoscopic', '19:21:26', '21:12:38', 'svg-ramus', 'defiency', 'replantation', 'amputate', 'threat', 'putamen', 'production', 'forneir', 'stroke-', 'removalof', 'cholecystitis/cholangitis', 'hlipid', '**04**', 'cell/sq', 'uvulectomy', 'distributive', 'coronart', 'svg-rca', 'intoxication/overdose', 'fracture-thoracic', 'compression-t12', 'join', '13:35:20', '09:03:12', 'pneumatoceole', 'mirizzi', 'cad/atherosclerosis', 'enterectomy', 'nervosa', 'injury/diffuse', 'enteropathy', '-systemic', 'pf4', 'false', 'plasmaphersis', '*3', 'x8', 'hypocarbia', '16:46', '19:12', '1.5-1.7', 'copd/interstitial', 'colaon', 'colectomy/chemo', 'perimesencephalic', 'm.d.', 'ph.d', '02-366', '19:13', 'gemcitabine-related', '1832', 'l3-s1', 'end-', 'disoder', 'pancreaticoduodenectomy', 'w/open', 'anion', 'homeless', 'direction', 'establish', 'on-call', 'strongly', 'counsel', 'engage', '12-aew', '01:38', '18:39', 'vascularity', 'estasia', 'fib-', 'normally', 'perisylvian', 'trapezium', 'w/u-negative', 'ngsf', 'jaundice-rx', '04:36:54', '07:40:19', 'glomerular', 'quinolones', '7.3x6.3', 'multi-trauma', 'c1-2', 'clivus', 'tenuous', 'imf', 'acenetobacter', '22:35', 'cervial', 'pan-necrosis', 'postpartum', 'pnuemothorax', 'tranasaminitis', '-cavernous', 'unsecured', '16:55', '22:07', '0.21', '191', 'pg/ml', '240-900', 'arthropathy', 'enteroccocus', 'ouput', 'short-gut', 'rewire', 'maximum', '98.6', '106/60', 'awake', 'independently', 'nonfocal', 'peel', 'dermabond', 'ecchymosis', 'serosanguinous', 'laboratory/radiologic', '279,000.', '135', '120.', 'ast', 'alt', '129', 'amylase', '168', 'lipase', '247', '2.1', 'filated', 'supraglottic', 'disase', 'lactobacillus', 'ild', 'exascerbation', 'disorder-unclear', 'imn', 'varicella', 'cabgx5', 'o1', 'slerosing', 'use-', 'beer', 'spite', 'anteroseptal', 'hosptial', 'uti/pyelonephritis', 'diasease', 'trans', 'mr/mvp', 'flutter/fibrillation', 'numb/weak', 'caval', 'insufficiency/acute', 'communited', 'tachypena', 'gliobastoma', 'vpl', 'metastric', 'tachybrady', 'femoris', 'common/external', 'iliac/common', '17:58', 'path', 'svg-om1', 'endocrinologist', 'cardiolgoist', '11:48', '12:22', '-fatigue', '-hemophagocytic', '-lymphocyte', 'predominant', '-non-oliguric', 'hemoglobinuria', 'small-cell', 'living-related', '-gib', '-dementia/parkinson', 'hepatits', 'north', 'address', '12-869', 'iol', 'antihypertensive', '09:10', '21:31', 'inch', 'side-to-side', '22:24', '21:27', '578.9', '250.00', '585.4', '15-29', '285.1', '14:42:24', '15:28:29', 'non-cardiac', 'gastointestinal', 'm0', 'chemoradiation', 'diabetes-followed', 'acoustic', 'neuroma', 'neck/diaphysis', 'mesocolon', 'bilaeral', 'poorly-controlled', 'catatonic', '07:07', 'supertherapeutic', 'tb-', 'cva/tia', 'involuntary', 'diulefoy', 'edema/anoxic', 'rca/lad', 'mole', 'mr/tr', 'lad/cx', '12:21', '12:30', 'hypercholesterolimia', 'pulmonology', '17:49', 'infection/pyelonephritis', 'kidey', 'horizontal', 'perilunate', 'simple', 'atheroma', 'crest/scleroderma/raynaud', 'bradycardic', 'hypopnea', 'spermatocele', 'catarcts', '13:09:33', '14:08:27', 'parkingson', 'delusion', 'c/etoh', 'varicies', 'tracheosotomy', 'nstmi', 'aecopd', 'stent/angioplasty', '-residual', 'impairment/right', 'apnea-bipap', 'emphysema/copd', 'cad/angina/mi', 'myeloid', 'anasarca/edema', '06:33:30', '07:17:08', '15:59', 'bronchitis/community', 'intraparenchyml', 'bullet', 'petrous', 'globe', 'vitreous', 'hyphema', 'basilic/', 'tach', 'parasaggital', 'stercoral', '13:45', 'unstageable', 'hemodynamic', 'rape', 'parietal/occipital', '7th', 'oliguira', 'usual', 'alleviate', 'persist', 'overnight', '88/58', '54.', 'inversion', 'bolused', '940', 'slightly', '0.42.', 'mid-right', 'inferiorly', 'hemodynamics', 'peri-panreatic', '+c.diff', 'acetaminophen/diphenhydramine', 'bacterimia', 'phelgmon', 'mediastinitis', '31mm', 'compromise', 'reintubation', 'hypo-pancreatic', '15:00', 'gastrotomy', 'bedside', '21:19:39', '22:13:26', '-generalized', 'seziure', 'immune-mediated', 'bldder', 'self-inflicted', 'c3/4', 'triangle', 'non-operatively', 't/th/sat', 'septicemia/bloodstream', 'irritation', '17:05', '17:57', 'language', 'ulcer-', 'koseri', 'cmo', 'pain-lumbar', 'pain/left', 'paresthesia', 'weakness-emg', 'c5-t1', 'remicaid', 'uveitis', 'hypoplasia', 'non-pathological', '16:21', '16:52', 'pacnreatitis', 'hhv-6', '19:06:12', '20:12:45', 'popostoperative', 'hematemosis', 'thrompcytopenia', 'jejunojejunostomy', 'hypertension-resolved', 'nausea/vomiting-', 'iga/diabetic', '09:26', '09:44', '3+mr/tr', '9mm', 'sec', 'enceph', 'preg/tubal', 'wirst', 'enterotomy', 'mesentery', 'retroperitoneum', 'pasteurella', 'core', 'parosxymal', 'pulminary', 'psuedomonas', '-hypotension/hypovolemia', '-blood', '-ventilatory', 'obstruction/ileus', 'adhesionolysis', 'hepatoicojejunostomy', '-motor', 'thoraco-abdominal', 'cholecystojejunostomy', '-polio', 'quadraparesis', '-t2-t9', 'sirs/sepsis', 'polymalgia', 'rheumatica/', 'stend', 'full-term', 'reticulocytosis', 'x96', 'hereditary', 'spherocytosis', 'osmotic', 'fragility', '14:39:41', '16:01:46', 'charcole', 'dyslpidemia', 'avrt', '-cabg', '-percutaneous', '-pacing/icd', 'salpingoophrectomy', 'orifice', '01:20', '14:32', 'supertheraputic', 'lobe/lingular', 'overload/', 'r-sided', 'supraglotitis', 'sever', 'failue', 'multi-level', 'ashma', 'hemmorrhoids', 'urethrostomy', 'post-fall', 'contra-coup', 'bcc', 'rp', 'etoh-induced', '1.2-1.5', '34-1/7', 'trim', 'pregnancy-induced', 'intermittant', '6.9', 'neutrophil', '254,000.', 'cc/kg', '2.925', '53.7.', '8.0/0.3', '6.9/0.3', 'resection/meckel', 'diverticulectomy', 'hematoma/urinoma', 'l3-4', 'medial/lateral', 'frcature', 'catheter/removed', 'neutropenia/anemia', 'hepatospleno', 'candidasis', 'cellulitis/vascular', 'acetaminophan/diphenhydramine', 'syndrome-related', 'metronidazole', 'sublingual', '4-6', 'olanzapine', 'disintegrate', '2-4', '11-378', '11:32', '12:09', 'pumonary', 'regent', '-moderate', '-trace', '-histoplasmosis', 'transaminitis/hyperbilirubemia', '34-and-3/7', '00:30:58', '01:51:54', 'blister', 'seroma', '-uti', '-segment', '**68**', 'fastroesophageal', 'nasal-splint', 'ct.', '..for', 'rai', 'stenosis/coronary', 'fibrillation-', 'recieves', 'radioactive', 'taachycardia', 'bypass/s/p', 'lamenectomy', '02:39', 'ckd4', 'periph', 'librium', 'familial', 'insuffieciency', 'post-thoracotomy', 'inferolateral', 'behind', 'mocardial', 'rsfa', 'vsd', '21:26:46', '00:17:33', 'subcapular', 'hyoid', '-dp', 'laporotomy', 'mucofistula', 'subq', 'thursday', 'lacrilube', 'ng', 'q.a.m', 'risperdal', 'q.a.m.', 'q.p.m', 'stick', 'venodyne', 'incentive', 'spirometer', '09:49', '07:43', 'churg-', 'cholescytitis', 'eitology', 'mechanic', 'subtherapeutic', 'duodenitits', 'abiotrophia', 'capnocytophagia', 'strongyloides', 'excerbation', 'fibrillation-off', 'interest', 'peumonia', 'nonspecific', 'post-mortem', 'psvt', 'formation', 'diuresis', 'infection/sepsis', 'afib/rvr', '-squamous', '-hypercholestrolemia', '-taken', 'flecanide', '-colonic', 'summer', '-appendectomy', '-r.', 'iwth', '-surgery', '-medical', '-mrsa-left', 'hemmorhagic', 'post-inflammatory', 'multi-system', 'blood-loss', 'tracheobroncho', 'hypersensitive', 'htn/hld', '**70**', 'leukoencehalopathy', 'hytertensive', 'renaly', 'associtated', '1.2-1.8', 'fludrocortisone', 'nonfunctioning', 'aspergilloma', 'klonipin', 'seroquel', 'schistosomiasis', 'hypercapneic', 'ppf', '09:07', '19:52', 'kd', 'pafib', '+tob', 'colitis-', 'svg-plv', 'susp', 'hyst', '5.7', 'non-surgical', 'gerd-', 'ppi', 'tum', 'fu', 'pre-existing', 'nifurantoin', '16:27', 'mvrepair/cabg', 'ribavarin/interferon', 'malaria', 'art', 'ivdu/etoh', 'biceps', 'polytetrafluoroethylene', 'svg-dx', 'l1-l5', 'forearm', 'colon/rectal', 'claustrophobia', 'vermian', '-anterior-posterior', 'shear', 'hemipelvis', 'tibia-fibular', 'gustilo', 'subtrochanteric', '-retroperritoneal', '-retroperitoneal', '-mesenteric', 'deserosalization', '-lobar', 'bleed/gastritis', 'hyperstimulation', 'esbl-klebsiella', 'candidia', 'morganii', 'space', 'guidied', 'vesicovaginal', 'rectovesicular', 'deem', 'obstruction/ischemia', '-subarachnoid', '-facial/sinus', 'bruises/contusions', 'brachytherapy/hormone', 'reiter', 'duenodenal', 'sah/sdh', 'sub/segmental', 'dilantin-related', 'mulitifocal', 'lingula', 'sfa/pfa', '13:13:07', '15:31:39', 'inferior/latateral', 'hisrory', 'thermal', '3.9-5.3', 'meniscectomy', 'inflatable', 'osteoartritis', 'screw', 'clarithromycin', 'amoxicillin', 'caffeine', '02:36', 'replacement/coronary', 'osteoarthritis-', 'gastroseophageal', '20:17:51', '20:49:56', 'ureterostomy', 't3n1', '1.2-1.4', 'cvvh', 'multi-drug', '20:20', '20:56', 'lrrt', 'voriconazole', 'itra', 'osteodystrophy', 'mineralocorticoid', 'pcd', 'hystrectomy', 'resustated', 'anterior-posterior', 'rbbb', 'dropfoot', 'chf/ards', 'hypertension/confusion', '74-year-old', 'answer', 'barely', 'shrug', 'star', 'arrive', '11:57', 'command', 'say', \"n't\", 'numbness', 'complain', 'cold', 'sore', 'people', 'systolics', '260s', 'diastolics', 'retrocardiac', 'opacity', 'kid', 'hallucination', 'schziophrenic', '09:15', '09:28', 'exist', 'sympathomimetic', 'serotonergic', 'toxidrome', '10:23', '07:27', 'sternotomy/mitral', '28-mm', 'band/sternal', 'synthes', '/removal', 'cholcecystectomy', 'rhabdomyolisis', 'pain/gangrene', 'insufficiency-resolved', 'delerium-resolved', 'disease/vertigo', '09:01', '09:36', 'mr/ms/ai', '22:13', 'non-necrotizing', 'granulmatous', 'm1', 'ulnar/femur', 'inter', 'ventilator-dependence', '=======', '-breast', 'end-to-side', 'porta', 'ph.d.', '01:25', '20:01', '16:02', 'palpable', 'nonreducible', 'tachycardia/ventricular', 'infliximab', 'sicca', 'methotrexate-related', '-cri', '-ischemic', '-ct', 'pac', 't3n2', 'pick-up', 'part', 'ilial', 'lip/chin', 'tragal', 'hyperarbic', 'a.fib', 'hyeprtensive', 'pancreatits', '1.left-retro-orbital', '2.posterior', '3.large', '4.multiple', '5.amputated', 'dip', 'effacement', 'mi/cabg', 'cyber', 'knife', 'proctosigmoidectomy', 'mini', 'paravalvular', 'akinesis', 'stystolic', 'dilatated', 'hyperhomocysteneimia', 'amiotrophic', 'pneumonia-ventilator', 'mulifocal', 'epidermolysis', '^cholesterol', 'motor-vehicle', 'l.thigh', 'carbuncle/cellulitis', 'redo-sternotomy', 'congential', 'tachycardic/tachypnea', 'metformin', 'disease/emphysema', 'loss/iron', 'd', 'duodenitis/colitis', 'promyelocytic', 'cholecystetomy', 'leaf', 'lemierre', 'painless', '34-5/7', '13:25:13', '13:56:10', 'paraoxysmal', 'coccaine', 'artey', 'peripheal', 'aortofemoral', 'toat', '/post-op', 'flutter/paroxysmal', 'mini-thoracotomies', '2.68', 'gravid', '2.505', 'apparently', '22.8', '18.2.', 'hydrate', '23.8.', '10.4', '48.3', '279', 'reticulocyte', '2.4.', 'comb', 'indicate', 'blanket', '13.9/0.3', 'exaggerate', '08:17:27', '08:52:22', 'intertrochanteric/subtrochanteric', 'benzodiazipine', 'meningitis/encephalitis', 'hypernatermia', 'av/severe', 'hyperdense', 'vasogenic', 'affect', 'serogroup', 'wander', 'aggitation', '~1.0', 'anti-phospholipid', 'neither', 'preference', '-community-acquired', 'indolent', 'anklyosing', 'plavix/asa', 'choroidal', 'healthy', '14:25', '16:32', '-symptomatic', '-femoral', 'thrombin', 'ivf', '-macular', 'degeneratoin', '-oa', 'hypoattenuating', 'chf/diastolic', 'paroxymal', 'a/b', '0.5cm2', 'psot', '0.65', 'keratitis', '2.255', '33-year-old', 'levoxyl', 'apgar', 'score', 'nicu', 'audible', '2.355', 'cal/oz', 'gain', '9.5', '8.3/0.4', '53.54.', '50-393', '10:42:22', '11:03:52', 'fraction/dislocation', 't1-3', 't6/t7/t9', 'olecranon', 'bereavement', 'mdd', 'gaf', 'lingular', '1.upper', '1.cad', '2.dm', '3.esrd', 'mvp/mr', 'w/masseter', '4,6', 'radius/ulna', '-bitemporal', 'hypotnesiton', 'uip', '19:01:24', '19:31:07', 'nephropathy/htn', '.1.', 'adjacent', 'l5-s1', 'l4-s1', 'bronchospasm', 'tamponade-now', 'degeneration/legally', 'ischemia/necrosis', 'hajdu-', '12:16', '12:52', 'hypernatraemia', 'hyperglycaemia', 'sensorineural', '-empyema', '-opiate', 'lymphoid', '1011', 'fem-atbpg', 'survillance', 'fem-fembpg', '**28**', 'fem-pops', 'fem-bkpop', 'wptfeand', '**42**', 'fem-at', '1,4', 'recurrentwith', 'tract-treated', 'atbx', 'suppresive', 'amoxcillin', 'debridment', 'wash', 'elude', 'baremetal', 'hypercholestremia', 'historyof', '60-69', 'hypertenion', 'decitabine', 'infarctionx2', 'infero-lateral', 'pcix3', '46-year-old', 'usually', 'pneumobilia', '02:44', '04:02', 'morbidy', '09:28:44', '10:00:05', 'fem-distal', 'proctectomy', 'exenteration', 'eosinophilc', 'mulculoskeletal', 'transcatheter', 'endophtalmitis', 'irreversible', 'bilirubinemia', '=====================', '20:00', 'periampullary', 'extrperitoneal', '5.3', 'tga', 'atch', 'hystereectomy', '15:58', '16:36', 'bronchopleural', 'ulcer/bleed', 'video', 'anti-coagulants', 'mild-moderate', 'doxepin', '23:49:55', '00:46:57', 'ir-guided', 'gold', '**71**', 'abdominal/leg', 'afib/svt', 'metbolic', 'demenita', 'hypoxia/hypercapnea', 'alcholic', 'idiopathich', 'varriceal', 'upj', 'systoli', '20:23', '19:50', 'malpositioned', 'diabetes-diet', 'lb', 'liposuction', 'svg-om1-om2', 'bicep', 'piloneal', 'psbo', 'bacterial/aspiration', 'sepsis/', 'ramus-', 'sfa-dp', 'incident', 't-l', 'diagnosies', 'railure', 'aspirtation/dysphagia', '7.09', 'horseshoe', 'hyperlipemia', 'conjestive', 'osteomyelitis/', 'outflow', 'ostruction', '17:50:22', '18:56:39', 'm.', '19:53:40', '20:27:54', 'descending/posterior', 'artery/posterior', 'ventricle/', '-iddm', '-nstemi', 'adnexa', 'bronchioalveolar', 'vitmain', 'diseas', 'troponin-positive', 'alimentation', 'hospitalize', '1600', 'gemfibrozil', 'ambien', 'nephrocaps', 'veteran', '11:30', 'surveillance', '10:45', '-upper', '-parkinson', '-degenerative', 'stenosis/bicuspid', 'anemia-chronic', 'reclosure', 'effussion', 'orbitofromtal', '33-3/7', '04:07:04', '09:05:43', 'tetralogy', 'fallot', 'pneumonia/atelectasis', 'atg', '19:53:59', '10:07:27', 'scaphoid', 'a/p', 'arery', 'mulitple', 'ptca/stenting', 'infection-proteus', 'uvj', 'accompany', '1cm', '00:19', '1.ventricular', '2.icd', '3.intubation', '1.hypertension', '3.s/p', '4.hx', 'natal', '20:18:15', '20:49:00', 'exc', 'angiosarcoma/reconstruction', 'w/bovine', 'seconddary', 'mulitfactorial', 'rim-enhancing', 'c2-c5', '-bleeding', 'cuaterization', '-demand', 'rpl', 'prevpac', 'proscar', 'int', 'parkinsonian', 'flomax', '18:53:51', '19:44:33', 'i.', 'monetary', 'homelessness', 'ventdependent', '14:38', '15:45', 'dandy-walker', 'hypercholestemia', 'apheresis', 'q2weeks', 'adenoca', 'sinusiis', 'fibrin', 'phosphorous', 'idopathic', '**31**', 'multi-nodular', '13:07:08', '14:38:19', 'biparieto-occipital', 'lgib', 'south', 'suburban', 'aneurysmal', 'varcies', '2-3l', 'pacemaker/aicd', 'intrinsic', 'osteomyilitis', 'evolution', 'penumonia', 'metastaic', 'adeno', 'guide', '22:29', '00:54', 'helmet', 'scene', '72/25', 'infartcion', 'slap', 'bacteremia/pna', 'c4/5', '01:55', 'anaphalaxis', 'metallic', 'parox', 'outbreak', 'dorsalis', '13:43:42', '14:22:55', 'arf/ain', 'microvascular', 'hypvolemia', 'inflamation', '16:17', '17:56', 'transanal', 'steonsis', 'exchange', 'hcv+', 'hbv+', 'wart', 'ansaid', 'pharmacologic', 'hyperprolactinemia', '20:44', '09:47', 'hepatology', 'west', 'systoilc', 'alk', 'phos', 'parenchymal/subarachnoid', '**84**', 'tranfusion', 'depressoni', '12:44', '15:08', '12-acc', '17:51', 'podiatry', 'depth', 'fdg-avid', 'fna-neg', 'daibetes', 'manifest', 't7-8', 'dermatome', 'nonverbal', 'neoadjuvant', 'nortriptyline', 'gabapentin', 'acetate', '.02', 'a.c.', 'h.s', 'sheet', 'tramadol', 'codeine', '20:28', 'myelosuppression', 'hypoalbuminuric', 'melanocytic', 'myopathy/polyneuropathy', 'hypoproliferative', 'antibiotic-associated', 'corevalve/tavr', '2.hypertension', '3.cad', '4.chronic', '5.ischemic', 'fortify', 'cd2231-40q', 'transvenous', 'tendril', 'sts', '2088tc/52', '/pace-send', 'is-1', '7121/65', '6.history', '7.stroke', '14:57:03', '15:37:17', 'addiction/withdrawal', '20mg', 'refrain', 'sherrif', 'prison', 'anemia-acute', 'dizziness', 'cervicomedullary', 'lymphnode', 'j/g', '50-466', '02:45', '15:24', '04:31', 'aneurysm/dissection', 'aztreonam', 'rehabilation', 'lwoer', '3-cm', 'infra-renal', 'syndrome/surfactant', '03:27', '16:41', 'non-fluent', '10:05', 'shin', '50-569', '06:23', '19:51:41', '21:05:02', '10:33', '11:08', 'cabgx3/bilateral', 'peri-stomal', 'break-down', 'tevar', 'conjunctivits', 'castleman', 'unicentric', 'bl', '5-azocytadine', 'shortly', 'input', 'hemhorrage', 'bleeder', 'lab', 'stented', 'emergently', 'toilet', 'levo', '3.1', '496.', 'sludge', 'extrahepatic', '15,000.', 'cat', '15-16', 'deviation', 'neglect', 'propranolol', 'thiamine', 'folic', '19:34', 'ap', '12:29', 'prove', 'caudate/putamen', 'bifurcation', 'anuerysm', 'w/cea', 'w/nodular', 'heap', 'patht', 'nadolol', 'coranary', '2/99', 'valvue', '08:45', 'fever/hypoglycemia/dyspnea', 'tahbso', 'scabies', 'cva-with', 'jugular/transverse', 'menses', 'antithrombin', 'hisotory', 'lump', 'gordonia', 'c4-5', 'corpectomy', 'pfa', 'ak', 'diverticulitits', 'duodenal/pancreatic', '5,7,10', 'ssri', 'zyprexa', 'tracheobroncomalacia', '12:19', 'wriste', 'sinusitis/sinus', '**55**', '85', 'bjork', 'shiley', '94', 'scratch', 'copddepression', 'teen', '530.11', '428.32', 'b3', '482.9', 'l2-4', 'accident/transient', '23:16', 'gerd/pud', 'type-ii', 'anti-social', 'cont', 'overdose/withdrawal', '7am', 'sag', 'rna', 'distolic', '02:32', '15:19', 'paralyze', 'carotidendarectomy', '**51**', 'bimalleolar', 'respiroatory', '10.comminuted', '11.complete', 'interphalangeal', '12.comminuted', '13.left', 'clozaril', 'lymphangitis', 'quadrent', 'lucent', 'osseous', 'subcentimeter', 'productive', '0.3', 'bisulfate', 'fluvastatin', 'plb', 'w/peripheral', 'tremors-primary', 'w/concussion', 'multi-focal', 'perisplenic', 'extrem', 'fem-pedal', 'bipass', 'w/ef', 'ceberal', 'non-squamous', 'nephritis/arf', 'transaminase', '1.4-1.6', 'bso', '30-35', 'resistent', 'migranes', '21stjude', 'hys', 'horner', 'dlbcl', 'anc', 'plts', 'tachy/', 'cholecysetectomy', 'villous', 'adenoma/cancer', '**37**', 'henoch', 'schonlein', 'nephropathy-', 'billary', 'rxn', '-cytomegalovirus', 'weaknes', 'esophagheal', 'trilinear', 'menopausal', 'vre/mrsa', 'vesicular-sigmoid', 'small-to-moderate', 'enteroperitoneal', 'dignosis', '19:21', 'meningoencephalitis', 'poly-substance', '16:25', 'dietary', 'indiscretion', 'nash/cirrhosis', '-barrett', '-possible', '-neuropathy', '-hemorrhoids', 'pericarditis/pericardial', 'w/argatroban', 'hit+', '^choldepression', '32m', '6/20', '-intracranial', 'brain/skull/rib', 'marijuana', 'pneumonia-', 'calcaphylaxis', 'confusion-resolved', 'w/metastatic', 'laryngomalacia', '01:40', '06:24', '3:15pm', 'choledochal', 'anovulatory', 'hang', 'puestow', 'keto-acidosis', 'accupril', '02:04', '02:17', 'resuspension/repl', 'gout/inflammatory', 'aspergillus', 'ramus/om', '10yo', '2914', '01:26', '13:46', 'cholelithiasis/choledocholithiasis', 'thoracotomy/icd', 'cardiomyopathy/congestive', 'ivcd', 'dnr/dni', '03:38', '22:23', 'multi-infarct', 't12/l1', 'hematoma-acute', 'surgery/cauterization', 'angioplasty-', 'femoral/popliteal', 'hyperlipidema', 'overactive', 'gene', 'lacteration', 'multi-infart', 'angina/', 'hypertensiion', 'rescusitation', '3.9-', 'pretransplant', 'intra-operative', '01:16', '08:08', '-3cm', '-l', 'tachycardic', 'finasteride', 'ou', 'advair', 'diskus', '14:01', '16:01', 'pacermaker', 'hemodyalisis', 'transfusion-related', 'transfusion-associated', 'myeologenous', 'c1-t3', '10.positional', '13:25', 'swine', 'superinfection', 'listeriosis', 'thymoma', 'trachealbronchialmalacia', 'axillar', 'mastitis', 'spleenectomy', 'cor', 'pulmonale', '-reactive', 'recannulization', 'sigmoiditis', 'rny', 'heal/buttock', 'avj', 'hyperdynamic', '/aortic', 'urology', 'vasospam', 'gr', \"tib/'fib\", 'failure/chronic', 'valvar', 'saphaneous', 'coronairy', 'dt', 'suboccipital', 'crani', 'peri-orbital', '-hemagioma', 'hemianopsia', 'gastroinstestinal', 'mini-maxes', 'lefatria', '/cabgx2', 'encephalomalacia', 'germ', 'coronaries-', 'hairline', 'plain', 'drive', 'automobile', 're-establish', 'anterior-imi', 'transvere', '-laparscopic', '-pneumothorax', '-herpes', 't3/t4', 'l2-3', '14:50', 'post-strep', 'infective', 'colitis/ileitis', '14:18', 'constipation/impaction', 'card', 'appendix', 'diabtese', '-non', 'regurgitant', 'botox', 'cryptosporidial', 'subfascial', 'intramuscular', 'cad/chf', 'antimicrobial', '-parkinson-white', 'tetraplegia', '-idiopathic', 'ef=25', '-elevated', 'test/', 'homocysteinemia', 'diamnionic', 'tapvr', 'executive', 'failure/dilated', 'lymphocytice', 'cn', 'ophthalmoplegia', 'ano-sphincter', 'oref', 'nsclca', 'biliary-pleural', '-two', 'attenuation', 'lake', 'drainable', '-diffuse', '-partially', 'confluence', 'sinoatrial', 'dysrhythmia', '12:48', '13:19', 'hypoglossal', 'righ', '19:18:03', '20:02:08', '13-279', '04:00', '17:41', 'add', 'choledocal', 'unroofing', 'amanita', 'hepato-toxicity', 'abuse/overdose', '**prelim', '07:11', 'exanthum', 'iinsufficiency', 'opthalmicus', 'folliculitis', 'tracheotomy', 'metadiaphyseal', '40-59', 'uiu/ml', 'ft4', '0.98', 'ng/dl', 'pleateu', '-comminuted', '-introperative', '-rv', '-cardiogenic', '-paradoxical', '-multi-infarct/hypoxic', 'klebseilla', 'pna/multi', '-coagulation', 'xray', '-cdiff', '2vd', '6/', 'sequentially', '20:36', '20:54', 'seconandary', '+dyslipidemia', '+hypertension', 'humira', 'atherosclerotic', 'vt/vf', 'adh', 'minmally', 'spntaneous', '14:04', '06:43', 'cirrhossis/hcc', 'cocaine/alcohol', 'hepaticojejumostomy', 'bradicardia', 'reserve', 'thereapy', 'situ/intraepithelial', 'neoplasia', 's/presections', 'lumpectomy/axilla', 'tamoxifen', 'tupe', '25pk-yr', '11:16:57', '12:11:25', 'environmental', 'sah-nonanerysmal', 'column', 'tach/v', '10:11', '10:15', '11:11', '11:29', 'loss/acute', 'statis', 'fasciotomy', '42', 'copd-chronic', 'w/severe', 'amputaion', 'toes-due', 'trachea-bronchoplasty', 'bleed-nos', 'activate', '01:54', 'thoracoplasty', 'electric', 'continuous', 'urethra', 'fulguration', '27mosaic', 'paratracheal', 'sexual', 'psychotic', 'self-injurious', 'benzodiazepin', 'carboxyhemoglobinemia', 'instability/monitoring', 'hypomagenesemia', 'vent-assoc', 'xanthomonas', 'new-onset', 'non-oliguric', 'cardiopulmoary', 'interferon', 'ribavarin', 'idu', 'agoraphobia', 'enteryx', 'inactive', 'obsturctive', 'claim', 'g5', 'p1-0-1-4', 'gyn/onc', 'lot', '77/40', '123/52', 'propofol', '17.4', 'trend', 'fell', 'demerol', 'vistaril', 'therefore', 'telemetry', 'solid', '10.7', '32.2', '584', '3.7', '104.', 'ppn', 'pink', 'put', 'supply', 'motrin', 'relief', 'jp', '07:54', 'g2p2', 'angiodysplasia', '27-4/7', '10.unconjugated', '11.s/p', '18:43:11', 'inoperable', 'angiography', '19:14', '19:48', 'duodentitis', 'cpk', 'max', 'out', 'cororary', 'l9', 'hsv1', 'ob', 'physiological', '02:54', '07:50', 'atrila', '-pancreatitis', '01:30', 'diagmoses', 'subtalar', 'fracture/dislocation', 'lc1', '50-622', 'fistulectomy', 'pre-syncope', 'detatch', 'highout', 'reuse', '04:37', '08:35', 'post-biopsy', 'tuberous', 'angiomyolipomas', 'odontogenic', 'stenosis/', 'bulge', 'thigh/', 'c1-c3', 't2-t4', 'auditory', 'loa', '10:30', '10:51', 'zestril', 'hytrin', 'instead', '13:28', 's/ptonsillectomy', '11:55:41', '12:33:05', 'ii/iii', 'coronoary', 'dysrrhythmia', 'medication-induced', 'hyperperfusion', 'electroencephalogram', 'c3,4,6', 'cistern', 'magnumn', 't11-l3', 't11-12', 'oblique', 'l1-l3', 'idioventricular', 'junction-', 'dysfuction', 'sternotomy/tvr/aortic', 'diverticulits', 'loc', 'rotary', 'dysphage', 'port-a-cath', 'sacro/vertebral', 'm2', 'iv-tpa', 'dts', 'esophagogastroduodenoscopy', '11:18:25', '12:02:22', 'cerrebellar', 'anatomy', 'svbg', 'ladd1', 'd3', 'interposition', 'asx', 'tele', 'urologic', 'betapace', 'btw', 'reload', 'interrogate', '3+', '18:23:48', '19:29:47', 'endograft', 'loose', 'bloody', 'ileitis', 'regurgitation/coronary', 'frontal/temporal', 'shock/urosepsis/pneumonia', '196', '-rectal', '-lle', '-osteoarthritis', '-allergic', '-rosacea', '-actinic', 'tansverse', 'thalamo-capsular', 'peridcardial', 'non-malignant', 'retrolisthesis', '01:53:28', '07:53:16', 'y/o', 'endoaaa', 'sma/celiac', 'angioplasty/stenting', 'tpt', '**07**', 'retorperitoneal', 'hypoperfusion/hypoxemia', 'nsaid-related', '12:18', 'cortico-basal', 'doxil', 'ineffective', 'cvid', '15:51', 'viscous', 't1-t2', 'titanium', 'steel', '-ivc', 'blateral', 'w/ugib', '20y', '-hypercoaguable', '-arterial', 'femorals', 'illiacs', 'etc', 'hypercholestrolemia', 'hyerglycemic', 'blockage', '-nausea/vomiting', 'hernia/gastritis', 'medicatio', 'c-1', 'dirveritculitis', 'uti/cystitis', 'rmca', 'renastomosis', '-hypercapnic', '-hospital', '-psoriasis', '-c.', 'italian', 'atraumatic', 't3n2cm0', '/res.left', 'ocd/add', 'turret', 'resuscitate', 'diagnostic', 'runoff', '10:34:28', '12:06:38', 'perhperal', 'bkpop-pt', 'un', 'dyslipdemia-statin', 'melenomas', 'interrogation', '-functioning', 'cardogenic', 'posotperative', 'degeneative', 'arthritic', 'ivd', 'guaic', 'amyotrophic', '105.8', 'repsonse', 'paraphimosis', '5.6', 'downwards', 'anemia/thrombocytopenia', 'neuro', 'c/s', 'unmask', 'dysfn', '-minimal', 'lobular', 'mononuclear', 'igg', '/cmv', '-pt', 'nonreversed', 'thymoglobulin', 'hypercellular', 'high-normal', 'gradient', 'trace', 'lentiform', 'nucleus', 'correspond', 'lenticulostriate', 'm3', '-constipation', 'benzodiazapine', 'cecitis', 'maleolus', 'kindey', '-siadh', '-encephalopathy', '44-year-old', 'right-handed', 'gaze', 'throb', 'blurry', 'concomitant', 'yard', '11:00', 'look', 'pale', 'muffin', 'dizzy', 'slur', 'front', 'resusitation', 'subjective', 'orophayrngeal', 'isthmus', 'presyncope', 'incapacity', 'gtc', 'occasion', 'fibriods', 'w/inf', '434.01', 'occlus', 'w/infa', '433.11', '348.4', 'malig', 'neo', '197.0', '198.7', 'malign', 'neopl', '185', 'abdom', '441.4', '493.90', 'tracheobronchomalasia', 'pct', 'infarct/', 'frontoparietal-', '09:18', '09:27', 'sex', 'reassignment', 'parotiditis', 'insuffiency', 'contain', 'seconadry', 'calculous', 'bialteral', '50-79', 'dislcoation', 'fracture/near', 'dvt-', 'midlad', 'crea', 'hip/prosthesis', '55-year-old', 'street', 'nasotracheal', 'undertake', 'jujeunal', 'atrail', 'rescue', '06:56', '10:24', 'retro-orbital', 't2-t8', 'gangrene/ulcers/', 'communication', 'nst', 'emi', 'leaflet', 'hirsutism', 'zenker', 'bileaflet', '-longstanding', '-pericarditis', '-frequent', '-gastroesophageal', '-mugs-abnormal', 'heme/onc', '-complex', '-syncopal', '-seasonal', '-bronchitis', 'gynecological', '-reveal', '18:24', '19:40', 'supratheraputic', 'vasopressor', 'tue/fri', 'wed.', 'fri', 'n.h.', 'endartectomies', 'disease/cirrhosis', 'rewiring/plating', 'andvfib', 'seizures-', '34-3/7', '12:26:57', '13:31:46', 'myo/pericarditis', '5/', 'abortion', '8/', '17:18', '17:21', 'sub-arachnoid', 'corornary', 'heterotopic', 'ossicification', 'intimal', 'cerebrum', 'disposition/follow', '10:03', 'amiodarone-induced', 'fall/jump', 'signet-ring', 'g3t4n3m1', 'metaplasia', 'jej', 't1-2', 'implant/', 'epicardial', 'gleevac', 'neural', 'disorientation', 'unsteady', 'big', 'angiogram', 'ett-mibi', '26mm', 'operations/resections', 'des-', 'ileo', 'profunda-', 'transplant-failing', '43-year', '2-day', 'er', '100.4', '80s/40s', '19k', 'pmn', 'well-seated', 'empiric', 'generally', 'post-discharge', 'toward', 'minimum', 'rifampin', 'narcolepsy', 'micro', 'ngtd', 'naris', 'stain', 'pmn/orgs', 'bcx', 'neg/ngtd', 'ucx', 'veg', 'alt/ast/tbili', '37.4', '14/17/0.5', '1.1', '11/15/0.3', '6.2', '11.4', '0.9', '10/18/0.2', 'nkda', 'information', '2g', 'q4hr', 'cbc/diff', 'esr/crp', 'qweek', 'r.ns', 'bldg', 'basement', 'id', 'sb', 'overall', 'cvicu', 'pod', 'comfortably', 'imodium', 'firm', 'replete', 'dramatically', 'jps', 'ready', 'arrangement', 'intracerbral', 'paranoia/delusional', 'hgb', 'antisocial', 'derotation', 'mid-gut', '22:55', '10:32', 'cystinuria', 'penicillamine', 'htn-', 'aldactone', '1.9-2.2', 'prostae', 'laxa', 'aqueductal', 'cranioplasty/', 'coital', 'cephalgia', 'ninth', 'eleventh', 'pneumonia/klebsiella', '-mi', 'circ', '-stent', 'ivig', '06:59:03', '07:31:29', 'heme', 'mid-lad', 'cystoprostatectomy', 'urethrectomy', 'continent', 'diversion', 'fem-pt', 'issvg', 'histroyof', 'diseae', 'chroinc', 'faillure', 'extermity', 'historoy', 'menesectomy', 'vascualr', 'gsv', 'stsg', 'enlargement/mvr/cabg', 'iv-v', 'on-x', '+3', 'ostomey', 'bns', 'hypercoagulopathy', 'cognition-possible', 'heartblock', 'non-operative', 'du', 'cardiac/respiratory', '17:15', '~1.2', 'c-sxn', '35-45', 'c6c7', 'indwellling', 'dysreflexia', 'l3,4', 'ofthe', 'likelihood', 'vesicle', 'polysubstsance', '5.5', 'panacreatitis', 'x10', 'heavily', 'zygomaticmaxillary', '2.nasal', '3.left', 'ptyergoid', 'metastatis', 'transpedicular', 'instrument', 'pheochromcytoma', 'cirrhosis/esrd', 'liver/kidney', 'hop', 'ascities', '20:45', '13:08', 'lobectomy/wedge', 'segmentectomy', '-high', 'femeral', 'tramatic', 'charchot', 'resonstructions-failed', 'mycoardial', 'copy', 'vre+', 'embolism/venothromboembolic', 'reentry', 'psudomonas', 'binswanger', 'cervical/endometrial', 'ganglia/thalamic', '01:22:16', '08:53:21', 'survanta', '20:12', 'venrticulitis', 'mastocytosis', 'prostatitis/prostate', 'myelmoa', 'peri-operative', '30-40', 'post-mi', 'fibrillaiton', 'overwhelm', '09:06', 'conjugate', '08:49', '08:52', 'prevertebral', 'infection-enterococcus', 'inflict', 'laeft', 'seziures', 'emobolism', 'above-the-knee', 'below-', 'the-knee', '1640', 'pih', '239,000.', 'quickly', 'mi-stent', 'w/iabp', 'undersensing', 'pause', 'sternotomy/avr/cabg', 'postoperaive', 'bleeding/coagulopathy', 'raeb', 'stones/left', 'exsanguination', '0-25', 'diabetes/hyperglycemia', 'sx', '45f', '19:24', 'ateral', 'non-small-', '13:50:47', '14:34:34', '22:43', 'otosclerosis', '01:48', 'anaemia-transfused', '14:27', 'demetia', 'exaserbation', '1.1-1.3', '10th', 'hypoplastic', '14:52:51', '15:49:05', '32-2/7', 'imperforate', 'fourchette', 'vagina', 'tether', 'hbig', '15:37:57', '16:53:10', 'gatric', '14:57:24', '06:29:47', 'interstitail', 'cough/bronchitis', 'spot', '-found', '***episodes', 'occlussion', 'talar', 'torticollis', '03:12', '09:52', 'guiac', '25mosaic', 'cabgx2lima-lad', 'hemorroidectomy', 'vf/vt', 'cardiomopathy', 'alloimmune', '10:02', '11:23', 'ileocecectomy', 'regiment', 'perioperatively', '_____________', 'ischhemic', 'hypervolemic', 'as/', 'ureterectomy', 'hitch', '80m', 'hyperlidemia', '-anticoag', 'stopped-', 'pacer-', 'type/model', '-pateint', 'effusion/tamponade-', 'abuse/withdrawl', 'ion', '09:38', '09:39', 'g-j', 'dense', 'adherence', 'extreme', '50-abp', '19:48:22', '09:25:16', 'hyperthyroid', '~1.4', '2.0', 'ef~55', 'cervical/lumbosacral', 'fibrillation/', '50.393', '09:44:16', '10:06:57', 'become', 'conclude', 'remnant', 'endocrinology', 'cortisol', 'stimulate', 'reassess', 'a.m', 'voice', 'hoarseness', 'c-dif', 'adjuvant', 'n1', 'arrhythmia/paf', 'gastro', '2.75x15', 'diagnonal', 'tatu', 'delta', 'polydrug', 'nm', 'stelazine', 'hematoma/hemoperitoneum', 'aml/mds', 'emphysema/chronic', 'encepalopathy', 'proplapse', 'quarvain', 'nevus', 'empyema-', 'oranism', 'mass-', 'hypoactive', 'onxy', 'psuedoaneurysm', 'ototoxicity', 'blindness-prior', '0807', 'a.fib/flutter', 'stressmyoview', 'dyslipdemia', 'prothesis', 'glycemia', 'gtt', 'radiotion', 'failure4', 'mitrl', 'cholecystitis/choledocholithiasis', 'void', 'pvd/claudication', '4-8th', '6-8th', 'avr/maze', 'rtc', 'desaturization', 'superventricular', 'antiplatelet', 'consumption', 'honk', 'vaseogenic', 'cab', 'x3/mv', '3/6', '23:38:03', '01:33:21', '16:47', 'colonizer', 'osteoporosis-', 'intraperenchymal', '03:05', 'mania', 'hyperlipedemia', '-requiring', 'pneumonia-yeast', 'annticoagulated', 'aortobifem', 'catatonia', 'mutism', 'freundii', 'endotracheal', 'post-transplant', 'lymphoproliferative', 'fundus', 'rituximab', 'ptld', 'micrococcus', 'leucocytosis', 'bleed/blood', 'gelform', '10:22', 'femoral-popliteal', 'stenosis/mr/severe', 'fibrillation-s/p', 'myopia/presbyopia', 'defficiency', 'hctz', 'intoxication/abuse', 'obilterans', 'septic/vasodilatory', 'p-comm', 'infarction/nstemi', 'cva-by', 'exam/head', 'originally', '3.6cm', '61/01', 'thal', 'mod/severe', '442.9', '-while', '2cm', 'non-bleeding', 'nodule/pancreatic', 'suprventricular', 'pseudocyst/abscess', '1505', 'basilic/cephalic', 'benzodiazepene', 'tendinitis', '1a', 'chin', '1.1-1.4', 'beneath', 'lympoma', 'single-vessel', 'poliomyelitis', 'lg', 'lanryngeal', 'zygomaticotemporal', 'cm2', 'hyperparathyroism', 'colporrhaphy/sacrospinous', 'colpopexy', 'hernia/gerd', 'tricuscpid', 'stensosis', '-gastric', '-alcoholism', 'stenosis/spondylosis', 'quadraplegia', '29weeks', '4days', 'obstrcutive', 'isopropanol', 'ingestion/overdose', 'arrythymia', 'fascicular', '-diverticulitis', 'homorrhoids', '-eczema', '/cdad', 'cad/pvd', 'leftheel', 'silicosis', 'basline', 'cre', 'iib', 'down', '05:11', '17:22', '14:58', '0/7', 'obsessive-compulsive', 'ostructions', 'hyperchloremia', 'sequellae', '1.mi', '3.copd', '4.htn', '5.dm', '6.neuropathy', '7.depression', '28-5/7', 'tri', '16:46:51', '18:34:12', 'honc/uncontrolled', 'x1/with', 'diagonosis', 'cbi', 'hypergastrinemia', 'atony', 'panreastitis', 'hypergylcemia', 'jaundice/itching', 'sg', 'uppp', 'txplt', 'fgs', 'lazy', 'vitiligo', 'celll', 'gastroscopy', '-cerebral', '-skull', '36-year-old', 'c4-t4', 'reconstructive', 'mobility', 'c1-t1', 'eyelid', 'ostium', 'secundum', '10:43', 'prostatitis/bph', 'schizophrenia/depression', 'ischemid', 'mds/mpd', 'collection/infection', 'cholangitis/gallstone', 'entrap', 'pansinusitis', '-sbp', '-diarrhea', '-stenotrophomonas', '-abdominal', '-anasarca', '-cirrhosis', '-mvr/tvr', '-rheumatic', '-avr', '-ckd', '15:50', '16:04', 'maker', 'moderate-severe', 'aortic-', 'stroke-aphasic', 'brachythearphy', 'ueretal', 'c5-c7', '3/5', 'infiltration', 'stentingx2', '05:51', '08:05', 'g/j', 'internal-external', 'upsizing', 'ptbd', 'stent/pigtail', 'incracranial', 'disfunction', 'disaee', 'fibrillation/cardiac', 'myleodysplastic', 'medistinal', 'pyoderma', 'gangrenosum', 'emphysematous', '12.317', '12:26', 'ib', 'temple', 'wide', 'w/sln', 'peripslenic', 'anemia/diverticular', 'injury/altered', 'neurosyphillis', 'critcal', '17:46', '21:30', 'fracture-dislocation', 'hyperglobulinemia', 'reactive/inflammatory', 'deficiecy', 'gastaut', 'marker', 'guidewire', 'hydrocehpalus', 'submental', 'abuse/cocaine', 'urospesis', 'blush', 'thoracostomy', '11:47', '13:04', 'bacteroides', 'fragilis', 'benzodiapine', 'ck/troponin', 'morbitz', 'polyneuropathy/amyotrophy', 't9/10', 'cultures-enterococcus', 'abi', 'puplmonary', '1.6-2.0', 'pancreatitis/cholecystitis', 'laparoscopically', 'permacath', 'subluxed', 'phalynx', 'actute', 'tv', 'vegitation', 'eructation', 'collapse/partial', 'proxy', 'pneumonia/pneumonitis', 'steriod', 'comunicating', 'pellet', 'bradycardic/pea', 'trazadone/oxycodone', 'refractroy', 'xperimental', 'tolvapton', 'thrombocytopenia/anemia/coagulopathy', 'esphagus', 'unspecificied', 'periopheral', '06:46:52', '08:06:47', 'cryoglobulins', 'plaquenil', 'outpouching', 'urinalysis', 'hypoadrenalism', 'leiomyosarcoma', 'nerve-limiting', '03:43', '11:03', 'rul-now', 'prathyroidectomy', 'hyperosmotic', 'paralaryngeal', 'protect', 'clearance', '.h/o', 'vpb', 'vpc', 'ards/', 'description', 'comment', 'integrity', 'haldol/dilaudid', 'agitation/pain', 'tid', 'vtac', 'calculate', 'cxrs', 'abgs', 'oxygenate', '-hap/vap', '16-on', 'aspergillius', 'tfs', 'flexiseal', '-resolving', 'arf/atn', 'w/anasarca', 'mtg', 'almost', 'hct=22', 'slowly', 'seral', 'brown', 'endocrine', 'ri', 'pre-splenectomy', '-pna', 'bal', 'ct-chest', 'lag', 'evolve', '-id', 'recs', 'b-glucan/galactomanan', '6.78', 'a-line', 'lij', 'kvo', 'dept', 'bill', 'intraocular', 'vertigo/dizziness', 'presbycusis', 'tympanostomy', 'galea', 'multi-layered', 'speed', 'intrcranial', 'leiomyoma', '16:42', 'target', 'hyperglycemic/hyperosmolar', 'spondylisthesis', 'diazepam', 'q1-2hours', 'ciwa', '101', '180', '09:45', '10:27', 'resuccitation', 'prostatetectomy', 'w/ileal', 'w/negative', 't3,6,7,8', 'ant/med/lat', 'cryptogennic', 'mediastinal/bronchial', 'cruciate', 'bulemia', 'infarct-related', 'incessant', 'jiroveci', '3-5l', 'vaso-vagal', 'dementia/altered', '03:29:26', '07:46:04', 'gel', 'biscupid', '**', 'prothrombin', 'epicondilytis', 'month-', 'varicocele', '.-', '19:06', 'chf/volume', 'cah', 'incoordination/immaturity', '21:09:58', '23:40:51', 'tenth', 'separate', '1-severe', 'paradoxic', '3-', 'tracheostomy/recurrent', '4-', '5-', '6-', '7-', '8-', '9-', 'hyperthermia', 'vasular', 'withdrawl/delirium', '1.htn', '2.2:1', '1.2-1.9', 'blisters/ulcers', 'ipmt', 'illiac', 'obstruction/hlh', 'amylase/lipase', 'pancytopenia/febrile', '-amyloidosis', 'duodenojejunostomy', 'esopagectomy', 'anastomic', 'polops', 'cholecysectomy', 'neurocardiogenic', 'c6/7', '12:36', '11th', 'consequent', 'low-grade', 'agent', 'hypokinetic', 'moderate-to-severe', 'mild-to-moderate', 'demonstated', 'sepsis/urinary', 'l-mca', 'hemarthrosis', 'tram', '18:06', 'left-mca', 'anteromedial', 'pararenal', '00:25:45', '01:36:29', 'infrahilar', 'colovesicular', 'diphenhydramine', 'order', 'supplementation', 'basis', 'availability', 'actual', 'hip-uses', '68-year-old', 'spell', 'pre-syncopal', 'orthopnea', 'binge', 'zygomatic-sphenoid', 'intra-articular', 'conjunctival', 'overload/sepsis', 'fibrillaition', 'hypomagnesmia', 'mammoplasty', 'l3-5', 'neuromyelitis', 'optica', 'overnarcotization', 'exertion/pericardial', 'fort', 'goretex', '2x', 'sartorius', 'carcnoid', 'thrive-tpn', 'acities', 'pancreititis', 'oversedation/hypotension', '22-', 'dyspnea/hypoxia', 'honeycomb', 'dchf/', '1.6-1.7', '15:52', '16:11', 'macrophage', 'activation', 'hypogammaglobulinemia', 'intsterstitial', 'postherpetic', '07:19', '13:10:44', '14:06:28', 'rtpa', 'ct-torso', 'thyoid', 'staphylcoccal', 'endiometrial', 'iiia', 'ppmk', 'naussea', 'tag', '03:56:01', '09:48:29', 'supermorbid', 'diplopia', 'diaphyseal', 'gortex', 'cord/', 'basal/melanoma', 'solu-medrol', 'afterwards', 'switch', 'dosage', 'subcu', 'adequately', 'qid', 'form', 'hematologist/oncologist', 'fibroma', 'laxity', 'ms/confusion', 'fever/hypotension', 'crrt/hd', 'calciphylaxsis', 'poly-myalgia', 'revise', 'perilesional', 'arsenic', 'wt', 'loss/dm', 'gastroparesis/functional', 'dvts/pes', 'intracoronary', '**pt', 'discharge**', 'relocation', 'ivb', 'endometriod', 'radiology', 'relafen', 'suspensionx2', 'tonsills', 'ventrixular', 'incr', '10.acute', 'secondarily', 'cad/nstemi', 'bradycardia/wenckebach', 'hypoxic/hypercarbic', 'w/pancreatic', 'acei', 'undescended', 'testicle', 'epididymo-orchitis', '12-day', 'myopathy/neuropathy', '+/_', 'epi', 'delirium-', '-pericardial', '-hyperkalemia', '-insulin', '-prelim', '2lnc', '-visual', '-gastro', 'suprasellar', 'dysuria', 'restricitve', 'pain/leg', '05:00:45', '08:19:35', 'autopsy', 'transposition', 'inform', 'consent', 'carry', '09:04:16', '09:34:37', 'disection/cabg', 'dysphagia/aspiration', 'impaceted', 'stone-s/p', 'sphincterotomy/ercp', 'shoe', 'atelectasis-', 'effusion-', 'hemorrhagic-', '4th-7th', 'neurocystersarcosis', 'avr/mvr/tv', 'repair/pfo', 'non-disp', 'disp', '-picc', '-bl', '-mds', '-crohn', '**89**', '60-70', '-tinea', 'antibiotic-resistant', 'instability/dehiscence', 're-wiring', 'bcg', 'fibroelastoma', 'leukoencephalopathy', '_____________________', 'psc', '3-3.5', '18:21', 'st-', '-fecal', 'edge', 'injury/bursitis', 'pt-2x/wk', 'tendion', 'avr/mvr/cabg/septal', 'stenotic', 'ef55', '-clostridium', '-uremic', 'arteriopathy', '-candidal', 'legionaire', 'seizures/status', 'hips/pelvis', 'timeframe', '12-981', '16:50', 'pneumonia/bilateral', 'endocarditis/mitral', 'pcis', 'lethargy-', 'tracheoplasty/augmentation', 'cellulitis/phlebitis', 'r-antecub', 'gauge', 'piv', '**87**', '**02**', '22:59:58', '07:07:41', 'mass-elevated', 'ca19-9', 'sepsis/cholangitis', 'inj', '-hiatal', '-baseline', 'st-segment', 'bleed-lower', 'poast-operative', 'hiv-cardiomyopathy', 'hiv-nephropathy', 'intracelullarae', 'nasopharyngeal', 'dermatomyositis', 'stroke-right', 'globus', 'pallidus', 'masslike', '11:10', 'edeam', 'subacure', 'l1-2', '7thy', 'supra-epiglottic', 'cirrhosis/hepatocellular', 'fibrillation/ventricular', 'ttn', '22:12', '00:38', '00:17:34', '01:16:33', '19cm/4l', 'spirometry', '57', 'fev1/fvc', '115', '1.4cm2', '06:27', 'cardiomyopathy-new', 'tailbone', '1.2-1.6', 'mrcp', 'brca', '10:47', '10:57', 'tophaceous', 'megacolon', 'replacemment', 'myxomatous', 'mod-severe', 'para-renal', 'tibial-fibula', 'rij', 'aigmoid', '1.pelvic', 'innumerable', 'off-set', 'axial', '09:59', 'colonic/sigmoid', 'bleed/acute', '12:47:53', '14:48:45', 'catastrophic', 'llq', 'cia-bifem', '5/07', 'hrombectomy', 'angina/3', 'pre-operative', 'orif/pin', 'choledicholithiasis', 'alkali', 'hydrochephalus', 'hypothyroidsim', 'post-transplantation', 'bmd', 'ski', 'hyperplastic', '56-year-old', 'complaint', 'anything', 'orally', 'habit', 'diabets', 'failure\\\\n3', 'shower', 'let', 'pat', 'towel', 'temp.', '101.5', 'weeks.', 'opth', 'commission', 'file', 'opthamology', 'infarction/cardiac', 'nonalcoholic', 'bstruction', 'copdchf', 'respiratopry', 'hyperalimentation', 'cubluxation', '360', 'hepatocarcinoma', 'undefined', 'relation', 'define', 'tox', '03:17', '18:04', 'bental', 'nausua', '23:52', '00:02', '34wks', 'salpingoophorectomy', 'rethrombosis', 'regimen', '12-611', '18:46', 'lithiasis', '-sickle', 'porphyruria', 'cutanea', 'tarda', 'regurgitaionredo', 'thallasemia', 'oa\\\\nhemorrhoids', 'artrey', 'steroid-dependent', 'wenckebach', 'infaction', 'aast', 'especially', 'priamry', 'pruritus', 'gastrointestional', 'gasrointestinal', 'myxedema', 'memoray', 'oncogenic', 'osteomalacia', 'hypophosphatemic', 'rickets', 'grade/grade', 'electrographic', '14:22', 'wet-to-dry', 'insidious', 'continually', 'redness', 'tenderness', 'injury-resolved', 'dusky', '20:25:55', '21:52:42', 'l1-l4', 'enpulse', '69-year-old', 'monophasic', 'signal', 'fullness', 'purple-black', '7.6', '33.8.', 'hemolyzed', '5.0', '8.7.', 'preprocedural', 'consultation', 'amenable', 'diseased', 'option', 'nonoperative', '0.', 'routine', 'accomplish', 'reactivation', 'advisement', 'withhold', 'blockade', 'insert', 'fear', 'immediate', 'notably', 'intraprocedural', 'postprocedurally', 'actually', 'dialyze', 'unfortunately', '10.0', 'multitude', '2.0.', '10.6', '4.9.', 'gastritis/chronic', 'regulation', 'nitro', 'vioxx', 'glucophage', '20:55', '21:08', '07:17', 'temodar', 'post-term', '22:51:24', '03:13:31', 'c-5', 'translant', 'suppurative', 'rh', 'isoimmunization', '01:22', '01:56', 'subgleal', 'diagmosis', 'noncalcified', '19:44:17', '20:17:33', 'regurg', 'mesenteric/colonic', 'hyporesponsiveness', '21:14', '00:24', 'transaminitis-', 'hemi-transverse', 'metatarsophalangeal', 'eschar', 'insitu', 'angioscoping', 'suppress', '-normocytic', '-coagulopathy', 'brochial', 'mb', 'cholycystectomy', 'rhuematica', '10mg', 'phlegmasia', 'regurgitation/valve', 'unifocal', 'atriaventricular', 'clonazepam', 'trachobronchialmalacia', 'pyridoxine', 'thombosis', 'embo', 'abscess/hematoma', '3-hole', 'esohagectomy', 'cricopharyngeus', 'tef', '-cognitive', 'awareness', '-orthostatic', '-dvt', '-rll', '-transhiatal', '-repair', 'resection/reconstruction', '-ptc', 'chirrosis', 'subsequenc', '25/33', 'edema/lymph', 'cpap-', 'periodically', 'pci/coronary', 'j-j', '57.2mmhg', 'perforation/abscess', 'vitality', 't13vr', 'prevention', 'extremety', 'hemorrhage/frontal', 'nonepileptic', 'bar', 'cefepime', 'kawasaki', 'hypospadius', 'burden-', 'acromioplasty', 'lt5-7', 'hemothorax/pneumothorax', 'neuro-cardiogenic', 'areflexia', 'septicimia', 's/y', 'schizotypal', 'ogivies', 'wegners', 'glomerulomatosis', 'iliopsoas', 'ventral/incisional', 'colectomy/ileostomy/cholecystectomy', 'gastritis/duodenal', 'pneumo', '18:12:31', '20:25:09', 'surgically', 'eventual', 'adnexal', 'iher', 'cleave', 'malrotational', 'ladd', '50.ahb', '08:53:09', '09:59:58', 'etoh/polysubstance', 'anxiety/ocd', 'midclavicular', 'collar', 'aetiology', 'barryx', 'pair', 'suggestive', 'postnatal', '03:29', 'autologous', 'avail', 'arise', 'fascititis', 'gastroenteropathy', 'anemia/chronic', 'afp', '12:16:03', '13:35:47', 're-', 'hepaticojejunostomy', 'sarcodosis', 'undeveloped', 'pituatary', 'amenorrhea', 'stroke/transient', 'ibs/gerd/gastroparesis', 'vre/e.coli', 'tuthsa', '1-vessel', 'severity', 'delusional', 'parasitosis', 'ocd/anxiety', 'hypercarbic/hypoxic', 'demential', 'inhale', 'replavement', 'frontotempoparietal', 'panniculitis', 'mmud', 'allo-bmt', 'pancreatis', 'gasteroesophageal', 'refulx', 'suprahilar', 'cystos', 'protal', 'icp', '03:47', 'incontinance', 'cholesestol', 'hypothalamic', 'thirst', 'hypo-', 'intent', 'pilonal', '7/7/6', 'creation', 'bipap/cpap', 'cerebroventriculomegaly', 'acycarnutine', '50-470', '13:57', '16:19', 'multocida', 'obliterate', 'iodine', 'g6pd', '14:13', '14:56', 'parasagital', '10.left', '11.l', 'calcaneoud', 'sbe', 'venoud', 'exlap', 'hartmann', 'diangosis', 'cp', 'fungemias', 'cerv', 'eia', '01:13', 'afib/avnrt', 'cva/stroke', 'gastic', 'leep', '1.hypoxia', '4.pneumonia', 'f-t-p', '60m', 'ex', 'colectomy/transverse', 'meld', 'postangio', 'systollic/diastoic', 'dysfucntion', 'inotrops', 'invoke', 'streptococci', 'dmii-poorly', 'statin-induced', 'cva-left', 'preopccy', 'excision-benign', 'unilateral', 'microangiopathic', 'probabl', 'singulair', 'zyrtec', \"'flu\", 'pinning-remotely', 'lawn', 'mower', '30mm', 'cramp', 'endometrioma', 'narcosis', 'draiage', '**46**', 'lypoma', 'pediculosis', 'neurocystocercosis', 'disgnoses', '4.5', 'mra', 'taa', 'hemmorrhoidectomy', 'atrioseptal', 'grad', '~1.7-2', '13:12', 'osteoradionecrosis', '21:13:55', '21:51:26', 'pyonephrosis', 'myocoardial', 'pyloroplasty', 'postpyloric', 'enteral', '17:27', '17:48', 'coagulapathy', 'pneumonia/healthcare', 'salpingo-', '17:44:26', '07:43:48', 'satisfactory', 'mycoplasma', 'agglutinin', 'heartburn', 'dysplasia/adenocarcinoma', 'sdh/', '304', 'tnt', '0.73', '128-133', 'tonsillitis', 'verterbral', 'orif/laminectomy/instrumentation/posterior', 'desquamative', 'block-', 'lugdunensis', '23:04', '00:13', 'serolgies', 'collect', 'toxicology', 'hyperchloremic', 'acidosis-managed', 'output-managed', '01:49', 'degneration', 'livido', 'reticularis', 'microsporidia', 'inadvertent', 'crixivan', '12-907', '15:30', 'eeg.she', 'pht', 'fact', 'parietal-occpital', 'hypcholesterolemia', 'acinetobacter/klebsiella', 'bactermia/pneumonia', 'sepsis/resolved', '14:24:00', '16:21:50', 'quadroplegia', 'hyperhomocystenemia', 'pantar', '50years', 'oil', 'psoriais', 'paradoxical', 'adduction', 'ring/coronary', 'innominate', 'dvt-lle', 'shock/hypotension', 'chondrocalcinosis', '19:16', '+claudication', '04', '+hearing', 'afib/flutter', 'addr01p', 'cyctocele/rectocele', 'videoassisted', 'stenosist', 'tricicuspid', 'ulcer/infection', 'hyper-ferritinemia', 'syndroms', '-antibiotic', '12:10', 'ruputured', '15:02', '12:30.', 'bivad', '1.inferior', '2.atrial', 'insuffciency', '5.gi', 'spindle', 'tumor-', 'one/ten', 'trachostomy', '574.50', 'v42.0', '588.81', '276.7', '599.60', 'artery/popliteal', 'anterior-septal', '00:28', '11:02', 'hemorrhage/intraparenchymal', 'vns', '+tf', 'intercystitial', 'tavr', 'dehiscence/hematoma', '00:05:37', '07:00:19', 'tubo-ovarian', 'tibia/fibula/patella', '12mm', 'colectomy/ostomy/reversal', 'cholesyctitis', 'tracheobronchoplasty', '12-953', '14:52', 'caricioma', 'metatisis', '16:24:00', '17:05:35', '23:25:25', '04:38:05', 'hypercortisolemia', 'infarcation', 'cri-', 'orif/im', 'sweat', 'gerd/hiatal', 'post-radiation', 't-type', 'dyscontrol', 'perirenal', 'vehiclce', 'non-acute', 'carboplatin', 'taxol', 'avastin', 'enblock', 'protein/calorie', 'garft', 'breat', 'a-fem', '10.hypercholesterolemia', '11.gerd', '12.barrett', '13.chronic', '1.5-2.5', '14.macular', '15.gout', 'thoracoabcominal', 'b-12', 'fatal', 'tracheobronomalacia', 'atriovenous', 'cabg/mv', 'fibrilliation', 'thorascopy', 'varicocelectomy', 'infarction-', '20:06', 'toxic/metabolic', 'tachyarrhythmia', 'c1w1', '23pericardial', 'ptca/stents', 'opiate-induced', 'psychosocial', 'stressor', 'sqaumous', 'boderline', 'ecg', 'steatosis', '08:57', 'community-acuqired', 'ventilator-acquired', 'pancretectomy', 'lumpectomy/rads/xrt', '**78**', 'stimulator-', '**80**', 'panel', 'tc', '130', 'jail', 'thrombophebitis', 'fasciotomy/grafting', 'parapelegic', 'tfts', 'presumably', 'precarinal', 'reentrent', '2:15', 'colitis/sepsis', 'currenly', 'quadrantsonopsia', '-schf', 'bactremia', 'hyerlipidemia', 'redundant', 'adherent', 'psych/depression', 'chordae', 'tendonae', 'fall/syncopal', 'post-concussive', 'hemotympanum', 'lacrimal', 'fracture/ligamentous', 'papyracea/orbital', 'malleous', 'cross-femoral', 'aneurysmectomy', 'cirhhosis', 'radio', 'etoh/substance', 'flagyl/vanco', '6,7', 'interstitual', 'cerebrovascualar', 'fibrillatin', 'alzhemier', '54-year-old', 'tattoo', 'development', 'infractory', 'suitable', 'distend', '14.2', '1.3.', '1.0.', '315', '177.', 'piggyback', 'technique', 'relatively', 'progressively', 'simulack', 'methylprednisolone', 'cyclosporin', 'greatly', '237', '205', '41.', '33.7', 'acyclovir', '900', '13:26:55', '14:27:49', 'care-', 'obstructive/restrictive', 'pseudmonas', 'cereus', 'korsakoff', 'cholodocholithiasis', 'auricle', 'midshaft', 'obstipation', 'visceral', 'malperfusion', 'infacrction', 'noncardiac', 'hyphosphotemia', '35-4/7', '20:51:47', '21:55:10', 'identical', 'mallet', 'lerft', 'cerebro-vascular', 'vagotomy', 'locate', 'diseast', 'tacrolimus-related', 'glycemic', 'metarsal', 'hypovelemia', 'retroperitonial', 'laceartion', '17:30', 'hemigastrectomy', 'roux', 'sbr', 'diseaes', 't1-t4', 'rhabdomyolysis/drug', 'fsgs', 'intiation', '19:18', 'quantity', 'pleuritic', 'trimethoprim/sulfamethoxazole', '160s', '01:52', '01:07', 'teenage', 'leg/groin', 'shotgun', 'thigh/stump', 'obstruct6ive', 'percuitaneous', '-clipping', 't8-l2', 'predict', 'esophagitis/gastritis', 'narcotic/benzodiazepine', 'oa/protusio', '14:22:24', '14:48:04', 'acetylcholinesterase', '11:17', '12:33', 'infraorbital', 'dysphagea', 'chorioangioma', '09:27:52', '11:00:04', 'fibrillation/svt', 'unkown', 'differentiad', 'nephrostromy', 'hypertesion', 'apico-aortic', 'hypoadrenal', '1.acute', 'ddi', 'dysphasia/achalasia/', 'periperal', 'pilocytic', 'astrocytome', 'dysarthia', 'staus', 'thorascopic', '/fundoplication', 'wretching', 'hytertension', 't8-l3', 'chyle', 'gbl', 'methicillin-susceptible', 'cholelithasis', '-heparin', '-thrombosis', 'ganglionic', 'umbo', 'tubulovillous', 'w/high', '15:34', 'tricupsid', 'blue', 'subhepatic', 'ventriculitis', 'st-elevated', 'hypertropic', '13:30:41', '13:49:37', 'corynebacterium', 'striatum', 'indentity', 'ischmia', 'pharyngeal/laryngeal', 'rabbit', 'fur', 'secoandary', 'pilondydal', 'hcv/etoh', 'counselor', 'breath/hypoxia', 'nhl', 'ileopsoas', 't7-9', 'pigtail', 'parascapular', 'irrigation', 'hemo-pneumothorax', \"cm'2\", 'pulm.htn', 'osa-uses', 'phenobarbital', 'gastroesphogeal', '31-1/7', '10:40:07', '11:52:50', 'ossification', 'opll', 'rhematoid', 'per-op', 'thorax', 'nevus/melanoma', 'concussions-', 'granulate', 'broncheoale', 'svg-om2', 'sepsis/strep', 'bleed/hemorrhoids', 'pnas', '1.ischemic', '4.lacerated', 'agitation/altered', 'opeerative', 'bicyclist', 'leg/joint', 'decubitous', 'recanalization', 'inferoposterior', 'transcortical', 'metastic', 'susac', '12:15', '^chole', '28-32', 'fronto-temporal', 'frontovertex', '17:37', 'lobe/right', 'lobe/left', 'methacillin-resistant', 'osteomylitisepidural', 'drag', 'fluent', 'bradycarda', 'cauterization', 'angiotasia', 'curvature', '-preop', 'inflation', 'postitive', 'mediastinum', 'discitis/osteomyelitis', 'paraganglionoma', 't12-l1', 't5-l2', 'ileocolostomy', 'ileoileostomy', 'fiance', 'uneventful', 'reintubated', 'excellent', 'cholangiography', 'anastomose', 'across', 'quiet', '10:25:59', '11:09:47', 'angina/demand', 'excacerbation', 'delirium/', 'overload/anasarca', 'non-thrombotic', 'ep', 'non-cirrhotic', 'staphlococcal', 'poly-trauma', 'quad', 'orthostatsis/', 'paclitaxel', 'aversion', 'lymphadenitis', '08:33:18', '09:34:02', '08:38:09', '09:14:21', 'ifarcts', 'h.flu', 'ibb', 'epilepsy/seizures', '28u', 'hiss', 'rheumatology', 'antiviral', 'subarachnoidal', 'rhabdomiolysis', 'disarticulation', '15:22', '21:16', 'diskitis', 'confusion/delirium', 'levaquin', 'plenty', 'phenergan', 'prophylactically', 'xanax', 'rather', 'chronic/chronic', 'motorcycle/vehicle', 'breakthrough', 'mg/650', 'negotiate', 'certainly', 'exhibit', 'pharmacy', 'permission', 'refill', 'raise', 'high-protein', 'promote', 'perihepatic', 'systolc', 'o2-dependent', '18:53', '20:02', 'retrogastric', 'v.a.c', 'bypass/aortic', 'precaution', 'placment', 'cad-60', 'danlos', 'compendsated', '-recanalization', 'ischium', 'paramedian', '3,4,5', 'menigitis', '/septal', 'parameningeal', 'narcissistic', 'self-reported', 'arrythmias/cardiac', 'consistant', '33-2/7', 'hypobilirubinemia', '50-580', '13:12:16', '14:03:47', '/asc', 'acalculus', 'up', '01:15', '50-69', 'aorto-', 'fuion', '4-5', 'gastroschisis', '17:39:57', '18:51:33', 'extremely', '11:46:46', '12:45:07', 'gcsf', 'hypoxia/respiratory', '02:29', '06:49', 'nonoliguric', '21:28', '22:27', 'bipedicle', 'hyperactivity', '11/5', 'guaiac-positive', 'paresthetica', 'dysglycemia', 'pain/sciatica', 'esopagitis', '3,8,9.', 'hyperthroidism', 'mass/lesion', 'defibrillato', 'end-of-life', 'pacer/defibrillator', 'invade', 'create', 'syndrome-', 'fistula-abdominal', 'bc', 'uti-klebsiella', 'w/mult', 'intest', 'sbo/jejunal', 'perf/sepsis', '2^', 'perf', 'ec', 'iron/b12', 'defic', 'parotitis/sialolithiasis', 'melltis', 'ensue', 'ent', 'contusion/intraparenchymal', 'atican', '17:08', '21:05', 'allo', 'stenosis/suprapulmonic', 'malnutrion', '08:17', '11:16', 'c3-c5', 'ruptered', 'leak-', 'tm', 'icd-9', '199', '05:45', '07:13', 'diagnsosis', 'n/v', '07:12', '07:16', 'anesthia', 'polydactyly', '04:39:03', '07:39:09', 'peridex', 'swish', 'q12', 'hemi-arch', 'gel-weave', '71-year-old', 'serially', '58', 'systolic/70', '140', 'systolic/80', 'saturate', '174', '35.9', '0.7.', '117', 'cross-clamp', '69', 'mechanically', 'ventilate', 'strict', '70-80s', 'safely', 'oxygenation', '0.6.', 'sella', '-celiac', 'capsular', 'ataxic', 'gassiness', 'prilosec', 'ignore', '22:56', '05:48', 'hypo', 'interpretable', 'electrocardiographic', '22:25', '23:01', 'icd/pacer', 'rhabdomylosis', 'digitalization', '+uti', '20:19', '21:21', 'melanotic', 'failure/cardiomyopathy', 'lymphoctyic', 'status-resolved', 'monocytic', '21:25', 'parathryoid', 'circumflex/om2', 'myopia', 'valve-', 'ankle/leg', 'minimaze', 'schwanoma', 'superinfect', 'blodd', 'diabetc', '35-5/7', '00:15:24', '09:53:29', 'intramucosal', '15:41:42', '16:39:09', 'brochiectasis', '-v', 'bloc', 'rul/rlm/rll', 'thoractomy', 'male-to-female', 'gender', 'estrogen', 'spironolactone', 'internet', '-dx', 'aborpted', 'gastroenterostomy', 'tnferade', 'gemcitabine/5fu', 'pallative', '-currently', 'capcitabine', 'oxaliplatin', '-oncologist', '16:48', '17:29', 'paronychial', 'buerger', 'hpergylcemia', 'diarrheal', 'naproxen', 'artial', '50-477', '01:18', '12:02', 't2-t5', 'frontal-parietal', 'dva', 're-intubated', 'procainamide', 'dig', '0.67', 'trachomalacia', 'indistal', 'rhinoplasty', 'rta', 'clttted', 'back/hip', 'disease/gerd', 'mon', '77f', 'w/duodenal', 'persistently', 'lfts/pancreatic', 'postoeprative', 'trileptal/hctz', 'dabigatran', 'l3/4', 'l4/5', 't1-t5', '10.sepsis', '11.depression/delirium', '12.stage', 'trachea-esophageal', 'neuronal', 'heptocellular', '13:43', '15:44', 'obturator', 'cathterization', '4-5x', 'irregularity', '07:59', '09:02', '02:10', '02:48', 'amylotrophic', 'pneumonia-pseudomonas', 'diagnsois', 're-anastomosis', 'fludarabine/rituximab', 'flare-up', 'admenoma', 'postural', 'lightheadedness', 'sour', 'cholecsytectomy', 'alive', 'bialt', '10.t3', 'anterior/inferior', 'masth', 'depression/anxiety/bipolar', 'aocd', 'viamin', 'adem', 'ace/', 'circumferential', 'calvarial', 'ringfracture', 'wing', 'cribrosa', 'biparietal', 'bitemporal', 'premaxillary', 't5-6', 'surgery/biopsy', '02:08', '02:23', 'effusion-s/p', '4b', 'posteior', 'x35y', 'typical', 'w/pacemaker', 'colitis/ibs', 'multi-lobar', '00:12', '-sle', '-migraines', 'computerize', 'tomography-guided', '67', '103', 'conservatively', 'different', 'imipenem', 'cocci', '31.', '101.1', '108/57', '40/20', 'svr', '742', '550', 'end-expiratory', 'edematous', 'beefy', 'breathsounds', 'erythematous', '30.6', '478.', 'carbon', 'dioxide', '131.', '1.5.', '14.4', '29.7', '1.4.', 'pancultured', 'sensitivity', 'minimize', '1.1.', '100.1', 'awaken', 'spike', '102.9', '17.2', 'bedtime', 'undrained', 'tomography', 'fairly', 'chin-tuck', 'share', 'latter', '30.', 'consist', 'suppose', 'upright', 'antifungal', 'overcome', '9.6', '31.9', '268.', '13.9', '29.0', '142', 'hcl', '334', '113.', 'phosphorus', '4.0', '1.8.', 'defeciency', '_________________________', 'pre-vertebral', 'risperidone', 'bronchospastic', 'pre-cath', 'bronciectasis', 'u/s', 'afb', 'chelonae', 'peristalsis', 'exstrophy', '22:16', 'surgery-on', 'disease-on', 'x5weeks', 'appendix-', 'ascedning', 'cad/myocardial', 'r-pl', 'nodules-', '1-t1', 'proess', '2-t12', '3-left', '4-left', '5-small', 'injury-', 'jerk', 'status-', 'recto-vaginal', 'asthma/bronchiectasis', 'bleed/ischemic', 'gadolinium', 'pna/sepsis', '**65**', 'htxn', '**47**', '00:20:19', '07:45:08', '1.right', '5.left', 'use-1ppd', 'infract-rca', 'klebsella', '/mrsa', 'shock-vasopressors', 'failure-trach', 'thrive-peg', '-2', 'postoop', 'uti-treated', 'escalation', 'erratic', 'irritability/lability', '-closed', 'c.difficle', 'w/rvr', 'abherency', 'alimenta', '535', 're-initiated', 'ppd-negative', 'sellar', 'patiend', 'artritis', 'pyriform', 'pain/abnormal', 'gastrolesophageal', 'methecillin', 'triple', 'pneumononitis', 'overlap', 'denovo', 'xience', 'pseuodocyst', 'aneursysms', 'stage-iv', 'fat-containing', 'chem/rad', '10:48', '08:15', 'candiduria', 'spodylosis', 'lumbar/sacral', 'thorocoscopy', 'hamartoma', 'disease/myocardial', 'infarctioni', 'conceptual', '22:36:48', '00:05:00', '22:33', 'myocaridal', 'leukocytoclastic', 'malignant-appearing', 'dm-', 'mastectomy-', 'parosxysmal', 'insufficiency-', 'replacement-', 'diverticulisis', 'seronnegative', 'polyserositis', 'lligations', 'catracts', 'catract', 'thorcentesis', 'nodual', 't/l', 'leshions', 'proxsimal', 'amidarone', 'retropertoneal', 'contained-left', 'anemia-transfused', 'ptz', 'diff-treated', 'positivity', 'ai/mr', 'redo-redo', 'replecement/svg', 'syphilitic', 'w/rhabdomyolosis', 'hospital-associated', 'intersitial', 'plerual', 'colovaginal', 'metatsarsals', '15+1', 'wks', 'ga', '09:05', 'stenosis/reguritation', '**67**', '**66**', 'intrabdominal', '-autoimmune', 'cholangiopathy', 'takebacks', 'encephlopathy', 'varices/', '-end', 'transplantsplenectomy', 'decrubitus', 'aneursymal', 'presure', 'l2-s1', 'lad/svg-', '/mvr', 'atrial/ventricular', 'dys-synchrony', '**mrsa', 'positive**', 'cushingnoid', 'atv', 'prolapse/regurgitation', 'gemella', 'morbillorum', '2vcabg', 'impulsivity', 'sub-ophthalmic', 'im', 'kefzol', 'spincter', 'oddi', 'actinobacter', 'perimount', 'gelweave', 'fibrothorax', 'asthama', 'wound/infection', 'sternoclavicular', '-acquired', 'w/granulation', 'ambulatory', 'exacerbation/ischemic', 'healtchcare', 'evoke', 'hernation', '-necrotizing', 'orchietctomy', '**61**', '**62**', 'stool/gib', 'alcholol', 'varices-', 'scope', 'dissemination', 'hcv/alcoholic', 'supracervical', 'ureterogram', 'skill', '15:11:01', '16:08:02', 'lipidemia', 'pak', '22mm', '/resuspension', 'h/onephrolithiasis', 'orchiopexy', 'tracheabronchialmalacia', 'pretibial', 'bmt', 'abscess/coronary', 'permenant', 'thrombocytopenia/clinically', 'cabgx4/avr', 'strept', 'stroke/tia', 'graftx4', 'enterobacteremia', '-fungemia', 'caspofungin', '-gi', 'hypotension-colonscopu', 'friable', 'inflammed', 'native/nstemi', 'fem-popo', 'vtach/vfib/asystole', 'purulence', 'ischemia/history', '45/55', '-enterobacter', 'tricylic', 'diabettes', 'call-', 'fibrillatoin', 'otl', '21:38', '05:04', 'occipital/skull', 'superior/lateral', '06:22', '11:03:21', '13:58:35', 'brochititis', 'herniorraphies', 'angulate', 'retroperitonel', 'uvular', 'myopericarditis', 'r.hip', 'eardrum', 'aorto-ureteral', '12-746', 'bental/avr', 'diabete', 'vulvar', 'intraepithelial', 'epsistaxis', 'tentorium/optic', 'chiasm', 'manubrium', 'uvulitis', 'drum', 'epilipticus', 'coagulopathy/vitamin', '10g/day', 'ckd/inflammation', 'anteroapical', 'abuser', 'spigelian', 'auricular', '25-1/7', 'hmd', 'pie', '12:20:51', '13:24:16', 'hypovolemia/dehydration', 'withdrawl-', 'involvment', 'polyangitis', 'orolabial', 'hunnington', 'ivtpa', '17:12', 'ami', '32-6/7', '09:03', 'cml/cll', 'abuse-', 'propyl', '14:56:01', '16:02:55', 'tibula/fibula', 'prescription', '13:41', 'tka', 'bite/cellulitis', 'thalassemia/anemia', 'aneurysym', 'cholestasis/hepatitis', 'eccentric', 'phenylephrine', '40+', 'tii', 'refusal', 'fevers/hypotension/non-specific', 'ehrlichiosis', 'massively', 'iia', 'tran', '02:28', '19:46', 'panin', 'bottom', 'consolidation', 'tizanidine', 'serotonin', 'intentional', 'wound', 'subdural/subarachnoid', '~20', 'subarachnoid/subdural', '3rd-7th', 'nectar-thickened', '**00**', '6mth', 'svg-ri', 'dehabilitation', 'narcotic/opiod', 'endstage', 'ft.', '08:53:17', '09:28:57', 'retrolistesis', 'palpitations/pvcs', 'l1-5', 'herniations-', '4:30', 'plasmapheresis', 'interhospital', 'spatulous', 'devascularized', 'ulcertative', 'overlie', '09:31', 'cellular', 'hyst/chemo/rad', 'rhabdomyalysis', 'hemorroid', 'hematorcrit', '-orbital', 'quadriparesis', 'hands/feet', '76-year-old', '45-50', 'schroetter', 'shatter', 'acetab', 'comm', 'w/post', 'teardrop-type', 'lat', 'c1**', 'non-op', 'disrupt', 'mechanism', '16:59:55', '17:46:57', 'pna/chf/copd', 'hickman', 'bilobectomy', 'coumadin-high', 'stageiii', 'carpel', 'decompressive', 'microdiskectomy', 'kyphoplasty', 're-plantation', '12:23:45', '16:44:05', 'concequence', 'enterococci', 'ipf', 'esophogas', 'pre-op_', 'afternoon', 'ditropan', 'fellow', '7-10', 'weekend', 'urological', 'eager', '12-713', '17:28', '19:38', 'diagnones', 'laminar', 'w/mild', 'coliltis', 'p-com', '23:26', '00:41', 'conductive', 'intraparnechymal', 'mca+pca-territory', 'reanastomosis', 'gastro-jej', 'prolene', 'cardinoma', 'esophagitits', 'medtronics', 'str303', '9:30.', 'aortoplasty', 'rightside', 'meter', 'spacer', 'serevent', 'microgram', 'neb', 'ultram', 'cardizem', 'singular', 'pic', '07:46', 'cadeveric', 'pterygium', 'trample', 'pneumothoracies', 'extra', '10.t1-t5', '11.right', '12.left', '14.left', '15.acute', '16.hospital', '-all', '02:31', '02:38', 'x4/', 'lad/pa', 'rca/pa', 'behavioral', '12-838', 'mvr/tvrepair', '-hypothermia', '-non-anion', 'spleninc', '19:45:35', '10:21:18', '-c6', 'dehiscense', 'lambl', 'excresences', 'vegetation', 't1-t12', 'vrs', 'chromosome', 'lympohoblastic', 'gastrointesitnal', 'hemivertebra', '15:57', 'checkup', '17:39', 'crt-d', '**92**', '**88**', 'fibriilation', 'viridens', '7.5cm', '2.blood', '3.bradycardia', '4.emphysema', '5.chronic', '6.cad', '**56**', '**58**', '7.tia', '8.hypertension', '9.hypercholesterolemia', '10.gout', '11.depression/anxiety', '12.rml/rll', '7mm', '3months', 'parietoccipital', 'ingestions/overdose', 'inf/sup', 'lig', 'isolate', 'glomerulosclerosis', 'h+p', 'sensitization', '18:54', 'saccular', 'regurgitationa', '16:00', 'sjogrens', 'paroxsysmal', 'p90', 'm90', 'dlcx', 'mlad', 'asthma/chronic', 'microhematuria', 'fulgeration', 'c-s', 'subclass', 'fibrinolysis', 'avr/replacement', '11:23:23', '12:11:12', 'extrauterine', '20:29:14', '11:37:29', 'apnea-cpap', 'problem-bilateral', 'skull-based', 'preliminary', 'aaro', '06', '-cryptogenic', 'pneumomina', 'errythematous', '-alcholic', '-hypercarbic', '-chest', '-alcohol', 'thoracic/abdominal', 'aneurysm/thrombosed', 'cellulitis/dry', 'scaral', 'osteoarthritis/pmr', 'sacral-iliac', 'antiheparin', 'anneurysm', 'hyperhomocysteinemia', 'coccygectomy', 'erlotinib', 'overgrowth', 'supraorbital', 'thigh/left', 'myocbacterium', 'gordonii', 'osteoporosis-arthritis', 'syndrom', 'fascitis', '08:37', 'bacteremia/icd', 'vegetation/atrial', 'hypothyroidism/h/o', 'proptosis', 'retrobulbar', '947', 'ruq', 'in-house', '22:06', 'mca/aca/pca', 'aspiration/pneumonia', 'bo', '02:33', '02:59', '___________________', 'w/prior', 'abuse-sober', '-endoscopy', 'angio-coagulopathy', 'cryoprecipitate', '12:46', '05:07', 'cardioverted', 'ultracal', 'multipodas', 'turn', 'hygiene', 'pancreaticobiliary', 'annuloplasty/coronary', 'microfollicular', 'aspirate', 'incisura', 'diagsoses', 'burden', 'combo', 'thrombocythemia', 'hemispherectomy', 'insufficinecy', '1o', '2o', 'alszheimers', '-tension', '-question', '34.0.', '/left', 'maze/ligation', 'colovesicle', 'infecion', 'seoncdary', 'cricothyroid', '13:17:45', '13:45:09', 'sangre', 'sanguis', 'salivarium', 'pse', 'apnea/breadycardia', 'pyknocytosis', '02:28:36', '05:29:58', 'erosion/compression', 'pneumnia', 'c5/c6', 'persian', 'rid', 'flare/asthma', 'vaginiosis', '-rhabdomyolysis', '-statin-induced', 'cholestastic', 'pigment', 'hepatitis/cirrhosis', '1.type', '07:37', 're-excision', 'gastric-jejunal', '-non-traumatic', '-hydrocephalus', '-klebsiella', 'disease/end', '4-5x/day', 'septoplasty', 'sialodenitis', 'mentrual', '-e.coli', '-lactose', '-abnormal', '-varicose', '-peptic', 'requring', 'osteomyelitis-cultures', 'psuedumonas', 'honey', 'viridians', 'above-knee', '12-929', '08:01', 'insipitus', '/c', 'cspine', 'respectively', 'narcotic-related', 'unknonw', 'w/rapid', '23:30', '00:57', 'lumpectomy-', 'dissociation', 'symphysial', 'cross-link', 'autograft', 'morselized', 'extra-epidural', '21:11', '01:12', 'dysfxn', 'pnet', 'cerbral', 'reconstitution', 'vre/stenotrophomas', 'abscess/phlegmon', '1.6-2.2', 'avr/cabg/pericardiotomy', ':cad', 'europathy/retinopathy/nephropathy', 'ht', 'granulcytosis', 'forefoot', '14:28', 'sroke', 'bind', 'atropine', 'hemiathroplasty', 'pronounce', '3:20', 'biphenotypic', 'fusarium', 'avr/asc', 'chorcot-', 'pseudoanerysm', 'fna', 'salpingotomy', 'cardiomyopathy\\\\septal', 'echerichia', 'brochiolitis', 'closure/patch', '18:33:38', '19:30:22', 'hammer', 'callus', 'rhr', 'lhr', 'rkr', 'uretral', 'distress/pneumonia', '19-mm', 'palsy-currently', 'diagnoses-', 'stun', 'pressure-induced', 'bulla', 'cellulitus', 'formal', '-multinodular', '-tracheomalatia', 'pneumovax', 'articular-cutaneous', 'incontience', '-abscess', 'iv/po', '20/28', '00:42:43', '01:54:08', 'demyelination/myelitis', 'hemiparesis/hemiplegia', 'cirhosis', 'altred', 'entero-cutaneous', '3.9', '3.8', 'rpda', 'infraclavicular', 'nonconvulsive', 'over-drainage', 'permcath', '2.5-3', 'gastroesopahgeal', 'hcv/cirrhosis/hcc', 'prinzmetal', 'r/i', 'chd', 'paraparesis', 't3-l3', 'resistance', 'encephalopathy/delirium', 'gastrocolic', 'view', 'inadequate', 'swimmer', '09:17', '11:06', '11:43', '29-3/7', '21:25:35', '22:26:49', 'leukotactic', '16:38', 'asceptic', 'avr/cabg/asd', '45-year-old', 'transport', 'evidently', 'duo', 'charge', 'sentence', 'pericarditis/chronic', 'calculi/lithotripsy', 'aterio-venous', 're-suspension', '07:09', 'aldosteronism', 'plasminogen', 'activator', 'retardation/cp', 'idio-ventricular', 'perfed', 'alloderm', '09:21', '10:28', 'erythroderma', 'chief', 'colles', 'sjorgen', 'tias/r-hemispheric', 'r-cfa-akpop', '**77**', 'l-cfa', 'akpop', 'nrgsv', 'r-cia/eia', 'hemrrhage', 'sz', '**73**', 'perclose', 'contralateral', 'arteriography', 'aortogram', 'thrombectomy.angioplasty', '2.stent', 'graft.stent', 'graft.unilateral', 'cholesterolemia', 'fem-ak', 'adheasions', 'iv-contrast', 'malnutrution', 'insuff', 'cellullitis', 'arterydisease', 'histeory', 'bkpoop', 'angio1/06', 'post-infarction', 'l2-5', '09/99', '1v', 'abcs', 'cervica', 'fermenter', 'unspec', '3.acute', '4.pneumonia-klebsiella', '5.acute', 'non-convulsive', 'stent-lad', 'diganosis', 'enterrocolitis', 'dualfoy', 'synovial', 're-current', 'atelectatic', 'compresson', 'retropulsion/canal', '1-5th', 'exogenous', 'pipken', 'actue', 'anticoagulative', 'eye-', 'hemodynmaic', '6-mm', 'svg-dg1', 'svg-dg2', 'svg-drca-om2', '21:10', 'cirhossis', '-tacrolimus', '-human', 'thrombocytopeniania', 'pseudoseizures', 'trache', 'apnea-on', 'salivary', '-susceptible', 'mortem', '08:25', 'hyperlipidemia/hypercholesterolemia', 'pan-hypopituitary', '-angioedema', 'pseudoaneurysm/rupture', 'hypoxemia/respiratory', 'cholecystitis/enlarged', 'bladder/pericholecystic', 'exacerbation/bronchitis', '04:14', 'neuro-syphilis', 'parietal-occipital', 'hospitalizaiton', 'comply', 'v-28', 'precancerous', 'lidocaine', 'sespsis', '1.rsv', '3.hypertension', '4.aortic', '5.osteoporosis', '6.hyperlipidemia', '7.memory', '8.gait', '14:46', 'inr/coagulopathy', 'petechial/purpuric', 'retnetion', '76m', 'prostetic', 'ablative', 'cog', 'impairement', 'argatroban', '*10', 'days/week', 'acd', '-37', 'neovascular', 'livedo', 'iliofemoropopliteal', 'ivc-f', 'sub-occipital', 'shape', 'neoplastic', 'rhabdomyolyis-', 'inducible', '13:06', '13:16', 'disease/paf/tr', '28mm', 'pericardium', 'attack/cerebral', 'vessesl', 'destructive', 'modify', 'historectomy', 'ii-iii', 'chip', 'lymphoplasmacytic', 'rituxan', 'gastroesophagael', 'paralumbar', 'enchephalopathy', 'homicidal', 'hepatiti', 'av/as/ai', '-multiorganism', 'romi', '15:48', 'etoh/', 'as-s/p', '/maze', 'hyperparathyroidsim', '02:37', '03:02', 'spasticity', 'aphasic', 'deuodenitis', 'tightness', 'aerobic', 'thirty', 'emt', 'reestablishment', 'timi', 'postprocedure', 'defibrillation', 'joule', 'alcholism', 'c3-c6', 'significaant', 'indentation', 'desease', 'adenomyomatosis', 'colovesical', '5826', 'hypertenison', 'angioedema/allergic', 'stasis/lymphedema', 'aneurysm/type', '-premature', 'restenoses', '-pacemaker/icd', '-attention', 'lactamase', 'atrio-ventricular', 'hypodensity', '23:43:41', '02:54:09', 'myocardidal', 'salpingo-oopherectomy', 'bunionectomy', 'breakage', 'trunnion', 'apnea/cpap', 'ileoureteric', 'pneumonitis/aspiration', 'cardiogenic/septic', 'sensative', 'hypernitremia', 'cavernoma', 'inferior/superior', 'proximal/left', 'disorder/anxiety/depression', 'disease/', 'melodysplastic', 'vawscular', 'com', '1.3-1.8', 'seondary', 'bronchitis/copd', 'cigarette', 'aorta-repair', 'age5', 'smv/portal', 'hepatectomy/ccy', 'non-dysmorphic', '22:00', '-st', '13:51', '16:51', 'abscess/infected', 'fibrulation', 'penicillion', 'rhreumatic', 'mv-s/p', 'arf/cri', 'o', 'dermatosis', 'non-ketosis', 'cavitating', 'alocohol', 'dupreyens', 'infero-posterior', 'hperparathyroidism', 'folgeration', 'micro-infarcts', 'cabg/mitral', 'hematuria/bladder', 'tumour', 'joint-related', 'hypomagnesia', 'infection/', 'orolabialis', 'atial', 'chalazion', 'ef60', '20:57', 'bilateraly', 'resucitation', 'periapical', '________________', 'foranen', 'hemidiaphragmatic', '1.severe', 'insufficiency-stage', 'tibular', 'surgery/plate', 'ammoniaemia', 'encephlopatic', 'gum', 'confusional', 'annular', 'cefazolin', 'ulcerate', 'w/aortic', 'tachyarrththymias', 'ablation/ppm', 'colorrhaphy', 'untreatable', '03:23', '17:09', 'par', 'bulateral', 't10-l4', 'pneumothraces', 'intra-articular/comminuted', '2nd-5th', 'mtps', 'navicular', 'irrgular', 'heartbeat', 'plasty', 'bacteremia-s.', 'sphintorectomy', 'ideation/attempt', 'congenstive', '20:38:19', '08:26:34', 'choley', 's/o', 'am-', 'attdg', '-c1', 'technically', '10.urethral', 'fluconozole', '16:05', 'a-comm', '7277', 'endocardititis', 'reoperative', 'neurocystircercosis', 'attempetd', 'aircells', 'papyracea', 'canalithiasis', 'cta', 'lv-gram', 'rihgt', 'frontalacute', 'pneumothorax/hemothorax', 'arrythmias', 'hydrocephalus-transient', 'hemiparesie', 'anuloplasty', 'monocular', 'interparanchymal', '12:24', '12:47', 'faecalis', 'uti/bacteremia', 'torulopsis', 'replacement/ascending', 'avr/homograft', '06:53', '11/6sternal', 'anemia-requiring', 'diuresing', 'choleycystitis', 'choleycystotomy', 'insufficiency/failure', 'munchausen', 'fasciular', 'floor/zygomatic/maxillary', '08:42', 'threaten', 'mg.', '16:45', 'gastrointestianal', 'alpha', 'failure-from', '-hypercarbia', '-h.o', 'nephroureterectomy', 'lll/pna', 'tha', '01:37', '08:34', 'cateterization', 'pneumonia-treated', 'salicylate', '18:03:10', '18:46:12', '14:59', 'cpod', 'trcaheobronchioplasty', '==========', '32mm', '18:10:55', '20:18:05', '-pedestrian', '-pan', 'midface', 'lafort', 'levelfractures', '-compounded', 'parasymphysis', '-malocclusion', '-pain', '-mastoid', '-other', 'malocclusion', '-laryngeal', 'spastic', 'thorazine', 'ambulance', '148/78', 'wax', 'violent', '99.4', '118', '161/82', 'ox', 'stasis/pressure', 'y/a', 'arteyr', 'problems/', 'chernobyl', 'abstinent', 'submucus', 'resection/rhinoplasty', 'm.d.50-595', '03:49', '04:16', 'perma-cath', 'rxn/xrt', 'opcabgx1', 'cabg1984', 'pip', '11:49', 'mentas', 'faslodex', 'prodigy', '7865u', 'injury/atn', 'cefipime', '33-6/7', '2.035', '38-year-old', 'a+', 'fully', 'apneic', 'assign', '29.5', '8.0.', 'photo-therapy', '2.085', '170', 'cc/kg/day', 'dermatologic', 'mongolian', 'significantly', 'others', 'discharge..', '06:16', 'hypotension/', 'gynecologic', 'moyamoya-like', '15:52:08', '17:12:55', 'mulitorgan', 'spinabifida', 'fundal', 'necrophorum', 'joing', 'episiotomy', 'traansient', 'ishemic', '12-983', 'syndrome/non-st', 'non-bloody', 'addisonian', 'malabsorption', 'serosa', 'steatohepatitis/cirrhosis', 'chonic', 'partially-reversible', 'racture', 'grp', 'heterotropic', 'occlussive', 'lvef=', 'mutlifocal', 'mechcanical', 'diasthesis', 'ingrown', 'downward', 'fronto-parietal', 'lambdoid', 'orbial', 'retropulsed', 't5-t9', 't5-t11', 'pneumosepsis', 'expiration', 'osler-', '-rendu', '5fu', 'sentinel', 'forte', 'lcl', 'hypomagnasemia', 'amlodipine', 're-intubate', 'cabg/mvr', 'anterior-posterolat', 'mucoepidermoid', 'ecmo', 'perfringens', '28m', 'rul/rll', 'trans-scaphoid', 'w/perilunate', 'disloc', 'morelle', '10:37', 'compications', 'hematoma/laceration', '1,2,3,4,8,9', 'cul', 'sac', 'commmunited', 'fracture/ulnar', 'asperger', '43m', 'steriods/advair', 'nephrop', 'mod-sev', 'granulomastosis', 'lingual', 'approval', 'procedures/dates', '05:36', 'takutsubos', 'dysthymia', 'ersd', 'overdose/intoxication', '-follicular', '-occlusive', 'interhemispheric', 'strut', 'tributary', '21:22', '18q', 'deletion', 'tracheobronchmalacia', 'proctitis/lower', 'post-infarct', 'contribution', 'ai/as', 'aspergers', 'coronaary', 'osteoarthitis', 'pci/stening', 'nd', 'pillar', 'infaraction', 'alchol', 'proximity', 'exacurbation', 'motorvehicle', 'migraines/', 'overmedication', '10yr', 'radium', '20yrs', 'thalessemia', 'convulsion', 'cabgx4/left', 'arthrits', 'gput', 'thyrois', 'hemodiaylsis', 'cva/cerebral', 'popteal', 'peroneal/tibial', 'effusion/empyema', 'effusions-bilateral', 'nrti', 'angioscopy', '13:35', '04:01', 't4-t8', 'levf', 'nste', '/traumatic', 'levquin', 'tachcardia', 'tvrepair', 'restoration', 'continuity', 'ischial/pubic', '40-45', 'hematoma/ovarian', 'micronodular', 'erode', 'failre', 'sacro-iliac', 'enhancement', 'band/resection', 'p2', '50yrs', 'vascular/carotid', 'meneire', 'hemerrhoidectomy', 'sbo/ileus', 'dlmca', 'plcx', 'prca', 'qmonth', 'osteomyleitis', '10:20', 'morgagni', 'cabgx2/avr', '2v-cabg', '2.3-2.5', \"'proctopathy\", 'w/mediastinal', 'cma', 'w/adjustment', '10:34', 'widthdrawal', 'intention', 'intubation/mechanical', 'chondrosarcoma', 'bicap', 'mmf', 'post-viral', 'ef=20', '-v/icd', 'enterococal', 'hepaopulmonary', 'avr/tvr/pacemaker', '01:50:29', '03:54:53', 'lithotripsy-left', 'port-cath', '*left', '*rib', '*dislocated', '*pelvic', '*hemoperitoneum', '*inf/sup', '*grade', '*morel', 'lavalee', 'peacefully', 'chop', 'thytoidectomy', 'esrd-', '1.3-1.5', 'tertiary', 'liposarcoma', 'injury-now', 'diabetis', 'mellutis', 'failure/', '106', '2.7', 'sensorimotor', 'diagnsed', 'supressed', 'rheumatologist', 'cylcophosphamide', 'cyclophosphamide', 'reclast', '800mg', 'cyclophosphamde', '125mg', '**please', 'water****', '4-8mg', 's', 'calcium+vitd', '500mg/400units', '60mg', 'omeprazole', 'fish', 'azathioprine', 'melllitus', 'bundle-branch', 'antiinflammatory', 'regulate', '13:37', 'fludarabine', 'ig', '2x/month', 'gordonae', '5-fu', 'aleve', 'sinuse', 'pineal', 'pruritis', 'alport', 'cerebreal', 'diploplia', 'cauterize', '25pericardial', ',6', 'fracturet3-7', 'poa', '_______________________', 'sfa/popliteal', '18:33', 'ilius', '19:40:24', '22:18:32', 'pancreatitis/pancreatic', 'mesonephric', 'prvious', 'vf/pea', 'thoracotomy/removal', 'myocarditis/cardiomyopathy', 'failure/ef', 'body/pacer', '/subsequent', 'geastroesophageal', 'difficil', '05:35', '19:15', '4units', 'ressection', '10:50', 'delerium/confusion', 'disease/peripheral', '52-year-old', 'ca125', 'optimize', 'postponement', 'optimal', 'survey', 'continuation', 'steroidal', 'anti-inflammatory', '/hepatocellular', 'chrocnic', 'stimulus', 'hope', 'meaningful', 'hypercholesterolemia/hypertriglyceridemia', 'neuropathy-reports', 'calf/feet', 'ii-dietary', 'sternotomy/', 'procedure/', 'viridin', 'stenotrophomonas/enterobacter', 'cloaca', 'j-p', '17:03', 'marfans', 'aicd/pacemaker', '-stopped', 'cystoscopies', 'glomus', 'vagale', 'neck/skull', '2.75', 'penta', 'rutherford', 'hallucinate', 'aicd/pm', 'fxn', '**12**', 'toenail', 'aspirgillosis', 'low-density', 'dyphagia', 'peripharyngeal', 'hrs/', 'hypermagnesemia', 'emobli', 'peg/j', 'cad/as/asd', '07:30', 'noc', '03:44', 'asa-', '-chiari', 'regurgitaion', '30-4/7', '19:48:27', '21:12:58', '-pcos', 'tracheo-bronchomalacia', 'larnygeal', 'hypophosphotemia', 'pan-hypopituitarism', 'areus', 'lacertion', 'abscess/pna', 'stricutre', 'arthoscopy', 'thrombocytopenia-', 'levoquin', '12-adf', '21:48', '00:33', 'bleeding/', 'malnutriton', 'ef20-30', 't1/n1/mx', 'perferation', 'fertilization', 'bactermia/sepsis', 'constipation/abdominal', 'inr.', 'shoulder/trapezius', 'fibromatosis', '20:46:58', '23:23:03', '~15', 'tracheobronchealplasty', 'lactate', 'doumentation', 'x13mm', 'gluten', 'amliod', 'reposnse', 'bifascicular', 'compute', 'vcg', '3.0.', '24-48', '11:04', 'gleevec', 'nutritionally', 'hemangiopericytoma', 'scalp/meninges', 'methylmethacrylate', 'antiepileptic', 'nonalcholic', 'ventrial', 'guiaic', 'epsiode', 'lpda', '+tobacco', 'cytomegaloviremia', 'bipolor', '11-12th', 'sup', 'a-fib/a-flutter', 'parapelegia', '07:15', 'hyperlididemia', 'anaphylatic', 'onto', 'post/inf', 'coronoid', 'overdose/suicide', '10.osa', 'nstemis', '1670', 'primigravida', 'antenatal', '42.75', '2635', 'choledocholithisis', 'c-pap-pt', '10-12', '2024hrs', '65-70', 'hernia-', 'fundplication', 'pvd-', 't.2', 'frontal/parietal', 'daignoses', 'gastroesphageal', '31-5/7', '08:01:54', '08:37:23', 'emerg', '-rca', 'ppm/aicd', '1.rectosigmoid', '2.esophagitis/small', 'cholangio', 'collapse/atelectasis', 'obliteration', 'exacerbate', 'trachealmalacia', 'intrathoracic', 'tracheobroncheoplasty', 'iiic', 'hemilaminectomy', 'studay', 'ptci', 'celiac-ha', 'relisted', 'mastectomy/chemotherapy', 'microcephaly', 'trisomy-21', '03:00', '03:06', 'hypothyriodism', 'glargine', 'midodrine', '09:29', 'cryoglubinemia', 'stenosis/ascending', 'son', 'angiitis', 'parietooccipital', '50-abq', '15:42:05', '17:15:53', 'fibrocystic', 'thoroco-abdominal', 'hemothoroax-ct', '4/05', 'moter-sensory', 'pre/postoperative', 'hypotension-fluid', 'insuffiency-on', 'labalis', 'repletion', 'hypoglycemics', 'weightbearing', '08:51', '09:24', 'hypertrigliceridemia', 'valsalva', '-deep', '-e', '-hospital-acquired', 'articular', 'rigid', 'groin/scrotum', 'kyphoscolosis', 'pulmmonary', 'pvd-s/p', 'aorto', 'lumpectomy/xrt', 'anemua', 'triscupid', 'mvr/tv', 'hematuria/urinary', '14:35', 'defecit', 'g-', 'leokocytosis', 'subependymal', '17:17', '18:32', 'seborrhea', 'destents', 'plv', 'sahs', 'gelware', 'colonoscopic', 'thoracicaa/aaa-', '4-5cm', 'ckd-', 'tube-feeding', 'microalbuminuria', '1425', 'g.', 'fontanel', 'entry', 'nondescended', 'genitalia', 'sternotomy/third', 'hemi', '26-mm', 'hypothermic', 'satge', 'areteriovenous', '8/08', 'dwarfism', 'diastoic', 'non-embolic', 'corporis', 'disease.s/p', 'boop/left', 'ca/partial', 'chf/cardiomyopathy', '**17**', 'diverticulosis/gastritis', '1.6-1.8', 'esrd/', 'posopterative', 'vassopressor', 'fem-peroneal', 'choparts', '**45**', '+chol', 'vt/vf/pea', 'agalactiae', 'endopthalmitis', 'peri-graft', 'requuiring', 'ooze', 'juncture', 'supraspinatus', '08:21', 'quadriceps', 'c3/c7', 'foraminotmies', 'thyrotoxicosis', 'peripartum', 'frostbite', 'np', '05:14/t', '05:44', 'hpv', 'postmenopausal', 'tibialis', 'cachexia/severe', 'bronchiogenic', 'post-ir', '-pocket', 'mid-', 'ostructive', 'pleurodeisis', 'osteoarthritis/', 'abrassion', 'over-anticoagulation', 'drmrntia', 'suicidal/homicidal', 'bronchogenic', 'salingo-oophorectomy', 'respiritary', 'dementia/delirium', 'pain/chronic', 'refux', 'catatact', 'svg-am-pda', 'resec', 'svt/sinus', 'raphe', 'epididymal', '1.7-2.0', 'distress-', 'intertitial', 'neurofibrosarcoma', 'vte', '4.6', '3.4', 'osteo-arthritis', '17:10', '19:01:34', '19:49:48', 'interarticularis', 'adhesive', 'insipidius', '-metasatic', 'retreival', '00:17:59', '01:02:25', 'thigh/groin', '21:02', 'tentorium', 'sinus/clivus', 'hemosinus', 'osteophyte', 'pylonidal', 't12-l3', 'colonoc', '1.summary', '12/', 'hypoglobulinemia', 'endocarditis-s/p', 'potentially', 'traceomalacia', 'hopelessness', 'iugr', 'pneuomothorax', 'intracardiac', 'thyroidectomy/', 'seziure-unknown', 'hypophonia', 'melana', 'hypoaldosteronism', 'derangement', 'luxate', 'exclusion', 'xiphoidectomy', 'dsykinesia', 'disconnect', 'p/w', '190s', '4d', 'abnl', 'coreg', 'altace', 'taxil', '30-33', '**48**', 'epidermal', 'inlusion', 'ptca/rca', 'lumbar/cerv', 'dz.', 'psc/autoimmune', 'orthstasis/hypovolemia', '16:04:06', '16:46:28', 'methicillin-resistent', 'argon', 'coagulation/cardiac', 'arrest/ecmo/removal', 'lvef:30', 'cardiomyoapthy', '-right-hemispheric', 'a/c', 'longstanding', 'mutlifactorial', 'tracheostomy-reversed', 'tracheocuteous', 'post-tracheostomy', 'restrictive/obstructive', 'laxative', 'frequently', 'gluteus', 'maximus', 'vzv', 'hemorrhages/', 'hydrouretonephrosis', 'acute/subacute', 'tachy', 'content', '~1.9', 'urinay', 'aorto-occlusive', 'pain-', 'iddm-continued', 'i', '23:17:02', '00:02:19', 'failure-reintubation', 'bilroth', 'wedge/talc', 'pleuredhesis', 'hemmorhoidectomy', 'transjugular', 'portosystemic', '12-adp', '23:51', 'pci-lad', 'velocity', 'hepacoat', 'bulbar', 'w/distal', 'episcleritis/iritis', 'proxysmal', 'cefuture', 'post-streptococcus', 'unrelatd', 'e.coli-pan', 'neck/failed', 'hyperetnsion', '13:59', 'macrosomia', 'as/ai/bicuspid', 'av/dilated', 'benzos', 'hypercholesteronemia', 'cirrohsis', '**26**', 'hydroxyurea', 'venostasis', '02:42', 'neurophathy', 'schistosomiasis/liver', 'non-hemolytic', '00:51', '-hematuria', 'v3', 'rhitidotomy', 'tia/cva', 'acuity', 'putamenal', 'cholesystectomy', '21:54', '07:05', 'fistulotomy', '03:23:27', 'odynophagia', 'keratoses', 'disease/gastrointestinal', 'unidentified', 'secondar', 'inflamatory', 'non-ruptured', '16:12', 'cavernomas', 'inherit', 'ventillated', '-myasthenia', 'heamophilus', 'successfull', 'synringomyelia', 'hcm', 'traumatice', 'debreidement', 'pec', '08:20', 'nsr', 'osteomyelits', 'appoint', 'euglycemic', '-posterior', 'pseuodoaneurysm', 'sublclavian', 'pancoast', 'neoadj', '18:28', '19:11', 'manic', 'salmonella', 'fev1=74', '**57**', 'important', 'lumbo-sacral', 'anteriorly', 'hemaccult', 'i/ii', 'asociated', 'ctr', 'hiv+', 'hypophasphatemia', 'magnetic', 'resonance', 'imaging/magnetic', 'citrate', 'cad/mr/ai', 'x2/avr/', 'colosctomy', 'supervise', 'tend', 'cc7', 'station', 'typically', 'tunelled', 'facture', 'non-communicating', 'toprazole', 'droperidol', '21:04', '59', '^lipidemia', '1.0-1.2', 'prolapase', 'rul/rml/rll', '1.aspiration', '2.tachycardia', '3.subdural', 'contusion/intracerebral', 'w/spinal', 'cholesystecomy', 'tah/appy', '16:58:37', '19:24:45', 'trnasfused', '111', 'tibial/fibular', 'ansiety', 'opiod', 'lavage', 'esophagoscopy', 'sternothyroid', 'far', 'explain', '14:16', 'nephrolethiasis', 'marginal/anastamotic', 'vasoocclusive', '14:06', '20:03', 'hyptertensive', 'hypocalcemia/hypophophatemia', 'post-menopausal', 'nehprectomy', 'valvle', 'utilize', 'hyperinsulinism', 'ak/hk', 'gastoesophageal', 'seconady', 'prob', 'blepharospasm', 'polymorphinc', 'colecystectomy', '17:30:32', '17:58:03', 'b/', 'cpa', '4.6cm', '02:22', '02:27', 'anticoagulant/anti-phospholipid', '-attempted', '-opioid', 'placental', 'abruption', 'homograft/aortic', 'scleritis', '21:23:29', '22:20:12', 'blt', 'malodorous', 'cervix', 'late-preterm', '17:03:52', '13:44:45', 'vram', 'coroanry', 'dianogsis', 'twin/twin', 'peds', '07:42:09', '08:34:44', '19:53', '37-3/7', '13:51:26', '15:33:12', 'phlegmonous', 'flexeril', 'citalopram', 'caustic', '01:59', 'repair/cabg', 'ef=30', 'adrenalitis', '13y-', '637,000', 'pegasys', 'candidacy', '16y', 'sacral/heel', 'quadrapelegia', 'juvenile', 'stenosis/mitral', 'eczema/rosacea', 'nsaid-induced', 'fetastasis', 'conciousness', 't2-t6', 'sepsis/infection', 'contour', '08:27:32', '08:39:31', '23:19:34', '02:42:58', 'thrombectomey', 'dchr', 'overdrive', 'reprogramming', 'erythromycin', '~2', '-erosion', '-ulcer', 'gi-bleeding', 'dysplastic', 'pneumoncoccal', '-unresponsiveness', '-healing', '-progressive', 'wernicke-korsakoff', 'pneomothoraces', 'pharyngocele', 'hyperamylasemia', '14:53', 'hemespheric', 'pregnancy/tubal', '-ecoli', '-enterococcus', 'hypomania', 'donation', 'megaloblastic', 'inflitrates/subacute', '-cardiopulmonary', 'abdominal/pelvic', 'impairment/', 'abuse/intoxication', '2.630', 'sab', 'sensitize', 'terbutaline', 'recognize', 'frame', 'hydrops', 'amnio', '90th', 'percentile', '50th', '75th', '42.', 'lsb', 'appreciate', 'reappear', 'ounce.as', 'fluroscopic', 'nipple.these', 'suck/swallow', 'coordination', '3.570kg', '4.0/0.2', '16.9.', '0.3.', '7.3/0.2', '6.8.', '2.2.', 'coat', 'hemolyze', '24.3.', '34.9.', '24.7', 'tire', 'prb', 'hcton', '39.', '11.8.', 'polyvisol', '1cc', 'discretion', '08:40', '-duodenal', '-mylodysplastic', 'subgalial', 'avulse', 'jehovah', 'displacment', '01:39', 'laryngiospasm', 'maltoma', 'protein-energy', 'peripherial', 'cuff/biceps', '3/', '-3-hole', '-j-tube', '-orif', 'cirrhois/hepatocellular', 'hemmorhage/coagulapathy', 'c5-7', 'leak/rupture', '-frontal', 'intercurrent', 'precentral', 'gyrus', 'petechial', 'polymicobial', 'vre/mrsa/esbl', 'traumatic/osteoporotic', 'fusion/intrumentation', '18/12', 'pontomedullary', 'tracheomlacia', '+ett', 'gastrenteritis', 'pre-diabetes', 'obesity/deconditioning', 'thrombocytopneia', 'septecemia', '19:51', '08:38', 'entercutaneous', 'pseuodomonis', 'insufficieny', 'intraventricula', 'receptive', 'suppresion', 'syphylis', '/stent', '/dvt', 'hepatititis', 'indeterminant', 'mentally', 'handicap', 'ventriculomegaly', 'perivalvular', 'hisotry', 'predinsone', 'rigth', 'ileoconduit', '~1.3', 'merci/', 'sirs/septic', 'nausea/anorexia/weight', 'transmural', 'serology', 'anemaia', 'thrombis', 'pleuoscopy', 'bruise', '11:16:55', '12:19:51', 'b-blocker+amio', '-jel', '2.205', 'infertility', 'triamniotic', 'obstetrical', 'jelly', 'clamp', '48-hour', 'maroon', '53.', '7.1/0.5', 'insignificantly', '2140', 'intend', '10:04:47', '10:26:33', 'intubation/ventilation', 'pen', '12:10:48', '09:16:20', '304.00', '671.54', 'nec-postpart', '287.5', 'uretero-pelvic', 'organoaxial', 'withdrawal-induced', 'duodenitis/gastritis', 'osteoprosis', 'extraperitoneal', 'poem', '13:38', 'hypercapnia', '-heart', 'meillitus', 'glenohumeral', 'extraarticular', 'split', 'palatal', 'depend', 'pseuodogout', 'fem-ax', 'carotid-carotid', 'revision/thrombectomy', 'hematoma/seizures', 'repair/avr', '160.', '12:41', '-probable', '-funguria', 'fibrillitation', '23:25', '01:41', 'w/frank', 'diag/om', '/rf', 'maze/laa', 'stapling-', 'ileus/', 'park', 'inside', 'hemorrheage', 'reuslting', 'ornithine', 'transcarbamylase', '3.460', '0+', '13:24:07', '14:01:10', 'thyrocervical', 'trunk', 'tib/fibula', 'eater', 'dynamazation', 'orifleft', 'take-down', 'blade', 'w/revision', 'dependancy', 'neuropathy/nephropathy', 'infarction/angioplasty', 'pseudoporphyria', 'dysplagia', 'fall/trauma', 'hemorrhoiectomy', '2.cad', '3.copd-', '4.gout', '5.anemia', '6.anxiety', '7.severe', '+ar', 'twenty', 'monteggia', 'replacemnet', '2/07', 'bipab', 'syndrome/mi', 'c6/t1', 'gelfoam', '23-27', 'disease/pradaxa', 'surgery/xrt', 'encephalomalacia/', 'hypoxemic/hypercarbic', 'subdural/sah', 'l1/5', 'rupture/ulcer', 'alkylosis', 'tracheobronchimalacia', 'cyclic', 'necrobioiss', 'lipoidica', 'canthus', 'microhyphema', 'granft', 'gancycolvir', 'rrr', 'hypercholesteralemia', 'laka', 'cia/eia', 'coronory', 'infection/dehiscence', 'depresssion', 'postinfarction', '4.2cm', '13:18', '13:24', 'fall/intracranial', 'subarachanoid', 'hemi-sensory', '************', 'anti-seizure', '22:44', 'status-delerium', 'w/residual', 'carbamazepine', 'lipodystrophy', 'zoster-', 'decubiti-', 'dehiscense-', 'bigeminy', 'replacement/cabg', 'temperal', '13:47', 'biloma', 'necrosis/acute', 'centrum', 'semiovale', 'vasodilatory', 'w/subsequent', 'expansion', 'trached', 'repeatedly', 'necrosectomy', 'cholcystectomy', 'lca', 'recalcitrant', 'ae', 'ltvc', 'treatmenmt', 'incipient', 'pancytopenia-thrombocytopenia', 'hit-', 'hchol', 'pulmonar', 'apnea-diagnosed', 'fibrosis-will', 'orif/foot', '10:36:41', '11:40:26', 'attributable', 'precipitatied', 'intraparenycmal', 'cystogram', 'inanition', 'tracheostom', 'paraesphageal', 'troachanter', 'alcoholwithdrawal', 'hypertryglyceridemia', 'chronicity', 'temple/face', 'tumor-related', 'spermatic', '-health', '-cerebrovascular', 'hemimplegia', 'c-scope/egd', 'cadiopulmonary', 'tibioperoneal', '07:44', '08:10', 'sternectomy', 'mdr', 'accord', 'phytomenadione', '9.0', 'h.o', 'phlebotomy', 'ry', 'contracoup', 'pea/asystolic', 'nslca', 'anteriolisthesis', 'c6/c7', 'l3/l4', 'innapropriate', 'debt', 'fibroxanthoma', 'pancreas/kidney', 'fem-tib', 'simultaneous', 'pancreas-kidney', '/aortotomy', 'straight', '3x/day', 'sdh/orbital', '22:36', 'htlv1', 'leukemia/lymphoma', 'adriamycin', 'heart/pulmonary', 'capneumonia', 'arachnoiditis', 'eclampsia', '**52**', '-esbl', '-health-care', '-c5', 'ace-', 'appendicovesicostomy', '-ge', 'encase', '-malignant', 'perinephric/paranephric', '-interstitial', 'diastlic', '-mechanical', '-diverticulosis', 'hematoma/fluid', 'yeast/vre/coag', 'gastric/duodenal', 'ulcer-gi', 'hus', '1,2,4,6,8', 'parapharyngeal', 'effusison', 'particular', 'prutitis', '-hiv', '31-34', 'x15-20', '-dyspnea', '-pleural', 'colliculus', 'posteriof', '-moderately', 'cryo', 'femoral-tibial', 'pain/fibromyalgia', 'costochondritis', '21:37', 'chronid', 'leukocystosis', 'hypnatremic', 'terminally', 'sweet', '23:14', '01:04', '04:20:22', '07:46:03', 'maze/left', 'uvula', '07:10', '19:41', 'gentamicin-induced', '08:02', '08:27', 'avr/cabgx1/asc', '12-761', '16:54', '22:07:01', '23:52:23', 'window/rv', 'afib/sss', 'ckd/esrd', 'diagosed', 'reluctant', 'bps', 'plasmapheresisis', 'beta-2', 'glycoprotein', 'depoprovera', ',mental', '5-6', 'percarditis', 'myotonic', 'precipitant', 'heroine', 'clearly', 'suboxone', 'simultaneously', 'attain', 'lifestyle', 'environment', 'faithful', 'sobriety', 'triple-lumen', 'cholangitis/septicemia', 'craniotomy/left', 'hitt', 'daytime', 'sleepiness', 'hydrocort', 'ptosis', 'w/syncope', '==================', 'anemia/duoenal', 'obbstructive', 'fib/v', 'tach/complete', 'hypertropy', 'pacemaker/defibrillator', 'retightening', '14:05', '15:36', 'thryoid', 'eczema/dermatitis', 'nasopharynx', 'decending', 'cocaine-induced', 'non-small-cell', '+loc', '15:05:49', '16:16:45', 'tisuue', '-s/', '-redo', '-since', 'recurrence-', 'sotolol', 'nadir', '159', 'mvr/avr', 'surgery-chronic', 'ventillator-dependent', 'pharygitis', 'non-rebreather', '210/120', 'historian', 'hemturia', 'accident-small', 'tube/portacath', 'kidney/liver', 'eophageal', '**85**', 'pneumonia/ards', 'overdose-', 't3-t4', 'choreo-athetoid', 'occular', 'muslce', 'prost', 'wle', 'boric', 'migrane', 'tapazole', '10.bilateral', '12.major', '13.hypoglycemic', '14.possible', '13:22', '13:40', 'tumor/mass', 'hemorrhage/anemia', 'c/section', 'xlap', '21:19', '-yeast', 'diarrha', 'antecedent', 'gastrointestial', 'est', 'gfr', 'alve', 'disease/barrett', 'removal/chest', 'non-immune', 'leukomalacia', 'cld', '13:54:17', '15:56:28', 'gastroentestinal', 'hbv/hcc', 'sepsis/gnr', 'malpositioning', '50-60', '30-32', '-heroin', '-personality', 'retropharngeal', 'l34', 'cpap/bipap', 'uti-ecoli', 'bateremia-', 'prednisone-induced', 'failiure', 'benzo', 'thorocotomy', 'middle/lower', 'bronchoplasty', 'cva/', '28ce', 'enteroscopy', 'line-related', '03:09', '15:29', 'nec', '20:52', '21:53', 'opiod-dependence', '14:34', 'sjogrn', 'exchange/abx', 'stasisetoh', 'cholesystostomy', 'chemoradiotherapy', 'diagnosis-pneumothroax', 'transischemic', '23mmst.', 'pulldown', 'ef40', 'transgender', 'anorexia/bulimia', 'peustow', 'gastroenteritis-loose', 'alochol', 'repair/', 'followed-up', '04:45', '03:28', 'infection/cellulitis', 'sialadenitis', 'ischemia/possible', 'wake', 'artert', 'sellae', 'predominantly', 'incl', 'intraorbital', 'subsquent', 'caths', 'lgh/', 'paramnesia', 'myopic', 'gastrocnemus', 'tachycadria', 'paprycea', '23:49:14', '09:07:46', 'svg-ramus-om', 'far-advanced', 'tracheobronchomalicia', 'posthemorrhagic', '20:35', '4.345', '32-', '99.5', '100.3', 'euglycemia', 'd12.5', 'd10', 'supplementary', '4.235', '14.6', '09:27:49', '10:46:05', 'ectasia-', 'reset', 'tsh=1.9', '22:28', '09:54', 'mild-mod', '-obstructive/restrictive', 'hydro', 'anticoagulatioon', '-stauts', 'lbo', 'thrombophlebitis/cellulitis', 'bowel/r', 'w/anastamosis', 'homogenous', '27-5/7', '11:51:58', '12:38:50', 'spt', 'wit', 'arf-resolving', 'wide-complex', 'structure', 'pavilion', '09:48', 'ams/delirium', 'h/p', 'cellultis', 'hematomoa', 'leukemia/myelodysplastic', 'paravertebral', 'iron/vitamin', '5-mm', 'ulcers/cellulitis', 'frontal/right', '11:40', 'loculation', '10:41:49', '11:19:41', 'phlegmon/abscess', 'tobb', 'crack-cocaine', 'thrombosis/pulmonary', 'biapical', 'hcc/fibrolamellar', 'lymphoma/burkitt-like', 'lymphoma-', 'impotence', 'arthritis/djd', 'sciatica/back', 'cartoid', 'hypereosinophilic', 'wtih', 'gastrogastric', 'spinomuscular', 'endplate/t4', 'aspiratin', 'dialysis-dependent', 'fulvestrant', '05:24', '18:37', 'stenosis/chronic', '20:26:55', '23:06:00', 'idiopathic/non-ischemic', 'p.o.q.d', '14:08', 'non-electric', 'mutation-', 'enchondroma', 'vestibulopathy', '425', 'trasnplant', 'ef20-25', 'cystoscopic', 'overdose/abuse/dependence', 'discetomy', 'klebsiella/citrobacter', 'discrete', 'locus', 'rcea', 'fibrillaton', 'sacroiliitis', 'aneurymsal', 'svg-pda-plv', 'neuropathy-retinopathy', 'multi-organism', 'tremmens', 'subarachoid', 'diarhea', 'metastesis', 'infacrt', '15:05:52', '17:53:37', '1.h/o', '2.type', '3.htn', '4.copd', '5.atshma', '6.seasonal', '7.chronic', 'chf-', 'cki', 'spep', 'multiple-organ', 'devic', 'parietal/temporal', 'repair/annuloplasty', 'impediment', '2.htn', '3.hypercholesterolemia', '4.ulcerative', '5.depression', 'testiculectomy', 'ss/p', 'vechicle', '12-988', '22:58', '04:09', 'peduncle', '0,11,12', 'extrapleural', 'atricure', 'synergy', 'catastrophe', 'insufficiency/mitral', 'lymes', 's1/l5', 'bimalleollar', '7,8', 'rca/', '**20**', 'thrombectomy/art', 'csection', 'elbow/olecranon', 'obstructive-restrictive', 'loperamide', '1,000', 'multi-vitamin', 'bupropion', 'paroxetine', 'oxide', 'avandia', '134', '210.', 'dermatology', 'stitch', 'ecchymotic', 'colopathy', 'xrray', 'unsatble', 'sleeve', 'evisceration', 't6-t12', 'canceer', 'post-hemicolectomy', 'c/p', 'vitreotomy', 'manipulation', 'bridements', '24-aaa', '09:58', '10:10', 'arerty', 'mix3-last', '6yrs', '15:03:09', '15:40:58', 'giardia', '171', 'disorder-apparently', 'subaracnoid', 'adrenocortical', 'session', 'diagnsis', 'lund', 'tt', 'secoondary', 'esrd/esld', 'dehyration', 'decubiti/chronic', 'pain/spasticity', 'graft/resuspension', 'takosubo', 'mo/we/fri', 'echocardiography', 'aulsion', 'fragment/fracture', 'epicondyle', 'megace', 'appetite', '75/25', 'dronabinol', '15.2', '27.2', '37.5', 'carbonate', 'bromide', 'hydrochlorothiazide', 'acetylcysteine', 'gradual', '14:17:41', '17:32:50', 'sage', '-bipap', 'antibx', 'spacers', '1mm', 'akenesis', 'spasm-tx', 'racemic', 'heliox', 'ahronic', 'perimyocarditis', 'pharmacological', 'hematological', 'q.4-6', 'gluconate', 'naprosyn', '13:00:35', '13:45:39', 'avr/septal', 'tubulointersitial', '/graft', '-meningitis', 'lupus-like', 'delirium/encephalopathy', 'thromboplhebitis', 'anuiria', 'code/chest', 'extubate', 'cad/as/afib', 'nausea/', 'scallop', 'l-subcortical', 'oxacillin', 'tracheostomy-', 'decannulated', 'overweight', 'hemangiom', 'c+', 't2-4', 'w/acute', 'po2=42', 'angina/myocardial', 'myleoid', 'diameter', 'impinge', 't9-t12', 'artery/', 'marginal/posterior', 'colitis/irritable', '1.hypoxic', '2.non-st', 'sirolimus-eluting', '3.chf', '4.atrial', '7.dysphagia', '8.hard', '3-part', '08:25:41', '08:39:43', 'vad', 'cyclist', 'hypovomic', 'exacerbation/questionable', 'suprasternal', 'polyp-s/p', 'line/port', 'fasicular', 'sepis', '07:03', 'pyleonephritis', '05:10', '8-10th', 'clavical', 'artery/ica', 'embolized', 'sinotubular', 'svg-d2-om1-om2sequentially', 'histiocytosis', 'type-1', '34-35', '12:46:15', '13:22:24', 'sudbural', 'light-headed', '30.0.', '24.0', 'fistula-', 'diabetese', 'peri-esophageal', 'acuired', 'ca-', 'colsotomy', 'nasal/orbital/cerivical', 'notify', 'esophageal/rectal/biliary', 'hiadrenitis', 'supporitiva', 'confirmation', 'configuration', '9.3', 'ms/mr', 'angioma', 'bleach', 'baldder', 'c/b/', 'lap/loa', '2/06', 'myotomy', 'toupet', '4-vessel', 'velcade/dex', 'fever/neutropenia', 'carefully', 'drowsiness', 'understand', 'noncontrast', 'compare', 'conclusion', 'trolley', 'preprocedure', 'alcoholic/hcv', 'aoric', '-orthotopic', 'fibrilations', 'bendemustine', '12:03', 'leision', 'hydrothorax/hemothorax', 'morbilliform', 'agina', '-dka', 'liver/renal', 'postopertive', '23:19', 'osteopenia/osteoarthritis', 'gammahydroxybutyrate', 'cardipulmonary', 'malleollar', '08:45:02', '09:43:35', '-tricuspid', '-staph', 'tslo', 'imuran', 'mtx', 'sice', 'graaft', 'spahenous', 'graft-', '04:47', 'iliac/femoral', 'montaggio', 'herat', 'urostomy/ileal', '-last', 'w/aicd', 'effusion/', 'thoracenteses', 'he/wife', 'neg.', 're', 'floroquinolones', 'culture=coag', 'gibld', 'nsclca-new', 'bx-', 'parasellar', '03:40', '03:48', 'fevers/sepsis', 'hairy-cell', 'cda', \"dx'ed\", 'stenosis/cad', 's/porif', 'wth', '21:53:33', '00:13:09', '05:01', '06:46:57', '08:24:30', 'want', 'bacteremia-currently', 'ulcers/wounds', 'hypothyroidisim', 'detrussor', 'gastroc', 'tongs', 'arthrodesis', 'c2-c7', 'laminotomy', 'facetectomy', 'tracheobronchomalaica', 'excise', 'occlusion/', 'oesteoartritis', 'nonbloody', 'sharp', 'epigastrium', 'nonradiating', 'relationship', 'fahrenheit', 'intensify', 'constant', 'radiograph', 'nondiagnostic', 'gutter', 'urgently', '130/70', 'conversant', 'cyanosis', '7.1', '47.2', '321,000.', '138', '346', '0.9.', 'ileo-cectomy', 'intraspinal', 'extradural', 'mapping/simulation', '30-3/7', '15:54:01', '16:50:53', 'sup+inf', 'compression/palsy', 'debride', 'tracheostomy/percutaneous', 'disorder/emphysema', '-9', 'bivalirudin', 'ticagrelor', 'hyperlipidemiaq', 'cholilithiasis', 'hypomagnesimis', '-gastro-pancreatic', 'fistular', 'effuion', 'hyperglacemia', 'cirrhossis', 'intoxification', 'ferritin', 'lichen', '-malnutrition', '-supranuclear', 'cholecystis', 'exacebation', 'resoloved', '17:25:00', '19:48:00', 'q4', 'x7', 'h.s.', 'glynase', '10:00', 'difficille', 'herceptin', 'hamman-', 'monomyelocytic', 'sjs/ten', 'foramum', 'vermis', 'veins./', 'paresis/aspiration', 'stenossi', 'theraputic', 'aspergillos', '/avr', 'apendage', 'wegenner', 'ventricullar', 'esophagous', 'progresson', 'i.e', 'mod-to-severe', 'nephro-toxicity', 'maor', 'humurous', '06:58:40', '07:39:53', '22:20', '09:35', 'tumefactive', 'infundibulum', 's.p', 'sci', '4.1cm', 'v.fib', 'pta/stenting', 'hyercholesterolemia', 're-explor', 'cholangitis/sepsis', '00:34', 'larygeal', 'leukoplakia', '07:22', 'babeosis', 'tonsilar', '-carboplatin', '05:53', 'subfrontal', 'surpressed', 'seeding-now', 'w/urinary', 'retention-hematuria', 'duodental', '12:40', 'pt3n2mx', '-supratherapeutic', 'ped', '1.eft', 'suborbital', 'epidermoid', 'unwitnessed', 'pseudomomal', 'valproic', 'unrinary', 'euvolemic', 'osm', 'isodense', '4u', 'chad', 'widening-unclear', '-medication', 'bechet', '33-5/7', '2.175', 'o+', 'amniocentesis', 'xy', 'prematurely', '28.5', '2.905', '12.1', '45.4', '33.1', 'nectrotizing', 'sah/intraventricular', 'taxotere', 'withg', 'tenovir', 'crytosporidium', '.d', '17:49:50', '18:31:35', 'expandable', 'lymphatic', 'acending', '6.spastic', '208', 'medical/surgical', '15:37:37', '20:23:51', 'chrons', 'rt/chemo', '14:31', '15:04', 't8-l1', 'r2-8', 'small-mod', 'inferoseptal', 'inferoapical', 'abandon', '40cm', 'virtual', '01:29', '19:37:29', '20:18:38', 'thoracotomy/', '15:39', '11.9', 'myledysplastic', 'patella-femoral', 'bunionectomies', 'mx', 'hydrocelectomy', 'shellfish', 'ultimately', 'dobutamine', '170.', '41.6', '34.4.', '38.3.', 'broad-spectrum', 'schatzkis', 'periodic', 'gastrolarygneal', 'abscence', '07:00', 'pharyngeal/tracheal', 'uti/septicemia', 'thight', '10.delirium', '11.mrsa', '12.respiratory', '10.carotid', '12.gastroparesis', '13.osteoarthritis', 'compression/pathologic', 'para-esophageal', 'gerd/esophagitis', 'methylphenidate', 'clock', 'n.p.o', 'convenient', '97.1', '142/68', 'extraocular', 'normocephalic', 'exudate', 'warmth', '15:35', 'myotrophic', 'nauseau', '21:42', 'chromin', '7.hypercholesteremia', 's.aureus', '305', 'hyeprtension', '10:04', '16:52:11', '17:30:26', 'bariatric', '18:26', 'achalsia', 'pna/copd', '01:00', 'dementia/acute', 'subendocardial', '3x', 'duodenal/gastric', 'duverticulitis', 'shrapnel', 'fasciitis-', 'edenoma', 'conoloscopy', '10:25', 'disease/aoritc', '173', 'wt=2740g', 'length=47.5', 'hc=33', 'hyperalkaline', 'phosphatemia', 'endocarditis/insufficiency', 'ta', 'encephalopaty', 'carcinoma/sarcoma', 'dear', 'bendamustine', '12:20', 'combativeness', 'occipital/basilar', 'oteopenia', 'synovitis', 'pda-', 'cisternal', 'reanastamosis', 'snd', '-diagnosed', 'xigris', 'thereby', 'value', '3.2.', '7.3', '1.9.', '7.37', '195', '+5', 'benzodiazapenes', 'alnd', 'aorto-ilia-femoral', \"'97now\", 'concous', 'somulance', 'transfused-corrected', 'ngt', 'cardiomyapathy', 'glenoid', '-persistent', 'quick', 'manner', '20,000.', '16:13', 'millmeter', 'medius', 'cement', 'duplicate', '2-uncontrolled', 'mycardial', 'radial/ulnar', 'evulsed', 'post-cabg', 'malnutritional', 'chemiacal', 'tendency', 'aloholic', '34-year-old', '300.', '89', '12-222', '43', '20:04', 'uticaria', 'humolog', 'pericardiotomy', 'arterey', 'revision/declotting', 'epo', 'light/dark', 'figure', 'acquried', 'esrd/crf', '18mm', '6.1', '1.0-1.2cm', 'tempoparietal', '-monclonal', 'undertermined', '-post-operative', 'multifactoral', 'underling', 'pnemothorax', 'ibd', 'asacol', '36-4/7', 'ligature', '06:43:09', '07:56:10', 'artery-peroneal', 'perc', 'nhl-marginal', 'cryoglobulinemia', '06:51', 'redo-thoracoabdominal', 'instability/', 'tachycarida', 'asbergers', '02:49:34', '07:39:25', 'disease\\\\ns/p', 'ileoloop', '1,560,000', 'iu/ml', 'non-mtb', 'esosphageal', 'smal', 'acromegaly', '-cki', 'hyper/hypotension', '345.41', 'lieden', 'svg-d1-d2', 'cachexia', 'vanco/cefepime', '13:58', 'hypopharyngeal', 'ro', 'ablation-unsuccessful', '35-week', '01:51:37', '03:35:21', 'ictal/post-ictal', 'avm/resection', 'dehiscence/debridement/flap', 'pvd/carotid', 'rpair', '-helicobacter', 'vascular/alzheimer', 'bnu', '88', 'syndrome/coronary', '86', 'provoke', '*erythema', '*atrial', '*anemia', '*malnutrition', '-non-displaced', 'superiolateral', '-non-depressed', '-concussion', '02:50', '02:57', 'distress/bronchiolitis', 'vanc', 'multi-factorial', 'hemorroidal', 're-eval', 'ax-bifem', 'infra', 'turbinate', 'sepsis/pneumonia', 'endocet', '17:44', 'abscess/pneumonia', '27+0', 'ace-i', 'sternotomy/asc', '20:21', 'incite', '02.349', 'trancheobronchomalacia', 'aneurysm/', 'mid-rca', 'tbm-not', 'sugical', '15:55', 'hemoatoma', '15:13:39', '19:12:00', 'rope', '21:56', 'tracheobronoplasty', 'calcaneonavicular', 'coalition', 'tarsal', 'thru', '23:39', 'forty-four', 'preemie', 'enteroviral', '04:08', 'fx-dislocation', 'deficiency/chronic', 'stomatitis', 'l-spine', 'dm-diagnosed', 'spondilitis', 'constipstion', 'fialure', 'mel', 'litus', 'conjuctivitis', '-single', '-umbilical', 'decade', '-shoulder', 'dyscrasia', 'wadenstrom', 'melphalan', '11:56', 'pinealoma', 'non-expanding', 'faciitis', 'hemiplgia', 'tuesdays/fridays', 'sss/paf-', 'gastrinoma', 'felon', '1.chf', '3.dm', '4.renal', '5.ckd', 'angulation', 'atriral', '04:35', 'intrapoarenchymal', '10:52', 'olecranan', 'basicervical', '-sjogren', '-restless', '-cholelithiasis', 'clostridial', 'rivh', 'henia', 'pud/gerd', 'resuting', 'lactam', 'oxycodone', 'aorta-bifemoral', 'mallolear', '83', 'enterovesicular', 'intravitreal', 'beta-hemolytic', '09:00:46', '19:20:36', 'neck/parotid', '100.8', '156/80', 'satting', 'scoop', 'blow', '85-year-old', 'russian', 'resident', 'identifiable', 'pathogenic', '29-30', 'resume', 'stenosis/severe', 'prstatic', '**preliminary', 'ards/acute', 'po/appetite', 'chf-systolic', 'svt/avnrt', 'subdural/epidural', 'dmt2', '-hypertriglyceridemia', '-encephalopathy/delirium', '-tachycardia', 'baloon', 'hypertophy', 'necrobiosis', 'diabeticorum', 'tosillectomy', '~3.0', 'pro-crit', 'r-bicep', 'lbp/sciatica', 'falciparum', '100-120', 'mi/', 'dentition', 'deform', 'ix', 'hemangioblastoma', 'tibiofibular', 'quality', 'optho', '01:57:38', '04:36:37', 'tracheobronchitis/pneumonia', 'agitation/delirium', '0.15', 'buttress', 'failure/aspiration/arda', 'psuedomeningocele', 'churg', '21-mm', '07:02', '07:14', 'hemicraniotomy', 'nausea/vomitting', 'summarize', 'pertinent', '20:08', 'block/second', '09:25', 'bleed/coil', 'tracheostomy/ccy/open', 'harvet', 'w/no', 'viability', 'smolder', 'vesico-ureteral', 'arv', 'conjuctival', '16:45:08', '19:41:55', 'calcineurin', 'tamponade/', '-hld', 'unaware', 'd/', 'hypertonia', 'clonus', '07:31:26', '08:59:18', 'pyocystitis', 'low-dose', 'diagnoss', 'diagnes', 'exicison', 'mvr/mvp', 'divertizulization', 'hunt-', 'stratus', 'absorbable', 'pigskin', 'unerlay', 'overlay', 'marlex', 'talus/cuboid', '1200', 'intramyocardial', 'lambda', 'dupuytrens', 't2n0', 'hbc', 'equivocal', 'non-cardiogenic', '~5', 'otorhinolaryngology', '11:34', 'tophaeous', 'abscess/sepsis', 'hay', 'fem/tib', 'bleomycin', 'inflame', '**11**', 'h/x', 't1-t3', 'anteriourligamantous', 'injury/tear', 'chylous', 'trajectory', '12:55', 'dscending', 'ecf', 'w/sbr', 'colotomy', '*klebsiella/pseudomonas', '*pseudomonas', 't3n1mo', 'sys/diastolic', 'p.o.t.i.d', 'p.o.q.d.times', 'p.o.q.6h.pr.n', 'p.o.b.i.d', '02:30', 'gastrorraphy', 'hepatorraphy', '-none', 't/th/sa', 'paraproteinemia', 'dissection/', 'insufficiency/', '29-mm', 'freestyle', '30-', 'vascutek', '83f', 'nhu', '**33**', 'opcab', '**35**', 'hypercholesterolema', 'pseudoanyrsm', '2/04', '25yrs', 'anterograde', 'facility-acquired', 'autolysis', 'kleibsiella', 'prostatectomy/hormone', 'eu', 'fractures-', 'parasymphyseal', 'ridge', 'ctures', 'constestive', 't1/t2', '13:44:33', '14:14:56', 'severance', 'brachialis', 'pronator', 'broup', '/esld', 'postprocedural', 'retroperitoneal/peritoneal', 'persisent', 'melatus', '04:07', '04:20', 'lgi', 'toupee', 'coronaray', 'colonvaginal', 'ophth', 'l1-l2', '13:10', '5mm', 'air-fluid', 'generalied', 'schizophenia', 'infection-complicated', 'l.leg', 'serositis', 'ophthalmology', 'protective', '24.145', '11:38', 'pscyhosis', 'esophageal-pleural', 'chemotherapy/radiation', 'methicillin-', 'bacteremia/deep', 'rectum/', '08:40:57', '09:22:47', '35-3/7', '18:56:14', '19:42:14', 'hepaticojejujonostomy', '-pud', 'oxytoca', 'cortisone', '_________________________________', 'mtp', 'mpj', 'rotational', '13:44:11', '14:33:18', 'pulmonary/skin', 'cerebellar/brain', 'fly', 'bt16', 'non-melanoma', 'cholethiasis', 'anticonvulsant', 'notch', 'zmc', 'collpase', 'primnary', 'lad/rima-', 'rca/svg-', 'om1/om2', 'rectocele', '19:01:33', '19:56:11', 'epiglottitis/supraglottitis', '12:35:32', '13:01:39', 'tia/aphasia', '2.95', '1.57', 'balanitis', 'pack/year', 'anorexia/bulemia', '12:53', 'prednisome', 'humurus', 'obsructive', '0.8-1', '**38**', 'contamination', 'intraventridular', 'pancytopenic', 'hemmorage', 'endobrachial', 'emergency/posterior', 'hcom', 'pylroi', 'mrsa/', 'visa', 'anti-gbm/anca', 'secndary', 'pmhx/pshx', 'tracheobronchialmalacia', 'bronchial/tracheal', 'failure-resolving', 'polyneuritis', '32gelweave', 'aorto-fem', 'hyperchoelsterolemia', 'pmh/psh', '19:23', 'narocotic', '21:17', 'plate/pec', 'traumatic/pressure', 'asthma/reactive', 'insommnia', '+ivc', 'hap', 'resipiratory', 'syndrome/acute', 'myloid', 'acidosis/failure', 'disease/chronic', 'bronchoreactive', 'cancerous', 'lymphoplasmocytic', 'atherectomy/ptca/stenting', '12:50', 'basillar', '27-6/7', '18:50:21', '20:00:10', '3b', 'chemorads', 'hypoxia-likely', 'urticarial', 'colouterine', '14:23', 'hypoechoic', 'cirrohosis', 'ichemic', '1.3-1.4', 'summ', 'funtion', 'obstructuve', 'definite', 'p1', 'visualize', 'hypodensities', 'genu', 'thalamoperforators', 'intraoral', 'gingival', 'periosteal', 'mania-bipolar', 'prirmary', 'strictured', 'peristomal', 'polytendinomyopathy', 'vancomycin/cipro', '-inflammatory', '-patellar', 'immobilization', 'post-surgery', 'frontal-temporal', 'paralytic', 'external/internal', 'pseudomembraneous', 'panhypopituitirism', 'phytobezoar', 'takayasu', 'exception', '15:31', 'attepmt', 'fibrillatory', 'cardiomyopathy/chronic', '19:39', '19:28', '20:05', 'dimple', '02:49:22', '08:45:38', 'emphesema', 'pulmonale/rhf', 'desc', '-hepatocellular', 'quantiferon', 'anxiety/impaired', 'cop', 'aereus', 'hypotension/sepsis', 'ventillator-associated', 'macrovesicular', 'periportal', 'sinusoidal', 'ostearthritis', '06:16:52', '07:32:41', 'bacteremic', 'anginosis', 'thunb', 'cabg/pericardial', 'percardiocentesis', 's/pleft', '3vessel', 'anasarca/chronic', 'pyarthrosis', 'signet', 'rcca', 'c1w2', 'tur', 'dophoff', '47m', 'sfa-at', 'polyarteritis', 'nodosa', 'formerly', 'failure-resolved', 'downstairs', 'tac', 'hepaticjejunostomy/ccy', 'tee/dccv', 'hematoma/sah', 'ultrafiltration', '3.3', 'diuril', '21:09:12', '00:39:30', 'temporal/pareital', 'depression/psychosis', 'infranodal', 'atheroembolic', 'infart', 'defecits', 'cecal/appendiceal', '10:14', 'deliriium', 'st-segement', 'pneumonia-community', 'infection-hospital', 'unused', 'mini-craniotomies', 'hemmoraghe', '2nd-7th', '12:34', '13:15', 'secondary/past', 'reabsorption', 'c6-c7-t1', 'leptomeningeal', 'fronto', '5x4cm', 'orb', 'anti-trypsin', 'antitrypsin', '08:36', 'tranfused', '6ya', 'pvfm', 'w/epidural', 't-pa', 'anemia-s/p', 'sacraldecubitus', 'nocardiosis', 'unconfirmed', 'intra-parenchymal', 'suprarenal', 'beauty', 'salon', '~11', 'toothbrush', 'anti-e', '10:28:07', '20:53:24', '20:50', 't4an3', 'status-epilepticus', 'cks', 'transdermal', '10,000', 'guiafenesin', 'sertraline', '21:32', 'aspiration/mrsa', 'formerd/c', 'ctx', 'trachebronchomalacia', 'hemrrhoids', 'hemmorhage/hematoma', '3-6th', 'status/delirium', 'penumonitis', 'streptoccoccus', 'm1-2', '/mitral', 'cg', 'w/p', 'diagnsoses', 'exeracerbation', 'pulmonologist', 'adm', 't6-t11', 'thirty-nine', '13:54:59', '15:03:35', 'altitude', 'sickness', 'hypotension/hypovolemia', '1.2-1.3', 'rfespiratory', 'self-terminating', 'v-tach', 'hemorrhage-nonaneurysmal', 'qt/torsades', 'collosum', 'pericoallosal', 'brachial-cephalic', 'intercranial', 'slenectomy', 'quadrigeminal', 'pneumonitits', 'replacement-corevalve', 'cycectomy', 'cnse', 'pentrating', 'pas', 'monoclomal', 'mec', 'dli', 't4-7', 'lentigo', 'passenger', 'partial-complex', 'xldr', 'endoluminal', 'pulmomary', 'obesessive', 'dissection/perforation', 'sepsis/hypotension', 'degenerate', 'undisplaced', 'carcionma', 'athrodesis', 'bilaterl', '12:06', '16:58', 'tachycaridia', 'lvot', 'tilt', 'l2/3', '15:12', '16:31', 'mqwmi', 'failure-ischemic', 'hypoethermia', 'mesenteric/celiac', 'clinoid', 'ef-', 'dislocation/fracture', '73m', 'w/paraesophageal', 'lunate', 'insufficiency/microalbuminuria', 'goiter/hyperthyroidism', 'streptoccus', 'bacteremia-treating', 'hartmanns', 'abdoniminal', '02:13', '/vasovagal', 'palm', 'pnumothorax', 'embolism/deep', '21:03', '335k', 'facial/thoracic', 'spine/', 'anxiety/bipolar', 'milletus', 'stereotactic', 'metasases', 'intra-vascular', 'annuloplasy', 'restlest', 'w/lens', 'carbidopa', 'fuo', 'x4/cryo', 'maze/', 'closure/removal', '08:47', 'gelweave/avr', 'buccal', 'split-thickness', 'sckin', 'fronal', 'hemopneumothoracies', 'fractues', 'cuneiforn', 'dysplasia/barrett', 'retroorbital', 'langerhans', 'cardiobacterium', 'stents/pvd', '09:41', 'ebstein', 't11/t10', 'hyerplipidemia', 'disconditioning', 'x5/homograft', 'procedure/repl', 'non-simple', 'exclude', 'agenesis', 'verify', 'mrsa/vre/mdr', '02:12', 'anomolous', '12-595', 'righe', 'subdrual', 'tibual', '~45', 'hsv/vzv', 'molluscum', 'contagiosum', 'radiation/chemotherapy', 'sabg', 'peritonititis', 'cardio-pulmonary', 'mammogram/calcium', 'deposit', 'space-occupying', '03:17:54', '07:27:49', 'korean', 'war', 'compt', 'syn', 'pancreatic-cutaneous', 'wk', 'ganglia/internal', 'hypereosinophilia', 'temporomandibular', '-obstructing', '-nonobstructing', '-hyperuricemia', 'echogenic', 'urologist', '11:01', 'homograft/mitral', 'endocarditis-', 'axillo-femoral', 'femoral-to-distal', '08:13', 'laryngotracheomalacia', 'branistem', 'parkinon', 'demnetia', 'hypokalimia', 'hpertension', 'hpothyroidism', 'basillic', '3.5l', '14/10', '102', 'thorn', 'monospot', 'counter', 'analgesic', 'ting', 'sunday', 'travel', 'trip', '7-9th', 't7-11', 'anemai', 'hygromas', 'pazopanib', 'hypoalbumenemia', 'vasopsasm', 'reaction/drug/vancomycin/rash', 'domestic', 'vd', '04:28', 'cx/rca', 'ultrasound-guided', '19:25', 'l2-l4', 'diverticultitis', 'ureteroscopy', 'ganglia/caudate', '13:26', '5,6,8,9,10', 'nephrolithisis', 'preaturity', 'groin/femoral', 'cryptococcal', '1,000,000', 'fta-antibody', 'hbv/hcv/cmv', 'esophagogastroduodenoscopies', 'prevacid', 'midnight', 'lobby', '16:20', 'roughly', '08:06', '08:12', 'takasubo', 'withhemorrhage', 'patellaectomy', '35-6/7', '13:17', 'in-', '1.end', 'ulcrs', '14:09', 'various', 'eyedrop', 'mitis', 'fib/a', 'mini-thoracotomies/maze', 'proc./laa', 'neuron', 'foot/shoulder', '1.respiratory', '2.cardiovascular', 'faiulre', '3.gi', 'single-strength', 'q.p.m.', 'roxicet', 'elixir', '5-10', 'valgancyclovir', 'glucometer', '11:44', '19:45', 'obstruction/a', 'fib\\\\n', 'ileorectal', 'acute-', 'chronic-', 'ludwigs', 'fluuter/atrial', 'blod', 'perative', 's/psubtotal', 'cephalosporin', 'cuneiform', 'syndrone', '4.4cm', '4:30pm', 'w/pcp', '724.02', 'l4-', 't11-l1', 'vats/wedge', 'redo-sterntomy', 'dump', 'diphtheria', 'gravely', 'study-does', 'recollection', 'dyspahgia/laryngopharyngeal', 'gluten-free', 's-pouch', 'gastritis/diverticular', 'bullectomy', 'l-cervical', 'esophagogastrostomy', \"jej'omy\", 'l-thoracentesis', 'pci-', 'brachy', 'ptca-', 'wnd', 'pistol', 'whip', 'tylenol/alcohol', 'mycosis', 'fungoides', 'amyotropic', 'w/assoc', '08:59:02', '10:09:57', '6l', 'rhd/mitral', 'excoriations/', 'dermopathy', '06:35', '08:03', 'pneumonia/', 'de-gloving', 'polym', 'neurofibramatosis', '14:38:33', '15:48:58', 'mastectomy/xrt', '_________', 'esophagogastectomy', '01:33', 'paraclinoid', 'chemo/rad', 'paracardial', 'childbirth', 'renal/pancreatic', 'svg-plb', '-occlusion', 'mi/cabgx3', 'lap-chole', 'nsemi', 'chrug-', 'qday', 'ptff', 'sponge', 'sequela', 'x40', 'laceraction', 'crack/ghb/alcohol', 'chf/cad', '26-5/7', '08:36:44', '09:57:33', 'hemorrahage', 'unfarction', 'allergist', 'shorten', 'villus', 'fiberoptic', 'laryngoscopy', '10.pt', 'vegetable', 'mastocytosis-related', 'histamine', 'depression/anxiety/', 'exacerabation', 'facial/orbital/mandibular', 'breats', 'solar', 'ketose', 'halluzinations', 'hemorrrhage', 'hamatoma', 'varicella-zoster', 'ossify', '70m', 'fem-bk', 're-intubations', 'spo2', 'lvef35', '3300', 'tfx', 'nonst', 'regurgitation/patent', 'repair/patent', 'ntemi', 'a/w', 'non-infectious', 'nonthrombotic', 'baumannii', 'choledocoduodenal', 'papilla', 'hemobilia', 'hemosuccus', 'pancreaticus', 'sudural', 'subdral', 'segement', '32-5/7', 'e/i', 'referral', 'plegmon/infection', 'fibromylagia', 'sphincter', 'bronchopneumonia', 'stenosis/cervical', 'dysembryoplastic', 'angioneural', 'epithelial', 'porphyria', 'hematin', 'ampulla', 'neurasthenic', 'hepatacellular', 'thromboembolectomy', 'schizofrenia', 'debilitate', 'dialted', 'labial', 'failure/acute', 'dmtypeii', 'hypootension', 'non-epileptic', 'diag/dlad/ramus/om2/pda', 'mantel', 'colitis/diverticulitis', 'anal/colon', 'cancer-', 'vulnificus', 'fracute', '***', 'tourette', 'ca-rad', '33-1/7', 'ds', 'custody', '19:53:49', '20:42:09', 'artery/middle', '17:36', 'surge', '22:15', 'trachoesophageal', '15:15:42', '15:58:22', 'calcanectomy', 'protract', 'augmentin/bactrim', '21:22:18', '23:08:52', 'ev', 'rpv', 'postcath', 'prevesicular/intrabladder/retroperitoneal', 'betablocker', 'double-volume', 'incoordination', '10:39:02', '11:37:50', '68-70', 'mmhg', 'mid-30s', 'ache-antagonist', 'anti-coagulate', 'cage', '83-year-old', 'solu', 'medrol', 'insensitive', 'polyleukoencephelopathy', 'paraimmunoblastic', 'hypercalcemia/', 't11-t12', 'prostate/bladder', '13:30', 'kideny', 'alpha-1', 'norpace', 'ibutilide', 'et', 'infxn', '~2year', '~1years', 'non-persistent', 'pancreatitis/acute', 'non-ischemia', 'repain', 'vasopressin', '12:31', 'friedreich', 'aveolar', '01:58', '-t7-8', '-conjunctivitis', '128', 'anterobasilar', 'foot/ankle', 'goblet', 'ca/bph', 'cystgastrostomy', 'renal/pancreas', 'vehicel', 'supraclavicular', 'pinna', 'trouble', 'head/facial', '-resolved', 'hypercapneia', 'ileus/ogilvies', '-assault', '-si/sa', '-thymectomy', 'caner', 'nephrophathy', 'hyperlipids', 'tachy-bradycardia', 'anca-negative', 'protienuria', 'compatible', 'bradyarrhythmia', 'diskitis/osteomyelitis', 'reguritation', 'mitomycin', 'trabeculectomy', 'pot', 'postprandial', 'hypoprolactinemia', 'epilespy', '17:59:56', '19:00:21', 'splenium', 'nonhemorrhagic', 'prolactinoma', '00:47', 'trauma/motor', '12:59', '23:09', 'pcn', '-choledocolithiasis', '-hypoactive', '-schizophrenia', 'pneumatoceles', 'non-traumatic', '-l3-l4', 'primarily', 'rhabdomyoloysis', 'percutaneously', 'perc/lap', 't8-12', 'residula', '2.2cm', 'overload/edema', 'pseuodomonas', 'spin', 'square', 'maximal', '11:47:51', '12:46:35', '-sick', 'hesitancy', 'twist', '-vein', '-vertebral', 't5-6-7', '-varicella', 'caggx3-', 'sv-pda', 'sv-om1', 'x2-10/15/10', 'pylenephritis', 'thiazide', 'underactive', 'lrkt', '**79**', 'cabg/mech.', 'vallecula/tonsillar', 'notice', 'happen', 'mrsa/strep', 'mutliple', 'herbal', 'overdose/interaction', 'glossectomy', 'selective', 'fumigata', 'orocutaneous', 'abdomenal', '-temporal', 'iddm2', 'x9', 'hysterectomy/bso', 'chondroplasty', 'scl', 'impend', 'proximate', 'w/trace', 'thorocentesis', 'transit', 'glycogen', 'storage', 'cori-forbes', 'gsd', 'iron-deficient', 'grafing', 'parietoocciptal', 'enteroccoccal', 'vehicular', 'interosseous', 'comminsure', 'sphincteroplasty', '-paraneoplastic', '-tonic', '-svt', 'a/o', '02:11', 'hyperthermic', 'thursh', 'hypomobile', 'oculogyrate', 'cardiomegaly', '84-year-old', 'vater', 'sphincterostomy', 'rediagnosed', 'unsuccessfully', '200s', '130/80', '150s', '160s-180s', '134/64', '97.4.', 'equally', 'accommodation', 'icteric', 's2', '30.7', '38.8', '277,000.', '1.2.', '243.', '548', 'v2', 'proximally', 'migrate', 'downtrending', 'fingersticks', 'pursue', 'conservative', 'diarrhea-', 'dehydration-', 'pharygeal', 'w/+', 'bilarteral', 'colitis/toxic', '2:30', '13:56', 'lymphoma-s/p', '-tube', '20:10', 'bolivia', 'subarachnoid/intraparenchymal/subdural', 'alteration', 'pneumonia-vap', 'sepsis-r/t', 'vanco/zosyn', 're-intubation', 'cipro-', 'mrm', '~02', 'territoty', 'ketacidosis', 'reinitiation', 'upper/lower', 'multi-vessel', 'rightward', 'varicces', 'midlcx', 'bb', 'antiacoag', 'x1mo', 'prominent', 'prevascular', 'overwhleming', 'gastrection', 's/b', 'edema/compression', 'melanous', '08:54', '08:41', 'arthiritis', 'intra-abdominal/pelvic', 'post-surgical', 'politrauma', 'cystocoele', '**medically', 'treatment**', 'ureterocoele', 'labetolol', '.we', '600mg', 'cessation', 'thing', '11:00am', 'date.time', '3:20pm', 'bronchiolitis-interstitial', 'angiogenic', '02:16', '-hemoperitoneum', '-spontaneous', '-hepatocellulare', 'larygneal', 'bacterial/', 'interloop', 'palmar', 'fascia', 'bleeding\\\\niddm', 'spontanous', 'toxic-metablic', 'cr=2', 'presumtive', 'apb', 't3n1m1', 'stenosis/compression', 'hemorrhage/calsification', 'rhabdomyelysis', 'pseudomembranous', 'supplemental', 'apnea/obesity', 'poloysubstance', 'pentasa', 'thombi', 'thalamocapsular', 'failure/pulmonary', 'resisitant', 'chemotherapeutic', 'df', '08-019', 'i/a/ii', 'multicenter', 'label', 'hcd122', 'r-cvp', 'zevalin', 'mitoxantrone', 'xenopi', 'levofloxacin/azithromycin', 'alone', 'regrowth', '22:06:59', '00:58:13', 'head-on', 'board', 'q.four', 'estradiol', 'orthopaedic', 'mobile', 'nonweight', 'orthopaedics', '17:38', 'polythycemia', 'tip/vre', 'hypothyroin', '/st', 'aaccident', 'curretage', 'attempt/hanging', '6-9th', 'sclerosis/nmo', 'leukoencephalitis', 'dementia/encephalopathy', 'hyothyroidism', 'stress/tachycardia', 'process/meningitis', 'g2pt3pn1pmx', 'hand-assisted', '-very', '-mult', 'ring-enhancing', 'r-lobectomy', 'enterocutanous', 'wounf', 'ifn', 'virologic', '23:40:02', '01:31:06', 'left-middle', 'alcohol/tobacco', 're-rupture', 'ileostomoy', 'incude', 'angiio', 'ptca-rca', 'cryoablation', 'bifasicular', 'depression/ptsd', 'stivan', 'hemorrhage/coagulopathy', 'ami/angioplasty', 'cerebellar/pontine', 'anterosuper', 'fx/dislocation', 'ear/face', 'popliteus', 'mcl', 'cancer-skin', 'apart', '0-12', 'meningitis/sepsis', '22:38:38', '08:51:49', 'adenopathy-benign', 'gastrointersitnal', 'graft/mitral', '3+mr', 'disseminiated', 'ua', 'tachycardia/bradycardia', 'marcescens', 'infection/yeast', 'in-situ', 'lysising', 'stentin', '09:53', 'desquamate', 'prostheric', 'laterally', 'hazy', 'spiculated', 'margin', 'hemi-cabrol', 'hemi-rhemi', 'concurrent', 'avr/resect', 'ex/lap', 'congetive', '18:05', 'nephrotoxicity', '4v', 'attempt/depression', 'rhabodomyolysis', 'perinephrenic', 'hematoma/', 'interaction', 'mutifactorial', '-gait', '10u', 'hypercoag', '+hit', 'nerologic', 'defficits', 'motrcycle', 'periodontal', 'hemodyalsis', 'prostaic', '15:13:45', '15:40:18', 'maoi', 'aspiration/healthcare', 'insufficiency/ras', 'hypotension/acidosis', 'bronch/', 'biopsy/', 'cryotherapy', 'hunt', 'ectopy-related', 'svt-cardiology', 'sialoadenitis', 'afibrillation', 'acquired-pneumonia', '6.4', 'biopsy-proven', '2-2.5.', 'fliuds', 'augmentin', 'insufffiency', '-hardware-associated', '-mssa', 'unviable', 'lambde', 'gammaopathy', 'marginal-1', 'marginal-2', 'iodinate', 'l5-4', 'minially', '**82**', 'jooint', 'intraarterial', 'rudimentary', 'yellow', 'lumpectomy/xrt/chemotherapy', 'dulefloy', 'dolens', 'l1-4', 'sepsos', 'hiatel', 'stability', 'mineral/vitamin', 'rdw', 'thrombocytopoenia', '-enteroccocus', '-polycystic', '-polycythemia', 'edema/anasarca', 'arthralgias/myalgias', '______________', 'well-differentiated', 'aids-related', 'failure/cardiogenic', '31-mm', 'e-', 'cup', 'esophogeal/gastric', 'cholestatis', '-endometrial/cervical', '-chylous', '-colectomy', '-nephrostomy', '75k', 'mdr-psuedomonal', 'amikacin', 'osteomyelitis/discitis', 'porterior', 'non-perforated', 'oopherectomy/salpingectomy', 'scan/mri', 'dupuyterens', 'discectomy/laminectomy', 'masticator', 'abscess/cellulitis', 'calvarium', '-hard', '-blind', '-pan-hypopituitarism', 'seritonin', 'epileptic', '29-6/7', 'peri-distress', '700s-900s', 'asplenic-', 'gastritis-', 'hodgkins-', 'xrt-related', 'ab-', 'cva-', 'coumadin-', 'igm+', 'rosea', 'knee/hip', '19:22', 'photofrin', 't7-t8', 'menengitis', 'varacella', '18:03:31', '18:41:32', 'iliaus', '65-', '101.8', 'tachycardiac', '127/79', 'diaphoretic', 'anicteric', '10.8', '2.6.', 'kub', 'abrupt', 'carbezepine', 'beta-blockade', 'diovan', 'perspective', 'sometime', 'flatus', 'diurese', 'utmost', 'meropenum', 'nitrofurantoin', 'mid-point', '11.8', '661.', 'imitropium', 'valsartan', 'oxcarbazepine', '09:44:37', '11:48:15', '-antral', 'peripherally', 'depression/schizophrenia', 'infarction/troponin', 'failure/strain', '19mm', 'ulcers/gi', 'distress-difficult', 'infection-cultures', 'hypertension-treated', '1b', 'sinusits', 'ventrical', 'mucosa-associated', 'alpha-thallasemia', 'spend', 'ca-tx', 'w/seed', 'finger/hand', 'postopertaive', 'athlete', '15yrs', '17:20:41', '18:14:25', 'intra-atrial', 'cry', 'nasally', 'copious', 'decompress', 'silo', '2225', '97', '172', '63/43', '48.', 'crackle', \"o'clock\", 'neutral', 'ensure', 'reassure', 'ph', '7.28', 'paco2', 'pao2', 'father', 'cuboid', 'as/mr/tr', 'avr/mvr/tvr', 'plateu', 'pneumonia-cx+', '3.4cm', 'carditis', '3rd-degree', 'fibrillation-now', '-catheter', '09:22', 'remotely', 'advancement/flaps', 'abscond', 'withdrawal/alcohol', 'ulna/radius', 'melltius', 'diverticulitis/', 'diagnosised', '-endometrial', 'hypoxia/hypoventilation', 'cholescystectomy', 'ascending/arch', 'depression/agitation', 'x-lap', 'mid-jejunal', 'spillage', 'steroid-related', '22:38', 'amorosis', 'fugex', 'intrhepatic/subdiaphragmatic', '23:09:43', '23:59:41', '1/7th', '28-1/7', 'bradycardiac', '2.060', '10.1', 'o.d', 'o.s', '30.3', 'poly-vi-', 'ferrensol', 'restorative', '26cemitral', '34ce/mc-3', 'pulmhtn', 'lyphoma', 'hemothoraces', 'radiostyloid', 'fractue', 'plaquing', 'ingunal', 'dupytrens', 'x3/avr', 'rij/cephalic', 't3-t6', '18:28:34', '19:53:13', 'pain/arthritis', '**01**', 'symptommatic', 'salpingoopherectomy', 'lordosis', 'duondenal', 'cutdown', 'hydrocoele', 'diskectomy', 'sq', '14:07', '12:31:21', '13:06:56', 'pericallosal', 'delirium/metabolic', 'corticography', 'epileptogenic', 'perm-a-cath', '-myasthenic', 'cholecystitis/', 'dissection/ligation', 'hemostatic', 'submersion/anoxic', 'left/right', 'dasatinib', 'af/aflutter', 'imv', 'reaccumulated', 'second-degree', 'paf/flutter', 'oorchiectomy', 'levemir', 'novolog', 'hypercalcemia/hyperparathyroidism', 'emotional', 'embolus/pulmonary', 'post-stent', 'mesial', 'hypercholestol', 'vericose', 'cardiorrespiratory', 'estended', 'intertroch', 'ibuprofen', 'dysfunction/weakness', 'amendable', 'hypereflexia', '04:22', '8u', 'cancer/aspiration', 'nellitus', 'thrombophilia', 'fliud', '14:26', 'fuo/sepsis', 'dofetelide', '-hemochromatosis', 'infliximab-induced', 'laminoforaminectomy', 'temp', 'pateint', '08:30', 'cad/hl', 'auto-immune', 'nephrolitiasis', 'petic', 'iddm-1', 'vse', 'femoral-dorsalis', 'bleeding/blood', '8-day', 'subconjunctival', 'respitatory', 'gonorrhea', 'sacculation', 'lumen', 'polyp-biopsied', 'c/', '01:20:47', '02:31:16', 'encephalopathy/confusion', 't6-7', 't8-9', '08:22:40', '08:55:23', '6yr', 'as/ar', 'sdh/iph/ivh', 'lcmv', 'nonarteric', 'rhinosinusitis', 'disease/spinal', 'microinvasive', '4th-5th', 'rulobectomy', 'cyto', 'struk', 'pericarditis/myocarditis', 'sct', 'latex', 'retire', 'garage', 'midproximal', 'replant', 'obliquity', 'characteristic', 'outline', 'disese', 'integrillin', 'd1/om', 'osvg', 'om/pda/ramus', 'hyypertension', 'pain/head', 'ache', '-influenza', '-psychosis', 'bronchoesophageal', 'fistua', 'constiptation', 'bleed/colitis', 'gado', 'etoh/hcv', 'gastrointestinel', '12-209', 'beri', '10:12:46', '11:27:48', '_________________', 'pneumococcus', 'takeback/2nd', 'reenforce', 'meningicoccal', 'cdifficile', 'bleed/gastric', 'rec', 'arteriosclerosis', '14:25:54', '15:23:11', 'dddddddddddddddddprimary', '10:59:10', '11:27:18', 'uteroscopy', '10-day', '3.260', '3.130', '20.9', '0.4.', '3.190', '53.8', 'contribute', 'cephalhematoma', '16.1', 'readmission', '3.255', 'cephalohematoma', '21.2/0.5', '14.9.', '13.6/0.4', '48.4', 'positive/coombs', 'normochromic/normocytic', 'spherocyte', 'poikilcytes', 'insignificance', 'concur', 'rechecked', 'crigler-najjar', 'blank', '3.295', 'overtime', 'reevaluate', '09:15:30', '10:30:29', '.s.13-244', 'mysathenia', 'w/subtotal', '009.1', '584.9', '584.5', 'repair-', 'unbilical', 'bath', 'girdle', '18:32:52', '19:13:51', 'methycillin', 'staphaureus', 'ingestation', 'segmentectomy-pathology', 'pulmunary', 'extra-adrenal', 'hemothorax/small', 'plafond', 'fracture/pilon', 'b.', 'tibiotalar', 'thrombopoitin', 'bactiuria', 'alpha-fetoprotein', 'pancyctopenia', '00:40', 'cvd', '50.595', '18:47', 'metastastatic', '/cop', '14:34:28', '15:47:35', '1010', 'diverticultits', '-acetaminophen', '-nephrogenic', 'insipidis', 'mvp/severe', 'mr/flail', 'maliganant', 'w/complications', 'artery/bypass', 'pneumpthorax', 'stenosis/dilated', 'duplication', 'faiure', 'cellulitis/osteomyelitis', 'sfa-peroneal', 'splice', 'temp-parietal', 'osteomyelitis/septic', 'pubovaginal', 'valvuplasty', '-non-st-segment', '140.', '6.3cm', 'sepsis/mssa', 'osteomylelitis', 'edema/congestive', 'diastolic/systolic', 'pr', 'osteoarthritis/degenerative', 'bifurcate', 'aortobilliac', 'loss/bilateral', 'hockey', 'rink', '1.45', 'arteritis/polymyalgia', 'steroids-', '5mg', 'mobilization', 'pericadial', 'amitriptyline', 'collapse/pna', 'ppx', '**anti-jka', 'jka-antigen', 'products**', 'valve/aortic', 'pci/rca', 'paraspinus', 'schwaanomma', 'ihss', '19:32', 'osteomyelitis/diskitis', 'lyphocytic', '**14**', 'cytoxan/vincristine/prednisone', 'hypogammaglobulin', 'somantadine', 'glycerine', 'pravastatin', 'police', 'door', 'increasingly', 'somnolent', '**99**', 'tsdh', 'tsah', 'osteolytic', '**path', '3.67', 'semielective', '-b12', 'afib/pacemaker/as', 'fusobacterrium', 'nucleatum', 'retractor', 'intravenricular', 'avr/mvrepair', '**16**', '1.5-', 'distinguish', 'post-procedure', 'bleeding/hemothorax', 'gastrstomy', 'transforamen', 'hydroureter', 'eshap', 'pimary', 'pain/neuropathy', '19wks', 'inevitable', '00:03:36', '01:56:55', 'angiectasia', 'cabgx3/mvr', 'cabgx6', 'cad-cabg', 'precipitous', '01:57:14', '08:11:34', \"parkinson's/movement\", 'sigmoid/colon', 'regurgiataion', 'redo-coronary', 'pci-rca', 'rebleed', 'reexploration', 'pumlmonary', 'seizures/mental', 'sepsis/septicemia', 'urinayr', 'infetion', '8.5', '-detox', '-no', '***no', 'arm***', 'atrical', 'hyperliidemia', '-status-post', '-supraventricular', 'ischio-rami', 'ny', 'sm', 'ttp/hus', '-non-sclerosing', 'effusion/pleural', 'entercoccous', '-sacral', 'aureus/pseudomonal', 'gangliar', 'weeker', 'hemophilus', 'decubitus/ischemic', 'extremiy', 'pseudamonas', 'nephropathy/esrd', '10.s/p', 'fracuture', '11.pe', '12.hospitalization', 'empricially', '13.h/o', 'w/cipro', '14.chronic', '15.hypercholesterolemia', '16.unsteady', '17.cataracts', '18.back', '19.hypertension', '20.anemia', 'infection/instability', 'hyponetremia', 'dyslipidemias/p', 'post-obstruction', 'nystagmus', 'rectocolectomy', 'metstatic', '23:43', '05:32', 'bili=14', 'tomarrow', '02:07', 'sfa-', 'occluion', '01:50:37', '04:34:26', 'sucide', 'intersphincteric', 'arrast', 'benzodiazepenes', 'thoracocentesis', 'ago-no', 'lymphadema', 'thorocoabdominal', 'reespiratory', 'exacerbation/asthma', 'taaa', 'rifampin-soaked', 'aortojej', '-sleep', '11:38:46', '12:17:43', 'self-corrected', 'bu', 'mregurgitation', 'vetricular', 'infections/osteomyelitis', 's./p', 'obstrctive/central', 'icd/ppm', 'unrevealing', 'hydrocephalas', 'teact', 'pneumotosis', 'leaflet/ruptured', 'mvp/mitral', 'morbidly', 'non-healling', '-charcot', '-mixed', 'flora', 'ich/stroke', 'fibriallation', 'hacek', 'waldenstrom', 'baker', 'something', 'roll', 'obstrucitve', 'jejunocutaneous', 'deficiency/anemia', 'porta-cath', 'spondylotic', 'bph/urinary', 'demylenating', 'invovlement', 'resection,26mm', '14:07:17', '19:47:31', '51', '30ft', 's1-3', 'tspine', '5/26', 'encephalocele', '______', 'manual', 'copd/ards', 'trocar', 'inferobasal', 'inferobasalar', 'cytarabine', '1.bilateral', '2.complex', '3.cervical', 'sinus/maxillary', 'sinus/foramen', 'rotundum', '5.right', 'orbitlal', '6.bilateral', 'pulmaonry', 'cuffless', 'hcv/cirrhosis', 'pager', '18:18', '19:30', 'abdominal/retroperitoneal', 'sra', 'herniorrhaphies', 're-implantation', '11:17:22', '12:33:11', '-anterior', 'feburay', 'ground-glass', '/urinary', '11:50', 'posterior/lateral', 'canthotomy', 'c4/c5', 'injury/arf', 'disease/multiple', 'muscoskeletal', 'plexitis', 'hydrocortisone', 'steady', '06:46', 'resetion', 'choose', '06:44', '19:07', '-non-small', 'bacteremia/endocarditis', 'metastases/failure/coagulopathy/h/o', 'pan-colitis', 'peri-hepatic', 'abscess/fluid', 'vasospastic', 'phsycosis', 'v-tac', '-microperforation', 'rhabdo', '08:55', 'hammertoe', 'sacral/r', 'heel/r', '-obstructve', 'uti-e.', '/repl', 'alternans', '20:18', '21:20', 'intracellulare', 'panick', 'pain-due', 'diarrhea/ibs', 'lami/foramiotomies', '58-year-old', 'crampy', 'unexplained', 'prolapse-sevmr', 'mvr/asd', 'thombocytopenia', '12.adf', '02:20', 't6-10', 'keto', 'fractuer', 'posterior-capsule', 'confuse', 'intrparenchymal', '1.2.3', 'furuncle', 'cancer-metastatic', 'ptci/stents', '4v-cabg', 'palsey', '30pkyrs', 'failure-compensated', 'tee-progressive', 'annulus', 'w/cabg', 'diverticulitis/ileitis', 'orbitofrontal', 'polyneuropathy/myopathy', 'lumpectomy/chemo/rt', 'sublottic', 'venticular', 'nephrosis', 'letf', '-pea', '-stridor', 'titer', 'ma', 'interferon/ribavirin', 'hypertrophy.subcarinal', 'mass.s/p', 'gridlestone', 'osteoarthrosis', 'pimple', 'periperheral', 'anti-k', 'choledochojejunostomy', '1.pneumonia', '2.copd', 'varicees', 'splenctomy', 'scistosomiasis', '06:19', 's//p', '49-year-old', 'sicu', 'postextubation', 'dull', 'meningitic', 'photophobia', '101.6', '104/56', 't3n0', 'mesh/flex', 'urethal', 'sternotomy/aortic', 'hypertrophy-retention', 'cerulea', 'tentatively', '-strep', 'salsalate', '29-year-old', 'agonal', 'atls', 'bore', 'cod', 'transabdominal', 'cross-clamped', '09:26:05', '09:42:44', 'debridemnt', 'at/dp', '61', 'interact', '-hemorrhagic', '-neutropenic', 'sick-sinus', 'rhinorrhea', 'luschka', 'pci-stent', 'nick', 'divertriculum', 'aplasia', '14:46:06', '15:58:55', '/cardiac', 'features/paranoia', 'urosepsis-', 'dvt/lv', 'ogilvies', 'violence', 'gonococcus', 'chlamydia', '1534.', 'registration', 'inconsistent', 'heterotaxy', 'dextrocardia', 'azygous', 'ipsilateral', 'subvalvar', 'conal', 'variability', 'vigorous', 'beats/minute', 'negative/noncontributory', '-ulcerative', 'plates/screws', 'transparental', 'prophylactic', 'lae', 'localization', 'omega-shaped', 'epiglottis', 'maltophilia', '16:34', '05/', 'projectile', '50-year-old', 'tl', 'regain', 'mri/mra', 'reconsulted', 'nipride', 'arduous', 'bout', 'vocalize', '95-100', '44,000.', 'iliacs', 'dopplerable', 'stim', 'everything', 'drug-related', '22,000', '04:19', '18:16', 'pack-year', 'tub', '12:30:25', '14:13:42', 'volar', 'mutiple', 'pneumonia-right', 'ort', 'ri-lobar', 'cefpodoxime/proxetil', '1,600', 'losartan', 'enteric', 'clorpactin', 're-evaluated', '05:16', '22:43:00', '23:57:21', 'rectal/scrotal', '-white', 'a/factor', 'motor-cycle', 'intractible', 'operculum', 'ileofem', '03:54:10', '04:45:27', 'trapezoid', 'capitate', '817.0', 'metaphyseal', 'moderate/severe', '/maze/hypothyroidism', 'crystalline', 'divalproex', 'gauze', 'esophageal/stomach/duodenal', 'cobstructive', 'hepatobiliary', 'cabgx3/l', 'pci-om', 'pmm', 'explantation', 'failure/shock', 'interiginous', '22:12:19', '03:17:47', 'tumor/panhypopituitarism', 'collections/abscesses', 'cardiopulmomary', '101.4', 'certain', 'machinery', 'softner', 'gentle', '-please', 'creatine', 'peri-prosthetic', 'edema/', 'ca/colectomy', 'pet-positive', '1.hemoperitoneum', '2.abdominal', '3.dementia', '5.iddm', '6.htn', '7.hyperlipidemia', '8.gerd', '9.bph', '11.systolic', '12.mrsa', '13.inadequate', 'hyperlidipemia', 'verbal', 'interactive', 'cerebrovasculare', '-arf', 'ethyl', 'lescol', 'doxazosin', 'tramsmetatarsal', 'prostatctomy', 'expried', 'plication', 'arrest-', 'fam', 'facelift', 'decubitusulcer', 'cabg/quadruple', 'dyplastic', '23:07:00', '00:32:05', 'malabsorptive', 'type2', 'multi-rib', 'swallow/', 'full-thickness', 'lupectomy/chemotherapy/radiation', 'chroinic', 'coronarary', 'svg_d1+lad', 'svg-om1+om3', 'svg-am', 'pci/', 'svg-d1+', 'paraesophgeal', 'hernia-incarcerated', 'laperscopic', 'symmertical', 'paraiatal', 'mhronic', 'pericavenerous', 'c3/c4', 'ramii', 'ight', 'multitrauma', 'coomb', 'multi-drug-resistant', 'aberrancy', 't2/flair', 'hyperintensities', 'cellulitis/', 'tft', 'xr', '-intubation', '-complicated', '15mm', 'erector', 'spinae', 'interstitital', 'contusionsl', 'sub-massive', '19:04', 'hepatojejunostomy', 'assymptomatic', '01:14', 'insfuciency', 'arthritis-pain', '06:00', '07:26', 'interventions/stents', 'gastritis/duodenitis', 'mutiorgan', 'cellulitis/necrosis', 'plasmacytoma', 'debridement/plating/bilateral', 'leukocytic', '00:11', 'esrd/ckd', 'hemantoma', '17:56:31', '19:47:51', '22:37:48', '07:05:34', 'strictureoplasty', 'ellulitis', 'carnitine', 'laryngospasm', 'troponinemia', 'rcc-', 'avnrt/avrt', 'pantoea', 'gastroenteritis/diarrhea', 'hellp', 'ampuation', 'tachpnea', 'hypotension-likely', 'bleeding/pericardial', 'perforation/prior', 'peritonitis/sepsis', 'myoglobinuria', '17:02', 't2,3,11', 'c5-t4', 't6-t12-no', 'psoas/iliacus', 'pacing/defibrillator', 'angioplasties/stents', 'chemo/rads/bmt', '-prior', '3.0-3.2', '**08**', 'faliure', '4.3kg', 'cardiomyopathy/systolic', 'arhtritis', 'knees/r', 'c-3', 'percing', 'eft', 'orhtopedic', 'fdg', 'avid', 'viable', 'pneumothorax-resolving', 'fracture-stable/splinted', '6/7/8/9.-stable', 'w/frequency-under', 'leukocytosis-resolving', 'gib/gastric', '16:19:34', '16:50:57', 'valve/coronary', 'hpl', 'vehiclew', 'neuritis/retinitis', 'necrolysis', '17:52', 'iridectomy', '-vitamin', 'incontinece', '-partial', '4cm', 'frontalparietal', 'block/rbbb/lafsb', 'dz-by', 'sepsis-fever', 'failure-ventilatory', 'paracenteses', 'angiodysplasias', '-colon', '-lipids', '-hbv', '1.5-1.8', 'cholecyst', 'dengue', 'echogenicity', 'infection/patellar', 'prolapse-', 'nodule-', 'peudoaneurysm', '00:40:19', '01:46:43', 'hilum', '8:30', 'comatose', '98.2', '164/110', '74.', 'bronchiolotis', 'diangoses', 'thyroidadenoma', '-vre', 'cvc', 'fibrillation/complete', 'lafb', 'pseudomonoas', 'post-sphincterotomy', 'dysorder', 'klatskin/cholangioca', 'ex-lap/drainage', '22:47', 'dm-hyperglycemia', '1.785', '24-year-old', 'semt', 'seatbelt', '51.9.', '9.9', 'ilex', 'aortive', '815', '-due', 'litter', '12-340', 'anterosuperior', '20:04:00', '03:09:37', '-intracerebral', 'atresis/myotonia', 'gt', 'dysrythhmia', 'co-morbidities', 'ckd/copd', 'shoulder/l', 'hypelipidemia', 'tob', 'olgilvie', 'uti-vre', 'w/linesolid', 'angioject', '14:48', 'peri-nephric', 'bulky', 'arrhythmia/atrial', '-30', '2,4,6', 'braydcardia', 'charcot-', '-tooth', 're-entrant', 'capture', 'respritory', 'pacer/aicd', '2.5-2.8', '-cataract', 'cell-teratoma', 'kettering', 'resection/chemo', '8:27', 'c2-3', 'meth', 'abacavir', 'aand', 'chlolecystitis', '20:46', 'eastern', 'equine', 'failure/sternal', 'pneumonia/mucus', '6-7', 'carcinosarcoma', 'ala/nose', 'withdarawal', '36-3/7', '20:08:13', '20:38:54', 'vfib/vt', 'electronic', 'cf', '08:04', 'heimlich', 'ressucitation', 'manoeuver', 'fibriomyalgia', 'sma/smv', '15:16', '08:18', '20:42', 'septum/occasional', 'epitstaxis', 'dsease', 'intracarotid', 'collagen', 'corotid', 'iinfarction', 'freactures', 'inferior/lateral', 'oh', 'labyrinthitis', 'sclerotherapy', 'bacteral', 'l2-3/debridement/fusion', 'levoscoliosis', 'intracereebral', 'anti-red', 'hardware/arthritis', 'arthroplasy', 'ischiorectal', 'prologation', 'stensois', 'hypotnesion', 'cadveric', 'prefrontal/temporal', '12.ahz', 'pre-procedurally', 'sandal', 'weightbear', 'failure/end', 'fibrillation-flutter', '-cath', 'va', 'pcwp', '-djd', '-ptsd', 'catarac', 'sternotmy/av', 'resuspension/replacement', 'hemiarch.reimplantation', 'svgx2', 'uri/lri', 'mvrepair/', 'cholangitis/choledocolithiasis', 'transv', 'inferior/superiro', 'hsv-2', 't10,11', 'tibeocalcaneal', 'cancer/nephrectomy', 'pyh', 'ej', 'eps', 'avrnt', 'mild-to-mod', 'polyarthritis', 'vslve', 'thalmic', 'homocytinouria', '2/', 'w/abd', 're-operation', 'garfts', 'ileo-loop', 'passive', 'timpanic', 'acidemia', '8.light', '9.renal', 'hemorrhage/', 'retinopathy-', '**15**', '01:23', 'bacteremia/septic', 'infarct/stroke', '-nosocomial', 'obtructive', 'cough-related', 'djd/avn', 'extention', 'insifficiency', 'skeletal', '***hit', 'positive***', 'l3/l5', 'endplate/compression', 's-t', 'malassezia', 'furfur', 'bacterial/fungal', 'cousin', 'synthetic', 'night-time', 'capsulotomy', 'popliteal-posterior', 'choledochoduodonostomy', 'simdoid', '10.anemia', 'fever/leukocytosis', '02:08:14', '07:32:54', 'spheno-palatine', '32-week', 'aspestos', '4.8', 'urolithiasis', 'fx/', '11:04:42', '11:46:55', '18:52:10', '19:41:33', 'insufficiency-admission', 'amnemia', 'retroperoneal', 'tamponade/pericardial', 'anca', '19:57', \"parkinson's-like\", 'sinemet', 'adn', 'subependymoma', 'w/8mm', '4-compartment', 'flexible-sigmoidoscopy', 'laporatomy', 'tibal', 'heterozyogsity', 'incontenance', 'amyl', 'nitrate', 'lymphangetic', 'carinomatosis', 'parasagittal', 'cardiopulonary', 'histiocystosis', 'retroperitoneal/extraperitoneal', 'atrery', 'pe/', 'anemic', 'bleed/bleeding', '02:40', '08:53', 'expander', 'microperforation', '09:46', 'burkholderia', 'cepacia', '-wiedemann', 'pg', '01:08:48', '02:30:24', '780.39.', 'infectin', 'verebral', 'low-normal', 'craniopharyngioma', 'urinary/bowel', 'multicentric', 'skilled', 'assess', 'assure', 'hemorrhage-resolving', 'arf-now', 'tachycardia/pacs', '-functional', 'itraparenchymal', 'nondepressed', 'lap/right', 'lafora', 'urosepticemia', 'reattached', 'throbocytopenic', 'sternotomy/replacement', 'ao/total', 'arch/graft', 'innominate/graft', 'lcca/avr', '19mmce', 'w/dissection', 'abdm', 'drainage/pericardial', 'tah/sbo', 'angina/acute', 'thymecectomy', '42f', 'tpx', 'plasmophoresis', 'prev', 'asymmetry', 'esterase', 'axillo', 'straw-colored', '07:30:18', '08:20:25', 'carcimona', 'advaced', 'traceostomy', 'suprastromal', '13:50', '3.5l/m', '14/8', 'pco2', 'void-', 'seoondary', 'nonfunctional', 'fibrotic', '2.1.', '2days', 'synocpe', '04:06', 'angiomyelolipoma', '80-year-old', 'midabdominal', 'rent', 'defunctionalized', 'reoperaton', 'myoglobin', 'replacement/pfo', '6months', 'w/paraspinal', 'paf/a-flutter', 'atelectasis/aspiration', 'adenocarincoma', 'requirin', 'tf', '00:25:09', '02:32:59', 'dyssynergy', 'infection/clostridium', '32-mm', 'arrest/coronary', 't2no', 'fundic', 'geriatric', 'otomastoiditis', 'lima-lad/svg-', 'om/pda', 'mellitus-type', 'pcis/bms', 'rca/des', '/des', 'lcx-most', 'hct:27-30', 'fx/c-section/tonsillectomy', '10:18', 'ssepsis', '-aortobifem', 'multi-substance', 'vascularize', 'interpericardial', '-dvts', 'detect', '-cecal', 'efstathi', '14-aaa', 'apple', '73-year-old', 'verge', 'enteroccal', '-bile', 'obstruction/obstructive', '2-6th', 'ishchemia', 'implantaion', 'hypogylcemia', 'nonneoplastic', 'sciolosis', 'young', 'ureterotomy', 'thromobembolism', 'thromboelectomy', 'flutter/rapid', 'extubations', 'resction', 'reumatic', 'nocturia/bph', 'transannular', 'arthritis/', '1.blood', '2.respiratory', '3.ventricular', 'tachycardia-', '5.htn', '6.copd', 'claviclular', '1-10th', 'w/19mm', 'masectomy', 'intratrochanteric', 'ileocecal', 'trailer', 'bleed-diverticuli', 'iliofemoral', 'stellate', 'malnurishment', 'vertebrate', 'ai/mr/asd', 'cyclosporine', '40mmhg', '1.0sq-cm', 'nephrolithotomy', 'inf-lat', 'hk', 'recieved', 'byg', 'glacoma', 'occipito-parietal', '/iliac', 'amplatz', 'mechanical-', 'outlet/prostate', 'l3-8', 'r3-11', 'hair-line', 'hemipalegia', 'spongy', 'pvd/ischemic', '08:30:33', '09:15:19', '84f', 'n/w', 'spont', 'oteoporosis', 'cholecytectomy', '2-3l/min', '1.4-2.4', 'hayfever', 'bil.plantar', 'strabismus', 'ileum-ileum', 'anastamoses', 'nh', '**primary', '**secondary', 'uti/sepsis', 'providencia', '3.2-3.7', '-post-op', '-eustachian', '-head', 'deck', 'esotropia/double', 'dementia/agitation', 'corroborate', 't-th-sat', 'aquire', 'evalation', 'cisten', 'sah/iph', 'dyslidemia', 'hyperbilirubinemia-unknown', 'phlebitis/cellulitis', 'tacyhycardia', 'cholecystasis', 'thrombocytosis-', 'd/cs', 'ileo-fem', 'ililac/femoral', 'patchangioplasty', 'cirrhosis/chronic', 'artery/saphenous', 'diagnal/obtuse', 'prediabetic', 'pvd/right', 'diverticulitis/sigmoid', 'non-smoker', 'oedema', 'nephropathy/dm', 'intervetional', 'septecima', 'cad-mi', '**81**', 'excisional', 'macrogammaglobulinemia', 'thyroglossal', 'inc', 'bascilic', 'hernia/parastomal', 'encephaolopathy', 'osteoporotic', 'dual-chamber', '12:01:38', '08:09:21', 'rvad', 'ftsg', 'deculbitus', 'klebiella', '22:05', 'falon', 'disease/carotid', 'endomertrial', 'contrlateral', 'capsular/lacunar', 'dementie', 'copd-', '08:43', '2.570', '33.5', '6.3', '2.530', '09:56:09', '10:09:11', '~15-20', '-viral', 'coaguluase', 'hydrodistention', 'vacsular', 'do-not-resuscitate', 'do-not-intubate', 'colelithiasis', 'gastroporesis', 'djd/inflammatory', 'meei', 'anti-hypertensive', '1.8-2.1', 'lgbmc', 'hyperuricosuria', 'flex-distraction', 'shin/knee', 'carotid-', 'cav', 'embol', 'c2/3', '/ppm', 'beta-', 'nasal-septumm', 'x5/closure', 'breathing-', 'c-collar', 'edmea', 'anti-jk', 'atp', 'c7-', '-3', '1.07', '02-239', 'nsslc', 'true', 'radioablation', 'amitryptilline', '18:19', '02:34', 'rxea', '27-', '21+', 'pc', '-a-fib', 'femoral-below', 'w/nrsvg', 'mi/pci', 'patellectomy', 'dsyfunction', 'inhalational', 'seconeary', 'infartion', 'tuberculosis.pneumonia', 'paraoxymal', 'pneumectomy', 'l45', 'pseudomonas/morganella', 'tracheomalacia/edema', 'tracheo-broncho', 'photodynamic', 'tranaminitis', 'pustular', 'psoriasism', 'agalacticae', 'hemoccult', 'trp', '0.11', 'dka/arf', 'thrombu', '04:11', 'hypoxia/tachycardia', 'sternitis', 'tendenitis', 'dupuytren', '05:51:42', '06:11:19', 'mangle', 'epiglotitis', 'desmoplastic', 'lef', '35-2/7', 'thermoregulation', 'hyperbilrubinemia', '03:44:16', '06:25:35', '11-300', 'embolishm', '03:35', 'sub-galeal', 'splenium/corpus', 'ilium', 'robatussin', 'spanish', 'bow', 'leucopenia', '07', '~2-3', 'cric/trach', 'pseudonomas', '-cervical', '00:01:31', '09:47:30', '2.5-3.5', 'hemopnuemothorax', 'axillofemoral', '13:54:44', '15:27:32', '10:30:57', '11:08:41', '09:50:20', '10:49:52', 'ligate', '22:33:15', '06:27:01', 'extemded-spectrum', 'c1-c2', '0.600', '16:10', '/papillotomy/stent', 'mesotheilioma', '10:17', '17:25', 'osteomyletis', 'abcesss-', 'clival', 'inhibition', 'favor', 'mvi', 'secondayr', 'cva/seizures', '1.0-1.1', 'penetreting', 'brachicephalic', '250.80', '410.70', '428.31', 'b1', 'trendy', 'vertebroplasty', 'disectomy', 'forearm/clavicle', 'discectomies', 'amygdala', 'left-lower-lobe', 'defidiency', 'coompressing', 'trachaelbronchomalacia', 'gerds', '+ab', '15:18', '-gliomatosis', 'a/b/c', 'benign-appearing', 'notbleeding', 'hypercompression', 'q.4h.p.r.n', '26.3', '297', '143', '122.', '98.1', '110/64', '79.9', '84.4', 'steri', '02-229', '12:11', '4yrs', 'cholesteatoma', 'pouch-anal', '-sma/smv', '01:58:07', '08:02:21', 'm.d.12-', '21:29', '~15ft', 'malleollus', '04:44:09', '07:03:25', 'regurgitaiton', 'bordetella', 'bronchisepticans', '10:46:39', '11:18:21', 'story', 'hematamesis', 'tricsupid', 'umb', 'vehicl', 'fissurectomy/skull', 'u/e', 'organsim', 'non-conducted', 'enterally', '16:29:52', '18:04:10', '-rhinovirus', 'endostenting', 'discovery', 'diag-ramus-rca', 'subarchanoid', 'reschedule', '14:33:41', '16:08:57', '23:44', '00:26', 'leukencephalopathy', 'fibrialltion', 'post-cardioversion', 'depression/anixety', 'responsiveness', '2:45', 'slump', 'verbalize', '4:40', 'activity/hypoxia', 'debridement/advancement', 'flap/talon', 'mamary', 'artery-left', 'graft-obtuse', 'graft-distal', 'aartery-posterior', 'percipitated', 'disc/back', 'adductor', 'pcix2', 'pickwickian', '09:55', '17:07', '15:42', 'etoh/hcc', 'paraneoplastic', 'siadh/hyponatremia', 'tubefeeds', 'cfa-pt', '03', 'quetiapine', 'average', 'subclav', 'bypass/redo', 'bypass/ao', 'senile', 'hematuria/', 'abdomen/pelvis', 're-transplanted', 'cricoid', 'plans/discharge', 'x3/', 'microphallus', 'multicystic', 'laryngotracheal', '05:23', '04:17', '06:14', '08:23', '0.49', '/tr', 'asthma/restrictive', '77-year-old', 'vastus', 'lateralus', 'enterrococcal', 'amp/gent', 'bowl', 'n.', 'drool', 'limp', 'blur', 'thrombocytosis/thrombocytopenia', 'cobalt', 'freq', 'vag', 'hand/feet', 'thyroidectomy/parathyroidectomy', 'surgery/lymph', '23:05', '10:15:32', '11:31:14', 'thrombocytopenia/hit', 'atheromatous', 'dehyrdation', 'epithelioid', '23:53:40', '07:06:35', '-icd/dual', 'hyperchlesterolemia', 'ppm/icd', 'failure/ischemic', 'cholelithiasis/gallstones', 'ingestion/ideation', 'vaccination', 'bermuda', '12:50:09', '15:12:36', 'enucleate', 'cholecystitis/choledocolithiasis', 'churgg', 'mid-distal', '10-12th', 'ogran', 't5-t7', 'defect/patent', 'colitis-proctitis', 'post-operativeve', 'diagnsos', 'gastroesogapheal', 'wasting/siadh', 'malignany', 'pseudoobstruction', 'pneumonia-resolved', 'sarcoid-pulmonary-old', 'bicuspidization', 'postacath', 'incertions', 'mallor-', 'aexch282840', 'l.cheek', 'pilonial', 'lesion-final', 'lesion-', 'shx', 'bx-malignant', 'hyperthyroidism-h/o', 'gastrointestianl', 'atherolithesis', 'pneumonia/empyema', '-peg', 'compilcated', 'cholangeocarcinoma', '-splenectomy', 'kick', '13:53', 'coop', 'kidney/', 'arm-', 'brachocephalic', 'gastritis/esophagitis', 'associated/aspiration', 'miliary', '50.580', '18:20:59', '20:08:59', 'mucormycosis', 'salpingectomy', '07:26:06', '08:04:08', '-l.wrist', 'nonprogressive', 'sp/', 'directive', 'hcp', 'friend', 'irbesartan', '120-pack-year', 'adulthood', 'augmentation', 'pexy', 'hartmans', 'reveision', 'revsion', 'tnk', 'sternotomy/mvr/pvr/tv', 'closure/vsd', 'trach/', 'axquired', '02:10:37', '07:20:11', '5.hypoxia', '6.hypotension', '7.urinary', '8.anemia', '9.basilic', 'nonsinus', '01:42', '120pk/yrs', 'fract', 'failure-on', 'disbetes', 'cerbellar', 'hemodyalysis', 'presyncope/nsvt', 's/p/', 'kneee', 'disease/bell', 'nonreverse', 'abdominis', 'myocutaneous', 'sanitation', 'worker', 'nonpalpable', 'dorsiflex', '06:28', 'rtk', 'hyperkalmeia', 'nodosum', 'ophthalmicus', 'copd-diagnosed', 'asa/plavix-had', 'tarry', '81mg', 'mva-', 'traction', 'bleeeding', 'mellitius', '17:46:29', '13:02:37', 'intraatrial', 'bibasal', 'panuveitis', 'recanalized', 'secondaty', 'embolism/', 'tah/bso/loa', 'superior/posterior', 'pseudoacetabulum', 'coherent', 'neuro-icu', 't-', 'warn', '11:30am', 'build', 'demographic', '****************', 'hearing-', 'aid-', '7north', 'immunoglobulin', 'adenomatoid', '02:21:56', '06:44:53', 'cardeopulmonary', 'pain/facet', 'proctosigmoiditis', 'crown', 'brick', '50.', 'sequard', 't9-10', 'urunary', 'diathesis', 'victim', 'spondylothisthesis', 'mvr/cabg/maze/', '03:46', 'home/rehabilitation', 'pathway', 'modification', 'joint-', '986', '4+mr', '+tr', '0.69', '0.46', '92', 'cadmium', 'mononucleosis', 'hus/ttp', 'mpgn', 'cryosurgery', 'pneumonia*', 'parital', '*microperforation', '*necrotic', '*failure', 'bloat', 'heme/id', '*sepsis', '*oral', '*shingles', 'cholagniocarcinoma', 'insulin-dependant', 'use/withdrawal', 'bbilateral', 'hand-foot', 'hemothorax/hemoperitoneum', 'ards/prolonged', 'scapholunate', '19:04:47', '20:34:05', 'stents/angioplasties', 'intradural/epidural', '-valvular', '-dmii', 'ercps', 'marginal/right', 'valave', 'i-ii', 'distance', '13:32:59', '14:41:25', 'carotic', 'femoral/superficial', 'vascul', '28-year-old', 'intercourse', 'partner', 'menstruate', 'std', 'ob/gyn', 'g1', 'p0', 'sexually', 'transmit', 'condom', 'dysphonia', 'uni-compartmental', 'malasia', 'emphesema-mild', 'piloonidal', 'diabetes-recently', 'demenia', 'neurotrophic', 'periumbilical', 'esopageal', 'hyperglycemia/diabetic', '17:00', '-pneumococcal', 'meningocoel', 'dehiscance', '19:17:21', '20:33:03', 'postictal', 'care/cardiologist', '06:55', 'gloablastoma', 'pancreatitits', '-parkinsons', '-charcot-', '-osteogenesis', '-scoliosis', '-muscular', '03:33', 'drug/toxin', 'hyperglycermia', 'hypoventilatory', 'piriform', 'requirunf', 'trransfusion', '12-766', 'ao-resuspension', 'valve/exploratory', 'pareital', 'arthritis/sle', 'contraindication', 'x2-', '**50**', 'coroary', 'hematoma/skull', 'vasucalr', 'hyperlipiedmia', 'reqiuiring', 'delerim', 'serequel', 'glaucoma-', 'above-mentioned', '559', 'lode', '83.', 'antiretroviral', 'extensively', 'incidence', 'transmission', 'combivir', 'viramune', 'compliant', 'program', 'q.h.s.', 'deficinency', 'encephalyomyelitis', 'w/bx', 'decay', 'accellerated', '2weeks', 'tissue/coronary', 'arteries/ascending', 'wirh', '19:09', 'periardial', 'sternotomy/bentall', 'pancrease', 'declaration', 'supratheuraputic', '0.2x0.1', '00:23:18', '05:04:51', 'purpura-hemolytic', 'fascioscapulohumeral', 'sigmoidocele', 'syncopal/seizure', 'subacute/chronic', 'post-streptococcal', 'tonsillec5tomy', 'biv/icd', '1.770', 'bedrest', 'onward', 're-admitted', '43.5', 'breastfeed', 'enficare', '150-160', '2.020', '8.0/0.4', 'deceide', '13:46:32', '15:01:05', 'gerd/heartburn', 'radionecrosis', 'q.day', 'q.72', '0.05', 'contin', 'estraderm', 'q.three', 'q.six', 'emphasize', '*anticipated', 'days*', 'hyperexia', 'hemo', 'ileo-anal', 'intrarenal', 'fibrosing', 'abnorm', 't-cell/nk', 'coagulopathy/disseminated', '17:06:13', '17:52:36', '05:27', '17:20', 'osteohemangioma', 'leukcocytosis', 'cabgx3/mv', 'tamponade/effusion', 'subclav-', 'duing', 'cadiac', 'performation', 'coagase', 'tamsulosin', 'collaginase', 'sc', 'heartrate', 'famotidine', 'proximal-to-mid', 'wellbutrin', '1:20', 'fibrosarcoma', 'dislipidemia', '-c4/c6', 'c4-t1', 'pcdf', 'intercondylar', '291.0', '789.04', 'abdominal-llq', '099.3', 'postdate', 'etoh/cocaine', 'plegia', 'pulvinar', '23:51:05', '01:35:23', 'ill-defined', '04:21', '1/4', 'staphycoccus', 'intraop', 'overload/respiratory', '21ce', '16:28:18', '17:54:58', 'medication-related', 'mid-transverse', 'retenssion', '-pelvic/acetabular', '-basal', '-scc', '-insomnia', 'escheria', 'anti-insulin', 'wed', 'pitchfork', '17:30:05', '17:58:57', 'gastrojej', '/roux', '1630', '18:22', '-central', 'hemineglect', '-oral', '-uncomplicated', 'resistenat', 'enteroccocci', 'marcenscens', '-suspected', 'l4/l5/s1', 'dehydration/hypovolemia/tachycardia', 'freckle', '29-4/7', '17:47:16', '18:48:21', '30.0', 'infaction-', 'apecal', 'betablockers-need', '-aaa', '6cm', '-rbbb', '-embolic', 'reaction/rash', 'shampoo', 'gardenella', 'vaginalis', 'cellulitis/ulcer', 'comfort-focused', 'family/hcp', 'valley', '=========', 'dislocation/dehisscence', 'w/small', 'deep-venous', '\\\\npneumonia', 'calcium-channel', 'x3/placement', 'ca/s/p', '12:12', '20:18:56', '22:05:14', '-subdural', '82-year-old', '1,000.', 'nondilated', 'learn', 'encounter', 'electrocautery', 'surgicel', 'halt', 'deteriorate', 'maximize', 'situation', '12:32', '50-454', '15:01', 'a/ascending', 'retroperitopneal', 'restrictive/interstitial', 'patulous', 'esophagus/achalasia', 'fibroadenoma', 'sepsis-no', 'pathogen', 'side-effect', 'saphenus', 'contrast/contrast-induced', 'faceleft', '2nd-4th', 'kearns-', 'urosepis', 'feft', 'pre-admission', 'hyperacute', 'immunosupression', 'asd/mv', 'failure-s/p', 'mid-esophageal', 'self-induced', 'polydypsia', 'pneumonia/hypoxia', '10:55:48', '11:35:47', 'incordination', '2.225', '4/23', '2.515', 'e20', 'readmit', 'unassociated', 'desating', 'greenish', '71.', '3.115', 'considerable', 'mature', 'occasionally', 'burp', 'private', 'athermoa', '11:58', 'basal/squamous', 'nightstick', '787.20', '707.20', '599.0', '2-3cm', 'hilus', '26-year-old', '3.380', '30.4', '45.3.', '04:07:22', '13:32:21', '14:43:30', 'c5/c7', 'mimimally', 'kidney/pancreas', '02:36:42', '05:11:33', 'c4/c5/c6', 'ca/cystectomy', 'c2-5', 't8-10', 'intraspin', 'c1-c4', 'lvef=15-20', 'sj', 'grens', 'fibromyalgia/nocturnal', 'cramping/restless', 'quervain', 'spider', 'adie', 'pseudocholinesterase', 'terminus', 'cariomyopathy', 'sub-acute', '22:02', '50-563', 'undocumented', 'crd', '/maze/ao', '45..', 'undertemined', '08:16:06', '10:25:11', 'sclerosus', 'disagnosis', 'hirschprung', '00:45:07', '03:18:25', 'cebellar', 'abdominopelvic', 'infuenza', 'jetski', 'vwd', '04:24', 'stone/calculi', 'p.s', 'polyhydramnios', 'frothy', '2750', 'nonflat', 'integumen', 'streak', 'opacification', 'butterfly', 'vacterl', 'ml/kilogram', 'pmd', '10:08:33', '12:08:20', 'cholecystoduodenal', 'p-anca', 'thrive/adjustment', 'ttbe', 'caretaker', '0.26', 'urosepsis/pyelonephritis', 'gib-', 'epidermitis', 'hypotesive', 'hiv/solid', '8600', 'hyperreflexive', 'constricted/effusive', 'communicatin', 'anerusym', 'ago-resultant', 'unequal', 'points..', 'w/encephalopathy', '0.18', 'prostectomy', 't5-t8', 'seocndary', 'oxcarb', '12-ahz', '04:52', '21:06', 'ef=25-30', 'hypotension/adrenal', 'mud', 'skin/liver', 'hyperglycemia/new', 'hemmorrhages', 'azotemia/renal', 'cholangiopancreaticograms', 'benefit', 'page', 'rxns', 'insetion', 'ist', 'malfunction-corrected', 'postopersative', 'vassoopressor', 'reintubation-treated', 'vesssel', 'lymphangioleiomyomatosis', 'pyeloneprhitis', '21:47', 'j-pouch', '10-11', '12:01', 'fibrillation/av', 'cryptosporidiosis', 'psorasis', 'hollow', 'roux-y', '094.9', 'v08', '360.12', 'r.4th', 'trilobar', 'embolisms/history', '-cerbrovascular', '27-1/7', 'di-di', '17:02:05', '18:17:20', 'ois', 'freqent', '19:00:47', '20:20:26', 'cc/kilo/day', '-postoperative', '03:37', '03:51', 'budd-chiari', 'exacerbation/hypercapneic', 'sensory-motor', 'interscalene', 'subacromial', 'nerogenic', 'vesicoureteral', '18:43:01', '19:50:46', 'darkness', 'dim', 'specialist', 'consensus', 'opinion', 'hyperglycemia/', 'subaarchnoid', '+1', 'photocoagulation', 'diskectomies', 'c3-6', 'removal.last', 'mortise', 'buetholderis', '-tx', 'talon', 'bleedin', '-cholangitis', 'insuff.', 'paste', '17:31', '17:43', 'unsurvival', 'excision-leg', '09:38:53', '12:05:48', '14:02', 'degeneration/diabetic', 'nebh', 'epitaxis', 'flair', 'hypertenstion', 'aphagia', 'hypoxia/hypercarbia', 'menisectomy', 'colcichine/probenecid', 'antacids/omeprazole', 'osa-not', '23:09:18', '10:02:33', '13:54', '-home', 'endarterctomy', 'contusion/hemorrhage', '1.2-1.9cm2', 'scrotal/inguinal', 'diagnoses/active', 'ishcemic', 'milrinone', 'svg-lcx', 'lm-lcx', '1-1.1', 'chronicus', '35/15', 'rhc', \"60's-80\", 'cabg/mvr-', 'failure-diastolic', 'obsity', 'bladder/incontinence', 'emlargement/aortic', 'replaceement', 'graft-posterior', 'hyperlipide', '/opthamologist', 'thrombebectomy', '486', '331.82', 'pick', '585.3', '30-59', '276.0', '293.0', 'mix3', 'gastroeshopageal', 'perforation/leak', 'hellp/ttp/hus/dic', 'leiomyotosis', 'thymomaobese', 'replacmeent', 'fernia', 'temporarily', '18-year-old', 'ride', 'evacuate', 'helicopter', 'bicytopenia', 'spodylolisthesis', 'angioathy', 'dehydation', 'pnumonia', 'ferquent', 'rhabdomyalosis', '2.4-2.8', '-as', 'mosaicism', 'mentral', 'invert', 'crichoid/hypoid', 'tah/rso', 'ventalator', '2nd-8th', '3rd-8th', 'vi-daylin', 'school', '23:57:30', '00:55:16', 'cholangiograms', 'tipf', '29.', '..orthopedically', '32.', '33.', '34.', 'piccs', '35.', 'surgery/lens', 'fingertip', 'weather', 'bacteruria', 'c2,5,6,7', 'l4,5', 'ant/post', '4,5', 'nasopharynx-foreign', 'game', 'keeper', 'nonperative', 'intolerence', 'ciguatera', 'veinous', 'duodenotomy', '07:41', 'avr/repl', 'agitation/delerium', 'fractre', 'cathetered', 'scizophrenia', 'respriatory', 'aartery', 'necesitating', \"cabg's1998\", 'gastroesophgeal', '1ppd', 'watershead', 'w/hemosinus', '-c2', 'contusion/traumatic', '3-9th', 'coracoid', 'acromion', 'apap', 'paraesophageal/subcarinal', 'conspitation', 'pericarditis/tamponade', 'astham/chronic', 'hemoptysis-resolved', '13:21', 'hyperipidemia', 'gastro-jejunal', '04:28:43', '08:06:31', 'as/mr', 'avr/mvr/', 'boop/amiodarone', 'resecton', 'bypassx4', 'om1/ramus/pda', 'antrectomy', 'roux-en', 'pneumo/hemothorax', '-gerd/esophagitis', '-port', '8ft', '20:04:58', '21:02:07', 'ileus-', 'o/d', 'bpad', 'mulifocial', 'sh', '40yrs', 'construction', '/om3/acute', '-retinopathy', '-nephropathy', 'esrd-hemodialysis', 'monday/wednesday/friday', '**21**', 'olgivie', 'deprivation', 'tracheal-esophageal-conduit-fistula', 'remember', 'exactly', 'anticogulant', 'av-block', '3-veseel', 'wernari', 'dilitations', 'attempt-', 'hemorage', 'revision/t-tube/muscle-flap', 'subarachniod', '13:27', 'b-ii', 'jejunectomy', '12-15', 'dprimary', 'vertibrae', 'alto-occipital', 'frac', '12-424', '60-80', 'obesity.', '^lipid', '2-2.5', 'pancreas/liver', 'hemodialysis-catheter', 'nest', '11-933', 'gad', '04:59:04', '08:12:26', 'laceeration', 'marcesens', 'closed-head', '02-352', 'shock/tamponade', 'contusuions', 'pyloromyotomy', '1541', '2.6-3.0', 'infraabdominal', '19:43', '20:49', 'hamate', '00:28:31', '06:57:40', 'seafood', 'mydriasis', 'opthalmic', 'delerium/sundowning', 'magnum', 'seizures/', 'urinanalysis', 'vascilitis', 'symptoms-', 'w/pain', 'prostatectomy-urinary', 'hernia-current', 'videoscopic', '7-8', 'ventilation-associated', 'pinky', 'flutter/', '15:27:24', '16:09:39', 'dysgerminoma', 'cervical-2', 'myelodyplastic', 'therapy/injection', '19:18:12', '20:37:37', 'fullterm', 'regugitation', 'associated/hospital', 'etology', 'desqumation', 'bactrium', 'stg.', 'hyponatremia-fluid', 'restrict', 'insuffiency-', 'studies-synthroid', '21:18', '02:15', 'incissional', 'gastrointenstinal', 'panc/splenectomy', 'ipmn', '02:24', 'starvation', 'mediastinal/right', '05:14', '05:50', 'intercerebral', 'pneuomina-respiratory', 'achondroplasia', 't.p', 'venlafaxine', 'sucralfate', 'obstuction', 'atlectasis', 'ypercholesterolemia', 'disease/atypical', 'colision-', 'tbm-', 'fempop', 'mds/mps', '2x2cm', 'adhesions/obstruction', 'moh', '4.7cm', 'meningitis/endocarditis', 'non-flow', 'erb', 'ventilator-dependent', 'conn', '/toe', 'hematoma-stable', 'thrive-tpn/tf', 'abscessus', 'odontiod', 'dementia/delerium', 'oligodendroma', 'asian', 'galactorrhea', 'cease', 'gadolinium-enhanced', 'homogeneous', 'turcica', 'ectopies', '21:38:51', '23:08:19', 'latino', 'institute', 'pain/', 'bleed/', '_3', 'catarct', 'aaa-', 'sptic', 'antibiodies', '00:39', '00:59', 'percuatenous', 'symm', 'dysynchrony', 'pasp', 'trivial/physiologic', 'heparinized', 'surghx', 'ileus/pseudopbstruction', 'robitussin', 'dextromethorphan', '10.conjunctivitis', '11.airway', '12.status', '13.bilateral', '03:05:17', '08:57:52', 'post-rhogam', '10:18:34', '19:08:16', 'plexopathy', '/intraparenchymal', '00:54:21', '01:57:07', 'lim-lad', 'rima-om', 'fribrillation', 'cva/left', '1.1-1.7', 'kartagener', '12:01:21', '12:50:36', 'set-up', 'mllitus', '18:11:15', '05:36:43', 'afib/flutter-s/p', '2yo', 'hematuria-', 'clots-', '12:41:17', '13:12:06', 'dilirium', 'hypertonic', 'gardner', 'y-shaped', 'osteomyelitis/diskitis-', 't7/t8', 'withdrawal/delerium', 'lactobacillis', '04:29', '07:23', 'large-cell', 'ondansetron', 'stent-grafting', 'bybass', 'ulcer/upper', 'acetaminophen/nsaid', 'osteoarthritis/ddh', '6:30pm', 'dpm', '1:30', 'pain/diarrhea', 'cxs', 'infarcion', 'ilectomy', 'exedrin', 'diagnois', 'svg-lpda', 'ercp-lap', 'hypertrophy-urinary', 'fractures-s/p', 'ercp-laproscopic', 'alprazolam', 'incintinence', 'hiv-transplant', 'collapse/fracture', 'seropositivity', 'quantaferon', 'sphinctorotomy', 'maxillary/frontal/zyg/ethmoid', 'reactivate', 'hypercalcemia-', '07:41:58', '08:14:11', 'high-output', 'hypoglycemia/hypothermia', '215cc', 'aova', 'ex-34', 'hbsag', 'phrenic', 'cabg/maze/mvr', '11:22', 'hyperlipidemia/hypertryglyceridemia', 'occaisional', 'seve', '0.7cm2', 'hearing-bilat', '-fatty', 'surgery-rods', '1.chronic', '2.peripheral', '3.pulmonary', '5.renal', '6.ulcerative', '7.hypertension', '8.seizure', '9.peripheral', '10.hypertension', 'achiles', '1536', 'q.12h', '13-268', '14:36', 'laryngoscopies', 'easily', 'bone/sphenoid', 'neutropenia/leukopenia', 'hystectomy', 'prurigo', 'nodularis', 'avr/mvrepair/', 'aflutter/fib', 'unsafe', 'ambisome', 'q.24', 'q.4', 'chorditis', 'q.6', 'kepra', 'subcue', 'pneumoboots', 'placement/removal', 'meningocele', 'diagnoisis', 'secure', 'bones/spine', 'peritracheal', 'cri-s/p', '15:13', 'basal/mid', 'ureteropelvic', 'trachitis', 'meatbolic', 'lumbar-spine', 'esophageal/gastric', 'velacular', 'akinetic', 'neurmuscular', 'manubrial', 'split-depression', 'bimalleolus', 'equivalent', 'till', 'thalamic/basal', 'cardiovascularly', '140-160', '43/1.1', '12:49', '12:51', 'bleed/varicele', 'dibates', 'xrt/tah/bso', '02-205', 'alveoloar', 'syndomre', 'h/0', '-b/l', 'effussions', '25-3/7', '07:20:31', '08:15:06', '20:16:11', '22:15:30', 'sdhs', 't8/t9', '4.urinary', '5820', 'recoil', 'sepsis-ruled', 'nco2', '4,770', 'hypochloremia', 'au', '-now', 'paraxysmal', 'nursing-home', 'visua', 'anema', '03:25:10', '07:16:23', 'sking', 'aorto-bifemoral', 'basilar/', 'toxicosis', 'amiodorone', '50,000', 'deactivate', 'fvc=2.86', 'fev1=2.28', 'mmf=2.09', 'fev1/fvc=80', 'pyroderma', 'thrombosus', 'gastroesophagealrefluxdisorder', 'optometrist', 'pulmnologist', '00:36', '01:21', '10.3', 'trisegmentectomy', 'vancomyocin', 'myloma', 'cancer/gallbladder', 'cancer/bacteremia', 'tech', 'thx', 'mix2', 'reop', 'boehaave', 'rupture/repair', 'valve/mitral', 'disease/hemodialysis', 'x16', 'placements-', '2.premature', '4.s/p', '5.s/p', '09:06:04', '09:26:41', 'parieto-temporal', 'goiter/hashimoto', 'oglivie', 'disease-ar/mr', '2.230', 'diamniotic/dichorionic', '49.', '10.3.', '2.285', 'hypercholesteromia', 'menisceal', 'method', 'hyperpertrophy', '/gi', 'epiliepsy', '102.1', 'septcemia', '-unresponsive', '-substance', 'cranitomy', '-cerbellar', 'fibromuscular', 'alteplase', '12:35', '-non-st-elevation', '-hypertensive', '-depression/ptsd', 'peri-pancreatic', '23:11', '00:17', '57-year-old', 'reanastomosed', 'adapt', 'vitals', 'largely', 'chem7', '122', 'hypoxia-induced', '06:17', '23:53', 'ablate', '-avnrt', 'alered', 'psoas-enteric', 'lessen', 'redo/avr', 'spiral', 'ischmic', 'hemocult', 'cardiomyopthy', 'perforaction', 'barrets', 'mi/cardiogenic', 'xanthogranulomatous', 'arryhthymia', '08:29', 'pyroplasty', 'hemiplegia/hemiparesis', 'takutsubo', 'j.', '15:51:45', '18:09:39', 'supranuclear', 'hyertension', 'fanconi', 'duboisii', 'estray', 'elephanitiasis', '8th-9th', 'disorder/shizophrenia', '-age', 'pacemaker/', 'asthma-not', 'ileoscopy', 'tatooing', 'twin-twin', '37-5/7', '23-year-old', 'confinement', 'xx', 'karyotype', 'monochorionic', 'nonstress', 'infuse', '97.8', '2155', '40.5', '25th', 'flammeus', 'umbilicus', 'epicanthal', 'cloudy', 'cornea', 'constrict', '9.8/0.3', '10.0/0.3', '.7.', 'id/neuro', 'characterization', 'torch', 'pcr', 'vdrl', 'neonatology', 'parental', 'serological', '192,000', 'baers', 'montyhs', 'oif', 'arranged.', 'chemi/xrt', 'methcillin', 'frequency/discomfort', 'simvastatin', 'renagel', 'cinacalcet', 'lidoderm', '13:32:01', '15:08:02', 'fibrillation-resolved', 'myocradial', 'osa-cpap', 'pro', 'hyotension', 'hypomagnesium', 'distress/failure', 'tkt', 'coagulate', 'diverticulitis/status', '102.2', '121/69', 'rigidity', '8.2', '40.4', 'aim', 'low-grate', 'prep', 'pacu', 'physiotherapy', 'nonrebreather', '06:47', 'compenstated', 'posterior/inferior', '11:26', '20:15', '61m', 'hepatojej', 'months-', '80-90', 'tobaccoabuse', 'public', 'temoporal', 'oral/jaw', 'uclers', '06:36', '06:40', 'arotic', 'nonconductive', 'uretel', 't5/6', 'hhnk', 'infarction/sepsis', 'inferior/right', 'aspirartion', 'nephrolithisis-', 'ureteritis', 'mastopexy/panniculectomy/thigh', 'glucosamine', 'chondroitin', 'juice', 'bronchitis/hemoptysis', 'herpatic', 'collodion', 'baby/ichthyosis', '07:30:16', '09:50:13', 'baroreflex', 'sinus/tachy', '10.scoliosis', 'iud', 'pseudomona', 'hydrocephalus/', '08:31', 'vascualar', 'maxzide', 'nexium', 'depresions', 'nos-', 're-anastamosis', 'insuficciency', 'stenosis-status', 'hysteretomy', '18:40', 'methemaglobinemia', '18:19:09', '21:31:40', 'flutter-', 'neuropathym', 'endocarditis-mssa', 'aspiration/bacterial', 'steohepatitis', 'umbilical/ventral', 'r.latissimus', 'dorsi', 'difficillie', '59-year-old', 'v4', '-aids', '-hcv', 'suv', 'ant/inf', 'comminuted/depressed', 'occcipital', '10.t2', '12:53:11', '15:01:22', 'encephalopahty', 'urinaty', 'expectrum', 'eschlerichia', 'failire', 'dysfuntion', 'pyuria', 'lesion/tumor', 'pleuredex', '20pack', 'sga', 'dandy', '8:30.', '12:45pm', 'genetics', '8:45', '-cns', 'secundary', 'abulia', 'spruce', 'colovescicular', 'benzodiazepam', 'cabgx4/mvr', 're-explore', 'icm', 'strail', 'mini-mazes', 'malt', 'sympomatic', 'mrsa/enterobacter', 'duel', 'trans-labyrinthine', '05:56', 'cranium', 'dura', 'amitryptiline', 'derpression', 'multivascular', '3/aortic', '06:46:45', '07:38:04', 'press', 'homograph', 'ion/follow-up', 'assistant', 'reflux-induced', '1.0-1.2cm2', '4800', 're-review', 'cephalosporin-related', 'kliebsiella', 'thymectomy', 'likey', '-pancytopenia', '-transaminitis', 'choledochal/hepatic', '50-363', '01:27', 'disorder-none', '-intraparenchymal', 'colonoscopoy', 'immunosuprresion', '09:37', 'suidice', 'tcf', 'docetaxel', 'cetuximab', '02:26', 'paroxysmalatrial', 'minithoractomies/mini', 'mazes/resection', 'dependend', '12th', 'laporascopic', 'appecdectomy', 'solute', '-ruptured', '-paraplegia', '-s.', 'marascens', 'w/frequent', 'w/cultures', '07:18', 'disease/angina', 'qmwf', 'l-sah/iph/sdh', 'l-temporoparietal', 'hemoptx', 'urinoma', 'ppm/generator', 'pocket/bacteremia', 'chr.af', 'retention-self', '4x/day', 'rh.heart', 'pulm.embolus', '-chr', 'r-plv', 'oblique-coronal', 'laminal', 'distrubtion', 'hydrocephulus', 'x3/mvr', 'creat=1.1', 'creat=1.8', 'papillitus', 'repair-7', 'sample', 'arteriosclerotic', '14:19', 'gerd/dysphagia', 'vitamen', 'ablation/icd', 're-vt', 'vur', 'newly-diagnosed', 'barrel', 't10-t12', 't9-t10', 'coronery', 'sensia', 'sedr01', 'rotablation', 'neuropraxia', 'svg-om1-om2-y', 'triplegia', 'small-moderate', '154', 'hypopharyngeal/supraglottic', 'hypotension/bradycardia', 'post-nasal', 'coag-', 'jugular/subclavian/brachiocephalic', 'psychotropic', '00:00:21', '17:14:00', '***please', 'diagnosis***', '***diffuculty', 'guidance', '****', 'hypocapnia', 'to-be-defined', 'hypogonadotropic', 'pelvis/hemoperitoneum', 'hrt', 'calvical', '20:00:23', '21:00:59', 'tracheobronchomalacia\\\\', 'fem-popiteal', 'arterial/venous', 'wich', 'settle', 'intracranial/intraventricular', 'toprol-xl', 'mdi', '9:40', 'intraparenchymally', 'postinflammatory', 'hyperpigmentation', '3420', '1/6', 'strong', 'prostaglandin', '0.025', 'ophthalmia', 'neonatorum', 'prenatally', '4-mm', 'blood/hemorrhage', 'alports', 'syncope-', '07:13:43', '08:05:31', 'choledochoduodenal', 'boat', 'mr/cad', 'ca/bladder', 'cirrhosis-', 'egd/pancreatic', 'ganglia/intraparenchymal', 'dysartrhia', 'haemorrhagic', 'protein-calorie', 'brow', 'perineural', 'uc/psc', 'depression/paranoia', 'af/flutter', '**97**', 'slnbx', 'neprhopathy', 'cramps/', 'rls', 'reexplored', 'diverticulosis/itis', '589', 'stiffness', 'sigmoid-rectal', 'psuedomonal', 'parotidectomy', 'incarceration', '3.urinary', '-anorexia', 'encephalopahy', 'detrusor', 'disease/osteoarthritis', 'depression/post-traumatic', 'zigomatic', '12-927', 'endocarditis/', '2.5x8mm', '2.5x12mm', 'w/2', 'abis', 'hypertension/lvh', 'tuberculum', '08:53:08', '10:11:52', '19:05:15', '19:55:20', 'failute', '08:26', 'protein-losing', 'er/pr', 'her2/new', 'arimidex', 'sacrifice', 'supraomohyoid', 'sural', 'dextran', 'ancef', 'blow-dried', 'iliac/femoral/popliteal', '15:56', 'end-state', 'aerogenes', 'bacteremia-enterobacter', 'nongap', 'distress/sob', 'compensation', '1u', '12:30:16', '14:03:00', 'bph/', 'cholecystitis/choledocholiathiasis', 'myastenia', '1nd', 'bimal', 'hemodilysis', 'vertebral-basilar', 'strke', 'sugeries', '2.5cm', 'qt-prolongation', 'neuroloptic', '3.5-mm', 'migrainosus', '12:15:05', '14:09:46', 'eosinophia', 'tyep', 'fascitomies', 'fibrillation/sss', 'biliar', 'para-ampullary', 'gastritis/gerd', 'tracheostenosis', 'acure', '12:28', 'renal-liver', 'abruptio', 'ce-magna', 'ercp/stent', 'adderall', 'lyrica', 'metatasis', 'micro-aspirations', '-right-sided', '-expressive', '-cochlear', 'agastrointestinal', 'abscess/psoas', 'sepsis/fungemia', 'espohageal', 'pyrimethamine', 'avr/debridement', 'abscess/', 'tibial-peroneal', 'dehiscennce', '07:48', 'ovairan', 'aortoenteric', 'tumor-adneoncarcinoma', 'gern', 'pneu', 'hypercholesterinemia', 'pemphigus', 'foliaceus', '0.7', 'perciarditis', 'sup/inferior', 'etoh/cocaine-related', '21:29:31', '00:33:46', 'sepsis/sirs', 'inlet', 'normacytic', 'mulitiforme', 'infarct/ischemia', 'hepatitis/psc', 'facial/scalp', 'osteochondral', 'ercp-induced', 'ventriculitis/meningitis', 'hemigastroplasty', '09:40', 'malnourishment', 'anaplasmosis', 'cytopenia', 'post-laparotomy', '18:38', 'disease/apnea', 'murmur-nonspecific', '19:03', '12:27:23', '13:41:22', '1.premature', 'gesation', '3.apnea', '4.immature', 'medical/cam', '.vna', 'ei', '02:36:04', '05:40:06', 'potomania', 'bypss', 'nausea/emesis', 'peri-infarction', 'postrenal', '21:36', 'anxiety/depression/panic', 'cysto', 'regurgitation/atrial', 'enbloc', 'redilatation', 'indefinitely', 'carvedilol', 'dilantin-', 'om-diag', 'om-pda', 'allergen', 'marasmus', 'astham', '2.angina', 'extremeties', 'vent/trach/peg', 'fibronogen', 'haptoglobin', 'eosionophilia', '18:01', 'f-5u', 'camptodactyly', 'lengthen', 'apparatus', '35.0', 'pplication', 'bene', 'radiosurgery', 'melitis', '1.8-2.5', 'tonic/clonic', 'contre-coup', 'tripod', 'caogulopathy', 'aortoesophageal', 'spleno-portal', 'ao-bifem', '**36**', 'pelivc', '03:31:07', '09:15:08', 'reqirement', 'fxrs', 'as/ascending', 'hyponatermia', 'post-prandial', 'cidp', 'vad/open', 'cateract', 'bleed/pud', 'stenosis/asd', 'cholelithiasis/cystic', '3.0-3.5', 'kappa', 'diet-controll', 'loa/partial', 't4-10', 'teonsils', '20:43', '20:58', 'chroni', 'hh', 'prostatid', 'fracture/fractured', 'foot/fractured', 'shoulder/fractured', 'chordoma', 'tibia/fibia', 'degloving-closed', 'extemity', 'diabetes-', 'neuritis', 'thoracotomy/rib', 'diag/om/pda', 'apnea-does', '3/7ths', '20:42:29', '15:27:28', 'secondaey', 'enterogastrostomy', 'debcuitous', 'pan-', 'rate/rhythm', 'cateracts', 'trachealbronchomalacia-', 'trachealplasty', 'degerative', 'chlolycystectomy', 'rightlung', 'chainsaw', 'map', 'dysmenorrhea', '/sumac/', 'tick', 'placement/percutaneous', 'ppd+', '2.475', '36-', '34.5', 'tachypneic', '09:42:37', '09:57:31', 'trisuspid', '04:12', 'gastroparesis/neuropathy', 'y-graft', 'restricive', '324', '07:42', '15:09:42', '16:55:42', 'procedural', 'cncer', 'schizotypical', 'disease/non', 'fibrosis/copd', '13:23:50', '14:15:52', 'spinocerebellar', 'nonsmall-cell', 'c6-t3', 'convexity/mid', 'sphenoid/clivus', 'exanthemous', '______________________________', 'strenosis', '+diabetes', 'pacing/icd', 'a1c=6.4', 'peri', 'pylori-treated', 'prevpak', '/appendectomy', 'cerebrobvascular', '-poorly', 'electrocution', '1.5cm', 'hemorraghe', 'rbbb/lafb', '12/07-8/', 'hip/knee', 'placeement', 'extracranial', 'abstraction', 'calculation', 'forgetfulness', '-thyrotoxicosis', 'insufficiency/regurgitation', 'hemmoroids', 'orl/dysphagia', 'acquired/ventilator', 'retinopathy/neuropathy/nephropathy', '1.1-1.2', '13:42:23', '17:17:33', 'hermerroidal', 'cardiomyopathy/chf', 'hypotlycemia', 'tk', 'replcament', 'necrose', 'oral-esophageal', 'hiv-aids', 'non-compliant', 'ruled-out', '22:48:41', '23:43:46', 'hypoalbuminemic', 'angioneurotic', '33-4/7', '10:13:08', '11:08:43', 'hypomanic', 'hospial', '12:38:05', '13:29:14', 'recurrnece', '====================', 'bladder/kid', 'lma', 'x3/asd', '25-mm', 'w/l', 'quadrantanopia', 'w/migraines', 'gastic-ventricular', 'kommerell', 'non-reentrant', 'mammary-left', 'graft-diagonal', 'artery/left', 'sedative', 'radiolographic', '33cm', 'q6mos', 'perivesicle', 'adipose', 'synoptic', 'subcapuslar', '02:26:56', '05:04:17', 'apsiration', 'streptococcs', 'distress/acidosis', '11:54', 'gastirc', 'chronicatrial', 'divericulitis/diverticulosis', 'diverticulatis', 'succssfully', 'thrombolysed', 'hiatus', '-biliary', '-allergies/asthma', 'vacation', 'oppositional', 'low-health', 'literacy', 'repair/closure', 'crebral', 'schitzophrenia', 'kleinfelter', 'nutrition/protien', 'hangman', '/c2', 'auto-antibody', 'passy-muir', 'radiation/chemo/implants', '90-99', 'cocaine-related', 'arial', 'refllux', 'cardio-respiratory', 'erative', 'unproven', 'bleed/pud/h', 'hypertension/cor', '-biventricular', 'pe-ex', 'coum', 'resid', 'disease/low', 'prounounced', 'expired-', 'cardiorepiratory', '21:03:49', '22:10:51', '4_', '-pyogenic', 'cholectomy', 'youth', 'arrythmogenic', 'sarcoidosis-related', 'tachycardida', 'obdsity', 'thrombophelbitis', 'semiocclusion', 'reopen', '11:00.', 'curettage', 'cementation', 'pleurisy/pericarditis', 'pacemakre', 'hypopharynx', 'classic', 'oculomotor', 'inattention', 'om1/pda', 'rouxen-y', 'hypogonadal', '13:07', 'neoesophagus', 'gallbladder/common', 'lacerations/abrasions', '3.84', '/peg', 'crytpogenic', 'klippel-feil', 'hyperlidpidema', 'svt/paf', 'gn', 'phospholipid', 't7-10', '16:22:11', '17:54:01', 'pharyngoesophageal', '11.left', '12.diffuse', 'burns/abrasions', '13.ecoli', '14.acute', 'influenza-like', 'unspeciated', 'hemodialyisis', 'chaga', 'bacteremia-blood', 'uti-positive', 'dysphagia-patient', 'overnight-2l', 'evident', 'dysfuntion-', 'stroke-left', 'sliding-scale', 'thromcytosis', 'eschericia', 'preclude', '13:28:06', '14:20:09', 'circumlex', 'mrv', 'gastroenterological', 'diastoloic', 'sepsis/endovascular', '90prca', 'dcx', 'svg-r-pda', 'non-working', '00:37:12', '02:09:38', 'l-2', 'stapedectomy', 'bentall/homograft/mv', 'peg/j-tube', 'cholesystitis', 'fatigue/weakness', 'minimially', '22:45:47', '07:23:18', 'outfracture/cautery', 'neprolithiasis', 'aureua', 'tracheobronchomalacea', 'non-resolving', 'bentall/hemiarch', 'hematuria/proteinuria', 'constipation-treated', 'hypovelemia-', '10:54', '4.3-4.', '6.4-cm', 'fh', 'hperlipidemia', 'closeure', 'broncho-pleural', 'htlv-1-associated', 'bleed/infected', 'cigar', 'erisipelas', 'cystadenocarcinoma', 'anemia-treated', 'primitive', 'neuroectodermal', 'somnolence/oversedation', 'lindau', '16:56', '3days', 'broncoplasty', 'bacl', 'm1/pca', 'tia/cva-3', 'pain-s/p', 'sxy', 'trimalleolar', 'gout/pseudogout', 'flutter/fib', 'failur', 'etoh/tob', 'hepatocholangiolar', '13:39:36', '15:48:50', 'erythropoetin', 'supersellar', 'intrtrochanteric', 'afib-no', 'hernia-nonobstructive', '1.68', 'sendary', 'regurgitatiuon', 'a-fracture', 'float', 'b-fracture', 'c-laminar', 'd-spinous', 'windswept', 'abrasions/road', 'back/buttocks', 'laceration/skin', 'self-resolved', 'abscess/mediastinitis', 'r-axillary', 'melanosis', 'motorscooter', 'recipient', 'rreplacement', '22:19', 'rate-controlled', 'trasfusion', '02:38:33', '08:03:16', 'embolus-', 'hearth', 't2-t3', '1.line', 'sepsis/ards', 'incontinent', '~t10', 'neuropathy-', 'hypoalbuminemia/', 'coup/contracoupe', 'typei', 'hyperlipidemaia', 'ureteroenteral', '-polymyalgia', 'pyelonephritis/urinary', 'nephrolithiasis/hydronephrosis', 'cmpl', 't2n1', 'withdrawal/dependence', 'lmca/svg-diag/svg-om1-om2', 'hd-l', 'hypertentension', 'gastroesopheal', 'puritis', '-hypervolemia', 'artery/obtuse', 'marginal/diagnal', 'c2/c3', 'c2-t2', '2-8,10', 'hypertentiosn', 'penetration', '00:42', 'bleed-multiple', 'ulcers/craters', 'malignant/revovascular', 'craniotomy/craniectomy', 'intubation/extubation', '09:33', 'extra-peritoneal', 'seminoma', 'steatotic', 'hepato', 'carninii', 'status/', '-loculated', 'bilius', '2.0-2.2', 'daptomycin', 'repsiratory', 'arrhythmogenic', 'splenorrhaphy', '07:40', '7.4', 'pl', '-malfunctioning', '-hematoma', '0.44', 'ntg', '~1x/week', 'pseduomonas', 'substance-induced', 'heamorrhage', 'vericeal', 'bipolar-type', 'aphonia', 'intra-hepatic', 'disemminated', 'arrythmia/', 'nstemi-', 'stigma', 'right-to-left', 'hyperalimentation/tpn', 'fuction', 'jejunostomy-tube', 'arteery', 'cnacer', 'helath', 'egd/duodenal', 'post-crush', 'fall/found', 'procedure/dccv-sr', '-heavy', '06:08', 'grim', 'member', '13:39', 'disorder/bipolar', 'r+l', 'ascitic', 'artery/hepatic', 'dysmorphology', 'digeorge', 'coartation', 'discoordinated', '18:06:58', '20:06:33', 'immunodefiency', 'pseudoaneurism', 'leprosy', 'supraceliac', '03:54', 'cw', 'rml/rll', '05:05', 'vulvovaginitis', 'tibial-fibular', 'reevaluation', 'aspen', 'disease/alpha', '16:15', 'jejunosigmoid', '03:37:58', '08:51:55', 'aorta/hemi', 'post-extubation', 'pneumothorax-chest', 'tah/bso-bladder', 'maasive', 'cdif', 'bulge/herniations', 'rehydration', 'feeet', 'ito', 'feedings-', 'hyperhidrosis', 'kdr701ld', 'sided/partial', 'accumulate', '*bilateral', '*small', '*acute', 'sbft', 'disorient', 'yell', 'redirectable', '1:1', 'sitter', 'inflam', '1+mr', '1+ar', '1+tr', '0.62', 'layer', 'eccymoses', 'extrapyrimidal', 'dopaminergic', '02:52', '4/98', '9/00', 'aggrenox', 'dwi', 'monocyte', '167.', 'aso', 'crypotogenic', 'pseudoaneurysn', 'pneumonthorax', 'numbness/weakness', 'lumpectomy/axilary', 'disection/radiation', 'hysterectomy-no', 'foraminotomies', '19:21:40', '20:44:10', 'peri-aortic', 'wenchebach', '.probable', 'presternal', 'choledocholiathiasis', 'cell/squamous', 'ulcer/h.pylori', 'pre/op', 'interval-managed', 'dysphagia-evaluated', 'sbox3', 'vertbral', 'crystal-proven', 'h-v', 'porcelain', 'virally', 'a-fibrillation', 'lamina/inferior', 'pain-herniated', '*awaiting', 'portan', 'hemodialysis-dependent', 'diesease', 'dyslipedemia', 'angioplasty/pci', 'dilatation-', '1.6-2.7', 'norovirus', 'lipds', 'compleat', 'scald', 'resitant', 'colonovaginal', '+plateau', 'meninigitis', '04:26', '07:28', 'foraminectomy', 'vein/removal', 'syndrome/', 'vt/pea', '-borderline', 'fluoro', '48/19/27', 'valvular-induced', 'aureas', 'devastation', 'asthma/', 'paroxysnmal', 'p.o.q.8h', 'p.o.q.a.m', 'p.o.q.p.m', 'p.o.q.4h.p.r.n', 'advil', 'p.o.q.6h.p.r.n', 'fsh', 'foramne', 'henorrhagic', 'cellulitis/sepsis', 'nephroureteral', 'supior', 'tenofovir', 'adrental', '576', 'iritis', 'pneumoncystis', 'pan-cytopenia', 'qrs', 'gavage', 'seconardy', 'hypovolumia', 'esld/cirrhosis', 'r-orif', 'pre-diabetic', 'peri-intubation', 'crohns-childhood', 'ramus/obtuse', 'x5/insulin', 'diabetes/htn/chronic', 'radio-ulnar', '1-5', 'r7', 't5-8', 't2,4,5', 'intranidal', 'intra-ventricular', 'stent/lad', 'cervical-thoracic', 'benigh', 'secondray', '-decompensated', 'foramen/pubic', '1st-3rd', 'contussion', 'shunt/r', '-low', 'polyradiculopathy', '/neurology', '-polyneuropathy', 'post-cerebral', 'arthoscopic', 'hba1cs', 'decannulation', '13:54:15', '15:13:11', 'macradenoma', 'aqcuired', 'tachycardia/', 'icd-pacer', 'fragmentation', 'hypospadious', '/asd', 'collarbone', 'arhthritis', '33+', 'dacryostenosis', '50.563', '511.9', '428.20', 'a3', '466.19', 'oth', 'org', 'vasculitis/aortits', 'failure-resolving/hepatitis', 'mulitmicrobial', 'cmv/hsv', 'relapsing/remitting', 'spect', 'lvef=55', 'triamcinolone', 'cystocele', 'pricardectomy', 'vats/window', '7/15/006', 'subxiphoid', 'pior', 'disease/uip', 'bbypass', '7yrs', 'neuroembolization', 'coilitis', 'hcc/hcv', 'helix', '0.5cm', 'hemorrhaghic', 'traumatically', 'punch', 'rop', 'expand', 're-bleeding', 'dysfunction/congestive', 'clamshell', 'infection-resolved', '15:31:20', '16:47:56', '17:51:57', '19:16:40', 'gastrocuataneous', 'rett', 'gastrocuteneous', '***anticipated', 'days***', 'pacer-icd', 'echo-ef', 'claudication.', 'far-lateral', '-sigmoid', 'wheelchair-bound', 'insufficeincy', 'diverticulitis/diverticulosis', 'vibrio', 'ringworm', 'myeloblastic', 'insuffeciency', 'pneunomia', 'fossa/chiari', 'c12', 'officer', 'inginal', 'w/pleural', 'dysmyelopoietic', 'characterize', '09:30', 'rhomboencephalomyelitis', 'injury/hepatorenal', 'copd/restrictive', 'pancreatic/kidney', 'veilonella', 'nodisplaced', 'intervascular', 'maxillary/frontal', 'sinus/zygomatic/orbital', 'clavicular/scapular', 'labium', '1.s/p', 'mastopexy', 'iplmi', 'lad/d1', 'intra-cerebral', 'cavernomatosis', 'decubti', 'insufficiencey', \"sjogren's/sarcoid\", 'artertitis', 'c6-t1', 'cellulitis-usually', 'abx-none', 'accident-diagnosed', 'opthamologist', 'headache-no', 'onychomycosis', '8/6/5', 'syndrome/vasculitis', '18:42', 'ivc/infra-renal', 'delerium/encephalopathy', 'negtaive', 'tonsillectomy/adnoidectomy', 'blepharoplasty', 'wall-', 'pterigoids', 'diastesis', 'regurgitation-prosthetic', 'replacement/tricuspid', 'desensitazation', '-scalp', 'desruption', 'calcaneal-cuboid', 'esosinophilia', 'asthma/copd/chronic', 'sundowning', 'mssa/pseudomonas', 'intrapaernchymal', 'angioembolization', 'takeback', '-junctional', '-microcytic', 'escharotomy', 'dorsum', '7/25/0', '19:10', 'cad/mitral', 'x4/mv', 'carcinoma-', 'hct=27', 'appendecitis', '07:49:11', '08:47:52', 'arteriotomy', 'nephrolithiasis-', 'regurgtation', 'stenting/ptca', 'bilaterala', '04:56', 'pnuemonitis', '22:54:11', '07:36:55', 'vasoconstriction', 'mulitiple', 'r-upper/r-middle', 'at-home', 'x12', '-leukocytosis', '1.copd', 'urinate', 'failure/multifocal', 'myopathy/profound', 'squamosal', 'anbiotics', 'opthamalic', 'avr/cabg/maze', 'rican', 'spanish-speaking', 'preauricular', 'cartotid', 'meatal', 'nightly', 'non-aneurysmal', 'b/hepatitis', 'c/alcohol', 'ecstasy', 'colitits', 'g2p1ab1', '06/00', 'depo-provera', 'choleysectomty', 'non-matured', 'eschirichia', 'bactermeia', 'limbic', 'rhombencephalitis', 'bleed/hematemesis', 'unprotected', 'heterosexual', '91', 'opportunistic', '556', '187,000', '20-24', '282', 'mucin', 'hardward', 'desc.thoracic', 'atheroma/', 'preservation', 'chordal', 'structure/', 'cyroablation', 'pupillary', 'zovia', 'insuin', 'rt.cea', 'coriinary', '96w', 'pex2', 'aberancy', '09:57:26', '10:33:19', 'anomia', 'atop', '15:02:19', '17:24:23', 'dehiscience', 'financial', 'mass/cancer', 'hemorrages', 'parenchemal', 'gibleeding', 'periop', 'brady/pause', 'ovarian-type', 'stroma', 'atypia', 'biloma/liver', 'nonsmoker', 'nondrinker', 'nondiabetic', 'emts', 'blink', 'decorticate', 'posture', '72-hour', 'negligible', '5:55', '23:18', 'inracranial', '432.9', '-uncontrolled', 'ii-0-0-ii', 'multiloculated', 'cul-de-sac', '15.8', 'dimension', 'cake', '27.8', '133.', 'low-molecular', 'hematologist', 'oncologic', 'cytoreduction', '1,200', 'crystalloid', 'ca-125', '475', 'ca19.9', 'setup', 'premedication', 'toradol', '101.2.', 'gently', 'defervesce', 'gent', 'below-the-knee', 'osteonecrosis', 'clostrium', 'lllobectomy', 're-presented', 'trach/open', 'j-t', 'scoliosis/', 'hypertriglyeridemia', 'multisytem', 'overtire', '08:16', 'nausea/vomiting/diarrhea', 'atelectesis', 'polyglandular', 'copd/asbestosis', '+smoker', 'hypertensionm', 'shouldar', 'vulvectomy', 'a-flutter/a-fib', 'paroxysml', '12-463', '21:52', 'precursor', 'b-acute', 'hypofibrinogenemia', 'comminution', 'j-', 'boerhaave', 'g-tube/j-tube', 'cellulitis/surgical', '10/06', 'multivalvular', '~1.6', 'perimesencaphalic', 'failure/hypoxia', 'rocephin', 'klatskins', 'overload/shortness', 'carolus', 'fluphenazine', 'fracture/perched', 'hancok', 'pancolonic', 'gastro-cutaneous', '*chronic', '*coronary', '*hypertension', '*gerd', '*pulmonary', '*rheumatoid', '*h/o', 't4n2', '1.24', 't12-l4', 'bioprothestic', '-sialadenitis', '-membranous', '-antiphospholipid', '_____', '17:29:53', '17:59:20', 'biopsied', '-colitis', '30+', '31+', 'strangulated/perforated', 'overt', 's/s', 'vent-associated', '45-49', '-rml', 'roscea', 'foraminotomy', 'resurface', 'hemopysis', 'tear/esophogeal', 'varices-banding', 'enlargement/', 'c1/c2', 'hydroureteronephrosis', '/or', 'ulcer-stage', 'neuralgia-severe', 'explorator', 'menorrhagic', 'hysteroscopy', 'asd-secundum', 'pnh', '17:58:49', '20:07:52', '18:15', 'tuburculosis', 'vel', 'm/s', 'ca/', 'pci/de', 'gastrocnemius', 'end-colostomy', 'pig-tail', 'legioaires', 'trachesostomy', '12-948', 'hypovlemia', 'hypothtyroidism', 'w/contained', 'gnr/gpc', 'drug/benzodiazepine', 'c/cirrhosis/esld', 'thrombotic-thrombocytopenic', 'purpura/hemolytic', 'tunnled', 'lodge', 'ketoacidosis-', 'neurofibroma', '-sternal', '-splenic', '23:39:24', '02:20:03', 'profundoplasties', 'ileofemoral', 'ileac', '-ex', 'ileocecostomy', 'intra-trochanteric', 'dhs', 'disorder/obsessive', 'coloectomy', 'leucovorin', 'djd-neck', 'egd/colonoscopy', 'infiltrates.hypertension', 'thrombosis/moderate', '51f', 'w/isgsv', 'w/wound', 'podagra', 'svc/ij', 'exacerbastion', '36-5/7', 'pancreatectomy/splenectomy/cholecystectomy/j-tube', 'extract', 'tonsillectomy-', '11:17:44', '12:28:05', '/ptca', 'alcohol-withdrawal', 'galleazzi', 'bypssaa', 'mucor', 'subdiral', 'rhm', 'arrest/respiratory', 'ceax2', '22:03', 'fungul', 'ofloxacin', 'proctotomy', 'adenocystic', 'myocrdial', 'tracheobroncheolplasty', 'va-has', 'reimaged', 'cardiogenioc', '23ce', '31stjudebiocor', '10:36', 'funghemia', '04:30', 'pna/l', 'non-steroidal', '-induced', 'ureteral/bladder', '01:25:42', '08:07:19', 'nutcracker', 'intrcranal', 'upgrade', 'polymyosistis', 'ocd', 'c7-t8', '5:31', 'chemosis', 'maleate', 'q.4-6h', '201-250', '251', '301', '350', '350.', 'quarter-strength', 'breakfast', 'dinner', 'stenosis-chronic', 'clocae', 'ulceration/abcess', 'pseudoarthosis', 'd12-l1', 'hyptotension/hypovolemia', 'colectomy/hartmann', 'anuerysmal', 'bental/bjork-shiley', 'vale', '~1.5', 'u.s.', 'esophagram', 'cystometrogram', 'uroflowmetry', 'electrohydraulic', 'litholapaxy', 'cystourethroscopy', '5yrs', 'onx', 'vaacular', 'failure/infection', 'amoxillicin', 'dyastolic', 'tetrology', '12:15:24', '13:14:15', '-arrhythmogenic', 'chest/abdomen', 'fx/chest', 'antecub', 'coumadin-currently', 'venteral', '-iga', '-coombs', '-portal', 'arrest-brief', 'status/persistent', 'hip/pelvis', '15:58:08', '17:56:21', '3.660', 'o-', '35.25', 'disappear', '16.9', '453.', 'ruddy', '3.390', 'pyloricoplasty', '-leukopenia', '-malleolar', '2,3,6', 'r6', '~35', 'consolidation/mass', 'osa-on', 'florid', 'duodenostomy', 'orchiplexy', '00:22', 'cyctitis', 'paraparessis', 'diverticulitus', 'degenertive', 'fibrillation/a', '-sarcoidosis', '-exercise', 'cryptococcus', 'flecainide', 'supraglottitis/epiglottitis', 'flow-limiting', 'spine/shoulder', 'above-knee-amputation', 'fracure', 'chroninc', '=60', 'fibromyaglia', 'neuropsych', '15:48:12', '16:49:37', 'benzodiazpine', 'stents/angioplasty/bypass', 'methocillin', 'aureau', '21:45:39', '09:53:10', 'parvovirus', 'exotropia', 'convergence', 'arthritis/chr', 'chondroid', 'bifascifular', 'hodkins', 'acidosis-', 'doudenal', 'nstemi/cad', 'asbestosis-', 'marble', '=40', 'topically', 'q.12', 'silvadene', 'adaptic', '09:00', 'rca/diag', 'hyperglycemai', 'hepatohydrothorax', 'obesitiy', 'nondisplace', 'hypothyoidism', '~30s', '~100', 'viotale', 'cornonary', 'late-onset', 'sticture', 'asperigillosis', 'acident', '75-year-old', 'downsloping', 'v6', 'po-dp', 'cardiotoxic', 'neurotoxic', 'saphenous-', '1.3-1.9', 'blocker/calcium', '21:40', '00:58', 'evac', 'coagulaopathy', '00:56:13', '01:53:48', 'pan-resistant', 'pseudamonal', '01:57', '71yo', 'cricothyrotomy', 'revision/', 'arthoplasty', 'fall/sdh/craniotomy', '-ef', 'practitioner', '18:11', 'consolidate', 'clinician', '05:43', '06:30', 'medually', 'pacemaker-', 'traumatic/diabetic', 'panhypopituitism', 'anemia/anemia', 'exposrure', 'fibriliation', 'hemorrahage/death', '-failure', '-j', 'reciprocate', 'parnechymal', 'ant/lat', 'glucotrol-xl', '850', 'inferior/posterior', '7l', 'hospitlizations', 'aggravate', 'clorazil', 'hematemasis', 'diuelofoy', 'bcteremia', 'debilitation', '14:47', '05:57', 'biweekly', 'sml', 'degnerative', 'teenager-', 'leg/ankle', 'photopsias', 'floater', '14:49', 'aneyrysm', 'interatrial', '-cholangiocarcinoma', 'pea/asystole', 'thrombolic', 'mild/moderate', 'febrile-associated', 'girdlestone', 'bateremia', 'methacillian', 'nonclinical', '11:52', 'osteoporosis-osteoarthritis', 'emphysema/', 'w/tube', 'thoracic/abd', 'gerd/acid', 'disease/demand', 'care-associated', 'biological', 'hemifascicular', 'bilatetal', '2.5l', 'gemcitabine', 'pci/des', '32-year-old', 'g3', 'p2-0-1-2', 'hematometria', 'golf', 'ball', 'bacteremia/biliary', '3-7', 'w/rhinorocket', 'afrin-soaked', 'cotton', '-5cm', 'philtrum', 'reliever', '19:37', 'withdrawal/delirium', 'calficied', 'coon', 'embouls', 'aspergilus', 'ketos', 'x5/yr', 'hospitaization', \"takotsubo's/stress-mediated\", 'polyspike', 'abn', 'autism', '-phlebitis', 'pleural-based', 'shy-', 'facscitis', 'circuflex', 'lifelong', 'dvt/significant', 'tailor', '13-140', 'bkpop-at', 'osteoarthritis-back', 'l/s', 'replacement/excision', 'nosocomially-acquired', 'infarction/pre-op', 'dermatomysitis', \"rx'ed\", 'r-side', 'sencondary', '/right', 'salpingo', 'ooporectomy', 't1bn0mx', '13:05', '19:59:50', '21:37:56', 'hernai', '02:43', 'itraconazole', '1,4-5', 'hstory', 'vaehicle', 'infarction-occluded', 'sysolic', 'residuum', '12-735', 'rabdomylysis', 'pckd', 'tie', 'frontal/nasal', 'retzius', 'inter-pericardial', '10:31', 'rue-thrombosis', '60-65', 'depression/suicidal', 'abuse/addiction', 'autoimminity', 'yrs-', 'prot/cr', 'propylthiouracil', '9.25', '40cc', 'submaxillary', 'moraxella', 'cholecysitis', 'w/delusional', 'mi/vsd/iabp', 'x1/vsd', 'main/left', '07:27:54', '07:13:05', '14:51:06', '15:26:40', 'fractures/open', 'drop/neuropathy', 'pneumonia/bronchitis', '15:49', 'diagonis', 'strep/', 'sepsis/shock', 'eccreta', 'caudate/putamen/ic', 'scg-rpls/p', '2.9-3.1', 'kyphotic', 'psiorasis', 'pcl', '14:34:50', '05:50:02', '1.mitral', '2.aortic', '3.status', 'cathetherization', '4.coronary', 'proximal/mid', '6.sustained', '7.status', '8.chronic', '9.left', '11.anxiety', '12.depression', 'galeazzi', '8/9th', 'microlissencephaly/microcephaly', '4.9cm', 'stenosis/disc', 'dz/chr', 'winter', 'nasopharygeal', 'deconditioning/failure', '22:38:21', '13:55:56', 'mitrial', 'chronotropic', 'accessory', 'cytometry', 'idm', 'repairx2', '~50ft', 'pci/cypher', 'fracture/left', 'ventilatory-dependence', 'worksheet', 'takatsubo', 'popliteal-dorsalis', 'pleurocentesis', 'major-community', 'l.ankle', 'u-500', 'lopid', 'inujuries', 'carpometacarpal', 'fracture-', 'hook', 'pisiform', 'actigall', 'dph1', 'atreotide', 'enterococcal/klebsiella', 'malnutrition-severe', 'paroxsmal', 'cr~1.5', 'replcaement', '2-mm', 'periphery', 'chinese', '20:10:40', '21:04:55', 'diarrhea/gastritis/duodenitis', 'cryptosporidium', 'parvum', '-non-hodgkin', 'mass/pheochromocytoma', 'chrominc', 'arrest-ep', 'peforated', '02:19', 'ischemia/troponin', 'leak/', 'non-invasive', 'pleomorphic', 'dialysis-', 'retinopathy/retinal', 'cornoary', 'arthririts', 'electrolyte/fluid', 'remit', '-year-old', 'clumsiness', 'veichle', 'lupus/sjogren', 'prinicpal', 'exagerated', '00:58:18', '09:38:10', 'taint', 'thalamic/intraventricular', 'dangerous', 'ouch', 'tca-like', '21:53:30', '00:20:11', 'cfa-at', 'ssvg', 'profundaplasty', 'chroinic-compensated', 'deficet', '120pk', 'narcotics-narcan', '-reversed', 'acue-diureses', '-transfused', 'leukcytosis-treated', 'occipt', 'contraceptive', 'dysmenorrhagia', 'lacosamide', 'difficile-related', 'hypotrophic', '11-mm', 'emphysema/interstitial', 'prostatits', 'decesed', 'hopital', 'lone', 'melas', 'sensorineural/conduction', 'tues/thurs/sat', 'ribaviron/interferon', 'hypersensitivity-severe', 'open-book', 'nonperfusion', 'hemiabdomen', 'ostoemyelitis', 'cavernosum', '10.osteomylitis', '11.vre', 'eosinophic', 'tentative', 'determination', 'esophagigitis', 'pigmentosa-', 'ca.-', '01:16:44', '03:34:24', '00:39:05', '02:50:46', 'mestatic', 'cytologic', 'iii/iii', 'myxofibrosarcoma', 'venovenotomy', '11/17/', '21:07', '-infectious', '-torsades', '-leukoclastic', 'ie', 'excerbated', 'cholecstectomy', 'bloodloss', '23:35:57', '02:57:31', 'hematomat', 'second-hand', 'g8', 'bleed/rectal', 'splenci', '12.open', 'tibia/fibular', '14.sacral', '15.right', '16.acute', '17.pneumonia', '18.tbi', 'tia/', 'diflucan', 'hempotysis', 'presistent', 'trainsient', '9lima-lad', 'knuckle', 'a_v', 'lanemia', 'on-x/talon', 'tow', 'combative', '-hypoventilation', '-large', 'anca-associated', 'kayexalate', 'tear/breakdown', 'ebsteins', 'thallesemia', 'x30', 'yers', '34x15', 'brachioplexus', 'tape', 'shut', 'keratopathy', 'eardrop', 'corticosporin', 'beethum', 'neurology/neurobehavior', 'neurobehavioral', 're-evaluation', 'electromyogram', 'apprise', 'enog', 'anyeurism', 'bedbound', 'psychological', 'myelocytic', 'contrast-induced', 'cad-nstemi', 'donepezil', 'waken', 'epigastrum', '05:40', 'deficiency-hypercoaguable', 'risk/pre-op', '04:55', 'bimalleoloar', 'besylate', 'practice', '22:48', 'betablockers', 't11-s1', 'leukemic', 'hzv', 'ba', '**41**', 'multilobular', 'vt/icd', 'failure-hypercarbia', 'mrsa/stenotrophomonas', '6/7ths', 'hylanine', '13:15:25', '13:47:52', 'a-fib/rvr', 'enoxaparin', '2d', 'laceration/avulsion', 'adominal', 'arrythmia-bradycardia/atrial', 'duodinitis', 't/t/sa', '18:55', 'myelopysplasia', 'baseball', 'bat', 'w/staph', 'coma/seizure', 'injury/skull', '-episode', 'admit-not', '-normal', '2+tr', 'sfa/popliteal/anterior', '22:08', 'elevevated', 'hosptial-acquired', 'hypofunction', 'splenomegaly-', 'hyterectomy', '51m', 'laminectoy', 'hb', '**meningioma', 'pre-lim', 'pnemonia-mrsa', 'hemaoma', 'ilieus', 'chronicsystolic', '16:06:57', '17:09:03', '34-week', '18:44', 'hypoventiliation', 'etiologic', '-ethmoidal', 'reinflated', 'necronectomy', '10.status', '-hemophilus', 'mitoxantrone/etoposide', 'msm', '+gonorrhea', 'sab+', 'dvt/small', 'osteoarthritis/neuropathic', 'thromboplebitis', 'neuroapthy', '4-9th', 'decubital', '-infected', 'neuroblastoma', 'fem/fem', 'single-chamber', '03/', 'fibrillation/pea', 'post-dialysis', '14:33', '/intermittent', 'honk/diabetes', '2:00', 'ist,2nd', '01', 'body/lamina', 'aneuyrsm', 'infarts', '14:11:01', '15:10:09', 'lyphedema', 'pain/spinal', 'uro/pneumo', 'hematochezia-likely', '1,2', 'spondylytic', 'orientation/attention', 'bactereima', 'beacopp', 'peptrostreptococcus', 'back/leg', 'hernia/gstroesophageal', 'sickle-cell', 'microvessel', 'hpylori', 'disorder/cyclothymia', 'tsplnt', 'repalcement', 'surronding', 'chf/pulmonary', 'myelolplastic', '02:56:40', '08:05:32', 'klebsiella/enterobacteremia', 'heterozygote', '15:19:54', '15:58:15', 'art.disease', '62-year-old', '18:34:58', '22:30:29', 'carotidendarterectomy', '-sub-dural', 'hematoma/intraparenchymal', '01/08=6.7', '-lumbar', '-toxic', '-anemia-', '22:40', 'injusry', 'sternotomy/innominate', 'dtr', 'l-k', 'tthsa', 't-3', 'n-0', 'hd-dependent', 'ischemia-', 'angioimmunoblastic', '6x', 'androgen', 'intracutaneous', '-mood', '790.7', '572.0', '724.2', 'paraphyrengeal', 'vats/talc', 'inversus', 't2-3', 'ventillatory', 'mistake', '9french', 'medicate', 'diagnossi', '14:30', 'clozapine', 'mirtazapine', '.4', 'tolterodine', '1500', '.1', '11:27', '11:37', 'osa/ohs', 'ottitis', 'dexon', 'a/crf', 'insulin-requiring', 'x20', 'nissen/hiatal', 'acculmulation', 'transfuion', '12:10:31', '13:13:00', 'ankel', 'chf-stable', 'astma/copd-stable', 'diveticulitis', 'failureafib', 'tbm-tracheoplasty', 'anaerobic', '57f', 'ilio-pfa', '8mm', 'thromboendarterectomy', 'spondylosis/nerve', '00:23', 'congstive', '1:45.', '1:30.', '18:35:38', '19:05:16', 'endocarditis/vegetation', 'infarction/coronary', 'xanthochromia', 'encepalomalacia', 'tear/gastritis/esophagitis', 'tpn-related', 'lipase/amylase', 'rchop', 'use/abuse', 'myopathy-unspecified', 'acinobacter', 'pneuomina', 'urgery', 'linectomy', '-delerium', '-depression/anxiety', 'anticoagulaion', 'insufficincy', '03:32', '04:04', 'metasisis', 'prominence', 'tacchybrady', '~5ft', 'bleeding/gastritis', 'broncho-tracheomalacia', 'ugib/h.pylori', '/ace', 'non-hodgekins', 'pacer/internal', 'melanoma/skin', 'iron-defic', '00:22:05', '06:05:47', '00:32:19', '04:08:38', 'cryptococcemia', 'supplment', 'dysarythmias', 'hypertension/hypercholesterolemia', 'incidenteloma', 'arm/plated', 'dysphagia/odynophagia', '+3-4mr', 'end-stage-renal', '12:30:11', '14:13:27', 'hypercarbic/hypoxemia', 'injury/dissection', 'dive', 'rhabolmyosis', 'thrive-', 'faciaotomy', 'hshimoto', 'w/hypothyroidisim', 'divertics', 'vascule', 'svg-om-diag', 'thoracotomies/mini-maze', 'bacertial', 'phsio', 'arthritis/rotator', 'frature', 'cowden', 'pickup', 'colectomy/hartmanns', 'replacement/mitral', 'ai/', 'triquetrum', 'pseduoaneurysm', 'fourt', 'ventricule', 'secodnary', 'thromobosis', 'intrapericardial', 'uti/possible', 'conjuctavitis', 'omni', 'dome', 'dc/cv', 'paracervical', 'diffrent', 'distributiosn', 'infection/bacteremia', 't^onsillectomy', 'w/chronic', 'erythrodermic', 'desquamative/bullous', 'debridement/rewiring/flap', 'reconstr', 'mellitus-diet', '28-3/7', '16:33:33', '18:51:10', 'intertrochanter', 'opioids', 'ca-med', 'gastroepiploic', 'cordis', 'elucidation', 'diagram', 'gibleed', 'hipsx', 'retinopathy/neuropathy', 'dvt-lue', 'altemeier', 'erbitux', 'satus', 'hypovolvemia', 'faioure', 'ischemiahypertension', 'sysndrome', 'hypocalemia', 'cerum', 'pregnant', 'obstruction/', 'disease/stenosis', 'rad/onc', 'branchial', 'platella', '18:10', '-hypophosphatemia', 'teratoma', 'hemod8ialysis', 'uncomtrolled', 's/pnstemi', 'postoperatvie', \"alzheimer's/vascular\", 'alf', '+mac', 'mid-30', 'bph-status', '06:06', 'rca/pda', 'hyperlipidemia-', 'flp', 'tchol', 'steft', '6/0', 'pelvic/sacral/acetabular', 'responce', '15:59:22', '23:57:47', 'hypotension/tachycardia/hypoxia', '4.9', 'b-', '10:58:26', '11:58:12', 'rtery', '-lef', '-slenic', 'pelvic/acetabular', '-hep', '-advanced', 'c7/t1', '1,3,4,5', '8oz', '9oz', 'extrication', 'pectus', 'excavatum', '20.2', '2.145', '47.5.', '10.4.', '13:55', 'adenomcarcinoma', 'duoadenal', 'comminunition', 'ileus/constipation', 'scca/stage', 'vs3b', 'chemoxrt', 'methamphetatmine', 'seotal', '75/regular', 'meantime', 'disulfiram-like', 'aeromonas', 'campylobacter', '17:50', 'stenonis', '7:20', 'bandemia', 'obtund', 'arousable', 'truly', 'comfort-', 'measures-only', 'huge', 'augment', 'contractility', '40.', 'venovenous', 'really', 'variety', 'renally', 'hematologically', 'lastly', 'levophed', 'pitressin', 'ethic', 'comfort-measures-only', '16:14:58', '16:58:04', 'a-paced', 'irritability', 'dual-', 'hematuria/bph', 'arenesp', 'turmp', 'stools/gi', 'd/w', 'v/q', 'helpful', 'malignancy-related', 'angular', 'supramarginal', '05:37', 'avr-tissue', 'bil.cataract', 'tendinitis/bursitis', 'fibrillations/p', 'treatement', 'dronedarone', 'colporrhaphy', '07:25:21', '07:49:44', 'restenting', 'bicyle', 'anterolithesis', 'not-anticoagulated', 'pharynx', 'biosy', 'esophagogastroduodenscopy', 'hemmorrage', '19stjude', 'tachy-mediated', 'parasite', 'shwanomatosis', '20+', 'rear', 'community-aquired', 'biconylar', 'valve/', 'replacement/asc', 'exoneration', 'cranialization', 'cancer-brain', 'discoloration', 'longtime', 'w/rupture', 'malnutrition/protien', '03:03', 'kbh', '19:48:34', '12:56:06', 'thalesemia', 'genetic', 'bowel/bladder', 'anophthalmia/blindness', 'as/ai/', '13:48:14', '15:10:26', '-t1dm', 'vavlve', 'lithotrypsy', 'c7-t3', 'sdh/skull', 'topical', 'dobbhoff', '136/84', 'blow-by', 't-max', '150-210', 'purposely', '-bradycardia/sss-', 'non-operable', 'w/subtroch', 'tiial', 'attemped', 'disloged', 'hbsab', 'igmhbc', 'zaroxoyln', '2.320', '45.5', 'coordinate', 'enfacare', '40.9.', '11.3/0.2', '08:31:09', '10:56:11', '-tbm', '-avascular', '-granulomas', 'iph/sdh/sah', 'ketonuria', '11:16:26', '11:49:49', 'hypercholesterolemia.cad', 'p.o.b.i.d.', 'v1/v2', 'nephrocalcinosis', 'hallectomy', 'quarry', 'hypertensin', 'afib/avnrt/aflutter', 'hemo-dialysis', '+vre', 'nonaneursymal', 'hypoglycemia/hyperglycemia', 'origen', 'caesarian', '15:13:49', '11:36:13', '03:50', 'etoh/benzodiazepines', 'hernia/small', 'infection/colitis', 'hsitory', 'apnea-no', 'uterovaginal', 'left-inferior-m2', 'multiple-drug-resistant', '7d', '+fluctuations', 'operation/procedure', '63-year-old', 'fev-1', '123', '108', 'ratio', 'tlc', 'pormovement', 'broncodilator', 'archilles', '00:50:26', '01:35:15', 'shorlty', 'exacerbation/pulmonary', 'schede', 'occipital-parietal', 'transphsincteric', 'coloproctostomy', 'undigested', 'dispalced', 'hemaotoma', 'intraerenchymal', 'tahcycardia', 'clavicel', '-left-sided', 'musculature', 'discontinuity', 'legs-unclear', '-biopsy', 'culprit', 'copd/reactive', 'thromobctopenia', '23:10', 'tenosynovectomy', 'ck-emia', 'fibrillation-placed', 'tyhroid', 'cerebral/basilar', '50.abp', '06:45:31', '09:43:38', 'fibrilliation/flutter', 'changes/posterior', 'encphalopathy', 'ptu', 'tapazol', 'medications/instructions', 'ephedra', 'knees/hips', 'hyperlipidmia', 'thyroidits', 'associated-pneumonia', 'klebsiella/mrsa', 'bronchoscopies', '62f', 'internist', 'keotacidosis', 'hospitalization/mrsa', '1535', 'dissease', '3,4', '3/4/5', 'intraparenchyma', 'sutent', 'resent', 'beta-lactamase-producing', 'injury/perforation', 'stenosed', '8cm', 'choleliathiasis', '2.155', '56.5', '10.2', '4.1/0.2', '09:44:34', '10:29:22', '-disseminated', 'cogulation', 'svg=', 'l-pda', 'ogilve', 'anti-platelet', 'psuedomembranous', '2,4,5', 'vain', 'spenoid', 'liver/lung', 'pannnus', 'bck', 'non-complicated', '7,8,24', '9,10', 'falciform', 'intraparencymal', 'dyssynchrony', '8/06', 'cardio-pulonary', 'bronchietaosis', 'protatitis', 'anti-epileptic', 'aed', 'ccc', 'swan', 'ganz', '2.6cm', '63m', 'cholangitits', 'c-related', 'subinsular', 'teporal', 'unfamiliar', 'environ', 'hematoma-now', 'infeciton', 'staphalococcous', 'diabetes-hyperosmolar', 'supra-orbital', 'extraconal', '06:04', 'terafirma', '-proteus', 'hand/foot', 'striction', 'hemadialysis', '-lv', '-pulm', '-factor', 'heterozygosity', '-inguinal', '-vocal', 'disease/unstable', '63yo', 'primary-hypertensive', '1.non-st', 'mutltiple', '-hit', 'thrombectomy/pci', 'antibiotic-related', 'fulminans', 'interpersonal', 'unemployed', 't1-t8', 'iddm-', 'jra', '50.aad', '00:53:34', '02:11:45', 'cad-des', 'thorc.', 'infarctionright', 'broncho-esophageal', 'eso-ileal', 'repair/left', 'edw', 'temproal', 'hopsital-acquired', 'pcta', 'postcardiac', 'dyscoordination', 'veillonella', 'crytogenic', 'orventricular', 'cellulitis-', 'tonsillecomy', 'anemia/hypocellular', 'globulin', 'anti-thymocyte', 'q3', 'centrilobular', 'cdad', 'picc-associated', 'coag-neg', 're-stenosed', '00:29', 'lima/lad', 'ptca/desx3', '05', 'hga1c', 'enterovesical', 'stsgs', 'kcl', 'sight', 'juntion', 'developement', 'pseudopheochromocytoma', 'astham/copd', '-muscle', '**metastatic', 'hypoglycemia/diabetes', 'colectomy/ileostomy/g-j', 'stenosis/tricuspid', 'tricupid', '20:31', 'pneumonia/sinusitis', 'c1-4', 'fixation/decompression', 'bursal', 'intraspinatus', 'subscapularis', 'x3/mvrepair', 'samll', 'trigone', 'osteoathritis', 'pneamonia', 'uncorrected', '07:23:25', '10:10:12', '-elevation', 'changes/delirium', 'hemorrhae', 'mid-jejunum', 'biopsy-', 'extrvasation', 'body/', 'non-isulin', 'lugn', 'occas', 'deficieny', 'upset', 'sulfate/dexamethasone', 'dryness', 'units/ml', 'polyvinyl', 'lanolin/mineral', 'oil/petroleum', 'ideally', 'ophthalmological', '22:32', 'pyelonephritis-', 'foreman', 'vave', 'hypercalcemia/arf', 'fltuter', 'argon-coagulation', 'placemnt', 'hyperkeratosis', 'hypothyriod', 'scv', 'surfactin', 'hyporeninemic', 'coongestive', '03:24', 'cabg/mvr/maze', '-copd/emphysema', '0.63', 'pred.', '70.', '88-92', 'ratio=0.69', 'legionnaire', 'ashtma', 'revascularized', '7/00', 'cataplexy', 'velcade/mephalan/prednisone', 'lesions/compression', 'convex', 'cardura', \"d/c'ed\", 'exacerbated/triggered', 'velcade', 'florinef', 'ivcd/lbbb-old', 'maximally', 'toxicity/iga', 'pseudogout/gout', 'femoral-pedal', 'cirrhosis/hepatitis', 'transfusion-dependent', 'caudal', 'regression', 'sequence', 'inuslin-dependent', '12:13:15', '13:46:02', 'widespread', 'angina-ef', 'tympanoplasty', '0.35', 'labyrinthectomy', 'submersion', '6.6cm', 'biatrial', 'ectasis', 'body/spinous', 'costochondral', 'alliance', '-cocaine/heroin/etoh', 'finder', '6,7,8', 'cutout', '70f', '08', 'osteomyelitis/discitis/paraspinal', 'djd/back', 'hcv/', 'nonobstructing', 'guillotine', 'mellitus-', 'disorder/myelofibrosis', '10:01', 'exicision', 'egfr', 'undertreated', '06:11', 'funal', 'blled', '30-6/7', '09:53:22', '10:34:41', 'cholangeitis', 'svd', 'hemorrhage/uterine', 'puleseless', '14:37:24', '16:00:42', '5.9', 'hemilaryngectomy', '1-right', 'oligometastatic', 'r-thoracotomy', 'lady', 'zithromax', '-anaphylaxis', '21:34', 'steadily', '-pmh', 'consciosness', 'parasthesias', 'sigmoidal', '02:40:36', '07:21:07', 'hsvii', 'w/splenectomy', '83m', 'olupron', '=25', 'mycocardial', 'hypothrydoidism', 'psychositic', 'comnplete', 'globally', 'ldh', 'resolution/down', 'diarrhea/loose', 'kassuto', 'convalescent', 'tampon', 'gi-bleed', 'aspiration/hospital', 'irritation/rash', 'comp', 'w/retropulsion.all/pll', 'distruption', 'rva', 'enteroroccus', 'aneusysm', '10:12', 'ex-full', '**h/o', '1.1-1.6', 'piece', 'bead', 'tenolysis', 'edc', 'edq', 'mp', '17:01:36', '18:08:01', 'repol', 'nodofascicular', 'bpt', 'rbb', 'nrt', 'anoxia', '09:29:16', '10:24:31', 'cpt', 'ventricular-septal', '20:50:25', '21:40:50', '2-8', 'donnatal', '6-12', 'elavil', 'buspar', 'pseudomal', 'stemi/cardiogenic', 'qtues', 'bradychardia', 'gastroenteritis/diarrheal', 'non-localizing', '=55', 'longterm', 'om-1', 'svg-d1-lad', 'lvsf', 'ex-37', 'age/intrauterine', 'nonreassuring', '1,770', 'collosum/', '10:44', '6-9', 'hyperextension', 'rsxn', 'pheos', 'pneumo-hemoperitoneum', '07:33:20', '07:56:02', 'bacteremia/pneumonia', 'staphylcoccus', 'sternal/spinal', 'asd/pfo', 'obtruction', 'lc-1', '05:51:21', '06:26:04', 'cellulitis/maceration', 'admission/past', 'hemorrhag', 'insufficiency/atn', 'candedemia', 'encepholpathy', 'z', 'inflicated', 'comorbid', 'ssa/ssb+', 'subscapular', 'ventilator-assisted', 'hypercoagulablility', 'coronarty', 'gastritis/severe', 'defciency', 'piriformis', '2.4-2.9', 'self-catheterization', 'uti-pseudomonas', '32.7', 'resemble', 'similac', '12:33:52', '14:43:37', 'thromboembolus', 'metardation', 'djd/oa', 'cronoary', 'eosinophila', '25medtronic', 'pci-rca/cx', 'panfacial', 'bone/septal', '170/108', '140s', 'inor', 'decreses', 'natremia', 'dlif', 'haemorrhage', 'clonic-tonic', 'cranietomy', 'diseminated', 'suspicioun', '01:31:23', '06:57:50', 'scm', 'mwsa', 'holiday', 'atrophy/weakness', '10:10:48', '10:55:27', 'hypotension-managed', 'neosynephrine', 'hypervolemia-diuresis', 'pain-managed', 'bupivicaine', 'hchl', 'polylps', 'follicle', '20:29', 'nile', '16:28', 'brainatem', 'coccyyx', '1.gastrointestinal', '2.renal', 'disease/nstemi', '2.glaucoma', 'hyprecholesterolemia', 'intertriginous', 'portal-hypertension', 'glans', 'frctures', 'interspace', 'wideneing', 'embolisism', 'deployment', '**25**', 'takutsobo', '2/2', '12-', 'electrial', '-occluded', 'bradycardic/hypoxic/unresponsive', 'alchalasia', 'manometry', 'meshoma', '-cold', 'ant/med', 'floor/rim', 'nsc', 'peri-appendiceal', 'x4/rca', 'endareterectomy', '-nocturnal', 'nodules/thyroid', '-psoriatic', 'angiotensin', 'sacroilitis', '9u', 'neurtopenia', '0.86', 'iv/v', 'humorus', 'anti-arrhythmic', '23:31', 'uinary', 'c1-', '**found', 'finalize', 'leg/foot', 'anemia-related', 'operations-required', 'femakpop', '-tubo-ovarian', '-vascular', 'choleysectomy', 'disabetes', '1113', 'retroperiteal', 'appendicitis/gangrenous', 'wood', 'shaver', '_______________', 'multi-resistant', 'etiology/organism', '02:58', 'dementia/anoxic', '-reducible', 'urethrocutaneous', 'goutty', '0.8-1.0cm2', 'alcohol/hcv', 'otorrhea', '24-5/7', '18:11:31', '19:23:29', '03:11', 'defect/anomalous', 'anom', 'use/adrenal', 'popiteal', 'urethrorectal', 'dyslipidema', 'scedosporium', 'splenomegaly/hepatomegaly', 'mono/ebv', 'seminal', 'vessicle', 'fallopian', 'rb', 'dm-diet', 'hyperosmalar', 'sulfasalazine', 'vidaza', 'orthosis', 'hasimoto', 'avr/root', 'year-most', 'mood/hostile', 'behaviour', 'endartarectomy', 'intraventricular/subarachniod', 'appendix-on', 'anemia-myelodysplasia/leukopenia/thrombocytopenia-', 'supression', '-pad', '-myelodysplasia/leukopenia/thrombocytopenia', 'gasroesophageal', 'vitamin-k/ffp', 't3nx', '10:26', 'vesicular-', 'enterococcus/mrsa', '-tsubo', 'menstrual', 'gem', 'v:6945', 'a:5076', 'setic', '-overdose', 'lexapro', '-suicide', 'transpulmonary', 'tamponade-', 'sugery', '1:40pm', 'nonhodgkin', 'mellitys', '-gastroenteritis', 'ecd', '00:34:00', '01:37:07', '23:54:47', '13:34:42', 'etoh-stopped', 'mislplaced/trach', 'coli/proteus', 'qpm', 'myleopathy', 'foremarm', 'pericisternal', 'lami', '07:06', 'venous/atrial', 'nr', 'palpebral', 'septic/cardiogenic', 'syndrome\\\\n', 'ibfection', 'generation', 'seminima', 'bacteremia/urosepsis/uti', 'dignoses', '17:18:03', '18:34:31', '23:42', '01:32', 'main-stem', 'disease/pulmonary', '/tricuspid', '-htn/afib/benign', 'stomach-', 'pericarditispericardial', 'fraction/systolic', 'c1-spine', 'schatzski', 'elephant', 'aorta-arch', 'ligal', 'cta-no', 'cpi', 'sr.', 'andcomplicated', 'i/type', 'toracentesis', 'myoepithelial', 'temproparietal', 'heamtoma', 'conutsion', 'trachaelmalacia', 'torades/ventricular', 'duchennes', '0.1', 'enalapril', '2400', '13:48', 't12-l5', '31.3.', 'tle', 'ef=60', 'xigrus', 'facilitate', 'transesophageal', 'afterload', '100-120.', 'replenishment', 'dyspneic', 'long-time', 'anxious', 'reoccurrence', '-calcified', 'corticosteroid', 'urine/stool', 'laminectomies/diskectomies', 'myeloma-', '30m', 'tbi/', 'rad/ulna', 'iii-', 'nsvt/low', 'cr=1.4', 'i/wenkebach', 'aueus', '2/posterior', '/lad', '12:08', 'failure/hyperkalemia', '-polytrauma', 'span', '-traumatic', '-bowel', '-fracture', 'vegatations', 'rosacia', 'polymicorbial', 'orgs', 'tear-treated', 'injections/pt', '250mg', 'failure/dehydration', 'thrive/weight', 'micropapillary', 'pancreatic/duodenal', 'pyelonephrosis', 'thrombolytic', '-wegener', '-serous', 'nodule-pathology', 'txp', 'mastectomy/chemo/xrt', 'nodules/atypical', 'accumulation', 'hemoperitneum', 'rotatotor', 'syndesmotic', 'lleft', 'bld', 'pais', 'etoh-', 'drinks/day', 'push', 'cystotomy', 'aveleor', 'rul/rml', '-transient', 'pmeumonia', 'anterior-communicating', '10:17:51', '11:17:50', 'cardiodefibrilator', 'dialysis-related', 'diveriticulosis', 'meningococcal', 'cancer-related', 'enterococcus/klebsiella', 'putm', 'obstruction/collapse', 't3n0m', '-remote', 'lump/xrt', '-h.pylori', '-du', '-pfo', '18:45:45', '19:28:11', '4/15', 'dissectionhtn', 'vps', 'fioricet', 'jaundice-', 'esopheal', 'h-pylori', 'imfact', '0.23', '1/2', 'interpeduncular', 'tropt', 'blaterl', 'thoracostomies', 'nonanion', '-discoid', '-ptds', 'bos', '-t9/t10', 'ebmolism', 'non-adherence', 'regime', 'cuff-unrepaired', 'knee-unrepaired', 'pleuro-peritoneal', 'hardware-soft', '10.hypothyroidism', '11.mrsa/vre', 'hemitransverse', 'pneumothorax/pneumomediastinum', 'ampullar', 'pneumoinia', '1.12', 'pyelohnephritis', 'propafenone', 'pneumonia/pleural', 'sss-s/p', '866', 'diverticulae', 'tonsillectomy/adenoidectomy', '10:00am', '12:00pm', 'hours**', 't9-l2', 'neuronopathy', 'novasure', 'colitis/diarrhea', '06:39:16', '07:17:04', 'rpls', 'occlusion/stroke', 'obstruction/constrictive', 'q3-4', 'enterorectal', 'hematoma/repiratory', 'htlv-1', 're-expoloration', '/cva', 'intussussception', 'intussception', 'fibrilltion', 'cavum', 'pellucidum', 'unusual', 'high-density', '12:26:18', '13:07:15', 'bursitis/nerve', '07:59:48', 'bacterimea', 'veridans', '14-18in', '5fu/leucovorin', 'poserior', 'tractor', 'aphasia/mental', 'wondow', '00:46', '01:17', '16:14', '36-1/7', '20:05:50', '20:38:20', 'esophageal/duodenal', 'recurrance', 'rickham', '257', '6564', 'conization', 'hyponatremia/hyperkalemia', 'bacteremia/urosepsis', 'mr/ai/ascending', 'avr/mvr/replacement', 'asc./hemiarch', '/colon', 'fuliminant', 'cancer/germinoma', 'pseudomonas/mrsa', 'follow-', '2229', '14:44:05', '15:38:07', 'tempotal', 'reservoir', '19:47', 'ffractures', 'allergy/drug', 'minithoracotomy', 'injury/trauma', 'subddural', 'e.coli/klebsiella', 'cytomegaloviral', '23:47:31', '01:12:39', 'rib/hip', 'anmia', 'sepsis/septic', 'symphony', '2250', '-perforated', '-intra-abdominal', 'fibrillation-managed', 'fever/pneumonia', 'hyperglycemia-managed', 'overload-managed', '-rsv', 'primatene', 'mist', '05:55', 'excrecence', 'esegmentectomy', 'steato', '12/99', 'q6month', 'sicu-b', '02:05:03', '04:51:23', '5-7th', 'fracture/ivc', '3.3cm', '===============', '68m', 'windshield', 'failure/re-intubation', '+bcltx', 'beta-thalassemia', '45-55', '00:48', 'cholangiocarcionoma', 'idioathic', 'commuity', 'intertransverse', 'patient-controlled', 'analgesia', '32.3', '11.2.', 'steri-strips', '15:36:28', '15:59:57', 'surery', 'cmh2o', '-ibs', '-tinnitus', 'encelopathy', 'masshepatic', 'disciitis', 'discectomy/vertebrectomy', 'hypomagnecemia', 'methehemoglobinemia', '-dyslpidemia', '-eosinophilic', 'egds-last', 'repair/tv', 'perioral', 'immunosuppressive', 'post-pericardotomy', '1.5-2.0', 'shoulder-', 'hand-', '-glioblastoma', '-abulia', 're-transplant', 'hj/kidney', 'pml', 'throbectomy', 'svg-omi', 'hyponatremia/resolved', 'vancomcyin', 'piperacillin-tazobactam', 'dyscoordinated', 'microaspiration', '03:56', '40-year-old', 'haplotype', 'virtuosity', 'centrally', '5.35', 'display', 'cephazolin', 'mycophenolate', 'enough', 'plateauing', 'pancreatico-pleural', 'fungoides-', '13.282', 'chemotherapty', 'instructions-followup', 'anusol', 'detrol', 'lomotil', '2.5/0.25', 'metamucil', '08:31:54', '09:36:29', '05:38', 'inomminate', 'boorhave', 'j-tubes', 'cholectstectomy', 'lethal', 'corevalve/tavi', 'arrythmia-av', 'adapta', 'addrl1', 'exacberation', 'npw', 'cocciodiomycosis', 'fungemia/line', 'nasoplasty', 'hyperlipidimia', 'anemia/', 'b.i..', 'kayciel', 'ecasa', '15years', '10y', 'biscupsid', 'ivda/herion', 'vsd/aortic', 'juxta', 'rep.', 'femara', 'adriamycin/cytoxan', 'schiatzki', 'angiolipoma', 'wedge-pathology', '/alzheimers', '22:56:05', '23:44:17', 'coli/klebsiella', 'supsoected', 'cerebellar/occipital', 'afr', 'prostethic', 'penumbra', 'ehlers-danlos', 'amyrosis', 'hyperglcemia', 'peri-op', '-impaired', '02:02', '20:39', '07:57', 'coronay', '2ndary', 'wwii', 'cancer-s/p', 'cancer-resected', 'pitrious', 'cerb', 'aneuyrsms', 'cereb', 'write', 'metacarpophalangeal', '16:36:20', '20:28:47', 'di/di', 'rms', 'xeloda', 'w/last', 'kleb', '/repair', 'fuse', \"dvt's/pe\", 't3-s1', 'expertise', 'ted', 'stock', 'scd', 'bend', 'outcome', 'bivalved', '~10', 'cabg/ascending', 'bicupsid', 'double-vision', 'elev.chol', '-lactic', '-hyperparathyroidism', '-mv', '-t5-6', 'brand', 'generic', 'musculotendinous', 'peritoneum', 'ecrp', 'mass-benign', 'pseduomanas', 'periotnitis', 'perineal/thigh', 'semi-elective', 'anuersym', 's2/2', 'imperative', '17:35', 't4-t10', 'widening/posterior', 'right/ii', 't8+9', 'acohol', 'caudate/putaminal', 'hemo/pneumonthorax', 'post-syncopal', 'secrete', '3.cri', 'cr~2.0', '4.asbestosis', '5.niddm', 'melena/hematochezia', 'hyperpara-', 'hyperphos', 'paramedic', 'nih', 'forty', 'epileptiform', 'structural', 'circle', 'repetition', 'backwards', 'sternocleidomastoid', 'touch', 'prick', 'finger-nose-finger', 'accurate', 'unsteadiness', '137', 'senokot', 'vetebral', 'copd/chf', 'repair/res', 'antiarrhythmic', 'dofetilide', '3.5cm', 'fulmanent', 'transvaginal', 'mr/lvot', 'l1-3', 'intradural/subarachnoid', 'bronchitis/pneumonia', 'disease/ulcerations', 'anemia/mds', '2-4th', 'restrictve', 'block/bradycardia', 'watch', 'amyeloid', '19:19:19', '19:57:35', 'tracheobronchoplasty/stenting', 'infection/pna', 'resiratory', '8.7', '11:25', 'bilateralpatchy', '11.moderately', '12.t', '13.tbi', '14.aspiration', 'coronories', '-hemoptysis', 'hemodialyis', 'hemicolon', 'tendoachilles', 'non-weight', '-cervical/lumbar', '-fibromyalgia', '-tmj', 'encasement', 'explosion', 'heater', 'malnutrtion', 'msir', '01:35', 'strawberry', '21:42:31', '22:36:53', 'inspection', 'unless', 'tolerate-', 'pillow', 'recliner', 'taste', 'nutritious', 'lean', 'meat', 'vegetables/fruits', 'soapy', 'rinse', 'uncover', '325mg', 'staple/suture', '100.5f', 'concerto', 'cysts/hemangioma', 'pulmulmonary', 'epidural/intradural', 'anastatmotic', 'multifocal/aspiration', 'infection-fungal', '4,110,000', 'tetany', '100-200.', '1year', 'leftt', 'dificille', '20:54:18', '21:40:41', 'insluenza', 'swolen', 'hyperkalemia/hypocalcemia/hyperphosphatemia/elevated', 'pth/metabolic', '-uveitis', '-hocm', '-mulitple', '-facial', '-thrombophilia', '-ttp', 'hip/back', 'evaluated/watchful', 'diastolci', 'dil', 'explantation/reimplantation', 'cirrhosis/ascites', '3yrs', 'abdct', 'saag', 'gerstmann-straussler-scheinker', 'igd', 'pseudoanureysm', '-incidental', '-familial', 'mediterranean', '-hyerlipidemia', '5l', 'ophthalmologist', 'podiatrist', '8.6', '31.6', 'stasis/leg', '157', '238', 'myocaridial', 'consequence', 'copd/respiratory', 'ingest', 'spoon', 'hematoma/seroma', 'hit-negative', '10:24:49', '11:32:09', 'inominate', 'llysis', 'crsu', 'fluid/amiodarone', 'none-', '07:36:39', '08:19:44', 'streptrococcus', 'hypothyroidim', 'cerivcal', 'withrdrawl', 'dementia-aphasic', 'zoster-l', '23:10:24', '08:24:10', 'wrap', '-desc', 'brucellosis', 'soft-tissue', '2.diabetes', 'tibial/fibula', 'mile', 'encephalopathy/mental', '11:45', 'physician/dr', '/dr', 'pelvic/abdominal', 'cooperate', 'fingerstick', 'definitely', '16:49', 'aorto=pulmonary', 'thoracotomy/mini', 'w/occaisional', 'reflect', 'asparagillus', 'hemmorhages', 'men', 'under-medication', 'stools/diarrhea', 'hip/wrist', 'pneumocistis', 'hypercapnic/hypoxic', 'bonemarrow', '5.2', '13:40:33', '15:07:41', '5.2cmx5.0', 'acromial', '3.complete', '5.hiatal', '6.osteoarthritis', '7.lbp', 'pneumomia', '02-915', 'tobbaco', 'normal-pressure', '-ight', 'l4/l5', 'gartroesophageal', 'malessezia', 'osteoma', '1549', 'avr/laa', 'dj', '/copd', '4.3', 'unreponsiveness', '30yrs', 'hypokalemic', '-tracheostomy', 'ef~40', 'aphasis/right', 'congestivee', 'ercp/sphincterotomy', 'intuabted', 'passy', 'muir', 'arvd', 'mnr', 'trachycardia', 'ivda-currently', 'abuse-stopped', 'syncope/fall', '-approx', '120s-140s', 'sed', 'c-anca', 'reconfirmation', 'preliminarily', '24-hour', '98.', '490cc', '300cc', 'abg', '7.40', 'rvh', '10.osteoporosis', '11.history', '-transitional', 'catfish', 'barb', 'hematochesia', 'epidural/subdural', 'zygomycosis', 'perferated', 'super-therapeutic', 'fibrillation/tia', 'cecostomy', 'regurgitiation', 'right/left', 'vary', 'modest', 'dmtype', 'traumtic', 'stapendectomy', 'loopy', 'trali', 'glabrata', 'ulcer/plaque', 'acute/transient', 'failure/allergic', '5.1cm', 'screws/pins/plate', 'chf-chronic', 'ards-', 'noncardiogenic', 'leukemia-', 'clostrodium', 'yearly', 'commisurotomy', 'fever/bacteremia', 'back/neck', 'w/anoxic', 'mrsa/vre/pseudomonas', 'resection/xrt', 'axomal', 'innury', 'subthalamic', 'chelitis', 'vaginal/perineal', 'cholangiopanreatography', '00:25:21', '02:09:42', 'endocarditis-redo', 'supero-antero-medial', 'hyperphospatemia/hypercalcemia', '09:51:24', '02:26:36', 'isoimmunizations', '02:15:24', '07:33:58', 'addiciton', '2351', '14:31:53', '15:02:39', 'inactivate', 'aortic/mitral', 'fibrillion', 'dermatologist', 'diabetes/hypertension/post-cabg', 'quinton', '2a', 'r-en-y', 'hip/femur', '1.osteomyelitis', 'caltrate', '17:01:42', '18:10:34', 'hemipareis', 'band/pfo', 'twelth', 'sixth', 'response/insufficient', 'st-elevations', 'sphinctereotomy', '20:32', 'divertic', 'calcemia', 'opertive', 'sublcinical', 'interochanteric', 'cholecytitis', 'bronchitis/emphysema', 'pseudo-aneurysm', 'inter/subtrochanteric', 'abdominoplast', 'aortorenal', '14:37:02', '15:42:55', 'ehlers', 'dianoses', 'c.difficil', 'effusion-pigtail', 'antibiotics-', '`coronary', 'paraneumonic', 'sah/ivh', '07:54:16', '09:35:29', '-tertiary', 'tonsilitis', 'chads2', 'amd', 'difference', 'menginioencephalitis', '12:29:39', '12:55:26', 'contusions.', 'wintertime', 'replacement/avr/cabg', 'dissection/coronary', 'encephalopathy/inflammatory', '4,5,6,11', 'subcutanoeus', 'failure/contrast', 'c-2', 'paraortic', 'fcu', 'fdp/fdp', 'port-o-cath', 'triquetral', '01:43:29', '08:38:56', 'heterogeneous', '1.meningioma', '2.rhabdomyolysis', '4.myocardial', '5.respiratory', '6.paralysis', 'anoxic/ishcemic', 'dissection-', 'dka/diabetes', 'supreventricular', 'tachycardia/a-fib', 'schatski', 'tylenol-pm', 'seroquil', 'uncharacterized', '=======================', '1.spontaneous', 'dysfunction/junctional', '12-697', 'weight~170', '0.9-1.3', '-arthiritis', '-le', '-vertigo', 'zolpidem', 'pcm', 'seroasal', 'digiti', 'minimi', 'nows/p', '11.malnutrition', '12.scalp', '14.pneumonia', '15.stage', 'pedicale', 'side-', 'ef15-30', 'contustions', 'detachment/floater', 'repl/cabg', 'midfoot', 'telangiectasias', 'cholodolcolithiasis', 'dni/dnr', 'twelfth', 'fibbrillation', 'choleloithiasis/cholecystitis', 'perctutaneous', 'apneic/bradycardiac', '22:57:56', '08:39:13', 'thrombosis/', 'diahrrea', 'nos-short-term', 'status/demential', 'thryoiditis', 'icd/biv', 'gun-shot', 'musto5cmfibbreak', 'llelatstsg', 'frat', 'hypovolemic/septic', 'cutdowns', 'left-', 'to-right', 'graftotomy', '**94**', '**98**', 'midbrain/pontine', 'aspiration/respiratory', 'lad/diag', 'sandblast', '2.chf', '3.hyperlipidemia', '5.gout', '6.polymyalgia', 'wall/superior', 'w/minimal', 'etiology-possibly', '1pack', '17years', 'dm2-diet', '-alport', 'beta-blockers', 'assailant', 'dpl', 'irrigate', 'reolving', 'fecalization', 'dementia-', 'steroid/icu', 'w/non', 'leg/chemo', 'adenitis', 'minimally-invasive', '21:59', '/thrush', '-hiv/aids', 'aphthous', 'nephrotoxic', 'demand-induced', 'enterbactor', 'femaur', 'metaphysis', 'habitual', 'azo', 'av-nodal', 'aymptomatic', 'bacteriuria', 'obstrictive', 'hemmorhages/contusions', 'symph', 'peroneus', 'tendonopathy', 'lue/l', 'bph-urinary', 'wrist/hand', 'cholecycectomy', 'aorto-biiliac', '12:07:21', '15:33:02', 'empyema/hydropneumothrorax', 't8-t12', 'corpectomies', 't8-t10', 'bladder/bowel', 'radiocarpal', 'bones/joints', 'hemagioma', 'mw', '20:11', 'oxalosis', 'jejunogastrostomy', '448,000.', '168.', '4.1.', 'repair/aortic', 'copd-resp', 'cellulitis/infection', 'eisenmenger', '22:57', 'specificity', '-endocarditis', 'bleed/peptic', 'disorder/sociopathy', 'ingesitons', 'utensil', 'tray', 'diag/ramus/om', 'ef:55', 'q-wave', 'cad/apical', 'x4/rep', 'stent/ptca', 'mr/ms', 'oa/osteoporosis', '45years', 'exp', 'encephelopathy/varices', 'gtube', '-hocm-unclear', '-pafib', '-tia', '-rcc', 'parathyroidecomty', '-macrocytosis', 'vitb12', '-wrist/rib', 'svg/om', 'services/vna', 'swim', '23:47', 'stupor', 'itraconazole-resistant', '04:25', '18:29', 'stemi-', 'hepatitis/biliary', 'profundoplasty', '10:59:27', '11:49:21', 'ventriculostomy', '2:36', 'anemia/pancytopenia', 'spigellian', 'pyeloplasty', '-adenocarcinoma', 'pons/tectum', 'small/bilateral', '1351', '555.9', '787.91', '08:18:58', '09:07:18', 'ideopathic', 'pacer/icd', 'one/left-sided', 'resection/mitral', 'as/ms', 'copd/asthmatic', 'entercoccus', 'exacerbation/severe', 'tracheostomy/tracheobronchomalacia', 'zollinger-', 'men-1', 'angioplasty-related', 're-infarction', 'catheritization', 'trachaelbronchialmalacia', 'pain-musculoskeletal', 'vulvo-vaginitis', '1.8-2.2', 'rvef', 'noncompaction', 'colonoscopy/polyp', 'endarterecmy', 'angioplasty/profundaplasty', 'obstruction/hyperbilirubinemia', 'pulseless-electrical', '20:30:59', '22:01:02', 'pseudoforeskin', 'neutrophilic', 'barotrauma', 'balance/insensible', 'losses/dairrhea', 'ureterolysis', 'ureteropyelostomy', 'two-walled', 'viagra', 'cricothyroidotomy', 'epiglottic', '-troponin', 'lpl', '8/99', '-patent', '-the', 'svgs', '1.5-1.6', '-p-afib/aflutter', 'amnesia/memory', 'w/dacron', 'pneumonia/methicillin', 'rsepiratory', 'synctial', 'mazew/', '14:06:34', '14:41:38', 'hematoma/contusion', 'nonocculsive', 'lisfranc', 'varus/valgus', 'anterograde/retrograde', 'arrest-expired', 'vre/ecoli', 'dilutional', 'ingunial', 'extrapyramidal', '2=occluded', 'non-functioning', 'catherterization', 'potoperative', 'hydrocephlus', 'lmca/lad', 'septation', 'lmca/lad/lcx', 'peformed', 'svt/atrial', 'stomatococcus', 'endocarditis/osteomyelitis', 'osteoporosis/arthritis', 'diverticulitis/rectal', 'hemroidectomy', 'knoww', 'hestitancy/frequency', 'gastrectomy/pancreatectomy/splenectomy', 'macrocytosis', 'athroscopy', 'hemiarthoplasty', 'shortgut', 'myelopathy/radiculopathy', 'hemi-sacral', 'hemitympany', 'aorta/coronary', 'duoneum', 'avium-intracellulare', 'aggitated', 'ho', '11/06', 'interruption', 'infancy', 'rxt', 'depression/aniety', 'aortis', 'secondary/other', '/u', 'pvr', 'w/ovarian', 'cholecystecomty', 'pleurectomy', 't8-l5', '60-year-old', 'scoliotic', 'fabricate', 'respect', 'vental', 'unremitting', 'dylipidemia', 'bilatteral', '*primary', 'acetaminophen-induced', 'right-', 'cytomegaly', 'dystrophy-', 'ru', 'rm', 'quiescent', 'intraparenchymal/intraventricular', 'costovertebral', 'privilege', 'barbiturate', 'cva/tias', 'placement/', 'gastritis/duodentitis', 'plumonary', 'hypoxica', 'extremties', 'uvulopalatoplasty', 'turbinectomy', 'insufficiency-elevated', 'hypecholesterolemia', 'lipoma/mass', 'gastro-esoph', 'd-transposition', '-rapid', 'cusp/tricuspid', 'clostriudium', 'des/diagonal', '-anxiety/panic', 'disease/barrettt', '-recovered', '20-gun', 'osteoarthrits', 'hypercalemia', 'periphrial', 'lcea', 'repair/coronary', 'cardiomyopathy-', 'disease-lafb', 'diagnosi', 'viii-', 't5-t12', 'euthyroidism', 'nephrology/renal', 'sip', 'carnation', 'instant', 'unclamped', 'divide', 'aliquot', '2.8.', 'aneurysm/bicuspid', 'ascednging', 'ai/dilated', 'hypocalcemic', '-syncope', '-osteopenia', 'clousre', 'stapylococcus', 'nafcillin-associated', 'signosis', 'zygomaxillary', '08:45:45', '09:53:57', 'non-expanded', '7am*', '18:47:24', '22:03:57', '17:28:46', '18:39:50', 'subconjuntival', 'panischemic', 'dificil', '21:12:15', '23:21:59', 'bronchoalveloar', 'pyometrium', 'bleed/duodenal', 'character', 'shoulder/knee', 'transiently', 'cholangiocarcinoma-', 'stretch', 'vacuo', 'portho-cath', 'infections/p', '25.7', '15:06:50', '09:02:27', 'witn', 'polyingestion', 'ibs/constipation/hemmorhoids', 'abusive', '10-', 'radiation/radiation', 'homocysteinuria', 'repir', '2.075', 'footle', 'vigorously', 'medially', 'dermatological', 'anywhere', '1.5-cm', '5-cm', '2.045', '5.8.', '49.1', 'xt', 'mi/stent-rca', '19yo', 'urticaria/hives', '11:58:25', '14:09:27', 'trouso', '78', 'ogilivie', 'delrium/dementia', '61-year-old', 'multiterritorial', 'submaximal', 'piccline', 'p.o.q', 'mysoline', 'protonics', 'soreness', '3.905', '48.3.', 'echovirus', 'synergist', 'dl', 'pyruvate', 'pneuothorax', '383.9', '263.0', '600.01', 'snow', 'plow', 'fraccture', 'distress/acute', 'dur', 'bronchomalecia', 'bronchiectesis', 'sbg', 'cholycystitis', 'wound/cellulitis', 'eskd', '1.2cm2/gradient', '13/23', 'removal-', 'htnsive', '/icd', 'auto-sct', 'qhypertension', 't3-6', '23:19:24', '04:42:24', 'preretinal', '07:55', 'preplanned', 'prograft', 'mycelex', 'troche', 'ganciclovir', 'humulog', '11.tracheobronchitis', 'fracturem', 'cryptococcosis', 'neoformans', '19:05', 'rhabdomyoma', 'superglottic', 'hematoma/subarachnoid', 'shock/urosepsis', 'hypothryoidsm', 'hypermobility', 'bmsx2', 'r-clavicular', 'reinbuated', 'non-iorn', 'non-responder', 'scoliosis/kyphosis', 'percardial', 'iliobifemoral', 't3n0m0', '06:26:40', '08:31:29', 'endarterectomy/', '15:44:27', '16:30:31', 'incisional/periurostomal', 'proplapse/regurgitation', 'thrombocytonpenia-familial', 'ijv', 'noscoomial', 'contusion/paraplegia', 'chemo-rads', 'sternotomy/full', 'septomyectomy', '20:51', 'perineal/rectal', 'nephroliathisis', 'supra-therapuetic', 'vasculopathy', 'vats/pericardial', 'jhyperlipidemiahypertension', 'vodka/day-', 'pci-was', 'hiv+-no', 'testing-husband', 'fracture-s/p', '/avascular', 'cardiogenic/distributive', 'diaphragmn', 'xcience', '-removed', 'peridental', 'peri-infarct', 'aneurysm/akinesis', 'dy', 'lumbectomy', 'kideney', 'distally', 'nonmalignant', '-icd', '70-80', 'corroboration', 'bradydysrhythmias', 'm7', 'vaso-oclusive', 'right-mca', 'm2-superior', 'complex-partial', 'arteriuovenous', 'esophagael', '20:13:40', '23:39:34', 'circumfelx', 'extract.', '6.5cm', '11:29:16', '12:53:44', 'peducle', 'diabtetes', 'radiation/ablation', 'insiffuicency', 'w/focal', '2.cardiac', 'infection/meningitis', 'extremeity', \"'shock\", 'caturerization', 'dastrointestinal', 'obsstructive', 'unsuccessfull', '00:37:57', '02:06:06', 'asbestos-related', 'graftingx2', 'ketoacidisos', 'pneumonia-likely', 'sacral-', 'consulted-placed', 'mattress', 'postopaerative', 'sfa/paf', 'ahtrectomy', 'ho/', '07:25', '1252', 'hypertensiomn', 'h9istroy', 'cancers/p', 'polyps/hemrroids', 'paraesohgeal', 'hernial', 'fem-akpop', 'posotoperative', 'gerd/gastritis', 'coloanal']\n"
          ],
          "name": "stdout"
        }
      ]
    },
    {
      "cell_type": "code",
      "metadata": {
        "colab": {
          "base_uri": "https://localhost:8080/"
        },
        "id": "I1NUfMJ9TdDC",
        "outputId": "d4793f50-8c43-4106-e89b-738499d6d021"
      },
      "source": [
        "model.most_similar('hypertension')[:5]"
      ],
      "execution_count": null,
      "outputs": [
        {
          "output_type": "stream",
          "text": [
            "/usr/local/lib/python3.6/dist-packages/ipykernel_launcher.py:1: DeprecationWarning: Call to deprecated `most_similar` (Method will be removed in 4.0.0, use self.wv.most_similar() instead).\n",
            "  \"\"\"Entry point for launching an IPython kernel.\n"
          ],
          "name": "stderr"
        },
        {
          "output_type": "execute_result",
          "data": {
            "text/plain": [
              "[('hypothyroidism', 0.779629111289978),\n",
              " ('mellitus', 0.7283748388290405),\n",
              " ('gout', 0.6598159074783325),\n",
              " ('thrombocytopeniania', 0.6578996181488037),\n",
              " ('obesity', 0.6559138894081116)]"
            ]
          },
          "metadata": {
            "tags": []
          },
          "execution_count": 33
        }
      ]
    },
    {
      "cell_type": "code",
      "metadata": {
        "id": "maikMRAKfcz9"
      },
      "source": [
        "# function to vectorize the text \n",
        "\n",
        "def embedding_layer(x,max_length=100):\n",
        "  text_vec=np.zeros((100,max_length),dtype=\"float32\")\n",
        "  for index,word in enumerate(x):\n",
        "    if index>max_length-1:\n",
        "      break\n",
        "    text_vec[:,index]=model[word]\n",
        "  return text_vec\n",
        "  \n"
      ],
      "execution_count": null,
      "outputs": []
    },
    {
      "cell_type": "code",
      "metadata": {
        "colab": {
          "base_uri": "https://localhost:8080/"
        },
        "id": "RlM9qWUxfj4b",
        "outputId": "1c687191-6134-439e-bb22-be68997df756"
      },
      "source": [
        "sum(diagnosis_rnn.tokenized.apply(lambda x: len(x)).to_list())/40478  # means number of tokens in the table"
      ],
      "execution_count": null,
      "outputs": [
        {
          "output_type": "execute_result",
          "data": {
            "text/plain": [
              "18.359973318839863"
            ]
          },
          "metadata": {
            "tags": []
          },
          "execution_count": 70
        }
      ]
    },
    {
      "cell_type": "code",
      "metadata": {
        "colab": {
          "base_uri": "https://localhost:8080/",
          "height": 554
        },
        "id": "mUv60dyXgl-k",
        "outputId": "4a50de93-4e8a-4c96-ef8b-9aabb7e3ca17"
      },
      "source": [
        "plt.hist(diagnosis_rnn.tokenized.apply(lambda x: len(x)), color = 'blue', edgecolor = 'black',bins=100)\n",
        "plt.xticks(np.arange(0, 800,50 ))"
      ],
      "execution_count": null,
      "outputs": [
        {
          "output_type": "execute_result",
          "data": {
            "text/plain": [
              "([<matplotlib.axis.XTick at 0x7f7d133ac710>,\n",
              "  <matplotlib.axis.XTick at 0x7f7d133ac6d8>,\n",
              "  <matplotlib.axis.XTick at 0x7f7d180c9a90>,\n",
              "  <matplotlib.axis.XTick at 0x7f7d1323d7b8>,\n",
              "  <matplotlib.axis.XTick at 0x7f7d1323dd68>,\n",
              "  <matplotlib.axis.XTick at 0x7f7d13246240>,\n",
              "  <matplotlib.axis.XTick at 0x7f7d132466d8>,\n",
              "  <matplotlib.axis.XTick at 0x7f7d1323de10>,\n",
              "  <matplotlib.axis.XTick at 0x7f7d13246320>,\n",
              "  <matplotlib.axis.XTick at 0x7f7d13246f60>,\n",
              "  <matplotlib.axis.XTick at 0x7f7d1324e438>,\n",
              "  <matplotlib.axis.XTick at 0x7f7d1324e8d0>,\n",
              "  <matplotlib.axis.XTick at 0x7f7d1324ed68>,\n",
              "  <matplotlib.axis.XTick at 0x7f7d13255240>,\n",
              "  <matplotlib.axis.XTick at 0x7f7d132556d8>,\n",
              "  <matplotlib.axis.XTick at 0x7f7d13255b70>],\n",
              " <a list of 16 Text major ticklabel objects>)"
            ]
          },
          "metadata": {
            "tags": []
          },
          "execution_count": 71
        },
        {
          "output_type": "display_data",
          "data": {
            "image/png": "[encoded data removed]",
            "text/plain": [
              "<Figure size 432x288 with 1 Axes>"
            ]
          },
          "metadata": {
            "tags": [],
            "needs_background": "light"
          }
        }
      ]
    },
    {
      "cell_type": "code",
      "metadata": {
        "colab": {
          "base_uri": "https://localhost:8080/",
          "height": 222,
          "referenced_widgets": [
            "a822b179930941f1b361e54a20cd274a",
            "2b49dc63582a4881a45d295a93a7b0af",
            "71bdec67049e45cabebe68cc57a0d2fa",
            "aea0dae12065411188d212c904d286eb",
            "14b352ac92044c1db51a6020c324213e",
            "3bac6fc0b3674945868aeb8a140858d4",
            "ecf710de52f441b8b84423a5887039f4",
            "f55b4eddad264ef1b426f219bf0244d9"
          ]
        },
        "id": "4F0HB56JqGa6",
        "outputId": "16d99ef9-f964-445c-dc54-7a50f747281a"
      },
      "source": [
        "diagnosis_rnn['text_vector']=diagnosis_rnn['tokenized'].progress_apply(lambda x:embedding_layer(x,30)) # vectorize the tokens "
      ],
      "execution_count": null,
      "outputs": [
        {
          "output_type": "display_data",
          "data": {
            "application/vnd.jupyter.widget-view+json": {
              "model_id": "a822b179930941f1b361e54a20cd274a",
              "version_minor": 0,
              "version_major": 2
            },
            "text/plain": [
              "HBox(children=(FloatProgress(value=0.0, max=40478.0), HTML(value='')))"
            ]
          },
          "metadata": {
            "tags": []
          }
        },
        {
          "output_type": "stream",
          "text": [
            "/usr/local/lib/python3.6/dist-packages/ipykernel_launcher.py:8: DeprecationWarning: Call to deprecated `__getitem__` (Method will be removed in 4.0.0, use self.wv.__getitem__() instead).\n",
            "  \n"
          ],
          "name": "stderr"
        },
        {
          "output_type": "stream",
          "text": [
            "\n"
          ],
          "name": "stdout"
        },
        {
          "output_type": "stream",
          "text": [
            "/usr/local/lib/python3.6/dist-packages/ipykernel_launcher.py:1: SettingWithCopyWarning: \n",
            "A value is trying to be set on a copy of a slice from a DataFrame.\n",
            "Try using .loc[row_indexer,col_indexer] = value instead\n",
            "\n",
            "See the caveats in the documentation: https://pandas.pydata.org/pandas-docs/stable/user_guide/indexing.html#returning-a-view-versus-a-copy\n",
            "  \"\"\"Entry point for launching an IPython kernel.\n"
          ],
          "name": "stderr"
        }
      ]
    },
    {
      "cell_type": "code",
      "metadata": {
        "colab": {
          "base_uri": "https://localhost:8080/",
          "height": 589
        },
        "id": "P2xGPkB3rka0",
        "outputId": "c24c7279-17a3-49bb-b505-98b6e72dac0e"
      },
      "source": [
        "diagnosis_rnn"
      ],
      "execution_count": null,
      "outputs": [
        {
          "output_type": "execute_result",
          "data": {
            "text/html": [
              "<div>\n",
              "<style scoped>\n",
              "    .dataframe tbody tr th:only-of-type {\n",
              "        vertical-align: middle;\n",
              "    }\n",
              "\n",
              "    .dataframe tbody tr th {\n",
              "        vertical-align: top;\n",
              "    }\n",
              "\n",
              "    .dataframe thead th {\n",
              "        text-align: right;\n",
              "    }\n",
              "</style>\n",
              "<table border=\"1\" class=\"dataframe\">\n",
              "  <thead>\n",
              "    <tr style=\"text-align: right;\">\n",
              "      <th></th>\n",
              "      <th>discharge diagnosis:</th>\n",
              "      <th>ICD9_CATEGORY_list</th>\n",
              "      <th>tokenized</th>\n",
              "      <th>target</th>\n",
              "      <th>text_vector</th>\n",
              "    </tr>\n",
              "  </thead>\n",
              "  <tbody>\n",
              "    <tr>\n",
              "      <th>0</th>\n",
              "      <td>osteomyelitis bleeding duodenal ulcer heart fa...</td>\n",
              "      <td>[250, 585, 584, V58, 458, V13, 403, 362, 707, ...</td>\n",
              "      <td>[osteomyelitis, bleed, duodenal, ulcer, heart,...</td>\n",
              "      <td>[0.0, 0.0, 0.0, 0.0, 1.0, 0.0, 0.0, 0.0, 0.0, ...</td>\n",
              "      <td>[[-0.5143622, -2.4778473, -1.7579305, -3.59031...</td>\n",
              "    </tr>\n",
              "    <tr>\n",
              "      <th>1</th>\n",
              "      <td>r subdural hematoma, right mca stroke</td>\n",
              "      <td>[440, 250, 285, 278, V58, V85, 996, V45, 272, ...</td>\n",
              "      <td>[r, subdural, hematoma, right, mca, stroke]</td>\n",
              "      <td>[1.0, 0.0, 0.0, 1.0, 1.0, 1.0, 0.0, 0.0, 1.0, ...</td>\n",
              "      <td>[[-1.167836, -1.2357243, -0.3562687, 0.3550909...</td>\n",
              "    </tr>\n",
              "    <tr>\n",
              "      <th>2</th>\n",
              "      <td>type a aortic dissection s/p replacement of as...</td>\n",
              "      <td>[196, 189, 276, 198, 197]</td>\n",
              "      <td>[type, aortic, dissection, s/p, replacement, a...</td>\n",
              "      <td>[0.0, 0.0, 1.0, 0.0, 0.0, 0.0, 0.0, 0.0, 0.0, ...</td>\n",
              "      <td>[[-0.9861356, 0.22980636, 1.6956147, 0.1902928...</td>\n",
              "    </tr>\n",
              "    <tr>\n",
              "      <th>3</th>\n",
              "      <td>primary diagnosis s/p pedestrian struck by car...</td>\n",
              "      <td>[285, 864, E81, 861, 805, 807, 852, 821, 305, ...</td>\n",
              "      <td>[primary, diagnosis, s/p, pedestrian, strike, ...</td>\n",
              "      <td>[0.0, 0.0, 0.0, 0.0, 0.0, 0.0, 0.0, 0.0, 1.0, ...</td>\n",
              "      <td>[[-2.0187273, -1.7896893, 0.19029288, -0.09216...</td>\n",
              "    </tr>\n",
              "    <tr>\n",
              "      <th>4</th>\n",
              "      <td>atrial fibrillation with rapid ventricular res...</td>\n",
              "      <td>[251, 458, 478, 345, 507, 758, 255, 518, V44, ...</td>\n",
              "      <td>[atrial, fibrillation, rapid, ventricular, res...</td>\n",
              "      <td>[0.0, 0.0, 0.0, 0.0, 0.0, 0.0, 0.0, 1.0, 0.0, ...</td>\n",
              "      <td>[[-2.551801, 0.17634687, -1.7877394, -0.334953...</td>\n",
              "    </tr>\n",
              "    <tr>\n",
              "      <th>...</th>\n",
              "      <td>...</td>\n",
              "      <td>...</td>\n",
              "      <td>...</td>\n",
              "      <td>...</td>\n",
              "      <td>...</td>\n",
              "    </tr>\n",
              "    <tr>\n",
              "      <th>40473</th>\n",
              "      <td>s/p motor vehicle crash injuries: multiple lef...</td>\n",
              "      <td>[E81, 805, 807, 808, 518, 860, 919]</td>\n",
              "      <td>[s/p, motor, vehicle, crash, injury, multiple,...</td>\n",
              "      <td>[0.0, 0.0, 0.0, 0.0, 0.0, 0.0, 0.0, 1.0, 0.0, ...</td>\n",
              "      <td>[[0.19029288, 0.7933673, 0.7374813, 0.24634093...</td>\n",
              "    </tr>\n",
              "    <tr>\n",
              "      <th>40474</th>\n",
              "      <td>1. rectal cancer. 2. status post proctocolecto...</td>\n",
              "      <td>[560, 998, 272, E87, 038, 707, 154, 997, 567]</td>\n",
              "      <td>[1., rectal, cancer, 2., status, post, proctoc...</td>\n",
              "      <td>[0.0, 0.0, 0.0, 1.0, 0.0, 0.0, 0.0, 0.0, 0.0, ...</td>\n",
              "      <td>[[-0.3615369, -0.7157543, -1.8456633, -0.53597...</td>\n",
              "    </tr>\n",
              "    <tr>\n",
              "      <th>40475</th>\n",
              "      <td>junctional bradycardia chronic diastolic conge...</td>\n",
              "      <td>[285, 584, 112, 276, 053, 507, 327, 244, E93, ...</td>\n",
              "      <td>[junctional, bradycardia, chronic, diastolic, ...</td>\n",
              "      <td>[0.0, 1.0, 1.0, 0.0, 0.0, 0.0, 0.0, 0.0, 1.0, ...</td>\n",
              "      <td>[[-0.37994704, -0.6421765, -1.2401546, -0.5545...</td>\n",
              "    </tr>\n",
              "    <tr>\n",
              "      <th>40476</th>\n",
              "      <td>deceased. gastrointestinal stromal tumor. fulm...</td>\n",
              "      <td>[440, 443, 272, V45, E87, 429, 518, 997, 788, ...</td>\n",
              "      <td>[decease, gastrointestinal, stromal, tumor, fu...</td>\n",
              "      <td>[1.0, 1.0, 0.0, 1.0, 0.0, 1.0, 0.0, 1.0, 0.0, ...</td>\n",
              "      <td>[[-0.09104318, -1.0635493, -0.122941054, -0.26...</td>\n",
              "    </tr>\n",
              "    <tr>\n",
              "      <th>40477</th>\n",
              "      <td>primary: legionella pneumonia left pleural eff...</td>\n",
              "      <td>[285, 584, V49, 799, 276, 786, V45, 511, 429, ...</td>\n",
              "      <td>[primary, legionella, pneumonia, leave, pleura...</td>\n",
              "      <td>[0.0, 0.0, 1.0, 0.0, 0.0, 1.0, 0.0, 1.0, 1.0, ...</td>\n",
              "      <td>[[-2.0187273, -0.39131984, -1.8792263, 0.04263...</td>\n",
              "    </tr>\n",
              "  </tbody>\n",
              "</table>\n",
              "<p>40478 rows × 5 columns</p>\n",
              "</div>"
            ],
            "text/plain": [
              "                                    discharge diagnosis:  ...                                        text_vector\n",
              "0      osteomyelitis bleeding duodenal ulcer heart fa...  ...  [[-0.5143622, -2.4778473, -1.7579305, -3.59031...\n",
              "1                  r subdural hematoma, right mca stroke  ...  [[-1.167836, -1.2357243, -0.3562687, 0.3550909...\n",
              "2      type a aortic dissection s/p replacement of as...  ...  [[-0.9861356, 0.22980636, 1.6956147, 0.1902928...\n",
              "3      primary diagnosis s/p pedestrian struck by car...  ...  [[-2.0187273, -1.7896893, 0.19029288, -0.09216...\n",
              "4      atrial fibrillation with rapid ventricular res...  ...  [[-2.551801, 0.17634687, -1.7877394, -0.334953...\n",
              "...                                                  ...  ...                                                ...\n",
              "40473  s/p motor vehicle crash injuries: multiple lef...  ...  [[0.19029288, 0.7933673, 0.7374813, 0.24634093...\n",
              "40474  1. rectal cancer. 2. status post proctocolecto...  ...  [[-0.3615369, -0.7157543, -1.8456633, -0.53597...\n",
              "40475  junctional bradycardia chronic diastolic conge...  ...  [[-0.37994704, -0.6421765, -1.2401546, -0.5545...\n",
              "40476  deceased. gastrointestinal stromal tumor. fulm...  ...  [[-0.09104318, -1.0635493, -0.122941054, -0.26...\n",
              "40477  primary: legionella pneumonia left pleural eff...  ...  [[-2.0187273, -0.39131984, -1.8792263, 0.04263...\n",
              "\n",
              "[40478 rows x 5 columns]"
            ]
          },
          "metadata": {
            "tags": []
          },
          "execution_count": 73
        }
      ]
    },
    {
      "cell_type": "code",
      "metadata": {
        "id": "acam58JnU1Wv"
      },
      "source": [
        "class rnndataset(Dataset):\n",
        "  def __init__(self):\n",
        "    self.nsamples=diagnosis_rnn.shape[0]  \n",
        "\n",
        "  def __getitem__(self,index):\n",
        "    x=torch.from_numpy(diagnosis_rnn.iloc[index,4])\n",
        "    x=x.permute(1,0)\n",
        "    y=torch.from_numpy(diagnosis_rnn.iloc[index,3])\n",
        "    return x,y\n",
        "\n",
        "  def __len__(self):\n",
        "    return self.nsamples"
      ],
      "execution_count": null,
      "outputs": []
    },
    {
      "cell_type": "code",
      "metadata": {
        "id": "dxnSOnXIVxuy"
      },
      "source": [
        "dataset_rnn=rnndataset()"
      ],
      "execution_count": null,
      "outputs": []
    },
    {
      "cell_type": "code",
      "metadata": {
        "colab": {
          "base_uri": "https://localhost:8080/"
        },
        "id": "Wcu1OLfdWLAD",
        "outputId": "12188199-9cbd-4a96-96a4-af21067c95b7"
      },
      "source": [
        "x,y=dataset_rnn[0]\n",
        "print(x.shape,y.shape)"
      ],
      "execution_count": null,
      "outputs": [
        {
          "output_type": "stream",
          "text": [
            "torch.Size([30, 100]) torch.Size([10])\n"
          ],
          "name": "stdout"
        }
      ]
    },
    {
      "cell_type": "code",
      "metadata": {
        "id": "wfpqsEMADn6p"
      },
      "source": [
        "def split_indices(n,fraction_train):\r\n",
        "  n_train=int(n*fraction_train)\r\n",
        "  n_remain=n-n_train\r\n",
        "  idxs=np.random.permutation(n)\r\n",
        "  n_test=int(n_remain/3)\r\n",
        "  return idxs[:n_train],idxs[n_train:n_train+n_test],idxs[n_train+n_test:n_train+n_test*2],idxs[n_train+n_test*2:]\r\n"
      ],
      "execution_count": null,
      "outputs": []
    },
    {
      "cell_type": "code",
      "metadata": {
        "id": "LQ5y5dxsDwzT"
      },
      "source": [
        "train_indices,test1_indices,test2_indices,test3_indices=split_indices(len(dataset_rnn),0.5)"
      ],
      "execution_count": null,
      "outputs": []
    },
    {
      "cell_type": "code",
      "metadata": {
        "id": "KAHu9ZlrD7YB"
      },
      "source": [
        "batch_size=128\r\n",
        "train_sampler=SubsetRandomSampler(train_indices)"
      ],
      "execution_count": null,
      "outputs": []
    },
    {
      "cell_type": "code",
      "metadata": {
        "id": "FBUPBepaWe8e"
      },
      "source": [
        "rnn_train_loader=DataLoader(dataset_rnn,batch_size,sampler=train_sampler)"
      ],
      "execution_count": null,
      "outputs": []
    },
    {
      "cell_type": "code",
      "metadata": {
        "id": "xrT4lLOnuyR0"
      },
      "source": [
        "# class wordBiRNN(nn.Module):\n",
        "#   def __init__(self, input_size, hidden_size, num_layers, num_classes):\n",
        "#         super(BiRNN, self).__init__()\n",
        "#         self.hidden_size = hidden_size\n",
        "#         self.num_layers = num_layers\n",
        "\n",
        "#         # layers of nn\n",
        "#         self.lstm = nn.LSTM(input_size, hidden_size, num_layers, batch_first=True, bidirectional=True)\n",
        "\n",
        "#         self.fc = nn.Linear(hidden_size*2, num_classes)  \n",
        "             \n",
        "#         # activation\n",
        "#         self.act = nn.Sigmoid()\n",
        "\n",
        "\n",
        "#         def forward(self, x):\n",
        "#           h0 = torch.zeros(self.num_layers*2, x.size(0), self.hidden_size)\n",
        "#           c0 = torch.zeros(self.num_layers*2, x.size(0), self.hidden_size)\n",
        "      \n",
        "#           # Forward propagate LSTM\n",
        "#           out, _ = self.lstm(x, (h0, c0))  \n",
        "#           out = self.fc(out[:, -1, :])\n",
        "\n",
        "#           out=self.act(out)\n",
        "#           return out\n",
        "          \n",
        "    \n",
        "       \n",
        "        "
      ],
      "execution_count": null,
      "outputs": []
    },
    {
      "cell_type": "code",
      "metadata": {
        "id": "4zxqMy2FQutz"
      },
      "source": [
        "class wordRNN(nn.Module):\n",
        "  def __init__(self,input_size,hidden_size,num_layers,num_classes=10):\n",
        "    super().__init__()\n",
        "    self.num_layers=num_layers\n",
        "    self.hidden_size=hidden_size\n",
        "    self.rnn = nn.RNN(input_size,hidden_size,num_layers,batch_first=True)\n",
        "    #x-->(batch_size,seq,input_size)\n",
        "    self.fc=nn.Linear(hidden_size,num_classes)\n",
        "    self.act=nn.Sigmoid()\n",
        "\n",
        "  def forward(self,x):\n",
        "    h0=torch.zeros(self.num_layers,x.size(0),self.hidden_size).to(device)\n",
        "\n",
        "    out,_=self.rnn(x,h0)\n",
        "    #batch_size,seq_length,hidden_size\n",
        "    out=out[:,-1,:]\n",
        "    out=self.fc(out)\n",
        "    out=self.act(out)\n",
        "    return out\n"
      ],
      "execution_count": null,
      "outputs": []
    },
    {
      "cell_type": "code",
      "metadata": {
        "id": "XsNpYmDoEO8c"
      },
      "source": [
        "# #model = wordBiRNN(input_size, hidden_size, num_layers, num_classes)\n",
        "\n",
        "\n",
        "# # Loss and optimizer\n",
        "# criterion = nn.BCELoss()\n",
        "# optimizer = torch.optim.sgd(model.parameters(), lr=learning_rate)"
      ],
      "execution_count": null,
      "outputs": []
    },
    {
      "cell_type": "code",
      "metadata": {
        "id": "daMal111X_O_"
      },
      "source": [
        "input_size=100\n",
        "hidden_size=100\n",
        "num_layers=2"
      ],
      "execution_count": null,
      "outputs": []
    },
    {
      "cell_type": "code",
      "metadata": {
        "id": "6z8t0WiEXCA_"
      },
      "source": [
        "rnnmodel=wordRNN(input_size,hidden_size,num_layers).to(device)"
      ],
      "execution_count": null,
      "outputs": []
    },
    {
      "cell_type": "code",
      "metadata": {
        "id": "lKNb03bDFEfW"
      },
      "source": [
        "def multi_acc(y_pred, y_test,threshold=0.5):\r\n",
        "  num_classes=y_pred.shape[1]\r\n",
        "  y_pred_tags = (y_pred>0.5).float()\r\n",
        "\r\n",
        "  correct_pred = (y_pred_tags == y_test).float()\r\n",
        "  accuracy = (correct_pred.sum(dim=1) == num_classes).float().sum() / len(correct_pred)\r\n",
        "  return accuracy"
      ],
      "execution_count": null,
      "outputs": []
    },
    {
      "cell_type": "code",
      "metadata": {
        "id": "78ukaY1FFM4G"
      },
      "source": [
        "def fit(epochs,model,train_loader,opt_fn,loss_fn):\r\n",
        "\r\n",
        "  for epoch in range(1,epochs+1):\r\n",
        "\r\n",
        "    train_epoch_loss=0\r\n",
        "    train_epoch_accuracy=0\r\n",
        "\r\n",
        "    for x,y in train_loader:\r\n",
        "\r\n",
        "      x=x.to(device)\r\n",
        "      y=y.to(device)\r\n",
        "\r\n",
        "      opt_fn.zero_grad()\r\n",
        "\r\n",
        "      preds=model(x)\r\n",
        "\r\n",
        "      \r\n",
        "\r\n",
        "      loss=loss_fn(preds,y)\r\n",
        "      accuracy= multi_acc(preds,y)\r\n",
        "\r\n",
        "      loss.backward()\r\n",
        "      opt_fn.step()\r\n",
        "      \r\n",
        "\r\n",
        "      train_epoch_loss+=loss.item()\r\n",
        "      train_epoch_accuracy+=accuracy.item()\r\n",
        "      \r\n",
        "\r\n",
        "    if epoch%5==0:\r\n",
        "      print('Epoch = {}/{}, loss = {:.4f}, accuracy = {:.4f}'.format(epoch\r\n",
        "                                                               ,epochs\r\n",
        "                                                               ,train_epoch_loss/len(train_loader)\r\n",
        "                                                               ,train_epoch_accuracy/len(train_loader)\r\n",
        "                                                               ))\r\n",
        "    "
      ],
      "execution_count": null,
      "outputs": []
    },
    {
      "cell_type": "code",
      "metadata": {
        "id": "8l_0Ok4LFk8W"
      },
      "source": [
        "learning_rate=1e-3\r\n",
        "loss_fn=nn.BCELoss()\r\n",
        "opt_fn=torch.optim.Adam(rnnmodel.parameters(), lr=learning_rate)\r\n"
      ],
      "execution_count": null,
      "outputs": []
    },
    {
      "cell_type": "code",
      "metadata": {
        "colab": {
          "base_uri": "https://localhost:8080/"
        },
        "id": "GHnMAOg7XByi",
        "outputId": "b682dd11-284f-44ae-f062-edcfc104e5c9"
      },
      "source": [
        "rnnmodel.train()\n",
        "fit(300,rnnmodel,rnn_train_loader,opt_fn,loss_fn)"
      ],
      "execution_count": null,
      "outputs": [
        {
          "output_type": "stream",
          "text": [
            "Epoch = 5/300, loss = 0.5885, accuracy = 0.1437\n",
            "Epoch = 10/300, loss = 0.5831, accuracy = 0.1417\n",
            "Epoch = 15/300, loss = 0.5756, accuracy = 0.1424\n",
            "Epoch = 20/300, loss = 0.5643, accuracy = 0.1452\n",
            "Epoch = 25/300, loss = 0.5519, accuracy = 0.1505\n",
            "Epoch = 30/300, loss = 0.5367, accuracy = 0.1579\n",
            "Epoch = 35/300, loss = 0.5236, accuracy = 0.1680\n",
            "Epoch = 40/300, loss = 0.5116, accuracy = 0.1714\n",
            "Epoch = 45/300, loss = 0.5016, accuracy = 0.1795\n",
            "Epoch = 50/300, loss = 0.4947, accuracy = 0.1813\n",
            "Epoch = 55/300, loss = 0.4927, accuracy = 0.1837\n",
            "Epoch = 60/300, loss = 0.4815, accuracy = 0.1893\n",
            "Epoch = 65/300, loss = 0.4737, accuracy = 0.1974\n",
            "Epoch = 70/300, loss = 0.4692, accuracy = 0.2016\n",
            "Epoch = 75/300, loss = 0.4699, accuracy = 0.1955\n",
            "Epoch = 80/300, loss = 0.4586, accuracy = 0.2076\n",
            "Epoch = 85/300, loss = 0.4565, accuracy = 0.2069\n",
            "Epoch = 90/300, loss = 0.4512, accuracy = 0.2075\n",
            "Epoch = 95/300, loss = 0.4484, accuracy = 0.2084\n",
            "Epoch = 100/300, loss = 0.4469, accuracy = 0.2096\n",
            "Epoch = 105/300, loss = 0.4448, accuracy = 0.2148\n",
            "Epoch = 110/300, loss = 0.4392, accuracy = 0.2176\n",
            "Epoch = 115/300, loss = 0.4384, accuracy = 0.2175\n",
            "Epoch = 120/300, loss = 0.4356, accuracy = 0.2199\n",
            "Epoch = 125/300, loss = 0.4335, accuracy = 0.2210\n",
            "Epoch = 130/300, loss = 0.4338, accuracy = 0.2204\n",
            "Epoch = 135/300, loss = 0.4283, accuracy = 0.2249\n",
            "Epoch = 140/300, loss = 0.4298, accuracy = 0.2249\n",
            "Epoch = 145/300, loss = 0.4272, accuracy = 0.2237\n",
            "Epoch = 150/300, loss = 0.4273, accuracy = 0.2238\n",
            "Epoch = 155/300, loss = 0.4244, accuracy = 0.2302\n",
            "Epoch = 160/300, loss = 0.4212, accuracy = 0.2291\n",
            "Epoch = 165/300, loss = 0.4198, accuracy = 0.2309\n",
            "Epoch = 170/300, loss = 0.4218, accuracy = 0.2276\n",
            "Epoch = 175/300, loss = 0.4208, accuracy = 0.2279\n",
            "Epoch = 180/300, loss = 0.4196, accuracy = 0.2295\n",
            "Epoch = 185/300, loss = 0.4169, accuracy = 0.2348\n",
            "Epoch = 190/300, loss = 0.4161, accuracy = 0.2331\n",
            "Epoch = 195/300, loss = 0.4171, accuracy = 0.2330\n",
            "Epoch = 200/300, loss = 0.4137, accuracy = 0.2334\n",
            "Epoch = 205/300, loss = 0.4122, accuracy = 0.2408\n",
            "Epoch = 210/300, loss = 0.4099, accuracy = 0.2422\n",
            "Epoch = 215/300, loss = 0.4098, accuracy = 0.2382\n",
            "Epoch = 220/300, loss = 0.4109, accuracy = 0.2390\n",
            "Epoch = 225/300, loss = 0.4081, accuracy = 0.2398\n",
            "Epoch = 230/300, loss = 0.4079, accuracy = 0.2408\n",
            "Epoch = 235/300, loss = 0.4094, accuracy = 0.2397\n",
            "Epoch = 240/300, loss = 0.4057, accuracy = 0.2448\n",
            "Epoch = 245/300, loss = 0.4075, accuracy = 0.2406\n",
            "Epoch = 250/300, loss = 0.4049, accuracy = 0.2419\n",
            "Epoch = 255/300, loss = 0.4078, accuracy = 0.2430\n",
            "Epoch = 260/300, loss = 0.4052, accuracy = 0.2429\n",
            "Epoch = 265/300, loss = 0.4069, accuracy = 0.2435\n",
            "Epoch = 270/300, loss = 0.4030, accuracy = 0.2457\n",
            "Epoch = 275/300, loss = 0.4019, accuracy = 0.2482\n",
            "Epoch = 280/300, loss = 0.4001, accuracy = 0.2514\n",
            "Epoch = 285/300, loss = 0.4074, accuracy = 0.2407\n",
            "Epoch = 290/300, loss = 0.4036, accuracy = 0.2408\n",
            "Epoch = 295/300, loss = 0.4010, accuracy = 0.2492\n",
            "Epoch = 300/300, loss = 0.4024, accuracy = 0.2471\n"
          ],
          "name": "stdout"
        }
      ]
    },
    {
      "cell_type": "code",
      "metadata": {
        "id": "1xDPgRQ-EcpI"
      },
      "source": [
        "rnn_test1_loader=DataLoader(dataset_rnn,batch_size,sampler=test1_sampler)"
      ],
      "execution_count": null,
      "outputs": []
    },
    {
      "cell_type": "code",
      "metadata": {
        "id": "hCq82SiRZQ6q"
      },
      "source": [
        "rnnmodel.eval()\n",
        "with torch.no_grad():\n",
        "  model_result = []\n",
        "  targets = []\n",
        "  for x_test, batch_targets in rnn_test1_loader:\n",
        "    x_test = x_test.to(device)\n",
        "    model_batch_result = rnnmodel(x_test)\n",
        "    model_result.extend(model_batch_result.cpu().numpy())\n",
        "    targets.extend(batch_targets.cpu().numpy())\n",
        "    result = calculate_metrics(np.array(model_result), np.array(targets))\n",
        "    print(\"micro f1: {:.3f} macro f1: {:.3f} samples f1: {:.3f}\".format(result['micro/f1'],result['macro/f1'],result['samples/f1']))"
      ],
      "execution_count": null,
      "outputs": []
    },
    {
      "cell_type": "code",
      "metadata": {
        "id": "7SNN7aopZyqQ"
      },
      "source": [
        ""
      ],
      "execution_count": null,
      "outputs": []
    }
  ]
}