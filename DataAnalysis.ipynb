{
  "nbformat": 4,
  "nbformat_minor": 0,
  "metadata": {
    "colab": {
      "name": "DataAnalysis.ipynb",
      "provenance": [],
      "collapsed_sections": [],
      "toc_visible": true,
      "authorship_tag": "ABX9TyNN465mn3zSsmGsiABj4+W2",
      "include_colab_link": true
    },
    "kernelspec": {
      "name": "python3",
      "display_name": "Python 3"
    }
  },
  "cells": [
    {
      "cell_type": "markdown",
      "metadata": {
        "id": "view-in-github",
        "colab_type": "text"
      },
      "source": [
        "<a href=\"https://colab.research.google.com/github/samantamrityunjay/ICDcoding/blob/master/DataAnalysis.ipynb\" target=\"_parent\"><img src=\"https://colab.research.google.com/assets/colab-badge.svg\" alt=\"Open In Colab\"/></a>"
      ]
    },
    {
      "cell_type": "code",
      "metadata": {
        "id": "w8zt4RraA_Jr"
      },
      "source": [
        "import pandas as pd\n",
        "import numpy as np\n",
        "from collections import Counter\n",
        "from ast import literal_eval\n",
        "import re\n",
        "import matplotlib.pyplot as plt\n",
        "%matplotlib inline"
      ],
      "execution_count": 1,
      "outputs": []
    },
    {
      "cell_type": "markdown",
      "metadata": {
        "id": "b0a_ZMRROqnl"
      },
      "source": [
        "Code to mount google drive\n"
      ]
    },
    {
      "cell_type": "code",
      "metadata": {
        "id": "Eyd4cPS9Ivj6",
        "colab": {
          "base_uri": "https://localhost:8080/"
        },
        "outputId": "3f55ba88-d14d-4642-fecf-fd07331fff71"
      },
      "source": [
        "from google.colab import drive\n",
        "drive.mount('/content/drive')"
      ],
      "execution_count": 2,
      "outputs": [
        {
          "output_type": "stream",
          "text": [
            "Mounted at /content/drive\n"
          ],
          "name": "stdout"
        }
      ]
    },
    {
      "cell_type": "markdown",
      "metadata": {
        "id": "O8a4-k_8yGdn"
      },
      "source": [
        "# All MIMIC III"
      ]
    },
    {
      "cell_type": "markdown",
      "metadata": {
        "id": "TL5cN7P3PLCd"
      },
      "source": [
        "<h3> Tables 'adm_icd' and 'diagnoses_icd'\n",
        "<p>'adm_icd' contains all the Admission Ids of the MIMIC database. <br>\n",
        "There are total <strong><u>58976</u></strong> admisssion ids.</p>\n",
        " <p>Out of which <strong><u>47</u></strong>  do not have any ICD9 codes corresponding to them (NaN values). So we have total of <strong><u>58929</u></strong> in this table with correponding ICD9 codes and converted ICD10 codes.\n",
        " <p>There are <strong><u>6984</u></strong>unique ICD9 codes and <strong><u>942</u></strong> ICD9 categories."
      ]
    },
    {
      "cell_type": "code",
      "metadata": {
        "id": "xnGCb48uIAG1"
      },
      "source": [
        "allmimic=pd.read_csv('/content/drive/My Drive/AlgoIntern/Data/DIAGNOSES_ICD.csv')"
      ],
      "execution_count": null,
      "outputs": []
    },
    {
      "cell_type": "code",
      "metadata": {
        "id": "YW7VnAIgKitR",
        "colab": {
          "base_uri": "https://localhost:8080/",
          "height": 419
        },
        "outputId": "b44d4fb3-d741-4635-ea37-bcbca95ee94f"
      },
      "source": [
        "allmimic"
      ],
      "execution_count": null,
      "outputs": [
        {
          "output_type": "execute_result",
          "data": {
            "text/html": [
              "<div>\n",
              "<style scoped>\n",
              "    .dataframe tbody tr th:only-of-type {\n",
              "        vertical-align: middle;\n",
              "    }\n",
              "\n",
              "    .dataframe tbody tr th {\n",
              "        vertical-align: top;\n",
              "    }\n",
              "\n",
              "    .dataframe thead th {\n",
              "        text-align: right;\n",
              "    }\n",
              "</style>\n",
              "<table border=\"1\" class=\"dataframe\">\n",
              "  <thead>\n",
              "    <tr style=\"text-align: right;\">\n",
              "      <th></th>\n",
              "      <th>ROW_ID</th>\n",
              "      <th>SUBJECT_ID</th>\n",
              "      <th>HADM_ID</th>\n",
              "      <th>SEQ_NUM</th>\n",
              "      <th>ICD9_CODE</th>\n",
              "    </tr>\n",
              "  </thead>\n",
              "  <tbody>\n",
              "    <tr>\n",
              "      <th>0</th>\n",
              "      <td>1297</td>\n",
              "      <td>109</td>\n",
              "      <td>172335</td>\n",
              "      <td>1.0</td>\n",
              "      <td>40301</td>\n",
              "    </tr>\n",
              "    <tr>\n",
              "      <th>1</th>\n",
              "      <td>1298</td>\n",
              "      <td>109</td>\n",
              "      <td>172335</td>\n",
              "      <td>2.0</td>\n",
              "      <td>486</td>\n",
              "    </tr>\n",
              "    <tr>\n",
              "      <th>2</th>\n",
              "      <td>1299</td>\n",
              "      <td>109</td>\n",
              "      <td>172335</td>\n",
              "      <td>3.0</td>\n",
              "      <td>58281</td>\n",
              "    </tr>\n",
              "    <tr>\n",
              "      <th>3</th>\n",
              "      <td>1300</td>\n",
              "      <td>109</td>\n",
              "      <td>172335</td>\n",
              "      <td>4.0</td>\n",
              "      <td>5855</td>\n",
              "    </tr>\n",
              "    <tr>\n",
              "      <th>4</th>\n",
              "      <td>1301</td>\n",
              "      <td>109</td>\n",
              "      <td>172335</td>\n",
              "      <td>5.0</td>\n",
              "      <td>4254</td>\n",
              "    </tr>\n",
              "    <tr>\n",
              "      <th>...</th>\n",
              "      <td>...</td>\n",
              "      <td>...</td>\n",
              "      <td>...</td>\n",
              "      <td>...</td>\n",
              "      <td>...</td>\n",
              "    </tr>\n",
              "    <tr>\n",
              "      <th>651042</th>\n",
              "      <td>639798</td>\n",
              "      <td>97503</td>\n",
              "      <td>188195</td>\n",
              "      <td>2.0</td>\n",
              "      <td>20280</td>\n",
              "    </tr>\n",
              "    <tr>\n",
              "      <th>651043</th>\n",
              "      <td>639799</td>\n",
              "      <td>97503</td>\n",
              "      <td>188195</td>\n",
              "      <td>3.0</td>\n",
              "      <td>V5869</td>\n",
              "    </tr>\n",
              "    <tr>\n",
              "      <th>651044</th>\n",
              "      <td>639800</td>\n",
              "      <td>97503</td>\n",
              "      <td>188195</td>\n",
              "      <td>4.0</td>\n",
              "      <td>V1279</td>\n",
              "    </tr>\n",
              "    <tr>\n",
              "      <th>651045</th>\n",
              "      <td>639801</td>\n",
              "      <td>97503</td>\n",
              "      <td>188195</td>\n",
              "      <td>5.0</td>\n",
              "      <td>5275</td>\n",
              "    </tr>\n",
              "    <tr>\n",
              "      <th>651046</th>\n",
              "      <td>639802</td>\n",
              "      <td>97503</td>\n",
              "      <td>188195</td>\n",
              "      <td>6.0</td>\n",
              "      <td>5569</td>\n",
              "    </tr>\n",
              "  </tbody>\n",
              "</table>\n",
              "<p>651047 rows × 5 columns</p>\n",
              "</div>"
            ],
            "text/plain": [
              "        ROW_ID  SUBJECT_ID  HADM_ID  SEQ_NUM ICD9_CODE\n",
              "0         1297         109   172335      1.0     40301\n",
              "1         1298         109   172335      2.0       486\n",
              "2         1299         109   172335      3.0     58281\n",
              "3         1300         109   172335      4.0      5855\n",
              "4         1301         109   172335      5.0      4254\n",
              "...        ...         ...      ...      ...       ...\n",
              "651042  639798       97503   188195      2.0     20280\n",
              "651043  639799       97503   188195      3.0     V5869\n",
              "651044  639800       97503   188195      4.0     V1279\n",
              "651045  639801       97503   188195      5.0      5275\n",
              "651046  639802       97503   188195      6.0      5569\n",
              "\n",
              "[651047 rows x 5 columns]"
            ]
          },
          "metadata": {
            "tags": []
          },
          "execution_count": 4
        }
      ]
    },
    {
      "cell_type": "code",
      "metadata": {
        "colab": {
          "base_uri": "https://localhost:8080/"
        },
        "id": "fiahWapptNvw",
        "outputId": "8df501a1-8890-4677-f05b-1b1af8409961"
      },
      "source": [
        "# unique admission records\r\n",
        "allmimic.HADM_ID.nunique()"
      ],
      "execution_count": null,
      "outputs": [
        {
          "output_type": "execute_result",
          "data": {
            "text/plain": [
              "58976"
            ]
          },
          "metadata": {
            "tags": []
          },
          "execution_count": 5
        }
      ]
    },
    {
      "cell_type": "code",
      "metadata": {
        "colab": {
          "base_uri": "https://localhost:8080/"
        },
        "id": "3UT3uB29t2hT",
        "outputId": "213f6e42-be78-4b45-944c-e021f7595882"
      },
      "source": [
        "# number of unique ICD9 codes\r\n",
        "allmimic.ICD9_CODE.nunique()"
      ],
      "execution_count": null,
      "outputs": [
        {
          "output_type": "execute_result",
          "data": {
            "text/plain": [
              "6984"
            ]
          },
          "metadata": {
            "tags": []
          },
          "execution_count": 6
        }
      ]
    },
    {
      "cell_type": "code",
      "metadata": {
        "colab": {
          "base_uri": "https://localhost:8080/"
        },
        "id": "63UVlswNzoqi",
        "outputId": "3525c696-03fa-4aa7-c747-7df5b624bd72"
      },
      "source": [
        "# number of unique patients\r\n",
        "allmimic.SUBJECT_ID.nunique()"
      ],
      "execution_count": null,
      "outputs": [
        {
          "output_type": "execute_result",
          "data": {
            "text/plain": [
              "46520"
            ]
          },
          "metadata": {
            "tags": []
          },
          "execution_count": 7
        }
      ]
    },
    {
      "cell_type": "code",
      "metadata": {
        "colab": {
          "base_uri": "https://localhost:8080/"
        },
        "id": "CvW3WimBz-De",
        "outputId": "f9f46b6c-9afd-4f68-ab4d-77fb188d23ce"
      },
      "source": [
        "# finding if there is null HADM_ID or not \r\n",
        "allmimic.loc[allmimic.HADM_ID.isna()].HADM_ID"
      ],
      "execution_count": null,
      "outputs": [
        {
          "output_type": "execute_result",
          "data": {
            "text/plain": [
              "Series([], Name: HADM_ID, dtype: int64)"
            ]
          },
          "metadata": {
            "tags": []
          },
          "execution_count": 8
        }
      ]
    },
    {
      "cell_type": "code",
      "metadata": {
        "colab": {
          "base_uri": "https://localhost:8080/"
        },
        "id": "EArf5y7J1gpx",
        "outputId": "61890077-f931-4ce1-cbad-fcf4f90d4293"
      },
      "source": [
        "# finding if there is null ICD9 code or not\r\n",
        "allmimic.loc[allmimic.ICD9_CODE.isna()].HADM_ID.count()"
      ],
      "execution_count": null,
      "outputs": [
        {
          "output_type": "execute_result",
          "data": {
            "text/plain": [
              "47"
            ]
          },
          "metadata": {
            "tags": []
          },
          "execution_count": 9
        }
      ]
    },
    {
      "cell_type": "code",
      "metadata": {
        "id": "j2ykd0HTI-_u"
      },
      "source": [
        "# all admids that do not have icd9code with them\r\n",
        "admids_without_icd9code=allmimic.loc[allmimic.ICD9_CODE.isna()].HADM_ID.to_list()"
      ],
      "execution_count": null,
      "outputs": []
    },
    {
      "cell_type": "code",
      "metadata": {
        "colab": {
          "base_uri": "https://localhost:8080/"
        },
        "id": "KGm5dIJ6JGWp",
        "outputId": "5588d5ed-947b-49d6-f6b4-26e6aa0d7c1d"
      },
      "source": [
        "print(len(admids_without_icd9code))\r\n",
        "print(admids_without_icd9code)"
      ],
      "execution_count": null,
      "outputs": [
        {
          "output_type": "stream",
          "text": [
            "47\n",
            "[102633, 174817, 177274, 135580, 126808, 159800, 170307, 111608, 116945, 184025, 171183, 108282, 188023, 123220, 129620, 113170, 154602, 148742, 190435, 160049, 110220, 102096, 176570, 199739, 186323, 196087, 144751, 142890, 140889, 194017, 119146, 186175, 163059, 105970, 152077, 166997, 109963, 152368, 182322, 196643, 104588, 154166, 173766, 153208, 182252, 110368, 112990]\n"
          ],
          "name": "stdout"
        }
      ]
    },
    {
      "cell_type": "markdown",
      "metadata": {
        "id": "hKeJKGDyAWuF"
      },
      "source": [
        "To have toplevel category (ICD9 category) from ICD9 code following conversion is required:\r\n",
        "> \"The code field for the ICD-9-CM Principal and Other Diagnosis Codes is six characters in length, with the decimal point implied between the third and fourth digit for all diagnosis codes other than the V codes. The decimal is implied for V codes between the second and third digit.\" [LINK](https://mimic.physionet.org/mimictables/diagnoses_icd/)\r\n"
      ]
    },
    {
      "cell_type": "code",
      "metadata": {
        "id": "8UuQ-wH2VvTt"
      },
      "source": [
        "# convering ICD9code to ICD9 category\n",
        "def icd9category(x):\n",
        "  \"\"\"\n",
        "   This function takes ICD9 CODE and extracts\n",
        "   the ICD9 CATEGORY\n",
        "  \"\"\"\n",
        "\n",
        "  if type(x)==str:\n",
        "    return re.split(\"(\\d{3}|V\\d{2}|E\\d{3})\",x)[1]\n",
        "  else:\n",
        "    return None"
      ],
      "execution_count": null,
      "outputs": []
    },
    {
      "cell_type": "code",
      "metadata": {
        "colab": {
          "base_uri": "https://localhost:8080/",
          "height": 35
        },
        "id": "kEbKOwb74BHe",
        "outputId": "5eaf3d8b-3720-4b8f-9a54-99f3d601af48"
      },
      "source": [
        "# Testing the function\r\n",
        "icd9category('84589')"
      ],
      "execution_count": null,
      "outputs": [
        {
          "output_type": "execute_result",
          "data": {
            "application/vnd.google.colaboratory.intrinsic+json": {
              "type": "string"
            },
            "text/plain": [
              "'845'"
            ]
          },
          "metadata": {
            "tags": []
          },
          "execution_count": 13
        }
      ]
    },
    {
      "cell_type": "code",
      "metadata": {
        "id": "3N_5vAl3XR8B"
      },
      "source": [
        "allmimic['ICD9_CATEGORY']=allmimic.ICD9_CODE.apply(icd9category)"
      ],
      "execution_count": null,
      "outputs": []
    },
    {
      "cell_type": "code",
      "metadata": {
        "colab": {
          "base_uri": "https://localhost:8080/",
          "height": 419
        },
        "id": "G2zJx0GoM8IY",
        "outputId": "c6e41851-4fb7-4d77-cf73-e7ae2f76abad"
      },
      "source": [
        "allmimic"
      ],
      "execution_count": null,
      "outputs": [
        {
          "output_type": "execute_result",
          "data": {
            "text/html": [
              "<div>\n",
              "<style scoped>\n",
              "    .dataframe tbody tr th:only-of-type {\n",
              "        vertical-align: middle;\n",
              "    }\n",
              "\n",
              "    .dataframe tbody tr th {\n",
              "        vertical-align: top;\n",
              "    }\n",
              "\n",
              "    .dataframe thead th {\n",
              "        text-align: right;\n",
              "    }\n",
              "</style>\n",
              "<table border=\"1\" class=\"dataframe\">\n",
              "  <thead>\n",
              "    <tr style=\"text-align: right;\">\n",
              "      <th></th>\n",
              "      <th>ROW_ID</th>\n",
              "      <th>SUBJECT_ID</th>\n",
              "      <th>HADM_ID</th>\n",
              "      <th>SEQ_NUM</th>\n",
              "      <th>ICD9_CODE</th>\n",
              "      <th>ICD9_CATEGORY</th>\n",
              "    </tr>\n",
              "  </thead>\n",
              "  <tbody>\n",
              "    <tr>\n",
              "      <th>0</th>\n",
              "      <td>1297</td>\n",
              "      <td>109</td>\n",
              "      <td>172335</td>\n",
              "      <td>1.0</td>\n",
              "      <td>40301</td>\n",
              "      <td>403</td>\n",
              "    </tr>\n",
              "    <tr>\n",
              "      <th>1</th>\n",
              "      <td>1298</td>\n",
              "      <td>109</td>\n",
              "      <td>172335</td>\n",
              "      <td>2.0</td>\n",
              "      <td>486</td>\n",
              "      <td>486</td>\n",
              "    </tr>\n",
              "    <tr>\n",
              "      <th>2</th>\n",
              "      <td>1299</td>\n",
              "      <td>109</td>\n",
              "      <td>172335</td>\n",
              "      <td>3.0</td>\n",
              "      <td>58281</td>\n",
              "      <td>582</td>\n",
              "    </tr>\n",
              "    <tr>\n",
              "      <th>3</th>\n",
              "      <td>1300</td>\n",
              "      <td>109</td>\n",
              "      <td>172335</td>\n",
              "      <td>4.0</td>\n",
              "      <td>5855</td>\n",
              "      <td>585</td>\n",
              "    </tr>\n",
              "    <tr>\n",
              "      <th>4</th>\n",
              "      <td>1301</td>\n",
              "      <td>109</td>\n",
              "      <td>172335</td>\n",
              "      <td>5.0</td>\n",
              "      <td>4254</td>\n",
              "      <td>425</td>\n",
              "    </tr>\n",
              "    <tr>\n",
              "      <th>...</th>\n",
              "      <td>...</td>\n",
              "      <td>...</td>\n",
              "      <td>...</td>\n",
              "      <td>...</td>\n",
              "      <td>...</td>\n",
              "      <td>...</td>\n",
              "    </tr>\n",
              "    <tr>\n",
              "      <th>651042</th>\n",
              "      <td>639798</td>\n",
              "      <td>97503</td>\n",
              "      <td>188195</td>\n",
              "      <td>2.0</td>\n",
              "      <td>20280</td>\n",
              "      <td>202</td>\n",
              "    </tr>\n",
              "    <tr>\n",
              "      <th>651043</th>\n",
              "      <td>639799</td>\n",
              "      <td>97503</td>\n",
              "      <td>188195</td>\n",
              "      <td>3.0</td>\n",
              "      <td>V5869</td>\n",
              "      <td>V58</td>\n",
              "    </tr>\n",
              "    <tr>\n",
              "      <th>651044</th>\n",
              "      <td>639800</td>\n",
              "      <td>97503</td>\n",
              "      <td>188195</td>\n",
              "      <td>4.0</td>\n",
              "      <td>V1279</td>\n",
              "      <td>V12</td>\n",
              "    </tr>\n",
              "    <tr>\n",
              "      <th>651045</th>\n",
              "      <td>639801</td>\n",
              "      <td>97503</td>\n",
              "      <td>188195</td>\n",
              "      <td>5.0</td>\n",
              "      <td>5275</td>\n",
              "      <td>527</td>\n",
              "    </tr>\n",
              "    <tr>\n",
              "      <th>651046</th>\n",
              "      <td>639802</td>\n",
              "      <td>97503</td>\n",
              "      <td>188195</td>\n",
              "      <td>6.0</td>\n",
              "      <td>5569</td>\n",
              "      <td>556</td>\n",
              "    </tr>\n",
              "  </tbody>\n",
              "</table>\n",
              "<p>651047 rows × 6 columns</p>\n",
              "</div>"
            ],
            "text/plain": [
              "        ROW_ID  SUBJECT_ID  HADM_ID  SEQ_NUM ICD9_CODE ICD9_CATEGORY\n",
              "0         1297         109   172335      1.0     40301           403\n",
              "1         1298         109   172335      2.0       486           486\n",
              "2         1299         109   172335      3.0     58281           582\n",
              "3         1300         109   172335      4.0      5855           585\n",
              "4         1301         109   172335      5.0      4254           425\n",
              "...        ...         ...      ...      ...       ...           ...\n",
              "651042  639798       97503   188195      2.0     20280           202\n",
              "651043  639799       97503   188195      3.0     V5869           V58\n",
              "651044  639800       97503   188195      4.0     V1279           V12\n",
              "651045  639801       97503   188195      5.0      5275           527\n",
              "651046  639802       97503   188195      6.0      5569           556\n",
              "\n",
              "[651047 rows x 6 columns]"
            ]
          },
          "metadata": {
            "tags": []
          },
          "execution_count": 15
        }
      ]
    },
    {
      "cell_type": "code",
      "metadata": {
        "colab": {
          "base_uri": "https://localhost:8080/",
          "height": 419
        },
        "id": "NUK9VIYYCaQ2",
        "outputId": "9c2ee03a-2ee9-4a6d-84d9-cdb23b96748b"
      },
      "source": [
        "# find ICD9 codes starting with E or V\r\n",
        "allmimic.loc[allmimic.ICD9_CODE.str.contains('[VE]\\d*',regex=True,na=False)]"
      ],
      "execution_count": null,
      "outputs": [
        {
          "output_type": "execute_result",
          "data": {
            "text/html": [
              "<div>\n",
              "<style scoped>\n",
              "    .dataframe tbody tr th:only-of-type {\n",
              "        vertical-align: middle;\n",
              "    }\n",
              "\n",
              "    .dataframe tbody tr th {\n",
              "        vertical-align: top;\n",
              "    }\n",
              "\n",
              "    .dataframe thead th {\n",
              "        text-align: right;\n",
              "    }\n",
              "</style>\n",
              "<table border=\"1\" class=\"dataframe\">\n",
              "  <thead>\n",
              "    <tr style=\"text-align: right;\">\n",
              "      <th></th>\n",
              "      <th>ROW_ID</th>\n",
              "      <th>SUBJECT_ID</th>\n",
              "      <th>HADM_ID</th>\n",
              "      <th>SEQ_NUM</th>\n",
              "      <th>ICD9_CODE</th>\n",
              "      <th>ICD9_CATEGORY</th>\n",
              "    </tr>\n",
              "  </thead>\n",
              "  <tbody>\n",
              "    <tr>\n",
              "      <th>27</th>\n",
              "      <td>1324</td>\n",
              "      <td>109</td>\n",
              "      <td>173633</td>\n",
              "      <td>14.0</td>\n",
              "      <td>V4511</td>\n",
              "      <td>V45</td>\n",
              "    </tr>\n",
              "    <tr>\n",
              "      <th>54</th>\n",
              "      <td>1514</td>\n",
              "      <td>115</td>\n",
              "      <td>114585</td>\n",
              "      <td>13.0</td>\n",
              "      <td>V1000</td>\n",
              "      <td>V10</td>\n",
              "    </tr>\n",
              "    <tr>\n",
              "      <th>55</th>\n",
              "      <td>1515</td>\n",
              "      <td>115</td>\n",
              "      <td>114585</td>\n",
              "      <td>14.0</td>\n",
              "      <td>V453</td>\n",
              "      <td>V45</td>\n",
              "    </tr>\n",
              "    <tr>\n",
              "      <th>56</th>\n",
              "      <td>1516</td>\n",
              "      <td>115</td>\n",
              "      <td>114585</td>\n",
              "      <td>15.0</td>\n",
              "      <td>V5865</td>\n",
              "      <td>V58</td>\n",
              "    </tr>\n",
              "    <tr>\n",
              "      <th>59</th>\n",
              "      <td>1519</td>\n",
              "      <td>115</td>\n",
              "      <td>114585</td>\n",
              "      <td>18.0</td>\n",
              "      <td>E9320</td>\n",
              "      <td>E932</td>\n",
              "    </tr>\n",
              "    <tr>\n",
              "      <th>...</th>\n",
              "      <td>...</td>\n",
              "      <td>...</td>\n",
              "      <td>...</td>\n",
              "      <td>...</td>\n",
              "      <td>...</td>\n",
              "      <td>...</td>\n",
              "    </tr>\n",
              "    <tr>\n",
              "      <th>651021</th>\n",
              "      <td>639777</td>\n",
              "      <td>97488</td>\n",
              "      <td>161999</td>\n",
              "      <td>22.0</td>\n",
              "      <td>E8798</td>\n",
              "      <td>E879</td>\n",
              "    </tr>\n",
              "    <tr>\n",
              "      <th>651023</th>\n",
              "      <td>639779</td>\n",
              "      <td>97488</td>\n",
              "      <td>161999</td>\n",
              "      <td>24.0</td>\n",
              "      <td>V4986</td>\n",
              "      <td>V49</td>\n",
              "    </tr>\n",
              "    <tr>\n",
              "      <th>651039</th>\n",
              "      <td>639795</td>\n",
              "      <td>97497</td>\n",
              "      <td>168949</td>\n",
              "      <td>8.0</td>\n",
              "      <td>V5861</td>\n",
              "      <td>V58</td>\n",
              "    </tr>\n",
              "    <tr>\n",
              "      <th>651043</th>\n",
              "      <td>639799</td>\n",
              "      <td>97503</td>\n",
              "      <td>188195</td>\n",
              "      <td>3.0</td>\n",
              "      <td>V5869</td>\n",
              "      <td>V58</td>\n",
              "    </tr>\n",
              "    <tr>\n",
              "      <th>651044</th>\n",
              "      <td>639800</td>\n",
              "      <td>97503</td>\n",
              "      <td>188195</td>\n",
              "      <td>4.0</td>\n",
              "      <td>V1279</td>\n",
              "      <td>V12</td>\n",
              "    </tr>\n",
              "  </tbody>\n",
              "</table>\n",
              "<p>97249 rows × 6 columns</p>\n",
              "</div>"
            ],
            "text/plain": [
              "        ROW_ID  SUBJECT_ID  HADM_ID  SEQ_NUM ICD9_CODE ICD9_CATEGORY\n",
              "27        1324         109   173633     14.0     V4511           V45\n",
              "54        1514         115   114585     13.0     V1000           V10\n",
              "55        1515         115   114585     14.0      V453           V45\n",
              "56        1516         115   114585     15.0     V5865           V58\n",
              "59        1519         115   114585     18.0     E9320          E932\n",
              "...        ...         ...      ...      ...       ...           ...\n",
              "651021  639777       97488   161999     22.0     E8798          E879\n",
              "651023  639779       97488   161999     24.0     V4986           V49\n",
              "651039  639795       97497   168949      8.0     V5861           V58\n",
              "651043  639799       97503   188195      3.0     V5869           V58\n",
              "651044  639800       97503   188195      4.0     V1279           V12\n",
              "\n",
              "[97249 rows x 6 columns]"
            ]
          },
          "metadata": {
            "tags": []
          },
          "execution_count": 16
        }
      ]
    },
    {
      "cell_type": "code",
      "metadata": {
        "colab": {
          "base_uri": "https://localhost:8080/"
        },
        "id": "7VZdTuAu2AhS",
        "outputId": "3b8671b0-3986-447e-d4c7-3b21b1353da2"
      },
      "source": [
        "# finding if there is null ICD9 category or not\r\n",
        "allmimic.loc[allmimic.ICD9_CATEGORY.isna()].HADM_ID.count()"
      ],
      "execution_count": null,
      "outputs": [
        {
          "output_type": "execute_result",
          "data": {
            "text/plain": [
              "47"
            ]
          },
          "metadata": {
            "tags": []
          },
          "execution_count": 17
        }
      ]
    },
    {
      "cell_type": "code",
      "metadata": {
        "id": "iznn8R6oII_i"
      },
      "source": [
        "# admids that do not have ICD9 category \r\n",
        "admids_without_icd9category=allmimic.loc[allmimic.ICD9_CATEGORY.isna()].HADM_ID.to_list()"
      ],
      "execution_count": null,
      "outputs": []
    },
    {
      "cell_type": "code",
      "metadata": {
        "colab": {
          "base_uri": "https://localhost:8080/"
        },
        "id": "04viqqAFItHA",
        "outputId": "ced2a592-974e-4b7d-df52-69e6fe40c207"
      },
      "source": [
        "print(len(admids_without_icd9category))\r\n",
        "print(admids_without_icd9category)"
      ],
      "execution_count": null,
      "outputs": [
        {
          "output_type": "stream",
          "text": [
            "47\n",
            "[102633, 174817, 177274, 135580, 126808, 159800, 170307, 111608, 116945, 184025, 171183, 108282, 188023, 123220, 129620, 113170, 154602, 148742, 190435, 160049, 110220, 102096, 176570, 199739, 186323, 196087, 144751, 142890, 140889, 194017, 119146, 186175, 163059, 105970, 152077, 166997, 109963, 152368, 182322, 196643, 104588, 154166, 173766, 153208, 182252, 110368, 112990]\n"
          ],
          "name": "stdout"
        }
      ]
    },
    {
      "cell_type": "code",
      "metadata": {
        "id": "BKyFZxjVJNNK"
      },
      "source": [
        "# comparing two lists\r\n",
        "compare_two_lists=lambda x,y:Counter(x)==Counter(y)"
      ],
      "execution_count": null,
      "outputs": []
    },
    {
      "cell_type": "code",
      "metadata": {
        "colab": {
          "base_uri": "https://localhost:8080/"
        },
        "id": "UwOFynb8JZ4_",
        "outputId": "ba1d0dca-2c24-4c97-8888-b68aaa6c47a8"
      },
      "source": [
        "# finding if the list of admids without ICD9 code and ICD9 category are the same\r\n",
        "compare_two_lists(admids_without_icd9category,admids_without_icd9code)"
      ],
      "execution_count": null,
      "outputs": [
        {
          "output_type": "execute_result",
          "data": {
            "text/plain": [
              "True"
            ]
          },
          "metadata": {
            "tags": []
          },
          "execution_count": 21
        }
      ]
    },
    {
      "cell_type": "code",
      "metadata": {
        "colab": {
          "base_uri": "https://localhost:8080/"
        },
        "id": "cy8MFtaF3exZ",
        "outputId": "64e8ff5a-f687-4099-888c-6255ef966f3f"
      },
      "source": [
        "# number of unique ICD9 categories\r\n",
        "allmimic.ICD9_CATEGORY.nunique()"
      ],
      "execution_count": null,
      "outputs": [
        {
          "output_type": "execute_result",
          "data": {
            "text/plain": [
              "1070"
            ]
          },
          "metadata": {
            "tags": []
          },
          "execution_count": 22
        }
      ]
    },
    {
      "cell_type": "code",
      "metadata": {
        "id": "bJfAyT-ashFe"
      },
      "source": [
        "# removing those admids which do not have ICD9 codes\r\n",
        "allmimic_withICDcodes=allmimic.dropna(subset=['ICD9_CODE'])"
      ],
      "execution_count": null,
      "outputs": []
    },
    {
      "cell_type": "code",
      "metadata": {
        "colab": {
          "base_uri": "https://localhost:8080/",
          "height": 419
        },
        "id": "zCJ7bgzyuNEc",
        "outputId": "a0b66f3e-4a46-4e88-c716-e59b484188a1"
      },
      "source": [
        "allmimic_withICDcodes"
      ],
      "execution_count": null,
      "outputs": [
        {
          "output_type": "execute_result",
          "data": {
            "text/html": [
              "<div>\n",
              "<style scoped>\n",
              "    .dataframe tbody tr th:only-of-type {\n",
              "        vertical-align: middle;\n",
              "    }\n",
              "\n",
              "    .dataframe tbody tr th {\n",
              "        vertical-align: top;\n",
              "    }\n",
              "\n",
              "    .dataframe thead th {\n",
              "        text-align: right;\n",
              "    }\n",
              "</style>\n",
              "<table border=\"1\" class=\"dataframe\">\n",
              "  <thead>\n",
              "    <tr style=\"text-align: right;\">\n",
              "      <th></th>\n",
              "      <th>ROW_ID</th>\n",
              "      <th>SUBJECT_ID</th>\n",
              "      <th>HADM_ID</th>\n",
              "      <th>SEQ_NUM</th>\n",
              "      <th>ICD9_CODE</th>\n",
              "      <th>ICD9_CATEGORY</th>\n",
              "    </tr>\n",
              "  </thead>\n",
              "  <tbody>\n",
              "    <tr>\n",
              "      <th>0</th>\n",
              "      <td>1297</td>\n",
              "      <td>109</td>\n",
              "      <td>172335</td>\n",
              "      <td>1.0</td>\n",
              "      <td>40301</td>\n",
              "      <td>403</td>\n",
              "    </tr>\n",
              "    <tr>\n",
              "      <th>1</th>\n",
              "      <td>1298</td>\n",
              "      <td>109</td>\n",
              "      <td>172335</td>\n",
              "      <td>2.0</td>\n",
              "      <td>486</td>\n",
              "      <td>486</td>\n",
              "    </tr>\n",
              "    <tr>\n",
              "      <th>2</th>\n",
              "      <td>1299</td>\n",
              "      <td>109</td>\n",
              "      <td>172335</td>\n",
              "      <td>3.0</td>\n",
              "      <td>58281</td>\n",
              "      <td>582</td>\n",
              "    </tr>\n",
              "    <tr>\n",
              "      <th>3</th>\n",
              "      <td>1300</td>\n",
              "      <td>109</td>\n",
              "      <td>172335</td>\n",
              "      <td>4.0</td>\n",
              "      <td>5855</td>\n",
              "      <td>585</td>\n",
              "    </tr>\n",
              "    <tr>\n",
              "      <th>4</th>\n",
              "      <td>1301</td>\n",
              "      <td>109</td>\n",
              "      <td>172335</td>\n",
              "      <td>5.0</td>\n",
              "      <td>4254</td>\n",
              "      <td>425</td>\n",
              "    </tr>\n",
              "    <tr>\n",
              "      <th>...</th>\n",
              "      <td>...</td>\n",
              "      <td>...</td>\n",
              "      <td>...</td>\n",
              "      <td>...</td>\n",
              "      <td>...</td>\n",
              "      <td>...</td>\n",
              "    </tr>\n",
              "    <tr>\n",
              "      <th>651042</th>\n",
              "      <td>639798</td>\n",
              "      <td>97503</td>\n",
              "      <td>188195</td>\n",
              "      <td>2.0</td>\n",
              "      <td>20280</td>\n",
              "      <td>202</td>\n",
              "    </tr>\n",
              "    <tr>\n",
              "      <th>651043</th>\n",
              "      <td>639799</td>\n",
              "      <td>97503</td>\n",
              "      <td>188195</td>\n",
              "      <td>3.0</td>\n",
              "      <td>V5869</td>\n",
              "      <td>V58</td>\n",
              "    </tr>\n",
              "    <tr>\n",
              "      <th>651044</th>\n",
              "      <td>639800</td>\n",
              "      <td>97503</td>\n",
              "      <td>188195</td>\n",
              "      <td>4.0</td>\n",
              "      <td>V1279</td>\n",
              "      <td>V12</td>\n",
              "    </tr>\n",
              "    <tr>\n",
              "      <th>651045</th>\n",
              "      <td>639801</td>\n",
              "      <td>97503</td>\n",
              "      <td>188195</td>\n",
              "      <td>5.0</td>\n",
              "      <td>5275</td>\n",
              "      <td>527</td>\n",
              "    </tr>\n",
              "    <tr>\n",
              "      <th>651046</th>\n",
              "      <td>639802</td>\n",
              "      <td>97503</td>\n",
              "      <td>188195</td>\n",
              "      <td>6.0</td>\n",
              "      <td>5569</td>\n",
              "      <td>556</td>\n",
              "    </tr>\n",
              "  </tbody>\n",
              "</table>\n",
              "<p>651000 rows × 6 columns</p>\n",
              "</div>"
            ],
            "text/plain": [
              "        ROW_ID  SUBJECT_ID  HADM_ID  SEQ_NUM ICD9_CODE ICD9_CATEGORY\n",
              "0         1297         109   172335      1.0     40301           403\n",
              "1         1298         109   172335      2.0       486           486\n",
              "2         1299         109   172335      3.0     58281           582\n",
              "3         1300         109   172335      4.0      5855           585\n",
              "4         1301         109   172335      5.0      4254           425\n",
              "...        ...         ...      ...      ...       ...           ...\n",
              "651042  639798       97503   188195      2.0     20280           202\n",
              "651043  639799       97503   188195      3.0     V5869           V58\n",
              "651044  639800       97503   188195      4.0     V1279           V12\n",
              "651045  639801       97503   188195      5.0      5275           527\n",
              "651046  639802       97503   188195      6.0      5569           556\n",
              "\n",
              "[651000 rows x 6 columns]"
            ]
          },
          "metadata": {
            "tags": []
          },
          "execution_count": 24
        }
      ]
    },
    {
      "cell_type": "code",
      "metadata": {
        "id": "FtW8lVnTUnY5"
      },
      "source": [
        "# ALL ICD9 codes of mimic dataset\r\n",
        "all_icd9codes=sorted(dict(Counter(allmimic.ICD9_CODE.to_list())).items(),key=lambda x:x[1],reverse=True)"
      ],
      "execution_count": null,
      "outputs": []
    },
    {
      "cell_type": "code",
      "metadata": {
        "id": "0JBfdQtcw4r6"
      },
      "source": [
        "top10_icd9code=all_icd9codes[:10]"
      ],
      "execution_count": null,
      "outputs": []
    },
    {
      "cell_type": "code",
      "metadata": {
        "colab": {
          "base_uri": "https://localhost:8080/"
        },
        "id": "zygkg9QVaF8W",
        "outputId": "b8ad197d-37b9-4ef8-9cf3-98654d276a17"
      },
      "source": [
        "print(top10_icd9code)"
      ],
      "execution_count": null,
      "outputs": [
        {
          "output_type": "stream",
          "text": [
            "[('4019', 20703), ('4280', 13111), ('42731', 12891), ('41401', 12429), ('5849', 9119), ('25000', 9058), ('2724', 8690), ('51881', 7497), ('5990', 6555), ('53081', 6326)]\n"
          ],
          "name": "stdout"
        }
      ]
    },
    {
      "cell_type": "code",
      "metadata": {
        "id": "p6DF3RbKbVVj"
      },
      "source": [
        "def_icd9code=pd.read_csv(r'/content/drive/MyDrive/AlgoIntern/Data/D_ICD_DIAGNOSES.csv')"
      ],
      "execution_count": null,
      "outputs": []
    },
    {
      "cell_type": "code",
      "metadata": {
        "colab": {
          "base_uri": "https://localhost:8080/",
          "height": 419
        },
        "id": "pCuUW7gvc6_w",
        "outputId": "c4d33b40-da60-4270-c80e-9c7ad9ff99de"
      },
      "source": [
        "def_icd9code"
      ],
      "execution_count": null,
      "outputs": [
        {
          "output_type": "execute_result",
          "data": {
            "text/html": [
              "<div>\n",
              "<style scoped>\n",
              "    .dataframe tbody tr th:only-of-type {\n",
              "        vertical-align: middle;\n",
              "    }\n",
              "\n",
              "    .dataframe tbody tr th {\n",
              "        vertical-align: top;\n",
              "    }\n",
              "\n",
              "    .dataframe thead th {\n",
              "        text-align: right;\n",
              "    }\n",
              "</style>\n",
              "<table border=\"1\" class=\"dataframe\">\n",
              "  <thead>\n",
              "    <tr style=\"text-align: right;\">\n",
              "      <th></th>\n",
              "      <th>ROW_ID</th>\n",
              "      <th>ICD9_CODE</th>\n",
              "      <th>SHORT_TITLE</th>\n",
              "      <th>LONG_TITLE</th>\n",
              "    </tr>\n",
              "  </thead>\n",
              "  <tbody>\n",
              "    <tr>\n",
              "      <th>0</th>\n",
              "      <td>174</td>\n",
              "      <td>01166</td>\n",
              "      <td>TB pneumonia-oth test</td>\n",
              "      <td>Tuberculous pneumonia [any form], tubercle bac...</td>\n",
              "    </tr>\n",
              "    <tr>\n",
              "      <th>1</th>\n",
              "      <td>175</td>\n",
              "      <td>01170</td>\n",
              "      <td>TB pneumothorax-unspec</td>\n",
              "      <td>Tuberculous pneumothorax, unspecified</td>\n",
              "    </tr>\n",
              "    <tr>\n",
              "      <th>2</th>\n",
              "      <td>176</td>\n",
              "      <td>01171</td>\n",
              "      <td>TB pneumothorax-no exam</td>\n",
              "      <td>Tuberculous pneumothorax, bacteriological or h...</td>\n",
              "    </tr>\n",
              "    <tr>\n",
              "      <th>3</th>\n",
              "      <td>177</td>\n",
              "      <td>01172</td>\n",
              "      <td>TB pneumothorx-exam unkn</td>\n",
              "      <td>Tuberculous pneumothorax, bacteriological or h...</td>\n",
              "    </tr>\n",
              "    <tr>\n",
              "      <th>4</th>\n",
              "      <td>178</td>\n",
              "      <td>01173</td>\n",
              "      <td>TB pneumothorax-micro dx</td>\n",
              "      <td>Tuberculous pneumothorax, tubercle bacilli fou...</td>\n",
              "    </tr>\n",
              "    <tr>\n",
              "      <th>...</th>\n",
              "      <td>...</td>\n",
              "      <td>...</td>\n",
              "      <td>...</td>\n",
              "      <td>...</td>\n",
              "    </tr>\n",
              "    <tr>\n",
              "      <th>14562</th>\n",
              "      <td>14432</td>\n",
              "      <td>V7399</td>\n",
              "      <td>Scrn unspcf viral dis</td>\n",
              "      <td>Special screening examination for unspecified ...</td>\n",
              "    </tr>\n",
              "    <tr>\n",
              "      <th>14563</th>\n",
              "      <td>14433</td>\n",
              "      <td>V740</td>\n",
              "      <td>Screening for cholera</td>\n",
              "      <td>Screening examination for cholera</td>\n",
              "    </tr>\n",
              "    <tr>\n",
              "      <th>14564</th>\n",
              "      <td>14434</td>\n",
              "      <td>V741</td>\n",
              "      <td>Screening-pulmonary TB</td>\n",
              "      <td>Screening examination for pulmonary tuberculosis</td>\n",
              "    </tr>\n",
              "    <tr>\n",
              "      <th>14565</th>\n",
              "      <td>14435</td>\n",
              "      <td>V742</td>\n",
              "      <td>Screening for leprosy</td>\n",
              "      <td>Screening examination for leprosy (Hansen's di...</td>\n",
              "    </tr>\n",
              "    <tr>\n",
              "      <th>14566</th>\n",
              "      <td>14436</td>\n",
              "      <td>V743</td>\n",
              "      <td>Screening for diphtheria</td>\n",
              "      <td>Screening examination for diphtheria</td>\n",
              "    </tr>\n",
              "  </tbody>\n",
              "</table>\n",
              "<p>14567 rows × 4 columns</p>\n",
              "</div>"
            ],
            "text/plain": [
              "       ROW_ID  ...                                         LONG_TITLE\n",
              "0         174  ...  Tuberculous pneumonia [any form], tubercle bac...\n",
              "1         175  ...              Tuberculous pneumothorax, unspecified\n",
              "2         176  ...  Tuberculous pneumothorax, bacteriological or h...\n",
              "3         177  ...  Tuberculous pneumothorax, bacteriological or h...\n",
              "4         178  ...  Tuberculous pneumothorax, tubercle bacilli fou...\n",
              "...       ...  ...                                                ...\n",
              "14562   14432  ...  Special screening examination for unspecified ...\n",
              "14563   14433  ...                  Screening examination for cholera\n",
              "14564   14434  ...   Screening examination for pulmonary tuberculosis\n",
              "14565   14435  ...  Screening examination for leprosy (Hansen's di...\n",
              "14566   14436  ...               Screening examination for diphtheria\n",
              "\n",
              "[14567 rows x 4 columns]"
            ]
          },
          "metadata": {
            "tags": []
          },
          "execution_count": 30
        }
      ]
    },
    {
      "cell_type": "code",
      "metadata": {
        "id": "4K7UJUQsdEZR"
      },
      "source": [
        "top10_table=pd.DataFrame.from_dict({'ICD9_CODE':[i[0] for i in top10_icd9code],\r\n",
        "                                    'Desc':[def_icd9code.loc[def_icd9code.ICD9_CODE==i[0]].SHORT_TITLE.item() for i in top10_icd9code]})"
      ],
      "execution_count": null,
      "outputs": []
    },
    {
      "cell_type": "code",
      "metadata": {
        "colab": {
          "base_uri": "https://localhost:8080/",
          "height": 359
        },
        "id": "wRHfV4j0fzFa",
        "outputId": "e0b80b59-37e8-435d-b7a7-beef0ad72c83"
      },
      "source": [
        "top10_table"
      ],
      "execution_count": null,
      "outputs": [
        {
          "output_type": "execute_result",
          "data": {
            "text/html": [
              "<div>\n",
              "<style scoped>\n",
              "    .dataframe tbody tr th:only-of-type {\n",
              "        vertical-align: middle;\n",
              "    }\n",
              "\n",
              "    .dataframe tbody tr th {\n",
              "        vertical-align: top;\n",
              "    }\n",
              "\n",
              "    .dataframe thead th {\n",
              "        text-align: right;\n",
              "    }\n",
              "</style>\n",
              "<table border=\"1\" class=\"dataframe\">\n",
              "  <thead>\n",
              "    <tr style=\"text-align: right;\">\n",
              "      <th></th>\n",
              "      <th>ICD9_CODE</th>\n",
              "      <th>Desc</th>\n",
              "    </tr>\n",
              "  </thead>\n",
              "  <tbody>\n",
              "    <tr>\n",
              "      <th>0</th>\n",
              "      <td>4019</td>\n",
              "      <td>Hypertension NOS</td>\n",
              "    </tr>\n",
              "    <tr>\n",
              "      <th>1</th>\n",
              "      <td>4280</td>\n",
              "      <td>CHF NOS</td>\n",
              "    </tr>\n",
              "    <tr>\n",
              "      <th>2</th>\n",
              "      <td>42731</td>\n",
              "      <td>Atrial fibrillation</td>\n",
              "    </tr>\n",
              "    <tr>\n",
              "      <th>3</th>\n",
              "      <td>41401</td>\n",
              "      <td>Crnry athrscl natve vssl</td>\n",
              "    </tr>\n",
              "    <tr>\n",
              "      <th>4</th>\n",
              "      <td>5849</td>\n",
              "      <td>Acute kidney failure NOS</td>\n",
              "    </tr>\n",
              "    <tr>\n",
              "      <th>5</th>\n",
              "      <td>25000</td>\n",
              "      <td>DMII wo cmp nt st uncntr</td>\n",
              "    </tr>\n",
              "    <tr>\n",
              "      <th>6</th>\n",
              "      <td>2724</td>\n",
              "      <td>Hyperlipidemia NEC/NOS</td>\n",
              "    </tr>\n",
              "    <tr>\n",
              "      <th>7</th>\n",
              "      <td>51881</td>\n",
              "      <td>Acute respiratry failure</td>\n",
              "    </tr>\n",
              "    <tr>\n",
              "      <th>8</th>\n",
              "      <td>5990</td>\n",
              "      <td>Urin tract infection NOS</td>\n",
              "    </tr>\n",
              "    <tr>\n",
              "      <th>9</th>\n",
              "      <td>53081</td>\n",
              "      <td>Esophageal reflux</td>\n",
              "    </tr>\n",
              "  </tbody>\n",
              "</table>\n",
              "</div>"
            ],
            "text/plain": [
              "  ICD9_CODE                      Desc\n",
              "0      4019          Hypertension NOS\n",
              "1      4280                   CHF NOS\n",
              "2     42731       Atrial fibrillation\n",
              "3     41401  Crnry athrscl natve vssl\n",
              "4      5849  Acute kidney failure NOS\n",
              "5     25000  DMII wo cmp nt st uncntr\n",
              "6      2724    Hyperlipidemia NEC/NOS\n",
              "7     51881  Acute respiratry failure\n",
              "8      5990  Urin tract infection NOS\n",
              "9     53081         Esophageal reflux"
            ]
          },
          "metadata": {
            "tags": []
          },
          "execution_count": 32
        }
      ]
    },
    {
      "cell_type": "code",
      "metadata": {
        "colab": {
          "base_uri": "https://localhost:8080/",
          "height": 419
        },
        "id": "WgxTi_O0bFOP",
        "outputId": "f7075115-afe2-4fb5-e34a-1eb8fd6a9654"
      },
      "source": [
        "allmimic_withICDcodes"
      ],
      "execution_count": null,
      "outputs": [
        {
          "output_type": "execute_result",
          "data": {
            "text/html": [
              "<div>\n",
              "<style scoped>\n",
              "    .dataframe tbody tr th:only-of-type {\n",
              "        vertical-align: middle;\n",
              "    }\n",
              "\n",
              "    .dataframe tbody tr th {\n",
              "        vertical-align: top;\n",
              "    }\n",
              "\n",
              "    .dataframe thead th {\n",
              "        text-align: right;\n",
              "    }\n",
              "</style>\n",
              "<table border=\"1\" class=\"dataframe\">\n",
              "  <thead>\n",
              "    <tr style=\"text-align: right;\">\n",
              "      <th></th>\n",
              "      <th>ROW_ID</th>\n",
              "      <th>SUBJECT_ID</th>\n",
              "      <th>HADM_ID</th>\n",
              "      <th>SEQ_NUM</th>\n",
              "      <th>ICD9_CODE</th>\n",
              "      <th>ICD9_CATEGORY</th>\n",
              "    </tr>\n",
              "  </thead>\n",
              "  <tbody>\n",
              "    <tr>\n",
              "      <th>0</th>\n",
              "      <td>1297</td>\n",
              "      <td>109</td>\n",
              "      <td>172335</td>\n",
              "      <td>1.0</td>\n",
              "      <td>40301</td>\n",
              "      <td>403</td>\n",
              "    </tr>\n",
              "    <tr>\n",
              "      <th>1</th>\n",
              "      <td>1298</td>\n",
              "      <td>109</td>\n",
              "      <td>172335</td>\n",
              "      <td>2.0</td>\n",
              "      <td>486</td>\n",
              "      <td>486</td>\n",
              "    </tr>\n",
              "    <tr>\n",
              "      <th>2</th>\n",
              "      <td>1299</td>\n",
              "      <td>109</td>\n",
              "      <td>172335</td>\n",
              "      <td>3.0</td>\n",
              "      <td>58281</td>\n",
              "      <td>582</td>\n",
              "    </tr>\n",
              "    <tr>\n",
              "      <th>3</th>\n",
              "      <td>1300</td>\n",
              "      <td>109</td>\n",
              "      <td>172335</td>\n",
              "      <td>4.0</td>\n",
              "      <td>5855</td>\n",
              "      <td>585</td>\n",
              "    </tr>\n",
              "    <tr>\n",
              "      <th>4</th>\n",
              "      <td>1301</td>\n",
              "      <td>109</td>\n",
              "      <td>172335</td>\n",
              "      <td>5.0</td>\n",
              "      <td>4254</td>\n",
              "      <td>425</td>\n",
              "    </tr>\n",
              "    <tr>\n",
              "      <th>...</th>\n",
              "      <td>...</td>\n",
              "      <td>...</td>\n",
              "      <td>...</td>\n",
              "      <td>...</td>\n",
              "      <td>...</td>\n",
              "      <td>...</td>\n",
              "    </tr>\n",
              "    <tr>\n",
              "      <th>651042</th>\n",
              "      <td>639798</td>\n",
              "      <td>97503</td>\n",
              "      <td>188195</td>\n",
              "      <td>2.0</td>\n",
              "      <td>20280</td>\n",
              "      <td>202</td>\n",
              "    </tr>\n",
              "    <tr>\n",
              "      <th>651043</th>\n",
              "      <td>639799</td>\n",
              "      <td>97503</td>\n",
              "      <td>188195</td>\n",
              "      <td>3.0</td>\n",
              "      <td>V5869</td>\n",
              "      <td>V58</td>\n",
              "    </tr>\n",
              "    <tr>\n",
              "      <th>651044</th>\n",
              "      <td>639800</td>\n",
              "      <td>97503</td>\n",
              "      <td>188195</td>\n",
              "      <td>4.0</td>\n",
              "      <td>V1279</td>\n",
              "      <td>V12</td>\n",
              "    </tr>\n",
              "    <tr>\n",
              "      <th>651045</th>\n",
              "      <td>639801</td>\n",
              "      <td>97503</td>\n",
              "      <td>188195</td>\n",
              "      <td>5.0</td>\n",
              "      <td>5275</td>\n",
              "      <td>527</td>\n",
              "    </tr>\n",
              "    <tr>\n",
              "      <th>651046</th>\n",
              "      <td>639802</td>\n",
              "      <td>97503</td>\n",
              "      <td>188195</td>\n",
              "      <td>6.0</td>\n",
              "      <td>5569</td>\n",
              "      <td>556</td>\n",
              "    </tr>\n",
              "  </tbody>\n",
              "</table>\n",
              "<p>651000 rows × 6 columns</p>\n",
              "</div>"
            ],
            "text/plain": [
              "        ROW_ID  SUBJECT_ID  HADM_ID  SEQ_NUM ICD9_CODE ICD9_CATEGORY\n",
              "0         1297         109   172335      1.0     40301           403\n",
              "1         1298         109   172335      2.0       486           486\n",
              "2         1299         109   172335      3.0     58281           582\n",
              "3         1300         109   172335      4.0      5855           585\n",
              "4         1301         109   172335      5.0      4254           425\n",
              "...        ...         ...      ...      ...       ...           ...\n",
              "651042  639798       97503   188195      2.0     20280           202\n",
              "651043  639799       97503   188195      3.0     V5869           V58\n",
              "651044  639800       97503   188195      4.0     V1279           V12\n",
              "651045  639801       97503   188195      5.0      5275           527\n",
              "651046  639802       97503   188195      6.0      5569           556\n",
              "\n",
              "[651000 rows x 6 columns]"
            ]
          },
          "metadata": {
            "tags": []
          },
          "execution_count": 33
        }
      ]
    },
    {
      "cell_type": "code",
      "metadata": {
        "id": "C8ITmn3jbUqA"
      },
      "source": [
        "# grouping by admids \r\n",
        "allmimic_groupbyHADMID=allmimic_withICDcodes[['HADM_ID','ICD9_CODE','ICD9_CATEGORY']].groupby('HADM_ID',as_index=False).aggregate({'ICD9_CODE':lambda x:','.join(x),\r\n",
        "            'ICD9_CATEGORY':lambda x:','.join(x)\r\n",
        "            })"
      ],
      "execution_count": null,
      "outputs": []
    },
    {
      "cell_type": "code",
      "metadata": {
        "colab": {
          "base_uri": "https://localhost:8080/",
          "height": 419
        },
        "id": "7kpSmhS2bUmZ",
        "outputId": "1391fafa-531f-49d2-f322-a902ac98fda5"
      },
      "source": [
        "allmimic_groupbyHADMID"
      ],
      "execution_count": null,
      "outputs": [
        {
          "output_type": "execute_result",
          "data": {
            "text/html": [
              "<div>\n",
              "<style scoped>\n",
              "    .dataframe tbody tr th:only-of-type {\n",
              "        vertical-align: middle;\n",
              "    }\n",
              "\n",
              "    .dataframe tbody tr th {\n",
              "        vertical-align: top;\n",
              "    }\n",
              "\n",
              "    .dataframe thead th {\n",
              "        text-align: right;\n",
              "    }\n",
              "</style>\n",
              "<table border=\"1\" class=\"dataframe\">\n",
              "  <thead>\n",
              "    <tr style=\"text-align: right;\">\n",
              "      <th></th>\n",
              "      <th>HADM_ID</th>\n",
              "      <th>ICD9_CODE</th>\n",
              "      <th>ICD9_CATEGORY</th>\n",
              "    </tr>\n",
              "  </thead>\n",
              "  <tbody>\n",
              "    <tr>\n",
              "      <th>0</th>\n",
              "      <td>100001</td>\n",
              "      <td>25013,3371,5849,5780,V5867,25063,5363,4580,250...</td>\n",
              "      <td>250,337,584,578,V58,250,536,458,250,403,585,25...</td>\n",
              "    </tr>\n",
              "    <tr>\n",
              "      <th>1</th>\n",
              "      <td>100003</td>\n",
              "      <td>53100,2851,07054,5715,45621,53789,4019,53550,7823</td>\n",
              "      <td>531,285,070,571,456,537,401,535,782</td>\n",
              "    </tr>\n",
              "    <tr>\n",
              "      <th>2</th>\n",
              "      <td>100006</td>\n",
              "      <td>49320,51881,486,20300,2761,7850,3090,V1251,V1582</td>\n",
              "      <td>493,518,486,203,276,785,309,V12,V15</td>\n",
              "    </tr>\n",
              "    <tr>\n",
              "      <th>3</th>\n",
              "      <td>100007</td>\n",
              "      <td>56081,5570,9973,486,4019</td>\n",
              "      <td>560,557,997,486,401</td>\n",
              "    </tr>\n",
              "    <tr>\n",
              "      <th>4</th>\n",
              "      <td>100009</td>\n",
              "      <td>41401,99604,4142,25000,27800,V8535,4148,4111,V...</td>\n",
              "      <td>414,996,414,250,278,V85,414,411,V45,V15,285,40...</td>\n",
              "    </tr>\n",
              "    <tr>\n",
              "      <th>...</th>\n",
              "      <td>...</td>\n",
              "      <td>...</td>\n",
              "      <td>...</td>\n",
              "    </tr>\n",
              "    <tr>\n",
              "      <th>58924</th>\n",
              "      <td>199993</td>\n",
              "      <td>41031,42821,42731,4271,5180,4240,2760,5119,5184</td>\n",
              "      <td>410,428,427,427,518,424,276,511,518</td>\n",
              "    </tr>\n",
              "    <tr>\n",
              "      <th>58925</th>\n",
              "      <td>199994</td>\n",
              "      <td>486,4280,51881,3970,496,4169,585,42732,2762</td>\n",
              "      <td>486,428,518,397,496,416,585,427,276</td>\n",
              "    </tr>\n",
              "    <tr>\n",
              "      <th>58926</th>\n",
              "      <td>199995</td>\n",
              "      <td>4210,7464,42971,30401,4412,44284,V1259,04111,3...</td>\n",
              "      <td>421,746,429,304,441,442,V12,041,305,305</td>\n",
              "    </tr>\n",
              "    <tr>\n",
              "      <th>58927</th>\n",
              "      <td>199998</td>\n",
              "      <td>41401,9971,9975,42731,78820,4111,V4582,E8782,4...</td>\n",
              "      <td>414,997,997,427,788,411,V45,E878,429,440,401,4...</td>\n",
              "    </tr>\n",
              "    <tr>\n",
              "      <th>58928</th>\n",
              "      <td>199999</td>\n",
              "      <td>48284,51881,5119,5849,2761,78606,79902,41401,V...</td>\n",
              "      <td>482,518,511,584,276,786,799,414,V45,788,285,V4...</td>\n",
              "    </tr>\n",
              "  </tbody>\n",
              "</table>\n",
              "<p>58929 rows × 3 columns</p>\n",
              "</div>"
            ],
            "text/plain": [
              "       HADM_ID  ...                                      ICD9_CATEGORY\n",
              "0       100001  ...  250,337,584,578,V58,250,536,458,250,403,585,25...\n",
              "1       100003  ...                531,285,070,571,456,537,401,535,782\n",
              "2       100006  ...                493,518,486,203,276,785,309,V12,V15\n",
              "3       100007  ...                                560,557,997,486,401\n",
              "4       100009  ...  414,996,414,250,278,V85,414,411,V45,V15,285,40...\n",
              "...        ...  ...                                                ...\n",
              "58924   199993  ...                410,428,427,427,518,424,276,511,518\n",
              "58925   199994  ...                486,428,518,397,496,416,585,427,276\n",
              "58926   199995  ...            421,746,429,304,441,442,V12,041,305,305\n",
              "58927   199998  ...  414,997,997,427,788,411,V45,E878,429,440,401,4...\n",
              "58928   199999  ...  482,518,511,584,276,786,799,414,V45,788,285,V4...\n",
              "\n",
              "[58929 rows x 3 columns]"
            ]
          },
          "metadata": {
            "tags": []
          },
          "execution_count": 37
        }
      ]
    },
    {
      "cell_type": "code",
      "metadata": {
        "id": "paQCK7yQbUin"
      },
      "source": [
        "def convert_to_list(x):\r\n",
        "  return list(set(re.split(',',x)))"
      ],
      "execution_count": null,
      "outputs": []
    },
    {
      "cell_type": "code",
      "metadata": {
        "id": "XSMKrb5TeRgu"
      },
      "source": [
        "allmimic_groupbyHADMID['ICD9_CODE']=allmimic_groupbyHADMID['ICD9_CODE'].apply(convert_to_list)\r\n",
        "allmimic_groupbyHADMID['ICD9_CATEGORY']=allmimic_groupbyHADMID['ICD9_CATEGORY'].apply(convert_to_list)"
      ],
      "execution_count": null,
      "outputs": []
    },
    {
      "cell_type": "code",
      "metadata": {
        "colab": {
          "base_uri": "https://localhost:8080/",
          "height": 265
        },
        "id": "rR6NQ7CQeHS_",
        "outputId": "4ecf0511-6190-4629-c595-5c6f9a7f10f7"
      },
      "source": [
        "# frequency distribution of number of ICD codes for each admids\r\n",
        "plt.hist(allmimic_groupbyHADMID.ICD9_CODE.apply(lambda x:len(x)),bins=20,color='g')\r\n",
        "plt.grid(True)"
      ],
      "execution_count": null,
      "outputs": [
        {
          "output_type": "display_data",
          "data": {
            "image/png": "[encoded data removed]",
            "text/plain": [
              "<Figure size 432x288 with 1 Axes>"
            ]
          },
          "metadata": {
            "tags": [],
            "needs_background": "light"
          }
        }
      ]
    },
    {
      "cell_type": "code",
      "metadata": {
        "colab": {
          "base_uri": "https://localhost:8080/",
          "height": 265
        },
        "id": "3g9u4ZjOh1D8",
        "outputId": "74aaa52d-c233-48b4-88f8-33bfdeaf9d7e"
      },
      "source": [
        "# frequency distribution of number of ICD categories for each admids\r\n",
        "plt.hist(allmimic_groupbyHADMID.ICD9_CATEGORY.apply(lambda x:len(x)),bins=20,color='g')\r\n",
        "plt.grid(True)"
      ],
      "execution_count": null,
      "outputs": [
        {
          "output_type": "display_data",
          "data": {
            "image/png": "[encoded data removed]",
            "text/plain": [
              "<Figure size 432x288 with 1 Axes>"
            ]
          },
          "metadata": {
            "tags": [],
            "needs_background": "light"
          }
        }
      ]
    },
    {
      "cell_type": "markdown",
      "metadata": {
        "id": "7mJw_AYKkTnz"
      },
      "source": [
        "# NOTEEVENTS"
      ]
    },
    {
      "cell_type": "code",
      "metadata": {
        "colab": {
          "base_uri": "https://localhost:8080/"
        },
        "id": "iGyN4t6VkZrJ",
        "outputId": "5e1b8ef3-f314-48fc-a8c1-06033d2eb3a5"
      },
      "source": [
        "# all noteevents data\r\n",
        "noteevents=pd.read_csv('/content/drive/MyDrive/AlgoIntern/Data/NOTEEVENTS.csv')"
      ],
      "execution_count": null,
      "outputs": [
        {
          "output_type": "stream",
          "text": [
            "/usr/local/lib/python3.6/dist-packages/IPython/core/interactiveshell.py:2718: DtypeWarning: Columns (4,5) have mixed types.Specify dtype option on import or set low_memory=False.\n",
            "  interactivity=interactivity, compiler=compiler, result=result)\n"
          ],
          "name": "stderr"
        }
      ]
    },
    {
      "cell_type": "code",
      "metadata": {
        "colab": {
          "base_uri": "https://localhost:8080/",
          "height": 745
        },
        "id": "d5nbA6T6kuzT",
        "outputId": "b9a11b78-441c-4ca9-c804-62ada38e9a64"
      },
      "source": [
        "noteevents"
      ],
      "execution_count": null,
      "outputs": [
        {
          "output_type": "execute_result",
          "data": {
            "text/html": [
              "<div>\n",
              "<style scoped>\n",
              "    .dataframe tbody tr th:only-of-type {\n",
              "        vertical-align: middle;\n",
              "    }\n",
              "\n",
              "    .dataframe tbody tr th {\n",
              "        vertical-align: top;\n",
              "    }\n",
              "\n",
              "    .dataframe thead th {\n",
              "        text-align: right;\n",
              "    }\n",
              "</style>\n",
              "<table border=\"1\" class=\"dataframe\">\n",
              "  <thead>\n",
              "    <tr style=\"text-align: right;\">\n",
              "      <th></th>\n",
              "      <th>ROW_ID</th>\n",
              "      <th>SUBJECT_ID</th>\n",
              "      <th>HADM_ID</th>\n",
              "      <th>CHARTDATE</th>\n",
              "      <th>CHARTTIME</th>\n",
              "      <th>STORETIME</th>\n",
              "      <th>CATEGORY</th>\n",
              "      <th>DESCRIPTION</th>\n",
              "      <th>CGID</th>\n",
              "      <th>ISERROR</th>\n",
              "      <th>TEXT</th>\n",
              "    </tr>\n",
              "  </thead>\n",
              "  <tbody>\n",
              "    <tr>\n",
              "      <th>0</th>\n",
              "      <td>174</td>\n",
              "      <td>22532</td>\n",
              "      <td>167853.0</td>\n",
              "      <td>2151-08-04</td>\n",
              "      <td>NaN</td>\n",
              "      <td>NaN</td>\n",
              "      <td>Discharge summary</td>\n",
              "      <td>Report</td>\n",
              "      <td>NaN</td>\n",
              "      <td>NaN</td>\n",
              "      <td>Admission Date:  [**2151-7-16**]       Dischar...</td>\n",
              "    </tr>\n",
              "    <tr>\n",
              "      <th>1</th>\n",
              "      <td>175</td>\n",
              "      <td>13702</td>\n",
              "      <td>107527.0</td>\n",
              "      <td>2118-06-14</td>\n",
              "      <td>NaN</td>\n",
              "      <td>NaN</td>\n",
              "      <td>Discharge summary</td>\n",
              "      <td>Report</td>\n",
              "      <td>NaN</td>\n",
              "      <td>NaN</td>\n",
              "      <td>Admission Date:  [**2118-6-2**]       Discharg...</td>\n",
              "    </tr>\n",
              "    <tr>\n",
              "      <th>2</th>\n",
              "      <td>176</td>\n",
              "      <td>13702</td>\n",
              "      <td>167118.0</td>\n",
              "      <td>2119-05-25</td>\n",
              "      <td>NaN</td>\n",
              "      <td>NaN</td>\n",
              "      <td>Discharge summary</td>\n",
              "      <td>Report</td>\n",
              "      <td>NaN</td>\n",
              "      <td>NaN</td>\n",
              "      <td>Admission Date:  [**2119-5-4**]              D...</td>\n",
              "    </tr>\n",
              "    <tr>\n",
              "      <th>3</th>\n",
              "      <td>177</td>\n",
              "      <td>13702</td>\n",
              "      <td>196489.0</td>\n",
              "      <td>2124-08-18</td>\n",
              "      <td>NaN</td>\n",
              "      <td>NaN</td>\n",
              "      <td>Discharge summary</td>\n",
              "      <td>Report</td>\n",
              "      <td>NaN</td>\n",
              "      <td>NaN</td>\n",
              "      <td>Admission Date:  [**2124-7-21**]              ...</td>\n",
              "    </tr>\n",
              "    <tr>\n",
              "      <th>4</th>\n",
              "      <td>178</td>\n",
              "      <td>26880</td>\n",
              "      <td>135453.0</td>\n",
              "      <td>2162-03-25</td>\n",
              "      <td>NaN</td>\n",
              "      <td>NaN</td>\n",
              "      <td>Discharge summary</td>\n",
              "      <td>Report</td>\n",
              "      <td>NaN</td>\n",
              "      <td>NaN</td>\n",
              "      <td>Admission Date:  [**2162-3-3**]              D...</td>\n",
              "    </tr>\n",
              "    <tr>\n",
              "      <th>...</th>\n",
              "      <td>...</td>\n",
              "      <td>...</td>\n",
              "      <td>...</td>\n",
              "      <td>...</td>\n",
              "      <td>...</td>\n",
              "      <td>...</td>\n",
              "      <td>...</td>\n",
              "      <td>...</td>\n",
              "      <td>...</td>\n",
              "      <td>...</td>\n",
              "      <td>...</td>\n",
              "    </tr>\n",
              "    <tr>\n",
              "      <th>2083175</th>\n",
              "      <td>2070657</td>\n",
              "      <td>31097</td>\n",
              "      <td>115637.0</td>\n",
              "      <td>2132-01-21</td>\n",
              "      <td>2132-01-21 03:27:00</td>\n",
              "      <td>2132-01-21 03:38:00</td>\n",
              "      <td>Nursing/other</td>\n",
              "      <td>Report</td>\n",
              "      <td>17581.0</td>\n",
              "      <td>NaN</td>\n",
              "      <td>NPN\\n\\n\\n#1  Infant remains in RA with O2 sats...</td>\n",
              "    </tr>\n",
              "    <tr>\n",
              "      <th>2083176</th>\n",
              "      <td>2070658</td>\n",
              "      <td>31097</td>\n",
              "      <td>115637.0</td>\n",
              "      <td>2132-01-21</td>\n",
              "      <td>2132-01-21 09:50:00</td>\n",
              "      <td>2132-01-21 09:53:00</td>\n",
              "      <td>Nursing/other</td>\n",
              "      <td>Report</td>\n",
              "      <td>19211.0</td>\n",
              "      <td>NaN</td>\n",
              "      <td>Neonatology\\nDOL #5, CGA 36 weeks.\\n\\nCVR: Con...</td>\n",
              "    </tr>\n",
              "    <tr>\n",
              "      <th>2083177</th>\n",
              "      <td>2070659</td>\n",
              "      <td>31097</td>\n",
              "      <td>115637.0</td>\n",
              "      <td>2132-01-21</td>\n",
              "      <td>2132-01-21 16:42:00</td>\n",
              "      <td>2132-01-21 16:44:00</td>\n",
              "      <td>Nursing/other</td>\n",
              "      <td>Report</td>\n",
              "      <td>20104.0</td>\n",
              "      <td>NaN</td>\n",
              "      <td>Family Meeting Note\\nFamily meeting held with ...</td>\n",
              "    </tr>\n",
              "    <tr>\n",
              "      <th>2083178</th>\n",
              "      <td>2070660</td>\n",
              "      <td>31097</td>\n",
              "      <td>115637.0</td>\n",
              "      <td>2132-01-21</td>\n",
              "      <td>2132-01-21 18:05:00</td>\n",
              "      <td>2132-01-21 18:16:00</td>\n",
              "      <td>Nursing/other</td>\n",
              "      <td>Report</td>\n",
              "      <td>16023.0</td>\n",
              "      <td>NaN</td>\n",
              "      <td>NPN 1800\\n\\n\\n#1 Resp: [**Known lastname 2243*...</td>\n",
              "    </tr>\n",
              "    <tr>\n",
              "      <th>2083179</th>\n",
              "      <td>2070661</td>\n",
              "      <td>31097</td>\n",
              "      <td>115637.0</td>\n",
              "      <td>2132-01-21</td>\n",
              "      <td>2132-01-21 18:05:00</td>\n",
              "      <td>2132-01-21 18:31:00</td>\n",
              "      <td>Nursing/other</td>\n",
              "      <td>Report</td>\n",
              "      <td>16023.0</td>\n",
              "      <td>NaN</td>\n",
              "      <td>NPN 1800\\nNursing Addendum:\\n[**Known lastname...</td>\n",
              "    </tr>\n",
              "  </tbody>\n",
              "</table>\n",
              "<p>2083180 rows × 11 columns</p>\n",
              "</div>"
            ],
            "text/plain": [
              "          ROW_ID  ...                                               TEXT\n",
              "0            174  ...  Admission Date:  [**2151-7-16**]       Dischar...\n",
              "1            175  ...  Admission Date:  [**2118-6-2**]       Discharg...\n",
              "2            176  ...  Admission Date:  [**2119-5-4**]              D...\n",
              "3            177  ...  Admission Date:  [**2124-7-21**]              ...\n",
              "4            178  ...  Admission Date:  [**2162-3-3**]              D...\n",
              "...          ...  ...                                                ...\n",
              "2083175  2070657  ...  NPN\\n\\n\\n#1  Infant remains in RA with O2 sats...\n",
              "2083176  2070658  ...  Neonatology\\nDOL #5, CGA 36 weeks.\\n\\nCVR: Con...\n",
              "2083177  2070659  ...  Family Meeting Note\\nFamily meeting held with ...\n",
              "2083178  2070660  ...  NPN 1800\\n\\n\\n#1 Resp: [**Known lastname 2243*...\n",
              "2083179  2070661  ...  NPN 1800\\nNursing Addendum:\\n[**Known lastname...\n",
              "\n",
              "[2083180 rows x 11 columns]"
            ]
          },
          "metadata": {
            "tags": []
          },
          "execution_count": 92
        }
      ]
    },
    {
      "cell_type": "code",
      "metadata": {
        "colab": {
          "base_uri": "https://localhost:8080/"
        },
        "id": "upHUBbQhkuob",
        "outputId": "85db1d24-f9c5-4463-d88f-87a19f91e537"
      },
      "source": [
        "# unique number of admids in noteevents table\r\n",
        "noteevents.HADM_ID.nunique()"
      ],
      "execution_count": null,
      "outputs": [
        {
          "output_type": "execute_result",
          "data": {
            "text/plain": [
              "58361"
            ]
          },
          "metadata": {
            "tags": []
          },
          "execution_count": 93
        }
      ]
    },
    {
      "cell_type": "code",
      "metadata": {
        "colab": {
          "base_uri": "https://localhost:8080/"
        },
        "id": "gLOkquU4mZra",
        "outputId": "a6dddf92-e41a-46ee-a535-62dce5531561"
      },
      "source": [
        "# there are notes that donot  have admids\r\n",
        "noteevents.loc[noteevents.HADM_ID.isna()].ROW_ID.count()"
      ],
      "execution_count": null,
      "outputs": [
        {
          "output_type": "execute_result",
          "data": {
            "text/plain": [
              "231836"
            ]
          },
          "metadata": {
            "tags": []
          },
          "execution_count": 101
        }
      ]
    },
    {
      "cell_type": "code",
      "metadata": {
        "id": "4b-o_DIflbOa"
      },
      "source": [
        "# all the admids of the notevents table \r\n",
        "admids_noteevents=list(set([item for item in  noteevents.loc[~noteevents.HADM_ID.isna()].HADM_ID.to_list()]))"
      ],
      "execution_count": null,
      "outputs": []
    },
    {
      "cell_type": "code",
      "metadata": {
        "colab": {
          "base_uri": "https://localhost:8080/"
        },
        "id": "_m-6pOu0mA8A",
        "outputId": "f03f9741-9ae6-4806-ac49-79f783e9efe0"
      },
      "source": [
        "len(admids_noteevents)"
      ],
      "execution_count": null,
      "outputs": [
        {
          "output_type": "execute_result",
          "data": {
            "text/plain": [
              "58361"
            ]
          },
          "metadata": {
            "tags": []
          },
          "execution_count": 104
        }
      ]
    },
    {
      "cell_type": "code",
      "metadata": {
        "id": "giirnxE4oxWL"
      },
      "source": [
        "# getting ICD codes for each admid of notevents table\r\n",
        "noteevents_icd=allmimc_groupbyHADMID.loc[allmimic_groupbyHADMID.HADM_ID.isin(admids_noteevents)]"
      ],
      "execution_count": null,
      "outputs": []
    },
    {
      "cell_type": "code",
      "metadata": {
        "colab": {
          "base_uri": "https://localhost:8080/",
          "height": 419
        },
        "id": "5VwuFTZ0p7-p",
        "outputId": "e22e7d09-6fe9-4b4a-986b-fafb23c57ce7"
      },
      "source": [
        "noteevents_icd"
      ],
      "execution_count": null,
      "outputs": [
        {
          "output_type": "execute_result",
          "data": {
            "text/html": [
              "<div>\n",
              "<style scoped>\n",
              "    .dataframe tbody tr th:only-of-type {\n",
              "        vertical-align: middle;\n",
              "    }\n",
              "\n",
              "    .dataframe tbody tr th {\n",
              "        vertical-align: top;\n",
              "    }\n",
              "\n",
              "    .dataframe thead th {\n",
              "        text-align: right;\n",
              "    }\n",
              "</style>\n",
              "<table border=\"1\" class=\"dataframe\">\n",
              "  <thead>\n",
              "    <tr style=\"text-align: right;\">\n",
              "      <th></th>\n",
              "      <th>HADM_ID</th>\n",
              "      <th>ICD9_CODE</th>\n",
              "      <th>ICD9_CATEGORY</th>\n",
              "    </tr>\n",
              "  </thead>\n",
              "  <tbody>\n",
              "    <tr>\n",
              "      <th>0</th>\n",
              "      <td>100001</td>\n",
              "      <td>[5849, 5363, 25063, 25043, 5853, 36201, 25013,...</td>\n",
              "      <td>[585, 707, 403, 362, 250, V13, 584, 536, 337, ...</td>\n",
              "    </tr>\n",
              "    <tr>\n",
              "      <th>1</th>\n",
              "      <td>100003</td>\n",
              "      <td>[53789, 4019, 2851, 5715, 07054, 53100, 53550,...</td>\n",
              "      <td>[531, 401, 537, 535, 782, 456, 070, 285, 571]</td>\n",
              "    </tr>\n",
              "    <tr>\n",
              "      <th>2</th>\n",
              "      <td>100006</td>\n",
              "      <td>[V1251, 20300, 7850, V1582, 51881, 3090, 2761,...</td>\n",
              "      <td>[493, 309, 486, V15, 276, 518, V12, 785, 203]</td>\n",
              "    </tr>\n",
              "    <tr>\n",
              "      <th>3</th>\n",
              "      <td>100007</td>\n",
              "      <td>[56081, 4019, 9973, 5570, 486]</td>\n",
              "      <td>[401, 557, 486, 997, 560]</td>\n",
              "    </tr>\n",
              "    <tr>\n",
              "      <th>4</th>\n",
              "      <td>100009</td>\n",
              "      <td>[4262, 44021, 4142, 4111, 4019, V1582, V153, 2...</td>\n",
              "      <td>[401, V58, 250, 272, 411, 996, V15, 440, V45, ...</td>\n",
              "    </tr>\n",
              "    <tr>\n",
              "      <th>...</th>\n",
              "      <td>...</td>\n",
              "      <td>...</td>\n",
              "      <td>...</td>\n",
              "    </tr>\n",
              "    <tr>\n",
              "      <th>58924</th>\n",
              "      <td>199993</td>\n",
              "      <td>[5180, 5184, 4240, 42821, 42731, 2760, 5119, 4...</td>\n",
              "      <td>[511, 518, 424, 276, 428, 410, 427]</td>\n",
              "    </tr>\n",
              "    <tr>\n",
              "      <th>58925</th>\n",
              "      <td>199994</td>\n",
              "      <td>[585, 496, 3970, 51881, 4280, 42732, 486, 2762...</td>\n",
              "      <td>[585, 496, 427, 486, 276, 428, 416, 397, 518]</td>\n",
              "    </tr>\n",
              "    <tr>\n",
              "      <th>58926</th>\n",
              "      <td>199995</td>\n",
              "      <td>[4210, 30401, V1259, 04111, 42971, 3051, 44284...</td>\n",
              "      <td>[305, 421, 746, 441, 304, 041, 442, 429, V12]</td>\n",
              "    </tr>\n",
              "    <tr>\n",
              "      <th>58927</th>\n",
              "      <td>199998</td>\n",
              "      <td>[4293, 4111, 4019, 2724, 51889, V4589, 4400, E...</td>\n",
              "      <td>[788, 443, 401, 518, 272, 411, E878, 440, V45,...</td>\n",
              "    </tr>\n",
              "    <tr>\n",
              "      <th>58928</th>\n",
              "      <td>199999</td>\n",
              "      <td>[28529, 41401, 4293, 5849, 79902, 51881, V4986...</td>\n",
              "      <td>[511, 788, 482, 584, 786, 276, V45, 285, V49, ...</td>\n",
              "    </tr>\n",
              "  </tbody>\n",
              "</table>\n",
              "<p>58328 rows × 3 columns</p>\n",
              "</div>"
            ],
            "text/plain": [
              "       HADM_ID  ...                                      ICD9_CATEGORY\n",
              "0       100001  ...  [585, 707, 403, 362, 250, V13, 584, 536, 337, ...\n",
              "1       100003  ...      [531, 401, 537, 535, 782, 456, 070, 285, 571]\n",
              "2       100006  ...      [493, 309, 486, V15, 276, 518, V12, 785, 203]\n",
              "3       100007  ...                          [401, 557, 486, 997, 560]\n",
              "4       100009  ...  [401, V58, 250, 272, 411, 996, V15, 440, V45, ...\n",
              "...        ...  ...                                                ...\n",
              "58924   199993  ...                [511, 518, 424, 276, 428, 410, 427]\n",
              "58925   199994  ...      [585, 496, 427, 486, 276, 428, 416, 397, 518]\n",
              "58926   199995  ...      [305, 421, 746, 441, 304, 041, 442, 429, V12]\n",
              "58927   199998  ...  [788, 443, 401, 518, 272, 411, E878, 440, V45,...\n",
              "58928   199999  ...  [511, 788, 482, 584, 786, 276, V45, 285, V49, ...\n",
              "\n",
              "[58328 rows x 3 columns]"
            ]
          },
          "metadata": {
            "tags": []
          },
          "execution_count": 106
        }
      ]
    },
    {
      "cell_type": "code",
      "metadata": {
        "id": "0ngwTwa8x8YS"
      },
      "source": [
        "#noteevent admids that do not have ICD codes\r\n",
        "admids_noteevents_withoutICD=list(set(admids_noteevents) - set(noteevents_icd.HADM_ID.to_list()))"
      ],
      "execution_count": null,
      "outputs": []
    },
    {
      "cell_type": "code",
      "metadata": {
        "colab": {
          "base_uri": "https://localhost:8080/"
        },
        "id": "sTOk_lUJycPO",
        "outputId": "1afbf169-34b7-49c2-9560-b9e020313fc7"
      },
      "source": [
        "len(admids_noteevents_withoutICD)"
      ],
      "execution_count": null,
      "outputs": [
        {
          "output_type": "execute_result",
          "data": {
            "text/plain": [
              "33"
            ]
          },
          "metadata": {
            "tags": []
          },
          "execution_count": 136
        }
      ]
    },
    {
      "cell_type": "code",
      "metadata": {
        "colab": {
          "base_uri": "https://localhost:8080/"
        },
        "id": "155MOlj2ynZh",
        "outputId": "a865a848-ef84-49b7-fae2-645cdb0cd267"
      },
      "source": [
        "# noteevents admids without icdcodes are subset of allmimic admids without ICD codes\r\n",
        "set(admids_noteevents_withoutICD).issubset(set(admids_without_icd9code))"
      ],
      "execution_count": null,
      "outputs": [
        {
          "output_type": "execute_result",
          "data": {
            "text/plain": [
              "True"
            ]
          },
          "metadata": {
            "tags": []
          },
          "execution_count": 138
        }
      ]
    },
    {
      "cell_type": "code",
      "metadata": {
        "id": "74EHbpBIpbjF"
      },
      "source": [
        "# total ICD9 codes for notevents table \r\n",
        "total_icd9codes_noteevents=list(set([item for innerlist in noteevents_icd.ICD9_CODE.to_list() for item in innerlist]))"
      ],
      "execution_count": null,
      "outputs": []
    },
    {
      "cell_type": "code",
      "metadata": {
        "colab": {
          "base_uri": "https://localhost:8080/"
        },
        "id": "cbMoJcOsqkmO",
        "outputId": "48efff3c-3d0f-4893-ace3-90ff6eb9e321"
      },
      "source": [
        "len(total_icd9codes_noteevents)"
      ],
      "execution_count": null,
      "outputs": [
        {
          "output_type": "execute_result",
          "data": {
            "text/plain": [
              "6967"
            ]
          },
          "metadata": {
            "tags": []
          },
          "execution_count": 108
        }
      ]
    },
    {
      "cell_type": "code",
      "metadata": {
        "id": "1yBBUQBfqphf"
      },
      "source": [
        "# total ICD9 categories for noteevents table\r\n",
        "total_icd9categories_noteevents=list(set([item for innerlist in noteevents_icd.ICD9_CATEGORY.to_list() for item in innerlist]))"
      ],
      "execution_count": null,
      "outputs": []
    },
    {
      "cell_type": "code",
      "metadata": {
        "colab": {
          "base_uri": "https://localhost:8080/"
        },
        "id": "Yftocu0eqrim",
        "outputId": "3a39c5bd-c9ca-459c-e712-960c6b449a97"
      },
      "source": [
        "len(total_icd9categories_noteevents)"
      ],
      "execution_count": null,
      "outputs": [
        {
          "output_type": "execute_result",
          "data": {
            "text/plain": [
              "1070"
            ]
          },
          "metadata": {
            "tags": []
          },
          "execution_count": 110
        }
      ]
    },
    {
      "cell_type": "code",
      "metadata": {
        "colab": {
          "base_uri": "https://localhost:8080/",
          "height": 514
        },
        "id": "gV0Wq5kavIWf",
        "outputId": "cbfd03a5-dd6b-4bf0-dc28-1af9bf774486"
      },
      "source": [
        "# different categories of notes in noteevents\r\n",
        "different_note_category=noteevents.CATEGORY.unique().tolist()\r\n",
        "\r\n",
        "category_hadmids={'category':[],'Number_of_admissions':[]}\r\n",
        "for i in different_note_category:\r\n",
        "  category_hadmids['category'].append(i)\r\n",
        "  category_hadmids['Number_of_admissions'].append(noteevents.loc[noteevents.CATEGORY==i].HADM_ID.nunique())\r\n",
        "pd.DataFrame.from_dict(category_hadmids)"
      ],
      "execution_count": null,
      "outputs": [
        {
          "output_type": "execute_result",
          "data": {
            "text/html": [
              "<div>\n",
              "<style scoped>\n",
              "    .dataframe tbody tr th:only-of-type {\n",
              "        vertical-align: middle;\n",
              "    }\n",
              "\n",
              "    .dataframe tbody tr th {\n",
              "        vertical-align: top;\n",
              "    }\n",
              "\n",
              "    .dataframe thead th {\n",
              "        text-align: right;\n",
              "    }\n",
              "</style>\n",
              "<table border=\"1\" class=\"dataframe\">\n",
              "  <thead>\n",
              "    <tr style=\"text-align: right;\">\n",
              "      <th></th>\n",
              "      <th>category</th>\n",
              "      <th>Number_of_admissions</th>\n",
              "    </tr>\n",
              "  </thead>\n",
              "  <tbody>\n",
              "    <tr>\n",
              "      <th>0</th>\n",
              "      <td>Discharge summary</td>\n",
              "      <td>52726</td>\n",
              "    </tr>\n",
              "    <tr>\n",
              "      <th>1</th>\n",
              "      <td>Echo</td>\n",
              "      <td>23585</td>\n",
              "    </tr>\n",
              "    <tr>\n",
              "      <th>2</th>\n",
              "      <td>ECG</td>\n",
              "      <td>44185</td>\n",
              "    </tr>\n",
              "    <tr>\n",
              "      <th>3</th>\n",
              "      <td>Nursing</td>\n",
              "      <td>9070</td>\n",
              "    </tr>\n",
              "    <tr>\n",
              "      <th>4</th>\n",
              "      <td>Physician</td>\n",
              "      <td>8983</td>\n",
              "    </tr>\n",
              "    <tr>\n",
              "      <th>5</th>\n",
              "      <td>Rehab Services</td>\n",
              "      <td>2249</td>\n",
              "    </tr>\n",
              "    <tr>\n",
              "      <th>6</th>\n",
              "      <td>Case Management</td>\n",
              "      <td>619</td>\n",
              "    </tr>\n",
              "    <tr>\n",
              "      <th>7</th>\n",
              "      <td>Respiratory</td>\n",
              "      <td>3986</td>\n",
              "    </tr>\n",
              "    <tr>\n",
              "      <th>8</th>\n",
              "      <td>Nutrition</td>\n",
              "      <td>3167</td>\n",
              "    </tr>\n",
              "    <tr>\n",
              "      <th>9</th>\n",
              "      <td>General</td>\n",
              "      <td>3170</td>\n",
              "    </tr>\n",
              "    <tr>\n",
              "      <th>10</th>\n",
              "      <td>Social Work</td>\n",
              "      <td>1393</td>\n",
              "    </tr>\n",
              "    <tr>\n",
              "      <th>11</th>\n",
              "      <td>Pharmacy</td>\n",
              "      <td>68</td>\n",
              "    </tr>\n",
              "    <tr>\n",
              "      <th>12</th>\n",
              "      <td>Consult</td>\n",
              "      <td>50</td>\n",
              "    </tr>\n",
              "    <tr>\n",
              "      <th>13</th>\n",
              "      <td>Radiology</td>\n",
              "      <td>45526</td>\n",
              "    </tr>\n",
              "    <tr>\n",
              "      <th>14</th>\n",
              "      <td>Nursing/other</td>\n",
              "      <td>34890</td>\n",
              "    </tr>\n",
              "  </tbody>\n",
              "</table>\n",
              "</div>"
            ],
            "text/plain": [
              "             category  Number_of_admissions\n",
              "0   Discharge summary                 52726\n",
              "1                Echo                 23585\n",
              "2                 ECG                 44185\n",
              "3             Nursing                  9070\n",
              "4          Physician                   8983\n",
              "5      Rehab Services                  2249\n",
              "6    Case Management                    619\n",
              "7        Respiratory                   3986\n",
              "8           Nutrition                  3167\n",
              "9             General                  3170\n",
              "10        Social Work                  1393\n",
              "11           Pharmacy                    68\n",
              "12            Consult                    50\n",
              "13          Radiology                 45526\n",
              "14      Nursing/other                 34890"
            ]
          },
          "metadata": {
            "tags": []
          },
          "execution_count": 114
        }
      ]
    },
    {
      "cell_type": "markdown",
      "metadata": {
        "id": "h1p6Zj5vyUBY"
      },
      "source": [
        "# Discharge Summaries"
      ]
    },
    {
      "cell_type": "markdown",
      "metadata": {
        "id": "s0kaiUP5V15g"
      },
      "source": [
        ">'notes_icd' contains merged tables of 'adm_ids' and 'discharge summarry table'\n",
        ">> There are total <strong><u>52726</u></strong><sup>*</sup> admission ids in discharge summary, with corresponding <strong><u>6919</u></strong> ICD9 codes and <strong><u>941</u></strong> ICD9 categories.<br>\n",
        "<sup>*</sup>4 (actually 6 but 4 are unique) do not have any corresponding ICD codes. These are part of 47 discussed above"
      ]
    },
    {
      "cell_type": "code",
      "metadata": {
        "id": "r3vJiyXkEd1S"
      },
      "source": [
        "notes_icd=pd.read_csv('/content/drive/My Drive/AlgoIntern/Data/Data1.0/notes_icd.csv')"
      ],
      "execution_count": null,
      "outputs": []
    },
    {
      "cell_type": "code",
      "metadata": {
        "id": "ZAUuJ3-iFx04",
        "colab": {
          "base_uri": "https://localhost:8080/",
          "height": 1000
        },
        "outputId": "668a58f1-9381-41d3-e5e8-512682a284b0"
      },
      "source": [
        "notes_icd"
      ],
      "execution_count": null,
      "outputs": [
        {
          "output_type": "execute_result",
          "data": {
            "text/html": [
              "<div>\n",
              "<style scoped>\n",
              "    .dataframe tbody tr th:only-of-type {\n",
              "        vertical-align: middle;\n",
              "    }\n",
              "\n",
              "    .dataframe tbody tr th {\n",
              "        vertical-align: top;\n",
              "    }\n",
              "\n",
              "    .dataframe thead th {\n",
              "        text-align: right;\n",
              "    }\n",
              "</style>\n",
              "<table border=\"1\" class=\"dataframe\">\n",
              "  <thead>\n",
              "    <tr style=\"text-align: right;\">\n",
              "      <th></th>\n",
              "      <th>SUBJECT_ID</th>\n",
              "      <th>HADM_ID</th>\n",
              "      <th>CATEGORY</th>\n",
              "      <th>DESCRIPTION</th>\n",
              "      <th>ISERROR</th>\n",
              "      <th>TEXT</th>\n",
              "      <th>text_mod</th>\n",
              "      <th>sec</th>\n",
              "      <th>split</th>\n",
              "      <th>service:</th>\n",
              "      <th>social history:</th>\n",
              "      <th>family history:</th>\n",
              "      <th>past medical history:</th>\n",
              "      <th>chief complaint:</th>\n",
              "      <th>discharge medications:</th>\n",
              "      <th>discharge disposition:</th>\n",
              "      <th>discharge diagnosis:</th>\n",
              "      <th>allergies:</th>\n",
              "      <th>physical exam:</th>\n",
              "      <th>ICD9_CODE_x</th>\n",
              "      <th>ICD10</th>\n",
              "      <th>ICD9_CODE_y</th>\n",
              "      <th>icd10_pcs</th>\n",
              "    </tr>\n",
              "  </thead>\n",
              "  <tbody>\n",
              "    <tr>\n",
              "      <th>0</th>\n",
              "      <td>22532</td>\n",
              "      <td>167853.0</td>\n",
              "      <td>Discharge summary</td>\n",
              "      <td>Report</td>\n",
              "      <td>NaN</td>\n",
              "      <td>Admission Date:  [**2151-7-16**]       Dischar...</td>\n",
              "      <td>admission date:   &lt;date&gt;        discharge date...</td>\n",
              "      <td>['Admission Date:', 'Discharge Date:', 'Servic...</td>\n",
              "      <td>['service:  addendum:    radiologic studies:  ...</td>\n",
              "      <td>service:  addendum:    radiologic studies:  ra...</td>\n",
              "      <td>NaN</td>\n",
              "      <td>NaN</td>\n",
              "      <td>NaN</td>\n",
              "      <td>NaN</td>\n",
              "      <td>NaN</td>\n",
              "      <td>NaN</td>\n",
              "      <td>NaN</td>\n",
              "      <td>NaN</td>\n",
              "      <td>NaN</td>\n",
              "      <td>01193,4254,4254,42731,2639,2762,5070,5119,2113</td>\n",
              "      <td>Misc,I425,I428,I4891,E46,E872,J690,J918,Misc</td>\n",
              "      <td>4542,3491,3491,3893,3891</td>\n",
              "      <td>Misc,0W9.93ZZ,0W9.B3ZZ,Misc,Misc</td>\n",
              "    </tr>\n",
              "    <tr>\n",
              "      <th>1</th>\n",
              "      <td>13702</td>\n",
              "      <td>107527.0</td>\n",
              "      <td>Discharge summary</td>\n",
              "      <td>Report</td>\n",
              "      <td>NaN</td>\n",
              "      <td>Admission Date:  [**2118-6-2**]       Discharg...</td>\n",
              "      <td>admission date:   &lt;date&gt;        discharge date...</td>\n",
              "      <td>['Admission Date:', 'Discharge Date:', 'Birth:...</td>\n",
              "      <td>[' service:  micu and then to &lt;name&gt; medicine ...</td>\n",
              "      <td>service:  micu and then to &lt;name&gt; medicine   ...</td>\n",
              "      <td>social history:  lives with her husband, dr. ...</td>\n",
              "      <td>family history:  noncontributory.</td>\n",
              "      <td>past medical history:  1. copd.  last pulmona...</td>\n",
              "      <td>NaN</td>\n",
              "      <td>discharge medications:  1. levothyroxine 75 mc...</td>\n",
              "      <td>NaN</td>\n",
              "      <td>NaN</td>\n",
              "      <td>allergies:  norvasc leads to lightheadedness ...</td>\n",
              "      <td>NaN</td>\n",
              "      <td>5191,49121,51881,51881,486,2761,2449,311</td>\n",
              "      <td>Misc,Misc,J9600,J9690,J189,E871,E039,F329</td>\n",
              "      <td>9390,9390,9390,966,966,966,3199,9671,9671,9604...</td>\n",
              "      <td>5A0.9357,5A0.9457,5A0.9557,0DH.67UZ,0DH.68UZ,3...</td>\n",
              "    </tr>\n",
              "    <tr>\n",
              "      <th>2</th>\n",
              "      <td>13702</td>\n",
              "      <td>167118.0</td>\n",
              "      <td>Discharge summary</td>\n",
              "      <td>Report</td>\n",
              "      <td>NaN</td>\n",
              "      <td>Admission Date:  [**2119-5-4**]              D...</td>\n",
              "      <td>admission date:   &lt;date&gt;               dischar...</td>\n",
              "      <td>['Admission Date:', 'Discharge Date:', 'Servic...</td>\n",
              "      <td>[' service: cardiothoracic    ', ' social hist...</td>\n",
              "      <td>service: cardiothoracic</td>\n",
              "      <td>social history:  social history: the patient ...</td>\n",
              "      <td>family history:  family history: (+) fhx cad;...</td>\n",
              "      <td>past medical history:  copd flare [**6-7**] s...</td>\n",
              "      <td>chief complaint:  81 yo f smoker w/ copd, sev...</td>\n",
              "      <td>discharge medications:  1. albuterol sulfate ...</td>\n",
              "      <td>discharge disposition:  extended care    faci...</td>\n",
              "      <td>discharge diagnosis:  copd, coronary artery di...</td>\n",
              "      <td>allergies:  amlodipine    attending:&lt;name&gt;</td>\n",
              "      <td>physical exam:  admit h+p  general-lovely 81 ...</td>\n",
              "      <td>5191,5185,496,2762,45340,5533</td>\n",
              "      <td>Misc,Misc,J449,E872,Misc,Misc</td>\n",
              "      <td>3179,311,9672,9605,9605,9605,9605,9605,9605,96...</td>\n",
              "      <td>Misc,Misc,5A1.955Z,0B7.17DZ,0B7.18DZ,0BH.07DZ,...</td>\n",
              "    </tr>\n",
              "    <tr>\n",
              "      <th>3</th>\n",
              "      <td>13702</td>\n",
              "      <td>196489.0</td>\n",
              "      <td>Discharge summary</td>\n",
              "      <td>Report</td>\n",
              "      <td>NaN</td>\n",
              "      <td>Admission Date:  [**2124-7-21**]              ...</td>\n",
              "      <td>admission date:   &lt;date&gt;               dischar...</td>\n",
              "      <td>['Admission Date:', 'Discharge Date:', 'Servic...</td>\n",
              "      <td>[' service: medicine    ', ' social history:  ...</td>\n",
              "      <td>service: medicine</td>\n",
              "      <td>social history:  the patient is married and w...</td>\n",
              "      <td>family history:  (+) fhx cad; father with an ...</td>\n",
              "      <td>past medical history:  # copd flare fev1 40% ...</td>\n",
              "      <td>chief complaint:  copd exacerbation/shortness...</td>\n",
              "      <td>discharge medications:  1. metoprolol succina...</td>\n",
              "      <td>discharge disposition:  extended care    faci...</td>\n",
              "      <td>discharge diagnosis:  primary:  1. chronic obs...</td>\n",
              "      <td>allergies:  amlodipine    attending:&lt;name&gt;</td>\n",
              "      <td>physical exam:  on admission  vitals: t: bp: ...</td>\n",
              "      <td>51884,5849,34830,49121,2760,4160,3594,5780,276...</td>\n",
              "      <td>Misc,N179,Misc,Misc,E870,Misc,Misc,Misc,E872,M...</td>\n",
              "      <td>9672,9604,9604,3891,3893,4513,966,966,966</td>\n",
              "      <td>5A1.955Z,0BH.17EZ,0BH.18EZ,Misc,Misc,0DJ.08ZZ,...</td>\n",
              "    </tr>\n",
              "    <tr>\n",
              "      <th>4</th>\n",
              "      <td>26880</td>\n",
              "      <td>135453.0</td>\n",
              "      <td>Discharge summary</td>\n",
              "      <td>Report</td>\n",
              "      <td>NaN</td>\n",
              "      <td>Admission Date:  [**2162-3-3**]              D...</td>\n",
              "      <td>admission date:   &lt;date&gt;               dischar...</td>\n",
              "      <td>['Admission Date:', 'Discharge Date:', 'Birth:...</td>\n",
              "      <td>[' service: medicine    ', ' social history:  ...</td>\n",
              "      <td>service: medicine</td>\n",
              "      <td>social history:  patient recently discharged ...</td>\n",
              "      <td>family history:  non contributory</td>\n",
              "      <td>past medical history:  coronary artery diseas...</td>\n",
              "      <td>chief complaint:  mr. &lt;name&gt; was seen at &lt;hos...</td>\n",
              "      <td>discharge medications:  1. bisacodyl 10 mg su...</td>\n",
              "      <td>discharge disposition:  extended care    faci...</td>\n",
              "      <td>discharge diagnosis:  1. cervical spondylosis ...</td>\n",
              "      <td>allergies:  patient recorded as having no kno...</td>\n",
              "      <td>physical exam:  phycial exam prior to surgery...</td>\n",
              "      <td>80506,5070,42823,2930,4538,E882,4280,4011,V450...</td>\n",
              "      <td>Misc,J690,Misc,F05,Misc,Misc,I509,Misc,Misc,I4...</td>\n",
              "      <td>8102,8103,353,8163,9671,9671,9604,9604</td>\n",
              "      <td>Misc,Misc,Misc,Misc,5A1.935Z,5A1.945Z,0BH.17EZ...</td>\n",
              "    </tr>\n",
              "    <tr>\n",
              "      <th>...</th>\n",
              "      <td>...</td>\n",
              "      <td>...</td>\n",
              "      <td>...</td>\n",
              "      <td>...</td>\n",
              "      <td>...</td>\n",
              "      <td>...</td>\n",
              "      <td>...</td>\n",
              "      <td>...</td>\n",
              "      <td>...</td>\n",
              "      <td>...</td>\n",
              "      <td>...</td>\n",
              "      <td>...</td>\n",
              "      <td>...</td>\n",
              "      <td>...</td>\n",
              "      <td>...</td>\n",
              "      <td>...</td>\n",
              "      <td>...</td>\n",
              "      <td>...</td>\n",
              "      <td>...</td>\n",
              "      <td>...</td>\n",
              "      <td>...</td>\n",
              "      <td>...</td>\n",
              "      <td>...</td>\n",
              "    </tr>\n",
              "    <tr>\n",
              "      <th>59647</th>\n",
              "      <td>93924</td>\n",
              "      <td>135672.0</td>\n",
              "      <td>Discharge summary</td>\n",
              "      <td>Addendum</td>\n",
              "      <td>NaN</td>\n",
              "      <td>Name:  [**Known lastname 18321**],[**Known fir...</td>\n",
              "      <td>name:  &lt;name&gt;,&lt;name&gt;                  unit no:...</td>\n",
              "      <td>['Name:', 'Unit No:', 'Admission Date:', 'Disc...</td>\n",
              "      <td>[' service: medicine    ', ' social history:  ...</td>\n",
              "      <td>service: medicine</td>\n",
              "      <td>social history:  patient is married with 3 gr...</td>\n",
              "      <td>family history:  &lt;name&gt; son was diagnosed wit...</td>\n",
              "      <td>past medical history:  # diabetes mellitus, t...</td>\n",
              "      <td>chief complaint:  small bowel perforation, ga...</td>\n",
              "      <td>discharge medications:  1. oxycodone-acetamin...</td>\n",
              "      <td>discharge disposition:  home with service    ...</td>\n",
              "      <td>discharge diagnosis:  peritonitis secondary to...</td>\n",
              "      <td>allergies:  gluten / gentamicin / zithromax  ...</td>\n",
              "      <td>physical exam:  gen: chronically ill appearin...</td>\n",
              "      <td>0389,56983,0785,00869,56721,78552,20280,99662,...</td>\n",
              "      <td>A419,Misc,Misc,Misc,Misc,R6521,Misc,Misc,Misc,...</td>\n",
              "      <td>4562,3893,3893</td>\n",
              "      <td>Misc,Misc,Misc</td>\n",
              "    </tr>\n",
              "    <tr>\n",
              "      <th>59648</th>\n",
              "      <td>17782</td>\n",
              "      <td>155710.0</td>\n",
              "      <td>Discharge summary</td>\n",
              "      <td>Addendum</td>\n",
              "      <td>NaN</td>\n",
              "      <td>Name:  [**Known lastname 2706**], [**Known fir...</td>\n",
              "      <td>name:  &lt;name&gt;, &lt;name&gt; i.                      ...</td>\n",
              "      <td>['Name:', 'Unit No:', 'Admission Date:', 'Disc...</td>\n",
              "      <td>[\" service:  &lt;name&gt; me    addendum:    events ...</td>\n",
              "      <td>service:  &lt;name&gt; me    addendum:    events fo...</td>\n",
              "      <td>NaN</td>\n",
              "      <td>NaN</td>\n",
              "      <td>NaN</td>\n",
              "      <td>NaN</td>\n",
              "      <td>discharge medications:  1.  albuterol and ipra...</td>\n",
              "      <td>NaN</td>\n",
              "      <td>NaN</td>\n",
              "      <td>NaN</td>\n",
              "      <td>NaN</td>\n",
              "      <td>486,51881,51881,5849,4280,0389,2859,4019,53081...</td>\n",
              "      <td>J189,J9600,J9690,N179,I509,A419,D649,I10,K219,...</td>\n",
              "      <td>NaN</td>\n",
              "      <td>NaN</td>\n",
              "    </tr>\n",
              "    <tr>\n",
              "      <th>59649</th>\n",
              "      <td>96333</td>\n",
              "      <td>183951.0</td>\n",
              "      <td>Discharge summary</td>\n",
              "      <td>Addendum</td>\n",
              "      <td>NaN</td>\n",
              "      <td>Name:  [**Known lastname 18357**]-[**Known las...</td>\n",
              "      <td>name:  &lt;name&gt;-&lt;name&gt;,&lt;name&gt;        unit no:   ...</td>\n",
              "      <td>['Name:', 'Unit No:', 'Admission Date:', 'Disc...</td>\n",
              "      <td>[' service: neurosurgery    ', None, None, Non...</td>\n",
              "      <td>service: neurosurgery</td>\n",
              "      <td>NaN</td>\n",
              "      <td>NaN</td>\n",
              "      <td>NaN</td>\n",
              "      <td>NaN</td>\n",
              "      <td>NaN</td>\n",
              "      <td>discharge disposition:  expired               ...</td>\n",
              "      <td>NaN</td>\n",
              "      <td>allergies:  no known allergies / adverse drug...</td>\n",
              "      <td>NaN</td>\n",
              "      <td>430,51881,51881,3314,3484,3485,4019,7242,78001</td>\n",
              "      <td>Misc,J9600,J9690,Misc,Misc,Misc,I10,Misc,Misc</td>\n",
              "      <td>3972,221,125,212,8841,9671,9671,110,3893</td>\n",
              "      <td>Misc,Misc,Misc,Misc,Misc,5A1.935Z,5A1.945Z,Mis...</td>\n",
              "    </tr>\n",
              "    <tr>\n",
              "      <th>59650</th>\n",
              "      <td>66717</td>\n",
              "      <td>169165.0</td>\n",
              "      <td>Discharge summary</td>\n",
              "      <td>Addendum</td>\n",
              "      <td>NaN</td>\n",
              "      <td>Name:  [**Known lastname **],[**Known firstnam...</td>\n",
              "      <td>name:  &lt;name&gt;,&lt;name&gt; j                  unit n...</td>\n",
              "      <td>['Name:', 'Unit No:', 'Admission Date:', 'Disc...</td>\n",
              "      <td>[' service: cardiothoracic    ', None, None, N...</td>\n",
              "      <td>service: cardiothoracic</td>\n",
              "      <td>NaN</td>\n",
              "      <td>NaN</td>\n",
              "      <td>NaN</td>\n",
              "      <td>NaN</td>\n",
              "      <td>discharge medications:  1. aspirin 81 mg po d...</td>\n",
              "      <td>discharge disposition:  extended care    facil...</td>\n",
              "      <td>NaN</td>\n",
              "      <td>allergies:  no known allergies / adverse drug...</td>\n",
              "      <td>NaN</td>\n",
              "      <td>4260,41401,42731,V5861,4019,2724,2724,V1254,25...</td>\n",
              "      <td>Misc,I2510,I4891,Z7901,I10,E784,E785,Misc,E119...</td>\n",
              "      <td>3521,3611,3799,3961</td>\n",
              "      <td>Misc,Misc,Misc,5A1.221Z</td>\n",
              "    </tr>\n",
              "    <tr>\n",
              "      <th>59651</th>\n",
              "      <td>73790</td>\n",
              "      <td>157100.0</td>\n",
              "      <td>Discharge summary</td>\n",
              "      <td>Addendum</td>\n",
              "      <td>NaN</td>\n",
              "      <td>Name:  [**Known lastname 12459**],[**Known fir...</td>\n",
              "      <td>name:  &lt;name&gt;,&lt;name&gt; a                 unit no...</td>\n",
              "      <td>['Name:', 'Unit No:', 'Admission Date:', 'Disc...</td>\n",
              "      <td>[' service: medicine    ', None, None, None, N...</td>\n",
              "      <td>service: medicine</td>\n",
              "      <td>NaN</td>\n",
              "      <td>NaN</td>\n",
              "      <td>NaN</td>\n",
              "      <td>NaN</td>\n",
              "      <td>NaN</td>\n",
              "      <td>discharge disposition:  home with service    f...</td>\n",
              "      <td>NaN</td>\n",
              "      <td>allergies:  novocain / ciprofloxacin    atten...</td>\n",
              "      <td>NaN</td>\n",
              "      <td>5723,45620,1539,1977,7907,2851,6930,78791,5308...</td>\n",
              "      <td>Misc,Misc,Misc,Misc,R7881,D62,Misc,Misc,Misc,M...</td>\n",
              "      <td>4513,9604,9604,4233,9671,9671</td>\n",
              "      <td>0DJ.08ZZ,0BH.17EZ,0BH.18EZ,Misc,5A1.935Z,5A1.945Z</td>\n",
              "    </tr>\n",
              "  </tbody>\n",
              "</table>\n",
              "<p>59652 rows × 23 columns</p>\n",
              "</div>"
            ],
            "text/plain": [
              "       SUBJECT_ID  ...                                          icd10_pcs\n",
              "0           22532  ...                   Misc,0W9.93ZZ,0W9.B3ZZ,Misc,Misc\n",
              "1           13702  ...  5A0.9357,5A0.9457,5A0.9557,0DH.67UZ,0DH.68UZ,3...\n",
              "2           13702  ...  Misc,Misc,5A1.955Z,0B7.17DZ,0B7.18DZ,0BH.07DZ,...\n",
              "3           13702  ...  5A1.955Z,0BH.17EZ,0BH.18EZ,Misc,Misc,0DJ.08ZZ,...\n",
              "4           26880  ...  Misc,Misc,Misc,Misc,5A1.935Z,5A1.945Z,0BH.17EZ...\n",
              "...           ...  ...                                                ...\n",
              "59647       93924  ...                                     Misc,Misc,Misc\n",
              "59648       17782  ...                                                NaN\n",
              "59649       96333  ...  Misc,Misc,Misc,Misc,Misc,5A1.935Z,5A1.945Z,Mis...\n",
              "59650       66717  ...                            Misc,Misc,Misc,5A1.221Z\n",
              "59651       73790  ...  0DJ.08ZZ,0BH.17EZ,0BH.18EZ,Misc,5A1.935Z,5A1.945Z\n",
              "\n",
              "[59652 rows x 23 columns]"
            ]
          },
          "metadata": {
            "tags": []
          },
          "execution_count": 49
        }
      ]
    },
    {
      "cell_type": "code",
      "metadata": {
        "id": "QUA8Wo54Ztv5",
        "colab": {
          "base_uri": "https://localhost:8080/"
        },
        "outputId": "75f02842-c9e3-4dfd-ad2e-25e4869531fd"
      },
      "source": [
        "# Unique category of notesevents table here- 'discharge summaries'\r\n",
        "notes_icd.CATEGORY.unique()"
      ],
      "execution_count": null,
      "outputs": [
        {
          "output_type": "execute_result",
          "data": {
            "text/plain": [
              "array(['Discharge summary'], dtype=object)"
            ]
          },
          "metadata": {
            "tags": []
          },
          "execution_count": 50
        }
      ]
    },
    {
      "cell_type": "code",
      "metadata": {
        "id": "Ffu3OGhCAXPE",
        "colab": {
          "base_uri": "https://localhost:8080/"
        },
        "outputId": "d30fc232-63bf-429a-bf60-8ce2bc52ff9a"
      },
      "source": [
        "# Unique Admids in the discharge summaries\r\n",
        "notes_icd.HADM_ID.nunique()"
      ],
      "execution_count": null,
      "outputs": [
        {
          "output_type": "execute_result",
          "data": {
            "text/plain": [
              "52726"
            ]
          },
          "metadata": {
            "tags": []
          },
          "execution_count": 51
        }
      ]
    },
    {
      "cell_type": "code",
      "metadata": {
        "id": "HaVkxwsBAXjj",
        "colab": {
          "base_uri": "https://localhost:8080/",
          "height": 103
        },
        "outputId": "1df790a7-114d-495d-999f-b8827cdbd35f"
      },
      "source": [
        "#number of admids that are nan\r\n",
        "notes_icd.loc[notes_icd.HADM_ID.isna()]"
      ],
      "execution_count": null,
      "outputs": [
        {
          "output_type": "execute_result",
          "data": {
            "text/html": [
              "<div>\n",
              "<style scoped>\n",
              "    .dataframe tbody tr th:only-of-type {\n",
              "        vertical-align: middle;\n",
              "    }\n",
              "\n",
              "    .dataframe tbody tr th {\n",
              "        vertical-align: top;\n",
              "    }\n",
              "\n",
              "    .dataframe thead th {\n",
              "        text-align: right;\n",
              "    }\n",
              "</style>\n",
              "<table border=\"1\" class=\"dataframe\">\n",
              "  <thead>\n",
              "    <tr style=\"text-align: right;\">\n",
              "      <th></th>\n",
              "      <th>SUBJECT_ID</th>\n",
              "      <th>HADM_ID</th>\n",
              "      <th>CATEGORY</th>\n",
              "      <th>DESCRIPTION</th>\n",
              "      <th>ISERROR</th>\n",
              "      <th>TEXT</th>\n",
              "      <th>text_mod</th>\n",
              "      <th>sec</th>\n",
              "      <th>split</th>\n",
              "      <th>service:</th>\n",
              "      <th>social history:</th>\n",
              "      <th>family history:</th>\n",
              "      <th>past medical history:</th>\n",
              "      <th>chief complaint:</th>\n",
              "      <th>discharge medications:</th>\n",
              "      <th>discharge disposition:</th>\n",
              "      <th>discharge diagnosis:</th>\n",
              "      <th>allergies:</th>\n",
              "      <th>physical exam:</th>\n",
              "      <th>ICD9_CODE_x</th>\n",
              "      <th>ICD10</th>\n",
              "      <th>ICD9_CODE_y</th>\n",
              "      <th>icd10_pcs</th>\n",
              "    </tr>\n",
              "  </thead>\n",
              "  <tbody>\n",
              "  </tbody>\n",
              "</table>\n",
              "</div>"
            ],
            "text/plain": [
              "Empty DataFrame\n",
              "Columns: [SUBJECT_ID, HADM_ID, CATEGORY, DESCRIPTION, ISERROR, TEXT, text_mod, sec, split, service:, social history:, family history:, past medical history:, chief complaint:, discharge medications:, discharge disposition:, discharge diagnosis:, allergies:, physical exam:, ICD9_CODE_x, ICD10, ICD9_CODE_y, icd10_pcs]\n",
              "Index: []"
            ]
          },
          "metadata": {
            "tags": []
          },
          "execution_count": 52
        }
      ]
    },
    {
      "cell_type": "code",
      "metadata": {
        "colab": {
          "base_uri": "https://localhost:8080/",
          "height": 103
        },
        "id": "8jBNR4Rs8vc2",
        "outputId": "17b0edac-3180-4d44-a7cd-aa3a163463eb"
      },
      "source": [
        "#number of text that are nan\r\n",
        "notes_icd.loc[notes_icd.TEXT.isna()]"
      ],
      "execution_count": null,
      "outputs": [
        {
          "output_type": "execute_result",
          "data": {
            "text/html": [
              "<div>\n",
              "<style scoped>\n",
              "    .dataframe tbody tr th:only-of-type {\n",
              "        vertical-align: middle;\n",
              "    }\n",
              "\n",
              "    .dataframe tbody tr th {\n",
              "        vertical-align: top;\n",
              "    }\n",
              "\n",
              "    .dataframe thead th {\n",
              "        text-align: right;\n",
              "    }\n",
              "</style>\n",
              "<table border=\"1\" class=\"dataframe\">\n",
              "  <thead>\n",
              "    <tr style=\"text-align: right;\">\n",
              "      <th></th>\n",
              "      <th>SUBJECT_ID</th>\n",
              "      <th>HADM_ID</th>\n",
              "      <th>CATEGORY</th>\n",
              "      <th>DESCRIPTION</th>\n",
              "      <th>ISERROR</th>\n",
              "      <th>TEXT</th>\n",
              "      <th>text_mod</th>\n",
              "      <th>sec</th>\n",
              "      <th>split</th>\n",
              "      <th>service:</th>\n",
              "      <th>social history:</th>\n",
              "      <th>family history:</th>\n",
              "      <th>past medical history:</th>\n",
              "      <th>chief complaint:</th>\n",
              "      <th>discharge medications:</th>\n",
              "      <th>discharge disposition:</th>\n",
              "      <th>discharge diagnosis:</th>\n",
              "      <th>allergies:</th>\n",
              "      <th>physical exam:</th>\n",
              "      <th>ICD9_CODE_x</th>\n",
              "      <th>ICD10</th>\n",
              "      <th>ICD9_CODE_y</th>\n",
              "      <th>icd10_pcs</th>\n",
              "    </tr>\n",
              "  </thead>\n",
              "  <tbody>\n",
              "  </tbody>\n",
              "</table>\n",
              "</div>"
            ],
            "text/plain": [
              "Empty DataFrame\n",
              "Columns: [SUBJECT_ID, HADM_ID, CATEGORY, DESCRIPTION, ISERROR, TEXT, text_mod, sec, split, service:, social history:, family history:, past medical history:, chief complaint:, discharge medications:, discharge disposition:, discharge diagnosis:, allergies:, physical exam:, ICD9_CODE_x, ICD10, ICD9_CODE_y, icd10_pcs]\n",
              "Index: []"
            ]
          },
          "metadata": {
            "tags": []
          },
          "execution_count": 53
        }
      ]
    },
    {
      "cell_type": "code",
      "metadata": {
        "id": "fbx8ze_ADdaE",
        "colab": {
          "base_uri": "https://localhost:8080/"
        },
        "outputId": "5a8ea61b-d737-42c1-98da-caf3ac85325b"
      },
      "source": [
        "# number of admids that have notes but not admids\n",
        "print(\"Number of admids without ICD codes :\",notes_icd.loc[notes_icd.ICD9_CODE_x.isna()].HADM_ID.count())\n",
        "print(\"Number of unique admids without ICD codes:\", notes_icd.loc[notes_icd.ICD9_CODE_x.isna()].HADM_ID.nunique())"
      ],
      "execution_count": null,
      "outputs": [
        {
          "output_type": "stream",
          "text": [
            "Number of admids without ICD codes : 6\n",
            "Number of unique admids without ICD codes: 4\n"
          ],
          "name": "stdout"
        }
      ]
    },
    {
      "cell_type": "code",
      "metadata": {
        "id": "Vt6bk3qsAW_n"
      },
      "source": [
        "# admids that have discharge summaries but not ICD codes\r\n",
        "admid_withnotes_withoutICD=notes_icd.loc[notes_icd.ICD9_CODE_x.isna()].HADM_ID.to_list()"
      ],
      "execution_count": null,
      "outputs": []
    },
    {
      "cell_type": "code",
      "metadata": {
        "id": "iJ0T86mdBTey",
        "colab": {
          "base_uri": "https://localhost:8080/"
        },
        "outputId": "7ee80115-c64d-4928-b0a4-b2a5cbc6cc69"
      },
      "source": [
        "len(admid_withnotes_withoutICD)"
      ],
      "execution_count": null,
      "outputs": [
        {
          "output_type": "execute_result",
          "data": {
            "text/plain": [
              "6"
            ]
          },
          "metadata": {
            "tags": []
          },
          "execution_count": 56
        }
      ]
    },
    {
      "cell_type": "code",
      "metadata": {
        "id": "2OK5NZnVCAih",
        "colab": {
          "base_uri": "https://localhost:8080/"
        },
        "outputId": "2beab9cc-b58c-41bf-9419-2f171e5f0d36"
      },
      "source": [
        "print(admid_withnotes_withoutICD)"
      ],
      "execution_count": null,
      "outputs": [
        {
          "output_type": "stream",
          "text": [
            "[110220.0, 110220.0, 182252.0, 109963.0, 142890.0, 109963.0]\n"
          ],
          "name": "stdout"
        }
      ]
    },
    {
      "cell_type": "code",
      "metadata": {
        "id": "sG1y_AHwC5T4"
      },
      "source": [
        "notes_icd_agg=notes_icd.drop(['SUBJECT_ID','ISERROR'],axis=1)"
      ],
      "execution_count": null,
      "outputs": []
    },
    {
      "cell_type": "code",
      "metadata": {
        "id": "sgVrEJuJC5Pf"
      },
      "source": [
        "notes_icd_agg.fillna('',inplace=True)"
      ],
      "execution_count": null,
      "outputs": []
    },
    {
      "cell_type": "code",
      "metadata": {
        "id": "RB3LQEcdC5K_",
        "colab": {
          "base_uri": "https://localhost:8080/",
          "height": 1000
        },
        "outputId": "8fdb9c39-f08d-4966-fffa-443e7c206dc1"
      },
      "source": [
        "notes_icd_agg"
      ],
      "execution_count": null,
      "outputs": [
        {
          "output_type": "execute_result",
          "data": {
            "text/html": [
              "<div>\n",
              "<style scoped>\n",
              "    .dataframe tbody tr th:only-of-type {\n",
              "        vertical-align: middle;\n",
              "    }\n",
              "\n",
              "    .dataframe tbody tr th {\n",
              "        vertical-align: top;\n",
              "    }\n",
              "\n",
              "    .dataframe thead th {\n",
              "        text-align: right;\n",
              "    }\n",
              "</style>\n",
              "<table border=\"1\" class=\"dataframe\">\n",
              "  <thead>\n",
              "    <tr style=\"text-align: right;\">\n",
              "      <th></th>\n",
              "      <th>HADM_ID</th>\n",
              "      <th>CATEGORY</th>\n",
              "      <th>DESCRIPTION</th>\n",
              "      <th>TEXT</th>\n",
              "      <th>text_mod</th>\n",
              "      <th>sec</th>\n",
              "      <th>split</th>\n",
              "      <th>service:</th>\n",
              "      <th>social history:</th>\n",
              "      <th>family history:</th>\n",
              "      <th>past medical history:</th>\n",
              "      <th>chief complaint:</th>\n",
              "      <th>discharge medications:</th>\n",
              "      <th>discharge disposition:</th>\n",
              "      <th>discharge diagnosis:</th>\n",
              "      <th>allergies:</th>\n",
              "      <th>physical exam:</th>\n",
              "      <th>ICD9_CODE_x</th>\n",
              "      <th>ICD10</th>\n",
              "      <th>ICD9_CODE_y</th>\n",
              "      <th>icd10_pcs</th>\n",
              "    </tr>\n",
              "  </thead>\n",
              "  <tbody>\n",
              "    <tr>\n",
              "      <th>0</th>\n",
              "      <td>167853.0</td>\n",
              "      <td>Discharge summary</td>\n",
              "      <td>Report</td>\n",
              "      <td>Admission Date:  [**2151-7-16**]       Dischar...</td>\n",
              "      <td>admission date:   &lt;date&gt;        discharge date...</td>\n",
              "      <td>['Admission Date:', 'Discharge Date:', 'Servic...</td>\n",
              "      <td>['service:  addendum:    radiologic studies:  ...</td>\n",
              "      <td>service:  addendum:    radiologic studies:  ra...</td>\n",
              "      <td></td>\n",
              "      <td></td>\n",
              "      <td></td>\n",
              "      <td></td>\n",
              "      <td></td>\n",
              "      <td></td>\n",
              "      <td></td>\n",
              "      <td></td>\n",
              "      <td></td>\n",
              "      <td>01193,4254,4254,42731,2639,2762,5070,5119,2113</td>\n",
              "      <td>Misc,I425,I428,I4891,E46,E872,J690,J918,Misc</td>\n",
              "      <td>4542,3491,3491,3893,3891</td>\n",
              "      <td>Misc,0W9.93ZZ,0W9.B3ZZ,Misc,Misc</td>\n",
              "    </tr>\n",
              "    <tr>\n",
              "      <th>1</th>\n",
              "      <td>107527.0</td>\n",
              "      <td>Discharge summary</td>\n",
              "      <td>Report</td>\n",
              "      <td>Admission Date:  [**2118-6-2**]       Discharg...</td>\n",
              "      <td>admission date:   &lt;date&gt;        discharge date...</td>\n",
              "      <td>['Admission Date:', 'Discharge Date:', 'Birth:...</td>\n",
              "      <td>[' service:  micu and then to &lt;name&gt; medicine ...</td>\n",
              "      <td>service:  micu and then to &lt;name&gt; medicine   ...</td>\n",
              "      <td>social history:  lives with her husband, dr. ...</td>\n",
              "      <td>family history:  noncontributory.</td>\n",
              "      <td>past medical history:  1. copd.  last pulmona...</td>\n",
              "      <td></td>\n",
              "      <td>discharge medications:  1. levothyroxine 75 mc...</td>\n",
              "      <td></td>\n",
              "      <td></td>\n",
              "      <td>allergies:  norvasc leads to lightheadedness ...</td>\n",
              "      <td></td>\n",
              "      <td>5191,49121,51881,51881,486,2761,2449,311</td>\n",
              "      <td>Misc,Misc,J9600,J9690,J189,E871,E039,F329</td>\n",
              "      <td>9390,9390,9390,966,966,966,3199,9671,9671,9604...</td>\n",
              "      <td>5A0.9357,5A0.9457,5A0.9557,0DH.67UZ,0DH.68UZ,3...</td>\n",
              "    </tr>\n",
              "    <tr>\n",
              "      <th>2</th>\n",
              "      <td>167118.0</td>\n",
              "      <td>Discharge summary</td>\n",
              "      <td>Report</td>\n",
              "      <td>Admission Date:  [**2119-5-4**]              D...</td>\n",
              "      <td>admission date:   &lt;date&gt;               dischar...</td>\n",
              "      <td>['Admission Date:', 'Discharge Date:', 'Servic...</td>\n",
              "      <td>[' service: cardiothoracic    ', ' social hist...</td>\n",
              "      <td>service: cardiothoracic</td>\n",
              "      <td>social history:  social history: the patient ...</td>\n",
              "      <td>family history:  family history: (+) fhx cad;...</td>\n",
              "      <td>past medical history:  copd flare [**6-7**] s...</td>\n",
              "      <td>chief complaint:  81 yo f smoker w/ copd, sev...</td>\n",
              "      <td>discharge medications:  1. albuterol sulfate ...</td>\n",
              "      <td>discharge disposition:  extended care    faci...</td>\n",
              "      <td>discharge diagnosis:  copd, coronary artery di...</td>\n",
              "      <td>allergies:  amlodipine    attending:&lt;name&gt;</td>\n",
              "      <td>physical exam:  admit h+p  general-lovely 81 ...</td>\n",
              "      <td>5191,5185,496,2762,45340,5533</td>\n",
              "      <td>Misc,Misc,J449,E872,Misc,Misc</td>\n",
              "      <td>3179,311,9672,9605,9605,9605,9605,9605,9605,96...</td>\n",
              "      <td>Misc,Misc,5A1.955Z,0B7.17DZ,0B7.18DZ,0BH.07DZ,...</td>\n",
              "    </tr>\n",
              "    <tr>\n",
              "      <th>3</th>\n",
              "      <td>196489.0</td>\n",
              "      <td>Discharge summary</td>\n",
              "      <td>Report</td>\n",
              "      <td>Admission Date:  [**2124-7-21**]              ...</td>\n",
              "      <td>admission date:   &lt;date&gt;               dischar...</td>\n",
              "      <td>['Admission Date:', 'Discharge Date:', 'Servic...</td>\n",
              "      <td>[' service: medicine    ', ' social history:  ...</td>\n",
              "      <td>service: medicine</td>\n",
              "      <td>social history:  the patient is married and w...</td>\n",
              "      <td>family history:  (+) fhx cad; father with an ...</td>\n",
              "      <td>past medical history:  # copd flare fev1 40% ...</td>\n",
              "      <td>chief complaint:  copd exacerbation/shortness...</td>\n",
              "      <td>discharge medications:  1. metoprolol succina...</td>\n",
              "      <td>discharge disposition:  extended care    faci...</td>\n",
              "      <td>discharge diagnosis:  primary:  1. chronic obs...</td>\n",
              "      <td>allergies:  amlodipine    attending:&lt;name&gt;</td>\n",
              "      <td>physical exam:  on admission  vitals: t: bp: ...</td>\n",
              "      <td>51884,5849,34830,49121,2760,4160,3594,5780,276...</td>\n",
              "      <td>Misc,N179,Misc,Misc,E870,Misc,Misc,Misc,E872,M...</td>\n",
              "      <td>9672,9604,9604,3891,3893,4513,966,966,966</td>\n",
              "      <td>5A1.955Z,0BH.17EZ,0BH.18EZ,Misc,Misc,0DJ.08ZZ,...</td>\n",
              "    </tr>\n",
              "    <tr>\n",
              "      <th>4</th>\n",
              "      <td>135453.0</td>\n",
              "      <td>Discharge summary</td>\n",
              "      <td>Report</td>\n",
              "      <td>Admission Date:  [**2162-3-3**]              D...</td>\n",
              "      <td>admission date:   &lt;date&gt;               dischar...</td>\n",
              "      <td>['Admission Date:', 'Discharge Date:', 'Birth:...</td>\n",
              "      <td>[' service: medicine    ', ' social history:  ...</td>\n",
              "      <td>service: medicine</td>\n",
              "      <td>social history:  patient recently discharged ...</td>\n",
              "      <td>family history:  non contributory</td>\n",
              "      <td>past medical history:  coronary artery diseas...</td>\n",
              "      <td>chief complaint:  mr. &lt;name&gt; was seen at &lt;hos...</td>\n",
              "      <td>discharge medications:  1. bisacodyl 10 mg su...</td>\n",
              "      <td>discharge disposition:  extended care    faci...</td>\n",
              "      <td>discharge diagnosis:  1. cervical spondylosis ...</td>\n",
              "      <td>allergies:  patient recorded as having no kno...</td>\n",
              "      <td>physical exam:  phycial exam prior to surgery...</td>\n",
              "      <td>80506,5070,42823,2930,4538,E882,4280,4011,V450...</td>\n",
              "      <td>Misc,J690,Misc,F05,Misc,Misc,I509,Misc,Misc,I4...</td>\n",
              "      <td>8102,8103,353,8163,9671,9671,9604,9604</td>\n",
              "      <td>Misc,Misc,Misc,Misc,5A1.935Z,5A1.945Z,0BH.17EZ...</td>\n",
              "    </tr>\n",
              "    <tr>\n",
              "      <th>...</th>\n",
              "      <td>...</td>\n",
              "      <td>...</td>\n",
              "      <td>...</td>\n",
              "      <td>...</td>\n",
              "      <td>...</td>\n",
              "      <td>...</td>\n",
              "      <td>...</td>\n",
              "      <td>...</td>\n",
              "      <td>...</td>\n",
              "      <td>...</td>\n",
              "      <td>...</td>\n",
              "      <td>...</td>\n",
              "      <td>...</td>\n",
              "      <td>...</td>\n",
              "      <td>...</td>\n",
              "      <td>...</td>\n",
              "      <td>...</td>\n",
              "      <td>...</td>\n",
              "      <td>...</td>\n",
              "      <td>...</td>\n",
              "      <td>...</td>\n",
              "    </tr>\n",
              "    <tr>\n",
              "      <th>59647</th>\n",
              "      <td>135672.0</td>\n",
              "      <td>Discharge summary</td>\n",
              "      <td>Addendum</td>\n",
              "      <td>Name:  [**Known lastname 18321**],[**Known fir...</td>\n",
              "      <td>name:  &lt;name&gt;,&lt;name&gt;                  unit no:...</td>\n",
              "      <td>['Name:', 'Unit No:', 'Admission Date:', 'Disc...</td>\n",
              "      <td>[' service: medicine    ', ' social history:  ...</td>\n",
              "      <td>service: medicine</td>\n",
              "      <td>social history:  patient is married with 3 gr...</td>\n",
              "      <td>family history:  &lt;name&gt; son was diagnosed wit...</td>\n",
              "      <td>past medical history:  # diabetes mellitus, t...</td>\n",
              "      <td>chief complaint:  small bowel perforation, ga...</td>\n",
              "      <td>discharge medications:  1. oxycodone-acetamin...</td>\n",
              "      <td>discharge disposition:  home with service    ...</td>\n",
              "      <td>discharge diagnosis:  peritonitis secondary to...</td>\n",
              "      <td>allergies:  gluten / gentamicin / zithromax  ...</td>\n",
              "      <td>physical exam:  gen: chronically ill appearin...</td>\n",
              "      <td>0389,56983,0785,00869,56721,78552,20280,99662,...</td>\n",
              "      <td>A419,Misc,Misc,Misc,Misc,R6521,Misc,Misc,Misc,...</td>\n",
              "      <td>4562,3893,3893</td>\n",
              "      <td>Misc,Misc,Misc</td>\n",
              "    </tr>\n",
              "    <tr>\n",
              "      <th>59648</th>\n",
              "      <td>155710.0</td>\n",
              "      <td>Discharge summary</td>\n",
              "      <td>Addendum</td>\n",
              "      <td>Name:  [**Known lastname 2706**], [**Known fir...</td>\n",
              "      <td>name:  &lt;name&gt;, &lt;name&gt; i.                      ...</td>\n",
              "      <td>['Name:', 'Unit No:', 'Admission Date:', 'Disc...</td>\n",
              "      <td>[\" service:  &lt;name&gt; me    addendum:    events ...</td>\n",
              "      <td>service:  &lt;name&gt; me    addendum:    events fo...</td>\n",
              "      <td></td>\n",
              "      <td></td>\n",
              "      <td></td>\n",
              "      <td></td>\n",
              "      <td>discharge medications:  1.  albuterol and ipra...</td>\n",
              "      <td></td>\n",
              "      <td></td>\n",
              "      <td></td>\n",
              "      <td></td>\n",
              "      <td>486,51881,51881,5849,4280,0389,2859,4019,53081...</td>\n",
              "      <td>J189,J9600,J9690,N179,I509,A419,D649,I10,K219,...</td>\n",
              "      <td></td>\n",
              "      <td></td>\n",
              "    </tr>\n",
              "    <tr>\n",
              "      <th>59649</th>\n",
              "      <td>183951.0</td>\n",
              "      <td>Discharge summary</td>\n",
              "      <td>Addendum</td>\n",
              "      <td>Name:  [**Known lastname 18357**]-[**Known las...</td>\n",
              "      <td>name:  &lt;name&gt;-&lt;name&gt;,&lt;name&gt;        unit no:   ...</td>\n",
              "      <td>['Name:', 'Unit No:', 'Admission Date:', 'Disc...</td>\n",
              "      <td>[' service: neurosurgery    ', None, None, Non...</td>\n",
              "      <td>service: neurosurgery</td>\n",
              "      <td></td>\n",
              "      <td></td>\n",
              "      <td></td>\n",
              "      <td></td>\n",
              "      <td></td>\n",
              "      <td>discharge disposition:  expired               ...</td>\n",
              "      <td></td>\n",
              "      <td>allergies:  no known allergies / adverse drug...</td>\n",
              "      <td></td>\n",
              "      <td>430,51881,51881,3314,3484,3485,4019,7242,78001</td>\n",
              "      <td>Misc,J9600,J9690,Misc,Misc,Misc,I10,Misc,Misc</td>\n",
              "      <td>3972,221,125,212,8841,9671,9671,110,3893</td>\n",
              "      <td>Misc,Misc,Misc,Misc,Misc,5A1.935Z,5A1.945Z,Mis...</td>\n",
              "    </tr>\n",
              "    <tr>\n",
              "      <th>59650</th>\n",
              "      <td>169165.0</td>\n",
              "      <td>Discharge summary</td>\n",
              "      <td>Addendum</td>\n",
              "      <td>Name:  [**Known lastname **],[**Known firstnam...</td>\n",
              "      <td>name:  &lt;name&gt;,&lt;name&gt; j                  unit n...</td>\n",
              "      <td>['Name:', 'Unit No:', 'Admission Date:', 'Disc...</td>\n",
              "      <td>[' service: cardiothoracic    ', None, None, N...</td>\n",
              "      <td>service: cardiothoracic</td>\n",
              "      <td></td>\n",
              "      <td></td>\n",
              "      <td></td>\n",
              "      <td></td>\n",
              "      <td>discharge medications:  1. aspirin 81 mg po d...</td>\n",
              "      <td>discharge disposition:  extended care    facil...</td>\n",
              "      <td></td>\n",
              "      <td>allergies:  no known allergies / adverse drug...</td>\n",
              "      <td></td>\n",
              "      <td>4260,41401,42731,V5861,4019,2724,2724,V1254,25...</td>\n",
              "      <td>Misc,I2510,I4891,Z7901,I10,E784,E785,Misc,E119...</td>\n",
              "      <td>3521,3611,3799,3961</td>\n",
              "      <td>Misc,Misc,Misc,5A1.221Z</td>\n",
              "    </tr>\n",
              "    <tr>\n",
              "      <th>59651</th>\n",
              "      <td>157100.0</td>\n",
              "      <td>Discharge summary</td>\n",
              "      <td>Addendum</td>\n",
              "      <td>Name:  [**Known lastname 12459**],[**Known fir...</td>\n",
              "      <td>name:  &lt;name&gt;,&lt;name&gt; a                 unit no...</td>\n",
              "      <td>['Name:', 'Unit No:', 'Admission Date:', 'Disc...</td>\n",
              "      <td>[' service: medicine    ', None, None, None, N...</td>\n",
              "      <td>service: medicine</td>\n",
              "      <td></td>\n",
              "      <td></td>\n",
              "      <td></td>\n",
              "      <td></td>\n",
              "      <td></td>\n",
              "      <td>discharge disposition:  home with service    f...</td>\n",
              "      <td></td>\n",
              "      <td>allergies:  novocain / ciprofloxacin    atten...</td>\n",
              "      <td></td>\n",
              "      <td>5723,45620,1539,1977,7907,2851,6930,78791,5308...</td>\n",
              "      <td>Misc,Misc,Misc,Misc,R7881,D62,Misc,Misc,Misc,M...</td>\n",
              "      <td>4513,9604,9604,4233,9671,9671</td>\n",
              "      <td>0DJ.08ZZ,0BH.17EZ,0BH.18EZ,Misc,5A1.935Z,5A1.945Z</td>\n",
              "    </tr>\n",
              "  </tbody>\n",
              "</table>\n",
              "<p>59652 rows × 21 columns</p>\n",
              "</div>"
            ],
            "text/plain": [
              "        HADM_ID  ...                                          icd10_pcs\n",
              "0      167853.0  ...                   Misc,0W9.93ZZ,0W9.B3ZZ,Misc,Misc\n",
              "1      107527.0  ...  5A0.9357,5A0.9457,5A0.9557,0DH.67UZ,0DH.68UZ,3...\n",
              "2      167118.0  ...  Misc,Misc,5A1.955Z,0B7.17DZ,0B7.18DZ,0BH.07DZ,...\n",
              "3      196489.0  ...  5A1.955Z,0BH.17EZ,0BH.18EZ,Misc,Misc,0DJ.08ZZ,...\n",
              "4      135453.0  ...  Misc,Misc,Misc,Misc,5A1.935Z,5A1.945Z,0BH.17EZ...\n",
              "...         ...  ...                                                ...\n",
              "59647  135672.0  ...                                     Misc,Misc,Misc\n",
              "59648  155710.0  ...                                                   \n",
              "59649  183951.0  ...  Misc,Misc,Misc,Misc,Misc,5A1.935Z,5A1.945Z,Mis...\n",
              "59650  169165.0  ...                            Misc,Misc,Misc,5A1.221Z\n",
              "59651  157100.0  ...  0DJ.08ZZ,0BH.17EZ,0BH.18EZ,Misc,5A1.935Z,5A1.945Z\n",
              "\n",
              "[59652 rows x 21 columns]"
            ]
          },
          "metadata": {
            "tags": []
          },
          "execution_count": 61
        }
      ]
    },
    {
      "cell_type": "code",
      "metadata": {
        "id": "yuifcmkPLfTc"
      },
      "source": [
        "notes_icd_agg=notes_icd_agg.groupby('HADM_ID',as_index=False).agg(','.join).reset_index()"
      ],
      "execution_count": null,
      "outputs": []
    },
    {
      "cell_type": "code",
      "metadata": {
        "id": "KL022umULuyX",
        "colab": {
          "base_uri": "https://localhost:8080/",
          "height": 1000
        },
        "outputId": "bcdcbea3-1341-4832-cb29-5dacfd7f5b06"
      },
      "source": [
        "notes_icd_agg"
      ],
      "execution_count": null,
      "outputs": [
        {
          "output_type": "execute_result",
          "data": {
            "text/html": [
              "<div>\n",
              "<style scoped>\n",
              "    .dataframe tbody tr th:only-of-type {\n",
              "        vertical-align: middle;\n",
              "    }\n",
              "\n",
              "    .dataframe tbody tr th {\n",
              "        vertical-align: top;\n",
              "    }\n",
              "\n",
              "    .dataframe thead th {\n",
              "        text-align: right;\n",
              "    }\n",
              "</style>\n",
              "<table border=\"1\" class=\"dataframe\">\n",
              "  <thead>\n",
              "    <tr style=\"text-align: right;\">\n",
              "      <th></th>\n",
              "      <th>index</th>\n",
              "      <th>HADM_ID</th>\n",
              "      <th>CATEGORY</th>\n",
              "      <th>DESCRIPTION</th>\n",
              "      <th>TEXT</th>\n",
              "      <th>text_mod</th>\n",
              "      <th>sec</th>\n",
              "      <th>split</th>\n",
              "      <th>service:</th>\n",
              "      <th>social history:</th>\n",
              "      <th>family history:</th>\n",
              "      <th>past medical history:</th>\n",
              "      <th>chief complaint:</th>\n",
              "      <th>discharge medications:</th>\n",
              "      <th>discharge disposition:</th>\n",
              "      <th>discharge diagnosis:</th>\n",
              "      <th>allergies:</th>\n",
              "      <th>physical exam:</th>\n",
              "      <th>ICD9_CODE_x</th>\n",
              "      <th>ICD10</th>\n",
              "      <th>ICD9_CODE_y</th>\n",
              "      <th>icd10_pcs</th>\n",
              "    </tr>\n",
              "  </thead>\n",
              "  <tbody>\n",
              "    <tr>\n",
              "      <th>0</th>\n",
              "      <td>0</td>\n",
              "      <td>100001.0</td>\n",
              "      <td>Discharge summary</td>\n",
              "      <td>Report</td>\n",
              "      <td>Admission Date:  [**2117-9-11**]              ...</td>\n",
              "      <td>admission date:   &lt;date&gt;               dischar...</td>\n",
              "      <td>['Admission Date:', 'Discharge Date:', 'Birth:...</td>\n",
              "      <td>[' service: medicine    ', ' social history:  ...</td>\n",
              "      <td>service: medicine</td>\n",
              "      <td>social history:  patient lives at home in [**...</td>\n",
              "      <td>family history:  both parents have htn and t2...</td>\n",
              "      <td>past medical history:  type 1 diabetes mellit...</td>\n",
              "      <td>chief complaint:  nausea, vomiting      major...</td>\n",
              "      <td>discharge medications:  1. citalopram 20 mg t...</td>\n",
              "      <td>discharge disposition:  home</td>\n",
              "      <td>discharge diagnosis:  diabetic keotacidosis  h...</td>\n",
              "      <td>allergies:  levaquin    attending:&lt;name&gt;</td>\n",
              "      <td>physical exam:  gen: awake, alert, and orient...</td>\n",
              "      <td>25013,3371,5849,5780,V5867,25063,5363,4580,250...</td>\n",
              "      <td>Misc,Misc,N179,Misc,Z794,Misc,Misc,Misc,Misc,I...</td>\n",
              "      <td></td>\n",
              "      <td></td>\n",
              "    </tr>\n",
              "    <tr>\n",
              "      <th>1</th>\n",
              "      <td>1</td>\n",
              "      <td>100003.0</td>\n",
              "      <td>Discharge summary</td>\n",
              "      <td>Report</td>\n",
              "      <td>Admission Date:  [**2150-4-17**]              ...</td>\n",
              "      <td>admission date:   &lt;date&gt;               dischar...</td>\n",
              "      <td>['Admission Date:', 'Discharge Date:', 'Birth:...</td>\n",
              "      <td>[' service: medicine    ', ' social history:  ...</td>\n",
              "      <td>service: medicine</td>\n",
              "      <td>social history:  he lives alone.  he is drink...</td>\n",
              "      <td>family history:  nc</td>\n",
              "      <td>past medical history:  hcv cirrhosis (tx with...</td>\n",
              "      <td>chief complaint:  coffee ground emesis    maj...</td>\n",
              "      <td>discharge medications:  1. phenol 1.4 % aeros...</td>\n",
              "      <td>discharge disposition:  home</td>\n",
              "      <td>discharge diagnosis:  peptic ulcer  gi bleed  ...</td>\n",
              "      <td>allergies:  patient recorded as having no kno...</td>\n",
              "      <td>physical exam:  on admission:  vs: t95.9 hr 7...</td>\n",
              "      <td>53100,2851,07054,5715,5715,5715,45621,53789,40...</td>\n",
              "      <td>Misc,D62,B182,K740,K7460,K7469,Misc,Misc,I10,M...</td>\n",
              "      <td>4443,9607,9607,9904,3893</td>\n",
              "      <td>0W3.P8ZZ,0D9.670Z,0D9.680Z,Misc,Misc</td>\n",
              "    </tr>\n",
              "    <tr>\n",
              "      <th>2</th>\n",
              "      <td>2</td>\n",
              "      <td>100006.0</td>\n",
              "      <td>Discharge summary,Discharge summary</td>\n",
              "      <td>Report,Addendum</td>\n",
              "      <td>Admission Date:  [**2108-4-6**]       Discharg...</td>\n",
              "      <td>admission date:   &lt;date&gt;        discharge date...</td>\n",
              "      <td>['Admission Date:', 'Discharge Date:', 'Birth:...</td>\n",
              "      <td>[' service:  o med    ', ' social history:  so...</td>\n",
              "      <td>service:  o med    , service:    addendum to ...</td>\n",
              "      <td>social history:  socially, she lives with her...</td>\n",
              "      <td>family history:  family history shows father d...</td>\n",
              "      <td>past medical history:  1.  multiple myeloma d...</td>\n",
              "      <td>chief complaint:  dyspnea.    history of pres...</td>\n",
              "      <td>,discharge medications:  1. coumadin 4 mg po q...</td>\n",
              "      <td>,</td>\n",
              "      <td>,</td>\n",
              "      <td>allergies:  no known drug allergies.    ,</td>\n",
              "      <td>,</td>\n",
              "      <td>49320,51881,51881,486,20300,2761,7850,3090,V12...</td>\n",
              "      <td>Misc,J9600,J9690,J189,Misc,E871,Misc,Misc,Z867...</td>\n",
              "      <td>9390,9390,9390,9925,9925,9925,9925,9390,9390,9...</td>\n",
              "      <td>5A0.9357,5A0.9457,5A0.9557,3E0.3305,3E0.4305,X...</td>\n",
              "    </tr>\n",
              "    <tr>\n",
              "      <th>3</th>\n",
              "      <td>3</td>\n",
              "      <td>100007.0</td>\n",
              "      <td>Discharge summary</td>\n",
              "      <td>Report</td>\n",
              "      <td>Admission Date:  [**2145-3-31**]              ...</td>\n",
              "      <td>admission date:   &lt;date&gt;               dischar...</td>\n",
              "      <td>['Admission Date:', 'Discharge Date:', 'Birth:...</td>\n",
              "      <td>[' service: surgery    ', ' social history:  m...</td>\n",
              "      <td>service: surgery</td>\n",
              "      <td>social history:  married, lives with husband ...</td>\n",
              "      <td>family history:  father: deceased, leukemia  ...</td>\n",
              "      <td>past medical history:  chronic pancreatitis  ...</td>\n",
              "      <td>chief complaint:  severe abdominal and back p...</td>\n",
              "      <td>discharge medications:  1. oxycodone-acetamin...</td>\n",
              "      <td>discharge disposition:  home</td>\n",
              "      <td>discharge diagnosis:  small bowel obstruction ...</td>\n",
              "      <td>allergies:  penicillins / dilantin    attendi...</td>\n",
              "      <td>physical exam:  t: 97.9 hr: 79 bp: 153/60  rr...</td>\n",
              "      <td>56081,5570,9973,486,4019</td>\n",
              "      <td>Misc,Misc,Misc,J189,I10</td>\n",
              "      <td>4562,5459</td>\n",
              "      <td>Misc,Misc</td>\n",
              "    </tr>\n",
              "    <tr>\n",
              "      <th>4</th>\n",
              "      <td>4</td>\n",
              "      <td>100009.0</td>\n",
              "      <td>Discharge summary</td>\n",
              "      <td>Report</td>\n",
              "      <td>Admission Date:  [**2162-5-16**]              ...</td>\n",
              "      <td>admission date:   &lt;date&gt;               dischar...</td>\n",
              "      <td>['Admission Date:', 'Discharge Date:', 'Birth:...</td>\n",
              "      <td>[' service: cardiothoracic    ', ' social hist...</td>\n",
              "      <td>service: cardiothoracic</td>\n",
              "      <td>social history:  race: caucasian  last dental...</td>\n",
              "      <td>family history:  father died 50yo cirrhosis, ...</td>\n",
              "      <td>past medical history:  cad-(ami  &lt;date&gt; , &lt;na...</td>\n",
              "      <td>chief complaint:  angina    major surgical or...</td>\n",
              "      <td>discharge medications:  1. fenofibrate 160 mg...</td>\n",
              "      <td>discharge disposition:  home with service    ...</td>\n",
              "      <td>discharge diagnosis:  coronary artery disease ...</td>\n",
              "      <td>allergies:  no known allergies / adverse drug...</td>\n",
              "      <td>physical exam:  pulse: 58  resp: 16   o2 sat:...</td>\n",
              "      <td>41401,99604,4142,25000,27800,V8535,4148,4111,V...</td>\n",
              "      <td>I2510,Misc,Misc,E119,E669,Misc,Misc,I200,Z9861...</td>\n",
              "      <td>3613,3615,3795,3961</td>\n",
              "      <td>Misc,Misc,Misc,5A1.221Z</td>\n",
              "    </tr>\n",
              "    <tr>\n",
              "      <th>...</th>\n",
              "      <td>...</td>\n",
              "      <td>...</td>\n",
              "      <td>...</td>\n",
              "      <td>...</td>\n",
              "      <td>...</td>\n",
              "      <td>...</td>\n",
              "      <td>...</td>\n",
              "      <td>...</td>\n",
              "      <td>...</td>\n",
              "      <td>...</td>\n",
              "      <td>...</td>\n",
              "      <td>...</td>\n",
              "      <td>...</td>\n",
              "      <td>...</td>\n",
              "      <td>...</td>\n",
              "      <td>...</td>\n",
              "      <td>...</td>\n",
              "      <td>...</td>\n",
              "      <td>...</td>\n",
              "      <td>...</td>\n",
              "      <td>...</td>\n",
              "      <td>...</td>\n",
              "    </tr>\n",
              "    <tr>\n",
              "      <th>52721</th>\n",
              "      <td>52721</td>\n",
              "      <td>199993.0</td>\n",
              "      <td>Discharge summary</td>\n",
              "      <td>Report</td>\n",
              "      <td>Admission Date:  [**2161-10-23**]       Discha...</td>\n",
              "      <td>admission date:   &lt;date&gt;        discharge date...</td>\n",
              "      <td>['Admission Date:', 'Discharge Date:', 'Birth:...</td>\n",
              "      <td>[' service:  cardiothor    ', \" social history...</td>\n",
              "      <td>service:  cardiothor</td>\n",
              "      <td>social history:  positive tobacco use.  posit...</td>\n",
              "      <td></td>\n",
              "      <td>past medical history:  significant for corona...</td>\n",
              "      <td>chief complaint:  the patient is a 60 year ol...</td>\n",
              "      <td>discharge medications:  1.  aspirin 325 q.d.  ...</td>\n",
              "      <td></td>\n",
              "      <td></td>\n",
              "      <td>allergies:  no known drug allergies.    medic...</td>\n",
              "      <td></td>\n",
              "      <td>41031,42821,42731,4271,5180,5180,4240,4240,276...</td>\n",
              "      <td>Misc,Misc,I4891,I472,J9811,J9819,I340,I348,E87...</td>\n",
              "      <td>3614,3512,3512,3512,3512,3512,3761,3761,8842,8...</td>\n",
              "      <td>Misc,027.G04Z,027.G0DZ,027.G0ZZ,02N.G0ZZ,02Q.G...</td>\n",
              "    </tr>\n",
              "    <tr>\n",
              "      <th>52722</th>\n",
              "      <td>52722</td>\n",
              "      <td>199994.0</td>\n",
              "      <td>Discharge summary</td>\n",
              "      <td>Report</td>\n",
              "      <td>Admission Date:  [**2188-7-7**]       Discharg...</td>\n",
              "      <td>admission date:   &lt;date&gt;        discharge date...</td>\n",
              "      <td>['Admission Date:', 'Discharge Date:', 'Birth:...</td>\n",
              "      <td>[\" service:  micu-acove  history of present il...</td>\n",
              "      <td>service:  micu-acove  history of present illn...</td>\n",
              "      <td>social history:  the patient has a 70 pack ye...</td>\n",
              "      <td></td>\n",
              "      <td>past medical history:  1.  morbid obesity.  2...</td>\n",
              "      <td></td>\n",
              "      <td>discharge medications:  1.  amiodarone 200 mg ...</td>\n",
              "      <td></td>\n",
              "      <td></td>\n",
              "      <td>allergies:   the patient has a reported aller...</td>\n",
              "      <td></td>\n",
              "      <td>486,4280,51881,51881,3970,496,4169,585,42732,2762</td>\n",
              "      <td>J189,I509,J9600,J9690,Misc,J449,Misc,Misc,I489...</td>\n",
              "      <td>9671,9671,9604,9604,3995,3995,3891</td>\n",
              "      <td>5A1.935Z,5A1.945Z,0BH.17EZ,0BH.18EZ,5A1.D00Z,5...</td>\n",
              "    </tr>\n",
              "    <tr>\n",
              "      <th>52723</th>\n",
              "      <td>52723</td>\n",
              "      <td>199995.0</td>\n",
              "      <td>Discharge summary</td>\n",
              "      <td>Report</td>\n",
              "      <td>Admission Date: [**2137-12-11**]        Discha...</td>\n",
              "      <td>admission date:  &lt;date&gt;         discharge date...</td>\n",
              "      <td>['Admission Date:', 'Discharge Date:', 'Birth:...</td>\n",
              "      <td>[' service:  &lt;name&gt;      history of present il...</td>\n",
              "      <td>service:  &lt;name&gt;      history of present illn...</td>\n",
              "      <td></td>\n",
              "      <td></td>\n",
              "      <td>past medical history:  congenital bicuspid ao...</td>\n",
              "      <td></td>\n",
              "      <td>discharge medications:  1. zantac 150 mg p.o. ...</td>\n",
              "      <td></td>\n",
              "      <td></td>\n",
              "      <td></td>\n",
              "      <td></td>\n",
              "      <td>4210,7464,42971,30401,4412,44284,V1259,04111,3...</td>\n",
              "      <td>Misc,Misc,Misc,Misc,Misc,Misc,Misc,Misc,Misc,F...</td>\n",
              "      <td>3521,3961,3845,3539,8841,8847,9929,8872,3699</td>\n",
              "      <td>Misc,5A1.221Z,Misc,Misc,Misc,Misc,Misc,Misc,Misc</td>\n",
              "    </tr>\n",
              "    <tr>\n",
              "      <th>52724</th>\n",
              "      <td>52724</td>\n",
              "      <td>199998.0</td>\n",
              "      <td>Discharge summary</td>\n",
              "      <td>Report</td>\n",
              "      <td>Admission Date:  [**2119-2-18**]              ...</td>\n",
              "      <td>admission date:   &lt;date&gt;               dischar...</td>\n",
              "      <td>['Admission Date:', 'Discharge Date:', 'Birth:...</td>\n",
              "      <td>[' service: cardiothoracic    ', ' social hist...</td>\n",
              "      <td>service: cardiothoracic</td>\n",
              "      <td>social history:  married, 5 children. stop sm...</td>\n",
              "      <td>family history:  denied premature coronary ar...</td>\n",
              "      <td>past medical history:  coronary artery diseas...</td>\n",
              "      <td>chief complaint:  chest pain    major surgica...</td>\n",
              "      <td>discharge medications:  1. docusate sodium 10...</td>\n",
              "      <td>discharge disposition:  home with service    ...</td>\n",
              "      <td>discharge diagnosis:  coronary artery disease ...</td>\n",
              "      <td>allergies:  midazolam hcl    attending:&lt;name&gt;</td>\n",
              "      <td>physical exam:  vitals: 98.2, 122/70, 54, 18,...</td>\n",
              "      <td>41401,9971,9971,9971,9971,9975,42731,78820,411...</td>\n",
              "      <td>I2510,I97710,I97790,I9788,I9789,Misc,I4891,Mis...</td>\n",
              "      <td>3612,3615,3964</td>\n",
              "      <td>Misc,Misc,Misc</td>\n",
              "    </tr>\n",
              "    <tr>\n",
              "      <th>52725</th>\n",
              "      <td>52725</td>\n",
              "      <td>199999.0</td>\n",
              "      <td>Discharge summary</td>\n",
              "      <td>Report</td>\n",
              "      <td>Admission Date:  [**2136-4-4**]              D...</td>\n",
              "      <td>admission date:   &lt;date&gt;               dischar...</td>\n",
              "      <td>['Admission Date:', 'Discharge Date:', 'Servic...</td>\n",
              "      <td>[' service: medicine    ', ' social history:  ...</td>\n",
              "      <td>service: medicine</td>\n",
              "      <td>social history:  lives in &lt;hospital&gt; with his...</td>\n",
              "      <td>family history:  no known family members with...</td>\n",
              "      <td>past medical history:  # crohn's disease. dia...</td>\n",
              "      <td>chief complaint:  fevers    major surgical or...</td>\n",
              "      <td>discharge medications:  1. multivitamin     t...</td>\n",
              "      <td>discharge disposition:  extended care    faci...</td>\n",
              "      <td>discharge diagnosis:  primary:  legionella pne...</td>\n",
              "      <td>allergies:  no known allergies / adverse drug...</td>\n",
              "      <td>physical exam:  on admission:  vitals - 97.7,...</td>\n",
              "      <td>48284,51881,51881,5119,5849,2761,78606,79902,4...</td>\n",
              "      <td>Misc,J9600,J9690,J918,N179,E871,Misc,R0902,I25...</td>\n",
              "      <td>3491,3491</td>\n",
              "      <td>0W9.93ZZ,0W9.B3ZZ</td>\n",
              "    </tr>\n",
              "  </tbody>\n",
              "</table>\n",
              "<p>52726 rows × 22 columns</p>\n",
              "</div>"
            ],
            "text/plain": [
              "       index  ...                                          icd10_pcs\n",
              "0          0  ...                                                   \n",
              "1          1  ...               0W3.P8ZZ,0D9.670Z,0D9.680Z,Misc,Misc\n",
              "2          2  ...  5A0.9357,5A0.9457,5A0.9557,3E0.3305,3E0.4305,X...\n",
              "3          3  ...                                          Misc,Misc\n",
              "4          4  ...                            Misc,Misc,Misc,5A1.221Z\n",
              "...      ...  ...                                                ...\n",
              "52721  52721  ...  Misc,027.G04Z,027.G0DZ,027.G0ZZ,02N.G0ZZ,02Q.G...\n",
              "52722  52722  ...  5A1.935Z,5A1.945Z,0BH.17EZ,0BH.18EZ,5A1.D00Z,5...\n",
              "52723  52723  ...   Misc,5A1.221Z,Misc,Misc,Misc,Misc,Misc,Misc,Misc\n",
              "52724  52724  ...                                     Misc,Misc,Misc\n",
              "52725  52725  ...                                  0W9.93ZZ,0W9.B3ZZ\n",
              "\n",
              "[52726 rows x 22 columns]"
            ]
          },
          "metadata": {
            "tags": []
          },
          "execution_count": 63
        }
      ]
    },
    {
      "cell_type": "code",
      "metadata": {
        "id": "B-ciXdIOdNrD"
      },
      "source": [
        "def split_string_list(x):\n",
        "    return list(set(re.split(\",\",x)))"
      ],
      "execution_count": null,
      "outputs": []
    },
    {
      "cell_type": "code",
      "metadata": {
        "id": "-bhpJy_kcYpr"
      },
      "source": [
        "def categoryfromlist(x):\n",
        "  for i in x:\n",
        "    y=re.search(\"(\\d{3}|V\\d{2}|E\\d{3})\",i)\n",
        "    if y:\n",
        "      return list(set([re.split(\"(\\d{3}|V\\d{2}|E\\d{3})\",i)[1] for i in x]))\n",
        "    else:\n",
        "      return []"
      ],
      "execution_count": null,
      "outputs": []
    },
    {
      "cell_type": "code",
      "metadata": {
        "id": "qo8H1xvHe8Yq"
      },
      "source": [
        "notes_icd_agg['ICD9_CODE_x']=notes_icd_agg.ICD9_CODE_x.apply(split_string_list)"
      ],
      "execution_count": null,
      "outputs": []
    },
    {
      "cell_type": "code",
      "metadata": {
        "id": "Uyc84-o4m7uT"
      },
      "source": [
        "notes_icd_agg['ICD9_CATEGORY']=notes_icd_agg.ICD9_CODE_x.apply(categoryfromlist)"
      ],
      "execution_count": null,
      "outputs": []
    },
    {
      "cell_type": "code",
      "metadata": {
        "id": "f139BZvUg3l7",
        "colab": {
          "base_uri": "https://localhost:8080/",
          "height": 601
        },
        "outputId": "da5c2595-aee4-4e05-b716-ae95761b3fa4"
      },
      "source": [
        "notes_icd_agg.loc[notes_icd_agg.HADM_ID.isin(admid_withnotes_withoutICD)]"
      ],
      "execution_count": null,
      "outputs": [
        {
          "output_type": "execute_result",
          "data": {
            "text/html": [
              "<div>\n",
              "<style scoped>\n",
              "    .dataframe tbody tr th:only-of-type {\n",
              "        vertical-align: middle;\n",
              "    }\n",
              "\n",
              "    .dataframe tbody tr th {\n",
              "        vertical-align: top;\n",
              "    }\n",
              "\n",
              "    .dataframe thead th {\n",
              "        text-align: right;\n",
              "    }\n",
              "</style>\n",
              "<table border=\"1\" class=\"dataframe\">\n",
              "  <thead>\n",
              "    <tr style=\"text-align: right;\">\n",
              "      <th></th>\n",
              "      <th>index</th>\n",
              "      <th>HADM_ID</th>\n",
              "      <th>CATEGORY</th>\n",
              "      <th>DESCRIPTION</th>\n",
              "      <th>TEXT</th>\n",
              "      <th>text_mod</th>\n",
              "      <th>sec</th>\n",
              "      <th>split</th>\n",
              "      <th>service:</th>\n",
              "      <th>social history:</th>\n",
              "      <th>family history:</th>\n",
              "      <th>past medical history:</th>\n",
              "      <th>chief complaint:</th>\n",
              "      <th>discharge medications:</th>\n",
              "      <th>discharge disposition:</th>\n",
              "      <th>discharge diagnosis:</th>\n",
              "      <th>allergies:</th>\n",
              "      <th>physical exam:</th>\n",
              "      <th>ICD9_CODE_x</th>\n",
              "      <th>ICD10</th>\n",
              "      <th>ICD9_CODE_y</th>\n",
              "      <th>icd10_pcs</th>\n",
              "      <th>ICD9_CATEGORY</th>\n",
              "    </tr>\n",
              "  </thead>\n",
              "  <tbody>\n",
              "    <tr>\n",
              "      <th>5308</th>\n",
              "      <td>5308</td>\n",
              "      <td>109963.0</td>\n",
              "      <td>Discharge summary,Discharge summary</td>\n",
              "      <td>Report,Addendum</td>\n",
              "      <td>Admission Date:  [**2185-8-21**]              ...</td>\n",
              "      <td>admission date:   &lt;date&gt;               dischar...</td>\n",
              "      <td>['Admission Date:', 'Discharge Date:', 'Birth:...</td>\n",
              "      <td>[' service: medicine    ', ' social history:  ...</td>\n",
              "      <td>service: medicine    , service: medicine</td>\n",
              "      <td>social history:  lives at &lt;hospital&gt; 174 [**l...</td>\n",
              "      <td>family history:  patient unable to elucidate....</td>\n",
              "      <td>past medical history:  1) osteoarthritis  2) ...</td>\n",
              "      <td>chief complaint:  shortness of breath    majo...</td>\n",
              "      <td>discharge medications:  1. acetaminophen 650 ...</td>\n",
              "      <td>discharge disposition:  extended care    faci...</td>\n",
              "      <td>discharge diagnosis:  urinary tract infection ...</td>\n",
              "      <td>allergies:  no known allergies / adverse drug...</td>\n",
              "      <td>physical exam:  admission:  general: intubate...</td>\n",
              "      <td>[]</td>\n",
              "      <td>,</td>\n",
              "      <td>,</td>\n",
              "      <td>,</td>\n",
              "      <td>[]</td>\n",
              "    </tr>\n",
              "    <tr>\n",
              "      <th>5458</th>\n",
              "      <td>5458</td>\n",
              "      <td>110220.0</td>\n",
              "      <td>Discharge summary,Discharge summary</td>\n",
              "      <td>Report,Report</td>\n",
              "      <td>Admission Date:  [**2180-12-14**]             ...</td>\n",
              "      <td>admission date:   &lt;date&gt;               dischar...</td>\n",
              "      <td>['Admission Date:', 'Discharge Date:', 'Birth:...</td>\n",
              "      <td>[' service: surgery    ', ' social history:  +...</td>\n",
              "      <td>service: surgery    , service: surgery</td>\n",
              "      <td>social history:  +etoh occasional    , social...</td>\n",
              "      <td>family history:  non-contributory    , family...</td>\n",
              "      <td>past medical history:  none    , past medical...</td>\n",
              "      <td>chief complaint:  20yo m s/p fall from 3 stor...</td>\n",
              "      <td>,</td>\n",
              "      <td>discharge disposition:  expired    , discharg...</td>\n",
              "      <td>discharge diagnosis:  traumatic fall, intracra...</td>\n",
              "      <td>allergies:  patient recorded as having no kno...</td>\n",
              "      <td>physical exam:  vss  afebrile  intubated, sed...</td>\n",
              "      <td>[]</td>\n",
              "      <td>,</td>\n",
              "      <td>,</td>\n",
              "      <td>,</td>\n",
              "      <td>[]</td>\n",
              "    </tr>\n",
              "    <tr>\n",
              "      <th>22586</th>\n",
              "      <td>22586</td>\n",
              "      <td>142890.0</td>\n",
              "      <td>Discharge summary</td>\n",
              "      <td>Report</td>\n",
              "      <td>Admission Date:  [**2172-10-7**]              ...</td>\n",
              "      <td>admission date:   &lt;date&gt;               dischar...</td>\n",
              "      <td>['Admission Date:', 'Discharge Date:', 'Birth:...</td>\n",
              "      <td>[' service: surgery    ', None, None, None, ' ...</td>\n",
              "      <td>service: surgery</td>\n",
              "      <td></td>\n",
              "      <td></td>\n",
              "      <td></td>\n",
              "      <td>chief complaint:  40 yo ejection &lt;name&gt; bib m...</td>\n",
              "      <td></td>\n",
              "      <td>discharge disposition:  expired</td>\n",
              "      <td>discharge diagnosis:  pt passed away on  &lt;date...</td>\n",
              "      <td>allergies:  no drug allergy information on fi...</td>\n",
              "      <td></td>\n",
              "      <td>[]</td>\n",
              "      <td></td>\n",
              "      <td></td>\n",
              "      <td></td>\n",
              "      <td>[]</td>\n",
              "    </tr>\n",
              "    <tr>\n",
              "      <th>43369</th>\n",
              "      <td>43369</td>\n",
              "      <td>182252.0</td>\n",
              "      <td>Discharge summary</td>\n",
              "      <td>Report</td>\n",
              "      <td>Admission Date:  [**2125-2-9**]              D...</td>\n",
              "      <td>admission date:   &lt;date&gt;               dischar...</td>\n",
              "      <td>['Admission Date:', 'Discharge Date:', 'Birth:...</td>\n",
              "      <td>[' service: medicine    ', ' social history:  ...</td>\n",
              "      <td>service: medicine</td>\n",
              "      <td>social history:  former smoker, but stopped i...</td>\n",
              "      <td>family history:  non-contributory</td>\n",
              "      <td>past medical history:  bladder tumor  chf (ef...</td>\n",
              "      <td>chief complaint:  hematuria    major surgical...</td>\n",
              "      <td>discharge medications:  1. atorvastatin 20 mg...</td>\n",
              "      <td>discharge disposition:  home</td>\n",
              "      <td>discharge diagnosis:  primay:  mechanical mitr...</td>\n",
              "      <td>allergies:  ace inhibitors    attending:&lt;name&gt;</td>\n",
              "      <td>physical exam:  physical exam:  t: 96.9, bp: ...</td>\n",
              "      <td>[]</td>\n",
              "      <td></td>\n",
              "      <td></td>\n",
              "      <td></td>\n",
              "      <td>[]</td>\n",
              "    </tr>\n",
              "  </tbody>\n",
              "</table>\n",
              "</div>"
            ],
            "text/plain": [
              "       index   HADM_ID  ... icd10_pcs ICD9_CATEGORY\n",
              "5308    5308  109963.0  ...         ,            []\n",
              "5458    5458  110220.0  ...         ,            []\n",
              "22586  22586  142890.0  ...                      []\n",
              "43369  43369  182252.0  ...                      []\n",
              "\n",
              "[4 rows x 23 columns]"
            ]
          },
          "metadata": {
            "tags": []
          },
          "execution_count": 68
        }
      ]
    },
    {
      "cell_type": "code",
      "metadata": {
        "id": "WA2BzGhqNCW1",
        "colab": {
          "base_uri": "https://localhost:8080/"
        },
        "outputId": "ed9b22fe-61da-4cda-c6f0-229279d37add"
      },
      "source": [
        "notes_icd_agg.HADM_ID.nunique()"
      ],
      "execution_count": null,
      "outputs": [
        {
          "output_type": "execute_result",
          "data": {
            "text/plain": [
              "52726"
            ]
          },
          "metadata": {
            "tags": []
          },
          "execution_count": 69
        }
      ]
    },
    {
      "cell_type": "code",
      "metadata": {
        "id": "z4E38NmcmXNL"
      },
      "source": [
        "total_icd9_codes=[a for b in notes_icd_agg.ICD9_CODE_x.to_list() for a in b]"
      ],
      "execution_count": null,
      "outputs": []
    },
    {
      "cell_type": "code",
      "metadata": {
        "id": "AqjG7n7wn7Ip"
      },
      "source": [
        "dict_count_icd9_codes=dict(Counter(total_icd9_codes))\n",
        "dict_count_icd9_codes=dict(sorted(dict_count_icd9_codes.items(),key=lambda x:x[1],reverse=True))"
      ],
      "execution_count": null,
      "outputs": []
    },
    {
      "cell_type": "markdown",
      "metadata": {
        "id": "d45Z7QkEdauG"
      },
      "source": [
        "Dictionary of counts of different ICD codes in the discharge table (not in the whole dataset) ."
      ]
    },
    {
      "cell_type": "code",
      "metadata": {
        "id": "S9jOKxUkoM34",
        "colab": {
          "base_uri": "https://localhost:8080/"
        },
        "outputId": "dc4344f5-7f81-4a26-973d-2afcc83a630a"
      },
      "source": [
        "print(dict_count_icd9_codes)"
      ],
      "execution_count": null,
      "outputs": [
        {
          "output_type": "stream",
          "text": [
            "{'4019': 20046, '4280': 12842, '42731': 12589, '41401': 12178, '5849': 8906, '25000': 8783, '2724': 8503, '51881': 7249, '5990': 6442, '53081': 6154, '2720': 5766, '2859': 5295, '2449': 4785, '486': 4732, '2851': 4499, '2762': 4358, '496': 4296, '99592': 3792, 'V5861': 3697, '5070': 3592, '0389': 3580, '5859': 3367, '40390': 3350, '311': 3347, '3051': 3272, '412': 3203, '2875': 3002, '41071': 3001, '2761': 2985, 'V4581': 2943, '4240': 2876, 'V1582': 2741, '5119': 2693, 'V4582': 2651, '40391': 2566, 'V290': 2529, '4241': 2517, '78552': 2501, 'V5867': 2497, '42789': 2396, '32723': 2328, '9971': 2313, '5845': 2223, '2760': 2221, '7742': 2183, '5180': 2137, 'V053': 2119, '4168': 2118, '49390': 2113, '2767': 2111, '45829': 2094, '2749': 2033, '4589': 1992, '73300': 1909, '78039': 1879, '5856': 1868, '5185': 1778, '4271': 1767, '4254': 1666, '4111': 1649, 'V1251': 1567, '30000': 1552, '3572': 1552, '99811': 1508, '27800': 1483, '7907': 1472, 'E8798': 1466, '60000': 1464, '2930': 1434, '41400': 1429, '00845': 1428, '2768': 1400, 'V3001': 1391, '28521': 1366, '4439': 1364, 'V4501': 1360, '5789': 1355, '27651': 1348, '27652': 1347, 'E8788': 1317, '769': 1299, '2765': 1294, '431': 1294, '4275': 1281, 'V4986': 1275, '79902': 1267, '70703': 1260, '5715': 1250, '99591': 1250, '2639': 1240, 'V103': 1228, '42832': 1221, '42833': 1210, '99812': 1199, '42732': 1191, 'E8782': 1189, '07054': 1187, 'V1046': 1180, '49121': 1177, '99859': 1174, '5712': 1163, '2809': 1156, '27801': 1150, '42823': 1127, '25060': 1114, '78551': 1108, '2948': 1093, '42822': 1081, '4139': 1078, '28529': 1078, '3004': 1076, '5601': 1056, '7793': 1047, 'V1254': 1043, '78791': 1037, '570': 1034, '77081': 1033, 'E8497': 1024, '78820': 1012, '2800': 991, '2869': 985, '5723': 984, '79092': 971, 'V667': 968, '2763': 967, 'E8889': 965, '0414': 958, 'V3000': 949, '78959': 946, '99662': 943, '5770': 943, '34590': 933, '25040': 933, '3485': 923, '9982': 900, '30500': 884, 'V5865': 881, '71590': 873, '76527': 869, 'V3101': 853, '36201': 849, '4148': 848, '41519': 845, '28860': 844, '56210': 830, '1985': 813, '56400': 810, 'V4365': 795, '29181': 788, '48241': 786, '42830': 785, '5121': 780, 'V4364': 777, '43310': 773, '3970': 764, '76518': 762, '1977': 762, '9974': 754, 'V1005': 748, '51882': 743, '1983': 738, '49320': 732, '1970': 729, '6826': 728, 'V502': 724, '5853': 723, 'V4502': 711, '3659': 701, '43491': 700, '30391': 699, '04111': 693, 'E8781': 691, 'V173': 686, '33829': 685, '51889': 679, 'E8859': 678, 'E9342': 678, 'V153': 675, '5781': 674, '51884': 672, '5939': 663, '34830': 659, 'V090': 655, '07070': 655, 'V433': 655, '5722': 654, '3484': 654, '7455': 651, '4414': 650, '5761': 649, '5533': 643, '7140': 640, '1120': 638, '34982': 635, '43411': 630, 'V1581': 626, '4928': 621, '430': 617, '04104': 609, '77981': 601, '4538': 599, '29410': 593, '7850': 588, '58381': 578, '29680': 578, '30390': 577, '2874': 576, 'V4511': 573, '2766': 568, '78057': 563, '99674': 562, 'V440': 560, '41041': 557, '78009': 555, 'E9331': 554, '3310': 552, '42741': 551, '3314': 547, '99731': 545, 'E9320': 543, '6930': 539, '41011': 532, '515': 529, '2764': 523, '042': 522, '7895': 518, '51919': 518, '76528': 515, '4260': 514, '34690': 514, '03811': 511, 'V707': 510, '78559': 505, 'E8809': 505, 'V1011': 502, 'V1083': 501, '3320': 501, '99681': 500, '5363': 499, '45981': 499, 'V441': 497, '5997': 497, '7706': 494, '2536': 494, '76519': 488, '76526': 487, '42821': 484, '78720': 482, '4412': 479, 'V4589': 477, '7242': 475, '5570': 474, '7843': 472, '0413': 470, '34290': 465, '41402': 464, '03842': 464, 'V422': 463, '99672': 460, '2867': 456, '76517': 456, '2841': 454, '43889': 452, '25002': 452, '2753': 451, 'V462': 451, '4011': 451, 'E8790': 450, '77089': 444, '9975': 444, '25050': 435, '2866': 432, '53550': 430, '25080': 430, '4239': 430, '7904': 430, '39891': 429, '42831': 427, '3569': 426, '70715': 426, '43820': 426, '19889': 425, '44020': 425, '5771': 424, '70722': 423, '4821': 423, '3481': 422, 'V1052': 420, '7802': 419, 'V1082': 419, 'E8780': 418, '5780': 416, '73390': 415, '99702': 412, '25061': 412, '7806': 410, '45621': 409, '42820': 408, '7766': 406, '25013': 401, 'V8741': 400, '5680': 400, '0417': 398, '591': 398, '4160': 395, '86121': 393, '6822': 392, '03849': 391, '9973': 388, '7863': 386, '42781': 385, '30501': 382, '7470': 382, '30560': 381, '4321': 380, '4210': 380, '3962': 380, '72888': 378, '70714': 377, 'V1588': 372, '27541': 368, '1628': 367, '0380': 366, '85221': 363, 'E8498': 362, '29281': 359, '8600': 355, '5762': 353, '27669': 353, '76516': 353, '28522': 351, '7245': 350, '7291': 350, '4373': 350, '30301': 345, '41091': 345, 'E8490': 344, '57420': 343, '45620': 341, '3963': 336, '77989': 336, '7746': 334, '5724': 333, 'V1051': 333, '1122': 333, '8730': 332, '79029': 332, '53789': 331, 'V420': 330, '5854': 329, '45341': 329, '56409': 328, '56212': 328, '27650': 326, '20280': 326, '1550': 324, '42843': 323, '51883': 323, '44024': 322, 'E9478': 322, '1623': 321, 'V08': 319, '7100': 317, '2848': 316, '2113': 314, '60001': 313, '25041': 312, '7464': 311, '25001': 309, '1976': 305, '8054': 304, '70705': 304, '78052': 303, '30393': 302, '5184': 299, 'E8786': 299, '04185': 299, 'V1259': 299, '8052': 298, '76515': 298, '2910': 298, '340': 297, '5711': 297, '7847': 295, '73313': 295, '49322': 295, '78830': 295, '53085': 295, '185': 294, '79001': 293, '04119': 293, '70707': 292, '78060': 292, '4142': 290, '78701': 289, '2554': 287, '4580': 285, '6961': 283, 'V1272': 283, '7756': 281, 'E9289': 280, '76525': 280, '30981': 279, '99931': 279, '5768': 278, '7885': 278, '34839': 278, '4400': 277, '71690': 276, 'V5866': 276, '30401': 275, '4263': 274, 'V4975': 274, '25051': 274, '07032': 273, '34831': 272, '7823': 271, '5718': 271, '4588': 271, '53240': 269, '5559': 268, '41072': 267, '5609': 266, '585': 263, '2752': 262, '7070': 262, '7840': 261, '53140': 261, '9972': 261, '725': 261, '25063': 259, '44023': 259, '48283': 258, '87342': 257, '43330': 256, 'V600': 255, '452': 251, '44021': 250, '8082': 250, '135': 249, 'E8120': 249, '78659': 248, '1962': 247, '27542': 247, '2662': 245, '7994': 245, '1961': 244, '3453': 243, '29590': 243, '3694': 241, '28800': 241, '7821': 241, '3441': 240, '5569': 239, '33394': 239, '85220': 239, '04112': 237, '43811': 236, 'V3401': 235, '78097': 233, '56722': 233, 'E8147': 233, 'E9308': 232, '99832': 231, '56211': 231, '4401': 231, '8024': 228, '5641': 227, '56081': 226, '4233': 226, '4829': 226, '5191': 226, 'V4586': 225, '56983': 224, '44101': 224, '77181': 223, 'V1301': 223, 'V4987': 222, '8020': 221, '36250': 221, '3899': 221, 'E9352': 221, '4820': 221, '72989': 219, 'V454': 219, '1890': 217, '59654': 216, 'V443': 215, 'V4579': 214, '6823': 214, '25541': 213, '2252': 213, '59970': 213, '76514': 212, 'E8160': 212, '99664': 211, '5672': 211, '7921': 211, '78829': 209, '8028': 209, '99659': 209, '53019': 208, '1972': 208, '4550': 207, 'V442': 207, '0416': 207, '7856': 207, '23871': 207, '99889': 205, 'V4611': 205, '4582': 205, '9654': 204, '29570': 203, '0388': 203, '261': 203, '45182': 202, '25012': 201, '04186': 201, '5772': 201, '5920': 200, '99673': 199, 'E8792': 199, '9331': 199, '41189': 198, 'E915': 198, '25062': 198, '56881': 197, '2440': 197, 'E8796': 197, '41511': 197, '7210': 196, '44422': 196, '53010': 195, '23875': 194, '4370': 194, 'E9503': 193, '78194': 193, '76524': 193, '2967': 193, '5728': 192, '78061': 192, '8670': 191, '481': 191, 'V4573': 191, '9999': 191, '25011': 190, '04149': 189, '5109': 189, '5307': 188, '72400': 188, 'V1204': 188, '70709': 187, '8080': 187, '20500': 186, '56723': 185, '80701': 185, '7707': 185, '2518': 184, '5589': 184, '4568': 183, '4940': 183, 'E912': 182, 'V0980': 182, '56089': 182, '25043': 181, '6827': 181, '49392': 181, '71536': 181, '78550': 181, '30590': 181, '7708': 180, '7905': 180, '920': 179, '5303': 179, '4251': 179, '20410': 179, '20300': 178, 'V180': 178, '59971': 178, 'E8700': 178, '5531': 177, '4242': 177, '9992': 177, '42842': 177, 'V4983': 177, 'E9500': 175, '30550': 175, '51189': 175, '78321': 174, 'V451': 174, '72402': 174, 'V641': 173, 'E8791': 173, '99682': 173, '28981': 173, '5750': 173, '51851': 172, '319': 172, '36221': 172, 'V1087': 172, '7837': 171, '56981': 171, '1125': 170, '07044': 170, '3383': 170, '7812': 170, 'V5869': 169, 'E8495': 169, '58881': 169, '2920': 167, '40301': 167, '1629': 166, '07030': 166, '4010': 166, '5118': 165, '29420': 164, '1625': 163, '4264': 163, '25053': 162, '9694': 162, '73730': 162, '57410': 162, '78609': 161, '9980': 161, '1991': 160, '57451': 160, '7872': 160, 'V1042': 159, '48242': 158, '5738': 158, '7824': 158, 'V1006': 158, '99831': 158, 'V1271': 158, '4270': 157, '2819': 156, '4592': 156, '3669': 156, '29620': 156, '78079': 156, 'V0254': 155, '8056': 155, '53190': 154, '29040': 154, 'V8801': 153, '80709': 153, 'E9394': 153, '9961': 150, '7906': 150, '81000': 149, '53560': 149, '514': 149, '2689': 148, '6929': 148, 'V4572': 148, '77082': 148, '7213': 148, '03819': 148, '53551': 147, '78062': 147, '80502': 146, '4739': 146, '3079': 146, '4430': 145, '42090': 145, '53390': 145, 'V1302': 144, '51902': 144, '99661': 144, 'V293': 144, 'V6441': 144, '5733': 143, '70723': 142, '3488': 142, '4786': 142, '71941': 142, '33818': 142, '99685': 142, '7078': 141, '55321': 141, '78900': 140, '5128': 140, '2410': 140, 'V6284': 139, '28850': 139, '82021': 139, '8026': 139, 'V1255': 139, '04109': 139, '76503': 139, 'E9504': 139, 'E8844': 138, '72889': 138, 'E9359': 138, 'V5331': 138, 'V453': 138, '4423': 138, '5579': 137, '28419': 137, '41001': 137, '4299': 137, '3371': 136, '45342': 136, 'E8499': 136, '2880': 136, '2738': 136, 'V427': 136, '70719': 135, '27739': 135, '78001': 134, '9341': 134, '8604': 134, '7295': 134, '31401': 133, '79431': 133, '2630': 133, '7661': 132, '42611': 132, '28749': 132, '0088': 132, '1978': 132, '9986': 131, '41031': 131, '3241': 131, '25042': 130, '85201': 130, '5852': 130, '2939': 130, '59010': 130, '99739': 130, '9951': 130, '1987': 129, '42613': 129, '86803': 129, '1123': 129, '51181': 129, '56969': 129, '4471': 128, '1179': 128, '71596': 128, '78451': 128, 'V452': 128, 'V3100': 127, '1570': 126, '5793': 126, '56729': 126, '3558': 126, '11284': 124, '7750': 124, '53783': 124, '28803': 124, '43311': 124, 'V721': 124, '9584': 124, '80703': 123, 'E9444': 123, '55090': 123, '78722': 123, '40310': 122, '5571': 122, 'V550': 122, '80702': 122, '03843': 122, '78702': 121, '34400': 121, '4660': 121, 'V850': 121, '7454': 121, 'E8150': 121, '2740': 121, '2512': 120, '25070': 120, '3331': 120, '4561': 120, '45381': 119, '7854': 118, '70712': 118, '45821': 117, '34889': 117, '70724': 116, '2387': 116, '03812': 116, '70721': 116, '51909': 116, '7755': 116, 'V160': 116, '7473': 115, '57511': 115, '30001': 115, 'V1079': 115, '501': 115, 'E9300': 114, '0549': 114, '86405': 114, 'V4571': 114, '30503': 114, '2883': 114, '41021': 114, '28959': 114, '53540': 114, '1173': 113, '70720': 113, '70725': 113, '73028': 113, '76502': 113, '99749': 112, '4590': 112, '3968': 112, '78650': 112, '45184': 112, 'V113': 112, '3363': 111, '99709': 111, '2384': 111, '99594': 111, '25082': 111, '77211': 110, '2989': 110, '11289': 110, 'E9420': 110, '42840': 109, '2721': 109, '7702': 108, '24290': 108, '0383': 108, '76523': 108, 'V4976': 108, 'E8849': 107, 'V1201': 107, 'E9305': 107, '73007': 106, '72887': 106, '5168': 106, '73008': 106, '24900': 105, '99881': 105, '5932': 105, '3559': 105, '53541': 104, '87343': 104, '5921': 104, '7852': 104, 'E9429': 104, '7580': 103, '48282': 103, '80126': 102, 'V1041': 102, '30400': 102, 'V0259': 102, 'V4972': 102, 'E9290': 102, '5778': 102, 'E8783': 101, '1121': 101, '6910': 101, 'E9479': 101, '57400': 100, '80507': 100, '4404': 100, '9092': 100, '44489': 100, '70713': 100, '27401': 99, '8072': 99, '27803': 99, '4552': 99, '57450': 99, 'E8810': 98, '28731': 98, 'V1043': 98, '85200': 98, '7757': 98, '52100': 97, '1974': 97, '28984': 97, '2769': 97, '5693': 97, '1510': 97, '42989': 97, '25200': 96, 'V1209': 96, '8602': 95, '7810': 95, '5720': 95, 'E9426': 95, '56985': 95, '33182': 95, 'V5332': 95, '4659': 95, '80704': 95, 'V1009': 94, 'E8122': 94, '45340': 94, '5855': 94, '37230': 94, 'V1003': 94, '7804': 94, '73679': 93, '99883': 93, '4359': 93, '5790': 93, '1960': 93, 'V854': 93, 'V1021': 92, 'V1253': 92, '80708': 92, '4822': 92, '85226': 92, '0785': 91, '6000': 91, 'E8799': 91, '5178': 91, '36846': 90, '55320': 90, '81100': 90, '86500': 90, '07051': 90, '74602': 89, 'V1749': 89, '72210': 89, 'V1551': 89, '30520': 89, '5679': 88, '1578': 88, '3229': 88, 'V642': 88, 'V1584': 87, '80121': 87, '4295': 87, '1984': 87, '44022': 87, '44103': 87, '2411': 87, '34510': 86, '7948': 86, '7243': 86, '72992': 86, 'V5883': 86, '7813': 86, '25081': 86, '4230': 86, '53290': 86, '85206': 85, '0382': 85, '9690': 85, '5695': 85, '56721': 85, '1363': 85, 'V163': 85, '7318': 85, '4238': 85, '72886': 84, '25052': 84, 'V8541': 84, '29650': 84, '5839': 83, '7211': 83, 'E9379': 83, '2535': 83, '1508': 83, 'V4283': 82, '2888': 82, '53082': 82, '5130': 82, '59080': 82, 'V463': 82, 'E9323': 82, '5370': 82, 'E8121': 81, '7231': 81, '8910': 81, '59381': 81, '317': 81, '20190': 80, '43883': 80, '40291': 80, '04102': 80, '82101': 80, '1830': 80, '56889': 80, '7135': 80, '43882': 80, '41412': 79, '9998': 79, '34292': 79, '73710': 79, '4169': 79, '7101': 79, '86804': 79, '4870': 79, 'V444': 79, '42769': 79, '4422': 79, 'V851': 79, '45382': 78, '4532': 78, 'E8708': 78, '99813': 78, '7230': 78, '51852': 78, '2731': 77, '3510': 77, '2111': 77, '7845': 77, '85222': 77, '73027': 77, '7784': 76, '28249': 76, '5602': 76, '30421': 75, '9349': 75, '7892': 75, '99669': 75, 'V1279': 75, 'E882': 75, '2441': 75, '36960': 75, '30300': 75, '9693': 75, '7866': 74, '2532': 74, '2189': 74, '7783': 74, '4255': 74, '30561': 74, '53200': 73, '7761': 73, '7820': 73, 'E8784': 73, '71535': 73, '7862': 73, '72981': 73, '4413': 73, '47831': 73, '30183': 73, '70704': 73, '80705': 73, '5730': 72, '0539': 72, '4329': 72, '55221': 72, '56989': 72, '2409': 72, '78729': 72, '8208': 72, '35800': 72, '7963': 72, '42841': 72, 'E9358': 72, 'V4282': 71, '5110': 71, '34291': 71, '1748': 71, '29690': 71, '9587': 71, '41081': 71, '8074': 71, '07999': 71, 'E9361': 70, '75312': 70, '71945': 70, '99667': 70, '9072': 70, '25092': 70, '1975': 70, '99762': 70, '6960': 70, '81342': 70, '1911': 69, '3003': 69, '7775': 69, '44102': 69, '24200': 69, '9916': 69, '1551': 69, '1888': 69, '2811': 68, '96509': 68, '71946': 68, '85202': 68, '138': 68, '04189': 68, '4553': 68, 'V446': 68, '78065': 68, '4556': 68, '2839': 68, '1622': 68, '4389': 68, '4293': 68, '9070': 67, '3332': 67, 'V071': 67, '7098': 67, '73017': 67, '58281': 67, '07071': 67, 'V1007': 66, 'E8502': 66, 'V140': 66, '7716': 66, '2858': 66, 'E8881': 66, '5934': 66, 'V4281': 66, '7842': 66, '9950': 65, '6989': 65, '80501': 65, '4571': 65, '2750': 65, '80506': 65, '20510': 65, '80122': 64, '4417': 64, 'E9378': 64, 'E966': 64, '53642': 64, '60784': 63, 'V4561': 63, '71106': 63, '4372': 63, '27549': 63, '85181': 63, '72293': 63, '99593': 63, '9100': 63, '79311': 63, '60886': 63, '7700': 62, '7102': 62, '3379': 62, '75329': 62, '72252': 62, 'E8504': 62, '44421': 62, '85301': 62, 'E8842': 62, '2810': 62, '9348': 62, 'V1072': 62, '80706': 62, '2270': 62, '99649': 61, '74781': 61, '29530': 61, 'V161': 61, '82300': 61, 'V551': 61, '262': 61, '82009': 61, '73018': 61, '4408': 61, '39890': 61, '36900': 61, '4379': 61, '47874': 60, '78909': 60, '7955': 60, '5100': 60, '7991': 60, '3361': 60, '53020': 60, '43401': 60, '03840': 60, '82022': 60, '53100': 59, 'E9288': 59, 'E9310': 59, 'E8230': 59, '72973': 59, '47829': 59, '3439': 59, '28489': 59, 'E9363': 59, '1505': 59, '49122': 59, 'V553': 59, '9351': 59, '8248': 58, '80841': 58, '6824': 58, 'V4585': 58, 'V1002': 58, '7424': 58, '29562': 58, '34550': 58, '25083': 57, '04110': 57, '7876': 57, '4846': 57, '2830': 57, 'V4588': 57, '3313': 57, '99601': 57, '99679': 57, '1749': 56, '40300': 56, '73342': 56, '7919': 56, '42091': 56, '5225': 56, '42983': 56, '2825': 56, '44381': 55, '37272': 55, '53021': 55, '4619': 55, '71595': 55, 'E9293': 55, '7786': 55, '4558': 55, '5716': 55, '485': 55, '56949': 55, '99604': 54, '7717': 54, '85186': 54, '5779': 54, '33819': 54, 'V1552': 54, '4871': 54, '99602': 54, '34200': 54, '71906': 54, '29689': 54, '4440': 54, '5305': 54, 'E8261': 54, '3501': 54, '4465': 54, '57491': 54, '4162': 54, '5848': 54, '4259': 53, '73382': 53, '53782': 53, '99666': 53, '5181': 53, '3942': 53, '2873': 53, '3941': 53, '6202': 53, '3540': 53, '4232': 52, 'E8532': 52, '4464': 52, '04184': 52, 'V1089': 52, '2900': 52, '7530': 52, 'V552': 52, '44481': 52, 'E9600': 52, '72190': 52, '1912': 52, 'V1004': 52, '78606': 51, '78951': 51, '3682': 51, '1971': 51, '7861': 51, '78603': 51, '56039': 50, '41092': 50, '78093': 50, '3480': 50, '56941': 50, '53784': 50, '3240': 50, '29630': 50, '3960': 50, '87363': 50, '80505': 50, 'V8543': 50, '82525': 49, '7200': 49, '2853': 49, '4476': 49, '3518': 49, '43331': 49, '2949': 49, 'E8161': 49, '74689': 49, '80600': 49, '3090': 48, '56982': 48, 'E8888': 48, '7384': 48, '44031': 48, '35801': 48, '52801': 48, '49120': 48, '30540': 48, '35981': 47, '4578': 47, '80120': 47, '57142': 47, 'E9309': 47, '58889': 47, '42682': 47, '87344': 47, '99671': 47, '7726': 47, '78901': 47, '4779': 47, '34540': 47, '58089': 47, '30551': 47, '7931': 47, '99663': 47, '1963': 47, '53561': 47, '99779': 46, '2112': 46, '3384': 46, '1919': 46, 'E8543': 46, '44329': 46, '86602': 46, '80101': 46, 'E9689': 46, '30563': 46, '2774': 46, '05319': 46, '3594': 46, '25010': 46, '81344': 46, 'E9398': 46, '81002': 46, 'V1351': 45, '6238': 45, '44284': 45, 'V8542': 45, 'V1047': 45, '19882': 45, '27900': 45, 'V4577': 45, '44321': 45, '53510': 45, '7310': 45, '55092': 45, '75989': 45, '34580': 45, '7830': 45, '5192': 45, '9663': 45, 'E9348': 45, '99769': 45, '1552': 45, 'E8162': 45, '42612': 45, '7718': 45, 'E9424': 45, '78906': 44, '5710': 44, '41512': 44, 'V5811': 44, '4919': 44, '42971': 44, '25201': 44, '9800': 44, '25022': 44, '1973': 44, '2273': 44, '41051': 44, '42490': 44, '7220': 44, '5960': 44, '86503': 44, 'E9421': 44, '76522': 44, '03810': 43, '99932': 43, '4785': 43, '9708': 43, '7868': 43, '53649': 43, '31400': 43, '4920': 43, '2713': 43, '4549': 43, '4258': 43, '76383': 43, '41410': 43, '85300': 43, '96500': 42, '33811': 42, '33520': 42, '1541': 42, '85011': 42, '2127': 42, '5566': 42, 'E956': 42, 'V151': 42, '5300': 42, '5968': 42, '80707': 42, '85180': 42, '3688': 42, '6821': 42, '566': 42, '53089': 42, 'V1541': 42, 'E8843': 41, '3239': 41, '76407': 41, '22804': 41, '29532': 41, 'E9393': 41, '82332': 41, '68110': 41, '1561': 41, '1981': 41, '37854': 41, '78630': 41, '9630': 41, '5194': 41, '42099': 41, 'E9413': 41, '2899': 41, '81341': 41, '5289': 40, '4555': 40, '75261': 40, '38600': 40, '71598': 40, 'E9509': 40, '43320': 40, '6820': 40, '92400': 40, '72271': 39, '1982': 39, '3576': 39, '9962': 39, '44324': 39, '30470': 39, '78605': 39, '7503': 39, '193': 39, '3570': 39, '81201': 39, '86502': 39, '0415': 39, '3575': 39, '70706': 39, '53501': 39, '86389': 38, '72972': 38, '78841': 38, '40311': 38, '4110': 38, '9160': 38, '2773': 38, '1913': 38, '490': 38, '73309': 38, '73319': 38, '4941': 38, '77183': 38, '56962': 38, '82302': 38, '73399': 38, '45189': 38, '80125': 38, '85225': 38, '20400': 38, '45386': 38, '5368': 37, '99590': 37, '1101': 37, '5224': 37, '69589': 37, 'E9800': 37, '2572': 37, '86509': 37, '5183': 37, '1124': 37, '47830': 37, '30471': 37, '1103': 37, '6953': 37, '70702': 37, '4231': 37, '5989': 37, '1536': 37, '9222': 37, '4466': 37, '80605': 37, 'E8136': 37, '8244': 37, '42652': 37, '8240': 37, '96501': 37, '9588': 37, '70710': 36, 'V148': 36, '80504': 36, '5272': 36, '04101': 36, '7873': 36, '5650': 36, '29411': 36, 'V270': 36, 'E9383': 36, '57510': 36, '1533': 36, '5373': 36, 'V5419': 36, 'E8190': 36, '78907': 36, '8708': 36, '8820': 36, '73819': 36, 'E8706': 36, '30928': 36, '95892': 36, 'E8583': 36, '79579': 36, 'V554': 36, '7962': 36, '80508': 36, '27730': 36, 'E8794': 35, '1918': 35, '2631': 35, '72610': 35, '1624': 35, '7197': 35, 'E8785': 35, '7533': 35, '29572': 35, '1980': 35, '85182': 35, '3668': 35, 'V4973': 35, '2114': 35, '5306': 35, '34489': 35, '81209': 35, 'E9179': 35, '8220': 34, '5739': 34, '37941': 34, '56731': 34, '30591': 34, '1579': 34, '30420': 34, '53440': 34, '2511': 34, '37430': 34, '5523': 34, '78652': 34, '43813': 34, '38611': 34, '7732': 34, '4441': 34, 'E9390': 34, '41061': 34, 'V4576': 34, '57512': 34, '5758': 34, '40491': 34, '82123': 34, '5198': 34, '5379': 34, '462': 33, 'V643': 33, '75251': 33, '81221': 33, '4560': 33, '76405': 33, '56789': 33, '4352': 33, '78099': 33, '33399': 33, '85306': 33, '6146': 33, '6191': 33, '8505': 33, '5302': 33, '52800': 33, '5583': 33, '29212': 33, '44322': 33, '1889': 33, '78459': 33, '3330': 33, '7801': 33, '449': 33, '29041': 33, '0542': 32, '3490': 32, '72885': 32, '27952': 32, '43301': 32, 'E911': 32, '86402': 32, '2860': 32, '27503': 32, 'E9353': 32, '71696': 32, '1968': 32, '92232': 32, '25071': 32, '7483': 32, '5678': 32, '8738': 31, '49391': 31, 'V5413': 31, '78721': 31, '5881': 31, '8748': 31, '28989': 31, '59389': 31, '7767': 31, '99989': 31, '7818': 31, '41404': 31, 'V1000': 31, '1538': 31, '59972': 31, '33812': 31, '5550': 31, '7790': 31, '49300': 31, '25020': 31, '1539': 31, '77210': 31, '57149': 31, '76408': 31, '3599': 31, '37851': 31, '7244': 31, '79093': 31, '20501': 30, '99791': 30, '86501': 30, '61610': 30, '5552': 30, '3940': 30, '7778': 30, '2452': 30, '7313': 30, '605': 30, '2863': 30, '96502': 30, 'E887': 30, '3099': 30, '99686': 30, '99676': 30, '85205': 30, '27788': 30, '56984': 30, '56200': 30, '86504': 30, '45385': 30, '5950': 30, '25072': 30, '71101': 30, '77083': 30, '71105': 30, 'E916': 30, '9212': 30, '88100': 29, '6262': 29, '7990': 29, 'V6442': 29, '1534': 29, '53012': 29, '9181': 29, '36816': 29, '80843': 29, '7469': 29, '48284': 29, '5304': 29, 'E9317': 29, '78839': 29, 'V1085': 29, '7423': 29, '56738': 29, '43490': 29, '8620': 29, '9983': 29, '45384': 29, '7048': 29, '9726': 29, '56213': 29, '4257': 29, '6084': 29, '43819': 29, '42610': 29, '30410': 29, '81109': 29, '86403': 28, '2559': 28, '1105': 28, '22809': 28, 'E8846': 28, '2555': 28, '5933': 28, '41042': 28, '45989': 28, '30553': 28, '87320': 28, '78703': 28, '7764': 28, '99665': 28, '8064': 28, '3829': 28, '5120': 28, '4358': 28, '41012': 28, '53011': 28, '5819': 28, '86415': 28, '2890': 28, '7881': 28, '5400': 28, '61172': 28, '4380': 28, '82382': 28, '22801': 28, '81003': 28, '80620': 28, '2733': 28, '28319': 28, '75982': 28, '8250': 27, '74783': 27, '60883': 27, '0479': 27, '05479': 27, '1518': 27, '05410': 27, '74190': 27, '9651': 27, '8911': 27, '81601': 27, '5111': 27, '2375': 27, 'V0981': 27, '42689': 27, '2448': 27, 'E9392': 27, '30570': 27, '9964': 27, '1509': 27, 'V0382': 27, '3203': 27, '6954': 27, '72291': 27, '70711': 27, '29633': 27, '5880': 27, '99701': 27, '53641': 27, '34570': 27, '34591': 27, '4387': 27, '30411': 26, '30029': 26, '3369': 26, '3950': 26, '20020': 26, 'V4962': 26, '1820': 26, '4472': 26, 'E9682': 26, '30502': 26, '95901': 26, '5961': 26, '76406': 26, '80220': 26, '7224': 26, '9010': 26, '86401': 26, 'E9804': 26, '2521': 26, '9221': 26, 'V1202': 26, '4470': 26, 'E8192': 26, '5551': 26, '1560': 26, '32082': 26, '71947': 26, '04100': 26, '5283': 26, '3489': 26, 'E9010': 26, '03844': 26, '3209': 26, '4599': 26, '30593': 26, '7234': 26, '2732': 26, '37200': 25, '83500': 25, 'E9299': 25, '2710': 25, '87364': 25, '7452': 25, '9190': 25, '75679': 25, '22802': 25, '5521': 25, '87341': 25, '4411': 25, '04082': 25, '5691': 25, '86601': 25, '0090': 25, 'E9298': 25, '43822': 25, 'V5812': 25, '75310': 25, 'E9384': 25, '9623': 25, '1965': 25, 'E9356': 25, '88101': 25, '5829': 25, '2788': 25, '56961': 25, '7630': 25, '5258': 25, '220': 25, '7788': 25, '40493': 25, '74710': 25, 'V0991': 25, '76513': 24, '85305': 24, '86404': 24, '8830': 24, '30392': 24, '86801': 24, '59960': 24, '45351': 24, '64421': 24, '71591': 24, '7080': 24, '53530': 24, '81200': 24, '25003': 24, 'V168': 24, '87340': 24, '2638': 24, '30403': 24, '30521': 24, 'V5862': 24, '5754': 24, 'V1001': 24, '80100': 24, '7795': 24, '36570': 24, 'V1044': 24, 'V632': 24, '85302': 24, 'E8493': 24, 'E9654': 24, '5081': 24, '8470': 24, '99939': 24, '34280': 24, '34460': 24, '20288': 24, '92411': 24, '6828': 24, 'V5863': 24, '4474': 24, '57431': 24, '8260': 24, '2651': 24, '9130': 24, '99851': 24, '82111': 23, '7910': 23, '34680': 23, 'V8536': 23, '34541': 23, '3102': 23, 'V6549': 23, '9054': 23, '3071': 23, '58389': 23, '80609': 23, '59582': 23, '82392': 23, '3181': 23, '8750': 23, '52809': 23, '78639': 23, '76529': 23, '42653': 23, '6959': 23, 'V4361': 23, '9993': 23, '23879': 23, 'E9319': 23, '08881': 23, '6271': 23, '77212': 23, '34931': 23, 'E9803': 23, '78442': 23, '80021': 23, '5374': 23, '79094': 23, '9340': 23, '78469': 23, '4267': 23, '5798': 23, '59969': 23, '73739': 23, '29624': 23, '44629': 23, '3017': 23, '8242': 23, '4809': 23, '77213': 23, '48240': 23, '7827': 23, '53084': 22, '36281': 22, '43321': 22, '78821': 22, '3009': 22, '4281': 22, '5959': 22, '1104': 22, '75733': 22, '92410': 22, '8700': 22, '44281': 22, '6825': 22, '55010': 22, '34202': 22, '47824': 22, '8605': 22, '7099': 22, '45383': 22, '1562': 22, '80106': 22, '80625': 22, '1966': 22, '325': 22, '73314': 22, '9698': 22, '86229': 22, '64891': 22, '7596': 22, 'E9650': 22, '7731': 22, '53170': 22, '6983': 22, '20210': 22, '5713': 22, '5734': 22, '9678': 22, '20200': 22, '7104': 22, '3315': 22, '78831': 22, '7511': 22, '57471': 22, 'V174': 22, 'V298': 22, '38589': 21, '2864': 21, '27400': 21, '34511': 21, '2911': 21, '97081': 21, '4536': 21, '66612': 21, 'V5489': 21, 'V202': 21, '33385': 21, '4738': 21, '6256': 21, '36202': 21, '74685': 21, '0543': 21, '48249': 21, '5528': 21, '78904': 21, '80102': 21, 'V556': 21, '3019': 21, '78003': 21, '5362': 21, 'V4971': 21, '86813': 21, '57461': 21, '7703': 21, '4294': 21, 'E8704': 21, '55329': 21, '436': 21, 'V171': 21, '57490': 21, '2894': 21, '2537': 21, '70701': 21, '53250': 21, '59651': 21, '80604': 21, '64824': 21, '07020': 21, '28804': 21, '2690': 21, 'V461': 21, '81220': 21, '51901': 21, '5935': 21, '76719': 21, '82301': 21, '8900': 20, '2250': 20, '99809': 20, '1504': 20, '7512': 20, 'V8538': 20, '79319': 20, '4801': 20, '64822': 20, '81305': 20, '99799': 20, '99644': 20, '2903': 20, '2550': 20, '6039': 20, '99652': 20, 'E8496': 20, '43821': 20, 'V4512': 20, '44389': 20, '2443': 20, 'E9530': 20, '2971': 20, '2564': 20, '47875': 20, '56781': 20, '8621': 20, '3159': 20, '86122': 20, '1129': 20, 'E8580': 20, '3419': 20, 'E8191': 20, 'E9301': 20, 'V4984': 20, '99642': 20, '1540': 20, '2181': 20, '96909': 20, 'V425': 20, '2469': 20, '99631': 20, '7336': 20, '79439': 19, '55220': 19, '0419': 19, '78340': 19, '42761': 19, '82121': 19, '28411': 19, '86600': 19, '27906': 19, '99668': 19, '64893': 19, '0091': 19, '7515': 19, '73025': 19, 'V142': 19, 'V4459': 19, '34461': 19, '5964': 19, '72401': 19, '73015': 19, 'E9344': 19, '82521': 19, '90089': 19, '87349': 19, 'V8539': 19, 'V8532': 19, '8603': 19, '5799': 19, '6851': 19, '1986': 19, '99830': 19, '25073': 19, '2704': 19, '40591': 19, '25090': 19, '30431': 19, '28982': 19, '4539': 19, '81301': 19, '5401': 19, '85185': 19, '2912': 19, '48230': 19, '29640': 19, '8088': 19, '80503': 19, '5699': 19, '81103': 19, '78760': 19, '52109': 19, '28951': 19, '8601': 19, '3568': 19, '47832': 19, 'E8500': 19, '6110': 19, '5538': 19, 'E8152': 18, '7560': 18, 'E888': 18, '81500': 18, '7092': 18, 'E8494': 18, '48239': 18, '75169': 18, '5600': 18, '24220': 18, 'V8544': 18, '30781': 18, '83100': 18, '1729': 18, '4730': 18, '7299': 18, '5163': 18, '07022': 18, '35782': 18, '0701': 18, 'V8534': 18, '78723': 18, '51911': 18, '7265': 18, 'V1241': 18, '70901': 18, '53490': 18, '80321': 18, '43853': 18, '34551': 18, '36840': 18, '57441': 18, '34281': 18, 'E9411': 18, '6988': 18, '9352': 18, '8404': 18, '78449': 18, '5280': 18, '82322': 18, '2777': 18, '20080': 18, '27901': 18, '83104': 18, '2513': 18, '5809': 18, '20281': 18, '57481': 17, '6951': 17, '76404': 17, '2728': 17, '20283': 17, '51289': 17, '78903': 17, '41181': 17, '47819': 17, '78651': 17, '4841': 17, '4847': 17, 'V8537': 17, '33183': 17, '2330': 17, '29634': 17, '6869': 17, '56489': 17, 'E969': 17, '72292': 17, '2884': 17, '30924': 17, '3530': 17, '3483': 17, 'E8705': 17, '60789': 17, '34282': 17, '30011': 17, '9984': 17, '44100': 17, '37950': 17, 'E8130': 17, '75162': 17, '9093': 17, '7422': 17, '34600': 17, '30002': 17, '38910': 17, '00869': 17, '44029': 17, '32726': 17, '80116': 17, '4266': 17, '71699': 17, '72633': 17, '29980': 17, 'V0261': 17, '2115': 17, '43300': 17, '7625': 17, '33119': 17, '9110': 17, '80112': 17, '7835': 17, '4378': 17, '57401': 17, '99675': 17, '28311': 17, '4478': 17, '73349': 17, 'E8811': 17, '20000': 17, '2381': 17, '3373': 16, '7701': 16, '9210': 16, '73016': 16, '7103': 16, '60091': 16, '7212': 16, '7463': 16, '99609': 16, '40290': 16, 'E8600': 16, 'E8501': 16, '81001': 16, '92401': 16, '71430': 16, '5941': 16, '79099': 16, '1512': 16, '4838': 16, '80136': 16, '2913': 16, '37739': 16, '0312': 16, '8731': 16, '71103': 16, '587': 16, '936': 16, '35781': 16, '2781': 16, '85402': 16, '78199': 16, '72751': 16, '2148': 16, '1532': 16, '76621': 16, '5647': 16, '2798': 16, '73026': 16, '4149': 16, '80629': 16, 'E9502': 16, '34571': 16, '8832': 16, '75501': 16, '75313': 16, '9679': 16, 'E9315': 16, '3202': 16, '52340': 16, '2558': 16, '7776': 16, '8025': 16, '9582': 16, '80026': 16, 'V8533': 16, '33720': 16, '47833': 16, '30751': 16, '80700': 16, 'V2651': 16, '1519': 16, '29560': 16, '43812': 16, '07989': 16, 'E8151': 16, 'V8531': 16, '1520': 16, '24280': 16, '1531': 15, '71531': 15, '37273': 15, 'E8768': 15, '35989': 15, 'V011': 15, '5193': 15, '30562': 15, '60889': 15, 'V5411': 15, '71943': 15, '81502': 15, 'V0262': 15, 'V145': 15, '71236': 15, '81343': 15, '3449': 15, '80022': 15, '7689': 15, '9947': 15, '88110': 15, 'V1642': 15, '5568': 15, '3619': 15, 'V5339': 15, '3898': 15, '5690': 15, '77982': 15, '86329': 15, '6945': 15, '0340': 15, '64821': 15, 'V581': 15, '7705': 15, '475': 15, '4131': 15, '80224': 15, '5988': 15, '47825': 15, '7765': 15, 'E8282': 15, '86101': 15, '7226': 15, '73719': 15, '8860': 15, '75683': 15, '85241': 15, '74900': 15, '4416': 15, '85102': 15, '7038': 15, 'E8540': 15, 'E9208': 15, '30523': 15, '3536': 15, '2849': 15, '8245': 15, 'E9351': 15, 'E8210': 15, '44283': 15, '36230': 15, '1119': 15, '1572': 15, '5581': 15, 'V0481': 15, '76072': 15, '95208': 15, '2390': 15, '3591': 15, '3319': 15, '08882': 15, '29623': 15, '7566': 15, '3549': 15, '7248': 15, '3961': 15, '53150': 15, 'V141': 15, '82020': 15, '30750': 15, 'V8535': 14, '79989': 14, 'V170': 14, '7051': 14, '88102': 14, 'E9347': 14, '64823': 14, '82100': 14, '76402': 14, '80221': 14, '7617': 14, '46430': 14, '8760': 14, '30423': 14, '71230': 14, 'V029': 14, 'E9330': 14, '86339': 14, '7260': 14, '5994': 14, 'V1741': 14, '4570': 14, '1969': 14, '3341': 14, '3580': 14, '4279': 14, '7626': 14, '0310': 14, 'V058': 14, '43810': 14, '99657': 14, '4375': 14, '1369': 14, '41411': 14, 'V620': 14, '1733': 14, '7600': 14, '5963': 14, '73005': 14, '3542': 14, '28260': 14, '60090': 14, '4778': 14, '86132': 14, '9941': 14, '80130': 14, '2897': 14, '76079': 14, 'V0482': 14, '73734': 14, '8822': 14, '72939': 14, '75619': 14, '76497': 14, '6111': 14, '9670': 14, 'V1091': 14, 'E9422': 14, '76512': 14, '99529': 14, '2822': 14, '87201': 14, '1175': 14, '9729': 14, '27950': 14, '88120': 14, '586': 14, '90289': 14, '7510': 14, 'V167': 14, '6019': 14, '5764': 14, '36210': 14, '76498': 14, '78071': 14, '9248': 14, '48289': 14, 'E8538': 14, '99639': 14, '38010': 13, '1588': 13, 'V1242': 13, '27787': 13, '6181': 13, '82320': 13, '81203': 13, '8249': 13, '75319': 13, 'V625': 13, 'V5416': 13, '34500': 13, '73741': 13, 'V1081': 13, 'E9307': 13, 'V4575': 13, '57470': 13, '5821': 13, '0412': 13, 'E8789': 13, '73743': 13, '75612': 13, '4530': 13, '07041': 13, '20502': 13, '7797': 13, '4200': 13, '58181': 13, '4460': 13, 'V146': 13, '8021': 13, '80111': 13, '30490': 13, '8083': 13, '38861': 13, '78930': 13, 'E8801': 13, '9724': 13, '45119': 13, '53270': 13, '71691': 13, 'V5831': 13, 'E9174': 13, '99656': 13, '4618': 13, '80110': 13, '56481': 13, '9684': 13, '70219': 13, '53531': 13, 'E9354': 13, '71107': 13, '7945': 13, '3643': 13, '3201': 13, '72700': 13, 'E9194': 13, '9035': 13, 'V4578': 13, '5259': 13, 'E8529': 13, '69010': 13, '4178': 13, '95205': 13, '37300': 13, 'V1529': 13, 'E8231': 13, '53210': 13, '7612': 13, '99801': 13, '83501': 13, 'E8830': 13, '1514': 13, '9697': 13, 'E9443': 13, '74860': 13, '5851': 13, '81322': 13, '46410': 13, '4290': 13, '9050': 13, '81501': 13, '4262': 12, '7235': 12, '28262': 12, '9778': 12, '83908': 12, '8912': 12, 'V4574': 12, '1108': 12, '43410': 12, '243': 12, '36274': 12, '3543': 12, '9120': 12, '57421': 12, '7623': 12, '9828': 12, '9089': 12, '78899': 12, 'V644': 12, '81354': 12, '81311': 12, '51631': 12, '1580': 12, '78842': 12, '4289': 12, '9752': 12, '32381': 12, 'V169': 12, '78604': 12, '7109': 12, '8770': 12, '94800': 12, '86814': 12, '80229': 12, '30491': 12, '7015': 12, 'E8550': 12, 'V626': 12, '7670': 12, '3561': 12, 'E9457': 12, '4269': 12, '25208': 12, '81401': 12, '72871': 12, 'V0179': 12, 'E9430': 12, '82330': 12, '04182': 12, '80320': 12, '1398': 12, '86612': 12, '7093': 12, '4610': 12, '2739': 12, '7891': 12, '9658': 12, '2396': 12, '76496': 12, '55229': 12, '0499': 12, 'V0381': 12, '27661': 12, '5078': 12, '7720': 12, 'V8530': 12, 'E927': 12, '3519': 12, 'V8522': 12, 'V1261': 12, '9713': 12, '6170': 12, '7608': 12, '82531': 12, '9031': 12, '81321': 12, '9053': 12, '80222': 12, '90253': 12, '80020': 12, '9809': 12, '30021': 12, '34201': 12, '77084': 12, '71589': 12, '75981': 12, '7993': 12, '27903': 12, '2254': 11, '5902': 11, 'V1049': 11, '7724': 11, '95200': 11, '5187': 11, '23770': 11, '4720': 11, '82120': 11, '2271': 11, '78799': 11, '4784': 11, '3897': 11, '80226': 11, '9213': 11, '34403': 11, '1618': 11, '7864': 11, '86131': 11, '76504': 11, '80842': 11, '2808': 11, 'E9173': 11, '4371': 11, 'V1252': 11, '2530': 11, '90003': 11, 'E8542': 11, 'V166': 11, '85140': 11, '4881': 11, '77214': 11, '85141': 11, '34700': 11, 'E9412': 11, '7798': 11, '7615': 11, '33392': 11, '87200': 11, '1231': 11, '2538': 11, '83905': 11, '34989': 11, '5651': 11, '075': 11, 'E9688': 11, '60490': 11, '65421': 11, '9047': 11, 'E8132': 11, '37601': 11, '37923': 11, '2929': 11, '2116': 11, '2824': 11, '58289': 11, '6010': 11, '65971': 11, '34981': 11, '8794': 11, '2251': 11, '96561': 11, '76075': 11, '95912': 11, '44289': 11, '28412': 11, '32721': 11, '7108': 11, 'V8545': 11, 'V653': 11, 'V2652': 11, '96905': 11, '8246': 11, '3698': 11, '79551': 11, '81231': 11, '3100': 11, 'E9391': 11, '326': 11, 'V5864': 11, '80601': 11, '4272': 11, 'E8181': 11, 'V1203': 11, '28983': 11, '0796': 11, '5080': 11, '75651': 11, 'V714': 11, '42979': 11, '42291': 11, '6144': 10, '5206': 10, '53260': 10, '88003': 10, '6918': 10, '7485': 10, '52510': 10, '74365': 10, '2771': 10, '74742': 10, '92300': 10, '7429': 10, '3368': 10, 'V1053': 10, '23876': 10, '82312': 10, '1548': 10, '2419': 10, '41405': 10, '90241': 10, '28730': 10, '4613': 10, '82523': 10, '2352': 10, '8300': 10, '80322': 10, '7908': 10, '1619': 10, '7851': 10, '37852': 10, '53340': 10, '5160': 10, '8029': 10, '37943': 10, 'V652': 10, '99933': 10, '3109': 10, '80025': 10, '7621': 10, '74721': 10, '28866': 10, '20240': 10, 'V1641': 10, '8630': 10, '7704': 10, '72272': 10, '8631': 10, '78096': 10, '53110': 10, '38869': 10, '8744': 10, '81101': 10, 'E9452': 10, '9032': 10, '73311': 10, '82310': 10, '3492': 10, '25030': 10, '5967': 10, 'V1507': 10, '86239': 10, '72982': 10, '25510': 10, 'E9248': 10, '36813': 10, '7816': 10, '5060': 10, '1410': 10, '44502': 10, '5409': 10, '57440': 10, '56202': 10, '92619': 10, '66632': 10, '2397': 10, '7218': 10, '46400': 10, 'E9447': 10, '9680': 10, '43884': 10, '7062': 10, '28809': 10, '7292': 10, '0270': 10, '20030': 10, 'V061': 10, '95203': 10, '5172': 10, '37741': 10, '7142': 10, '4479': 10, '64894': 10, '36234': 10, '82129': 10, '75732': 10, '37239': 10, '8850': 10, '80626': 10, '65961': 10, '81611': 10, '4243': 10, '7660': 10, '5966': 10, '27951': 10, '2182': 10, '99641': 10, '7774': 10, 'V3201': 10, '52460': 10, '53370': 10, '04183': 10, 'V5412': 10, '2126': 10, '30473': 10, '78863': 10, '9571': 10, '3574': 10, '57430': 10, '34882': 10, '81600': 10, '23771': 10, 'E9809': 10, '7280': 10, '3589': 10, '27482': 10, '5811': 10, '2442': 10, '85146': 10, '7780': 10, '3804': 10, '95893': 10, '2734': 10, '34409': 9, '76403': 9, '47822': 9, '7771': 9, '88002': 9, '2357': 9, '7061': 9, 'E9571': 9, '5239': 9, '76495': 9, '53220': 9, '7714': 9, '1330': 9, '6179': 9, '75470': 9, '4533': 9, '43850': 9, 'V301': 9, '7011': 9, '2794': 9, '53511': 9, '86414': 9, '82133': 9, '70400': 9, '5439': 9, '59000': 9, 'V8523': 9, 'V5417': 9, '99982': 9, '9696': 9, '70583': 9, '4830': 9, '1307': 9, '46450': 9, '9500': 9, 'E8232': 9, '80621': 9, '85406': 9, '45375': 9, '79389': 9, '79415': 9, '83901': 9, '3699': 9, 'E9283': 9, '72273': 9, '95891': 9, '30122': 9, '82535': 9, '34501': 9, 'V434': 9, '7944': 9, '33821': 9, '86399': 9, '7833': 9, '44030': 9, '2812': 9, '7467': 9, '30541': 9, '71695': 9, '88122': 9, '3577': 9, '8676': 9, '2515': 9, '74761': 9, '99527': 9, '81400': 9, '34401': 9, 'E0009': 9, 'E0010': 9, '46431': 9, '55200': 9, '87359': 9, '2143': 9, '3180': 9, '7964': 9, '8075': 9, '84500': 9, '28240': 9, '2699': 9, '76521': 9, '83101': 9, '2879': 9, 'E8508': 9, '80853': 9, '29900': 9, '5888': 9, '5264': 9, '76492': 9, '80238': 9, '7421': 9, '44409': 9, 'E9501': 9, '4150': 9, '45389': 9, '4253': 9, '6140': 9, '7462': 9, '80606': 9, '1715': 9, '25033': 9, '1713': 9, '75481': 9, '43830': 9, '49302': 9, '3553': 9, '45387': 9, '1914': 9, '7622': 9, '80228': 9, '0949': 9, '3689': 9, '99603': 9, '0400': 9, '37775': 9, '75610': 9, '9534': 9, '38830': 9, '75563': 9, '74683': 9, '56942': 9, '90441': 9, '76501': 9, '6208': 9, '1891': 9, 'V1509': 9, 'E9313': 9, '6143': 9, '81503': 9, '32382': 9, '6268': 9, '46619': 9, '42511': 9, '85101': 9, 'V183': 9, '1950': 9, '3129': 9, '74749': 9, '8840': 9, '80325': 9, '2520': 9, '80001': 9, '30302': 8, '5173': 8, '1737': 8, '37515': 8, '66624': 8, '6829': 8, '5290': 8, '4420': 8, '36510': 8, 'E989': 8, '41082': 8, '76494': 8, '34481': 8, '81333': 8, '64783': 8, '3432': 8, 'V1508': 8, '20412': 8, '3360': 8, '81602': 8, '41419': 8, '7808': 8, '71965': 8, '541': 8, '7010': 8, '4219': 8, '4386': 8, '45183': 8, 'E9229': 8, '2230': 8, '5756': 8, '8798': 8, '4732': 8, '36000': 8, '81102': 8, '9514': 8, '80608': 8, '96972': 8, 'E8199': 8, '78033': 8, '81240': 8, '74769': 8, '33828': 8, '7728': 8, '6258': 8, '8678': 8, '30181': 8, '85405': 8, '1569': 8, '81323': 8, '19881': 8, '7678': 8, '59659': 8, '9711': 8, '9033': 8, '7935': 8, '5238': 8, '7385': 8, '7517': 8, '78050': 8, 'E8551': 8, '83942': 8, 'E9198': 8, '25202': 8, '64663': 8, '78843': 8, '27403': 8, '99732': 8, '3207': 8, 'V066': 8, '01190': 8, '1714': 8, '3482': 8, '71949': 8, '5831': 8, '38300': 8, '20972': 8, '80315': 8, '70700': 8, '3548': 8, '72611': 8, 'E8880': 8, '74569': 8, '3693': 8, '20070': 8, '29284': 8, '80326': 8, '45377': 8, '6171': 8, '1725': 8, '1809': 8, '7209': 8, '7149': 8, '30014': 8, '27953': 8, '92231': 8, '1910': 8, 'E9588': 8, '80115': 8, '1744': 8, '9553': 8, '73006': 8, '75739': 8, 'V1061': 8, '86513': 8, '8792': 8, '6210': 8, '45352': 8, '1503': 8, '85142': 8, '80849': 8, 'V1589': 8, '990': 8, '71680': 8, '73689': 8, '7202': 8, '20050': 8, '86802': 8, '82130': 8, '43380': 8, '99678': 8, '56782': 8, '75689': 8, '20198': 8, '4802': 8, '74729': 8, '20411': 8, '40403': 8, '67454': 8, 'V860': 8, '78939': 8, '86321': 8, 'V0253': 8, '1640': 8, '20282': 8, '34440': 8, '7019': 8, '53500': 8, '71534': 8, '8901': 8, '7758': 8, '1537': 8, '30022': 8, '49321': 8, '86412': 8, '7902': 8, '7294': 8, '9563': 8, '55012': 8, '2865': 8, '64844': 8, '8920': 8, '4918': 8, '9720': 8, 'E9550': 8, '5969': 8, '7282': 8, '5755': 8, '90222': 8, '32727': 8, '4781': 8, '7217': 8, '5275': 8, '86809': 8, '37630': 8, '25093': 8, 'V555': 8, '68100': 8, 'E9170': 8, 'E8528': 8, '48281': 7, '86400': 7, '1571': 7, '5719': 7, '2726': 7, '41513': 7, '3182': 7, '9552': 7, '8449': 7, '64843': 7, '1530': 7, '5692': 7, '6279': 7, '33372': 7, '3336': 7, '2862': 7, '30460': 7, '57460': 7, '52181': 7, 'V1084': 7, '4581': 7, '80312': 7, '1418': 7, '37701': 7, '36563': 7, '1177': 7, 'E9346': 7, '99561': 7, 'E8131': 7, '75550': 7, '37887': 7, '70909': 7, '86222': 7, '3581': 7, '8672': 7, '86330': 7, '8711': 7, '2355': 7, '1882': 7, '5642': 7, '7513': 7, '4733': 7, '44323': 7, '4808': 7, '77182': 7, 'V068': 7, '2353': 7, '7825': 7, 'V8812': 7, '470': 7, '7730': 7, '37749': 7, '3789': 7, '73712': 7, '6012': 7, '7089': 7, '4449': 7, '20028': 7, '53400': 7, '71916': 7, '9691': 7, '7949': 7, '3410': 7, '1915': 7, '0529': 7, '20301': 7, '1734': 7, '46611': 7, '82003': 7, '33722': 7, '20511': 7, '72971': 7, 'V430': 7, '3839': 7, '07951': 7, '8089': 7, '59689': 7, '86113': 7, '7831': 7, '64664': 7, '7249': 7, '99677': 7, '56986': 7, '6150': 7, '6159': 7, '34430': 7, '72142': 7, '5282': 7, '3094': 7, '2682': 7, '75263': 7, '8241': 7, '95909': 7, '2940': 7, '2594': 7, '07811': 7, '72761': 7, 'V431': 7, '7961': 7, '80425': 7, '8361': 7, '95204': 7, '92303': 7, '27949': 7, '37730': 7, 'E9401': 7, '05419': 7, '3418': 7, 'V560': 7, '47879': 7, '30250': 7, '34404': 7, '34581': 7, '72290': 7, '6201': 7, '05379': 7, '82321': 7, '72211': 7, '68601': 7, '5131': 7, '7018': 7, '5371': 7, '9642': 7, '72691': 7, '49381': 7, '78607': 7, '0391': 7, 'V8525': 7, '53013': 7, '77012': 7, '27802': 7, '8821': 7, '3014': 7, '81250': 7, '71109': 7, '7563': 7, '80131': 7, '9597': 7, '1481': 7, 'V1649': 7, '8441': 7, '78838': 7, '6011': 7, 'E918': 7, '29632': 7, 'V596': 7, 'V0251': 7, '4510': 6, '20401': 6, '5122': 6, '37034': 6, '1735': 6, '67004': 6, '33382': 6, '11599': 6, '75315': 6, '4519': 6, '64861': 6, '83903': 6, '92720': 6, '48232': 6, '85242': 6, '37140': 6, '99643': 6, '86413': 6, '6040': 6, '2871': 6, '7624': 6, '5735': 6, '2755': 6, '1710': 6, '73024': 6, '38630': 6, '71902': 6, '75489': 6, '35971': 6, '72705': 6, '8221': 6, 'V1389': 6, '81382': 6, '57480': 6, 'V1062': 6, '1940': 6, '83402': 6, '7587': 6, '74740': 6, '0940': 6, '82381': 6, '76493': 6, '9754': 6, '9064': 6, '87352': 6, '64781': 6, '77581': 6, '8728': 6, '20890': 6, '8796': 6, '7222': 6, '53230': 6, '88111': 6, '88000': 6, '1568': 6, '2722': 6, '8921': 6, 'V4509': 6, '2706': 6, 'V5481': 6, '2861': 6, '7238': 6, '36203': 6, '20260': 6, '2751': 6, '1272': 6, 'E9385': 6, '73315': 6, '80239': 6, '6944': 6, '9551': 6, '5721': 6, 'V1505': 6, '27789': 6, '1610': 6, '80124': 6, '29592': 6, '6089': 6, '502': 6, 'E9192': 6, '9038': 6, '2180': 6, '6072': 6, '5582': 6, '90453': 6, '33390': 6, '2337': 6, 'E9507': 6, '29520': 6, '23691': 6, '45350': 6, '52689': 6, '9802': 6, 'E8187': 6, '0074': 6, '30552': 6, '86345': 6, '78059': 6, '74259': 6, '1921': 6, '20010': 6, '45376': 6, '3952': 6, 'E8548': 6, '3911': 6, '30120': 6, '44032': 6, '2165': 6, 'V1504': 6, '7504': 6, '64244': 6, '2698': 6, '4377': 6, '71102': 6, '87402': 6, '1892': 6, '82002': 6, '28246': 6, '3551': 6, '1639': 6, '75614': 6, '81332': 6, '6952': 6, '41002': 6, '9557': 6, '38915': 6, 'E8556': 6, '80225': 6, '56882': 6, '78905': 6, '0530': 6, '28950': 6, '55011': 6, 'V694': 6, '260': 6, '3080': 6, '8251': 6, '7671': 6, 'E9291': 6, 'E9278': 6, 'E9445': 6, '72703': 6, 'E9108': 6, '37991': 6, '57411': 6, '4419': 6, '6205': 6, '1589': 6, '66634': 6, '2395': 6, '80012': 6, '8509': 6, '7383': 6, '36320': 6, 'E9201': 6, '37203': 6, '67432': 6, '3592': 6, '24291': 6, '80426': 6, '53241': 6, '9051': 6, '99689': 6, 'V8524': 6, '2893': 6, '1611': 6, '07810': 6, '74609': 6, '5951': 6, '73341': 6, '3158': 6, '4320': 6, '7722': 6, '7836': 6, '37810': 6, '87374': 6, '3210': 6, '75559': 6, '46451': 6, '42518': 6, '1501': 6, 'V602': 6, '7289': 6, 'E9068': 6, '73012': 6, '75322': 6, '6164': 6, '60782': 6, '4731': 6, '61801': 6, '1808': 6, '82522': 6, '7020': 6, '34620': 6, '38612': 6, '56032': 6, '27501': 6, '00863': 6, '2391': 6, '45372': 6, '1700': 6, '82131': 6, '6253': 6, '36211': 6, '37633': 6, '90082': 6, '36231': 6, '1490': 6, '67484': 6, '2898': 6, '7514': 6, '71694': 6, '78094': 6, '7859': 6, '9211': 6, '74686': 6, '74510': 6, '4959': 6, '81383': 6, '9162': 6, 'E9306': 6, '20302': 6, 'V1088': 6, '7960': 6, '7354': 6, '5563': 5, 'E8588': 5, '0360': 5, '82380': 5, '7131': 5, '78902': 5, '2468': 5, '5996': 5, '80603': 5, '72251': 5, '4531': 5, '64251': 5, '52550': 5, 'V1502': 5, '64863': 5, 'V063': 5, '1543': 5, '81302': 5, '83200': 5, '0092': 5, '75317': 5, '88013': 5, 'E9175': 5, '72709': 5, '3951': 5, '1917': 5, '3220': 5, '5846': 5, '07031': 5, '4467': 5, '6970': 5, '9011': 5, '72403': 5, '7754': 5, '8930': 5, 'V5041': 5, '37000': 5, 'E9387': 5, 'E8541': 5, '1844': 5, '07819': 5, 'V618': 5, '3082': 5, 'V741': 5, '05329': 5, '77189': 5, '9001': 5, '44771': 5, '37313': 5, 'E8217': 5, '71597': 5, '32361': 5, '38900': 5, '24901': 5, '90301': 5, '76382': 5, 'E8852': 5, '35921': 5, '1990': 5, '33729': 5, '9172': 5, '20380': 5, '74561': 5, '64881': 5, '6273': 5, '5071': 5, 'E9370': 5, '40599': 5, '80421': 5, '64813': 5, '34210': 5, 'E9177': 5, '80422': 5, '80010': 5, '80500': 5, '64784': 5, 'E9019': 5, 'V198': 5, '1420': 5, '0463': 5, '2779': 5, '4489': 5, 'E8603': 5, '5822': 5, '73381': 5, '7937': 5, '81509': 5, '71903': 5, '90221': 5, 'V1365': 5, '6038': 5, '8027': 5, '6180': 5, '60783': 5, '99802': 5, '87373': 5, '9330': 5, '5562': 5, 'E9064': 5, 'E9460': 5, '84200': 5, 'E9357': 5, '29043': 5, '83920': 5, '6259': 5, '1620': 5, '72884': 5, '9556': 5, 'V040': 5, '30522': 5, 'V138': 5, '44282': 5, '683': 5, '45371': 5, '80132': 5, '1922': 5, '25032': 5, '684': 5, '6924': 5, '78441': 5, '28861': 5, '86340': 5, '7540': 5, '1300': 5, '99583': 5, 'E9601': 5, '81352': 5, '24201': 5, '79402': 5, '7585': 5, '1478': 5, '71580': 5, 'E8257': 5, '71846': 5, '37555': 5, '87202': 5, '73316': 5, '20150': 5, '1460': 5, '36001': 5, '38870': 5, '9721': 5, '83902': 5, '9911': 5, '64892': 5, 'V272': 5, '30441': 5, '7296': 5, '9509': 5, '20040': 5, '7458': 5, '30481': 5, '9042': 5, '83906': 5, '4480': 5, '2832': 5, '048': 5, '5298': 5, '4291': 5, '7595': 5, '36289': 5, '7586': 5, 'E9670': 5, '9219': 5, '7589': 5, 'E9220': 5, '4374': 5, '30402': 5, '7613': 5, 'E8171': 5, 'V4569': 5, '2870': 5, '42651': 5, '8782': 5, '9581': 5, '3238': 5, '1723': 5, '30461': 5, '66551': 5, '2531': 5, '47834': 5, '20800': 5, '81303': 5, '28862': 5, '79022': 5, 'V162': 5, 'E8581': 5, '99833': 5, '7088': 5, '2373': 5, '3343': 5, '30493': 5, '7593': 5, '7930': 5, '85231': 5, '7631': 5, '0971': 5, '80236': 5, '2382': 5, '78864': 5, 'V5849': 5, '5753': 5, 'E9382': 5, '11281': 5, '99800': 5, '80176': 5, '29421': 5, '1479': 5, '71509': 5, '9510': 5, 'V5841': 5, '7672': 5, '632': 5, '1707': 5, '87365': 5, '9701': 5, '20780': 5, '78051': 5, '85105': 5, '5731': 5, '46411': 5, '79021': 5, '0521': 5, 'E8854': 5, '81519': 5, '43400': 5, 'V195': 5, '36815': 5, '72141': 5, '48231': 5, '74687': 5, 'V291': 5, '71697': 5, '9920': 5, '74193': 5, '8058': 5, '2931': 5, '75502': 5, '37900': 5, '80165': 5, '6260': 5, '7041': 5, '29285': 5, '66932': 5, '42290': 5, '20921': 5, 'E9102': 5, '53087': 5, '86384': 5, '3101': 5, '71233': 5, '1522': 5, 'V1060': 5, '9583': 5, '4540': 5, '5970': 5, '51853': 5, '35789': 5, '7934': 5, '7461': 5, '75513': 5, '52310': 5, '9661': 5, '62210': 5, '64804': 5, '9953': 5, '8360': 5, '2700': 5, 'V4587': 5, '40501': 5, 'V4960': 4, '30303': 4, '1726': 4, '7932': 4, '64814': 4, '0362': 4, '75889': 4, '71489': 4, '226': 4, '6948': 4, '7262': 4, '6173': 4, '7079': 4, '8870': 4, '92710': 4, '7920': 4, '2776': 4, 'V155': 4, '80607': 4, '9228': 4, '75432': 4, '25801': 4, '7083': 4, '40401': 4, '8442': 4, '74741': 4, 'E9345': 4, '71907': 4, '98989': 4, '7475': 4, '6023': 4, '85401': 4, '73088': 4, 'V1309': 4, 'V8521': 4, '30580': 4, '80076': 4, '20278': 4, '78064': 4, 'E8716': 4, '71594': 4, '6118': 4, '65951': 4, '28801': 4, '2592': 4, 'E9241': 4, '86812': 4, '86350': 4, '90254': 4, '7599': 4, '86352': 4, '99688': 4, 'E9178': 4, '2155': 4, '7592': 4, '71500': 4, '92320': 4, '8795': 4, '37999': 4, '71901': 4, '73001': 4, '30989': 4, '53450': 4, '5199': 4, '25031': 4, '33900': 4, 'V549': 4, '8500': 4, '9029': 4, '73022': 4, '81612': 4, '1535': 4, '1440': 4, '9273': 4, '9392': 4, 'V421': 4, '7273': 4, '75567': 4, '0319': 4, '72660': 4, 'V1090': 4, '68111': 4, '86342': 4, '99645': 4, '64254': 4, '5285': 4, '7942': 4, '20929': 4, '8751': 4, '3949': 4, '01894': 4, '37700': 4, '80420': 4, '0085': 4, 'E8250': 4, '99684': 4, '20158': 4, 'V872': 4, '3321': 4, '2386': 4, '0860': 4, '7538': 4, '42760': 4, '71849': 4, 'E8252': 4, '25542': 4, '74601': 4, '78602': 4, '40201': 4, '7582': 4, '94204': 4, 'E8197': 4, '3814': 4, '3671': 4, '': 4, '20270': 4, '7635': 4, '9249': 4, '9041': 4, '8448': 4, '25021': 4, '64864': 4, '67404': 4, '73004': 4, '99653': 4, '6160': 4, '29644': 4, '6802': 4, '7581': 4, '1716': 4, '78002': 4, '37881': 4, '37689': 4, '7628': 4, '2561': 4, '80135': 4, '5564': 4, '0272': 4, '1419': 4, '6272': 4, '86819': 4, '80031': 4, '7809': 4, '3888': 4, '37432': 4, '76389': 4, '2392': 4, '71940': 4, '65221': 4, '7590': 4, '66331': 4, '7570': 4, '7627': 4, 'V4289': 4, '1110': 4, '71887': 4, 'E970': 4, '3007': 4, '53989': 4, '86381': 4, '2376': 4, 'V5391': 4, '6190': 4, '88001': 4, 'E8123': 4, '72704': 4, '20023': 4, 'E9425': 4, '8797': 4, 'V6141': 4, '71481': 4, '4353': 4, '29211': 4, '8243': 4, '99581': 4, '3342': 4, 'E8853': 4, '8671': 4, '78724': 4, '37921': 4, '7030': 4, '78933': 4, '37710': 4, '1648': 4, '84503': 4, 'V1559': 4, '04105': 4, '9528': 4, '80172': 4, '64803': 4, '500': 4, '2339': 4, '4220': 4, '3222': 4, '42650': 4, '9585': 4, 'V017': 4, 'V4985': 4, 'E8141': 4, 'E8841': 4, '86320': 4, '74100': 4, 'V074': 4, '2141': 4, '7676': 4, '81403': 4, '2354': 4, '4421': 4, '44621': 4, '734': 4, '73681': 4, '7068': 4, '64903': 4, '1209': 4, '0527': 4, 'E8241': 4, '80624': 4, '80000': 4, '37716': 4, '29389': 4, '52400': 4, '74681': 4, '36206': 4, '6151': 4, '5643': 4, '7871': 4, '7012': 4, '2730': 4, '85229': 4, 'V175': 4, '8872': 4, 'E9018': 4, '85100': 4, '5269': 4, '5991': 4, '75617': 4, '82390': 4, 'E9303': 4, '9140': 4, '2123': 4, '7841': 4, 'E9060': 4, '6079': 4, '1642': 4, '76409': 4, '56201': 4, '0093': 4, '9081': 4, '1958': 4, '81242': 4, '9529': 4, '9180': 4, '04103': 4, '75881': 4, 'E959': 4, '2652': 4, 'E8503': 4, '6926': 4, '7539': 4, '59984': 4, '2599': 4, '542': 4, 'E8582': 4, '67323': 4, '34120': 4, 'E8609': 4, '2118': 4, '6185': 4, '59382': 4, 'E9589': 4, '1528': 4, '3573': 4, '118': 4, '82139': 4, '7466': 4, '1370': 4, '92420': 4, '72813': 4, '37992': 4, '80851': 4, '72283': 4, '30430': 4, '90223': 4, '42293': 4, '59589': 4, '1309': 4, '03841': 4, '85224': 4, '8471': 4, 'V6142': 4, '66401': 4, '6861': 4, '87261': 4, '27411': 4, '7792': 4, '7564': 4, '99647': 4, '81241': 4, '37632': 4, '30789': 4, '24981': 4, '82110': 4, '37924': 4, '71888': 4, '29012': 4, 'V7281': 4, '7509': 4, '7420': 4, '29699': 4, '4718': 4, '33391': 4, '1724': 4, 'E8182': 4, '08240': 4, 'V5401': 4, '86409': 4, '0840': 4, 'E9397': 4, 'V4450': 4, '8690': 4, '42742': 4, 'E9438': 4, '51636': 4, '40492': 4, '77589': 4, '3442': 4, '700': 4, 'E8251': 4, '5952': 4, '3552': 4, 'E9585': 4, '8081': 4, '53570': 4, '2462': 4, '29574': 4, '5539': 4, '5560': 4, 'E8710': 4, '80227': 4, '6235': 4, '7441': 4, '3340': 4, '6923': 4, '3083': 4, 'E9364': 4, '69282': 4, '3337': 4, '9390': 4, '2823': 4, '9779': 4, '78492': 4, '47821': 4, '85246': 4, '3431': 4, '88121': 4, '62211': 3, '5752': 3, 'V152': 3, '92311': 3, '4541': 3, '6270': 3, '2459': 3, '38201': 3, 'V4981': 3, '20600': 3, '63522': 3, '63572': 3, '63512': 3, '3430': 3, 'E8918': 3, '48801': 3, '64683': 3, 'E9451': 3, '4958': 3, '4848': 3, '9878': 3, 'E8698': 3, '4719': 3, '80171': 3, '1612': 3, '9220': 3, '81318': 3, '8409': 3, 'E8146': 3, '7480': 3, '78891': 3, '27540': 3, '9513': 3, '83103': 3, '9094': 3, '95214': 3, '61689': 3, '5640': 3, '7711': 3, '1840': 3, '01300': 3, '78601': 3, '52511': 3, '6806': 3, '938': 3, '82529': 3, 'E8180': 3, '5929': 3, '59789': 3, '5561': 3, '90001': 3, '87322': 3, '9712': 3, '7762': 3, '56944': 3, '7535': 3, '1471': 3, '2534': 3, '5812': 3, '80175': 3, '72743': 3, 'E8129': 3, '25639': 3, 'E8126': 3, '90242': 3, '86512': 3, '9570': 3, '8780': 3, '0579': 3, '7028': 3, '31230': 3, '4296': 3, '86130': 3, '2589': 3, '2548': 3, '80336': 3, 'E9209': 3, 'V311': 3, 'V5427': 3, '30422': 3, '52410': 3, '36189': 3, '3089': 3, 'E8668': 3, '29600': 3, 'V5881': 3, '71831': 3, '71698': 3, '6248': 3, '3499': 3, '9858': 3, '64841': 3, '6028': 3, '30483': 3, 'V1501': 3, '7283': 3, '90451': 3, '80030': 3, '7321': 3, '86419': 3, '92421': 3, '0790': 3, '80223': 3, '5309': 3, '74763': 3, '5253': 3, '40490': 3, '79399': 3, '99693': 3, 'E9190': 3, 'V638': 3, '53781': 3, '72781': 3, '8701': 3, '27700': 3, '64231': 3, 'V9081': 3, 'E9203': 3, '71942': 3, '4350': 3, '1732': 3, 'V0189': 3, '83904': 3, '9068': 3, '30151': 3, '1883': 3, '81010': 3, '79539': 3, '1728': 3, '86603': 3, '40200': 3, '7324': 3, 'E0008': 3, '71615': 3, '41090': 3, '6018': 3, '4409': 3, '6149': 3, '59370': 3, '80061': 3, '74684': 3, '7520': 3, '60499': 3, '1760': 3, '3545': 3, '1712': 3, '80071': 3, '6962': 3, '8261': 3, '38912': 3, '77016': 3, '85203': 3, '1764': 3, '80235': 3, 'E9679': 3, '8504': 3, '95899': 3, '7822': 3, '9695': 3, '38922': 3, '9224': 3, 'V4965': 3, '4770': 3, '61179': 3, '9579': 3, '20402': 3, 'E9328': 3, 'E9270': 3, '2370': 3, '71847': 3, '86353': 3, '69510': 3, '75160': 3, '6981': 3, '66602': 3, '6145': 3, '47820': 3, '56401': 3, '2121': 3, '77439': 3, '65101': 3, '65261': 3, '64241': 3, '81510': 3, '9080': 3, '30759': 3, '7936': 3, '35922': 3, '75321': 3, '2707': 3, '3069': 3, '53141': 3, '8170': 3, '9039': 3, '1649': 3, '27402': 3, '86514': 3, '95209': 3, '78837': 3, '72789': 3, 'E8586': 3, 'V1651': 3, '5361': 3, '76491': 3, '86810': 3, '9747': 3, '2281': 3, '37240': 3, '67434': 3, '1739': 3, '43840': 3, '34211': 3, '20961': 3, '75323': 3, '7286': 3, '81259': 3, '38903': 3, 'V8821': 3, '5763': 3, '24960': 3, '2380': 3, '71226': 3, '9995': 3, '75249': 3, 'E9318': 3, '2371': 3, '9013': 3, '37431': 3, '74349': 3, '81409': 3, '36252': 3, '92310': 3, '6289': 3, '55091': 3, '64761': 3, '78066': 3, '78261': 3, '80036': 3, '52469': 3, 'V5415': 3, '6175': 3, '80375': 3, '6141': 3, '75479': 3, '76505': 3, '9894': 3, 'V1012': 3, '65583': 3, '80435': 3, '90182': 3, '32742': 3, '0041': 3, '71238': 3, '34881': 3, '31239': 3, '1211': 3, '1361': 3, '86100': 3, '86120': 3, '7811': 3, '0398': 3, '68609': 3, '7712': 3, '78461': 3, '035': 3, '64131': 3, '29383': 3, '8831': 3, '44581': 3, '85211': 3, '37853': 3, 'V1086': 3, 'E9651': 3, '9142': 3, '23989': 3, 'E976': 3, '5982': 3, 'E9871': 3, 'V5309': 3, '63491': 3, '7685': 3, '9991': 3, '47411': 3, '75839': 3, '33189': 3, '7366': 3, 'E9389': 3, '3349': 3, '3674': 3, '33523': 3, '56971': 3, '74429': 3, '74560': 3, 'V1859': 3, '3013': 3, '9086': 3, '86510': 3, '1884': 3, '64233': 3, '94214': 3, 'E9570': 3, '29580': 3, '78072': 3, 'E9304': 3, '85240': 3, 'E9322': 3, '30015': 3, '20920': 3, 'E9063': 3, '0478': 3, '5529': 3, '3526': 3, '3732': 3, '2301': 3, '3541': 3, '80660': 3, '9839': 3, '30723': 3, '2650': 3, '7759': 3, '36970': 3, '0498': 3, '36522': 3, '7333': 3, '80182': 3, 'E9292': 3, '51284': 3, '4171': 3, '9580': 3, '20208': 3, '4551': 3, '83650': 3, '92820': 3, '3061': 3, 'V1029': 3, '63411': 3, '7481': 3, 'V5482': 3, 'E8860': 3, '33522': 3, 'E8845': 3, '2552': 3, 'E9506': 3, '3380': 3, '75019': 3, 'V023': 3, '7888': 3, '0979': 3, 'V189': 3, '64121': 3, '6200': 3, '5759': 3, '88112': 3, '11590': 3, '20973': 3, 'E8227': 3, '1916': 3, '9099': 3, '1450': 3, 'E8298': 3, '28802': 3, '2388': 3, '9040': 3, '78341': 3, 'V1369': 3, '66934': 3, '5832': 3, '78833': 3, '5769': 3, 'E9580': 3, '65651': 3, '78343': 3, '86343': 3, '79409': 3, 'E9380': 3, 'E8655': 3, '9881': 3, '1573': 3, '1727': 3, '20979': 3, '36847': 3, '74441': 3, '71905': 3, '53300': 3, '0520': 3, '29289': 3, 'V426': 3, '87353': 3, '87371': 3, '74869': 3, '86349': 3, '37855': 3, '8749': 3, '8702': 3, '3393': 3, 'E8797': 3, '9899': 3, '1769': 3, '81244': 3, '85189': 3, '77018': 3, '2881': 3, '05313': 3, '4376': 3, '81308': 3, 'V109': 3, '4554': 3, 'V1542': 3, '43381': 3, '2367': 3, '87360': 3, '1874': 3, '5226': 3, '78704': 3, 'V604': 3, '36841': 3, '7141': 3, '64914': 3, 'E8744': 3, '37956': 3, '28952': 3, '7913': 3, '87361': 3, '9599': 3, '1881': 3, '463': 3, '9685': 3, 'V1069': 3, '64511': 3, '71844': 3, '6184': 3, '8408': 3, '57140': 3, '2167': 3, '05472': 3, 'V182': 3, '24911': 3, '37800': 3, '2979': 3, '41022': 3, '4559': 3, '20002': 3, '2729': 3, '81408': 3, '7534': 3, '71537': 3, '5518': 3, '32341': 3, '4710': 3, '64224': 3, '87412': 3, '85106': 3, '6931': 3, 'E9805': 3, '3550': 3, '81613': 3, '36565': 3, '67403': 3, '7828': 3, '66111': 3, 'V181': 2, '2142': 2, '2891': 2, '20021': 2, '7449': 2, '7916': 2, '72740': 2, '36520': 2, '677': 2, '7536': 2, '77088': 2, '36800': 2, '67451': 2, '64811': 2, '81353': 2, '2130': 2, '3885': 2, 'V583': 2, '1574': 2, '64403': 2, '37420': 2, '74361': 2, '5278': 2, '34441': 2, '2394': 2, '81249': 2, '64653': 2, '64913': 2, '2331': 2, '99654': 2, '33381': 2, '80070': 2, '83969': 2, '99580': 2, 'E9673': 2, '9462': 2, 'E8624': 2, '1641': 2, '28863': 2, '8438': 2, '82524': 2, '74920': 2, '9948': 2, '74762': 2, '20943': 2, '73722': 2, 'E8555': 2, '7488': 2, '2379': 2, '0329': 2, '73329': 2, 'V8401': 2, '81251': 2, '80160': 2, '51283': 2, 'V1364': 2, 'V6406': 2, '81512': 2, '1720': 2, '71239': 2, '80311': 2, '5800': 2, 'E9433': 2, '65641': 2, 'V271': 2, '64621': 2, '04089': 2, '79923': 2, '20975': 2, '9472': 2, '74722': 2, '80616': 2, '86331': 2, 'E9343': 2, '9559': 2, '01085': 2, '7687': 2, '78960': 2, '2300': 2, '9957': 2, '01194': 2, '73013': 2, '6249': 2, '9766': 2, 'V5843': 2, '71693': 2, '36616': 2, '9095': 2, '4292': 2, '6269': 2, '36901': 2, '4780': 2, '30530': 2, '88020': 2, '3562': 2, '7484': 2, 'V222': 2, '80476': 2, '80024': 2, '7901': 2, '5233': 2, '99564': 2, '1511': 2, '1390': 2, '9530': 2, '90002': 2, 'V052': 2, '62130': 2, '32089': 2, '69550': 2, '69513': 2, '9832': 2, 'V143': 2, '75289': 2, '538': 2, '8793': 2, '30571': 2, '8970': 2, '75461': 2, '20192': 2, '78834': 2, '80485': 2, '20152': 2, 'E9554': 2, '90081': 2, '9165': 2, '85145': 2, '9531': 2, '85209': 2, 'E8793': 2, '71966': 2, '9755': 2, '59011': 2, 'E8762': 2, '0993': 2, '9569': 2, '85196': 2, 'E9360': 2, '30752': 2, '52563': 2, '73020': 2, '8745': 2, '20310': 2, '72669': 2, '1743': 2, '8073': 2, 'E9334': 2, '2156': 2, '80161': 2, '71235': 2, 'V568': 2, '81243': 2, '49382': 2, '4170': 2, '86610': 2, 'V1851': 2, '67012': 2, '2356': 2, '80180': 2, '29540': 2, '5369': 2, '3344': 2, '71516': 2, '99589': 2, '096': 2, '36233': 2, 'E8348': 2, '3556': 2, '20891': 2, '7763': 2, '1320': 2, '9895': 2, '38918': 2, '217': 2, '73671': 2, '82122': 2, '24210': 2, '6950': 2, '71913': 2, '9108': 2, '07033': 2, '9252': 2, '94224': 2, '6101': 2, '79953': 2, '80016': 2, 'E8718': 2, '3612': 2, '64801': 2, '67002': 2, '65451': 2, '3249': 2, '9912': 2, '8712': 2, '64782': 2, '3971': 2, '81513': 2, '460': 2, '2669': 2, '4789': 2, 'E8748': 2, '72762': 2, '9879': 2, '3831': 2, '7869': 2, '7529': 2, '6082': 2, '8479': 2, '82032': 2, '8502': 2, '1630': 2, '64111': 2, '66911': 2, 'E8717': 2, '2829': 2, '69515': 2, '86393': 2, '3709': 2, '6183': 2, '72930': 2, '7673': 2, '34939': 2, '1885': 2, 'E0039': 2, '1731': 2, '36107': 2, '9664': 2, '393': 2, '80639': 2, '71593': 2, '5186': 2, '37530': 2, '94534': 2, '20203': 2, '30150': 2, '30480': 2, '1529': 2, '43852': 2, '38420': 2, '53410': 2, '75269': 2, '1488': 2, '05320': 2, '0931': 2, '64201': 2, 'V252': 2, '9627': 2, '76416': 2, 'E8902': 2, '75616': 2, '36910': 2, '70409': 2, 'V448': 2, '1452': 2, '58189': 2, '1468': 2, '23877': 2, '986': 2, '47870': 2, '20213': 2, 'E8110': 2, '4351': 2, '2528': 2, '64831': 2, '72612': 2, '72671': 2, '55300': 2, 'E9294': 2, 'E030': 2, '86511': 2, '20191': 2, '94522': 2, 'E9242': 2, '9198': 2, '2872': 2, '69289': 2, '1409': 2, '77087': 2, '8940': 2, '1941': 2, '73729': 2, '74362': 2, 'V0489': 2, '0778': 2, '64943': 2, '20287': 2, '76711': 2, 'E848': 2, '1516': 2, '20008': 2, '43881': 2, '2827': 2, '1880': 2, '72690': 2, '2725': 2, '9561': 2, '1500': 2, '36844': 2, '86103': 2, '1759': 2, 'V536': 2, '01803': 2, '8439': 2, '3068': 2, '7542': 2, '20530': 2, '99567': 2, '66941': 2, 'E8260': 2, '78491': 2, '64842': 2, '67482': 2, '37842': 2, '81219': 2, '71996': 2, '6213': 2, '62989': 2, '05311': 2, '86344': 2, '2539': 2, '44589': 2, '6264': 2, '179': 2, '73009': 2, '84509': 2, '75460': 2, '2169': 2, '73609': 2, '11283': 2, '29042': 2, '81210': 2, 'E9496': 2, '76384': 2, '61650': 2, '37909': 2, 'E9204': 2, '25091': 2, '9239': 2, '9082': 2, '20201': 2, '61189': 2, 'V2541': 2, '71958': 2, '2978': 2, 'V4382': 2, 'E8654': 2, '2137': 2, '80234': 2, '80150': 2, '52333': 2, '30443': 2, '75555': 2, '86394': 2, '20312': 2, 'V8389': 2, '3200': 2, '38022': 2, '90141': 2, '72782': 2, '6142': 2, '05312': 2, '36283': 2, '8629': 2, '73732': 2, 'E9325': 2, '7618': 2, '3334': 2, '6209': 2, '73711': 2, '8190': 2, '81419': 2, '60011': 2, '80360': 2, '90181': 2, '33510': 2, '9631': 2, 'V5399': 2, 'E8240': 2, '8488': 2, 'E0190': 2, '95911': 2, '4612': 2, '2598': 2, '3595': 2, '33989': 2, '71909': 2, '83209': 2, '88012': 2, '1602': 2, '07889': 2, '53201': 2, 'V016': 2, '9090': 2, '86613': 2, '94532': 2, '07799': 2, '36641': 2, 'E9314': 2, '1228': 2, '7482': 2, 'E8170': 2, '81331': 2, '2166': 2, '7620': 2, '81402': 2, '9671': 2, 'E9386': 2, '80436': 2, '92810': 2, '3593': 2, '11285': 2, '1373': 2, '67324': 2, '51633': 2, '9243': 2, '00862': 2, '6119': 2, '63401': 2, '5513': 2, '9952': 2, '932': 2, '82019': 2, '81313': 2, '87330': 2, '2298': 2, '6391': 2, '6398': 2, '1513': 2, '29622': 2, '1893': 2, '79929': 2, '71912': 2, '74782': 2, '07059': 2, '3348': 2, '96979': 2, '99563': 2, 'E0026': 2, '8247': 2, '3798': 2, '1718': 2, '0030': 2, '7602': 2, '1763': 2, '65441': 2, '96903': 2, 'E9000': 2, '1800': 2, '9471': 2, '9019': 2, 'V558': 2, '79959': 2, 'V6289': 2, '2333': 2, '0311': 2, '83900': 2, '95206': 2, '0794': 2, '80105': 2, '0545': 2, '45379': 2, '9161': 2, '81393': 2, '80470': 2, '34212': 2, '99687': 2, '75500': 2, '30573': 2, '23772': 2, '92800': 2, '8440': 2, '35579': 2, '86112': 2, '36275': 2, '9600': 2, '80316': 2, '8461': 2, 'V078': 2, '37556': 2, '37311': 2, '85125': 2, '7633': 2, 'E8769': 2, '4512': 2, '9831': 2, '53130': 2, '7541': 2, '03285': 2, '38100': 2, '80114': 2, '78262': 2, '64931': 2, '3236': 2, 'E9455': 2, '81307': 2, '37940': 2, '6214': 2, '36232': 2, '33721': 2, '86411': 2, '99640': 2, '1208': 2, '9604': 2, '2154': 2, '81351': 2, 'V861': 2, '1599': 2, '87351': 2, '37871': 2, '83109': 2, 'E851': 2, '7350': 2, '1100': 2, '65963': 2, '65423': 2, '9913': 2, '1414': 2, '28733': 2, '23873': 2, '74330': 2, 'E8714': 2, '7176': 2, '74363': 2, '8362': 2, '72990': 2, '4748': 2, '27502': 2, '8280': 2, '3910': 2, 'V5873': 2, 'E8212': 2, '87354': 2, '78832': 2, 'E8800': 2, '7683': 2, '0844': 2, '9598': 2, '3590': 2, '74442': 2, '36251': 2, '85239': 2, '86232': 2, 'V580': 2, '6805': 2, '6266': 2, '8761': 2, '3438': 2, '2125': 2, '9055': 2, '2362': 2, 'E8641': 2, '56031': 2, '37922': 2, '05371': 2, '4611': 2, 'V610': 2, '6021': 2, '30016': 2, '80023': 2, '6002': 2, '20512': 2, '3555': 2, '69514': 2, '68102': 2, '00581': 2, '90226': 2, '8418': 2, '3708': 2, '78934': 2, '80075': 2, '9171': 2, '20285': 2, 'E9340': 2, '34402': 2, '86354': 2, '75311': 2, '90233': 2, '90225': 2, '82001': 2, 'E954': 2, 'E8311': 2, '5273': 2, '90442': 2, '94536': 2, 'V188': 2, '65801': 2, '67202': 2, '23773': 2, '60820': 2, '2309': 2, '8972': 2, '64203': 2, '5670': 2, '1613': 2, '88023': 2, '52330': 2, 'E899': 2, '37410': 2, '75671': 2, '8055': 2, '74423': 2, 'V292': 2, '53191': 2, '28732': 2, '3370': 2, '3509': 2, '81405': 2, '81406': 2, '24980': 2, '1449': 2, '38872': 2, '52342': 2, '74489': 2, '81230': 2, 'E8415': 2, '05412': 2, '78931': 2, '71855': 2, '30440': 2, '60010': 2, 'E9441': 2, '34710': 2, '267': 2, '80602': 2, '99670': 2, '75526': 2, '72742': 2, '6218': 2, '72741': 2, '74320': 2, '80162': 2, '0793': 2, 'E0076': 2, '08249': 2, '73629': 2, '44773': 2, '9605': 2, '85309': 2, '80400': 2, '8076': 2, '5296': 2, '99772': 2, '2581': 2, 'E8552': 2, '9562': 2, '8364': 2, '2842': 2, '1638': 2, '7380': 2, '80141': 2, '2163': 2, '9515': 2, '66411': 2, '66531': 2, 'E9505': 2, '64623': 2, '67014': 2, 'E8200': 2, '2793': 2, '3434': 2, '36362': 2, '81411': 2, '78443': 2, '53441': 2, '80015': 2, '81254': 2, '29564': 2, 'V8381': 2, '1738': 2, '47412': 2, '3335': 2, '82132': 2, '53160': 2, '0318': 2, '80301': 2, '37443': 2, '6868': 2, '20218': 2, '83961': 2, '90287': 2, '61171': 2, '23872': 2, '52540': 2, '1109': 2, 'E9889': 2, '9067': 2, '5804': 2, '9989': 2, '6162': 2, '38610': 2, '59373': 2, '01504': 2, '41000': 2, 'V1059': 2, '59655': 2, 'V4961': 2, '86611': 2, '8068': 2, 'E8703': 2, 'E0089': 2, '75521': 2, 'V1659': 2, 'V51': 2, '55000': 2, '1869': 2, '73312': 2, '8370': 2, '1598': 2, '83809': 2, '80006': 2, '94127': 2, '9540': 2, '8922': 2, '80152': 2, '73672': 2, '25023': 2, '53640': 2, '2334': 2, '83400': 2, '36589': 2, 'E8133': 2, '58081': 2, '36019': 2, '79401': 2, '36043': 2, '7799': 2, '9074': 2, '3108': 2, '75539': 2, '2102': 2, '34670': 2, '71650': 2, '1521': 2, '37751': 2, '81110': 2, '01325': 2, '64264': 2, '9132': 2, '30285': 2, '74103': 2, '9112': 2, '99771': 2, '33920': 2, '1761': 2, '0038': 2, 'E8764': 2, '85135': 2, '6198': 2, 'E0000': 2, 'E8585': 2, 'E9687': 2, '05413': 2, 'V5844': 2, '6073': 2, '76499': 2, '94423': 2, 'E9888': 2, '24990': 2, '5993': 2, '83651': 2, '1953': 2, 'V561': 2, '36511': 2, '66914': 2, 'V0950': 2, '1448': 2, '44772': 2, '75314': 2, '36003': 2, '1736': 2, 'V1071': 2, '2119': 2, 'V118': 2, '9592': 2, '90220': 2, '53251': 2, '36573': 2, '71222': 2, '6390': 2, '41032': 2, '80332': 2, '43391': 2, '2718': 2, '5169': 2, '36400': 2, '7969': 2, '4548': 2, '3522': 2, '2840': 2, '52331': 2, '73302': 2, '73023': 2, '76511': 1, '7094': 1, '73393': 1, '1469': 1, '29631': 1, '30592': 1, '38921': 1, '2120': 1, '9238': 1, '67333': 1, '52512': 1, '2458': 1, '43831': 1, '64243': 1, '64883': 1, '30742': 1, '0839': 1, '0859': 1, 'E9295': 1, '31531': 1, '6169': 1, '20018': 1, '94840': 1, '8460': 1, '83202': 1, 'E9572': 1, '75482': 1, '74861': 1, '17332': 1, '17331': 1, '17342': 1, 'E9262': 1, '87350': 1, '72882': 1, '01505': 1, '37489': 1, '37501': 1, '30012': 1, '8703': 1, '0622': 1, '0919': 1, '74359': 1, '2306': 1, '36544': 1, '96901': 1, '0912': 1, 'V9039': 1, '80060': 1, 'E8163': 1, '1920': 1, '2312': 1, '8065': 1, '8209': 1, '8679': 1, '20936': 1, '80631': 1, '94209': 1, '86351': 1, '7597': 1, '83114': 1, '9260': 1, '83979': 1, '8677': 1, '2540': 1, 'V172': 1, 'E8795': 1, 'V020': 1, '1643': 1, '87323': 1, '73396': 1, '71845': 1, '9773': 1, '0846': 1, '77430': 1, '1905': 1, 'E8554': 1, '72230': 1, 'E9011': 1, 'E8587': 1, 'V1811': 1, '5279': 1, '73301': 1, '75530': 1, '29651': 1, '67401': 1, '3010': 1, '37482': 1, '85121': 1, '34431': 1, '64261': 1, '7105': 1, '70401': 1, '00804': 1, '9189': 1, '3862': 1, 'E9109': 1, '94524': 1, '27489': 1, '80145': 1, '1429': 1, 'V1585': 1, '7459': 1, '09181': 1, '29189': 1, '8469': 1, '41020': 1, 'E986': 1, '62570': 1, '05889': 1, '36470': 1, 'V1020': 1, '92721': 1, '34701': 1, '41040': 1, '69581': 1, '9052': 1, '29384': 1, 'V608': 1, '7237': 1, '3093': 1, '84512': 1, '7981': 1, '47811': 1, '80475': 1, '01215': 1, '7571': 1, '85173': 1, '55129': 1, '51900': 1, '8799': 1, '80623': 1, '71821': 1, '74711': 1, '85144': 1, '3062': 1, 'E9579': 1, '81212': 1, '7992': 1, '7947': 1, '0051': 1, 'V4451': 1, 'E9499': 1, '1542': 1, '29010': 1, '78054': 1, 'E8742': 1, '11505': 1, '85103': 1, '55093': 1, '85216': 1, '75564': 1, '71432': 1, '64234': 1, '45111': 1, '8406': 1, '35571': 1, '9710': 1, '2799': 1, '7236': 1, '78499': 1, '80151': 1, '64101': 1, '1348': 1, '28652': 1, '37652': 1, '80080': 1, 'E8839': 1, '67153': 1, '7575': 1, '52489': 1, '17322': 1, 'E0138': 1, '90251': 1, '3300': 1, '69018': 1, '1329': 1, 'E9051': 1, 'V1250': 1, 'E9399': 1, '71917': 1, '80662': 1, '82532': 1, '7443': 1, '7402': 1, '75566': 1, '71828': 1, '71891': 1, '45374': 1, '3629': 1, '37274': 1, '38401': 1, '80232': 1, '71296': 1, '20290': 1, '81514': 1, '83301': 1, '36441': 1, '2302': 1, '72673': 1, '7569': 1, '92309': 1, '40210': 1, '3076': 1, '1832': 1, '30531': 1, '2553': 1, '79901': 1, 'E8851': 1, 'E9132': 1, '32351': 1, '37143': 1, '80711': 1, 'V5410': 1, '2758': 1, '78869': 1, 'E8669': 1, '80410': 1, '9539': 1, '80430': 1, '01402': 1, '31289': 1, '74732': 1, 'E0291': 1, '80416': 1, '74720': 1, '81202': 1, '85310': 1, '8787': 1, '86355': 1, '8785': 1, '36213': 1, '71515': 1, '83652': 1, 'E0299': 1, '31234': 1, '9191': 1, '8871': 1, '20930': 1, 'E0030': 1, 'V6110': 1, 'E0061': 1, '71930': 1, 'E8211': 1, '73670': 1, '94323': 1, '79552': 1, '30747': 1, '71950': 1, '37990': 1, '28264': 1, '29382': 1, '37289': 1, '316': 1, '31381': 1, '1952': 1, 'V239': 1, '64661': 1, '65671': 1, '01330': 1, '83309': 1, '99680': 1, '9104': 1, '99585': 1, '5082': 1, 'E8908': 1, '71530': 1, '73605': 1, '40411': 1, '66582': 1, '6938': 1, 'E9821': 1, '36552': 1, '33822': 1, '6274': 1, 'E8619': 1, '9012': 1, '71835': 1, 'E9225': 1, '4572': 1, '80710': 1, '64681': 1, '9618': 1, '9614': 1, '3749': 1, '72619': 1, 'E8196': 1, '0470': 1, '6809': 1, 'V111': 1, 'E9053': 1, 'V1506': 1, '1174': 1, '6920': 1, 'E8637': 1, '01164': 1, '01304': 1, '80350': 1, '0218': 1, '71216': 1, '7428': 1, '7773': 1, '78053': 1, 'E8405': 1, '80082': 1, '73320': 1, '60785': 1, '5200': 1, 'E8156': 1, '6221': 1, '86110': 1, '03289': 1, '05440': 1, '29512': 1, '72409': 1, 'V0971': 1, 'V8811': 1, '32724': 1, 'V5423': 1, '66944': 1, '65444': 1, '67414': 1, '9517': 1, '71120': 1, '2253': 1, '34693': 1, '62981': 1, '7138': 1, 'E9211': 1, '63412': 1, '4957': 1, '5277': 1, '24281': 1, '29502': 1, '71687': 1, '28310': 1, '29282': 1, '20078': 1, '71944': 1, '7796': 1, '3918': 1, '71911': 1, '9056': 1, '66511': 1, '2510': 1, '75529': 1, '80009': 1, '36100': 1, '67204': 1, '66921': 1, '66942': 1, '3739': 1, '74910': 1, '2122': 1, 'V812': 1, '73029': 1, '937': 1, '7537': 1, '5219': 1, 'V045': 1, '9996': 1, '0700': 1, '38003': 1, '36205': 1, '05881': 1, '0491': 1, '78600': 1, 'E9463': 1, '34442': 1, 'E9466': 1, '6178': 1, 'E975': 1, '64944': 1, '1160': 1, '0780': 1, '9046': 1, '38619': 1, '7335': 1, 'E9991': 1, '71155': 1, 'E0031': 1, '9301': 1, '81392': 1, '42491': 1, 'E8384': 1, '3301': 1, '2702': 1, 'V9010': 1, '4749': 1, '3234': 1, '25512': 1, '1467': 1, '8873': 1, '5671': 1, 'E977': 1, '71865': 1, '33902': 1, '33379': 1, '7583': 1, '3588': 1, '64133': 1, '80002': 1, '36105': 1, '3769': 1, '0902': 1, '95219': 1, '83907': 1, 'V0389': 1, '7284': 1, '3649': 1, '20005': 1, '40511': 1, 'V400': 1, '75219': 1, '7522': 1, '71970': 1, '2519': 1, '42654': 1, '20211': 1, '95207': 1, '94203': 1, 'E9240': 1, 'E8041': 1, '6212': 1, '64303': 1, '71616': 1, '3452': 1, '71198': 1, 'E9274': 1, '84209': 1, '9152': 1, '47400': 1, 'E8127': 1, '2153': 1, '81012': 1, '94232': 1, '75431': 1, '61882': 1, '29522': 1, '3502': 1, '29614': 1, '73733': 1, '99683': 1, '83411': 1, '81418': 1, '9034': 1, '61804': 1, '74923': 1, '20590': 1, '3060': 1, '94320': 1, 'E8735': 1, '5847': 1, 'V5049': 1, 'V8409': 1, 'E9559': 1, 'V469': 1, '5949': 1, '3571': 1, '1717': 1, '4772': 1, '90140': 1, '8786': 1, '86800': 1, '7610': 1, '5260': 1, '01895': 1, '5942': 1, '0540': 1, 'E9249': 1, '85150': 1, 'E964': 1, 'E963': 1, 'V9089': 1, '05821': 1, '9596': 1, '53211': 1, 'E8318': 1, '7325': 1, 'E8178': 1, '1906': 1, '37993': 1, '20382': 1, '7246': 1, '5909': 1, '53341': 1, '42981': 1, '5820': 1, '29604': 1, '3491': 1, '20205': 1, '1702': 1, 'E9196': 1, '1430': 1, '85314': 1, '80164': 1, '80174': 1, '36207': 1, '73345': 1, '7358': 1, '7386': 1, '5244': 1, '37942': 1, '80170': 1, '87269': 1, 'E8850': 1, 'V449': 1, '6984': 1, '20903': 1, '2882': 1, '20148': 1, '71926': 1, '01205': 1, 'E8740': 1, '71180': 1, 'E8138': 1, 'E8233': 1, 'V8489': 1, '80306': 1, '9116': 1, '72665': 1, '37520': 1, '29575': 1, '74902': 1, '71592': 1, 'V5302': 1, '2533': 1, '37500': 1, '73630': 1, '2140': 1, '40413': 1, '83801': 1, '83300': 1, '7505': 1, '63320': 1, '6396': 1, 'V230': 1, '27911': 1, '36811': 1, '80011': 1, '85210': 1, '9683': 1, 'E8219': 1, 'E9100': 1, 'E8314': 1, '75265': 1, '75016': 1, '75522': 1, '01405': 1, '75029': 1, '29654': 1, '38842': 1, '0031': 1, '6982': 1, '80341': 1, '20011': 1, '64292': 1, '64682': 1, 'E0011': 1, '9473': 1, '81504': 1, '81252': 1, '73002': 1, 'V403': 1, '44620': 1, 'E0032': 1, '29573': 1, 'E9205': 1, '9020': 1, '92301': 1, '41010': 1, 'V6129': 1, '85109': 1, '83302': 1, '4144': 1, '6009': 1, 'V3200': 1, '29381': 1, '92612': 1, '20212': 1, '64904': 1, '64934': 1, '72999': 1, '3969': 1, '9760': 1, '6965': 1, '65571': 1, '65661': 1, '66561': 1, '65921': 1, '85194': 1, '38582': 1, '38302': 1, '38321': 1, '20001': 1, '64671': 1, '64252': 1, 'V9103': 1, '65701': 1, '00841': 1, 'E8216': 1, '76076': 1, '1609': 1, '72664': 1, '96569': 1, 'E8140': 1, '5981': 1, '2360': 1, '37611': 1, '37612': 1, '2132': 1, '66524': 1, 'E9329': 1, '03641': 1, '3308': 1, '2191': 1, '2210': 1, '8961': 1, 'E9200': 1, '75262': 1, '5830': 1, '81314': 1, '80324': 1, '59800': 1, 'V1643': 1, '20033': 1, '63552': 1, '20974': 1, '52406': 1, '75569': 1, '7686': 1, '3221': 1, '5293': 1, 'V698': 1, '9233': 1, '9722': 1, '94108': 1, '52101': 1, '74101': 1, '88019': 1, '9170': 1, '49301': 1, '00847': 1, '3152': 1, '3524': 1, '1943': 1, '30113': 1, '36403': 1, '17372': 1, 'E8145': 1, '79381': 1, '83921': 1, '8790': 1, '99700': 1, '64103': 1, '9245': 1, 'E9671': 1, '85212': 1, '7572': 1, 'V660': 1, '80372': 1, '9065': 1, '9518': 1, '2982': 1, '69512': 1, '2104': 1, 'V135': 1, '0239': 1, '36002': 1, '32737': 1, '2325': 1, '53311': 1, '68101': 1, 'E8613': 1, 'V6107': 1, '4878': 1, '6278': 1, '85219': 1, '9009': 1, '80142': 1, 'E8709': 1, '64833': 1, '2778': 1, '73810': 1, 'E8189': 1, '1401': 1, '2149': 1, '94504': 1, '3411': 1, 'V537': 1, 'V331': 1, 'E0080': 1, '36101': 1, '55001': 1, '9043': 1, '9048': 1, '75026': 1, '7500': 1, '38015': 1, 'E9250': 1, 'E8238': 1, '94401': 1, '2889': 1, '13102': 1, '99586': 1, '0279': 1, '80119': 1, '55202': 1, 'V1553': 1, '8281': 1, '80423': 1, '79510': 1, '85232': 1, '71843': 1, '7279': 1, '80610': 1, '53101': 1, '34691': 1, '37182': 1, 'E0073': 1, '5931': 1, '74600': 1, '43885': 1, '85131': 1, '79955': 1, '37214': 1, '30009': 1, '6080': 1, '74682': 1, '80034': 1, '37024': 1, '01136': 1, '80412': 1, '5262': 1, 'V4363': 1, '69551': 1, '1461': 1, 'V640': 1, '3869': 1, '82539': 1, '36315': 1, '92821': 1, '28241': 1, '32713': 1, '27509': 1, '30089': 1, '72879': 1, '77431': 1, '0849': 1, '94325': 1, '94519': 1, '94850': 1, '76508': 1, '63592': 1, '64294': 1, '7132': 1, '8902': 1, '9994': 1, '2150': 1, '9278': 1, '64673': 1, '64793': 1, '6192': 1, '30472': 1, '33511': 1, '3759': 1, '5644': 1, '5265': 1, '94100': 1, '20037': 1, '1251': 1, '8053': 1, '9173': 1, 'V489': 1, '74401': 1, '63380': 1, '7523': 1, '80123': 1, 'V6405': 1, '52462': 1, '5995': 1, '95919': 1, 'V4284': 1, '07052': 1, '2454': 1, '4431': 1, '81407': 1, '45181': 1, '1848': 1, 'E8761': 1, '6392': 1, '85403': 1, '07049': 1, '2693': 1, '51634': 1, '53430': 1, 'V0252': 1, '81391': 1, '20957': 1, '8851': 1, '36241': 1, '00843': 1, '37189': 1, '0049': 1, 'E9338': 1, 'V5842': 1, '95202': 1, '6979': 1, '9767': 1, 'E9581': 1, 'V1050': 1, '2980': 1, '71191': 1, '390': 1, '8400': 1, '05443': 1, '20969': 1, 'E8840': 1, '86102': 1, '60781': 1, '76401': 1, '07953': 1, '7388': 1, 'V4966': 1, '63502': 1, '1515': 1, 'V0739': 1, '7450': 1, '01890': 1, '66534': 1, '65404': 1, '66604': 1, '20971': 1, '20925': 1, '36204': 1, '73019': 1, '28851': 1, 'E9453': 1, '3824': 1, '5088': 1, '36253': 1, 'V655': 1, '99565': 1, '85245': 1, '37955': 1, 'V110': 1, '5291': 1, '73340': 1, '8960': 1, '41403': 1, '20963': 1, '13101': 1, '01805': 1, '20480': 1, '73097': 1, '7753': 1, '43814': 1, '8742': 1, '1745': 1, '1951': 1, '28243': 1, '75510': 1, '36040': 1, '0980': 1, 'E9854': 1, '83805': 1, 'E9410': 1, '36646': 1, '2571': 1, 'V091': 1, '7779': 1, '80441': 1, '9308': 1, '20951': 1, '38917': 1, '80718': 1, '2358': 1, '7069': 1, '66131': 1, '66541': 1, '9725': 1, '38021': 1, '66574': 1, '38860': 1, '74922': 1, '4843': 1, '0338': 1, '9523': 1, '1765': 1, '11519': 1, 'V1022': 1, '45910': 1, '37275': 1, '38023': 1, '9075': 1, '9753': 1, '90229': 1, '38906': 1, '0059': 1, '71108': 1, '1149': 1, '6188': 1, '20048': 1, 'E9583': 1, '4910': 1, 'V1586': 1, '37452': 1, '20042': 1, '74343': 1, '20071': 1, '6172': 1, '67154': 1, '38039': 1, '80113': 1, 'E0060': 1, '80013': 1, '85183': 1, '94234': 1, '94332': 1, '95914': 1, 'V062': 1, '0392': 1, '94421': 1, '75615': 1, '6850': 1, '77985': 1, '2821': 1, '71784': 1, '75511': 1, '2541': 1, '37635': 1, 'V1819': 1, '2813': 1, '74789': 1, '72883': 1, 'V1869': 1, '87264': 1, '78055': 1, '7709': 1, '20252': 1, 'E8062': 1, '0970': 1, '2828': 1, '71815': 1, '5164': 1, '78937': 1, '09152': 1, 'V122': 1, '65414': 1, '66554': 1, '9735': 1, '1270': 1, 'E9538': 1, '85223': 1, 'E9324': 1, '79380': 1, '5565': 1, '5890': 1, '71840': 1, '55841': 1, '20003': 1, '6168': 1, '27941': 1, '3445': 1, '88029': 1, '81603': 1, '8861': 1, '9114': 1, '0578': 1, '81381': 1, '3879': 1, '7320': 1, '85400': 1, 'V503': 1, '29524': 1, '1464': 1, '7817': 1, '75433': 1, '37603': 1, '85404': 1, '9578': 1, 'V024': 1, '0709': 1, '7791': 1, '7601': 1, 'E8193': 1, '56987': 1, '9942': 1, '7760': 1, '7744': 1, '63421': 1, '6940': 1, '0048': 1, 'E8142': 1, '74353': 1, '64263': 1, '1453': 1, '52108': 1, 'E8353': 1, '36284': 1, '8691': 1, '38200': 1, '01193': 1, '56960': 1, '79400': 1, '1458': 1, '1608': 1, 'E9419': 1, '6116': 1, 'V065': 1, '2101': 1, '85204': 1, '74511': 1, 'V1381': 1, '53120': 1, '5834': 1, '4473': 1, '61800': 1, '38000': 1, '80466': 1, '70521': 1, 'E0020': 1, '32719': 1, '01354': 1, '7721': 1, 'V5426': 1, '99971': 1, '3091': 1, '1140': 1, '29544': 1, '81511': 1, '04590': 1, 'V435': 1, '67412': 1, '24221': 1, '85215': 1, '20243': 1, '55100': 1, '79500': 1, '3959': 1, '1768': 1, 'V6285': 1, '6963': 1, '2820': 1, '9535': 1, 'E8278': 1, '72706': 1, '7611': 1, '72191': 1, '6255': 1, 'E8258': 1, '85184': 1, '9149': 1, 'V468': 1, '94128': 1, 'E8694': 1, '2329': 1, '9125': 1, 'V192': 1, '65953': 1, '7912': 1, '71104': 1, '20917': 1, '52579': 1, '7355': 1, '6254': 1, '80109': 1, '81412': 1, 'E0069': 1, '1463': 1, '33384': 1, '7013': 1, '37210': 1, '29990': 1, '2759': 1, 'V1652': 1, '78947': 1, '73600': 1, '1106': 1, 'V6103': 1, '2818': 1, '78865': 1, 'V703': 1, '63311': 1, '6261': 1, '71848': 1, '1838': 1, '5161': 1, '20722': 1, '0071': 1, '80230': 1, '64852': 1, '53291': 1, '7271': 1, '6203': 1, '75430': 1, '2308': 1, '1603': 1, '80473': 1, '9309': 1, '79589': 1, '39899': 1, 'V716': 1, '83305': 1, '00861': 1, '76510': 1, '94420': 1, '3729': 1, 'E856': 1, '9949': 1, 'V789': 1, '5940': 1, 'V289': 1, '74912': 1, '53261': 1, '20490': 1, '1308': 1, '73620': 1, '71990': 1, '90234': 1, '3578': 1, 'V601': 1, '36372': 1, '90210': 1, '71842': 1, '99984': 1, '7768': 1, '33912': 1, '5824': 1, 'V123': 1, '75450': 1, '38871': 1, '69012': 1, '99651': 1, '71897': 1, 'V486': 1, '2972': 1, '72679': 1, '78932': 1, '85190': 1, 'E9850': 1, '7662': 1, '9635': 1, '3154': 1, '31539': 1, '75611': 1, '20206': 1, '28859': 1, '37886': 1, '83311': 1, '73089': 1, '71918': 1, 'E8249': 1, '78961': 1, '71195': 1, '71985': 1, '63451': 1, '8973': 1, '69279': 1, '99562': 1, '33709': 1, '85304': 1, '5760': 1, '59001': 1, '83813': 1, '8783': 1, '01485': 1, 'E9801': 1, 'E9193': 1, '8791': 1, '9593': 1, 'E8002': 1, '17341': 1, '9122': 1, 'V6542': 1, '4179': 1, '99741': 1, '07053': 1, '7359': 1, '90142': 1, '4542': 1, 'E0139': 1, '37850': 1, '99582': 1, '80622': 1, '07983': 1, '79671': 1, '85256': 1, '3529': 1, '71904': 1, '36812': 1, '71237': 1, '79095': 1, '59581': 1, '7887': 1, 'V5422': 1, '1498': 1, '71856': 1, 'V037': 1, 'E9395': 1, '71666': 1, '5234': 1, 'E9470': 1, '65613': 1, 'E0162': 1, '83313': 1, '83303': 1, '9744': 1, '36859': 1, '1730': 1, '70900': 1, '90450': 1, '83660': 1, 'V6104': 1, '6251': 1, '5646': 1, '0309': 1, 'E8058': 1, '75010': 1, '5235': 1, '80432': 1, '9196': 1, '66021': 1, '65411': 1, '65821': 1, '9061': 1, '94126': 1, '94321': 1, '64214': 1, '20022': 1, '71213': 1, '72991': 1, '05314': 1, '05829': 1, '71533': 1, 'E9335': 1, 'E0161': 1, '80362': 1, 'V6443': 1, '99941': 1, '75320': 1, '64313': 1, '7741': 1, '0039': 1, 'V4989': 1, '1118': 1, 'V4031': 1, '8977': 1, 'E8042': 1, '36523': 1, '36500': 1, '7933': 1, '2984': 1, 'E9620': 1, '64884': 1, 'E8169': 1, '1945': 1, '66614': 1, '32362': 1, '6182': 1, '36217': 1, '7785': 1, '74512': 1, '38905': 1, '4475': 1, '75531': 1, '71986': 1, '71895': 1, '53521': 1, '32725': 1, '20024': 1, '55121': 1, '29621': 1, '80144': 1, '83661': 1, '86383': 1, '36012': 1, '64204': 1, '37702': 1, '1400': 1, '83503': 1, 'V6149': 1, '76077': 1, '9890': 1, '53111': 1, '75520': 1, '85162': 1, '2164': 1, '1898': 1, '6071': 1, '76070': 1, '23331': 1, '66622': 1, '27731': 1, '92801': 1, '80032': 1, '7634': 1, '9083': 1, '72763': 1, '92811': 1, '1489': 1, 'V5301': 1, '94335': 1, 'E9001': 1, '8407': 1, '9229': 1, '1703': 1, 'E8663': 1, '9851': 1, '75613': 1, '75453': 1, '53401': 1, '62402': 1, '2588': 1, '01123': 1, 'V2501': 1, '64274': 1, '6031': 1, '32720': 1, '05471': 1, '29681': 1, '3212': 1, '06642': 1, '06641': 1, '01186': 1, '1273': 1, '87321': 1, '3081': 1, '78862': 1, '24230': 1, '8411': 1, '7323': 1, '87411': 1, '99569': 1, '0880': 1, 'V7651': 1, '55120': 1, 'V4614': 1, '38014': 1, '40211': 1, '2117': 1, 'E9674': 1, '79509': 1, 'V6111': 1, '8472': 1, '82342': 1, '29625': 1, '5810': 1, 'E0071': 1, '94425': 1, '5511': 1, '83401': 1, '1455': 1, '78031': 1, '38908': 1, 'E9408': 1, 'E8248': 1, '81404': 1, '9594': 1, '07998': 1, '8716': 1, '8710': 1, '4481': 1, 'V7219': 1, 'E8702': 1, '56030': 1, '64271': 1, '64862': 1, '75560': 1, '7508': 1, '3029': 1, '75440': 1, '20047': 1, '37312': 1, '36106': 1, '95215': 1, '66811': 1, '67311': 1, 'E8012': 1, 'E0062': 1, '7915': 1, 'E9678': 1, '6232': 1, 'E8343': 1, '9164': 1, 'V510': 1, '92321': 1, '9617': 1, '9619': 1, '75983': 1, '2218': 1, 'V0990': 1, '80146': 1, '37005': 1, '2692': 1, '2110': 1, '72270': 1, 'E9081': 1, 'V672': 1, 'V671': 1, '32372': 1, '04671': 1, 'V708': 1, '85175': 1, '8704': 1, '1431': 1, '23874': 1, '67402': 1, 'E8052': 1, '80859': 1, '01896': 1, '66822': 1, '66001': 1, '65251': 1, '28244': 1, '82331': 1, '82030': 1, '30583': 1, '92701': 1, '42292': 1, '9558': 1, '8875': 1, '7946': 1, '24991': 1, '79009': 1, '20060': 1, 'E0064': 1, 'V6282': 1, '8171': 1, 'E8381': 1, '30543': 1, '8363': 1, '7636': 1, '47871': 1, '27709': 1, '27702': 1, '81610': 1, 'V4963': 1, 'V1352': 1, 'V624': 1, 'V6109': 1, '9060': 1, '72632': 1, '36801': 1, '37952': 1, '2727': 1, '36512': 1, '01880': 1, '80196': 1, '75557': 1, '76506': 1, 'E8228': 1, '8713': 1, '80366': 1, '80376': 1, 'E8188': 1, '9393': 1, 'E9138': 1, '29653': 1, 'E9222': 1, 'E8242': 1, '80085': 1, '96971': 1, '9733': 1, 'E8584': 1, 'E8341': 1, '82520': 1, 'V8709': 1, '0490': 1, '59371': 1, '7789': 1, '9524': 1, '30749': 1, 'E8589': 1, '85316': 1, 'E9677': 1, 'E857': 1, '9610': 1, '24950': 1, '3523': 1, 'V8745': 1, '8371': 1, 'E0070': 1, '37820': 1, 'E9659': 1, '78940': 1, '9893': 1, '8191': 1, '37733': 1, '76381': 1, '33701': 1, '53171': 1, '7874': 1, '9102': 1, '13109': 1, '9595': 1, '20220': 1, '7929': 1, 'E8767': 1, '64293': 1, '64933': 1, '53520': 1, '82534': 1, 'E9238': 1, '2144': 1, '9063': 1, '72672': 1, '37882': 1, '38832': 1, '40400': 1, '44382': 1}\n"
          ],
          "name": "stdout"
        }
      ]
    },
    {
      "cell_type": "code",
      "metadata": {
        "id": "zaQ9Ll8Nof_5",
        "colab": {
          "base_uri": "https://localhost:8080/"
        },
        "outputId": "291d5724-3d61-47f0-dedb-6d7486ecc9e7"
      },
      "source": [
        "len(dict_count_icd9_codes)"
      ],
      "execution_count": null,
      "outputs": [
        {
          "output_type": "execute_result",
          "data": {
            "text/plain": [
              "6919"
            ]
          },
          "metadata": {
            "tags": []
          },
          "execution_count": 73
        }
      ]
    },
    {
      "cell_type": "code",
      "metadata": {
        "id": "FOBJ5MgOtOkJ"
      },
      "source": [
        "total_icd9_category=[a for b in notes_icd_agg.ICD9_CATEGORY.to_list() for a in b]"
      ],
      "execution_count": null,
      "outputs": []
    },
    {
      "cell_type": "code",
      "metadata": {
        "id": "fROTX6twtPnH"
      },
      "source": [
        "dict_count_icd9_category=dict(Counter(total_icd9_category))\n",
        "dict_count_icd9_category=dict(sorted(dict_count_icd9_category.items(),key=lambda x: x[1],reverse=True))"
      ],
      "execution_count": null,
      "outputs": []
    },
    {
      "cell_type": "code",
      "metadata": {
        "id": "li6KvlaztxoB",
        "colab": {
          "base_uri": "https://localhost:8080/"
        },
        "outputId": "c3de9b5d-b0f4-4d9b-dabc-ef585934c6ee"
      },
      "source": [
        "print(dict_count_icd9_category)"
      ],
      "execution_count": null,
      "outputs": [
        {
          "output_type": "stream",
          "text": [
            "{'401': 20646, '427': 16774, '276': 14712, '272': 14212, '414': 14081, '250': 13818, '428': 13330, '518': 12997, '285': 12404, '584': 11147, 'V45': 8846, '599': 7199, '530': 7191, 'V58': 6998, '585': 6764, '403': 6297, 'V10': 6204, '038': 6085, '995': 5480, '424': 5404, '410': 5301, '780': 5296, '244': 5101, '997': 5078, '785': 5048, '305': 5000, '998': 4948, '458': 4935, '486': 4732, 'V15': 4420, '041': 4399, '496': 4296, '996': 4251, 'E878': 3959, '287': 3881, 'V12': 3782, '790': 3672, '507': 3608, '493': 3400, '311': 3347, '511': 3218, '412': 3203, '707': 3117, '348': 3112, '765': 2959, '571': 2865, '300': 2855, '733': 2749, '278': 2664, '416': 2636, 'V29': 2591, 'E879': 2550, '774': 2522, '070': 2481, '578': 2382, '787': 2359, 'V30': 2349, '327': 2349, '770': 2297, '274': 2295, '482': 2197, '280': 2148, 'V49': 2142, 'V43': 2131, 'V05': 2126, '425': 2056, '303': 2024, 'E849': 1983, '286': 1961, '789': 1960, '788': 1952, '294': 1927, '600': 1901, '411': 1900, '440': 1816, '560': 1767, '198': 1747, '288': 1726, '357': 1725, '443': 1724, '572': 1697, '197': 1683, '441': 1667, '682': 1640, '799': 1624, '008': 1587, '112': 1580, '293': 1575, '345': 1557, '453': 1543, '779': 1502, '577': 1452, '562': 1448, '263': 1432, '434': 1426, '426': 1423, '715': 1421, '564': 1409, 'V44': 1386, '786': 1384, '362': 1375, '784': 1345, '491': 1336, '724': 1330, '275': 1317, '331': 1307, '769': 1299, '431': 1294, '296': 1287, '438': 1283, '852': 1148, 'V42': 1129, '433': 1127, '291': 1126, '338': 1125, '162': 1116, 'E888': 1105, '415': 1099, '413': 1093, '576': 1083, '553': 1083, '574': 1081, '569': 1071, '519': 1065, '535': 1043, '567': 1041, '807': 1035, '570': 1034, '729': 1016, '284': 1012, '593': 986, 'V31': 983, '805': 976, '456': 975, '512': 970, 'V66': 969, '396': 891, 'V09': 884, '873': 864, '999': 851, 'V17': 827, '459': 816, '423': 805, '745': 786, '728': 775, '342': 768, 'E934': 767, '782': 765, '397': 765, 'V46': 748, '365': 732, 'V50': 730, '349': 723, '537': 716, '437': 715, 'V85': 713, '557': 709, 'E885': 694, '583': 693, '714': 684, '295': 681, '196': 680, '238': 680, '304': 674, '568': 674, '536': 673, '492': 664, '253': 662, '747': 647, '860': 642, 'E932': 634, '430': 617, '730': 616, '775': 603, '255': 601, '781': 588, '801': 585, '802': 585, '292': 577, '289': 576, 'E933': 571, '346': 563, '333': 558, '746': 554, '693': 543, '429': 534, '531': 531, '515': 529, '042': 522, 'E880': 520, '776': 518, 'E930': 518, 'E935': 516, '478': 513, 'V70': 512, '344': 508, '532': 505, '332': 505, '721': 502, '710': 494, '455': 491, '398': 489, 'V64': 482, '211': 479, '202': 477, '444': 467, '861': 461, '719': 460, '808': 458, '432': 456, '356': 456, '155': 438, '573': 436, 'V13': 435, '783': 434, 'E812': 434, '771': 428, '575': 425, 'E947': 424, '309': 421, '596': 420, '722': 417, '369': 411, 'V87': 406, 'E950': 403, 'E942': 399, '591': 398, '965': 391, '421': 387, '451': 386, 'E884': 384, '716': 378, '251': 365, '820': 363, '696': 356, '555': 355, 'E928': 348, '277': 345, 'V55': 337, 'E870': 331, '442': 325, '737': 325, 'V08': 319, '969': 318, 'V02': 315, '556': 314, '851': 311, 'E816': 308, '205': 302, 'E939': 300, '813': 299, '340': 297, '281': 295, '753': 295, '185': 294, 'V16': 292, '934': 291, '794': 290, '447': 290, '389': 290, '865': 287, '958': 286, '273': 285, '592': 285, '864': 283, '588': 276, '823': 276, '772': 275, '157': 271, '868': 269, '191': 268, '290': 267, 'V60': 266, '368': 264, '579': 261, 'V53': 261, '725': 261, '355': 259, '225': 256, '420': 255, '117': 253, '452': 251, '764': 250, '135': 249, '510': 248, '806': 248, '266': 247, '337': 245, '204': 243, '810': 243, 'E814': 243, '558': 239, '241': 237, '778': 236, '054': 235, 'V34': 235, '189': 234, '590': 231, '307': 230, '242': 227, '867': 221, '494': 221, 'E929': 219, '792': 216, '153': 214, '821': 211, '336': 210, '372': 210, '550': 210, '282': 210, '812': 210, '150': 205, '933': 204, '261': 203, '723': 202, 'V18': 201, 'E915': 198, '366': 196, '528': 196, '473': 196, '203': 195, '824': 195, '252': 194, '552': 193, '853': 192, '481': 191, '279': 191, 'E912': 182, '446': 182, '359': 180, '324': 180, '920': 179, 'V62': 177, '151': 176, '314': 175, '793': 174, '319': 172, 'E850': 172, '283': 172, '533': 170, '711': 168, '692': 166, '199': 165, 'V88': 164, '435': 161, '695': 157, '731': 157, 'E815': 156, '766': 156, '811': 155, '268': 154, '516': 154, 'V54': 153, 'E944': 152, 'E937': 152, '756': 151, '358': 151, '301': 151, '514': 149, '709': 145, '758': 144, '053': 143, '800': 140, 'E931': 139, '907': 139, '394': 139, '174': 138, '351': 138, 'V14': 137, '466': 137, '863': 135, '608': 134, '487': 134, '110': 133, '751': 133, '777': 132, '796': 132, '759': 131, 'E936': 129, 'V72': 129, '924': 129, '200': 128, '457': 127, '909': 126, '249': 125, '521': 124, '582': 123, '742': 122, '188': 122, '736': 121, '228': 121, '726': 119, '891': 118, '320': 117, '227': 116, 'V11': 116, '795': 115, 'E881': 115, '501': 115, '379': 114, '079': 114, '298': 113, '378': 113, '078': 112, '691': 111, '825': 110, '866': 110, '698': 110, '517': 109, '648': 109, '881': 107, '922': 107, '354': 106, '402': 105, '607': 104, '218': 104, '201': 103, '156': 103, '738': 102, '136': 101, '322': 98, 'E819': 96, '465': 95, '522': 94, '484': 92, '763': 92, '386': 91, '850': 90, '862': 90, '461': 89, '513': 89, '752': 89, '595': 89, '713': 87, '791': 86, 'E968': 85, '803': 85, 'E938': 84, 'E823': 83, '183': 81, '404': 81, 'E917': 81, '317': 81, '323': 80, 'E980': 79, '154': 78, '343': 78, '727': 77, 'E854': 77, '935': 76, 'E858': 75, 'E882': 75, '762': 75, '902': 75, '620': 75, 'E813': 75, 'V07': 74, '611': 74, '240': 72, 'E941': 72, '815': 71, '991': 71, '377': 71, '580': 71, '271': 70, '748': 70, '970': 69, '534': 69, '138': 68, '237': 68, '760': 68, '952': 67, '910': 67, '921': 65, '720': 65, '870': 65, '959': 65, '477': 65, 'E966': 64, '755': 64, '972': 64, '773': 63, '839': 62, '212': 62, '980': 62, '464': 62, '262': 61, '614': 60, '816': 60, '480': 58, 'E853': 58, '525': 58, '239': 58, '905': 57, '750': 57, 'E960': 57, '598': 57, '540': 57, '681': 56, 'E826': 56, '581': 56, '350': 56, '767': 56, '882': 55, '485': 55, '454': 54, '874': 54, '967': 54, '009': 53, '966': 52, '335': 51, '310': 51, '374': 51, '831': 51, '623': 50, '523': 50, '712': 50, '173': 49, '701': 49, 'E965': 49, '626': 48, '916': 48, '388': 48, '903': 48, '172': 47, '616': 47, '565': 47, '757': 47, '754': 47, '761': 47, '804': 47, 'V65': 46, '704': 46, '900': 45, '627': 44, '642': 44, '625': 44, '879': 44, '901': 44, '963': 44, '527': 43, '883': 43, 'V27': 43, 'E956': 42, '171': 42, '566': 42, '880': 41, '872': 41, '718': 41, '601': 41, '822': 40, '708': 40, '854': 40, '835': 39, '666': 39, '741': 39, '318': 39, '193': 39, '814': 39, '341': 39, '395': 38, '257': 38, '618': 38, '235': 38, '490': 38, '619': 38, '269': 38, '674': 37, '161': 37, '031': 37, '508': 37, '904': 37, 'V01': 36, '088': 36, '040': 36, 'E901': 36, '376': 36, '245': 35, '923': 34, '214': 34, '918': 34, '334': 34, '270': 34, 'V04': 34, '462': 33, '382': 33, '955': 33, '233': 33, '686': 33, '994': 33, '449': 33, 'E911': 32, '353': 32, 'V03': 32, 'E919': 32, '380': 31, '158': 31, '047': 31, '617': 31, 'E920': 31, 'V06': 30, '605': 30, 'E887': 30, '847': 30, '405': 30, 'E916': 30, '890': 29, '246': 29, '919': 29, '315': 29, '209': 29, 'E855': 29, '265': 29, '152': 29, '646': 28, 'E945': 28, '875': 27, '256': 27, 'V63': 27, '659': 27, '299': 27, '826': 27, 'V26': 27, '694': 26, '182': 26, '644': 26, '840': 26, '603': 26, 'E818': 26, '297': 26, '962': 26, '968': 26, '913': 26, '743': 25, 'E860': 25, '908': 25, '483': 25, '361': 25, 'E821': 25, '220': 25, '422': 25, '705': 24, '706': 24, '844': 24, '971': 24, '373': 24, '524': 24, 'E876': 23, '647': 23, '141': 23, 'V61': 23, '836': 23, '385': 22, '164': 22, '360': 22, '749': 22, '768': 22, '325': 22, '702': 22, 'E927': 22, '375': 21, 'V20': 21, 'E953': 21, '975': 21, '436': 21, '526': 21, '911': 21, 'E852': 21, 'E958': 21, '604': 20, '685': 20, '111': 20, '130': 19, '308': 19, '364': 19, '417': 19, '744': 18, '594': 18, 'E943': 18, 'E924': 18, '654': 18, '703': 18, 'E825': 18, 'E906': 18, '370': 17, '977': 17, 'E969': 17, '951': 17, '259': 17, '957': 17, '312': 17, '383': 17, '049': 17, '195': 17, '529': 16, '876': 16, '587': 16, '936': 16, '892': 16, '886': 16, '845': 16, '621': 16, '052': 16, '216': 16, '180': 16, '615': 16, '669': 16, '649': 15, 'E922': 15, '094': 15, '034': 15, '475': 15, 'E828': 15, '953': 15, '027': 15, '690': 15, '488': 14, '927': 14, 'E957': 14, '912': 14, '989': 14, 'E967': 14, '948': 14, '906': 14, '950': 14, 'E871': 14, '347': 14, '011': 14, 'E000': 14, '445': 14, '176': 14, 'E883': 14, '586': 14, '147': 13, '942': 13, '208': 13, '339': 13, 'E910': 13, '139': 13, '170': 13, '670': 12, '146': 12, '243': 12, '982': 12, '192': 12, '877': 12, '926': 12, '236': 12, '956': 12, '665': 12, 'V71': 12, '520': 11, '115': 11, '887': 11, '472': 11, '878': 11, '123': 11, '075': 11, '945': 11, 'V19': 11, '448': 11, '018': 11, 'E955': 11, 'V56': 11, '641': 11, '885': 11, '326': 11, 'V32': 11, '039': 11, '735': 11, '495': 10, '258': 10, '680': 10, '830': 10, '194': 10, '834': 10, '230': 10, '871': 10, '215': 10, 'E001': 10, '506': 10, '551': 10, '306': 10, '163': 10, 'V86': 10, '148': 10, '363': 10, '302': 10, '622': 9, '371': 9, '133': 9, '184': 9, '602': 9, '543': 9, '917': 9, '939': 9, '732': 9, '391': 9, 'E824': 9, '097': 9, '634': 9, '474': 9, '884': 9, '928': 9, 'E989': 8, '471': 8, '673': 8, '832': 8, '541': 8, '223': 8, '597': 8, '656': 8, '127': 8, '144': 8, '652': 8, '990': 8, 'E817': 8, 'E940': 8, '145': 8, '914': 8, '036': 7, '013': 7, '084': 7, '470': 7, '983': 7, '007': 7, 'E946': 7, '367': 7, 'E874': 7, '833': 7, 'V69': 7, '321': 7, '964': 7, '352': 7, '149': 7, 'E918': 7, 'V59': 7, '635': 6, '697': 6, 'V90': 6, '624': 6, '502': 6, '142': 6, '046': 6, '897': 6, '842': 6, '381': 6, '260': 6, '943': 6, '120': 6, '207': 6, '137': 6, '664': 6, '003': 6, '960': 6, '082': 6, '987': 5, '213': 5, '893': 5, '032': 5, 'V74': 5, 'E866': 5, '683': 5, '684': 5, '048': 5, 'E003': 5, 'E006': 5, '004': 5, '632': 5, 'E865': 5, '160': 5, '992': 5, '838': 5, '869': 5, '941': 5, '944': 5, 'E007': 5, '226': 4, 'E869': 4, '846': 4, '843': 4, '091': 4, 'V84': 4, '057': 4, '254': 4, '976': 4, '985': 4, '058': 4, '086': 4, '005': 4, 'E834': 4, '663': 4, 'E970': 4, '539': 4, '817': 4, '974': 4, '500': 4, 'V25': 4, '734': 4, '140': 4, '077': 4, '655': 4, 'E959': 4, '542': 4, 'V83': 4, '118': 4, 'E831': 4, '639': 4, 'E822': 4, '159': 4, '700': 4, '210': 4, '661': 4, 'E988': 4, '206': 3, 'E891': 3, '938': 3, '015': 3, '947': 3, 'E949': 3, '330': 3, '384': 3, '651': 3, '014': 3, '628': 3, '961': 3, '121': 3, '629': 3, '035': 3, '672': 3, 'E976': 3, 'E987': 3, '930': 3, 'V40': 3, '819': 3, 'E886': 3, '633': 3, 'E002': 3, 'E900': 3, 'E829': 3, '988': 3, '717': 3, '828': 3, 'E008': 3, '131': 3, '841': 3, '187': 3, '658': 3, '463': 3, '645': 3, 'V51': 3, '837': 3, '677': 2, '946': 2, 'E862': 2, '010': 2, '190': 2, 'V22': 2, '538': 2, '012': 2, '099': 2, '671': 2, '096': 2, 'E013': 2, '132': 2, 'E905': 2, '217': 2, '925': 2, '610': 2, '460': 2, 'E913': 2, 'E029': 2, '393': 2, '093': 2, 'V23': 2, 'E890': 2, '986': 2, 'E861': 2, 'E811': 2, 'E030': 2, '894': 2, 'E848': 2, '175': 2, '179': 2, 'E838': 2, 'E804': 2, '643': 2, '848': 2, 'E019': 2, '122': 2, '143': 2, '932': 2, '229': 2, '221': 2, '896': 2, 'E851': 2, '232': 2, 'E864': 2, 'E954': 2, 'E899': 2, 'V48': 2, 'E841': 2, '267': 2, 'E985': 2, 'E820': 2, '114': 2, '973': 2, '186': 2, '954': 2, 'E016': 2, 'E805': 2, '660': 2, '668': 2, '083': 1, '085': 1, 'E926': 1, '062': 1, '231': 1, 'E986': 1, '798': 1, '134': 1, '740': 1, '316': 1, '313': 1, 'E982': 1, 'E863': 1, '021': 1, 'E840': 1, 'E921': 1, 'V81': 1, '937': 1, 'E975': 1, '116': 1, 'E999': 1, 'E977': 1, '090': 1, '915': 1, 'E873': 1, 'E964': 1, 'E963': 1, 'V91': 1, '657': 1, '219': 1, '023': 1, 'V33': 1, 'E925': 1, '125': 1, '390': 1, '098': 1, '033': 1, 'E806': 1, '589': 1, '387': 1, 'E835': 1, '045': 1, 'E827': 1, 'E856': 1, 'V78': 1, 'V28': 1, 'E800': 1, '030': 1, 'E962': 1, '066': 1, 'V76': 1, 'E801': 1, 'E908': 1, 'V67': 1, 'E857': 1, 'E923': 1}\n"
          ],
          "name": "stdout"
        }
      ]
    },
    {
      "cell_type": "code",
      "metadata": {
        "id": "SZWVjmw-UmEN",
        "colab": {
          "base_uri": "https://localhost:8080/"
        },
        "outputId": "64b94663-e8b0-4bd7-9ca1-b5bb4949cead"
      },
      "source": [
        "len(dict_count_icd9_category)"
      ],
      "execution_count": null,
      "outputs": [
        {
          "output_type": "execute_result",
          "data": {
            "text/plain": [
              "1069"
            ]
          },
          "metadata": {
            "tags": []
          },
          "execution_count": 77
        }
      ]
    },
    {
      "cell_type": "markdown",
      "metadata": {
        "id": "S5sK1sYsatWS"
      },
      "source": [
        "<table>\n",
        "<tr>\n",
        "<th> Datasets</th>\n",
        "<th> Number of admissionIds</th>\n",
        "<th> %coverage</th>\n",
        "</tr>\n",
        "<tr>\n",
        "<td>Top 10 ICD9 codes</td>\n",
        "<td>40562</td>\n",
        "<td>76.93%</td>\n",
        "</tr>\n",
        "<tr>\n",
        "<td>Top 20 ICD9 codes</td>\n",
        "<td>43958</td>\n",
        "<td>83.37%</td>\n",
        "</tr>\n",
        "<tr>\n",
        "<td>Top 50 ICD9 codes</td>\n",
        "<td>49534</td>\n",
        "<td>93.95%</td>\n",
        "</tr>\n",
        "<tr>\n",
        "<td>Top 10 ICD9 categories</td>\n",
        "<td>44419</td>\n",
        "<td>84.24%</td>\n",
        "</tr>\n",
        "<tr>\n",
        "<td>Top 20 ICD9 categories</td>\n",
        "<td>46143</td>\n",
        "<td>87.51%</td>\n",
        "</tr>\n",
        "<tr>\n",
        "<td>Top 50 ICD9 categories</td>\n",
        "<td>51034</td>\n",
        "<td>96.79%</td>\n",
        "</tr>\n",
        "</table>\n",
        "This table shows how many average ICD9 codes are categories are there for each admids \n",
        "<table>\n",
        "<tr><th>Type of ICD</th><th>Mean</th><th>Median</th></tr>\n",
        "<tr><td>ICD9 codes</td><td>11.74</td><td>10</td></tr>\n",
        "<tr><td>ICD9 categories</td><td>10.79</td><td>9</td></tr>\n",
        "</table>"
      ]
    },
    {
      "cell_type": "code",
      "metadata": {
        "id": "6z_ervb5tyP3"
      },
      "source": [
        "top10_icd9codes=list(dict_count_icd9_codes.keys())[:10]\n",
        "top20_icd9codes=list(dict_count_icd9_codes.keys())[:20]\n",
        "top50_icd9codes=list(dict_count_icd9_codes.keys())[:50]"
      ],
      "execution_count": null,
      "outputs": []
    },
    {
      "cell_type": "code",
      "metadata": {
        "id": "MOzAiySLTVke",
        "colab": {
          "base_uri": "https://localhost:8080/"
        },
        "outputId": "3e51dd5e-6687-4fb0-fec3-2f2f02dcac88"
      },
      "source": [
        "notes_icd_agg.loc[notes_icd_agg.ICD9_CODE_x.apply(lambda x:any(item in top10_icd9codes for item in x))].HADM_ID.count()"
      ],
      "execution_count": null,
      "outputs": [
        {
          "output_type": "execute_result",
          "data": {
            "text/plain": [
              "40562"
            ]
          },
          "metadata": {
            "tags": []
          },
          "execution_count": 79
        }
      ]
    },
    {
      "cell_type": "code",
      "metadata": {
        "id": "3Erp8ZduTXa1",
        "colab": {
          "base_uri": "https://localhost:8080/"
        },
        "outputId": "3129cdd8-fd78-473a-86bc-4ca7b75917f5"
      },
      "source": [
        "notes_icd_agg.loc[notes_icd_agg.ICD9_CODE_x.apply(lambda x:any(item in top20_icd9codes for item in x))].HADM_ID.count()"
      ],
      "execution_count": null,
      "outputs": [
        {
          "output_type": "execute_result",
          "data": {
            "text/plain": [
              "43958"
            ]
          },
          "metadata": {
            "tags": []
          },
          "execution_count": 80
        }
      ]
    },
    {
      "cell_type": "code",
      "metadata": {
        "id": "m2e7KN7sZ2Or",
        "colab": {
          "base_uri": "https://localhost:8080/"
        },
        "outputId": "df1e7b75-7a9c-4f69-9989-9d1808ac5a24"
      },
      "source": [
        "notes_icd_agg.loc[notes_icd_agg.ICD9_CODE_x.apply(lambda x:any(item in top50_icd9codes for item in x))].HADM_ID.count()"
      ],
      "execution_count": null,
      "outputs": [
        {
          "output_type": "execute_result",
          "data": {
            "text/plain": [
              "49354"
            ]
          },
          "metadata": {
            "tags": []
          },
          "execution_count": 81
        }
      ]
    },
    {
      "cell_type": "code",
      "metadata": {
        "id": "FOBv6VoSkZje"
      },
      "source": [
        "top10_icd9category=list(dict_count_icd9_category.keys())[:10]\n",
        "top20_icd9category=list(dict_count_icd9_category.keys())[:20]\n",
        "top50_icd9category=list(dict_count_icd9_category.keys())[:50]"
      ],
      "execution_count": null,
      "outputs": []
    },
    {
      "cell_type": "code",
      "metadata": {
        "id": "eRPhsaXGnGIP",
        "colab": {
          "base_uri": "https://localhost:8080/"
        },
        "outputId": "8beb6467-bfae-4bd8-85c3-36d936b53f1d"
      },
      "source": [
        "notes_icd_agg.loc[notes_icd_agg.ICD9_CATEGORY.apply(lambda x:any(item in top10_icd9category for item in x))].HADM_ID.count()"
      ],
      "execution_count": null,
      "outputs": [
        {
          "output_type": "execute_result",
          "data": {
            "text/plain": [
              "44419"
            ]
          },
          "metadata": {
            "tags": []
          },
          "execution_count": 83
        }
      ]
    },
    {
      "cell_type": "code",
      "metadata": {
        "id": "U_267-4NnNec",
        "colab": {
          "base_uri": "https://localhost:8080/"
        },
        "outputId": "e734bc3c-7ebb-496d-ea64-1e7281d1b4cf"
      },
      "source": [
        "notes_icd_agg.loc[notes_icd_agg.ICD9_CATEGORY.apply(lambda x:any(item in top20_icd9category for item in x))].HADM_ID.count()"
      ],
      "execution_count": null,
      "outputs": [
        {
          "output_type": "execute_result",
          "data": {
            "text/plain": [
              "46089"
            ]
          },
          "metadata": {
            "tags": []
          },
          "execution_count": 84
        }
      ]
    },
    {
      "cell_type": "code",
      "metadata": {
        "id": "terZaqABoBeZ",
        "colab": {
          "base_uri": "https://localhost:8080/"
        },
        "outputId": "67d3a4bf-f6e7-459f-aa22-e8b4bde10820"
      },
      "source": [
        "notes_icd_agg.loc[notes_icd_agg.ICD9_CATEGORY.apply(lambda x:any(item in top50_icd9category for item in x))].HADM_ID.count()"
      ],
      "execution_count": null,
      "outputs": [
        {
          "output_type": "execute_result",
          "data": {
            "text/plain": [
              "50903"
            ]
          },
          "metadata": {
            "tags": []
          },
          "execution_count": 85
        }
      ]
    },
    {
      "cell_type": "code",
      "metadata": {
        "id": "h1K0YavroF4v",
        "colab": {
          "base_uri": "https://localhost:8080/"
        },
        "outputId": "2ae43bad-0239-4e64-b1b5-dd487e2f341c"
      },
      "source": [
        "print(\"Median number of ICD9 codes for each admid:\",notes_icd_agg.ICD9_CODE_x.apply(lambda x:len(set(x))).median())\n",
        "print(\"Mean number of ICD9 codes for each admid:\",notes_icd_agg.ICD9_CODE_x.apply(lambda x:len(set(x))).mean())"
      ],
      "execution_count": null,
      "outputs": [
        {
          "output_type": "stream",
          "text": [
            "Median number of ICD9 codes for each admid: 10.0\n",
            "Mean number of ICD9 codes for each admid: 11.738914387588666\n"
          ],
          "name": "stdout"
        }
      ]
    },
    {
      "cell_type": "code",
      "metadata": {
        "id": "r0F88Y7T7A-A",
        "colab": {
          "base_uri": "https://localhost:8080/"
        },
        "outputId": "2d2d0b94-b197-4732-a82f-d36cfe6508c0"
      },
      "source": [
        "print(\"Median number of ICD9 category for each admid:\",notes_icd_agg.ICD9_CATEGORY.apply(lambda x:len(set(x))).median())\n",
        "print(\"Mean number of ICD9 category for each admid:\",notes_icd_agg.ICD9_CATEGORY.apply(lambda x:len(set(x))).mean())"
      ],
      "execution_count": null,
      "outputs": [
        {
          "output_type": "stream",
          "text": [
            "Median number of ICD9 category for each admid: 9.0\n",
            "Mean number of ICD9 category for each admid: 10.806547054584076\n"
          ],
          "name": "stdout"
        }
      ]
    },
    {
      "cell_type": "code",
      "metadata": {
        "colab": {
          "base_uri": "https://localhost:8080/",
          "height": 268
        },
        "id": "aq2wAnE_ibO2",
        "outputId": "423410df-e61d-4c68-c259-3d54c351339a"
      },
      "source": [
        "plt.hist(notes_icd_agg.ICD9_CODE_x.apply(lambda x:len(x)),bins=20,color='g')\r\n",
        "plt.grid(True)"
      ],
      "execution_count": null,
      "outputs": [
        {
          "output_type": "display_data",
          "data": {
            "image/png": "[encoded data removed]",
            "text/plain": [
              "<Figure size 432x288 with 1 Axes>"
            ]
          },
          "metadata": {
            "tags": [],
            "needs_background": "light"
          }
        }
      ]
    },
    {
      "cell_type": "code",
      "metadata": {
        "colab": {
          "base_uri": "https://localhost:8080/",
          "height": 265
        },
        "id": "_UPnLo8zjUY1",
        "outputId": "e2d162aa-cb9a-4923-e1e9-dc28cf824d56"
      },
      "source": [
        "plt.hist(notes_icd_agg.ICD9_CATEGORY.apply(lambda x:len(x)),bins=20,color='g')\r\n",
        "plt.grid(True)"
      ],
      "execution_count": null,
      "outputs": [
        {
          "output_type": "display_data",
          "data": {
            "image/png": "[encoded data removed]",
            "text/plain": [
              "<Figure size 432x288 with 1 Axes>"
            ]
          },
          "metadata": {
            "tags": [],
            "needs_background": "light"
          }
        }
      ]
    },
    {
      "cell_type": "markdown",
      "metadata": {
        "id": "ovFP4zUdNZ0S"
      },
      "source": [
        "# All MIMIC procedures"
      ]
    },
    {
      "cell_type": "markdown",
      "metadata": {
        "id": "RQauI1jQcnSz"
      },
      "source": [
        "Procedure codes in the whole MIMIC dataset. There are 52243 AdmIDs are there for which there are 2009 ICD9 PCS codes.<br> In the discharge summary which has 52726 admids there are ICD9 PCS codes for only 46841 (5885 do not have any codes corresponding to them). There are total 1989 unique ICD9 PCS codes in the discharge summary."
      ]
    },
    {
      "cell_type": "code",
      "metadata": {
        "id": "8vxkMoB18ZlV"
      },
      "source": [
        "# all mimic procedures \r\n",
        "allmimic_procedure=pd.read_csv('/content/drive/My Drive/AlgoIntern/Data/PROCEDURES_ICD.csv')"
      ],
      "execution_count": null,
      "outputs": []
    },
    {
      "cell_type": "code",
      "metadata": {
        "colab": {
          "base_uri": "https://localhost:8080/",
          "height": 204
        },
        "id": "bm5hunc9ri6O",
        "outputId": "8847cdd5-3abd-44f3-f4d7-043a7808a7b5"
      },
      "source": [
        "allmimic_procedure.head()"
      ],
      "execution_count": null,
      "outputs": [
        {
          "output_type": "execute_result",
          "data": {
            "text/html": [
              "<div>\n",
              "<style scoped>\n",
              "    .dataframe tbody tr th:only-of-type {\n",
              "        vertical-align: middle;\n",
              "    }\n",
              "\n",
              "    .dataframe tbody tr th {\n",
              "        vertical-align: top;\n",
              "    }\n",
              "\n",
              "    .dataframe thead th {\n",
              "        text-align: right;\n",
              "    }\n",
              "</style>\n",
              "<table border=\"1\" class=\"dataframe\">\n",
              "  <thead>\n",
              "    <tr style=\"text-align: right;\">\n",
              "      <th></th>\n",
              "      <th>ROW_ID</th>\n",
              "      <th>SUBJECT_ID</th>\n",
              "      <th>HADM_ID</th>\n",
              "      <th>SEQ_NUM</th>\n",
              "      <th>ICD9_CODE</th>\n",
              "    </tr>\n",
              "  </thead>\n",
              "  <tbody>\n",
              "    <tr>\n",
              "      <th>0</th>\n",
              "      <td>944</td>\n",
              "      <td>62641</td>\n",
              "      <td>154460</td>\n",
              "      <td>3</td>\n",
              "      <td>3404</td>\n",
              "    </tr>\n",
              "    <tr>\n",
              "      <th>1</th>\n",
              "      <td>945</td>\n",
              "      <td>2592</td>\n",
              "      <td>130856</td>\n",
              "      <td>1</td>\n",
              "      <td>9671</td>\n",
              "    </tr>\n",
              "    <tr>\n",
              "      <th>2</th>\n",
              "      <td>946</td>\n",
              "      <td>2592</td>\n",
              "      <td>130856</td>\n",
              "      <td>2</td>\n",
              "      <td>3893</td>\n",
              "    </tr>\n",
              "    <tr>\n",
              "      <th>3</th>\n",
              "      <td>947</td>\n",
              "      <td>55357</td>\n",
              "      <td>119355</td>\n",
              "      <td>1</td>\n",
              "      <td>9672</td>\n",
              "    </tr>\n",
              "    <tr>\n",
              "      <th>4</th>\n",
              "      <td>948</td>\n",
              "      <td>55357</td>\n",
              "      <td>119355</td>\n",
              "      <td>2</td>\n",
              "      <td>331</td>\n",
              "    </tr>\n",
              "  </tbody>\n",
              "</table>\n",
              "</div>"
            ],
            "text/plain": [
              "   ROW_ID  SUBJECT_ID  HADM_ID  SEQ_NUM  ICD9_CODE\n",
              "0     944       62641   154460        3       3404\n",
              "1     945        2592   130856        1       9671\n",
              "2     946        2592   130856        2       3893\n",
              "3     947       55357   119355        1       9672\n",
              "4     948       55357   119355        2        331"
            ]
          },
          "metadata": {
            "tags": []
          },
          "execution_count": 113
        }
      ]
    },
    {
      "cell_type": "code",
      "metadata": {
        "id": "87g4h0259MF_",
        "colab": {
          "base_uri": "https://localhost:8080/"
        },
        "outputId": "b06b02aa-0e07-484f-80d0-529f74c55641"
      },
      "source": [
        "# unique admids for procedures\r\n",
        "allmimic_procedure.HADM_ID.nunique()"
      ],
      "execution_count": null,
      "outputs": [
        {
          "output_type": "execute_result",
          "data": {
            "text/plain": [
              "52243"
            ]
          },
          "metadata": {
            "tags": []
          },
          "execution_count": 112
        }
      ]
    },
    {
      "cell_type": "code",
      "metadata": {
        "id": "3-oqNHvX_iDq",
        "colab": {
          "base_uri": "https://localhost:8080/"
        },
        "outputId": "1d47ec51-9a6a-462f-af46-0005903b574e"
      },
      "source": [
        "# unique number of ICD9 pcs codes\r\n",
        "allmimic_procedure.ICD9_CODE.nunique()"
      ],
      "execution_count": null,
      "outputs": [
        {
          "output_type": "execute_result",
          "data": {
            "text/plain": [
              "2009"
            ]
          },
          "metadata": {
            "tags": []
          },
          "execution_count": 117
        }
      ]
    },
    {
      "cell_type": "code",
      "metadata": {
        "id": "FwD-Krln9YnY"
      },
      "source": [
        "adm_icdpcs=pd.read_csv('/content/drive/My Drive/AlgoIntern/Data/Data1.0/adm_icdpcs.csv')"
      ],
      "execution_count": null,
      "outputs": []
    },
    {
      "cell_type": "code",
      "metadata": {
        "id": "Q0bNw9pB-AkU",
        "colab": {
          "base_uri": "https://localhost:8080/",
          "height": 419
        },
        "outputId": "6eb14afb-bb3c-41cf-e2f2-9bd25bbcfed0"
      },
      "source": [
        "adm_icdpcs"
      ],
      "execution_count": null,
      "outputs": [
        {
          "output_type": "execute_result",
          "data": {
            "text/html": [
              "<div>\n",
              "<style scoped>\n",
              "    .dataframe tbody tr th:only-of-type {\n",
              "        vertical-align: middle;\n",
              "    }\n",
              "\n",
              "    .dataframe tbody tr th {\n",
              "        vertical-align: top;\n",
              "    }\n",
              "\n",
              "    .dataframe thead th {\n",
              "        text-align: right;\n",
              "    }\n",
              "</style>\n",
              "<table border=\"1\" class=\"dataframe\">\n",
              "  <thead>\n",
              "    <tr style=\"text-align: right;\">\n",
              "      <th></th>\n",
              "      <th>HADM_ID</th>\n",
              "      <th>ICD9_CODE</th>\n",
              "      <th>icd10_pcs</th>\n",
              "    </tr>\n",
              "  </thead>\n",
              "  <tbody>\n",
              "    <tr>\n",
              "      <th>0</th>\n",
              "      <td>100003</td>\n",
              "      <td>4443,9607,9607,9904,3893</td>\n",
              "      <td>0W3.P8ZZ,0D9.670Z,0D9.680Z,Misc,Misc</td>\n",
              "    </tr>\n",
              "    <tr>\n",
              "      <th>1</th>\n",
              "      <td>100006</td>\n",
              "      <td>9390,9390,9390,9925,9925,9925,9925</td>\n",
              "      <td>5A0.9357,5A0.9457,5A0.9557,3E0.3305,3E0.4305,X...</td>\n",
              "    </tr>\n",
              "    <tr>\n",
              "      <th>2</th>\n",
              "      <td>100007</td>\n",
              "      <td>4562,5459</td>\n",
              "      <td>Misc,Misc</td>\n",
              "    </tr>\n",
              "    <tr>\n",
              "      <th>3</th>\n",
              "      <td>100009</td>\n",
              "      <td>3613,3615,3795,3961</td>\n",
              "      <td>Misc,Misc,Misc,5A1.221Z</td>\n",
              "    </tr>\n",
              "    <tr>\n",
              "      <th>4</th>\n",
              "      <td>100010</td>\n",
              "      <td>5551,540,403</td>\n",
              "      <td>Misc,Misc,Misc</td>\n",
              "    </tr>\n",
              "    <tr>\n",
              "      <th>...</th>\n",
              "      <td>...</td>\n",
              "      <td>...</td>\n",
              "      <td>...</td>\n",
              "    </tr>\n",
              "    <tr>\n",
              "      <th>52238</th>\n",
              "      <td>199993</td>\n",
              "      <td>3614,3512,3512,3512,3512,3512,3761,3761,8842,8...</td>\n",
              "      <td>Misc,027.G04Z,027.G0DZ,027.G0ZZ,02N.G0ZZ,02Q.G...</td>\n",
              "    </tr>\n",
              "    <tr>\n",
              "      <th>52239</th>\n",
              "      <td>199994</td>\n",
              "      <td>9671,9671,9604,9604,3995,3995,3891</td>\n",
              "      <td>5A1.935Z,5A1.945Z,0BH.17EZ,0BH.18EZ,5A1.D00Z,5...</td>\n",
              "    </tr>\n",
              "    <tr>\n",
              "      <th>52240</th>\n",
              "      <td>199995</td>\n",
              "      <td>3521,3961,3845,3539,8841,8847,9929,8872,3699</td>\n",
              "      <td>Misc,5A1.221Z,Misc,Misc,Misc,Misc,Misc,Misc,Misc</td>\n",
              "    </tr>\n",
              "    <tr>\n",
              "      <th>52241</th>\n",
              "      <td>199998</td>\n",
              "      <td>3612,3615,3964</td>\n",
              "      <td>Misc,Misc,Misc</td>\n",
              "    </tr>\n",
              "    <tr>\n",
              "      <th>52242</th>\n",
              "      <td>199999</td>\n",
              "      <td>3491,3491</td>\n",
              "      <td>0W9.93ZZ,0W9.B3ZZ</td>\n",
              "    </tr>\n",
              "  </tbody>\n",
              "</table>\n",
              "<p>52243 rows × 3 columns</p>\n",
              "</div>"
            ],
            "text/plain": [
              "       HADM_ID  ...                                          icd10_pcs\n",
              "0       100003  ...               0W3.P8ZZ,0D9.670Z,0D9.680Z,Misc,Misc\n",
              "1       100006  ...  5A0.9357,5A0.9457,5A0.9557,3E0.3305,3E0.4305,X...\n",
              "2       100007  ...                                          Misc,Misc\n",
              "3       100009  ...                            Misc,Misc,Misc,5A1.221Z\n",
              "4       100010  ...                                     Misc,Misc,Misc\n",
              "...        ...  ...                                                ...\n",
              "52238   199993  ...  Misc,027.G04Z,027.G0DZ,027.G0ZZ,02N.G0ZZ,02Q.G...\n",
              "52239   199994  ...  5A1.935Z,5A1.945Z,0BH.17EZ,0BH.18EZ,5A1.D00Z,5...\n",
              "52240   199995  ...   Misc,5A1.221Z,Misc,Misc,Misc,Misc,Misc,Misc,Misc\n",
              "52241   199998  ...                                     Misc,Misc,Misc\n",
              "52242   199999  ...                                  0W9.93ZZ,0W9.B3ZZ\n",
              "\n",
              "[52243 rows x 3 columns]"
            ]
          },
          "metadata": {
            "tags": []
          },
          "execution_count": 116
        }
      ]
    },
    {
      "cell_type": "code",
      "metadata": {
        "id": "PmFbxib3ALtR",
        "colab": {
          "base_uri": "https://localhost:8080/"
        },
        "outputId": "cf065225-2d6a-4f86-aea4-55276bf0de7b"
      },
      "source": [
        "len(set([a for b in adm_icdpcs.ICD9_CODE.apply(split_string_list).to_list() for a in b]))"
      ],
      "execution_count": null,
      "outputs": [
        {
          "output_type": "execute_result",
          "data": {
            "text/plain": [
              "2009"
            ]
          },
          "metadata": {
            "tags": []
          },
          "execution_count": 118
        }
      ]
    },
    {
      "cell_type": "markdown",
      "metadata": {
        "id": "cYKWbwmc1mhN"
      },
      "source": [
        "# NOTEEVENTS PROCEDURES"
      ]
    },
    {
      "cell_type": "code",
      "metadata": {
        "id": "QDHiNWiN1tlc"
      },
      "source": [
        "noteevents_icdpcs=adm_icdpcs.loc[adm_icdpcs.HADM_ID.isin(admids_noteevents)]"
      ],
      "execution_count": null,
      "outputs": []
    },
    {
      "cell_type": "code",
      "metadata": {
        "colab": {
          "base_uri": "https://localhost:8080/",
          "height": 419
        },
        "id": "UoVwNHY32xQd",
        "outputId": "977b80f3-ef74-4cc5-cfe3-af1e919285ae"
      },
      "source": [
        "noteevents_icdpcs"
      ],
      "execution_count": null,
      "outputs": [
        {
          "output_type": "execute_result",
          "data": {
            "text/html": [
              "<div>\n",
              "<style scoped>\n",
              "    .dataframe tbody tr th:only-of-type {\n",
              "        vertical-align: middle;\n",
              "    }\n",
              "\n",
              "    .dataframe tbody tr th {\n",
              "        vertical-align: top;\n",
              "    }\n",
              "\n",
              "    .dataframe thead th {\n",
              "        text-align: right;\n",
              "    }\n",
              "</style>\n",
              "<table border=\"1\" class=\"dataframe\">\n",
              "  <thead>\n",
              "    <tr style=\"text-align: right;\">\n",
              "      <th></th>\n",
              "      <th>HADM_ID</th>\n",
              "      <th>ICD9_CODE</th>\n",
              "      <th>icd10_pcs</th>\n",
              "    </tr>\n",
              "  </thead>\n",
              "  <tbody>\n",
              "    <tr>\n",
              "      <th>0</th>\n",
              "      <td>100003</td>\n",
              "      <td>4443,9607,9607,9904,3893</td>\n",
              "      <td>0W3.P8ZZ,0D9.670Z,0D9.680Z,Misc,Misc</td>\n",
              "    </tr>\n",
              "    <tr>\n",
              "      <th>1</th>\n",
              "      <td>100006</td>\n",
              "      <td>9390,9390,9390,9925,9925,9925,9925</td>\n",
              "      <td>5A0.9357,5A0.9457,5A0.9557,3E0.3305,3E0.4305,X...</td>\n",
              "    </tr>\n",
              "    <tr>\n",
              "      <th>2</th>\n",
              "      <td>100007</td>\n",
              "      <td>4562,5459</td>\n",
              "      <td>Misc,Misc</td>\n",
              "    </tr>\n",
              "    <tr>\n",
              "      <th>3</th>\n",
              "      <td>100009</td>\n",
              "      <td>3613,3615,3795,3961</td>\n",
              "      <td>Misc,Misc,Misc,5A1.221Z</td>\n",
              "    </tr>\n",
              "    <tr>\n",
              "      <th>4</th>\n",
              "      <td>100010</td>\n",
              "      <td>5551,540,403</td>\n",
              "      <td>Misc,Misc,Misc</td>\n",
              "    </tr>\n",
              "    <tr>\n",
              "      <th>...</th>\n",
              "      <td>...</td>\n",
              "      <td>...</td>\n",
              "      <td>...</td>\n",
              "    </tr>\n",
              "    <tr>\n",
              "      <th>52238</th>\n",
              "      <td>199993</td>\n",
              "      <td>3614,3512,3512,3512,3512,3512,3761,3761,8842,8...</td>\n",
              "      <td>Misc,027.G04Z,027.G0DZ,027.G0ZZ,02N.G0ZZ,02Q.G...</td>\n",
              "    </tr>\n",
              "    <tr>\n",
              "      <th>52239</th>\n",
              "      <td>199994</td>\n",
              "      <td>9671,9671,9604,9604,3995,3995,3891</td>\n",
              "      <td>5A1.935Z,5A1.945Z,0BH.17EZ,0BH.18EZ,5A1.D00Z,5...</td>\n",
              "    </tr>\n",
              "    <tr>\n",
              "      <th>52240</th>\n",
              "      <td>199995</td>\n",
              "      <td>3521,3961,3845,3539,8841,8847,9929,8872,3699</td>\n",
              "      <td>Misc,5A1.221Z,Misc,Misc,Misc,Misc,Misc,Misc,Misc</td>\n",
              "    </tr>\n",
              "    <tr>\n",
              "      <th>52241</th>\n",
              "      <td>199998</td>\n",
              "      <td>3612,3615,3964</td>\n",
              "      <td>Misc,Misc,Misc</td>\n",
              "    </tr>\n",
              "    <tr>\n",
              "      <th>52242</th>\n",
              "      <td>199999</td>\n",
              "      <td>3491,3491</td>\n",
              "      <td>0W9.93ZZ,0W9.B3ZZ</td>\n",
              "    </tr>\n",
              "  </tbody>\n",
              "</table>\n",
              "<p>51701 rows × 3 columns</p>\n",
              "</div>"
            ],
            "text/plain": [
              "       HADM_ID  ...                                          icd10_pcs\n",
              "0       100003  ...               0W3.P8ZZ,0D9.670Z,0D9.680Z,Misc,Misc\n",
              "1       100006  ...  5A0.9357,5A0.9457,5A0.9557,3E0.3305,3E0.4305,X...\n",
              "2       100007  ...                                          Misc,Misc\n",
              "3       100009  ...                            Misc,Misc,Misc,5A1.221Z\n",
              "4       100010  ...                                     Misc,Misc,Misc\n",
              "...        ...  ...                                                ...\n",
              "52238   199993  ...  Misc,027.G04Z,027.G0DZ,027.G0ZZ,02N.G0ZZ,02Q.G...\n",
              "52239   199994  ...  5A1.935Z,5A1.945Z,0BH.17EZ,0BH.18EZ,5A1.D00Z,5...\n",
              "52240   199995  ...   Misc,5A1.221Z,Misc,Misc,Misc,Misc,Misc,Misc,Misc\n",
              "52241   199998  ...                                     Misc,Misc,Misc\n",
              "52242   199999  ...                                  0W9.93ZZ,0W9.B3ZZ\n",
              "\n",
              "[51701 rows x 3 columns]"
            ]
          },
          "metadata": {
            "tags": []
          },
          "execution_count": 141
        }
      ]
    },
    {
      "cell_type": "markdown",
      "metadata": {
        "id": "rxq9TBq53DxE"
      },
      "source": [
        "# Discharge summaries ICDPCS"
      ]
    },
    {
      "cell_type": "code",
      "metadata": {
        "id": "sQK1xJtZAz9c",
        "colab": {
          "base_uri": "https://localhost:8080/",
          "height": 1000
        },
        "outputId": "06b6204c-c7e2-4fa8-98ac-10ef886c424e"
      },
      "source": [
        "notes_icd"
      ],
      "execution_count": null,
      "outputs": [
        {
          "output_type": "execute_result",
          "data": {
            "text/html": [
              "<div>\n",
              "<style scoped>\n",
              "    .dataframe tbody tr th:only-of-type {\n",
              "        vertical-align: middle;\n",
              "    }\n",
              "\n",
              "    .dataframe tbody tr th {\n",
              "        vertical-align: top;\n",
              "    }\n",
              "\n",
              "    .dataframe thead th {\n",
              "        text-align: right;\n",
              "    }\n",
              "</style>\n",
              "<table border=\"1\" class=\"dataframe\">\n",
              "  <thead>\n",
              "    <tr style=\"text-align: right;\">\n",
              "      <th></th>\n",
              "      <th>SUBJECT_ID</th>\n",
              "      <th>HADM_ID</th>\n",
              "      <th>CATEGORY</th>\n",
              "      <th>DESCRIPTION</th>\n",
              "      <th>ISERROR</th>\n",
              "      <th>TEXT</th>\n",
              "      <th>text_mod</th>\n",
              "      <th>sec</th>\n",
              "      <th>split</th>\n",
              "      <th>service:</th>\n",
              "      <th>social history:</th>\n",
              "      <th>family history:</th>\n",
              "      <th>past medical history:</th>\n",
              "      <th>chief complaint:</th>\n",
              "      <th>discharge medications:</th>\n",
              "      <th>discharge disposition:</th>\n",
              "      <th>discharge diagnosis:</th>\n",
              "      <th>allergies:</th>\n",
              "      <th>physical exam:</th>\n",
              "      <th>ICD9_CODE_x</th>\n",
              "      <th>ICD10</th>\n",
              "      <th>ICD9_CODE_y</th>\n",
              "      <th>icd10_pcs</th>\n",
              "    </tr>\n",
              "  </thead>\n",
              "  <tbody>\n",
              "    <tr>\n",
              "      <th>0</th>\n",
              "      <td>22532</td>\n",
              "      <td>167853.0</td>\n",
              "      <td>Discharge summary</td>\n",
              "      <td>Report</td>\n",
              "      <td>NaN</td>\n",
              "      <td>Admission Date:  [**2151-7-16**]       Dischar...</td>\n",
              "      <td>admission date:   &lt;date&gt;        discharge date...</td>\n",
              "      <td>['Admission Date:', 'Discharge Date:', 'Servic...</td>\n",
              "      <td>['service:  addendum:    radiologic studies:  ...</td>\n",
              "      <td>service:  addendum:    radiologic studies:  ra...</td>\n",
              "      <td>NaN</td>\n",
              "      <td>NaN</td>\n",
              "      <td>NaN</td>\n",
              "      <td>NaN</td>\n",
              "      <td>NaN</td>\n",
              "      <td>NaN</td>\n",
              "      <td>NaN</td>\n",
              "      <td>NaN</td>\n",
              "      <td>NaN</td>\n",
              "      <td>01193,4254,4254,42731,2639,2762,5070,5119,2113</td>\n",
              "      <td>Misc,I425,I428,I4891,E46,E872,J690,J918,Misc</td>\n",
              "      <td>4542,3491,3491,3893,3891</td>\n",
              "      <td>Misc,0W9.93ZZ,0W9.B3ZZ,Misc,Misc</td>\n",
              "    </tr>\n",
              "    <tr>\n",
              "      <th>1</th>\n",
              "      <td>13702</td>\n",
              "      <td>107527.0</td>\n",
              "      <td>Discharge summary</td>\n",
              "      <td>Report</td>\n",
              "      <td>NaN</td>\n",
              "      <td>Admission Date:  [**2118-6-2**]       Discharg...</td>\n",
              "      <td>admission date:   &lt;date&gt;        discharge date...</td>\n",
              "      <td>['Admission Date:', 'Discharge Date:', 'Birth:...</td>\n",
              "      <td>[' service:  micu and then to &lt;name&gt; medicine ...</td>\n",
              "      <td>service:  micu and then to &lt;name&gt; medicine   ...</td>\n",
              "      <td>social history:  lives with her husband, dr. ...</td>\n",
              "      <td>family history:  noncontributory.</td>\n",
              "      <td>past medical history:  1. copd.  last pulmona...</td>\n",
              "      <td>NaN</td>\n",
              "      <td>discharge medications:  1. levothyroxine 75 mc...</td>\n",
              "      <td>NaN</td>\n",
              "      <td>NaN</td>\n",
              "      <td>allergies:  norvasc leads to lightheadedness ...</td>\n",
              "      <td>NaN</td>\n",
              "      <td>5191,49121,51881,51881,486,2761,2449,311</td>\n",
              "      <td>Misc,Misc,J9600,J9690,J189,E871,E039,F329</td>\n",
              "      <td>9390,9390,9390,966,966,966,3199,9671,9671,9604...</td>\n",
              "      <td>5A0.9357,5A0.9457,5A0.9557,0DH.67UZ,0DH.68UZ,3...</td>\n",
              "    </tr>\n",
              "    <tr>\n",
              "      <th>2</th>\n",
              "      <td>13702</td>\n",
              "      <td>167118.0</td>\n",
              "      <td>Discharge summary</td>\n",
              "      <td>Report</td>\n",
              "      <td>NaN</td>\n",
              "      <td>Admission Date:  [**2119-5-4**]              D...</td>\n",
              "      <td>admission date:   &lt;date&gt;               dischar...</td>\n",
              "      <td>['Admission Date:', 'Discharge Date:', 'Servic...</td>\n",
              "      <td>[' service: cardiothoracic    ', ' social hist...</td>\n",
              "      <td>service: cardiothoracic</td>\n",
              "      <td>social history:  social history: the patient ...</td>\n",
              "      <td>family history:  family history: (+) fhx cad;...</td>\n",
              "      <td>past medical history:  copd flare [**6-7**] s...</td>\n",
              "      <td>chief complaint:  81 yo f smoker w/ copd, sev...</td>\n",
              "      <td>discharge medications:  1. albuterol sulfate ...</td>\n",
              "      <td>discharge disposition:  extended care    faci...</td>\n",
              "      <td>discharge diagnosis:  copd, coronary artery di...</td>\n",
              "      <td>allergies:  amlodipine    attending:&lt;name&gt;</td>\n",
              "      <td>physical exam:  admit h+p  general-lovely 81 ...</td>\n",
              "      <td>5191,5185,496,2762,45340,5533</td>\n",
              "      <td>Misc,Misc,J449,E872,Misc,Misc</td>\n",
              "      <td>3179,311,9672,9605,9605,9605,9605,9605,9605,96...</td>\n",
              "      <td>Misc,Misc,5A1.955Z,0B7.17DZ,0B7.18DZ,0BH.07DZ,...</td>\n",
              "    </tr>\n",
              "    <tr>\n",
              "      <th>3</th>\n",
              "      <td>13702</td>\n",
              "      <td>196489.0</td>\n",
              "      <td>Discharge summary</td>\n",
              "      <td>Report</td>\n",
              "      <td>NaN</td>\n",
              "      <td>Admission Date:  [**2124-7-21**]              ...</td>\n",
              "      <td>admission date:   &lt;date&gt;               dischar...</td>\n",
              "      <td>['Admission Date:', 'Discharge Date:', 'Servic...</td>\n",
              "      <td>[' service: medicine    ', ' social history:  ...</td>\n",
              "      <td>service: medicine</td>\n",
              "      <td>social history:  the patient is married and w...</td>\n",
              "      <td>family history:  (+) fhx cad; father with an ...</td>\n",
              "      <td>past medical history:  # copd flare fev1 40% ...</td>\n",
              "      <td>chief complaint:  copd exacerbation/shortness...</td>\n",
              "      <td>discharge medications:  1. metoprolol succina...</td>\n",
              "      <td>discharge disposition:  extended care    faci...</td>\n",
              "      <td>discharge diagnosis:  primary:  1. chronic obs...</td>\n",
              "      <td>allergies:  amlodipine    attending:&lt;name&gt;</td>\n",
              "      <td>physical exam:  on admission  vitals: t: bp: ...</td>\n",
              "      <td>51884,5849,34830,49121,2760,4160,3594,5780,276...</td>\n",
              "      <td>Misc,N179,Misc,Misc,E870,Misc,Misc,Misc,E872,M...</td>\n",
              "      <td>9672,9604,9604,3891,3893,4513,966,966,966</td>\n",
              "      <td>5A1.955Z,0BH.17EZ,0BH.18EZ,Misc,Misc,0DJ.08ZZ,...</td>\n",
              "    </tr>\n",
              "    <tr>\n",
              "      <th>4</th>\n",
              "      <td>26880</td>\n",
              "      <td>135453.0</td>\n",
              "      <td>Discharge summary</td>\n",
              "      <td>Report</td>\n",
              "      <td>NaN</td>\n",
              "      <td>Admission Date:  [**2162-3-3**]              D...</td>\n",
              "      <td>admission date:   &lt;date&gt;               dischar...</td>\n",
              "      <td>['Admission Date:', 'Discharge Date:', 'Birth:...</td>\n",
              "      <td>[' service: medicine    ', ' social history:  ...</td>\n",
              "      <td>service: medicine</td>\n",
              "      <td>social history:  patient recently discharged ...</td>\n",
              "      <td>family history:  non contributory</td>\n",
              "      <td>past medical history:  coronary artery diseas...</td>\n",
              "      <td>chief complaint:  mr. &lt;name&gt; was seen at &lt;hos...</td>\n",
              "      <td>discharge medications:  1. bisacodyl 10 mg su...</td>\n",
              "      <td>discharge disposition:  extended care    faci...</td>\n",
              "      <td>discharge diagnosis:  1. cervical spondylosis ...</td>\n",
              "      <td>allergies:  patient recorded as having no kno...</td>\n",
              "      <td>physical exam:  phycial exam prior to surgery...</td>\n",
              "      <td>80506,5070,42823,2930,4538,E882,4280,4011,V450...</td>\n",
              "      <td>Misc,J690,Misc,F05,Misc,Misc,I509,Misc,Misc,I4...</td>\n",
              "      <td>8102,8103,353,8163,9671,9671,9604,9604</td>\n",
              "      <td>Misc,Misc,Misc,Misc,5A1.935Z,5A1.945Z,0BH.17EZ...</td>\n",
              "    </tr>\n",
              "    <tr>\n",
              "      <th>...</th>\n",
              "      <td>...</td>\n",
              "      <td>...</td>\n",
              "      <td>...</td>\n",
              "      <td>...</td>\n",
              "      <td>...</td>\n",
              "      <td>...</td>\n",
              "      <td>...</td>\n",
              "      <td>...</td>\n",
              "      <td>...</td>\n",
              "      <td>...</td>\n",
              "      <td>...</td>\n",
              "      <td>...</td>\n",
              "      <td>...</td>\n",
              "      <td>...</td>\n",
              "      <td>...</td>\n",
              "      <td>...</td>\n",
              "      <td>...</td>\n",
              "      <td>...</td>\n",
              "      <td>...</td>\n",
              "      <td>...</td>\n",
              "      <td>...</td>\n",
              "      <td>...</td>\n",
              "      <td>...</td>\n",
              "    </tr>\n",
              "    <tr>\n",
              "      <th>59647</th>\n",
              "      <td>93924</td>\n",
              "      <td>135672.0</td>\n",
              "      <td>Discharge summary</td>\n",
              "      <td>Addendum</td>\n",
              "      <td>NaN</td>\n",
              "      <td>Name:  [**Known lastname 18321**],[**Known fir...</td>\n",
              "      <td>name:  &lt;name&gt;,&lt;name&gt;                  unit no:...</td>\n",
              "      <td>['Name:', 'Unit No:', 'Admission Date:', 'Disc...</td>\n",
              "      <td>[' service: medicine    ', ' social history:  ...</td>\n",
              "      <td>service: medicine</td>\n",
              "      <td>social history:  patient is married with 3 gr...</td>\n",
              "      <td>family history:  &lt;name&gt; son was diagnosed wit...</td>\n",
              "      <td>past medical history:  # diabetes mellitus, t...</td>\n",
              "      <td>chief complaint:  small bowel perforation, ga...</td>\n",
              "      <td>discharge medications:  1. oxycodone-acetamin...</td>\n",
              "      <td>discharge disposition:  home with service    ...</td>\n",
              "      <td>discharge diagnosis:  peritonitis secondary to...</td>\n",
              "      <td>allergies:  gluten / gentamicin / zithromax  ...</td>\n",
              "      <td>physical exam:  gen: chronically ill appearin...</td>\n",
              "      <td>0389,56983,0785,00869,56721,78552,20280,99662,...</td>\n",
              "      <td>A419,Misc,Misc,Misc,Misc,R6521,Misc,Misc,Misc,...</td>\n",
              "      <td>4562,3893,3893</td>\n",
              "      <td>Misc,Misc,Misc</td>\n",
              "    </tr>\n",
              "    <tr>\n",
              "      <th>59648</th>\n",
              "      <td>17782</td>\n",
              "      <td>155710.0</td>\n",
              "      <td>Discharge summary</td>\n",
              "      <td>Addendum</td>\n",
              "      <td>NaN</td>\n",
              "      <td>Name:  [**Known lastname 2706**], [**Known fir...</td>\n",
              "      <td>name:  &lt;name&gt;, &lt;name&gt; i.                      ...</td>\n",
              "      <td>['Name:', 'Unit No:', 'Admission Date:', 'Disc...</td>\n",
              "      <td>[\" service:  &lt;name&gt; me    addendum:    events ...</td>\n",
              "      <td>service:  &lt;name&gt; me    addendum:    events fo...</td>\n",
              "      <td>NaN</td>\n",
              "      <td>NaN</td>\n",
              "      <td>NaN</td>\n",
              "      <td>NaN</td>\n",
              "      <td>discharge medications:  1.  albuterol and ipra...</td>\n",
              "      <td>NaN</td>\n",
              "      <td>NaN</td>\n",
              "      <td>NaN</td>\n",
              "      <td>NaN</td>\n",
              "      <td>486,51881,51881,5849,4280,0389,2859,4019,53081...</td>\n",
              "      <td>J189,J9600,J9690,N179,I509,A419,D649,I10,K219,...</td>\n",
              "      <td>NaN</td>\n",
              "      <td>NaN</td>\n",
              "    </tr>\n",
              "    <tr>\n",
              "      <th>59649</th>\n",
              "      <td>96333</td>\n",
              "      <td>183951.0</td>\n",
              "      <td>Discharge summary</td>\n",
              "      <td>Addendum</td>\n",
              "      <td>NaN</td>\n",
              "      <td>Name:  [**Known lastname 18357**]-[**Known las...</td>\n",
              "      <td>name:  &lt;name&gt;-&lt;name&gt;,&lt;name&gt;        unit no:   ...</td>\n",
              "      <td>['Name:', 'Unit No:', 'Admission Date:', 'Disc...</td>\n",
              "      <td>[' service: neurosurgery    ', None, None, Non...</td>\n",
              "      <td>service: neurosurgery</td>\n",
              "      <td>NaN</td>\n",
              "      <td>NaN</td>\n",
              "      <td>NaN</td>\n",
              "      <td>NaN</td>\n",
              "      <td>NaN</td>\n",
              "      <td>discharge disposition:  expired               ...</td>\n",
              "      <td>NaN</td>\n",
              "      <td>allergies:  no known allergies / adverse drug...</td>\n",
              "      <td>NaN</td>\n",
              "      <td>430,51881,51881,3314,3484,3485,4019,7242,78001</td>\n",
              "      <td>Misc,J9600,J9690,Misc,Misc,Misc,I10,Misc,Misc</td>\n",
              "      <td>3972,221,125,212,8841,9671,9671,110,3893</td>\n",
              "      <td>Misc,Misc,Misc,Misc,Misc,5A1.935Z,5A1.945Z,Mis...</td>\n",
              "    </tr>\n",
              "    <tr>\n",
              "      <th>59650</th>\n",
              "      <td>66717</td>\n",
              "      <td>169165.0</td>\n",
              "      <td>Discharge summary</td>\n",
              "      <td>Addendum</td>\n",
              "      <td>NaN</td>\n",
              "      <td>Name:  [**Known lastname **],[**Known firstnam...</td>\n",
              "      <td>name:  &lt;name&gt;,&lt;name&gt; j                  unit n...</td>\n",
              "      <td>['Name:', 'Unit No:', 'Admission Date:', 'Disc...</td>\n",
              "      <td>[' service: cardiothoracic    ', None, None, N...</td>\n",
              "      <td>service: cardiothoracic</td>\n",
              "      <td>NaN</td>\n",
              "      <td>NaN</td>\n",
              "      <td>NaN</td>\n",
              "      <td>NaN</td>\n",
              "      <td>discharge medications:  1. aspirin 81 mg po d...</td>\n",
              "      <td>discharge disposition:  extended care    facil...</td>\n",
              "      <td>NaN</td>\n",
              "      <td>allergies:  no known allergies / adverse drug...</td>\n",
              "      <td>NaN</td>\n",
              "      <td>4260,41401,42731,V5861,4019,2724,2724,V1254,25...</td>\n",
              "      <td>Misc,I2510,I4891,Z7901,I10,E784,E785,Misc,E119...</td>\n",
              "      <td>3521,3611,3799,3961</td>\n",
              "      <td>Misc,Misc,Misc,5A1.221Z</td>\n",
              "    </tr>\n",
              "    <tr>\n",
              "      <th>59651</th>\n",
              "      <td>73790</td>\n",
              "      <td>157100.0</td>\n",
              "      <td>Discharge summary</td>\n",
              "      <td>Addendum</td>\n",
              "      <td>NaN</td>\n",
              "      <td>Name:  [**Known lastname 12459**],[**Known fir...</td>\n",
              "      <td>name:  &lt;name&gt;,&lt;name&gt; a                 unit no...</td>\n",
              "      <td>['Name:', 'Unit No:', 'Admission Date:', 'Disc...</td>\n",
              "      <td>[' service: medicine    ', None, None, None, N...</td>\n",
              "      <td>service: medicine</td>\n",
              "      <td>NaN</td>\n",
              "      <td>NaN</td>\n",
              "      <td>NaN</td>\n",
              "      <td>NaN</td>\n",
              "      <td>NaN</td>\n",
              "      <td>discharge disposition:  home with service    f...</td>\n",
              "      <td>NaN</td>\n",
              "      <td>allergies:  novocain / ciprofloxacin    atten...</td>\n",
              "      <td>NaN</td>\n",
              "      <td>5723,45620,1539,1977,7907,2851,6930,78791,5308...</td>\n",
              "      <td>Misc,Misc,Misc,Misc,R7881,D62,Misc,Misc,Misc,M...</td>\n",
              "      <td>4513,9604,9604,4233,9671,9671</td>\n",
              "      <td>0DJ.08ZZ,0BH.17EZ,0BH.18EZ,Misc,5A1.935Z,5A1.945Z</td>\n",
              "    </tr>\n",
              "  </tbody>\n",
              "</table>\n",
              "<p>59652 rows × 23 columns</p>\n",
              "</div>"
            ],
            "text/plain": [
              "       SUBJECT_ID  ...                                          icd10_pcs\n",
              "0           22532  ...                   Misc,0W9.93ZZ,0W9.B3ZZ,Misc,Misc\n",
              "1           13702  ...  5A0.9357,5A0.9457,5A0.9557,0DH.67UZ,0DH.68UZ,3...\n",
              "2           13702  ...  Misc,Misc,5A1.955Z,0B7.17DZ,0B7.18DZ,0BH.07DZ,...\n",
              "3           13702  ...  5A1.955Z,0BH.17EZ,0BH.18EZ,Misc,Misc,0DJ.08ZZ,...\n",
              "4           26880  ...  Misc,Misc,Misc,Misc,5A1.935Z,5A1.945Z,0BH.17EZ...\n",
              "...           ...  ...                                                ...\n",
              "59647       93924  ...                                     Misc,Misc,Misc\n",
              "59648       17782  ...                                                NaN\n",
              "59649       96333  ...  Misc,Misc,Misc,Misc,Misc,5A1.935Z,5A1.945Z,Mis...\n",
              "59650       66717  ...                            Misc,Misc,Misc,5A1.221Z\n",
              "59651       73790  ...  0DJ.08ZZ,0BH.17EZ,0BH.18EZ,Misc,5A1.935Z,5A1.945Z\n",
              "\n",
              "[59652 rows x 23 columns]"
            ]
          },
          "metadata": {
            "tags": []
          },
          "execution_count": 119
        }
      ]
    },
    {
      "cell_type": "code",
      "metadata": {
        "id": "diom_EkQ3tDo"
      },
      "source": [
        "notes_icdpcs=notes_icd.dropna(subset=['ICD9_CODE_y'])"
      ],
      "execution_count": null,
      "outputs": []
    },
    {
      "cell_type": "code",
      "metadata": {
        "id": "j0YleoweA8i3",
        "colab": {
          "base_uri": "https://localhost:8080/"
        },
        "outputId": "af7a5f36-570d-4eb1-fc63-237b10d65d96"
      },
      "source": [
        "notes_icdpcs.HADM_ID.nunique()"
      ],
      "execution_count": null,
      "outputs": [
        {
          "output_type": "execute_result",
          "data": {
            "text/plain": [
              "46841"
            ]
          },
          "metadata": {
            "tags": []
          },
          "execution_count": 143
        }
      ]
    },
    {
      "cell_type": "code",
      "metadata": {
        "id": "FCz8JKJVCOg9"
      },
      "source": [
        "notes_icd_agg['ICD9_CODE_y']=notes_icd_agg.ICD9_CODE_y.apply(split_string_list)"
      ],
      "execution_count": null,
      "outputs": []
    },
    {
      "cell_type": "code",
      "metadata": {
        "id": "8V0x4kvZDDVH"
      },
      "source": [
        "total_icd9pcscodes=[a for b in notes_icd_agg.ICD9_CODE_y.to_list() for a in b if a != '']"
      ],
      "execution_count": null,
      "outputs": []
    },
    {
      "cell_type": "code",
      "metadata": {
        "id": "fiFnQabMDV_j"
      },
      "source": [
        "dict_count_icd9pcscodes=dict(Counter(total_icd9pcscodes))\n",
        "dict_count_icd9pcscodes=dict(sorted(dict_count_icd9pcscodes.items(),key=lambda x:x[1],reverse=True))"
      ],
      "execution_count": null,
      "outputs": []
    },
    {
      "cell_type": "code",
      "metadata": {
        "id": "3S-KtI1rEl2Y",
        "colab": {
          "base_uri": "https://localhost:8080/"
        },
        "outputId": "eb09803c-2d36-4544-bbcf-6e05428e8b85"
      },
      "source": [
        "len(set(total_icd9pcscodes))"
      ],
      "execution_count": null,
      "outputs": [
        {
          "output_type": "execute_result",
          "data": {
            "text/plain": [
              "1989"
            ]
          },
          "metadata": {
            "tags": []
          },
          "execution_count": 125
        }
      ]
    },
    {
      "cell_type": "code",
      "metadata": {
        "id": "0rgB9ZJQEpNd",
        "colab": {
          "base_uri": "https://localhost:8080/"
        },
        "outputId": "61bef67a-d1d4-4a5e-eb23-d884a0ae8c1c"
      },
      "source": [
        "len(dict_count_icd9pcscodes)"
      ],
      "execution_count": null,
      "outputs": [
        {
          "output_type": "execute_result",
          "data": {
            "text/plain": [
              "1989"
            ]
          },
          "metadata": {
            "tags": []
          },
          "execution_count": 126
        }
      ]
    },
    {
      "cell_type": "markdown",
      "metadata": {
        "id": "4tUfg9Jklf-E"
      },
      "source": [
        "Mean and median number of ICD9 PCS codes for each AdmIDs in the discharge summary table."
      ]
    },
    {
      "cell_type": "code",
      "metadata": {
        "id": "gTqlSMBIEy8S",
        "colab": {
          "base_uri": "https://localhost:8080/"
        },
        "outputId": "1943e238-b38a-4241-da26-4630b9447c2a"
      },
      "source": [
        "notes_icd_agg.ICD9_CODE_y.apply(lambda x:len(set(x))).mean()"
      ],
      "execution_count": null,
      "outputs": [
        {
          "output_type": "execute_result",
          "data": {
            "text/plain": [
              "4.25439062322194"
            ]
          },
          "metadata": {
            "tags": []
          },
          "execution_count": 127
        }
      ]
    },
    {
      "cell_type": "code",
      "metadata": {
        "id": "9p6TI4TDFtEV",
        "colab": {
          "base_uri": "https://localhost:8080/"
        },
        "outputId": "4e3d0151-1130-4e7c-97df-20ef460860fc"
      },
      "source": [
        "notes_icd_agg.ICD9_CODE_y.apply(lambda x:len(set(x))).median()"
      ],
      "execution_count": null,
      "outputs": [
        {
          "output_type": "execute_result",
          "data": {
            "text/plain": [
              "3.0"
            ]
          },
          "metadata": {
            "tags": []
          },
          "execution_count": 128
        }
      ]
    },
    {
      "cell_type": "code",
      "metadata": {
        "id": "aLmGFTE5G-DE",
        "colab": {
          "base_uri": "https://localhost:8080/"
        },
        "outputId": "69f0d87a-a00b-4381-d308-dcbf6ace3d3c"
      },
      "source": [
        "print(dict_count_icd9pcscodes)"
      ],
      "execution_count": null,
      "outputs": [
        {
          "output_type": "stream",
          "text": [
            "{'3893': 12866, '9604': 9493, '966': 9102, '9671': 8426, '9904': 7102, '3961': 6781, '9672': 5815, '8856': 5045, '3891': 4449, '3615': 4387, '9915': 4162, '8872': 3305, '3722': 3147, '3995': 3133, '9390': 2656, '3723': 2619, '3324': 2607, '4513': 2552, '9955': 2275, '9983': 2183, '8853': 2066, '331': 1999, '9907': 1987, '3612': 1897, '311': 1752, '9920': 1636, '3491': 1590, '3404': 1545, '4311': 1519, '40': 1502, '3613': 1497, '3895': 1493, '3897': 1462, '5491': 1420, '3521': 1415, '8841': 1243, '66': 1226, '9905': 1211, '3606': 1166, '3607': 1100, '8964': 1049, '3322': 999, '3323': 994, '3601': 994, '3761': 986, '3611': 945, '45': 847, '17': 818, '8855': 808, '640': 805, '9962': 760, '387': 750, '4523': 744, '14': 732, '8842': 723, '5459': 675, '8847': 667, '9910': 654, '3950': 650, '8659': 647, '159': 604, '4443': 590, '9960': 588, '4516': 578, '8848': 561, '9605': 558, '3721': 551, '9607': 538, '8622': 538, '8852': 522, '3845': 517, '3522': 506, '9925': 498, '5187': 472, '131': 471, '9929': 455, '4639': 445, '5122': 443, '3778': 441, '3783': 440, '3772': 439, '3990': 437, '22': 437, '5185': 434, '3614': 424, '46': 415, '3734': 412, '3512': 406, '3726': 404, '4562': 400, '13': 400, '3892': 398, '370': 395, '390': 384, '3979': 367, '3321': 358, '3929': 357, '9961': 355, '41': 349, '3142': 347, '3523': 345, '9359': 345, '3972': 343, '4233': 338, '8162': 335, '8163': 329, '7935': 327, '8604': 324, '5011': 321, '4131': 320, '8191': 317, '403': 315, '5411': 313, '4223': 312, '9462': 311, '3409': 305, '8611': 298, '8968': 295, '3964': 295, '4525': 294, '8628': 291, '5412': 289, '7779': 289, '8857': 288, '5059': 285, '4573': 284, '7936': 282, '309': 282, '93': 281, '8451': 279, '4319': 279, '8105': 276, '212': 275, '8960': 274, '9723': 271, '353': 266, '3727': 266, '3733': 259, '5188': 257, '9744': 255, '9229': 250, '3844': 244, '3794': 237, '3533': 233, '3949': 232, '4011': 230, '5110': 225, '8669': 221, '3524': 220, '3605': 215, '415': 212, '4524': 210, '8051': 208, '8605': 199, '3712': 199, '8754': 198, '3403': 197, '3931': 196, '9906': 194, '8382': 191, '3571': 184, '9914': 180, '8102': 177, '9656': 177, '8103': 177, '8452': 174, '8674': 168, '61': 166, '8851': 163, '7932': 162, '8849': 161, '5732': 159, '139': 158, '4576': 156, '4432': 156, '5198': 156, '63': 155, '544': 154, '598': 154, '239': 154, '5101': 151, '9971': 151, '9634': 151, '3179': 150, '8345': 149, '5569': 145, '4543': 141, '47': 141, '5503': 141, '3201': 140, '8314': 139, '3451': 138, '3963': 137, '4593': 136, '9921': 136, '5419': 135, '391': 135, '5498': 134, '7939': 134, '5523': 132, '4632': 130, '4591': 130, '8845': 129, '5012': 128, '7761': 127, '3951': 126, '7966': 126, '8339': 125, '9396': 125, '3479': 124, '2319': 123, '8104': 123, '151': 122, '8099': 122, '4823': 122, '8945': 122, '124': 121, '234': 121, '4542': 121, '9705': 118, '3736': 117, '3492': 117, '4575': 117, '3229': 116, '3348': 116, '4673': 116, '4611': 115, '3421': 114, '3327': 114, '4439': 113, '118': 112, '4621': 112, '5794': 110, '9749': 110, '8108': 110, '3818': 107, '5551': 105, '9608': 105, '9702': 105, '5421': 105, '8309': 102, '3812': 102, '8844': 101, '8152': 101, '7817': 100, '3956': 100, '3932': 98, '8607': 98, '3808': 98, '8843': 98, '3998': 97, '881': 97, '8415': 97, '5361': 96, '8919': 95, '9977': 95, '3199': 95, '110': 94, '5462': 94, '540': 91, '34': 91, '6561': 91, '5425': 90, '8106': 90, '8411': 90, '2309': 89, '3596': 89, '9969': 89, '5123': 88, '44': 87, '3959': 86, '42': 86, '8914': 84, '324': 84, '3973': 84, '527': 83, '113': 83, '4444': 83, '7749': 83, '8321': 83, '8609': 81, '3925': 81, '9815': 80, '294': 79, '5137': 79, '9633': 79, '7915': 78, '11': 78, '8961': 78, '8365': 78, '5351': 78, '48': 77, '8164': 77, '7789': 77, '4579': 76, '5349': 76, '3971': 76, '315': 75, '8751': 75, '206': 75, '4399': 75, '3391': 74, '4610': 73, '7906': 72, '9755': 72, '8949': 72, '7931': 72, '7769': 72, '4601': 72, '3957': 71, '3422': 71, '4241': 71, '202': 71, '9543': 70, '9928': 70, '5472': 70, '7902': 69, '8873': 69, '5022': 69, '543': 68, '4623': 68, '3975': 68, '8864': 68, '4675': 67, '3749': 67, '3885': 66, '5114': 66, '2101': 66, '359': 65, '4620': 65, '9659': 65, '503': 64, '8703': 63, '3539': 62, '3764': 62, '2751': 61, '7867': 61, '437': 61, '51': 61, '125': 61, '7676': 61, '3511': 60, '3514': 60, '4413': 60, '3174': 58, '8417': 58, '843': 58, '4824': 57, '5651': 57, '3731': 57, '3452': 57, '3616': 56, '3771': 56, '3814': 56, '7869': 56, '5423': 55, '4242': 55, '8962': 55, '8753': 55, '5771': 55, '458': 55, '4442': 54, '5091': 54, '3249': 53, '8151': 53, '481': 53, '9357': 53, '3799': 53, '7865': 53, '9341': 53, '863': 53, '5061': 53, '9635': 53, '9912': 53, '4709': 53, '7679': 53, '9802': 53, '8774': 52, '4252': 52, '4719': 52, '3699': 51, '3424': 51, '5593': 51, '5359': 51, '341': 50, '8154': 50, '4594': 50, '3974': 49, '3942': 49, '3886': 49, '3952': 49, '4029': 48, '3774': 48, '3328': 47, '8891': 47, '7962': 47, '2171': 46, '221': 46, '43': 46, '8867': 46, '3777': 46, '9703': 46, '4652': 46, '9354': 46, '4574': 45, '7692': 45, '3406': 45, '3228': 44, '392': 44, '7965': 43, '9900': 43, '4519': 43, '8854': 43, '4341': 42, '9923': 42, '7674': 42, '8874': 42, '5222': 42, '4603': 42, '3329': 41, '7672': 41, '153': 41, '4651': 40, '7905': 40, '2911': 39, '4685': 39, '4292': 39, '9609': 39, '8395': 39, '9356': 39, '3782': 38, '570': 38, '8412': 38, '3482': 38, '8472': 37, '12': 37, '3965': 37, '3728': 37, '9919': 37, '8775': 37, '3803': 37, '8107': 37, '3420': 37, '7909': 37, '3326': 36, '443': 36, '3129': 36, '5461': 36, '8601': 35, '9465': 35, '4582': 35, '7855': 35, '4429': 35, '8076': 35, '3791': 35, '9737': 35, '7975': 34, '3807': 34, '4641': 34, '9648': 34, '3401': 34, '7768': 34, '5369': 34, '3378': 34, '5463': 34, '109': 33, '8332': 33, '4674': 33, '4561': 33, '6849': 33, '243': 33, '8627': 32, '4595': 32, '5013': 32, '7675': 32, '560': 32, '4041': 32, '6549': 32, '2181': 32, '114': 32, '4461': 32, '7819': 32, '3922': 31, '5184': 31, '9741': 31, '3787': 31, '435': 31, '3806': 31, '7788': 31, '684': 30, '5102': 30, '8801': 30, '5252': 30, '3927': 30, '7933': 30, '3725': 30, '5136': 30, '857': 29, '92': 29, '9606': 29, '4863': 29, '5795': 29, '123': 29, '15': 29, '5749': 29, '5293': 29, '7901': 29, '8456': 28, '5310': 28, '3779': 28, '7937': 28, '8101': 28, '4105': 28, '184': 28, '4693': 28, '4389': 28, '4869': 28, '4502': 28, '8741': 28, '5029': 28, '3822': 27, '64': 27, '722': 27, '741': 27, '3775': 27, '6839': 27, '205': 27, '9909': 27, '242': 27, '9468': 27, '9952': 27, '5103': 27, '7815': 27, '343': 26, '3259': 26, '4572': 26, '5451': 26, '4467': 26, '3532': 26, '9981': 26, '7841': 26, '33': 26, '9227': 25, '3768': 25, '586': 25, '4613': 25, '91': 25, '3619': 25, '344': 25, '5282': 25, '7767': 24, '9344': 24, '3527': 24, '8683': 24, '7781': 24, '4281': 24, '5371': 24, '5781': 24, '5300': 24, '3220': 24, '554': 24, '539': 24, '5495': 24, '204': 24, '4679': 24, '62': 24, '7961': 24, '4431': 24, '3781': 23, '3846': 23, '8192': 23, '3926': 23, '3943': 23, '7859': 23, '3505': 23, '9547': 23, '537': 23, '7813': 22, '8086': 22, '8016': 22, '7971': 22, '4921': 22, '8364': 22, '325': 22, '3789': 22, '7857': 22, '2242': 22, '4514': 22, '8302': 22, '9729': 22, '613': 21, '5474': 21, '8876': 21, '9902': 21, '3816': 21, '3894': 21, '3724': 21, '7967': 21, '9959': 21, '2219': 21, '203': 21, '2102': 21, '7919': 21, '102': 21, '8344': 21, '5424': 20, '504': 20, '2759': 20, '762': 20, '609': 20, '4282': 20, '3776': 20, '4642': 20, '7818': 20, '24': 20, '3343': 19, '8135': 19, '9355': 19, '8401': 19, '9901': 19, '9782': 19, '2103': 19, '4671': 19, '9353': 19, '851': 19, '4469': 19, '7907': 18, '9917': 18, '16': 18, '8959': 18, '3143': 18, '5380': 18, '8015': 18, '5475': 18, '5112': 18, '5493': 18, '3732': 18, '8005': 18, '4694': 17, '50': 17, '9638': 17, '605': 17, '7785': 17, '9972': 17, '39': 17, '8343': 17, '2912': 17, '4530': 17, '445': 17, '4836': 17, '8721': 17, '3561': 17, '5994': 17, '3402': 16, '4862': 16, '5902': 16, '9627': 16, '5524': 16, '9788': 16, '3499': 16, '280': 16, '302': 16, '270': 16, '211': 16, '9649': 16, '3551': 16, '4881': 16, '782': 16, '4438': 16, '5201': 16, '3602': 16, '8672': 16, '864': 16, '8777': 16, '9224': 16, '7799': 16, '4681': 16, '526': 16, '323': 16, '5211': 16, '4466': 16, '5151': 16, '5296': 16, '8085': 16, '8865': 15, '374': 15, '4289': 15, '3888': 15, '346': 15, '3399': 15, '9979': 15, '4441': 15, '5141': 15, '9803': 15, '5717': 15, '7969': 15, '3976': 15, '8689': 15, '5169': 15, '9756': 15, '3141': 15, '3887': 15, '611': 15, '4342': 15, '1424': 14, '4643': 14, '8877': 14, '6902': 14, '689': 14, '8673': 14, '8543': 14, '59': 14, '94': 14, '610': 14, '3241': 14, '4512': 14, '7765': 14, '7745': 14, '7934': 14, '8866': 14, '2172': 14, '4195': 14, '5492': 14, '9939': 14, '3552': 14, '9762': 14, '3525': 14, '3999': 14, '5121': 14, '3484': 14, '8589': 13, '8761': 13, '7771': 13, '8244': 13, '8663': 13, '7868': 13, '9963': 13, '3481': 13, '8675': 13, '3882': 13, '8667': 13, '8385': 13, '485': 13, '310': 13, '3962': 13, '3924': 13, '2551': 13, '3941': 13, '3848': 13, '6829': 13, '6029': 13, '293': 13, '3809': 13, '3899': 12, '2757': 12, '412': 12, '9701': 12, '8081': 12, '7851': 12, '4422': 12, '7926': 12, '7964': 12, '291': 12, '52': 12, '2749': 12, '524': 12, '4522': 12, '8814': 12, '407': 12, '3425': 12, '5179': 12, '5069': 12, '65': 12, '4104': 12, '8471': 12, '9751': 12, '8013': 12, '3572': 11, '3459': 11, '3339': 11, '4023': 11, '8006': 11, '9911': 11, '500': 11, '8153': 11, '5209': 11, '395': 11, '3953': 11, '3766': 11, '2263': 11, '8319': 11, '5671': 11, '3765': 11, '5164': 11, '5111': 11, '5631': 11, '3604': 11, '6909': 11, '5718': 11, '8457': 11, '122': 10, '5372': 10, '4103': 10, '5143': 10, '5783': 10, '688': 10, '479': 10, '4042': 10, '4224': 10, '7747': 10, '8803': 10, '8861': 10, '6816': 10, '5553': 10, '4463': 10, '4701': 10, '3805': 10, '5464': 10, '8421': 10, '852': 10, '4462': 10, '7963': 10, '5259': 10, '8388': 10, '2121': 10, '430': 10, '3821': 10, '72': 10, '3923': 10, '3239': 10, '3144': 9, '623': 9, '4534': 9, '5014': 9, '7770': 9, '4541': 9, '1755': 9, '222': 9, '9982': 9, '4064': 9, '9761': 9, '3804': 9, '449': 9, '3711': 9, '3473': 9, '8776': 9, '8938': 9, '7807': 9, '5792': 9, '8147': 9, '7631': 9, '4533': 9, '8662': 9, '7639': 9, '3863': 9, '7903': 9, '686': 9, '404': 9, '7777': 9, '8138': 9, '126': 9, '7974': 9, '84': 9, '9903': 9, '7847': 8, '9999': 8, '7904': 8, '9814': 8, '7912': 8, '5502': 8, '3867': 8, '303': 8, '3193': 8, '2211': 8, '8542': 8, '3802': 8, '8871': 8, '2756': 8, '5104': 8, '4686': 8, '4024': 8, '2632': 8, '8838': 8, '6952': 8, '5341': 8, '7849': 8, '576': 8, '602': 8, '9655': 8, '9636': 8, '9941': 8, '7914': 8, '55': 8, '8137': 8, '9657': 8, '7731': 8, '740': 8, '4945': 8, '3883': 8, '3797': 8, '3798': 8, '7809': 8, '32': 8, '8879': 8, '5674': 8, '7077': 8, '4511': 8, '8181': 8, '3889': 8, '295': 7, '5280': 7, '5051': 7, '5499': 7, '8541': 7, '7534': 7, '8534': 7, '7863': 7, '7917': 7, '7812': 7, '8313': 7, '252': 7, '625': 7, '5501': 7, '9789': 7, '3966': 7, '8422': 7, '8245': 7, '7861': 7, '3009': 7, '8626': 7, '8011': 7, '8133': 7, '7050': 7, '8363': 7, '1736': 7, '8623': 7, '7748': 7, '8342': 7, '8897': 7, '9425': 7, '4021': 7, '5301': 7, '5789': 7, '251': 7, '7976': 7, '7643': 7, '3834': 7, '5641': 7, '7805': 7, '8113': 7, '5183': 7, '8349': 7, '3393': 7, '128': 7, '1742': 7, '5132': 7, '6539': 7, '7309': 7, '734': 7, '3472': 7, '4287': 7, '5163': 7, '3868': 7, '71': 7, '3320': 7, '7916': 7, '3493': 7, '8083': 7, '304': 7, '441': 7, '765': 7, '4852': 6, '3762': 6, '379': 6, '6951': 6, '7913': 6, '3562': 6, '4682': 6, '8132': 6, '7972': 6, '5159': 6, '5682': 6, '8418': 6, '8236': 6, '7673': 6, '9978': 6, '9623': 6, '8087': 6, '9601': 6, '5024': 6, '5212': 6, '5839': 6, '8021': 6, '4672': 6, '5504': 6, '3427': 6, '5194': 6, '1733': 6, '639': 6, '3164': 6, '8521': 6, '3865': 6, '1474': 6, '8229': 6, '7787': 6, '54': 6, '9230': 6, '8165': 6, '70': 6, '4551': 6, '3471': 6, '3631': 6, '806': 6, '245': 6, '4499': 6, '9670': 6, '8863': 6, '4676': 6, '8394': 6, '3930': 6, '282': 6, '2109': 6, '7911': 6, '7569': 6, '3847': 6, '531': 6, '3955': 6, '4515': 6, '704': 5, '321': 5, '6011': 5, '7109': 5, '695': 5, '5787': 5, '8969': 5, '713': 5, '4939': 5, '5302': 5, '3843': 5, '2279': 5, '4414': 5, '529': 5, '9739': 5, '7691': 5, '6141': 5, '4571': 5, '4106': 5, '2501': 5, '5311': 5, '4901': 5, '4449': 5, '8574': 5, '8661': 5, '5321': 5, '4942': 5, '127': 5, '3175': 5, '3171': 5, '5329': 5, '6859': 5, '1682': 5, '3691': 5, '480': 5, '4059': 5, '401': 5, '4531': 5, '7791': 5, '4495': 5, '7739': 5, '1879': 5, '835': 5, '3958': 5, '7678': 5, '4503': 5, '8744': 5, '8212': 5, '8939': 5, '7987': 5, '5304': 5, '7024': 5, '7985': 5, '5675': 5, '4054': 5, '3334': 5, '326': 5, '332': 5, '3599': 5, '8944': 5, '2252': 5, '6529': 5, '5381': 5, '8111': 5, '683': 5, '362': 5, '8036': 5, '8136': 5, '2752': 5, '8585': 5, '2264': 5, '8407': 5, '5733': 5, '427': 5, '8762': 5, '8039': 5, '8256': 5, '4875': 5, '7803': 5, '9957': 5, '5652': 5, '8146': 5, '8769': 5, '9391': 4, '8893': 4, '132': 4, '2100': 4, '2049': 4, '3591': 4, '2631': 4, '489': 4, '9239': 4, '3603': 4, '4849': 4, '4501': 4, '859': 4, '8584': 4, '2811': 4, '8963': 4, '5909': 4, '8772': 4, '7764': 4, '5554': 4, '2188': 4, '8875': 4, '8494': 4, '3198': 4, '5993': 4, '7719': 4, '8926': 4, '402': 4, '4232': 4, '7741': 4, '8606': 4, '7699': 4, '8112': 4, '5362': 4, '4022': 4, '8209': 4, '8017': 4, '7762': 4, '5196': 4, '562': 4, '4592': 4, '7929': 4, '394': 4, '8012': 4, '3570': 4, '8896': 4, '5822': 4, '7171': 4, '4210': 4, '8088': 4, '8098': 4, '7973': 4, '4412': 4, '5305': 4, '77': 4, '4995': 4, '9851': 4, '313': 4, '3582': 4, '4401': 4, '9205': 4, '6563': 4, '6591': 4, '8536': 4, '8594': 4, '3862': 4, '7908': 4, '3866': 4, '3426': 4, '3786': 4, '850': 4, '4403': 4, '8850': 4, '7763': 4, '8246': 4, '5979': 4, '3593': 4, '9988': 4, '2241': 4, '761': 4, '3773': 4, '4240': 4, '4255': 4, '3553': 4, '3029': 4, '3423': 4, '6149': 4, '3173': 4, '5303': 4, '4258': 4, '715': 4, '8166': 4, '8375': 4, '4254': 4, '7766': 4, '3991': 4, '69': 4, '3954': 4, '781': 4, '9712': 4, '2262': 4, '8145': 4, '585': 4, '3884': 4, '101': 4, '74': 3, '3609': 3, '18': 3, '6632': 3, '6901': 3, '9602': 3, '7952': 3, '8193': 3, '6712': 3, '633': 3, '5019': 3, '3992': 3, '8073': 3, '5383': 3, '5023': 3, '2742': 3, '8596': 3, '229': 3, '7773': 3, '492': 3, '9626': 3, '2951': 3, '409': 3, '4832': 3, '4493': 3, '1659': 3, '1809': 3, '4415': 3, '9342': 3, '8686': 3, '80': 3, '8183': 3, '4871': 3, '7552': 3, '8922': 3, '9771': 3, '7071': 3, '6491': 3, '8773': 3, '2009': 3, '7711': 3, '8221': 3, '8544': 3, '8778': 3, '5592': 3, '3833': 3, '3169': 3, '5586': 3, '9393': 3, '5793': 3, '7012': 3, '8050': 3, '8892': 3, '6269': 3, '8531': 3, '2432': 3, '2630': 3, '6823': 3, '651': 3, '9738': 3, '5581': 3, '3528': 3, '2301': 3, '1292': 3, '8361': 3, '8303': 3, '5384': 3, '10': 3, '889': 3, '8075': 3, '7816': 3, '7853': 3, '8591': 3, '5719': 3, '3880': 3, '3993': 3, '1341': 3, '1371': 3, '2731': 3, '5193': 3, '9346': 3, '6589': 3, '9449': 3, '4492': 3, '244': 3, '700': 3, '5162': 3, '3842': 3, '7561': 3, '9922': 3, '9976': 3, '287': 3, '9316': 3, '3224': 3, '8201': 3, '8379': 3, '8932': 3, '8195': 3, '2201': 3, '3881': 3, '3531': 3, '8241': 3, '1151': 3, '711': 3, '6841': 3, '4946': 3, '7988': 3, '8117': 3, '3148': 3, '3838': 3, '292': 3, '8694': 3, '7179': 3, '4879': 3, '9785': 3, '7742': 3, '8511': 3, '7852': 3, '1735': 3, '9820': 3, '6094': 3, '8128': 3, '2724': 3, '3836': 3, '3729': 3, '231': 3, '442': 3, '8377': 3, '9652': 3, '7359': 3, '4211': 3, '8331': 3, '73': 3, '2260': 3, '7072': 3, '5831': 3, '7866': 3, '7927': 3, '7814': 3, '31': 3, '8582': 3, '9618': 3, '4400': 3, '3795': 2, '4829': 2, '6941': 2, '3555': 2, '8862': 2, '8764': 2, '82': 2, '81': 2, '8134': 2, '8155': 2, '4052': 2, '7946': 2, '8950': 2, '3796': 2, '7693': 2, '7161': 2, '8937': 2, '4491': 2, '1609': 2, '3230': 2, '8387': 2, '5473': 2, '8696': 2, '9804': 2, '7921': 2, '8695': 2, '214': 2, '8759': 2, '8405': 2, '2162': 2, '53': 2, '8084': 2, '642': 2, '600': 2, '4529': 2, '76': 2, '8091': 2, '9215': 2, '339': 2, '4132': 2, '207': 2, '1829': 2, '5343': 2, '9427': 2, '8211': 2, '3145': 2, '4468': 2, '4640': 2, '5292': 2, '7760': 2, '1839': 2, '1756': 2, '2792': 2, '6411': 2, '861': 2, '764': 2, '7837': 2, '4251': 2, '8041': 2, '8071': 2, '4284': 2, '6996': 2, '9953': 2, '744': 2, '7925': 2, '4971': 2, '4382': 2, '8423': 2, '4019': 2, '5759': 2, '8404': 2, '8402': 2, '7984': 2, '9399': 2, '7956': 2, '4835': 2, '8026': 2, '3861': 2, '3928': 2, '5124': 2, '8573': 2, '721': 2, '3978': 2, '2939': 2, '9754': 2, '5784': 2, '8014': 2, '7858': 2, '6812': 2, '7922': 2, '7968': 2, '4497': 2, '7052': 2, '9308': 2, '436': 2, '8965': 2, '9622': 2, '233': 2, '5539': 2, '2722': 2, '4581': 2, '5734': 2, '5199': 2, '8179': 2, '8257': 2, '7784': 2, '8840': 2, '7092': 2, '8670': 2, '1475': 2, '6498': 2, '6449': 2, '7677': 2, '5213': 2, '8175': 2, '3227': 2, '7023': 2, '9653': 2, '763': 2, '8197': 2, '433': 2, '3720': 2, '7862': 2, '4259': 2, '6669': 2, '8272': 2, '8554': 2, '1291': 2, '9759': 2, '3341': 2, '5113': 2, '5251': 2, '7778': 2, '3379': 2, '7856': 2, '999': 2, '2041': 2, '9146': 2, '2169': 2, '4222': 2, '8122': 2, '8114': 2, '7759': 2, '5891': 2, '2761': 2, '253': 2, '8414': 2, '8581': 2, '4411': 2, '2161': 2, '3785': 2, '3342': 2, '7829': 2, '8665': 2, '9733': 2, '7845': 2, '3815': 2, '3898': 2, '8455': 2, '6095': 2, '9714': 2, '9326': 2, '1454': 2, '4947': 2, '603': 2, '7111': 2, '4882': 2, '729': 2, '7833': 2, '4904': 2, '4923': 2, '2933': 2, '8031': 2, '4563': 2, '4069': 2, '8419': 2, '7955': 2, '6662': 2, '411': 2, '8082': 2, '9352': 2, '75': 2, '856': 2, '736': 2, '5893': 2, '652': 2, '5253': 2, '7611': 2, '8046': 2, '472': 2, '8473': 2, '9619': 2, '9821': 2, '7978': 2, '5314': 2, '8089': 2, '8766': 2, '5900': 2, '8941': 2, '7733': 2, '6091': 2, '8281': 2, '8547': 2, '7864': 2, '8948': 2, '7804': 2, '8826': 2, '7532': 2, '580': 2, '643': 2, '2411': 2, '7989': 2, '3857': 2, '612': 2, '157': 2, '4199': 2, '7802': 2, '398': 2, '8049': 2, '3595': 2, '6496': 2, '7986': 2, '6959': 2, '4949': 2, '9995': 2, '8172': 2, '3161': 2, '7938': 2, '4521': 2, '4528': 2, '5779': 1, '199': 1, '9654': 1, '3542': 1, '9329': 1, '9916': 1, '7061': 1, '5661': 1, '6869': 1, '1652': 1, '7669': 1, '7808': 1, '7979': 1, '4979': 1, '9639': 1, '5186': 1, '7735': 1, '5672': 1, '3829': 1, '7645': 1, '3541': 1, '4526': 1, '8804': 1, '4198': 1, '9936': 1, '1741': 1, '4583': 1, '8386': 1, '8671': 1, '8116': 1, '772': 1, '4349': 1, '8222': 1, '3977': 1, '6062': 1, '5995': 1, '5662': 1, '474': 1, '5512': 1, '9805': 1, '5093': 1, '4101': 1, '8548': 1, '8952': 1, '9232': 1, '758': 1, '8525': 1, '8079': 1, '2061': 1, '6381': 1, '2753': 1, '3162': 1, '1459': 1, '5342': 1, '9753': 1, '1281': 1, '8482': 1, '9732': 1, '290': 1, '9735': 1, '5999': 1, '5295': 1, '811': 1, '6739': 1, '9463': 1, '9764': 1, '7843': 1, '9394': 1, '9503': 1, '8684': 1, '6099': 1, '2769': 1, '1264': 1, '7811': 1, '2723': 1, '60': 1, '6021': 1, '944': 1, '8918': 1, '247': 1, '8967': 1, '8199': 1, '83': 1, '5642': 1, '4283': 1, '5751': 1, '4931': 1, '8734': 1, '9303': 1, '9172': 1, '3192': 1, '1663': 1, '106': 1, '1681': 1, '7051': 1, '6142': 1, '4911': 1, '4500': 1, '6993': 1, '1434': 1, '8096': 1, '8448': 1, '6552': 1, '5497': 1, '8868': 1, '3172': 1, '5684': 1, '6441': 1, '708': 1, '680': 1, '4622': 1, '9945': 1, '820': 1, '6998': 1, '4876': 1, '5142': 1, '9826': 1, '1473': 1, '1479': 1, '9715': 1, '23': 1, '7942': 1, '9975': 1, '604': 1, '4464': 1, '3790': 1, '9204': 1, '7701': 1, '351': 1, '8545': 1, '5221': 1, '8934': 1, '9974': 1, '9926': 1, '883': 1, '7663': 1, '21': 1, '8301': 1, '9704': 1, '1821': 1, '771': 1, '2691': 1, '743': 1, '7983': 1, '7712': 1, '7702': 1, '6831': 1, '4552': 1, '1771': 1, '5312': 1, '751': 1, '7599': 1, '2059': 1, '5691': 1, '7646': 1, '2001': 1, '7697': 1, '4664': 1, '8157': 1, '632': 1, '3869': 1, '120': 1, '4696': 1, '7758': 1, '8362': 1, '8243': 1, '6929': 1, '3349': 1, '7664': 1, '2311': 1, '9787': 1, '3535': 1, '6551': 1, '5731': 1, '8603': 1, '9335': 1, '4053': 1, '4825': 1, '2772': 1, '2130': 1, '215': 1, '620': 1, '4269': 1, '4902': 1, '885': 1, '1149': 1, '6299': 1, '6309': 1, '1631': 1, '7782': 1, '7079': 1, '2621': 1, '2592': 1, '8185': 1, '4193': 1, '8235': 1, '400': 1, '5331': 1, '3392': 1, '7838': 1, '6071': 1, '1811': 1, '7709': 1, '7609': 1, '2959': 1, '601': 1, '5429': 1, '4262': 1, '8903': 1, '7982': 1, '750': 1, '6825': 1, '8140': 1, '8571': 1, '3550': 1, '4402': 1, '6761': 1, '1441': 1, '5521': 1, '4142': 1, '3792': 1, '4791': 1, '4496': 1, '2250': 1, '2122': 1, '7062': 1, '7075': 1, '6661': 1, '329': 1, '28': 1, '3921': 1, '8180': 1, '4391': 1, '4265': 1, '399': 1, '697': 1, '8219': 1, '3989': 1, '8763': 1, '4191': 1, '8553': 1, '9163': 1, '8819': 1, '8095': 1, '5841': 1, '240': 1, '9351': 1, '2183': 1, '4850': 1, '3371': 1, '1770': 1, '8619': 1, '7551': 1, '6497': 1, '681': 1, '5219': 1, '5471': 1, '58': 1, '942': 1, '8765': 1, '4291': 1, '9321': 1, '3598': 1, '8129': 1, '4419': 1, '299': 1, '8835': 1, '5711': 1, '5149': 1, '8286': 1, '5094': 1, '4873': 1, '9984': 1, '2132': 1, '5522': 1, '8408': 1, '693': 1, '9924': 1, '7795': 1, '9614': 1, '371': 1, '8233': 1, '8279': 1, '716': 1, '7122': 1, '8682': 1, '8033': 1, '9812': 1, '8858': 1, '4143': 1, '714': 1, '754': 1, '296': 1, '8602': 1, '8171': 1, '8621': 1, '7756': 1, '9641': 1, '6241': 1, '7854': 1, '5299': 1, '2932': 1, '4680': 1, '4851': 1, '8035': 1, '8459': 1, '3195': 1, '1812': 1, '4695': 1, '8182': 1, '8522': 1, '5298': 1, '6261': 1, '4590': 1, '8595': 1, '3837': 1, '152': 1, '8054': 1, '2931': 1, '8690': 1, '3617': 1, '3373': 1, '9525': 1, '8709': 1, '9711': 1, '6949': 1, '9827': 1, '9752': 1, '7074': 1, '4662': 1, '3835': 1, '1273': 1, '149': 1, '8115': 1, '9658': 1, '7798': 1, '7033': 1, '6579': 1, '8779': 1, '3801': 1, '8289': 1, '8403': 1, '780': 1, '5823': 1, '260': 1, '2186': 1, '121': 1, '4974': 1, '2373': 1, '7775': 1, '5689': 1, '6012': 1, '4614': 1, '9775': 1, '2189': 1, '4663': 1, '3710': 1, '1651': 1, '2502': 1, '7918': 1, '2755': 1, '8860': 1, '8047': 1, '8149': 1, '6511': 1, '1649': 1, '869': 1, '631': 1, '622': 1, '2699': 1, '2559': 1, '3149': 1, '3209': 1, '7743': 1, '8184': 1, '7123': 1, '5283': 1, '3483': 1, '5911': 1, '9624': 1, '8311': 1, '7848': 1, '4139': 1, '6851': 1, '8144': 1, '2611': 1, '7601': 1, '8174': 1, '8269': 1, '4993': 1, '4903': 1, '3222': 1, '9813': 1, '6562': 1, '4549': 1, '8651': 1, '1422': 1, '8251': 1, '3763': 1, '4108': 1}\n"
          ],
          "name": "stdout"
        }
      ]
    },
    {
      "cell_type": "markdown",
      "metadata": {
        "id": "RrpunJFFlsMh"
      },
      "source": [
        "<table>\n",
        "<tr>\n",
        "<th>type of dataset</th><th>Number of Adm ids</th><th>% coverage</th>\n",
        "</tr>\n",
        "<tr>\n",
        "<td>Top10 ICD9 PCS codes</td><td>33304</td><td>71.10%</td>\n",
        "</tr>\n",
        "<tr>\n",
        "<td>Top20 ICD9 PCS codes</td><td>37931</td><td>80.98%</td>\n",
        "</tr>\n",
        "<tr>\n",
        "<td>Top50 ICD9 PCS codes</td><td>40493</td><td>86.45%</td>\n",
        "</tr>\n",
        "</table>"
      ]
    },
    {
      "cell_type": "code",
      "metadata": {
        "id": "yoHiERVrHE9u"
      },
      "source": [
        "top10_icd9pcscodes=list(dict_count_icd9pcscodes.keys())[:10]\n",
        "top20_icd9pcscodes=list(dict_count_icd9pcscodes.keys())[:20]\n",
        "top50_icd9pcscodes=list(dict_count_icd9pcscodes.keys())[:50]"
      ],
      "execution_count": null,
      "outputs": []
    },
    {
      "cell_type": "code",
      "metadata": {
        "id": "i0AYwSNLHVJQ",
        "colab": {
          "base_uri": "https://localhost:8080/"
        },
        "outputId": "f00bb14f-f494-4834-f352-294b0dd6e3f0"
      },
      "source": [
        "top10_icd9pcscodes"
      ],
      "execution_count": null,
      "outputs": [
        {
          "output_type": "execute_result",
          "data": {
            "text/plain": [
              "['3893', '9604', '966', '9671', '9904', '3961', '9672', '8856', '3891', '3615']"
            ]
          },
          "metadata": {
            "tags": []
          },
          "execution_count": 131
        }
      ]
    },
    {
      "cell_type": "code",
      "metadata": {
        "id": "LyjV_iePHX_J",
        "colab": {
          "base_uri": "https://localhost:8080/"
        },
        "outputId": "bcb7a401-7db0-4ba5-e546-811a998d7c13"
      },
      "source": [
        "notes_icd_agg.loc[notes_icd_agg.ICD9_CODE_y.apply(lambda x:any(item in top10_icd9pcscodes for item in x))].HADM_ID.nunique()"
      ],
      "execution_count": null,
      "outputs": [
        {
          "output_type": "execute_result",
          "data": {
            "text/plain": [
              "33304"
            ]
          },
          "metadata": {
            "tags": []
          },
          "execution_count": 132
        }
      ]
    },
    {
      "cell_type": "code",
      "metadata": {
        "id": "n82D7FuRIX-N",
        "colab": {
          "base_uri": "https://localhost:8080/"
        },
        "outputId": "58190eda-067f-4baf-e439-300c3a19dce1"
      },
      "source": [
        "notes_icd_agg.loc[notes_icd_agg.ICD9_CODE_y.apply(lambda x:any(item in top20_icd9pcscodes for item in x))].HADM_ID.count()"
      ],
      "execution_count": null,
      "outputs": [
        {
          "output_type": "execute_result",
          "data": {
            "text/plain": [
              "37931"
            ]
          },
          "metadata": {
            "tags": []
          },
          "execution_count": 133
        }
      ]
    },
    {
      "cell_type": "code",
      "metadata": {
        "id": "0o2En15gIeBY",
        "colab": {
          "base_uri": "https://localhost:8080/"
        },
        "outputId": "f3570a6f-3ad6-4b6b-f9ba-9db2cbbb31f7"
      },
      "source": [
        "notes_icd_agg.loc[notes_icd_agg.ICD9_CODE_y.apply(lambda x:any(item in top50_icd9pcscodes for item in x))].HADM_ID.nunique()"
      ],
      "execution_count": null,
      "outputs": [
        {
          "output_type": "execute_result",
          "data": {
            "text/plain": [
              "40493"
            ]
          },
          "metadata": {
            "tags": []
          },
          "execution_count": 134
        }
      ]
    },
    {
      "cell_type": "code",
      "metadata": {
        "id": "2_L8VWmTvpkZ"
      },
      "source": [
        ""
      ],
      "execution_count": null,
      "outputs": []
    },
    {
      "cell_type": "markdown",
      "metadata": {
        "id": "tPA2JZNlxNN9"
      },
      "source": [
        "# ICD10 code"
      ]
    },
    {
      "cell_type": "code",
      "metadata": {
        "id": "RnYe-SdHyGZs"
      },
      "source": [
        "admid_icd=pd.read_csv('/content/drive/MyDrive/AlgoIntern/Data/Data1.0/adm_icd.csv')"
      ],
      "execution_count": 3,
      "outputs": []
    },
    {
      "cell_type": "code",
      "metadata": {
        "colab": {
          "base_uri": "https://localhost:8080/",
          "height": 419
        },
        "id": "zKe5LvqtyqSG",
        "outputId": "08b202fd-5569-4dc6-ca3c-527c896a7b28"
      },
      "source": [
        "admid_icd"
      ],
      "execution_count": 4,
      "outputs": [
        {
          "output_type": "execute_result",
          "data": {
            "text/html": [
              "<div>\n",
              "<style scoped>\n",
              "    .dataframe tbody tr th:only-of-type {\n",
              "        vertical-align: middle;\n",
              "    }\n",
              "\n",
              "    .dataframe tbody tr th {\n",
              "        vertical-align: top;\n",
              "    }\n",
              "\n",
              "    .dataframe thead th {\n",
              "        text-align: right;\n",
              "    }\n",
              "</style>\n",
              "<table border=\"1\" class=\"dataframe\">\n",
              "  <thead>\n",
              "    <tr style=\"text-align: right;\">\n",
              "      <th></th>\n",
              "      <th>HADM_ID</th>\n",
              "      <th>ICD9_CODE</th>\n",
              "      <th>ICD10</th>\n",
              "    </tr>\n",
              "  </thead>\n",
              "  <tbody>\n",
              "    <tr>\n",
              "      <th>0</th>\n",
              "      <td>100001</td>\n",
              "      <td>5363,5853,36201,7078,V5867,25013,5849,25083,25...</td>\n",
              "      <td>N179,I129,Misc,Z794</td>\n",
              "    </tr>\n",
              "    <tr>\n",
              "      <th>1</th>\n",
              "      <td>100003</td>\n",
              "      <td>53789,4019,2851,5715,45621,53100,7823,07054,53550</td>\n",
              "      <td>I10,K740,K7460,K7469,Misc,D62,B182</td>\n",
              "    </tr>\n",
              "    <tr>\n",
              "      <th>2</th>\n",
              "      <td>100006</td>\n",
              "      <td>V1251,7850,20300,3090,2761,486,51881,V1582,49320</td>\n",
              "      <td>J189,Z86718,J9600,Z87891,Misc,J9690,E871</td>\n",
              "    </tr>\n",
              "    <tr>\n",
              "      <th>3</th>\n",
              "      <td>100007</td>\n",
              "      <td>4019,9973,5570,486,56081</td>\n",
              "      <td>J189,I10,Misc</td>\n",
              "    </tr>\n",
              "    <tr>\n",
              "      <th>4</th>\n",
              "      <td>100009</td>\n",
              "      <td>V153,4019,V4502,99604,41401,27800,4111,V5867,2...</td>\n",
              "      <td>I200,I2510,Z794,D649,I10,Z9861,E669,Z87891,Mis...</td>\n",
              "    </tr>\n",
              "    <tr>\n",
              "      <th>...</th>\n",
              "      <td>...</td>\n",
              "      <td>...</td>\n",
              "      <td>...</td>\n",
              "    </tr>\n",
              "    <tr>\n",
              "      <th>58924</th>\n",
              "      <td>199993</td>\n",
              "      <td>5180,42821,42731,4240,5119,4271,5184,2760,41031</td>\n",
              "      <td>J9819,I340,I4891,J918,Misc,J9811,E870,I472,I348</td>\n",
              "    </tr>\n",
              "    <tr>\n",
              "      <th>58925</th>\n",
              "      <td>199994</td>\n",
              "      <td>4280,585,3970,42732,2762,486,51881,496,4169</td>\n",
              "      <td>J189,E872,J9600,I4892,Misc,I509,J449,J9690</td>\n",
              "    </tr>\n",
              "    <tr>\n",
              "      <th>58926</th>\n",
              "      <td>199995</td>\n",
              "      <td>4210,04111,3051,V1259,4412,44284,7464,30503,30...</td>\n",
              "      <td>F17200,Misc</td>\n",
              "    </tr>\n",
              "    <tr>\n",
              "      <th>58927</th>\n",
              "      <td>199998</td>\n",
              "      <td>4019,42731,41401,4111,4439,4400,9975,V4589,997...</td>\n",
              "      <td>I200,I2510,I10,I97710,I9788,Z9861,I4891,I739,I...</td>\n",
              "    </tr>\n",
              "    <tr>\n",
              "      <th>58928</th>\n",
              "      <td>199999</td>\n",
              "      <td>5119,79902,41401,5849,48284,V4986,4293,2761,28...</td>\n",
              "      <td>I2510,N179,R0902,Z9861,J9600,Z66,J918,Misc,J96...</td>\n",
              "    </tr>\n",
              "  </tbody>\n",
              "</table>\n",
              "<p>58929 rows × 3 columns</p>\n",
              "</div>"
            ],
            "text/plain": [
              "       HADM_ID  ...                                              ICD10\n",
              "0       100001  ...                                N179,I129,Misc,Z794\n",
              "1       100003  ...                 I10,K740,K7460,K7469,Misc,D62,B182\n",
              "2       100006  ...           J189,Z86718,J9600,Z87891,Misc,J9690,E871\n",
              "3       100007  ...                                      J189,I10,Misc\n",
              "4       100009  ...  I200,I2510,Z794,D649,I10,Z9861,E669,Z87891,Mis...\n",
              "...        ...  ...                                                ...\n",
              "58924   199993  ...    J9819,I340,I4891,J918,Misc,J9811,E870,I472,I348\n",
              "58925   199994  ...         J189,E872,J9600,I4892,Misc,I509,J449,J9690\n",
              "58926   199995  ...                                        F17200,Misc\n",
              "58927   199998  ...  I200,I2510,I10,I97710,I9788,Z9861,I4891,I739,I...\n",
              "58928   199999  ...  I2510,N179,R0902,Z9861,J9600,Z66,J918,Misc,J96...\n",
              "\n",
              "[58929 rows x 3 columns]"
            ]
          },
          "metadata": {
            "tags": []
          },
          "execution_count": 4
        }
      ]
    },
    {
      "cell_type": "code",
      "metadata": {
        "colab": {
          "base_uri": "https://localhost:8080/",
          "height": 268
        },
        "id": "RxXEqKpZyr2Q",
        "outputId": "4d872395-16cf-4bca-a516-18801a3cff2c"
      },
      "source": [
        "# distribution of number of ICD10 codes for given admid\r\n",
        "plt.hist(admid_icd.ICD10.apply(lambda x:len([code for code in re.split(',',x) if code != 'Misc'])))\r\n",
        "plt.grid(True)"
      ],
      "execution_count": 9,
      "outputs": [
        {
          "output_type": "display_data",
          "data": {
            "image/png": "[encoded data removed]",
            "text/plain": [
              "<Figure size 432x288 with 1 Axes>"
            ]
          },
          "metadata": {
            "tags": [],
            "needs_background": "light"
          }
        }
      ]
    },
    {
      "cell_type": "code",
      "metadata": {
        "colab": {
          "base_uri": "https://localhost:8080/"
        },
        "id": "GiUkj5JuzbxY",
        "outputId": "8c1064f7-c3f1-466b-a40f-ac532694ab41"
      },
      "source": [
        "print(\" Mean number of ICD10 codes for given admid :\",sum(admid_icd.ICD10.apply(lambda x:len([code for code in re.split(',',x) if code != 'Misc'])))/len(admid_icd))"
      ],
      "execution_count": 11,
      "outputs": [
        {
          "output_type": "stream",
          "text": [
            " Mean number of ICD10 codes for given admid : 6.325663086086647\n"
          ],
          "name": "stdout"
        }
      ]
    },
    {
      "cell_type": "code",
      "metadata": {
        "colab": {
          "base_uri": "https://localhost:8080/"
        },
        "id": "DPc3kKbM2sro",
        "outputId": "7ffe84ac-6842-4fc2-d93f-72ee27c8c489"
      },
      "source": [
        "print(\" Median number of ICD10 codes for given admid :\",admid_icd.ICD10.apply(lambda x:len([code for code in re.split(',',x) if code != 'Misc'])).median())"
      ],
      "execution_count": 13,
      "outputs": [
        {
          "output_type": "stream",
          "text": [
            " Median number of ICD10 codes for given admid : 5.0\n"
          ],
          "name": "stdout"
        }
      ]
    },
    {
      "cell_type": "code",
      "metadata": {
        "id": "GuszzlJu3AVn"
      },
      "source": [
        "icd10_freq=sorted(\r\n",
        "    dict(\r\n",
        "        Counter(\r\n",
        "            [code for innerlist in admid_icd.ICD10.to_list() for code in re.split(',',innerlist) if code != 'Misc' ]\r\n",
        "        )\r\n",
        "    ).items(),\r\n",
        "    key=lambda x:x[1],reverse=True\r\n",
        ")"
      ],
      "execution_count": 20,
      "outputs": []
    },
    {
      "cell_type": "code",
      "metadata": {
        "colab": {
          "base_uri": "https://localhost:8080/"
        },
        "id": "Vxf1pwM_5T5J",
        "outputId": "7be47c26-cedb-4b56-b2ec-9d52bf38748e"
      },
      "source": [
        "print(icd10_freq)"
      ],
      "execution_count": 21,
      "outputs": [
        {
          "output_type": "stream",
          "text": [
            "[('I10', 20696), ('I2510', 13910), ('I509', 13111), ('I4891', 12886), ('N179', 9118), ('E119', 9057), ('E784', 8689), ('E785', 8689), ('J9600', 7497), ('J9690', 7497), ('N390', 6555), ('K219', 6324), ('E780', 5930), ('Z23', 5779), ('P002', 5519), ('D649', 5405), ('E039', 4914), ('J189', 4838), ('D62', 4552), ('E872', 4528), ('J449', 4431), ('A419', 4277), ('R6520', 3912), ('Z7901', 3805), ('J690', 3680), ('Z3800', 3566), ('N189', 3435), ('F329', 3431), ('I129', 3421), ('F17200', 3358), ('I252', 3278), ('D696', 3065), ('Z951', 3056), ('I214', 3055), ('E871', 3039), ('I340', 2924), ('I348', 2924), ('Z87891', 2811), ('Z3801', 2758), ('J918', 2734), ('Z9861', 2725), ('I120', 2630), ('R6521', 2586), ('I359', 2550), ('I352', 2550), ('I350', 2550), ('I358', 2550), ('I351', 2550), ('Z794', 2538), ('R001', 2453), ('I498', 2453), ('G4733', 2380), ('I97710', 2343), ('I9788', 2343), ('I97790', 2343), ('I9789', 2343), ('N170', 2287), ('E870', 2272), ('P590', 2264), ('J45909', 2195), ('J45998', 2195), ('E875', 2167), ('J9819', 2165), ('J9811', 2165), ('I272', 2148), ('I2789', 2148), ('I9581', 2121), ('I952', 2121), ('M109', 2082), ('I959', 2051), ('Z412', 2016), ('M810', 1946), ('R569', 1934), ('N186', 1926), ('I472', 1811), ('I428', 1709), ('I425', 1709), ('I200', 1663), ('Z86718', 1611), ('E1342', 1584), ('E0942', 1584), ('E1042', 1584), ('E1142', 1584), ('E0842', 1584), ('F419', 1580), ('E669', 1511), ('Y848', 1502), ('N400', 1490), ('R7881', 1478), ('F05', 1445), ('A047', 1444), ('E876', 1425), ('I739', 1401), ('K922', 1397), ('Z950', 1390), ('E860', 1384), ('D631', 1383), ('E861', 1374), ('I619', 1367), ('I469', 1361), ('Y838', 1350), ('Z66', 1327), ('P220', 1314), ('R0902', 1298), ('L89139', 1289), ('L89149', 1289), ('L89159', 1289), ('K740', 1287), ('K7460', 1287), ('K7469', 1287), ('Z853', 1277), ('E46', 1259), ('I5032', 1240), ('I5033', 1220), ('B182', 1218), ('I4892', 1217), ('Y832', 1211), ('Z8546', 1207)]\n"
          ],
          "name": "stdout"
        }
      ]
    },
    {
      "cell_type": "code",
      "metadata": {
        "id": "VZqFxsBy5lag"
      },
      "source": [
        ""
      ],
      "execution_count": null,
      "outputs": []
    },
    {
      "cell_type": "markdown",
      "metadata": {
        "id": "Z5FO-nMB6ID9"
      },
      "source": [
        "# ICD10 code PCS"
      ]
    },
    {
      "cell_type": "code",
      "metadata": {
        "id": "PdvEU7ks6KFg"
      },
      "source": [
        "admid_icdpcs=pd.read_csv('/content/drive/MyDrive/AlgoIntern/Data/Data1.0/adm_icdpcs.csv')"
      ],
      "execution_count": 22,
      "outputs": []
    },
    {
      "cell_type": "code",
      "metadata": {
        "colab": {
          "base_uri": "https://localhost:8080/",
          "height": 419
        },
        "id": "-kbPWpae6qYO",
        "outputId": "b3c95c31-0cb2-400f-afbd-8d9850288266"
      },
      "source": [
        "admid_icdpcs"
      ],
      "execution_count": 23,
      "outputs": [
        {
          "output_type": "execute_result",
          "data": {
            "text/html": [
              "<div>\n",
              "<style scoped>\n",
              "    .dataframe tbody tr th:only-of-type {\n",
              "        vertical-align: middle;\n",
              "    }\n",
              "\n",
              "    .dataframe tbody tr th {\n",
              "        vertical-align: top;\n",
              "    }\n",
              "\n",
              "    .dataframe thead th {\n",
              "        text-align: right;\n",
              "    }\n",
              "</style>\n",
              "<table border=\"1\" class=\"dataframe\">\n",
              "  <thead>\n",
              "    <tr style=\"text-align: right;\">\n",
              "      <th></th>\n",
              "      <th>HADM_ID</th>\n",
              "      <th>ICD9_CODE</th>\n",
              "      <th>icd10_pcs</th>\n",
              "    </tr>\n",
              "  </thead>\n",
              "  <tbody>\n",
              "    <tr>\n",
              "      <th>0</th>\n",
              "      <td>100003</td>\n",
              "      <td>3893,9904,9607,4443</td>\n",
              "      <td>0D9.670Z,Misc,0W3.P8ZZ,0D9.680Z</td>\n",
              "    </tr>\n",
              "    <tr>\n",
              "      <th>1</th>\n",
              "      <td>100006</td>\n",
              "      <td>9925,9390</td>\n",
              "      <td>5A0.9557,3E0.3305,5A0.9457,XW0.3351,3E0.4305,5...</td>\n",
              "    </tr>\n",
              "    <tr>\n",
              "      <th>2</th>\n",
              "      <td>100007</td>\n",
              "      <td>4562,5459</td>\n",
              "      <td>Misc</td>\n",
              "    </tr>\n",
              "    <tr>\n",
              "      <th>3</th>\n",
              "      <td>100009</td>\n",
              "      <td>3615,3961,3795,3613</td>\n",
              "      <td>5A1.221Z,Misc</td>\n",
              "    </tr>\n",
              "    <tr>\n",
              "      <th>4</th>\n",
              "      <td>100010</td>\n",
              "      <td>5551,540,403</td>\n",
              "      <td>Misc</td>\n",
              "    </tr>\n",
              "    <tr>\n",
              "      <th>...</th>\n",
              "      <td>...</td>\n",
              "      <td>...</td>\n",
              "      <td>...</td>\n",
              "    </tr>\n",
              "    <tr>\n",
              "      <th>52238</th>\n",
              "      <td>199993</td>\n",
              "      <td>8848,9604,3512,3761,3614,9672,9390,3404,8842,3...</td>\n",
              "      <td>0W9.B30Z,02N.G0ZZ,5A0.9557,02Q.G0ZZ,5A0.9457,0...</td>\n",
              "    </tr>\n",
              "    <tr>\n",
              "      <th>52239</th>\n",
              "      <td>199994</td>\n",
              "      <td>9671,3995,9604,3891</td>\n",
              "      <td>5A1.D00Z,5A1.945Z,0BH.18EZ,Misc,5A1.935Z,5A1.D...</td>\n",
              "    </tr>\n",
              "    <tr>\n",
              "      <th>52240</th>\n",
              "      <td>199995</td>\n",
              "      <td>3521,9929,8841,3845,3539,3961,3699,8847,8872</td>\n",
              "      <td>5A1.221Z,Misc</td>\n",
              "    </tr>\n",
              "    <tr>\n",
              "      <th>52241</th>\n",
              "      <td>199998</td>\n",
              "      <td>3615,3612,3964</td>\n",
              "      <td>Misc</td>\n",
              "    </tr>\n",
              "    <tr>\n",
              "      <th>52242</th>\n",
              "      <td>199999</td>\n",
              "      <td>3491</td>\n",
              "      <td>0W9.B3ZZ,0W9.93ZZ</td>\n",
              "    </tr>\n",
              "  </tbody>\n",
              "</table>\n",
              "<p>52243 rows × 3 columns</p>\n",
              "</div>"
            ],
            "text/plain": [
              "       HADM_ID  ...                                          icd10_pcs\n",
              "0       100003  ...                    0D9.670Z,Misc,0W3.P8ZZ,0D9.680Z\n",
              "1       100006  ...  5A0.9557,3E0.3305,5A0.9457,XW0.3351,3E0.4305,5...\n",
              "2       100007  ...                                               Misc\n",
              "3       100009  ...                                      5A1.221Z,Misc\n",
              "4       100010  ...                                               Misc\n",
              "...        ...  ...                                                ...\n",
              "52238   199993  ...  0W9.B30Z,02N.G0ZZ,5A0.9557,02Q.G0ZZ,5A0.9457,0...\n",
              "52239   199994  ...  5A1.D00Z,5A1.945Z,0BH.18EZ,Misc,5A1.935Z,5A1.D...\n",
              "52240   199995  ...                                      5A1.221Z,Misc\n",
              "52241   199998  ...                                               Misc\n",
              "52242   199999  ...                                  0W9.B3ZZ,0W9.93ZZ\n",
              "\n",
              "[52243 rows x 3 columns]"
            ]
          },
          "metadata": {
            "tags": []
          },
          "execution_count": 23
        }
      ]
    },
    {
      "cell_type": "code",
      "metadata": {
        "colab": {
          "base_uri": "https://localhost:8080/",
          "height": 265
        },
        "id": "jWLO-HWN6rsZ",
        "outputId": "3d135d5c-bd42-4cf9-afba-d8edd63b282c"
      },
      "source": [
        "# distribution of number of ICD10 PCS codes for given admid\r\n",
        "plt.hist(admid_icdpcs.icd10_pcs.apply(lambda x:len([code for code in re.split(',',x) if code != 'Misc'])))\r\n",
        "plt.grid(True)"
      ],
      "execution_count": 24,
      "outputs": [
        {
          "output_type": "display_data",
          "data": {
            "image/png": "[encoded data removed]",
            "text/plain": [
              "<Figure size 432x288 with 1 Axes>"
            ]
          },
          "metadata": {
            "tags": [],
            "needs_background": "light"
          }
        }
      ]
    },
    {
      "cell_type": "code",
      "metadata": {
        "colab": {
          "base_uri": "https://localhost:8080/"
        },
        "id": "UgGRVjks62dw",
        "outputId": "eb716d4d-508d-4507-86ad-9242e1875724"
      },
      "source": [
        "print(\" Mean number of ICD10 PCS codes for given admid :\",sum(admid_icdpcs.icd10_pcs.apply(lambda x:len([code for code in re.split(',',x) if code != 'Misc'])))/len(admid_icdpcs))"
      ],
      "execution_count": 25,
      "outputs": [
        {
          "output_type": "stream",
          "text": [
            " Mean number of ICD10 PCS codes for given admid : 3.7746109526635148\n"
          ],
          "name": "stdout"
        }
      ]
    },
    {
      "cell_type": "code",
      "metadata": {
        "colab": {
          "base_uri": "https://localhost:8080/"
        },
        "id": "Inhiyg9Z7C0a",
        "outputId": "df205a79-6ffa-44d5-fdab-bf127eeb7a48"
      },
      "source": [
        "print(\" Median number of ICD10 PCS codes for given admid :\",admid_icdpcs.icd10_pcs.apply(lambda x:len([code for code in re.split(',',x) if code != 'Misc'])).median())"
      ],
      "execution_count": 26,
      "outputs": [
        {
          "output_type": "stream",
          "text": [
            " Median number of ICD10 PCS codes for given admid : 3.0\n"
          ],
          "name": "stdout"
        }
      ]
    },
    {
      "cell_type": "code",
      "metadata": {
        "id": "LcPv2gcV7MUH"
      },
      "source": [
        "icd10pcs_freq=sorted(\r\n",
        "    dict(\r\n",
        "        Counter(\r\n",
        "            [code for innerlist in admid_icdpcs.icd10_pcs.to_list() for code in re.split(',',innerlist) if code != 'Misc' ]\r\n",
        "        )\r\n",
        "    ).items(),\r\n",
        "    key=lambda x:x[1],reverse=True\r\n",
        ")"
      ],
      "execution_count": 27,
      "outputs": []
    },
    {
      "cell_type": "code",
      "metadata": {
        "colab": {
          "base_uri": "https://localhost:8080/"
        },
        "id": "nzg_NYPi7Y0u",
        "outputId": "46df4cf7-ecfb-4e01-a3d9-375c7075c364"
      },
      "source": [
        "print(icd10pcs_freq)"
      ],
      "execution_count": 29,
      "outputs": [
        {
          "output_type": "stream",
          "text": [
            "[('0BH.18EZ', 9882), ('0BH.17EZ', 9882), ('0DH.68UZ', 9241), ('3E0.G36Z', 9241), ('0DH.67UZ', 9241), ('5A1.935Z', 8904), ('5A1.945Z', 8904), ('5A1.221Z', 6809), ('5A1.955Z', 5930), ('3E0.234Z', 5813), ('3E0.134Z', 5813), ('3E0.436Z', 4233), ('3E0.336Z', 4233), ('3E0.536Z', 4233), ('3E0.636Z', 4233), ('4A0.20N7', 3209), ('4A0.23N7', 3209), ('5A1.D00Z', 3207), ('5A1.D60Z', 3207), ('5A0.9557', 2720), ('5A0.9457', 2720), ('5A0.9357', 2720), ('4A0.23N8', 2669), ('4A0.20N8', 2669), ('0DJ.08ZZ', 2614), ('6A6.00ZZ', 2400), ('0BJ.08ZZ', 2277), ('0VT.T4ZZ', 2123), ('0VT.T0ZZ', 2123), ('0VT.TXZZ', 2123), ('0BJ.L8ZZ', 1996), ('0BJ.K8ZZ', 1996), ('0W9.B3ZZ', 1613), ('0W9.93ZZ', 1613), ('0W9.B30Z', 1571), ('0W9.B40Z', 1571), ('0W9.930Z', 1571), ('0W9.940Z', 1571), ('0DH.64UZ', 1532), ('0DH.63UZ', 1532), ('06H.Y33Z', 1526), ('05H.Y33Z', 1526), ('302.53R1', 1233), ('302.63R1', 1233), ('302.33R1', 1233), ('302.43R1', 1233), ('5A0.2210', 1010), ('5A0.2110', 1010), ('5A2.204Z', 778), ('0DJ.D8ZZ', 765), ('3E0.4317', 680), ('3E0.8317', 680), ('3E0.6317', 680), ('3E0.5317', 680), ('3E0.3317', 680), ('08Q.M3ZZ', 630), ('08Q.L0ZZ', 630), ('08Q.L3ZZ', 630), ('08Q.M0ZZ', 630), ('5A1.2012', 628), ('0W3.P8ZZ', 605), ('0B7.18DZ', 582), ('0WH.Q7YZ', 582), ('0BH.07DZ', 582), ('0B7.17DZ', 582), ('4A0.20N6', 564), ('4A0.23N6', 564), ('0D9.670Z', 556), ('0D9.680Z', 556), ('3E0.3305', 510), ('XW0.3351', 510), ('3E0.4305', 510), ('XW0.4351', 510), ('02R.F4JZ', 510), ('02R.F0JZ', 510), ('5A1.223Z', 457), ('5A1.213Z', 457), ('0FT.40ZZ', 449), ('0JH.806Z', 449), ('0JH.606Z', 449), ('0JH.636Z', 449), ('0JH.836Z', 449), ('0F9.C80Z', 439), ('0F9.C8ZZ', 439), ('3E0.53KZ', 412), ('4A0.23FZ', 412), ('3E0.63KZ', 412), ('02N.G0ZZ', 410), ('02Q.G0ZZ', 410), ('027.G0ZZ', 410), ('027.G0DZ', 410), ('027.G04Z', 410), ('06H.033T', 398)]\n"
          ],
          "name": "stdout"
        }
      ]
    },
    {
      "cell_type": "code",
      "metadata": {
        "id": "DruF2Sbd7Z7P"
      },
      "source": [
        ""
      ],
      "execution_count": null,
      "outputs": []
    }
  ]
}