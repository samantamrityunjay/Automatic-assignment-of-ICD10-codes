{
  "nbformat": 4,
  "nbformat_minor": 0,
  "metadata": {
    "colab": {
      "name": "NonAI_similarity.ipynb",
      "provenance": [],
      "collapsed_sections": [],
      "authorship_tag": "ABX9TyN49L3fnazBIw/IeTCwWBDt",
      "include_colab_link": true
    },
    "kernelspec": {
      "display_name": "Python 3",
      "name": "python3"
    },
    "widgets": {
      "application/vnd.jupyter.widget-state+json": {
        "70d64ecbaf4d4fb79431ed6f7b6820e2": {
          "model_module": "@jupyter-widgets/controls",
          "model_name": "HBoxModel",
          "state": {
            "_dom_classes": [],
            "_model_module": "@jupyter-widgets/controls",
            "_model_module_version": "1.5.0",
            "_model_name": "HBoxModel",
            "_view_count": null,
            "_view_module": "@jupyter-widgets/controls",
            "_view_module_version": "1.5.0",
            "_view_name": "HBoxView",
            "box_style": "",
            "children": [
              "IPY_MODEL_452f172011664ffebe0d9a203de50053",
              "IPY_MODEL_0cabac9f963e4bbda5be56a4eece0283"
            ],
            "layout": "IPY_MODEL_ec231f7075a5456dbb1f579fc30bd69b"
          }
        },
        "452f172011664ffebe0d9a203de50053": {
          "model_module": "@jupyter-widgets/controls",
          "model_name": "FloatProgressModel",
          "state": {
            "_dom_classes": [],
            "_model_module": "@jupyter-widgets/controls",
            "_model_module_version": "1.5.0",
            "_model_name": "FloatProgressModel",
            "_view_count": null,
            "_view_module": "@jupyter-widgets/controls",
            "_view_module_version": "1.5.0",
            "_view_name": "ProgressView",
            "bar_style": "success",
            "description": "100%",
            "description_tooltip": null,
            "layout": "IPY_MODEL_3d80e3c169cc47698a2b26acbd23def0",
            "max": 41967,
            "min": 0,
            "orientation": "horizontal",
            "style": "IPY_MODEL_e844a7d578e94806b627d9461268a8b0",
            "value": 41967
          }
        },
        "0cabac9f963e4bbda5be56a4eece0283": {
          "model_module": "@jupyter-widgets/controls",
          "model_name": "HTMLModel",
          "state": {
            "_dom_classes": [],
            "_model_module": "@jupyter-widgets/controls",
            "_model_module_version": "1.5.0",
            "_model_name": "HTMLModel",
            "_view_count": null,
            "_view_module": "@jupyter-widgets/controls",
            "_view_module_version": "1.5.0",
            "_view_name": "HTMLView",
            "description": "",
            "description_tooltip": null,
            "layout": "IPY_MODEL_8412e883273942f99bd6b0edef6d9f3f",
            "placeholder": "​",
            "style": "IPY_MODEL_a96a28766bbe4a22ae34c38279559eca",
            "value": " 41967/41967 [1:03:16&lt;00:00, 11.05it/s]"
          }
        },
        "ec231f7075a5456dbb1f579fc30bd69b": {
          "model_module": "@jupyter-widgets/base",
          "model_name": "LayoutModel",
          "state": {
            "_model_module": "@jupyter-widgets/base",
            "_model_module_version": "1.2.0",
            "_model_name": "LayoutModel",
            "_view_count": null,
            "_view_module": "@jupyter-widgets/base",
            "_view_module_version": "1.2.0",
            "_view_name": "LayoutView",
            "align_content": null,
            "align_items": null,
            "align_self": null,
            "border": null,
            "bottom": null,
            "display": null,
            "flex": null,
            "flex_flow": null,
            "grid_area": null,
            "grid_auto_columns": null,
            "grid_auto_flow": null,
            "grid_auto_rows": null,
            "grid_column": null,
            "grid_gap": null,
            "grid_row": null,
            "grid_template_areas": null,
            "grid_template_columns": null,
            "grid_template_rows": null,
            "height": null,
            "justify_content": null,
            "justify_items": null,
            "left": null,
            "margin": null,
            "max_height": null,
            "max_width": null,
            "min_height": null,
            "min_width": null,
            "object_fit": null,
            "object_position": null,
            "order": null,
            "overflow": null,
            "overflow_x": null,
            "overflow_y": null,
            "padding": null,
            "right": null,
            "top": null,
            "visibility": null,
            "width": null
          }
        },
        "3d80e3c169cc47698a2b26acbd23def0": {
          "model_module": "@jupyter-widgets/base",
          "model_name": "LayoutModel",
          "state": {
            "_model_module": "@jupyter-widgets/base",
            "_model_module_version": "1.2.0",
            "_model_name": "LayoutModel",
            "_view_count": null,
            "_view_module": "@jupyter-widgets/base",
            "_view_module_version": "1.2.0",
            "_view_name": "LayoutView",
            "align_content": null,
            "align_items": null,
            "align_self": null,
            "border": null,
            "bottom": null,
            "display": null,
            "flex": null,
            "flex_flow": null,
            "grid_area": null,
            "grid_auto_columns": null,
            "grid_auto_flow": null,
            "grid_auto_rows": null,
            "grid_column": null,
            "grid_gap": null,
            "grid_row": null,
            "grid_template_areas": null,
            "grid_template_columns": null,
            "grid_template_rows": null,
            "height": null,
            "justify_content": null,
            "justify_items": null,
            "left": null,
            "margin": null,
            "max_height": null,
            "max_width": null,
            "min_height": null,
            "min_width": null,
            "object_fit": null,
            "object_position": null,
            "order": null,
            "overflow": null,
            "overflow_x": null,
            "overflow_y": null,
            "padding": null,
            "right": null,
            "top": null,
            "visibility": null,
            "width": null
          }
        },
        "e844a7d578e94806b627d9461268a8b0": {
          "model_module": "@jupyter-widgets/controls",
          "model_name": "ProgressStyleModel",
          "state": {
            "_model_module": "@jupyter-widgets/controls",
            "_model_module_version": "1.5.0",
            "_model_name": "ProgressStyleModel",
            "_view_count": null,
            "_view_module": "@jupyter-widgets/base",
            "_view_module_version": "1.2.0",
            "_view_name": "StyleView",
            "bar_color": null,
            "description_width": "initial"
          }
        },
        "8412e883273942f99bd6b0edef6d9f3f": {
          "model_module": "@jupyter-widgets/base",
          "model_name": "LayoutModel",
          "state": {
            "_model_module": "@jupyter-widgets/base",
            "_model_module_version": "1.2.0",
            "_model_name": "LayoutModel",
            "_view_count": null,
            "_view_module": "@jupyter-widgets/base",
            "_view_module_version": "1.2.0",
            "_view_name": "LayoutView",
            "align_content": null,
            "align_items": null,
            "align_self": null,
            "border": null,
            "bottom": null,
            "display": null,
            "flex": null,
            "flex_flow": null,
            "grid_area": null,
            "grid_auto_columns": null,
            "grid_auto_flow": null,
            "grid_auto_rows": null,
            "grid_column": null,
            "grid_gap": null,
            "grid_row": null,
            "grid_template_areas": null,
            "grid_template_columns": null,
            "grid_template_rows": null,
            "height": null,
            "justify_content": null,
            "justify_items": null,
            "left": null,
            "margin": null,
            "max_height": null,
            "max_width": null,
            "min_height": null,
            "min_width": null,
            "object_fit": null,
            "object_position": null,
            "order": null,
            "overflow": null,
            "overflow_x": null,
            "overflow_y": null,
            "padding": null,
            "right": null,
            "top": null,
            "visibility": null,
            "width": null
          }
        },
        "a96a28766bbe4a22ae34c38279559eca": {
          "model_module": "@jupyter-widgets/controls",
          "model_name": "DescriptionStyleModel",
          "state": {
            "_model_module": "@jupyter-widgets/controls",
            "_model_module_version": "1.5.0",
            "_model_name": "DescriptionStyleModel",
            "_view_count": null,
            "_view_module": "@jupyter-widgets/base",
            "_view_module_version": "1.2.0",
            "_view_name": "StyleView",
            "description_width": ""
          }
        },
        "8c70a7f4dcd640de8aa90524031ee57c": {
          "model_module": "@jupyter-widgets/controls",
          "model_name": "HBoxModel",
          "state": {
            "_dom_classes": [],
            "_model_module": "@jupyter-widgets/controls",
            "_model_module_version": "1.5.0",
            "_model_name": "HBoxModel",
            "_view_count": null,
            "_view_module": "@jupyter-widgets/controls",
            "_view_module_version": "1.5.0",
            "_view_name": "HBoxView",
            "box_style": "",
            "children": [
              "IPY_MODEL_1002ed39b8804918a7c771e711471a56",
              "IPY_MODEL_3ae8588b8b7e4f228bf9167df4bd4ea7"
            ],
            "layout": "IPY_MODEL_297ffdeae96744f2a45976b061ab82e3"
          }
        },
        "1002ed39b8804918a7c771e711471a56": {
          "model_module": "@jupyter-widgets/controls",
          "model_name": "FloatProgressModel",
          "state": {
            "_dom_classes": [],
            "_model_module": "@jupyter-widgets/controls",
            "_model_module_version": "1.5.0",
            "_model_name": "FloatProgressModel",
            "_view_count": null,
            "_view_module": "@jupyter-widgets/controls",
            "_view_module_version": "1.5.0",
            "_view_name": "ProgressView",
            "bar_style": "success",
            "description": "100%",
            "description_tooltip": null,
            "layout": "IPY_MODEL_8effa7a01e774e5db9a5248151610e13",
            "max": 41967,
            "min": 0,
            "orientation": "horizontal",
            "style": "IPY_MODEL_422dc91502dd4dcab14dbe3e423c3c2b",
            "value": 41967
          }
        },
        "3ae8588b8b7e4f228bf9167df4bd4ea7": {
          "model_module": "@jupyter-widgets/controls",
          "model_name": "HTMLModel",
          "state": {
            "_dom_classes": [],
            "_model_module": "@jupyter-widgets/controls",
            "_model_module_version": "1.5.0",
            "_model_name": "HTMLModel",
            "_view_count": null,
            "_view_module": "@jupyter-widgets/controls",
            "_view_module_version": "1.5.0",
            "_view_name": "HTMLView",
            "description": "",
            "description_tooltip": null,
            "layout": "IPY_MODEL_8fe8344679b8404ca12e70c6c967100a",
            "placeholder": "​",
            "style": "IPY_MODEL_e387343bc8e54c4dbda1a3c8e190b90d",
            "value": " 41967/41967 [1:03:13&lt;00:00, 11.06it/s]"
          }
        },
        "297ffdeae96744f2a45976b061ab82e3": {
          "model_module": "@jupyter-widgets/base",
          "model_name": "LayoutModel",
          "state": {
            "_model_module": "@jupyter-widgets/base",
            "_model_module_version": "1.2.0",
            "_model_name": "LayoutModel",
            "_view_count": null,
            "_view_module": "@jupyter-widgets/base",
            "_view_module_version": "1.2.0",
            "_view_name": "LayoutView",
            "align_content": null,
            "align_items": null,
            "align_self": null,
            "border": null,
            "bottom": null,
            "display": null,
            "flex": null,
            "flex_flow": null,
            "grid_area": null,
            "grid_auto_columns": null,
            "grid_auto_flow": null,
            "grid_auto_rows": null,
            "grid_column": null,
            "grid_gap": null,
            "grid_row": null,
            "grid_template_areas": null,
            "grid_template_columns": null,
            "grid_template_rows": null,
            "height": null,
            "justify_content": null,
            "justify_items": null,
            "left": null,
            "margin": null,
            "max_height": null,
            "max_width": null,
            "min_height": null,
            "min_width": null,
            "object_fit": null,
            "object_position": null,
            "order": null,
            "overflow": null,
            "overflow_x": null,
            "overflow_y": null,
            "padding": null,
            "right": null,
            "top": null,
            "visibility": null,
            "width": null
          }
        },
        "8effa7a01e774e5db9a5248151610e13": {
          "model_module": "@jupyter-widgets/base",
          "model_name": "LayoutModel",
          "state": {
            "_model_module": "@jupyter-widgets/base",
            "_model_module_version": "1.2.0",
            "_model_name": "LayoutModel",
            "_view_count": null,
            "_view_module": "@jupyter-widgets/base",
            "_view_module_version": "1.2.0",
            "_view_name": "LayoutView",
            "align_content": null,
            "align_items": null,
            "align_self": null,
            "border": null,
            "bottom": null,
            "display": null,
            "flex": null,
            "flex_flow": null,
            "grid_area": null,
            "grid_auto_columns": null,
            "grid_auto_flow": null,
            "grid_auto_rows": null,
            "grid_column": null,
            "grid_gap": null,
            "grid_row": null,
            "grid_template_areas": null,
            "grid_template_columns": null,
            "grid_template_rows": null,
            "height": null,
            "justify_content": null,
            "justify_items": null,
            "left": null,
            "margin": null,
            "max_height": null,
            "max_width": null,
            "min_height": null,
            "min_width": null,
            "object_fit": null,
            "object_position": null,
            "order": null,
            "overflow": null,
            "overflow_x": null,
            "overflow_y": null,
            "padding": null,
            "right": null,
            "top": null,
            "visibility": null,
            "width": null
          }
        },
        "422dc91502dd4dcab14dbe3e423c3c2b": {
          "model_module": "@jupyter-widgets/controls",
          "model_name": "ProgressStyleModel",
          "state": {
            "_model_module": "@jupyter-widgets/controls",
            "_model_module_version": "1.5.0",
            "_model_name": "ProgressStyleModel",
            "_view_count": null,
            "_view_module": "@jupyter-widgets/base",
            "_view_module_version": "1.2.0",
            "_view_name": "StyleView",
            "bar_color": null,
            "description_width": "initial"
          }
        },
        "8fe8344679b8404ca12e70c6c967100a": {
          "model_module": "@jupyter-widgets/base",
          "model_name": "LayoutModel",
          "state": {
            "_model_module": "@jupyter-widgets/base",
            "_model_module_version": "1.2.0",
            "_model_name": "LayoutModel",
            "_view_count": null,
            "_view_module": "@jupyter-widgets/base",
            "_view_module_version": "1.2.0",
            "_view_name": "LayoutView",
            "align_content": null,
            "align_items": null,
            "align_self": null,
            "border": null,
            "bottom": null,
            "display": null,
            "flex": null,
            "flex_flow": null,
            "grid_area": null,
            "grid_auto_columns": null,
            "grid_auto_flow": null,
            "grid_auto_rows": null,
            "grid_column": null,
            "grid_gap": null,
            "grid_row": null,
            "grid_template_areas": null,
            "grid_template_columns": null,
            "grid_template_rows": null,
            "height": null,
            "justify_content": null,
            "justify_items": null,
            "left": null,
            "margin": null,
            "max_height": null,
            "max_width": null,
            "min_height": null,
            "min_width": null,
            "object_fit": null,
            "object_position": null,
            "order": null,
            "overflow": null,
            "overflow_x": null,
            "overflow_y": null,
            "padding": null,
            "right": null,
            "top": null,
            "visibility": null,
            "width": null
          }
        },
        "e387343bc8e54c4dbda1a3c8e190b90d": {
          "model_module": "@jupyter-widgets/controls",
          "model_name": "DescriptionStyleModel",
          "state": {
            "_model_module": "@jupyter-widgets/controls",
            "_model_module_version": "1.5.0",
            "_model_name": "DescriptionStyleModel",
            "_view_count": null,
            "_view_module": "@jupyter-widgets/base",
            "_view_module_version": "1.2.0",
            "_view_name": "StyleView",
            "description_width": ""
          }
        },
        "178680013e10431fbf4fb2b7a4589059": {
          "model_module": "@jupyter-widgets/controls",
          "model_name": "HBoxModel",
          "state": {
            "_dom_classes": [],
            "_model_module": "@jupyter-widgets/controls",
            "_model_module_version": "1.5.0",
            "_model_name": "HBoxModel",
            "_view_count": null,
            "_view_module": "@jupyter-widgets/controls",
            "_view_module_version": "1.5.0",
            "_view_name": "HBoxView",
            "box_style": "",
            "children": [
              "IPY_MODEL_52856d089b8b49b5bff84c7d086accb9",
              "IPY_MODEL_8a9bfc992f1a413eaf9ad6e9a9125afe"
            ],
            "layout": "IPY_MODEL_6f62e6ff7e6c4313971b62962ccd7ef8"
          }
        },
        "52856d089b8b49b5bff84c7d086accb9": {
          "model_module": "@jupyter-widgets/controls",
          "model_name": "FloatProgressModel",
          "state": {
            "_dom_classes": [],
            "_model_module": "@jupyter-widgets/controls",
            "_model_module_version": "1.5.0",
            "_model_name": "FloatProgressModel",
            "_view_count": null,
            "_view_module": "@jupyter-widgets/controls",
            "_view_module_version": "1.5.0",
            "_view_name": "ProgressView",
            "bar_style": "success",
            "description": "100%",
            "description_tooltip": null,
            "layout": "IPY_MODEL_0380d0a3aefa4f668bad6082c8e9f1f1",
            "max": 10,
            "min": 0,
            "orientation": "horizontal",
            "style": "IPY_MODEL_372413573d164123ba18155a19aa0ff6",
            "value": 10
          }
        },
        "8a9bfc992f1a413eaf9ad6e9a9125afe": {
          "model_module": "@jupyter-widgets/controls",
          "model_name": "HTMLModel",
          "state": {
            "_dom_classes": [],
            "_model_module": "@jupyter-widgets/controls",
            "_model_module_version": "1.5.0",
            "_model_name": "HTMLModel",
            "_view_count": null,
            "_view_module": "@jupyter-widgets/controls",
            "_view_module_version": "1.5.0",
            "_view_name": "HTMLView",
            "description": "",
            "description_tooltip": null,
            "layout": "IPY_MODEL_cd40d576ef5e435ba04b21cbcba9abf1",
            "placeholder": "​",
            "style": "IPY_MODEL_ffe76373b5eb4ba5859459cbc8d033dc",
            "value": " 10/10 [00:00&lt;00:00, 58.63it/s]"
          }
        },
        "6f62e6ff7e6c4313971b62962ccd7ef8": {
          "model_module": "@jupyter-widgets/base",
          "model_name": "LayoutModel",
          "state": {
            "_model_module": "@jupyter-widgets/base",
            "_model_module_version": "1.2.0",
            "_model_name": "LayoutModel",
            "_view_count": null,
            "_view_module": "@jupyter-widgets/base",
            "_view_module_version": "1.2.0",
            "_view_name": "LayoutView",
            "align_content": null,
            "align_items": null,
            "align_self": null,
            "border": null,
            "bottom": null,
            "display": null,
            "flex": null,
            "flex_flow": null,
            "grid_area": null,
            "grid_auto_columns": null,
            "grid_auto_flow": null,
            "grid_auto_rows": null,
            "grid_column": null,
            "grid_gap": null,
            "grid_row": null,
            "grid_template_areas": null,
            "grid_template_columns": null,
            "grid_template_rows": null,
            "height": null,
            "justify_content": null,
            "justify_items": null,
            "left": null,
            "margin": null,
            "max_height": null,
            "max_width": null,
            "min_height": null,
            "min_width": null,
            "object_fit": null,
            "object_position": null,
            "order": null,
            "overflow": null,
            "overflow_x": null,
            "overflow_y": null,
            "padding": null,
            "right": null,
            "top": null,
            "visibility": null,
            "width": null
          }
        },
        "0380d0a3aefa4f668bad6082c8e9f1f1": {
          "model_module": "@jupyter-widgets/base",
          "model_name": "LayoutModel",
          "state": {
            "_model_module": "@jupyter-widgets/base",
            "_model_module_version": "1.2.0",
            "_model_name": "LayoutModel",
            "_view_count": null,
            "_view_module": "@jupyter-widgets/base",
            "_view_module_version": "1.2.0",
            "_view_name": "LayoutView",
            "align_content": null,
            "align_items": null,
            "align_self": null,
            "border": null,
            "bottom": null,
            "display": null,
            "flex": null,
            "flex_flow": null,
            "grid_area": null,
            "grid_auto_columns": null,
            "grid_auto_flow": null,
            "grid_auto_rows": null,
            "grid_column": null,
            "grid_gap": null,
            "grid_row": null,
            "grid_template_areas": null,
            "grid_template_columns": null,
            "grid_template_rows": null,
            "height": null,
            "justify_content": null,
            "justify_items": null,
            "left": null,
            "margin": null,
            "max_height": null,
            "max_width": null,
            "min_height": null,
            "min_width": null,
            "object_fit": null,
            "object_position": null,
            "order": null,
            "overflow": null,
            "overflow_x": null,
            "overflow_y": null,
            "padding": null,
            "right": null,
            "top": null,
            "visibility": null,
            "width": null
          }
        },
        "372413573d164123ba18155a19aa0ff6": {
          "model_module": "@jupyter-widgets/controls",
          "model_name": "ProgressStyleModel",
          "state": {
            "_model_module": "@jupyter-widgets/controls",
            "_model_module_version": "1.5.0",
            "_model_name": "ProgressStyleModel",
            "_view_count": null,
            "_view_module": "@jupyter-widgets/base",
            "_view_module_version": "1.2.0",
            "_view_name": "StyleView",
            "bar_color": null,
            "description_width": "initial"
          }
        },
        "cd40d576ef5e435ba04b21cbcba9abf1": {
          "model_module": "@jupyter-widgets/base",
          "model_name": "LayoutModel",
          "state": {
            "_model_module": "@jupyter-widgets/base",
            "_model_module_version": "1.2.0",
            "_model_name": "LayoutModel",
            "_view_count": null,
            "_view_module": "@jupyter-widgets/base",
            "_view_module_version": "1.2.0",
            "_view_name": "LayoutView",
            "align_content": null,
            "align_items": null,
            "align_self": null,
            "border": null,
            "bottom": null,
            "display": null,
            "flex": null,
            "flex_flow": null,
            "grid_area": null,
            "grid_auto_columns": null,
            "grid_auto_flow": null,
            "grid_auto_rows": null,
            "grid_column": null,
            "grid_gap": null,
            "grid_row": null,
            "grid_template_areas": null,
            "grid_template_columns": null,
            "grid_template_rows": null,
            "height": null,
            "justify_content": null,
            "justify_items": null,
            "left": null,
            "margin": null,
            "max_height": null,
            "max_width": null,
            "min_height": null,
            "min_width": null,
            "object_fit": null,
            "object_position": null,
            "order": null,
            "overflow": null,
            "overflow_x": null,
            "overflow_y": null,
            "padding": null,
            "right": null,
            "top": null,
            "visibility": null,
            "width": null
          }
        },
        "ffe76373b5eb4ba5859459cbc8d033dc": {
          "model_module": "@jupyter-widgets/controls",
          "model_name": "DescriptionStyleModel",
          "state": {
            "_model_module": "@jupyter-widgets/controls",
            "_model_module_version": "1.5.0",
            "_model_name": "DescriptionStyleModel",
            "_view_count": null,
            "_view_module": "@jupyter-widgets/base",
            "_view_module_version": "1.2.0",
            "_view_name": "StyleView",
            "description_width": ""
          }
        },
        "19535c65fdab459a94ef68a98996dce7": {
          "model_module": "@jupyter-widgets/controls",
          "model_name": "HBoxModel",
          "state": {
            "_view_name": "HBoxView",
            "_dom_classes": [],
            "_model_name": "HBoxModel",
            "_view_module": "@jupyter-widgets/controls",
            "_model_module_version": "1.5.0",
            "_view_count": null,
            "_view_module_version": "1.5.0",
            "box_style": "",
            "layout": "IPY_MODEL_2436693cc1ab49ef9e3353e5f102f161",
            "_model_module": "@jupyter-widgets/controls",
            "children": [
              "IPY_MODEL_db49b5c989514ef48ea979c17242fcf6",
              "IPY_MODEL_a4c22cf5b6ef4ac99e6a9f05a3ccafba"
            ]
          }
        },
        "2436693cc1ab49ef9e3353e5f102f161": {
          "model_module": "@jupyter-widgets/base",
          "model_name": "LayoutModel",
          "state": {
            "_view_name": "LayoutView",
            "grid_template_rows": null,
            "right": null,
            "justify_content": null,
            "_view_module": "@jupyter-widgets/base",
            "overflow": null,
            "_model_module_version": "1.2.0",
            "_view_count": null,
            "flex_flow": null,
            "width": null,
            "min_width": null,
            "border": null,
            "align_items": null,
            "bottom": null,
            "_model_module": "@jupyter-widgets/base",
            "top": null,
            "grid_column": null,
            "overflow_y": null,
            "overflow_x": null,
            "grid_auto_flow": null,
            "grid_area": null,
            "grid_template_columns": null,
            "flex": null,
            "_model_name": "LayoutModel",
            "justify_items": null,
            "grid_row": null,
            "max_height": null,
            "align_content": null,
            "visibility": null,
            "align_self": null,
            "height": null,
            "min_height": null,
            "padding": null,
            "grid_auto_rows": null,
            "grid_gap": null,
            "max_width": null,
            "order": null,
            "_view_module_version": "1.2.0",
            "grid_template_areas": null,
            "object_position": null,
            "object_fit": null,
            "grid_auto_columns": null,
            "margin": null,
            "display": null,
            "left": null
          }
        },
        "db49b5c989514ef48ea979c17242fcf6": {
          "model_module": "@jupyter-widgets/controls",
          "model_name": "FloatProgressModel",
          "state": {
            "_view_name": "ProgressView",
            "style": "IPY_MODEL_5d6d758ed56b4095ae0903467eb308b7",
            "_dom_classes": [],
            "description": "100%",
            "_model_name": "FloatProgressModel",
            "bar_style": "success",
            "max": 41967,
            "_view_module": "@jupyter-widgets/controls",
            "_model_module_version": "1.5.0",
            "value": 41967,
            "_view_count": null,
            "_view_module_version": "1.5.0",
            "orientation": "horizontal",
            "min": 0,
            "description_tooltip": null,
            "_model_module": "@jupyter-widgets/controls",
            "layout": "IPY_MODEL_d5332d1a6313460495dd5979830d261b"
          }
        },
        "a4c22cf5b6ef4ac99e6a9f05a3ccafba": {
          "model_module": "@jupyter-widgets/controls",
          "model_name": "HTMLModel",
          "state": {
            "_view_name": "HTMLView",
            "style": "IPY_MODEL_88b82b33fbda4c35afec42ac1ef05830",
            "_dom_classes": [],
            "description": "",
            "_model_name": "HTMLModel",
            "placeholder": "​",
            "_view_module": "@jupyter-widgets/controls",
            "_model_module_version": "1.5.0",
            "value": " 41967/41967 [54:35&lt;00:00, 12.81it/s]",
            "_view_count": null,
            "_view_module_version": "1.5.0",
            "description_tooltip": null,
            "_model_module": "@jupyter-widgets/controls",
            "layout": "IPY_MODEL_806f441d2dec46a0bd7da69af1e0c9fe"
          }
        },
        "5d6d758ed56b4095ae0903467eb308b7": {
          "model_module": "@jupyter-widgets/controls",
          "model_name": "ProgressStyleModel",
          "state": {
            "_view_name": "StyleView",
            "_model_name": "ProgressStyleModel",
            "description_width": "initial",
            "_view_module": "@jupyter-widgets/base",
            "_model_module_version": "1.5.0",
            "_view_count": null,
            "_view_module_version": "1.2.0",
            "bar_color": null,
            "_model_module": "@jupyter-widgets/controls"
          }
        },
        "d5332d1a6313460495dd5979830d261b": {
          "model_module": "@jupyter-widgets/base",
          "model_name": "LayoutModel",
          "state": {
            "_view_name": "LayoutView",
            "grid_template_rows": null,
            "right": null,
            "justify_content": null,
            "_view_module": "@jupyter-widgets/base",
            "overflow": null,
            "_model_module_version": "1.2.0",
            "_view_count": null,
            "flex_flow": null,
            "width": null,
            "min_width": null,
            "border": null,
            "align_items": null,
            "bottom": null,
            "_model_module": "@jupyter-widgets/base",
            "top": null,
            "grid_column": null,
            "overflow_y": null,
            "overflow_x": null,
            "grid_auto_flow": null,
            "grid_area": null,
            "grid_template_columns": null,
            "flex": null,
            "_model_name": "LayoutModel",
            "justify_items": null,
            "grid_row": null,
            "max_height": null,
            "align_content": null,
            "visibility": null,
            "align_self": null,
            "height": null,
            "min_height": null,
            "padding": null,
            "grid_auto_rows": null,
            "grid_gap": null,
            "max_width": null,
            "order": null,
            "_view_module_version": "1.2.0",
            "grid_template_areas": null,
            "object_position": null,
            "object_fit": null,
            "grid_auto_columns": null,
            "margin": null,
            "display": null,
            "left": null
          }
        },
        "88b82b33fbda4c35afec42ac1ef05830": {
          "model_module": "@jupyter-widgets/controls",
          "model_name": "DescriptionStyleModel",
          "state": {
            "_view_name": "StyleView",
            "_model_name": "DescriptionStyleModel",
            "description_width": "",
            "_view_module": "@jupyter-widgets/base",
            "_model_module_version": "1.5.0",
            "_view_count": null,
            "_view_module_version": "1.2.0",
            "_model_module": "@jupyter-widgets/controls"
          }
        },
        "806f441d2dec46a0bd7da69af1e0c9fe": {
          "model_module": "@jupyter-widgets/base",
          "model_name": "LayoutModel",
          "state": {
            "_view_name": "LayoutView",
            "grid_template_rows": null,
            "right": null,
            "justify_content": null,
            "_view_module": "@jupyter-widgets/base",
            "overflow": null,
            "_model_module_version": "1.2.0",
            "_view_count": null,
            "flex_flow": null,
            "width": null,
            "min_width": null,
            "border": null,
            "align_items": null,
            "bottom": null,
            "_model_module": "@jupyter-widgets/base",
            "top": null,
            "grid_column": null,
            "overflow_y": null,
            "overflow_x": null,
            "grid_auto_flow": null,
            "grid_area": null,
            "grid_template_columns": null,
            "flex": null,
            "_model_name": "LayoutModel",
            "justify_items": null,
            "grid_row": null,
            "max_height": null,
            "align_content": null,
            "visibility": null,
            "align_self": null,
            "height": null,
            "min_height": null,
            "padding": null,
            "grid_auto_rows": null,
            "grid_gap": null,
            "max_width": null,
            "order": null,
            "_view_module_version": "1.2.0",
            "grid_template_areas": null,
            "object_position": null,
            "object_fit": null,
            "grid_auto_columns": null,
            "margin": null,
            "display": null,
            "left": null
          }
        },
        "c621b414d0ea438a873e032fbb6b0244": {
          "model_module": "@jupyter-widgets/controls",
          "model_name": "HBoxModel",
          "state": {
            "_view_name": "HBoxView",
            "_dom_classes": [],
            "_model_name": "HBoxModel",
            "_view_module": "@jupyter-widgets/controls",
            "_model_module_version": "1.5.0",
            "_view_count": null,
            "_view_module_version": "1.5.0",
            "box_style": "",
            "layout": "IPY_MODEL_ed5fe4350e1a4074b70fa4b940c593ec",
            "_model_module": "@jupyter-widgets/controls",
            "children": [
              "IPY_MODEL_a4b4221d0e634f09b1595a56864be982",
              "IPY_MODEL_0763a3a284e546cf844fbdc6116056ce"
            ]
          }
        },
        "ed5fe4350e1a4074b70fa4b940c593ec": {
          "model_module": "@jupyter-widgets/base",
          "model_name": "LayoutModel",
          "state": {
            "_view_name": "LayoutView",
            "grid_template_rows": null,
            "right": null,
            "justify_content": null,
            "_view_module": "@jupyter-widgets/base",
            "overflow": null,
            "_model_module_version": "1.2.0",
            "_view_count": null,
            "flex_flow": null,
            "width": null,
            "min_width": null,
            "border": null,
            "align_items": null,
            "bottom": null,
            "_model_module": "@jupyter-widgets/base",
            "top": null,
            "grid_column": null,
            "overflow_y": null,
            "overflow_x": null,
            "grid_auto_flow": null,
            "grid_area": null,
            "grid_template_columns": null,
            "flex": null,
            "_model_name": "LayoutModel",
            "justify_items": null,
            "grid_row": null,
            "max_height": null,
            "align_content": null,
            "visibility": null,
            "align_self": null,
            "height": null,
            "min_height": null,
            "padding": null,
            "grid_auto_rows": null,
            "grid_gap": null,
            "max_width": null,
            "order": null,
            "_view_module_version": "1.2.0",
            "grid_template_areas": null,
            "object_position": null,
            "object_fit": null,
            "grid_auto_columns": null,
            "margin": null,
            "display": null,
            "left": null
          }
        },
        "a4b4221d0e634f09b1595a56864be982": {
          "model_module": "@jupyter-widgets/controls",
          "model_name": "FloatProgressModel",
          "state": {
            "_view_name": "ProgressView",
            "style": "IPY_MODEL_4a7ff07c8fdc40cfac9a07ae95b3f106",
            "_dom_classes": [],
            "description": "100%",
            "_model_name": "FloatProgressModel",
            "bar_style": "success",
            "max": 41967,
            "_view_module": "@jupyter-widgets/controls",
            "_model_module_version": "1.5.0",
            "value": 41967,
            "_view_count": null,
            "_view_module_version": "1.5.0",
            "orientation": "horizontal",
            "min": 0,
            "description_tooltip": null,
            "_model_module": "@jupyter-widgets/controls",
            "layout": "IPY_MODEL_c1feb37e84a04ff7ad97cbb9ba7fdc87"
          }
        },
        "0763a3a284e546cf844fbdc6116056ce": {
          "model_module": "@jupyter-widgets/controls",
          "model_name": "HTMLModel",
          "state": {
            "_view_name": "HTMLView",
            "style": "IPY_MODEL_f0c763b7266a420cadc1a652d3945385",
            "_dom_classes": [],
            "description": "",
            "_model_name": "HTMLModel",
            "placeholder": "​",
            "_view_module": "@jupyter-widgets/controls",
            "_model_module_version": "1.5.0",
            "value": " 41967/41967 [49:28&lt;00:00, 14.14it/s]",
            "_view_count": null,
            "_view_module_version": "1.5.0",
            "description_tooltip": null,
            "_model_module": "@jupyter-widgets/controls",
            "layout": "IPY_MODEL_e4b8d3eb5a164f5b83af1d582a3834b7"
          }
        },
        "4a7ff07c8fdc40cfac9a07ae95b3f106": {
          "model_module": "@jupyter-widgets/controls",
          "model_name": "ProgressStyleModel",
          "state": {
            "_view_name": "StyleView",
            "_model_name": "ProgressStyleModel",
            "description_width": "initial",
            "_view_module": "@jupyter-widgets/base",
            "_model_module_version": "1.5.0",
            "_view_count": null,
            "_view_module_version": "1.2.0",
            "bar_color": null,
            "_model_module": "@jupyter-widgets/controls"
          }
        },
        "c1feb37e84a04ff7ad97cbb9ba7fdc87": {
          "model_module": "@jupyter-widgets/base",
          "model_name": "LayoutModel",
          "state": {
            "_view_name": "LayoutView",
            "grid_template_rows": null,
            "right": null,
            "justify_content": null,
            "_view_module": "@jupyter-widgets/base",
            "overflow": null,
            "_model_module_version": "1.2.0",
            "_view_count": null,
            "flex_flow": null,
            "width": null,
            "min_width": null,
            "border": null,
            "align_items": null,
            "bottom": null,
            "_model_module": "@jupyter-widgets/base",
            "top": null,
            "grid_column": null,
            "overflow_y": null,
            "overflow_x": null,
            "grid_auto_flow": null,
            "grid_area": null,
            "grid_template_columns": null,
            "flex": null,
            "_model_name": "LayoutModel",
            "justify_items": null,
            "grid_row": null,
            "max_height": null,
            "align_content": null,
            "visibility": null,
            "align_self": null,
            "height": null,
            "min_height": null,
            "padding": null,
            "grid_auto_rows": null,
            "grid_gap": null,
            "max_width": null,
            "order": null,
            "_view_module_version": "1.2.0",
            "grid_template_areas": null,
            "object_position": null,
            "object_fit": null,
            "grid_auto_columns": null,
            "margin": null,
            "display": null,
            "left": null
          }
        },
        "f0c763b7266a420cadc1a652d3945385": {
          "model_module": "@jupyter-widgets/controls",
          "model_name": "DescriptionStyleModel",
          "state": {
            "_view_name": "StyleView",
            "_model_name": "DescriptionStyleModel",
            "description_width": "",
            "_view_module": "@jupyter-widgets/base",
            "_model_module_version": "1.5.0",
            "_view_count": null,
            "_view_module_version": "1.2.0",
            "_model_module": "@jupyter-widgets/controls"
          }
        },
        "e4b8d3eb5a164f5b83af1d582a3834b7": {
          "model_module": "@jupyter-widgets/base",
          "model_name": "LayoutModel",
          "state": {
            "_view_name": "LayoutView",
            "grid_template_rows": null,
            "right": null,
            "justify_content": null,
            "_view_module": "@jupyter-widgets/base",
            "overflow": null,
            "_model_module_version": "1.2.0",
            "_view_count": null,
            "flex_flow": null,
            "width": null,
            "min_width": null,
            "border": null,
            "align_items": null,
            "bottom": null,
            "_model_module": "@jupyter-widgets/base",
            "top": null,
            "grid_column": null,
            "overflow_y": null,
            "overflow_x": null,
            "grid_auto_flow": null,
            "grid_area": null,
            "grid_template_columns": null,
            "flex": null,
            "_model_name": "LayoutModel",
            "justify_items": null,
            "grid_row": null,
            "max_height": null,
            "align_content": null,
            "visibility": null,
            "align_self": null,
            "height": null,
            "min_height": null,
            "padding": null,
            "grid_auto_rows": null,
            "grid_gap": null,
            "max_width": null,
            "order": null,
            "_view_module_version": "1.2.0",
            "grid_template_areas": null,
            "object_position": null,
            "object_fit": null,
            "grid_auto_columns": null,
            "margin": null,
            "display": null,
            "left": null
          }
        },
        "ca2d98d6bc0c463abf3806fff04dd00a": {
          "model_module": "@jupyter-widgets/controls",
          "model_name": "HBoxModel",
          "state": {
            "_dom_classes": [],
            "_model_module": "@jupyter-widgets/controls",
            "_model_module_version": "1.5.0",
            "_model_name": "HBoxModel",
            "_view_count": null,
            "_view_module": "@jupyter-widgets/controls",
            "_view_module_version": "1.5.0",
            "_view_name": "HBoxView",
            "box_style": "",
            "children": [
              "IPY_MODEL_8f5e459a3ac84d5997a32a9e5379cdc1",
              "IPY_MODEL_5805add74ebb4ee8ac13f670d6207884"
            ],
            "layout": "IPY_MODEL_01eef74b50d1464dbb8a56dcad55a136"
          }
        },
        "8f5e459a3ac84d5997a32a9e5379cdc1": {
          "model_module": "@jupyter-widgets/controls",
          "model_name": "FloatProgressModel",
          "state": {
            "_dom_classes": [],
            "_model_module": "@jupyter-widgets/controls",
            "_model_module_version": "1.5.0",
            "_model_name": "FloatProgressModel",
            "_view_count": null,
            "_view_module": "@jupyter-widgets/controls",
            "_view_module_version": "1.5.0",
            "_view_name": "ProgressView",
            "bar_style": "success",
            "description": "100%",
            "description_tooltip": null,
            "layout": "IPY_MODEL_f8823d864505410e95ed73a666989ceb",
            "max": 41967,
            "min": 0,
            "orientation": "horizontal",
            "style": "IPY_MODEL_6ecc30e4cace4bdb8cff6b8b05825063",
            "value": 41967
          }
        },
        "5805add74ebb4ee8ac13f670d6207884": {
          "model_module": "@jupyter-widgets/controls",
          "model_name": "HTMLModel",
          "state": {
            "_dom_classes": [],
            "_model_module": "@jupyter-widgets/controls",
            "_model_module_version": "1.5.0",
            "_model_name": "HTMLModel",
            "_view_count": null,
            "_view_module": "@jupyter-widgets/controls",
            "_view_module_version": "1.5.0",
            "_view_name": "HTMLView",
            "description": "",
            "description_tooltip": null,
            "layout": "IPY_MODEL_60d454a9e32f4acd92845a3b1c7ebc71",
            "placeholder": "​",
            "style": "IPY_MODEL_e45e31870dde4d51bf97ef72fc4e4740",
            "value": " 41967/41967 [00:00&lt;00:00, 69609.93it/s]"
          }
        },
        "01eef74b50d1464dbb8a56dcad55a136": {
          "model_module": "@jupyter-widgets/base",
          "model_name": "LayoutModel",
          "state": {
            "_model_module": "@jupyter-widgets/base",
            "_model_module_version": "1.2.0",
            "_model_name": "LayoutModel",
            "_view_count": null,
            "_view_module": "@jupyter-widgets/base",
            "_view_module_version": "1.2.0",
            "_view_name": "LayoutView",
            "align_content": null,
            "align_items": null,
            "align_self": null,
            "border": null,
            "bottom": null,
            "display": null,
            "flex": null,
            "flex_flow": null,
            "grid_area": null,
            "grid_auto_columns": null,
            "grid_auto_flow": null,
            "grid_auto_rows": null,
            "grid_column": null,
            "grid_gap": null,
            "grid_row": null,
            "grid_template_areas": null,
            "grid_template_columns": null,
            "grid_template_rows": null,
            "height": null,
            "justify_content": null,
            "justify_items": null,
            "left": null,
            "margin": null,
            "max_height": null,
            "max_width": null,
            "min_height": null,
            "min_width": null,
            "object_fit": null,
            "object_position": null,
            "order": null,
            "overflow": null,
            "overflow_x": null,
            "overflow_y": null,
            "padding": null,
            "right": null,
            "top": null,
            "visibility": null,
            "width": null
          }
        },
        "f8823d864505410e95ed73a666989ceb": {
          "model_module": "@jupyter-widgets/base",
          "model_name": "LayoutModel",
          "state": {
            "_model_module": "@jupyter-widgets/base",
            "_model_module_version": "1.2.0",
            "_model_name": "LayoutModel",
            "_view_count": null,
            "_view_module": "@jupyter-widgets/base",
            "_view_module_version": "1.2.0",
            "_view_name": "LayoutView",
            "align_content": null,
            "align_items": null,
            "align_self": null,
            "border": null,
            "bottom": null,
            "display": null,
            "flex": null,
            "flex_flow": null,
            "grid_area": null,
            "grid_auto_columns": null,
            "grid_auto_flow": null,
            "grid_auto_rows": null,
            "grid_column": null,
            "grid_gap": null,
            "grid_row": null,
            "grid_template_areas": null,
            "grid_template_columns": null,
            "grid_template_rows": null,
            "height": null,
            "justify_content": null,
            "justify_items": null,
            "left": null,
            "margin": null,
            "max_height": null,
            "max_width": null,
            "min_height": null,
            "min_width": null,
            "object_fit": null,
            "object_position": null,
            "order": null,
            "overflow": null,
            "overflow_x": null,
            "overflow_y": null,
            "padding": null,
            "right": null,
            "top": null,
            "visibility": null,
            "width": null
          }
        },
        "6ecc30e4cace4bdb8cff6b8b05825063": {
          "model_module": "@jupyter-widgets/controls",
          "model_name": "ProgressStyleModel",
          "state": {
            "_model_module": "@jupyter-widgets/controls",
            "_model_module_version": "1.5.0",
            "_model_name": "ProgressStyleModel",
            "_view_count": null,
            "_view_module": "@jupyter-widgets/base",
            "_view_module_version": "1.2.0",
            "_view_name": "StyleView",
            "bar_color": null,
            "description_width": "initial"
          }
        },
        "60d454a9e32f4acd92845a3b1c7ebc71": {
          "model_module": "@jupyter-widgets/base",
          "model_name": "LayoutModel",
          "state": {
            "_model_module": "@jupyter-widgets/base",
            "_model_module_version": "1.2.0",
            "_model_name": "LayoutModel",
            "_view_count": null,
            "_view_module": "@jupyter-widgets/base",
            "_view_module_version": "1.2.0",
            "_view_name": "LayoutView",
            "align_content": null,
            "align_items": null,
            "align_self": null,
            "border": null,
            "bottom": null,
            "display": null,
            "flex": null,
            "flex_flow": null,
            "grid_area": null,
            "grid_auto_columns": null,
            "grid_auto_flow": null,
            "grid_auto_rows": null,
            "grid_column": null,
            "grid_gap": null,
            "grid_row": null,
            "grid_template_areas": null,
            "grid_template_columns": null,
            "grid_template_rows": null,
            "height": null,
            "justify_content": null,
            "justify_items": null,
            "left": null,
            "margin": null,
            "max_height": null,
            "max_width": null,
            "min_height": null,
            "min_width": null,
            "object_fit": null,
            "object_position": null,
            "order": null,
            "overflow": null,
            "overflow_x": null,
            "overflow_y": null,
            "padding": null,
            "right": null,
            "top": null,
            "visibility": null,
            "width": null
          }
        },
        "e45e31870dde4d51bf97ef72fc4e4740": {
          "model_module": "@jupyter-widgets/controls",
          "model_name": "DescriptionStyleModel",
          "state": {
            "_model_module": "@jupyter-widgets/controls",
            "_model_module_version": "1.5.0",
            "_model_name": "DescriptionStyleModel",
            "_view_count": null,
            "_view_module": "@jupyter-widgets/base",
            "_view_module_version": "1.2.0",
            "_view_name": "StyleView",
            "description_width": ""
          }
        },
        "488b87dee8d34cc28c2ba3d4fd6a26b9": {
          "model_module": "@jupyter-widgets/controls",
          "model_name": "HBoxModel",
          "state": {
            "_dom_classes": [],
            "_model_module": "@jupyter-widgets/controls",
            "_model_module_version": "1.5.0",
            "_model_name": "HBoxModel",
            "_view_count": null,
            "_view_module": "@jupyter-widgets/controls",
            "_view_module_version": "1.5.0",
            "_view_name": "HBoxView",
            "box_style": "",
            "children": [
              "IPY_MODEL_72833763e41d4a83983873b3f938cc7c",
              "IPY_MODEL_1b561f42f6784d5ea7091972f1ca811f"
            ],
            "layout": "IPY_MODEL_7529bd5df7284348b6fb9b6aaebf8081"
          }
        },
        "72833763e41d4a83983873b3f938cc7c": {
          "model_module": "@jupyter-widgets/controls",
          "model_name": "FloatProgressModel",
          "state": {
            "_dom_classes": [],
            "_model_module": "@jupyter-widgets/controls",
            "_model_module_version": "1.5.0",
            "_model_name": "FloatProgressModel",
            "_view_count": null,
            "_view_module": "@jupyter-widgets/controls",
            "_view_module_version": "1.5.0",
            "_view_name": "ProgressView",
            "bar_style": "success",
            "description": "100%",
            "description_tooltip": null,
            "layout": "IPY_MODEL_cf4fd065b3dc4b28af7c2836357f3b9d",
            "max": 41967,
            "min": 0,
            "orientation": "horizontal",
            "style": "IPY_MODEL_b713fff9a5974727b40ad5175524e28a",
            "value": 41967
          }
        },
        "1b561f42f6784d5ea7091972f1ca811f": {
          "model_module": "@jupyter-widgets/controls",
          "model_name": "HTMLModel",
          "state": {
            "_dom_classes": [],
            "_model_module": "@jupyter-widgets/controls",
            "_model_module_version": "1.5.0",
            "_model_name": "HTMLModel",
            "_view_count": null,
            "_view_module": "@jupyter-widgets/controls",
            "_view_module_version": "1.5.0",
            "_view_name": "HTMLView",
            "description": "",
            "description_tooltip": null,
            "layout": "IPY_MODEL_7d477751a12148eb879adcf118ff6d18",
            "placeholder": "​",
            "style": "IPY_MODEL_760a448e55554180bcbeabfa5c34cbb7",
            "value": " 41967/41967 [00:02&lt;00:00, 17526.85it/s]"
          }
        },
        "7529bd5df7284348b6fb9b6aaebf8081": {
          "model_module": "@jupyter-widgets/base",
          "model_name": "LayoutModel",
          "state": {
            "_model_module": "@jupyter-widgets/base",
            "_model_module_version": "1.2.0",
            "_model_name": "LayoutModel",
            "_view_count": null,
            "_view_module": "@jupyter-widgets/base",
            "_view_module_version": "1.2.0",
            "_view_name": "LayoutView",
            "align_content": null,
            "align_items": null,
            "align_self": null,
            "border": null,
            "bottom": null,
            "display": null,
            "flex": null,
            "flex_flow": null,
            "grid_area": null,
            "grid_auto_columns": null,
            "grid_auto_flow": null,
            "grid_auto_rows": null,
            "grid_column": null,
            "grid_gap": null,
            "grid_row": null,
            "grid_template_areas": null,
            "grid_template_columns": null,
            "grid_template_rows": null,
            "height": null,
            "justify_content": null,
            "justify_items": null,
            "left": null,
            "margin": null,
            "max_height": null,
            "max_width": null,
            "min_height": null,
            "min_width": null,
            "object_fit": null,
            "object_position": null,
            "order": null,
            "overflow": null,
            "overflow_x": null,
            "overflow_y": null,
            "padding": null,
            "right": null,
            "top": null,
            "visibility": null,
            "width": null
          }
        },
        "cf4fd065b3dc4b28af7c2836357f3b9d": {
          "model_module": "@jupyter-widgets/base",
          "model_name": "LayoutModel",
          "state": {
            "_model_module": "@jupyter-widgets/base",
            "_model_module_version": "1.2.0",
            "_model_name": "LayoutModel",
            "_view_count": null,
            "_view_module": "@jupyter-widgets/base",
            "_view_module_version": "1.2.0",
            "_view_name": "LayoutView",
            "align_content": null,
            "align_items": null,
            "align_self": null,
            "border": null,
            "bottom": null,
            "display": null,
            "flex": null,
            "flex_flow": null,
            "grid_area": null,
            "grid_auto_columns": null,
            "grid_auto_flow": null,
            "grid_auto_rows": null,
            "grid_column": null,
            "grid_gap": null,
            "grid_row": null,
            "grid_template_areas": null,
            "grid_template_columns": null,
            "grid_template_rows": null,
            "height": null,
            "justify_content": null,
            "justify_items": null,
            "left": null,
            "margin": null,
            "max_height": null,
            "max_width": null,
            "min_height": null,
            "min_width": null,
            "object_fit": null,
            "object_position": null,
            "order": null,
            "overflow": null,
            "overflow_x": null,
            "overflow_y": null,
            "padding": null,
            "right": null,
            "top": null,
            "visibility": null,
            "width": null
          }
        },
        "b713fff9a5974727b40ad5175524e28a": {
          "model_module": "@jupyter-widgets/controls",
          "model_name": "ProgressStyleModel",
          "state": {
            "_model_module": "@jupyter-widgets/controls",
            "_model_module_version": "1.5.0",
            "_model_name": "ProgressStyleModel",
            "_view_count": null,
            "_view_module": "@jupyter-widgets/base",
            "_view_module_version": "1.2.0",
            "_view_name": "StyleView",
            "bar_color": null,
            "description_width": "initial"
          }
        },
        "7d477751a12148eb879adcf118ff6d18": {
          "model_module": "@jupyter-widgets/base",
          "model_name": "LayoutModel",
          "state": {
            "_model_module": "@jupyter-widgets/base",
            "_model_module_version": "1.2.0",
            "_model_name": "LayoutModel",
            "_view_count": null,
            "_view_module": "@jupyter-widgets/base",
            "_view_module_version": "1.2.0",
            "_view_name": "LayoutView",
            "align_content": null,
            "align_items": null,
            "align_self": null,
            "border": null,
            "bottom": null,
            "display": null,
            "flex": null,
            "flex_flow": null,
            "grid_area": null,
            "grid_auto_columns": null,
            "grid_auto_flow": null,
            "grid_auto_rows": null,
            "grid_column": null,
            "grid_gap": null,
            "grid_row": null,
            "grid_template_areas": null,
            "grid_template_columns": null,
            "grid_template_rows": null,
            "height": null,
            "justify_content": null,
            "justify_items": null,
            "left": null,
            "margin": null,
            "max_height": null,
            "max_width": null,
            "min_height": null,
            "min_width": null,
            "object_fit": null,
            "object_position": null,
            "order": null,
            "overflow": null,
            "overflow_x": null,
            "overflow_y": null,
            "padding": null,
            "right": null,
            "top": null,
            "visibility": null,
            "width": null
          }
        },
        "760a448e55554180bcbeabfa5c34cbb7": {
          "model_module": "@jupyter-widgets/controls",
          "model_name": "DescriptionStyleModel",
          "state": {
            "_model_module": "@jupyter-widgets/controls",
            "_model_module_version": "1.5.0",
            "_model_name": "DescriptionStyleModel",
            "_view_count": null,
            "_view_module": "@jupyter-widgets/base",
            "_view_module_version": "1.2.0",
            "_view_name": "StyleView",
            "description_width": ""
          }
        },
        "89202bb1de854873af741ec87b697d16": {
          "model_module": "@jupyter-widgets/controls",
          "model_name": "HBoxModel",
          "state": {
            "_dom_classes": [],
            "_model_module": "@jupyter-widgets/controls",
            "_model_module_version": "1.5.0",
            "_model_name": "HBoxModel",
            "_view_count": null,
            "_view_module": "@jupyter-widgets/controls",
            "_view_module_version": "1.5.0",
            "_view_name": "HBoxView",
            "box_style": "",
            "children": [
              "IPY_MODEL_277135a85e9d45d4805c56c213cb0e80",
              "IPY_MODEL_bd460389f1bc4c308422c8f2a731abea"
            ],
            "layout": "IPY_MODEL_80d4f6f5fb2241d1ad788e94e4a703e0"
          }
        },
        "277135a85e9d45d4805c56c213cb0e80": {
          "model_module": "@jupyter-widgets/controls",
          "model_name": "FloatProgressModel",
          "state": {
            "_dom_classes": [],
            "_model_module": "@jupyter-widgets/controls",
            "_model_module_version": "1.5.0",
            "_model_name": "FloatProgressModel",
            "_view_count": null,
            "_view_module": "@jupyter-widgets/controls",
            "_view_module_version": "1.5.0",
            "_view_name": "ProgressView",
            "bar_style": "success",
            "description": "100%",
            "description_tooltip": null,
            "layout": "IPY_MODEL_fb9214c243d44c2c8b12a12a725cd4c4",
            "max": 20,
            "min": 0,
            "orientation": "horizontal",
            "style": "IPY_MODEL_52e8be1b62fc4561a289395a682bc627",
            "value": 20
          }
        },
        "bd460389f1bc4c308422c8f2a731abea": {
          "model_module": "@jupyter-widgets/controls",
          "model_name": "HTMLModel",
          "state": {
            "_dom_classes": [],
            "_model_module": "@jupyter-widgets/controls",
            "_model_module_version": "1.5.0",
            "_model_name": "HTMLModel",
            "_view_count": null,
            "_view_module": "@jupyter-widgets/controls",
            "_view_module_version": "1.5.0",
            "_view_name": "HTMLView",
            "description": "",
            "description_tooltip": null,
            "layout": "IPY_MODEL_654370ce813a431cb403d2c652561dcb",
            "placeholder": "​",
            "style": "IPY_MODEL_eb21ab0b27d84cb291e4bc295c49b8f6",
            "value": " 20/20 [04:32&lt;00:00, 13.62s/it]"
          }
        },
        "80d4f6f5fb2241d1ad788e94e4a703e0": {
          "model_module": "@jupyter-widgets/base",
          "model_name": "LayoutModel",
          "state": {
            "_model_module": "@jupyter-widgets/base",
            "_model_module_version": "1.2.0",
            "_model_name": "LayoutModel",
            "_view_count": null,
            "_view_module": "@jupyter-widgets/base",
            "_view_module_version": "1.2.0",
            "_view_name": "LayoutView",
            "align_content": null,
            "align_items": null,
            "align_self": null,
            "border": null,
            "bottom": null,
            "display": null,
            "flex": null,
            "flex_flow": null,
            "grid_area": null,
            "grid_auto_columns": null,
            "grid_auto_flow": null,
            "grid_auto_rows": null,
            "grid_column": null,
            "grid_gap": null,
            "grid_row": null,
            "grid_template_areas": null,
            "grid_template_columns": null,
            "grid_template_rows": null,
            "height": null,
            "justify_content": null,
            "justify_items": null,
            "left": null,
            "margin": null,
            "max_height": null,
            "max_width": null,
            "min_height": null,
            "min_width": null,
            "object_fit": null,
            "object_position": null,
            "order": null,
            "overflow": null,
            "overflow_x": null,
            "overflow_y": null,
            "padding": null,
            "right": null,
            "top": null,
            "visibility": null,
            "width": null
          }
        },
        "fb9214c243d44c2c8b12a12a725cd4c4": {
          "model_module": "@jupyter-widgets/base",
          "model_name": "LayoutModel",
          "state": {
            "_model_module": "@jupyter-widgets/base",
            "_model_module_version": "1.2.0",
            "_model_name": "LayoutModel",
            "_view_count": null,
            "_view_module": "@jupyter-widgets/base",
            "_view_module_version": "1.2.0",
            "_view_name": "LayoutView",
            "align_content": null,
            "align_items": null,
            "align_self": null,
            "border": null,
            "bottom": null,
            "display": null,
            "flex": null,
            "flex_flow": null,
            "grid_area": null,
            "grid_auto_columns": null,
            "grid_auto_flow": null,
            "grid_auto_rows": null,
            "grid_column": null,
            "grid_gap": null,
            "grid_row": null,
            "grid_template_areas": null,
            "grid_template_columns": null,
            "grid_template_rows": null,
            "height": null,
            "justify_content": null,
            "justify_items": null,
            "left": null,
            "margin": null,
            "max_height": null,
            "max_width": null,
            "min_height": null,
            "min_width": null,
            "object_fit": null,
            "object_position": null,
            "order": null,
            "overflow": null,
            "overflow_x": null,
            "overflow_y": null,
            "padding": null,
            "right": null,
            "top": null,
            "visibility": null,
            "width": null
          }
        },
        "52e8be1b62fc4561a289395a682bc627": {
          "model_module": "@jupyter-widgets/controls",
          "model_name": "ProgressStyleModel",
          "state": {
            "_model_module": "@jupyter-widgets/controls",
            "_model_module_version": "1.5.0",
            "_model_name": "ProgressStyleModel",
            "_view_count": null,
            "_view_module": "@jupyter-widgets/base",
            "_view_module_version": "1.2.0",
            "_view_name": "StyleView",
            "bar_color": null,
            "description_width": "initial"
          }
        },
        "654370ce813a431cb403d2c652561dcb": {
          "model_module": "@jupyter-widgets/base",
          "model_name": "LayoutModel",
          "state": {
            "_model_module": "@jupyter-widgets/base",
            "_model_module_version": "1.2.0",
            "_model_name": "LayoutModel",
            "_view_count": null,
            "_view_module": "@jupyter-widgets/base",
            "_view_module_version": "1.2.0",
            "_view_name": "LayoutView",
            "align_content": null,
            "align_items": null,
            "align_self": null,
            "border": null,
            "bottom": null,
            "display": null,
            "flex": null,
            "flex_flow": null,
            "grid_area": null,
            "grid_auto_columns": null,
            "grid_auto_flow": null,
            "grid_auto_rows": null,
            "grid_column": null,
            "grid_gap": null,
            "grid_row": null,
            "grid_template_areas": null,
            "grid_template_columns": null,
            "grid_template_rows": null,
            "height": null,
            "justify_content": null,
            "justify_items": null,
            "left": null,
            "margin": null,
            "max_height": null,
            "max_width": null,
            "min_height": null,
            "min_width": null,
            "object_fit": null,
            "object_position": null,
            "order": null,
            "overflow": null,
            "overflow_x": null,
            "overflow_y": null,
            "padding": null,
            "right": null,
            "top": null,
            "visibility": null,
            "width": null
          }
        },
        "eb21ab0b27d84cb291e4bc295c49b8f6": {
          "model_module": "@jupyter-widgets/controls",
          "model_name": "DescriptionStyleModel",
          "state": {
            "_model_module": "@jupyter-widgets/controls",
            "_model_module_version": "1.5.0",
            "_model_name": "DescriptionStyleModel",
            "_view_count": null,
            "_view_module": "@jupyter-widgets/base",
            "_view_module_version": "1.2.0",
            "_view_name": "StyleView",
            "description_width": ""
          }
        },
        "d64dac93e2924c35a87296f123ec578c": {
          "model_module": "@jupyter-widgets/controls",
          "model_name": "HBoxModel",
          "state": {
            "_dom_classes": [],
            "_model_module": "@jupyter-widgets/controls",
            "_model_module_version": "1.5.0",
            "_model_name": "HBoxModel",
            "_view_count": null,
            "_view_module": "@jupyter-widgets/controls",
            "_view_module_version": "1.5.0",
            "_view_name": "HBoxView",
            "box_style": "",
            "children": [
              "IPY_MODEL_daf7e93352ed462e8cf8c97aea0dd422",
              "IPY_MODEL_ef6bd1abdfc4415781aeaa1e8c2bcee5"
            ],
            "layout": "IPY_MODEL_79c083a0a7e64eb58e47cfd98dfcebd5"
          }
        },
        "daf7e93352ed462e8cf8c97aea0dd422": {
          "model_module": "@jupyter-widgets/controls",
          "model_name": "FloatProgressModel",
          "state": {
            "_dom_classes": [],
            "_model_module": "@jupyter-widgets/controls",
            "_model_module_version": "1.5.0",
            "_model_name": "FloatProgressModel",
            "_view_count": null,
            "_view_module": "@jupyter-widgets/controls",
            "_view_module_version": "1.5.0",
            "_view_name": "ProgressView",
            "bar_style": "success",
            "description": "100%",
            "description_tooltip": null,
            "layout": "IPY_MODEL_c247c3519a864308afe1f1babe8f8431",
            "max": 41967,
            "min": 0,
            "orientation": "horizontal",
            "style": "IPY_MODEL_a0d312fc9183480fa12ed01e6c413336",
            "value": 41967
          }
        },
        "ef6bd1abdfc4415781aeaa1e8c2bcee5": {
          "model_module": "@jupyter-widgets/controls",
          "model_name": "HTMLModel",
          "state": {
            "_dom_classes": [],
            "_model_module": "@jupyter-widgets/controls",
            "_model_module_version": "1.5.0",
            "_model_name": "HTMLModel",
            "_view_count": null,
            "_view_module": "@jupyter-widgets/controls",
            "_view_module_version": "1.5.0",
            "_view_name": "HTMLView",
            "description": "",
            "description_tooltip": null,
            "layout": "IPY_MODEL_5af0c0bf025b497086f2c02e48c6f2d4",
            "placeholder": "​",
            "style": "IPY_MODEL_35442053f5344d339a6977c4678e18f6",
            "value": " 41967/41967 [11:33&lt;00:00, 60.56it/s]"
          }
        },
        "79c083a0a7e64eb58e47cfd98dfcebd5": {
          "model_module": "@jupyter-widgets/base",
          "model_name": "LayoutModel",
          "state": {
            "_model_module": "@jupyter-widgets/base",
            "_model_module_version": "1.2.0",
            "_model_name": "LayoutModel",
            "_view_count": null,
            "_view_module": "@jupyter-widgets/base",
            "_view_module_version": "1.2.0",
            "_view_name": "LayoutView",
            "align_content": null,
            "align_items": null,
            "align_self": null,
            "border": null,
            "bottom": null,
            "display": null,
            "flex": null,
            "flex_flow": null,
            "grid_area": null,
            "grid_auto_columns": null,
            "grid_auto_flow": null,
            "grid_auto_rows": null,
            "grid_column": null,
            "grid_gap": null,
            "grid_row": null,
            "grid_template_areas": null,
            "grid_template_columns": null,
            "grid_template_rows": null,
            "height": null,
            "justify_content": null,
            "justify_items": null,
            "left": null,
            "margin": null,
            "max_height": null,
            "max_width": null,
            "min_height": null,
            "min_width": null,
            "object_fit": null,
            "object_position": null,
            "order": null,
            "overflow": null,
            "overflow_x": null,
            "overflow_y": null,
            "padding": null,
            "right": null,
            "top": null,
            "visibility": null,
            "width": null
          }
        },
        "c247c3519a864308afe1f1babe8f8431": {
          "model_module": "@jupyter-widgets/base",
          "model_name": "LayoutModel",
          "state": {
            "_model_module": "@jupyter-widgets/base",
            "_model_module_version": "1.2.0",
            "_model_name": "LayoutModel",
            "_view_count": null,
            "_view_module": "@jupyter-widgets/base",
            "_view_module_version": "1.2.0",
            "_view_name": "LayoutView",
            "align_content": null,
            "align_items": null,
            "align_self": null,
            "border": null,
            "bottom": null,
            "display": null,
            "flex": null,
            "flex_flow": null,
            "grid_area": null,
            "grid_auto_columns": null,
            "grid_auto_flow": null,
            "grid_auto_rows": null,
            "grid_column": null,
            "grid_gap": null,
            "grid_row": null,
            "grid_template_areas": null,
            "grid_template_columns": null,
            "grid_template_rows": null,
            "height": null,
            "justify_content": null,
            "justify_items": null,
            "left": null,
            "margin": null,
            "max_height": null,
            "max_width": null,
            "min_height": null,
            "min_width": null,
            "object_fit": null,
            "object_position": null,
            "order": null,
            "overflow": null,
            "overflow_x": null,
            "overflow_y": null,
            "padding": null,
            "right": null,
            "top": null,
            "visibility": null,
            "width": null
          }
        },
        "a0d312fc9183480fa12ed01e6c413336": {
          "model_module": "@jupyter-widgets/controls",
          "model_name": "ProgressStyleModel",
          "state": {
            "_model_module": "@jupyter-widgets/controls",
            "_model_module_version": "1.5.0",
            "_model_name": "ProgressStyleModel",
            "_view_count": null,
            "_view_module": "@jupyter-widgets/base",
            "_view_module_version": "1.2.0",
            "_view_name": "StyleView",
            "bar_color": null,
            "description_width": "initial"
          }
        },
        "5af0c0bf025b497086f2c02e48c6f2d4": {
          "model_module": "@jupyter-widgets/base",
          "model_name": "LayoutModel",
          "state": {
            "_model_module": "@jupyter-widgets/base",
            "_model_module_version": "1.2.0",
            "_model_name": "LayoutModel",
            "_view_count": null,
            "_view_module": "@jupyter-widgets/base",
            "_view_module_version": "1.2.0",
            "_view_name": "LayoutView",
            "align_content": null,
            "align_items": null,
            "align_self": null,
            "border": null,
            "bottom": null,
            "display": null,
            "flex": null,
            "flex_flow": null,
            "grid_area": null,
            "grid_auto_columns": null,
            "grid_auto_flow": null,
            "grid_auto_rows": null,
            "grid_column": null,
            "grid_gap": null,
            "grid_row": null,
            "grid_template_areas": null,
            "grid_template_columns": null,
            "grid_template_rows": null,
            "height": null,
            "justify_content": null,
            "justify_items": null,
            "left": null,
            "margin": null,
            "max_height": null,
            "max_width": null,
            "min_height": null,
            "min_width": null,
            "object_fit": null,
            "object_position": null,
            "order": null,
            "overflow": null,
            "overflow_x": null,
            "overflow_y": null,
            "padding": null,
            "right": null,
            "top": null,
            "visibility": null,
            "width": null
          }
        },
        "35442053f5344d339a6977c4678e18f6": {
          "model_module": "@jupyter-widgets/controls",
          "model_name": "DescriptionStyleModel",
          "state": {
            "_model_module": "@jupyter-widgets/controls",
            "_model_module_version": "1.5.0",
            "_model_name": "DescriptionStyleModel",
            "_view_count": null,
            "_view_module": "@jupyter-widgets/base",
            "_view_module_version": "1.2.0",
            "_view_name": "StyleView",
            "description_width": ""
          }
        },
        "0249b36102e042a9b7901cf6fe954ea6": {
          "model_module": "@jupyter-widgets/controls",
          "model_name": "HBoxModel",
          "state": {
            "_dom_classes": [],
            "_model_module": "@jupyter-widgets/controls",
            "_model_module_version": "1.5.0",
            "_model_name": "HBoxModel",
            "_view_count": null,
            "_view_module": "@jupyter-widgets/controls",
            "_view_module_version": "1.5.0",
            "_view_name": "HBoxView",
            "box_style": "",
            "children": [
              "IPY_MODEL_403530aacbf7488fa9696222d57a4cc9",
              "IPY_MODEL_59c3fc6fa45c4a1097a03e3c6fb7580a"
            ],
            "layout": "IPY_MODEL_cacd57dc416b4e76bb1145ec38be7657"
          }
        },
        "403530aacbf7488fa9696222d57a4cc9": {
          "model_module": "@jupyter-widgets/controls",
          "model_name": "FloatProgressModel",
          "state": {
            "_dom_classes": [],
            "_model_module": "@jupyter-widgets/controls",
            "_model_module_version": "1.5.0",
            "_model_name": "FloatProgressModel",
            "_view_count": null,
            "_view_module": "@jupyter-widgets/controls",
            "_view_module_version": "1.5.0",
            "_view_name": "ProgressView",
            "bar_style": "success",
            "description": "100%",
            "description_tooltip": null,
            "layout": "IPY_MODEL_a30105a44ed548d68541ea46abd42af5",
            "max": 41967,
            "min": 0,
            "orientation": "horizontal",
            "style": "IPY_MODEL_5763770972244c538cac25d4d6e1feb7",
            "value": 41967
          }
        },
        "59c3fc6fa45c4a1097a03e3c6fb7580a": {
          "model_module": "@jupyter-widgets/controls",
          "model_name": "HTMLModel",
          "state": {
            "_dom_classes": [],
            "_model_module": "@jupyter-widgets/controls",
            "_model_module_version": "1.5.0",
            "_model_name": "HTMLModel",
            "_view_count": null,
            "_view_module": "@jupyter-widgets/controls",
            "_view_module_version": "1.5.0",
            "_view_name": "HTMLView",
            "description": "",
            "description_tooltip": null,
            "layout": "IPY_MODEL_c94caba645104fab975c0e3042f36c30",
            "placeholder": "​",
            "style": "IPY_MODEL_a94d62d79d044f7a85110efdba748c2d",
            "value": " 41967/41967 [00:01&lt;00:00, 28613.16it/s]"
          }
        },
        "cacd57dc416b4e76bb1145ec38be7657": {
          "model_module": "@jupyter-widgets/base",
          "model_name": "LayoutModel",
          "state": {
            "_model_module": "@jupyter-widgets/base",
            "_model_module_version": "1.2.0",
            "_model_name": "LayoutModel",
            "_view_count": null,
            "_view_module": "@jupyter-widgets/base",
            "_view_module_version": "1.2.0",
            "_view_name": "LayoutView",
            "align_content": null,
            "align_items": null,
            "align_self": null,
            "border": null,
            "bottom": null,
            "display": null,
            "flex": null,
            "flex_flow": null,
            "grid_area": null,
            "grid_auto_columns": null,
            "grid_auto_flow": null,
            "grid_auto_rows": null,
            "grid_column": null,
            "grid_gap": null,
            "grid_row": null,
            "grid_template_areas": null,
            "grid_template_columns": null,
            "grid_template_rows": null,
            "height": null,
            "justify_content": null,
            "justify_items": null,
            "left": null,
            "margin": null,
            "max_height": null,
            "max_width": null,
            "min_height": null,
            "min_width": null,
            "object_fit": null,
            "object_position": null,
            "order": null,
            "overflow": null,
            "overflow_x": null,
            "overflow_y": null,
            "padding": null,
            "right": null,
            "top": null,
            "visibility": null,
            "width": null
          }
        },
        "a30105a44ed548d68541ea46abd42af5": {
          "model_module": "@jupyter-widgets/base",
          "model_name": "LayoutModel",
          "state": {
            "_model_module": "@jupyter-widgets/base",
            "_model_module_version": "1.2.0",
            "_model_name": "LayoutModel",
            "_view_count": null,
            "_view_module": "@jupyter-widgets/base",
            "_view_module_version": "1.2.0",
            "_view_name": "LayoutView",
            "align_content": null,
            "align_items": null,
            "align_self": null,
            "border": null,
            "bottom": null,
            "display": null,
            "flex": null,
            "flex_flow": null,
            "grid_area": null,
            "grid_auto_columns": null,
            "grid_auto_flow": null,
            "grid_auto_rows": null,
            "grid_column": null,
            "grid_gap": null,
            "grid_row": null,
            "grid_template_areas": null,
            "grid_template_columns": null,
            "grid_template_rows": null,
            "height": null,
            "justify_content": null,
            "justify_items": null,
            "left": null,
            "margin": null,
            "max_height": null,
            "max_width": null,
            "min_height": null,
            "min_width": null,
            "object_fit": null,
            "object_position": null,
            "order": null,
            "overflow": null,
            "overflow_x": null,
            "overflow_y": null,
            "padding": null,
            "right": null,
            "top": null,
            "visibility": null,
            "width": null
          }
        },
        "5763770972244c538cac25d4d6e1feb7": {
          "model_module": "@jupyter-widgets/controls",
          "model_name": "ProgressStyleModel",
          "state": {
            "_model_module": "@jupyter-widgets/controls",
            "_model_module_version": "1.5.0",
            "_model_name": "ProgressStyleModel",
            "_view_count": null,
            "_view_module": "@jupyter-widgets/base",
            "_view_module_version": "1.2.0",
            "_view_name": "StyleView",
            "bar_color": null,
            "description_width": "initial"
          }
        },
        "c94caba645104fab975c0e3042f36c30": {
          "model_module": "@jupyter-widgets/base",
          "model_name": "LayoutModel",
          "state": {
            "_model_module": "@jupyter-widgets/base",
            "_model_module_version": "1.2.0",
            "_model_name": "LayoutModel",
            "_view_count": null,
            "_view_module": "@jupyter-widgets/base",
            "_view_module_version": "1.2.0",
            "_view_name": "LayoutView",
            "align_content": null,
            "align_items": null,
            "align_self": null,
            "border": null,
            "bottom": null,
            "display": null,
            "flex": null,
            "flex_flow": null,
            "grid_area": null,
            "grid_auto_columns": null,
            "grid_auto_flow": null,
            "grid_auto_rows": null,
            "grid_column": null,
            "grid_gap": null,
            "grid_row": null,
            "grid_template_areas": null,
            "grid_template_columns": null,
            "grid_template_rows": null,
            "height": null,
            "justify_content": null,
            "justify_items": null,
            "left": null,
            "margin": null,
            "max_height": null,
            "max_width": null,
            "min_height": null,
            "min_width": null,
            "object_fit": null,
            "object_position": null,
            "order": null,
            "overflow": null,
            "overflow_x": null,
            "overflow_y": null,
            "padding": null,
            "right": null,
            "top": null,
            "visibility": null,
            "width": null
          }
        },
        "a94d62d79d044f7a85110efdba748c2d": {
          "model_module": "@jupyter-widgets/controls",
          "model_name": "DescriptionStyleModel",
          "state": {
            "_model_module": "@jupyter-widgets/controls",
            "_model_module_version": "1.5.0",
            "_model_name": "DescriptionStyleModel",
            "_view_count": null,
            "_view_module": "@jupyter-widgets/base",
            "_view_module_version": "1.2.0",
            "_view_name": "StyleView",
            "description_width": ""
          }
        }
      }
    }
  },
  "cells": [
    {
      "cell_type": "markdown",
      "metadata": {
        "id": "view-in-github",
        "colab_type": "text"
      },
      "source": [
        "<a href=\"https://colab.research.google.com/github/samantamrityunjay/ICDcoding/blob/master/NonAI_similarity.ipynb\" target=\"_parent\"><img src=\"https://colab.research.google.com/assets/colab-badge.svg\" alt=\"Open In Colab\"/></a>"
      ]
    },
    {
      "cell_type": "code",
      "metadata": {
        "colab": {
          "base_uri": "https://localhost:8080/"
        },
        "id": "D6PjZ-EoY15b",
        "outputId": "733d6dbd-33e6-4dee-b239-93ba1f66ec91"
      },
      "source": [
        "from google.colab import drive\n",
        "drive.mount('/content/drive')"
      ],
      "execution_count": null,
      "outputs": [
        {
          "output_type": "stream",
          "text": [
            "Mounted at /content/drive\n"
          ],
          "name": "stdout"
        }
      ]
    },
    {
      "cell_type": "code",
      "metadata": {
        "id": "l3Dwj3SIY9ke"
      },
      "source": [
        "import pandas as pd\n",
        "import numpy as np\n",
        "from collections import Counter\n",
        "import re\n",
        "import tqdm \n",
        "from tqdm import tqdm\n",
        "from tqdm.notebook import tqdm_notebook\n",
        "tqdm_notebook.pandas()\n",
        "from ast import literal_eval\n",
        "# import nltk\n",
        "# nltk.download('punkt')\n",
        "# from nltk.tokenize import word_tokenize\n",
        "# import string\n",
        "pd.set_option(\"display.max_colwidth\",None)"
      ],
      "execution_count": null,
      "outputs": []
    },
    {
      "cell_type": "code",
      "metadata": {
        "colab": {
          "base_uri": "https://localhost:8080/"
        },
        "id": "opLR7xC7XKCU",
        "outputId": "33f27c79-8b1e-4da5-c4e0-b14dfe3aa0a1"
      },
      "source": [
        "from gensim.models import KeyedVectors\n",
        "%time model = KeyedVectors.load_word2vec_format(\"/content/drive/MyDrive/BioVecModels/biowordvec\", binary=True,limit=1000000)"
      ],
      "execution_count": null,
      "outputs": [
        {
          "output_type": "stream",
          "text": [
            "CPU times: user 14.5 s, sys: 2.37 s, total: 16.9 s\n",
            "Wall time: 26.8 s\n"
          ],
          "name": "stdout"
        }
      ]
    },
    {
      "cell_type": "code",
      "metadata": {
        "id": "3m8xH-M-aFJE"
      },
      "source": [
        "frequent_icd9category=['401','427','276','414','272','250','428','518','285','584']"
      ],
      "execution_count": null,
      "outputs": []
    },
    {
      "cell_type": "code",
      "metadata": {
        "id": "q805RbhkE7x-"
      },
      "source": [
        ""
      ],
      "execution_count": null,
      "outputs": []
    },
    {
      "cell_type": "code",
      "metadata": {
        "id": "exuVpCH0ej7Y"
      },
      "source": [
        "diagnosis_icd9category_token=pd.read_csv(\"/content/drive/My Drive/AlgoIntern/Data/Data2.0/diagnosis_icd9category1.csv\")"
      ],
      "execution_count": null,
      "outputs": []
    },
    {
      "cell_type": "code",
      "metadata": {
        "colab": {
          "base_uri": "https://localhost:8080/",
          "height": 1000
        },
        "id": "nf-9GlWhElhU",
        "outputId": "a83634d4-5414-4055-b7d2-c524b8915d29"
      },
      "source": [
        "diagnosis_icd9category_token"
      ],
      "execution_count": null,
      "outputs": [
        {
          "output_type": "execute_result",
          "data": {
            "text/html": [
              "<div>\n",
              "<style scoped>\n",
              "    .dataframe tbody tr th:only-of-type {\n",
              "        vertical-align: middle;\n",
              "    }\n",
              "\n",
              "    .dataframe tbody tr th {\n",
              "        vertical-align: top;\n",
              "    }\n",
              "\n",
              "    .dataframe thead th {\n",
              "        text-align: right;\n",
              "    }\n",
              "</style>\n",
              "<table border=\"1\" class=\"dataframe\">\n",
              "  <thead>\n",
              "    <tr style=\"text-align: right;\">\n",
              "      <th></th>\n",
              "      <th>HADM_ID</th>\n",
              "      <th>discharge diagnosis:</th>\n",
              "      <th>icd9_category</th>\n",
              "      <th>medical_terms_list</th>\n",
              "    </tr>\n",
              "  </thead>\n",
              "  <tbody>\n",
              "    <tr>\n",
              "      <th>0</th>\n",
              "      <td>167118.0</td>\n",
              "      <td>discharge diagnosis:  copd, coronary artery disease/atypical angina (lad 30%, rca 30%,  ef 63%), hypercholesterolemia, hypothyroidism, hypertension,  hiatal hernia, cerebral vascular accident,s/p motor vehicle  colision-&gt; head injury &amp; rib fracture.  tbm- s/p tracheoplasty.      discharge condition:  good    discharge instructions:  please update dr.&lt;name&gt; &lt;telephone&gt; office for:  fever,  shortness of breath, chest pain , productive cough or if you  have any questions or concerns.      completed by: &lt;date&gt;</td>\n",
              "      <td>['496', '553', '518', '453', '519', '276']</td>\n",
              "      <td>['hypercholesterolemia', 'cerebral', 'hypothyroidism', 'cough', 'accident', 'hypertension', 'artery', 'chest', 'vascular', 'coronary', 'fracture', 'injury', 'angina', 'pain', 'head']</td>\n",
              "    </tr>\n",
              "    <tr>\n",
              "      <th>1</th>\n",
              "      <td>196489.0</td>\n",
              "      <td>discharge diagnosis:  primary:  1. chronic obstructive pulmonary disease exacerbation  2. respiratory failure with intubation  3. upper gastrointestinal bleed/peptic ulcer disease  4. hypertension  5. anxiety    secondary:  1. coronary artery disease  2. hypothyroidism      discharge condition:  mental status: confused - sometimes.  level of consciousness: alert and interactive.  activity status: out of bed with assistance to chair or  wheelchair.      discharge instructions:  you were admitted to the hospital with shortness of breath and  respiratory failure and lethargy. in the emergency department,  you were breathing very fast and a breathing tube was inserted  into your airway to help you breathe. you were admitted to the  intensive care unit. there, you were managed with steroids and  antibiotics and the tube was eventually removed from your  airway, allowing you to breathe on your own. you also underwent  bronchoscopy which looked at the inside of your airways.  .  during your time in the intensive care unit, you developed a  gastrointestinal bleed. a tube was placed into your stomach and  you underwent an endoscopic procedure to look at your esophagus  and stomach. this showed inflammation in your esophagusand  ulcers in your stomach.  .  you should continue to use nasal oxygen by nasal cannula as  needed. you should continue the steroid taper as instructed. you  should call your doctor or return to the emergency room if you  have increasing difficulty breathing or shortness of breath,  wheezing, chest pain, blood in your stool or vomiting blood.  .  there are some changes in your medications.  start pantoprazole 40 mg twice daily and stop omeprazole  start hydrochlorothiazide  start prednisone, taking 30 mg for 3 days, then 20 mg for 4  days, then 10 mg for 4 days, then 5 mg for 4 days, then stop.  start colace and senna as needed for constipation  can use morphine to alleviate symptoms of respiratory discomfort  stop furosemide  stop zolpidem  stop aspirin  increase diovan to 240 mg daily  decrease trazodone to 50 mg daily  .  follow up as indicated below.    followup instructions:  you have an appointment to follow up with dr. &lt;name&gt;, your  primary care physician, &lt;name&gt; [**8-29**] at 1pm. his address is [**location (un) 1822**], [**apartment address(1) 1823**], [**location (un) **],[**numeric identifier 1700**]. the phone is  &lt;telephone&gt;.    you have an appointment to follow up with dr. &lt;name&gt; &lt;name&gt; in  the  &lt;name&gt; at &lt;hospital&gt; on the [**location (un) 453**]. their phone number is  &lt;telephone&gt;.    department: div. of gastroenterology  when: wednesday  &lt;date&gt;  at 3:00 pm  with: &lt;name&gt; &lt;name&gt;, md &lt;telephone&gt;  building: ra &lt;name&gt; (&lt;name&gt;/&lt;name&gt; complex) [**location (un) **]  campus: east     best parking: main garage</td>\n",
              "      <td>['487', '416', '272', '530', '414', '553', '531', '518', '401', '519', '348', 'V02', '359', '584', '458', '578', '491', 'E93', '276', '244']</td>\n",
              "      <td>['pulmonary', 'hypertension', 'of', 'obstructive', 'discomfort', 'gastrointestinal', 'constipation', 'oxygen', 'breath', 'inflammation', 'artery', 'chest', 'hydrochlorothiazide', 'steroid', 'anxiety', 'omeprazole', 'senna', 'trazodone', 'failure', 'shortness', 'disease', 'pantoprazole', 'aspirin', 'hypothyroidism', 'zolpidem', 'furosemide', 'coronary', 'prednisone', 'lethargy', 'steroids', 'ulcer', 'chronic', 'respiratory', 'morphine', 'pain']</td>\n",
              "    </tr>\n",
              "    <tr>\n",
              "      <th>2</th>\n",
              "      <td>135453.0</td>\n",
              "      <td>discharge diagnosis:  1. cervical spondylosis with calcification of posterior  longitudinal ligament.  2. fracture dislocation c6-c7.  3. ossification of the posterior longitudinal ligament.  4. aspiration pneumonia      1. cervical spondylosis with calcification of posterior      longitudinal ligament.  2. fracture dislocation c6-c7.  3. ossification of the posterior longitudinal ligament.  4. aspiration pneumonia    1. cervical spondylosis with calcification of posterior      longitudinal ligament.  2. fracture dislocation c6-c7.  3. ossification of the posterior longitudinal ligament.  4. aspiration pneumonia      discharge condition:  stable to outside facility      discharge instructions:  patient has been made cmo at the request of him and his family.  he has a foley placed for urinary retention. please use morphine  as needed for pain and olanzapine as needed for agitiation.  patient has known history of aspiration documented on speech and  swallow. it is the patient and the family's wish for him to  continue to eat and drink as desired.    followup instructions:  follow up with your primary care physician as needed.</td>\n",
              "      <td>['V12', '788', '805', '507', 'V45', '401', '427', '453', 'E88', '293', '802', '428']</td>\n",
              "      <td>['ligament', 'spondylosis', 'of', 'cervical', 'urinary', 'posterior', 'calcification', 'olanzapine', 'fracture', 'pneumonia', 'dislocation', 'retention', 'longitudinal', 'morphine', 'pain']</td>\n",
              "    </tr>\n",
              "    <tr>\n",
              "      <th>3</th>\n",
              "      <td>170490.0</td>\n",
              "      <td>discharge diagnosis:  brain lesion    discharge condition:  mental status: clear and coherent.  level of consciousness: alert and interactive.  activity status: ambulatory - independent.  neuro exam intact.    discharge instructions:  ??????\\thave a friend/family member check your incision daily for  signs of infection.  ??????\\ttake your pain medicine as prescribed.  ??????\\texercise should be limited to walking; no lifting, straining,  or excessive bending.  ??????\\tyou have dissolvable sutures, you must keep that area dry for  10 days.  ??????\\tyou may shower before this time using a shower cap to cover  your head.  ??????\\tincrease your intake of fluids and fiber, as narcotic pain  medicine can cause constipation. we generally recommend taking  an over the counter stool softener, such as docusate (colace)  while taking narcotic pain medication.  ??????\\tunless directed by your doctor, do not take any  anti-inflammatory medicines such as motrin, aspirin, advil, and  ibuprofen etc.  ??????\\tif you have been prescribed dilantin (phenytoin) for  anti-seizure medicine, take it as prescribed and follow up with  laboratory blood drawing in one week.  this can be drawn at your  pcp??????s office, but please have the results faxed to &lt;telephone&gt;.  if you have been discharged on keppra (levetiracetam), you will  not require blood work monitoring.  ??????\\tif you are being sent home on steroid medication, make sure  you are taking a medication to protect your stomach (prilosec,  protonix, or pepcid), as these medications can cause stomach  irritation.  make sure to take your steroid medication with  meals, or a glass of milk.  ??????\\tclearance to drive and return to work will be addressed at  your post-operative office visit.  ??????\\tmake sure to continue to use your incentive spirometer while  at home.  call your surgeon immediately if you experience any of the  following    ??????\\tnew onset of tremors or seizures.  ??????\\tany confusion or change in mental status.  ??????\\tany numbness, tingling, weakness in your extremities.  ??????\\tpain or headache that is continually increasing, or not  relieved by pain medication.  ??????\\tany signs of infection at the wound site: increasing redness,  increased swelling, increased tenderness, or drainage.  ??????\\tfever greater than or equal to 101?????? f.    followup instructions:  ??????\\tplease return to the office in [**6-28**] days (from your date of  surgery) for a wound check. this appointment can be made with  the nurse practitioner.  please make this appointment by calling  &lt;telephone&gt;. if you live quite a distance from our office,  please make arrangements for the same, with your pcp.</td>\n",
              "      <td>['710', '225', '443', '714', '530', 'V43']</td>\n",
              "      <td>['motrin', 'aspirin', 'levetiracetam', 'seizures', 'weakness', 'phenytoin', 'fever', 'redness', 'tenderness', 'docusate', 'infection', 'steroid', 'tingling', 'confusion', 'headache', 'constipation', 'tremors', 'numbness', 'pain']</td>\n",
              "    </tr>\n",
              "    <tr>\n",
              "      <th>4</th>\n",
              "      <td>134727.0</td>\n",
              "      <td>discharge diagnosis:  pneumonia    discharge condition:  expired    discharge instructions:  na    followup instructions:  na                                 &lt;name&gt; &lt;name&gt; md [**md number(2) 1851**]</td>\n",
              "      <td>['486', '518', 'V45', 'V58', '401', '577', '415', '428']</td>\n",
              "      <td>[]</td>\n",
              "    </tr>\n",
              "    <tr>\n",
              "      <th>...</th>\n",
              "      <td>...</td>\n",
              "      <td>...</td>\n",
              "      <td>...</td>\n",
              "      <td>...</td>\n",
              "    </tr>\n",
              "    <tr>\n",
              "      <th>41962</th>\n",
              "      <td>127716.0</td>\n",
              "      <td>discharge diagnosis:  aortic stenosis and coronary artery disease s/p aortic valve  replacement and coronary artery bypass graft  past medical history:  hypertension  hyperlipidemia  diabetes mellitus  osteoarthritis  phlebitis  lung cancer  hiatal hernia  hypthyroidism  s/p right lobectomy [**2117**]  s/p lymph node dissection in neck  s/p beast lumpectomy  s/p hysterectomy  s/p c section  s/p tonsillectomy      discharge condition:  alert and oriented x3 nonfocal  ambulating, steady gait  incisional pain managed with ultram  incisions:  sternal - healing well, no erythema or drainage  1+ le edema      discharge instructions:  please shower daily including washing incisions gently with mild  soap, no baths or swimming until cleared by surgeon. look at  your incisions daily for redness or drainage  please no lotions, cream, powder, or ointments to incisions  each morning you should weigh yourself and then in the evening  take your temperature, these should be written down on the chart    no driving for one month or while taking narcotics. driving will  be discussed at follow up appointment with surgeon. no lifting  more than 10 pounds for 10 weeks  please call with any questions or concerns &lt;telephone&gt;  females: please wear bra to reduce pulling on incision, avoid  rubbing on lower edge  **please call cardiac surgery office with any questions or  concerns &lt;telephone&gt;. answering service will contact on call  person during off hours**    followup instructions:  you are scheduled for the following appointments  wound care, &lt;name&gt;, &lt;name&gt;  phone:&lt;telephone&gt;  date/time: &lt;date&gt;  10:00    surgeon: dr. &lt;name&gt; &lt;telephone&gt; date/time: &lt;date&gt;  1:15  cardiologist: dr. &lt;name&gt;  &lt;date&gt;  at 3:00p    please call to schedule appointments with your  primary care dr. &lt;name&gt; &lt;name&gt; in &lt;telephone&gt;    **please call cardiac surgery office with any questions or  concerns &lt;telephone&gt;. answering service will contact on call  person during off hours**                                   &lt;name&gt; &lt;name&gt; md [**md number(2) 748**]    completed by: &lt;date&gt;</td>\n",
              "      <td>['416', '424', '272', 'V10', 'V85', '414', '250', '401', '278', '782']</td>\n",
              "      <td>['artery', 'redness', 'edema', 'coronary', 'erythema', 'disease']</td>\n",
              "    </tr>\n",
              "    <tr>\n",
              "      <th>41963</th>\n",
              "      <td>186377.0</td>\n",
              "      <td>discharge diagnosis:  coronary artery disease  pmh:  hypertension, diabetes, copd, diastolic heart failure, ef 45-50%  past surgical history  penile implant      discharge condition:  alert and oriented x3 nonfocal  ambulating, gait steady  sternal pain managed with oral analgesics  sternal incision - healing well, no erythema or drainage  right lower extremity saph site clean/dry/intact      discharge instructions:  please draw bun/cre, inr at least every other day until they  stabilize  please shower daily including washing incisions gently with mild  soap, no baths or swimming, and look at your incisions  please no lotions, cream, powder, or ointments to incisions  each morning you should weigh yourself and then in the evening  take your temperature, these should be written down on the chart  no driving for approximately one month and while taking  narcotics, will be discussed at follow up appointment with  surgeon when you will be able to drive  no lifting more than 10 pounds for 10 weeks  please call with any questions or concerns &lt;telephone&gt;  **please call cardiac surgery office with any questions or  concerns &lt;telephone&gt;. answering service will contact on call  person during off hours**      followup instructions:  you are scheduled for the following appointments:  surgeon dr. &lt;name&gt; &lt;telephone&gt;,  &lt;date&gt;  1:00  cardiologist dr. &lt;name&gt;. &lt;name&gt; office will call you with an  appointment  please call to schedule the following:  primary care dr. &lt;name&gt;,&lt;name&gt; in [**3-8**] weeks  please follow up with dr. &lt;name&gt; &lt;name&gt; call &lt;telephone&gt; to  schedule an appointment  dialysis,schedule hemodialysis unit date/time: &lt;date&gt;  12:00  renal: dr. &lt;name&gt; &lt;telephone&gt;  diabetes: if patient requires endocrine follow-up after  discharge from rehab, please contact &lt;name&gt;, &lt;name&gt; at &lt;hospital&gt;  **please call cardiac surgery office with any questions or  concerns &lt;telephone&gt;. answering service will contact on call  person during off hours**    inr draw on [**8-16**]  goal inr [**1-5**]  indication: atrial fibrillation                                   &lt;name&gt; &lt;name&gt; md [**md number(2) 266**]    completed by: &lt;date&gt;</td>\n",
              "      <td>['424', '511', '305', '707', '403', '496', '784', '250', '414', 'V58', '427', '428', '584', '008', '997', '434', '410', '585', '041', '599']</td>\n",
              "      <td>['atrial', 'diabetes', 'diastolic', 'fibrillation', 'heart', 'failure', 'erythema', 'clean/dry/intact']</td>\n",
              "    </tr>\n",
              "    <tr>\n",
              "      <th>41964</th>\n",
              "      <td>156564.0</td>\n",
              "      <td>discharge diagnosis:  left knee infection  chronic obstructive pulmonary disease exacerbation  acute on chronic kidney injury  congestive heart failure  hypertension      discharge condition:  mental status: clear and coherent.  level of consciousness: alert and interactive.  activity status: out of bed with assistance to chair or  wheelchair.      discharge instructions:  mr. &lt;name&gt;,    you were admitted to the hospital for a infected hardware in  your left knee. our orthopaedics team cleaned out the infection  in your knee and replaced the liner of your prosthesis. they  feel you should follow up with your primary orthopaedic doctor,  dr. &lt;name&gt; &lt;name&gt; at &lt;hospital&gt; (&lt;telephone&gt;), for ongoing  issues about your knee. the cultures of the infection in your  knee grew two different organisms, so we consulted our  infectious disease doctors who recommended a course of iv  antibiotics to help treat your infection. because this infection  occured inside of a joint, a longer course of antibiotics is  required. you went multiple times to the operating room to  wash-out your knee of any remaining infection, and your hardware  was removed. most recently you had a portion of tissue grafted  to your knee to provide for better coverage of your wound, along  with skin graft. your kidney function worsened while you were in  the hospital but it appears to have normalized. this should be  followed up with your primary care physician.    we made the following changes to your medications:  started:  vancomycin (antibiotic)  ceftriaxone (antibiotic)    increased metoprolol for blood pressure    followup instructions:  department: plastic surgery  when: wednesday  &lt;date&gt;  at 3:15 pm  with: &lt;name&gt; &lt;name&gt;, md &lt;telephone&gt;  building: lm &lt;name&gt; bldg (&lt;name&gt;) [**location (un) **]  campus: west     best parking: &lt;name&gt; garage    name: &lt;name&gt;, &lt;name&gt; &lt;name&gt; &lt;name&gt;  location: community physicians associates  address: &lt;hospital&gt;,[**numeric identifier 18406**]  phone: &lt;telephone&gt;  appointment: thursday  &lt;date&gt;  1:15pm    department: infectious disease  when: friday  &lt;date&gt;  at 9:30 am  with: &lt;name&gt; &lt;name&gt;, md &lt;telephone&gt;  building: lm &lt;name&gt; bldg (&lt;name&gt;) &lt;hospital&gt;  campus: west     best parking: &lt;name&gt; garage    name: nabi,&lt;name&gt; md  address: &lt;hospital&gt;,[**numeric identifier 18406**]  phone: &lt;telephone&gt;  **please discuss with the staff at the facility a follow up  appointment with your pcp when you are ready for discharge.      department: plastic surgery  when: wednesday  &lt;date&gt;  at 3:15 pm  with: &lt;name&gt; &lt;name&gt;, md &lt;telephone&gt;  building: lm &lt;name&gt; bldg (&lt;name&gt;) [**location (un) **]  campus: west     best parking: &lt;name&gt; garage    department: infectious disease  when: friday  &lt;date&gt;  at 9:30 am  with: &lt;name&gt; &lt;name&gt;, md &lt;telephone&gt;  building: lm &lt;name&gt; bldg (&lt;name&gt;) &lt;hospital&gt;  campus: west     best parking: &lt;name&gt; garage                                   &lt;name&gt; &lt;name&gt; md [**md number(1) 348**]    completed by: &lt;date&gt;</td>\n",
              "      <td>['V10', '403', '584', 'V43', '428', '285', '496', '250', 'V58', '041', '357', '707', '365', '414', '780', '518', '711', '585', '327', 'V12', 'E84', 'E87', '996']</td>\n",
              "      <td>['pulmonary', 'infectious', 'hypertension', 'kidney', 'obstructive', 'heart', 'injury', 'failure', 'metoprolol', 'infection', 'disease']</td>\n",
              "    </tr>\n",
              "    <tr>\n",
              "      <th>41965</th>\n",
              "      <td>172559.0</td>\n",
              "      <td>discharge diagnosis:  primary:  small bowel obstruction  metastatic prostate cancer  anasarca  malnutrition  dehydration  acute renal failure  aspiration pneumonia  .  secondary:  prostate ca s/p xrt and chemo - rising psa (140), lg rp mass,  oa, lbp, diverticulosis w/ colovesical fistula s/p lar [**5-18**], s/p  ileostomy takedown [**10-18**], open ccy      discharge condition:  stable      discharge instructions:  please call your doctor or return to the er for any of the  following:  * you experience new chest pain, pressure, squeezing or  tightness.  * new or worsening cough or wheezing.  * if you are vomiting and cannot keep in fluids or your  medications.  * you are getting dehydrated due to continued vomiting,  diarrhea or other reasons. signs of dehydration include dry  mouth, rapid heartbeat or feeling dizzy or faint when standing.  * you see blood or dark/black material when you vomit or have a  bowel movement.  * your pain is not improving within 8-12 hours or not gone  within 24 hours. call or return immediately if your pain is  getting worse or is changing location or moving to your chest or    back.  *avoid lifting objects &gt; 5lbs until your follow-up appointment  with the surgeon.  *avoid driving or operating heavy machinery while taking pain  medications.  * you have shaking chills, or a fever greater than 101.5 (f)  degrees or 38(c) degrees.  * any serious change in your symptoms, or any new symptoms that  concern you.  * please resume all regular home medications and take any new  meds  as ordered.  * continue to ambulate several times per day.  .  incision care:  -your staples will be removed at your follow-up appointment with  the surgeon, and steri strips will be applied.  -your steri-strips will fall off on their own. please remove any  remaining strips 7-10 days after surgery.  -you may shower, and wash surgical incisions.  -avoid swimming and baths until your follow-up appointment.  -please call the doctor if you have increased pain, swelling,  redness, or drainage from the incision sites.      followup instructions:  1. please follow-up appointment with dr. &lt;name&gt; (&lt;telephone&gt; on  &lt;date&gt;  at 1:15pm for removal of your staples.  2. you have follow-up appointment with dr. &lt;name&gt; &lt;name&gt;, md  phone:&lt;telephone&gt; date/time: &lt;date&gt;  11:00, and chemotherapy at  provider: &lt;name&gt; &lt;name&gt;, rn phone:&lt;telephone&gt; date/time: &lt;date&gt;   12:00  3. provider: &lt;name&gt;,&lt;name&gt; &lt;name&gt; apg (sb)  phone:&lt;telephone&gt; date/time: &lt;date&gt;  10:10                                 &lt;name&gt; &lt;name&gt; md [**md number(1) 17**]    completed by: &lt;date&gt;</td>\n",
              "      <td>['197', '507', '185', '427', '261', '585', 'V66', '560', '783', '285', '276']</td>\n",
              "      <td>['dehydration', 'obstruction', 'cough', 'diverticulosis', 'fever', 'chest', 'vomiting', 'telephone', 'bowel', 'swelling', 'chills', 'prostate', 'colovesical', 'wheezing', 'phone', 'vomit', 'fistula', 'pain', 'cancer']</td>\n",
              "    </tr>\n",
              "    <tr>\n",
              "      <th>41966</th>\n",
              "      <td>135672.0</td>\n",
              "      <td>discharge diagnosis:  peritonitis secondary to small bowel perforation.  cmv enteritis  b-cell lymphoma  line infection  type 2 diabetes controlled without complications  moderate malnutrition  cad bypass vessle      discharge condition:  stable.  tolerating regular diet  pain well controlled with oral medications.      discharge instructions:  you are being discharged on an antiviral medication called  ganciclovir, which can make your diarhea worse for some time.  please contact your doctor if you experience numbness, tingling  or pain in hands or feet, as this may be a side effect of the  medication.    you will be having labs drawn every other day and sent to dr.  &lt;name&gt; of infectious diseases for monitoring of your blood  counts.    *avoid lifting objects &gt; 5lbs until your follow-up appointment  with the surgeon.    *avoid driving or operating heavy machinery while taking pain  medications.    * continue to ambulate several times per day.    incision care:  -your staples will be removed at your follow up appoinetment.  -steri-strips will be applied and will fall off on their own.  please remove any remaining strips 7-10 days after application.  -you may shower, and wash surgical incisions.  -avoid swimming and baths until your follow-up appointment.  -please call the doctor if you have increased pain, swelling,  redness, or drainage from the incision sites.    followup instructions:  you will need to have an ophthalmalogic evaluation to make sure  that there is no evidence of cmv infection of the retina - this  should happen this week.  please call: (&lt;telephone&gt; to  schedule this appointment; if you have any difficulty arranging  this, please discuss this with your primary doctor so that they  can facilitate/arrange this evaluation.    1. please call dr.&lt;name&gt; office, &lt;telephone&gt;, to make a  follow up appointment in [**11-23**] weeks.  scheduled appointments :  provider: &lt;name&gt; &lt;name&gt;, &lt;telephone&gt;  date/time: &lt;date&gt;  10:30  provider: &lt;name&gt; &lt;name&gt;, rn phone:&lt;telephone&gt;  date/time: &lt;date&gt;  11:00  provider: &lt;name&gt; chair 6  date/time: &lt;date&gt;  11:00                                   &lt;name&gt; &lt;name&gt; md [**md number(2) 431**]    completed by: &lt;date&gt;</td>\n",
              "      <td>['202', '401', '584', '255', '283', '238', '038', '785', '250', '008', '041', '272', '996', '078', 'V45', '567', '569', '273', '995', '263', '579', '782']</td>\n",
              "      <td>['infectious', 'telephone', 'bowel', 'swelling', 'diseases', 'phone', 'perforation', 'small', 'infection', 'numbness', 'pain']</td>\n",
              "    </tr>\n",
              "  </tbody>\n",
              "</table>\n",
              "<p>41967 rows × 4 columns</p>\n",
              "</div>"
            ],
            "text/plain": [
              "        HADM_ID  ...                                                                                                                                                                                                                                                                                                                                                                                                                                               medical_terms_list\n",
              "0      167118.0  ...                                                                                                                                                                                                                                                                           ['hypercholesterolemia', 'cerebral', 'hypothyroidism', 'cough', 'accident', 'hypertension', 'artery', 'chest', 'vascular', 'coronary', 'fracture', 'injury', 'angina', 'pain', 'head']\n",
              "1      196489.0  ...  ['pulmonary', 'hypertension', 'of', 'obstructive', 'discomfort', 'gastrointestinal', 'constipation', 'oxygen', 'breath', 'inflammation', 'artery', 'chest', 'hydrochlorothiazide', 'steroid', 'anxiety', 'omeprazole', 'senna', 'trazodone', 'failure', 'shortness', 'disease', 'pantoprazole', 'aspirin', 'hypothyroidism', 'zolpidem', 'furosemide', 'coronary', 'prednisone', 'lethargy', 'steroids', 'ulcer', 'chronic', 'respiratory', 'morphine', 'pain']\n",
              "2      135453.0  ...                                                                                                                                                                                                                                                                    ['ligament', 'spondylosis', 'of', 'cervical', 'urinary', 'posterior', 'calcification', 'olanzapine', 'fracture', 'pneumonia', 'dislocation', 'retention', 'longitudinal', 'morphine', 'pain']\n",
              "3      170490.0  ...                                                                                                                                                                                                                            ['motrin', 'aspirin', 'levetiracetam', 'seizures', 'weakness', 'phenytoin', 'fever', 'redness', 'tenderness', 'docusate', 'infection', 'steroid', 'tingling', 'confusion', 'headache', 'constipation', 'tremors', 'numbness', 'pain']\n",
              "4      134727.0  ...                                                                                                                                                                                                                                                                                                                                                                                                                                                               []\n",
              "...         ...  ...                                                                                                                                                                                                                                                                                                                                                                                                                                                              ...\n",
              "41962  127716.0  ...                                                                                                                                                                                                                                                                                                                                                                                                ['artery', 'redness', 'edema', 'coronary', 'erythema', 'disease']\n",
              "41963  186377.0  ...                                                                                                                                                                                                                                                                                                                                                          ['atrial', 'diabetes', 'diastolic', 'fibrillation', 'heart', 'failure', 'erythema', 'clean/dry/intact']\n",
              "41964  156564.0  ...                                                                                                                                                                                                                                                                                                                         ['pulmonary', 'infectious', 'hypertension', 'kidney', 'obstructive', 'heart', 'injury', 'failure', 'metoprolol', 'infection', 'disease']\n",
              "41965  172559.0  ...                                                                                                                                                                                                                                        ['dehydration', 'obstruction', 'cough', 'diverticulosis', 'fever', 'chest', 'vomiting', 'telephone', 'bowel', 'swelling', 'chills', 'prostate', 'colovesical', 'wheezing', 'phone', 'vomit', 'fistula', 'pain', 'cancer']\n",
              "41966  135672.0  ...                                                                                                                                                                                                                                                                                                                                   ['infectious', 'telephone', 'bowel', 'swelling', 'diseases', 'phone', 'perforation', 'small', 'infection', 'numbness', 'pain']\n",
              "\n",
              "[41967 rows x 4 columns]"
            ]
          },
          "metadata": {
            "tags": []
          },
          "execution_count": 5
        }
      ]
    },
    {
      "cell_type": "code",
      "metadata": {
        "id": "39xHisoxEzzi"
      },
      "source": [
        "diagnosis_icd9category_token['medical_terms_list']=diagnosis_icd9category_token.medical_terms_list.apply(literal_eval)\n",
        "diagnosis_icd9category_token['icd9_category']=diagnosis_icd9category_token.icd9_category.apply(literal_eval)"
      ],
      "execution_count": null,
      "outputs": []
    },
    {
      "cell_type": "code",
      "metadata": {
        "colab": {
          "base_uri": "https://localhost:8080/",
          "height": 1000
        },
        "id": "ZVePU4SuGGe4",
        "outputId": "0902694a-bb9e-4b5f-e165-0525dab5d81f"
      },
      "source": [
        "diagnosis_icd9category_token"
      ],
      "execution_count": null,
      "outputs": [
        {
          "output_type": "execute_result",
          "data": {
            "text/html": [
              "<div>\n",
              "<style scoped>\n",
              "    .dataframe tbody tr th:only-of-type {\n",
              "        vertical-align: middle;\n",
              "    }\n",
              "\n",
              "    .dataframe tbody tr th {\n",
              "        vertical-align: top;\n",
              "    }\n",
              "\n",
              "    .dataframe thead th {\n",
              "        text-align: right;\n",
              "    }\n",
              "</style>\n",
              "<table border=\"1\" class=\"dataframe\">\n",
              "  <thead>\n",
              "    <tr style=\"text-align: right;\">\n",
              "      <th></th>\n",
              "      <th>HADM_ID</th>\n",
              "      <th>discharge diagnosis:</th>\n",
              "      <th>icd9_category</th>\n",
              "      <th>medical_terms_list</th>\n",
              "    </tr>\n",
              "  </thead>\n",
              "  <tbody>\n",
              "    <tr>\n",
              "      <th>0</th>\n",
              "      <td>167118.0</td>\n",
              "      <td>discharge diagnosis:  copd, coronary artery disease/atypical angina (lad 30%, rca 30%,  ef 63%), hypercholesterolemia, hypothyroidism, hypertension,  hiatal hernia, cerebral vascular accident,s/p motor vehicle  colision-&gt; head injury &amp; rib fracture.  tbm- s/p tracheoplasty.      discharge condition:  good    discharge instructions:  please update dr.&lt;name&gt; &lt;telephone&gt; office for:  fever,  shortness of breath, chest pain , productive cough or if you  have any questions or concerns.      completed by: &lt;date&gt;</td>\n",
              "      <td>[496, 553, 518, 453, 519, 276]</td>\n",
              "      <td>[hypercholesterolemia, cerebral, hypothyroidism, cough, accident, hypertension, artery, chest, vascular, coronary, fracture, injury, angina, pain, head]</td>\n",
              "    </tr>\n",
              "    <tr>\n",
              "      <th>1</th>\n",
              "      <td>196489.0</td>\n",
              "      <td>discharge diagnosis:  primary:  1. chronic obstructive pulmonary disease exacerbation  2. respiratory failure with intubation  3. upper gastrointestinal bleed/peptic ulcer disease  4. hypertension  5. anxiety    secondary:  1. coronary artery disease  2. hypothyroidism      discharge condition:  mental status: confused - sometimes.  level of consciousness: alert and interactive.  activity status: out of bed with assistance to chair or  wheelchair.      discharge instructions:  you were admitted to the hospital with shortness of breath and  respiratory failure and lethargy. in the emergency department,  you were breathing very fast and a breathing tube was inserted  into your airway to help you breathe. you were admitted to the  intensive care unit. there, you were managed with steroids and  antibiotics and the tube was eventually removed from your  airway, allowing you to breathe on your own. you also underwent  bronchoscopy which looked at the inside of your airways.  .  during your time in the intensive care unit, you developed a  gastrointestinal bleed. a tube was placed into your stomach and  you underwent an endoscopic procedure to look at your esophagus  and stomach. this showed inflammation in your esophagusand  ulcers in your stomach.  .  you should continue to use nasal oxygen by nasal cannula as  needed. you should continue the steroid taper as instructed. you  should call your doctor or return to the emergency room if you  have increasing difficulty breathing or shortness of breath,  wheezing, chest pain, blood in your stool or vomiting blood.  .  there are some changes in your medications.  start pantoprazole 40 mg twice daily and stop omeprazole  start hydrochlorothiazide  start prednisone, taking 30 mg for 3 days, then 20 mg for 4  days, then 10 mg for 4 days, then 5 mg for 4 days, then stop.  start colace and senna as needed for constipation  can use morphine to alleviate symptoms of respiratory discomfort  stop furosemide  stop zolpidem  stop aspirin  increase diovan to 240 mg daily  decrease trazodone to 50 mg daily  .  follow up as indicated below.    followup instructions:  you have an appointment to follow up with dr. &lt;name&gt;, your  primary care physician, &lt;name&gt; [**8-29**] at 1pm. his address is [**location (un) 1822**], [**apartment address(1) 1823**], [**location (un) **],[**numeric identifier 1700**]. the phone is  &lt;telephone&gt;.    you have an appointment to follow up with dr. &lt;name&gt; &lt;name&gt; in  the  &lt;name&gt; at &lt;hospital&gt; on the [**location (un) 453**]. their phone number is  &lt;telephone&gt;.    department: div. of gastroenterology  when: wednesday  &lt;date&gt;  at 3:00 pm  with: &lt;name&gt; &lt;name&gt;, md &lt;telephone&gt;  building: ra &lt;name&gt; (&lt;name&gt;/&lt;name&gt; complex) [**location (un) **]  campus: east     best parking: main garage</td>\n",
              "      <td>[487, 416, 272, 530, 414, 553, 531, 518, 401, 519, 348, V02, 359, 584, 458, 578, 491, E93, 276, 244]</td>\n",
              "      <td>[pulmonary, hypertension, of, obstructive, discomfort, gastrointestinal, constipation, oxygen, breath, inflammation, artery, chest, hydrochlorothiazide, steroid, anxiety, omeprazole, senna, trazodone, failure, shortness, disease, pantoprazole, aspirin, hypothyroidism, zolpidem, furosemide, coronary, prednisone, lethargy, steroids, ulcer, chronic, respiratory, morphine, pain]</td>\n",
              "    </tr>\n",
              "    <tr>\n",
              "      <th>2</th>\n",
              "      <td>135453.0</td>\n",
              "      <td>discharge diagnosis:  1. cervical spondylosis with calcification of posterior  longitudinal ligament.  2. fracture dislocation c6-c7.  3. ossification of the posterior longitudinal ligament.  4. aspiration pneumonia      1. cervical spondylosis with calcification of posterior      longitudinal ligament.  2. fracture dislocation c6-c7.  3. ossification of the posterior longitudinal ligament.  4. aspiration pneumonia    1. cervical spondylosis with calcification of posterior      longitudinal ligament.  2. fracture dislocation c6-c7.  3. ossification of the posterior longitudinal ligament.  4. aspiration pneumonia      discharge condition:  stable to outside facility      discharge instructions:  patient has been made cmo at the request of him and his family.  he has a foley placed for urinary retention. please use morphine  as needed for pain and olanzapine as needed for agitiation.  patient has known history of aspiration documented on speech and  swallow. it is the patient and the family's wish for him to  continue to eat and drink as desired.    followup instructions:  follow up with your primary care physician as needed.</td>\n",
              "      <td>[V12, 788, 805, 507, V45, 401, 427, 453, E88, 293, 802, 428]</td>\n",
              "      <td>[ligament, spondylosis, of, cervical, urinary, posterior, calcification, olanzapine, fracture, pneumonia, dislocation, retention, longitudinal, morphine, pain]</td>\n",
              "    </tr>\n",
              "    <tr>\n",
              "      <th>3</th>\n",
              "      <td>170490.0</td>\n",
              "      <td>discharge diagnosis:  brain lesion    discharge condition:  mental status: clear and coherent.  level of consciousness: alert and interactive.  activity status: ambulatory - independent.  neuro exam intact.    discharge instructions:  ??????\\thave a friend/family member check your incision daily for  signs of infection.  ??????\\ttake your pain medicine as prescribed.  ??????\\texercise should be limited to walking; no lifting, straining,  or excessive bending.  ??????\\tyou have dissolvable sutures, you must keep that area dry for  10 days.  ??????\\tyou may shower before this time using a shower cap to cover  your head.  ??????\\tincrease your intake of fluids and fiber, as narcotic pain  medicine can cause constipation. we generally recommend taking  an over the counter stool softener, such as docusate (colace)  while taking narcotic pain medication.  ??????\\tunless directed by your doctor, do not take any  anti-inflammatory medicines such as motrin, aspirin, advil, and  ibuprofen etc.  ??????\\tif you have been prescribed dilantin (phenytoin) for  anti-seizure medicine, take it as prescribed and follow up with  laboratory blood drawing in one week.  this can be drawn at your  pcp??????s office, but please have the results faxed to &lt;telephone&gt;.  if you have been discharged on keppra (levetiracetam), you will  not require blood work monitoring.  ??????\\tif you are being sent home on steroid medication, make sure  you are taking a medication to protect your stomach (prilosec,  protonix, or pepcid), as these medications can cause stomach  irritation.  make sure to take your steroid medication with  meals, or a glass of milk.  ??????\\tclearance to drive and return to work will be addressed at  your post-operative office visit.  ??????\\tmake sure to continue to use your incentive spirometer while  at home.  call your surgeon immediately if you experience any of the  following    ??????\\tnew onset of tremors or seizures.  ??????\\tany confusion or change in mental status.  ??????\\tany numbness, tingling, weakness in your extremities.  ??????\\tpain or headache that is continually increasing, or not  relieved by pain medication.  ??????\\tany signs of infection at the wound site: increasing redness,  increased swelling, increased tenderness, or drainage.  ??????\\tfever greater than or equal to 101?????? f.    followup instructions:  ??????\\tplease return to the office in [**6-28**] days (from your date of  surgery) for a wound check. this appointment can be made with  the nurse practitioner.  please make this appointment by calling  &lt;telephone&gt;. if you live quite a distance from our office,  please make arrangements for the same, with your pcp.</td>\n",
              "      <td>[710, 225, 443, 714, 530, V43]</td>\n",
              "      <td>[motrin, aspirin, levetiracetam, seizures, weakness, phenytoin, fever, redness, tenderness, docusate, infection, steroid, tingling, confusion, headache, constipation, tremors, numbness, pain]</td>\n",
              "    </tr>\n",
              "    <tr>\n",
              "      <th>4</th>\n",
              "      <td>134727.0</td>\n",
              "      <td>discharge diagnosis:  pneumonia    discharge condition:  expired    discharge instructions:  na    followup instructions:  na                                 &lt;name&gt; &lt;name&gt; md [**md number(2) 1851**]</td>\n",
              "      <td>[486, 518, V45, V58, 401, 577, 415, 428]</td>\n",
              "      <td>[]</td>\n",
              "    </tr>\n",
              "    <tr>\n",
              "      <th>...</th>\n",
              "      <td>...</td>\n",
              "      <td>...</td>\n",
              "      <td>...</td>\n",
              "      <td>...</td>\n",
              "    </tr>\n",
              "    <tr>\n",
              "      <th>41962</th>\n",
              "      <td>127716.0</td>\n",
              "      <td>discharge diagnosis:  aortic stenosis and coronary artery disease s/p aortic valve  replacement and coronary artery bypass graft  past medical history:  hypertension  hyperlipidemia  diabetes mellitus  osteoarthritis  phlebitis  lung cancer  hiatal hernia  hypthyroidism  s/p right lobectomy [**2117**]  s/p lymph node dissection in neck  s/p beast lumpectomy  s/p hysterectomy  s/p c section  s/p tonsillectomy      discharge condition:  alert and oriented x3 nonfocal  ambulating, steady gait  incisional pain managed with ultram  incisions:  sternal - healing well, no erythema or drainage  1+ le edema      discharge instructions:  please shower daily including washing incisions gently with mild  soap, no baths or swimming until cleared by surgeon. look at  your incisions daily for redness or drainage  please no lotions, cream, powder, or ointments to incisions  each morning you should weigh yourself and then in the evening  take your temperature, these should be written down on the chart    no driving for one month or while taking narcotics. driving will  be discussed at follow up appointment with surgeon. no lifting  more than 10 pounds for 10 weeks  please call with any questions or concerns &lt;telephone&gt;  females: please wear bra to reduce pulling on incision, avoid  rubbing on lower edge  **please call cardiac surgery office with any questions or  concerns &lt;telephone&gt;. answering service will contact on call  person during off hours**    followup instructions:  you are scheduled for the following appointments  wound care, &lt;name&gt;, &lt;name&gt;  phone:&lt;telephone&gt;  date/time: &lt;date&gt;  10:00    surgeon: dr. &lt;name&gt; &lt;telephone&gt; date/time: &lt;date&gt;  1:15  cardiologist: dr. &lt;name&gt;  &lt;date&gt;  at 3:00p    please call to schedule appointments with your  primary care dr. &lt;name&gt; &lt;name&gt; in &lt;telephone&gt;    **please call cardiac surgery office with any questions or  concerns &lt;telephone&gt;. answering service will contact on call  person during off hours**                                   &lt;name&gt; &lt;name&gt; md [**md number(2) 748**]    completed by: &lt;date&gt;</td>\n",
              "      <td>[416, 424, 272, V10, V85, 414, 250, 401, 278, 782]</td>\n",
              "      <td>[artery, redness, edema, coronary, erythema, disease]</td>\n",
              "    </tr>\n",
              "    <tr>\n",
              "      <th>41963</th>\n",
              "      <td>186377.0</td>\n",
              "      <td>discharge diagnosis:  coronary artery disease  pmh:  hypertension, diabetes, copd, diastolic heart failure, ef 45-50%  past surgical history  penile implant      discharge condition:  alert and oriented x3 nonfocal  ambulating, gait steady  sternal pain managed with oral analgesics  sternal incision - healing well, no erythema or drainage  right lower extremity saph site clean/dry/intact      discharge instructions:  please draw bun/cre, inr at least every other day until they  stabilize  please shower daily including washing incisions gently with mild  soap, no baths or swimming, and look at your incisions  please no lotions, cream, powder, or ointments to incisions  each morning you should weigh yourself and then in the evening  take your temperature, these should be written down on the chart  no driving for approximately one month and while taking  narcotics, will be discussed at follow up appointment with  surgeon when you will be able to drive  no lifting more than 10 pounds for 10 weeks  please call with any questions or concerns &lt;telephone&gt;  **please call cardiac surgery office with any questions or  concerns &lt;telephone&gt;. answering service will contact on call  person during off hours**      followup instructions:  you are scheduled for the following appointments:  surgeon dr. &lt;name&gt; &lt;telephone&gt;,  &lt;date&gt;  1:00  cardiologist dr. &lt;name&gt;. &lt;name&gt; office will call you with an  appointment  please call to schedule the following:  primary care dr. &lt;name&gt;,&lt;name&gt; in [**3-8**] weeks  please follow up with dr. &lt;name&gt; &lt;name&gt; call &lt;telephone&gt; to  schedule an appointment  dialysis,schedule hemodialysis unit date/time: &lt;date&gt;  12:00  renal: dr. &lt;name&gt; &lt;telephone&gt;  diabetes: if patient requires endocrine follow-up after  discharge from rehab, please contact &lt;name&gt;, &lt;name&gt; at &lt;hospital&gt;  **please call cardiac surgery office with any questions or  concerns &lt;telephone&gt;. answering service will contact on call  person during off hours**    inr draw on [**8-16**]  goal inr [**1-5**]  indication: atrial fibrillation                                   &lt;name&gt; &lt;name&gt; md [**md number(2) 266**]    completed by: &lt;date&gt;</td>\n",
              "      <td>[424, 511, 305, 707, 403, 496, 784, 250, 414, V58, 427, 428, 584, 008, 997, 434, 410, 585, 041, 599]</td>\n",
              "      <td>[atrial, diabetes, diastolic, fibrillation, heart, failure, erythema, clean/dry/intact]</td>\n",
              "    </tr>\n",
              "    <tr>\n",
              "      <th>41964</th>\n",
              "      <td>156564.0</td>\n",
              "      <td>discharge diagnosis:  left knee infection  chronic obstructive pulmonary disease exacerbation  acute on chronic kidney injury  congestive heart failure  hypertension      discharge condition:  mental status: clear and coherent.  level of consciousness: alert and interactive.  activity status: out of bed with assistance to chair or  wheelchair.      discharge instructions:  mr. &lt;name&gt;,    you were admitted to the hospital for a infected hardware in  your left knee. our orthopaedics team cleaned out the infection  in your knee and replaced the liner of your prosthesis. they  feel you should follow up with your primary orthopaedic doctor,  dr. &lt;name&gt; &lt;name&gt; at &lt;hospital&gt; (&lt;telephone&gt;), for ongoing  issues about your knee. the cultures of the infection in your  knee grew two different organisms, so we consulted our  infectious disease doctors who recommended a course of iv  antibiotics to help treat your infection. because this infection  occured inside of a joint, a longer course of antibiotics is  required. you went multiple times to the operating room to  wash-out your knee of any remaining infection, and your hardware  was removed. most recently you had a portion of tissue grafted  to your knee to provide for better coverage of your wound, along  with skin graft. your kidney function worsened while you were in  the hospital but it appears to have normalized. this should be  followed up with your primary care physician.    we made the following changes to your medications:  started:  vancomycin (antibiotic)  ceftriaxone (antibiotic)    increased metoprolol for blood pressure    followup instructions:  department: plastic surgery  when: wednesday  &lt;date&gt;  at 3:15 pm  with: &lt;name&gt; &lt;name&gt;, md &lt;telephone&gt;  building: lm &lt;name&gt; bldg (&lt;name&gt;) [**location (un) **]  campus: west     best parking: &lt;name&gt; garage    name: &lt;name&gt;, &lt;name&gt; &lt;name&gt; &lt;name&gt;  location: community physicians associates  address: &lt;hospital&gt;,[**numeric identifier 18406**]  phone: &lt;telephone&gt;  appointment: thursday  &lt;date&gt;  1:15pm    department: infectious disease  when: friday  &lt;date&gt;  at 9:30 am  with: &lt;name&gt; &lt;name&gt;, md &lt;telephone&gt;  building: lm &lt;name&gt; bldg (&lt;name&gt;) &lt;hospital&gt;  campus: west     best parking: &lt;name&gt; garage    name: nabi,&lt;name&gt; md  address: &lt;hospital&gt;,[**numeric identifier 18406**]  phone: &lt;telephone&gt;  **please discuss with the staff at the facility a follow up  appointment with your pcp when you are ready for discharge.      department: plastic surgery  when: wednesday  &lt;date&gt;  at 3:15 pm  with: &lt;name&gt; &lt;name&gt;, md &lt;telephone&gt;  building: lm &lt;name&gt; bldg (&lt;name&gt;) [**location (un) **]  campus: west     best parking: &lt;name&gt; garage    department: infectious disease  when: friday  &lt;date&gt;  at 9:30 am  with: &lt;name&gt; &lt;name&gt;, md &lt;telephone&gt;  building: lm &lt;name&gt; bldg (&lt;name&gt;) &lt;hospital&gt;  campus: west     best parking: &lt;name&gt; garage                                   &lt;name&gt; &lt;name&gt; md [**md number(1) 348**]    completed by: &lt;date&gt;</td>\n",
              "      <td>[V10, 403, 584, V43, 428, 285, 496, 250, V58, 041, 357, 707, 365, 414, 780, 518, 711, 585, 327, V12, E84, E87, 996]</td>\n",
              "      <td>[pulmonary, infectious, hypertension, kidney, obstructive, heart, injury, failure, metoprolol, infection, disease]</td>\n",
              "    </tr>\n",
              "    <tr>\n",
              "      <th>41965</th>\n",
              "      <td>172559.0</td>\n",
              "      <td>discharge diagnosis:  primary:  small bowel obstruction  metastatic prostate cancer  anasarca  malnutrition  dehydration  acute renal failure  aspiration pneumonia  .  secondary:  prostate ca s/p xrt and chemo - rising psa (140), lg rp mass,  oa, lbp, diverticulosis w/ colovesical fistula s/p lar [**5-18**], s/p  ileostomy takedown [**10-18**], open ccy      discharge condition:  stable      discharge instructions:  please call your doctor or return to the er for any of the  following:  * you experience new chest pain, pressure, squeezing or  tightness.  * new or worsening cough or wheezing.  * if you are vomiting and cannot keep in fluids or your  medications.  * you are getting dehydrated due to continued vomiting,  diarrhea or other reasons. signs of dehydration include dry  mouth, rapid heartbeat or feeling dizzy or faint when standing.  * you see blood or dark/black material when you vomit or have a  bowel movement.  * your pain is not improving within 8-12 hours or not gone  within 24 hours. call or return immediately if your pain is  getting worse or is changing location or moving to your chest or    back.  *avoid lifting objects &gt; 5lbs until your follow-up appointment  with the surgeon.  *avoid driving or operating heavy machinery while taking pain  medications.  * you have shaking chills, or a fever greater than 101.5 (f)  degrees or 38(c) degrees.  * any serious change in your symptoms, or any new symptoms that  concern you.  * please resume all regular home medications and take any new  meds  as ordered.  * continue to ambulate several times per day.  .  incision care:  -your staples will be removed at your follow-up appointment with  the surgeon, and steri strips will be applied.  -your steri-strips will fall off on their own. please remove any  remaining strips 7-10 days after surgery.  -you may shower, and wash surgical incisions.  -avoid swimming and baths until your follow-up appointment.  -please call the doctor if you have increased pain, swelling,  redness, or drainage from the incision sites.      followup instructions:  1. please follow-up appointment with dr. &lt;name&gt; (&lt;telephone&gt; on  &lt;date&gt;  at 1:15pm for removal of your staples.  2. you have follow-up appointment with dr. &lt;name&gt; &lt;name&gt;, md  phone:&lt;telephone&gt; date/time: &lt;date&gt;  11:00, and chemotherapy at  provider: &lt;name&gt; &lt;name&gt;, rn phone:&lt;telephone&gt; date/time: &lt;date&gt;   12:00  3. provider: &lt;name&gt;,&lt;name&gt; &lt;name&gt; apg (sb)  phone:&lt;telephone&gt; date/time: &lt;date&gt;  10:10                                 &lt;name&gt; &lt;name&gt; md [**md number(1) 17**]    completed by: &lt;date&gt;</td>\n",
              "      <td>[197, 507, 185, 427, 261, 585, V66, 560, 783, 285, 276]</td>\n",
              "      <td>[dehydration, obstruction, cough, diverticulosis, fever, chest, vomiting, telephone, bowel, swelling, chills, prostate, colovesical, wheezing, phone, vomit, fistula, pain, cancer]</td>\n",
              "    </tr>\n",
              "    <tr>\n",
              "      <th>41966</th>\n",
              "      <td>135672.0</td>\n",
              "      <td>discharge diagnosis:  peritonitis secondary to small bowel perforation.  cmv enteritis  b-cell lymphoma  line infection  type 2 diabetes controlled without complications  moderate malnutrition  cad bypass vessle      discharge condition:  stable.  tolerating regular diet  pain well controlled with oral medications.      discharge instructions:  you are being discharged on an antiviral medication called  ganciclovir, which can make your diarhea worse for some time.  please contact your doctor if you experience numbness, tingling  or pain in hands or feet, as this may be a side effect of the  medication.    you will be having labs drawn every other day and sent to dr.  &lt;name&gt; of infectious diseases for monitoring of your blood  counts.    *avoid lifting objects &gt; 5lbs until your follow-up appointment  with the surgeon.    *avoid driving or operating heavy machinery while taking pain  medications.    * continue to ambulate several times per day.    incision care:  -your staples will be removed at your follow up appoinetment.  -steri-strips will be applied and will fall off on their own.  please remove any remaining strips 7-10 days after application.  -you may shower, and wash surgical incisions.  -avoid swimming and baths until your follow-up appointment.  -please call the doctor if you have increased pain, swelling,  redness, or drainage from the incision sites.    followup instructions:  you will need to have an ophthalmalogic evaluation to make sure  that there is no evidence of cmv infection of the retina - this  should happen this week.  please call: (&lt;telephone&gt; to  schedule this appointment; if you have any difficulty arranging  this, please discuss this with your primary doctor so that they  can facilitate/arrange this evaluation.    1. please call dr.&lt;name&gt; office, &lt;telephone&gt;, to make a  follow up appointment in [**11-23**] weeks.  scheduled appointments :  provider: &lt;name&gt; &lt;name&gt;, &lt;telephone&gt;  date/time: &lt;date&gt;  10:30  provider: &lt;name&gt; &lt;name&gt;, rn phone:&lt;telephone&gt;  date/time: &lt;date&gt;  11:00  provider: &lt;name&gt; chair 6  date/time: &lt;date&gt;  11:00                                   &lt;name&gt; &lt;name&gt; md [**md number(2) 431**]    completed by: &lt;date&gt;</td>\n",
              "      <td>[202, 401, 584, 255, 283, 238, 038, 785, 250, 008, 041, 272, 996, 078, V45, 567, 569, 273, 995, 263, 579, 782]</td>\n",
              "      <td>[infectious, telephone, bowel, swelling, diseases, phone, perforation, small, infection, numbness, pain]</td>\n",
              "    </tr>\n",
              "  </tbody>\n",
              "</table>\n",
              "<p>41967 rows × 4 columns</p>\n",
              "</div>"
            ],
            "text/plain": [
              "        HADM_ID  ...                                                                                                                                                                                                                                                                                                                                                                         medical_terms_list\n",
              "0      167118.0  ...                                                                                                                                                                                                                                   [hypercholesterolemia, cerebral, hypothyroidism, cough, accident, hypertension, artery, chest, vascular, coronary, fracture, injury, angina, pain, head]\n",
              "1      196489.0  ...  [pulmonary, hypertension, of, obstructive, discomfort, gastrointestinal, constipation, oxygen, breath, inflammation, artery, chest, hydrochlorothiazide, steroid, anxiety, omeprazole, senna, trazodone, failure, shortness, disease, pantoprazole, aspirin, hypothyroidism, zolpidem, furosemide, coronary, prednisone, lethargy, steroids, ulcer, chronic, respiratory, morphine, pain]\n",
              "2      135453.0  ...                                                                                                                                                                                                                            [ligament, spondylosis, of, cervical, urinary, posterior, calcification, olanzapine, fracture, pneumonia, dislocation, retention, longitudinal, morphine, pain]\n",
              "3      170490.0  ...                                                                                                                                                                                            [motrin, aspirin, levetiracetam, seizures, weakness, phenytoin, fever, redness, tenderness, docusate, infection, steroid, tingling, confusion, headache, constipation, tremors, numbness, pain]\n",
              "4      134727.0  ...                                                                                                                                                                                                                                                                                                                                                                                         []\n",
              "...         ...  ...                                                                                                                                                                                                                                                                                                                                                                                        ...\n",
              "41962  127716.0  ...                                                                                                                                                                                                                                                                                                                                      [artery, redness, edema, coronary, erythema, disease]\n",
              "41963  186377.0  ...                                                                                                                                                                                                                                                                                                    [atrial, diabetes, diastolic, fibrillation, heart, failure, erythema, clean/dry/intact]\n",
              "41964  156564.0  ...                                                                                                                                                                                                                                                                         [pulmonary, infectious, hypertension, kidney, obstructive, heart, injury, failure, metoprolol, infection, disease]\n",
              "41965  172559.0  ...                                                                                                                                                                                                        [dehydration, obstruction, cough, diverticulosis, fever, chest, vomiting, telephone, bowel, swelling, chills, prostate, colovesical, wheezing, phone, vomit, fistula, pain, cancer]\n",
              "41966  135672.0  ...                                                                                                                                                                                                                                                                                   [infectious, telephone, bowel, swelling, diseases, phone, perforation, small, infection, numbness, pain]\n",
              "\n",
              "[41967 rows x 4 columns]"
            ]
          },
          "metadata": {
            "tags": []
          },
          "execution_count": 7
        }
      ]
    },
    {
      "cell_type": "code",
      "metadata": {
        "id": "G0b9wjNNXf0z"
      },
      "source": [
        "category_med_terms={}\n",
        "common_diagnosis_terms=[\"monday\",\"telephone\",\"of\",\"phone\"]\n",
        "for i in frequent_icd9category:\n",
        "    diagnosis_x=diagnosis_icd9category_token.loc[diagnosis_icd9category_token.icd9_category.apply(lambda x: i in x)].copy()\n",
        "    y=diagnosis_x.medical_terms_list.to_list()    \n",
        "    z=[list(set(a)) for a in y]\n",
        "    z1=[a for b in z for a in b]\n",
        "    dict_med=dict(Counter(z1))\n",
        "    dict_med=dict(sorted(dict_med.items(),key= lambda x: x[1],reverse=True))\n",
        "    dict_med_list=list(dict_med)\n",
        "    dict_med_list1=[a for a in dict_med_list if a not in common_diagnosis_terms]\n",
        "    category_med_terms[i]=dict_med_list1[:50]\n",
        "\n",
        "diagnosis_icdcategory_medterms={'icd9category':[i for i in category_med_terms],\n",
        "                                'frequent_medterms':[category_med_terms[i] for i in category_med_terms]}\n",
        "diagnosis_icdcategory_medterms_df=pd.DataFrame.from_dict(diagnosis_icdcategory_medterms)\n",
        "\n",
        "diagnosis_icdcategory_medterms_df"
      ],
      "execution_count": null,
      "outputs": []
    },
    {
      "cell_type": "code",
      "metadata": {
        "colab": {
          "base_uri": "https://localhost:8080/"
        },
        "id": "tZrt52vGKobf",
        "outputId": "718c3d5b-93a5-421e-c10a-87594babff71"
      },
      "source": [
        "y=diagnosis_icdcategory_medterms_df.frequent_medterms.to_list()\n",
        "y1=[a for b in y for a in b]\n",
        "medical=dict(Counter(y1))\n",
        "print([k for (k,v) in medical.items() if v>=16])"
      ],
      "execution_count": null,
      "outputs": [
        {
          "output_type": "stream",
          "text": [
            "[]\n"
          ],
          "name": "stdout"
        }
      ]
    },
    {
      "cell_type": "code",
      "metadata": {
        "id": "V2PMVt0XYLaA"
      },
      "source": [
        "bagofwords=list(set([a for b in diagnosis_icdcategory_medterms_df.frequent_medterms.to_list() for a in b]))"
      ],
      "execution_count": null,
      "outputs": []
    },
    {
      "cell_type": "code",
      "metadata": {
        "colab": {
          "base_uri": "https://localhost:8080/"
        },
        "id": "ya_OSZY1ZA2N",
        "outputId": "8a2d6840-e0e5-4f62-c96e-5210a4db8d5a"
      },
      "source": [
        "len(bagofwords)"
      ],
      "execution_count": null,
      "outputs": [
        {
          "output_type": "execute_result",
          "data": {
            "text/plain": [
              "76"
            ]
          },
          "metadata": {
            "tags": []
          },
          "execution_count": 17
        }
      ]
    },
    {
      "cell_type": "code",
      "metadata": {
        "colab": {
          "base_uri": "https://localhost:8080/"
        },
        "id": "oEvENIyUcVqv",
        "outputId": "1062cd64-a2d4-4fd2-eda9-c0e8235479de"
      },
      "source": [
        "set(bagofwords).issubset(model.vocab)"
      ],
      "execution_count": null,
      "outputs": [
        {
          "output_type": "execute_result",
          "data": {
            "text/plain": [
              "True"
            ]
          },
          "metadata": {
            "tags": []
          },
          "execution_count": 18
        }
      ]
    },
    {
      "cell_type": "code",
      "metadata": {
        "id": "S6UeDPTTuT9K"
      },
      "source": [
        "simi_matrix=np.zeros((len(bagofwords),len(bagofwords)))"
      ],
      "execution_count": null,
      "outputs": []
    },
    {
      "cell_type": "code",
      "metadata": {
        "colab": {
          "base_uri": "https://localhost:8080/"
        },
        "id": "15swp_iazhX_",
        "outputId": "88e25f83-0369-4751-ae86-030130e51342"
      },
      "source": [
        "simi_matrix"
      ],
      "execution_count": null,
      "outputs": [
        {
          "output_type": "execute_result",
          "data": {
            "text/plain": [
              "array([[0., 0., 0., ..., 0., 0., 0.],\n",
              "       [0., 0., 0., ..., 0., 0., 0.],\n",
              "       [0., 0., 0., ..., 0., 0., 0.],\n",
              "       ...,\n",
              "       [0., 0., 0., ..., 0., 0., 0.],\n",
              "       [0., 0., 0., ..., 0., 0., 0.],\n",
              "       [0., 0., 0., ..., 0., 0., 0.]])"
            ]
          },
          "metadata": {
            "tags": []
          },
          "execution_count": 20
        }
      ]
    },
    {
      "cell_type": "code",
      "metadata": {
        "colab": {
          "base_uri": "https://localhost:8080/"
        },
        "id": "vImefDkQzica",
        "outputId": "ec8c8573-3504-415f-ed05-896aa2ac6a42"
      },
      "source": [
        "simi_matrix.shape"
      ],
      "execution_count": null,
      "outputs": [
        {
          "output_type": "execute_result",
          "data": {
            "text/plain": [
              "(76, 76)"
            ]
          },
          "metadata": {
            "tags": []
          },
          "execution_count": 21
        }
      ]
    },
    {
      "cell_type": "code",
      "metadata": {
        "colab": {
          "base_uri": "https://localhost:8080/"
        },
        "id": "UEVJQYXRzl-r",
        "outputId": "7d7c2dd9-2ba4-41b4-fbea-f4a5eb4b5e6b"
      },
      "source": [
        "for i in tqdm(range(len(bagofwords))):\n",
        "  for j in range(len(bagofwords)):\n",
        "    simi_matrix[i][j]=model.similarity(bagofwords[i],bagofwords[j])"
      ],
      "execution_count": null,
      "outputs": [
        {
          "output_type": "stream",
          "text": [
            "100%|██████████| 76/76 [00:00<00:00, 783.53it/s]\n"
          ],
          "name": "stderr"
        }
      ]
    },
    {
      "cell_type": "code",
      "metadata": {
        "colab": {
          "base_uri": "https://localhost:8080/"
        },
        "id": "szLrlRmq5nwl",
        "outputId": "17e5c0a1-dcf2-4f66-e85f-8090db37348f"
      },
      "source": [
        "simi_matrix"
      ],
      "execution_count": null,
      "outputs": [
        {
          "output_type": "execute_result",
          "data": {
            "text/plain": [
              "array([[0.99999994, 0.25552419, 0.32569456, ..., 0.34229475, 0.30997536,\n",
              "        0.3215678 ],\n",
              "       [0.25552419, 0.99999994, 0.26996946, ..., 0.36623082, 0.38000947,\n",
              "        0.30598155],\n",
              "       [0.32569456, 0.26996946, 1.        , ..., 0.27386397, 0.4312855 ,\n",
              "        0.41733652],\n",
              "       ...,\n",
              "       [0.34229475, 0.36623082, 0.27386397, ..., 0.99999994, 0.2215088 ,\n",
              "        0.28342548],\n",
              "       [0.30997536, 0.38000947, 0.4312855 , ..., 0.2215088 , 1.        ,\n",
              "        0.38060111],\n",
              "       [0.3215678 , 0.30598155, 0.41733652, ..., 0.28342548, 0.38060111,\n",
              "        1.        ]])"
            ]
          },
          "metadata": {
            "tags": []
          },
          "execution_count": 23
        }
      ]
    },
    {
      "cell_type": "code",
      "metadata": {
        "id": "ycG91rwf5pxg"
      },
      "source": [
        "features={}\n",
        "for i in range(len(bagofwords)-1):\n",
        "  similar=[]\n",
        "  for j in range(i+1,len(bagofwords)):\n",
        "    if simi_matrix[i][j]>=0.7:\n",
        "      similar.append(bagofwords[j])\n",
        "  features[bagofwords[i]]=similar\n",
        "features[bagofwords[-1]]=[]    \n"
      ],
      "execution_count": null,
      "outputs": []
    },
    {
      "cell_type": "code",
      "metadata": {
        "colab": {
          "base_uri": "https://localhost:8080/"
        },
        "id": "Nb6RltULTOdv",
        "outputId": "72fa116c-9247-4f57-9ed4-d06b481fe9b1"
      },
      "source": [
        "print(features)"
      ],
      "execution_count": null,
      "outputs": [
        {
          "output_type": "stream",
          "text": [
            "{'fibrillation': ['atrial'], 'blood': [], 'alcohol': [], 'fracture': [], 'constipation': ['vomiting', 'diarrhea', 'nausea'], 'seizures': [], 'lung': ['pulmonary'], 'tylenol': ['motrin'], 'myocardial': ['coronary', 'infarction'], 'numbness': ['pain', 'weakness', 'dizziness'], 'hyperlipidemia': ['hypertension', 'mellitus'], 'systolic': [], 'swelling': [], 'stroke': ['infarction'], 'redness': ['erythema'], 'infection': [], 'lisinopril': ['metoprolol'], 'oxygen': [], 'coronary': ['artery'], 'prednisone': [], 'vomiting': ['chills', 'diarrhea', 'dizziness', 'nausea'], 'warfarin': ['aspirin'], 'aspirin': [], 'infarction': [], 'hypertension': [], 'failure': ['congestive'], 'gain': [], 'loss': [], 'kidney': ['renal'], 'acute': ['chronic'], 'respiratory': [], 'obstructive': [], 'pain': ['headache'], 'motrin': [], 'dehydration': [], 'sepsis': ['pneumonia'], 'shortness': ['chills', 'fevers'], 'pneumonia': [], 'abdominal': [], 'atrial': [], 'breath': [], 'chills': ['fever', 'dizziness', 'nausea', 'fevers'], 'headache': ['dizziness', 'nausea'], 'diarrhea': ['nausea'], 'mouth': [], 'urinary': [], 'fever': ['fevers'], 'weakness': [], 'confusion': [], 'tract': [], 'erythema': [], 'cough': [], 'bleed': ['bleeding'], 'congestive': [], 'coumadin': [], 'edema': [], 'chest': [], 'disease': [], 'anemia': [], 'renal': [], 'bleeding': [], 'dizziness': ['nausea'], 'gastrointestinal': [], 'metoprolol': [], 'mellitus': ['diabetes'], 'heart': [], 'pulmonary': [], 'weight': [], 'chronic': [], 'cancer': [], 'nausea': [], 'artery': [], 'diabetes': [], 'fevers': [], 'cholesterol': [], 'sodium': []}\n"
          ],
          "name": "stdout"
        }
      ]
    },
    {
      "cell_type": "code",
      "metadata": {
        "colab": {
          "base_uri": "https://localhost:8080/"
        },
        "id": "1ofjzgG2TQNB",
        "outputId": "9b1299e5-e179-4e52-b017-df98750f8269"
      },
      "source": [
        "len(features)"
      ],
      "execution_count": null,
      "outputs": [
        {
          "output_type": "execute_result",
          "data": {
            "text/plain": [
              "76"
            ]
          },
          "metadata": {
            "tags": []
          },
          "execution_count": 26
        }
      ]
    },
    {
      "cell_type": "code",
      "metadata": {
        "id": "RGiNkKvbY_hU"
      },
      "source": [
        "features_list=[features[k]+[k] for k in list(features)]"
      ],
      "execution_count": null,
      "outputs": []
    },
    {
      "cell_type": "code",
      "metadata": {
        "colab": {
          "base_uri": "https://localhost:8080/"
        },
        "id": "qS1fBDmy4OWW",
        "outputId": "fb2d0d00-f3d2-4aa5-844c-b6fdf7791ca6"
      },
      "source": [
        "features_list"
      ],
      "execution_count": null,
      "outputs": [
        {
          "output_type": "execute_result",
          "data": {
            "text/plain": [
              "[['atrial', 'fibrillation'],\n",
              " ['blood'],\n",
              " ['alcohol'],\n",
              " ['fracture'],\n",
              " ['vomiting', 'diarrhea', 'nausea', 'constipation'],\n",
              " ['seizures'],\n",
              " ['pulmonary', 'lung'],\n",
              " ['motrin', 'tylenol'],\n",
              " ['coronary', 'infarction', 'myocardial'],\n",
              " ['pain', 'weakness', 'dizziness', 'numbness'],\n",
              " ['hypertension', 'mellitus', 'hyperlipidemia'],\n",
              " ['systolic'],\n",
              " ['swelling'],\n",
              " ['infarction', 'stroke'],\n",
              " ['erythema', 'redness'],\n",
              " ['infection'],\n",
              " ['metoprolol', 'lisinopril'],\n",
              " ['oxygen'],\n",
              " ['artery', 'coronary'],\n",
              " ['prednisone'],\n",
              " ['chills', 'diarrhea', 'dizziness', 'nausea', 'vomiting'],\n",
              " ['aspirin', 'warfarin'],\n",
              " ['aspirin'],\n",
              " ['infarction'],\n",
              " ['hypertension'],\n",
              " ['congestive', 'failure'],\n",
              " ['gain'],\n",
              " ['loss'],\n",
              " ['renal', 'kidney'],\n",
              " ['chronic', 'acute'],\n",
              " ['respiratory'],\n",
              " ['obstructive'],\n",
              " ['headache', 'pain'],\n",
              " ['motrin'],\n",
              " ['dehydration'],\n",
              " ['pneumonia', 'sepsis'],\n",
              " ['chills', 'fevers', 'shortness'],\n",
              " ['pneumonia'],\n",
              " ['abdominal'],\n",
              " ['atrial'],\n",
              " ['breath'],\n",
              " ['fever', 'dizziness', 'nausea', 'fevers', 'chills'],\n",
              " ['dizziness', 'nausea', 'headache'],\n",
              " ['nausea', 'diarrhea'],\n",
              " ['mouth'],\n",
              " ['urinary'],\n",
              " ['fevers', 'fever'],\n",
              " ['weakness'],\n",
              " ['confusion'],\n",
              " ['tract'],\n",
              " ['erythema'],\n",
              " ['cough'],\n",
              " ['bleeding', 'bleed'],\n",
              " ['congestive'],\n",
              " ['coumadin'],\n",
              " ['edema'],\n",
              " ['chest'],\n",
              " ['disease'],\n",
              " ['anemia'],\n",
              " ['renal'],\n",
              " ['bleeding'],\n",
              " ['nausea', 'dizziness'],\n",
              " ['gastrointestinal'],\n",
              " ['metoprolol'],\n",
              " ['diabetes', 'mellitus'],\n",
              " ['heart'],\n",
              " ['pulmonary'],\n",
              " ['weight'],\n",
              " ['chronic'],\n",
              " ['cancer'],\n",
              " ['nausea'],\n",
              " ['artery'],\n",
              " ['diabetes'],\n",
              " ['fevers'],\n",
              " ['cholesterol'],\n",
              " ['sodium']]"
            ]
          },
          "metadata": {
            "tags": []
          },
          "execution_count": 28
        }
      ]
    },
    {
      "cell_type": "code",
      "metadata": {
        "colab": {
          "base_uri": "https://localhost:8080/"
        },
        "id": "gfV-2Tt17vVk",
        "outputId": "6d3221ed-c0af-45ea-fc66-ae239280b302"
      },
      "source": [
        "len(features_list)"
      ],
      "execution_count": null,
      "outputs": [
        {
          "output_type": "execute_result",
          "data": {
            "text/plain": [
              "76"
            ]
          },
          "metadata": {
            "tags": []
          },
          "execution_count": 29
        }
      ]
    },
    {
      "cell_type": "code",
      "metadata": {
        "id": "OtH290oxKvRu"
      },
      "source": [
        "#Python code to merge all sublist having common elements. \n",
        "\n",
        "#Importing \n",
        "from collections import defaultdict \n",
        "\n",
        "#merge function to merge all sublist having common elements. \n",
        "def merge_common(lists): \n",
        "\tneigh = defaultdict(set) \n",
        "\tvisited = set() \n",
        "\tfor each in lists: \n",
        "\t\tfor item in each: \n",
        "\t\t\tneigh[item].update(each) \n",
        "\tdef comp(node, neigh = neigh, visited = visited, vis = visited.add): \n",
        "\t\tnodes = set([node]) \n",
        "\t\tnext_node = nodes.pop \n",
        "\t\twhile nodes: \n",
        "\t\t\tnode = next_node() \n",
        "\t\t\tvis(node) \n",
        "\t\t\tnodes |= neigh[node] - visited \n",
        "\t\t\tyield node \n",
        "\tfor node in neigh: \n",
        "\t\tif node not in visited: \n",
        "\t\t\tyield sorted(comp(node)) \n",
        "\n",
        "# #Input list initialization \n",
        "# Input = [['z','x','y'], ['y','g','e'], ['z'],['x','p'], \n",
        "# \t\t['a','b'], ['y','a'], ['d','g']] \n",
        "\n",
        "#Calling merge function \n",
        "condensed_feature = list(merge_common(features_list)) \n",
        "\n",
        "#Printing function \n",
        "# print(\"Initial list of list is :\") \n",
        "# print(Input) \n",
        "\n",
        "# print(\"List of list after merging is:\") \n",
        "# print(Output) \n"
      ],
      "execution_count": null,
      "outputs": []
    },
    {
      "cell_type": "code",
      "metadata": {
        "colab": {
          "base_uri": "https://localhost:8080/"
        },
        "id": "Nda6bOq_PMzp",
        "outputId": "d7f2447e-c891-4e9f-ac4e-483a4c7e6a6f"
      },
      "source": [
        "condensed_feature"
      ],
      "execution_count": null,
      "outputs": [
        {
          "output_type": "execute_result",
          "data": {
            "text/plain": [
              "[['atrial', 'fibrillation'],\n",
              " ['blood'],\n",
              " ['alcohol'],\n",
              " ['fracture'],\n",
              " ['chills',\n",
              "  'constipation',\n",
              "  'diarrhea',\n",
              "  'dizziness',\n",
              "  'fever',\n",
              "  'fevers',\n",
              "  'headache',\n",
              "  'nausea',\n",
              "  'numbness',\n",
              "  'pain',\n",
              "  'shortness',\n",
              "  'vomiting',\n",
              "  'weakness'],\n",
              " ['seizures'],\n",
              " ['lung', 'pulmonary'],\n",
              " ['motrin', 'tylenol'],\n",
              " ['artery', 'coronary', 'infarction', 'myocardial', 'stroke'],\n",
              " ['diabetes', 'hyperlipidemia', 'hypertension', 'mellitus'],\n",
              " ['systolic'],\n",
              " ['swelling'],\n",
              " ['erythema', 'redness'],\n",
              " ['infection'],\n",
              " ['lisinopril', 'metoprolol'],\n",
              " ['oxygen'],\n",
              " ['prednisone'],\n",
              " ['aspirin', 'warfarin'],\n",
              " ['congestive', 'failure'],\n",
              " ['gain'],\n",
              " ['loss'],\n",
              " ['kidney', 'renal'],\n",
              " ['acute', 'chronic'],\n",
              " ['respiratory'],\n",
              " ['obstructive'],\n",
              " ['dehydration'],\n",
              " ['pneumonia', 'sepsis'],\n",
              " ['abdominal'],\n",
              " ['breath'],\n",
              " ['mouth'],\n",
              " ['urinary'],\n",
              " ['confusion'],\n",
              " ['tract'],\n",
              " ['cough'],\n",
              " ['bleed', 'bleeding'],\n",
              " ['coumadin'],\n",
              " ['edema'],\n",
              " ['chest'],\n",
              " ['disease'],\n",
              " ['anemia'],\n",
              " ['gastrointestinal'],\n",
              " ['heart'],\n",
              " ['weight'],\n",
              " ['cancer'],\n",
              " ['cholesterol'],\n",
              " ['sodium']]"
            ]
          },
          "metadata": {
            "tags": []
          },
          "execution_count": 31
        }
      ]
    },
    {
      "cell_type": "code",
      "metadata": {
        "colab": {
          "base_uri": "https://localhost:8080/"
        },
        "id": "M73nO1biPxgB",
        "outputId": "fbe3b02e-f6ef-457a-9836-5c328707721b"
      },
      "source": [
        "len(condensed_feature)"
      ],
      "execution_count": null,
      "outputs": [
        {
          "output_type": "execute_result",
          "data": {
            "text/plain": [
              "46"
            ]
          },
          "metadata": {
            "tags": []
          },
          "execution_count": 32
        }
      ]
    },
    {
      "cell_type": "code",
      "metadata": {
        "colab": {
          "base_uri": "https://localhost:8080/"
        },
        "id": "JfjTqvFLPOZh",
        "outputId": "1ce3b0b1-4557-461e-aa63-c87854263840"
      },
      "source": [
        "model.similarity('abdominal','edema')"
      ],
      "execution_count": null,
      "outputs": [
        {
          "output_type": "execute_result",
          "data": {
            "text/plain": [
              "0.40815303"
            ]
          },
          "metadata": {
            "tags": []
          },
          "execution_count": 33
        }
      ]
    },
    {
      "cell_type": "code",
      "metadata": {
        "colab": {
          "base_uri": "https://localhost:8080/"
        },
        "id": "YzmZ12mIQS8x",
        "outputId": "ba27897b-3f0a-4b9e-b239-9328ac8e7a3d"
      },
      "source": [
        "model.similarity('gain','loss')"
      ],
      "execution_count": null,
      "outputs": [
        {
          "output_type": "execute_result",
          "data": {
            "text/plain": [
              "0.6596458"
            ]
          },
          "metadata": {
            "tags": []
          },
          "execution_count": 34
        }
      ]
    },
    {
      "cell_type": "code",
      "metadata": {
        "id": "RINKSwHpRULx"
      },
      "source": [
        "condensed_feature_dict={}\n",
        "count=0\n",
        "for i in condensed_feature:\n",
        "  condensed_feature_dict['f'+str(count)]=i\n",
        "  count+=1"
      ],
      "execution_count": null,
      "outputs": []
    },
    {
      "cell_type": "code",
      "metadata": {
        "colab": {
          "base_uri": "https://localhost:8080/"
        },
        "id": "dfpK-kKVUIPY",
        "outputId": "57f23b20-45ac-4041-e4c1-9a3d31faf43f"
      },
      "source": [
        "print(condensed_feature_dict)"
      ],
      "execution_count": null,
      "outputs": [
        {
          "output_type": "stream",
          "text": [
            "{'f0': ['atrial', 'fibrillation'], 'f1': ['blood'], 'f2': ['alcohol'], 'f3': ['fracture'], 'f4': ['chills', 'constipation', 'diarrhea', 'dizziness', 'fever', 'fevers', 'headache', 'nausea', 'numbness', 'pain', 'shortness', 'vomiting', 'weakness'], 'f5': ['seizures'], 'f6': ['lung', 'pulmonary'], 'f7': ['motrin', 'tylenol'], 'f8': ['artery', 'coronary', 'infarction', 'myocardial', 'stroke'], 'f9': ['diabetes', 'hyperlipidemia', 'hypertension', 'mellitus'], 'f10': ['systolic'], 'f11': ['swelling'], 'f12': ['erythema', 'redness'], 'f13': ['infection'], 'f14': ['lisinopril', 'metoprolol'], 'f15': ['oxygen'], 'f16': ['prednisone'], 'f17': ['aspirin', 'warfarin'], 'f18': ['congestive', 'failure'], 'f19': ['gain'], 'f20': ['loss'], 'f21': ['kidney', 'renal'], 'f22': ['acute', 'chronic'], 'f23': ['respiratory'], 'f24': ['obstructive'], 'f25': ['dehydration'], 'f26': ['pneumonia', 'sepsis'], 'f27': ['abdominal'], 'f28': ['breath'], 'f29': ['mouth'], 'f30': ['urinary'], 'f31': ['confusion'], 'f32': ['tract'], 'f33': ['cough'], 'f34': ['bleed', 'bleeding'], 'f35': ['coumadin'], 'f36': ['edema'], 'f37': ['chest'], 'f38': ['disease'], 'f39': ['anemia'], 'f40': ['gastrointestinal'], 'f41': ['heart'], 'f42': ['weight'], 'f43': ['cancer'], 'f44': ['cholesterol'], 'f45': ['sodium']}\n"
          ],
          "name": "stdout"
        }
      ]
    },
    {
      "cell_type": "code",
      "metadata": {
        "colab": {
          "base_uri": "https://localhost:8080/",
          "height": 1000
        },
        "id": "jOV_DH9eUToM",
        "outputId": "55fcd0ae-1161-4b3f-a05f-a615e4d3ac56"
      },
      "source": [
        "diagnosis_icd9category_token"
      ],
      "execution_count": null,
      "outputs": [
        {
          "output_type": "execute_result",
          "data": {
            "text/html": [
              "<div>\n",
              "<style scoped>\n",
              "    .dataframe tbody tr th:only-of-type {\n",
              "        vertical-align: middle;\n",
              "    }\n",
              "\n",
              "    .dataframe tbody tr th {\n",
              "        vertical-align: top;\n",
              "    }\n",
              "\n",
              "    .dataframe thead th {\n",
              "        text-align: right;\n",
              "    }\n",
              "</style>\n",
              "<table border=\"1\" class=\"dataframe\">\n",
              "  <thead>\n",
              "    <tr style=\"text-align: right;\">\n",
              "      <th></th>\n",
              "      <th>HADM_ID</th>\n",
              "      <th>discharge diagnosis:</th>\n",
              "      <th>icd9_category</th>\n",
              "      <th>medical_terms_list</th>\n",
              "    </tr>\n",
              "  </thead>\n",
              "  <tbody>\n",
              "    <tr>\n",
              "      <th>0</th>\n",
              "      <td>167118.0</td>\n",
              "      <td>discharge diagnosis:  copd, coronary artery disease/atypical angina (lad 30%, rca 30%,  ef 63%), hypercholesterolemia, hypothyroidism, hypertension,  hiatal hernia, cerebral vascular accident,s/p motor vehicle  colision-&gt; head injury &amp; rib fracture.  tbm- s/p tracheoplasty.      discharge condition:  good    discharge instructions:  please update dr.&lt;name&gt; &lt;telephone&gt; office for:  fever,  shortness of breath, chest pain , productive cough or if you  have any questions or concerns.      completed by: &lt;date&gt;</td>\n",
              "      <td>[496, 553, 518, 453, 519, 276]</td>\n",
              "      <td>[hypercholesterolemia, cerebral, hypothyroidism, cough, accident, hypertension, artery, chest, vascular, coronary, fracture, injury, angina, pain, head]</td>\n",
              "    </tr>\n",
              "    <tr>\n",
              "      <th>1</th>\n",
              "      <td>196489.0</td>\n",
              "      <td>discharge diagnosis:  primary:  1. chronic obstructive pulmonary disease exacerbation  2. respiratory failure with intubation  3. upper gastrointestinal bleed/peptic ulcer disease  4. hypertension  5. anxiety    secondary:  1. coronary artery disease  2. hypothyroidism      discharge condition:  mental status: confused - sometimes.  level of consciousness: alert and interactive.  activity status: out of bed with assistance to chair or  wheelchair.      discharge instructions:  you were admitted to the hospital with shortness of breath and  respiratory failure and lethargy. in the emergency department,  you were breathing very fast and a breathing tube was inserted  into your airway to help you breathe. you were admitted to the  intensive care unit. there, you were managed with steroids and  antibiotics and the tube was eventually removed from your  airway, allowing you to breathe on your own. you also underwent  bronchoscopy which looked at the inside of your airways.  .  during your time in the intensive care unit, you developed a  gastrointestinal bleed. a tube was placed into your stomach and  you underwent an endoscopic procedure to look at your esophagus  and stomach. this showed inflammation in your esophagusand  ulcers in your stomach.  .  you should continue to use nasal oxygen by nasal cannula as  needed. you should continue the steroid taper as instructed. you  should call your doctor or return to the emergency room if you  have increasing difficulty breathing or shortness of breath,  wheezing, chest pain, blood in your stool or vomiting blood.  .  there are some changes in your medications.  start pantoprazole 40 mg twice daily and stop omeprazole  start hydrochlorothiazide  start prednisone, taking 30 mg for 3 days, then 20 mg for 4  days, then 10 mg for 4 days, then 5 mg for 4 days, then stop.  start colace and senna as needed for constipation  can use morphine to alleviate symptoms of respiratory discomfort  stop furosemide  stop zolpidem  stop aspirin  increase diovan to 240 mg daily  decrease trazodone to 50 mg daily  .  follow up as indicated below.    followup instructions:  you have an appointment to follow up with dr. &lt;name&gt;, your  primary care physician, &lt;name&gt; [**8-29**] at 1pm. his address is [**location (un) 1822**], [**apartment address(1) 1823**], [**location (un) **],[**numeric identifier 1700**]. the phone is  &lt;telephone&gt;.    you have an appointment to follow up with dr. &lt;name&gt; &lt;name&gt; in  the  &lt;name&gt; at &lt;hospital&gt; on the [**location (un) 453**]. their phone number is  &lt;telephone&gt;.    department: div. of gastroenterology  when: wednesday  &lt;date&gt;  at 3:00 pm  with: &lt;name&gt; &lt;name&gt;, md &lt;telephone&gt;  building: ra &lt;name&gt; (&lt;name&gt;/&lt;name&gt; complex) [**location (un) **]  campus: east     best parking: main garage</td>\n",
              "      <td>[487, 416, 272, 530, 414, 553, 531, 518, 401, 519, 348, V02, 359, 584, 458, 578, 491, E93, 276, 244]</td>\n",
              "      <td>[pulmonary, hypertension, of, obstructive, discomfort, gastrointestinal, constipation, oxygen, breath, inflammation, artery, chest, hydrochlorothiazide, steroid, anxiety, omeprazole, senna, trazodone, failure, shortness, disease, pantoprazole, aspirin, hypothyroidism, zolpidem, furosemide, coronary, prednisone, lethargy, steroids, ulcer, chronic, respiratory, morphine, pain]</td>\n",
              "    </tr>\n",
              "    <tr>\n",
              "      <th>2</th>\n",
              "      <td>135453.0</td>\n",
              "      <td>discharge diagnosis:  1. cervical spondylosis with calcification of posterior  longitudinal ligament.  2. fracture dislocation c6-c7.  3. ossification of the posterior longitudinal ligament.  4. aspiration pneumonia      1. cervical spondylosis with calcification of posterior      longitudinal ligament.  2. fracture dislocation c6-c7.  3. ossification of the posterior longitudinal ligament.  4. aspiration pneumonia    1. cervical spondylosis with calcification of posterior      longitudinal ligament.  2. fracture dislocation c6-c7.  3. ossification of the posterior longitudinal ligament.  4. aspiration pneumonia      discharge condition:  stable to outside facility      discharge instructions:  patient has been made cmo at the request of him and his family.  he has a foley placed for urinary retention. please use morphine  as needed for pain and olanzapine as needed for agitiation.  patient has known history of aspiration documented on speech and  swallow. it is the patient and the family's wish for him to  continue to eat and drink as desired.    followup instructions:  follow up with your primary care physician as needed.</td>\n",
              "      <td>[V12, 788, 805, 507, V45, 401, 427, 453, E88, 293, 802, 428]</td>\n",
              "      <td>[ligament, spondylosis, of, cervical, urinary, posterior, calcification, olanzapine, fracture, pneumonia, dislocation, retention, longitudinal, morphine, pain]</td>\n",
              "    </tr>\n",
              "    <tr>\n",
              "      <th>3</th>\n",
              "      <td>170490.0</td>\n",
              "      <td>discharge diagnosis:  brain lesion    discharge condition:  mental status: clear and coherent.  level of consciousness: alert and interactive.  activity status: ambulatory - independent.  neuro exam intact.    discharge instructions:  ??????\\thave a friend/family member check your incision daily for  signs of infection.  ??????\\ttake your pain medicine as prescribed.  ??????\\texercise should be limited to walking; no lifting, straining,  or excessive bending.  ??????\\tyou have dissolvable sutures, you must keep that area dry for  10 days.  ??????\\tyou may shower before this time using a shower cap to cover  your head.  ??????\\tincrease your intake of fluids and fiber, as narcotic pain  medicine can cause constipation. we generally recommend taking  an over the counter stool softener, such as docusate (colace)  while taking narcotic pain medication.  ??????\\tunless directed by your doctor, do not take any  anti-inflammatory medicines such as motrin, aspirin, advil, and  ibuprofen etc.  ??????\\tif you have been prescribed dilantin (phenytoin) for  anti-seizure medicine, take it as prescribed and follow up with  laboratory blood drawing in one week.  this can be drawn at your  pcp??????s office, but please have the results faxed to &lt;telephone&gt;.  if you have been discharged on keppra (levetiracetam), you will  not require blood work monitoring.  ??????\\tif you are being sent home on steroid medication, make sure  you are taking a medication to protect your stomach (prilosec,  protonix, or pepcid), as these medications can cause stomach  irritation.  make sure to take your steroid medication with  meals, or a glass of milk.  ??????\\tclearance to drive and return to work will be addressed at  your post-operative office visit.  ??????\\tmake sure to continue to use your incentive spirometer while  at home.  call your surgeon immediately if you experience any of the  following    ??????\\tnew onset of tremors or seizures.  ??????\\tany confusion or change in mental status.  ??????\\tany numbness, tingling, weakness in your extremities.  ??????\\tpain or headache that is continually increasing, or not  relieved by pain medication.  ??????\\tany signs of infection at the wound site: increasing redness,  increased swelling, increased tenderness, or drainage.  ??????\\tfever greater than or equal to 101?????? f.    followup instructions:  ??????\\tplease return to the office in [**6-28**] days (from your date of  surgery) for a wound check. this appointment can be made with  the nurse practitioner.  please make this appointment by calling  &lt;telephone&gt;. if you live quite a distance from our office,  please make arrangements for the same, with your pcp.</td>\n",
              "      <td>[710, 225, 443, 714, 530, V43]</td>\n",
              "      <td>[motrin, aspirin, levetiracetam, seizures, weakness, phenytoin, fever, redness, tenderness, docusate, infection, steroid, tingling, confusion, headache, constipation, tremors, numbness, pain]</td>\n",
              "    </tr>\n",
              "    <tr>\n",
              "      <th>4</th>\n",
              "      <td>134727.0</td>\n",
              "      <td>discharge diagnosis:  pneumonia    discharge condition:  expired    discharge instructions:  na    followup instructions:  na                                 &lt;name&gt; &lt;name&gt; md [**md number(2) 1851**]</td>\n",
              "      <td>[486, 518, V45, V58, 401, 577, 415, 428]</td>\n",
              "      <td>[]</td>\n",
              "    </tr>\n",
              "    <tr>\n",
              "      <th>...</th>\n",
              "      <td>...</td>\n",
              "      <td>...</td>\n",
              "      <td>...</td>\n",
              "      <td>...</td>\n",
              "    </tr>\n",
              "    <tr>\n",
              "      <th>41962</th>\n",
              "      <td>127716.0</td>\n",
              "      <td>discharge diagnosis:  aortic stenosis and coronary artery disease s/p aortic valve  replacement and coronary artery bypass graft  past medical history:  hypertension  hyperlipidemia  diabetes mellitus  osteoarthritis  phlebitis  lung cancer  hiatal hernia  hypthyroidism  s/p right lobectomy [**2117**]  s/p lymph node dissection in neck  s/p beast lumpectomy  s/p hysterectomy  s/p c section  s/p tonsillectomy      discharge condition:  alert and oriented x3 nonfocal  ambulating, steady gait  incisional pain managed with ultram  incisions:  sternal - healing well, no erythema or drainage  1+ le edema      discharge instructions:  please shower daily including washing incisions gently with mild  soap, no baths or swimming until cleared by surgeon. look at  your incisions daily for redness or drainage  please no lotions, cream, powder, or ointments to incisions  each morning you should weigh yourself and then in the evening  take your temperature, these should be written down on the chart    no driving for one month or while taking narcotics. driving will  be discussed at follow up appointment with surgeon. no lifting  more than 10 pounds for 10 weeks  please call with any questions or concerns &lt;telephone&gt;  females: please wear bra to reduce pulling on incision, avoid  rubbing on lower edge  **please call cardiac surgery office with any questions or  concerns &lt;telephone&gt;. answering service will contact on call  person during off hours**    followup instructions:  you are scheduled for the following appointments  wound care, &lt;name&gt;, &lt;name&gt;  phone:&lt;telephone&gt;  date/time: &lt;date&gt;  10:00    surgeon: dr. &lt;name&gt; &lt;telephone&gt; date/time: &lt;date&gt;  1:15  cardiologist: dr. &lt;name&gt;  &lt;date&gt;  at 3:00p    please call to schedule appointments with your  primary care dr. &lt;name&gt; &lt;name&gt; in &lt;telephone&gt;    **please call cardiac surgery office with any questions or  concerns &lt;telephone&gt;. answering service will contact on call  person during off hours**                                   &lt;name&gt; &lt;name&gt; md [**md number(2) 748**]    completed by: &lt;date&gt;</td>\n",
              "      <td>[416, 424, 272, V10, V85, 414, 250, 401, 278, 782]</td>\n",
              "      <td>[artery, redness, edema, coronary, erythema, disease]</td>\n",
              "    </tr>\n",
              "    <tr>\n",
              "      <th>41963</th>\n",
              "      <td>186377.0</td>\n",
              "      <td>discharge diagnosis:  coronary artery disease  pmh:  hypertension, diabetes, copd, diastolic heart failure, ef 45-50%  past surgical history  penile implant      discharge condition:  alert and oriented x3 nonfocal  ambulating, gait steady  sternal pain managed with oral analgesics  sternal incision - healing well, no erythema or drainage  right lower extremity saph site clean/dry/intact      discharge instructions:  please draw bun/cre, inr at least every other day until they  stabilize  please shower daily including washing incisions gently with mild  soap, no baths or swimming, and look at your incisions  please no lotions, cream, powder, or ointments to incisions  each morning you should weigh yourself and then in the evening  take your temperature, these should be written down on the chart  no driving for approximately one month and while taking  narcotics, will be discussed at follow up appointment with  surgeon when you will be able to drive  no lifting more than 10 pounds for 10 weeks  please call with any questions or concerns &lt;telephone&gt;  **please call cardiac surgery office with any questions or  concerns &lt;telephone&gt;. answering service will contact on call  person during off hours**      followup instructions:  you are scheduled for the following appointments:  surgeon dr. &lt;name&gt; &lt;telephone&gt;,  &lt;date&gt;  1:00  cardiologist dr. &lt;name&gt;. &lt;name&gt; office will call you with an  appointment  please call to schedule the following:  primary care dr. &lt;name&gt;,&lt;name&gt; in [**3-8**] weeks  please follow up with dr. &lt;name&gt; &lt;name&gt; call &lt;telephone&gt; to  schedule an appointment  dialysis,schedule hemodialysis unit date/time: &lt;date&gt;  12:00  renal: dr. &lt;name&gt; &lt;telephone&gt;  diabetes: if patient requires endocrine follow-up after  discharge from rehab, please contact &lt;name&gt;, &lt;name&gt; at &lt;hospital&gt;  **please call cardiac surgery office with any questions or  concerns &lt;telephone&gt;. answering service will contact on call  person during off hours**    inr draw on [**8-16**]  goal inr [**1-5**]  indication: atrial fibrillation                                   &lt;name&gt; &lt;name&gt; md [**md number(2) 266**]    completed by: &lt;date&gt;</td>\n",
              "      <td>[424, 511, 305, 707, 403, 496, 784, 250, 414, V58, 427, 428, 584, 008, 997, 434, 410, 585, 041, 599]</td>\n",
              "      <td>[atrial, diabetes, diastolic, fibrillation, heart, failure, erythema, clean/dry/intact]</td>\n",
              "    </tr>\n",
              "    <tr>\n",
              "      <th>41964</th>\n",
              "      <td>156564.0</td>\n",
              "      <td>discharge diagnosis:  left knee infection  chronic obstructive pulmonary disease exacerbation  acute on chronic kidney injury  congestive heart failure  hypertension      discharge condition:  mental status: clear and coherent.  level of consciousness: alert and interactive.  activity status: out of bed with assistance to chair or  wheelchair.      discharge instructions:  mr. &lt;name&gt;,    you were admitted to the hospital for a infected hardware in  your left knee. our orthopaedics team cleaned out the infection  in your knee and replaced the liner of your prosthesis. they  feel you should follow up with your primary orthopaedic doctor,  dr. &lt;name&gt; &lt;name&gt; at &lt;hospital&gt; (&lt;telephone&gt;), for ongoing  issues about your knee. the cultures of the infection in your  knee grew two different organisms, so we consulted our  infectious disease doctors who recommended a course of iv  antibiotics to help treat your infection. because this infection  occured inside of a joint, a longer course of antibiotics is  required. you went multiple times to the operating room to  wash-out your knee of any remaining infection, and your hardware  was removed. most recently you had a portion of tissue grafted  to your knee to provide for better coverage of your wound, along  with skin graft. your kidney function worsened while you were in  the hospital but it appears to have normalized. this should be  followed up with your primary care physician.    we made the following changes to your medications:  started:  vancomycin (antibiotic)  ceftriaxone (antibiotic)    increased metoprolol for blood pressure    followup instructions:  department: plastic surgery  when: wednesday  &lt;date&gt;  at 3:15 pm  with: &lt;name&gt; &lt;name&gt;, md &lt;telephone&gt;  building: lm &lt;name&gt; bldg (&lt;name&gt;) [**location (un) **]  campus: west     best parking: &lt;name&gt; garage    name: &lt;name&gt;, &lt;name&gt; &lt;name&gt; &lt;name&gt;  location: community physicians associates  address: &lt;hospital&gt;,[**numeric identifier 18406**]  phone: &lt;telephone&gt;  appointment: thursday  &lt;date&gt;  1:15pm    department: infectious disease  when: friday  &lt;date&gt;  at 9:30 am  with: &lt;name&gt; &lt;name&gt;, md &lt;telephone&gt;  building: lm &lt;name&gt; bldg (&lt;name&gt;) &lt;hospital&gt;  campus: west     best parking: &lt;name&gt; garage    name: nabi,&lt;name&gt; md  address: &lt;hospital&gt;,[**numeric identifier 18406**]  phone: &lt;telephone&gt;  **please discuss with the staff at the facility a follow up  appointment with your pcp when you are ready for discharge.      department: plastic surgery  when: wednesday  &lt;date&gt;  at 3:15 pm  with: &lt;name&gt; &lt;name&gt;, md &lt;telephone&gt;  building: lm &lt;name&gt; bldg (&lt;name&gt;) [**location (un) **]  campus: west     best parking: &lt;name&gt; garage    department: infectious disease  when: friday  &lt;date&gt;  at 9:30 am  with: &lt;name&gt; &lt;name&gt;, md &lt;telephone&gt;  building: lm &lt;name&gt; bldg (&lt;name&gt;) &lt;hospital&gt;  campus: west     best parking: &lt;name&gt; garage                                   &lt;name&gt; &lt;name&gt; md [**md number(1) 348**]    completed by: &lt;date&gt;</td>\n",
              "      <td>[V10, 403, 584, V43, 428, 285, 496, 250, V58, 041, 357, 707, 365, 414, 780, 518, 711, 585, 327, V12, E84, E87, 996]</td>\n",
              "      <td>[pulmonary, infectious, hypertension, kidney, obstructive, heart, injury, failure, metoprolol, infection, disease]</td>\n",
              "    </tr>\n",
              "    <tr>\n",
              "      <th>41965</th>\n",
              "      <td>172559.0</td>\n",
              "      <td>discharge diagnosis:  primary:  small bowel obstruction  metastatic prostate cancer  anasarca  malnutrition  dehydration  acute renal failure  aspiration pneumonia  .  secondary:  prostate ca s/p xrt and chemo - rising psa (140), lg rp mass,  oa, lbp, diverticulosis w/ colovesical fistula s/p lar [**5-18**], s/p  ileostomy takedown [**10-18**], open ccy      discharge condition:  stable      discharge instructions:  please call your doctor or return to the er for any of the  following:  * you experience new chest pain, pressure, squeezing or  tightness.  * new or worsening cough or wheezing.  * if you are vomiting and cannot keep in fluids or your  medications.  * you are getting dehydrated due to continued vomiting,  diarrhea or other reasons. signs of dehydration include dry  mouth, rapid heartbeat or feeling dizzy or faint when standing.  * you see blood or dark/black material when you vomit or have a  bowel movement.  * your pain is not improving within 8-12 hours or not gone  within 24 hours. call or return immediately if your pain is  getting worse or is changing location or moving to your chest or    back.  *avoid lifting objects &gt; 5lbs until your follow-up appointment  with the surgeon.  *avoid driving or operating heavy machinery while taking pain  medications.  * you have shaking chills, or a fever greater than 101.5 (f)  degrees or 38(c) degrees.  * any serious change in your symptoms, or any new symptoms that  concern you.  * please resume all regular home medications and take any new  meds  as ordered.  * continue to ambulate several times per day.  .  incision care:  -your staples will be removed at your follow-up appointment with  the surgeon, and steri strips will be applied.  -your steri-strips will fall off on their own. please remove any  remaining strips 7-10 days after surgery.  -you may shower, and wash surgical incisions.  -avoid swimming and baths until your follow-up appointment.  -please call the doctor if you have increased pain, swelling,  redness, or drainage from the incision sites.      followup instructions:  1. please follow-up appointment with dr. &lt;name&gt; (&lt;telephone&gt; on  &lt;date&gt;  at 1:15pm for removal of your staples.  2. you have follow-up appointment with dr. &lt;name&gt; &lt;name&gt;, md  phone:&lt;telephone&gt; date/time: &lt;date&gt;  11:00, and chemotherapy at  provider: &lt;name&gt; &lt;name&gt;, rn phone:&lt;telephone&gt; date/time: &lt;date&gt;   12:00  3. provider: &lt;name&gt;,&lt;name&gt; &lt;name&gt; apg (sb)  phone:&lt;telephone&gt; date/time: &lt;date&gt;  10:10                                 &lt;name&gt; &lt;name&gt; md [**md number(1) 17**]    completed by: &lt;date&gt;</td>\n",
              "      <td>[197, 507, 185, 427, 261, 585, V66, 560, 783, 285, 276]</td>\n",
              "      <td>[dehydration, obstruction, cough, diverticulosis, fever, chest, vomiting, telephone, bowel, swelling, chills, prostate, colovesical, wheezing, phone, vomit, fistula, pain, cancer]</td>\n",
              "    </tr>\n",
              "    <tr>\n",
              "      <th>41966</th>\n",
              "      <td>135672.0</td>\n",
              "      <td>discharge diagnosis:  peritonitis secondary to small bowel perforation.  cmv enteritis  b-cell lymphoma  line infection  type 2 diabetes controlled without complications  moderate malnutrition  cad bypass vessle      discharge condition:  stable.  tolerating regular diet  pain well controlled with oral medications.      discharge instructions:  you are being discharged on an antiviral medication called  ganciclovir, which can make your diarhea worse for some time.  please contact your doctor if you experience numbness, tingling  or pain in hands or feet, as this may be a side effect of the  medication.    you will be having labs drawn every other day and sent to dr.  &lt;name&gt; of infectious diseases for monitoring of your blood  counts.    *avoid lifting objects &gt; 5lbs until your follow-up appointment  with the surgeon.    *avoid driving or operating heavy machinery while taking pain  medications.    * continue to ambulate several times per day.    incision care:  -your staples will be removed at your follow up appoinetment.  -steri-strips will be applied and will fall off on their own.  please remove any remaining strips 7-10 days after application.  -you may shower, and wash surgical incisions.  -avoid swimming and baths until your follow-up appointment.  -please call the doctor if you have increased pain, swelling,  redness, or drainage from the incision sites.    followup instructions:  you will need to have an ophthalmalogic evaluation to make sure  that there is no evidence of cmv infection of the retina - this  should happen this week.  please call: (&lt;telephone&gt; to  schedule this appointment; if you have any difficulty arranging  this, please discuss this with your primary doctor so that they  can facilitate/arrange this evaluation.    1. please call dr.&lt;name&gt; office, &lt;telephone&gt;, to make a  follow up appointment in [**11-23**] weeks.  scheduled appointments :  provider: &lt;name&gt; &lt;name&gt;, &lt;telephone&gt;  date/time: &lt;date&gt;  10:30  provider: &lt;name&gt; &lt;name&gt;, rn phone:&lt;telephone&gt;  date/time: &lt;date&gt;  11:00  provider: &lt;name&gt; chair 6  date/time: &lt;date&gt;  11:00                                   &lt;name&gt; &lt;name&gt; md [**md number(2) 431**]    completed by: &lt;date&gt;</td>\n",
              "      <td>[202, 401, 584, 255, 283, 238, 038, 785, 250, 008, 041, 272, 996, 078, V45, 567, 569, 273, 995, 263, 579, 782]</td>\n",
              "      <td>[infectious, telephone, bowel, swelling, diseases, phone, perforation, small, infection, numbness, pain]</td>\n",
              "    </tr>\n",
              "  </tbody>\n",
              "</table>\n",
              "<p>41967 rows × 4 columns</p>\n",
              "</div>"
            ],
            "text/plain": [
              "        HADM_ID  ...                                                                                                                                                                                                                                                                                                                                                                         medical_terms_list\n",
              "0      167118.0  ...                                                                                                                                                                                                                                   [hypercholesterolemia, cerebral, hypothyroidism, cough, accident, hypertension, artery, chest, vascular, coronary, fracture, injury, angina, pain, head]\n",
              "1      196489.0  ...  [pulmonary, hypertension, of, obstructive, discomfort, gastrointestinal, constipation, oxygen, breath, inflammation, artery, chest, hydrochlorothiazide, steroid, anxiety, omeprazole, senna, trazodone, failure, shortness, disease, pantoprazole, aspirin, hypothyroidism, zolpidem, furosemide, coronary, prednisone, lethargy, steroids, ulcer, chronic, respiratory, morphine, pain]\n",
              "2      135453.0  ...                                                                                                                                                                                                                            [ligament, spondylosis, of, cervical, urinary, posterior, calcification, olanzapine, fracture, pneumonia, dislocation, retention, longitudinal, morphine, pain]\n",
              "3      170490.0  ...                                                                                                                                                                                            [motrin, aspirin, levetiracetam, seizures, weakness, phenytoin, fever, redness, tenderness, docusate, infection, steroid, tingling, confusion, headache, constipation, tremors, numbness, pain]\n",
              "4      134727.0  ...                                                                                                                                                                                                                                                                                                                                                                                         []\n",
              "...         ...  ...                                                                                                                                                                                                                                                                                                                                                                                        ...\n",
              "41962  127716.0  ...                                                                                                                                                                                                                                                                                                                                      [artery, redness, edema, coronary, erythema, disease]\n",
              "41963  186377.0  ...                                                                                                                                                                                                                                                                                                    [atrial, diabetes, diastolic, fibrillation, heart, failure, erythema, clean/dry/intact]\n",
              "41964  156564.0  ...                                                                                                                                                                                                                                                                         [pulmonary, infectious, hypertension, kidney, obstructive, heart, injury, failure, metoprolol, infection, disease]\n",
              "41965  172559.0  ...                                                                                                                                                                                                        [dehydration, obstruction, cough, diverticulosis, fever, chest, vomiting, telephone, bowel, swelling, chills, prostate, colovesical, wheezing, phone, vomit, fistula, pain, cancer]\n",
              "41966  135672.0  ...                                                                                                                                                                                                                                                                                   [infectious, telephone, bowel, swelling, diseases, phone, perforation, small, infection, numbness, pain]\n",
              "\n",
              "[41967 rows x 4 columns]"
            ]
          },
          "metadata": {
            "tags": []
          },
          "execution_count": 37
        }
      ]
    },
    {
      "cell_type": "code",
      "metadata": {
        "colab": {
          "base_uri": "https://localhost:8080/"
        },
        "id": "fkvE33TaXjVG",
        "outputId": "01d48803-58ec-4c71-9f7c-7740cf934c72"
      },
      "source": [
        "condensed_feature"
      ],
      "execution_count": null,
      "outputs": [
        {
          "output_type": "execute_result",
          "data": {
            "text/plain": [
              "[['atrial', 'fibrillation'],\n",
              " ['blood'],\n",
              " ['alcohol'],\n",
              " ['fracture'],\n",
              " ['chills',\n",
              "  'constipation',\n",
              "  'diarrhea',\n",
              "  'dizziness',\n",
              "  'fever',\n",
              "  'fevers',\n",
              "  'headache',\n",
              "  'nausea',\n",
              "  'numbness',\n",
              "  'pain',\n",
              "  'shortness',\n",
              "  'vomiting',\n",
              "  'weakness'],\n",
              " ['seizures'],\n",
              " ['lung', 'pulmonary'],\n",
              " ['motrin', 'tylenol'],\n",
              " ['artery', 'coronary', 'infarction', 'myocardial', 'stroke'],\n",
              " ['diabetes', 'hyperlipidemia', 'hypertension', 'mellitus'],\n",
              " ['systolic'],\n",
              " ['swelling'],\n",
              " ['erythema', 'redness'],\n",
              " ['infection'],\n",
              " ['lisinopril', 'metoprolol'],\n",
              " ['oxygen'],\n",
              " ['prednisone'],\n",
              " ['aspirin', 'warfarin'],\n",
              " ['congestive', 'failure'],\n",
              " ['gain'],\n",
              " ['loss'],\n",
              " ['kidney', 'renal'],\n",
              " ['acute', 'chronic'],\n",
              " ['respiratory'],\n",
              " ['obstructive'],\n",
              " ['dehydration'],\n",
              " ['pneumonia', 'sepsis'],\n",
              " ['abdominal'],\n",
              " ['breath'],\n",
              " ['mouth'],\n",
              " ['urinary'],\n",
              " ['confusion'],\n",
              " ['tract'],\n",
              " ['cough'],\n",
              " ['bleed', 'bleeding'],\n",
              " ['coumadin'],\n",
              " ['edema'],\n",
              " ['chest'],\n",
              " ['disease'],\n",
              " ['anemia'],\n",
              " ['gastrointestinal'],\n",
              " ['heart'],\n",
              " ['weight'],\n",
              " ['cancer'],\n",
              " ['cholesterol'],\n",
              " ['sodium']]"
            ]
          },
          "metadata": {
            "tags": []
          },
          "execution_count": 38
        }
      ]
    },
    {
      "cell_type": "code",
      "metadata": {
        "id": "Oc6SnjmqXlI8"
      },
      "source": [
        "all_vocab=[a for b in condensed_feature for a in b]"
      ],
      "execution_count": null,
      "outputs": []
    },
    {
      "cell_type": "code",
      "metadata": {
        "colab": {
          "base_uri": "https://localhost:8080/"
        },
        "id": "ZnWmGUD7sB0u",
        "outputId": "1eba9412-bdc6-47ed-93d2-c21f0e927287"
      },
      "source": [
        "all_vocab"
      ],
      "execution_count": null,
      "outputs": [
        {
          "output_type": "execute_result",
          "data": {
            "text/plain": [
              "['atrial',\n",
              " 'fibrillation',\n",
              " 'blood',\n",
              " 'alcohol',\n",
              " 'fracture',\n",
              " 'chills',\n",
              " 'constipation',\n",
              " 'diarrhea',\n",
              " 'dizziness',\n",
              " 'fever',\n",
              " 'fevers',\n",
              " 'headache',\n",
              " 'nausea',\n",
              " 'numbness',\n",
              " 'pain',\n",
              " 'shortness',\n",
              " 'vomiting',\n",
              " 'weakness',\n",
              " 'seizures',\n",
              " 'lung',\n",
              " 'pulmonary',\n",
              " 'motrin',\n",
              " 'tylenol',\n",
              " 'artery',\n",
              " 'coronary',\n",
              " 'infarction',\n",
              " 'myocardial',\n",
              " 'stroke',\n",
              " 'diabetes',\n",
              " 'hyperlipidemia',\n",
              " 'hypertension',\n",
              " 'mellitus',\n",
              " 'systolic',\n",
              " 'swelling',\n",
              " 'erythema',\n",
              " 'redness',\n",
              " 'infection',\n",
              " 'lisinopril',\n",
              " 'metoprolol',\n",
              " 'oxygen',\n",
              " 'prednisone',\n",
              " 'aspirin',\n",
              " 'warfarin',\n",
              " 'congestive',\n",
              " 'failure',\n",
              " 'gain',\n",
              " 'loss',\n",
              " 'kidney',\n",
              " 'renal',\n",
              " 'acute',\n",
              " 'chronic',\n",
              " 'respiratory',\n",
              " 'obstructive',\n",
              " 'dehydration',\n",
              " 'pneumonia',\n",
              " 'sepsis',\n",
              " 'abdominal',\n",
              " 'breath',\n",
              " 'mouth',\n",
              " 'urinary',\n",
              " 'confusion',\n",
              " 'tract',\n",
              " 'cough',\n",
              " 'bleed',\n",
              " 'bleeding',\n",
              " 'coumadin',\n",
              " 'edema',\n",
              " 'chest',\n",
              " 'disease',\n",
              " 'anemia',\n",
              " 'gastrointestinal',\n",
              " 'heart',\n",
              " 'weight',\n",
              " 'cancer',\n",
              " 'cholesterol',\n",
              " 'sodium']"
            ]
          },
          "metadata": {
            "tags": []
          },
          "execution_count": 40
        }
      ]
    },
    {
      "cell_type": "code",
      "metadata": {
        "colab": {
          "base_uri": "https://localhost:8080/",
          "height": 66,
          "referenced_widgets": [
            "70d64ecbaf4d4fb79431ed6f7b6820e2",
            "452f172011664ffebe0d9a203de50053",
            "0cabac9f963e4bbda5be56a4eece0283",
            "ec231f7075a5456dbb1f579fc30bd69b",
            "3d80e3c169cc47698a2b26acbd23def0",
            "e844a7d578e94806b627d9461268a8b0",
            "8412e883273942f99bd6b0edef6d9f3f",
            "a96a28766bbe4a22ae34c38279559eca"
          ]
        },
        "id": "VVv7C3juX3aw",
        "outputId": "af0938d8-589e-4a32-9af2-5f5879c7e921"
      },
      "source": [
        "diagnosis_icd9category_token['med_terms_condensed']=diagnosis_icd9category_token.medical_terms_list.progress_apply(lambda x:list(set(x).intersection(set(all_vocab))))"
      ],
      "execution_count": null,
      "outputs": [
        {
          "output_type": "display_data",
          "data": {
            "application/vnd.jupyter.widget-view+json": {
              "model_id": "70d64ecbaf4d4fb79431ed6f7b6820e2",
              "version_major": 2,
              "version_minor": 0
            },
            "text/plain": [
              "HBox(children=(FloatProgress(value=0.0, max=41967.0), HTML(value='')))"
            ]
          },
          "metadata": {
            "tags": []
          }
        },
        {
          "output_type": "stream",
          "text": [
            "\n"
          ],
          "name": "stdout"
        }
      ]
    },
    {
      "cell_type": "code",
      "metadata": {
        "colab": {
          "base_uri": "https://localhost:8080/",
          "height": 1000
        },
        "id": "dHlP8tOYYlDl",
        "outputId": "618d65ec-78f6-4308-dbff-1fd33cd73847"
      },
      "source": [
        "diagnosis_icd9category_token"
      ],
      "execution_count": null,
      "outputs": [
        {
          "output_type": "execute_result",
          "data": {
            "text/html": [
              "<div>\n",
              "<style scoped>\n",
              "    .dataframe tbody tr th:only-of-type {\n",
              "        vertical-align: middle;\n",
              "    }\n",
              "\n",
              "    .dataframe tbody tr th {\n",
              "        vertical-align: top;\n",
              "    }\n",
              "\n",
              "    .dataframe thead th {\n",
              "        text-align: right;\n",
              "    }\n",
              "</style>\n",
              "<table border=\"1\" class=\"dataframe\">\n",
              "  <thead>\n",
              "    <tr style=\"text-align: right;\">\n",
              "      <th></th>\n",
              "      <th>HADM_ID</th>\n",
              "      <th>discharge diagnosis:</th>\n",
              "      <th>icd9_category</th>\n",
              "      <th>medical_terms_list</th>\n",
              "      <th>med_terms_condensed</th>\n",
              "    </tr>\n",
              "  </thead>\n",
              "  <tbody>\n",
              "    <tr>\n",
              "      <th>0</th>\n",
              "      <td>167118.0</td>\n",
              "      <td>discharge diagnosis:  copd, coronary artery disease/atypical angina (lad 30%, rca 30%,  ef 63%), hypercholesterolemia, hypothyroidism, hypertension,  hiatal hernia, cerebral vascular accident,s/p motor vehicle  colision-&gt; head injury &amp; rib fracture.  tbm- s/p tracheoplasty.      discharge condition:  good    discharge instructions:  please update dr.&lt;name&gt; &lt;telephone&gt; office for:  fever,  shortness of breath, chest pain , productive cough or if you  have any questions or concerns.      completed by: &lt;date&gt;</td>\n",
              "      <td>[496, 553, 518, 453, 519, 276]</td>\n",
              "      <td>[hypercholesterolemia, cerebral, hypothyroidism, cough, accident, hypertension, artery, chest, vascular, coronary, fracture, injury, angina, pain, head]</td>\n",
              "      <td>[fracture, coronary, chest, hypertension, artery, cough, pain]</td>\n",
              "    </tr>\n",
              "    <tr>\n",
              "      <th>1</th>\n",
              "      <td>196489.0</td>\n",
              "      <td>discharge diagnosis:  primary:  1. chronic obstructive pulmonary disease exacerbation  2. respiratory failure with intubation  3. upper gastrointestinal bleed/peptic ulcer disease  4. hypertension  5. anxiety    secondary:  1. coronary artery disease  2. hypothyroidism      discharge condition:  mental status: confused - sometimes.  level of consciousness: alert and interactive.  activity status: out of bed with assistance to chair or  wheelchair.      discharge instructions:  you were admitted to the hospital with shortness of breath and  respiratory failure and lethargy. in the emergency department,  you were breathing very fast and a breathing tube was inserted  into your airway to help you breathe. you were admitted to the  intensive care unit. there, you were managed with steroids and  antibiotics and the tube was eventually removed from your  airway, allowing you to breathe on your own. you also underwent  bronchoscopy which looked at the inside of your airways.  .  during your time in the intensive care unit, you developed a  gastrointestinal bleed. a tube was placed into your stomach and  you underwent an endoscopic procedure to look at your esophagus  and stomach. this showed inflammation in your esophagusand  ulcers in your stomach.  .  you should continue to use nasal oxygen by nasal cannula as  needed. you should continue the steroid taper as instructed. you  should call your doctor or return to the emergency room if you  have increasing difficulty breathing or shortness of breath,  wheezing, chest pain, blood in your stool or vomiting blood.  .  there are some changes in your medications.  start pantoprazole 40 mg twice daily and stop omeprazole  start hydrochlorothiazide  start prednisone, taking 30 mg for 3 days, then 20 mg for 4  days, then 10 mg for 4 days, then 5 mg for 4 days, then stop.  start colace and senna as needed for constipation  can use morphine to alleviate symptoms of respiratory discomfort  stop furosemide  stop zolpidem  stop aspirin  increase diovan to 240 mg daily  decrease trazodone to 50 mg daily  .  follow up as indicated below.    followup instructions:  you have an appointment to follow up with dr. &lt;name&gt;, your  primary care physician, &lt;name&gt; [**8-29**] at 1pm. his address is [**location (un) 1822**], [**apartment address(1) 1823**], [**location (un) **],[**numeric identifier 1700**]. the phone is  &lt;telephone&gt;.    you have an appointment to follow up with dr. &lt;name&gt; &lt;name&gt; in  the  &lt;name&gt; at &lt;hospital&gt; on the [**location (un) 453**]. their phone number is  &lt;telephone&gt;.    department: div. of gastroenterology  when: wednesday  &lt;date&gt;  at 3:00 pm  with: &lt;name&gt; &lt;name&gt;, md &lt;telephone&gt;  building: ra &lt;name&gt; (&lt;name&gt;/&lt;name&gt; complex) [**location (un) **]  campus: east     best parking: main garage</td>\n",
              "      <td>[487, 416, 272, 530, 414, 553, 531, 518, 401, 519, 348, V02, 359, 584, 458, 578, 491, E93, 276, 244]</td>\n",
              "      <td>[pulmonary, hypertension, of, obstructive, discomfort, gastrointestinal, constipation, oxygen, breath, inflammation, artery, chest, hydrochlorothiazide, steroid, anxiety, omeprazole, senna, trazodone, failure, shortness, disease, pantoprazole, aspirin, hypothyroidism, zolpidem, furosemide, coronary, prednisone, lethargy, steroids, ulcer, chronic, respiratory, morphine, pain]</td>\n",
              "      <td>[disease, oxygen, constipation, shortness, gastrointestinal, breath, prednisone, coronary, chest, pulmonary, chronic, aspirin, hypertension, failure, artery, respiratory, obstructive, pain]</td>\n",
              "    </tr>\n",
              "    <tr>\n",
              "      <th>2</th>\n",
              "      <td>135453.0</td>\n",
              "      <td>discharge diagnosis:  1. cervical spondylosis with calcification of posterior  longitudinal ligament.  2. fracture dislocation c6-c7.  3. ossification of the posterior longitudinal ligament.  4. aspiration pneumonia      1. cervical spondylosis with calcification of posterior      longitudinal ligament.  2. fracture dislocation c6-c7.  3. ossification of the posterior longitudinal ligament.  4. aspiration pneumonia    1. cervical spondylosis with calcification of posterior      longitudinal ligament.  2. fracture dislocation c6-c7.  3. ossification of the posterior longitudinal ligament.  4. aspiration pneumonia      discharge condition:  stable to outside facility      discharge instructions:  patient has been made cmo at the request of him and his family.  he has a foley placed for urinary retention. please use morphine  as needed for pain and olanzapine as needed for agitiation.  patient has known history of aspiration documented on speech and  swallow. it is the patient and the family's wish for him to  continue to eat and drink as desired.    followup instructions:  follow up with your primary care physician as needed.</td>\n",
              "      <td>[V12, 788, 805, 507, V45, 401, 427, 453, E88, 293, 802, 428]</td>\n",
              "      <td>[ligament, spondylosis, of, cervical, urinary, posterior, calcification, olanzapine, fracture, pneumonia, dislocation, retention, longitudinal, morphine, pain]</td>\n",
              "      <td>[fracture, pneumonia, urinary, pain]</td>\n",
              "    </tr>\n",
              "    <tr>\n",
              "      <th>3</th>\n",
              "      <td>170490.0</td>\n",
              "      <td>discharge diagnosis:  brain lesion    discharge condition:  mental status: clear and coherent.  level of consciousness: alert and interactive.  activity status: ambulatory - independent.  neuro exam intact.    discharge instructions:  ??????\\thave a friend/family member check your incision daily for  signs of infection.  ??????\\ttake your pain medicine as prescribed.  ??????\\texercise should be limited to walking; no lifting, straining,  or excessive bending.  ??????\\tyou have dissolvable sutures, you must keep that area dry for  10 days.  ??????\\tyou may shower before this time using a shower cap to cover  your head.  ??????\\tincrease your intake of fluids and fiber, as narcotic pain  medicine can cause constipation. we generally recommend taking  an over the counter stool softener, such as docusate (colace)  while taking narcotic pain medication.  ??????\\tunless directed by your doctor, do not take any  anti-inflammatory medicines such as motrin, aspirin, advil, and  ibuprofen etc.  ??????\\tif you have been prescribed dilantin (phenytoin) for  anti-seizure medicine, take it as prescribed and follow up with  laboratory blood drawing in one week.  this can be drawn at your  pcp??????s office, but please have the results faxed to &lt;telephone&gt;.  if you have been discharged on keppra (levetiracetam), you will  not require blood work monitoring.  ??????\\tif you are being sent home on steroid medication, make sure  you are taking a medication to protect your stomach (prilosec,  protonix, or pepcid), as these medications can cause stomach  irritation.  make sure to take your steroid medication with  meals, or a glass of milk.  ??????\\tclearance to drive and return to work will be addressed at  your post-operative office visit.  ??????\\tmake sure to continue to use your incentive spirometer while  at home.  call your surgeon immediately if you experience any of the  following    ??????\\tnew onset of tremors or seizures.  ??????\\tany confusion or change in mental status.  ??????\\tany numbness, tingling, weakness in your extremities.  ??????\\tpain or headache that is continually increasing, or not  relieved by pain medication.  ??????\\tany signs of infection at the wound site: increasing redness,  increased swelling, increased tenderness, or drainage.  ??????\\tfever greater than or equal to 101?????? f.    followup instructions:  ??????\\tplease return to the office in [**6-28**] days (from your date of  surgery) for a wound check. this appointment can be made with  the nurse practitioner.  please make this appointment by calling  &lt;telephone&gt;. if you live quite a distance from our office,  please make arrangements for the same, with your pcp.</td>\n",
              "      <td>[710, 225, 443, 714, 530, V43]</td>\n",
              "      <td>[motrin, aspirin, levetiracetam, seizures, weakness, phenytoin, fever, redness, tenderness, docusate, infection, steroid, tingling, confusion, headache, constipation, tremors, numbness, pain]</td>\n",
              "      <td>[constipation, seizures, infection, numbness, headache, aspirin, weakness, fever, confusion, motrin, redness, pain]</td>\n",
              "    </tr>\n",
              "    <tr>\n",
              "      <th>4</th>\n",
              "      <td>134727.0</td>\n",
              "      <td>discharge diagnosis:  pneumonia    discharge condition:  expired    discharge instructions:  na    followup instructions:  na                                 &lt;name&gt; &lt;name&gt; md [**md number(2) 1851**]</td>\n",
              "      <td>[486, 518, V45, V58, 401, 577, 415, 428]</td>\n",
              "      <td>[]</td>\n",
              "      <td>[]</td>\n",
              "    </tr>\n",
              "    <tr>\n",
              "      <th>...</th>\n",
              "      <td>...</td>\n",
              "      <td>...</td>\n",
              "      <td>...</td>\n",
              "      <td>...</td>\n",
              "      <td>...</td>\n",
              "    </tr>\n",
              "    <tr>\n",
              "      <th>41962</th>\n",
              "      <td>127716.0</td>\n",
              "      <td>discharge diagnosis:  aortic stenosis and coronary artery disease s/p aortic valve  replacement and coronary artery bypass graft  past medical history:  hypertension  hyperlipidemia  diabetes mellitus  osteoarthritis  phlebitis  lung cancer  hiatal hernia  hypthyroidism  s/p right lobectomy [**2117**]  s/p lymph node dissection in neck  s/p beast lumpectomy  s/p hysterectomy  s/p c section  s/p tonsillectomy      discharge condition:  alert and oriented x3 nonfocal  ambulating, steady gait  incisional pain managed with ultram  incisions:  sternal - healing well, no erythema or drainage  1+ le edema      discharge instructions:  please shower daily including washing incisions gently with mild  soap, no baths or swimming until cleared by surgeon. look at  your incisions daily for redness or drainage  please no lotions, cream, powder, or ointments to incisions  each morning you should weigh yourself and then in the evening  take your temperature, these should be written down on the chart    no driving for one month or while taking narcotics. driving will  be discussed at follow up appointment with surgeon. no lifting  more than 10 pounds for 10 weeks  please call with any questions or concerns &lt;telephone&gt;  females: please wear bra to reduce pulling on incision, avoid  rubbing on lower edge  **please call cardiac surgery office with any questions or  concerns &lt;telephone&gt;. answering service will contact on call  person during off hours**    followup instructions:  you are scheduled for the following appointments  wound care, &lt;name&gt;, &lt;name&gt;  phone:&lt;telephone&gt;  date/time: &lt;date&gt;  10:00    surgeon: dr. &lt;name&gt; &lt;telephone&gt; date/time: &lt;date&gt;  1:15  cardiologist: dr. &lt;name&gt;  &lt;date&gt;  at 3:00p    please call to schedule appointments with your  primary care dr. &lt;name&gt; &lt;name&gt; in &lt;telephone&gt;    **please call cardiac surgery office with any questions or  concerns &lt;telephone&gt;. answering service will contact on call  person during off hours**                                   &lt;name&gt; &lt;name&gt; md [**md number(2) 748**]    completed by: &lt;date&gt;</td>\n",
              "      <td>[416, 424, 272, V10, V85, 414, 250, 401, 278, 782]</td>\n",
              "      <td>[artery, redness, edema, coronary, erythema, disease]</td>\n",
              "      <td>[disease, edema, coronary, erythema, artery, redness]</td>\n",
              "    </tr>\n",
              "    <tr>\n",
              "      <th>41963</th>\n",
              "      <td>186377.0</td>\n",
              "      <td>discharge diagnosis:  coronary artery disease  pmh:  hypertension, diabetes, copd, diastolic heart failure, ef 45-50%  past surgical history  penile implant      discharge condition:  alert and oriented x3 nonfocal  ambulating, gait steady  sternal pain managed with oral analgesics  sternal incision - healing well, no erythema or drainage  right lower extremity saph site clean/dry/intact      discharge instructions:  please draw bun/cre, inr at least every other day until they  stabilize  please shower daily including washing incisions gently with mild  soap, no baths or swimming, and look at your incisions  please no lotions, cream, powder, or ointments to incisions  each morning you should weigh yourself and then in the evening  take your temperature, these should be written down on the chart  no driving for approximately one month and while taking  narcotics, will be discussed at follow up appointment with  surgeon when you will be able to drive  no lifting more than 10 pounds for 10 weeks  please call with any questions or concerns &lt;telephone&gt;  **please call cardiac surgery office with any questions or  concerns &lt;telephone&gt;. answering service will contact on call  person during off hours**      followup instructions:  you are scheduled for the following appointments:  surgeon dr. &lt;name&gt; &lt;telephone&gt;,  &lt;date&gt;  1:00  cardiologist dr. &lt;name&gt;. &lt;name&gt; office will call you with an  appointment  please call to schedule the following:  primary care dr. &lt;name&gt;,&lt;name&gt; in [**3-8**] weeks  please follow up with dr. &lt;name&gt; &lt;name&gt; call &lt;telephone&gt; to  schedule an appointment  dialysis,schedule hemodialysis unit date/time: &lt;date&gt;  12:00  renal: dr. &lt;name&gt; &lt;telephone&gt;  diabetes: if patient requires endocrine follow-up after  discharge from rehab, please contact &lt;name&gt;, &lt;name&gt; at &lt;hospital&gt;  **please call cardiac surgery office with any questions or  concerns &lt;telephone&gt;. answering service will contact on call  person during off hours**    inr draw on [**8-16**]  goal inr [**1-5**]  indication: atrial fibrillation                                   &lt;name&gt; &lt;name&gt; md [**md number(2) 266**]    completed by: &lt;date&gt;</td>\n",
              "      <td>[424, 511, 305, 707, 403, 496, 784, 250, 414, V58, 427, 428, 584, 008, 997, 434, 410, 585, 041, 599]</td>\n",
              "      <td>[atrial, diabetes, diastolic, fibrillation, heart, failure, erythema, clean/dry/intact]</td>\n",
              "      <td>[fibrillation, atrial, heart, erythema, failure, diabetes]</td>\n",
              "    </tr>\n",
              "    <tr>\n",
              "      <th>41964</th>\n",
              "      <td>156564.0</td>\n",
              "      <td>discharge diagnosis:  left knee infection  chronic obstructive pulmonary disease exacerbation  acute on chronic kidney injury  congestive heart failure  hypertension      discharge condition:  mental status: clear and coherent.  level of consciousness: alert and interactive.  activity status: out of bed with assistance to chair or  wheelchair.      discharge instructions:  mr. &lt;name&gt;,    you were admitted to the hospital for a infected hardware in  your left knee. our orthopaedics team cleaned out the infection  in your knee and replaced the liner of your prosthesis. they  feel you should follow up with your primary orthopaedic doctor,  dr. &lt;name&gt; &lt;name&gt; at &lt;hospital&gt; (&lt;telephone&gt;), for ongoing  issues about your knee. the cultures of the infection in your  knee grew two different organisms, so we consulted our  infectious disease doctors who recommended a course of iv  antibiotics to help treat your infection. because this infection  occured inside of a joint, a longer course of antibiotics is  required. you went multiple times to the operating room to  wash-out your knee of any remaining infection, and your hardware  was removed. most recently you had a portion of tissue grafted  to your knee to provide for better coverage of your wound, along  with skin graft. your kidney function worsened while you were in  the hospital but it appears to have normalized. this should be  followed up with your primary care physician.    we made the following changes to your medications:  started:  vancomycin (antibiotic)  ceftriaxone (antibiotic)    increased metoprolol for blood pressure    followup instructions:  department: plastic surgery  when: wednesday  &lt;date&gt;  at 3:15 pm  with: &lt;name&gt; &lt;name&gt;, md &lt;telephone&gt;  building: lm &lt;name&gt; bldg (&lt;name&gt;) [**location (un) **]  campus: west     best parking: &lt;name&gt; garage    name: &lt;name&gt;, &lt;name&gt; &lt;name&gt; &lt;name&gt;  location: community physicians associates  address: &lt;hospital&gt;,[**numeric identifier 18406**]  phone: &lt;telephone&gt;  appointment: thursday  &lt;date&gt;  1:15pm    department: infectious disease  when: friday  &lt;date&gt;  at 9:30 am  with: &lt;name&gt; &lt;name&gt;, md &lt;telephone&gt;  building: lm &lt;name&gt; bldg (&lt;name&gt;) &lt;hospital&gt;  campus: west     best parking: &lt;name&gt; garage    name: nabi,&lt;name&gt; md  address: &lt;hospital&gt;,[**numeric identifier 18406**]  phone: &lt;telephone&gt;  **please discuss with the staff at the facility a follow up  appointment with your pcp when you are ready for discharge.      department: plastic surgery  when: wednesday  &lt;date&gt;  at 3:15 pm  with: &lt;name&gt; &lt;name&gt;, md &lt;telephone&gt;  building: lm &lt;name&gt; bldg (&lt;name&gt;) [**location (un) **]  campus: west     best parking: &lt;name&gt; garage    department: infectious disease  when: friday  &lt;date&gt;  at 9:30 am  with: &lt;name&gt; &lt;name&gt;, md &lt;telephone&gt;  building: lm &lt;name&gt; bldg (&lt;name&gt;) &lt;hospital&gt;  campus: west     best parking: &lt;name&gt; garage                                   &lt;name&gt; &lt;name&gt; md [**md number(1) 348**]    completed by: &lt;date&gt;</td>\n",
              "      <td>[V10, 403, 584, V43, 428, 285, 496, 250, V58, 041, 357, 707, 365, 414, 780, 518, 711, 585, 327, V12, E84, E87, 996]</td>\n",
              "      <td>[pulmonary, infectious, hypertension, kidney, obstructive, heart, injury, failure, metoprolol, infection, disease]</td>\n",
              "      <td>[disease, metoprolol, heart, pulmonary, kidney, hypertension, failure, obstructive, infection]</td>\n",
              "    </tr>\n",
              "    <tr>\n",
              "      <th>41965</th>\n",
              "      <td>172559.0</td>\n",
              "      <td>discharge diagnosis:  primary:  small bowel obstruction  metastatic prostate cancer  anasarca  malnutrition  dehydration  acute renal failure  aspiration pneumonia  .  secondary:  prostate ca s/p xrt and chemo - rising psa (140), lg rp mass,  oa, lbp, diverticulosis w/ colovesical fistula s/p lar [**5-18**], s/p  ileostomy takedown [**10-18**], open ccy      discharge condition:  stable      discharge instructions:  please call your doctor or return to the er for any of the  following:  * you experience new chest pain, pressure, squeezing or  tightness.  * new or worsening cough or wheezing.  * if you are vomiting and cannot keep in fluids or your  medications.  * you are getting dehydrated due to continued vomiting,  diarrhea or other reasons. signs of dehydration include dry  mouth, rapid heartbeat or feeling dizzy or faint when standing.  * you see blood or dark/black material when you vomit or have a  bowel movement.  * your pain is not improving within 8-12 hours or not gone  within 24 hours. call or return immediately if your pain is  getting worse or is changing location or moving to your chest or    back.  *avoid lifting objects &gt; 5lbs until your follow-up appointment  with the surgeon.  *avoid driving or operating heavy machinery while taking pain  medications.  * you have shaking chills, or a fever greater than 101.5 (f)  degrees or 38(c) degrees.  * any serious change in your symptoms, or any new symptoms that  concern you.  * please resume all regular home medications and take any new  meds  as ordered.  * continue to ambulate several times per day.  .  incision care:  -your staples will be removed at your follow-up appointment with  the surgeon, and steri strips will be applied.  -your steri-strips will fall off on their own. please remove any  remaining strips 7-10 days after surgery.  -you may shower, and wash surgical incisions.  -avoid swimming and baths until your follow-up appointment.  -please call the doctor if you have increased pain, swelling,  redness, or drainage from the incision sites.      followup instructions:  1. please follow-up appointment with dr. &lt;name&gt; (&lt;telephone&gt; on  &lt;date&gt;  at 1:15pm for removal of your staples.  2. you have follow-up appointment with dr. &lt;name&gt; &lt;name&gt;, md  phone:&lt;telephone&gt; date/time: &lt;date&gt;  11:00, and chemotherapy at  provider: &lt;name&gt; &lt;name&gt;, rn phone:&lt;telephone&gt; date/time: &lt;date&gt;   12:00  3. provider: &lt;name&gt;,&lt;name&gt; &lt;name&gt; apg (sb)  phone:&lt;telephone&gt; date/time: &lt;date&gt;  10:10                                 &lt;name&gt; &lt;name&gt; md [**md number(1) 17**]    completed by: &lt;date&gt;</td>\n",
              "      <td>[197, 507, 185, 427, 261, 585, V66, 560, 783, 285, 276]</td>\n",
              "      <td>[dehydration, obstruction, cough, diverticulosis, fever, chest, vomiting, telephone, bowel, swelling, chills, prostate, colovesical, wheezing, phone, vomit, fistula, pain, cancer]</td>\n",
              "      <td>[pain, chills, vomiting, cancer, fever, dehydration, cough, swelling, chest]</td>\n",
              "    </tr>\n",
              "    <tr>\n",
              "      <th>41966</th>\n",
              "      <td>135672.0</td>\n",
              "      <td>discharge diagnosis:  peritonitis secondary to small bowel perforation.  cmv enteritis  b-cell lymphoma  line infection  type 2 diabetes controlled without complications  moderate malnutrition  cad bypass vessle      discharge condition:  stable.  tolerating regular diet  pain well controlled with oral medications.      discharge instructions:  you are being discharged on an antiviral medication called  ganciclovir, which can make your diarhea worse for some time.  please contact your doctor if you experience numbness, tingling  or pain in hands or feet, as this may be a side effect of the  medication.    you will be having labs drawn every other day and sent to dr.  &lt;name&gt; of infectious diseases for monitoring of your blood  counts.    *avoid lifting objects &gt; 5lbs until your follow-up appointment  with the surgeon.    *avoid driving or operating heavy machinery while taking pain  medications.    * continue to ambulate several times per day.    incision care:  -your staples will be removed at your follow up appoinetment.  -steri-strips will be applied and will fall off on their own.  please remove any remaining strips 7-10 days after application.  -you may shower, and wash surgical incisions.  -avoid swimming and baths until your follow-up appointment.  -please call the doctor if you have increased pain, swelling,  redness, or drainage from the incision sites.    followup instructions:  you will need to have an ophthalmalogic evaluation to make sure  that there is no evidence of cmv infection of the retina - this  should happen this week.  please call: (&lt;telephone&gt; to  schedule this appointment; if you have any difficulty arranging  this, please discuss this with your primary doctor so that they  can facilitate/arrange this evaluation.    1. please call dr.&lt;name&gt; office, &lt;telephone&gt;, to make a  follow up appointment in [**11-23**] weeks.  scheduled appointments :  provider: &lt;name&gt; &lt;name&gt;, &lt;telephone&gt;  date/time: &lt;date&gt;  10:30  provider: &lt;name&gt; &lt;name&gt;, rn phone:&lt;telephone&gt;  date/time: &lt;date&gt;  11:00  provider: &lt;name&gt; chair 6  date/time: &lt;date&gt;  11:00                                   &lt;name&gt; &lt;name&gt; md [**md number(2) 431**]    completed by: &lt;date&gt;</td>\n",
              "      <td>[202, 401, 584, 255, 283, 238, 038, 785, 250, 008, 041, 272, 996, 078, V45, 567, 569, 273, 995, 263, 579, 782]</td>\n",
              "      <td>[infectious, telephone, bowel, swelling, diseases, phone, perforation, small, infection, numbness, pain]</td>\n",
              "      <td>[infection, swelling, numbness, pain]</td>\n",
              "    </tr>\n",
              "  </tbody>\n",
              "</table>\n",
              "<p>41967 rows × 5 columns</p>\n",
              "</div>"
            ],
            "text/plain": [
              "        HADM_ID  ...                                                                                                                                                                            med_terms_condensed\n",
              "0      167118.0  ...                                                                                                                                 [fracture, coronary, chest, hypertension, artery, cough, pain]\n",
              "1      196489.0  ...  [disease, oxygen, constipation, shortness, gastrointestinal, breath, prednisone, coronary, chest, pulmonary, chronic, aspirin, hypertension, failure, artery, respiratory, obstructive, pain]\n",
              "2      135453.0  ...                                                                                                                                                           [fracture, pneumonia, urinary, pain]\n",
              "3      170490.0  ...                                                                            [constipation, seizures, infection, numbness, headache, aspirin, weakness, fever, confusion, motrin, redness, pain]\n",
              "4      134727.0  ...                                                                                                                                                                                             []\n",
              "...         ...  ...                                                                                                                                                                                            ...\n",
              "41962  127716.0  ...                                                                                                                                          [disease, edema, coronary, erythema, artery, redness]\n",
              "41963  186377.0  ...                                                                                                                                     [fibrillation, atrial, heart, erythema, failure, diabetes]\n",
              "41964  156564.0  ...                                                                                                 [disease, metoprolol, heart, pulmonary, kidney, hypertension, failure, obstructive, infection]\n",
              "41965  172559.0  ...                                                                                                                   [pain, chills, vomiting, cancer, fever, dehydration, cough, swelling, chest]\n",
              "41966  135672.0  ...                                                                                                                                                          [infection, swelling, numbness, pain]\n",
              "\n",
              "[41967 rows x 5 columns]"
            ]
          },
          "metadata": {
            "tags": []
          },
          "execution_count": 42
        }
      ]
    },
    {
      "cell_type": "code",
      "metadata": {
        "id": "YLI-gSYZYnM7"
      },
      "source": [
        "def return_feature(x):\n",
        "  feature=[]\n",
        "  for i in x:\n",
        "    for j in list(condensed_feature_dict):\n",
        "      if i in condensed_feature_dict[j]:\n",
        "        feature.append(j)\n",
        "  return list(set(feature))\n"
      ],
      "execution_count": null,
      "outputs": []
    },
    {
      "cell_type": "code",
      "metadata": {
        "colab": {
          "base_uri": "https://localhost:8080/",
          "height": 66,
          "referenced_widgets": [
            "8c70a7f4dcd640de8aa90524031ee57c",
            "1002ed39b8804918a7c771e711471a56",
            "3ae8588b8b7e4f228bf9167df4bd4ea7",
            "297ffdeae96744f2a45976b061ab82e3",
            "8effa7a01e774e5db9a5248151610e13",
            "422dc91502dd4dcab14dbe3e423c3c2b",
            "8fe8344679b8404ca12e70c6c967100a",
            "e387343bc8e54c4dbda1a3c8e190b90d"
          ]
        },
        "id": "bSa-h5agaEPt",
        "outputId": "4708cea2-8978-4491-b581-6f266549d773"
      },
      "source": [
        "diagnosis_icd9category_token['features']=diagnosis_icd9category_token.med_terms_condensed.progress_apply(lambda x:return_feature(x))"
      ],
      "execution_count": null,
      "outputs": [
        {
          "output_type": "display_data",
          "data": {
            "application/vnd.jupyter.widget-view+json": {
              "model_id": "8c70a7f4dcd640de8aa90524031ee57c",
              "version_major": 2,
              "version_minor": 0
            },
            "text/plain": [
              "HBox(children=(FloatProgress(value=0.0, max=41967.0), HTML(value='')))"
            ]
          },
          "metadata": {
            "tags": []
          }
        },
        {
          "output_type": "stream",
          "text": [
            "\n"
          ],
          "name": "stdout"
        }
      ]
    },
    {
      "cell_type": "code",
      "metadata": {
        "colab": {
          "base_uri": "https://localhost:8080/",
          "height": 1000
        },
        "id": "IQ8q2CmLaR4p",
        "outputId": "120d604c-9519-4dcc-ceb5-4f0a7cdc9008"
      },
      "source": [
        "diagnosis_icd9category_token"
      ],
      "execution_count": null,
      "outputs": [
        {
          "output_type": "execute_result",
          "data": {
            "text/html": [
              "<div>\n",
              "<style scoped>\n",
              "    .dataframe tbody tr th:only-of-type {\n",
              "        vertical-align: middle;\n",
              "    }\n",
              "\n",
              "    .dataframe tbody tr th {\n",
              "        vertical-align: top;\n",
              "    }\n",
              "\n",
              "    .dataframe thead th {\n",
              "        text-align: right;\n",
              "    }\n",
              "</style>\n",
              "<table border=\"1\" class=\"dataframe\">\n",
              "  <thead>\n",
              "    <tr style=\"text-align: right;\">\n",
              "      <th></th>\n",
              "      <th>HADM_ID</th>\n",
              "      <th>discharge diagnosis:</th>\n",
              "      <th>icd9_category</th>\n",
              "      <th>medical_terms_list</th>\n",
              "      <th>med_terms_condensed</th>\n",
              "      <th>features</th>\n",
              "    </tr>\n",
              "  </thead>\n",
              "  <tbody>\n",
              "    <tr>\n",
              "      <th>0</th>\n",
              "      <td>167118.0</td>\n",
              "      <td>discharge diagnosis:  copd, coronary artery disease/atypical angina (lad 30%, rca 30%,  ef 63%), hypercholesterolemia, hypothyroidism, hypertension,  hiatal hernia, cerebral vascular accident,s/p motor vehicle  colision-&gt; head injury &amp; rib fracture.  tbm- s/p tracheoplasty.      discharge condition:  good    discharge instructions:  please update dr.&lt;name&gt; &lt;telephone&gt; office for:  fever,  shortness of breath, chest pain , productive cough or if you  have any questions or concerns.      completed by: &lt;date&gt;</td>\n",
              "      <td>[496, 553, 518, 453, 519, 276]</td>\n",
              "      <td>[hypercholesterolemia, cerebral, hypothyroidism, cough, accident, hypertension, artery, chest, vascular, coronary, fracture, injury, angina, pain, head]</td>\n",
              "      <td>[fracture, coronary, chest, hypertension, artery, cough, pain]</td>\n",
              "      <td>[f9, f33, f4, f3, f8, f37]</td>\n",
              "    </tr>\n",
              "    <tr>\n",
              "      <th>1</th>\n",
              "      <td>196489.0</td>\n",
              "      <td>discharge diagnosis:  primary:  1. chronic obstructive pulmonary disease exacerbation  2. respiratory failure with intubation  3. upper gastrointestinal bleed/peptic ulcer disease  4. hypertension  5. anxiety    secondary:  1. coronary artery disease  2. hypothyroidism      discharge condition:  mental status: confused - sometimes.  level of consciousness: alert and interactive.  activity status: out of bed with assistance to chair or  wheelchair.      discharge instructions:  you were admitted to the hospital with shortness of breath and  respiratory failure and lethargy. in the emergency department,  you were breathing very fast and a breathing tube was inserted  into your airway to help you breathe. you were admitted to the  intensive care unit. there, you were managed with steroids and  antibiotics and the tube was eventually removed from your  airway, allowing you to breathe on your own. you also underwent  bronchoscopy which looked at the inside of your airways.  .  during your time in the intensive care unit, you developed a  gastrointestinal bleed. a tube was placed into your stomach and  you underwent an endoscopic procedure to look at your esophagus  and stomach. this showed inflammation in your esophagusand  ulcers in your stomach.  .  you should continue to use nasal oxygen by nasal cannula as  needed. you should continue the steroid taper as instructed. you  should call your doctor or return to the emergency room if you  have increasing difficulty breathing or shortness of breath,  wheezing, chest pain, blood in your stool or vomiting blood.  .  there are some changes in your medications.  start pantoprazole 40 mg twice daily and stop omeprazole  start hydrochlorothiazide  start prednisone, taking 30 mg for 3 days, then 20 mg for 4  days, then 10 mg for 4 days, then 5 mg for 4 days, then stop.  start colace and senna as needed for constipation  can use morphine to alleviate symptoms of respiratory discomfort  stop furosemide  stop zolpidem  stop aspirin  increase diovan to 240 mg daily  decrease trazodone to 50 mg daily  .  follow up as indicated below.    followup instructions:  you have an appointment to follow up with dr. &lt;name&gt;, your  primary care physician, &lt;name&gt; [**8-29**] at 1pm. his address is [**location (un) 1822**], [**apartment address(1) 1823**], [**location (un) **],[**numeric identifier 1700**]. the phone is  &lt;telephone&gt;.    you have an appointment to follow up with dr. &lt;name&gt; &lt;name&gt; in  the  &lt;name&gt; at &lt;hospital&gt; on the [**location (un) 453**]. their phone number is  &lt;telephone&gt;.    department: div. of gastroenterology  when: wednesday  &lt;date&gt;  at 3:00 pm  with: &lt;name&gt; &lt;name&gt;, md &lt;telephone&gt;  building: ra &lt;name&gt; (&lt;name&gt;/&lt;name&gt; complex) [**location (un) **]  campus: east     best parking: main garage</td>\n",
              "      <td>[487, 416, 272, 530, 414, 553, 531, 518, 401, 519, 348, V02, 359, 584, 458, 578, 491, E93, 276, 244]</td>\n",
              "      <td>[pulmonary, hypertension, of, obstructive, discomfort, gastrointestinal, constipation, oxygen, breath, inflammation, artery, chest, hydrochlorothiazide, steroid, anxiety, omeprazole, senna, trazodone, failure, shortness, disease, pantoprazole, aspirin, hypothyroidism, zolpidem, furosemide, coronary, prednisone, lethargy, steroids, ulcer, chronic, respiratory, morphine, pain]</td>\n",
              "      <td>[disease, oxygen, constipation, shortness, gastrointestinal, breath, prednisone, coronary, chest, pulmonary, chronic, aspirin, hypertension, failure, artery, respiratory, obstructive, pain]</td>\n",
              "      <td>[f9, f22, f18, f38, f15, f16, f23, f40, f17, f4, f28, f8, f6, f37, f24]</td>\n",
              "    </tr>\n",
              "    <tr>\n",
              "      <th>2</th>\n",
              "      <td>135453.0</td>\n",
              "      <td>discharge diagnosis:  1. cervical spondylosis with calcification of posterior  longitudinal ligament.  2. fracture dislocation c6-c7.  3. ossification of the posterior longitudinal ligament.  4. aspiration pneumonia      1. cervical spondylosis with calcification of posterior      longitudinal ligament.  2. fracture dislocation c6-c7.  3. ossification of the posterior longitudinal ligament.  4. aspiration pneumonia    1. cervical spondylosis with calcification of posterior      longitudinal ligament.  2. fracture dislocation c6-c7.  3. ossification of the posterior longitudinal ligament.  4. aspiration pneumonia      discharge condition:  stable to outside facility      discharge instructions:  patient has been made cmo at the request of him and his family.  he has a foley placed for urinary retention. please use morphine  as needed for pain and olanzapine as needed for agitiation.  patient has known history of aspiration documented on speech and  swallow. it is the patient and the family's wish for him to  continue to eat and drink as desired.    followup instructions:  follow up with your primary care physician as needed.</td>\n",
              "      <td>[V12, 788, 805, 507, V45, 401, 427, 453, E88, 293, 802, 428]</td>\n",
              "      <td>[ligament, spondylosis, of, cervical, urinary, posterior, calcification, olanzapine, fracture, pneumonia, dislocation, retention, longitudinal, morphine, pain]</td>\n",
              "      <td>[fracture, pneumonia, urinary, pain]</td>\n",
              "      <td>[f3, f4, f30, f26]</td>\n",
              "    </tr>\n",
              "    <tr>\n",
              "      <th>3</th>\n",
              "      <td>170490.0</td>\n",
              "      <td>discharge diagnosis:  brain lesion    discharge condition:  mental status: clear and coherent.  level of consciousness: alert and interactive.  activity status: ambulatory - independent.  neuro exam intact.    discharge instructions:  ??????\\thave a friend/family member check your incision daily for  signs of infection.  ??????\\ttake your pain medicine as prescribed.  ??????\\texercise should be limited to walking; no lifting, straining,  or excessive bending.  ??????\\tyou have dissolvable sutures, you must keep that area dry for  10 days.  ??????\\tyou may shower before this time using a shower cap to cover  your head.  ??????\\tincrease your intake of fluids and fiber, as narcotic pain  medicine can cause constipation. we generally recommend taking  an over the counter stool softener, such as docusate (colace)  while taking narcotic pain medication.  ??????\\tunless directed by your doctor, do not take any  anti-inflammatory medicines such as motrin, aspirin, advil, and  ibuprofen etc.  ??????\\tif you have been prescribed dilantin (phenytoin) for  anti-seizure medicine, take it as prescribed and follow up with  laboratory blood drawing in one week.  this can be drawn at your  pcp??????s office, but please have the results faxed to &lt;telephone&gt;.  if you have been discharged on keppra (levetiracetam), you will  not require blood work monitoring.  ??????\\tif you are being sent home on steroid medication, make sure  you are taking a medication to protect your stomach (prilosec,  protonix, or pepcid), as these medications can cause stomach  irritation.  make sure to take your steroid medication with  meals, or a glass of milk.  ??????\\tclearance to drive and return to work will be addressed at  your post-operative office visit.  ??????\\tmake sure to continue to use your incentive spirometer while  at home.  call your surgeon immediately if you experience any of the  following    ??????\\tnew onset of tremors or seizures.  ??????\\tany confusion or change in mental status.  ??????\\tany numbness, tingling, weakness in your extremities.  ??????\\tpain or headache that is continually increasing, or not  relieved by pain medication.  ??????\\tany signs of infection at the wound site: increasing redness,  increased swelling, increased tenderness, or drainage.  ??????\\tfever greater than or equal to 101?????? f.    followup instructions:  ??????\\tplease return to the office in [**6-28**] days (from your date of  surgery) for a wound check. this appointment can be made with  the nurse practitioner.  please make this appointment by calling  &lt;telephone&gt;. if you live quite a distance from our office,  please make arrangements for the same, with your pcp.</td>\n",
              "      <td>[710, 225, 443, 714, 530, V43]</td>\n",
              "      <td>[motrin, aspirin, levetiracetam, seizures, weakness, phenytoin, fever, redness, tenderness, docusate, infection, steroid, tingling, confusion, headache, constipation, tremors, numbness, pain]</td>\n",
              "      <td>[constipation, seizures, infection, numbness, headache, aspirin, weakness, fever, confusion, motrin, redness, pain]</td>\n",
              "      <td>[f31, f17, f5, f4, f12, f13, f7]</td>\n",
              "    </tr>\n",
              "    <tr>\n",
              "      <th>4</th>\n",
              "      <td>134727.0</td>\n",
              "      <td>discharge diagnosis:  pneumonia    discharge condition:  expired    discharge instructions:  na    followup instructions:  na                                 &lt;name&gt; &lt;name&gt; md [**md number(2) 1851**]</td>\n",
              "      <td>[486, 518, V45, V58, 401, 577, 415, 428]</td>\n",
              "      <td>[]</td>\n",
              "      <td>[]</td>\n",
              "      <td>[]</td>\n",
              "    </tr>\n",
              "    <tr>\n",
              "      <th>...</th>\n",
              "      <td>...</td>\n",
              "      <td>...</td>\n",
              "      <td>...</td>\n",
              "      <td>...</td>\n",
              "      <td>...</td>\n",
              "      <td>...</td>\n",
              "    </tr>\n",
              "    <tr>\n",
              "      <th>41962</th>\n",
              "      <td>127716.0</td>\n",
              "      <td>discharge diagnosis:  aortic stenosis and coronary artery disease s/p aortic valve  replacement and coronary artery bypass graft  past medical history:  hypertension  hyperlipidemia  diabetes mellitus  osteoarthritis  phlebitis  lung cancer  hiatal hernia  hypthyroidism  s/p right lobectomy [**2117**]  s/p lymph node dissection in neck  s/p beast lumpectomy  s/p hysterectomy  s/p c section  s/p tonsillectomy      discharge condition:  alert and oriented x3 nonfocal  ambulating, steady gait  incisional pain managed with ultram  incisions:  sternal - healing well, no erythema or drainage  1+ le edema      discharge instructions:  please shower daily including washing incisions gently with mild  soap, no baths or swimming until cleared by surgeon. look at  your incisions daily for redness or drainage  please no lotions, cream, powder, or ointments to incisions  each morning you should weigh yourself and then in the evening  take your temperature, these should be written down on the chart    no driving for one month or while taking narcotics. driving will  be discussed at follow up appointment with surgeon. no lifting  more than 10 pounds for 10 weeks  please call with any questions or concerns &lt;telephone&gt;  females: please wear bra to reduce pulling on incision, avoid  rubbing on lower edge  **please call cardiac surgery office with any questions or  concerns &lt;telephone&gt;. answering service will contact on call  person during off hours**    followup instructions:  you are scheduled for the following appointments  wound care, &lt;name&gt;, &lt;name&gt;  phone:&lt;telephone&gt;  date/time: &lt;date&gt;  10:00    surgeon: dr. &lt;name&gt; &lt;telephone&gt; date/time: &lt;date&gt;  1:15  cardiologist: dr. &lt;name&gt;  &lt;date&gt;  at 3:00p    please call to schedule appointments with your  primary care dr. &lt;name&gt; &lt;name&gt; in &lt;telephone&gt;    **please call cardiac surgery office with any questions or  concerns &lt;telephone&gt;. answering service will contact on call  person during off hours**                                   &lt;name&gt; &lt;name&gt; md [**md number(2) 748**]    completed by: &lt;date&gt;</td>\n",
              "      <td>[416, 424, 272, V10, V85, 414, 250, 401, 278, 782]</td>\n",
              "      <td>[artery, redness, edema, coronary, erythema, disease]</td>\n",
              "      <td>[disease, edema, coronary, erythema, artery, redness]</td>\n",
              "      <td>[f36, f8, f38, f12]</td>\n",
              "    </tr>\n",
              "    <tr>\n",
              "      <th>41963</th>\n",
              "      <td>186377.0</td>\n",
              "      <td>discharge diagnosis:  coronary artery disease  pmh:  hypertension, diabetes, copd, diastolic heart failure, ef 45-50%  past surgical history  penile implant      discharge condition:  alert and oriented x3 nonfocal  ambulating, gait steady  sternal pain managed with oral analgesics  sternal incision - healing well, no erythema or drainage  right lower extremity saph site clean/dry/intact      discharge instructions:  please draw bun/cre, inr at least every other day until they  stabilize  please shower daily including washing incisions gently with mild  soap, no baths or swimming, and look at your incisions  please no lotions, cream, powder, or ointments to incisions  each morning you should weigh yourself and then in the evening  take your temperature, these should be written down on the chart  no driving for approximately one month and while taking  narcotics, will be discussed at follow up appointment with  surgeon when you will be able to drive  no lifting more than 10 pounds for 10 weeks  please call with any questions or concerns &lt;telephone&gt;  **please call cardiac surgery office with any questions or  concerns &lt;telephone&gt;. answering service will contact on call  person during off hours**      followup instructions:  you are scheduled for the following appointments:  surgeon dr. &lt;name&gt; &lt;telephone&gt;,  &lt;date&gt;  1:00  cardiologist dr. &lt;name&gt;. &lt;name&gt; office will call you with an  appointment  please call to schedule the following:  primary care dr. &lt;name&gt;,&lt;name&gt; in [**3-8**] weeks  please follow up with dr. &lt;name&gt; &lt;name&gt; call &lt;telephone&gt; to  schedule an appointment  dialysis,schedule hemodialysis unit date/time: &lt;date&gt;  12:00  renal: dr. &lt;name&gt; &lt;telephone&gt;  diabetes: if patient requires endocrine follow-up after  discharge from rehab, please contact &lt;name&gt;, &lt;name&gt; at &lt;hospital&gt;  **please call cardiac surgery office with any questions or  concerns &lt;telephone&gt;. answering service will contact on call  person during off hours**    inr draw on [**8-16**]  goal inr [**1-5**]  indication: atrial fibrillation                                   &lt;name&gt; &lt;name&gt; md [**md number(2) 266**]    completed by: &lt;date&gt;</td>\n",
              "      <td>[424, 511, 305, 707, 403, 496, 784, 250, 414, V58, 427, 428, 584, 008, 997, 434, 410, 585, 041, 599]</td>\n",
              "      <td>[atrial, diabetes, diastolic, fibrillation, heart, failure, erythema, clean/dry/intact]</td>\n",
              "      <td>[fibrillation, atrial, heart, erythema, failure, diabetes]</td>\n",
              "      <td>[f9, f18, f41, f12, f0]</td>\n",
              "    </tr>\n",
              "    <tr>\n",
              "      <th>41964</th>\n",
              "      <td>156564.0</td>\n",
              "      <td>discharge diagnosis:  left knee infection  chronic obstructive pulmonary disease exacerbation  acute on chronic kidney injury  congestive heart failure  hypertension      discharge condition:  mental status: clear and coherent.  level of consciousness: alert and interactive.  activity status: out of bed with assistance to chair or  wheelchair.      discharge instructions:  mr. &lt;name&gt;,    you were admitted to the hospital for a infected hardware in  your left knee. our orthopaedics team cleaned out the infection  in your knee and replaced the liner of your prosthesis. they  feel you should follow up with your primary orthopaedic doctor,  dr. &lt;name&gt; &lt;name&gt; at &lt;hospital&gt; (&lt;telephone&gt;), for ongoing  issues about your knee. the cultures of the infection in your  knee grew two different organisms, so we consulted our  infectious disease doctors who recommended a course of iv  antibiotics to help treat your infection. because this infection  occured inside of a joint, a longer course of antibiotics is  required. you went multiple times to the operating room to  wash-out your knee of any remaining infection, and your hardware  was removed. most recently you had a portion of tissue grafted  to your knee to provide for better coverage of your wound, along  with skin graft. your kidney function worsened while you were in  the hospital but it appears to have normalized. this should be  followed up with your primary care physician.    we made the following changes to your medications:  started:  vancomycin (antibiotic)  ceftriaxone (antibiotic)    increased metoprolol for blood pressure    followup instructions:  department: plastic surgery  when: wednesday  &lt;date&gt;  at 3:15 pm  with: &lt;name&gt; &lt;name&gt;, md &lt;telephone&gt;  building: lm &lt;name&gt; bldg (&lt;name&gt;) [**location (un) **]  campus: west     best parking: &lt;name&gt; garage    name: &lt;name&gt;, &lt;name&gt; &lt;name&gt; &lt;name&gt;  location: community physicians associates  address: &lt;hospital&gt;,[**numeric identifier 18406**]  phone: &lt;telephone&gt;  appointment: thursday  &lt;date&gt;  1:15pm    department: infectious disease  when: friday  &lt;date&gt;  at 9:30 am  with: &lt;name&gt; &lt;name&gt;, md &lt;telephone&gt;  building: lm &lt;name&gt; bldg (&lt;name&gt;) &lt;hospital&gt;  campus: west     best parking: &lt;name&gt; garage    name: nabi,&lt;name&gt; md  address: &lt;hospital&gt;,[**numeric identifier 18406**]  phone: &lt;telephone&gt;  **please discuss with the staff at the facility a follow up  appointment with your pcp when you are ready for discharge.      department: plastic surgery  when: wednesday  &lt;date&gt;  at 3:15 pm  with: &lt;name&gt; &lt;name&gt;, md &lt;telephone&gt;  building: lm &lt;name&gt; bldg (&lt;name&gt;) [**location (un) **]  campus: west     best parking: &lt;name&gt; garage    department: infectious disease  when: friday  &lt;date&gt;  at 9:30 am  with: &lt;name&gt; &lt;name&gt;, md &lt;telephone&gt;  building: lm &lt;name&gt; bldg (&lt;name&gt;) &lt;hospital&gt;  campus: west     best parking: &lt;name&gt; garage                                   &lt;name&gt; &lt;name&gt; md [**md number(1) 348**]    completed by: &lt;date&gt;</td>\n",
              "      <td>[V10, 403, 584, V43, 428, 285, 496, 250, V58, 041, 357, 707, 365, 414, 780, 518, 711, 585, 327, V12, E84, E87, 996]</td>\n",
              "      <td>[pulmonary, infectious, hypertension, kidney, obstructive, heart, injury, failure, metoprolol, infection, disease]</td>\n",
              "      <td>[disease, metoprolol, heart, pulmonary, kidney, hypertension, failure, obstructive, infection]</td>\n",
              "      <td>[f9, f21, f18, f38, f24, f41, f6, f13, f14]</td>\n",
              "    </tr>\n",
              "    <tr>\n",
              "      <th>41965</th>\n",
              "      <td>172559.0</td>\n",
              "      <td>discharge diagnosis:  primary:  small bowel obstruction  metastatic prostate cancer  anasarca  malnutrition  dehydration  acute renal failure  aspiration pneumonia  .  secondary:  prostate ca s/p xrt and chemo - rising psa (140), lg rp mass,  oa, lbp, diverticulosis w/ colovesical fistula s/p lar [**5-18**], s/p  ileostomy takedown [**10-18**], open ccy      discharge condition:  stable      discharge instructions:  please call your doctor or return to the er for any of the  following:  * you experience new chest pain, pressure, squeezing or  tightness.  * new or worsening cough or wheezing.  * if you are vomiting and cannot keep in fluids or your  medications.  * you are getting dehydrated due to continued vomiting,  diarrhea or other reasons. signs of dehydration include dry  mouth, rapid heartbeat or feeling dizzy or faint when standing.  * you see blood or dark/black material when you vomit or have a  bowel movement.  * your pain is not improving within 8-12 hours or not gone  within 24 hours. call or return immediately if your pain is  getting worse or is changing location or moving to your chest or    back.  *avoid lifting objects &gt; 5lbs until your follow-up appointment  with the surgeon.  *avoid driving or operating heavy machinery while taking pain  medications.  * you have shaking chills, or a fever greater than 101.5 (f)  degrees or 38(c) degrees.  * any serious change in your symptoms, or any new symptoms that  concern you.  * please resume all regular home medications and take any new  meds  as ordered.  * continue to ambulate several times per day.  .  incision care:  -your staples will be removed at your follow-up appointment with  the surgeon, and steri strips will be applied.  -your steri-strips will fall off on their own. please remove any  remaining strips 7-10 days after surgery.  -you may shower, and wash surgical incisions.  -avoid swimming and baths until your follow-up appointment.  -please call the doctor if you have increased pain, swelling,  redness, or drainage from the incision sites.      followup instructions:  1. please follow-up appointment with dr. &lt;name&gt; (&lt;telephone&gt; on  &lt;date&gt;  at 1:15pm for removal of your staples.  2. you have follow-up appointment with dr. &lt;name&gt; &lt;name&gt;, md  phone:&lt;telephone&gt; date/time: &lt;date&gt;  11:00, and chemotherapy at  provider: &lt;name&gt; &lt;name&gt;, rn phone:&lt;telephone&gt; date/time: &lt;date&gt;   12:00  3. provider: &lt;name&gt;,&lt;name&gt; &lt;name&gt; apg (sb)  phone:&lt;telephone&gt; date/time: &lt;date&gt;  10:10                                 &lt;name&gt; &lt;name&gt; md [**md number(1) 17**]    completed by: &lt;date&gt;</td>\n",
              "      <td>[197, 507, 185, 427, 261, 585, V66, 560, 783, 285, 276]</td>\n",
              "      <td>[dehydration, obstruction, cough, diverticulosis, fever, chest, vomiting, telephone, bowel, swelling, chills, prostate, colovesical, wheezing, phone, vomit, fistula, pain, cancer]</td>\n",
              "      <td>[pain, chills, vomiting, cancer, fever, dehydration, cough, swelling, chest]</td>\n",
              "      <td>[f33, f25, f43, f4, f11, f37]</td>\n",
              "    </tr>\n",
              "    <tr>\n",
              "      <th>41966</th>\n",
              "      <td>135672.0</td>\n",
              "      <td>discharge diagnosis:  peritonitis secondary to small bowel perforation.  cmv enteritis  b-cell lymphoma  line infection  type 2 diabetes controlled without complications  moderate malnutrition  cad bypass vessle      discharge condition:  stable.  tolerating regular diet  pain well controlled with oral medications.      discharge instructions:  you are being discharged on an antiviral medication called  ganciclovir, which can make your diarhea worse for some time.  please contact your doctor if you experience numbness, tingling  or pain in hands or feet, as this may be a side effect of the  medication.    you will be having labs drawn every other day and sent to dr.  &lt;name&gt; of infectious diseases for monitoring of your blood  counts.    *avoid lifting objects &gt; 5lbs until your follow-up appointment  with the surgeon.    *avoid driving or operating heavy machinery while taking pain  medications.    * continue to ambulate several times per day.    incision care:  -your staples will be removed at your follow up appoinetment.  -steri-strips will be applied and will fall off on their own.  please remove any remaining strips 7-10 days after application.  -you may shower, and wash surgical incisions.  -avoid swimming and baths until your follow-up appointment.  -please call the doctor if you have increased pain, swelling,  redness, or drainage from the incision sites.    followup instructions:  you will need to have an ophthalmalogic evaluation to make sure  that there is no evidence of cmv infection of the retina - this  should happen this week.  please call: (&lt;telephone&gt; to  schedule this appointment; if you have any difficulty arranging  this, please discuss this with your primary doctor so that they  can facilitate/arrange this evaluation.    1. please call dr.&lt;name&gt; office, &lt;telephone&gt;, to make a  follow up appointment in [**11-23**] weeks.  scheduled appointments :  provider: &lt;name&gt; &lt;name&gt;, &lt;telephone&gt;  date/time: &lt;date&gt;  10:30  provider: &lt;name&gt; &lt;name&gt;, rn phone:&lt;telephone&gt;  date/time: &lt;date&gt;  11:00  provider: &lt;name&gt; chair 6  date/time: &lt;date&gt;  11:00                                   &lt;name&gt; &lt;name&gt; md [**md number(2) 431**]    completed by: &lt;date&gt;</td>\n",
              "      <td>[202, 401, 584, 255, 283, 238, 038, 785, 250, 008, 041, 272, 996, 078, V45, 567, 569, 273, 995, 263, 579, 782]</td>\n",
              "      <td>[infectious, telephone, bowel, swelling, diseases, phone, perforation, small, infection, numbness, pain]</td>\n",
              "      <td>[infection, swelling, numbness, pain]</td>\n",
              "      <td>[f11, f4, f13]</td>\n",
              "    </tr>\n",
              "  </tbody>\n",
              "</table>\n",
              "<p>41967 rows × 6 columns</p>\n",
              "</div>"
            ],
            "text/plain": [
              "        HADM_ID  ...                                                                 features\n",
              "0      167118.0  ...                                               [f9, f33, f4, f3, f8, f37]\n",
              "1      196489.0  ...  [f9, f22, f18, f38, f15, f16, f23, f40, f17, f4, f28, f8, f6, f37, f24]\n",
              "2      135453.0  ...                                                       [f3, f4, f30, f26]\n",
              "3      170490.0  ...                                         [f31, f17, f5, f4, f12, f13, f7]\n",
              "4      134727.0  ...                                                                       []\n",
              "...         ...  ...                                                                      ...\n",
              "41962  127716.0  ...                                                      [f36, f8, f38, f12]\n",
              "41963  186377.0  ...                                                  [f9, f18, f41, f12, f0]\n",
              "41964  156564.0  ...                              [f9, f21, f18, f38, f24, f41, f6, f13, f14]\n",
              "41965  172559.0  ...                                            [f33, f25, f43, f4, f11, f37]\n",
              "41966  135672.0  ...                                                           [f11, f4, f13]\n",
              "\n",
              "[41967 rows x 6 columns]"
            ]
          },
          "metadata": {
            "tags": []
          },
          "execution_count": 45
        }
      ]
    },
    {
      "cell_type": "code",
      "metadata": {
        "colab": {
          "base_uri": "https://localhost:8080/",
          "height": 699
        },
        "id": "vapoji4EaZ_r",
        "outputId": "68e4eee7-3fa3-4a88-b555-b217d56e7c2a"
      },
      "source": [
        "diagnosis_icdcategory_medterms_df"
      ],
      "execution_count": null,
      "outputs": [
        {
          "output_type": "execute_result",
          "data": {
            "text/html": [
              "<div>\n",
              "<style scoped>\n",
              "    .dataframe tbody tr th:only-of-type {\n",
              "        vertical-align: middle;\n",
              "    }\n",
              "\n",
              "    .dataframe tbody tr th {\n",
              "        vertical-align: top;\n",
              "    }\n",
              "\n",
              "    .dataframe thead th {\n",
              "        text-align: right;\n",
              "    }\n",
              "</style>\n",
              "<table border=\"1\" class=\"dataframe\">\n",
              "  <thead>\n",
              "    <tr style=\"text-align: right;\">\n",
              "      <th></th>\n",
              "      <th>icd9category</th>\n",
              "      <th>frequent_medterms</th>\n",
              "    </tr>\n",
              "  </thead>\n",
              "  <tbody>\n",
              "    <tr>\n",
              "      <th>0</th>\n",
              "      <td>401</td>\n",
              "      <td>[pain, fever, chest, shortness, infection, breath, redness, aspirin, hypertension, atrial, fibrillation, chills, disease, coumadin, bleeding, failure, pneumonia, vomiting, fevers, constipation, swelling, nausea, abdominal, heart, diabetes, weakness, cough, anemia, erythema, headache, metoprolol, confusion, numbness, mouth, weight, diarrhea, gain, loss, lisinopril, blood, cancer, seizures, pulmonary, infarction, myocardial, bleed, stroke, motrin, artery, tylenol]</td>\n",
              "    </tr>\n",
              "    <tr>\n",
              "      <th>1</th>\n",
              "      <td>427</td>\n",
              "      <td>[pain, atrial, fibrillation, chest, shortness, fever, coumadin, infection, breath, failure, disease, heart, redness, pneumonia, aspirin, chills, hypertension, bleeding, metoprolol, fevers, renal, vomiting, anemia, abdominal, nausea, erythema, sodium, diabetes, chronic, constipation, weight, pulmonary, gain, cough, swelling, mouth, cancer, warfarin, diarrhea, lisinopril, bleed, artery, infarction, stroke, myocardial, blood, urinary, respiratory, oxygen, congestive]</td>\n",
              "    </tr>\n",
              "    <tr>\n",
              "      <th>2</th>\n",
              "      <td>276</td>\n",
              "      <td>[pain, shortness, chest, infection, breath, failure, fever, pneumonia, disease, chills, atrial, fevers, fibrillation, vomiting, bleeding, nausea, abdominal, renal, hypertension, heart, aspirin, anemia, coumadin, diarrhea, diabetes, metoprolol, mouth, chronic, constipation, cough, redness, respiratory, swelling, sodium, urinary, confusion, blood, cancer, acute, pulmonary, oxygen, tract, alcohol, lisinopril, loss, bleed, kidney, dehydration, weakness, sepsis]</td>\n",
              "    </tr>\n",
              "    <tr>\n",
              "      <th>3</th>\n",
              "      <td>414</td>\n",
              "      <td>[pain, chest, fever, shortness, infection, breath, disease, redness, atrial, failure, fibrillation, heart, aspirin, coumadin, hypertension, myocardial, infarction, erythema, bleeding, weight, gain, diabetes, chills, metoprolol, artery, renal, coronary, pneumonia, fevers, lisinopril, sodium, anemia, chronic, vomiting, mellitus, nausea, abdominal, pulmonary, constipation, edema, swelling, congestive, bleed, cancer, cholesterol, cough, mouth, blood, loss, hyperlipidemia]</td>\n",
              "    </tr>\n",
              "    <tr>\n",
              "      <th>4</th>\n",
              "      <td>272</td>\n",
              "      <td>[pain, fever, chest, infection, shortness, breath, redness, aspirin, atrial, disease, fibrillation, failure, coumadin, hypertension, bleeding, chills, heart, erythema, pneumonia, diabetes, constipation, vomiting, fevers, metoprolol, swelling, weight, renal, gain, nausea, abdominal, anemia, infarction, myocardial, cough, lisinopril, mouth, weakness, cancer, artery, confusion, mellitus, headache, pulmonary, loss, chronic, diarrhea, hyperlipidemia, blood, numbness, tylenol]</td>\n",
              "    </tr>\n",
              "    <tr>\n",
              "      <th>5</th>\n",
              "      <td>250</td>\n",
              "      <td>[pain, chest, shortness, breath, diabetes, fever, infection, failure, disease, chills, atrial, hypertension, heart, fibrillation, aspirin, fevers, mellitus, redness, pneumonia, bleeding, vomiting, renal, coumadin, nausea, abdominal, anemia, metoprolol, chronic, constipation, swelling, sodium, blood, cough, mouth, lisinopril, diarrhea, confusion, artery, erythema, pulmonary, urinary, respiratory, infarction, loss, myocardial, bleed, coronary, weakness, weight, oxygen]</td>\n",
              "    </tr>\n",
              "    <tr>\n",
              "      <th>6</th>\n",
              "      <td>428</td>\n",
              "      <td>[pain, failure, shortness, chest, heart, breath, atrial, fibrillation, disease, infection, fever, pneumonia, coumadin, chills, renal, hypertension, sodium, fevers, aspirin, metoprolol, bleeding, chronic, anemia, diabetes, congestive, redness, pulmonary, vomiting, nausea, lisinopril, abdominal, oxygen, myocardial, infarction, respiratory, artery, systolic, coronary, mouth, cough, urinary, blood, mellitus, swelling, tract, weight, bleed, diarrhea, acute, gain]</td>\n",
              "    </tr>\n",
              "    <tr>\n",
              "      <th>7</th>\n",
              "      <td>518</td>\n",
              "      <td>[pain, shortness, breath, pneumonia, failure, chest, fever, infection, disease, chills, respiratory, atrial, fibrillation, fevers, vomiting, heart, hypertension, cough, abdominal, nausea, renal, coumadin, anemia, pulmonary, redness, bleeding, aspirin, oxygen, swelling, constipation, diarrhea, mouth, chronic, cancer, diabetes, metoprolol, sodium, confusion, fracture, blood, acute, sepsis, urinary, loss, weakness, lung, prednisone, tract, obstructive, edema]</td>\n",
              "    </tr>\n",
              "    <tr>\n",
              "      <th>8</th>\n",
              "      <td>285</td>\n",
              "      <td>[pain, shortness, chest, breath, infection, fever, disease, anemia, bleeding, failure, chills, pneumonia, fevers, atrial, fibrillation, aspirin, blood, coumadin, vomiting, loss, hypertension, renal, abdominal, redness, heart, nausea, chronic, bleed, diabetes, constipation, swelling, diarrhea, metoprolol, mouth, cough, cancer, sodium, erythema, pulmonary, urinary, fracture, respiratory, tract, lisinopril, dizziness, confusion, acute, oxygen, gastrointestinal, tylenol]</td>\n",
              "    </tr>\n",
              "    <tr>\n",
              "      <th>9</th>\n",
              "      <td>584</td>\n",
              "      <td>[pain, failure, shortness, chest, infection, breath, renal, disease, pneumonia, fever, atrial, chills, fibrillation, heart, fevers, chronic, hypertension, vomiting, bleeding, acute, abdominal, coumadin, anemia, nausea, diabetes, aspirin, metoprolol, kidney, diarrhea, sodium, respiratory, mouth, urinary, lisinopril, tract, blood, pulmonary, cough, cancer, redness, sepsis, swelling, oxygen, constipation, bleed, loss, confusion, congestive, mellitus, dizziness]</td>\n",
              "    </tr>\n",
              "  </tbody>\n",
              "</table>\n",
              "</div>"
            ],
            "text/plain": [
              "  icd9category                                                                                                                                                                                                                                                                                                                                                                                                                                                                            frequent_medterms\n",
              "0          401           [pain, fever, chest, shortness, infection, breath, redness, aspirin, hypertension, atrial, fibrillation, chills, disease, coumadin, bleeding, failure, pneumonia, vomiting, fevers, constipation, swelling, nausea, abdominal, heart, diabetes, weakness, cough, anemia, erythema, headache, metoprolol, confusion, numbness, mouth, weight, diarrhea, gain, loss, lisinopril, blood, cancer, seizures, pulmonary, infarction, myocardial, bleed, stroke, motrin, artery, tylenol]\n",
              "1          427         [pain, atrial, fibrillation, chest, shortness, fever, coumadin, infection, breath, failure, disease, heart, redness, pneumonia, aspirin, chills, hypertension, bleeding, metoprolol, fevers, renal, vomiting, anemia, abdominal, nausea, erythema, sodium, diabetes, chronic, constipation, weight, pulmonary, gain, cough, swelling, mouth, cancer, warfarin, diarrhea, lisinopril, bleed, artery, infarction, stroke, myocardial, blood, urinary, respiratory, oxygen, congestive]\n",
              "2          276                [pain, shortness, chest, infection, breath, failure, fever, pneumonia, disease, chills, atrial, fevers, fibrillation, vomiting, bleeding, nausea, abdominal, renal, hypertension, heart, aspirin, anemia, coumadin, diarrhea, diabetes, metoprolol, mouth, chronic, constipation, cough, redness, respiratory, swelling, sodium, urinary, confusion, blood, cancer, acute, pulmonary, oxygen, tract, alcohol, lisinopril, loss, bleed, kidney, dehydration, weakness, sepsis]\n",
              "3          414     [pain, chest, fever, shortness, infection, breath, disease, redness, atrial, failure, fibrillation, heart, aspirin, coumadin, hypertension, myocardial, infarction, erythema, bleeding, weight, gain, diabetes, chills, metoprolol, artery, renal, coronary, pneumonia, fevers, lisinopril, sodium, anemia, chronic, vomiting, mellitus, nausea, abdominal, pulmonary, constipation, edema, swelling, congestive, bleed, cancer, cholesterol, cough, mouth, blood, loss, hyperlipidemia]\n",
              "4          272  [pain, fever, chest, infection, shortness, breath, redness, aspirin, atrial, disease, fibrillation, failure, coumadin, hypertension, bleeding, chills, heart, erythema, pneumonia, diabetes, constipation, vomiting, fevers, metoprolol, swelling, weight, renal, gain, nausea, abdominal, anemia, infarction, myocardial, cough, lisinopril, mouth, weakness, cancer, artery, confusion, mellitus, headache, pulmonary, loss, chronic, diarrhea, hyperlipidemia, blood, numbness, tylenol]\n",
              "5          250      [pain, chest, shortness, breath, diabetes, fever, infection, failure, disease, chills, atrial, hypertension, heart, fibrillation, aspirin, fevers, mellitus, redness, pneumonia, bleeding, vomiting, renal, coumadin, nausea, abdominal, anemia, metoprolol, chronic, constipation, swelling, sodium, blood, cough, mouth, lisinopril, diarrhea, confusion, artery, erythema, pulmonary, urinary, respiratory, infarction, loss, myocardial, bleed, coronary, weakness, weight, oxygen]\n",
              "6          428               [pain, failure, shortness, chest, heart, breath, atrial, fibrillation, disease, infection, fever, pneumonia, coumadin, chills, renal, hypertension, sodium, fevers, aspirin, metoprolol, bleeding, chronic, anemia, diabetes, congestive, redness, pulmonary, vomiting, nausea, lisinopril, abdominal, oxygen, myocardial, infarction, respiratory, artery, systolic, coronary, mouth, cough, urinary, blood, mellitus, swelling, tract, weight, bleed, diarrhea, acute, gain]\n",
              "7          518                 [pain, shortness, breath, pneumonia, failure, chest, fever, infection, disease, chills, respiratory, atrial, fibrillation, fevers, vomiting, heart, hypertension, cough, abdominal, nausea, renal, coumadin, anemia, pulmonary, redness, bleeding, aspirin, oxygen, swelling, constipation, diarrhea, mouth, chronic, cancer, diabetes, metoprolol, sodium, confusion, fracture, blood, acute, sepsis, urinary, loss, weakness, lung, prednisone, tract, obstructive, edema]\n",
              "8          285      [pain, shortness, chest, breath, infection, fever, disease, anemia, bleeding, failure, chills, pneumonia, fevers, atrial, fibrillation, aspirin, blood, coumadin, vomiting, loss, hypertension, renal, abdominal, redness, heart, nausea, chronic, bleed, diabetes, constipation, swelling, diarrhea, metoprolol, mouth, cough, cancer, sodium, erythema, pulmonary, urinary, fracture, respiratory, tract, lisinopril, dizziness, confusion, acute, oxygen, gastrointestinal, tylenol]\n",
              "9          584               [pain, failure, shortness, chest, infection, breath, renal, disease, pneumonia, fever, atrial, chills, fibrillation, heart, fevers, chronic, hypertension, vomiting, bleeding, acute, abdominal, coumadin, anemia, nausea, diabetes, aspirin, metoprolol, kidney, diarrhea, sodium, respiratory, mouth, urinary, lisinopril, tract, blood, pulmonary, cough, cancer, redness, sepsis, swelling, oxygen, constipation, bleed, loss, confusion, congestive, mellitus, dizziness]"
            ]
          },
          "metadata": {
            "tags": []
          },
          "execution_count": 46
        }
      ]
    },
    {
      "cell_type": "code",
      "metadata": {
        "colab": {
          "base_uri": "https://localhost:8080/",
          "height": 66,
          "referenced_widgets": [
            "178680013e10431fbf4fb2b7a4589059",
            "52856d089b8b49b5bff84c7d086accb9",
            "8a9bfc992f1a413eaf9ad6e9a9125afe",
            "6f62e6ff7e6c4313971b62962ccd7ef8",
            "0380d0a3aefa4f668bad6082c8e9f1f1",
            "372413573d164123ba18155a19aa0ff6",
            "cd40d576ef5e435ba04b21cbcba9abf1",
            "ffe76373b5eb4ba5859459cbc8d033dc"
          ]
        },
        "id": "nNAaQXN7Mt1d",
        "outputId": "f71e99b0-b75f-45e9-8931-3bfa8e006776"
      },
      "source": [
        "diagnosis_icdcategory_medterms_df['feature']=diagnosis_icdcategory_medterms_df.frequent_medterms.progress_apply(lambda x:return_feature(x))"
      ],
      "execution_count": null,
      "outputs": [
        {
          "output_type": "display_data",
          "data": {
            "application/vnd.jupyter.widget-view+json": {
              "model_id": "178680013e10431fbf4fb2b7a4589059",
              "version_major": 2,
              "version_minor": 0
            },
            "text/plain": [
              "HBox(children=(FloatProgress(value=0.0, max=10.0), HTML(value='')))"
            ]
          },
          "metadata": {
            "tags": []
          }
        },
        {
          "output_type": "stream",
          "text": [
            "\n"
          ],
          "name": "stdout"
        }
      ]
    },
    {
      "cell_type": "code",
      "metadata": {
        "colab": {
          "base_uri": "https://localhost:8080/",
          "height": 869
        },
        "id": "fxD-V0h8NWUb",
        "outputId": "7f943cef-f74b-4975-b3b3-745770bd129e"
      },
      "source": [
        "diagnosis_icdcategory_medterms_df"
      ],
      "execution_count": null,
      "outputs": [
        {
          "output_type": "execute_result",
          "data": {
            "text/html": [
              "<div>\n",
              "<style scoped>\n",
              "    .dataframe tbody tr th:only-of-type {\n",
              "        vertical-align: middle;\n",
              "    }\n",
              "\n",
              "    .dataframe tbody tr th {\n",
              "        vertical-align: top;\n",
              "    }\n",
              "\n",
              "    .dataframe thead th {\n",
              "        text-align: right;\n",
              "    }\n",
              "</style>\n",
              "<table border=\"1\" class=\"dataframe\">\n",
              "  <thead>\n",
              "    <tr style=\"text-align: right;\">\n",
              "      <th></th>\n",
              "      <th>icd9category</th>\n",
              "      <th>frequent_medterms</th>\n",
              "      <th>feature</th>\n",
              "    </tr>\n",
              "  </thead>\n",
              "  <tbody>\n",
              "    <tr>\n",
              "      <th>0</th>\n",
              "      <td>401</td>\n",
              "      <td>[pain, fever, chest, shortness, infection, breath, redness, aspirin, hypertension, atrial, fibrillation, chills, disease, coumadin, bleeding, failure, pneumonia, vomiting, fevers, constipation, swelling, nausea, abdominal, heart, diabetes, weakness, cough, anemia, erythema, headache, metoprolol, confusion, numbness, mouth, weight, diarrhea, gain, loss, lisinopril, blood, cancer, seizures, pulmonary, infarction, myocardial, bleed, stroke, motrin, artery, tylenol]</td>\n",
              "      <td>[f29, f35, f17, f4, f11, f42, f14, f18, f26, f43, f31, f28, f6, f0, f7, f1, f27, f20, f41, f39, f8, f13, f9, f38, f33, f5, f12, f34, f37, f19]</td>\n",
              "    </tr>\n",
              "    <tr>\n",
              "      <th>1</th>\n",
              "      <td>427</td>\n",
              "      <td>[pain, atrial, fibrillation, chest, shortness, fever, coumadin, infection, breath, failure, disease, heart, redness, pneumonia, aspirin, chills, hypertension, bleeding, metoprolol, fevers, renal, vomiting, anemia, abdominal, nausea, erythema, sodium, diabetes, chronic, constipation, weight, pulmonary, gain, cough, swelling, mouth, cancer, warfarin, diarrhea, lisinopril, bleed, artery, infarction, stroke, myocardial, blood, urinary, respiratory, oxygen, congestive]</td>\n",
              "      <td>[f29, f35, f23, f17, f4, f11, f42, f14, f18, f26, f43, f28, f6, f0, f1, f21, f27, f41, f39, f45, f8, f13, f9, f22, f30, f38, f33, f15, f12, f34, f37, f19]</td>\n",
              "    </tr>\n",
              "    <tr>\n",
              "      <th>2</th>\n",
              "      <td>276</td>\n",
              "      <td>[pain, shortness, chest, infection, breath, failure, fever, pneumonia, disease, chills, atrial, fevers, fibrillation, vomiting, bleeding, nausea, abdominal, renal, hypertension, heart, aspirin, anemia, coumadin, diarrhea, diabetes, metoprolol, mouth, chronic, constipation, cough, redness, respiratory, swelling, sodium, urinary, confusion, blood, cancer, acute, pulmonary, oxygen, tract, alcohol, lisinopril, loss, bleed, kidney, dehydration, weakness, sepsis]</td>\n",
              "      <td>[f29, f35, f23, f17, f4, f11, f14, f18, f26, f25, f2, f43, f31, f28, f6, f0, f1, f21, f27, f20, f41, f39, f45, f13, f32, f9, f22, f30, f38, f33, f15, f12, f34, f37]</td>\n",
              "    </tr>\n",
              "    <tr>\n",
              "      <th>3</th>\n",
              "      <td>414</td>\n",
              "      <td>[pain, chest, fever, shortness, infection, breath, disease, redness, atrial, failure, fibrillation, heart, aspirin, coumadin, hypertension, myocardial, infarction, erythema, bleeding, weight, gain, diabetes, chills, metoprolol, artery, renal, coronary, pneumonia, fevers, lisinopril, sodium, anemia, chronic, vomiting, mellitus, nausea, abdominal, pulmonary, constipation, edema, swelling, congestive, bleed, cancer, cholesterol, cough, mouth, blood, loss, hyperlipidemia]</td>\n",
              "      <td>[f29, f36, f35, f17, f4, f11, f42, f14, f18, f26, f43, f28, f6, f0, f44, f1, f21, f27, f20, f41, f39, f45, f8, f13, f9, f22, f38, f33, f12, f34, f37, f19]</td>\n",
              "    </tr>\n",
              "    <tr>\n",
              "      <th>4</th>\n",
              "      <td>272</td>\n",
              "      <td>[pain, fever, chest, infection, shortness, breath, redness, aspirin, atrial, disease, fibrillation, failure, coumadin, hypertension, bleeding, chills, heart, erythema, pneumonia, diabetes, constipation, vomiting, fevers, metoprolol, swelling, weight, renal, gain, nausea, abdominal, anemia, infarction, myocardial, cough, lisinopril, mouth, weakness, cancer, artery, confusion, mellitus, headache, pulmonary, loss, chronic, diarrhea, hyperlipidemia, blood, numbness, tylenol]</td>\n",
              "      <td>[f29, f35, f17, f4, f11, f42, f14, f18, f26, f43, f31, f28, f6, f0, f7, f1, f21, f27, f20, f41, f39, f8, f13, f9, f22, f38, f33, f12, f34, f37, f19]</td>\n",
              "    </tr>\n",
              "    <tr>\n",
              "      <th>5</th>\n",
              "      <td>250</td>\n",
              "      <td>[pain, chest, shortness, breath, diabetes, fever, infection, failure, disease, chills, atrial, hypertension, heart, fibrillation, aspirin, fevers, mellitus, redness, pneumonia, bleeding, vomiting, renal, coumadin, nausea, abdominal, anemia, metoprolol, chronic, constipation, swelling, sodium, blood, cough, mouth, lisinopril, diarrhea, confusion, artery, erythema, pulmonary, urinary, respiratory, infarction, loss, myocardial, bleed, coronary, weakness, weight, oxygen]</td>\n",
              "      <td>[f29, f35, f23, f17, f4, f11, f42, f14, f18, f26, f31, f28, f6, f0, f1, f21, f27, f20, f41, f39, f45, f8, f13, f9, f22, f30, f38, f33, f15, f12, f34, f37]</td>\n",
              "    </tr>\n",
              "    <tr>\n",
              "      <th>6</th>\n",
              "      <td>428</td>\n",
              "      <td>[pain, failure, shortness, chest, heart, breath, atrial, fibrillation, disease, infection, fever, pneumonia, coumadin, chills, renal, hypertension, sodium, fevers, aspirin, metoprolol, bleeding, chronic, anemia, diabetes, congestive, redness, pulmonary, vomiting, nausea, lisinopril, abdominal, oxygen, myocardial, infarction, respiratory, artery, systolic, coronary, mouth, cough, urinary, blood, mellitus, swelling, tract, weight, bleed, diarrhea, acute, gain]</td>\n",
              "      <td>[f29, f10, f35, f23, f17, f4, f11, f42, f14, f18, f26, f28, f6, f0, f1, f21, f27, f41, f39, f45, f8, f13, f32, f9, f22, f30, f38, f15, f33, f12, f34, f37, f19]</td>\n",
              "    </tr>\n",
              "    <tr>\n",
              "      <th>7</th>\n",
              "      <td>518</td>\n",
              "      <td>[pain, shortness, breath, pneumonia, failure, chest, fever, infection, disease, chills, respiratory, atrial, fibrillation, fevers, vomiting, heart, hypertension, cough, abdominal, nausea, renal, coumadin, anemia, pulmonary, redness, bleeding, aspirin, oxygen, swelling, constipation, diarrhea, mouth, chronic, cancer, diabetes, metoprolol, sodium, confusion, fracture, blood, acute, sepsis, urinary, loss, weakness, lung, prednisone, tract, obstructive, edema]</td>\n",
              "      <td>[f29, f36, f35, f23, f17, f4, f11, f14, f18, f26, f16, f43, f31, f28, f6, f0, f1, f21, f27, f20, f41, f39, f45, f3, f13, f32, f9, f22, f30, f38, f33, f15, f12, f34, f37, f24]</td>\n",
              "    </tr>\n",
              "    <tr>\n",
              "      <th>8</th>\n",
              "      <td>285</td>\n",
              "      <td>[pain, shortness, chest, breath, infection, fever, disease, anemia, bleeding, failure, chills, pneumonia, fevers, atrial, fibrillation, aspirin, blood, coumadin, vomiting, loss, hypertension, renal, abdominal, redness, heart, nausea, chronic, bleed, diabetes, constipation, swelling, diarrhea, metoprolol, mouth, cough, cancer, sodium, erythema, pulmonary, urinary, fracture, respiratory, tract, lisinopril, dizziness, confusion, acute, oxygen, gastrointestinal, tylenol]</td>\n",
              "      <td>[f29, f35, f23, f17, f4, f11, f14, f18, f26, f43, f31, f28, f6, f0, f7, f1, f21, f27, f20, f41, f39, f45, f3, f13, f32, f9, f22, f30, f38, f33, f15, f40, f12, f34, f37]</td>\n",
              "    </tr>\n",
              "    <tr>\n",
              "      <th>9</th>\n",
              "      <td>584</td>\n",
              "      <td>[pain, failure, shortness, chest, infection, breath, renal, disease, pneumonia, fever, atrial, chills, fibrillation, heart, fevers, chronic, hypertension, vomiting, bleeding, acute, abdominal, coumadin, anemia, nausea, diabetes, aspirin, metoprolol, kidney, diarrhea, sodium, respiratory, mouth, urinary, lisinopril, tract, blood, pulmonary, cough, cancer, redness, sepsis, swelling, oxygen, constipation, bleed, loss, confusion, congestive, mellitus, dizziness]</td>\n",
              "      <td>[f29, f35, f23, f17, f4, f11, f14, f18, f26, f43, f31, f28, f6, f0, f1, f21, f27, f20, f41, f39, f45, f13, f32, f9, f22, f30, f38, f33, f15, f12, f34, f37]</td>\n",
              "    </tr>\n",
              "  </tbody>\n",
              "</table>\n",
              "</div>"
            ],
            "text/plain": [
              "  icd9category  ...                                                                                                                                                                         feature\n",
              "0          401  ...                                  [f29, f35, f17, f4, f11, f42, f14, f18, f26, f43, f31, f28, f6, f0, f7, f1, f27, f20, f41, f39, f8, f13, f9, f38, f33, f5, f12, f34, f37, f19]\n",
              "1          427  ...                      [f29, f35, f23, f17, f4, f11, f42, f14, f18, f26, f43, f28, f6, f0, f1, f21, f27, f41, f39, f45, f8, f13, f9, f22, f30, f38, f33, f15, f12, f34, f37, f19]\n",
              "2          276  ...            [f29, f35, f23, f17, f4, f11, f14, f18, f26, f25, f2, f43, f31, f28, f6, f0, f1, f21, f27, f20, f41, f39, f45, f13, f32, f9, f22, f30, f38, f33, f15, f12, f34, f37]\n",
              "3          414  ...                      [f29, f36, f35, f17, f4, f11, f42, f14, f18, f26, f43, f28, f6, f0, f44, f1, f21, f27, f20, f41, f39, f45, f8, f13, f9, f22, f38, f33, f12, f34, f37, f19]\n",
              "4          272  ...                            [f29, f35, f17, f4, f11, f42, f14, f18, f26, f43, f31, f28, f6, f0, f7, f1, f21, f27, f20, f41, f39, f8, f13, f9, f22, f38, f33, f12, f34, f37, f19]\n",
              "5          250  ...                      [f29, f35, f23, f17, f4, f11, f42, f14, f18, f26, f31, f28, f6, f0, f1, f21, f27, f20, f41, f39, f45, f8, f13, f9, f22, f30, f38, f33, f15, f12, f34, f37]\n",
              "6          428  ...                 [f29, f10, f35, f23, f17, f4, f11, f42, f14, f18, f26, f28, f6, f0, f1, f21, f27, f41, f39, f45, f8, f13, f32, f9, f22, f30, f38, f15, f33, f12, f34, f37, f19]\n",
              "7          518  ...  [f29, f36, f35, f23, f17, f4, f11, f14, f18, f26, f16, f43, f31, f28, f6, f0, f1, f21, f27, f20, f41, f39, f45, f3, f13, f32, f9, f22, f30, f38, f33, f15, f12, f34, f37, f24]\n",
              "8          285  ...        [f29, f35, f23, f17, f4, f11, f14, f18, f26, f43, f31, f28, f6, f0, f7, f1, f21, f27, f20, f41, f39, f45, f3, f13, f32, f9, f22, f30, f38, f33, f15, f40, f12, f34, f37]\n",
              "9          584  ...                     [f29, f35, f23, f17, f4, f11, f14, f18, f26, f43, f31, f28, f6, f0, f1, f21, f27, f20, f41, f39, f45, f13, f32, f9, f22, f30, f38, f33, f15, f12, f34, f37]\n",
              "\n",
              "[10 rows x 3 columns]"
            ]
          },
          "metadata": {
            "tags": []
          },
          "execution_count": 48
        }
      ]
    },
    {
      "cell_type": "code",
      "metadata": {
        "id": "sBc44dmfNZF4"
      },
      "source": [
        "def predict_icd(x):\n",
        "  category_weights={}\n",
        "  if len(x):\n",
        "    for item1 in frequent_icd9category:\n",
        "      category_features=[a for b in diagnosis_icdcategory_medterms_df.loc[diagnosis_icdcategory_medterms_df.icd9category==item1].feature.to_list() for a in b]\n",
        "      count=len(list(set(x).intersection(set(category_features))))\n",
        "      category_weights[item1]=count/len(x)/len(category_features)\n",
        "  else:\n",
        "    for item1 in frequent_icd9category:\n",
        "      category_weights[item1]=0.0\n",
        "\n",
        "      \n",
        "  return category_weights\n",
        "  "
      ],
      "execution_count": null,
      "outputs": []
    },
    {
      "cell_type": "code",
      "metadata": {
        "colab": {
          "base_uri": "https://localhost:8080/",
          "height": 66,
          "referenced_widgets": [
            "19535c65fdab459a94ef68a98996dce7",
            "2436693cc1ab49ef9e3353e5f102f161",
            "db49b5c989514ef48ea979c17242fcf6",
            "a4c22cf5b6ef4ac99e6a9f05a3ccafba",
            "5d6d758ed56b4095ae0903467eb308b7",
            "d5332d1a6313460495dd5979830d261b",
            "88b82b33fbda4c35afec42ac1ef05830",
            "806f441d2dec46a0bd7da69af1e0c9fe"
          ]
        },
        "id": "PeCkmP_zUGAq",
        "outputId": "9b333ed1-2e9c-4fd8-8393-9479c24405e4"
      },
      "source": [
        "diagnosis_icd9category_token['predicted_icd_weigths']=diagnosis_icd9category_token.features.progress_apply(lambda x:predict_icd(x))"
      ],
      "execution_count": 57,
      "outputs": [
        {
          "output_type": "display_data",
          "data": {
            "application/vnd.jupyter.widget-view+json": {
              "model_id": "19535c65fdab459a94ef68a98996dce7",
              "version_minor": 0,
              "version_major": 2
            },
            "text/plain": [
              "HBox(children=(FloatProgress(value=0.0, max=41967.0), HTML(value='')))"
            ]
          },
          "metadata": {
            "tags": []
          }
        },
        {
          "output_type": "stream",
          "text": [
            "\n"
          ],
          "name": "stdout"
        }
      ]
    },
    {
      "cell_type": "code",
      "metadata": {
        "colab": {
          "base_uri": "https://localhost:8080/",
          "height": 1000
        },
        "id": "_LM7upmpXK3S",
        "outputId": "079625cc-358e-41dc-e4da-b6b1d3832203"
      },
      "source": [
        "diagnosis_icd9category_token"
      ],
      "execution_count": 58,
      "outputs": [
        {
          "output_type": "execute_result",
          "data": {
            "text/html": [
              "<div>\n",
              "<style scoped>\n",
              "    .dataframe tbody tr th:only-of-type {\n",
              "        vertical-align: middle;\n",
              "    }\n",
              "\n",
              "    .dataframe tbody tr th {\n",
              "        vertical-align: top;\n",
              "    }\n",
              "\n",
              "    .dataframe thead th {\n",
              "        text-align: right;\n",
              "    }\n",
              "</style>\n",
              "<table border=\"1\" class=\"dataframe\">\n",
              "  <thead>\n",
              "    <tr style=\"text-align: right;\">\n",
              "      <th></th>\n",
              "      <th>HADM_ID</th>\n",
              "      <th>discharge diagnosis:</th>\n",
              "      <th>icd9_category</th>\n",
              "      <th>medical_terms_list</th>\n",
              "      <th>med_terms_condensed</th>\n",
              "      <th>features</th>\n",
              "      <th>predicted_icd_weigths</th>\n",
              "      <th>predicted_icd</th>\n",
              "    </tr>\n",
              "  </thead>\n",
              "  <tbody>\n",
              "    <tr>\n",
              "      <th>0</th>\n",
              "      <td>167118.0</td>\n",
              "      <td>discharge diagnosis:  copd, coronary artery disease/atypical angina (lad 30%, rca 30%,  ef 63%), hypercholesterolemia, hypothyroidism, hypertension,  hiatal hernia, cerebral vascular accident,s/p motor vehicle  colision-&gt; head injury &amp; rib fracture.  tbm- s/p tracheoplasty.      discharge condition:  good    discharge instructions:  please update dr.&lt;name&gt; &lt;telephone&gt; office for:  fever,  shortness of breath, chest pain , productive cough or if you  have any questions or concerns.      completed by: &lt;date&gt;</td>\n",
              "      <td>[496, 553, 518, 453, 519, 276]</td>\n",
              "      <td>[hypercholesterolemia, cerebral, hypothyroidism, cough, accident, hypertension, artery, chest, vascular, coronary, fracture, injury, angina, pain, head]</td>\n",
              "      <td>[fracture, coronary, chest, hypertension, artery, cough, pain]</td>\n",
              "      <td>[f9, f33, f4, f3, f8, f37]</td>\n",
              "      <td>{'401': 0.02777777777777778, '427': 0.026041666666666668, '276': 0.0196078431372549, '414': 0.026041666666666668, '272': 0.026881720430107527, '250': 0.026041666666666668, '428': 0.025252525252525252, '518': 0.02314814814814815, '285': 0.02380952380952381, '584': 0.020833333333333332}</td>\n",
              "      <td>[401, 272, 427, 414, 250, 428, 285, 518, 584, 276]</td>\n",
              "    </tr>\n",
              "    <tr>\n",
              "      <th>1</th>\n",
              "      <td>196489.0</td>\n",
              "      <td>discharge diagnosis:  primary:  1. chronic obstructive pulmonary disease exacerbation  2. respiratory failure with intubation  3. upper gastrointestinal bleed/peptic ulcer disease  4. hypertension  5. anxiety    secondary:  1. coronary artery disease  2. hypothyroidism      discharge condition:  mental status: confused - sometimes.  level of consciousness: alert and interactive.  activity status: out of bed with assistance to chair or  wheelchair.      discharge instructions:  you were admitted to the hospital with shortness of breath and  respiratory failure and lethargy. in the emergency department,  you were breathing very fast and a breathing tube was inserted  into your airway to help you breathe. you were admitted to the  intensive care unit. there, you were managed with steroids and  antibiotics and the tube was eventually removed from your  airway, allowing you to breathe on your own. you also underwent  bronchoscopy which looked at the inside of your airways.  .  during your time in the intensive care unit, you developed a  gastrointestinal bleed. a tube was placed into your stomach and  you underwent an endoscopic procedure to look at your esophagus  and stomach. this showed inflammation in your esophagusand  ulcers in your stomach.  .  you should continue to use nasal oxygen by nasal cannula as  needed. you should continue the steroid taper as instructed. you  should call your doctor or return to the emergency room if you  have increasing difficulty breathing or shortness of breath,  wheezing, chest pain, blood in your stool or vomiting blood.  .  there are some changes in your medications.  start pantoprazole 40 mg twice daily and stop omeprazole  start hydrochlorothiazide  start prednisone, taking 30 mg for 3 days, then 20 mg for 4  days, then 10 mg for 4 days, then 5 mg for 4 days, then stop.  start colace and senna as needed for constipation  can use morphine to alleviate symptoms of respiratory discomfort  stop furosemide  stop zolpidem  stop aspirin  increase diovan to 240 mg daily  decrease trazodone to 50 mg daily  .  follow up as indicated below.    followup instructions:  you have an appointment to follow up with dr. &lt;name&gt;, your  primary care physician, &lt;name&gt; [**8-29**] at 1pm. his address is [**location (un) 1822**], [**apartment address(1) 1823**], [**location (un) **],[**numeric identifier 1700**]. the phone is  &lt;telephone&gt;.    you have an appointment to follow up with dr. &lt;name&gt; &lt;name&gt; in  the  &lt;name&gt; at &lt;hospital&gt; on the [**location (un) 453**]. their phone number is  &lt;telephone&gt;.    department: div. of gastroenterology  when: wednesday  &lt;date&gt;  at 3:00 pm  with: &lt;name&gt; &lt;name&gt;, md &lt;telephone&gt;  building: ra &lt;name&gt; (&lt;name&gt;/&lt;name&gt; complex) [**location (un) **]  campus: east     best parking: main garage</td>\n",
              "      <td>[487, 416, 272, 530, 414, 553, 531, 518, 401, 519, 348, V02, 359, 584, 458, 578, 491, E93, 276, 244]</td>\n",
              "      <td>[pulmonary, hypertension, of, obstructive, discomfort, gastrointestinal, constipation, oxygen, breath, inflammation, artery, chest, hydrochlorothiazide, steroid, anxiety, omeprazole, senna, trazodone, failure, shortness, disease, pantoprazole, aspirin, hypothyroidism, zolpidem, furosemide, coronary, prednisone, lethargy, steroids, ulcer, chronic, respiratory, morphine, pain]</td>\n",
              "      <td>[disease, oxygen, constipation, shortness, gastrointestinal, breath, prednisone, coronary, chest, pulmonary, chronic, aspirin, hypertension, failure, artery, respiratory, obstructive, pain]</td>\n",
              "      <td>[f9, f22, f18, f38, f15, f16, f23, f40, f17, f4, f28, f8, f6, f37, f24]</td>\n",
              "      <td>{'401': 0.02, '427': 0.025, '276': 0.021568627450980392, '414': 0.020833333333333332, '272': 0.02150537634408602, '250': 0.025, '428': 0.024242424242424242, '518': 0.024074074074074074, '285': 0.022857142857142857, '584': 0.022916666666666665}</td>\n",
              "      <td>[427, 250, 428, 518, 584, 285, 276, 272, 414, 401]</td>\n",
              "    </tr>\n",
              "    <tr>\n",
              "      <th>2</th>\n",
              "      <td>135453.0</td>\n",
              "      <td>discharge diagnosis:  1. cervical spondylosis with calcification of posterior  longitudinal ligament.  2. fracture dislocation c6-c7.  3. ossification of the posterior longitudinal ligament.  4. aspiration pneumonia      1. cervical spondylosis with calcification of posterior      longitudinal ligament.  2. fracture dislocation c6-c7.  3. ossification of the posterior longitudinal ligament.  4. aspiration pneumonia    1. cervical spondylosis with calcification of posterior      longitudinal ligament.  2. fracture dislocation c6-c7.  3. ossification of the posterior longitudinal ligament.  4. aspiration pneumonia      discharge condition:  stable to outside facility      discharge instructions:  patient has been made cmo at the request of him and his family.  he has a foley placed for urinary retention. please use morphine  as needed for pain and olanzapine as needed for agitiation.  patient has known history of aspiration documented on speech and  swallow. it is the patient and the family's wish for him to  continue to eat and drink as desired.    followup instructions:  follow up with your primary care physician as needed.</td>\n",
              "      <td>[V12, 788, 805, 507, V45, 401, 427, 453, E88, 293, 802, 428]</td>\n",
              "      <td>[ligament, spondylosis, of, cervical, urinary, posterior, calcification, olanzapine, fracture, pneumonia, dislocation, retention, longitudinal, morphine, pain]</td>\n",
              "      <td>[fracture, pneumonia, urinary, pain]</td>\n",
              "      <td>[f3, f4, f30, f26]</td>\n",
              "      <td>{'401': 0.016666666666666666, '427': 0.0234375, '276': 0.022058823529411766, '414': 0.015625, '272': 0.016129032258064516, '250': 0.0234375, '428': 0.022727272727272728, '518': 0.027777777777777776, '285': 0.02857142857142857, '584': 0.0234375}</td>\n",
              "      <td>[285, 518, 427, 250, 584, 428, 276, 401, 272, 414]</td>\n",
              "    </tr>\n",
              "    <tr>\n",
              "      <th>3</th>\n",
              "      <td>170490.0</td>\n",
              "      <td>discharge diagnosis:  brain lesion    discharge condition:  mental status: clear and coherent.  level of consciousness: alert and interactive.  activity status: ambulatory - independent.  neuro exam intact.    discharge instructions:  ??????\\thave a friend/family member check your incision daily for  signs of infection.  ??????\\ttake your pain medicine as prescribed.  ??????\\texercise should be limited to walking; no lifting, straining,  or excessive bending.  ??????\\tyou have dissolvable sutures, you must keep that area dry for  10 days.  ??????\\tyou may shower before this time using a shower cap to cover  your head.  ??????\\tincrease your intake of fluids and fiber, as narcotic pain  medicine can cause constipation. we generally recommend taking  an over the counter stool softener, such as docusate (colace)  while taking narcotic pain medication.  ??????\\tunless directed by your doctor, do not take any  anti-inflammatory medicines such as motrin, aspirin, advil, and  ibuprofen etc.  ??????\\tif you have been prescribed dilantin (phenytoin) for  anti-seizure medicine, take it as prescribed and follow up with  laboratory blood drawing in one week.  this can be drawn at your  pcp??????s office, but please have the results faxed to &lt;telephone&gt;.  if you have been discharged on keppra (levetiracetam), you will  not require blood work monitoring.  ??????\\tif you are being sent home on steroid medication, make sure  you are taking a medication to protect your stomach (prilosec,  protonix, or pepcid), as these medications can cause stomach  irritation.  make sure to take your steroid medication with  meals, or a glass of milk.  ??????\\tclearance to drive and return to work will be addressed at  your post-operative office visit.  ??????\\tmake sure to continue to use your incentive spirometer while  at home.  call your surgeon immediately if you experience any of the  following    ??????\\tnew onset of tremors or seizures.  ??????\\tany confusion or change in mental status.  ??????\\tany numbness, tingling, weakness in your extremities.  ??????\\tpain or headache that is continually increasing, or not  relieved by pain medication.  ??????\\tany signs of infection at the wound site: increasing redness,  increased swelling, increased tenderness, or drainage.  ??????\\tfever greater than or equal to 101?????? f.    followup instructions:  ??????\\tplease return to the office in [**6-28**] days (from your date of  surgery) for a wound check. this appointment can be made with  the nurse practitioner.  please make this appointment by calling  &lt;telephone&gt;. if you live quite a distance from our office,  please make arrangements for the same, with your pcp.</td>\n",
              "      <td>[710, 225, 443, 714, 530, V43]</td>\n",
              "      <td>[motrin, aspirin, levetiracetam, seizures, weakness, phenytoin, fever, redness, tenderness, docusate, infection, steroid, tingling, confusion, headache, constipation, tremors, numbness, pain]</td>\n",
              "      <td>[constipation, seizures, infection, numbness, headache, aspirin, weakness, fever, confusion, motrin, redness, pain]</td>\n",
              "      <td>[f31, f17, f5, f4, f12, f13, f7]</td>\n",
              "      <td>{'401': 0.03333333333333333, '427': 0.017857142857142856, '276': 0.02100840336134454, '414': 0.017857142857142856, '272': 0.027649769585253454, '250': 0.022321428571428572, '428': 0.017316017316017316, '518': 0.01984126984126984, '285': 0.024489795918367346, '584': 0.022321428571428572}</td>\n",
              "      <td>[401, 272, 285, 250, 584, 276, 518, 427, 414, 428]</td>\n",
              "    </tr>\n",
              "    <tr>\n",
              "      <th>4</th>\n",
              "      <td>134727.0</td>\n",
              "      <td>discharge diagnosis:  pneumonia    discharge condition:  expired    discharge instructions:  na    followup instructions:  na                                 &lt;name&gt; &lt;name&gt; md [**md number(2) 1851**]</td>\n",
              "      <td>[486, 518, V45, V58, 401, 577, 415, 428]</td>\n",
              "      <td>[]</td>\n",
              "      <td>[]</td>\n",
              "      <td>[]</td>\n",
              "      <td>{'401': 0.0, '427': 0.0, '276': 0.0, '414': 0.0, '272': 0.0, '250': 0.0, '428': 0.0, '518': 0.0, '285': 0.0, '584': 0.0}</td>\n",
              "      <td>[]</td>\n",
              "    </tr>\n",
              "    <tr>\n",
              "      <th>...</th>\n",
              "      <td>...</td>\n",
              "      <td>...</td>\n",
              "      <td>...</td>\n",
              "      <td>...</td>\n",
              "      <td>...</td>\n",
              "      <td>...</td>\n",
              "      <td>...</td>\n",
              "      <td>...</td>\n",
              "    </tr>\n",
              "    <tr>\n",
              "      <th>41962</th>\n",
              "      <td>127716.0</td>\n",
              "      <td>discharge diagnosis:  aortic stenosis and coronary artery disease s/p aortic valve  replacement and coronary artery bypass graft  past medical history:  hypertension  hyperlipidemia  diabetes mellitus  osteoarthritis  phlebitis  lung cancer  hiatal hernia  hypthyroidism  s/p right lobectomy [**2117**]  s/p lymph node dissection in neck  s/p beast lumpectomy  s/p hysterectomy  s/p c section  s/p tonsillectomy      discharge condition:  alert and oriented x3 nonfocal  ambulating, steady gait  incisional pain managed with ultram  incisions:  sternal - healing well, no erythema or drainage  1+ le edema      discharge instructions:  please shower daily including washing incisions gently with mild  soap, no baths or swimming until cleared by surgeon. look at  your incisions daily for redness or drainage  please no lotions, cream, powder, or ointments to incisions  each morning you should weigh yourself and then in the evening  take your temperature, these should be written down on the chart    no driving for one month or while taking narcotics. driving will  be discussed at follow up appointment with surgeon. no lifting  more than 10 pounds for 10 weeks  please call with any questions or concerns &lt;telephone&gt;  females: please wear bra to reduce pulling on incision, avoid  rubbing on lower edge  **please call cardiac surgery office with any questions or  concerns &lt;telephone&gt;. answering service will contact on call  person during off hours**    followup instructions:  you are scheduled for the following appointments  wound care, &lt;name&gt;, &lt;name&gt;  phone:&lt;telephone&gt;  date/time: &lt;date&gt;  10:00    surgeon: dr. &lt;name&gt; &lt;telephone&gt; date/time: &lt;date&gt;  1:15  cardiologist: dr. &lt;name&gt;  &lt;date&gt;  at 3:00p    please call to schedule appointments with your  primary care dr. &lt;name&gt; &lt;name&gt; in &lt;telephone&gt;    **please call cardiac surgery office with any questions or  concerns &lt;telephone&gt;. answering service will contact on call  person during off hours**                                   &lt;name&gt; &lt;name&gt; md [**md number(2) 748**]    completed by: &lt;date&gt;</td>\n",
              "      <td>[416, 424, 272, V10, V85, 414, 250, 401, 278, 782]</td>\n",
              "      <td>[artery, redness, edema, coronary, erythema, disease]</td>\n",
              "      <td>[disease, edema, coronary, erythema, artery, redness]</td>\n",
              "      <td>[f36, f8, f38, f12]</td>\n",
              "      <td>{'401': 0.025, '427': 0.0234375, '276': 0.014705882352941176, '414': 0.03125, '272': 0.024193548387096774, '250': 0.0234375, '428': 0.022727272727272728, '518': 0.020833333333333332, '285': 0.014285714285714285, '584': 0.015625}</td>\n",
              "      <td>[414, 401, 272, 427, 250, 428, 518, 584, 276, 285]</td>\n",
              "    </tr>\n",
              "    <tr>\n",
              "      <th>41963</th>\n",
              "      <td>186377.0</td>\n",
              "      <td>discharge diagnosis:  coronary artery disease  pmh:  hypertension, diabetes, copd, diastolic heart failure, ef 45-50%  past surgical history  penile implant      discharge condition:  alert and oriented x3 nonfocal  ambulating, gait steady  sternal pain managed with oral analgesics  sternal incision - healing well, no erythema or drainage  right lower extremity saph site clean/dry/intact      discharge instructions:  please draw bun/cre, inr at least every other day until they  stabilize  please shower daily including washing incisions gently with mild  soap, no baths or swimming, and look at your incisions  please no lotions, cream, powder, or ointments to incisions  each morning you should weigh yourself and then in the evening  take your temperature, these should be written down on the chart  no driving for approximately one month and while taking  narcotics, will be discussed at follow up appointment with  surgeon when you will be able to drive  no lifting more than 10 pounds for 10 weeks  please call with any questions or concerns &lt;telephone&gt;  **please call cardiac surgery office with any questions or  concerns &lt;telephone&gt;. answering service will contact on call  person during off hours**      followup instructions:  you are scheduled for the following appointments:  surgeon dr. &lt;name&gt; &lt;telephone&gt;,  &lt;date&gt;  1:00  cardiologist dr. &lt;name&gt;. &lt;name&gt; office will call you with an  appointment  please call to schedule the following:  primary care dr. &lt;name&gt;,&lt;name&gt; in [**3-8**] weeks  please follow up with dr. &lt;name&gt; &lt;name&gt; call &lt;telephone&gt; to  schedule an appointment  dialysis,schedule hemodialysis unit date/time: &lt;date&gt;  12:00  renal: dr. &lt;name&gt; &lt;telephone&gt;  diabetes: if patient requires endocrine follow-up after  discharge from rehab, please contact &lt;name&gt;, &lt;name&gt; at &lt;hospital&gt;  **please call cardiac surgery office with any questions or  concerns &lt;telephone&gt;. answering service will contact on call  person during off hours**    inr draw on [**8-16**]  goal inr [**1-5**]  indication: atrial fibrillation                                   &lt;name&gt; &lt;name&gt; md [**md number(2) 266**]    completed by: &lt;date&gt;</td>\n",
              "      <td>[424, 511, 305, 707, 403, 496, 784, 250, 414, V58, 427, 428, 584, 008, 997, 434, 410, 585, 041, 599]</td>\n",
              "      <td>[atrial, diabetes, diastolic, fibrillation, heart, failure, erythema, clean/dry/intact]</td>\n",
              "      <td>[fibrillation, atrial, heart, erythema, failure, diabetes]</td>\n",
              "      <td>[f9, f18, f41, f12, f0]</td>\n",
              "      <td>{'401': 0.03333333333333333, '427': 0.03125, '276': 0.029411764705882353, '414': 0.03125, '272': 0.03225806451612903, '250': 0.03125, '428': 0.030303030303030304, '518': 0.027777777777777776, '285': 0.02857142857142857, '584': 0.03125}</td>\n",
              "      <td>[401, 272, 427, 414, 250, 584, 428, 276, 285, 518]</td>\n",
              "    </tr>\n",
              "    <tr>\n",
              "      <th>41964</th>\n",
              "      <td>156564.0</td>\n",
              "      <td>discharge diagnosis:  left knee infection  chronic obstructive pulmonary disease exacerbation  acute on chronic kidney injury  congestive heart failure  hypertension      discharge condition:  mental status: clear and coherent.  level of consciousness: alert and interactive.  activity status: out of bed with assistance to chair or  wheelchair.      discharge instructions:  mr. &lt;name&gt;,    you were admitted to the hospital for a infected hardware in  your left knee. our orthopaedics team cleaned out the infection  in your knee and replaced the liner of your prosthesis. they  feel you should follow up with your primary orthopaedic doctor,  dr. &lt;name&gt; &lt;name&gt; at &lt;hospital&gt; (&lt;telephone&gt;), for ongoing  issues about your knee. the cultures of the infection in your  knee grew two different organisms, so we consulted our  infectious disease doctors who recommended a course of iv  antibiotics to help treat your infection. because this infection  occured inside of a joint, a longer course of antibiotics is  required. you went multiple times to the operating room to  wash-out your knee of any remaining infection, and your hardware  was removed. most recently you had a portion of tissue grafted  to your knee to provide for better coverage of your wound, along  with skin graft. your kidney function worsened while you were in  the hospital but it appears to have normalized. this should be  followed up with your primary care physician.    we made the following changes to your medications:  started:  vancomycin (antibiotic)  ceftriaxone (antibiotic)    increased metoprolol for blood pressure    followup instructions:  department: plastic surgery  when: wednesday  &lt;date&gt;  at 3:15 pm  with: &lt;name&gt; &lt;name&gt;, md &lt;telephone&gt;  building: lm &lt;name&gt; bldg (&lt;name&gt;) [**location (un) **]  campus: west     best parking: &lt;name&gt; garage    name: &lt;name&gt;, &lt;name&gt; &lt;name&gt; &lt;name&gt;  location: community physicians associates  address: &lt;hospital&gt;,[**numeric identifier 18406**]  phone: &lt;telephone&gt;  appointment: thursday  &lt;date&gt;  1:15pm    department: infectious disease  when: friday  &lt;date&gt;  at 9:30 am  with: &lt;name&gt; &lt;name&gt;, md &lt;telephone&gt;  building: lm &lt;name&gt; bldg (&lt;name&gt;) &lt;hospital&gt;  campus: west     best parking: &lt;name&gt; garage    name: nabi,&lt;name&gt; md  address: &lt;hospital&gt;,[**numeric identifier 18406**]  phone: &lt;telephone&gt;  **please discuss with the staff at the facility a follow up  appointment with your pcp when you are ready for discharge.      department: plastic surgery  when: wednesday  &lt;date&gt;  at 3:15 pm  with: &lt;name&gt; &lt;name&gt;, md &lt;telephone&gt;  building: lm &lt;name&gt; bldg (&lt;name&gt;) [**location (un) **]  campus: west     best parking: &lt;name&gt; garage    department: infectious disease  when: friday  &lt;date&gt;  at 9:30 am  with: &lt;name&gt; &lt;name&gt;, md &lt;telephone&gt;  building: lm &lt;name&gt; bldg (&lt;name&gt;) &lt;hospital&gt;  campus: west     best parking: &lt;name&gt; garage                                   &lt;name&gt; &lt;name&gt; md [**md number(1) 348**]    completed by: &lt;date&gt;</td>\n",
              "      <td>[V10, 403, 584, V43, 428, 285, 496, 250, V58, 041, 357, 707, 365, 414, 780, 518, 711, 585, 327, V12, E84, E87, 996]</td>\n",
              "      <td>[pulmonary, infectious, hypertension, kidney, obstructive, heart, injury, failure, metoprolol, infection, disease]</td>\n",
              "      <td>[disease, metoprolol, heart, pulmonary, kidney, hypertension, failure, obstructive, infection]</td>\n",
              "      <td>[f9, f21, f18, f38, f24, f41, f6, f13, f14]</td>\n",
              "      <td>{'401': 0.025925925925925925, '427': 0.027777777777777776, '276': 0.0261437908496732, '414': 0.027777777777777776, '272': 0.02867383512544803, '250': 0.027777777777777776, '428': 0.026936026936026935, '518': 0.027777777777777776, '285': 0.025396825396825397, '584': 0.027777777777777776}</td>\n",
              "      <td>[272, 427, 414, 250, 518, 584, 428, 276, 401, 285]</td>\n",
              "    </tr>\n",
              "    <tr>\n",
              "      <th>41965</th>\n",
              "      <td>172559.0</td>\n",
              "      <td>discharge diagnosis:  primary:  small bowel obstruction  metastatic prostate cancer  anasarca  malnutrition  dehydration  acute renal failure  aspiration pneumonia  .  secondary:  prostate ca s/p xrt and chemo - rising psa (140), lg rp mass,  oa, lbp, diverticulosis w/ colovesical fistula s/p lar [**5-18**], s/p  ileostomy takedown [**10-18**], open ccy      discharge condition:  stable      discharge instructions:  please call your doctor or return to the er for any of the  following:  * you experience new chest pain, pressure, squeezing or  tightness.  * new or worsening cough or wheezing.  * if you are vomiting and cannot keep in fluids or your  medications.  * you are getting dehydrated due to continued vomiting,  diarrhea or other reasons. signs of dehydration include dry  mouth, rapid heartbeat or feeling dizzy or faint when standing.  * you see blood or dark/black material when you vomit or have a  bowel movement.  * your pain is not improving within 8-12 hours or not gone  within 24 hours. call or return immediately if your pain is  getting worse or is changing location or moving to your chest or    back.  *avoid lifting objects &gt; 5lbs until your follow-up appointment  with the surgeon.  *avoid driving or operating heavy machinery while taking pain  medications.  * you have shaking chills, or a fever greater than 101.5 (f)  degrees or 38(c) degrees.  * any serious change in your symptoms, or any new symptoms that  concern you.  * please resume all regular home medications and take any new  meds  as ordered.  * continue to ambulate several times per day.  .  incision care:  -your staples will be removed at your follow-up appointment with  the surgeon, and steri strips will be applied.  -your steri-strips will fall off on their own. please remove any  remaining strips 7-10 days after surgery.  -you may shower, and wash surgical incisions.  -avoid swimming and baths until your follow-up appointment.  -please call the doctor if you have increased pain, swelling,  redness, or drainage from the incision sites.      followup instructions:  1. please follow-up appointment with dr. &lt;name&gt; (&lt;telephone&gt; on  &lt;date&gt;  at 1:15pm for removal of your staples.  2. you have follow-up appointment with dr. &lt;name&gt; &lt;name&gt;, md  phone:&lt;telephone&gt; date/time: &lt;date&gt;  11:00, and chemotherapy at  provider: &lt;name&gt; &lt;name&gt;, rn phone:&lt;telephone&gt; date/time: &lt;date&gt;   12:00  3. provider: &lt;name&gt;,&lt;name&gt; &lt;name&gt; apg (sb)  phone:&lt;telephone&gt; date/time: &lt;date&gt;  10:10                                 &lt;name&gt; &lt;name&gt; md [**md number(1) 17**]    completed by: &lt;date&gt;</td>\n",
              "      <td>[197, 507, 185, 427, 261, 585, V66, 560, 783, 285, 276]</td>\n",
              "      <td>[dehydration, obstruction, cough, diverticulosis, fever, chest, vomiting, telephone, bowel, swelling, chills, prostate, colovesical, wheezing, phone, vomit, fistula, pain, cancer]</td>\n",
              "      <td>[pain, chills, vomiting, cancer, fever, dehydration, cough, swelling, chest]</td>\n",
              "      <td>[f33, f25, f43, f4, f11, f37]</td>\n",
              "      <td>{'401': 0.02777777777777778, '427': 0.026041666666666668, '276': 0.029411764705882353, '414': 0.026041666666666668, '272': 0.026881720430107527, '250': 0.020833333333333332, '428': 0.0202020202020202, '518': 0.02314814814814815, '285': 0.02380952380952381, '584': 0.026041666666666668}</td>\n",
              "      <td>[276, 401, 272, 427, 414, 584, 285, 518, 250, 428]</td>\n",
              "    </tr>\n",
              "    <tr>\n",
              "      <th>41966</th>\n",
              "      <td>135672.0</td>\n",
              "      <td>discharge diagnosis:  peritonitis secondary to small bowel perforation.  cmv enteritis  b-cell lymphoma  line infection  type 2 diabetes controlled without complications  moderate malnutrition  cad bypass vessle      discharge condition:  stable.  tolerating regular diet  pain well controlled with oral medications.      discharge instructions:  you are being discharged on an antiviral medication called  ganciclovir, which can make your diarhea worse for some time.  please contact your doctor if you experience numbness, tingling  or pain in hands or feet, as this may be a side effect of the  medication.    you will be having labs drawn every other day and sent to dr.  &lt;name&gt; of infectious diseases for monitoring of your blood  counts.    *avoid lifting objects &gt; 5lbs until your follow-up appointment  with the surgeon.    *avoid driving or operating heavy machinery while taking pain  medications.    * continue to ambulate several times per day.    incision care:  -your staples will be removed at your follow up appoinetment.  -steri-strips will be applied and will fall off on their own.  please remove any remaining strips 7-10 days after application.  -you may shower, and wash surgical incisions.  -avoid swimming and baths until your follow-up appointment.  -please call the doctor if you have increased pain, swelling,  redness, or drainage from the incision sites.    followup instructions:  you will need to have an ophthalmalogic evaluation to make sure  that there is no evidence of cmv infection of the retina - this  should happen this week.  please call: (&lt;telephone&gt; to  schedule this appointment; if you have any difficulty arranging  this, please discuss this with your primary doctor so that they  can facilitate/arrange this evaluation.    1. please call dr.&lt;name&gt; office, &lt;telephone&gt;, to make a  follow up appointment in [**11-23**] weeks.  scheduled appointments :  provider: &lt;name&gt; &lt;name&gt;, &lt;telephone&gt;  date/time: &lt;date&gt;  10:30  provider: &lt;name&gt; &lt;name&gt;, rn phone:&lt;telephone&gt;  date/time: &lt;date&gt;  11:00  provider: &lt;name&gt; chair 6  date/time: &lt;date&gt;  11:00                                   &lt;name&gt; &lt;name&gt; md [**md number(2) 431**]    completed by: &lt;date&gt;</td>\n",
              "      <td>[202, 401, 584, 255, 283, 238, 038, 785, 250, 008, 041, 272, 996, 078, V45, 567, 569, 273, 995, 263, 579, 782]</td>\n",
              "      <td>[infectious, telephone, bowel, swelling, diseases, phone, perforation, small, infection, numbness, pain]</td>\n",
              "      <td>[infection, swelling, numbness, pain]</td>\n",
              "      <td>[f11, f4, f13]</td>\n",
              "      <td>{'401': 0.03333333333333333, '427': 0.03125, '276': 0.029411764705882353, '414': 0.03125, '272': 0.03225806451612903, '250': 0.03125, '428': 0.030303030303030304, '518': 0.027777777777777776, '285': 0.02857142857142857, '584': 0.03125}</td>\n",
              "      <td>[401, 272, 427, 414, 250, 584, 428, 276, 285, 518]</td>\n",
              "    </tr>\n",
              "  </tbody>\n",
              "</table>\n",
              "<p>41967 rows × 8 columns</p>\n",
              "</div>"
            ],
            "text/plain": [
              "        HADM_ID  ...                                       predicted_icd\n",
              "0      167118.0  ...  [401, 272, 427, 414, 250, 428, 285, 518, 584, 276]\n",
              "1      196489.0  ...  [427, 250, 428, 518, 584, 285, 276, 272, 414, 401]\n",
              "2      135453.0  ...  [285, 518, 427, 250, 584, 428, 276, 401, 272, 414]\n",
              "3      170490.0  ...  [401, 272, 285, 250, 584, 276, 518, 427, 414, 428]\n",
              "4      134727.0  ...                                                  []\n",
              "...         ...  ...                                                 ...\n",
              "41962  127716.0  ...  [414, 401, 272, 427, 250, 428, 518, 584, 276, 285]\n",
              "41963  186377.0  ...  [401, 272, 427, 414, 250, 584, 428, 276, 285, 518]\n",
              "41964  156564.0  ...  [272, 427, 414, 250, 518, 584, 428, 276, 401, 285]\n",
              "41965  172559.0  ...  [276, 401, 272, 427, 414, 584, 285, 518, 250, 428]\n",
              "41966  135672.0  ...  [401, 272, 427, 414, 250, 584, 428, 276, 285, 518]\n",
              "\n",
              "[41967 rows x 8 columns]"
            ]
          },
          "metadata": {
            "tags": []
          },
          "execution_count": 58
        }
      ]
    },
    {
      "cell_type": "code",
      "metadata": {
        "id": "PrrIblENaDyw"
      },
      "source": [
        "def predictbasedonwts(x):\n",
        "  x1=dict(sorted(x.items(),key= lambda y: y[1],reverse=True))\n",
        "  x2={k:v for (k,v) in x1.items() if v>0}\n",
        "  repeatedval=dict(Counter(list(x2.values())))\n",
        "  repeatedvalgreaterthan1=[k for (k,v) in repeatedval.items() if v>1]\n",
        "  x3=dict(list(x2.items())[:10])\n",
        "  x4=[v for (k,v) in x3.items() if v in repeatedvalgreaterthan1]\n",
        "  x5={k:v for (k,v) in x2.items() if v in x4}\n",
        "  x3.update(x5)\n",
        "  return list(x3.keys())"
      ],
      "execution_count": 59,
      "outputs": []
    },
    {
      "cell_type": "code",
      "metadata": {
        "colab": {
          "base_uri": "https://localhost:8080/",
          "height": 66,
          "referenced_widgets": [
            "c621b414d0ea438a873e032fbb6b0244",
            "ed5fe4350e1a4074b70fa4b940c593ec",
            "a4b4221d0e634f09b1595a56864be982",
            "0763a3a284e546cf844fbdc6116056ce",
            "4a7ff07c8fdc40cfac9a07ae95b3f106",
            "c1feb37e84a04ff7ad97cbb9ba7fdc87",
            "f0c763b7266a420cadc1a652d3945385",
            "e4b8d3eb5a164f5b83af1d582a3834b7"
          ]
        },
        "id": "HmYUl85McLuR",
        "outputId": "af185098-2b57-46dd-9462-f2e6ec55a4c3"
      },
      "source": [
        "diagnosis_icd9category_token['predicted_icd']=diagnosis_icd9category_token.predicted_icd_weigths.progress_apply(predictbasedonwts)"
      ],
      "execution_count": 60,
      "outputs": [
        {
          "output_type": "display_data",
          "data": {
            "application/vnd.jupyter.widget-view+json": {
              "model_id": "c621b414d0ea438a873e032fbb6b0244",
              "version_minor": 0,
              "version_major": 2
            },
            "text/plain": [
              "HBox(children=(FloatProgress(value=0.0, max=41967.0), HTML(value='')))"
            ]
          },
          "metadata": {
            "tags": []
          }
        },
        {
          "output_type": "stream",
          "text": [
            "\n"
          ],
          "name": "stdout"
        }
      ]
    },
    {
      "cell_type": "code",
      "metadata": {
        "colab": {
          "base_uri": "https://localhost:8080/",
          "height": 1000
        },
        "id": "q7fclE2PcoH0",
        "outputId": "e4809dca-6f26-4105-d090-34c90bc50a29"
      },
      "source": [
        "diagnosis_icd9category_token"
      ],
      "execution_count": 61,
      "outputs": [
        {
          "output_type": "execute_result",
          "data": {
            "text/html": [
              "<div>\n",
              "<style scoped>\n",
              "    .dataframe tbody tr th:only-of-type {\n",
              "        vertical-align: middle;\n",
              "    }\n",
              "\n",
              "    .dataframe tbody tr th {\n",
              "        vertical-align: top;\n",
              "    }\n",
              "\n",
              "    .dataframe thead th {\n",
              "        text-align: right;\n",
              "    }\n",
              "</style>\n",
              "<table border=\"1\" class=\"dataframe\">\n",
              "  <thead>\n",
              "    <tr style=\"text-align: right;\">\n",
              "      <th></th>\n",
              "      <th>HADM_ID</th>\n",
              "      <th>discharge diagnosis:</th>\n",
              "      <th>icd9_category</th>\n",
              "      <th>medical_terms_list</th>\n",
              "      <th>med_terms_condensed</th>\n",
              "      <th>features</th>\n",
              "      <th>predicted_icd_weigths</th>\n",
              "      <th>predicted_icd</th>\n",
              "    </tr>\n",
              "  </thead>\n",
              "  <tbody>\n",
              "    <tr>\n",
              "      <th>0</th>\n",
              "      <td>167118.0</td>\n",
              "      <td>discharge diagnosis:  copd, coronary artery disease/atypical angina (lad 30%, rca 30%,  ef 63%), hypercholesterolemia, hypothyroidism, hypertension,  hiatal hernia, cerebral vascular accident,s/p motor vehicle  colision-&gt; head injury &amp; rib fracture.  tbm- s/p tracheoplasty.      discharge condition:  good    discharge instructions:  please update dr.&lt;name&gt; &lt;telephone&gt; office for:  fever,  shortness of breath, chest pain , productive cough or if you  have any questions or concerns.      completed by: &lt;date&gt;</td>\n",
              "      <td>[496, 553, 518, 453, 519, 276]</td>\n",
              "      <td>[hypercholesterolemia, cerebral, hypothyroidism, cough, accident, hypertension, artery, chest, vascular, coronary, fracture, injury, angina, pain, head]</td>\n",
              "      <td>[fracture, coronary, chest, hypertension, artery, cough, pain]</td>\n",
              "      <td>[f9, f33, f4, f3, f8, f37]</td>\n",
              "      <td>{'401': 0.02777777777777778, '427': 0.026041666666666668, '276': 0.0196078431372549, '414': 0.026041666666666668, '272': 0.026881720430107527, '250': 0.026041666666666668, '428': 0.025252525252525252, '518': 0.02314814814814815, '285': 0.02380952380952381, '584': 0.020833333333333332}</td>\n",
              "      <td>[401, 272, 427, 414, 250, 428, 285, 518, 584, 276]</td>\n",
              "    </tr>\n",
              "    <tr>\n",
              "      <th>1</th>\n",
              "      <td>196489.0</td>\n",
              "      <td>discharge diagnosis:  primary:  1. chronic obstructive pulmonary disease exacerbation  2. respiratory failure with intubation  3. upper gastrointestinal bleed/peptic ulcer disease  4. hypertension  5. anxiety    secondary:  1. coronary artery disease  2. hypothyroidism      discharge condition:  mental status: confused - sometimes.  level of consciousness: alert and interactive.  activity status: out of bed with assistance to chair or  wheelchair.      discharge instructions:  you were admitted to the hospital with shortness of breath and  respiratory failure and lethargy. in the emergency department,  you were breathing very fast and a breathing tube was inserted  into your airway to help you breathe. you were admitted to the  intensive care unit. there, you were managed with steroids and  antibiotics and the tube was eventually removed from your  airway, allowing you to breathe on your own. you also underwent  bronchoscopy which looked at the inside of your airways.  .  during your time in the intensive care unit, you developed a  gastrointestinal bleed. a tube was placed into your stomach and  you underwent an endoscopic procedure to look at your esophagus  and stomach. this showed inflammation in your esophagusand  ulcers in your stomach.  .  you should continue to use nasal oxygen by nasal cannula as  needed. you should continue the steroid taper as instructed. you  should call your doctor or return to the emergency room if you  have increasing difficulty breathing or shortness of breath,  wheezing, chest pain, blood in your stool or vomiting blood.  .  there are some changes in your medications.  start pantoprazole 40 mg twice daily and stop omeprazole  start hydrochlorothiazide  start prednisone, taking 30 mg for 3 days, then 20 mg for 4  days, then 10 mg for 4 days, then 5 mg for 4 days, then stop.  start colace and senna as needed for constipation  can use morphine to alleviate symptoms of respiratory discomfort  stop furosemide  stop zolpidem  stop aspirin  increase diovan to 240 mg daily  decrease trazodone to 50 mg daily  .  follow up as indicated below.    followup instructions:  you have an appointment to follow up with dr. &lt;name&gt;, your  primary care physician, &lt;name&gt; [**8-29**] at 1pm. his address is [**location (un) 1822**], [**apartment address(1) 1823**], [**location (un) **],[**numeric identifier 1700**]. the phone is  &lt;telephone&gt;.    you have an appointment to follow up with dr. &lt;name&gt; &lt;name&gt; in  the  &lt;name&gt; at &lt;hospital&gt; on the [**location (un) 453**]. their phone number is  &lt;telephone&gt;.    department: div. of gastroenterology  when: wednesday  &lt;date&gt;  at 3:00 pm  with: &lt;name&gt; &lt;name&gt;, md &lt;telephone&gt;  building: ra &lt;name&gt; (&lt;name&gt;/&lt;name&gt; complex) [**location (un) **]  campus: east     best parking: main garage</td>\n",
              "      <td>[487, 416, 272, 530, 414, 553, 531, 518, 401, 519, 348, V02, 359, 584, 458, 578, 491, E93, 276, 244]</td>\n",
              "      <td>[pulmonary, hypertension, of, obstructive, discomfort, gastrointestinal, constipation, oxygen, breath, inflammation, artery, chest, hydrochlorothiazide, steroid, anxiety, omeprazole, senna, trazodone, failure, shortness, disease, pantoprazole, aspirin, hypothyroidism, zolpidem, furosemide, coronary, prednisone, lethargy, steroids, ulcer, chronic, respiratory, morphine, pain]</td>\n",
              "      <td>[disease, oxygen, constipation, shortness, gastrointestinal, breath, prednisone, coronary, chest, pulmonary, chronic, aspirin, hypertension, failure, artery, respiratory, obstructive, pain]</td>\n",
              "      <td>[f9, f22, f18, f38, f15, f16, f23, f40, f17, f4, f28, f8, f6, f37, f24]</td>\n",
              "      <td>{'401': 0.02, '427': 0.025, '276': 0.021568627450980392, '414': 0.020833333333333332, '272': 0.02150537634408602, '250': 0.025, '428': 0.024242424242424242, '518': 0.024074074074074074, '285': 0.022857142857142857, '584': 0.022916666666666665}</td>\n",
              "      <td>[427, 250, 428, 518, 584, 285, 276, 272, 414, 401]</td>\n",
              "    </tr>\n",
              "    <tr>\n",
              "      <th>2</th>\n",
              "      <td>135453.0</td>\n",
              "      <td>discharge diagnosis:  1. cervical spondylosis with calcification of posterior  longitudinal ligament.  2. fracture dislocation c6-c7.  3. ossification of the posterior longitudinal ligament.  4. aspiration pneumonia      1. cervical spondylosis with calcification of posterior      longitudinal ligament.  2. fracture dislocation c6-c7.  3. ossification of the posterior longitudinal ligament.  4. aspiration pneumonia    1. cervical spondylosis with calcification of posterior      longitudinal ligament.  2. fracture dislocation c6-c7.  3. ossification of the posterior longitudinal ligament.  4. aspiration pneumonia      discharge condition:  stable to outside facility      discharge instructions:  patient has been made cmo at the request of him and his family.  he has a foley placed for urinary retention. please use morphine  as needed for pain and olanzapine as needed for agitiation.  patient has known history of aspiration documented on speech and  swallow. it is the patient and the family's wish for him to  continue to eat and drink as desired.    followup instructions:  follow up with your primary care physician as needed.</td>\n",
              "      <td>[V12, 788, 805, 507, V45, 401, 427, 453, E88, 293, 802, 428]</td>\n",
              "      <td>[ligament, spondylosis, of, cervical, urinary, posterior, calcification, olanzapine, fracture, pneumonia, dislocation, retention, longitudinal, morphine, pain]</td>\n",
              "      <td>[fracture, pneumonia, urinary, pain]</td>\n",
              "      <td>[f3, f4, f30, f26]</td>\n",
              "      <td>{'401': 0.016666666666666666, '427': 0.0234375, '276': 0.022058823529411766, '414': 0.015625, '272': 0.016129032258064516, '250': 0.0234375, '428': 0.022727272727272728, '518': 0.027777777777777776, '285': 0.02857142857142857, '584': 0.0234375}</td>\n",
              "      <td>[285, 518, 427, 250, 584, 428, 276, 401, 272, 414]</td>\n",
              "    </tr>\n",
              "    <tr>\n",
              "      <th>3</th>\n",
              "      <td>170490.0</td>\n",
              "      <td>discharge diagnosis:  brain lesion    discharge condition:  mental status: clear and coherent.  level of consciousness: alert and interactive.  activity status: ambulatory - independent.  neuro exam intact.    discharge instructions:  ??????\\thave a friend/family member check your incision daily for  signs of infection.  ??????\\ttake your pain medicine as prescribed.  ??????\\texercise should be limited to walking; no lifting, straining,  or excessive bending.  ??????\\tyou have dissolvable sutures, you must keep that area dry for  10 days.  ??????\\tyou may shower before this time using a shower cap to cover  your head.  ??????\\tincrease your intake of fluids and fiber, as narcotic pain  medicine can cause constipation. we generally recommend taking  an over the counter stool softener, such as docusate (colace)  while taking narcotic pain medication.  ??????\\tunless directed by your doctor, do not take any  anti-inflammatory medicines such as motrin, aspirin, advil, and  ibuprofen etc.  ??????\\tif you have been prescribed dilantin (phenytoin) for  anti-seizure medicine, take it as prescribed and follow up with  laboratory blood drawing in one week.  this can be drawn at your  pcp??????s office, but please have the results faxed to &lt;telephone&gt;.  if you have been discharged on keppra (levetiracetam), you will  not require blood work monitoring.  ??????\\tif you are being sent home on steroid medication, make sure  you are taking a medication to protect your stomach (prilosec,  protonix, or pepcid), as these medications can cause stomach  irritation.  make sure to take your steroid medication with  meals, or a glass of milk.  ??????\\tclearance to drive and return to work will be addressed at  your post-operative office visit.  ??????\\tmake sure to continue to use your incentive spirometer while  at home.  call your surgeon immediately if you experience any of the  following    ??????\\tnew onset of tremors or seizures.  ??????\\tany confusion or change in mental status.  ??????\\tany numbness, tingling, weakness in your extremities.  ??????\\tpain or headache that is continually increasing, or not  relieved by pain medication.  ??????\\tany signs of infection at the wound site: increasing redness,  increased swelling, increased tenderness, or drainage.  ??????\\tfever greater than or equal to 101?????? f.    followup instructions:  ??????\\tplease return to the office in [**6-28**] days (from your date of  surgery) for a wound check. this appointment can be made with  the nurse practitioner.  please make this appointment by calling  &lt;telephone&gt;. if you live quite a distance from our office,  please make arrangements for the same, with your pcp.</td>\n",
              "      <td>[710, 225, 443, 714, 530, V43]</td>\n",
              "      <td>[motrin, aspirin, levetiracetam, seizures, weakness, phenytoin, fever, redness, tenderness, docusate, infection, steroid, tingling, confusion, headache, constipation, tremors, numbness, pain]</td>\n",
              "      <td>[constipation, seizures, infection, numbness, headache, aspirin, weakness, fever, confusion, motrin, redness, pain]</td>\n",
              "      <td>[f31, f17, f5, f4, f12, f13, f7]</td>\n",
              "      <td>{'401': 0.03333333333333333, '427': 0.017857142857142856, '276': 0.02100840336134454, '414': 0.017857142857142856, '272': 0.027649769585253454, '250': 0.022321428571428572, '428': 0.017316017316017316, '518': 0.01984126984126984, '285': 0.024489795918367346, '584': 0.022321428571428572}</td>\n",
              "      <td>[401, 272, 285, 250, 584, 276, 518, 427, 414, 428]</td>\n",
              "    </tr>\n",
              "    <tr>\n",
              "      <th>4</th>\n",
              "      <td>134727.0</td>\n",
              "      <td>discharge diagnosis:  pneumonia    discharge condition:  expired    discharge instructions:  na    followup instructions:  na                                 &lt;name&gt; &lt;name&gt; md [**md number(2) 1851**]</td>\n",
              "      <td>[486, 518, V45, V58, 401, 577, 415, 428]</td>\n",
              "      <td>[]</td>\n",
              "      <td>[]</td>\n",
              "      <td>[]</td>\n",
              "      <td>{'401': 0.0, '427': 0.0, '276': 0.0, '414': 0.0, '272': 0.0, '250': 0.0, '428': 0.0, '518': 0.0, '285': 0.0, '584': 0.0}</td>\n",
              "      <td>[]</td>\n",
              "    </tr>\n",
              "    <tr>\n",
              "      <th>...</th>\n",
              "      <td>...</td>\n",
              "      <td>...</td>\n",
              "      <td>...</td>\n",
              "      <td>...</td>\n",
              "      <td>...</td>\n",
              "      <td>...</td>\n",
              "      <td>...</td>\n",
              "      <td>...</td>\n",
              "    </tr>\n",
              "    <tr>\n",
              "      <th>41962</th>\n",
              "      <td>127716.0</td>\n",
              "      <td>discharge diagnosis:  aortic stenosis and coronary artery disease s/p aortic valve  replacement and coronary artery bypass graft  past medical history:  hypertension  hyperlipidemia  diabetes mellitus  osteoarthritis  phlebitis  lung cancer  hiatal hernia  hypthyroidism  s/p right lobectomy [**2117**]  s/p lymph node dissection in neck  s/p beast lumpectomy  s/p hysterectomy  s/p c section  s/p tonsillectomy      discharge condition:  alert and oriented x3 nonfocal  ambulating, steady gait  incisional pain managed with ultram  incisions:  sternal - healing well, no erythema or drainage  1+ le edema      discharge instructions:  please shower daily including washing incisions gently with mild  soap, no baths or swimming until cleared by surgeon. look at  your incisions daily for redness or drainage  please no lotions, cream, powder, or ointments to incisions  each morning you should weigh yourself and then in the evening  take your temperature, these should be written down on the chart    no driving for one month or while taking narcotics. driving will  be discussed at follow up appointment with surgeon. no lifting  more than 10 pounds for 10 weeks  please call with any questions or concerns &lt;telephone&gt;  females: please wear bra to reduce pulling on incision, avoid  rubbing on lower edge  **please call cardiac surgery office with any questions or  concerns &lt;telephone&gt;. answering service will contact on call  person during off hours**    followup instructions:  you are scheduled for the following appointments  wound care, &lt;name&gt;, &lt;name&gt;  phone:&lt;telephone&gt;  date/time: &lt;date&gt;  10:00    surgeon: dr. &lt;name&gt; &lt;telephone&gt; date/time: &lt;date&gt;  1:15  cardiologist: dr. &lt;name&gt;  &lt;date&gt;  at 3:00p    please call to schedule appointments with your  primary care dr. &lt;name&gt; &lt;name&gt; in &lt;telephone&gt;    **please call cardiac surgery office with any questions or  concerns &lt;telephone&gt;. answering service will contact on call  person during off hours**                                   &lt;name&gt; &lt;name&gt; md [**md number(2) 748**]    completed by: &lt;date&gt;</td>\n",
              "      <td>[416, 424, 272, V10, V85, 414, 250, 401, 278, 782]</td>\n",
              "      <td>[artery, redness, edema, coronary, erythema, disease]</td>\n",
              "      <td>[disease, edema, coronary, erythema, artery, redness]</td>\n",
              "      <td>[f36, f8, f38, f12]</td>\n",
              "      <td>{'401': 0.025, '427': 0.0234375, '276': 0.014705882352941176, '414': 0.03125, '272': 0.024193548387096774, '250': 0.0234375, '428': 0.022727272727272728, '518': 0.020833333333333332, '285': 0.014285714285714285, '584': 0.015625}</td>\n",
              "      <td>[414, 401, 272, 427, 250, 428, 518, 584, 276, 285]</td>\n",
              "    </tr>\n",
              "    <tr>\n",
              "      <th>41963</th>\n",
              "      <td>186377.0</td>\n",
              "      <td>discharge diagnosis:  coronary artery disease  pmh:  hypertension, diabetes, copd, diastolic heart failure, ef 45-50%  past surgical history  penile implant      discharge condition:  alert and oriented x3 nonfocal  ambulating, gait steady  sternal pain managed with oral analgesics  sternal incision - healing well, no erythema or drainage  right lower extremity saph site clean/dry/intact      discharge instructions:  please draw bun/cre, inr at least every other day until they  stabilize  please shower daily including washing incisions gently with mild  soap, no baths or swimming, and look at your incisions  please no lotions, cream, powder, or ointments to incisions  each morning you should weigh yourself and then in the evening  take your temperature, these should be written down on the chart  no driving for approximately one month and while taking  narcotics, will be discussed at follow up appointment with  surgeon when you will be able to drive  no lifting more than 10 pounds for 10 weeks  please call with any questions or concerns &lt;telephone&gt;  **please call cardiac surgery office with any questions or  concerns &lt;telephone&gt;. answering service will contact on call  person during off hours**      followup instructions:  you are scheduled for the following appointments:  surgeon dr. &lt;name&gt; &lt;telephone&gt;,  &lt;date&gt;  1:00  cardiologist dr. &lt;name&gt;. &lt;name&gt; office will call you with an  appointment  please call to schedule the following:  primary care dr. &lt;name&gt;,&lt;name&gt; in [**3-8**] weeks  please follow up with dr. &lt;name&gt; &lt;name&gt; call &lt;telephone&gt; to  schedule an appointment  dialysis,schedule hemodialysis unit date/time: &lt;date&gt;  12:00  renal: dr. &lt;name&gt; &lt;telephone&gt;  diabetes: if patient requires endocrine follow-up after  discharge from rehab, please contact &lt;name&gt;, &lt;name&gt; at &lt;hospital&gt;  **please call cardiac surgery office with any questions or  concerns &lt;telephone&gt;. answering service will contact on call  person during off hours**    inr draw on [**8-16**]  goal inr [**1-5**]  indication: atrial fibrillation                                   &lt;name&gt; &lt;name&gt; md [**md number(2) 266**]    completed by: &lt;date&gt;</td>\n",
              "      <td>[424, 511, 305, 707, 403, 496, 784, 250, 414, V58, 427, 428, 584, 008, 997, 434, 410, 585, 041, 599]</td>\n",
              "      <td>[atrial, diabetes, diastolic, fibrillation, heart, failure, erythema, clean/dry/intact]</td>\n",
              "      <td>[fibrillation, atrial, heart, erythema, failure, diabetes]</td>\n",
              "      <td>[f9, f18, f41, f12, f0]</td>\n",
              "      <td>{'401': 0.03333333333333333, '427': 0.03125, '276': 0.029411764705882353, '414': 0.03125, '272': 0.03225806451612903, '250': 0.03125, '428': 0.030303030303030304, '518': 0.027777777777777776, '285': 0.02857142857142857, '584': 0.03125}</td>\n",
              "      <td>[401, 272, 427, 414, 250, 584, 428, 276, 285, 518]</td>\n",
              "    </tr>\n",
              "    <tr>\n",
              "      <th>41964</th>\n",
              "      <td>156564.0</td>\n",
              "      <td>discharge diagnosis:  left knee infection  chronic obstructive pulmonary disease exacerbation  acute on chronic kidney injury  congestive heart failure  hypertension      discharge condition:  mental status: clear and coherent.  level of consciousness: alert and interactive.  activity status: out of bed with assistance to chair or  wheelchair.      discharge instructions:  mr. &lt;name&gt;,    you were admitted to the hospital for a infected hardware in  your left knee. our orthopaedics team cleaned out the infection  in your knee and replaced the liner of your prosthesis. they  feel you should follow up with your primary orthopaedic doctor,  dr. &lt;name&gt; &lt;name&gt; at &lt;hospital&gt; (&lt;telephone&gt;), for ongoing  issues about your knee. the cultures of the infection in your  knee grew two different organisms, so we consulted our  infectious disease doctors who recommended a course of iv  antibiotics to help treat your infection. because this infection  occured inside of a joint, a longer course of antibiotics is  required. you went multiple times to the operating room to  wash-out your knee of any remaining infection, and your hardware  was removed. most recently you had a portion of tissue grafted  to your knee to provide for better coverage of your wound, along  with skin graft. your kidney function worsened while you were in  the hospital but it appears to have normalized. this should be  followed up with your primary care physician.    we made the following changes to your medications:  started:  vancomycin (antibiotic)  ceftriaxone (antibiotic)    increased metoprolol for blood pressure    followup instructions:  department: plastic surgery  when: wednesday  &lt;date&gt;  at 3:15 pm  with: &lt;name&gt; &lt;name&gt;, md &lt;telephone&gt;  building: lm &lt;name&gt; bldg (&lt;name&gt;) [**location (un) **]  campus: west     best parking: &lt;name&gt; garage    name: &lt;name&gt;, &lt;name&gt; &lt;name&gt; &lt;name&gt;  location: community physicians associates  address: &lt;hospital&gt;,[**numeric identifier 18406**]  phone: &lt;telephone&gt;  appointment: thursday  &lt;date&gt;  1:15pm    department: infectious disease  when: friday  &lt;date&gt;  at 9:30 am  with: &lt;name&gt; &lt;name&gt;, md &lt;telephone&gt;  building: lm &lt;name&gt; bldg (&lt;name&gt;) &lt;hospital&gt;  campus: west     best parking: &lt;name&gt; garage    name: nabi,&lt;name&gt; md  address: &lt;hospital&gt;,[**numeric identifier 18406**]  phone: &lt;telephone&gt;  **please discuss with the staff at the facility a follow up  appointment with your pcp when you are ready for discharge.      department: plastic surgery  when: wednesday  &lt;date&gt;  at 3:15 pm  with: &lt;name&gt; &lt;name&gt;, md &lt;telephone&gt;  building: lm &lt;name&gt; bldg (&lt;name&gt;) [**location (un) **]  campus: west     best parking: &lt;name&gt; garage    department: infectious disease  when: friday  &lt;date&gt;  at 9:30 am  with: &lt;name&gt; &lt;name&gt;, md &lt;telephone&gt;  building: lm &lt;name&gt; bldg (&lt;name&gt;) &lt;hospital&gt;  campus: west     best parking: &lt;name&gt; garage                                   &lt;name&gt; &lt;name&gt; md [**md number(1) 348**]    completed by: &lt;date&gt;</td>\n",
              "      <td>[V10, 403, 584, V43, 428, 285, 496, 250, V58, 041, 357, 707, 365, 414, 780, 518, 711, 585, 327, V12, E84, E87, 996]</td>\n",
              "      <td>[pulmonary, infectious, hypertension, kidney, obstructive, heart, injury, failure, metoprolol, infection, disease]</td>\n",
              "      <td>[disease, metoprolol, heart, pulmonary, kidney, hypertension, failure, obstructive, infection]</td>\n",
              "      <td>[f9, f21, f18, f38, f24, f41, f6, f13, f14]</td>\n",
              "      <td>{'401': 0.025925925925925925, '427': 0.027777777777777776, '276': 0.0261437908496732, '414': 0.027777777777777776, '272': 0.02867383512544803, '250': 0.027777777777777776, '428': 0.026936026936026935, '518': 0.027777777777777776, '285': 0.025396825396825397, '584': 0.027777777777777776}</td>\n",
              "      <td>[272, 427, 414, 250, 518, 584, 428, 276, 401, 285]</td>\n",
              "    </tr>\n",
              "    <tr>\n",
              "      <th>41965</th>\n",
              "      <td>172559.0</td>\n",
              "      <td>discharge diagnosis:  primary:  small bowel obstruction  metastatic prostate cancer  anasarca  malnutrition  dehydration  acute renal failure  aspiration pneumonia  .  secondary:  prostate ca s/p xrt and chemo - rising psa (140), lg rp mass,  oa, lbp, diverticulosis w/ colovesical fistula s/p lar [**5-18**], s/p  ileostomy takedown [**10-18**], open ccy      discharge condition:  stable      discharge instructions:  please call your doctor or return to the er for any of the  following:  * you experience new chest pain, pressure, squeezing or  tightness.  * new or worsening cough or wheezing.  * if you are vomiting and cannot keep in fluids or your  medications.  * you are getting dehydrated due to continued vomiting,  diarrhea or other reasons. signs of dehydration include dry  mouth, rapid heartbeat or feeling dizzy or faint when standing.  * you see blood or dark/black material when you vomit or have a  bowel movement.  * your pain is not improving within 8-12 hours or not gone  within 24 hours. call or return immediately if your pain is  getting worse or is changing location or moving to your chest or    back.  *avoid lifting objects &gt; 5lbs until your follow-up appointment  with the surgeon.  *avoid driving or operating heavy machinery while taking pain  medications.  * you have shaking chills, or a fever greater than 101.5 (f)  degrees or 38(c) degrees.  * any serious change in your symptoms, or any new symptoms that  concern you.  * please resume all regular home medications and take any new  meds  as ordered.  * continue to ambulate several times per day.  .  incision care:  -your staples will be removed at your follow-up appointment with  the surgeon, and steri strips will be applied.  -your steri-strips will fall off on their own. please remove any  remaining strips 7-10 days after surgery.  -you may shower, and wash surgical incisions.  -avoid swimming and baths until your follow-up appointment.  -please call the doctor if you have increased pain, swelling,  redness, or drainage from the incision sites.      followup instructions:  1. please follow-up appointment with dr. &lt;name&gt; (&lt;telephone&gt; on  &lt;date&gt;  at 1:15pm for removal of your staples.  2. you have follow-up appointment with dr. &lt;name&gt; &lt;name&gt;, md  phone:&lt;telephone&gt; date/time: &lt;date&gt;  11:00, and chemotherapy at  provider: &lt;name&gt; &lt;name&gt;, rn phone:&lt;telephone&gt; date/time: &lt;date&gt;   12:00  3. provider: &lt;name&gt;,&lt;name&gt; &lt;name&gt; apg (sb)  phone:&lt;telephone&gt; date/time: &lt;date&gt;  10:10                                 &lt;name&gt; &lt;name&gt; md [**md number(1) 17**]    completed by: &lt;date&gt;</td>\n",
              "      <td>[197, 507, 185, 427, 261, 585, V66, 560, 783, 285, 276]</td>\n",
              "      <td>[dehydration, obstruction, cough, diverticulosis, fever, chest, vomiting, telephone, bowel, swelling, chills, prostate, colovesical, wheezing, phone, vomit, fistula, pain, cancer]</td>\n",
              "      <td>[pain, chills, vomiting, cancer, fever, dehydration, cough, swelling, chest]</td>\n",
              "      <td>[f33, f25, f43, f4, f11, f37]</td>\n",
              "      <td>{'401': 0.02777777777777778, '427': 0.026041666666666668, '276': 0.029411764705882353, '414': 0.026041666666666668, '272': 0.026881720430107527, '250': 0.020833333333333332, '428': 0.0202020202020202, '518': 0.02314814814814815, '285': 0.02380952380952381, '584': 0.026041666666666668}</td>\n",
              "      <td>[276, 401, 272, 427, 414, 584, 285, 518, 250, 428]</td>\n",
              "    </tr>\n",
              "    <tr>\n",
              "      <th>41966</th>\n",
              "      <td>135672.0</td>\n",
              "      <td>discharge diagnosis:  peritonitis secondary to small bowel perforation.  cmv enteritis  b-cell lymphoma  line infection  type 2 diabetes controlled without complications  moderate malnutrition  cad bypass vessle      discharge condition:  stable.  tolerating regular diet  pain well controlled with oral medications.      discharge instructions:  you are being discharged on an antiviral medication called  ganciclovir, which can make your diarhea worse for some time.  please contact your doctor if you experience numbness, tingling  or pain in hands or feet, as this may be a side effect of the  medication.    you will be having labs drawn every other day and sent to dr.  &lt;name&gt; of infectious diseases for monitoring of your blood  counts.    *avoid lifting objects &gt; 5lbs until your follow-up appointment  with the surgeon.    *avoid driving or operating heavy machinery while taking pain  medications.    * continue to ambulate several times per day.    incision care:  -your staples will be removed at your follow up appoinetment.  -steri-strips will be applied and will fall off on their own.  please remove any remaining strips 7-10 days after application.  -you may shower, and wash surgical incisions.  -avoid swimming and baths until your follow-up appointment.  -please call the doctor if you have increased pain, swelling,  redness, or drainage from the incision sites.    followup instructions:  you will need to have an ophthalmalogic evaluation to make sure  that there is no evidence of cmv infection of the retina - this  should happen this week.  please call: (&lt;telephone&gt; to  schedule this appointment; if you have any difficulty arranging  this, please discuss this with your primary doctor so that they  can facilitate/arrange this evaluation.    1. please call dr.&lt;name&gt; office, &lt;telephone&gt;, to make a  follow up appointment in [**11-23**] weeks.  scheduled appointments :  provider: &lt;name&gt; &lt;name&gt;, &lt;telephone&gt;  date/time: &lt;date&gt;  10:30  provider: &lt;name&gt; &lt;name&gt;, rn phone:&lt;telephone&gt;  date/time: &lt;date&gt;  11:00  provider: &lt;name&gt; chair 6  date/time: &lt;date&gt;  11:00                                   &lt;name&gt; &lt;name&gt; md [**md number(2) 431**]    completed by: &lt;date&gt;</td>\n",
              "      <td>[202, 401, 584, 255, 283, 238, 038, 785, 250, 008, 041, 272, 996, 078, V45, 567, 569, 273, 995, 263, 579, 782]</td>\n",
              "      <td>[infectious, telephone, bowel, swelling, diseases, phone, perforation, small, infection, numbness, pain]</td>\n",
              "      <td>[infection, swelling, numbness, pain]</td>\n",
              "      <td>[f11, f4, f13]</td>\n",
              "      <td>{'401': 0.03333333333333333, '427': 0.03125, '276': 0.029411764705882353, '414': 0.03125, '272': 0.03225806451612903, '250': 0.03125, '428': 0.030303030303030304, '518': 0.027777777777777776, '285': 0.02857142857142857, '584': 0.03125}</td>\n",
              "      <td>[401, 272, 427, 414, 250, 584, 428, 276, 285, 518]</td>\n",
              "    </tr>\n",
              "  </tbody>\n",
              "</table>\n",
              "<p>41967 rows × 8 columns</p>\n",
              "</div>"
            ],
            "text/plain": [
              "        HADM_ID  ...                                       predicted_icd\n",
              "0      167118.0  ...  [401, 272, 427, 414, 250, 428, 285, 518, 584, 276]\n",
              "1      196489.0  ...  [427, 250, 428, 518, 584, 285, 276, 272, 414, 401]\n",
              "2      135453.0  ...  [285, 518, 427, 250, 584, 428, 276, 401, 272, 414]\n",
              "3      170490.0  ...  [401, 272, 285, 250, 584, 276, 518, 427, 414, 428]\n",
              "4      134727.0  ...                                                  []\n",
              "...         ...  ...                                                 ...\n",
              "41962  127716.0  ...  [414, 401, 272, 427, 250, 428, 518, 584, 276, 285]\n",
              "41963  186377.0  ...  [401, 272, 427, 414, 250, 584, 428, 276, 285, 518]\n",
              "41964  156564.0  ...  [272, 427, 414, 250, 518, 584, 428, 276, 401, 285]\n",
              "41965  172559.0  ...  [276, 401, 272, 427, 414, 584, 285, 518, 250, 428]\n",
              "41966  135672.0  ...  [401, 272, 427, 414, 250, 584, 428, 276, 285, 518]\n",
              "\n",
              "[41967 rows x 8 columns]"
            ]
          },
          "metadata": {
            "tags": []
          },
          "execution_count": 61
        }
      ]
    },
    {
      "cell_type": "code",
      "metadata": {
        "id": "yc3DJkI-cslh"
      },
      "source": [
        "result_predict={'category':[],'precision':[],'recall':[],'f1':[]}\n",
        "for i in frequent_icd9category:\n",
        "  actual_p=diagnosis_icd9category_token.loc[diagnosis_icd9category_token.icd9_category.apply(lambda x:i in x)].HADM_ID.count()\n",
        "  tp=diagnosis_icd9category_token.loc[(diagnosis_icd9category_token.icd9_category.apply(lambda x:i in x))&(diagnosis_icd9category_token.predicted_icd.apply(lambda x:i in x))].HADM_ID.count()\n",
        "  predict_p=diagnosis_icd9category_token.loc[diagnosis_icd9category_token.predicted_icd.apply(lambda x:i in x)].HADM_ID.count()\n",
        "  precision=tp/predict_p\n",
        "  recall=tp/actual_p\n",
        "  f1=2*precision*recall/(precision+recall)\n",
        "  result_predict['category'].append(i)\n",
        "  result_predict['precision'].append(precision)\n",
        "  result_predict['recall'].append(recall)\n",
        "  result_predict['f1'].append(f1)"
      ],
      "execution_count": 62,
      "outputs": []
    },
    {
      "cell_type": "code",
      "metadata": {
        "colab": {
          "base_uri": "https://localhost:8080/",
          "height": 359
        },
        "id": "S8aSnzN9eLpw",
        "outputId": "668b394b-f87b-4b87-be5d-2c8ec4cac7ce"
      },
      "source": [
        "pd.DataFrame.from_dict(result_predict)"
      ],
      "execution_count": 63,
      "outputs": [
        {
          "output_type": "execute_result",
          "data": {
            "text/html": [
              "<div>\n",
              "<style scoped>\n",
              "    .dataframe tbody tr th:only-of-type {\n",
              "        vertical-align: middle;\n",
              "    }\n",
              "\n",
              "    .dataframe tbody tr th {\n",
              "        vertical-align: top;\n",
              "    }\n",
              "\n",
              "    .dataframe thead th {\n",
              "        text-align: right;\n",
              "    }\n",
              "</style>\n",
              "<table border=\"1\" class=\"dataframe\">\n",
              "  <thead>\n",
              "    <tr style=\"text-align: right;\">\n",
              "      <th></th>\n",
              "      <th>category</th>\n",
              "      <th>precision</th>\n",
              "      <th>recall</th>\n",
              "      <th>f1</th>\n",
              "    </tr>\n",
              "  </thead>\n",
              "  <tbody>\n",
              "    <tr>\n",
              "      <th>0</th>\n",
              "      <td>401</td>\n",
              "      <td>0.432877</td>\n",
              "      <td>0.854584</td>\n",
              "      <td>0.574665</td>\n",
              "    </tr>\n",
              "    <tr>\n",
              "      <th>1</th>\n",
              "      <td>427</td>\n",
              "      <td>0.346660</td>\n",
              "      <td>0.853080</td>\n",
              "      <td>0.492988</td>\n",
              "    </tr>\n",
              "    <tr>\n",
              "      <th>2</th>\n",
              "      <td>276</td>\n",
              "      <td>0.312711</td>\n",
              "      <td>0.837563</td>\n",
              "      <td>0.455396</td>\n",
              "    </tr>\n",
              "    <tr>\n",
              "      <th>3</th>\n",
              "      <td>414</td>\n",
              "      <td>0.292055</td>\n",
              "      <td>0.874852</td>\n",
              "      <td>0.437918</td>\n",
              "    </tr>\n",
              "    <tr>\n",
              "      <th>4</th>\n",
              "      <td>272</td>\n",
              "      <td>0.320960</td>\n",
              "      <td>0.879334</td>\n",
              "      <td>0.470270</td>\n",
              "    </tr>\n",
              "    <tr>\n",
              "      <th>5</th>\n",
              "      <td>250</td>\n",
              "      <td>0.296993</td>\n",
              "      <td>0.866474</td>\n",
              "      <td>0.442362</td>\n",
              "    </tr>\n",
              "    <tr>\n",
              "      <th>6</th>\n",
              "      <td>428</td>\n",
              "      <td>0.279617</td>\n",
              "      <td>0.870110</td>\n",
              "      <td>0.423227</td>\n",
              "    </tr>\n",
              "    <tr>\n",
              "      <th>7</th>\n",
              "      <td>518</td>\n",
              "      <td>0.256174</td>\n",
              "      <td>0.807617</td>\n",
              "      <td>0.388969</td>\n",
              "    </tr>\n",
              "    <tr>\n",
              "      <th>8</th>\n",
              "      <td>285</td>\n",
              "      <td>0.291350</td>\n",
              "      <td>0.892718</td>\n",
              "      <td>0.439322</td>\n",
              "    </tr>\n",
              "    <tr>\n",
              "      <th>9</th>\n",
              "      <td>584</td>\n",
              "      <td>0.239515</td>\n",
              "      <td>0.834991</td>\n",
              "      <td>0.372251</td>\n",
              "    </tr>\n",
              "  </tbody>\n",
              "</table>\n",
              "</div>"
            ],
            "text/plain": [
              "  category  precision    recall        f1\n",
              "0      401   0.432877  0.854584  0.574665\n",
              "1      427   0.346660  0.853080  0.492988\n",
              "2      276   0.312711  0.837563  0.455396\n",
              "3      414   0.292055  0.874852  0.437918\n",
              "4      272   0.320960  0.879334  0.470270\n",
              "5      250   0.296993  0.866474  0.442362\n",
              "6      428   0.279617  0.870110  0.423227\n",
              "7      518   0.256174  0.807617  0.388969\n",
              "8      285   0.291350  0.892718  0.439322\n",
              "9      584   0.239515  0.834991  0.372251"
            ]
          },
          "metadata": {
            "tags": []
          },
          "execution_count": 63
        }
      ]
    },
    {
      "cell_type": "code",
      "metadata": {
        "colab": {
          "base_uri": "https://localhost:8080/"
        },
        "id": "jnHk3YkCp8PX",
        "outputId": "844e27ea-2f33-4328-fc8e-f29ad2d03abd"
      },
      "source": [
        "total_predicted=len([a for b in diagnosis_icd9category_token.predicted_icd.to_list() for a in b])\n",
        "print(total_predicted)\n",
        "actual=len([a for b in diagnosis_icd9category_token.icd9_category.apply(lambda x : [i for i in x if i in frequent_icd9category]).to_list() for a in b])\n",
        "print(actual)\n",
        "actual_predicted=0\n",
        "for i in frequent_icd9category:\n",
        "  actual_predicted += diagnosis_icd9category_token.loc[(diagnosis_icd9category_token.icd9_category.apply(lambda x:i in x))&(diagnosis_icd9category_token.predicted_icd.apply(lambda x:i in x))].HADM_ID.count()\n",
        "print(actual_predicted)\n",
        "recall=actual_predicted/actual\n",
        "presicion=actual_predicted/total_predicted\n",
        "print(recall)\n",
        "print(presicion)\n",
        "print(2*presicion*recall/(presicion + recall))"
      ],
      "execution_count": 64,
      "outputs": [
        {
          "output_type": "stream",
          "text": [
            "352853\n",
            "126319\n",
            "108297\n",
            "0.8573294595429033\n",
            "0.30691817839156815\n",
            "0.4520172297212692\n"
          ],
          "name": "stdout"
        }
      ]
    },
    {
      "cell_type": "code",
      "metadata": {
        "id": "QN_eKp8DXzEb"
      },
      "source": [
        "mlb = MultiLabelBinarizer(frequent_icd9category)\r\n",
        "print(accuracy_score(mlb.fit_transform(diagnosis_icd9category_token.icd9_category.values),mlb.fit_transform(diagnosis_icd9category_token.predicted_icd.values)))\r\n",
        "print(hamming_loss(mlb.fit_transform(diagnosis_icd9category_token.icd9_category.values),mlb.fit_transform(diagnosis_icd9category_token.predicted_icd.values)))\r\n",
        "print(precision_score(mlb.fit_transform(diagnosis_icd9category_token.icd9_category.values),mlb.fit_transform(diagnosis_icd9category_token.predicted_icd.values), average = \"micro\"))\r\n",
        "print(recall_score(mlb.fit_transform(diagnosis_icd9category_token.icd9_category.values),mlb.fit_transform(diagnosis_icd9category_token.predicted_icd.values),average = \"micro\"))\r\n",
        "print(f1_score(mlb.fit_transform(diagnosis_icd9category_token.icd9_category.values),mlb.fit_transform(ddiagnosis_icd9category_token.predicted_icd.values),average = \"micro\"))\r\n",
        "print(classification_report(mlb.fit_transform(diagnosis_icd9category_token.icd9_category.values),mlb.fit_transform(diagnosis_icd9category_token.predicted_icd.values),target_names=mlb.classes_))"
      ],
      "execution_count": null,
      "outputs": []
    },
    {
      "cell_type": "code",
      "metadata": {
        "id": "tcP7obqhWF6I"
      },
      "source": [
        ""
      ],
      "execution_count": null,
      "outputs": []
    },
    {
      "cell_type": "code",
      "metadata": {
        "id": "MP7n7zdcZQsP"
      },
      "source": [
        "adm_icd = pd.read_csv(\"/content/drive/My Drive/AlgoIntern/Data/Data1.0/adm_icd.csv\")"
      ],
      "execution_count": 66,
      "outputs": []
    },
    {
      "cell_type": "code",
      "metadata": {
        "id": "tl1VKjND8OVh"
      },
      "source": [
        "diagnosis_icd10category=pd.merge(diagnosis_icd9category_token['HADM_ID','discharge diagnosis:', 'medical_terms_list'],adm_icd[['HADM_ID','ICD10']],on=\"HADM_ID\",how=\"left\")"
      ],
      "execution_count": 67,
      "outputs": []
    },
    {
      "cell_type": "code",
      "metadata": {
        "colab": {
          "base_uri": "https://localhost:8080/",
          "height": 1000
        },
        "id": "_9m2mH2Z8S4-",
        "outputId": "a4cd5fcb-3364-4e2e-a282-20c92fc1c7e9"
      },
      "source": [
        "diagnosis_icd10category"
      ],
      "execution_count": 68,
      "outputs": [
        {
          "output_type": "execute_result",
          "data": {
            "text/html": [
              "<div>\n",
              "<style scoped>\n",
              "    .dataframe tbody tr th:only-of-type {\n",
              "        vertical-align: middle;\n",
              "    }\n",
              "\n",
              "    .dataframe tbody tr th {\n",
              "        vertical-align: top;\n",
              "    }\n",
              "\n",
              "    .dataframe thead th {\n",
              "        text-align: right;\n",
              "    }\n",
              "</style>\n",
              "<table border=\"1\" class=\"dataframe\">\n",
              "  <thead>\n",
              "    <tr style=\"text-align: right;\">\n",
              "      <th></th>\n",
              "      <th>HADM_ID</th>\n",
              "      <th>discharge diagnosis:</th>\n",
              "      <th>icd9_category</th>\n",
              "      <th>medical_terms_list</th>\n",
              "      <th>med_terms_condensed</th>\n",
              "      <th>features</th>\n",
              "      <th>predicted_icd_weigths</th>\n",
              "      <th>predicted_icd</th>\n",
              "      <th>ICD10</th>\n",
              "    </tr>\n",
              "  </thead>\n",
              "  <tbody>\n",
              "    <tr>\n",
              "      <th>0</th>\n",
              "      <td>167118.0</td>\n",
              "      <td>discharge diagnosis:  copd, coronary artery disease/atypical angina (lad 30%, rca 30%,  ef 63%), hypercholesterolemia, hypothyroidism, hypertension,  hiatal hernia, cerebral vascular accident,s/p motor vehicle  colision-&gt; head injury &amp; rib fracture.  tbm- s/p tracheoplasty.      discharge condition:  good    discharge instructions:  please update dr.&lt;name&gt; &lt;telephone&gt; office for:  fever,  shortness of breath, chest pain , productive cough or if you  have any questions or concerns.      completed by: &lt;date&gt;</td>\n",
              "      <td>[496, 553, 518, 453, 519, 276]</td>\n",
              "      <td>[hypercholesterolemia, cerebral, hypothyroidism, cough, accident, hypertension, artery, chest, vascular, coronary, fracture, injury, angina, pain, head]</td>\n",
              "      <td>[fracture, coronary, chest, hypertension, artery, cough, pain]</td>\n",
              "      <td>[f9, f33, f4, f3, f8, f37]</td>\n",
              "      <td>{'401': 0.02777777777777778, '427': 0.026041666666666668, '276': 0.0196078431372549, '414': 0.026041666666666668, '272': 0.026881720430107527, '250': 0.026041666666666668, '428': 0.025252525252525252, '518': 0.02314814814814815, '285': 0.02380952380952381, '584': 0.020833333333333332}</td>\n",
              "      <td>[401, 272, 427, 414, 250, 428, 285, 518, 584, 276]</td>\n",
              "      <td>J449,Misc,E872</td>\n",
              "    </tr>\n",
              "    <tr>\n",
              "      <th>1</th>\n",
              "      <td>196489.0</td>\n",
              "      <td>discharge diagnosis:  primary:  1. chronic obstructive pulmonary disease exacerbation  2. respiratory failure with intubation  3. upper gastrointestinal bleed/peptic ulcer disease  4. hypertension  5. anxiety    secondary:  1. coronary artery disease  2. hypothyroidism      discharge condition:  mental status: confused - sometimes.  level of consciousness: alert and interactive.  activity status: out of bed with assistance to chair or  wheelchair.      discharge instructions:  you were admitted to the hospital with shortness of breath and  respiratory failure and lethargy. in the emergency department,  you were breathing very fast and a breathing tube was inserted  into your airway to help you breathe. you were admitted to the  intensive care unit. there, you were managed with steroids and  antibiotics and the tube was eventually removed from your  airway, allowing you to breathe on your own. you also underwent  bronchoscopy which looked at the inside of your airways.  .  during your time in the intensive care unit, you developed a  gastrointestinal bleed. a tube was placed into your stomach and  you underwent an endoscopic procedure to look at your esophagus  and stomach. this showed inflammation in your esophagusand  ulcers in your stomach.  .  you should continue to use nasal oxygen by nasal cannula as  needed. you should continue the steroid taper as instructed. you  should call your doctor or return to the emergency room if you  have increasing difficulty breathing or shortness of breath,  wheezing, chest pain, blood in your stool or vomiting blood.  .  there are some changes in your medications.  start pantoprazole 40 mg twice daily and stop omeprazole  start hydrochlorothiazide  start prednisone, taking 30 mg for 3 days, then 20 mg for 4  days, then 10 mg for 4 days, then 5 mg for 4 days, then stop.  start colace and senna as needed for constipation  can use morphine to alleviate symptoms of respiratory discomfort  stop furosemide  stop zolpidem  stop aspirin  increase diovan to 240 mg daily  decrease trazodone to 50 mg daily  .  follow up as indicated below.    followup instructions:  you have an appointment to follow up with dr. &lt;name&gt;, your  primary care physician, &lt;name&gt; [**8-29**] at 1pm. his address is [**location (un) 1822**], [**apartment address(1) 1823**], [**location (un) **],[**numeric identifier 1700**]. the phone is  &lt;telephone&gt;.    you have an appointment to follow up with dr. &lt;name&gt; &lt;name&gt; in  the  &lt;name&gt; at &lt;hospital&gt; on the [**location (un) 453**]. their phone number is  &lt;telephone&gt;.    department: div. of gastroenterology  when: wednesday  &lt;date&gt;  at 3:00 pm  with: &lt;name&gt; &lt;name&gt;, md &lt;telephone&gt;  building: ra &lt;name&gt; (&lt;name&gt;/&lt;name&gt; complex) [**location (un) **]  campus: east     best parking: main garage</td>\n",
              "      <td>[487, 416, 272, 530, 414, 553, 531, 518, 401, 519, 348, V02, 359, 584, 458, 578, 491, E93, 276, 244]</td>\n",
              "      <td>[pulmonary, hypertension, of, obstructive, discomfort, gastrointestinal, constipation, oxygen, breath, inflammation, artery, chest, hydrochlorothiazide, steroid, anxiety, omeprazole, senna, trazodone, failure, shortness, disease, pantoprazole, aspirin, hypothyroidism, zolpidem, furosemide, coronary, prednisone, lethargy, steroids, ulcer, chronic, respiratory, morphine, pain]</td>\n",
              "      <td>[disease, oxygen, constipation, shortness, gastrointestinal, breath, prednisone, coronary, chest, pulmonary, chronic, aspirin, hypertension, failure, artery, respiratory, obstructive, pain]</td>\n",
              "      <td>[f9, f22, f18, f38, f15, f16, f23, f40, f17, f4, f28, f8, f6, f37, f24]</td>\n",
              "      <td>{'401': 0.02, '427': 0.025, '276': 0.021568627450980392, '414': 0.020833333333333332, '272': 0.02150537634408602, '250': 0.025, '428': 0.024242424242424242, '518': 0.024074074074074074, '285': 0.022857142857142857, '584': 0.022916666666666665}</td>\n",
              "      <td>[427, 250, 428, 518, 584, 285, 276, 272, 414, 401]</td>\n",
              "      <td>I2510,E872,I9581,N179,E039,E784,I10,I952,Misc,E870,E785</td>\n",
              "    </tr>\n",
              "    <tr>\n",
              "      <th>2</th>\n",
              "      <td>135453.0</td>\n",
              "      <td>discharge diagnosis:  1. cervical spondylosis with calcification of posterior  longitudinal ligament.  2. fracture dislocation c6-c7.  3. ossification of the posterior longitudinal ligament.  4. aspiration pneumonia      1. cervical spondylosis with calcification of posterior      longitudinal ligament.  2. fracture dislocation c6-c7.  3. ossification of the posterior longitudinal ligament.  4. aspiration pneumonia    1. cervical spondylosis with calcification of posterior      longitudinal ligament.  2. fracture dislocation c6-c7.  3. ossification of the posterior longitudinal ligament.  4. aspiration pneumonia      discharge condition:  stable to outside facility      discharge instructions:  patient has been made cmo at the request of him and his family.  he has a foley placed for urinary retention. please use morphine  as needed for pain and olanzapine as needed for agitiation.  patient has known history of aspiration documented on speech and  swallow. it is the patient and the family's wish for him to  continue to eat and drink as desired.    followup instructions:  follow up with your primary care physician as needed.</td>\n",
              "      <td>[V12, 788, 805, 507, V45, 401, 427, 453, E88, 293, 802, 428]</td>\n",
              "      <td>[ligament, spondylosis, of, cervical, urinary, posterior, calcification, olanzapine, fracture, pneumonia, dislocation, retention, longitudinal, morphine, pain]</td>\n",
              "      <td>[fracture, pneumonia, urinary, pain]</td>\n",
              "      <td>[f3, f4, f30, f26]</td>\n",
              "      <td>{'401': 0.016666666666666666, '427': 0.0234375, '276': 0.022058823529411766, '414': 0.015625, '272': 0.016129032258064516, '250': 0.0234375, '428': 0.022727272727272728, '518': 0.027777777777777776, '285': 0.02857142857142857, '584': 0.0234375}</td>\n",
              "      <td>[285, 518, 427, 250, 584, 428, 276, 401, 272, 414]</td>\n",
              "      <td>J690,Z951,I4891,Misc,I509,F05</td>\n",
              "    </tr>\n",
              "    <tr>\n",
              "      <th>3</th>\n",
              "      <td>170490.0</td>\n",
              "      <td>discharge diagnosis:  brain lesion    discharge condition:  mental status: clear and coherent.  level of consciousness: alert and interactive.  activity status: ambulatory - independent.  neuro exam intact.    discharge instructions:  ??????\\thave a friend/family member check your incision daily for  signs of infection.  ??????\\ttake your pain medicine as prescribed.  ??????\\texercise should be limited to walking; no lifting, straining,  or excessive bending.  ??????\\tyou have dissolvable sutures, you must keep that area dry for  10 days.  ??????\\tyou may shower before this time using a shower cap to cover  your head.  ??????\\tincrease your intake of fluids and fiber, as narcotic pain  medicine can cause constipation. we generally recommend taking  an over the counter stool softener, such as docusate (colace)  while taking narcotic pain medication.  ??????\\tunless directed by your doctor, do not take any  anti-inflammatory medicines such as motrin, aspirin, advil, and  ibuprofen etc.  ??????\\tif you have been prescribed dilantin (phenytoin) for  anti-seizure medicine, take it as prescribed and follow up with  laboratory blood drawing in one week.  this can be drawn at your  pcp??????s office, but please have the results faxed to &lt;telephone&gt;.  if you have been discharged on keppra (levetiracetam), you will  not require blood work monitoring.  ??????\\tif you are being sent home on steroid medication, make sure  you are taking a medication to protect your stomach (prilosec,  protonix, or pepcid), as these medications can cause stomach  irritation.  make sure to take your steroid medication with  meals, or a glass of milk.  ??????\\tclearance to drive and return to work will be addressed at  your post-operative office visit.  ??????\\tmake sure to continue to use your incentive spirometer while  at home.  call your surgeon immediately if you experience any of the  following    ??????\\tnew onset of tremors or seizures.  ??????\\tany confusion or change in mental status.  ??????\\tany numbness, tingling, weakness in your extremities.  ??????\\tpain or headache that is continually increasing, or not  relieved by pain medication.  ??????\\tany signs of infection at the wound site: increasing redness,  increased swelling, increased tenderness, or drainage.  ??????\\tfever greater than or equal to 101?????? f.    followup instructions:  ??????\\tplease return to the office in [**6-28**] days (from your date of  surgery) for a wound check. this appointment can be made with  the nurse practitioner.  please make this appointment by calling  &lt;telephone&gt;. if you live quite a distance from our office,  please make arrangements for the same, with your pcp.</td>\n",
              "      <td>[710, 225, 443, 714, 530, V43]</td>\n",
              "      <td>[motrin, aspirin, levetiracetam, seizures, weakness, phenytoin, fever, redness, tenderness, docusate, infection, steroid, tingling, confusion, headache, constipation, tremors, numbness, pain]</td>\n",
              "      <td>[constipation, seizures, infection, numbness, headache, aspirin, weakness, fever, confusion, motrin, redness, pain]</td>\n",
              "      <td>[f31, f17, f5, f4, f12, f13, f7]</td>\n",
              "      <td>{'401': 0.03333333333333333, '427': 0.017857142857142856, '276': 0.02100840336134454, '414': 0.017857142857142856, '272': 0.027649769585253454, '250': 0.022321428571428572, '428': 0.017316017316017316, '518': 0.01984126984126984, '285': 0.024489795918367346, '584': 0.022321428571428572}</td>\n",
              "      <td>[401, 272, 285, 250, 584, 276, 518, 427, 414, 428]</td>\n",
              "      <td>K219,Misc</td>\n",
              "    </tr>\n",
              "    <tr>\n",
              "      <th>4</th>\n",
              "      <td>134727.0</td>\n",
              "      <td>discharge diagnosis:  pneumonia    discharge condition:  expired    discharge instructions:  na    followup instructions:  na                                 &lt;name&gt; &lt;name&gt; md [**md number(2) 1851**]</td>\n",
              "      <td>[486, 518, V45, V58, 401, 577, 415, 428]</td>\n",
              "      <td>[]</td>\n",
              "      <td>[]</td>\n",
              "      <td>[]</td>\n",
              "      <td>{'401': 0.0, '427': 0.0, '276': 0.0, '414': 0.0, '272': 0.0, '250': 0.0, '428': 0.0, '518': 0.0, '285': 0.0, '584': 0.0}</td>\n",
              "      <td>[]</td>\n",
              "      <td>J189,Z7901,I10,Z9861,J9600,Misc,I509,J9690</td>\n",
              "    </tr>\n",
              "    <tr>\n",
              "      <th>...</th>\n",
              "      <td>...</td>\n",
              "      <td>...</td>\n",
              "      <td>...</td>\n",
              "      <td>...</td>\n",
              "      <td>...</td>\n",
              "      <td>...</td>\n",
              "      <td>...</td>\n",
              "      <td>...</td>\n",
              "      <td>...</td>\n",
              "    </tr>\n",
              "    <tr>\n",
              "      <th>41962</th>\n",
              "      <td>127716.0</td>\n",
              "      <td>discharge diagnosis:  aortic stenosis and coronary artery disease s/p aortic valve  replacement and coronary artery bypass graft  past medical history:  hypertension  hyperlipidemia  diabetes mellitus  osteoarthritis  phlebitis  lung cancer  hiatal hernia  hypthyroidism  s/p right lobectomy [**2117**]  s/p lymph node dissection in neck  s/p beast lumpectomy  s/p hysterectomy  s/p c section  s/p tonsillectomy      discharge condition:  alert and oriented x3 nonfocal  ambulating, steady gait  incisional pain managed with ultram  incisions:  sternal - healing well, no erythema or drainage  1+ le edema      discharge instructions:  please shower daily including washing incisions gently with mild  soap, no baths or swimming until cleared by surgeon. look at  your incisions daily for redness or drainage  please no lotions, cream, powder, or ointments to incisions  each morning you should weigh yourself and then in the evening  take your temperature, these should be written down on the chart    no driving for one month or while taking narcotics. driving will  be discussed at follow up appointment with surgeon. no lifting  more than 10 pounds for 10 weeks  please call with any questions or concerns &lt;telephone&gt;  females: please wear bra to reduce pulling on incision, avoid  rubbing on lower edge  **please call cardiac surgery office with any questions or  concerns &lt;telephone&gt;. answering service will contact on call  person during off hours**    followup instructions:  you are scheduled for the following appointments  wound care, &lt;name&gt;, &lt;name&gt;  phone:&lt;telephone&gt;  date/time: &lt;date&gt;  10:00    surgeon: dr. &lt;name&gt; &lt;telephone&gt; date/time: &lt;date&gt;  1:15  cardiologist: dr. &lt;name&gt;  &lt;date&gt;  at 3:00p    please call to schedule appointments with your  primary care dr. &lt;name&gt; &lt;name&gt; in &lt;telephone&gt;    **please call cardiac surgery office with any questions or  concerns &lt;telephone&gt;. answering service will contact on call  person during off hours**                                   &lt;name&gt; &lt;name&gt; md [**md number(2) 748**]    completed by: &lt;date&gt;</td>\n",
              "      <td>[416, 424, 272, V10, V85, 414, 250, 401, 278, 782]</td>\n",
              "      <td>[artery, redness, edema, coronary, erythema, disease]</td>\n",
              "      <td>[disease, edema, coronary, erythema, artery, redness]</td>\n",
              "      <td>[f36, f8, f38, f12]</td>\n",
              "      <td>{'401': 0.025, '427': 0.0234375, '276': 0.014705882352941176, '414': 0.03125, '272': 0.024193548387096774, '250': 0.0234375, '428': 0.022727272727272728, '518': 0.020833333333333332, '285': 0.014285714285714285, '584': 0.015625}</td>\n",
              "      <td>[414, 401, 272, 427, 250, 428, 518, 584, 276, 285]</td>\n",
              "      <td>I359,I2510,I10,E784,E669,I352,I350,E119,Misc,I272,I2789,I358,E785,I351</td>\n",
              "    </tr>\n",
              "    <tr>\n",
              "      <th>41963</th>\n",
              "      <td>186377.0</td>\n",
              "      <td>discharge diagnosis:  coronary artery disease  pmh:  hypertension, diabetes, copd, diastolic heart failure, ef 45-50%  past surgical history  penile implant      discharge condition:  alert and oriented x3 nonfocal  ambulating, gait steady  sternal pain managed with oral analgesics  sternal incision - healing well, no erythema or drainage  right lower extremity saph site clean/dry/intact      discharge instructions:  please draw bun/cre, inr at least every other day until they  stabilize  please shower daily including washing incisions gently with mild  soap, no baths or swimming, and look at your incisions  please no lotions, cream, powder, or ointments to incisions  each morning you should weigh yourself and then in the evening  take your temperature, these should be written down on the chart  no driving for approximately one month and while taking  narcotics, will be discussed at follow up appointment with  surgeon when you will be able to drive  no lifting more than 10 pounds for 10 weeks  please call with any questions or concerns &lt;telephone&gt;  **please call cardiac surgery office with any questions or  concerns &lt;telephone&gt;. answering service will contact on call  person during off hours**      followup instructions:  you are scheduled for the following appointments:  surgeon dr. &lt;name&gt; &lt;telephone&gt;,  &lt;date&gt;  1:00  cardiologist dr. &lt;name&gt;. &lt;name&gt; office will call you with an  appointment  please call to schedule the following:  primary care dr. &lt;name&gt;,&lt;name&gt; in [**3-8**] weeks  please follow up with dr. &lt;name&gt; &lt;name&gt; call &lt;telephone&gt; to  schedule an appointment  dialysis,schedule hemodialysis unit date/time: &lt;date&gt;  12:00  renal: dr. &lt;name&gt; &lt;telephone&gt;  diabetes: if patient requires endocrine follow-up after  discharge from rehab, please contact &lt;name&gt;, &lt;name&gt; at &lt;hospital&gt;  **please call cardiac surgery office with any questions or  concerns &lt;telephone&gt;. answering service will contact on call  person during off hours**    inr draw on [**8-16**]  goal inr [**1-5**]  indication: atrial fibrillation                                   &lt;name&gt; &lt;name&gt; md [**md number(2) 266**]    completed by: &lt;date&gt;</td>\n",
              "      <td>[424, 511, 305, 707, 403, 496, 784, 250, 414, V58, 427, 428, 584, 008, 997, 434, 410, 585, 041, 599]</td>\n",
              "      <td>[atrial, diabetes, diastolic, fibrillation, heart, failure, erythema, clean/dry/intact]</td>\n",
              "      <td>[fibrillation, atrial, heart, erythema, failure, diabetes]</td>\n",
              "      <td>[f9, f18, f41, f12, f0]</td>\n",
              "      <td>{'401': 0.03333333333333333, '427': 0.03125, '276': 0.029411764705882353, '414': 0.03125, '272': 0.03225806451612903, '250': 0.03125, '428': 0.030303030303030304, '518': 0.027777777777777776, '285': 0.02857142857142857, '584': 0.03125}</td>\n",
              "      <td>[401, 272, 427, 414, 250, 584, 428, 276, 285, 518]</td>\n",
              "      <td>A047,F17200,N170,I2510,I129,I340,I5033,I4891,N390,J918,Misc,I509,I214,J449,I348</td>\n",
              "    </tr>\n",
              "    <tr>\n",
              "      <th>41964</th>\n",
              "      <td>156564.0</td>\n",
              "      <td>discharge diagnosis:  left knee infection  chronic obstructive pulmonary disease exacerbation  acute on chronic kidney injury  congestive heart failure  hypertension      discharge condition:  mental status: clear and coherent.  level of consciousness: alert and interactive.  activity status: out of bed with assistance to chair or  wheelchair.      discharge instructions:  mr. &lt;name&gt;,    you were admitted to the hospital for a infected hardware in  your left knee. our orthopaedics team cleaned out the infection  in your knee and replaced the liner of your prosthesis. they  feel you should follow up with your primary orthopaedic doctor,  dr. &lt;name&gt; &lt;name&gt; at &lt;hospital&gt; (&lt;telephone&gt;), for ongoing  issues about your knee. the cultures of the infection in your  knee grew two different organisms, so we consulted our  infectious disease doctors who recommended a course of iv  antibiotics to help treat your infection. because this infection  occured inside of a joint, a longer course of antibiotics is  required. you went multiple times to the operating room to  wash-out your knee of any remaining infection, and your hardware  was removed. most recently you had a portion of tissue grafted  to your knee to provide for better coverage of your wound, along  with skin graft. your kidney function worsened while you were in  the hospital but it appears to have normalized. this should be  followed up with your primary care physician.    we made the following changes to your medications:  started:  vancomycin (antibiotic)  ceftriaxone (antibiotic)    increased metoprolol for blood pressure    followup instructions:  department: plastic surgery  when: wednesday  &lt;date&gt;  at 3:15 pm  with: &lt;name&gt; &lt;name&gt;, md &lt;telephone&gt;  building: lm &lt;name&gt; bldg (&lt;name&gt;) [**location (un) **]  campus: west     best parking: &lt;name&gt; garage    name: &lt;name&gt;, &lt;name&gt; &lt;name&gt; &lt;name&gt;  location: community physicians associates  address: &lt;hospital&gt;,[**numeric identifier 18406**]  phone: &lt;telephone&gt;  appointment: thursday  &lt;date&gt;  1:15pm    department: infectious disease  when: friday  &lt;date&gt;  at 9:30 am  with: &lt;name&gt; &lt;name&gt;, md &lt;telephone&gt;  building: lm &lt;name&gt; bldg (&lt;name&gt;) &lt;hospital&gt;  campus: west     best parking: &lt;name&gt; garage    name: nabi,&lt;name&gt; md  address: &lt;hospital&gt;,[**numeric identifier 18406**]  phone: &lt;telephone&gt;  **please discuss with the staff at the facility a follow up  appointment with your pcp when you are ready for discharge.      department: plastic surgery  when: wednesday  &lt;date&gt;  at 3:15 pm  with: &lt;name&gt; &lt;name&gt;, md &lt;telephone&gt;  building: lm &lt;name&gt; bldg (&lt;name&gt;) [**location (un) **]  campus: west     best parking: &lt;name&gt; garage    department: infectious disease  when: friday  &lt;date&gt;  at 9:30 am  with: &lt;name&gt; &lt;name&gt;, md &lt;telephone&gt;  building: lm &lt;name&gt; bldg (&lt;name&gt;) &lt;hospital&gt;  campus: west     best parking: &lt;name&gt; garage                                   &lt;name&gt; &lt;name&gt; md [**md number(1) 348**]    completed by: &lt;date&gt;</td>\n",
              "      <td>[V10, 403, 584, V43, 428, 285, 496, 250, V58, 041, 357, 707, 365, 414, 780, 518, 711, 585, 327, V12, E84, E87, 996]</td>\n",
              "      <td>[pulmonary, infectious, hypertension, kidney, obstructive, heart, injury, failure, metoprolol, infection, disease]</td>\n",
              "      <td>[disease, metoprolol, heart, pulmonary, kidney, hypertension, failure, obstructive, infection]</td>\n",
              "      <td>[f9, f21, f18, f38, f24, f41, f6, f13, f14]</td>\n",
              "      <td>{'401': 0.025925925925925925, '427': 0.027777777777777776, '276': 0.0261437908496732, '414': 0.027777777777777776, '272': 0.02867383512544803, '250': 0.027777777777777776, '428': 0.026936026936026935, '518': 0.027777777777777776, '285': 0.025396825396825397, '584': 0.027777777777777776}</td>\n",
              "      <td>[272, 427, 414, 250, 518, 584, 428, 276, 401, 285]</td>\n",
              "      <td>E1342,I5032,N170,I2510,E0942,E1042,E1142,G4733,Z794,I129,Misc,I509,D62,J449,E0842</td>\n",
              "    </tr>\n",
              "    <tr>\n",
              "      <th>41965</th>\n",
              "      <td>172559.0</td>\n",
              "      <td>discharge diagnosis:  primary:  small bowel obstruction  metastatic prostate cancer  anasarca  malnutrition  dehydration  acute renal failure  aspiration pneumonia  .  secondary:  prostate ca s/p xrt and chemo - rising psa (140), lg rp mass,  oa, lbp, diverticulosis w/ colovesical fistula s/p lar [**5-18**], s/p  ileostomy takedown [**10-18**], open ccy      discharge condition:  stable      discharge instructions:  please call your doctor or return to the er for any of the  following:  * you experience new chest pain, pressure, squeezing or  tightness.  * new or worsening cough or wheezing.  * if you are vomiting and cannot keep in fluids or your  medications.  * you are getting dehydrated due to continued vomiting,  diarrhea or other reasons. signs of dehydration include dry  mouth, rapid heartbeat or feeling dizzy or faint when standing.  * you see blood or dark/black material when you vomit or have a  bowel movement.  * your pain is not improving within 8-12 hours or not gone  within 24 hours. call or return immediately if your pain is  getting worse or is changing location or moving to your chest or    back.  *avoid lifting objects &gt; 5lbs until your follow-up appointment  with the surgeon.  *avoid driving or operating heavy machinery while taking pain  medications.  * you have shaking chills, or a fever greater than 101.5 (f)  degrees or 38(c) degrees.  * any serious change in your symptoms, or any new symptoms that  concern you.  * please resume all regular home medications and take any new  meds  as ordered.  * continue to ambulate several times per day.  .  incision care:  -your staples will be removed at your follow-up appointment with  the surgeon, and steri strips will be applied.  -your steri-strips will fall off on their own. please remove any  remaining strips 7-10 days after surgery.  -you may shower, and wash surgical incisions.  -avoid swimming and baths until your follow-up appointment.  -please call the doctor if you have increased pain, swelling,  redness, or drainage from the incision sites.      followup instructions:  1. please follow-up appointment with dr. &lt;name&gt; (&lt;telephone&gt; on  &lt;date&gt;  at 1:15pm for removal of your staples.  2. you have follow-up appointment with dr. &lt;name&gt; &lt;name&gt;, md  phone:&lt;telephone&gt; date/time: &lt;date&gt;  11:00, and chemotherapy at  provider: &lt;name&gt; &lt;name&gt;, rn phone:&lt;telephone&gt; date/time: &lt;date&gt;   12:00  3. provider: &lt;name&gt;,&lt;name&gt; &lt;name&gt; apg (sb)  phone:&lt;telephone&gt; date/time: &lt;date&gt;  10:10                                 &lt;name&gt; &lt;name&gt; md [**md number(1) 17**]    completed by: &lt;date&gt;</td>\n",
              "      <td>[197, 507, 185, 427, 261, 585, V66, 560, 783, 285, 276]</td>\n",
              "      <td>[dehydration, obstruction, cough, diverticulosis, fever, chest, vomiting, telephone, bowel, swelling, chills, prostate, colovesical, wheezing, phone, vomit, fistula, pain, cancer]</td>\n",
              "      <td>[pain, chills, vomiting, cancer, fever, dehydration, cough, swelling, chest]</td>\n",
              "      <td>[f33, f25, f43, f4, f11, f37]</td>\n",
              "      <td>{'401': 0.02777777777777778, '427': 0.026041666666666668, '276': 0.029411764705882353, '414': 0.026041666666666668, '272': 0.026881720430107527, '250': 0.020833333333333332, '428': 0.0202020202020202, '518': 0.02314814814814815, '285': 0.02380952380952381, '584': 0.026041666666666668}</td>\n",
              "      <td>[276, 401, 272, 427, 414, 584, 285, 518, 250, 428]</td>\n",
              "      <td>E860,N189,J690,I4892,R001,Misc,I498</td>\n",
              "    </tr>\n",
              "    <tr>\n",
              "      <th>41966</th>\n",
              "      <td>135672.0</td>\n",
              "      <td>discharge diagnosis:  peritonitis secondary to small bowel perforation.  cmv enteritis  b-cell lymphoma  line infection  type 2 diabetes controlled without complications  moderate malnutrition  cad bypass vessle      discharge condition:  stable.  tolerating regular diet  pain well controlled with oral medications.      discharge instructions:  you are being discharged on an antiviral medication called  ganciclovir, which can make your diarhea worse for some time.  please contact your doctor if you experience numbness, tingling  or pain in hands or feet, as this may be a side effect of the  medication.    you will be having labs drawn every other day and sent to dr.  &lt;name&gt; of infectious diseases for monitoring of your blood  counts.    *avoid lifting objects &gt; 5lbs until your follow-up appointment  with the surgeon.    *avoid driving or operating heavy machinery while taking pain  medications.    * continue to ambulate several times per day.    incision care:  -your staples will be removed at your follow up appoinetment.  -steri-strips will be applied and will fall off on their own.  please remove any remaining strips 7-10 days after application.  -you may shower, and wash surgical incisions.  -avoid swimming and baths until your follow-up appointment.  -please call the doctor if you have increased pain, swelling,  redness, or drainage from the incision sites.    followup instructions:  you will need to have an ophthalmalogic evaluation to make sure  that there is no evidence of cmv infection of the retina - this  should happen this week.  please call: (&lt;telephone&gt; to  schedule this appointment; if you have any difficulty arranging  this, please discuss this with your primary doctor so that they  can facilitate/arrange this evaluation.    1. please call dr.&lt;name&gt; office, &lt;telephone&gt;, to make a  follow up appointment in [**11-23**] weeks.  scheduled appointments :  provider: &lt;name&gt; &lt;name&gt;, &lt;telephone&gt;  date/time: &lt;date&gt;  10:30  provider: &lt;name&gt; &lt;name&gt;, rn phone:&lt;telephone&gt;  date/time: &lt;date&gt;  11:00  provider: &lt;name&gt; chair 6  date/time: &lt;date&gt;  11:00                                   &lt;name&gt; &lt;name&gt; md [**md number(2) 431**]    completed by: &lt;date&gt;</td>\n",
              "      <td>[202, 401, 584, 255, 283, 238, 038, 785, 250, 008, 041, 272, 996, 078, V45, 567, 569, 273, 995, 263, 579, 782]</td>\n",
              "      <td>[infectious, telephone, bowel, swelling, diseases, phone, perforation, small, infection, numbness, pain]</td>\n",
              "      <td>[infection, swelling, numbness, pain]</td>\n",
              "      <td>[f11, f4, f13]</td>\n",
              "      <td>{'401': 0.03333333333333333, '427': 0.03125, '276': 0.029411764705882353, '414': 0.03125, '272': 0.03225806451612903, '250': 0.03125, '428': 0.030303030303030304, '518': 0.027777777777777776, '285': 0.02857142857142857, '584': 0.03125}</td>\n",
              "      <td>[401, 272, 427, 414, 250, 584, 428, 276, 285, 518]</td>\n",
              "      <td>I10,N179,Z951,E784,R6521,A419,Misc,R6520,E785,E119</td>\n",
              "    </tr>\n",
              "  </tbody>\n",
              "</table>\n",
              "<p>41967 rows × 9 columns</p>\n",
              "</div>"
            ],
            "text/plain": [
              "        HADM_ID  ...                                                                              ICD10\n",
              "0      167118.0  ...                                                                     J449,Misc,E872\n",
              "1      196489.0  ...                            I2510,E872,I9581,N179,E039,E784,I10,I952,Misc,E870,E785\n",
              "2      135453.0  ...                                                      J690,Z951,I4891,Misc,I509,F05\n",
              "3      170490.0  ...                                                                          K219,Misc\n",
              "4      134727.0  ...                                         J189,Z7901,I10,Z9861,J9600,Misc,I509,J9690\n",
              "...         ...  ...                                                                                ...\n",
              "41962  127716.0  ...             I359,I2510,I10,E784,E669,I352,I350,E119,Misc,I272,I2789,I358,E785,I351\n",
              "41963  186377.0  ...    A047,F17200,N170,I2510,I129,I340,I5033,I4891,N390,J918,Misc,I509,I214,J449,I348\n",
              "41964  156564.0  ...  E1342,I5032,N170,I2510,E0942,E1042,E1142,G4733,Z794,I129,Misc,I509,D62,J449,E0842\n",
              "41965  172559.0  ...                                                E860,N189,J690,I4892,R001,Misc,I498\n",
              "41966  135672.0  ...                                 I10,N179,Z951,E784,R6521,A419,Misc,R6520,E785,E119\n",
              "\n",
              "[41967 rows x 9 columns]"
            ]
          },
          "metadata": {
            "tags": []
          },
          "execution_count": 68
        }
      ]
    },
    {
      "cell_type": "code",
      "metadata": {
        "id": "4qoc9mkn9rPJ"
      },
      "source": [
        "diagnosis_icd10category['ICD10']=diagnosis_icd10category.ICD10.apply(lambda x:list(set(re.split(\",\",x))))"
      ],
      "execution_count": 69,
      "outputs": []
    },
    {
      "cell_type": "code",
      "metadata": {
        "id": "XL1m9Rz79rJ2"
      },
      "source": [
        "def icd10codes_into_category(x):\r\n",
        "    return list(set([re.split(\"([A-Z]\\d{2})\",i)[1] for i in x]))"
      ],
      "execution_count": 71,
      "outputs": []
    },
    {
      "cell_type": "code",
      "metadata": {
        "id": "8lj3bNRi9rFm"
      },
      "source": [
        "diagnosis_icd10category['ICD10']=diagnosis_icd10category.ICD10.apply(lambda x: [a for a in x if a!=\"Misc\"])"
      ],
      "execution_count": 72,
      "outputs": []
    },
    {
      "cell_type": "code",
      "metadata": {
        "id": "W2hSjpLE9rBq"
      },
      "source": [
        "diagnosis_icd10category['icd10category']=diagnosis_icd10category.ICD10.apply(icd10codes_into_category)"
      ],
      "execution_count": 73,
      "outputs": []
    },
    {
      "cell_type": "code",
      "metadata": {
        "colab": {
          "base_uri": "https://localhost:8080/",
          "height": 1000
        },
        "id": "-ho9-yD19q9v",
        "outputId": "be16e83d-dd72-4e12-e89a-2a2321b60722"
      },
      "source": [
        "diagnosis_icd10category"
      ],
      "execution_count": 74,
      "outputs": [
        {
          "output_type": "execute_result",
          "data": {
            "text/html": [
              "<div>\n",
              "<style scoped>\n",
              "    .dataframe tbody tr th:only-of-type {\n",
              "        vertical-align: middle;\n",
              "    }\n",
              "\n",
              "    .dataframe tbody tr th {\n",
              "        vertical-align: top;\n",
              "    }\n",
              "\n",
              "    .dataframe thead th {\n",
              "        text-align: right;\n",
              "    }\n",
              "</style>\n",
              "<table border=\"1\" class=\"dataframe\">\n",
              "  <thead>\n",
              "    <tr style=\"text-align: right;\">\n",
              "      <th></th>\n",
              "      <th>HADM_ID</th>\n",
              "      <th>discharge diagnosis:</th>\n",
              "      <th>icd9_category</th>\n",
              "      <th>medical_terms_list</th>\n",
              "      <th>med_terms_condensed</th>\n",
              "      <th>features</th>\n",
              "      <th>predicted_icd_weigths</th>\n",
              "      <th>predicted_icd</th>\n",
              "      <th>ICD10</th>\n",
              "      <th>icd10category</th>\n",
              "    </tr>\n",
              "  </thead>\n",
              "  <tbody>\n",
              "    <tr>\n",
              "      <th>0</th>\n",
              "      <td>167118.0</td>\n",
              "      <td>discharge diagnosis:  copd, coronary artery disease/atypical angina (lad 30%, rca 30%,  ef 63%), hypercholesterolemia, hypothyroidism, hypertension,  hiatal hernia, cerebral vascular accident,s/p motor vehicle  colision-&gt; head injury &amp; rib fracture.  tbm- s/p tracheoplasty.      discharge condition:  good    discharge instructions:  please update dr.&lt;name&gt; &lt;telephone&gt; office for:  fever,  shortness of breath, chest pain , productive cough or if you  have any questions or concerns.      completed by: &lt;date&gt;</td>\n",
              "      <td>[496, 553, 518, 453, 519, 276]</td>\n",
              "      <td>[hypercholesterolemia, cerebral, hypothyroidism, cough, accident, hypertension, artery, chest, vascular, coronary, fracture, injury, angina, pain, head]</td>\n",
              "      <td>[fracture, coronary, chest, hypertension, artery, cough, pain]</td>\n",
              "      <td>[f9, f33, f4, f3, f8, f37]</td>\n",
              "      <td>{'401': 0.02777777777777778, '427': 0.026041666666666668, '276': 0.0196078431372549, '414': 0.026041666666666668, '272': 0.026881720430107527, '250': 0.026041666666666668, '428': 0.025252525252525252, '518': 0.02314814814814815, '285': 0.02380952380952381, '584': 0.020833333333333332}</td>\n",
              "      <td>[401, 272, 427, 414, 250, 428, 285, 518, 584, 276]</td>\n",
              "      <td>[E872, J449]</td>\n",
              "      <td>[E87, J44]</td>\n",
              "    </tr>\n",
              "    <tr>\n",
              "      <th>1</th>\n",
              "      <td>196489.0</td>\n",
              "      <td>discharge diagnosis:  primary:  1. chronic obstructive pulmonary disease exacerbation  2. respiratory failure with intubation  3. upper gastrointestinal bleed/peptic ulcer disease  4. hypertension  5. anxiety    secondary:  1. coronary artery disease  2. hypothyroidism      discharge condition:  mental status: confused - sometimes.  level of consciousness: alert and interactive.  activity status: out of bed with assistance to chair or  wheelchair.      discharge instructions:  you were admitted to the hospital with shortness of breath and  respiratory failure and lethargy. in the emergency department,  you were breathing very fast and a breathing tube was inserted  into your airway to help you breathe. you were admitted to the  intensive care unit. there, you were managed with steroids and  antibiotics and the tube was eventually removed from your  airway, allowing you to breathe on your own. you also underwent  bronchoscopy which looked at the inside of your airways.  .  during your time in the intensive care unit, you developed a  gastrointestinal bleed. a tube was placed into your stomach and  you underwent an endoscopic procedure to look at your esophagus  and stomach. this showed inflammation in your esophagusand  ulcers in your stomach.  .  you should continue to use nasal oxygen by nasal cannula as  needed. you should continue the steroid taper as instructed. you  should call your doctor or return to the emergency room if you  have increasing difficulty breathing or shortness of breath,  wheezing, chest pain, blood in your stool or vomiting blood.  .  there are some changes in your medications.  start pantoprazole 40 mg twice daily and stop omeprazole  start hydrochlorothiazide  start prednisone, taking 30 mg for 3 days, then 20 mg for 4  days, then 10 mg for 4 days, then 5 mg for 4 days, then stop.  start colace and senna as needed for constipation  can use morphine to alleviate symptoms of respiratory discomfort  stop furosemide  stop zolpidem  stop aspirin  increase diovan to 240 mg daily  decrease trazodone to 50 mg daily  .  follow up as indicated below.    followup instructions:  you have an appointment to follow up with dr. &lt;name&gt;, your  primary care physician, &lt;name&gt; [**8-29**] at 1pm. his address is [**location (un) 1822**], [**apartment address(1) 1823**], [**location (un) **],[**numeric identifier 1700**]. the phone is  &lt;telephone&gt;.    you have an appointment to follow up with dr. &lt;name&gt; &lt;name&gt; in  the  &lt;name&gt; at &lt;hospital&gt; on the [**location (un) 453**]. their phone number is  &lt;telephone&gt;.    department: div. of gastroenterology  when: wednesday  &lt;date&gt;  at 3:00 pm  with: &lt;name&gt; &lt;name&gt;, md &lt;telephone&gt;  building: ra &lt;name&gt; (&lt;name&gt;/&lt;name&gt; complex) [**location (un) **]  campus: east     best parking: main garage</td>\n",
              "      <td>[487, 416, 272, 530, 414, 553, 531, 518, 401, 519, 348, V02, 359, 584, 458, 578, 491, E93, 276, 244]</td>\n",
              "      <td>[pulmonary, hypertension, of, obstructive, discomfort, gastrointestinal, constipation, oxygen, breath, inflammation, artery, chest, hydrochlorothiazide, steroid, anxiety, omeprazole, senna, trazodone, failure, shortness, disease, pantoprazole, aspirin, hypothyroidism, zolpidem, furosemide, coronary, prednisone, lethargy, steroids, ulcer, chronic, respiratory, morphine, pain]</td>\n",
              "      <td>[disease, oxygen, constipation, shortness, gastrointestinal, breath, prednisone, coronary, chest, pulmonary, chronic, aspirin, hypertension, failure, artery, respiratory, obstructive, pain]</td>\n",
              "      <td>[f9, f22, f18, f38, f15, f16, f23, f40, f17, f4, f28, f8, f6, f37, f24]</td>\n",
              "      <td>{'401': 0.02, '427': 0.025, '276': 0.021568627450980392, '414': 0.020833333333333332, '272': 0.02150537634408602, '250': 0.025, '428': 0.024242424242424242, '518': 0.024074074074074074, '285': 0.022857142857142857, '584': 0.022916666666666665}</td>\n",
              "      <td>[427, 250, 428, 518, 584, 285, 276, 272, 414, 401]</td>\n",
              "      <td>[N179, I952, E872, I10, I2510, E784, E039, E870, E785, I9581]</td>\n",
              "      <td>[I10, I95, E78, I25, N17, E03, E87]</td>\n",
              "    </tr>\n",
              "    <tr>\n",
              "      <th>2</th>\n",
              "      <td>135453.0</td>\n",
              "      <td>discharge diagnosis:  1. cervical spondylosis with calcification of posterior  longitudinal ligament.  2. fracture dislocation c6-c7.  3. ossification of the posterior longitudinal ligament.  4. aspiration pneumonia      1. cervical spondylosis with calcification of posterior      longitudinal ligament.  2. fracture dislocation c6-c7.  3. ossification of the posterior longitudinal ligament.  4. aspiration pneumonia    1. cervical spondylosis with calcification of posterior      longitudinal ligament.  2. fracture dislocation c6-c7.  3. ossification of the posterior longitudinal ligament.  4. aspiration pneumonia      discharge condition:  stable to outside facility      discharge instructions:  patient has been made cmo at the request of him and his family.  he has a foley placed for urinary retention. please use morphine  as needed for pain and olanzapine as needed for agitiation.  patient has known history of aspiration documented on speech and  swallow. it is the patient and the family's wish for him to  continue to eat and drink as desired.    followup instructions:  follow up with your primary care physician as needed.</td>\n",
              "      <td>[V12, 788, 805, 507, V45, 401, 427, 453, E88, 293, 802, 428]</td>\n",
              "      <td>[ligament, spondylosis, of, cervical, urinary, posterior, calcification, olanzapine, fracture, pneumonia, dislocation, retention, longitudinal, morphine, pain]</td>\n",
              "      <td>[fracture, pneumonia, urinary, pain]</td>\n",
              "      <td>[f3, f4, f30, f26]</td>\n",
              "      <td>{'401': 0.016666666666666666, '427': 0.0234375, '276': 0.022058823529411766, '414': 0.015625, '272': 0.016129032258064516, '250': 0.0234375, '428': 0.022727272727272728, '518': 0.027777777777777776, '285': 0.02857142857142857, '584': 0.0234375}</td>\n",
              "      <td>[285, 518, 427, 250, 584, 428, 276, 401, 272, 414]</td>\n",
              "      <td>[I4891, I509, F05, J690, Z951]</td>\n",
              "      <td>[J69, I48, I50, Z95, F05]</td>\n",
              "    </tr>\n",
              "    <tr>\n",
              "      <th>3</th>\n",
              "      <td>170490.0</td>\n",
              "      <td>discharge diagnosis:  brain lesion    discharge condition:  mental status: clear and coherent.  level of consciousness: alert and interactive.  activity status: ambulatory - independent.  neuro exam intact.    discharge instructions:  ??????\\thave a friend/family member check your incision daily for  signs of infection.  ??????\\ttake your pain medicine as prescribed.  ??????\\texercise should be limited to walking; no lifting, straining,  or excessive bending.  ??????\\tyou have dissolvable sutures, you must keep that area dry for  10 days.  ??????\\tyou may shower before this time using a shower cap to cover  your head.  ??????\\tincrease your intake of fluids and fiber, as narcotic pain  medicine can cause constipation. we generally recommend taking  an over the counter stool softener, such as docusate (colace)  while taking narcotic pain medication.  ??????\\tunless directed by your doctor, do not take any  anti-inflammatory medicines such as motrin, aspirin, advil, and  ibuprofen etc.  ??????\\tif you have been prescribed dilantin (phenytoin) for  anti-seizure medicine, take it as prescribed and follow up with  laboratory blood drawing in one week.  this can be drawn at your  pcp??????s office, but please have the results faxed to &lt;telephone&gt;.  if you have been discharged on keppra (levetiracetam), you will  not require blood work monitoring.  ??????\\tif you are being sent home on steroid medication, make sure  you are taking a medication to protect your stomach (prilosec,  protonix, or pepcid), as these medications can cause stomach  irritation.  make sure to take your steroid medication with  meals, or a glass of milk.  ??????\\tclearance to drive and return to work will be addressed at  your post-operative office visit.  ??????\\tmake sure to continue to use your incentive spirometer while  at home.  call your surgeon immediately if you experience any of the  following    ??????\\tnew onset of tremors or seizures.  ??????\\tany confusion or change in mental status.  ??????\\tany numbness, tingling, weakness in your extremities.  ??????\\tpain or headache that is continually increasing, or not  relieved by pain medication.  ??????\\tany signs of infection at the wound site: increasing redness,  increased swelling, increased tenderness, or drainage.  ??????\\tfever greater than or equal to 101?????? f.    followup instructions:  ??????\\tplease return to the office in [**6-28**] days (from your date of  surgery) for a wound check. this appointment can be made with  the nurse practitioner.  please make this appointment by calling  &lt;telephone&gt;. if you live quite a distance from our office,  please make arrangements for the same, with your pcp.</td>\n",
              "      <td>[710, 225, 443, 714, 530, V43]</td>\n",
              "      <td>[motrin, aspirin, levetiracetam, seizures, weakness, phenytoin, fever, redness, tenderness, docusate, infection, steroid, tingling, confusion, headache, constipation, tremors, numbness, pain]</td>\n",
              "      <td>[constipation, seizures, infection, numbness, headache, aspirin, weakness, fever, confusion, motrin, redness, pain]</td>\n",
              "      <td>[f31, f17, f5, f4, f12, f13, f7]</td>\n",
              "      <td>{'401': 0.03333333333333333, '427': 0.017857142857142856, '276': 0.02100840336134454, '414': 0.017857142857142856, '272': 0.027649769585253454, '250': 0.022321428571428572, '428': 0.017316017316017316, '518': 0.01984126984126984, '285': 0.024489795918367346, '584': 0.022321428571428572}</td>\n",
              "      <td>[401, 272, 285, 250, 584, 276, 518, 427, 414, 428]</td>\n",
              "      <td>[K219]</td>\n",
              "      <td>[K21]</td>\n",
              "    </tr>\n",
              "    <tr>\n",
              "      <th>4</th>\n",
              "      <td>134727.0</td>\n",
              "      <td>discharge diagnosis:  pneumonia    discharge condition:  expired    discharge instructions:  na    followup instructions:  na                                 &lt;name&gt; &lt;name&gt; md [**md number(2) 1851**]</td>\n",
              "      <td>[486, 518, V45, V58, 401, 577, 415, 428]</td>\n",
              "      <td>[]</td>\n",
              "      <td>[]</td>\n",
              "      <td>[]</td>\n",
              "      <td>{'401': 0.0, '427': 0.0, '276': 0.0, '414': 0.0, '272': 0.0, '250': 0.0, '428': 0.0, '518': 0.0, '285': 0.0, '584': 0.0}</td>\n",
              "      <td>[]</td>\n",
              "      <td>[J9600, I10, J9690, J189, Z7901, I509, Z9861]</td>\n",
              "      <td>[I10, J96, I50, Z79, J18, Z98]</td>\n",
              "    </tr>\n",
              "    <tr>\n",
              "      <th>...</th>\n",
              "      <td>...</td>\n",
              "      <td>...</td>\n",
              "      <td>...</td>\n",
              "      <td>...</td>\n",
              "      <td>...</td>\n",
              "      <td>...</td>\n",
              "      <td>...</td>\n",
              "      <td>...</td>\n",
              "      <td>...</td>\n",
              "      <td>...</td>\n",
              "    </tr>\n",
              "    <tr>\n",
              "      <th>41962</th>\n",
              "      <td>127716.0</td>\n",
              "      <td>discharge diagnosis:  aortic stenosis and coronary artery disease s/p aortic valve  replacement and coronary artery bypass graft  past medical history:  hypertension  hyperlipidemia  diabetes mellitus  osteoarthritis  phlebitis  lung cancer  hiatal hernia  hypthyroidism  s/p right lobectomy [**2117**]  s/p lymph node dissection in neck  s/p beast lumpectomy  s/p hysterectomy  s/p c section  s/p tonsillectomy      discharge condition:  alert and oriented x3 nonfocal  ambulating, steady gait  incisional pain managed with ultram  incisions:  sternal - healing well, no erythema or drainage  1+ le edema      discharge instructions:  please shower daily including washing incisions gently with mild  soap, no baths or swimming until cleared by surgeon. look at  your incisions daily for redness or drainage  please no lotions, cream, powder, or ointments to incisions  each morning you should weigh yourself and then in the evening  take your temperature, these should be written down on the chart    no driving for one month or while taking narcotics. driving will  be discussed at follow up appointment with surgeon. no lifting  more than 10 pounds for 10 weeks  please call with any questions or concerns &lt;telephone&gt;  females: please wear bra to reduce pulling on incision, avoid  rubbing on lower edge  **please call cardiac surgery office with any questions or  concerns &lt;telephone&gt;. answering service will contact on call  person during off hours**    followup instructions:  you are scheduled for the following appointments  wound care, &lt;name&gt;, &lt;name&gt;  phone:&lt;telephone&gt;  date/time: &lt;date&gt;  10:00    surgeon: dr. &lt;name&gt; &lt;telephone&gt; date/time: &lt;date&gt;  1:15  cardiologist: dr. &lt;name&gt;  &lt;date&gt;  at 3:00p    please call to schedule appointments with your  primary care dr. &lt;name&gt; &lt;name&gt; in &lt;telephone&gt;    **please call cardiac surgery office with any questions or  concerns &lt;telephone&gt;. answering service will contact on call  person during off hours**                                   &lt;name&gt; &lt;name&gt; md [**md number(2) 748**]    completed by: &lt;date&gt;</td>\n",
              "      <td>[416, 424, 272, V10, V85, 414, 250, 401, 278, 782]</td>\n",
              "      <td>[artery, redness, edema, coronary, erythema, disease]</td>\n",
              "      <td>[disease, edema, coronary, erythema, artery, redness]</td>\n",
              "      <td>[f36, f8, f38, f12]</td>\n",
              "      <td>{'401': 0.025, '427': 0.0234375, '276': 0.014705882352941176, '414': 0.03125, '272': 0.024193548387096774, '250': 0.0234375, '428': 0.022727272727272728, '518': 0.020833333333333332, '285': 0.014285714285714285, '584': 0.015625}</td>\n",
              "      <td>[414, 401, 272, 427, 250, 428, 518, 584, 276, 285]</td>\n",
              "      <td>[I10, I350, I2789, E119, I352, I272, I2510, I351, I359, E784, I358, E669, E785]</td>\n",
              "      <td>[I10, E78, E11, I27, I35, I25, E66]</td>\n",
              "    </tr>\n",
              "    <tr>\n",
              "      <th>41963</th>\n",
              "      <td>186377.0</td>\n",
              "      <td>discharge diagnosis:  coronary artery disease  pmh:  hypertension, diabetes, copd, diastolic heart failure, ef 45-50%  past surgical history  penile implant      discharge condition:  alert and oriented x3 nonfocal  ambulating, gait steady  sternal pain managed with oral analgesics  sternal incision - healing well, no erythema or drainage  right lower extremity saph site clean/dry/intact      discharge instructions:  please draw bun/cre, inr at least every other day until they  stabilize  please shower daily including washing incisions gently with mild  soap, no baths or swimming, and look at your incisions  please no lotions, cream, powder, or ointments to incisions  each morning you should weigh yourself and then in the evening  take your temperature, these should be written down on the chart  no driving for approximately one month and while taking  narcotics, will be discussed at follow up appointment with  surgeon when you will be able to drive  no lifting more than 10 pounds for 10 weeks  please call with any questions or concerns &lt;telephone&gt;  **please call cardiac surgery office with any questions or  concerns &lt;telephone&gt;. answering service will contact on call  person during off hours**      followup instructions:  you are scheduled for the following appointments:  surgeon dr. &lt;name&gt; &lt;telephone&gt;,  &lt;date&gt;  1:00  cardiologist dr. &lt;name&gt;. &lt;name&gt; office will call you with an  appointment  please call to schedule the following:  primary care dr. &lt;name&gt;,&lt;name&gt; in [**3-8**] weeks  please follow up with dr. &lt;name&gt; &lt;name&gt; call &lt;telephone&gt; to  schedule an appointment  dialysis,schedule hemodialysis unit date/time: &lt;date&gt;  12:00  renal: dr. &lt;name&gt; &lt;telephone&gt;  diabetes: if patient requires endocrine follow-up after  discharge from rehab, please contact &lt;name&gt;, &lt;name&gt; at &lt;hospital&gt;  **please call cardiac surgery office with any questions or  concerns &lt;telephone&gt;. answering service will contact on call  person during off hours**    inr draw on [**8-16**]  goal inr [**1-5**]  indication: atrial fibrillation                                   &lt;name&gt; &lt;name&gt; md [**md number(2) 266**]    completed by: &lt;date&gt;</td>\n",
              "      <td>[424, 511, 305, 707, 403, 496, 784, 250, 414, V58, 427, 428, 584, 008, 997, 434, 410, 585, 041, 599]</td>\n",
              "      <td>[atrial, diabetes, diastolic, fibrillation, heart, failure, erythema, clean/dry/intact]</td>\n",
              "      <td>[fibrillation, atrial, heart, erythema, failure, diabetes]</td>\n",
              "      <td>[f9, f18, f41, f12, f0]</td>\n",
              "      <td>{'401': 0.03333333333333333, '427': 0.03125, '276': 0.029411764705882353, '414': 0.03125, '272': 0.03225806451612903, '250': 0.03125, '428': 0.030303030303030304, '518': 0.027777777777777776, '285': 0.02857142857142857, '584': 0.03125}</td>\n",
              "      <td>[401, 272, 427, 414, 250, 584, 428, 276, 285, 518]</td>\n",
              "      <td>[J449, N170, N390, J918, I340, I2510, I4891, I214, I509, I129, I5033, A047, I348, F17200]</td>\n",
              "      <td>[N39, F17, I48, I50, I12, A04, I25, J91, N17, J44, I34, I21]</td>\n",
              "    </tr>\n",
              "    <tr>\n",
              "      <th>41964</th>\n",
              "      <td>156564.0</td>\n",
              "      <td>discharge diagnosis:  left knee infection  chronic obstructive pulmonary disease exacerbation  acute on chronic kidney injury  congestive heart failure  hypertension      discharge condition:  mental status: clear and coherent.  level of consciousness: alert and interactive.  activity status: out of bed with assistance to chair or  wheelchair.      discharge instructions:  mr. &lt;name&gt;,    you were admitted to the hospital for a infected hardware in  your left knee. our orthopaedics team cleaned out the infection  in your knee and replaced the liner of your prosthesis. they  feel you should follow up with your primary orthopaedic doctor,  dr. &lt;name&gt; &lt;name&gt; at &lt;hospital&gt; (&lt;telephone&gt;), for ongoing  issues about your knee. the cultures of the infection in your  knee grew two different organisms, so we consulted our  infectious disease doctors who recommended a course of iv  antibiotics to help treat your infection. because this infection  occured inside of a joint, a longer course of antibiotics is  required. you went multiple times to the operating room to  wash-out your knee of any remaining infection, and your hardware  was removed. most recently you had a portion of tissue grafted  to your knee to provide for better coverage of your wound, along  with skin graft. your kidney function worsened while you were in  the hospital but it appears to have normalized. this should be  followed up with your primary care physician.    we made the following changes to your medications:  started:  vancomycin (antibiotic)  ceftriaxone (antibiotic)    increased metoprolol for blood pressure    followup instructions:  department: plastic surgery  when: wednesday  &lt;date&gt;  at 3:15 pm  with: &lt;name&gt; &lt;name&gt;, md &lt;telephone&gt;  building: lm &lt;name&gt; bldg (&lt;name&gt;) [**location (un) **]  campus: west     best parking: &lt;name&gt; garage    name: &lt;name&gt;, &lt;name&gt; &lt;name&gt; &lt;name&gt;  location: community physicians associates  address: &lt;hospital&gt;,[**numeric identifier 18406**]  phone: &lt;telephone&gt;  appointment: thursday  &lt;date&gt;  1:15pm    department: infectious disease  when: friday  &lt;date&gt;  at 9:30 am  with: &lt;name&gt; &lt;name&gt;, md &lt;telephone&gt;  building: lm &lt;name&gt; bldg (&lt;name&gt;) &lt;hospital&gt;  campus: west     best parking: &lt;name&gt; garage    name: nabi,&lt;name&gt; md  address: &lt;hospital&gt;,[**numeric identifier 18406**]  phone: &lt;telephone&gt;  **please discuss with the staff at the facility a follow up  appointment with your pcp when you are ready for discharge.      department: plastic surgery  when: wednesday  &lt;date&gt;  at 3:15 pm  with: &lt;name&gt; &lt;name&gt;, md &lt;telephone&gt;  building: lm &lt;name&gt; bldg (&lt;name&gt;) [**location (un) **]  campus: west     best parking: &lt;name&gt; garage    department: infectious disease  when: friday  &lt;date&gt;  at 9:30 am  with: &lt;name&gt; &lt;name&gt;, md &lt;telephone&gt;  building: lm &lt;name&gt; bldg (&lt;name&gt;) &lt;hospital&gt;  campus: west     best parking: &lt;name&gt; garage                                   &lt;name&gt; &lt;name&gt; md [**md number(1) 348**]    completed by: &lt;date&gt;</td>\n",
              "      <td>[V10, 403, 584, V43, 428, 285, 496, 250, V58, 041, 357, 707, 365, 414, 780, 518, 711, 585, 327, V12, E84, E87, 996]</td>\n",
              "      <td>[pulmonary, infectious, hypertension, kidney, obstructive, heart, injury, failure, metoprolol, infection, disease]</td>\n",
              "      <td>[disease, metoprolol, heart, pulmonary, kidney, hypertension, failure, obstructive, infection]</td>\n",
              "      <td>[f9, f21, f18, f38, f24, f41, f6, f13, f14]</td>\n",
              "      <td>{'401': 0.025925925925925925, '427': 0.027777777777777776, '276': 0.0261437908496732, '414': 0.027777777777777776, '272': 0.02867383512544803, '250': 0.027777777777777776, '428': 0.026936026936026935, '518': 0.027777777777777776, '285': 0.025396825396825397, '584': 0.027777777777777776}</td>\n",
              "      <td>[272, 427, 414, 250, 518, 584, 428, 276, 401, 285]</td>\n",
              "      <td>[D62, J449, N170, I5032, E0842, E1142, I2510, E1042, I509, I129, Z794, E1342, G4733, E0942]</td>\n",
              "      <td>[E10, D62, G47, E11, I50, I12, Z79, I25, E09, E13, N17, J44, E08]</td>\n",
              "    </tr>\n",
              "    <tr>\n",
              "      <th>41965</th>\n",
              "      <td>172559.0</td>\n",
              "      <td>discharge diagnosis:  primary:  small bowel obstruction  metastatic prostate cancer  anasarca  malnutrition  dehydration  acute renal failure  aspiration pneumonia  .  secondary:  prostate ca s/p xrt and chemo - rising psa (140), lg rp mass,  oa, lbp, diverticulosis w/ colovesical fistula s/p lar [**5-18**], s/p  ileostomy takedown [**10-18**], open ccy      discharge condition:  stable      discharge instructions:  please call your doctor or return to the er for any of the  following:  * you experience new chest pain, pressure, squeezing or  tightness.  * new or worsening cough or wheezing.  * if you are vomiting and cannot keep in fluids or your  medications.  * you are getting dehydrated due to continued vomiting,  diarrhea or other reasons. signs of dehydration include dry  mouth, rapid heartbeat or feeling dizzy or faint when standing.  * you see blood or dark/black material when you vomit or have a  bowel movement.  * your pain is not improving within 8-12 hours or not gone  within 24 hours. call or return immediately if your pain is  getting worse or is changing location or moving to your chest or    back.  *avoid lifting objects &gt; 5lbs until your follow-up appointment  with the surgeon.  *avoid driving or operating heavy machinery while taking pain  medications.  * you have shaking chills, or a fever greater than 101.5 (f)  degrees or 38(c) degrees.  * any serious change in your symptoms, or any new symptoms that  concern you.  * please resume all regular home medications and take any new  meds  as ordered.  * continue to ambulate several times per day.  .  incision care:  -your staples will be removed at your follow-up appointment with  the surgeon, and steri strips will be applied.  -your steri-strips will fall off on their own. please remove any  remaining strips 7-10 days after surgery.  -you may shower, and wash surgical incisions.  -avoid swimming and baths until your follow-up appointment.  -please call the doctor if you have increased pain, swelling,  redness, or drainage from the incision sites.      followup instructions:  1. please follow-up appointment with dr. &lt;name&gt; (&lt;telephone&gt; on  &lt;date&gt;  at 1:15pm for removal of your staples.  2. you have follow-up appointment with dr. &lt;name&gt; &lt;name&gt;, md  phone:&lt;telephone&gt; date/time: &lt;date&gt;  11:00, and chemotherapy at  provider: &lt;name&gt; &lt;name&gt;, rn phone:&lt;telephone&gt; date/time: &lt;date&gt;   12:00  3. provider: &lt;name&gt;,&lt;name&gt; &lt;name&gt; apg (sb)  phone:&lt;telephone&gt; date/time: &lt;date&gt;  10:10                                 &lt;name&gt; &lt;name&gt; md [**md number(1) 17**]    completed by: &lt;date&gt;</td>\n",
              "      <td>[197, 507, 185, 427, 261, 585, V66, 560, 783, 285, 276]</td>\n",
              "      <td>[dehydration, obstruction, cough, diverticulosis, fever, chest, vomiting, telephone, bowel, swelling, chills, prostate, colovesical, wheezing, phone, vomit, fistula, pain, cancer]</td>\n",
              "      <td>[pain, chills, vomiting, cancer, fever, dehydration, cough, swelling, chest]</td>\n",
              "      <td>[f33, f25, f43, f4, f11, f37]</td>\n",
              "      <td>{'401': 0.02777777777777778, '427': 0.026041666666666668, '276': 0.029411764705882353, '414': 0.026041666666666668, '272': 0.026881720430107527, '250': 0.020833333333333332, '428': 0.0202020202020202, '518': 0.02314814814814815, '285': 0.02380952380952381, '584': 0.026041666666666668}</td>\n",
              "      <td>[276, 401, 272, 427, 414, 584, 285, 518, 250, 428]</td>\n",
              "      <td>[N189, R001, I498, E860, J690, I4892]</td>\n",
              "      <td>[N18, J69, I48, I49, E86, R00]</td>\n",
              "    </tr>\n",
              "    <tr>\n",
              "      <th>41966</th>\n",
              "      <td>135672.0</td>\n",
              "      <td>discharge diagnosis:  peritonitis secondary to small bowel perforation.  cmv enteritis  b-cell lymphoma  line infection  type 2 diabetes controlled without complications  moderate malnutrition  cad bypass vessle      discharge condition:  stable.  tolerating regular diet  pain well controlled with oral medications.      discharge instructions:  you are being discharged on an antiviral medication called  ganciclovir, which can make your diarhea worse for some time.  please contact your doctor if you experience numbness, tingling  or pain in hands or feet, as this may be a side effect of the  medication.    you will be having labs drawn every other day and sent to dr.  &lt;name&gt; of infectious diseases for monitoring of your blood  counts.    *avoid lifting objects &gt; 5lbs until your follow-up appointment  with the surgeon.    *avoid driving or operating heavy machinery while taking pain  medications.    * continue to ambulate several times per day.    incision care:  -your staples will be removed at your follow up appoinetment.  -steri-strips will be applied and will fall off on their own.  please remove any remaining strips 7-10 days after application.  -you may shower, and wash surgical incisions.  -avoid swimming and baths until your follow-up appointment.  -please call the doctor if you have increased pain, swelling,  redness, or drainage from the incision sites.    followup instructions:  you will need to have an ophthalmalogic evaluation to make sure  that there is no evidence of cmv infection of the retina - this  should happen this week.  please call: (&lt;telephone&gt; to  schedule this appointment; if you have any difficulty arranging  this, please discuss this with your primary doctor so that they  can facilitate/arrange this evaluation.    1. please call dr.&lt;name&gt; office, &lt;telephone&gt;, to make a  follow up appointment in [**11-23**] weeks.  scheduled appointments :  provider: &lt;name&gt; &lt;name&gt;, &lt;telephone&gt;  date/time: &lt;date&gt;  10:30  provider: &lt;name&gt; &lt;name&gt;, rn phone:&lt;telephone&gt;  date/time: &lt;date&gt;  11:00  provider: &lt;name&gt; chair 6  date/time: &lt;date&gt;  11:00                                   &lt;name&gt; &lt;name&gt; md [**md number(2) 431**]    completed by: &lt;date&gt;</td>\n",
              "      <td>[202, 401, 584, 255, 283, 238, 038, 785, 250, 008, 041, 272, 996, 078, V45, 567, 569, 273, 995, 263, 579, 782]</td>\n",
              "      <td>[infectious, telephone, bowel, swelling, diseases, phone, perforation, small, infection, numbness, pain]</td>\n",
              "      <td>[infection, swelling, numbness, pain]</td>\n",
              "      <td>[f11, f4, f13]</td>\n",
              "      <td>{'401': 0.03333333333333333, '427': 0.03125, '276': 0.029411764705882353, '414': 0.03125, '272': 0.03225806451612903, '250': 0.03125, '428': 0.030303030303030304, '518': 0.027777777777777776, '285': 0.02857142857142857, '584': 0.03125}</td>\n",
              "      <td>[401, 272, 427, 414, 250, 584, 428, 276, 285, 518]</td>\n",
              "      <td>[N179, I10, A419, R6520, E119, E785, E784, R6521, Z951]</td>\n",
              "      <td>[I10, E78, E11, R65, Z95, N17, A41]</td>\n",
              "    </tr>\n",
              "  </tbody>\n",
              "</table>\n",
              "<p>41967 rows × 10 columns</p>\n",
              "</div>"
            ],
            "text/plain": [
              "        HADM_ID  ...                                                      icd10category\n",
              "0      167118.0  ...                                                         [E87, J44]\n",
              "1      196489.0  ...                                [I10, I95, E78, I25, N17, E03, E87]\n",
              "2      135453.0  ...                                          [J69, I48, I50, Z95, F05]\n",
              "3      170490.0  ...                                                              [K21]\n",
              "4      134727.0  ...                                     [I10, J96, I50, Z79, J18, Z98]\n",
              "...         ...  ...                                                                ...\n",
              "41962  127716.0  ...                                [I10, E78, E11, I27, I35, I25, E66]\n",
              "41963  186377.0  ...       [N39, F17, I48, I50, I12, A04, I25, J91, N17, J44, I34, I21]\n",
              "41964  156564.0  ...  [E10, D62, G47, E11, I50, I12, Z79, I25, E09, E13, N17, J44, E08]\n",
              "41965  172559.0  ...                                     [N18, J69, I48, I49, E86, R00]\n",
              "41966  135672.0  ...                                [I10, E78, E11, R65, Z95, N17, A41]\n",
              "\n",
              "[41967 rows x 10 columns]"
            ]
          },
          "metadata": {
            "tags": []
          },
          "execution_count": 74
        }
      ]
    },
    {
      "cell_type": "code",
      "metadata": {
        "id": "12wWECagBvhx"
      },
      "source": [
        "frequent_icd10category = ['I10', 'I25', 'E78', 'I50', 'I48', 'N17', 'E87', 'E11', 'J96', 'N39']"
      ],
      "execution_count": 75,
      "outputs": []
    },
    {
      "cell_type": "code",
      "metadata": {
        "colab": {
          "base_uri": "https://localhost:8080/",
          "height": 699
        },
        "id": "JJswrIqA9q54",
        "outputId": "82b121df-97f6-4396-d072-457f726ea0b7"
      },
      "source": [
        "category_med_terms={}\r\n",
        "common_diagnosis_terms=[\"monday\",\"telephone\",\"of\",\"phone\"]\r\n",
        "for i in frequent_icd10category:\r\n",
        "    diagnosis_x=diagnosis_icd10category.loc[diagnosis_icd10category.icd10category.apply(lambda x: i in x)].copy()\r\n",
        "    y=diagnosis_x.medical_terms_list.to_list()    \r\n",
        "    z=[list(set(a)) for a in y]\r\n",
        "    z1=[a for b in z for a in b]\r\n",
        "    dict_med=dict(Counter(z1))\r\n",
        "    dict_med=dict(sorted(dict_med.items(),key= lambda x: x[1],reverse=True))\r\n",
        "    dict_med_list=list(dict_med)\r\n",
        "    dict_med_list1=[a for a in dict_med_list if a not in common_diagnosis_terms]\r\n",
        "    category_med_terms[i]=dict_med_list1[:50]\r\n",
        "\r\n",
        "diagnosis_icdcategory_medterms={'icd10category':[i for i in category_med_terms],\r\n",
        "                                'frequent_medterms':[category_med_terms[i] for i in category_med_terms]}\r\n",
        "diagnosis_icdcategory_medterms_df=pd.DataFrame.from_dict(diagnosis_icdcategory_medterms)\r\n",
        "\r\n",
        "diagnosis_icdcategory_medterms_df"
      ],
      "execution_count": 76,
      "outputs": [
        {
          "output_type": "execute_result",
          "data": {
            "text/html": [
              "<div>\n",
              "<style scoped>\n",
              "    .dataframe tbody tr th:only-of-type {\n",
              "        vertical-align: middle;\n",
              "    }\n",
              "\n",
              "    .dataframe tbody tr th {\n",
              "        vertical-align: top;\n",
              "    }\n",
              "\n",
              "    .dataframe thead th {\n",
              "        text-align: right;\n",
              "    }\n",
              "</style>\n",
              "<table border=\"1\" class=\"dataframe\">\n",
              "  <thead>\n",
              "    <tr style=\"text-align: right;\">\n",
              "      <th></th>\n",
              "      <th>icd10category</th>\n",
              "      <th>frequent_medterms</th>\n",
              "    </tr>\n",
              "  </thead>\n",
              "  <tbody>\n",
              "    <tr>\n",
              "      <th>0</th>\n",
              "      <td>I10</td>\n",
              "      <td>[pain, fever, chest, shortness, infection, breath, redness, aspirin, hypertension, atrial, fibrillation, chills, disease, coumadin, bleeding, failure, pneumonia, vomiting, fevers, constipation, swelling, nausea, abdominal, heart, diabetes, erythema, cough, weakness, anemia, metoprolol, headache, confusion, mouth, numbness, weight, diarrhea, gain, lisinopril, loss, cancer, blood, infarction, seizures, pulmonary, myocardial, stroke, bleed, motrin, artery, tylenol]</td>\n",
              "    </tr>\n",
              "    <tr>\n",
              "      <th>1</th>\n",
              "      <td>I25</td>\n",
              "      <td>[pain, chest, fever, shortness, infection, breath, disease, redness, atrial, failure, fibrillation, aspirin, heart, coumadin, hypertension, myocardial, infarction, erythema, bleeding, weight, chills, gain, diabetes, metoprolol, artery, renal, coronary, pneumonia, fevers, lisinopril, anemia, vomiting, sodium, chronic, nausea, mellitus, abdominal, constipation, pulmonary, swelling, edema, cough, mouth, congestive, cholesterol, bleed, cancer, blood, loss, diarrhea]</td>\n",
              "    </tr>\n",
              "    <tr>\n",
              "      <th>2</th>\n",
              "      <td>E78</td>\n",
              "      <td>[pain, fever, chest, infection, shortness, breath, redness, aspirin, atrial, disease, fibrillation, failure, coumadin, hypertension, bleeding, chills, heart, erythema, pneumonia, diabetes, constipation, vomiting, fevers, metoprolol, swelling, weight, renal, gain, nausea, anemia, abdominal, infarction, myocardial, lisinopril, cough, mouth, weakness, cancer, artery, confusion, mellitus, headache, pulmonary, loss, chronic, hyperlipidemia, diarrhea, blood, numbness, tylenol]</td>\n",
              "    </tr>\n",
              "    <tr>\n",
              "      <th>3</th>\n",
              "      <td>I50</td>\n",
              "      <td>[pain, failure, shortness, chest, heart, breath, atrial, fibrillation, disease, infection, fever, pneumonia, coumadin, chills, renal, hypertension, fevers, sodium, aspirin, metoprolol, bleeding, chronic, anemia, congestive, diabetes, redness, pulmonary, vomiting, nausea, lisinopril, abdominal, oxygen, myocardial, infarction, respiratory, artery, systolic, coronary, mouth, urinary, cough, blood, mellitus, swelling, tract, bleed, weight, acute, diarrhea, gain]</td>\n",
              "    </tr>\n",
              "    <tr>\n",
              "      <th>4</th>\n",
              "      <td>I48</td>\n",
              "      <td>[atrial, pain, fibrillation, coumadin, shortness, chest, fever, failure, infection, breath, disease, heart, redness, pneumonia, chills, aspirin, hypertension, bleeding, metoprolol, renal, fevers, anemia, erythema, vomiting, abdominal, sodium, weight, gain, nausea, chronic, diabetes, pulmonary, warfarin, constipation, bleed, stroke, cough, swelling, cancer, mouth, diarrhea, artery, urinary, congestive, blood, tract, respiratory, oxygen, lisinopril, amiodarone]</td>\n",
              "    </tr>\n",
              "    <tr>\n",
              "      <th>5</th>\n",
              "      <td>N17</td>\n",
              "      <td>[pain, failure, shortness, chest, infection, breath, renal, disease, pneumonia, fever, atrial, chills, fibrillation, heart, fevers, chronic, hypertension, vomiting, bleeding, acute, abdominal, coumadin, anemia, nausea, diabetes, aspirin, metoprolol, kidney, diarrhea, sodium, respiratory, mouth, urinary, lisinopril, tract, blood, pulmonary, cough, cancer, redness, sepsis, swelling, oxygen, constipation, bleed, loss, confusion, congestive, mellitus, dizziness]</td>\n",
              "    </tr>\n",
              "    <tr>\n",
              "      <th>6</th>\n",
              "      <td>E87</td>\n",
              "      <td>[pain, infection, shortness, failure, chest, breath, pneumonia, fever, disease, chills, atrial, fibrillation, fevers, renal, bleeding, vomiting, hypertension, abdominal, heart, nausea, aspirin, anemia, coumadin, chronic, diabetes, diarrhea, metoprolol, respiratory, mouth, sodium, constipation, redness, confusion, urinary, swelling, acute, cough, tract, alcohol, blood, pulmonary, cancer, lisinopril, oxygen, kidney, loss, bleed, sepsis, weakness, seizures]</td>\n",
              "    </tr>\n",
              "    <tr>\n",
              "      <th>7</th>\n",
              "      <td>E11</td>\n",
              "      <td>[pain, shortness, chest, fever, breath, infection, failure, diabetes, disease, chills, atrial, fibrillation, redness, heart, aspirin, hypertension, bleeding, coumadin, fevers, pneumonia, mellitus, vomiting, renal, nausea, abdominal, metoprolol, anemia, constipation, swelling, chronic, sodium, cough, erythema, mouth, lisinopril, diarrhea, blood, confusion, artery, weight, pulmonary, infarction, gain, bleed, weakness, myocardial, respiratory, oxygen, urinary, loss]</td>\n",
              "    </tr>\n",
              "    <tr>\n",
              "      <th>8</th>\n",
              "      <td>J96</td>\n",
              "      <td>[pain, pneumonia, failure, shortness, breath, chest, respiratory, infection, disease, fever, chills, atrial, fibrillation, fevers, heart, hypertension, renal, vomiting, oxygen, pulmonary, nausea, anemia, cough, abdominal, aspirin, coumadin, bleeding, chronic, metoprolol, mouth, diarrhea, diabetes, sepsis, cancer, constipation, confusion, acute, sodium, swelling, prednisone, arrest, urinary, weakness, blood, lisinopril, lung, redness, tract, obstructive, seizures]</td>\n",
              "    </tr>\n",
              "    <tr>\n",
              "      <th>9</th>\n",
              "      <td>N39</td>\n",
              "      <td>[pain, infection, urinary, tract, shortness, chest, breath, fever, failure, disease, atrial, fibrillation, chills, pneumonia, fevers, bleeding, aspirin, coumadin, hypertension, renal, heart, vomiting, anemia, nausea, abdominal, redness, constipation, chronic, confusion, diarrhea, metoprolol, diabetes, weakness, swelling, mouth, sodium, blood, cancer, seizures, respiratory, bleed, stroke, cough, pulmonary, loss, headache, numbness, acute, fracture, sepsis]</td>\n",
              "    </tr>\n",
              "  </tbody>\n",
              "</table>\n",
              "</div>"
            ],
            "text/plain": [
              "  icd10category                                                                                                                                                                                                                                                                                                                                                                                                                                                                            frequent_medterms\n",
              "0           I10           [pain, fever, chest, shortness, infection, breath, redness, aspirin, hypertension, atrial, fibrillation, chills, disease, coumadin, bleeding, failure, pneumonia, vomiting, fevers, constipation, swelling, nausea, abdominal, heart, diabetes, erythema, cough, weakness, anemia, metoprolol, headache, confusion, mouth, numbness, weight, diarrhea, gain, lisinopril, loss, cancer, blood, infarction, seizures, pulmonary, myocardial, stroke, bleed, motrin, artery, tylenol]\n",
              "1           I25           [pain, chest, fever, shortness, infection, breath, disease, redness, atrial, failure, fibrillation, aspirin, heart, coumadin, hypertension, myocardial, infarction, erythema, bleeding, weight, chills, gain, diabetes, metoprolol, artery, renal, coronary, pneumonia, fevers, lisinopril, anemia, vomiting, sodium, chronic, nausea, mellitus, abdominal, constipation, pulmonary, swelling, edema, cough, mouth, congestive, cholesterol, bleed, cancer, blood, loss, diarrhea]\n",
              "2           E78  [pain, fever, chest, infection, shortness, breath, redness, aspirin, atrial, disease, fibrillation, failure, coumadin, hypertension, bleeding, chills, heart, erythema, pneumonia, diabetes, constipation, vomiting, fevers, metoprolol, swelling, weight, renal, gain, nausea, anemia, abdominal, infarction, myocardial, lisinopril, cough, mouth, weakness, cancer, artery, confusion, mellitus, headache, pulmonary, loss, chronic, hyperlipidemia, diarrhea, blood, numbness, tylenol]\n",
              "3           I50               [pain, failure, shortness, chest, heart, breath, atrial, fibrillation, disease, infection, fever, pneumonia, coumadin, chills, renal, hypertension, fevers, sodium, aspirin, metoprolol, bleeding, chronic, anemia, congestive, diabetes, redness, pulmonary, vomiting, nausea, lisinopril, abdominal, oxygen, myocardial, infarction, respiratory, artery, systolic, coronary, mouth, urinary, cough, blood, mellitus, swelling, tract, bleed, weight, acute, diarrhea, gain]\n",
              "4           I48              [atrial, pain, fibrillation, coumadin, shortness, chest, fever, failure, infection, breath, disease, heart, redness, pneumonia, chills, aspirin, hypertension, bleeding, metoprolol, renal, fevers, anemia, erythema, vomiting, abdominal, sodium, weight, gain, nausea, chronic, diabetes, pulmonary, warfarin, constipation, bleed, stroke, cough, swelling, cancer, mouth, diarrhea, artery, urinary, congestive, blood, tract, respiratory, oxygen, lisinopril, amiodarone]\n",
              "5           N17               [pain, failure, shortness, chest, infection, breath, renal, disease, pneumonia, fever, atrial, chills, fibrillation, heart, fevers, chronic, hypertension, vomiting, bleeding, acute, abdominal, coumadin, anemia, nausea, diabetes, aspirin, metoprolol, kidney, diarrhea, sodium, respiratory, mouth, urinary, lisinopril, tract, blood, pulmonary, cough, cancer, redness, sepsis, swelling, oxygen, constipation, bleed, loss, confusion, congestive, mellitus, dizziness]\n",
              "6           E87                   [pain, infection, shortness, failure, chest, breath, pneumonia, fever, disease, chills, atrial, fibrillation, fevers, renal, bleeding, vomiting, hypertension, abdominal, heart, nausea, aspirin, anemia, coumadin, chronic, diabetes, diarrhea, metoprolol, respiratory, mouth, sodium, constipation, redness, confusion, urinary, swelling, acute, cough, tract, alcohol, blood, pulmonary, cancer, lisinopril, oxygen, kidney, loss, bleed, sepsis, weakness, seizures]\n",
              "7           E11          [pain, shortness, chest, fever, breath, infection, failure, diabetes, disease, chills, atrial, fibrillation, redness, heart, aspirin, hypertension, bleeding, coumadin, fevers, pneumonia, mellitus, vomiting, renal, nausea, abdominal, metoprolol, anemia, constipation, swelling, chronic, sodium, cough, erythema, mouth, lisinopril, diarrhea, blood, confusion, artery, weight, pulmonary, infarction, gain, bleed, weakness, myocardial, respiratory, oxygen, urinary, loss]\n",
              "8           J96          [pain, pneumonia, failure, shortness, breath, chest, respiratory, infection, disease, fever, chills, atrial, fibrillation, fevers, heart, hypertension, renal, vomiting, oxygen, pulmonary, nausea, anemia, cough, abdominal, aspirin, coumadin, bleeding, chronic, metoprolol, mouth, diarrhea, diabetes, sepsis, cancer, constipation, confusion, acute, sodium, swelling, prednisone, arrest, urinary, weakness, blood, lisinopril, lung, redness, tract, obstructive, seizures]\n",
              "9           N39                  [pain, infection, urinary, tract, shortness, chest, breath, fever, failure, disease, atrial, fibrillation, chills, pneumonia, fevers, bleeding, aspirin, coumadin, hypertension, renal, heart, vomiting, anemia, nausea, abdominal, redness, constipation, chronic, confusion, diarrhea, metoprolol, diabetes, weakness, swelling, mouth, sodium, blood, cancer, seizures, respiratory, bleed, stroke, cough, pulmonary, loss, headache, numbness, acute, fracture, sepsis]"
            ]
          },
          "metadata": {
            "tags": []
          },
          "execution_count": 76
        }
      ]
    },
    {
      "cell_type": "code",
      "metadata": {
        "id": "7LUg1NM49qsv"
      },
      "source": [
        "bagofwords=list(set([a for b in diagnosis_icdcategory_medterms_df.frequent_medterms.to_list() for a in b]))"
      ],
      "execution_count": null,
      "outputs": []
    },
    {
      "cell_type": "code",
      "metadata": {
        "id": "dige6yxAD1UR"
      },
      "source": [
        "simi_matrix=np.zeros((len(bagofwords),len(bagofwords)))"
      ],
      "execution_count": null,
      "outputs": []
    },
    {
      "cell_type": "code",
      "metadata": {
        "id": "yjbBulauEE_C"
      },
      "source": [
        "simi_matrix.shape"
      ],
      "execution_count": null,
      "outputs": []
    },
    {
      "cell_type": "code",
      "metadata": {
        "id": "4HylygWREE6g"
      },
      "source": [
        "for i in tqdm(range(len(bagofwords))):\r\n",
        "  for j in range(len(bagofwords)):\r\n",
        "    simi_matrix[i][j]=model.similarity(bagofwords[i],bagofwords[j])"
      ],
      "execution_count": null,
      "outputs": []
    },
    {
      "cell_type": "code",
      "metadata": {
        "id": "6qssXgGzEE1m"
      },
      "source": [
        "features={}\r\n",
        "for i in range(len(bagofwords)-1):\r\n",
        "  similar=[]\r\n",
        "  for j in range(i+1,len(bagofwords)):\r\n",
        "    if simi_matrix[i][j]>=0.7:\r\n",
        "      similar.append(bagofwords[j])\r\n",
        "  features[bagofwords[i]]=similar\r\n",
        "features[bagofwords[-1]]=[]    \r\n"
      ],
      "execution_count": null,
      "outputs": []
    },
    {
      "cell_type": "code",
      "metadata": {
        "id": "wH0RIJ5NEEwS"
      },
      "source": [
        "len(features)"
      ],
      "execution_count": null,
      "outputs": []
    },
    {
      "cell_type": "code",
      "metadata": {
        "id": "sHQCIoRbEEsA"
      },
      "source": [
        "features_list=[features[k]+[k] for k in list(features)]"
      ],
      "execution_count": null,
      "outputs": []
    },
    {
      "cell_type": "code",
      "metadata": {
        "id": "BrH8EhkBEEmd"
      },
      "source": [
        "condensed_feature = list(merge_common(features_list)) "
      ],
      "execution_count": null,
      "outputs": []
    },
    {
      "cell_type": "code",
      "metadata": {
        "id": "Z4Bj8fCvEEbi"
      },
      "source": [
        "condensed_feature_dict={}\r\n",
        "count=0\r\n",
        "for i in condensed_feature:\r\n",
        "  condensed_feature_dict['f'+str(count)]=i\r\n",
        "  count+=1"
      ],
      "execution_count": null,
      "outputs": []
    },
    {
      "cell_type": "code",
      "metadata": {
        "id": "lVOAQdFwEEQI"
      },
      "source": [
        "all_vocab=[a for b in condensed_feature for a in b]"
      ],
      "execution_count": null,
      "outputs": []
    },
    {
      "cell_type": "code",
      "metadata": {
        "id": "9IUPH-dzHFtC"
      },
      "source": [
        "diagnosis_icd10category['med_terms_condensed']=diagnosis_icd10category.medical_terms_list.progress_apply(lambda x:list(set(x).intersection(set(all_vocab))))\n",
        "diagnosis_icd10category['features']=diagnosis_icd10category.med_terms_condensed.progress_apply(lambda x:return_feature(x))"
      ],
      "execution_count": null,
      "outputs": []
    },
    {
      "cell_type": "code",
      "metadata": {
        "id": "m3_Ml0grHFkH"
      },
      "source": [
        "diagnosis_icdcategory_medterms_df['feature']=diagnosis_icdcategory_medterms_df.frequent_medterms.progress_apply(lambda x:return_feature(x))"
      ],
      "execution_count": null,
      "outputs": []
    },
    {
      "cell_type": "code",
      "metadata": {
        "id": "bldqNOqBHFfz"
      },
      "source": [
        "def predict_icd(x):\r\n",
        "  category_weights={}\r\n",
        "  if len(x):\r\n",
        "    for item1 in frequent_icd10category:\r\n",
        "      category_features=[a for b in diagnosis_icdcategory_medterms_df.loc[diagnosis_icdcategory_medterms_df.icd10category==item1].feature.to_list() for a in b]\r\n",
        "      count=len(list(set(x).intersection(set(category_features))))\r\n",
        "      category_weights[item1]=count/len(x)/len(category_features)\r\n",
        "  else:\r\n",
        "    for item1 in frequent_icd10category:\r\n",
        "      category_weights[item1]=0.0\r\n",
        "\r\n",
        "      \r\n",
        "  return category_weights\r\n",
        "  "
      ],
      "execution_count": null,
      "outputs": []
    },
    {
      "cell_type": "code",
      "metadata": {
        "id": "iyobkpQLHFbY"
      },
      "source": [
        "diagnosis_icd10category['predicted_icd_weigths']=diagnosis_icd10category.features.progress_apply(lambda x:predict_icd(x))\n",
        "diagnosis_icd10category['predicted_icd']=diagnosis_icd10category.predicted_icd_weigths.progress_apply(predictbasedonwts)"
      ],
      "execution_count": null,
      "outputs": []
    },
    {
      "cell_type": "code",
      "metadata": {
        "id": "ou8WihqoJT9d"
      },
      "source": [
        "result_predict={'category':[],'precision':[],'recall':[],'f1':[]}\r\n",
        "for i in frequent_icd10category:\r\n",
        "  actual_p=diagnosis_icd10category.loc[diagnosis_icd10category.icd10category.apply(lambda x:i in x)].HADM_ID.count()\r\n",
        "  tp=diagnosis_icd10category.loc[(diagnosis_icd10category.icd10category.apply(lambda x:i in x))&(diagnosis_icd10category.predicted_icd.apply(lambda x:i in x))].HADM_ID.count()\r\n",
        "  predict_p=diagnosis_icd10category.loc[diagnosis_icd10category.predicted_icd.apply(lambda x:i in x)].HADM_ID.count()\r\n",
        "  precision=tp/predict_p\r\n",
        "  recall=tp/actual_p\r\n",
        "  f1=2*precision*recall/(precision+recall)\r\n",
        "  result_predict['category'].append(i)\r\n",
        "  result_predict['precision'].append(precision)\r\n",
        "  result_predict['recall'].append(recall)\r\n",
        "  result_predict['f1'].append(f1)"
      ],
      "execution_count": null,
      "outputs": []
    },
    {
      "cell_type": "code",
      "metadata": {
        "id": "H0pvKqlEJT4-"
      },
      "source": [
        "pd.DataFrame.from_dict(result_predict)"
      ],
      "execution_count": null,
      "outputs": []
    },
    {
      "cell_type": "code",
      "metadata": {
        "id": "xkC1ZkoLJTz5"
      },
      "source": [
        "total_predicted=len([a for b in diagnosis_icd10category.predicted_icd.to_list() for a in b])\r\n",
        "print(total_predicted)\r\n",
        "actual=len([a for b in diagnosis_icd10category.icd10category.apply(lambda x : [i for i in x if i in frequent_icd10category]).to_list() for a in b])\r\n",
        "print(actual)\r\n",
        "actual_predicted=0\r\n",
        "for i in frequent_icd10category:\r\n",
        "  actual_predicted += diagnosis_icd10category.loc[(diagnosis_icd10category.icd10category.apply(lambda x:i in x))&(diagnosis_icd10category.predicted_icd.apply(lambda x:i in x))].HADM_ID.count()\r\n",
        "print(actual_predicted)\r\n",
        "recall=actual_predicted/actual\r\n",
        "presicion=actual_predicted/total_predicted\r\n",
        "print(recall)\r\n",
        "print(presicion)\r\n",
        "print(2*presicion*recall/(presicion + recall))"
      ],
      "execution_count": null,
      "outputs": []
    },
    {
      "cell_type": "code",
      "metadata": {
        "id": "RR7vY1lMKBKd"
      },
      "source": [
        "mlb = MultiLabelBinarizer(frequent_icd10category)\r\n",
        "print(accuracy_score(mlb.fit_transform(diagnosis_icd10category.icd10category.values),mlb.fit_transform(diagnosis_icd10category.predicted_icd.values)))\r\n",
        "print(hamming_loss(mlb.fit_transform(diagnosis_icd10category.icd10category.values),mlb.fit_transform(diagnosis_icd10category.predicted_icd.values)))\r\n",
        "print(precision_score(mlb.fit_transform(diagnosis_icd10category.icd10category.values),mlb.fit_transform(diagnosis_icd10category.predicted_icd.values), average = \"micro\"))\r\n",
        "print(recall_score(mlb.fit_transform(diagnosis_icd10category.icd10category.values),mlb.fit_transform(diagnosis_icd10category.predicted_icd.values),average = \"micro\"))\r\n",
        "print(f1_score(mlb.fit_transform(diagnosis_icd10category.icd10category.values),mlb.fit_transform(diagnosis_icd10category.predicted_icd.values),average = \"micro\"))\r\n",
        "print(classification_report(mlb.fit_transform(diagnosis_icd10category.icd10category.values),mlb.fit_transform(diagnosis_icd10category.predicted_icd.values),target_names=mlb.classes_))"
      ],
      "execution_count": null,
      "outputs": []
    },
    {
      "cell_type": "code",
      "metadata": {
        "id": "vUd4cWO_Kqid"
      },
      "source": [
        ""
      ],
      "execution_count": null,
      "outputs": []
    },
    {
      "cell_type": "code",
      "metadata": {
        "id": "iNXf8x4eKqCv"
      },
      "source": [
        "diagnosis_term_codes=pd.merge(diagnosis_icd9category_token[['HADM_ID','discharge diagnosis:', 'medical_terms_list']],adm_icd,on=\"HADM_ID\",how=\"left\")"
      ],
      "execution_count": null,
      "outputs": []
    },
    {
      "cell_type": "code",
      "metadata": {
        "id": "k6nrIGqZOBms"
      },
      "source": [
        "diagnosis_terms_codes['ICD9_CODE']=diagnosis_terms_codes.ICD9_CODE.apply(lambda x:list(set(re.split(\",\",x))))\r\n",
        "diagnosis_terms_codes['ICD10']=diagnosis_terms_codes.ICD10.apply(lambda x:list(set(re.split(\",\",x))))"
      ],
      "execution_count": null,
      "outputs": []
    },
    {
      "cell_type": "code",
      "metadata": {
        "id": "Xtcmo9NYOBPQ"
      },
      "source": [
        "diagnosis_terms_codes['ICD10']=diagnosis_terms_codes.ICD10.apply(lambda x:[a for a in x if a!=\"Misc\"])"
      ],
      "execution_count": null,
      "outputs": []
    },
    {
      "cell_type": "code",
      "metadata": {
        "id": "cfr578Y1OUFN"
      },
      "source": [
        "frequent_icd9codes = ['4019', '4280', '42731', '41401', '5849', '25000', '2724', '51881', '5990', '53081']"
      ],
      "execution_count": null,
      "outputs": []
    },
    {
      "cell_type": "code",
      "metadata": {
        "id": "PKOR1s2iOg09"
      },
      "source": [
        "code_med_terms={}\r\n",
        "common_diagnosis_terms=[\"monday\",\"telephone\",\"of\",\"phone\"]\r\n",
        "for i in frequent_icd9codes:\r\n",
        "    diagnosis_x=diagnosis_terms_codes.loc[diagnosis_terms_codes.ICD9_CODE.apply(lambda x: i in x)].copy()\r\n",
        "    y=diagnosis_x.medical_terms_list.to_list()    \r\n",
        "    z=[list(set(a)) for a in y]\r\n",
        "    z1=[a for b in z for a in b]\r\n",
        "    dict_med=dict(Counter(z1))\r\n",
        "    dict_med=dict(sorted(dict_med.items(),key= lambda x: x[1],reverse=True))\r\n",
        "    dict_med_list=list(dict_med)\r\n",
        "    dict_med_list1=[a for a in dict_med_list if a not in common_diagnosis_terms]\r\n",
        "    code_med_terms[i]=dict_med_list1[:50]\r\n",
        "\r\n",
        "diagnosis_icdcategory_medterms={'icd9code':[i for i in code_med_terms],\r\n",
        "                                'frequent_medterms':[code_med_terms[i] for i in code_med_terms]}\r\n",
        "diagnosis_icdcategory_medterms_df=pd.DataFrame.from_dict(diagnosis_icdcategory_medterms)\r\n",
        "\r\n",
        "display(diagnosis_icdcategory_medterms_df)\r\n",
        "\r\n",
        "bagofwords=list(set([a for b in diagnosis_icdcategory_medterms_df.frequent_medterms.to_list() for a in b]))\r\n",
        "simi_matrix=np.zeros((len(bagofwords),len(bagofwords)))\r\n",
        "\r\n",
        "for i in tqdm(range(len(bagofwords))):\r\n",
        "  for j in range(len(bagofwords)):\r\n",
        "    simi_matrix[i][j]=model.similarity(bagofwords[i],bagofwords[j])\r\n",
        "\r\n",
        "features={}\r\n",
        "for i in range(len(bagofwords)-1):\r\n",
        "  similar=[]\r\n",
        "  for j in range(i+1,len(bagofwords)):\r\n",
        "    if simi_matrix[i][j]>=0.7:\r\n",
        "      similar.append(bagofwords[j])\r\n",
        "  features[bagofwords[i]]=similar\r\n",
        "features[bagofwords[-1]]=[]    \r\n",
        "\r\n",
        "features_list=[features[k]+[k] for k in list(features)]\r\n",
        "\r\n",
        "condensed_feature = list(merge_common(features_list)) \r\n",
        "\r\n",
        "condensed_feature_dict={}\r\n",
        "count=0\r\n",
        "for i in condensed_feature:\r\n",
        "  condensed_feature_dict['f'+str(count)]=i\r\n",
        "  count+=1\r\n",
        "\r\n",
        "all_vocab=[a for b in condensed_feature for a in b]\r\n",
        "\r\n",
        "diagnosis_terms_codes['med_terms_condensed']=diagnosis_terms_codes.medical_terms_list.progress_apply(lambda x:list(set(x).intersection(set(all_vocab))))\r\n",
        "diagnosis_terms_codes['features']=diagnosis_terms_codes.med_terms_condensed.progress_apply(lambda x:return_feature(x))\r\n",
        "\r\n",
        "diagnosis_icdcategory_medterms_df['feature']=diagnosis_icdcategory_medterms_df.frequent_medterms.progress_apply(lambda x:return_feature(x))\r\n",
        "\r\n",
        "\r\n",
        "def predict_icd(x):\r\n",
        "  category_weights={}\r\n",
        "  if len(x):\r\n",
        "    for item1 in frequent_icd9codes:\r\n",
        "      category_features=[a for b in diagnosis_icdcategory_medterms_df.loc[diagnosis_icdcategory_medterms_df.icd9code==item1].feature.to_list() for a in b]\r\n",
        "      count=len(list(set(x).intersection(set(category_features))))\r\n",
        "      category_weights[item1]=count/len(x)/len(category_features)\r\n",
        "  else:\r\n",
        "    for item1 in frequent_icd9codes:\r\n",
        "      category_weights[item1]=0.0\r\n",
        "\r\n",
        "      \r\n",
        "  return category_weights\r\n",
        "\r\n",
        "\r\n",
        "\r\n",
        "diagnosis_terms_codes['predicted_icd_weigths']=diagnosis_terms_codes.features.progress_apply(lambda x:predict_icd(x))\r\n",
        "diagnosis_terms_codes['predicted_icd']=diagnosis_terms_codes.predicted_icd_weigths.progress_apply(predictbasedonwts)\r\n",
        "\r\n",
        "\r\n",
        "result_predict={'category':[],'precision':[],'recall':[],'f1':[]}\r\n",
        "for i in frequent_icd9codes:\r\n",
        "  actual_p=diagnosis_terms_codes.loc[diagnosis_terms_codes.ICD9_CODE.apply(lambda x:i in x)].HADM_ID.count()\r\n",
        "  tp=diagnosis_terms_codes.loc[(diagnosis_terms_codes.ICD9_CODE.apply(lambda x:i in x))&(diagnosis_terms_codes.predicted_icd.apply(lambda x:i in x))].HADM_ID.count()\r\n",
        "  predict_p=diagnosis_terms_codes.loc[diagnosis_terms_codes.predicted_icd.apply(lambda x:i in x)].HADM_ID.count()\r\n",
        "  precision=tp/predict_p\r\n",
        "  recall=tp/actual_p\r\n",
        "  f1=2*precision*recall/(precision+recall)\r\n",
        "  result_predict['category'].append(i)\r\n",
        "  result_predict['precision'].append(precision)\r\n",
        "  result_predict['recall'].append(recall)\r\n",
        "  result_predict['f1'].append(f1)\r\n",
        "\r\n",
        "\r\n",
        "\r\n",
        "display(pd.DataFrame.from_dict(result_predict))\r\n",
        "\r\n",
        "\r\n",
        "total_predicted=len([a for b in diagnosis_terms_codes.predicted_icd.to_list() for a in b])\r\n",
        "print(total_predicted)\r\n",
        "actual=len([a for b in diagnosis_terms_codes.ICD9_CODE.apply(lambda x : [i for i in x if i in frequent_icd9codes]).to_list() for a in b])\r\n",
        "print(actual)\r\n",
        "actual_predicted=0\r\n",
        "for i in frequent_icd9codes:\r\n",
        "  actual_predicted += diagnosis_terms_codes.loc[(diagnosis_terms_codes.ICD9_CODE.apply(lambda x:i in x))&(diagnosis_terms_codes.predicted_icd.apply(lambda x:i in x))].HADM_ID.count()\r\n",
        "print(actual_predicted)\r\n",
        "recall=actual_predicted/actual\r\n",
        "presicion=actual_predicted/total_predicted\r\n",
        "print(recall)\r\n",
        "print(presicion)\r\n",
        "print(2*presicion*recall/(presicion + recall))\r\n"
      ],
      "execution_count": null,
      "outputs": []
    },
    {
      "cell_type": "code",
      "metadata": {
        "id": "BN_FE2CQW61e"
      },
      "source": [
        "mlb = MultiLabelBinarizer(frequent_icd9codes)\r\n",
        "print(accuracy_score(mlb.fit_transform(diagnosis_terms_codes.ICD9_CODE.values),mlb.fit_transform(diagnosis_terms_codes.predicted_icd.values)))\r\n",
        "print(hamming_loss(mlb.fit_transform(diagnosis_terms_codes.ICD9_CODE.values),mlb.fit_transform(diagnosis_terms_codes.predicted_icd.values)))\r\n",
        "print(precision_score(mlb.fit_transform(diagnosis_terms_codes.ICD9_CODE.values),mlb.fit_transform(diagnosis_terms_codes.predicted_icd.values), average = \"micro\"))\r\n",
        "print(recall_score(mlb.fit_transform(diagnosis_terms_codes.ICD9_CODE.values),mlb.fit_transform(diagnosis_terms_codes.predicted_icd.values),average = \"micro\"))\r\n",
        "print(f1_score(mlb.fit_transform(diagnosis_terms_codes.ICD9_CODE.values),mlb.fit_transform(diagnosis_terms_codes.predicted_icd.values),average = \"micro\"))\r\n",
        "print(classification_report(mlb.fit_transform(diagnosis_terms_codes.ICD9_CODE.values),mlb.fit_transform(diagnosis_terms_codes.predicted_icd.values),target_names=mlb.classes_))"
      ],
      "execution_count": null,
      "outputs": []
    },
    {
      "cell_type": "code",
      "metadata": {
        "id": "_N5vfzpvOgnE"
      },
      "source": [
        ""
      ],
      "execution_count": null,
      "outputs": []
    },
    {
      "cell_type": "code",
      "metadata": {
        "id": "5KGo3xWoOgWT"
      },
      "source": [
        "frequent_icd10codes = ['I10', 'I2510', 'I509', 'I4891', 'N179', 'E119', 'E784', 'E785', 'J9690', 'J9600']"
      ],
      "execution_count": null,
      "outputs": []
    },
    {
      "cell_type": "code",
      "metadata": {
        "id": "7cUzkCsyTJp6"
      },
      "source": [
        "code_med_terms={}\r\n",
        "common_diagnosis_terms=[\"monday\",\"telephone\",\"of\",\"phone\"]\r\n",
        "for i in frequent_icd10codes:\r\n",
        "    diagnosis_x=diagnosis_terms_codes.loc[diagnosis_terms_codes.ICD10.apply(lambda x: i in x)].copy()\r\n",
        "    y=diagnosis_x.medical_terms_list.to_list()    \r\n",
        "    z=[list(set(a)) for a in y]\r\n",
        "    z1=[a for b in z for a in b]\r\n",
        "    dict_med=dict(Counter(z1))\r\n",
        "    dict_med=dict(sorted(dict_med.items(),key= lambda x: x[1],reverse=True))\r\n",
        "    dict_med_list=list(dict_med)\r\n",
        "    dict_med_list1=[a for a in dict_med_list if a not in common_diagnosis_terms]\r\n",
        "    code_med_terms[i]=dict_med_list1[:50]\r\n",
        "\r\n",
        "diagnosis_icdcategory_medterms={'icd10code':[i for i in code_med_terms],\r\n",
        "                                'frequent_medterms':[code_med_terms[i] for i in code_med_terms]}\r\n",
        "diagnosis_icdcategory_medterms_df=pd.DataFrame.from_dict(diagnosis_icdcategory_medterms)\r\n",
        "\r\n",
        "display(diagnosis_icdcategory_medterms_df)\r\n",
        "\r\n",
        "bagofwords=list(set([a for b in diagnosis_icdcategory_medterms_df.frequent_medterms.to_list() for a in b]))\r\n",
        "simi_matrix=np.zeros((len(bagofwords),len(bagofwords)))\r\n",
        "\r\n",
        "for i in tqdm(range(len(bagofwords))):\r\n",
        "  for j in range(len(bagofwords)):\r\n",
        "    simi_matrix[i][j]=model.similarity(bagofwords[i],bagofwords[j])\r\n",
        "\r\n",
        "features={}\r\n",
        "for i in range(len(bagofwords)-1):\r\n",
        "  similar=[]\r\n",
        "  for j in range(i+1,len(bagofwords)):\r\n",
        "    if simi_matrix[i][j]>=0.7:\r\n",
        "      similar.append(bagofwords[j])\r\n",
        "  features[bagofwords[i]]=similar\r\n",
        "features[bagofwords[-1]]=[]    \r\n",
        "\r\n",
        "features_list=[features[k]+[k] for k in list(features)]\r\n",
        "\r\n",
        "condensed_feature = list(merge_common(features_list)) \r\n",
        "\r\n",
        "condensed_feature_dict={}\r\n",
        "count=0\r\n",
        "for i in condensed_feature:\r\n",
        "  condensed_feature_dict['f'+str(count)]=i\r\n",
        "  count+=1\r\n",
        "\r\n",
        "all_vocab=[a for b in condensed_feature for a in b]\r\n",
        "\r\n",
        "diagnosis_terms_codes['med_terms_condensed']=diagnosis_terms_codes.medical_terms_list.progress_apply(lambda x:list(set(x).intersection(set(all_vocab))))\r\n",
        "diagnosis_terms_codes['features']=diagnosis_terms_codes.med_terms_condensed.progress_apply(lambda x:return_feature(x))\r\n",
        "\r\n",
        "diagnosis_icdcategory_medterms_df['feature']=diagnosis_icdcategory_medterms_df.frequent_medterms.progress_apply(lambda x:return_feature(x))\r\n",
        "\r\n",
        "\r\n",
        "def predict_icd(x):\r\n",
        "  category_weights={}\r\n",
        "  if len(x):\r\n",
        "    for item1 in frequent_icd10codes:\r\n",
        "      category_features=[a for b in diagnosis_icdcategory_medterms_df.loc[diagnosis_icdcategory_medterms_df.icd10code==item1].feature.to_list() for a in b]\r\n",
        "      count=len(list(set(x).intersection(set(category_features))))\r\n",
        "      category_weights[item1]=count/len(x)/len(category_features)\r\n",
        "  else:\r\n",
        "    for item1 in frequent_icd10codes:\r\n",
        "      category_weights[item1]=0.0\r\n",
        "\r\n",
        "      \r\n",
        "  return category_weights\r\n",
        "\r\n",
        "\r\n",
        "\r\n",
        "diagnosis_terms_codes['predicted_icd_weigths']=diagnosis_terms_codes.features.progress_apply(lambda x:predict_icd(x))\r\n",
        "diagnosis_terms_codes['predicted_icd']=diagnosis_terms_codes.predicted_icd_weigths.progress_apply(predictbasedonwts)\r\n",
        "\r\n",
        "\r\n",
        "result_predict={'category':[],'precision':[],'recall':[],'f1':[]}\r\n",
        "for i in frequent_icd10codes:\r\n",
        "  actual_p=diagnosis_terms_codes.loc[diagnosis_terms_codes.ICD10.apply(lambda x:i in x)].HADM_ID.count()\r\n",
        "  tp=diagnosis_terms_codes.loc[(diagnosis_terms_codes.ICD10.apply(lambda x:i in x))&(diagnosis_terms_codes.predicted_icd.apply(lambda x:i in x))].HADM_ID.count()\r\n",
        "  predict_p=diagnosis_terms_codes.loc[diagnosis_terms_codes.predicted_icd.apply(lambda x:i in x)].HADM_ID.count()\r\n",
        "  precision=tp/predict_p\r\n",
        "  recall=tp/actual_p\r\n",
        "  f1=2*precision*recall/(precision+recall)\r\n",
        "  result_predict['category'].append(i)\r\n",
        "  result_predict['precision'].append(precision)\r\n",
        "  result_predict['recall'].append(recall)\r\n",
        "  result_predict['f1'].append(f1)\r\n",
        "\r\n",
        "\r\n",
        "\r\n",
        "display(pd.DataFrame.from_dict(result_predict))\r\n",
        "\r\n",
        "\r\n",
        "total_predicted=len([a for b in diagnosis_terms_codes.predicted_icd.to_list() for a in b])\r\n",
        "print(total_predicted)\r\n",
        "actual=len([a for b in diagnosis_terms_codes.ICD10.apply(lambda x : [i for i in x if i in frequent_icd10codes]).to_list() for a in b])\r\n",
        "print(actual)\r\n",
        "actual_predicted=0\r\n",
        "for i in frequent_icd10codes:\r\n",
        "  actual_predicted += diagnosis_terms_codes.loc[(diagnosis_terms_codes.ICD10.apply(lambda x:i in x))&(diagnosis_terms_codes.predicted_icd.apply(lambda x:i in x))].HADM_ID.count()\r\n",
        "print(actual_predicted)\r\n",
        "recall=actual_predicted/actual\r\n",
        "presicion=actual_predicted/total_predicted\r\n",
        "print(recall)\r\n",
        "print(presicion)\r\n",
        "print(2*presicion*recall/(presicion + recall))\r\n"
      ],
      "execution_count": null,
      "outputs": []
    },
    {
      "cell_type": "code",
      "metadata": {
        "id": "9L0GOCgwWQ2v"
      },
      "source": [
        "mlb = MultiLabelBinarizer(frequent_icd10codes)\r\n",
        "print(accuracy_score(mlb.fit_transform(diagnosis_terms_codes.ICD10.values),mlb.fit_transform(diagnosis_terms_codes.predicted_icd.values)))\r\n",
        "print(hamming_loss(mlb.fit_transform(diagnosis_terms_codes.ICD10.values),mlb.fit_transform(diagnosis_terms_codes.predicted_icd.values)))\r\n",
        "print(precision_score(mlb.fit_transform(diagnosis_terms_codes.ICD10.values),mlb.fit_transform(diagnosis_terms_codes.predicted_icd.values), average = \"micro\"))\r\n",
        "print(recall_score(mlb.fit_transform(diagnosis_terms_codes.ICD10.values),mlb.fit_transform(diagnosis_terms_codes.predicted_icd.values),average = \"micro\"))\r\n",
        "print(f1_score(mlb.fit_transform(diagnosis_terms_codes.ICD10.values),mlb.fit_transform(diagnosis_terms_codes.predicted_icd.values),average = \"micro\"))\r\n",
        "print(classification_report(mlb.fit_transform(diagnosis_terms_codes.ICD10.values),mlb.fit_transform(diagnosis_terms_codes.predicted_icd.values),target_names=mlb.classes_))"
      ],
      "execution_count": null,
      "outputs": []
    },
    {
      "cell_type": "code",
      "metadata": {
        "id": "D3zHWNysZRNs"
      },
      "source": [
        "# diagnosis_icd9category=pd.read_csv(\"/content/drive/My Drive/AlgoIntern/Data/Data2.0/diagnosis_icd9category.csv\")\n",
        "# diagnosis_icd9category['icd9_category']=diagnosis_icd9category.icd9_category.apply(literal_eval)\n",
        "# diagnosis_icd9category.dropna(subset=['discharge diagnosis:'],inplace=True)\n",
        "# diagnosis_icd9category.reset_index(drop=True,inplace=True)"
      ],
      "execution_count": null,
      "outputs": []
    },
    {
      "cell_type": "code",
      "metadata": {
        "id": "L9eCYtTScL1V"
      },
      "source": [
        "# ! pip install scispacy\n",
        "# ! pip install https://s3-us-west-2.amazonaws.com/ai2-s2-scispacy/releases/v0.2.5/en_core_sci_md-0.2.5.tar.gz"
      ],
      "execution_count": null,
      "outputs": []
    },
    {
      "cell_type": "code",
      "metadata": {
        "id": "JqVhIuD8eNQm"
      },
      "source": [
        "# import spacy\n",
        "# import scispacy\n",
        "# import en_core_sci_md"
      ],
      "execution_count": null,
      "outputs": []
    },
    {
      "cell_type": "code",
      "metadata": {
        "id": "6LNu4IjbeZTZ"
      },
      "source": [
        "# nlp=en_core_sci_md.load()"
      ],
      "execution_count": null,
      "outputs": []
    },
    {
      "cell_type": "code",
      "metadata": {
        "id": "KvulA14LecuL"
      },
      "source": [
        "# diagnosis_icd9category['medical_terms_list']=diagnosis_icd9category['discharge diagnosis:'].progress_apply(lambda x: nlp(x).ents)\n",
        "# diagnosis_icd9category['medical_terms_list']=diagnosis_icd9category.medical_terms_list.progress_apply(lambda x: [i.text for a in x for i in a])\n",
        "# diagnosis_icd9category['medical_terms_list']=diagnosis_icd9category.medical_terms_list.apply(lambda x:list(set([str(i) for i in x])))\n",
        "# diagnosis_icd9category['med_terms_token']=diagnosis_icd9category.medical_terms_list.progress_apply(lambda x: [word_tokenize(i) for i in x])\n",
        "# diagnosis_icd9category['med_terms_token']=diagnosis_icd9category.med_terms_token.apply(lambda x:list(set([a for b in x for a in b if a not in list(string.punctuation)])))"
      ],
      "execution_count": null,
      "outputs": []
    },
    {
      "cell_type": "code",
      "metadata": {
        "id": "ailzjfpc34m1"
      },
      "source": [
        "# diagnosis_icd9category.to_csv(\"/content/drive/My Drive/AlgoIntern/Data/Data2.0/diagnosis_icd9category_tokens_scimd.csv\",index=False)"
      ],
      "execution_count": null,
      "outputs": []
    },
    {
      "cell_type": "code",
      "metadata": {
        "id": "P3fT4fqg4YuI"
      },
      "source": [
        "diagnosis_icd9category=pd.read_csv(\"/content/drive/My Drive/AlgoIntern/Data/Data2.0/diagnosis_icd9category_tokens_scimd.csv\")"
      ],
      "execution_count": null,
      "outputs": []
    },
    {
      "cell_type": "code",
      "metadata": {
        "id": "1aFuHZg3X8ZM"
      },
      "source": [
        "diagnosis_icd9category['icd9_category']=diagnosis_icd9category.icd9_category.apply(literal_eval)\n",
        "diagnosis_icd9category['med_terms_token']=diagnosis_icd9category.med_terms_token.apply(literal_eval)"
      ],
      "execution_count": null,
      "outputs": []
    },
    {
      "cell_type": "code",
      "metadata": {
        "colab": {
          "base_uri": "https://localhost:8080/",
          "height": 1000
        },
        "id": "PZua1elhY9Wa",
        "outputId": "d65bc3de-85c2-4a3b-97bc-bbfcf0cf7852"
      },
      "source": [
        "diagnosis_icd9category"
      ],
      "execution_count": null,
      "outputs": [
        {
          "output_type": "execute_result",
          "data": {
            "text/html": [
              "<div>\n",
              "<style scoped>\n",
              "    .dataframe tbody tr th:only-of-type {\n",
              "        vertical-align: middle;\n",
              "    }\n",
              "\n",
              "    .dataframe tbody tr th {\n",
              "        vertical-align: top;\n",
              "    }\n",
              "\n",
              "    .dataframe thead th {\n",
              "        text-align: right;\n",
              "    }\n",
              "</style>\n",
              "<table border=\"1\" class=\"dataframe\">\n",
              "  <thead>\n",
              "    <tr style=\"text-align: right;\">\n",
              "      <th></th>\n",
              "      <th>HADM_ID</th>\n",
              "      <th>discharge diagnosis:</th>\n",
              "      <th>icd9_category</th>\n",
              "      <th>medical_terms_list</th>\n",
              "      <th>med_terms_token</th>\n",
              "    </tr>\n",
              "  </thead>\n",
              "  <tbody>\n",
              "    <tr>\n",
              "      <th>0</th>\n",
              "      <td>167118.0</td>\n",
              "      <td>discharge diagnosis:  copd, coronary artery disease/atypical angina (lad 30%, rca 30%,  ef 63%), hypercholesterolemia, hypothyroidism, hypertension,  hiatal hernia, cerebral vascular accident,s/p motor vehicle  colision-&gt; head injury &amp; rib fracture.  tbm- s/p tracheoplasty.      discharge condition:  good    discharge instructions:  please update dr.&lt;name&gt; &lt;telephone&gt; office for:  fever,  shortness of breath, chest pain , productive cough or if you  have any questions or concerns.      completed by: &lt;date&gt;</td>\n",
              "      <td>[496, 553, 518, 453, 519, 276]</td>\n",
              "      <td>['discharge diagnosis', 'coronary artery disease/atypical angina', 'hypothyroidism', 'rca', 'cerebral vascular accident', 'questions', 'hypertension', 'discharge condition', 'productive cough', 'concerns', 'chest pain', 'hypercholesterolemia', 'discharge', 'hiatal hernia', 'rib fracture', 's/p motor vehicle', 'office', 'telephone']</td>\n",
              "      <td>[fracture, pain, rib, s/p, discharge, artery, accident, diagnosis, rca, hernia, productive, concerns, cerebral, hiatal, vehicle, telephone, questions, hypothyroidism, hypertension, angina, condition, disease/atypical, office, chest, coronary, hypercholesterolemia, vascular, motor, cough]</td>\n",
              "    </tr>\n",
              "    <tr>\n",
              "      <th>1</th>\n",
              "      <td>196489.0</td>\n",
              "      <td>discharge diagnosis:  primary:  1. chronic obstructive pulmonary disease exacerbation  2. respiratory failure with intubation  3. upper gastrointestinal bleed/peptic ulcer disease  4. hypertension  5. anxiety    secondary:  1. coronary artery disease  2. hypothyroidism      discharge condition:  mental status: confused - sometimes.  level of consciousness: alert and interactive.  activity status: out of bed with assistance to chair or  wheelchair.      discharge instructions:  you were admitted to the hospital with shortness of breath and  respiratory failure and lethargy. in the emergency department,  you were breathing very fast and a breathing tube was inserted  into your airway to help you breathe. you were admitted to the  intensive care unit. there, you were managed with steroids and  antibiotics and the tube was eventually removed from your  airway, allowing you to breathe on your own. you also underwent  bronchoscopy which looked at the inside of your airways.  .  during your time in the intensive care unit, you developed a  gastrointestinal bleed. a tube was placed into your stomach and  you underwent an endoscopic procedure to look at your esophagus  and stomach. this showed inflammation in your esophagusand  ulcers in your stomach.  .  you should continue to use nasal oxygen by nasal cannula as  needed. you should continue the steroid taper as instructed. you  should call your doctor or return to the emergency room if you  have increasing difficulty breathing or shortness of breath,  wheezing, chest pain, blood in your stool or vomiting blood.  .  there are some changes in your medications.  start pantoprazole 40 mg twice daily and stop omeprazole  start hydrochlorothiazide  start prednisone, taking 30 mg for 3 days, then 20 mg for 4  days, then 10 mg for 4 days, then 5 mg for 4 days, then stop.  start colace and senna as needed for constipation  can use morphine to alleviate symptoms of respiratory discomfort  stop furosemide  stop zolpidem  stop aspirin  increase diovan to 240 mg daily  decrease trazodone to 50 mg daily  .  follow up as indicated below.    followup instructions:  you have an appointment to follow up with dr. &lt;name&gt;, your  primary care physician, &lt;name&gt; [**8-29**] at 1pm. his address is [**location (un) 1822**], [**apartment address(1) 1823**], [**location (un) **],[**numeric identifier 1700**]. the phone is  &lt;telephone&gt;.    you have an appointment to follow up with dr. &lt;name&gt; &lt;name&gt; in  the  &lt;name&gt; at &lt;hospital&gt; on the [**location (un) 453**]. their phone number is  &lt;telephone&gt;.    department: div. of gastroenterology  when: wednesday  &lt;date&gt;  at 3:00 pm  with: &lt;name&gt; &lt;name&gt;, md &lt;telephone&gt;  building: ra &lt;name&gt; (&lt;name&gt;/&lt;name&gt; complex) [**location (un) **]  campus: east     best parking: main garage</td>\n",
              "      <td>[487, 416, 272, 530, 414, 553, 531, 518, 401, 519, 348, V02, 359, 584, 458, 578, 491, E93, 276, 244]</td>\n",
              "      <td>['your airway', 'followup', 'increasing', 'alert', 'shortness of breath', 'your airways', 'your time', 'changes', 'garage', 'anxiety', 'tube', 'respiratory failure', 'intensive care unit', 'return to', 'days', 'gastroenterology', 'stop omeprazole', 'prednisone', 'stop', 'alleviate', 'east', 'parking', 'respiratory discomfort', 'pantoprazole', 'furosemide', 'daily', 'appointment', 'breathe', 'md &lt;telephone', 'admitted', '**apartment address(1', 'endoscopic procedure', 'discharge condition', 'nasal cannula', 'breathing', 'steroid taper', 'discharge diagnosis', 'intubation', 'hypothyroidism', '**numeric identifier 1700**', 'stomach', 'vomiting blood', 'hypertension', 'confused', 'hospital', 'chair', 'symptoms', 'trazodone', 'phone', 'div', 'chronic obstructive pulmonary disease', 'lethargy', 'constipation', 'aspirin', 'phone number', 'nasal oxygen', 'discharge instructions', 'emergency department', 'your doctor', 'chest pain', 'your medications', 'hydrochlorothiazide', 'morphine', 'breathing tube', 'exacerbation', 'your esophagus', 'difficulty breathing', 'blood', 'instructed', 'your stool', 'sometimes', 'senna', 'emergency room', '**location', 'physician', 'upper gastrointestinal bleed/peptic ulcer disease', 'consciousness', 'coronary artery disease', 'your stomach', 'your esophagusand', 'inflammation', 'gastrointestinal bleed', 'steroids', 'interactive']</td>\n",
              "      <td>[discharge, omeprazole, discomfort, gastroenterology, prednisone, time, pantoprazole, doctor, intensive, appointment, number, telephone, steroid, airways, stomach, confused, hospital, md, condition, bleed, **location, stool, coronary, steroids, phone, alert, your, 1700**, anxiety, tube, diagnosis, address, identifier, alleviate, breath, respiratory, furosemide, taper, unit, daily, admitted, breathing, shortness, morphine, hydrochlorothiazide, gastrointestinal, upper, instructed, senna, instructions, chronic, failure, inflammation, div, vomiting, followup, 1, ulcer, disease, days, **apartment, cannula, to, hypothyroidism, chair, symptoms, oxygen, return, of, lethargy, aspirin, pulmonary, esophagusand, department, blood, chest, medications, room, intubation, changes, interactive, increasing, emergency, pain, care, artery, procedure, parking, east, stop, breathe, obstructive, nasal, bleed/peptic, hypertension, trazodone, constipation, airway, esophagus, exacerbation, ...]</td>\n",
              "    </tr>\n",
              "    <tr>\n",
              "      <th>2</th>\n",
              "      <td>135453.0</td>\n",
              "      <td>discharge diagnosis:  1. cervical spondylosis with calcification of posterior  longitudinal ligament.  2. fracture dislocation c6-c7.  3. ossification of the posterior longitudinal ligament.  4. aspiration pneumonia      1. cervical spondylosis with calcification of posterior      longitudinal ligament.  2. fracture dislocation c6-c7.  3. ossification of the posterior longitudinal ligament.  4. aspiration pneumonia    1. cervical spondylosis with calcification of posterior      longitudinal ligament.  2. fracture dislocation c6-c7.  3. ossification of the posterior longitudinal ligament.  4. aspiration pneumonia      discharge condition:  stable to outside facility      discharge instructions:  patient has been made cmo at the request of him and his family.  he has a foley placed for urinary retention. please use morphine  as needed for pain and olanzapine as needed for agitiation.  patient has known history of aspiration documented on speech and  swallow. it is the patient and the family's wish for him to  continue to eat and drink as desired.    followup instructions:  follow up with your primary care physician as needed.</td>\n",
              "      <td>[V12, 788, 805, 507, V45, 401, 427, 453, E88, 293, 802, 428]</td>\n",
              "      <td>['family', 'followup', 'aspiration', 'agitiation', 'drink', 'fracture', 'pain', 'longitudinal ligament', 'fracture dislocation', 'aspiration pneumonia', 'history', 'posterior longitudinal ligament', 'discharge condition', 'cervical spondylosis', 'discharge diagnosis', 'ossification', 'foley', 'eat', 'calcification', 'patient', 'c6-c7', 'dislocation', 'olanzapine', 'discharge instructions', 'morphine', 'posterior  longitudinal ligament', 'facility', \"family's\", 'speech', 'primary care physician', 'urinary retention', 'posterior']</td>\n",
              "      <td>[family, followup, aspiration, drink, fracture, pain, retention, discharge, care, primary, pneumonia, diagnosis, urinary, history, spondylosis, ligament, longitudinal, ossification, eat, foley, calcification, cervical, patient, c6-c7, dislocation, olanzapine, condition, morphine, facility, physician, instructions, speech, 's, agitiation, posterior]</td>\n",
              "    </tr>\n",
              "    <tr>\n",
              "      <th>3</th>\n",
              "      <td>170490.0</td>\n",
              "      <td>discharge diagnosis:  brain lesion    discharge condition:  mental status: clear and coherent.  level of consciousness: alert and interactive.  activity status: ambulatory - independent.  neuro exam intact.    discharge instructions:  ??????\\thave a friend/family member check your incision daily for  signs of infection.  ??????\\ttake your pain medicine as prescribed.  ??????\\texercise should be limited to walking; no lifting, straining,  or excessive bending.  ??????\\tyou have dissolvable sutures, you must keep that area dry for  10 days.  ??????\\tyou may shower before this time using a shower cap to cover  your head.  ??????\\tincrease your intake of fluids and fiber, as narcotic pain  medicine can cause constipation. we generally recommend taking  an over the counter stool softener, such as docusate (colace)  while taking narcotic pain medication.  ??????\\tunless directed by your doctor, do not take any  anti-inflammatory medicines such as motrin, aspirin, advil, and  ibuprofen etc.  ??????\\tif you have been prescribed dilantin (phenytoin) for  anti-seizure medicine, take it as prescribed and follow up with  laboratory blood drawing in one week.  this can be drawn at your  pcp??????s office, but please have the results faxed to &lt;telephone&gt;.  if you have been discharged on keppra (levetiracetam), you will  not require blood work monitoring.  ??????\\tif you are being sent home on steroid medication, make sure  you are taking a medication to protect your stomach (prilosec,  protonix, or pepcid), as these medications can cause stomach  irritation.  make sure to take your steroid medication with  meals, or a glass of milk.  ??????\\tclearance to drive and return to work will be addressed at  your post-operative office visit.  ??????\\tmake sure to continue to use your incentive spirometer while  at home.  call your surgeon immediately if you experience any of the  following    ??????\\tnew onset of tremors or seizures.  ??????\\tany confusion or change in mental status.  ??????\\tany numbness, tingling, weakness in your extremities.  ??????\\tpain or headache that is continually increasing, or not  relieved by pain medication.  ??????\\tany signs of infection at the wound site: increasing redness,  increased swelling, increased tenderness, or drainage.  ??????\\tfever greater than or equal to 101?????? f.    followup instructions:  ??????\\tplease return to the office in [**6-28**] days (from your date of  surgery) for a wound check. this appointment can be made with  the nurse practitioner.  please make this appointment by calling  &lt;telephone&gt;. if you live quite a distance from our office,  please make arrangements for the same, with your pcp.</td>\n",
              "      <td>[710, 225, 443, 714, 530, V43]</td>\n",
              "      <td>['change', 'increased', 'fiber', 'blood work', 'week', 'pepcid', 'clearance', 'straining', 'prilosec', 'appointment', 'follow up', 'exercise', 'fever', 'stomach', 'anti-seizure medicine', 'tremors', 'numbness', 'incentive', 'drainage', 'ibuprofen', 'seizures', 'discharged', 'alert', 'dissolvable sutures', 'milk', 'bending', 'prescribed', 'colace', 'levetiracetam', 'discharge condition', 'discharge diagnosis', 'medication', 'post-operative', 'weakness', 'fluids', 'spirometer', 'phenytoin', 'shower cap', 'narcotic pain', 'excessive', 'results', 'redness', 'exam', 'surgeon', 'area dry', 'docusate', 'faxed', 'walking', 'confusion', 'days', 'nurse practitioner', 'coherent', 'ambulatory', 'increase', 'your pain medicine', 'motrin', 'stool softener', 'steroid medication', 'wound check', 'glass', 'aspirin', 'distance', 'discharge instructions', 'your doctor', 'office', 'keppra', 'medications', 'your pcp', 'headache', 'laboratory blood drawing', 'tenderness', 'mental status', 'interactive', 'your intake', 'increasing', 'advil', 'wound site', 'your extremities', 'return to', 'monitoring', 'intact', 'tingling', 'pain medication', 'independent', 'constipation', 'live', 'no lifting', 'infection', 'consciousness', 'anti-inflammatory medicines', 'your stomach', 'home']</td>\n",
              "      <td>[change, increased, fiber, discharge, narcotic, week, intake, pepcid, clearance, shower, straining, doctor, prilosec, appointment, up, medicines, exercise, fever, steroid, stomach, anti-inflammatory, condition, wound, tremors, numbness, incentive, drainage, ibuprofen, seizures, lifting, nurse, stool, discharged, alert, your, milk, diagnosis, bending, extremities, prescribed, colace, mental, levetiracetam, sutures, medication, post-operative, weakness, fluids, spirometer, phenytoin, softener, anti-seizure, excessive, instructions, results, redness, exam, surgeon, medicine, docusate, practitioner, faxed, dissolvable, walking, confusion, pcp, days, coherent, ambulatory, area, drawing, increase, to, dry, motrin, glass, return, aspirin, check, distance, office, keppra, blood, work, medications, headache, tenderness, interactive, laboratory, increasing, advil, pain, cap, status, monitoring, intact, follow, tingling, independent, constipation, ...]</td>\n",
              "    </tr>\n",
              "    <tr>\n",
              "      <th>4</th>\n",
              "      <td>134727.0</td>\n",
              "      <td>discharge diagnosis:  pneumonia    discharge condition:  expired    discharge instructions:  na    followup instructions:  na                                 &lt;name&gt; &lt;name&gt; md [**md number(2) 1851**]</td>\n",
              "      <td>[486, 518, V45, V58, 401, 577, 415, 428]</td>\n",
              "      <td>['discharge diagnosis', 'discharge instructions', 'pneumonia', 'discharge condition']</td>\n",
              "      <td>[instructions, condition, discharge, pneumonia, diagnosis]</td>\n",
              "    </tr>\n",
              "    <tr>\n",
              "      <th>...</th>\n",
              "      <td>...</td>\n",
              "      <td>...</td>\n",
              "      <td>...</td>\n",
              "      <td>...</td>\n",
              "      <td>...</td>\n",
              "    </tr>\n",
              "    <tr>\n",
              "      <th>41962</th>\n",
              "      <td>127716.0</td>\n",
              "      <td>discharge diagnosis:  aortic stenosis and coronary artery disease s/p aortic valve  replacement and coronary artery bypass graft  past medical history:  hypertension  hyperlipidemia  diabetes mellitus  osteoarthritis  phlebitis  lung cancer  hiatal hernia  hypthyroidism  s/p right lobectomy [**2117**]  s/p lymph node dissection in neck  s/p beast lumpectomy  s/p hysterectomy  s/p c section  s/p tonsillectomy      discharge condition:  alert and oriented x3 nonfocal  ambulating, steady gait  incisional pain managed with ultram  incisions:  sternal - healing well, no erythema or drainage  1+ le edema      discharge instructions:  please shower daily including washing incisions gently with mild  soap, no baths or swimming until cleared by surgeon. look at  your incisions daily for redness or drainage  please no lotions, cream, powder, or ointments to incisions  each morning you should weigh yourself and then in the evening  take your temperature, these should be written down on the chart    no driving for one month or while taking narcotics. driving will  be discussed at follow up appointment with surgeon. no lifting  more than 10 pounds for 10 weeks  please call with any questions or concerns &lt;telephone&gt;  females: please wear bra to reduce pulling on incision, avoid  rubbing on lower edge  **please call cardiac surgery office with any questions or  concerns &lt;telephone&gt;. answering service will contact on call  person during off hours**    followup instructions:  you are scheduled for the following appointments  wound care, &lt;name&gt;, &lt;name&gt;  phone:&lt;telephone&gt;  date/time: &lt;date&gt;  10:00    surgeon: dr. &lt;name&gt; &lt;telephone&gt; date/time: &lt;date&gt;  1:15  cardiologist: dr. &lt;name&gt;  &lt;date&gt;  at 3:00p    please call to schedule appointments with your  primary care dr. &lt;name&gt; &lt;name&gt; in &lt;telephone&gt;    **please call cardiac surgery office with any questions or  concerns &lt;telephone&gt;. answering service will contact on call  person during off hours**                                   &lt;name&gt; &lt;name&gt; md [**md number(2) 748**]    completed by: &lt;date&gt;</td>\n",
              "      <td>[416, 424, 272, V10, V85, 414, 250, 401, 278, 782]</td>\n",
              "      <td>['pulling', 'no driving', 'off hours**', 'chart', 'washing', 'cardiac surgery', 'schedule appointments', 'drainage  1', 's/p aortic valve  replacement', 'no baths', 'cream', 'no erythema', 'contact', 'evening', 'medical history', 'scheduled', 'sternal', 'coronary artery bypass graft', 'incisions', 'narcotics', 'appointment', 'incision', 'discharge condition', 'swimming', 'telephone', 'discharge diagnosis', 'questions', 'month', '**2117**', 'powder', 'reduce', 'neck  s/p beast', 'mild', 'incisional pain', 'steady gait', 'nonfocal', 'discharge instructions', 'hiatal hernia', 'off hours', 'office', 'drainage', 'lotions', 'your temperature', 'morning', 'appointments', 'weeks', '**md number(2', 'lower edge', 'redness', 'coronary artery disease', 'healing', 'surgeon', 'written down', 'wear bra', 'ointments']</td>\n",
              "      <td>[wear, pulling, 1, lower, medical, chart, washing, pain, 2, s/p, down, valve, artery, discharge, gait, replacement, your, cream, disease, hours**, diagnosis, hernia, schedule, contact, evening, hiatal, edge, history, scheduled, aortic, sternal, neck, bypass, incisions, narcotics, appointment, driving, incision, swimming, cardiac, telephone, **md, number, questions, month, incisional, **2117**, temperature, off, powder, condition, reduce, mild, nonfocal, no, office, drainage, beast, lotions, written, appointments, steady, morning, weeks, bra, instructions, erythema, redness, surgery, healing, graft, surgeon, hours, baths, coronary, ointments]</td>\n",
              "    </tr>\n",
              "    <tr>\n",
              "      <th>41963</th>\n",
              "      <td>186377.0</td>\n",
              "      <td>discharge diagnosis:  coronary artery disease  pmh:  hypertension, diabetes, copd, diastolic heart failure, ef 45-50%  past surgical history  penile implant      discharge condition:  alert and oriented x3 nonfocal  ambulating, gait steady  sternal pain managed with oral analgesics  sternal incision - healing well, no erythema or drainage  right lower extremity saph site clean/dry/intact      discharge instructions:  please draw bun/cre, inr at least every other day until they  stabilize  please shower daily including washing incisions gently with mild  soap, no baths or swimming, and look at your incisions  please no lotions, cream, powder, or ointments to incisions  each morning you should weigh yourself and then in the evening  take your temperature, these should be written down on the chart  no driving for approximately one month and while taking  narcotics, will be discussed at follow up appointment with  surgeon when you will be able to drive  no lifting more than 10 pounds for 10 weeks  please call with any questions or concerns &lt;telephone&gt;  **please call cardiac surgery office with any questions or  concerns &lt;telephone&gt;. answering service will contact on call  person during off hours**      followup instructions:  you are scheduled for the following appointments:  surgeon dr. &lt;name&gt; &lt;telephone&gt;,  &lt;date&gt;  1:00  cardiologist dr. &lt;name&gt;. &lt;name&gt; office will call you with an  appointment  please call to schedule the following:  primary care dr. &lt;name&gt;,&lt;name&gt; in [**3-8**] weeks  please follow up with dr. &lt;name&gt; &lt;name&gt; call &lt;telephone&gt; to  schedule an appointment  dialysis,schedule hemodialysis unit date/time: &lt;date&gt;  12:00  renal: dr. &lt;name&gt; &lt;telephone&gt;  diabetes: if patient requires endocrine follow-up after  discharge from rehab, please contact &lt;name&gt;, &lt;name&gt; at &lt;hospital&gt;  **please call cardiac surgery office with any questions or  concerns &lt;telephone&gt;. answering service will contact on call  person during off hours**    inr draw on [**8-16**]  goal inr [**1-5**]  indication: atrial fibrillation                                   &lt;name&gt; &lt;name&gt; md [**md number(2) 266**]    completed by: &lt;date&gt;</td>\n",
              "      <td>[424, 511, 305, 707, 403, 496, 784, 250, 414, V58, 427, 428, 584, 008, 997, 434, 410, 585, 041, 599]</td>\n",
              "      <td>['bun/cre', 'chart', 'off hours**      ', 'please contact', 'washing', 'schedule hemodialysis unit', 'endocrine follow-up', 'cardiac surgery', 'gait', 'day', 'sternal incision', 'nonfocal  ambulating', 'no baths', 'cream', 'no erythema', 'contact', 'evening', 'schedule', 'inr', 'surgical history', 'scheduled', 'incisions', 'narcotics', 'appointment', 'oral analgesics', 'discharge condition', 'diastolic heart failure', 'swimming', 'telephone', 'discharge diagnosis', 'questions', 'name&gt;.', 'your incisions', 'hospital', 'month', 'patient', 'copd', 'powder', 'mild', 'rehab', 'off hours', 'discharge instructions', 'office', 'atrial fibrillation', 'drainage', 'your temperature', 'morning', 'appointments', 'weeks', 'coronary artery disease', 'healing', '**8', 'written down', 'diabetes', 'ointments']</td>\n",
              "      <td>[bun/cre, follow-up, endocrine, please, surgical, analgesics, chart, diastolic, heart, washing, down, gait, discharge, your, day, ambulating, artery, cream, disease, hours**, diagnosis, diabetes, contact, schedule, evening, inr, history, scheduled, sternal, unit, incisions, narcotics, appointment, incision, swimming, cardiac, telephone, questions, hemodialysis, hospital, month, patient, copd, temperature, off, powder, oral, condition, mild, nonfocal, rehab, fibrillation, no, office, drainage, written, atrial, morning, appointments, weeks, instructions, erythema, surgery, failure, healing, **8, name, hours, baths, coronary, ointments]</td>\n",
              "    </tr>\n",
              "    <tr>\n",
              "      <th>41964</th>\n",
              "      <td>156564.0</td>\n",
              "      <td>discharge diagnosis:  left knee infection  chronic obstructive pulmonary disease exacerbation  acute on chronic kidney injury  congestive heart failure  hypertension      discharge condition:  mental status: clear and coherent.  level of consciousness: alert and interactive.  activity status: out of bed with assistance to chair or  wheelchair.      discharge instructions:  mr. &lt;name&gt;,    you were admitted to the hospital for a infected hardware in  your left knee. our orthopaedics team cleaned out the infection  in your knee and replaced the liner of your prosthesis. they  feel you should follow up with your primary orthopaedic doctor,  dr. &lt;name&gt; &lt;name&gt; at &lt;hospital&gt; (&lt;telephone&gt;), for ongoing  issues about your knee. the cultures of the infection in your  knee grew two different organisms, so we consulted our  infectious disease doctors who recommended a course of iv  antibiotics to help treat your infection. because this infection  occured inside of a joint, a longer course of antibiotics is  required. you went multiple times to the operating room to  wash-out your knee of any remaining infection, and your hardware  was removed. most recently you had a portion of tissue grafted  to your knee to provide for better coverage of your wound, along  with skin graft. your kidney function worsened while you were in  the hospital but it appears to have normalized. this should be  followed up with your primary care physician.    we made the following changes to your medications:  started:  vancomycin (antibiotic)  ceftriaxone (antibiotic)    increased metoprolol for blood pressure    followup instructions:  department: plastic surgery  when: wednesday  &lt;date&gt;  at 3:15 pm  with: &lt;name&gt; &lt;name&gt;, md &lt;telephone&gt;  building: lm &lt;name&gt; bldg (&lt;name&gt;) [**location (un) **]  campus: west     best parking: &lt;name&gt; garage    name: &lt;name&gt;, &lt;name&gt; &lt;name&gt; &lt;name&gt;  location: community physicians associates  address: &lt;hospital&gt;,[**numeric identifier 18406**]  phone: &lt;telephone&gt;  appointment: thursday  &lt;date&gt;  1:15pm    department: infectious disease  when: friday  &lt;date&gt;  at 9:30 am  with: &lt;name&gt; &lt;name&gt;, md &lt;telephone&gt;  building: lm &lt;name&gt; bldg (&lt;name&gt;) &lt;hospital&gt;  campus: west     best parking: &lt;name&gt; garage    name: nabi,&lt;name&gt; md  address: &lt;hospital&gt;,[**numeric identifier 18406**]  phone: &lt;telephone&gt;  **please discuss with the staff at the facility a follow up  appointment with your pcp when you are ready for discharge.      department: plastic surgery  when: wednesday  &lt;date&gt;  at 3:15 pm  with: &lt;name&gt; &lt;name&gt;, md &lt;telephone&gt;  building: lm &lt;name&gt; bldg (&lt;name&gt;) [**location (un) **]  campus: west     best parking: &lt;name&gt; garage    department: infectious disease  when: friday  &lt;date&gt;  at 9:30 am  with: &lt;name&gt; &lt;name&gt;, md &lt;telephone&gt;  building: lm &lt;name&gt; bldg (&lt;name&gt;) &lt;hospital&gt;  campus: west     best parking: &lt;name&gt; garage                                   &lt;name&gt; &lt;name&gt; md [**md number(1) 348**]    completed by: &lt;date&gt;</td>\n",
              "      <td>[V10, 403, 584, V43, 428, 285, 496, 250, V58, 041, 357, 707, 365, 414, 780, 518, 711, 585, 327, V12, E84, E87, 996]</td>\n",
              "      <td>['orthopaedic doctor', 'followup', 'alert', 'hardware', 'nabi,&lt;name', 'congestive heart failure', 'skin graft', 'metoprolol', 'increased', 'operating room', 'worsened', 'changes', 'your infection', 'discharge', 'infected', 'your wound', 'treat', 'cultures', 'parking', 'coherent', 'staff', 'bldg', 'community', 'consulted', 'hospital&gt;,[**numeric identifier 18406*', 'course', 'blood pressure', 'md &lt;telephone', 'admitted', 'liner', 'discharge condition', 'telephone', 'organisms', 'discharge diagnosis', 'hospital', 'chronic kidney injury', 'chair', 'your prosthesis', 'physicians', 'chronic obstructive pulmonary disease', 'grafted', 'normalized', 'west', 'antibiotic', 'antibiotics', 'discharge instructions', 'your medications', 'plastic surgery', 'doctors', 'department', 'portion', 'exacerbation', 'left knee infection', 'orthopaedics', 'infection', 'infectious disease', 'your hardware  ', 'facility', 'recommended', '**location', 'your knee', 'your pcp', 'consciousness', 'joint', 'primary care physician', 'garage', 'tissue', 'your kidney function', 'interactive']</td>\n",
              "      <td>[followup, alert, hardware, heart, infectious, increased, worsened, pressure, prosthesis, your, discharge, infected, disease, care, primary, diagnosis, treat, pcp, identifier, cultures, parking, garage, coherent, tissue, staff, bldg, community, doctor, consulted, course, interactive, injury, knee, operating, admitted, left, obstructive, liner, telephone, organisms, plastic, nabi, skin, hospital, md, chair, physicians, function, grafted, normalized, west, condition, antibiotic, wound, pulmonary, antibiotics, kidney, doctors, 18406*, department, portion, blood, infection, exacerbation, orthopaedics, orthopaedic, facility, recommended, **location, physician, instructions, congestive, chronic, medications, surgery, failure, graft, consciousness, name, room, joint, **numeric, metoprolol, changes]</td>\n",
              "    </tr>\n",
              "    <tr>\n",
              "      <th>41965</th>\n",
              "      <td>172559.0</td>\n",
              "      <td>discharge diagnosis:  primary:  small bowel obstruction  metastatic prostate cancer  anasarca  malnutrition  dehydration  acute renal failure  aspiration pneumonia  .  secondary:  prostate ca s/p xrt and chemo - rising psa (140), lg rp mass,  oa, lbp, diverticulosis w/ colovesical fistula s/p lar [**5-18**], s/p  ileostomy takedown [**10-18**], open ccy      discharge condition:  stable      discharge instructions:  please call your doctor or return to the er for any of the  following:  * you experience new chest pain, pressure, squeezing or  tightness.  * new or worsening cough or wheezing.  * if you are vomiting and cannot keep in fluids or your  medications.  * you are getting dehydrated due to continued vomiting,  diarrhea or other reasons. signs of dehydration include dry  mouth, rapid heartbeat or feeling dizzy or faint when standing.  * you see blood or dark/black material when you vomit or have a  bowel movement.  * your pain is not improving within 8-12 hours or not gone  within 24 hours. call or return immediately if your pain is  getting worse or is changing location or moving to your chest or    back.  *avoid lifting objects &gt; 5lbs until your follow-up appointment  with the surgeon.  *avoid driving or operating heavy machinery while taking pain  medications.  * you have shaking chills, or a fever greater than 101.5 (f)  degrees or 38(c) degrees.  * any serious change in your symptoms, or any new symptoms that  concern you.  * please resume all regular home medications and take any new  meds  as ordered.  * continue to ambulate several times per day.  .  incision care:  -your staples will be removed at your follow-up appointment with  the surgeon, and steri strips will be applied.  -your steri-strips will fall off on their own. please remove any  remaining strips 7-10 days after surgery.  -you may shower, and wash surgical incisions.  -avoid swimming and baths until your follow-up appointment.  -please call the doctor if you have increased pain, swelling,  redness, or drainage from the incision sites.      followup instructions:  1. please follow-up appointment with dr. &lt;name&gt; (&lt;telephone&gt; on  &lt;date&gt;  at 1:15pm for removal of your staples.  2. you have follow-up appointment with dr. &lt;name&gt; &lt;name&gt;, md  phone:&lt;telephone&gt; date/time: &lt;date&gt;  11:00, and chemotherapy at  provider: &lt;name&gt; &lt;name&gt;, rn phone:&lt;telephone&gt; date/time: &lt;date&gt;   12:00  3. provider: &lt;name&gt;,&lt;name&gt; &lt;name&gt; apg (sb)  phone:&lt;telephone&gt; date/time: &lt;date&gt;  10:10                                 &lt;name&gt; &lt;name&gt; md [**md number(1) 17**]    completed by: &lt;date&gt;</td>\n",
              "      <td>[197, 507, 185, 427, 261, 585, V66, 560, 783, 285, 276]</td>\n",
              "      <td>['colovesical fistula s/p lar', 'vomiting', 'diverticulosis', 'dehydrated', 'dry  mouth', 'follow-up', 'followup', 'your symptoms', 'vomit', 'pain', 'pressure', 'increased', 'home medications', 'removal', 'discharge', 'day', 'swelling', 'your pain', 'rapid', 'rp mass', 'psa', 'days', 'signs', 'doctor', 'operating heavy machinery', 'appointment', 'incision sites', 'heartbeat', 'worsening', 'location', 'steri strips', 'discharge condition', 'swimming', 'telephone', 's/p  ileostomy takedown', 'discharge diagnosis', 'fever', 'objects', 'fluids', 'symptoms', 'staples', 'steri-strips', 'md  phone:&lt;telephone&gt; date/time', 'rising', 'small bowel obstruction', 'return', 'wheezing', 'shaking chills', 'acute renal failure', 'chest pain', 'ambulate', 'movement', 'chemo', 'blood', 'dark/black material', 'drainage', 'provider', 'surgical incisions', 'dehydration', 'feeling dizzy', 'your chest', 'prostate cancer', 'lifting', 'surgery', 'surgeon', 'your staples', 'standing', 'hours', 'baths', 'chemotherapy', 'cough', 'squeezing', 'your follow-up']</td>\n",
              "      <td>[surgical, mouth, vomit, increased, removal, discharge, machinery, doctor, heavy, appointment, heartbeat, telephone, fever, md, steri-strips, rising, condition, movement, chemo, drainage, lifting, surgery, chemotherapy, obstruction, standing, hours, bowel, squeezing, phone, fistula, dizzy, your, swelling, diagnosis, signs, rp, incisions, location, operating, swimming, fluids, wheezing, material, renal, acute, takedown, provider, failure, surgeon, dehydrated, vomiting, diverticulosis, followup, strips, day, rapid, psa, days, worsening, cancer, dry, symptoms, return, ambulate, blood, chest, mass, medications, dark/black, colovesical, ileostomy, baths, cough, follow-up, pain, pressure, s/p, shaking, feeling, steri, date/time, incision, objects, staples, prostate, sites, dehydration, small, chills, home, lar]</td>\n",
              "    </tr>\n",
              "    <tr>\n",
              "      <th>41966</th>\n",
              "      <td>135672.0</td>\n",
              "      <td>discharge diagnosis:  peritonitis secondary to small bowel perforation.  cmv enteritis  b-cell lymphoma  line infection  type 2 diabetes controlled without complications  moderate malnutrition  cad bypass vessle      discharge condition:  stable.  tolerating regular diet  pain well controlled with oral medications.      discharge instructions:  you are being discharged on an antiviral medication called  ganciclovir, which can make your diarhea worse for some time.  please contact your doctor if you experience numbness, tingling  or pain in hands or feet, as this may be a side effect of the  medication.    you will be having labs drawn every other day and sent to dr.  &lt;name&gt; of infectious diseases for monitoring of your blood  counts.    *avoid lifting objects &gt; 5lbs until your follow-up appointment  with the surgeon.    *avoid driving or operating heavy machinery while taking pain  medications.    * continue to ambulate several times per day.    incision care:  -your staples will be removed at your follow up appoinetment.  -steri-strips will be applied and will fall off on their own.  please remove any remaining strips 7-10 days after application.  -you may shower, and wash surgical incisions.  -avoid swimming and baths until your follow-up appointment.  -please call the doctor if you have increased pain, swelling,  redness, or drainage from the incision sites.    followup instructions:  you will need to have an ophthalmalogic evaluation to make sure  that there is no evidence of cmv infection of the retina - this  should happen this week.  please call: (&lt;telephone&gt; to  schedule this appointment; if you have any difficulty arranging  this, please discuss this with your primary doctor so that they  can facilitate/arrange this evaluation.    1. please call dr.&lt;name&gt; office, &lt;telephone&gt;, to make a  follow up appointment in [**11-23**] weeks.  scheduled appointments :  provider: &lt;name&gt; &lt;name&gt;, &lt;telephone&gt;  date/time: &lt;date&gt;  10:30  provider: &lt;name&gt; &lt;name&gt;, rn phone:&lt;telephone&gt;  date/time: &lt;date&gt;  11:00  provider: &lt;name&gt; chair 6  date/time: &lt;date&gt;  11:00                                   &lt;name&gt; &lt;name&gt; md [**md number(2) 431**]    completed by: &lt;date&gt;</td>\n",
              "      <td>[202, 401, 584, 255, 283, 238, 038, 785, 250, 008, 041, 272, 996, 078, V45, 567, 569, 273, 995, 263, 579, 782]</td>\n",
              "      <td>['followup', 'primary doctor', 'discharged', 'appoinetment', 'infectious diseases', 'strips', 'hands', 'increased', 'pain', 'complications', 'day', 'swelling', 'contact your', 'controlled', 'week', 'days', 'labs', 'shower', 'evaluation', 'ophthalmalogic', 'doctor', 'regular diet', 'wash', 'operating heavy machinery', 'monitoring', 'appointment', 'incision sites', 'your blood', 'discharge condition', 'oral medications', 'swimming', 'telephone', 'discharge diagnosis', 'application', 'objects', 'cmv infection', 'small bowel perforation', 'staples', 'chair', 'evidence', 'numbness', 'your diarhea', 'discharge instructions', 'side effect', 'antiviral medication', 'office', 'retina', 'drainage', 'incision care', 'appointments', 'surgical incisions', 'weeks', 'feet', 'lifting', 'difficulty', 'surgeon', 'ganciclovir', 'baths', 'tingling  ', 'your follow-up']</td>\n",
              "      <td>[follow-up, followup, discharged, appoinetment, strips, diseases, surgical, hands, infectious, increased, pain, complications, your, discharge, care, day, swelling, primary, week, controlled, machinery, diagnosis, days, labs, perforation, contact, shower, evaluation, ophthalmalogic, doctor, heavy, wash, effect, monitoring, appointment, incisions, operating, incision, swimming, telephone, application, objects, baths, medication, tingling, staples, chair, sites, evidence, condition, oral, regular, numbness, office, retina, blood, infection, drainage, appointments, side, weeks, feet, antiviral, diet, medications, instructions, lifting, difficulty, cmv, small, surgeon, ganciclovir, diarhea, bowel]</td>\n",
              "    </tr>\n",
              "  </tbody>\n",
              "</table>\n",
              "<p>41967 rows × 5 columns</p>\n",
              "</div>"
            ],
            "text/plain": [
              "        HADM_ID  ...                                                                                                                                                                                                                                                                                                                                                                                                                                                                                                                                                                                                                                                                                                                                                                                                                                                                                                                                                                                                          med_terms_token\n",
              "0      167118.0  ...                                                                                                                                                                                                                                                                                                                                                                                                                                                                                                                                                                                                                                                                                                                         [fracture, pain, rib, s/p, discharge, artery, accident, diagnosis, rca, hernia, productive, concerns, cerebral, hiatal, vehicle, telephone, questions, hypothyroidism, hypertension, angina, condition, disease/atypical, office, chest, coronary, hypercholesterolemia, vascular, motor, cough]\n",
              "1      196489.0  ...  [discharge, omeprazole, discomfort, gastroenterology, prednisone, time, pantoprazole, doctor, intensive, appointment, number, telephone, steroid, airways, stomach, confused, hospital, md, condition, bleed, **location, stool, coronary, steroids, phone, alert, your, 1700**, anxiety, tube, diagnosis, address, identifier, alleviate, breath, respiratory, furosemide, taper, unit, daily, admitted, breathing, shortness, morphine, hydrochlorothiazide, gastrointestinal, upper, instructed, senna, instructions, chronic, failure, inflammation, div, vomiting, followup, 1, ulcer, disease, days, **apartment, cannula, to, hypothyroidism, chair, symptoms, oxygen, return, of, lethargy, aspirin, pulmonary, esophagusand, department, blood, chest, medications, room, intubation, changes, interactive, increasing, emergency, pain, care, artery, procedure, parking, east, stop, breathe, obstructive, nasal, bleed/peptic, hypertension, trazodone, constipation, airway, esophagus, exacerbation, ...]\n",
              "2      135453.0  ...                                                                                                                                                                                                                                                                                                                                                                                                                                                                                                                                                                                                                                                           [family, followup, aspiration, drink, fracture, pain, retention, discharge, care, primary, pneumonia, diagnosis, urinary, history, spondylosis, ligament, longitudinal, ossification, eat, foley, calcification, cervical, patient, c6-c7, dislocation, olanzapine, condition, morphine, facility, physician, instructions, speech, 's, agitiation, posterior]\n",
              "3      170490.0  ...                              [change, increased, fiber, discharge, narcotic, week, intake, pepcid, clearance, shower, straining, doctor, prilosec, appointment, up, medicines, exercise, fever, steroid, stomach, anti-inflammatory, condition, wound, tremors, numbness, incentive, drainage, ibuprofen, seizures, lifting, nurse, stool, discharged, alert, your, milk, diagnosis, bending, extremities, prescribed, colace, mental, levetiracetam, sutures, medication, post-operative, weakness, fluids, spirometer, phenytoin, softener, anti-seizure, excessive, instructions, results, redness, exam, surgeon, medicine, docusate, practitioner, faxed, dissolvable, walking, confusion, pcp, days, coherent, ambulatory, area, drawing, increase, to, dry, motrin, glass, return, aspirin, check, distance, office, keppra, blood, work, medications, headache, tenderness, interactive, laboratory, increasing, advil, pain, cap, status, monitoring, intact, follow, tingling, independent, constipation, ...]\n",
              "4      134727.0  ...                                                                                                                                                                                                                                                                                                                                                                                                                                                                                                                                                                                                                                                                                                                                                                                                                                                                                                                                                               [instructions, condition, discharge, pneumonia, diagnosis]\n",
              "...         ...  ...                                                                                                                                                                                                                                                                                                                                                                                                                                                                                                                                                                                                                                                                                                                                                                                                                                                                                                                                                                                                                      ...\n",
              "41962  127716.0  ...                                                                                                                                                                                                                                                                                                                                                [wear, pulling, 1, lower, medical, chart, washing, pain, 2, s/p, down, valve, artery, discharge, gait, replacement, your, cream, disease, hours**, diagnosis, hernia, schedule, contact, evening, hiatal, edge, history, scheduled, aortic, sternal, neck, bypass, incisions, narcotics, appointment, driving, incision, swimming, cardiac, telephone, **md, number, questions, month, incisional, **2117**, temperature, off, powder, condition, reduce, mild, nonfocal, no, office, drainage, beast, lotions, written, appointments, steady, morning, weeks, bra, instructions, erythema, redness, surgery, healing, graft, surgeon, hours, baths, coronary, ointments]\n",
              "41963  186377.0  ...                                                                                                                                                                                                                                                                                                                                                        [bun/cre, follow-up, endocrine, please, surgical, analgesics, chart, diastolic, heart, washing, down, gait, discharge, your, day, ambulating, artery, cream, disease, hours**, diagnosis, diabetes, contact, schedule, evening, inr, history, scheduled, sternal, unit, incisions, narcotics, appointment, incision, swimming, cardiac, telephone, questions, hemodialysis, hospital, month, patient, copd, temperature, off, powder, oral, condition, mild, nonfocal, rehab, fibrillation, no, office, drainage, written, atrial, morning, appointments, weeks, instructions, erythema, surgery, failure, healing, **8, name, hours, baths, coronary, ointments]\n",
              "41964  156564.0  ...                                                                                                                                                                                       [followup, alert, hardware, heart, infectious, increased, worsened, pressure, prosthesis, your, discharge, infected, disease, care, primary, diagnosis, treat, pcp, identifier, cultures, parking, garage, coherent, tissue, staff, bldg, community, doctor, consulted, course, interactive, injury, knee, operating, admitted, left, obstructive, liner, telephone, organisms, plastic, nabi, skin, hospital, md, chair, physicians, function, grafted, normalized, west, condition, antibiotic, wound, pulmonary, antibiotics, kidney, doctors, 18406*, department, portion, blood, infection, exacerbation, orthopaedics, orthopaedic, facility, recommended, **location, physician, instructions, congestive, chronic, medications, surgery, failure, graft, consciousness, name, room, joint, **numeric, metoprolol, changes]\n",
              "41965  172559.0  ...                                                                                                                                                                         [surgical, mouth, vomit, increased, removal, discharge, machinery, doctor, heavy, appointment, heartbeat, telephone, fever, md, steri-strips, rising, condition, movement, chemo, drainage, lifting, surgery, chemotherapy, obstruction, standing, hours, bowel, squeezing, phone, fistula, dizzy, your, swelling, diagnosis, signs, rp, incisions, location, operating, swimming, fluids, wheezing, material, renal, acute, takedown, provider, failure, surgeon, dehydrated, vomiting, diverticulosis, followup, strips, day, rapid, psa, days, worsening, cancer, dry, symptoms, return, ambulate, blood, chest, mass, medications, dark/black, colovesical, ileostomy, baths, cough, follow-up, pain, pressure, s/p, shaking, feeling, steri, date/time, incision, objects, staples, prostate, sites, dehydration, small, chills, home, lar]\n",
              "41966  135672.0  ...                                                                                                                                                                                                                                                                                           [follow-up, followup, discharged, appoinetment, strips, diseases, surgical, hands, infectious, increased, pain, complications, your, discharge, care, day, swelling, primary, week, controlled, machinery, diagnosis, days, labs, perforation, contact, shower, evaluation, ophthalmalogic, doctor, heavy, wash, effect, monitoring, appointment, incisions, operating, incision, swimming, telephone, application, objects, baths, medication, tingling, staples, chair, sites, evidence, condition, oral, regular, numbness, office, retina, blood, infection, drainage, appointments, side, weeks, feet, antiviral, diet, medications, instructions, lifting, difficulty, cmv, small, surgeon, ganciclovir, diarhea, bowel]\n",
              "\n",
              "[41967 rows x 5 columns]"
            ]
          },
          "metadata": {
            "tags": []
          },
          "execution_count": 104
        }
      ]
    },
    {
      "cell_type": "code",
      "metadata": {
        "id": "OmDtEFftXKHY"
      },
      "source": [
        "category_med_terms={}\n",
        "common_diagnosis_terms=[\"monday\",\"telephone\",\"of\",\"phone\",'diagnosis', 'discharge', 'condition', 'followup', 'your', 'instructions','weeks', 'medications', 'appointment', 'hospital', 'care', 'md','admitted', 'office','primary', 'follow-up', 'day', 'appointments', 'prescribed', 'coherent', 'week', 'name', 'ambulatory', 'home', '**location', 'daily','days', 'increased', 'clinic', 'changes','medication','physician','no','doctor','patient','parking','scheduled','schedule','question','treated','independent','month','morning','garage']\n",
        "for i in frequent_icd9category:\n",
        "    diagnosis_x=diagnosis_icd9category.loc[diagnosis_icd9category.icd9_category.apply(lambda x: i in x)].copy()\n",
        "    y=diagnosis_x.med_terms_token.to_list()    \n",
        "    z=[list(set(a)) for a in y]\n",
        "    z1=[a for b in z for a in b]\n",
        "    dict_med=dict(Counter(z1))\n",
        "    dict_med=dict(sorted(dict_med.items(),key= lambda x: x[1],reverse=True))\n",
        "    dict_med_list=list(dict_med)\n",
        "    dict_med_list1=[a for a in dict_med_list if a not in common_diagnosis_terms]\n",
        "    category_med_terms[i]=dict_med_list1[:30]"
      ],
      "execution_count": null,
      "outputs": []
    },
    {
      "cell_type": "code",
      "metadata": {
        "id": "B32EjRXaZUXd"
      },
      "source": [
        "diagnosis_icdcategory_medterms={'icd9category':[i for i in category_med_terms],\n",
        "                                'frequent_medterms':[category_med_terms[i] for i in category_med_terms]}\n",
        "diagnosis_icdcategory_medterms_df=pd.DataFrame.from_dict(diagnosis_icdcategory_medterms)"
      ],
      "execution_count": null,
      "outputs": []
    },
    {
      "cell_type": "code",
      "metadata": {
        "colab": {
          "base_uri": "https://localhost:8080/",
          "height": 1000
        },
        "id": "O395L6IoZoCh",
        "outputId": "69abe0bb-b24b-49a2-fe86-ef0ef57f2724"
      },
      "source": [
        "diagnosis_icdcategory_medterms_df"
      ],
      "execution_count": null,
      "outputs": [
        {
          "output_type": "execute_result",
          "data": {
            "text/html": [
              "<div>\n",
              "<style scoped>\n",
              "    .dataframe tbody tr th:only-of-type {\n",
              "        vertical-align: middle;\n",
              "    }\n",
              "\n",
              "    .dataframe tbody tr th {\n",
              "        vertical-align: top;\n",
              "    }\n",
              "\n",
              "    .dataframe thead th {\n",
              "        text-align: right;\n",
              "    }\n",
              "</style>\n",
              "<table border=\"1\" class=\"dataframe\">\n",
              "  <thead>\n",
              "    <tr style=\"text-align: right;\">\n",
              "      <th></th>\n",
              "      <th>icd9category</th>\n",
              "      <th>frequent_medterms</th>\n",
              "    </tr>\n",
              "  </thead>\n",
              "  <tbody>\n",
              "    <tr>\n",
              "      <th>0</th>\n",
              "      <td>401</td>\n",
              "      <td>[pain, blood, consciousness, drainage, alert, chest, disease, interactive, fever, redness, surgery, infection, artery, shortness, symptoms, heart, incision, incisions, coronary, breath, s/p, baths, questions, left, pcp, right, hours, swimming, surgeon, aspirin]</td>\n",
              "    </tr>\n",
              "    <tr>\n",
              "      <th>1</th>\n",
              "      <td>427</td>\n",
              "      <td>[pain, atrial, fibrillation, heart, blood, disease, chest, consciousness, failure, alert, interactive, drainage, infection, shortness, coumadin, artery, fever, chronic, surgery, coronary, symptoms, cardiac, breath, s/p, redness, incisions, baths, questions, incision, left]</td>\n",
              "    </tr>\n",
              "    <tr>\n",
              "      <th>2</th>\n",
              "      <td>276</td>\n",
              "      <td>[pain, blood, consciousness, alert, interactive, chest, failure, disease, symptoms, infection, shortness, heart, antibiotics, breath, chronic, fever, acute, pressure, renal, pcp, chills, pneumonia, secondary, surgery, abdominal, atrial, low, medical, emergency, department]</td>\n",
              "    </tr>\n",
              "    <tr>\n",
              "      <th>3</th>\n",
              "      <td>272</td>\n",
              "      <td>[pain, blood, disease, consciousness, alert, drainage, interactive, artery, chest, coronary, heart, surgery, redness, incisions, fever, infection, incision, cardiac, baths, questions, s/p, shortness, swimming, hours, symptoms, breath, failure, left, lotions, chronic]</td>\n",
              "    </tr>\n",
              "    <tr>\n",
              "      <th>4</th>\n",
              "      <td>250</td>\n",
              "      <td>[pain, blood, disease, consciousness, chest, alert, interactive, heart, failure, shortness, diabetes, infection, artery, symptoms, fever, chronic, breath, drainage, coronary, surgery, redness, renal, pressure, antibiotics, pcp, s/p, chills, cardiac, left, incisions]</td>\n",
              "    </tr>\n",
              "    <tr>\n",
              "      <th>5</th>\n",
              "      <td>414</td>\n",
              "      <td>[pain, disease, artery, coronary, heart, drainage, blood, chest, incisions, cardiac, redness, baths, fever, surgery, s/p, consciousness, questions, failure, lotions, alert, swimming, infection, hours, interactive, shortness, chronic, incision, ointments, breath, atrial]</td>\n",
              "    </tr>\n",
              "    <tr>\n",
              "      <th>6</th>\n",
              "      <td>285</td>\n",
              "      <td>[pain, blood, consciousness, alert, interactive, chest, disease, shortness, infection, symptoms, failure, heart, surgery, breath, fever, chronic, drainage, antibiotics, bleeding, pcp, acute, pressure, chills, redness, emergency, renal, incision, artery, secondary, medical]</td>\n",
              "    </tr>\n",
              "    <tr>\n",
              "      <th>7</th>\n",
              "      <td>428</td>\n",
              "      <td>[heart, pain, failure, disease, blood, chest, chronic, shortness, consciousness, alert, breath, interactive, atrial, fibrillation, artery, infection, congestive, symptoms, coronary, cardiac, fever, renal, acute, antibiotics, coumadin, surgery, pressure, diet, s/p, pcp]</td>\n",
              "    </tr>\n",
              "    <tr>\n",
              "      <th>8</th>\n",
              "      <td>518</td>\n",
              "      <td>[pain, failure, chest, blood, consciousness, shortness, alert, interactive, disease, breath, pneumonia, symptoms, heart, infection, fever, respiratory, antibiotics, chronic, chills, surgery, breathing, acute, drainage, pcp, pulmonary, atrial, right, fibrillation, renal, emergency]</td>\n",
              "    </tr>\n",
              "    <tr>\n",
              "      <th>9</th>\n",
              "      <td>584</td>\n",
              "      <td>[pain, failure, blood, consciousness, alert, renal, interactive, heart, chest, acute, disease, chronic, infection, shortness, symptoms, antibiotics, breath, pressure, kidney, fever, pneumonia, pcp, atrial, chills, secondary, fibrillation, low, surgery, abdominal, medical]</td>\n",
              "    </tr>\n",
              "    <tr>\n",
              "      <th>10</th>\n",
              "      <td>V45</td>\n",
              "      <td>[pain, blood, consciousness, disease, alert, interactive, heart, chest, failure, artery, shortness, chronic, coronary, infection, surgery, drainage, symptoms, breath, fever, cardiac, atrial, pressure, s/p, fibrillation, redness, antibiotics, incision, left, pcp, incisions]</td>\n",
              "    </tr>\n",
              "    <tr>\n",
              "      <th>11</th>\n",
              "      <td>V58</td>\n",
              "      <td>[pain, blood, consciousness, alert, interactive, heart, disease, coumadin, chest, failure, atrial, infection, chronic, shortness, fibrillation, symptoms, surgery, breath, drainage, fever, antibiotics, cardiac, pressure, pcp, redness, secondary, left, artery, department, medical]</td>\n",
              "    </tr>\n",
              "    <tr>\n",
              "      <th>12</th>\n",
              "      <td>585</td>\n",
              "      <td>[pain, blood, disease, chronic, failure, consciousness, heart, alert, interactive, chest, renal, shortness, infection, symptoms, breath, kidney, pressure, antibiotics, fever, atrial, artery, acute, secondary, surgery, fibrillation, low, chills, coronary, cardiac, pcp]</td>\n",
              "    </tr>\n",
              "    <tr>\n",
              "      <th>13</th>\n",
              "      <td>530</td>\n",
              "      <td>[pain, blood, consciousness, alert, interactive, chest, disease, drainage, shortness, fever, infection, heart, symptoms, breath, surgery, redness, incision, artery, incisions, chronic, failure, coronary, antibiotics, chills, s/p, cardiac, pcp, swimming, baths, pressure]</td>\n",
              "    </tr>\n",
              "    <tr>\n",
              "      <th>14</th>\n",
              "      <td>599</td>\n",
              "      <td>[pain, infection, blood, consciousness, urinary, tract, alert, chest, interactive, failure, disease, heart, shortness, antibiotics, symptoms, fever, breath, chronic, atrial, fibrillation, chills, acute, pcp, surgery, left, renal, right, pressure, drainage, secondary]</td>\n",
              "    </tr>\n",
              "    <tr>\n",
              "      <th>15</th>\n",
              "      <td>E87</td>\n",
              "      <td>[pain, blood, consciousness, drainage, alert, interactive, surgery, disease, redness, fever, chest, incision, infection, incisions, baths, swimming, heart, artery, hours, wound, s/p, shortness, dry, surgeon, symptoms, questions, chills, cardiac, breath, right]</td>\n",
              "    </tr>\n",
              "    <tr>\n",
              "      <th>16</th>\n",
              "      <td>403</td>\n",
              "      <td>[pain, blood, disease, chronic, failure, heart, consciousness, renal, alert, interactive, chest, shortness, infection, breath, symptoms, kidney, pressure, artery, antibiotics, fever, surgery, atrial, acute, coronary, secondary, fibrillation, cardiac, chills, pcp, emergency]</td>\n",
              "    </tr>\n",
              "    <tr>\n",
              "      <th>17</th>\n",
              "      <td>V10</td>\n",
              "      <td>[pain, blood, consciousness, alert, interactive, chest, fever, drainage, shortness, disease, heart, infection, surgery, breath, symptoms, redness, failure, incision, s/p, cancer, atrial, chills, left, artery, chronic, antibiotics, fibrillation, aspirin, right, pcp]</td>\n",
              "    </tr>\n",
              "    <tr>\n",
              "      <th>18</th>\n",
              "      <td>038</td>\n",
              "      <td>[pain, blood, antibiotics, infection, failure, consciousness, alert, interactive, chest, disease, symptoms, pneumonia, sepsis, fever, chills, shortness, pressure, renal, fevers, acute, breath, heart, chronic, secondary, abdominal, with, pcp, low, atrial, emergency]</td>\n",
              "    </tr>\n",
              "    <tr>\n",
              "      <th>19</th>\n",
              "      <td>995</td>\n",
              "      <td>[pain, blood, antibiotics, infection, consciousness, alert, failure, interactive, chest, disease, symptoms, shortness, pneumonia, fever, pressure, chills, sepsis, breath, fevers, acute, renal, heart, secondary, chronic, with, pcp, abdominal, low, emergency, surgery]</td>\n",
              "    </tr>\n",
              "  </tbody>\n",
              "</table>\n",
              "</div>"
            ],
            "text/plain": [
              "   icd9category                                                                                                                                                                                                                                                                          frequent_medterms\n",
              "0           401                      [pain, blood, consciousness, drainage, alert, chest, disease, interactive, fever, redness, surgery, infection, artery, shortness, symptoms, heart, incision, incisions, coronary, breath, s/p, baths, questions, left, pcp, right, hours, swimming, surgeon, aspirin]\n",
              "1           427          [pain, atrial, fibrillation, heart, blood, disease, chest, consciousness, failure, alert, interactive, drainage, infection, shortness, coumadin, artery, fever, chronic, surgery, coronary, symptoms, cardiac, breath, s/p, redness, incisions, baths, questions, incision, left]\n",
              "2           276          [pain, blood, consciousness, alert, interactive, chest, failure, disease, symptoms, infection, shortness, heart, antibiotics, breath, chronic, fever, acute, pressure, renal, pcp, chills, pneumonia, secondary, surgery, abdominal, atrial, low, medical, emergency, department]\n",
              "3           272                [pain, blood, disease, consciousness, alert, drainage, interactive, artery, chest, coronary, heart, surgery, redness, incisions, fever, infection, incision, cardiac, baths, questions, s/p, shortness, swimming, hours, symptoms, breath, failure, left, lotions, chronic]\n",
              "4           250                 [pain, blood, disease, consciousness, chest, alert, interactive, heart, failure, shortness, diabetes, infection, artery, symptoms, fever, chronic, breath, drainage, coronary, surgery, redness, renal, pressure, antibiotics, pcp, s/p, chills, cardiac, left, incisions]\n",
              "5           414             [pain, disease, artery, coronary, heart, drainage, blood, chest, incisions, cardiac, redness, baths, fever, surgery, s/p, consciousness, questions, failure, lotions, alert, swimming, infection, hours, interactive, shortness, chronic, incision, ointments, breath, atrial]\n",
              "6           285          [pain, blood, consciousness, alert, interactive, chest, disease, shortness, infection, symptoms, failure, heart, surgery, breath, fever, chronic, drainage, antibiotics, bleeding, pcp, acute, pressure, chills, redness, emergency, renal, incision, artery, secondary, medical]\n",
              "7           428              [heart, pain, failure, disease, blood, chest, chronic, shortness, consciousness, alert, breath, interactive, atrial, fibrillation, artery, infection, congestive, symptoms, coronary, cardiac, fever, renal, acute, antibiotics, coumadin, surgery, pressure, diet, s/p, pcp]\n",
              "8           518  [pain, failure, chest, blood, consciousness, shortness, alert, interactive, disease, breath, pneumonia, symptoms, heart, infection, fever, respiratory, antibiotics, chronic, chills, surgery, breathing, acute, drainage, pcp, pulmonary, atrial, right, fibrillation, renal, emergency]\n",
              "9           584           [pain, failure, blood, consciousness, alert, renal, interactive, heart, chest, acute, disease, chronic, infection, shortness, symptoms, antibiotics, breath, pressure, kidney, fever, pneumonia, pcp, atrial, chills, secondary, fibrillation, low, surgery, abdominal, medical]\n",
              "10          V45          [pain, blood, consciousness, disease, alert, interactive, heart, chest, failure, artery, shortness, chronic, coronary, infection, surgery, drainage, symptoms, breath, fever, cardiac, atrial, pressure, s/p, fibrillation, redness, antibiotics, incision, left, pcp, incisions]\n",
              "11          V58    [pain, blood, consciousness, alert, interactive, heart, disease, coumadin, chest, failure, atrial, infection, chronic, shortness, fibrillation, symptoms, surgery, breath, drainage, fever, antibiotics, cardiac, pressure, pcp, redness, secondary, left, artery, department, medical]\n",
              "12          585               [pain, blood, disease, chronic, failure, consciousness, heart, alert, interactive, chest, renal, shortness, infection, symptoms, breath, kidney, pressure, antibiotics, fever, atrial, artery, acute, secondary, surgery, fibrillation, low, chills, coronary, cardiac, pcp]\n",
              "13          530             [pain, blood, consciousness, alert, interactive, chest, disease, drainage, shortness, fever, infection, heart, symptoms, breath, surgery, redness, incision, artery, incisions, chronic, failure, coronary, antibiotics, chills, s/p, cardiac, pcp, swimming, baths, pressure]\n",
              "14          599                [pain, infection, blood, consciousness, urinary, tract, alert, chest, interactive, failure, disease, heart, shortness, antibiotics, symptoms, fever, breath, chronic, atrial, fibrillation, chills, acute, pcp, surgery, left, renal, right, pressure, drainage, secondary]\n",
              "15          E87                       [pain, blood, consciousness, drainage, alert, interactive, surgery, disease, redness, fever, chest, incision, infection, incisions, baths, swimming, heart, artery, hours, wound, s/p, shortness, dry, surgeon, symptoms, questions, chills, cardiac, breath, right]\n",
              "16          403         [pain, blood, disease, chronic, failure, heart, consciousness, renal, alert, interactive, chest, shortness, infection, breath, symptoms, kidney, pressure, artery, antibiotics, fever, surgery, atrial, acute, coronary, secondary, fibrillation, cardiac, chills, pcp, emergency]\n",
              "17          V10                  [pain, blood, consciousness, alert, interactive, chest, fever, drainage, shortness, disease, heart, infection, surgery, breath, symptoms, redness, failure, incision, s/p, cancer, atrial, chills, left, artery, chronic, antibiotics, fibrillation, aspirin, right, pcp]\n",
              "18          038                  [pain, blood, antibiotics, infection, failure, consciousness, alert, interactive, chest, disease, symptoms, pneumonia, sepsis, fever, chills, shortness, pressure, renal, fevers, acute, breath, heart, chronic, secondary, abdominal, with, pcp, low, atrial, emergency]\n",
              "19          995                 [pain, blood, antibiotics, infection, consciousness, alert, failure, interactive, chest, disease, symptoms, shortness, pneumonia, fever, pressure, chills, sepsis, breath, fevers, acute, renal, heart, secondary, chronic, with, pcp, abdominal, low, emergency, surgery]"
            ]
          },
          "metadata": {
            "tags": []
          },
          "execution_count": 135
        }
      ]
    },
    {
      "cell_type": "code",
      "metadata": {
        "colab": {
          "base_uri": "https://localhost:8080/",
          "height": 54
        },
        "id": "9nxb9QAdZsTK",
        "outputId": "9bcd6614-a058-4bbe-db32-f33b35b1173a"
      },
      "source": [
        "y=diagnosis_icdcategory_medterms_df.frequent_medterms.to_list()\n",
        "y1=[a for b in y for a in b]\n",
        "medical=dict(Counter(y1))\n",
        "print([k for (k,v) in medical.items() if v>=16])"
      ],
      "execution_count": null,
      "outputs": [
        {
          "output_type": "stream",
          "text": [
            "['pain', 'blood', 'consciousness', 'alert', 'chest', 'disease', 'interactive', 'fever', 'surgery', 'infection', 'shortness', 'symptoms', 'heart', 'breath', 'pcp', 'failure', 'chronic']\n"
          ],
          "name": "stdout"
        }
      ]
    },
    {
      "cell_type": "code",
      "metadata": {
        "id": "qkJ3yVJfZ7yM"
      },
      "source": [
        "bagofwords=list(set([a for b in diagnosis_icdcategory_medterms_df.frequent_medterms.to_list() for a in b]))"
      ],
      "execution_count": null,
      "outputs": []
    },
    {
      "cell_type": "code",
      "metadata": {
        "colab": {
          "base_uri": "https://localhost:8080/",
          "height": 34
        },
        "id": "wKu3bssScaLo",
        "outputId": "82d0b8e3-5b3b-4c29-b2c8-9e64072d7d87"
      },
      "source": [
        "len(bagofwords)"
      ],
      "execution_count": null,
      "outputs": [
        {
          "output_type": "execute_result",
          "data": {
            "text/plain": [
              "66"
            ]
          },
          "metadata": {
            "tags": []
          },
          "execution_count": 138
        }
      ]
    },
    {
      "cell_type": "code",
      "metadata": {
        "colab": {
          "base_uri": "https://localhost:8080/",
          "height": 34
        },
        "id": "9UwRL3Ldcbni",
        "outputId": "f69f5647-17f7-48ee-e679-55f8a41d0647"
      },
      "source": [
        "set(bagofwords).issubset(model.vocab)"
      ],
      "execution_count": null,
      "outputs": [
        {
          "output_type": "execute_result",
          "data": {
            "text/plain": [
              "True"
            ]
          },
          "metadata": {
            "tags": []
          },
          "execution_count": 139
        }
      ]
    },
    {
      "cell_type": "code",
      "metadata": {
        "id": "f6_ffBXScoOa"
      },
      "source": [
        "simi_matrix=np.zeros((len(bagofwords),len(bagofwords)))"
      ],
      "execution_count": null,
      "outputs": []
    },
    {
      "cell_type": "code",
      "metadata": {
        "colab": {
          "base_uri": "https://localhost:8080/",
          "height": 122
        },
        "id": "xtc6IbLpcvTB",
        "outputId": "e7ea06e7-3f5f-4b7f-ec8d-e8ff6f835ca6"
      },
      "source": [
        "for i in tqdm(range(len(bagofwords))):\n",
        "  for j in range(len(bagofwords)):\n",
        "    simi_matrix[i][j]=model.similarity(bagofwords[i],bagofwords[j])"
      ],
      "execution_count": null,
      "outputs": [
        {
          "output_type": "stream",
          "text": [
            "\n",
            "  0%|          | 0/66 [00:00<?, ?it/s]\u001b[A/usr/local/lib/python3.6/dist-packages/gensim/matutils.py:737: FutureWarning: Conversion of the second argument of issubdtype from `int` to `np.signedinteger` is deprecated. In future, it will be treated as `np.int64 == np.dtype(int).type`.\n",
            "  if np.issubdtype(vec.dtype, np.int):\n",
            "\n",
            "100%|██████████| 66/66 [00:00<00:00, 381.19it/s]\n"
          ],
          "name": "stderr"
        }
      ]
    },
    {
      "cell_type": "code",
      "metadata": {
        "colab": {
          "base_uri": "https://localhost:8080/",
          "height": 238
        },
        "id": "3eV-qH6sc3DM",
        "outputId": "0be76681-7bdf-49ae-b607-998ce789ba7a"
      },
      "source": [
        "simi_matrix"
      ],
      "execution_count": null,
      "outputs": [
        {
          "output_type": "execute_result",
          "data": {
            "text/plain": [
              "array([[1.        , 0.36373129, 0.44717848, ..., 0.4776668 , 0.27969456,\n",
              "        0.5930348 ],\n",
              "       [0.36373129, 1.00000012, 0.64902401, ..., 0.30236477, 0.2982412 ,\n",
              "        0.36406419],\n",
              "       [0.44717848, 0.64902401, 0.99999994, ..., 0.41321895, 0.26900902,\n",
              "        0.36631155],\n",
              "       ...,\n",
              "       [0.4776668 , 0.30236477, 0.41321895, ..., 1.        , 0.32790142,\n",
              "        0.28980109],\n",
              "       [0.27969456, 0.2982412 , 0.26900902, ..., 0.32790142, 1.        ,\n",
              "        0.2268275 ],\n",
              "       [0.5930348 , 0.36406419, 0.36631155, ..., 0.28980109, 0.2268275 ,\n",
              "        1.        ]])"
            ]
          },
          "metadata": {
            "tags": []
          },
          "execution_count": 142
        }
      ]
    },
    {
      "cell_type": "code",
      "metadata": {
        "id": "BJDAh5mkc440"
      },
      "source": [
        "features={}\n",
        "for i in range(len(bagofwords)-1):\n",
        "  similar=[]\n",
        "  for j in range(i+1,len(bagofwords)):\n",
        "    if simi_matrix[i][j]>=0.7:\n",
        "      similar.append(bagofwords[j])\n",
        "  features[bagofwords[i]]=similar\n",
        "features[bagofwords[-1]]=[]    \n"
      ],
      "execution_count": null,
      "outputs": []
    },
    {
      "cell_type": "code",
      "metadata": {
        "id": "2os0b1W1dCag"
      },
      "source": [
        "features_list=[features[k]+[k] for k in list(features)]"
      ],
      "execution_count": null,
      "outputs": []
    },
    {
      "cell_type": "code",
      "metadata": {
        "colab": {
          "base_uri": "https://localhost:8080/",
          "height": 34
        },
        "id": "uZhzONDAdEMH",
        "outputId": "d4635a39-78f1-4d1a-d50a-4c7ec7d5d4d9"
      },
      "source": [
        "len(features_list)"
      ],
      "execution_count": null,
      "outputs": [
        {
          "output_type": "execute_result",
          "data": {
            "text/plain": [
              "66"
            ]
          },
          "metadata": {
            "tags": []
          },
          "execution_count": 146
        }
      ]
    },
    {
      "cell_type": "code",
      "metadata": {
        "id": "KAL8jvJUdNbS"
      },
      "source": [
        "condensed_feature = list(merge_common(features_list))"
      ],
      "execution_count": null,
      "outputs": []
    },
    {
      "cell_type": "code",
      "metadata": {
        "colab": {
          "base_uri": "https://localhost:8080/",
          "height": 884
        },
        "id": "Yb9JWBVYdZvy",
        "outputId": "6ebe0cfe-9eef-4772-b0bd-4b27cb503e05"
      },
      "source": [
        "condensed_feature"
      ],
      "execution_count": null,
      "outputs": [
        {
          "output_type": "execute_result",
          "data": {
            "text/plain": [
              "[['alert'],\n",
              " ['medical'],\n",
              " ['department', 'emergency'],\n",
              " ['cardiac', 'heart'],\n",
              " ['pain'],\n",
              " ['pressure'],\n",
              " ['s/p'],\n",
              " ['disease'],\n",
              " ['artery', 'coronary'],\n",
              " ['pneumonia', 'sepsis'],\n",
              " ['pcp'],\n",
              " ['diabetes'],\n",
              " ['secondary'],\n",
              " ['chills', 'fever', 'fevers', 'shortness'],\n",
              " ['abdominal'],\n",
              " ['breath'],\n",
              " ['respiratory'],\n",
              " ['urinary'],\n",
              " ['incision', 'incisions'],\n",
              " ['left', 'right'],\n",
              " ['swimming'],\n",
              " ['breathing'],\n",
              " ['bleeding'],\n",
              " ['questions'],\n",
              " ['dry'],\n",
              " ['cancer'],\n",
              " ['with'],\n",
              " ['coumadin'],\n",
              " ['symptoms'],\n",
              " ['low'],\n",
              " ['aspirin'],\n",
              " ['antibiotics'],\n",
              " ['pulmonary'],\n",
              " ['wound'],\n",
              " ['tract'],\n",
              " ['kidney', 'renal'],\n",
              " ['drainage'],\n",
              " ['blood'],\n",
              " ['chest'],\n",
              " ['infection'],\n",
              " ['atrial', 'fibrillation'],\n",
              " ['acute', 'chronic'],\n",
              " ['lotions', 'ointments'],\n",
              " ['diet'],\n",
              " ['congestive', 'failure'],\n",
              " ['redness'],\n",
              " ['consciousness'],\n",
              " ['surgeon', 'surgery'],\n",
              " ['hours'],\n",
              " ['baths'],\n",
              " ['interactive']]"
            ]
          },
          "metadata": {
            "tags": []
          },
          "execution_count": 148
        }
      ]
    },
    {
      "cell_type": "code",
      "metadata": {
        "colab": {
          "base_uri": "https://localhost:8080/",
          "height": 34
        },
        "id": "ef8TdritdpSq",
        "outputId": "5660b616-c486-454b-f9a5-c300b9b1de46"
      },
      "source": [
        "len(condensed_feature)"
      ],
      "execution_count": null,
      "outputs": [
        {
          "output_type": "execute_result",
          "data": {
            "text/plain": [
              "51"
            ]
          },
          "metadata": {
            "tags": []
          },
          "execution_count": 149
        }
      ]
    },
    {
      "cell_type": "code",
      "metadata": {
        "id": "mjfF0zB4daqP"
      },
      "source": [
        "condensed_feature_dict={}\n",
        "count=0\n",
        "for i in condensed_feature:\n",
        "  condensed_feature_dict['f'+str(count)]=i\n",
        "  count+=1"
      ],
      "execution_count": null,
      "outputs": []
    },
    {
      "cell_type": "code",
      "metadata": {
        "colab": {
          "base_uri": "https://localhost:8080/",
          "height": 54
        },
        "id": "cbrkfgRldr3j",
        "outputId": "9df5f849-fe5c-4c4f-cd23-99ea85c68095"
      },
      "source": [
        "print(condensed_feature_dict)"
      ],
      "execution_count": null,
      "outputs": [
        {
          "output_type": "stream",
          "text": [
            "{'f0': ['alert'], 'f1': ['medical'], 'f2': ['department', 'emergency'], 'f3': ['cardiac', 'heart'], 'f4': ['pain'], 'f5': ['pressure'], 'f6': ['s/p'], 'f7': ['disease'], 'f8': ['artery', 'coronary'], 'f9': ['pneumonia', 'sepsis'], 'f10': ['pcp'], 'f11': ['diabetes'], 'f12': ['secondary'], 'f13': ['chills', 'fever', 'fevers', 'shortness'], 'f14': ['abdominal'], 'f15': ['breath'], 'f16': ['respiratory'], 'f17': ['urinary'], 'f18': ['incision', 'incisions'], 'f19': ['left', 'right'], 'f20': ['swimming'], 'f21': ['breathing'], 'f22': ['bleeding'], 'f23': ['questions'], 'f24': ['dry'], 'f25': ['cancer'], 'f26': ['with'], 'f27': ['coumadin'], 'f28': ['symptoms'], 'f29': ['low'], 'f30': ['aspirin'], 'f31': ['antibiotics'], 'f32': ['pulmonary'], 'f33': ['wound'], 'f34': ['tract'], 'f35': ['kidney', 'renal'], 'f36': ['drainage'], 'f37': ['blood'], 'f38': ['chest'], 'f39': ['infection'], 'f40': ['atrial', 'fibrillation'], 'f41': ['acute', 'chronic'], 'f42': ['lotions', 'ointments'], 'f43': ['diet'], 'f44': ['congestive', 'failure'], 'f45': ['redness'], 'f46': ['consciousness'], 'f47': ['surgeon', 'surgery'], 'f48': ['hours'], 'f49': ['baths'], 'f50': ['interactive']}\n"
          ],
          "name": "stdout"
        }
      ]
    },
    {
      "cell_type": "code",
      "metadata": {
        "id": "jAWjmAZQdvOb"
      },
      "source": [
        "all_vocab=[a for b in condensed_feature for a in b]"
      ],
      "execution_count": null,
      "outputs": []
    },
    {
      "cell_type": "code",
      "metadata": {
        "colab": {
          "base_uri": "https://localhost:8080/",
          "height": 66,
          "referenced_widgets": [
            "ca2d98d6bc0c463abf3806fff04dd00a",
            "8f5e459a3ac84d5997a32a9e5379cdc1",
            "5805add74ebb4ee8ac13f670d6207884",
            "01eef74b50d1464dbb8a56dcad55a136",
            "f8823d864505410e95ed73a666989ceb",
            "6ecc30e4cace4bdb8cff6b8b05825063",
            "60d454a9e32f4acd92845a3b1c7ebc71",
            "e45e31870dde4d51bf97ef72fc4e4740"
          ]
        },
        "id": "rhBCXIr0d5T1",
        "outputId": "31709849-ed19-407e-c677-ca3e5f80cc5f"
      },
      "source": [
        "diagnosis_icd9category['med_terms_condensed']=diagnosis_icd9category.med_terms_token.progress_apply(lambda x:list(set(x).intersection(set(all_vocab))))"
      ],
      "execution_count": null,
      "outputs": [
        {
          "output_type": "display_data",
          "data": {
            "application/vnd.jupyter.widget-view+json": {
              "model_id": "ca2d98d6bc0c463abf3806fff04dd00a",
              "version_major": 2,
              "version_minor": 0
            },
            "text/plain": [
              "HBox(children=(FloatProgress(value=0.0, max=41967.0), HTML(value='')))"
            ]
          },
          "metadata": {
            "tags": []
          }
        },
        {
          "output_type": "stream",
          "text": [
            "\n"
          ],
          "name": "stdout"
        }
      ]
    },
    {
      "cell_type": "code",
      "metadata": {
        "colab": {
          "base_uri": "https://localhost:8080/",
          "height": 1000
        },
        "id": "zlzpdQMIexyH",
        "outputId": "42c2bca7-84a8-4f1f-fd8f-fa771f43a6e7"
      },
      "source": [
        "diagnosis_icd9category"
      ],
      "execution_count": null,
      "outputs": [
        {
          "output_type": "execute_result",
          "data": {
            "text/html": [
              "<div>\n",
              "<style scoped>\n",
              "    .dataframe tbody tr th:only-of-type {\n",
              "        vertical-align: middle;\n",
              "    }\n",
              "\n",
              "    .dataframe tbody tr th {\n",
              "        vertical-align: top;\n",
              "    }\n",
              "\n",
              "    .dataframe thead th {\n",
              "        text-align: right;\n",
              "    }\n",
              "</style>\n",
              "<table border=\"1\" class=\"dataframe\">\n",
              "  <thead>\n",
              "    <tr style=\"text-align: right;\">\n",
              "      <th></th>\n",
              "      <th>HADM_ID</th>\n",
              "      <th>discharge diagnosis:</th>\n",
              "      <th>icd9_category</th>\n",
              "      <th>medical_terms_list</th>\n",
              "      <th>med_terms_token</th>\n",
              "      <th>med_terms_condensed</th>\n",
              "    </tr>\n",
              "  </thead>\n",
              "  <tbody>\n",
              "    <tr>\n",
              "      <th>0</th>\n",
              "      <td>167118.0</td>\n",
              "      <td>discharge diagnosis:  copd, coronary artery disease/atypical angina (lad 30%, rca 30%,  ef 63%), hypercholesterolemia, hypothyroidism, hypertension,  hiatal hernia, cerebral vascular accident,s/p motor vehicle  colision-&gt; head injury &amp; rib fracture.  tbm- s/p tracheoplasty.      discharge condition:  good    discharge instructions:  please update dr.&lt;name&gt; &lt;telephone&gt; office for:  fever,  shortness of breath, chest pain , productive cough or if you  have any questions or concerns.      completed by: &lt;date&gt;</td>\n",
              "      <td>[496, 553, 518, 453, 519, 276]</td>\n",
              "      <td>['discharge diagnosis', 'coronary artery disease/atypical angina', 'hypothyroidism', 'rca', 'cerebral vascular accident', 'questions', 'hypertension', 'discharge condition', 'productive cough', 'concerns', 'chest pain', 'hypercholesterolemia', 'discharge', 'hiatal hernia', 'rib fracture', 's/p motor vehicle', 'office', 'telephone']</td>\n",
              "      <td>[fracture, pain, rib, s/p, discharge, artery, accident, diagnosis, rca, hernia, productive, concerns, cerebral, hiatal, vehicle, telephone, questions, hypothyroidism, hypertension, angina, condition, disease/atypical, office, chest, coronary, hypercholesterolemia, vascular, motor, cough]</td>\n",
              "      <td>[questions, chest, pain, s/p, artery, coronary]</td>\n",
              "    </tr>\n",
              "    <tr>\n",
              "      <th>1</th>\n",
              "      <td>196489.0</td>\n",
              "      <td>discharge diagnosis:  primary:  1. chronic obstructive pulmonary disease exacerbation  2. respiratory failure with intubation  3. upper gastrointestinal bleed/peptic ulcer disease  4. hypertension  5. anxiety    secondary:  1. coronary artery disease  2. hypothyroidism      discharge condition:  mental status: confused - sometimes.  level of consciousness: alert and interactive.  activity status: out of bed with assistance to chair or  wheelchair.      discharge instructions:  you were admitted to the hospital with shortness of breath and  respiratory failure and lethargy. in the emergency department,  you were breathing very fast and a breathing tube was inserted  into your airway to help you breathe. you were admitted to the  intensive care unit. there, you were managed with steroids and  antibiotics and the tube was eventually removed from your  airway, allowing you to breathe on your own. you also underwent  bronchoscopy which looked at the inside of your airways.  .  during your time in the intensive care unit, you developed a  gastrointestinal bleed. a tube was placed into your stomach and  you underwent an endoscopic procedure to look at your esophagus  and stomach. this showed inflammation in your esophagusand  ulcers in your stomach.  .  you should continue to use nasal oxygen by nasal cannula as  needed. you should continue the steroid taper as instructed. you  should call your doctor or return to the emergency room if you  have increasing difficulty breathing or shortness of breath,  wheezing, chest pain, blood in your stool or vomiting blood.  .  there are some changes in your medications.  start pantoprazole 40 mg twice daily and stop omeprazole  start hydrochlorothiazide  start prednisone, taking 30 mg for 3 days, then 20 mg for 4  days, then 10 mg for 4 days, then 5 mg for 4 days, then stop.  start colace and senna as needed for constipation  can use morphine to alleviate symptoms of respiratory discomfort  stop furosemide  stop zolpidem  stop aspirin  increase diovan to 240 mg daily  decrease trazodone to 50 mg daily  .  follow up as indicated below.    followup instructions:  you have an appointment to follow up with dr. &lt;name&gt;, your  primary care physician, &lt;name&gt; [**8-29**] at 1pm. his address is [**location (un) 1822**], [**apartment address(1) 1823**], [**location (un) **],[**numeric identifier 1700**]. the phone is  &lt;telephone&gt;.    you have an appointment to follow up with dr. &lt;name&gt; &lt;name&gt; in  the  &lt;name&gt; at &lt;hospital&gt; on the [**location (un) 453**]. their phone number is  &lt;telephone&gt;.    department: div. of gastroenterology  when: wednesday  &lt;date&gt;  at 3:00 pm  with: &lt;name&gt; &lt;name&gt;, md &lt;telephone&gt;  building: ra &lt;name&gt; (&lt;name&gt;/&lt;name&gt; complex) [**location (un) **]  campus: east     best parking: main garage</td>\n",
              "      <td>[487, 416, 272, 530, 414, 553, 531, 518, 401, 519, 348, V02, 359, 584, 458, 578, 491, E93, 276, 244]</td>\n",
              "      <td>['your airway', 'followup', 'increasing', 'alert', 'shortness of breath', 'your airways', 'your time', 'changes', 'garage', 'anxiety', 'tube', 'respiratory failure', 'intensive care unit', 'return to', 'days', 'gastroenterology', 'stop omeprazole', 'prednisone', 'stop', 'alleviate', 'east', 'parking', 'respiratory discomfort', 'pantoprazole', 'furosemide', 'daily', 'appointment', 'breathe', 'md &lt;telephone', 'admitted', '**apartment address(1', 'endoscopic procedure', 'discharge condition', 'nasal cannula', 'breathing', 'steroid taper', 'discharge diagnosis', 'intubation', 'hypothyroidism', '**numeric identifier 1700**', 'stomach', 'vomiting blood', 'hypertension', 'confused', 'hospital', 'chair', 'symptoms', 'trazodone', 'phone', 'div', 'chronic obstructive pulmonary disease', 'lethargy', 'constipation', 'aspirin', 'phone number', 'nasal oxygen', 'discharge instructions', 'emergency department', 'your doctor', 'chest pain', 'your medications', 'hydrochlorothiazide', 'morphine', 'breathing tube', 'exacerbation', 'your esophagus', 'difficulty breathing', 'blood', 'instructed', 'your stool', 'sometimes', 'senna', 'emergency room', '**location', 'physician', 'upper gastrointestinal bleed/peptic ulcer disease', 'consciousness', 'coronary artery disease', 'your stomach', 'your esophagusand', 'inflammation', 'gastrointestinal bleed', 'steroids', 'interactive']</td>\n",
              "      <td>[discharge, omeprazole, discomfort, gastroenterology, prednisone, time, pantoprazole, doctor, intensive, appointment, number, telephone, steroid, airways, stomach, confused, hospital, md, condition, bleed, **location, stool, coronary, steroids, phone, alert, your, 1700**, anxiety, tube, diagnosis, address, identifier, alleviate, breath, respiratory, furosemide, taper, unit, daily, admitted, breathing, shortness, morphine, hydrochlorothiazide, gastrointestinal, upper, instructed, senna, instructions, chronic, failure, inflammation, div, vomiting, followup, 1, ulcer, disease, days, **apartment, cannula, to, hypothyroidism, chair, symptoms, oxygen, return, of, lethargy, aspirin, pulmonary, esophagusand, department, blood, chest, medications, room, intubation, changes, interactive, increasing, emergency, pain, care, artery, procedure, parking, east, stop, breathe, obstructive, nasal, bleed/peptic, hypertension, trazodone, constipation, airway, esophagus, exacerbation, ...]</td>\n",
              "      <td>[department, blood, alert, chest, symptoms, emergency, breath, respiratory, chronic, consciousness, pain, failure, shortness, aspirin, disease, artery, pulmonary, coronary, interactive, breathing]</td>\n",
              "    </tr>\n",
              "    <tr>\n",
              "      <th>2</th>\n",
              "      <td>135453.0</td>\n",
              "      <td>discharge diagnosis:  1. cervical spondylosis with calcification of posterior  longitudinal ligament.  2. fracture dislocation c6-c7.  3. ossification of the posterior longitudinal ligament.  4. aspiration pneumonia      1. cervical spondylosis with calcification of posterior      longitudinal ligament.  2. fracture dislocation c6-c7.  3. ossification of the posterior longitudinal ligament.  4. aspiration pneumonia    1. cervical spondylosis with calcification of posterior      longitudinal ligament.  2. fracture dislocation c6-c7.  3. ossification of the posterior longitudinal ligament.  4. aspiration pneumonia      discharge condition:  stable to outside facility      discharge instructions:  patient has been made cmo at the request of him and his family.  he has a foley placed for urinary retention. please use morphine  as needed for pain and olanzapine as needed for agitiation.  patient has known history of aspiration documented on speech and  swallow. it is the patient and the family's wish for him to  continue to eat and drink as desired.    followup instructions:  follow up with your primary care physician as needed.</td>\n",
              "      <td>[V12, 788, 805, 507, V45, 401, 427, 453, E88, 293, 802, 428]</td>\n",
              "      <td>['family', 'followup', 'aspiration', 'agitiation', 'drink', 'fracture', 'pain', 'longitudinal ligament', 'fracture dislocation', 'aspiration pneumonia', 'history', 'posterior longitudinal ligament', 'discharge condition', 'cervical spondylosis', 'discharge diagnosis', 'ossification', 'foley', 'eat', 'calcification', 'patient', 'c6-c7', 'dislocation', 'olanzapine', 'discharge instructions', 'morphine', 'posterior  longitudinal ligament', 'facility', \"family's\", 'speech', 'primary care physician', 'urinary retention', 'posterior']</td>\n",
              "      <td>[family, followup, aspiration, drink, fracture, pain, retention, discharge, care, primary, pneumonia, diagnosis, urinary, history, spondylosis, ligament, longitudinal, ossification, eat, foley, calcification, cervical, patient, c6-c7, dislocation, olanzapine, condition, morphine, facility, physician, instructions, speech, 's, agitiation, posterior]</td>\n",
              "      <td>[pain, pneumonia, urinary]</td>\n",
              "    </tr>\n",
              "    <tr>\n",
              "      <th>3</th>\n",
              "      <td>170490.0</td>\n",
              "      <td>discharge diagnosis:  brain lesion    discharge condition:  mental status: clear and coherent.  level of consciousness: alert and interactive.  activity status: ambulatory - independent.  neuro exam intact.    discharge instructions:  ??????\\thave a friend/family member check your incision daily for  signs of infection.  ??????\\ttake your pain medicine as prescribed.  ??????\\texercise should be limited to walking; no lifting, straining,  or excessive bending.  ??????\\tyou have dissolvable sutures, you must keep that area dry for  10 days.  ??????\\tyou may shower before this time using a shower cap to cover  your head.  ??????\\tincrease your intake of fluids and fiber, as narcotic pain  medicine can cause constipation. we generally recommend taking  an over the counter stool softener, such as docusate (colace)  while taking narcotic pain medication.  ??????\\tunless directed by your doctor, do not take any  anti-inflammatory medicines such as motrin, aspirin, advil, and  ibuprofen etc.  ??????\\tif you have been prescribed dilantin (phenytoin) for  anti-seizure medicine, take it as prescribed and follow up with  laboratory blood drawing in one week.  this can be drawn at your  pcp??????s office, but please have the results faxed to &lt;telephone&gt;.  if you have been discharged on keppra (levetiracetam), you will  not require blood work monitoring.  ??????\\tif you are being sent home on steroid medication, make sure  you are taking a medication to protect your stomach (prilosec,  protonix, or pepcid), as these medications can cause stomach  irritation.  make sure to take your steroid medication with  meals, or a glass of milk.  ??????\\tclearance to drive and return to work will be addressed at  your post-operative office visit.  ??????\\tmake sure to continue to use your incentive spirometer while  at home.  call your surgeon immediately if you experience any of the  following    ??????\\tnew onset of tremors or seizures.  ??????\\tany confusion or change in mental status.  ??????\\tany numbness, tingling, weakness in your extremities.  ??????\\tpain or headache that is continually increasing, or not  relieved by pain medication.  ??????\\tany signs of infection at the wound site: increasing redness,  increased swelling, increased tenderness, or drainage.  ??????\\tfever greater than or equal to 101?????? f.    followup instructions:  ??????\\tplease return to the office in [**6-28**] days (from your date of  surgery) for a wound check. this appointment can be made with  the nurse practitioner.  please make this appointment by calling  &lt;telephone&gt;. if you live quite a distance from our office,  please make arrangements for the same, with your pcp.</td>\n",
              "      <td>[710, 225, 443, 714, 530, V43]</td>\n",
              "      <td>['change', 'increased', 'fiber', 'blood work', 'week', 'pepcid', 'clearance', 'straining', 'prilosec', 'appointment', 'follow up', 'exercise', 'fever', 'stomach', 'anti-seizure medicine', 'tremors', 'numbness', 'incentive', 'drainage', 'ibuprofen', 'seizures', 'discharged', 'alert', 'dissolvable sutures', 'milk', 'bending', 'prescribed', 'colace', 'levetiracetam', 'discharge condition', 'discharge diagnosis', 'medication', 'post-operative', 'weakness', 'fluids', 'spirometer', 'phenytoin', 'shower cap', 'narcotic pain', 'excessive', 'results', 'redness', 'exam', 'surgeon', 'area dry', 'docusate', 'faxed', 'walking', 'confusion', 'days', 'nurse practitioner', 'coherent', 'ambulatory', 'increase', 'your pain medicine', 'motrin', 'stool softener', 'steroid medication', 'wound check', 'glass', 'aspirin', 'distance', 'discharge instructions', 'your doctor', 'office', 'keppra', 'medications', 'your pcp', 'headache', 'laboratory blood drawing', 'tenderness', 'mental status', 'interactive', 'your intake', 'increasing', 'advil', 'wound site', 'your extremities', 'return to', 'monitoring', 'intact', 'tingling', 'pain medication', 'independent', 'constipation', 'live', 'no lifting', 'infection', 'consciousness', 'anti-inflammatory medicines', 'your stomach', 'home']</td>\n",
              "      <td>[change, increased, fiber, discharge, narcotic, week, intake, pepcid, clearance, shower, straining, doctor, prilosec, appointment, up, medicines, exercise, fever, steroid, stomach, anti-inflammatory, condition, wound, tremors, numbness, incentive, drainage, ibuprofen, seizures, lifting, nurse, stool, discharged, alert, your, milk, diagnosis, bending, extremities, prescribed, colace, mental, levetiracetam, sutures, medication, post-operative, weakness, fluids, spirometer, phenytoin, softener, anti-seizure, excessive, instructions, results, redness, exam, surgeon, medicine, docusate, practitioner, faxed, dissolvable, walking, confusion, pcp, days, coherent, ambulatory, area, drawing, increase, to, dry, motrin, glass, return, aspirin, check, distance, office, keppra, blood, work, medications, headache, tenderness, interactive, laboratory, increasing, advil, pain, cap, status, monitoring, intact, follow, tingling, independent, constipation, ...]</td>\n",
              "      <td>[fever, dry, pcp, drainage, alert, blood, infection, redness, consciousness, pain, surgeon, aspirin, wound, interactive]</td>\n",
              "    </tr>\n",
              "    <tr>\n",
              "      <th>4</th>\n",
              "      <td>134727.0</td>\n",
              "      <td>discharge diagnosis:  pneumonia    discharge condition:  expired    discharge instructions:  na    followup instructions:  na                                 &lt;name&gt; &lt;name&gt; md [**md number(2) 1851**]</td>\n",
              "      <td>[486, 518, V45, V58, 401, 577, 415, 428]</td>\n",
              "      <td>['discharge diagnosis', 'discharge instructions', 'pneumonia', 'discharge condition']</td>\n",
              "      <td>[instructions, condition, discharge, pneumonia, diagnosis]</td>\n",
              "      <td>[pneumonia]</td>\n",
              "    </tr>\n",
              "    <tr>\n",
              "      <th>...</th>\n",
              "      <td>...</td>\n",
              "      <td>...</td>\n",
              "      <td>...</td>\n",
              "      <td>...</td>\n",
              "      <td>...</td>\n",
              "      <td>...</td>\n",
              "    </tr>\n",
              "    <tr>\n",
              "      <th>41962</th>\n",
              "      <td>127716.0</td>\n",
              "      <td>discharge diagnosis:  aortic stenosis and coronary artery disease s/p aortic valve  replacement and coronary artery bypass graft  past medical history:  hypertension  hyperlipidemia  diabetes mellitus  osteoarthritis  phlebitis  lung cancer  hiatal hernia  hypthyroidism  s/p right lobectomy [**2117**]  s/p lymph node dissection in neck  s/p beast lumpectomy  s/p hysterectomy  s/p c section  s/p tonsillectomy      discharge condition:  alert and oriented x3 nonfocal  ambulating, steady gait  incisional pain managed with ultram  incisions:  sternal - healing well, no erythema or drainage  1+ le edema      discharge instructions:  please shower daily including washing incisions gently with mild  soap, no baths or swimming until cleared by surgeon. look at  your incisions daily for redness or drainage  please no lotions, cream, powder, or ointments to incisions  each morning you should weigh yourself and then in the evening  take your temperature, these should be written down on the chart    no driving for one month or while taking narcotics. driving will  be discussed at follow up appointment with surgeon. no lifting  more than 10 pounds for 10 weeks  please call with any questions or concerns &lt;telephone&gt;  females: please wear bra to reduce pulling on incision, avoid  rubbing on lower edge  **please call cardiac surgery office with any questions or  concerns &lt;telephone&gt;. answering service will contact on call  person during off hours**    followup instructions:  you are scheduled for the following appointments  wound care, &lt;name&gt;, &lt;name&gt;  phone:&lt;telephone&gt;  date/time: &lt;date&gt;  10:00    surgeon: dr. &lt;name&gt; &lt;telephone&gt; date/time: &lt;date&gt;  1:15  cardiologist: dr. &lt;name&gt;  &lt;date&gt;  at 3:00p    please call to schedule appointments with your  primary care dr. &lt;name&gt; &lt;name&gt; in &lt;telephone&gt;    **please call cardiac surgery office with any questions or  concerns &lt;telephone&gt;. answering service will contact on call  person during off hours**                                   &lt;name&gt; &lt;name&gt; md [**md number(2) 748**]    completed by: &lt;date&gt;</td>\n",
              "      <td>[416, 424, 272, V10, V85, 414, 250, 401, 278, 782]</td>\n",
              "      <td>['pulling', 'no driving', 'off hours**', 'chart', 'washing', 'cardiac surgery', 'schedule appointments', 'drainage  1', 's/p aortic valve  replacement', 'no baths', 'cream', 'no erythema', 'contact', 'evening', 'medical history', 'scheduled', 'sternal', 'coronary artery bypass graft', 'incisions', 'narcotics', 'appointment', 'incision', 'discharge condition', 'swimming', 'telephone', 'discharge diagnosis', 'questions', 'month', '**2117**', 'powder', 'reduce', 'neck  s/p beast', 'mild', 'incisional pain', 'steady gait', 'nonfocal', 'discharge instructions', 'hiatal hernia', 'off hours', 'office', 'drainage', 'lotions', 'your temperature', 'morning', 'appointments', 'weeks', '**md number(2', 'lower edge', 'redness', 'coronary artery disease', 'healing', 'surgeon', 'written down', 'wear bra', 'ointments']</td>\n",
              "      <td>[wear, pulling, 1, lower, medical, chart, washing, pain, 2, s/p, down, valve, artery, discharge, gait, replacement, your, cream, disease, hours**, diagnosis, hernia, schedule, contact, evening, hiatal, edge, history, scheduled, aortic, sternal, neck, bypass, incisions, narcotics, appointment, driving, incision, swimming, cardiac, telephone, **md, number, questions, month, incisional, **2117**, temperature, off, powder, condition, reduce, mild, nonfocal, no, office, drainage, beast, lotions, written, appointments, steady, morning, weeks, bra, instructions, erythema, redness, surgery, healing, graft, surgeon, hours, baths, coronary, ointments]</td>\n",
              "      <td>[questions, baths, drainage, lotions, ointments, medical, redness, coronary, pain, surgery, s/p, surgeon, disease, artery, incisions, hours, incision, swimming, cardiac]</td>\n",
              "    </tr>\n",
              "    <tr>\n",
              "      <th>41963</th>\n",
              "      <td>186377.0</td>\n",
              "      <td>discharge diagnosis:  coronary artery disease  pmh:  hypertension, diabetes, copd, diastolic heart failure, ef 45-50%  past surgical history  penile implant      discharge condition:  alert and oriented x3 nonfocal  ambulating, gait steady  sternal pain managed with oral analgesics  sternal incision - healing well, no erythema or drainage  right lower extremity saph site clean/dry/intact      discharge instructions:  please draw bun/cre, inr at least every other day until they  stabilize  please shower daily including washing incisions gently with mild  soap, no baths or swimming, and look at your incisions  please no lotions, cream, powder, or ointments to incisions  each morning you should weigh yourself and then in the evening  take your temperature, these should be written down on the chart  no driving for approximately one month and while taking  narcotics, will be discussed at follow up appointment with  surgeon when you will be able to drive  no lifting more than 10 pounds for 10 weeks  please call with any questions or concerns &lt;telephone&gt;  **please call cardiac surgery office with any questions or  concerns &lt;telephone&gt;. answering service will contact on call  person during off hours**      followup instructions:  you are scheduled for the following appointments:  surgeon dr. &lt;name&gt; &lt;telephone&gt;,  &lt;date&gt;  1:00  cardiologist dr. &lt;name&gt;. &lt;name&gt; office will call you with an  appointment  please call to schedule the following:  primary care dr. &lt;name&gt;,&lt;name&gt; in [**3-8**] weeks  please follow up with dr. &lt;name&gt; &lt;name&gt; call &lt;telephone&gt; to  schedule an appointment  dialysis,schedule hemodialysis unit date/time: &lt;date&gt;  12:00  renal: dr. &lt;name&gt; &lt;telephone&gt;  diabetes: if patient requires endocrine follow-up after  discharge from rehab, please contact &lt;name&gt;, &lt;name&gt; at &lt;hospital&gt;  **please call cardiac surgery office with any questions or  concerns &lt;telephone&gt;. answering service will contact on call  person during off hours**    inr draw on [**8-16**]  goal inr [**1-5**]  indication: atrial fibrillation                                   &lt;name&gt; &lt;name&gt; md [**md number(2) 266**]    completed by: &lt;date&gt;</td>\n",
              "      <td>[424, 511, 305, 707, 403, 496, 784, 250, 414, V58, 427, 428, 584, 008, 997, 434, 410, 585, 041, 599]</td>\n",
              "      <td>['bun/cre', 'chart', 'off hours**      ', 'please contact', 'washing', 'schedule hemodialysis unit', 'endocrine follow-up', 'cardiac surgery', 'gait', 'day', 'sternal incision', 'nonfocal  ambulating', 'no baths', 'cream', 'no erythema', 'contact', 'evening', 'schedule', 'inr', 'surgical history', 'scheduled', 'incisions', 'narcotics', 'appointment', 'oral analgesics', 'discharge condition', 'diastolic heart failure', 'swimming', 'telephone', 'discharge diagnosis', 'questions', 'name&gt;.', 'your incisions', 'hospital', 'month', 'patient', 'copd', 'powder', 'mild', 'rehab', 'off hours', 'discharge instructions', 'office', 'atrial fibrillation', 'drainage', 'your temperature', 'morning', 'appointments', 'weeks', 'coronary artery disease', 'healing', '**8', 'written down', 'diabetes', 'ointments']</td>\n",
              "      <td>[bun/cre, follow-up, endocrine, please, surgical, analgesics, chart, diastolic, heart, washing, down, gait, discharge, your, day, ambulating, artery, cream, disease, hours**, diagnosis, diabetes, contact, schedule, evening, inr, history, scheduled, sternal, unit, incisions, narcotics, appointment, incision, swimming, cardiac, telephone, questions, hemodialysis, hospital, month, patient, copd, temperature, off, powder, oral, condition, mild, nonfocal, rehab, fibrillation, no, office, drainage, written, atrial, morning, appointments, weeks, instructions, erythema, surgery, failure, healing, **8, name, hours, baths, coronary, ointments]</td>\n",
              "      <td>[questions, diabetes, baths, drainage, ointments, atrial, heart, coronary, fibrillation, failure, surgery, incisions, artery, disease, hours, incision, swimming, cardiac]</td>\n",
              "    </tr>\n",
              "    <tr>\n",
              "      <th>41964</th>\n",
              "      <td>156564.0</td>\n",
              "      <td>discharge diagnosis:  left knee infection  chronic obstructive pulmonary disease exacerbation  acute on chronic kidney injury  congestive heart failure  hypertension      discharge condition:  mental status: clear and coherent.  level of consciousness: alert and interactive.  activity status: out of bed with assistance to chair or  wheelchair.      discharge instructions:  mr. &lt;name&gt;,    you were admitted to the hospital for a infected hardware in  your left knee. our orthopaedics team cleaned out the infection  in your knee and replaced the liner of your prosthesis. they  feel you should follow up with your primary orthopaedic doctor,  dr. &lt;name&gt; &lt;name&gt; at &lt;hospital&gt; (&lt;telephone&gt;), for ongoing  issues about your knee. the cultures of the infection in your  knee grew two different organisms, so we consulted our  infectious disease doctors who recommended a course of iv  antibiotics to help treat your infection. because this infection  occured inside of a joint, a longer course of antibiotics is  required. you went multiple times to the operating room to  wash-out your knee of any remaining infection, and your hardware  was removed. most recently you had a portion of tissue grafted  to your knee to provide for better coverage of your wound, along  with skin graft. your kidney function worsened while you were in  the hospital but it appears to have normalized. this should be  followed up with your primary care physician.    we made the following changes to your medications:  started:  vancomycin (antibiotic)  ceftriaxone (antibiotic)    increased metoprolol for blood pressure    followup instructions:  department: plastic surgery  when: wednesday  &lt;date&gt;  at 3:15 pm  with: &lt;name&gt; &lt;name&gt;, md &lt;telephone&gt;  building: lm &lt;name&gt; bldg (&lt;name&gt;) [**location (un) **]  campus: west     best parking: &lt;name&gt; garage    name: &lt;name&gt;, &lt;name&gt; &lt;name&gt; &lt;name&gt;  location: community physicians associates  address: &lt;hospital&gt;,[**numeric identifier 18406**]  phone: &lt;telephone&gt;  appointment: thursday  &lt;date&gt;  1:15pm    department: infectious disease  when: friday  &lt;date&gt;  at 9:30 am  with: &lt;name&gt; &lt;name&gt;, md &lt;telephone&gt;  building: lm &lt;name&gt; bldg (&lt;name&gt;) &lt;hospital&gt;  campus: west     best parking: &lt;name&gt; garage    name: nabi,&lt;name&gt; md  address: &lt;hospital&gt;,[**numeric identifier 18406**]  phone: &lt;telephone&gt;  **please discuss with the staff at the facility a follow up  appointment with your pcp when you are ready for discharge.      department: plastic surgery  when: wednesday  &lt;date&gt;  at 3:15 pm  with: &lt;name&gt; &lt;name&gt;, md &lt;telephone&gt;  building: lm &lt;name&gt; bldg (&lt;name&gt;) [**location (un) **]  campus: west     best parking: &lt;name&gt; garage    department: infectious disease  when: friday  &lt;date&gt;  at 9:30 am  with: &lt;name&gt; &lt;name&gt;, md &lt;telephone&gt;  building: lm &lt;name&gt; bldg (&lt;name&gt;) &lt;hospital&gt;  campus: west     best parking: &lt;name&gt; garage                                   &lt;name&gt; &lt;name&gt; md [**md number(1) 348**]    completed by: &lt;date&gt;</td>\n",
              "      <td>[V10, 403, 584, V43, 428, 285, 496, 250, V58, 041, 357, 707, 365, 414, 780, 518, 711, 585, 327, V12, E84, E87, 996]</td>\n",
              "      <td>['orthopaedic doctor', 'followup', 'alert', 'hardware', 'nabi,&lt;name', 'congestive heart failure', 'skin graft', 'metoprolol', 'increased', 'operating room', 'worsened', 'changes', 'your infection', 'discharge', 'infected', 'your wound', 'treat', 'cultures', 'parking', 'coherent', 'staff', 'bldg', 'community', 'consulted', 'hospital&gt;,[**numeric identifier 18406*', 'course', 'blood pressure', 'md &lt;telephone', 'admitted', 'liner', 'discharge condition', 'telephone', 'organisms', 'discharge diagnosis', 'hospital', 'chronic kidney injury', 'chair', 'your prosthesis', 'physicians', 'chronic obstructive pulmonary disease', 'grafted', 'normalized', 'west', 'antibiotic', 'antibiotics', 'discharge instructions', 'your medications', 'plastic surgery', 'doctors', 'department', 'portion', 'exacerbation', 'left knee infection', 'orthopaedics', 'infection', 'infectious disease', 'your hardware  ', 'facility', 'recommended', '**location', 'your knee', 'your pcp', 'consciousness', 'joint', 'primary care physician', 'garage', 'tissue', 'your kidney function', 'interactive']</td>\n",
              "      <td>[followup, alert, hardware, heart, infectious, increased, worsened, pressure, prosthesis, your, discharge, infected, disease, care, primary, diagnosis, treat, pcp, identifier, cultures, parking, garage, coherent, tissue, staff, bldg, community, doctor, consulted, course, interactive, injury, knee, operating, admitted, left, obstructive, liner, telephone, organisms, plastic, nabi, skin, hospital, md, chair, physicians, function, grafted, normalized, west, condition, antibiotic, wound, pulmonary, antibiotics, kidney, doctors, 18406*, department, portion, blood, infection, exacerbation, orthopaedics, orthopaedic, facility, recommended, **location, physician, instructions, congestive, chronic, medications, surgery, failure, graft, consciousness, name, room, joint, **numeric, metoprolol, changes]</td>\n",
              "      <td>[department, pcp, blood, alert, wound, infection, heart, congestive, chronic, consciousness, kidney, pressure, failure, surgery, disease, antibiotics, pulmonary, left, interactive]</td>\n",
              "    </tr>\n",
              "    <tr>\n",
              "      <th>41965</th>\n",
              "      <td>172559.0</td>\n",
              "      <td>discharge diagnosis:  primary:  small bowel obstruction  metastatic prostate cancer  anasarca  malnutrition  dehydration  acute renal failure  aspiration pneumonia  .  secondary:  prostate ca s/p xrt and chemo - rising psa (140), lg rp mass,  oa, lbp, diverticulosis w/ colovesical fistula s/p lar [**5-18**], s/p  ileostomy takedown [**10-18**], open ccy      discharge condition:  stable      discharge instructions:  please call your doctor or return to the er for any of the  following:  * you experience new chest pain, pressure, squeezing or  tightness.  * new or worsening cough or wheezing.  * if you are vomiting and cannot keep in fluids or your  medications.  * you are getting dehydrated due to continued vomiting,  diarrhea or other reasons. signs of dehydration include dry  mouth, rapid heartbeat or feeling dizzy or faint when standing.  * you see blood or dark/black material when you vomit or have a  bowel movement.  * your pain is not improving within 8-12 hours or not gone  within 24 hours. call or return immediately if your pain is  getting worse or is changing location or moving to your chest or    back.  *avoid lifting objects &gt; 5lbs until your follow-up appointment  with the surgeon.  *avoid driving or operating heavy machinery while taking pain  medications.  * you have shaking chills, or a fever greater than 101.5 (f)  degrees or 38(c) degrees.  * any serious change in your symptoms, or any new symptoms that  concern you.  * please resume all regular home medications and take any new  meds  as ordered.  * continue to ambulate several times per day.  .  incision care:  -your staples will be removed at your follow-up appointment with  the surgeon, and steri strips will be applied.  -your steri-strips will fall off on their own. please remove any  remaining strips 7-10 days after surgery.  -you may shower, and wash surgical incisions.  -avoid swimming and baths until your follow-up appointment.  -please call the doctor if you have increased pain, swelling,  redness, or drainage from the incision sites.      followup instructions:  1. please follow-up appointment with dr. &lt;name&gt; (&lt;telephone&gt; on  &lt;date&gt;  at 1:15pm for removal of your staples.  2. you have follow-up appointment with dr. &lt;name&gt; &lt;name&gt;, md  phone:&lt;telephone&gt; date/time: &lt;date&gt;  11:00, and chemotherapy at  provider: &lt;name&gt; &lt;name&gt;, rn phone:&lt;telephone&gt; date/time: &lt;date&gt;   12:00  3. provider: &lt;name&gt;,&lt;name&gt; &lt;name&gt; apg (sb)  phone:&lt;telephone&gt; date/time: &lt;date&gt;  10:10                                 &lt;name&gt; &lt;name&gt; md [**md number(1) 17**]    completed by: &lt;date&gt;</td>\n",
              "      <td>[197, 507, 185, 427, 261, 585, V66, 560, 783, 285, 276]</td>\n",
              "      <td>['colovesical fistula s/p lar', 'vomiting', 'diverticulosis', 'dehydrated', 'dry  mouth', 'follow-up', 'followup', 'your symptoms', 'vomit', 'pain', 'pressure', 'increased', 'home medications', 'removal', 'discharge', 'day', 'swelling', 'your pain', 'rapid', 'rp mass', 'psa', 'days', 'signs', 'doctor', 'operating heavy machinery', 'appointment', 'incision sites', 'heartbeat', 'worsening', 'location', 'steri strips', 'discharge condition', 'swimming', 'telephone', 's/p  ileostomy takedown', 'discharge diagnosis', 'fever', 'objects', 'fluids', 'symptoms', 'staples', 'steri-strips', 'md  phone:&lt;telephone&gt; date/time', 'rising', 'small bowel obstruction', 'return', 'wheezing', 'shaking chills', 'acute renal failure', 'chest pain', 'ambulate', 'movement', 'chemo', 'blood', 'dark/black material', 'drainage', 'provider', 'surgical incisions', 'dehydration', 'feeling dizzy', 'your chest', 'prostate cancer', 'lifting', 'surgery', 'surgeon', 'your staples', 'standing', 'hours', 'baths', 'chemotherapy', 'cough', 'squeezing', 'your follow-up']</td>\n",
              "      <td>[surgical, mouth, vomit, increased, removal, discharge, machinery, doctor, heavy, appointment, heartbeat, telephone, fever, md, steri-strips, rising, condition, movement, chemo, drainage, lifting, surgery, chemotherapy, obstruction, standing, hours, bowel, squeezing, phone, fistula, dizzy, your, swelling, diagnosis, signs, rp, incisions, location, operating, swimming, fluids, wheezing, material, renal, acute, takedown, provider, failure, surgeon, dehydrated, vomiting, diverticulosis, followup, strips, day, rapid, psa, days, worsening, cancer, dry, symptoms, return, ambulate, blood, chest, mass, medications, dark/black, colovesical, ileostomy, baths, cough, follow-up, pain, pressure, s/p, shaking, feeling, steri, date/time, incision, objects, staples, prostate, sites, dehydration, small, chills, home, lar]</td>\n",
              "      <td>[pain, pressure, s/p, incisions, incision, swimming, cancer, fever, dry, symptoms, renal, drainage, blood, chest, acute, surgery, failure, surgeon, chills, hours, baths]</td>\n",
              "    </tr>\n",
              "    <tr>\n",
              "      <th>41966</th>\n",
              "      <td>135672.0</td>\n",
              "      <td>discharge diagnosis:  peritonitis secondary to small bowel perforation.  cmv enteritis  b-cell lymphoma  line infection  type 2 diabetes controlled without complications  moderate malnutrition  cad bypass vessle      discharge condition:  stable.  tolerating regular diet  pain well controlled with oral medications.      discharge instructions:  you are being discharged on an antiviral medication called  ganciclovir, which can make your diarhea worse for some time.  please contact your doctor if you experience numbness, tingling  or pain in hands or feet, as this may be a side effect of the  medication.    you will be having labs drawn every other day and sent to dr.  &lt;name&gt; of infectious diseases for monitoring of your blood  counts.    *avoid lifting objects &gt; 5lbs until your follow-up appointment  with the surgeon.    *avoid driving or operating heavy machinery while taking pain  medications.    * continue to ambulate several times per day.    incision care:  -your staples will be removed at your follow up appoinetment.  -steri-strips will be applied and will fall off on their own.  please remove any remaining strips 7-10 days after application.  -you may shower, and wash surgical incisions.  -avoid swimming and baths until your follow-up appointment.  -please call the doctor if you have increased pain, swelling,  redness, or drainage from the incision sites.    followup instructions:  you will need to have an ophthalmalogic evaluation to make sure  that there is no evidence of cmv infection of the retina - this  should happen this week.  please call: (&lt;telephone&gt; to  schedule this appointment; if you have any difficulty arranging  this, please discuss this with your primary doctor so that they  can facilitate/arrange this evaluation.    1. please call dr.&lt;name&gt; office, &lt;telephone&gt;, to make a  follow up appointment in [**11-23**] weeks.  scheduled appointments :  provider: &lt;name&gt; &lt;name&gt;, &lt;telephone&gt;  date/time: &lt;date&gt;  10:30  provider: &lt;name&gt; &lt;name&gt;, rn phone:&lt;telephone&gt;  date/time: &lt;date&gt;  11:00  provider: &lt;name&gt; chair 6  date/time: &lt;date&gt;  11:00                                   &lt;name&gt; &lt;name&gt; md [**md number(2) 431**]    completed by: &lt;date&gt;</td>\n",
              "      <td>[202, 401, 584, 255, 283, 238, 038, 785, 250, 008, 041, 272, 996, 078, V45, 567, 569, 273, 995, 263, 579, 782]</td>\n",
              "      <td>['followup', 'primary doctor', 'discharged', 'appoinetment', 'infectious diseases', 'strips', 'hands', 'increased', 'pain', 'complications', 'day', 'swelling', 'contact your', 'controlled', 'week', 'days', 'labs', 'shower', 'evaluation', 'ophthalmalogic', 'doctor', 'regular diet', 'wash', 'operating heavy machinery', 'monitoring', 'appointment', 'incision sites', 'your blood', 'discharge condition', 'oral medications', 'swimming', 'telephone', 'discharge diagnosis', 'application', 'objects', 'cmv infection', 'small bowel perforation', 'staples', 'chair', 'evidence', 'numbness', 'your diarhea', 'discharge instructions', 'side effect', 'antiviral medication', 'office', 'retina', 'drainage', 'incision care', 'appointments', 'surgical incisions', 'weeks', 'feet', 'lifting', 'difficulty', 'surgeon', 'ganciclovir', 'baths', 'tingling  ', 'your follow-up']</td>\n",
              "      <td>[follow-up, followup, discharged, appoinetment, strips, diseases, surgical, hands, infectious, increased, pain, complications, your, discharge, care, day, swelling, primary, week, controlled, machinery, diagnosis, days, labs, perforation, contact, shower, evaluation, ophthalmalogic, doctor, heavy, wash, effect, monitoring, appointment, incisions, operating, incision, swimming, telephone, application, objects, baths, medication, tingling, staples, chair, sites, evidence, condition, oral, regular, numbness, office, retina, blood, infection, drainage, appointments, side, weeks, feet, antiviral, diet, medications, instructions, lifting, difficulty, cmv, small, surgeon, ganciclovir, diarhea, bowel]</td>\n",
              "      <td>[drainage, blood, infection, diet, pain, surgeon, incisions, baths, incision, swimming]</td>\n",
              "    </tr>\n",
              "  </tbody>\n",
              "</table>\n",
              "<p>41967 rows × 6 columns</p>\n",
              "</div>"
            ],
            "text/plain": [
              "        HADM_ID  ...                                                                                                                                                                                   med_terms_condensed\n",
              "0      167118.0  ...                                                                                                                                                       [questions, chest, pain, s/p, artery, coronary]\n",
              "1      196489.0  ...  [department, blood, alert, chest, symptoms, emergency, breath, respiratory, chronic, consciousness, pain, failure, shortness, aspirin, disease, artery, pulmonary, coronary, interactive, breathing]\n",
              "2      135453.0  ...                                                                                                                                                                            [pain, pneumonia, urinary]\n",
              "3      170490.0  ...                                                                              [fever, dry, pcp, drainage, alert, blood, infection, redness, consciousness, pain, surgeon, aspirin, wound, interactive]\n",
              "4      134727.0  ...                                                                                                                                                                                           [pneumonia]\n",
              "...         ...  ...                                                                                                                                                                                                   ...\n",
              "41962  127716.0  ...                             [questions, baths, drainage, lotions, ointments, medical, redness, coronary, pain, surgery, s/p, surgeon, disease, artery, incisions, hours, incision, swimming, cardiac]\n",
              "41963  186377.0  ...                            [questions, diabetes, baths, drainage, ointments, atrial, heart, coronary, fibrillation, failure, surgery, incisions, artery, disease, hours, incision, swimming, cardiac]\n",
              "41964  156564.0  ...                  [department, pcp, blood, alert, wound, infection, heart, congestive, chronic, consciousness, kidney, pressure, failure, surgery, disease, antibiotics, pulmonary, left, interactive]\n",
              "41965  172559.0  ...                             [pain, pressure, s/p, incisions, incision, swimming, cancer, fever, dry, symptoms, renal, drainage, blood, chest, acute, surgery, failure, surgeon, chills, hours, baths]\n",
              "41966  135672.0  ...                                                                                                               [drainage, blood, infection, diet, pain, surgeon, incisions, baths, incision, swimming]\n",
              "\n",
              "[41967 rows x 6 columns]"
            ]
          },
          "metadata": {
            "tags": []
          },
          "execution_count": 157
        }
      ]
    },
    {
      "cell_type": "code",
      "metadata": {
        "id": "gRXnIi_BfJcv"
      },
      "source": [
        "def return_feature(x):\n",
        "  feature=[]\n",
        "  for i in x:\n",
        "    for j in list(condensed_feature_dict):\n",
        "      if i in condensed_feature_dict[j]:\n",
        "        feature.append(j)\n",
        "  return list(set(feature))\n"
      ],
      "execution_count": null,
      "outputs": []
    },
    {
      "cell_type": "code",
      "metadata": {
        "colab": {
          "base_uri": "https://localhost:8080/",
          "height": 66,
          "referenced_widgets": [
            "488b87dee8d34cc28c2ba3d4fd6a26b9",
            "72833763e41d4a83983873b3f938cc7c",
            "1b561f42f6784d5ea7091972f1ca811f",
            "7529bd5df7284348b6fb9b6aaebf8081",
            "cf4fd065b3dc4b28af7c2836357f3b9d",
            "b713fff9a5974727b40ad5175524e28a",
            "7d477751a12148eb879adcf118ff6d18",
            "760a448e55554180bcbeabfa5c34cbb7"
          ]
        },
        "id": "pj7lFS62fevi",
        "outputId": "6e574382-905f-461c-ccda-927c2ad0f79a"
      },
      "source": [
        "diagnosis_icd9category['features']=diagnosis_icd9category.med_terms_condensed.progress_apply(lambda x:return_feature(x))"
      ],
      "execution_count": null,
      "outputs": [
        {
          "output_type": "display_data",
          "data": {
            "application/vnd.jupyter.widget-view+json": {
              "model_id": "488b87dee8d34cc28c2ba3d4fd6a26b9",
              "version_major": 2,
              "version_minor": 0
            },
            "text/plain": [
              "HBox(children=(FloatProgress(value=0.0, max=41967.0), HTML(value='')))"
            ]
          },
          "metadata": {
            "tags": []
          }
        },
        {
          "output_type": "stream",
          "text": [
            "\n"
          ],
          "name": "stdout"
        }
      ]
    },
    {
      "cell_type": "code",
      "metadata": {
        "colab": {
          "base_uri": "https://localhost:8080/",
          "height": 66,
          "referenced_widgets": [
            "89202bb1de854873af741ec87b697d16",
            "277135a85e9d45d4805c56c213cb0e80",
            "bd460389f1bc4c308422c8f2a731abea",
            "80d4f6f5fb2241d1ad788e94e4a703e0",
            "fb9214c243d44c2c8b12a12a725cd4c4",
            "52e8be1b62fc4561a289395a682bc627",
            "654370ce813a431cb403d2c652561dcb",
            "eb21ab0b27d84cb291e4bc295c49b8f6"
          ]
        },
        "id": "ejGDwbfSf-06",
        "outputId": "bbb790bb-b2b7-4457-cb6f-cfd0e8026e3c"
      },
      "source": [
        "diagnosis_icdcategory_medterms_df['feature']=diagnosis_icdcategory_medterms_df.frequent_medterms.progress_apply(lambda x:return_feature(x))"
      ],
      "execution_count": null,
      "outputs": [
        {
          "output_type": "display_data",
          "data": {
            "application/vnd.jupyter.widget-view+json": {
              "model_id": "89202bb1de854873af741ec87b697d16",
              "version_major": 2,
              "version_minor": 0
            },
            "text/plain": [
              "HBox(children=(FloatProgress(value=0.0, max=20.0), HTML(value='')))"
            ]
          },
          "metadata": {
            "tags": []
          }
        },
        {
          "output_type": "stream",
          "text": [
            "\n"
          ],
          "name": "stdout"
        }
      ]
    },
    {
      "cell_type": "code",
      "metadata": {
        "id": "SozWU1SbgF_s"
      },
      "source": [
        "def predict_icd(x):\n",
        "  category_weights={}\n",
        "  if len(x):\n",
        "    for item1 in frequent_icd9category:\n",
        "      category_features=[a for b in diagnosis_icdcategory_medterms_df.loc[diagnosis_icdcategory_medterms_df.icd9category==item1].feature.to_list() for a in b]\n",
        "      count=len(list(set(x).intersection(set(category_features))))\n",
        "      category_weights[item1]=count/len(x)/len(category_features)\n",
        "  else:\n",
        "    for item1 in frequent_icd9category:\n",
        "      category_weights[item1]=0.0\n",
        "\n",
        "      \n",
        "  return category_weights\n",
        "  "
      ],
      "execution_count": null,
      "outputs": []
    },
    {
      "cell_type": "code",
      "metadata": {
        "colab": {
          "base_uri": "https://localhost:8080/",
          "height": 66,
          "referenced_widgets": [
            "d64dac93e2924c35a87296f123ec578c",
            "daf7e93352ed462e8cf8c97aea0dd422",
            "ef6bd1abdfc4415781aeaa1e8c2bcee5",
            "79c083a0a7e64eb58e47cfd98dfcebd5",
            "c247c3519a864308afe1f1babe8f8431",
            "a0d312fc9183480fa12ed01e6c413336",
            "5af0c0bf025b497086f2c02e48c6f2d4",
            "35442053f5344d339a6977c4678e18f6"
          ]
        },
        "id": "o4q4pejDgwlk",
        "outputId": "b7e3a82c-c446-474b-d0b8-2e08f0000c70"
      },
      "source": [
        "diagnosis_icd9category['predicted_icd_weigths']=diagnosis_icd9category.features.progress_apply(lambda x:predict_icd(x))"
      ],
      "execution_count": null,
      "outputs": [
        {
          "output_type": "display_data",
          "data": {
            "application/vnd.jupyter.widget-view+json": {
              "model_id": "d64dac93e2924c35a87296f123ec578c",
              "version_major": 2,
              "version_minor": 0
            },
            "text/plain": [
              "HBox(children=(FloatProgress(value=0.0, max=41967.0), HTML(value='')))"
            ]
          },
          "metadata": {
            "tags": []
          }
        },
        {
          "output_type": "stream",
          "text": [
            "\n"
          ],
          "name": "stdout"
        }
      ]
    },
    {
      "cell_type": "code",
      "metadata": {
        "colab": {
          "base_uri": "https://localhost:8080/",
          "height": 1000
        },
        "id": "RTJj6ct7g3te",
        "outputId": "4d7d29b3-214f-42f1-8a7a-1a8a168b5c1f"
      },
      "source": [
        "diagnosis_icd9category"
      ],
      "execution_count": null,
      "outputs": [
        {
          "output_type": "execute_result",
          "data": {
            "text/html": [
              "<div>\n",
              "<style scoped>\n",
              "    .dataframe tbody tr th:only-of-type {\n",
              "        vertical-align: middle;\n",
              "    }\n",
              "\n",
              "    .dataframe tbody tr th {\n",
              "        vertical-align: top;\n",
              "    }\n",
              "\n",
              "    .dataframe thead th {\n",
              "        text-align: right;\n",
              "    }\n",
              "</style>\n",
              "<table border=\"1\" class=\"dataframe\">\n",
              "  <thead>\n",
              "    <tr style=\"text-align: right;\">\n",
              "      <th></th>\n",
              "      <th>HADM_ID</th>\n",
              "      <th>discharge diagnosis:</th>\n",
              "      <th>icd9_category</th>\n",
              "      <th>medical_terms_list</th>\n",
              "      <th>med_terms_token</th>\n",
              "      <th>med_terms_condensed</th>\n",
              "      <th>features</th>\n",
              "      <th>predicted_icd_weigths</th>\n",
              "    </tr>\n",
              "  </thead>\n",
              "  <tbody>\n",
              "    <tr>\n",
              "      <th>0</th>\n",
              "      <td>167118.0</td>\n",
              "      <td>discharge diagnosis:  copd, coronary artery disease/atypical angina (lad 30%, rca 30%,  ef 63%), hypercholesterolemia, hypothyroidism, hypertension,  hiatal hernia, cerebral vascular accident,s/p motor vehicle  colision-&gt; head injury &amp; rib fracture.  tbm- s/p tracheoplasty.      discharge condition:  good    discharge instructions:  please update dr.&lt;name&gt; &lt;telephone&gt; office for:  fever,  shortness of breath, chest pain , productive cough or if you  have any questions or concerns.      completed by: &lt;date&gt;</td>\n",
              "      <td>[496, 553, 518, 453, 519, 276]</td>\n",
              "      <td>['discharge diagnosis', 'coronary artery disease/atypical angina', 'hypothyroidism', 'rca', 'cerebral vascular accident', 'questions', 'hypertension', 'discharge condition', 'productive cough', 'concerns', 'chest pain', 'hypercholesterolemia', 'discharge', 'hiatal hernia', 'rib fracture', 's/p motor vehicle', 'office', 'telephone']</td>\n",
              "      <td>[fracture, pain, rib, s/p, discharge, artery, accident, diagnosis, rca, hernia, productive, concerns, cerebral, hiatal, vehicle, telephone, questions, hypothyroidism, hypertension, angina, condition, disease/atypical, office, chest, coronary, hypercholesterolemia, vascular, motor, cough]</td>\n",
              "      <td>[questions, chest, pain, s/p, artery, coronary]</td>\n",
              "      <td>[f4, f23, f8, f38, f6]</td>\n",
              "      <td>{'401': 0.04, '427': 0.04, '276': 0.015384615384615385, '272': 0.038461538461538464, '250': 0.03076923076923077, '414': 0.04, '285': 0.022222222222222223, '428': 0.03333333333333333, '518': 0.015384615384615385, '584': 0.016, 'V45': 0.032, 'V58': 0.022222222222222223, '585': 0.02608695652173913, '530': 0.032, '599': 0.016, 'E87': 0.04, '403': 0.02608695652173913, 'V10': 0.03076923076923077, '038': 0.016, '995': 0.016}</td>\n",
              "    </tr>\n",
              "    <tr>\n",
              "      <th>1</th>\n",
              "      <td>196489.0</td>\n",
              "      <td>discharge diagnosis:  primary:  1. chronic obstructive pulmonary disease exacerbation  2. respiratory failure with intubation  3. upper gastrointestinal bleed/peptic ulcer disease  4. hypertension  5. anxiety    secondary:  1. coronary artery disease  2. hypothyroidism      discharge condition:  mental status: confused - sometimes.  level of consciousness: alert and interactive.  activity status: out of bed with assistance to chair or  wheelchair.      discharge instructions:  you were admitted to the hospital with shortness of breath and  respiratory failure and lethargy. in the emergency department,  you were breathing very fast and a breathing tube was inserted  into your airway to help you breathe. you were admitted to the  intensive care unit. there, you were managed with steroids and  antibiotics and the tube was eventually removed from your  airway, allowing you to breathe on your own. you also underwent  bronchoscopy which looked at the inside of your airways.  .  during your time in the intensive care unit, you developed a  gastrointestinal bleed. a tube was placed into your stomach and  you underwent an endoscopic procedure to look at your esophagus  and stomach. this showed inflammation in your esophagusand  ulcers in your stomach.  .  you should continue to use nasal oxygen by nasal cannula as  needed. you should continue the steroid taper as instructed. you  should call your doctor or return to the emergency room if you  have increasing difficulty breathing or shortness of breath,  wheezing, chest pain, blood in your stool or vomiting blood.  .  there are some changes in your medications.  start pantoprazole 40 mg twice daily and stop omeprazole  start hydrochlorothiazide  start prednisone, taking 30 mg for 3 days, then 20 mg for 4  days, then 10 mg for 4 days, then 5 mg for 4 days, then stop.  start colace and senna as needed for constipation  can use morphine to alleviate symptoms of respiratory discomfort  stop furosemide  stop zolpidem  stop aspirin  increase diovan to 240 mg daily  decrease trazodone to 50 mg daily  .  follow up as indicated below.    followup instructions:  you have an appointment to follow up with dr. &lt;name&gt;, your  primary care physician, &lt;name&gt; [**8-29**] at 1pm. his address is [**location (un) 1822**], [**apartment address(1) 1823**], [**location (un) **],[**numeric identifier 1700**]. the phone is  &lt;telephone&gt;.    you have an appointment to follow up with dr. &lt;name&gt; &lt;name&gt; in  the  &lt;name&gt; at &lt;hospital&gt; on the [**location (un) 453**]. their phone number is  &lt;telephone&gt;.    department: div. of gastroenterology  when: wednesday  &lt;date&gt;  at 3:00 pm  with: &lt;name&gt; &lt;name&gt;, md &lt;telephone&gt;  building: ra &lt;name&gt; (&lt;name&gt;/&lt;name&gt; complex) [**location (un) **]  campus: east     best parking: main garage</td>\n",
              "      <td>[487, 416, 272, 530, 414, 553, 531, 518, 401, 519, 348, V02, 359, 584, 458, 578, 491, E93, 276, 244]</td>\n",
              "      <td>['your airway', 'followup', 'increasing', 'alert', 'shortness of breath', 'your airways', 'your time', 'changes', 'garage', 'anxiety', 'tube', 'respiratory failure', 'intensive care unit', 'return to', 'days', 'gastroenterology', 'stop omeprazole', 'prednisone', 'stop', 'alleviate', 'east', 'parking', 'respiratory discomfort', 'pantoprazole', 'furosemide', 'daily', 'appointment', 'breathe', 'md &lt;telephone', 'admitted', '**apartment address(1', 'endoscopic procedure', 'discharge condition', 'nasal cannula', 'breathing', 'steroid taper', 'discharge diagnosis', 'intubation', 'hypothyroidism', '**numeric identifier 1700**', 'stomach', 'vomiting blood', 'hypertension', 'confused', 'hospital', 'chair', 'symptoms', 'trazodone', 'phone', 'div', 'chronic obstructive pulmonary disease', 'lethargy', 'constipation', 'aspirin', 'phone number', 'nasal oxygen', 'discharge instructions', 'emergency department', 'your doctor', 'chest pain', 'your medications', 'hydrochlorothiazide', 'morphine', 'breathing tube', 'exacerbation', 'your esophagus', 'difficulty breathing', 'blood', 'instructed', 'your stool', 'sometimes', 'senna', 'emergency room', '**location', 'physician', 'upper gastrointestinal bleed/peptic ulcer disease', 'consciousness', 'coronary artery disease', 'your stomach', 'your esophagusand', 'inflammation', 'gastrointestinal bleed', 'steroids', 'interactive']</td>\n",
              "      <td>[discharge, omeprazole, discomfort, gastroenterology, prednisone, time, pantoprazole, doctor, intensive, appointment, number, telephone, steroid, airways, stomach, confused, hospital, md, condition, bleed, **location, stool, coronary, steroids, phone, alert, your, 1700**, anxiety, tube, diagnosis, address, identifier, alleviate, breath, respiratory, furosemide, taper, unit, daily, admitted, breathing, shortness, morphine, hydrochlorothiazide, gastrointestinal, upper, instructed, senna, instructions, chronic, failure, inflammation, div, vomiting, followup, 1, ulcer, disease, days, **apartment, cannula, to, hypothyroidism, chair, symptoms, oxygen, return, of, lethargy, aspirin, pulmonary, esophagusand, department, blood, chest, medications, room, intubation, changes, interactive, increasing, emergency, pain, care, artery, procedure, parking, east, stop, breathe, obstructive, nasal, bleed/peptic, hypertension, trazodone, constipation, airway, esophagus, exacerbation, ...]</td>\n",
              "      <td>[department, blood, alert, chest, symptoms, emergency, breath, respiratory, chronic, consciousness, pain, failure, shortness, aspirin, disease, artery, pulmonary, coronary, interactive, breathing]</td>\n",
              "      <td>[f41, f32, f15, f2, f0, f46, f4, f50, f44, f30, f37, f28, f16, f13, f38, f7, f8, f21]</td>\n",
              "      <td>{'401': 0.026666666666666665, '427': 0.028888888888888888, '276': 0.027777777777777776, '272': 0.027777777777777776, '250': 0.027777777777777776, '414': 0.026666666666666665, '285': 0.02880658436213992, '428': 0.03009259259259259, '518': 0.034188034188034185, '584': 0.026666666666666665, 'V45': 0.028888888888888888, 'V58': 0.02880658436213992, '585': 0.03140096618357488, '530': 0.028888888888888888, '599': 0.026666666666666665, 'E87': 0.024444444444444446, '403': 0.033816425120772944, 'V10': 0.029914529914529916, '038': 0.028888888888888888, '995': 0.028888888888888888}</td>\n",
              "    </tr>\n",
              "    <tr>\n",
              "      <th>2</th>\n",
              "      <td>135453.0</td>\n",
              "      <td>discharge diagnosis:  1. cervical spondylosis with calcification of posterior  longitudinal ligament.  2. fracture dislocation c6-c7.  3. ossification of the posterior longitudinal ligament.  4. aspiration pneumonia      1. cervical spondylosis with calcification of posterior      longitudinal ligament.  2. fracture dislocation c6-c7.  3. ossification of the posterior longitudinal ligament.  4. aspiration pneumonia    1. cervical spondylosis with calcification of posterior      longitudinal ligament.  2. fracture dislocation c6-c7.  3. ossification of the posterior longitudinal ligament.  4. aspiration pneumonia      discharge condition:  stable to outside facility      discharge instructions:  patient has been made cmo at the request of him and his family.  he has a foley placed for urinary retention. please use morphine  as needed for pain and olanzapine as needed for agitiation.  patient has known history of aspiration documented on speech and  swallow. it is the patient and the family's wish for him to  continue to eat and drink as desired.    followup instructions:  follow up with your primary care physician as needed.</td>\n",
              "      <td>[V12, 788, 805, 507, V45, 401, 427, 453, E88, 293, 802, 428]</td>\n",
              "      <td>['family', 'followup', 'aspiration', 'agitiation', 'drink', 'fracture', 'pain', 'longitudinal ligament', 'fracture dislocation', 'aspiration pneumonia', 'history', 'posterior longitudinal ligament', 'discharge condition', 'cervical spondylosis', 'discharge diagnosis', 'ossification', 'foley', 'eat', 'calcification', 'patient', 'c6-c7', 'dislocation', 'olanzapine', 'discharge instructions', 'morphine', 'posterior  longitudinal ligament', 'facility', \"family's\", 'speech', 'primary care physician', 'urinary retention', 'posterior']</td>\n",
              "      <td>[family, followup, aspiration, drink, fracture, pain, retention, discharge, care, primary, pneumonia, diagnosis, urinary, history, spondylosis, ligament, longitudinal, ossification, eat, foley, calcification, cervical, patient, c6-c7, dislocation, olanzapine, condition, morphine, facility, physician, instructions, speech, 's, agitiation, posterior]</td>\n",
              "      <td>[pain, pneumonia, urinary]</td>\n",
              "      <td>[f4, f17, f9]</td>\n",
              "      <td>{'401': 0.013333333333333332, '427': 0.013333333333333332, '276': 0.02564102564102564, '272': 0.01282051282051282, '250': 0.01282051282051282, '414': 0.013333333333333332, '285': 0.012345679012345678, '428': 0.013888888888888888, '518': 0.02564102564102564, '584': 0.026666666666666665, 'V45': 0.013333333333333332, 'V58': 0.012345679012345678, '585': 0.014492753623188404, '530': 0.013333333333333332, '599': 0.026666666666666665, 'E87': 0.013333333333333332, '403': 0.014492753623188404, 'V10': 0.01282051282051282, '038': 0.026666666666666665, '995': 0.026666666666666665}</td>\n",
              "    </tr>\n",
              "    <tr>\n",
              "      <th>3</th>\n",
              "      <td>170490.0</td>\n",
              "      <td>discharge diagnosis:  brain lesion    discharge condition:  mental status: clear and coherent.  level of consciousness: alert and interactive.  activity status: ambulatory - independent.  neuro exam intact.    discharge instructions:  ??????\\thave a friend/family member check your incision daily for  signs of infection.  ??????\\ttake your pain medicine as prescribed.  ??????\\texercise should be limited to walking; no lifting, straining,  or excessive bending.  ??????\\tyou have dissolvable sutures, you must keep that area dry for  10 days.  ??????\\tyou may shower before this time using a shower cap to cover  your head.  ??????\\tincrease your intake of fluids and fiber, as narcotic pain  medicine can cause constipation. we generally recommend taking  an over the counter stool softener, such as docusate (colace)  while taking narcotic pain medication.  ??????\\tunless directed by your doctor, do not take any  anti-inflammatory medicines such as motrin, aspirin, advil, and  ibuprofen etc.  ??????\\tif you have been prescribed dilantin (phenytoin) for  anti-seizure medicine, take it as prescribed and follow up with  laboratory blood drawing in one week.  this can be drawn at your  pcp??????s office, but please have the results faxed to &lt;telephone&gt;.  if you have been discharged on keppra (levetiracetam), you will  not require blood work monitoring.  ??????\\tif you are being sent home on steroid medication, make sure  you are taking a medication to protect your stomach (prilosec,  protonix, or pepcid), as these medications can cause stomach  irritation.  make sure to take your steroid medication with  meals, or a glass of milk.  ??????\\tclearance to drive and return to work will be addressed at  your post-operative office visit.  ??????\\tmake sure to continue to use your incentive spirometer while  at home.  call your surgeon immediately if you experience any of the  following    ??????\\tnew onset of tremors or seizures.  ??????\\tany confusion or change in mental status.  ??????\\tany numbness, tingling, weakness in your extremities.  ??????\\tpain or headache that is continually increasing, or not  relieved by pain medication.  ??????\\tany signs of infection at the wound site: increasing redness,  increased swelling, increased tenderness, or drainage.  ??????\\tfever greater than or equal to 101?????? f.    followup instructions:  ??????\\tplease return to the office in [**6-28**] days (from your date of  surgery) for a wound check. this appointment can be made with  the nurse practitioner.  please make this appointment by calling  &lt;telephone&gt;. if you live quite a distance from our office,  please make arrangements for the same, with your pcp.</td>\n",
              "      <td>[710, 225, 443, 714, 530, V43]</td>\n",
              "      <td>['change', 'increased', 'fiber', 'blood work', 'week', 'pepcid', 'clearance', 'straining', 'prilosec', 'appointment', 'follow up', 'exercise', 'fever', 'stomach', 'anti-seizure medicine', 'tremors', 'numbness', 'incentive', 'drainage', 'ibuprofen', 'seizures', 'discharged', 'alert', 'dissolvable sutures', 'milk', 'bending', 'prescribed', 'colace', 'levetiracetam', 'discharge condition', 'discharge diagnosis', 'medication', 'post-operative', 'weakness', 'fluids', 'spirometer', 'phenytoin', 'shower cap', 'narcotic pain', 'excessive', 'results', 'redness', 'exam', 'surgeon', 'area dry', 'docusate', 'faxed', 'walking', 'confusion', 'days', 'nurse practitioner', 'coherent', 'ambulatory', 'increase', 'your pain medicine', 'motrin', 'stool softener', 'steroid medication', 'wound check', 'glass', 'aspirin', 'distance', 'discharge instructions', 'your doctor', 'office', 'keppra', 'medications', 'your pcp', 'headache', 'laboratory blood drawing', 'tenderness', 'mental status', 'interactive', 'your intake', 'increasing', 'advil', 'wound site', 'your extremities', 'return to', 'monitoring', 'intact', 'tingling', 'pain medication', 'independent', 'constipation', 'live', 'no lifting', 'infection', 'consciousness', 'anti-inflammatory medicines', 'your stomach', 'home']</td>\n",
              "      <td>[change, increased, fiber, discharge, narcotic, week, intake, pepcid, clearance, shower, straining, doctor, prilosec, appointment, up, medicines, exercise, fever, steroid, stomach, anti-inflammatory, condition, wound, tremors, numbness, incentive, drainage, ibuprofen, seizures, lifting, nurse, stool, discharged, alert, your, milk, diagnosis, bending, extremities, prescribed, colace, mental, levetiracetam, sutures, medication, post-operative, weakness, fluids, spirometer, phenytoin, softener, anti-seizure, excessive, instructions, results, redness, exam, surgeon, medicine, docusate, practitioner, faxed, dissolvable, walking, confusion, pcp, days, coherent, ambulatory, area, drawing, increase, to, dry, motrin, glass, return, aspirin, check, distance, office, keppra, blood, work, medications, headache, tenderness, interactive, laboratory, increasing, advil, pain, cap, status, monitoring, intact, follow, tingling, independent, constipation, ...]</td>\n",
              "      <td>[fever, dry, pcp, drainage, alert, blood, infection, redness, consciousness, pain, surgeon, aspirin, wound, interactive]</td>\n",
              "      <td>[f33, f10, f45, f0, f46, f4, f36, f50, f30, f37, f13, f24, f47, f39]</td>\n",
              "      <td>{'401': 0.03428571428571428, '427': 0.02857142857142857, '276': 0.024725274725274728, '272': 0.027472527472527472, '250': 0.03021978021978022, '414': 0.02857142857142857, '285': 0.0291005291005291, '428': 0.026785714285714288, '518': 0.027472527472527472, '584': 0.025714285714285717, 'V45': 0.03142857142857143, 'V58': 0.0291005291005291, '585': 0.027950310559006212, '530': 0.03142857142857143, '599': 0.02857142857142857, 'E87': 0.03428571428571428, '403': 0.027950310559006212, 'V10': 0.03296703296703297, '038': 0.022857142857142857, '995': 0.025714285714285717}</td>\n",
              "    </tr>\n",
              "    <tr>\n",
              "      <th>4</th>\n",
              "      <td>134727.0</td>\n",
              "      <td>discharge diagnosis:  pneumonia    discharge condition:  expired    discharge instructions:  na    followup instructions:  na                                 &lt;name&gt; &lt;name&gt; md [**md number(2) 1851**]</td>\n",
              "      <td>[486, 518, V45, V58, 401, 577, 415, 428]</td>\n",
              "      <td>['discharge diagnosis', 'discharge instructions', 'pneumonia', 'discharge condition']</td>\n",
              "      <td>[instructions, condition, discharge, pneumonia, diagnosis]</td>\n",
              "      <td>[pneumonia]</td>\n",
              "      <td>[f9]</td>\n",
              "      <td>{'401': 0.0, '427': 0.0, '276': 0.038461538461538464, '272': 0.0, '250': 0.0, '414': 0.0, '285': 0.0, '428': 0.0, '518': 0.038461538461538464, '584': 0.04, 'V45': 0.0, 'V58': 0.0, '585': 0.0, '530': 0.0, '599': 0.0, 'E87': 0.0, '403': 0.0, 'V10': 0.0, '038': 0.04, '995': 0.04}</td>\n",
              "    </tr>\n",
              "    <tr>\n",
              "      <th>...</th>\n",
              "      <td>...</td>\n",
              "      <td>...</td>\n",
              "      <td>...</td>\n",
              "      <td>...</td>\n",
              "      <td>...</td>\n",
              "      <td>...</td>\n",
              "      <td>...</td>\n",
              "      <td>...</td>\n",
              "    </tr>\n",
              "    <tr>\n",
              "      <th>41962</th>\n",
              "      <td>127716.0</td>\n",
              "      <td>discharge diagnosis:  aortic stenosis and coronary artery disease s/p aortic valve  replacement and coronary artery bypass graft  past medical history:  hypertension  hyperlipidemia  diabetes mellitus  osteoarthritis  phlebitis  lung cancer  hiatal hernia  hypthyroidism  s/p right lobectomy [**2117**]  s/p lymph node dissection in neck  s/p beast lumpectomy  s/p hysterectomy  s/p c section  s/p tonsillectomy      discharge condition:  alert and oriented x3 nonfocal  ambulating, steady gait  incisional pain managed with ultram  incisions:  sternal - healing well, no erythema or drainage  1+ le edema      discharge instructions:  please shower daily including washing incisions gently with mild  soap, no baths or swimming until cleared by surgeon. look at  your incisions daily for redness or drainage  please no lotions, cream, powder, or ointments to incisions  each morning you should weigh yourself and then in the evening  take your temperature, these should be written down on the chart    no driving for one month or while taking narcotics. driving will  be discussed at follow up appointment with surgeon. no lifting  more than 10 pounds for 10 weeks  please call with any questions or concerns &lt;telephone&gt;  females: please wear bra to reduce pulling on incision, avoid  rubbing on lower edge  **please call cardiac surgery office with any questions or  concerns &lt;telephone&gt;. answering service will contact on call  person during off hours**    followup instructions:  you are scheduled for the following appointments  wound care, &lt;name&gt;, &lt;name&gt;  phone:&lt;telephone&gt;  date/time: &lt;date&gt;  10:00    surgeon: dr. &lt;name&gt; &lt;telephone&gt; date/time: &lt;date&gt;  1:15  cardiologist: dr. &lt;name&gt;  &lt;date&gt;  at 3:00p    please call to schedule appointments with your  primary care dr. &lt;name&gt; &lt;name&gt; in &lt;telephone&gt;    **please call cardiac surgery office with any questions or  concerns &lt;telephone&gt;. answering service will contact on call  person during off hours**                                   &lt;name&gt; &lt;name&gt; md [**md number(2) 748**]    completed by: &lt;date&gt;</td>\n",
              "      <td>[416, 424, 272, V10, V85, 414, 250, 401, 278, 782]</td>\n",
              "      <td>['pulling', 'no driving', 'off hours**', 'chart', 'washing', 'cardiac surgery', 'schedule appointments', 'drainage  1', 's/p aortic valve  replacement', 'no baths', 'cream', 'no erythema', 'contact', 'evening', 'medical history', 'scheduled', 'sternal', 'coronary artery bypass graft', 'incisions', 'narcotics', 'appointment', 'incision', 'discharge condition', 'swimming', 'telephone', 'discharge diagnosis', 'questions', 'month', '**2117**', 'powder', 'reduce', 'neck  s/p beast', 'mild', 'incisional pain', 'steady gait', 'nonfocal', 'discharge instructions', 'hiatal hernia', 'off hours', 'office', 'drainage', 'lotions', 'your temperature', 'morning', 'appointments', 'weeks', '**md number(2', 'lower edge', 'redness', 'coronary artery disease', 'healing', 'surgeon', 'written down', 'wear bra', 'ointments']</td>\n",
              "      <td>[wear, pulling, 1, lower, medical, chart, washing, pain, 2, s/p, down, valve, artery, discharge, gait, replacement, your, cream, disease, hours**, diagnosis, hernia, schedule, contact, evening, hiatal, edge, history, scheduled, aortic, sternal, neck, bypass, incisions, narcotics, appointment, driving, incision, swimming, cardiac, telephone, **md, number, questions, month, incisional, **2117**, temperature, off, powder, condition, reduce, mild, nonfocal, no, office, drainage, beast, lotions, written, appointments, steady, morning, weeks, bra, instructions, erythema, redness, surgery, healing, graft, surgeon, hours, baths, coronary, ointments]</td>\n",
              "      <td>[questions, baths, drainage, lotions, ointments, medical, redness, coronary, pain, surgery, s/p, surgeon, disease, artery, incisions, hours, incision, swimming, cardiac]</td>\n",
              "      <td>[f42, f1, f49, f45, f4, f36, f20, f23, f48, f8, f7, f3, f47, f6, f18]</td>\n",
              "      <td>{'401': 0.034666666666666665, '427': 0.029333333333333333, '276': 0.01282051282051282, '272': 0.035897435897435895, '250': 0.023076923076923075, '414': 0.037333333333333336, '285': 0.022222222222222223, '428': 0.016666666666666666, '518': 0.01282051282051282, '584': 0.013333333333333332, 'V45': 0.024, 'V58': 0.019753086419753086, '585': 0.014492753623188404, '530': 0.029333333333333333, '599': 0.013333333333333332, 'E87': 0.034666666666666665, '403': 0.014492753623188404, 'V10': 0.023076923076923075, '038': 0.008, '995': 0.010666666666666666}</td>\n",
              "    </tr>\n",
              "    <tr>\n",
              "      <th>41963</th>\n",
              "      <td>186377.0</td>\n",
              "      <td>discharge diagnosis:  coronary artery disease  pmh:  hypertension, diabetes, copd, diastolic heart failure, ef 45-50%  past surgical history  penile implant      discharge condition:  alert and oriented x3 nonfocal  ambulating, gait steady  sternal pain managed with oral analgesics  sternal incision - healing well, no erythema or drainage  right lower extremity saph site clean/dry/intact      discharge instructions:  please draw bun/cre, inr at least every other day until they  stabilize  please shower daily including washing incisions gently with mild  soap, no baths or swimming, and look at your incisions  please no lotions, cream, powder, or ointments to incisions  each morning you should weigh yourself and then in the evening  take your temperature, these should be written down on the chart  no driving for approximately one month and while taking  narcotics, will be discussed at follow up appointment with  surgeon when you will be able to drive  no lifting more than 10 pounds for 10 weeks  please call with any questions or concerns &lt;telephone&gt;  **please call cardiac surgery office with any questions or  concerns &lt;telephone&gt;. answering service will contact on call  person during off hours**      followup instructions:  you are scheduled for the following appointments:  surgeon dr. &lt;name&gt; &lt;telephone&gt;,  &lt;date&gt;  1:00  cardiologist dr. &lt;name&gt;. &lt;name&gt; office will call you with an  appointment  please call to schedule the following:  primary care dr. &lt;name&gt;,&lt;name&gt; in [**3-8**] weeks  please follow up with dr. &lt;name&gt; &lt;name&gt; call &lt;telephone&gt; to  schedule an appointment  dialysis,schedule hemodialysis unit date/time: &lt;date&gt;  12:00  renal: dr. &lt;name&gt; &lt;telephone&gt;  diabetes: if patient requires endocrine follow-up after  discharge from rehab, please contact &lt;name&gt;, &lt;name&gt; at &lt;hospital&gt;  **please call cardiac surgery office with any questions or  concerns &lt;telephone&gt;. answering service will contact on call  person during off hours**    inr draw on [**8-16**]  goal inr [**1-5**]  indication: atrial fibrillation                                   &lt;name&gt; &lt;name&gt; md [**md number(2) 266**]    completed by: &lt;date&gt;</td>\n",
              "      <td>[424, 511, 305, 707, 403, 496, 784, 250, 414, V58, 427, 428, 584, 008, 997, 434, 410, 585, 041, 599]</td>\n",
              "      <td>['bun/cre', 'chart', 'off hours**      ', 'please contact', 'washing', 'schedule hemodialysis unit', 'endocrine follow-up', 'cardiac surgery', 'gait', 'day', 'sternal incision', 'nonfocal  ambulating', 'no baths', 'cream', 'no erythema', 'contact', 'evening', 'schedule', 'inr', 'surgical history', 'scheduled', 'incisions', 'narcotics', 'appointment', 'oral analgesics', 'discharge condition', 'diastolic heart failure', 'swimming', 'telephone', 'discharge diagnosis', 'questions', 'name&gt;.', 'your incisions', 'hospital', 'month', 'patient', 'copd', 'powder', 'mild', 'rehab', 'off hours', 'discharge instructions', 'office', 'atrial fibrillation', 'drainage', 'your temperature', 'morning', 'appointments', 'weeks', 'coronary artery disease', 'healing', '**8', 'written down', 'diabetes', 'ointments']</td>\n",
              "      <td>[bun/cre, follow-up, endocrine, please, surgical, analgesics, chart, diastolic, heart, washing, down, gait, discharge, your, day, ambulating, artery, cream, disease, hours**, diagnosis, diabetes, contact, schedule, evening, inr, history, scheduled, sternal, unit, incisions, narcotics, appointment, incision, swimming, cardiac, telephone, questions, hemodialysis, hospital, month, patient, copd, temperature, off, powder, oral, condition, mild, nonfocal, rehab, fibrillation, no, office, drainage, written, atrial, morning, appointments, weeks, instructions, erythema, surgery, failure, healing, **8, name, hours, baths, coronary, ointments]</td>\n",
              "      <td>[questions, diabetes, baths, drainage, ointments, atrial, heart, coronary, fibrillation, failure, surgery, incisions, artery, disease, hours, incision, swimming, cardiac]</td>\n",
              "      <td>[f40, f42, f49, f20, f36, f11, f23, f44, f48, f8, f3, f7, f47, f18]</td>\n",
              "      <td>{'401': 0.02857142857142857, '427': 0.02857142857142857, '276': 0.013736263736263736, '272': 0.03296703296703297, '250': 0.021978021978021976, '414': 0.037142857142857144, '285': 0.018518518518518517, '428': 0.017857142857142856, '518': 0.016483516483516484, '584': 0.014285714285714285, 'V45': 0.022857142857142857, 'V58': 0.018518518518518517, '585': 0.018633540372670808, '530': 0.025714285714285717, '599': 0.01714285714285714, 'E87': 0.02857142857142857, '403': 0.018633540372670808, 'V10': 0.021978021978021976, '038': 0.011428571428571429, '995': 0.011428571428571429}</td>\n",
              "    </tr>\n",
              "    <tr>\n",
              "      <th>41964</th>\n",
              "      <td>156564.0</td>\n",
              "      <td>discharge diagnosis:  left knee infection  chronic obstructive pulmonary disease exacerbation  acute on chronic kidney injury  congestive heart failure  hypertension      discharge condition:  mental status: clear and coherent.  level of consciousness: alert and interactive.  activity status: out of bed with assistance to chair or  wheelchair.      discharge instructions:  mr. &lt;name&gt;,    you were admitted to the hospital for a infected hardware in  your left knee. our orthopaedics team cleaned out the infection  in your knee and replaced the liner of your prosthesis. they  feel you should follow up with your primary orthopaedic doctor,  dr. &lt;name&gt; &lt;name&gt; at &lt;hospital&gt; (&lt;telephone&gt;), for ongoing  issues about your knee. the cultures of the infection in your  knee grew two different organisms, so we consulted our  infectious disease doctors who recommended a course of iv  antibiotics to help treat your infection. because this infection  occured inside of a joint, a longer course of antibiotics is  required. you went multiple times to the operating room to  wash-out your knee of any remaining infection, and your hardware  was removed. most recently you had a portion of tissue grafted  to your knee to provide for better coverage of your wound, along  with skin graft. your kidney function worsened while you were in  the hospital but it appears to have normalized. this should be  followed up with your primary care physician.    we made the following changes to your medications:  started:  vancomycin (antibiotic)  ceftriaxone (antibiotic)    increased metoprolol for blood pressure    followup instructions:  department: plastic surgery  when: wednesday  &lt;date&gt;  at 3:15 pm  with: &lt;name&gt; &lt;name&gt;, md &lt;telephone&gt;  building: lm &lt;name&gt; bldg (&lt;name&gt;) [**location (un) **]  campus: west     best parking: &lt;name&gt; garage    name: &lt;name&gt;, &lt;name&gt; &lt;name&gt; &lt;name&gt;  location: community physicians associates  address: &lt;hospital&gt;,[**numeric identifier 18406**]  phone: &lt;telephone&gt;  appointment: thursday  &lt;date&gt;  1:15pm    department: infectious disease  when: friday  &lt;date&gt;  at 9:30 am  with: &lt;name&gt; &lt;name&gt;, md &lt;telephone&gt;  building: lm &lt;name&gt; bldg (&lt;name&gt;) &lt;hospital&gt;  campus: west     best parking: &lt;name&gt; garage    name: nabi,&lt;name&gt; md  address: &lt;hospital&gt;,[**numeric identifier 18406**]  phone: &lt;telephone&gt;  **please discuss with the staff at the facility a follow up  appointment with your pcp when you are ready for discharge.      department: plastic surgery  when: wednesday  &lt;date&gt;  at 3:15 pm  with: &lt;name&gt; &lt;name&gt;, md &lt;telephone&gt;  building: lm &lt;name&gt; bldg (&lt;name&gt;) [**location (un) **]  campus: west     best parking: &lt;name&gt; garage    department: infectious disease  when: friday  &lt;date&gt;  at 9:30 am  with: &lt;name&gt; &lt;name&gt;, md &lt;telephone&gt;  building: lm &lt;name&gt; bldg (&lt;name&gt;) &lt;hospital&gt;  campus: west     best parking: &lt;name&gt; garage                                   &lt;name&gt; &lt;name&gt; md [**md number(1) 348**]    completed by: &lt;date&gt;</td>\n",
              "      <td>[V10, 403, 584, V43, 428, 285, 496, 250, V58, 041, 357, 707, 365, 414, 780, 518, 711, 585, 327, V12, E84, E87, 996]</td>\n",
              "      <td>['orthopaedic doctor', 'followup', 'alert', 'hardware', 'nabi,&lt;name', 'congestive heart failure', 'skin graft', 'metoprolol', 'increased', 'operating room', 'worsened', 'changes', 'your infection', 'discharge', 'infected', 'your wound', 'treat', 'cultures', 'parking', 'coherent', 'staff', 'bldg', 'community', 'consulted', 'hospital&gt;,[**numeric identifier 18406*', 'course', 'blood pressure', 'md &lt;telephone', 'admitted', 'liner', 'discharge condition', 'telephone', 'organisms', 'discharge diagnosis', 'hospital', 'chronic kidney injury', 'chair', 'your prosthesis', 'physicians', 'chronic obstructive pulmonary disease', 'grafted', 'normalized', 'west', 'antibiotic', 'antibiotics', 'discharge instructions', 'your medications', 'plastic surgery', 'doctors', 'department', 'portion', 'exacerbation', 'left knee infection', 'orthopaedics', 'infection', 'infectious disease', 'your hardware  ', 'facility', 'recommended', '**location', 'your knee', 'your pcp', 'consciousness', 'joint', 'primary care physician', 'garage', 'tissue', 'your kidney function', 'interactive']</td>\n",
              "      <td>[followup, alert, hardware, heart, infectious, increased, worsened, pressure, prosthesis, your, discharge, infected, disease, care, primary, diagnosis, treat, pcp, identifier, cultures, parking, garage, coherent, tissue, staff, bldg, community, doctor, consulted, course, interactive, injury, knee, operating, admitted, left, obstructive, liner, telephone, organisms, plastic, nabi, skin, hospital, md, chair, physicians, function, grafted, normalized, west, condition, antibiotic, wound, pulmonary, antibiotics, kidney, doctors, 18406*, department, portion, blood, infection, exacerbation, orthopaedics, orthopaedic, facility, recommended, **location, physician, instructions, congestive, chronic, medications, surgery, failure, graft, consciousness, name, room, joint, **numeric, metoprolol, changes]</td>\n",
              "      <td>[department, pcp, blood, alert, wound, infection, heart, congestive, chronic, consciousness, kidney, pressure, failure, surgery, disease, antibiotics, pulmonary, left, interactive]</td>\n",
              "      <td>[f33, f41, f31, f10, f5, f2, f0, f46, f32, f50, f19, f44, f37, f3, f7, f47, f35, f39]</td>\n",
              "      <td>{'401': 0.022222222222222223, '427': 0.024444444444444446, '276': 0.032051282051282055, '272': 0.023504273504273508, '250': 0.032051282051282055, '414': 0.022222222222222223, '285': 0.0308641975308642, '428': 0.032407407407407406, '518': 0.034188034188034185, '584': 0.03111111111111111, 'V45': 0.03111111111111111, 'V58': 0.0308641975308642, '585': 0.033816425120772944, '530': 0.028888888888888888, '599': 0.03333333333333333, 'E87': 0.022222222222222223, '403': 0.036231884057971016, 'V10': 0.027777777777777776, '038': 0.03111111111111111, '995': 0.03333333333333333}</td>\n",
              "    </tr>\n",
              "    <tr>\n",
              "      <th>41965</th>\n",
              "      <td>172559.0</td>\n",
              "      <td>discharge diagnosis:  primary:  small bowel obstruction  metastatic prostate cancer  anasarca  malnutrition  dehydration  acute renal failure  aspiration pneumonia  .  secondary:  prostate ca s/p xrt and chemo - rising psa (140), lg rp mass,  oa, lbp, diverticulosis w/ colovesical fistula s/p lar [**5-18**], s/p  ileostomy takedown [**10-18**], open ccy      discharge condition:  stable      discharge instructions:  please call your doctor or return to the er for any of the  following:  * you experience new chest pain, pressure, squeezing or  tightness.  * new or worsening cough or wheezing.  * if you are vomiting and cannot keep in fluids or your  medications.  * you are getting dehydrated due to continued vomiting,  diarrhea or other reasons. signs of dehydration include dry  mouth, rapid heartbeat or feeling dizzy or faint when standing.  * you see blood or dark/black material when you vomit or have a  bowel movement.  * your pain is not improving within 8-12 hours or not gone  within 24 hours. call or return immediately if your pain is  getting worse or is changing location or moving to your chest or    back.  *avoid lifting objects &gt; 5lbs until your follow-up appointment  with the surgeon.  *avoid driving or operating heavy machinery while taking pain  medications.  * you have shaking chills, or a fever greater than 101.5 (f)  degrees or 38(c) degrees.  * any serious change in your symptoms, or any new symptoms that  concern you.  * please resume all regular home medications and take any new  meds  as ordered.  * continue to ambulate several times per day.  .  incision care:  -your staples will be removed at your follow-up appointment with  the surgeon, and steri strips will be applied.  -your steri-strips will fall off on their own. please remove any  remaining strips 7-10 days after surgery.  -you may shower, and wash surgical incisions.  -avoid swimming and baths until your follow-up appointment.  -please call the doctor if you have increased pain, swelling,  redness, or drainage from the incision sites.      followup instructions:  1. please follow-up appointment with dr. &lt;name&gt; (&lt;telephone&gt; on  &lt;date&gt;  at 1:15pm for removal of your staples.  2. you have follow-up appointment with dr. &lt;name&gt; &lt;name&gt;, md  phone:&lt;telephone&gt; date/time: &lt;date&gt;  11:00, and chemotherapy at  provider: &lt;name&gt; &lt;name&gt;, rn phone:&lt;telephone&gt; date/time: &lt;date&gt;   12:00  3. provider: &lt;name&gt;,&lt;name&gt; &lt;name&gt; apg (sb)  phone:&lt;telephone&gt; date/time: &lt;date&gt;  10:10                                 &lt;name&gt; &lt;name&gt; md [**md number(1) 17**]    completed by: &lt;date&gt;</td>\n",
              "      <td>[197, 507, 185, 427, 261, 585, V66, 560, 783, 285, 276]</td>\n",
              "      <td>['colovesical fistula s/p lar', 'vomiting', 'diverticulosis', 'dehydrated', 'dry  mouth', 'follow-up', 'followup', 'your symptoms', 'vomit', 'pain', 'pressure', 'increased', 'home medications', 'removal', 'discharge', 'day', 'swelling', 'your pain', 'rapid', 'rp mass', 'psa', 'days', 'signs', 'doctor', 'operating heavy machinery', 'appointment', 'incision sites', 'heartbeat', 'worsening', 'location', 'steri strips', 'discharge condition', 'swimming', 'telephone', 's/p  ileostomy takedown', 'discharge diagnosis', 'fever', 'objects', 'fluids', 'symptoms', 'staples', 'steri-strips', 'md  phone:&lt;telephone&gt; date/time', 'rising', 'small bowel obstruction', 'return', 'wheezing', 'shaking chills', 'acute renal failure', 'chest pain', 'ambulate', 'movement', 'chemo', 'blood', 'dark/black material', 'drainage', 'provider', 'surgical incisions', 'dehydration', 'feeling dizzy', 'your chest', 'prostate cancer', 'lifting', 'surgery', 'surgeon', 'your staples', 'standing', 'hours', 'baths', 'chemotherapy', 'cough', 'squeezing', 'your follow-up']</td>\n",
              "      <td>[surgical, mouth, vomit, increased, removal, discharge, machinery, doctor, heavy, appointment, heartbeat, telephone, fever, md, steri-strips, rising, condition, movement, chemo, drainage, lifting, surgery, chemotherapy, obstruction, standing, hours, bowel, squeezing, phone, fistula, dizzy, your, swelling, diagnosis, signs, rp, incisions, location, operating, swimming, fluids, wheezing, material, renal, acute, takedown, provider, failure, surgeon, dehydrated, vomiting, diverticulosis, followup, strips, day, rapid, psa, days, worsening, cancer, dry, symptoms, return, ambulate, blood, chest, mass, medications, dark/black, colovesical, ileostomy, baths, cough, follow-up, pain, pressure, s/p, shaking, feeling, steri, date/time, incision, objects, staples, prostate, sites, dehydration, small, chills, home, lar]</td>\n",
              "      <td>[pain, pressure, s/p, incisions, incision, swimming, cancer, fever, dry, symptoms, renal, drainage, blood, chest, acute, surgery, failure, surgeon, chills, hours, baths]</td>\n",
              "      <td>[f41, f47, f35, f49, f4, f20, f38, f36, f44, f48, f37, f13, f25, f24, f18, f28, f6, f5]</td>\n",
              "      <td>{'401': 0.026666666666666665, '427': 0.026666666666666665, '276': 0.021367521367521368, '272': 0.029914529914529916, '250': 0.027777777777777776, '414': 0.028888888888888888, '285': 0.024691358024691357, '428': 0.025462962962962965, '518': 0.021367521367521368, '584': 0.022222222222222223, 'V45': 0.026666666666666665, 'V58': 0.0205761316872428, '585': 0.024154589371980676, '530': 0.03111111111111111, '599': 0.024444444444444446, 'E87': 0.028888888888888888, '403': 0.024154589371980676, 'V10': 0.02564102564102564, '038': 0.02, '995': 0.022222222222222223}</td>\n",
              "    </tr>\n",
              "    <tr>\n",
              "      <th>41966</th>\n",
              "      <td>135672.0</td>\n",
              "      <td>discharge diagnosis:  peritonitis secondary to small bowel perforation.  cmv enteritis  b-cell lymphoma  line infection  type 2 diabetes controlled without complications  moderate malnutrition  cad bypass vessle      discharge condition:  stable.  tolerating regular diet  pain well controlled with oral medications.      discharge instructions:  you are being discharged on an antiviral medication called  ganciclovir, which can make your diarhea worse for some time.  please contact your doctor if you experience numbness, tingling  or pain in hands or feet, as this may be a side effect of the  medication.    you will be having labs drawn every other day and sent to dr.  &lt;name&gt; of infectious diseases for monitoring of your blood  counts.    *avoid lifting objects &gt; 5lbs until your follow-up appointment  with the surgeon.    *avoid driving or operating heavy machinery while taking pain  medications.    * continue to ambulate several times per day.    incision care:  -your staples will be removed at your follow up appoinetment.  -steri-strips will be applied and will fall off on their own.  please remove any remaining strips 7-10 days after application.  -you may shower, and wash surgical incisions.  -avoid swimming and baths until your follow-up appointment.  -please call the doctor if you have increased pain, swelling,  redness, or drainage from the incision sites.    followup instructions:  you will need to have an ophthalmalogic evaluation to make sure  that there is no evidence of cmv infection of the retina - this  should happen this week.  please call: (&lt;telephone&gt; to  schedule this appointment; if you have any difficulty arranging  this, please discuss this with your primary doctor so that they  can facilitate/arrange this evaluation.    1. please call dr.&lt;name&gt; office, &lt;telephone&gt;, to make a  follow up appointment in [**11-23**] weeks.  scheduled appointments :  provider: &lt;name&gt; &lt;name&gt;, &lt;telephone&gt;  date/time: &lt;date&gt;  10:30  provider: &lt;name&gt; &lt;name&gt;, rn phone:&lt;telephone&gt;  date/time: &lt;date&gt;  11:00  provider: &lt;name&gt; chair 6  date/time: &lt;date&gt;  11:00                                   &lt;name&gt; &lt;name&gt; md [**md number(2) 431**]    completed by: &lt;date&gt;</td>\n",
              "      <td>[202, 401, 584, 255, 283, 238, 038, 785, 250, 008, 041, 272, 996, 078, V45, 567, 569, 273, 995, 263, 579, 782]</td>\n",
              "      <td>['followup', 'primary doctor', 'discharged', 'appoinetment', 'infectious diseases', 'strips', 'hands', 'increased', 'pain', 'complications', 'day', 'swelling', 'contact your', 'controlled', 'week', 'days', 'labs', 'shower', 'evaluation', 'ophthalmalogic', 'doctor', 'regular diet', 'wash', 'operating heavy machinery', 'monitoring', 'appointment', 'incision sites', 'your blood', 'discharge condition', 'oral medications', 'swimming', 'telephone', 'discharge diagnosis', 'application', 'objects', 'cmv infection', 'small bowel perforation', 'staples', 'chair', 'evidence', 'numbness', 'your diarhea', 'discharge instructions', 'side effect', 'antiviral medication', 'office', 'retina', 'drainage', 'incision care', 'appointments', 'surgical incisions', 'weeks', 'feet', 'lifting', 'difficulty', 'surgeon', 'ganciclovir', 'baths', 'tingling  ', 'your follow-up']</td>\n",
              "      <td>[follow-up, followup, discharged, appoinetment, strips, diseases, surgical, hands, infectious, increased, pain, complications, your, discharge, care, day, swelling, primary, week, controlled, machinery, diagnosis, days, labs, perforation, contact, shower, evaluation, ophthalmalogic, doctor, heavy, wash, effect, monitoring, appointment, incisions, operating, incision, swimming, telephone, application, objects, baths, medication, tingling, staples, chair, sites, evidence, condition, oral, regular, numbness, office, retina, blood, infection, drainage, appointments, side, weeks, feet, antiviral, diet, medications, instructions, lifting, difficulty, cmv, small, surgeon, ganciclovir, diarhea, bowel]</td>\n",
              "      <td>[drainage, blood, infection, diet, pain, surgeon, incisions, baths, incision, swimming]</td>\n",
              "      <td>[f49, f4, f20, f43, f36, f37, f47, f18, f39]</td>\n",
              "      <td>{'401': 0.035555555555555556, '427': 0.03111111111111111, '276': 0.017094017094017092, '272': 0.034188034188034185, '250': 0.02564102564102564, '414': 0.035555555555555556, '285': 0.024691358024691357, '428': 0.02314814814814815, '518': 0.021367521367521368, '584': 0.017777777777777778, 'V45': 0.026666666666666665, 'V58': 0.0205761316872428, '585': 0.01932367149758454, '530': 0.035555555555555556, '599': 0.022222222222222223, 'E87': 0.035555555555555556, '403': 0.01932367149758454, 'V10': 0.02564102564102564, '038': 0.013333333333333332, '995': 0.017777777777777778}</td>\n",
              "    </tr>\n",
              "  </tbody>\n",
              "</table>\n",
              "<p>41967 rows × 8 columns</p>\n",
              "</div>"
            ],
            "text/plain": [
              "        HADM_ID  ...                                                                                                                                                                                                                                                                                                                                                                                                                                                                                                                                                                             predicted_icd_weigths\n",
              "0      167118.0  ...                                                                                                                                                             {'401': 0.04, '427': 0.04, '276': 0.015384615384615385, '272': 0.038461538461538464, '250': 0.03076923076923077, '414': 0.04, '285': 0.022222222222222223, '428': 0.03333333333333333, '518': 0.015384615384615385, '584': 0.016, 'V45': 0.032, 'V58': 0.022222222222222223, '585': 0.02608695652173913, '530': 0.032, '599': 0.016, 'E87': 0.04, '403': 0.02608695652173913, 'V10': 0.03076923076923077, '038': 0.016, '995': 0.016}\n",
              "1      196489.0  ...  {'401': 0.026666666666666665, '427': 0.028888888888888888, '276': 0.027777777777777776, '272': 0.027777777777777776, '250': 0.027777777777777776, '414': 0.026666666666666665, '285': 0.02880658436213992, '428': 0.03009259259259259, '518': 0.034188034188034185, '584': 0.026666666666666665, 'V45': 0.028888888888888888, 'V58': 0.02880658436213992, '585': 0.03140096618357488, '530': 0.028888888888888888, '599': 0.026666666666666665, 'E87': 0.024444444444444446, '403': 0.033816425120772944, 'V10': 0.029914529914529916, '038': 0.028888888888888888, '995': 0.028888888888888888}\n",
              "2      135453.0  ...   {'401': 0.013333333333333332, '427': 0.013333333333333332, '276': 0.02564102564102564, '272': 0.01282051282051282, '250': 0.01282051282051282, '414': 0.013333333333333332, '285': 0.012345679012345678, '428': 0.013888888888888888, '518': 0.02564102564102564, '584': 0.026666666666666665, 'V45': 0.013333333333333332, 'V58': 0.012345679012345678, '585': 0.014492753623188404, '530': 0.013333333333333332, '599': 0.026666666666666665, 'E87': 0.013333333333333332, '403': 0.014492753623188404, 'V10': 0.01282051282051282, '038': 0.026666666666666665, '995': 0.026666666666666665}\n",
              "3      170490.0  ...           {'401': 0.03428571428571428, '427': 0.02857142857142857, '276': 0.024725274725274728, '272': 0.027472527472527472, '250': 0.03021978021978022, '414': 0.02857142857142857, '285': 0.0291005291005291, '428': 0.026785714285714288, '518': 0.027472527472527472, '584': 0.025714285714285717, 'V45': 0.03142857142857143, 'V58': 0.0291005291005291, '585': 0.027950310559006212, '530': 0.03142857142857143, '599': 0.02857142857142857, 'E87': 0.03428571428571428, '403': 0.027950310559006212, 'V10': 0.03296703296703297, '038': 0.022857142857142857, '995': 0.025714285714285717}\n",
              "4      134727.0  ...                                                                                                                                                                                                                                                                                                             {'401': 0.0, '427': 0.0, '276': 0.038461538461538464, '272': 0.0, '250': 0.0, '414': 0.0, '285': 0.0, '428': 0.0, '518': 0.038461538461538464, '584': 0.04, 'V45': 0.0, 'V58': 0.0, '585': 0.0, '530': 0.0, '599': 0.0, 'E87': 0.0, '403': 0.0, 'V10': 0.0, '038': 0.04, '995': 0.04}\n",
              "...         ...  ...                                                                                                                                                                                                                                                                                                                                                                                                                                                                                                                                                                                               ...\n",
              "41962  127716.0  ...                              {'401': 0.034666666666666665, '427': 0.029333333333333333, '276': 0.01282051282051282, '272': 0.035897435897435895, '250': 0.023076923076923075, '414': 0.037333333333333336, '285': 0.022222222222222223, '428': 0.016666666666666666, '518': 0.01282051282051282, '584': 0.013333333333333332, 'V45': 0.024, 'V58': 0.019753086419753086, '585': 0.014492753623188404, '530': 0.029333333333333333, '599': 0.013333333333333332, 'E87': 0.034666666666666665, '403': 0.014492753623188404, 'V10': 0.023076923076923075, '038': 0.008, '995': 0.010666666666666666}\n",
              "41963  186377.0  ...   {'401': 0.02857142857142857, '427': 0.02857142857142857, '276': 0.013736263736263736, '272': 0.03296703296703297, '250': 0.021978021978021976, '414': 0.037142857142857144, '285': 0.018518518518518517, '428': 0.017857142857142856, '518': 0.016483516483516484, '584': 0.014285714285714285, 'V45': 0.022857142857142857, 'V58': 0.018518518518518517, '585': 0.018633540372670808, '530': 0.025714285714285717, '599': 0.01714285714285714, 'E87': 0.02857142857142857, '403': 0.018633540372670808, 'V10': 0.021978021978021976, '038': 0.011428571428571429, '995': 0.011428571428571429}\n",
              "41964  156564.0  ...       {'401': 0.022222222222222223, '427': 0.024444444444444446, '276': 0.032051282051282055, '272': 0.023504273504273508, '250': 0.032051282051282055, '414': 0.022222222222222223, '285': 0.0308641975308642, '428': 0.032407407407407406, '518': 0.034188034188034185, '584': 0.03111111111111111, 'V45': 0.03111111111111111, 'V58': 0.0308641975308642, '585': 0.033816425120772944, '530': 0.028888888888888888, '599': 0.03333333333333333, 'E87': 0.022222222222222223, '403': 0.036231884057971016, 'V10': 0.027777777777777776, '038': 0.03111111111111111, '995': 0.03333333333333333}\n",
              "41965  172559.0  ...                  {'401': 0.026666666666666665, '427': 0.026666666666666665, '276': 0.021367521367521368, '272': 0.029914529914529916, '250': 0.027777777777777776, '414': 0.028888888888888888, '285': 0.024691358024691357, '428': 0.025462962962962965, '518': 0.021367521367521368, '584': 0.022222222222222223, 'V45': 0.026666666666666665, 'V58': 0.0205761316872428, '585': 0.024154589371980676, '530': 0.03111111111111111, '599': 0.024444444444444446, 'E87': 0.028888888888888888, '403': 0.024154589371980676, 'V10': 0.02564102564102564, '038': 0.02, '995': 0.022222222222222223}\n",
              "41966  135672.0  ...      {'401': 0.035555555555555556, '427': 0.03111111111111111, '276': 0.017094017094017092, '272': 0.034188034188034185, '250': 0.02564102564102564, '414': 0.035555555555555556, '285': 0.024691358024691357, '428': 0.02314814814814815, '518': 0.021367521367521368, '584': 0.017777777777777778, 'V45': 0.026666666666666665, 'V58': 0.0205761316872428, '585': 0.01932367149758454, '530': 0.035555555555555556, '599': 0.022222222222222223, 'E87': 0.035555555555555556, '403': 0.01932367149758454, 'V10': 0.02564102564102564, '038': 0.013333333333333332, '995': 0.017777777777777778}\n",
              "\n",
              "[41967 rows x 8 columns]"
            ]
          },
          "metadata": {
            "tags": []
          },
          "execution_count": 163
        }
      ]
    },
    {
      "cell_type": "code",
      "metadata": {
        "colab": {
          "base_uri": "https://localhost:8080/",
          "height": 66,
          "referenced_widgets": [
            "0249b36102e042a9b7901cf6fe954ea6",
            "403530aacbf7488fa9696222d57a4cc9",
            "59c3fc6fa45c4a1097a03e3c6fb7580a",
            "cacd57dc416b4e76bb1145ec38be7657",
            "a30105a44ed548d68541ea46abd42af5",
            "5763770972244c538cac25d4d6e1feb7",
            "c94caba645104fab975c0e3042f36c30",
            "a94d62d79d044f7a85110efdba748c2d"
          ]
        },
        "id": "4n69wjAXhOFE",
        "outputId": "5288fca3-419a-4f8b-df3d-ae4b382e9230"
      },
      "source": [
        "diagnosis_icd9category['predicted_icd']=diagnosis_icd9category.predicted_icd_weigths.progress_apply(predictbasedonwts)"
      ],
      "execution_count": null,
      "outputs": [
        {
          "output_type": "display_data",
          "data": {
            "application/vnd.jupyter.widget-view+json": {
              "model_id": "0249b36102e042a9b7901cf6fe954ea6",
              "version_major": 2,
              "version_minor": 0
            },
            "text/plain": [
              "HBox(children=(FloatProgress(value=0.0, max=41967.0), HTML(value='')))"
            ]
          },
          "metadata": {
            "tags": []
          }
        },
        {
          "output_type": "stream",
          "text": [
            "\n"
          ],
          "name": "stdout"
        }
      ]
    },
    {
      "cell_type": "code",
      "metadata": {
        "id": "rZ8lcAgAhSAR"
      },
      "source": [
        "result_predict={'category':[],'precision':[],'recall':[],'f1':[]}\n",
        "for i in frequent_icd9category:\n",
        "  actual_p=diagnosis_icd9category.loc[diagnosis_icd9category.icd9_category.apply(lambda x:i in x)].HADM_ID.count()\n",
        "  tp=diagnosis_icd9category.loc[(diagnosis_icd9category.icd9_category.apply(lambda x:i in x))&(diagnosis_icd9category.predicted_icd.apply(lambda x:i in x))].HADM_ID.count()\n",
        "  predict_p=diagnosis_icd9category.loc[diagnosis_icd9category.predicted_icd.apply(lambda x:i in x)].HADM_ID.count()\n",
        "  precision=tp/predict_p\n",
        "  recall=tp/actual_p\n",
        "  f1=2*precision*recall/(precision+recall)\n",
        "  result_predict['category'].append(i)\n",
        "  result_predict['precision'].append(precision)\n",
        "  result_predict['recall'].append(recall)\n",
        "  result_predict['f1'].append(f1)"
      ],
      "execution_count": null,
      "outputs": []
    },
    {
      "cell_type": "code",
      "metadata": {
        "colab": {
          "base_uri": "https://localhost:8080/",
          "height": 669
        },
        "id": "R-B7Y4UyiUo1",
        "outputId": "a05f186d-bc4e-4f4c-bbf2-db3880390bd1"
      },
      "source": [
        "pd.DataFrame.from_dict(result_predict)"
      ],
      "execution_count": null,
      "outputs": [
        {
          "output_type": "execute_result",
          "data": {
            "text/html": [
              "<div>\n",
              "<style scoped>\n",
              "    .dataframe tbody tr th:only-of-type {\n",
              "        vertical-align: middle;\n",
              "    }\n",
              "\n",
              "    .dataframe tbody tr th {\n",
              "        vertical-align: top;\n",
              "    }\n",
              "\n",
              "    .dataframe thead th {\n",
              "        text-align: right;\n",
              "    }\n",
              "</style>\n",
              "<table border=\"1\" class=\"dataframe\">\n",
              "  <thead>\n",
              "    <tr style=\"text-align: right;\">\n",
              "      <th></th>\n",
              "      <th>category</th>\n",
              "      <th>precision</th>\n",
              "      <th>recall</th>\n",
              "      <th>f1</th>\n",
              "    </tr>\n",
              "  </thead>\n",
              "  <tbody>\n",
              "    <tr>\n",
              "      <th>0</th>\n",
              "      <td>401</td>\n",
              "      <td>0.482773</td>\n",
              "      <td>0.578809</td>\n",
              "      <td>0.526447</td>\n",
              "    </tr>\n",
              "    <tr>\n",
              "      <th>1</th>\n",
              "      <td>427</td>\n",
              "      <td>0.367896</td>\n",
              "      <td>0.620706</td>\n",
              "      <td>0.461976</td>\n",
              "    </tr>\n",
              "    <tr>\n",
              "      <th>2</th>\n",
              "      <td>276</td>\n",
              "      <td>0.403920</td>\n",
              "      <td>0.530846</td>\n",
              "      <td>0.458766</td>\n",
              "    </tr>\n",
              "    <tr>\n",
              "      <th>3</th>\n",
              "      <td>272</td>\n",
              "      <td>0.393874</td>\n",
              "      <td>0.426916</td>\n",
              "      <td>0.409730</td>\n",
              "    </tr>\n",
              "    <tr>\n",
              "      <th>4</th>\n",
              "      <td>250</td>\n",
              "      <td>0.338874</td>\n",
              "      <td>0.546093</td>\n",
              "      <td>0.418223</td>\n",
              "    </tr>\n",
              "    <tr>\n",
              "      <th>5</th>\n",
              "      <td>414</td>\n",
              "      <td>0.367941</td>\n",
              "      <td>0.543950</td>\n",
              "      <td>0.438959</td>\n",
              "    </tr>\n",
              "    <tr>\n",
              "      <th>6</th>\n",
              "      <td>285</td>\n",
              "      <td>0.319031</td>\n",
              "      <td>0.482206</td>\n",
              "      <td>0.384003</td>\n",
              "    </tr>\n",
              "    <tr>\n",
              "      <th>7</th>\n",
              "      <td>428</td>\n",
              "      <td>0.333801</td>\n",
              "      <td>0.693245</td>\n",
              "      <td>0.450624</td>\n",
              "    </tr>\n",
              "    <tr>\n",
              "      <th>8</th>\n",
              "      <td>518</td>\n",
              "      <td>0.345443</td>\n",
              "      <td>0.530521</td>\n",
              "      <td>0.418430</td>\n",
              "    </tr>\n",
              "    <tr>\n",
              "      <th>9</th>\n",
              "      <td>584</td>\n",
              "      <td>0.308929</td>\n",
              "      <td>0.705093</td>\n",
              "      <td>0.429623</td>\n",
              "    </tr>\n",
              "    <tr>\n",
              "      <th>10</th>\n",
              "      <td>V45</td>\n",
              "      <td>0.199444</td>\n",
              "      <td>0.711315</td>\n",
              "      <td>0.311537</td>\n",
              "    </tr>\n",
              "    <tr>\n",
              "      <th>11</th>\n",
              "      <td>V58</td>\n",
              "      <td>0.205235</td>\n",
              "      <td>0.509247</td>\n",
              "      <td>0.292563</td>\n",
              "    </tr>\n",
              "    <tr>\n",
              "      <th>12</th>\n",
              "      <td>585</td>\n",
              "      <td>0.198217</td>\n",
              "      <td>0.718255</td>\n",
              "      <td>0.310692</td>\n",
              "    </tr>\n",
              "    <tr>\n",
              "      <th>13</th>\n",
              "      <td>530</td>\n",
              "      <td>0.169491</td>\n",
              "      <td>0.577516</td>\n",
              "      <td>0.262069</td>\n",
              "    </tr>\n",
              "    <tr>\n",
              "      <th>14</th>\n",
              "      <td>599</td>\n",
              "      <td>0.186284</td>\n",
              "      <td>0.695045</td>\n",
              "      <td>0.293819</td>\n",
              "    </tr>\n",
              "    <tr>\n",
              "      <th>15</th>\n",
              "      <td>E87</td>\n",
              "      <td>0.180941</td>\n",
              "      <td>0.577362</td>\n",
              "      <td>0.275532</td>\n",
              "    </tr>\n",
              "    <tr>\n",
              "      <th>16</th>\n",
              "      <td>403</td>\n",
              "      <td>0.173388</td>\n",
              "      <td>0.733199</td>\n",
              "      <td>0.280454</td>\n",
              "    </tr>\n",
              "    <tr>\n",
              "      <th>17</th>\n",
              "      <td>V10</td>\n",
              "      <td>0.156326</td>\n",
              "      <td>0.510258</td>\n",
              "      <td>0.239330</td>\n",
              "    </tr>\n",
              "    <tr>\n",
              "      <th>18</th>\n",
              "      <td>038</td>\n",
              "      <td>0.163974</td>\n",
              "      <td>0.694465</td>\n",
              "      <td>0.265305</td>\n",
              "    </tr>\n",
              "    <tr>\n",
              "      <th>19</th>\n",
              "      <td>995</td>\n",
              "      <td>0.164437</td>\n",
              "      <td>0.703377</td>\n",
              "      <td>0.266558</td>\n",
              "    </tr>\n",
              "  </tbody>\n",
              "</table>\n",
              "</div>"
            ],
            "text/plain": [
              "   category  precision    recall        f1\n",
              "0       401   0.482773  0.578809  0.526447\n",
              "1       427   0.367896  0.620706  0.461976\n",
              "2       276   0.403920  0.530846  0.458766\n",
              "3       272   0.393874  0.426916  0.409730\n",
              "4       250   0.338874  0.546093  0.418223\n",
              "5       414   0.367941  0.543950  0.438959\n",
              "6       285   0.319031  0.482206  0.384003\n",
              "7       428   0.333801  0.693245  0.450624\n",
              "8       518   0.345443  0.530521  0.418430\n",
              "9       584   0.308929  0.705093  0.429623\n",
              "10      V45   0.199444  0.711315  0.311537\n",
              "11      V58   0.205235  0.509247  0.292563\n",
              "12      585   0.198217  0.718255  0.310692\n",
              "13      530   0.169491  0.577516  0.262069\n",
              "14      599   0.186284  0.695045  0.293819\n",
              "15      E87   0.180941  0.577362  0.275532\n",
              "16      403   0.173388  0.733199  0.280454\n",
              "17      V10   0.156326  0.510258  0.239330\n",
              "18      038   0.163974  0.694465  0.265305\n",
              "19      995   0.164437  0.703377  0.266558"
            ]
          },
          "metadata": {
            "tags": []
          },
          "execution_count": 166
        }
      ]
    },
    {
      "cell_type": "code",
      "metadata": {
        "colab": {
          "base_uri": "https://localhost:8080/",
          "height": 119
        },
        "id": "78Fxe5KaiY8j",
        "outputId": "2bd0f268-c1f3-497c-aca3-18a240669888"
      },
      "source": [
        "total_predicted=len([a for b in diagnosis_icd9category.predicted_icd.to_list() for a in b])\n",
        "print(total_predicted)\n",
        "actual=len([a for b in diagnosis_icd9category.icd9_category.apply(lambda x : [i for i in x if i in frequent_icd9category]).to_list() for a in b])\n",
        "print(actual)\n",
        "actual_predicted=0\n",
        "for i in frequent_icd9category:\n",
        "  actual_predicted+=diagnosis_icd9category.loc[(diagnosis_icd9category.icd9_category.apply(lambda x:i in x))&(diagnosis_icd9category.predicted_icd.apply(lambda x:i in x))].HADM_ID.count()\n",
        "print(actual_predicted)\n",
        "recall=actual_predicted/actual\n",
        "presicion=actual_predicted/total_predicted\n",
        "print(recall)\n",
        "print(presicion)\n",
        "print(2*presicion*recall/(presicion+recall))"
      ],
      "execution_count": null,
      "outputs": [
        {
          "output_type": "stream",
          "text": [
            "420331\n",
            "189430\n",
            "111842\n",
            "0.5904133452990551\n",
            "0.2660807791954436\n",
            "0.3668388106159627\n"
          ],
          "name": "stdout"
        }
      ]
    },
    {
      "cell_type": "code",
      "metadata": {
        "id": "BiIQ0nW_cSVY"
      },
      "source": [
        ""
      ],
      "execution_count": null,
      "outputs": []
    }
  ]
}