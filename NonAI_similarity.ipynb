{
  "nbformat": 4,
  "nbformat_minor": 0,
  "metadata": {
    "colab": {
      "name": "NonAI_similarity.ipynb",
      "provenance": [],
      "collapsed_sections": [],
      "authorship_tag": "ABX9TyOn+a4B5agT+uOMNMomsNF+",
      "include_colab_link": true
    },
    "kernelspec": {
      "display_name": "Python 3",
      "name": "python3"
    },
    "widgets": {
      "application/vnd.jupyter.widget-state+json": {
        "b0b9ce582250475f8674d069f09ef4d9": {
          "model_module": "@jupyter-widgets/controls",
          "model_name": "HBoxModel",
          "state": {
            "_view_name": "HBoxView",
            "_dom_classes": [],
            "_model_name": "HBoxModel",
            "_view_module": "@jupyter-widgets/controls",
            "_model_module_version": "1.5.0",
            "_view_count": null,
            "_view_module_version": "1.5.0",
            "box_style": "",
            "layout": "IPY_MODEL_cc900c8440cb45d68d49d7d34029bf29",
            "_model_module": "@jupyter-widgets/controls",
            "children": [
              "IPY_MODEL_56b655251ab9456abc379863b740d5b4",
              "IPY_MODEL_cdf09f4b0ca7450cb0b65379cbee5cfe"
            ]
          }
        },
        "cc900c8440cb45d68d49d7d34029bf29": {
          "model_module": "@jupyter-widgets/base",
          "model_name": "LayoutModel",
          "state": {
            "_view_name": "LayoutView",
            "grid_template_rows": null,
            "right": null,
            "justify_content": null,
            "_view_module": "@jupyter-widgets/base",
            "overflow": null,
            "_model_module_version": "1.2.0",
            "_view_count": null,
            "flex_flow": null,
            "width": null,
            "min_width": null,
            "border": null,
            "align_items": null,
            "bottom": null,
            "_model_module": "@jupyter-widgets/base",
            "top": null,
            "grid_column": null,
            "overflow_y": null,
            "overflow_x": null,
            "grid_auto_flow": null,
            "grid_area": null,
            "grid_template_columns": null,
            "flex": null,
            "_model_name": "LayoutModel",
            "justify_items": null,
            "grid_row": null,
            "max_height": null,
            "align_content": null,
            "visibility": null,
            "align_self": null,
            "height": null,
            "min_height": null,
            "padding": null,
            "grid_auto_rows": null,
            "grid_gap": null,
            "max_width": null,
            "order": null,
            "_view_module_version": "1.2.0",
            "grid_template_areas": null,
            "object_position": null,
            "object_fit": null,
            "grid_auto_columns": null,
            "margin": null,
            "display": null,
            "left": null
          }
        },
        "56b655251ab9456abc379863b740d5b4": {
          "model_module": "@jupyter-widgets/controls",
          "model_name": "FloatProgressModel",
          "state": {
            "_view_name": "ProgressView",
            "style": "IPY_MODEL_985b0ef7fedf4a7fa823447cb2eadd13",
            "_dom_classes": [],
            "description": "100%",
            "_model_name": "FloatProgressModel",
            "bar_style": "success",
            "max": 41967,
            "_view_module": "@jupyter-widgets/controls",
            "_model_module_version": "1.5.0",
            "value": 41967,
            "_view_count": null,
            "_view_module_version": "1.5.0",
            "orientation": "horizontal",
            "min": 0,
            "description_tooltip": null,
            "_model_module": "@jupyter-widgets/controls",
            "layout": "IPY_MODEL_04d8bd0ab0a042538abfec8769194b69"
          }
        },
        "cdf09f4b0ca7450cb0b65379cbee5cfe": {
          "model_module": "@jupyter-widgets/controls",
          "model_name": "HTMLModel",
          "state": {
            "_view_name": "HTMLView",
            "style": "IPY_MODEL_b2c300c5629749129e02d7c81369d779",
            "_dom_classes": [],
            "description": "",
            "_model_name": "HTMLModel",
            "placeholder": "​",
            "_view_module": "@jupyter-widgets/controls",
            "_model_module_version": "1.5.0",
            "value": " 41967/41967 [10:36&lt;00:00, 65.96it/s]",
            "_view_count": null,
            "_view_module_version": "1.5.0",
            "description_tooltip": null,
            "_model_module": "@jupyter-widgets/controls",
            "layout": "IPY_MODEL_0adfd8c9466c4032af5a2435ed0ff3c8"
          }
        },
        "985b0ef7fedf4a7fa823447cb2eadd13": {
          "model_module": "@jupyter-widgets/controls",
          "model_name": "ProgressStyleModel",
          "state": {
            "_view_name": "StyleView",
            "_model_name": "ProgressStyleModel",
            "description_width": "initial",
            "_view_module": "@jupyter-widgets/base",
            "_model_module_version": "1.5.0",
            "_view_count": null,
            "_view_module_version": "1.2.0",
            "bar_color": null,
            "_model_module": "@jupyter-widgets/controls"
          }
        },
        "04d8bd0ab0a042538abfec8769194b69": {
          "model_module": "@jupyter-widgets/base",
          "model_name": "LayoutModel",
          "state": {
            "_view_name": "LayoutView",
            "grid_template_rows": null,
            "right": null,
            "justify_content": null,
            "_view_module": "@jupyter-widgets/base",
            "overflow": null,
            "_model_module_version": "1.2.0",
            "_view_count": null,
            "flex_flow": null,
            "width": null,
            "min_width": null,
            "border": null,
            "align_items": null,
            "bottom": null,
            "_model_module": "@jupyter-widgets/base",
            "top": null,
            "grid_column": null,
            "overflow_y": null,
            "overflow_x": null,
            "grid_auto_flow": null,
            "grid_area": null,
            "grid_template_columns": null,
            "flex": null,
            "_model_name": "LayoutModel",
            "justify_items": null,
            "grid_row": null,
            "max_height": null,
            "align_content": null,
            "visibility": null,
            "align_self": null,
            "height": null,
            "min_height": null,
            "padding": null,
            "grid_auto_rows": null,
            "grid_gap": null,
            "max_width": null,
            "order": null,
            "_view_module_version": "1.2.0",
            "grid_template_areas": null,
            "object_position": null,
            "object_fit": null,
            "grid_auto_columns": null,
            "margin": null,
            "display": null,
            "left": null
          }
        },
        "b2c300c5629749129e02d7c81369d779": {
          "model_module": "@jupyter-widgets/controls",
          "model_name": "DescriptionStyleModel",
          "state": {
            "_view_name": "StyleView",
            "_model_name": "DescriptionStyleModel",
            "description_width": "",
            "_view_module": "@jupyter-widgets/base",
            "_model_module_version": "1.5.0",
            "_view_count": null,
            "_view_module_version": "1.2.0",
            "_model_module": "@jupyter-widgets/controls"
          }
        },
        "0adfd8c9466c4032af5a2435ed0ff3c8": {
          "model_module": "@jupyter-widgets/base",
          "model_name": "LayoutModel",
          "state": {
            "_view_name": "LayoutView",
            "grid_template_rows": null,
            "right": null,
            "justify_content": null,
            "_view_module": "@jupyter-widgets/base",
            "overflow": null,
            "_model_module_version": "1.2.0",
            "_view_count": null,
            "flex_flow": null,
            "width": null,
            "min_width": null,
            "border": null,
            "align_items": null,
            "bottom": null,
            "_model_module": "@jupyter-widgets/base",
            "top": null,
            "grid_column": null,
            "overflow_y": null,
            "overflow_x": null,
            "grid_auto_flow": null,
            "grid_area": null,
            "grid_template_columns": null,
            "flex": null,
            "_model_name": "LayoutModel",
            "justify_items": null,
            "grid_row": null,
            "max_height": null,
            "align_content": null,
            "visibility": null,
            "align_self": null,
            "height": null,
            "min_height": null,
            "padding": null,
            "grid_auto_rows": null,
            "grid_gap": null,
            "max_width": null,
            "order": null,
            "_view_module_version": "1.2.0",
            "grid_template_areas": null,
            "object_position": null,
            "object_fit": null,
            "grid_auto_columns": null,
            "margin": null,
            "display": null,
            "left": null
          }
        },
        "e7b85d2ff0f54382b48b9bf5b3a3a114": {
          "model_module": "@jupyter-widgets/controls",
          "model_name": "HBoxModel",
          "state": {
            "_view_name": "HBoxView",
            "_dom_classes": [],
            "_model_name": "HBoxModel",
            "_view_module": "@jupyter-widgets/controls",
            "_model_module_version": "1.5.0",
            "_view_count": null,
            "_view_module_version": "1.5.0",
            "box_style": "",
            "layout": "IPY_MODEL_06acdeb635ed4950aa8bef15bb4b49a8",
            "_model_module": "@jupyter-widgets/controls",
            "children": [
              "IPY_MODEL_93869bfb571c433599b7cdbbee5bd508",
              "IPY_MODEL_cf5a69d5fcff4acbb80118a4dea03071"
            ]
          }
        },
        "06acdeb635ed4950aa8bef15bb4b49a8": {
          "model_module": "@jupyter-widgets/base",
          "model_name": "LayoutModel",
          "state": {
            "_view_name": "LayoutView",
            "grid_template_rows": null,
            "right": null,
            "justify_content": null,
            "_view_module": "@jupyter-widgets/base",
            "overflow": null,
            "_model_module_version": "1.2.0",
            "_view_count": null,
            "flex_flow": null,
            "width": null,
            "min_width": null,
            "border": null,
            "align_items": null,
            "bottom": null,
            "_model_module": "@jupyter-widgets/base",
            "top": null,
            "grid_column": null,
            "overflow_y": null,
            "overflow_x": null,
            "grid_auto_flow": null,
            "grid_area": null,
            "grid_template_columns": null,
            "flex": null,
            "_model_name": "LayoutModel",
            "justify_items": null,
            "grid_row": null,
            "max_height": null,
            "align_content": null,
            "visibility": null,
            "align_self": null,
            "height": null,
            "min_height": null,
            "padding": null,
            "grid_auto_rows": null,
            "grid_gap": null,
            "max_width": null,
            "order": null,
            "_view_module_version": "1.2.0",
            "grid_template_areas": null,
            "object_position": null,
            "object_fit": null,
            "grid_auto_columns": null,
            "margin": null,
            "display": null,
            "left": null
          }
        },
        "93869bfb571c433599b7cdbbee5bd508": {
          "model_module": "@jupyter-widgets/controls",
          "model_name": "FloatProgressModel",
          "state": {
            "_view_name": "ProgressView",
            "style": "IPY_MODEL_3b7ab1b941334ed1b4090fdad1874bed",
            "_dom_classes": [],
            "description": "100%",
            "_model_name": "FloatProgressModel",
            "bar_style": "success",
            "max": 41967,
            "_view_module": "@jupyter-widgets/controls",
            "_model_module_version": "1.5.0",
            "value": 41967,
            "_view_count": null,
            "_view_module_version": "1.5.0",
            "orientation": "horizontal",
            "min": 0,
            "description_tooltip": null,
            "_model_module": "@jupyter-widgets/controls",
            "layout": "IPY_MODEL_066f0e376f4846e29847c20701d973dd"
          }
        },
        "cf5a69d5fcff4acbb80118a4dea03071": {
          "model_module": "@jupyter-widgets/controls",
          "model_name": "HTMLModel",
          "state": {
            "_view_name": "HTMLView",
            "style": "IPY_MODEL_9e6b0aceb396413db8f91a75e44a8113",
            "_dom_classes": [],
            "description": "",
            "_model_name": "HTMLModel",
            "placeholder": "​",
            "_view_module": "@jupyter-widgets/controls",
            "_model_module_version": "1.5.0",
            "value": " 41967/41967 [10:35&lt;00:00, 66.00it/s]",
            "_view_count": null,
            "_view_module_version": "1.5.0",
            "description_tooltip": null,
            "_model_module": "@jupyter-widgets/controls",
            "layout": "IPY_MODEL_ee7a598c41ef46f885740a57ca13deec"
          }
        },
        "3b7ab1b941334ed1b4090fdad1874bed": {
          "model_module": "@jupyter-widgets/controls",
          "model_name": "ProgressStyleModel",
          "state": {
            "_view_name": "StyleView",
            "_model_name": "ProgressStyleModel",
            "description_width": "initial",
            "_view_module": "@jupyter-widgets/base",
            "_model_module_version": "1.5.0",
            "_view_count": null,
            "_view_module_version": "1.2.0",
            "bar_color": null,
            "_model_module": "@jupyter-widgets/controls"
          }
        },
        "066f0e376f4846e29847c20701d973dd": {
          "model_module": "@jupyter-widgets/base",
          "model_name": "LayoutModel",
          "state": {
            "_view_name": "LayoutView",
            "grid_template_rows": null,
            "right": null,
            "justify_content": null,
            "_view_module": "@jupyter-widgets/base",
            "overflow": null,
            "_model_module_version": "1.2.0",
            "_view_count": null,
            "flex_flow": null,
            "width": null,
            "min_width": null,
            "border": null,
            "align_items": null,
            "bottom": null,
            "_model_module": "@jupyter-widgets/base",
            "top": null,
            "grid_column": null,
            "overflow_y": null,
            "overflow_x": null,
            "grid_auto_flow": null,
            "grid_area": null,
            "grid_template_columns": null,
            "flex": null,
            "_model_name": "LayoutModel",
            "justify_items": null,
            "grid_row": null,
            "max_height": null,
            "align_content": null,
            "visibility": null,
            "align_self": null,
            "height": null,
            "min_height": null,
            "padding": null,
            "grid_auto_rows": null,
            "grid_gap": null,
            "max_width": null,
            "order": null,
            "_view_module_version": "1.2.0",
            "grid_template_areas": null,
            "object_position": null,
            "object_fit": null,
            "grid_auto_columns": null,
            "margin": null,
            "display": null,
            "left": null
          }
        },
        "9e6b0aceb396413db8f91a75e44a8113": {
          "model_module": "@jupyter-widgets/controls",
          "model_name": "DescriptionStyleModel",
          "state": {
            "_view_name": "StyleView",
            "_model_name": "DescriptionStyleModel",
            "description_width": "",
            "_view_module": "@jupyter-widgets/base",
            "_model_module_version": "1.5.0",
            "_view_count": null,
            "_view_module_version": "1.2.0",
            "_model_module": "@jupyter-widgets/controls"
          }
        },
        "ee7a598c41ef46f885740a57ca13deec": {
          "model_module": "@jupyter-widgets/base",
          "model_name": "LayoutModel",
          "state": {
            "_view_name": "LayoutView",
            "grid_template_rows": null,
            "right": null,
            "justify_content": null,
            "_view_module": "@jupyter-widgets/base",
            "overflow": null,
            "_model_module_version": "1.2.0",
            "_view_count": null,
            "flex_flow": null,
            "width": null,
            "min_width": null,
            "border": null,
            "align_items": null,
            "bottom": null,
            "_model_module": "@jupyter-widgets/base",
            "top": null,
            "grid_column": null,
            "overflow_y": null,
            "overflow_x": null,
            "grid_auto_flow": null,
            "grid_area": null,
            "grid_template_columns": null,
            "flex": null,
            "_model_name": "LayoutModel",
            "justify_items": null,
            "grid_row": null,
            "max_height": null,
            "align_content": null,
            "visibility": null,
            "align_self": null,
            "height": null,
            "min_height": null,
            "padding": null,
            "grid_auto_rows": null,
            "grid_gap": null,
            "max_width": null,
            "order": null,
            "_view_module_version": "1.2.0",
            "grid_template_areas": null,
            "object_position": null,
            "object_fit": null,
            "grid_auto_columns": null,
            "margin": null,
            "display": null,
            "left": null
          }
        },
        "59d8ad1930624ad7b6985451c1e2b9dd": {
          "model_module": "@jupyter-widgets/controls",
          "model_name": "HBoxModel",
          "state": {
            "_view_name": "HBoxView",
            "_dom_classes": [],
            "_model_name": "HBoxModel",
            "_view_module": "@jupyter-widgets/controls",
            "_model_module_version": "1.5.0",
            "_view_count": null,
            "_view_module_version": "1.5.0",
            "box_style": "",
            "layout": "IPY_MODEL_e4b94c62f9ef4412a8e27f96cefa76d8",
            "_model_module": "@jupyter-widgets/controls",
            "children": [
              "IPY_MODEL_1af36c2b706547f28942e901cbff9c0d",
              "IPY_MODEL_a749fc0edc0d4c469c9e46f690d8d03d"
            ]
          }
        },
        "e4b94c62f9ef4412a8e27f96cefa76d8": {
          "model_module": "@jupyter-widgets/base",
          "model_name": "LayoutModel",
          "state": {
            "_view_name": "LayoutView",
            "grid_template_rows": null,
            "right": null,
            "justify_content": null,
            "_view_module": "@jupyter-widgets/base",
            "overflow": null,
            "_model_module_version": "1.2.0",
            "_view_count": null,
            "flex_flow": null,
            "width": null,
            "min_width": null,
            "border": null,
            "align_items": null,
            "bottom": null,
            "_model_module": "@jupyter-widgets/base",
            "top": null,
            "grid_column": null,
            "overflow_y": null,
            "overflow_x": null,
            "grid_auto_flow": null,
            "grid_area": null,
            "grid_template_columns": null,
            "flex": null,
            "_model_name": "LayoutModel",
            "justify_items": null,
            "grid_row": null,
            "max_height": null,
            "align_content": null,
            "visibility": null,
            "align_self": null,
            "height": null,
            "min_height": null,
            "padding": null,
            "grid_auto_rows": null,
            "grid_gap": null,
            "max_width": null,
            "order": null,
            "_view_module_version": "1.2.0",
            "grid_template_areas": null,
            "object_position": null,
            "object_fit": null,
            "grid_auto_columns": null,
            "margin": null,
            "display": null,
            "left": null
          }
        },
        "1af36c2b706547f28942e901cbff9c0d": {
          "model_module": "@jupyter-widgets/controls",
          "model_name": "FloatProgressModel",
          "state": {
            "_view_name": "ProgressView",
            "style": "IPY_MODEL_412e41813e6e4d21b71f36ffb829854b",
            "_dom_classes": [],
            "description": "100%",
            "_model_name": "FloatProgressModel",
            "bar_style": "success",
            "max": 10,
            "_view_module": "@jupyter-widgets/controls",
            "_model_module_version": "1.5.0",
            "value": 10,
            "_view_count": null,
            "_view_module_version": "1.5.0",
            "orientation": "horizontal",
            "min": 0,
            "description_tooltip": null,
            "_model_module": "@jupyter-widgets/controls",
            "layout": "IPY_MODEL_8867e4f65d2b4cf389cf0eb93680640a"
          }
        },
        "a749fc0edc0d4c469c9e46f690d8d03d": {
          "model_module": "@jupyter-widgets/controls",
          "model_name": "HTMLModel",
          "state": {
            "_view_name": "HTMLView",
            "style": "IPY_MODEL_d84015786dc54dc68f6d72de1fb8ccba",
            "_dom_classes": [],
            "description": "",
            "_model_name": "HTMLModel",
            "placeholder": "​",
            "_view_module": "@jupyter-widgets/controls",
            "_model_module_version": "1.5.0",
            "value": " 10/10 [00:00&lt;00:00, 69.57it/s]",
            "_view_count": null,
            "_view_module_version": "1.5.0",
            "description_tooltip": null,
            "_model_module": "@jupyter-widgets/controls",
            "layout": "IPY_MODEL_afcad09d749d4685b0f3adda48077339"
          }
        },
        "412e41813e6e4d21b71f36ffb829854b": {
          "model_module": "@jupyter-widgets/controls",
          "model_name": "ProgressStyleModel",
          "state": {
            "_view_name": "StyleView",
            "_model_name": "ProgressStyleModel",
            "description_width": "initial",
            "_view_module": "@jupyter-widgets/base",
            "_model_module_version": "1.5.0",
            "_view_count": null,
            "_view_module_version": "1.2.0",
            "bar_color": null,
            "_model_module": "@jupyter-widgets/controls"
          }
        },
        "8867e4f65d2b4cf389cf0eb93680640a": {
          "model_module": "@jupyter-widgets/base",
          "model_name": "LayoutModel",
          "state": {
            "_view_name": "LayoutView",
            "grid_template_rows": null,
            "right": null,
            "justify_content": null,
            "_view_module": "@jupyter-widgets/base",
            "overflow": null,
            "_model_module_version": "1.2.0",
            "_view_count": null,
            "flex_flow": null,
            "width": null,
            "min_width": null,
            "border": null,
            "align_items": null,
            "bottom": null,
            "_model_module": "@jupyter-widgets/base",
            "top": null,
            "grid_column": null,
            "overflow_y": null,
            "overflow_x": null,
            "grid_auto_flow": null,
            "grid_area": null,
            "grid_template_columns": null,
            "flex": null,
            "_model_name": "LayoutModel",
            "justify_items": null,
            "grid_row": null,
            "max_height": null,
            "align_content": null,
            "visibility": null,
            "align_self": null,
            "height": null,
            "min_height": null,
            "padding": null,
            "grid_auto_rows": null,
            "grid_gap": null,
            "max_width": null,
            "order": null,
            "_view_module_version": "1.2.0",
            "grid_template_areas": null,
            "object_position": null,
            "object_fit": null,
            "grid_auto_columns": null,
            "margin": null,
            "display": null,
            "left": null
          }
        },
        "d84015786dc54dc68f6d72de1fb8ccba": {
          "model_module": "@jupyter-widgets/controls",
          "model_name": "DescriptionStyleModel",
          "state": {
            "_view_name": "StyleView",
            "_model_name": "DescriptionStyleModel",
            "description_width": "",
            "_view_module": "@jupyter-widgets/base",
            "_model_module_version": "1.5.0",
            "_view_count": null,
            "_view_module_version": "1.2.0",
            "_model_module": "@jupyter-widgets/controls"
          }
        },
        "afcad09d749d4685b0f3adda48077339": {
          "model_module": "@jupyter-widgets/base",
          "model_name": "LayoutModel",
          "state": {
            "_view_name": "LayoutView",
            "grid_template_rows": null,
            "right": null,
            "justify_content": null,
            "_view_module": "@jupyter-widgets/base",
            "overflow": null,
            "_model_module_version": "1.2.0",
            "_view_count": null,
            "flex_flow": null,
            "width": null,
            "min_width": null,
            "border": null,
            "align_items": null,
            "bottom": null,
            "_model_module": "@jupyter-widgets/base",
            "top": null,
            "grid_column": null,
            "overflow_y": null,
            "overflow_x": null,
            "grid_auto_flow": null,
            "grid_area": null,
            "grid_template_columns": null,
            "flex": null,
            "_model_name": "LayoutModel",
            "justify_items": null,
            "grid_row": null,
            "max_height": null,
            "align_content": null,
            "visibility": null,
            "align_self": null,
            "height": null,
            "min_height": null,
            "padding": null,
            "grid_auto_rows": null,
            "grid_gap": null,
            "max_width": null,
            "order": null,
            "_view_module_version": "1.2.0",
            "grid_template_areas": null,
            "object_position": null,
            "object_fit": null,
            "grid_auto_columns": null,
            "margin": null,
            "display": null,
            "left": null
          }
        },
        "62b1e56758c244efa9361b2cc0489858": {
          "model_module": "@jupyter-widgets/controls",
          "model_name": "HBoxModel",
          "state": {
            "_view_name": "HBoxView",
            "_dom_classes": [],
            "_model_name": "HBoxModel",
            "_view_module": "@jupyter-widgets/controls",
            "_model_module_version": "1.5.0",
            "_view_count": null,
            "_view_module_version": "1.5.0",
            "box_style": "",
            "layout": "IPY_MODEL_dd88467d8c21491487c1d07c83f39672",
            "_model_module": "@jupyter-widgets/controls",
            "children": [
              "IPY_MODEL_0a381f34c4644c12b5057ef4f1a0a38a",
              "IPY_MODEL_c033ad6e0fa0448f907b22794bed55d5"
            ]
          }
        },
        "dd88467d8c21491487c1d07c83f39672": {
          "model_module": "@jupyter-widgets/base",
          "model_name": "LayoutModel",
          "state": {
            "_view_name": "LayoutView",
            "grid_template_rows": null,
            "right": null,
            "justify_content": null,
            "_view_module": "@jupyter-widgets/base",
            "overflow": null,
            "_model_module_version": "1.2.0",
            "_view_count": null,
            "flex_flow": null,
            "width": null,
            "min_width": null,
            "border": null,
            "align_items": null,
            "bottom": null,
            "_model_module": "@jupyter-widgets/base",
            "top": null,
            "grid_column": null,
            "overflow_y": null,
            "overflow_x": null,
            "grid_auto_flow": null,
            "grid_area": null,
            "grid_template_columns": null,
            "flex": null,
            "_model_name": "LayoutModel",
            "justify_items": null,
            "grid_row": null,
            "max_height": null,
            "align_content": null,
            "visibility": null,
            "align_self": null,
            "height": null,
            "min_height": null,
            "padding": null,
            "grid_auto_rows": null,
            "grid_gap": null,
            "max_width": null,
            "order": null,
            "_view_module_version": "1.2.0",
            "grid_template_areas": null,
            "object_position": null,
            "object_fit": null,
            "grid_auto_columns": null,
            "margin": null,
            "display": null,
            "left": null
          }
        },
        "0a381f34c4644c12b5057ef4f1a0a38a": {
          "model_module": "@jupyter-widgets/controls",
          "model_name": "FloatProgressModel",
          "state": {
            "_view_name": "ProgressView",
            "style": "IPY_MODEL_4e34e2e1a08344db84b308b80ac9fa99",
            "_dom_classes": [],
            "description": "100%",
            "_model_name": "FloatProgressModel",
            "bar_style": "success",
            "max": 41967,
            "_view_module": "@jupyter-widgets/controls",
            "_model_module_version": "1.5.0",
            "value": 41967,
            "_view_count": null,
            "_view_module_version": "1.5.0",
            "orientation": "horizontal",
            "min": 0,
            "description_tooltip": null,
            "_model_module": "@jupyter-widgets/controls",
            "layout": "IPY_MODEL_faecf89e8f104431bef4750a712ea165"
          }
        },
        "c033ad6e0fa0448f907b22794bed55d5": {
          "model_module": "@jupyter-widgets/controls",
          "model_name": "HTMLModel",
          "state": {
            "_view_name": "HTMLView",
            "style": "IPY_MODEL_26548100cc85493cb68c6151721fdafb",
            "_dom_classes": [],
            "description": "",
            "_model_name": "HTMLModel",
            "placeholder": "​",
            "_view_module": "@jupyter-widgets/controls",
            "_model_module_version": "1.5.0",
            "value": " 41967/41967 [10:34&lt;00:00, 66.16it/s]",
            "_view_count": null,
            "_view_module_version": "1.5.0",
            "description_tooltip": null,
            "_model_module": "@jupyter-widgets/controls",
            "layout": "IPY_MODEL_d534f01f32a8449197ff3d2b10533fcc"
          }
        },
        "4e34e2e1a08344db84b308b80ac9fa99": {
          "model_module": "@jupyter-widgets/controls",
          "model_name": "ProgressStyleModel",
          "state": {
            "_view_name": "StyleView",
            "_model_name": "ProgressStyleModel",
            "description_width": "initial",
            "_view_module": "@jupyter-widgets/base",
            "_model_module_version": "1.5.0",
            "_view_count": null,
            "_view_module_version": "1.2.0",
            "bar_color": null,
            "_model_module": "@jupyter-widgets/controls"
          }
        },
        "faecf89e8f104431bef4750a712ea165": {
          "model_module": "@jupyter-widgets/base",
          "model_name": "LayoutModel",
          "state": {
            "_view_name": "LayoutView",
            "grid_template_rows": null,
            "right": null,
            "justify_content": null,
            "_view_module": "@jupyter-widgets/base",
            "overflow": null,
            "_model_module_version": "1.2.0",
            "_view_count": null,
            "flex_flow": null,
            "width": null,
            "min_width": null,
            "border": null,
            "align_items": null,
            "bottom": null,
            "_model_module": "@jupyter-widgets/base",
            "top": null,
            "grid_column": null,
            "overflow_y": null,
            "overflow_x": null,
            "grid_auto_flow": null,
            "grid_area": null,
            "grid_template_columns": null,
            "flex": null,
            "_model_name": "LayoutModel",
            "justify_items": null,
            "grid_row": null,
            "max_height": null,
            "align_content": null,
            "visibility": null,
            "align_self": null,
            "height": null,
            "min_height": null,
            "padding": null,
            "grid_auto_rows": null,
            "grid_gap": null,
            "max_width": null,
            "order": null,
            "_view_module_version": "1.2.0",
            "grid_template_areas": null,
            "object_position": null,
            "object_fit": null,
            "grid_auto_columns": null,
            "margin": null,
            "display": null,
            "left": null
          }
        },
        "26548100cc85493cb68c6151721fdafb": {
          "model_module": "@jupyter-widgets/controls",
          "model_name": "DescriptionStyleModel",
          "state": {
            "_view_name": "StyleView",
            "_model_name": "DescriptionStyleModel",
            "description_width": "",
            "_view_module": "@jupyter-widgets/base",
            "_model_module_version": "1.5.0",
            "_view_count": null,
            "_view_module_version": "1.2.0",
            "_model_module": "@jupyter-widgets/controls"
          }
        },
        "d534f01f32a8449197ff3d2b10533fcc": {
          "model_module": "@jupyter-widgets/base",
          "model_name": "LayoutModel",
          "state": {
            "_view_name": "LayoutView",
            "grid_template_rows": null,
            "right": null,
            "justify_content": null,
            "_view_module": "@jupyter-widgets/base",
            "overflow": null,
            "_model_module_version": "1.2.0",
            "_view_count": null,
            "flex_flow": null,
            "width": null,
            "min_width": null,
            "border": null,
            "align_items": null,
            "bottom": null,
            "_model_module": "@jupyter-widgets/base",
            "top": null,
            "grid_column": null,
            "overflow_y": null,
            "overflow_x": null,
            "grid_auto_flow": null,
            "grid_area": null,
            "grid_template_columns": null,
            "flex": null,
            "_model_name": "LayoutModel",
            "justify_items": null,
            "grid_row": null,
            "max_height": null,
            "align_content": null,
            "visibility": null,
            "align_self": null,
            "height": null,
            "min_height": null,
            "padding": null,
            "grid_auto_rows": null,
            "grid_gap": null,
            "max_width": null,
            "order": null,
            "_view_module_version": "1.2.0",
            "grid_template_areas": null,
            "object_position": null,
            "object_fit": null,
            "grid_auto_columns": null,
            "margin": null,
            "display": null,
            "left": null
          }
        },
        "98385ce897ae47ce86dda6f932875207": {
          "model_module": "@jupyter-widgets/controls",
          "model_name": "HBoxModel",
          "state": {
            "_view_name": "HBoxView",
            "_dom_classes": [],
            "_model_name": "HBoxModel",
            "_view_module": "@jupyter-widgets/controls",
            "_model_module_version": "1.5.0",
            "_view_count": null,
            "_view_module_version": "1.5.0",
            "box_style": "",
            "layout": "IPY_MODEL_cc533db33ca14189b36f752d8ed8bd1d",
            "_model_module": "@jupyter-widgets/controls",
            "children": [
              "IPY_MODEL_f5d56989a3e9487faed2a738cf7f529a",
              "IPY_MODEL_5acc99ece140435ca78e97a9a2c6b9d4"
            ]
          }
        },
        "cc533db33ca14189b36f752d8ed8bd1d": {
          "model_module": "@jupyter-widgets/base",
          "model_name": "LayoutModel",
          "state": {
            "_view_name": "LayoutView",
            "grid_template_rows": null,
            "right": null,
            "justify_content": null,
            "_view_module": "@jupyter-widgets/base",
            "overflow": null,
            "_model_module_version": "1.2.0",
            "_view_count": null,
            "flex_flow": null,
            "width": null,
            "min_width": null,
            "border": null,
            "align_items": null,
            "bottom": null,
            "_model_module": "@jupyter-widgets/base",
            "top": null,
            "grid_column": null,
            "overflow_y": null,
            "overflow_x": null,
            "grid_auto_flow": null,
            "grid_area": null,
            "grid_template_columns": null,
            "flex": null,
            "_model_name": "LayoutModel",
            "justify_items": null,
            "grid_row": null,
            "max_height": null,
            "align_content": null,
            "visibility": null,
            "align_self": null,
            "height": null,
            "min_height": null,
            "padding": null,
            "grid_auto_rows": null,
            "grid_gap": null,
            "max_width": null,
            "order": null,
            "_view_module_version": "1.2.0",
            "grid_template_areas": null,
            "object_position": null,
            "object_fit": null,
            "grid_auto_columns": null,
            "margin": null,
            "display": null,
            "left": null
          }
        },
        "f5d56989a3e9487faed2a738cf7f529a": {
          "model_module": "@jupyter-widgets/controls",
          "model_name": "FloatProgressModel",
          "state": {
            "_view_name": "ProgressView",
            "style": "IPY_MODEL_636c8a504903468da765f1f7873dd947",
            "_dom_classes": [],
            "description": "100%",
            "_model_name": "FloatProgressModel",
            "bar_style": "success",
            "max": 41967,
            "_view_module": "@jupyter-widgets/controls",
            "_model_module_version": "1.5.0",
            "value": 41967,
            "_view_count": null,
            "_view_module_version": "1.5.0",
            "orientation": "horizontal",
            "min": 0,
            "description_tooltip": null,
            "_model_module": "@jupyter-widgets/controls",
            "layout": "IPY_MODEL_db3c1613f45845e6970a25bd011a9c53"
          }
        },
        "5acc99ece140435ca78e97a9a2c6b9d4": {
          "model_module": "@jupyter-widgets/controls",
          "model_name": "HTMLModel",
          "state": {
            "_view_name": "HTMLView",
            "style": "IPY_MODEL_e287b718d1c24a4891ada0a0b4ac9b3f",
            "_dom_classes": [],
            "description": "",
            "_model_name": "HTMLModel",
            "placeholder": "​",
            "_view_module": "@jupyter-widgets/controls",
            "_model_module_version": "1.5.0",
            "value": " 41967/41967 [07:24&lt;00:00, 94.35it/s]",
            "_view_count": null,
            "_view_module_version": "1.5.0",
            "description_tooltip": null,
            "_model_module": "@jupyter-widgets/controls",
            "layout": "IPY_MODEL_8a9904ad1d1e49d3bd6d9e2035ecedd8"
          }
        },
        "636c8a504903468da765f1f7873dd947": {
          "model_module": "@jupyter-widgets/controls",
          "model_name": "ProgressStyleModel",
          "state": {
            "_view_name": "StyleView",
            "_model_name": "ProgressStyleModel",
            "description_width": "initial",
            "_view_module": "@jupyter-widgets/base",
            "_model_module_version": "1.5.0",
            "_view_count": null,
            "_view_module_version": "1.2.0",
            "bar_color": null,
            "_model_module": "@jupyter-widgets/controls"
          }
        },
        "db3c1613f45845e6970a25bd011a9c53": {
          "model_module": "@jupyter-widgets/base",
          "model_name": "LayoutModel",
          "state": {
            "_view_name": "LayoutView",
            "grid_template_rows": null,
            "right": null,
            "justify_content": null,
            "_view_module": "@jupyter-widgets/base",
            "overflow": null,
            "_model_module_version": "1.2.0",
            "_view_count": null,
            "flex_flow": null,
            "width": null,
            "min_width": null,
            "border": null,
            "align_items": null,
            "bottom": null,
            "_model_module": "@jupyter-widgets/base",
            "top": null,
            "grid_column": null,
            "overflow_y": null,
            "overflow_x": null,
            "grid_auto_flow": null,
            "grid_area": null,
            "grid_template_columns": null,
            "flex": null,
            "_model_name": "LayoutModel",
            "justify_items": null,
            "grid_row": null,
            "max_height": null,
            "align_content": null,
            "visibility": null,
            "align_self": null,
            "height": null,
            "min_height": null,
            "padding": null,
            "grid_auto_rows": null,
            "grid_gap": null,
            "max_width": null,
            "order": null,
            "_view_module_version": "1.2.0",
            "grid_template_areas": null,
            "object_position": null,
            "object_fit": null,
            "grid_auto_columns": null,
            "margin": null,
            "display": null,
            "left": null
          }
        },
        "e287b718d1c24a4891ada0a0b4ac9b3f": {
          "model_module": "@jupyter-widgets/controls",
          "model_name": "DescriptionStyleModel",
          "state": {
            "_view_name": "StyleView",
            "_model_name": "DescriptionStyleModel",
            "description_width": "",
            "_view_module": "@jupyter-widgets/base",
            "_model_module_version": "1.5.0",
            "_view_count": null,
            "_view_module_version": "1.2.0",
            "_model_module": "@jupyter-widgets/controls"
          }
        },
        "8a9904ad1d1e49d3bd6d9e2035ecedd8": {
          "model_module": "@jupyter-widgets/base",
          "model_name": "LayoutModel",
          "state": {
            "_view_name": "LayoutView",
            "grid_template_rows": null,
            "right": null,
            "justify_content": null,
            "_view_module": "@jupyter-widgets/base",
            "overflow": null,
            "_model_module_version": "1.2.0",
            "_view_count": null,
            "flex_flow": null,
            "width": null,
            "min_width": null,
            "border": null,
            "align_items": null,
            "bottom": null,
            "_model_module": "@jupyter-widgets/base",
            "top": null,
            "grid_column": null,
            "overflow_y": null,
            "overflow_x": null,
            "grid_auto_flow": null,
            "grid_area": null,
            "grid_template_columns": null,
            "flex": null,
            "_model_name": "LayoutModel",
            "justify_items": null,
            "grid_row": null,
            "max_height": null,
            "align_content": null,
            "visibility": null,
            "align_self": null,
            "height": null,
            "min_height": null,
            "padding": null,
            "grid_auto_rows": null,
            "grid_gap": null,
            "max_width": null,
            "order": null,
            "_view_module_version": "1.2.0",
            "grid_template_areas": null,
            "object_position": null,
            "object_fit": null,
            "grid_auto_columns": null,
            "margin": null,
            "display": null,
            "left": null
          }
        },
        "6f40872cfc4c40afa6005a2d8ce549d5": {
          "model_module": "@jupyter-widgets/controls",
          "model_name": "HBoxModel",
          "state": {
            "_view_name": "HBoxView",
            "_dom_classes": [],
            "_model_name": "HBoxModel",
            "_view_module": "@jupyter-widgets/controls",
            "_model_module_version": "1.5.0",
            "_view_count": null,
            "_view_module_version": "1.5.0",
            "box_style": "",
            "layout": "IPY_MODEL_6adb6c02b6af43c7b9114293e96f696c",
            "_model_module": "@jupyter-widgets/controls",
            "children": [
              "IPY_MODEL_0ba286c32d76479087cf957396624799",
              "IPY_MODEL_978ba63e520f4a12a443333d1e9e6ef0"
            ]
          }
        },
        "6adb6c02b6af43c7b9114293e96f696c": {
          "model_module": "@jupyter-widgets/base",
          "model_name": "LayoutModel",
          "state": {
            "_view_name": "LayoutView",
            "grid_template_rows": null,
            "right": null,
            "justify_content": null,
            "_view_module": "@jupyter-widgets/base",
            "overflow": null,
            "_model_module_version": "1.2.0",
            "_view_count": null,
            "flex_flow": null,
            "width": null,
            "min_width": null,
            "border": null,
            "align_items": null,
            "bottom": null,
            "_model_module": "@jupyter-widgets/base",
            "top": null,
            "grid_column": null,
            "overflow_y": null,
            "overflow_x": null,
            "grid_auto_flow": null,
            "grid_area": null,
            "grid_template_columns": null,
            "flex": null,
            "_model_name": "LayoutModel",
            "justify_items": null,
            "grid_row": null,
            "max_height": null,
            "align_content": null,
            "visibility": null,
            "align_self": null,
            "height": null,
            "min_height": null,
            "padding": null,
            "grid_auto_rows": null,
            "grid_gap": null,
            "max_width": null,
            "order": null,
            "_view_module_version": "1.2.0",
            "grid_template_areas": null,
            "object_position": null,
            "object_fit": null,
            "grid_auto_columns": null,
            "margin": null,
            "display": null,
            "left": null
          }
        },
        "0ba286c32d76479087cf957396624799": {
          "model_module": "@jupyter-widgets/controls",
          "model_name": "FloatProgressModel",
          "state": {
            "_view_name": "ProgressView",
            "style": "IPY_MODEL_dfacc199e5644aff8cc2f66fe74e9459",
            "_dom_classes": [],
            "description": "100%",
            "_model_name": "FloatProgressModel",
            "bar_style": "success",
            "max": 41967,
            "_view_module": "@jupyter-widgets/controls",
            "_model_module_version": "1.5.0",
            "value": 41967,
            "_view_count": null,
            "_view_module_version": "1.5.0",
            "orientation": "horizontal",
            "min": 0,
            "description_tooltip": null,
            "_model_module": "@jupyter-widgets/controls",
            "layout": "IPY_MODEL_116340b53d7c43bcb8577cfd1e8bd38e"
          }
        },
        "978ba63e520f4a12a443333d1e9e6ef0": {
          "model_module": "@jupyter-widgets/controls",
          "model_name": "HTMLModel",
          "state": {
            "_view_name": "HTMLView",
            "style": "IPY_MODEL_7f377426ce8b4a37b6ef4ccc37f8784e",
            "_dom_classes": [],
            "description": "",
            "_model_name": "HTMLModel",
            "placeholder": "​",
            "_view_module": "@jupyter-widgets/controls",
            "_model_module_version": "1.5.0",
            "value": " 41967/41967 [03:14&lt;00:00, 215.52it/s]",
            "_view_count": null,
            "_view_module_version": "1.5.0",
            "description_tooltip": null,
            "_model_module": "@jupyter-widgets/controls",
            "layout": "IPY_MODEL_c415a83453d54667b589abf1de8ee44a"
          }
        },
        "dfacc199e5644aff8cc2f66fe74e9459": {
          "model_module": "@jupyter-widgets/controls",
          "model_name": "ProgressStyleModel",
          "state": {
            "_view_name": "StyleView",
            "_model_name": "ProgressStyleModel",
            "description_width": "initial",
            "_view_module": "@jupyter-widgets/base",
            "_model_module_version": "1.5.0",
            "_view_count": null,
            "_view_module_version": "1.2.0",
            "bar_color": null,
            "_model_module": "@jupyter-widgets/controls"
          }
        },
        "116340b53d7c43bcb8577cfd1e8bd38e": {
          "model_module": "@jupyter-widgets/base",
          "model_name": "LayoutModel",
          "state": {
            "_view_name": "LayoutView",
            "grid_template_rows": null,
            "right": null,
            "justify_content": null,
            "_view_module": "@jupyter-widgets/base",
            "overflow": null,
            "_model_module_version": "1.2.0",
            "_view_count": null,
            "flex_flow": null,
            "width": null,
            "min_width": null,
            "border": null,
            "align_items": null,
            "bottom": null,
            "_model_module": "@jupyter-widgets/base",
            "top": null,
            "grid_column": null,
            "overflow_y": null,
            "overflow_x": null,
            "grid_auto_flow": null,
            "grid_area": null,
            "grid_template_columns": null,
            "flex": null,
            "_model_name": "LayoutModel",
            "justify_items": null,
            "grid_row": null,
            "max_height": null,
            "align_content": null,
            "visibility": null,
            "align_self": null,
            "height": null,
            "min_height": null,
            "padding": null,
            "grid_auto_rows": null,
            "grid_gap": null,
            "max_width": null,
            "order": null,
            "_view_module_version": "1.2.0",
            "grid_template_areas": null,
            "object_position": null,
            "object_fit": null,
            "grid_auto_columns": null,
            "margin": null,
            "display": null,
            "left": null
          }
        },
        "7f377426ce8b4a37b6ef4ccc37f8784e": {
          "model_module": "@jupyter-widgets/controls",
          "model_name": "DescriptionStyleModel",
          "state": {
            "_view_name": "StyleView",
            "_model_name": "DescriptionStyleModel",
            "description_width": "",
            "_view_module": "@jupyter-widgets/base",
            "_model_module_version": "1.5.0",
            "_view_count": null,
            "_view_module_version": "1.2.0",
            "_model_module": "@jupyter-widgets/controls"
          }
        },
        "c415a83453d54667b589abf1de8ee44a": {
          "model_module": "@jupyter-widgets/base",
          "model_name": "LayoutModel",
          "state": {
            "_view_name": "LayoutView",
            "grid_template_rows": null,
            "right": null,
            "justify_content": null,
            "_view_module": "@jupyter-widgets/base",
            "overflow": null,
            "_model_module_version": "1.2.0",
            "_view_count": null,
            "flex_flow": null,
            "width": null,
            "min_width": null,
            "border": null,
            "align_items": null,
            "bottom": null,
            "_model_module": "@jupyter-widgets/base",
            "top": null,
            "grid_column": null,
            "overflow_y": null,
            "overflow_x": null,
            "grid_auto_flow": null,
            "grid_area": null,
            "grid_template_columns": null,
            "flex": null,
            "_model_name": "LayoutModel",
            "justify_items": null,
            "grid_row": null,
            "max_height": null,
            "align_content": null,
            "visibility": null,
            "align_self": null,
            "height": null,
            "min_height": null,
            "padding": null,
            "grid_auto_rows": null,
            "grid_gap": null,
            "max_width": null,
            "order": null,
            "_view_module_version": "1.2.0",
            "grid_template_areas": null,
            "object_position": null,
            "object_fit": null,
            "grid_auto_columns": null,
            "margin": null,
            "display": null,
            "left": null
          }
        },
        "5c38c43409ca46d99ddc9b9f9acf24ba": {
          "model_module": "@jupyter-widgets/controls",
          "model_name": "HBoxModel",
          "state": {
            "_view_name": "HBoxView",
            "_dom_classes": [],
            "_model_name": "HBoxModel",
            "_view_module": "@jupyter-widgets/controls",
            "_model_module_version": "1.5.0",
            "_view_count": null,
            "_view_module_version": "1.5.0",
            "box_style": "",
            "layout": "IPY_MODEL_7f27459050f14cf88cd71d2504abd293",
            "_model_module": "@jupyter-widgets/controls",
            "children": [
              "IPY_MODEL_6b088b0cec994ebbb6e6a79c947a7556",
              "IPY_MODEL_c738836c437046f39eab9da6f4b5e0d2"
            ]
          }
        },
        "7f27459050f14cf88cd71d2504abd293": {
          "model_module": "@jupyter-widgets/base",
          "model_name": "LayoutModel",
          "state": {
            "_view_name": "LayoutView",
            "grid_template_rows": null,
            "right": null,
            "justify_content": null,
            "_view_module": "@jupyter-widgets/base",
            "overflow": null,
            "_model_module_version": "1.2.0",
            "_view_count": null,
            "flex_flow": null,
            "width": null,
            "min_width": null,
            "border": null,
            "align_items": null,
            "bottom": null,
            "_model_module": "@jupyter-widgets/base",
            "top": null,
            "grid_column": null,
            "overflow_y": null,
            "overflow_x": null,
            "grid_auto_flow": null,
            "grid_area": null,
            "grid_template_columns": null,
            "flex": null,
            "_model_name": "LayoutModel",
            "justify_items": null,
            "grid_row": null,
            "max_height": null,
            "align_content": null,
            "visibility": null,
            "align_self": null,
            "height": null,
            "min_height": null,
            "padding": null,
            "grid_auto_rows": null,
            "grid_gap": null,
            "max_width": null,
            "order": null,
            "_view_module_version": "1.2.0",
            "grid_template_areas": null,
            "object_position": null,
            "object_fit": null,
            "grid_auto_columns": null,
            "margin": null,
            "display": null,
            "left": null
          }
        },
        "6b088b0cec994ebbb6e6a79c947a7556": {
          "model_module": "@jupyter-widgets/controls",
          "model_name": "FloatProgressModel",
          "state": {
            "_view_name": "ProgressView",
            "style": "IPY_MODEL_5ae0003d7dac4ac19056e055ab1d3d08",
            "_dom_classes": [],
            "description": "100%",
            "_model_name": "FloatProgressModel",
            "bar_style": "success",
            "max": 41967,
            "_view_module": "@jupyter-widgets/controls",
            "_model_module_version": "1.5.0",
            "value": 41967,
            "_view_count": null,
            "_view_module_version": "1.5.0",
            "orientation": "horizontal",
            "min": 0,
            "description_tooltip": null,
            "_model_module": "@jupyter-widgets/controls",
            "layout": "IPY_MODEL_6fd9892a41a644e1a57d7fc4dc563a41"
          }
        },
        "c738836c437046f39eab9da6f4b5e0d2": {
          "model_module": "@jupyter-widgets/controls",
          "model_name": "HTMLModel",
          "state": {
            "_view_name": "HTMLView",
            "style": "IPY_MODEL_1742aa658208476390421eedc71b7402",
            "_dom_classes": [],
            "description": "",
            "_model_name": "HTMLModel",
            "placeholder": "​",
            "_view_module": "@jupyter-widgets/controls",
            "_model_module_version": "1.5.0",
            "value": " 41967/41967 [03:14&lt;00:00, 215.90it/s]",
            "_view_count": null,
            "_view_module_version": "1.5.0",
            "description_tooltip": null,
            "_model_module": "@jupyter-widgets/controls",
            "layout": "IPY_MODEL_77a861bcf7ac4cd785fcb64d4e21aa90"
          }
        },
        "5ae0003d7dac4ac19056e055ab1d3d08": {
          "model_module": "@jupyter-widgets/controls",
          "model_name": "ProgressStyleModel",
          "state": {
            "_view_name": "StyleView",
            "_model_name": "ProgressStyleModel",
            "description_width": "initial",
            "_view_module": "@jupyter-widgets/base",
            "_model_module_version": "1.5.0",
            "_view_count": null,
            "_view_module_version": "1.2.0",
            "bar_color": null,
            "_model_module": "@jupyter-widgets/controls"
          }
        },
        "6fd9892a41a644e1a57d7fc4dc563a41": {
          "model_module": "@jupyter-widgets/base",
          "model_name": "LayoutModel",
          "state": {
            "_view_name": "LayoutView",
            "grid_template_rows": null,
            "right": null,
            "justify_content": null,
            "_view_module": "@jupyter-widgets/base",
            "overflow": null,
            "_model_module_version": "1.2.0",
            "_view_count": null,
            "flex_flow": null,
            "width": null,
            "min_width": null,
            "border": null,
            "align_items": null,
            "bottom": null,
            "_model_module": "@jupyter-widgets/base",
            "top": null,
            "grid_column": null,
            "overflow_y": null,
            "overflow_x": null,
            "grid_auto_flow": null,
            "grid_area": null,
            "grid_template_columns": null,
            "flex": null,
            "_model_name": "LayoutModel",
            "justify_items": null,
            "grid_row": null,
            "max_height": null,
            "align_content": null,
            "visibility": null,
            "align_self": null,
            "height": null,
            "min_height": null,
            "padding": null,
            "grid_auto_rows": null,
            "grid_gap": null,
            "max_width": null,
            "order": null,
            "_view_module_version": "1.2.0",
            "grid_template_areas": null,
            "object_position": null,
            "object_fit": null,
            "grid_auto_columns": null,
            "margin": null,
            "display": null,
            "left": null
          }
        },
        "1742aa658208476390421eedc71b7402": {
          "model_module": "@jupyter-widgets/controls",
          "model_name": "DescriptionStyleModel",
          "state": {
            "_view_name": "StyleView",
            "_model_name": "DescriptionStyleModel",
            "description_width": "",
            "_view_module": "@jupyter-widgets/base",
            "_model_module_version": "1.5.0",
            "_view_count": null,
            "_view_module_version": "1.2.0",
            "_model_module": "@jupyter-widgets/controls"
          }
        },
        "77a861bcf7ac4cd785fcb64d4e21aa90": {
          "model_module": "@jupyter-widgets/base",
          "model_name": "LayoutModel",
          "state": {
            "_view_name": "LayoutView",
            "grid_template_rows": null,
            "right": null,
            "justify_content": null,
            "_view_module": "@jupyter-widgets/base",
            "overflow": null,
            "_model_module_version": "1.2.0",
            "_view_count": null,
            "flex_flow": null,
            "width": null,
            "min_width": null,
            "border": null,
            "align_items": null,
            "bottom": null,
            "_model_module": "@jupyter-widgets/base",
            "top": null,
            "grid_column": null,
            "overflow_y": null,
            "overflow_x": null,
            "grid_auto_flow": null,
            "grid_area": null,
            "grid_template_columns": null,
            "flex": null,
            "_model_name": "LayoutModel",
            "justify_items": null,
            "grid_row": null,
            "max_height": null,
            "align_content": null,
            "visibility": null,
            "align_self": null,
            "height": null,
            "min_height": null,
            "padding": null,
            "grid_auto_rows": null,
            "grid_gap": null,
            "max_width": null,
            "order": null,
            "_view_module_version": "1.2.0",
            "grid_template_areas": null,
            "object_position": null,
            "object_fit": null,
            "grid_auto_columns": null,
            "margin": null,
            "display": null,
            "left": null
          }
        },
        "4b434a78110a4c8cb1b9331ebfd29745": {
          "model_module": "@jupyter-widgets/controls",
          "model_name": "HBoxModel",
          "state": {
            "_view_name": "HBoxView",
            "_dom_classes": [],
            "_model_name": "HBoxModel",
            "_view_module": "@jupyter-widgets/controls",
            "_model_module_version": "1.5.0",
            "_view_count": null,
            "_view_module_version": "1.5.0",
            "box_style": "",
            "layout": "IPY_MODEL_aaf54691af354f5aa01c4352b4eb45ed",
            "_model_module": "@jupyter-widgets/controls",
            "children": [
              "IPY_MODEL_5c58de2736614d9783cbff47d206bc87",
              "IPY_MODEL_b292cb3b645a4890acb9d2aeda0f92d4"
            ]
          }
        },
        "aaf54691af354f5aa01c4352b4eb45ed": {
          "model_module": "@jupyter-widgets/base",
          "model_name": "LayoutModel",
          "state": {
            "_view_name": "LayoutView",
            "grid_template_rows": null,
            "right": null,
            "justify_content": null,
            "_view_module": "@jupyter-widgets/base",
            "overflow": null,
            "_model_module_version": "1.2.0",
            "_view_count": null,
            "flex_flow": null,
            "width": null,
            "min_width": null,
            "border": null,
            "align_items": null,
            "bottom": null,
            "_model_module": "@jupyter-widgets/base",
            "top": null,
            "grid_column": null,
            "overflow_y": null,
            "overflow_x": null,
            "grid_auto_flow": null,
            "grid_area": null,
            "grid_template_columns": null,
            "flex": null,
            "_model_name": "LayoutModel",
            "justify_items": null,
            "grid_row": null,
            "max_height": null,
            "align_content": null,
            "visibility": null,
            "align_self": null,
            "height": null,
            "min_height": null,
            "padding": null,
            "grid_auto_rows": null,
            "grid_gap": null,
            "max_width": null,
            "order": null,
            "_view_module_version": "1.2.0",
            "grid_template_areas": null,
            "object_position": null,
            "object_fit": null,
            "grid_auto_columns": null,
            "margin": null,
            "display": null,
            "left": null
          }
        },
        "5c58de2736614d9783cbff47d206bc87": {
          "model_module": "@jupyter-widgets/controls",
          "model_name": "FloatProgressModel",
          "state": {
            "_view_name": "ProgressView",
            "style": "IPY_MODEL_f0b6a5042a2b4b4385c4028561d19ffd",
            "_dom_classes": [],
            "description": "100%",
            "_model_name": "FloatProgressModel",
            "bar_style": "success",
            "max": 10,
            "_view_module": "@jupyter-widgets/controls",
            "_model_module_version": "1.5.0",
            "value": 10,
            "_view_count": null,
            "_view_module_version": "1.5.0",
            "orientation": "horizontal",
            "min": 0,
            "description_tooltip": null,
            "_model_module": "@jupyter-widgets/controls",
            "layout": "IPY_MODEL_78fc9961607340a9a5dabc099d33e9ba"
          }
        },
        "b292cb3b645a4890acb9d2aeda0f92d4": {
          "model_module": "@jupyter-widgets/controls",
          "model_name": "HTMLModel",
          "state": {
            "_view_name": "HTMLView",
            "style": "IPY_MODEL_1341b264f9b84d4faa647d99448eb859",
            "_dom_classes": [],
            "description": "",
            "_model_name": "HTMLModel",
            "placeholder": "​",
            "_view_module": "@jupyter-widgets/controls",
            "_model_module_version": "1.5.0",
            "value": " 10/10 [00:00&lt;00:00, 103.28it/s]",
            "_view_count": null,
            "_view_module_version": "1.5.0",
            "description_tooltip": null,
            "_model_module": "@jupyter-widgets/controls",
            "layout": "IPY_MODEL_afa3a035c8634a939dbee42500734dbe"
          }
        },
        "f0b6a5042a2b4b4385c4028561d19ffd": {
          "model_module": "@jupyter-widgets/controls",
          "model_name": "ProgressStyleModel",
          "state": {
            "_view_name": "StyleView",
            "_model_name": "ProgressStyleModel",
            "description_width": "initial",
            "_view_module": "@jupyter-widgets/base",
            "_model_module_version": "1.5.0",
            "_view_count": null,
            "_view_module_version": "1.2.0",
            "bar_color": null,
            "_model_module": "@jupyter-widgets/controls"
          }
        },
        "78fc9961607340a9a5dabc099d33e9ba": {
          "model_module": "@jupyter-widgets/base",
          "model_name": "LayoutModel",
          "state": {
            "_view_name": "LayoutView",
            "grid_template_rows": null,
            "right": null,
            "justify_content": null,
            "_view_module": "@jupyter-widgets/base",
            "overflow": null,
            "_model_module_version": "1.2.0",
            "_view_count": null,
            "flex_flow": null,
            "width": null,
            "min_width": null,
            "border": null,
            "align_items": null,
            "bottom": null,
            "_model_module": "@jupyter-widgets/base",
            "top": null,
            "grid_column": null,
            "overflow_y": null,
            "overflow_x": null,
            "grid_auto_flow": null,
            "grid_area": null,
            "grid_template_columns": null,
            "flex": null,
            "_model_name": "LayoutModel",
            "justify_items": null,
            "grid_row": null,
            "max_height": null,
            "align_content": null,
            "visibility": null,
            "align_self": null,
            "height": null,
            "min_height": null,
            "padding": null,
            "grid_auto_rows": null,
            "grid_gap": null,
            "max_width": null,
            "order": null,
            "_view_module_version": "1.2.0",
            "grid_template_areas": null,
            "object_position": null,
            "object_fit": null,
            "grid_auto_columns": null,
            "margin": null,
            "display": null,
            "left": null
          }
        },
        "1341b264f9b84d4faa647d99448eb859": {
          "model_module": "@jupyter-widgets/controls",
          "model_name": "DescriptionStyleModel",
          "state": {
            "_view_name": "StyleView",
            "_model_name": "DescriptionStyleModel",
            "description_width": "",
            "_view_module": "@jupyter-widgets/base",
            "_model_module_version": "1.5.0",
            "_view_count": null,
            "_view_module_version": "1.2.0",
            "_model_module": "@jupyter-widgets/controls"
          }
        },
        "afa3a035c8634a939dbee42500734dbe": {
          "model_module": "@jupyter-widgets/base",
          "model_name": "LayoutModel",
          "state": {
            "_view_name": "LayoutView",
            "grid_template_rows": null,
            "right": null,
            "justify_content": null,
            "_view_module": "@jupyter-widgets/base",
            "overflow": null,
            "_model_module_version": "1.2.0",
            "_view_count": null,
            "flex_flow": null,
            "width": null,
            "min_width": null,
            "border": null,
            "align_items": null,
            "bottom": null,
            "_model_module": "@jupyter-widgets/base",
            "top": null,
            "grid_column": null,
            "overflow_y": null,
            "overflow_x": null,
            "grid_auto_flow": null,
            "grid_area": null,
            "grid_template_columns": null,
            "flex": null,
            "_model_name": "LayoutModel",
            "justify_items": null,
            "grid_row": null,
            "max_height": null,
            "align_content": null,
            "visibility": null,
            "align_self": null,
            "height": null,
            "min_height": null,
            "padding": null,
            "grid_auto_rows": null,
            "grid_gap": null,
            "max_width": null,
            "order": null,
            "_view_module_version": "1.2.0",
            "grid_template_areas": null,
            "object_position": null,
            "object_fit": null,
            "grid_auto_columns": null,
            "margin": null,
            "display": null,
            "left": null
          }
        },
        "22614c07f67944fda790e8eb92684ee1": {
          "model_module": "@jupyter-widgets/controls",
          "model_name": "HBoxModel",
          "state": {
            "_view_name": "HBoxView",
            "_dom_classes": [],
            "_model_name": "HBoxModel",
            "_view_module": "@jupyter-widgets/controls",
            "_model_module_version": "1.5.0",
            "_view_count": null,
            "_view_module_version": "1.5.0",
            "box_style": "",
            "layout": "IPY_MODEL_b4a6923f1f3f4e41994e698f9c888efe",
            "_model_module": "@jupyter-widgets/controls",
            "children": [
              "IPY_MODEL_6c3a7ee240eb4855859841566195c191",
              "IPY_MODEL_74f88d3b067744e3ba8bf15c291f9927"
            ]
          }
        },
        "b4a6923f1f3f4e41994e698f9c888efe": {
          "model_module": "@jupyter-widgets/base",
          "model_name": "LayoutModel",
          "state": {
            "_view_name": "LayoutView",
            "grid_template_rows": null,
            "right": null,
            "justify_content": null,
            "_view_module": "@jupyter-widgets/base",
            "overflow": null,
            "_model_module_version": "1.2.0",
            "_view_count": null,
            "flex_flow": null,
            "width": null,
            "min_width": null,
            "border": null,
            "align_items": null,
            "bottom": null,
            "_model_module": "@jupyter-widgets/base",
            "top": null,
            "grid_column": null,
            "overflow_y": null,
            "overflow_x": null,
            "grid_auto_flow": null,
            "grid_area": null,
            "grid_template_columns": null,
            "flex": null,
            "_model_name": "LayoutModel",
            "justify_items": null,
            "grid_row": null,
            "max_height": null,
            "align_content": null,
            "visibility": null,
            "align_self": null,
            "height": null,
            "min_height": null,
            "padding": null,
            "grid_auto_rows": null,
            "grid_gap": null,
            "max_width": null,
            "order": null,
            "_view_module_version": "1.2.0",
            "grid_template_areas": null,
            "object_position": null,
            "object_fit": null,
            "grid_auto_columns": null,
            "margin": null,
            "display": null,
            "left": null
          }
        },
        "6c3a7ee240eb4855859841566195c191": {
          "model_module": "@jupyter-widgets/controls",
          "model_name": "FloatProgressModel",
          "state": {
            "_view_name": "ProgressView",
            "style": "IPY_MODEL_a9a1ddbf0b3b404ea7757c02ba73bb19",
            "_dom_classes": [],
            "description": "100%",
            "_model_name": "FloatProgressModel",
            "bar_style": "success",
            "max": 41967,
            "_view_module": "@jupyter-widgets/controls",
            "_model_module_version": "1.5.0",
            "value": 41967,
            "_view_count": null,
            "_view_module_version": "1.5.0",
            "orientation": "horizontal",
            "min": 0,
            "description_tooltip": null,
            "_model_module": "@jupyter-widgets/controls",
            "layout": "IPY_MODEL_75a516f44e28492dafcf7b4e927708c7"
          }
        },
        "74f88d3b067744e3ba8bf15c291f9927": {
          "model_module": "@jupyter-widgets/controls",
          "model_name": "HTMLModel",
          "state": {
            "_view_name": "HTMLView",
            "style": "IPY_MODEL_27caa45c6ca84ed58c9ea4b9fae2ce92",
            "_dom_classes": [],
            "description": "",
            "_model_name": "HTMLModel",
            "placeholder": "​",
            "_view_module": "@jupyter-widgets/controls",
            "_model_module_version": "1.5.0",
            "value": " 41967/41967 [03:13&lt;00:00, 217.40it/s]",
            "_view_count": null,
            "_view_module_version": "1.5.0",
            "description_tooltip": null,
            "_model_module": "@jupyter-widgets/controls",
            "layout": "IPY_MODEL_93a52d12e530475da1a37c28f4168058"
          }
        },
        "a9a1ddbf0b3b404ea7757c02ba73bb19": {
          "model_module": "@jupyter-widgets/controls",
          "model_name": "ProgressStyleModel",
          "state": {
            "_view_name": "StyleView",
            "_model_name": "ProgressStyleModel",
            "description_width": "initial",
            "_view_module": "@jupyter-widgets/base",
            "_model_module_version": "1.5.0",
            "_view_count": null,
            "_view_module_version": "1.2.0",
            "bar_color": null,
            "_model_module": "@jupyter-widgets/controls"
          }
        },
        "75a516f44e28492dafcf7b4e927708c7": {
          "model_module": "@jupyter-widgets/base",
          "model_name": "LayoutModel",
          "state": {
            "_view_name": "LayoutView",
            "grid_template_rows": null,
            "right": null,
            "justify_content": null,
            "_view_module": "@jupyter-widgets/base",
            "overflow": null,
            "_model_module_version": "1.2.0",
            "_view_count": null,
            "flex_flow": null,
            "width": null,
            "min_width": null,
            "border": null,
            "align_items": null,
            "bottom": null,
            "_model_module": "@jupyter-widgets/base",
            "top": null,
            "grid_column": null,
            "overflow_y": null,
            "overflow_x": null,
            "grid_auto_flow": null,
            "grid_area": null,
            "grid_template_columns": null,
            "flex": null,
            "_model_name": "LayoutModel",
            "justify_items": null,
            "grid_row": null,
            "max_height": null,
            "align_content": null,
            "visibility": null,
            "align_self": null,
            "height": null,
            "min_height": null,
            "padding": null,
            "grid_auto_rows": null,
            "grid_gap": null,
            "max_width": null,
            "order": null,
            "_view_module_version": "1.2.0",
            "grid_template_areas": null,
            "object_position": null,
            "object_fit": null,
            "grid_auto_columns": null,
            "margin": null,
            "display": null,
            "left": null
          }
        },
        "27caa45c6ca84ed58c9ea4b9fae2ce92": {
          "model_module": "@jupyter-widgets/controls",
          "model_name": "DescriptionStyleModel",
          "state": {
            "_view_name": "StyleView",
            "_model_name": "DescriptionStyleModel",
            "description_width": "",
            "_view_module": "@jupyter-widgets/base",
            "_model_module_version": "1.5.0",
            "_view_count": null,
            "_view_module_version": "1.2.0",
            "_model_module": "@jupyter-widgets/controls"
          }
        },
        "93a52d12e530475da1a37c28f4168058": {
          "model_module": "@jupyter-widgets/base",
          "model_name": "LayoutModel",
          "state": {
            "_view_name": "LayoutView",
            "grid_template_rows": null,
            "right": null,
            "justify_content": null,
            "_view_module": "@jupyter-widgets/base",
            "overflow": null,
            "_model_module_version": "1.2.0",
            "_view_count": null,
            "flex_flow": null,
            "width": null,
            "min_width": null,
            "border": null,
            "align_items": null,
            "bottom": null,
            "_model_module": "@jupyter-widgets/base",
            "top": null,
            "grid_column": null,
            "overflow_y": null,
            "overflow_x": null,
            "grid_auto_flow": null,
            "grid_area": null,
            "grid_template_columns": null,
            "flex": null,
            "_model_name": "LayoutModel",
            "justify_items": null,
            "grid_row": null,
            "max_height": null,
            "align_content": null,
            "visibility": null,
            "align_self": null,
            "height": null,
            "min_height": null,
            "padding": null,
            "grid_auto_rows": null,
            "grid_gap": null,
            "max_width": null,
            "order": null,
            "_view_module_version": "1.2.0",
            "grid_template_areas": null,
            "object_position": null,
            "object_fit": null,
            "grid_auto_columns": null,
            "margin": null,
            "display": null,
            "left": null
          }
        },
        "595f4b81abaa4417b81614defd91ade4": {
          "model_module": "@jupyter-widgets/controls",
          "model_name": "HBoxModel",
          "state": {
            "_view_name": "HBoxView",
            "_dom_classes": [],
            "_model_name": "HBoxModel",
            "_view_module": "@jupyter-widgets/controls",
            "_model_module_version": "1.5.0",
            "_view_count": null,
            "_view_module_version": "1.5.0",
            "box_style": "",
            "layout": "IPY_MODEL_b98b20eebaaf4c8499d08f1c5b5caf78",
            "_model_module": "@jupyter-widgets/controls",
            "children": [
              "IPY_MODEL_0bd0f9c1ce1d405f9100e8e5673bb875",
              "IPY_MODEL_2ab597ece84e41d5b15d66015a96ebf7"
            ]
          }
        },
        "b98b20eebaaf4c8499d08f1c5b5caf78": {
          "model_module": "@jupyter-widgets/base",
          "model_name": "LayoutModel",
          "state": {
            "_view_name": "LayoutView",
            "grid_template_rows": null,
            "right": null,
            "justify_content": null,
            "_view_module": "@jupyter-widgets/base",
            "overflow": null,
            "_model_module_version": "1.2.0",
            "_view_count": null,
            "flex_flow": null,
            "width": null,
            "min_width": null,
            "border": null,
            "align_items": null,
            "bottom": null,
            "_model_module": "@jupyter-widgets/base",
            "top": null,
            "grid_column": null,
            "overflow_y": null,
            "overflow_x": null,
            "grid_auto_flow": null,
            "grid_area": null,
            "grid_template_columns": null,
            "flex": null,
            "_model_name": "LayoutModel",
            "justify_items": null,
            "grid_row": null,
            "max_height": null,
            "align_content": null,
            "visibility": null,
            "align_self": null,
            "height": null,
            "min_height": null,
            "padding": null,
            "grid_auto_rows": null,
            "grid_gap": null,
            "max_width": null,
            "order": null,
            "_view_module_version": "1.2.0",
            "grid_template_areas": null,
            "object_position": null,
            "object_fit": null,
            "grid_auto_columns": null,
            "margin": null,
            "display": null,
            "left": null
          }
        },
        "0bd0f9c1ce1d405f9100e8e5673bb875": {
          "model_module": "@jupyter-widgets/controls",
          "model_name": "FloatProgressModel",
          "state": {
            "_view_name": "ProgressView",
            "style": "IPY_MODEL_fdf290e343774b8da03c6b47237ba7ff",
            "_dom_classes": [],
            "description": "100%",
            "_model_name": "FloatProgressModel",
            "bar_style": "success",
            "max": 41967,
            "_view_module": "@jupyter-widgets/controls",
            "_model_module_version": "1.5.0",
            "value": 41967,
            "_view_count": null,
            "_view_module_version": "1.5.0",
            "orientation": "horizontal",
            "min": 0,
            "description_tooltip": null,
            "_model_module": "@jupyter-widgets/controls",
            "layout": "IPY_MODEL_ef942876bf88498bb21cff6e6d375677"
          }
        },
        "2ab597ece84e41d5b15d66015a96ebf7": {
          "model_module": "@jupyter-widgets/controls",
          "model_name": "HTMLModel",
          "state": {
            "_view_name": "HTMLView",
            "style": "IPY_MODEL_ff37cb4358cc47beab117175cbf968bb",
            "_dom_classes": [],
            "description": "",
            "_model_name": "HTMLModel",
            "placeholder": "​",
            "_view_module": "@jupyter-widgets/controls",
            "_model_module_version": "1.5.0",
            "value": " 41967/41967 [00:02&lt;00:00, 17706.31it/s]",
            "_view_count": null,
            "_view_module_version": "1.5.0",
            "description_tooltip": null,
            "_model_module": "@jupyter-widgets/controls",
            "layout": "IPY_MODEL_fa20f2b749bb434486e554bec1881fe9"
          }
        },
        "fdf290e343774b8da03c6b47237ba7ff": {
          "model_module": "@jupyter-widgets/controls",
          "model_name": "ProgressStyleModel",
          "state": {
            "_view_name": "StyleView",
            "_model_name": "ProgressStyleModel",
            "description_width": "initial",
            "_view_module": "@jupyter-widgets/base",
            "_model_module_version": "1.5.0",
            "_view_count": null,
            "_view_module_version": "1.2.0",
            "bar_color": null,
            "_model_module": "@jupyter-widgets/controls"
          }
        },
        "ef942876bf88498bb21cff6e6d375677": {
          "model_module": "@jupyter-widgets/base",
          "model_name": "LayoutModel",
          "state": {
            "_view_name": "LayoutView",
            "grid_template_rows": null,
            "right": null,
            "justify_content": null,
            "_view_module": "@jupyter-widgets/base",
            "overflow": null,
            "_model_module_version": "1.2.0",
            "_view_count": null,
            "flex_flow": null,
            "width": null,
            "min_width": null,
            "border": null,
            "align_items": null,
            "bottom": null,
            "_model_module": "@jupyter-widgets/base",
            "top": null,
            "grid_column": null,
            "overflow_y": null,
            "overflow_x": null,
            "grid_auto_flow": null,
            "grid_area": null,
            "grid_template_columns": null,
            "flex": null,
            "_model_name": "LayoutModel",
            "justify_items": null,
            "grid_row": null,
            "max_height": null,
            "align_content": null,
            "visibility": null,
            "align_self": null,
            "height": null,
            "min_height": null,
            "padding": null,
            "grid_auto_rows": null,
            "grid_gap": null,
            "max_width": null,
            "order": null,
            "_view_module_version": "1.2.0",
            "grid_template_areas": null,
            "object_position": null,
            "object_fit": null,
            "grid_auto_columns": null,
            "margin": null,
            "display": null,
            "left": null
          }
        },
        "ff37cb4358cc47beab117175cbf968bb": {
          "model_module": "@jupyter-widgets/controls",
          "model_name": "DescriptionStyleModel",
          "state": {
            "_view_name": "StyleView",
            "_model_name": "DescriptionStyleModel",
            "description_width": "",
            "_view_module": "@jupyter-widgets/base",
            "_model_module_version": "1.5.0",
            "_view_count": null,
            "_view_module_version": "1.2.0",
            "_model_module": "@jupyter-widgets/controls"
          }
        },
        "fa20f2b749bb434486e554bec1881fe9": {
          "model_module": "@jupyter-widgets/base",
          "model_name": "LayoutModel",
          "state": {
            "_view_name": "LayoutView",
            "grid_template_rows": null,
            "right": null,
            "justify_content": null,
            "_view_module": "@jupyter-widgets/base",
            "overflow": null,
            "_model_module_version": "1.2.0",
            "_view_count": null,
            "flex_flow": null,
            "width": null,
            "min_width": null,
            "border": null,
            "align_items": null,
            "bottom": null,
            "_model_module": "@jupyter-widgets/base",
            "top": null,
            "grid_column": null,
            "overflow_y": null,
            "overflow_x": null,
            "grid_auto_flow": null,
            "grid_area": null,
            "grid_template_columns": null,
            "flex": null,
            "_model_name": "LayoutModel",
            "justify_items": null,
            "grid_row": null,
            "max_height": null,
            "align_content": null,
            "visibility": null,
            "align_self": null,
            "height": null,
            "min_height": null,
            "padding": null,
            "grid_auto_rows": null,
            "grid_gap": null,
            "max_width": null,
            "order": null,
            "_view_module_version": "1.2.0",
            "grid_template_areas": null,
            "object_position": null,
            "object_fit": null,
            "grid_auto_columns": null,
            "margin": null,
            "display": null,
            "left": null
          }
        },
        "d1fb62daa29d4ce0a1f1d57a0b2aa8e1": {
          "model_module": "@jupyter-widgets/controls",
          "model_name": "HBoxModel",
          "state": {
            "_view_name": "HBoxView",
            "_dom_classes": [],
            "_model_name": "HBoxModel",
            "_view_module": "@jupyter-widgets/controls",
            "_model_module_version": "1.5.0",
            "_view_count": null,
            "_view_module_version": "1.5.0",
            "box_style": "",
            "layout": "IPY_MODEL_02073bd26c344b05ba8f3e0c2a65ea72",
            "_model_module": "@jupyter-widgets/controls",
            "children": [
              "IPY_MODEL_6750bc703e9940f786ff801ebea897a7",
              "IPY_MODEL_4156d8fbd0a949c0b3d15bac3b11ab98"
            ]
          }
        },
        "02073bd26c344b05ba8f3e0c2a65ea72": {
          "model_module": "@jupyter-widgets/base",
          "model_name": "LayoutModel",
          "state": {
            "_view_name": "LayoutView",
            "grid_template_rows": null,
            "right": null,
            "justify_content": null,
            "_view_module": "@jupyter-widgets/base",
            "overflow": null,
            "_model_module_version": "1.2.0",
            "_view_count": null,
            "flex_flow": null,
            "width": null,
            "min_width": null,
            "border": null,
            "align_items": null,
            "bottom": null,
            "_model_module": "@jupyter-widgets/base",
            "top": null,
            "grid_column": null,
            "overflow_y": null,
            "overflow_x": null,
            "grid_auto_flow": null,
            "grid_area": null,
            "grid_template_columns": null,
            "flex": null,
            "_model_name": "LayoutModel",
            "justify_items": null,
            "grid_row": null,
            "max_height": null,
            "align_content": null,
            "visibility": null,
            "align_self": null,
            "height": null,
            "min_height": null,
            "padding": null,
            "grid_auto_rows": null,
            "grid_gap": null,
            "max_width": null,
            "order": null,
            "_view_module_version": "1.2.0",
            "grid_template_areas": null,
            "object_position": null,
            "object_fit": null,
            "grid_auto_columns": null,
            "margin": null,
            "display": null,
            "left": null
          }
        },
        "6750bc703e9940f786ff801ebea897a7": {
          "model_module": "@jupyter-widgets/controls",
          "model_name": "FloatProgressModel",
          "state": {
            "_view_name": "ProgressView",
            "style": "IPY_MODEL_a8ecb76b80a34e5cb5a572c24f9f5b86",
            "_dom_classes": [],
            "description": "100%",
            "_model_name": "FloatProgressModel",
            "bar_style": "success",
            "max": 41967,
            "_view_module": "@jupyter-widgets/controls",
            "_model_module_version": "1.5.0",
            "value": 41967,
            "_view_count": null,
            "_view_module_version": "1.5.0",
            "orientation": "horizontal",
            "min": 0,
            "description_tooltip": null,
            "_model_module": "@jupyter-widgets/controls",
            "layout": "IPY_MODEL_b185cae99fcf41d8ab1061abbbf38385"
          }
        },
        "4156d8fbd0a949c0b3d15bac3b11ab98": {
          "model_module": "@jupyter-widgets/controls",
          "model_name": "HTMLModel",
          "state": {
            "_view_name": "HTMLView",
            "style": "IPY_MODEL_38d2d63cce3442dfb3f2a26ccd281418",
            "_dom_classes": [],
            "description": "",
            "_model_name": "HTMLModel",
            "placeholder": "​",
            "_view_module": "@jupyter-widgets/controls",
            "_model_module_version": "1.5.0",
            "value": " 41967/41967 [03:11&lt;00:00, 218.91it/s]",
            "_view_count": null,
            "_view_module_version": "1.5.0",
            "description_tooltip": null,
            "_model_module": "@jupyter-widgets/controls",
            "layout": "IPY_MODEL_29960dbc86174721830921a52afb2184"
          }
        },
        "a8ecb76b80a34e5cb5a572c24f9f5b86": {
          "model_module": "@jupyter-widgets/controls",
          "model_name": "ProgressStyleModel",
          "state": {
            "_view_name": "StyleView",
            "_model_name": "ProgressStyleModel",
            "description_width": "initial",
            "_view_module": "@jupyter-widgets/base",
            "_model_module_version": "1.5.0",
            "_view_count": null,
            "_view_module_version": "1.2.0",
            "bar_color": null,
            "_model_module": "@jupyter-widgets/controls"
          }
        },
        "b185cae99fcf41d8ab1061abbbf38385": {
          "model_module": "@jupyter-widgets/base",
          "model_name": "LayoutModel",
          "state": {
            "_view_name": "LayoutView",
            "grid_template_rows": null,
            "right": null,
            "justify_content": null,
            "_view_module": "@jupyter-widgets/base",
            "overflow": null,
            "_model_module_version": "1.2.0",
            "_view_count": null,
            "flex_flow": null,
            "width": null,
            "min_width": null,
            "border": null,
            "align_items": null,
            "bottom": null,
            "_model_module": "@jupyter-widgets/base",
            "top": null,
            "grid_column": null,
            "overflow_y": null,
            "overflow_x": null,
            "grid_auto_flow": null,
            "grid_area": null,
            "grid_template_columns": null,
            "flex": null,
            "_model_name": "LayoutModel",
            "justify_items": null,
            "grid_row": null,
            "max_height": null,
            "align_content": null,
            "visibility": null,
            "align_self": null,
            "height": null,
            "min_height": null,
            "padding": null,
            "grid_auto_rows": null,
            "grid_gap": null,
            "max_width": null,
            "order": null,
            "_view_module_version": "1.2.0",
            "grid_template_areas": null,
            "object_position": null,
            "object_fit": null,
            "grid_auto_columns": null,
            "margin": null,
            "display": null,
            "left": null
          }
        },
        "38d2d63cce3442dfb3f2a26ccd281418": {
          "model_module": "@jupyter-widgets/controls",
          "model_name": "DescriptionStyleModel",
          "state": {
            "_view_name": "StyleView",
            "_model_name": "DescriptionStyleModel",
            "description_width": "",
            "_view_module": "@jupyter-widgets/base",
            "_model_module_version": "1.5.0",
            "_view_count": null,
            "_view_module_version": "1.2.0",
            "_model_module": "@jupyter-widgets/controls"
          }
        },
        "29960dbc86174721830921a52afb2184": {
          "model_module": "@jupyter-widgets/base",
          "model_name": "LayoutModel",
          "state": {
            "_view_name": "LayoutView",
            "grid_template_rows": null,
            "right": null,
            "justify_content": null,
            "_view_module": "@jupyter-widgets/base",
            "overflow": null,
            "_model_module_version": "1.2.0",
            "_view_count": null,
            "flex_flow": null,
            "width": null,
            "min_width": null,
            "border": null,
            "align_items": null,
            "bottom": null,
            "_model_module": "@jupyter-widgets/base",
            "top": null,
            "grid_column": null,
            "overflow_y": null,
            "overflow_x": null,
            "grid_auto_flow": null,
            "grid_area": null,
            "grid_template_columns": null,
            "flex": null,
            "_model_name": "LayoutModel",
            "justify_items": null,
            "grid_row": null,
            "max_height": null,
            "align_content": null,
            "visibility": null,
            "align_self": null,
            "height": null,
            "min_height": null,
            "padding": null,
            "grid_auto_rows": null,
            "grid_gap": null,
            "max_width": null,
            "order": null,
            "_view_module_version": "1.2.0",
            "grid_template_areas": null,
            "object_position": null,
            "object_fit": null,
            "grid_auto_columns": null,
            "margin": null,
            "display": null,
            "left": null
          }
        },
        "e384eca94bca4071b03e7e68a59347f0": {
          "model_module": "@jupyter-widgets/controls",
          "model_name": "HBoxModel",
          "state": {
            "_view_name": "HBoxView",
            "_dom_classes": [],
            "_model_name": "HBoxModel",
            "_view_module": "@jupyter-widgets/controls",
            "_model_module_version": "1.5.0",
            "_view_count": null,
            "_view_module_version": "1.5.0",
            "box_style": "",
            "layout": "IPY_MODEL_60b56904558640f5af166f52d1a4f2e1",
            "_model_module": "@jupyter-widgets/controls",
            "children": [
              "IPY_MODEL_84026647883e4883ba6cf5c54896845a",
              "IPY_MODEL_1ebca8c5880b453d8e50c38a00919e9f"
            ]
          }
        },
        "60b56904558640f5af166f52d1a4f2e1": {
          "model_module": "@jupyter-widgets/base",
          "model_name": "LayoutModel",
          "state": {
            "_view_name": "LayoutView",
            "grid_template_rows": null,
            "right": null,
            "justify_content": null,
            "_view_module": "@jupyter-widgets/base",
            "overflow": null,
            "_model_module_version": "1.2.0",
            "_view_count": null,
            "flex_flow": null,
            "width": null,
            "min_width": null,
            "border": null,
            "align_items": null,
            "bottom": null,
            "_model_module": "@jupyter-widgets/base",
            "top": null,
            "grid_column": null,
            "overflow_y": null,
            "overflow_x": null,
            "grid_auto_flow": null,
            "grid_area": null,
            "grid_template_columns": null,
            "flex": null,
            "_model_name": "LayoutModel",
            "justify_items": null,
            "grid_row": null,
            "max_height": null,
            "align_content": null,
            "visibility": null,
            "align_self": null,
            "height": null,
            "min_height": null,
            "padding": null,
            "grid_auto_rows": null,
            "grid_gap": null,
            "max_width": null,
            "order": null,
            "_view_module_version": "1.2.0",
            "grid_template_areas": null,
            "object_position": null,
            "object_fit": null,
            "grid_auto_columns": null,
            "margin": null,
            "display": null,
            "left": null
          }
        },
        "84026647883e4883ba6cf5c54896845a": {
          "model_module": "@jupyter-widgets/controls",
          "model_name": "FloatProgressModel",
          "state": {
            "_view_name": "ProgressView",
            "style": "IPY_MODEL_d7f9c0b6ee5a40d6960c04cd14807f5b",
            "_dom_classes": [],
            "description": "100%",
            "_model_name": "FloatProgressModel",
            "bar_style": "success",
            "max": 41967,
            "_view_module": "@jupyter-widgets/controls",
            "_model_module_version": "1.5.0",
            "value": 41967,
            "_view_count": null,
            "_view_module_version": "1.5.0",
            "orientation": "horizontal",
            "min": 0,
            "description_tooltip": null,
            "_model_module": "@jupyter-widgets/controls",
            "layout": "IPY_MODEL_bfe0de684bb9439a890c1e36b5e21619"
          }
        },
        "1ebca8c5880b453d8e50c38a00919e9f": {
          "model_module": "@jupyter-widgets/controls",
          "model_name": "HTMLModel",
          "state": {
            "_view_name": "HTMLView",
            "style": "IPY_MODEL_e2fb55632b0444229709d9e9f992cca8",
            "_dom_classes": [],
            "description": "",
            "_model_name": "HTMLModel",
            "placeholder": "​",
            "_view_module": "@jupyter-widgets/controls",
            "_model_module_version": "1.5.0",
            "value": " 41967/41967 [03:11&lt;00:00, 219.27it/s]",
            "_view_count": null,
            "_view_module_version": "1.5.0",
            "description_tooltip": null,
            "_model_module": "@jupyter-widgets/controls",
            "layout": "IPY_MODEL_dda3b67377474fd98940692bf6606db4"
          }
        },
        "d7f9c0b6ee5a40d6960c04cd14807f5b": {
          "model_module": "@jupyter-widgets/controls",
          "model_name": "ProgressStyleModel",
          "state": {
            "_view_name": "StyleView",
            "_model_name": "ProgressStyleModel",
            "description_width": "initial",
            "_view_module": "@jupyter-widgets/base",
            "_model_module_version": "1.5.0",
            "_view_count": null,
            "_view_module_version": "1.2.0",
            "bar_color": null,
            "_model_module": "@jupyter-widgets/controls"
          }
        },
        "bfe0de684bb9439a890c1e36b5e21619": {
          "model_module": "@jupyter-widgets/base",
          "model_name": "LayoutModel",
          "state": {
            "_view_name": "LayoutView",
            "grid_template_rows": null,
            "right": null,
            "justify_content": null,
            "_view_module": "@jupyter-widgets/base",
            "overflow": null,
            "_model_module_version": "1.2.0",
            "_view_count": null,
            "flex_flow": null,
            "width": null,
            "min_width": null,
            "border": null,
            "align_items": null,
            "bottom": null,
            "_model_module": "@jupyter-widgets/base",
            "top": null,
            "grid_column": null,
            "overflow_y": null,
            "overflow_x": null,
            "grid_auto_flow": null,
            "grid_area": null,
            "grid_template_columns": null,
            "flex": null,
            "_model_name": "LayoutModel",
            "justify_items": null,
            "grid_row": null,
            "max_height": null,
            "align_content": null,
            "visibility": null,
            "align_self": null,
            "height": null,
            "min_height": null,
            "padding": null,
            "grid_auto_rows": null,
            "grid_gap": null,
            "max_width": null,
            "order": null,
            "_view_module_version": "1.2.0",
            "grid_template_areas": null,
            "object_position": null,
            "object_fit": null,
            "grid_auto_columns": null,
            "margin": null,
            "display": null,
            "left": null
          }
        },
        "e2fb55632b0444229709d9e9f992cca8": {
          "model_module": "@jupyter-widgets/controls",
          "model_name": "DescriptionStyleModel",
          "state": {
            "_view_name": "StyleView",
            "_model_name": "DescriptionStyleModel",
            "description_width": "",
            "_view_module": "@jupyter-widgets/base",
            "_model_module_version": "1.5.0",
            "_view_count": null,
            "_view_module_version": "1.2.0",
            "_model_module": "@jupyter-widgets/controls"
          }
        },
        "dda3b67377474fd98940692bf6606db4": {
          "model_module": "@jupyter-widgets/base",
          "model_name": "LayoutModel",
          "state": {
            "_view_name": "LayoutView",
            "grid_template_rows": null,
            "right": null,
            "justify_content": null,
            "_view_module": "@jupyter-widgets/base",
            "overflow": null,
            "_model_module_version": "1.2.0",
            "_view_count": null,
            "flex_flow": null,
            "width": null,
            "min_width": null,
            "border": null,
            "align_items": null,
            "bottom": null,
            "_model_module": "@jupyter-widgets/base",
            "top": null,
            "grid_column": null,
            "overflow_y": null,
            "overflow_x": null,
            "grid_auto_flow": null,
            "grid_area": null,
            "grid_template_columns": null,
            "flex": null,
            "_model_name": "LayoutModel",
            "justify_items": null,
            "grid_row": null,
            "max_height": null,
            "align_content": null,
            "visibility": null,
            "align_self": null,
            "height": null,
            "min_height": null,
            "padding": null,
            "grid_auto_rows": null,
            "grid_gap": null,
            "max_width": null,
            "order": null,
            "_view_module_version": "1.2.0",
            "grid_template_areas": null,
            "object_position": null,
            "object_fit": null,
            "grid_auto_columns": null,
            "margin": null,
            "display": null,
            "left": null
          }
        },
        "838f1f9b1ff6479b94fde326b7ba7703": {
          "model_module": "@jupyter-widgets/controls",
          "model_name": "HBoxModel",
          "state": {
            "_view_name": "HBoxView",
            "_dom_classes": [],
            "_model_name": "HBoxModel",
            "_view_module": "@jupyter-widgets/controls",
            "_model_module_version": "1.5.0",
            "_view_count": null,
            "_view_module_version": "1.5.0",
            "box_style": "",
            "layout": "IPY_MODEL_62acaecdf2aa48f89d5eab212b04e418",
            "_model_module": "@jupyter-widgets/controls",
            "children": [
              "IPY_MODEL_af42de2487194a5f9f8ca2c0d44f4520",
              "IPY_MODEL_201a798f56884ce1a0e268d674c3ee9c"
            ]
          }
        },
        "62acaecdf2aa48f89d5eab212b04e418": {
          "model_module": "@jupyter-widgets/base",
          "model_name": "LayoutModel",
          "state": {
            "_view_name": "LayoutView",
            "grid_template_rows": null,
            "right": null,
            "justify_content": null,
            "_view_module": "@jupyter-widgets/base",
            "overflow": null,
            "_model_module_version": "1.2.0",
            "_view_count": null,
            "flex_flow": null,
            "width": null,
            "min_width": null,
            "border": null,
            "align_items": null,
            "bottom": null,
            "_model_module": "@jupyter-widgets/base",
            "top": null,
            "grid_column": null,
            "overflow_y": null,
            "overflow_x": null,
            "grid_auto_flow": null,
            "grid_area": null,
            "grid_template_columns": null,
            "flex": null,
            "_model_name": "LayoutModel",
            "justify_items": null,
            "grid_row": null,
            "max_height": null,
            "align_content": null,
            "visibility": null,
            "align_self": null,
            "height": null,
            "min_height": null,
            "padding": null,
            "grid_auto_rows": null,
            "grid_gap": null,
            "max_width": null,
            "order": null,
            "_view_module_version": "1.2.0",
            "grid_template_areas": null,
            "object_position": null,
            "object_fit": null,
            "grid_auto_columns": null,
            "margin": null,
            "display": null,
            "left": null
          }
        },
        "af42de2487194a5f9f8ca2c0d44f4520": {
          "model_module": "@jupyter-widgets/controls",
          "model_name": "FloatProgressModel",
          "state": {
            "_view_name": "ProgressView",
            "style": "IPY_MODEL_182c2c8e7b5a48ca9309e7fb3c470798",
            "_dom_classes": [],
            "description": "100%",
            "_model_name": "FloatProgressModel",
            "bar_style": "success",
            "max": 10,
            "_view_module": "@jupyter-widgets/controls",
            "_model_module_version": "1.5.0",
            "value": 10,
            "_view_count": null,
            "_view_module_version": "1.5.0",
            "orientation": "horizontal",
            "min": 0,
            "description_tooltip": null,
            "_model_module": "@jupyter-widgets/controls",
            "layout": "IPY_MODEL_9ca89de6fc3143fd89a0a364e43195df"
          }
        },
        "201a798f56884ce1a0e268d674c3ee9c": {
          "model_module": "@jupyter-widgets/controls",
          "model_name": "HTMLModel",
          "state": {
            "_view_name": "HTMLView",
            "style": "IPY_MODEL_705b2e020362461cb2c4694ba9a3853e",
            "_dom_classes": [],
            "description": "",
            "_model_name": "HTMLModel",
            "placeholder": "​",
            "_view_module": "@jupyter-widgets/controls",
            "_model_module_version": "1.5.0",
            "value": " 10/10 [03:10&lt;00:00, 19.02s/it]",
            "_view_count": null,
            "_view_module_version": "1.5.0",
            "description_tooltip": null,
            "_model_module": "@jupyter-widgets/controls",
            "layout": "IPY_MODEL_7ee5be0cb0bf449097a725b80e6358a9"
          }
        },
        "182c2c8e7b5a48ca9309e7fb3c470798": {
          "model_module": "@jupyter-widgets/controls",
          "model_name": "ProgressStyleModel",
          "state": {
            "_view_name": "StyleView",
            "_model_name": "ProgressStyleModel",
            "description_width": "initial",
            "_view_module": "@jupyter-widgets/base",
            "_model_module_version": "1.5.0",
            "_view_count": null,
            "_view_module_version": "1.2.0",
            "bar_color": null,
            "_model_module": "@jupyter-widgets/controls"
          }
        },
        "9ca89de6fc3143fd89a0a364e43195df": {
          "model_module": "@jupyter-widgets/base",
          "model_name": "LayoutModel",
          "state": {
            "_view_name": "LayoutView",
            "grid_template_rows": null,
            "right": null,
            "justify_content": null,
            "_view_module": "@jupyter-widgets/base",
            "overflow": null,
            "_model_module_version": "1.2.0",
            "_view_count": null,
            "flex_flow": null,
            "width": null,
            "min_width": null,
            "border": null,
            "align_items": null,
            "bottom": null,
            "_model_module": "@jupyter-widgets/base",
            "top": null,
            "grid_column": null,
            "overflow_y": null,
            "overflow_x": null,
            "grid_auto_flow": null,
            "grid_area": null,
            "grid_template_columns": null,
            "flex": null,
            "_model_name": "LayoutModel",
            "justify_items": null,
            "grid_row": null,
            "max_height": null,
            "align_content": null,
            "visibility": null,
            "align_self": null,
            "height": null,
            "min_height": null,
            "padding": null,
            "grid_auto_rows": null,
            "grid_gap": null,
            "max_width": null,
            "order": null,
            "_view_module_version": "1.2.0",
            "grid_template_areas": null,
            "object_position": null,
            "object_fit": null,
            "grid_auto_columns": null,
            "margin": null,
            "display": null,
            "left": null
          }
        },
        "705b2e020362461cb2c4694ba9a3853e": {
          "model_module": "@jupyter-widgets/controls",
          "model_name": "DescriptionStyleModel",
          "state": {
            "_view_name": "StyleView",
            "_model_name": "DescriptionStyleModel",
            "description_width": "",
            "_view_module": "@jupyter-widgets/base",
            "_model_module_version": "1.5.0",
            "_view_count": null,
            "_view_module_version": "1.2.0",
            "_model_module": "@jupyter-widgets/controls"
          }
        },
        "7ee5be0cb0bf449097a725b80e6358a9": {
          "model_module": "@jupyter-widgets/base",
          "model_name": "LayoutModel",
          "state": {
            "_view_name": "LayoutView",
            "grid_template_rows": null,
            "right": null,
            "justify_content": null,
            "_view_module": "@jupyter-widgets/base",
            "overflow": null,
            "_model_module_version": "1.2.0",
            "_view_count": null,
            "flex_flow": null,
            "width": null,
            "min_width": null,
            "border": null,
            "align_items": null,
            "bottom": null,
            "_model_module": "@jupyter-widgets/base",
            "top": null,
            "grid_column": null,
            "overflow_y": null,
            "overflow_x": null,
            "grid_auto_flow": null,
            "grid_area": null,
            "grid_template_columns": null,
            "flex": null,
            "_model_name": "LayoutModel",
            "justify_items": null,
            "grid_row": null,
            "max_height": null,
            "align_content": null,
            "visibility": null,
            "align_self": null,
            "height": null,
            "min_height": null,
            "padding": null,
            "grid_auto_rows": null,
            "grid_gap": null,
            "max_width": null,
            "order": null,
            "_view_module_version": "1.2.0",
            "grid_template_areas": null,
            "object_position": null,
            "object_fit": null,
            "grid_auto_columns": null,
            "margin": null,
            "display": null,
            "left": null
          }
        },
        "30672db5d047419190a57dff7787c1dd": {
          "model_module": "@jupyter-widgets/controls",
          "model_name": "HBoxModel",
          "state": {
            "_view_name": "HBoxView",
            "_dom_classes": [],
            "_model_name": "HBoxModel",
            "_view_module": "@jupyter-widgets/controls",
            "_model_module_version": "1.5.0",
            "_view_count": null,
            "_view_module_version": "1.5.0",
            "box_style": "",
            "layout": "IPY_MODEL_a5a94d2d848b4976967e3c0a45798c97",
            "_model_module": "@jupyter-widgets/controls",
            "children": [
              "IPY_MODEL_13fa77028c75487d9150eb59e69a4c76",
              "IPY_MODEL_7fd9eab06073436686568190fbe5b17e"
            ]
          }
        },
        "a5a94d2d848b4976967e3c0a45798c97": {
          "model_module": "@jupyter-widgets/base",
          "model_name": "LayoutModel",
          "state": {
            "_view_name": "LayoutView",
            "grid_template_rows": null,
            "right": null,
            "justify_content": null,
            "_view_module": "@jupyter-widgets/base",
            "overflow": null,
            "_model_module_version": "1.2.0",
            "_view_count": null,
            "flex_flow": null,
            "width": null,
            "min_width": null,
            "border": null,
            "align_items": null,
            "bottom": null,
            "_model_module": "@jupyter-widgets/base",
            "top": null,
            "grid_column": null,
            "overflow_y": null,
            "overflow_x": null,
            "grid_auto_flow": null,
            "grid_area": null,
            "grid_template_columns": null,
            "flex": null,
            "_model_name": "LayoutModel",
            "justify_items": null,
            "grid_row": null,
            "max_height": null,
            "align_content": null,
            "visibility": null,
            "align_self": null,
            "height": null,
            "min_height": null,
            "padding": null,
            "grid_auto_rows": null,
            "grid_gap": null,
            "max_width": null,
            "order": null,
            "_view_module_version": "1.2.0",
            "grid_template_areas": null,
            "object_position": null,
            "object_fit": null,
            "grid_auto_columns": null,
            "margin": null,
            "display": null,
            "left": null
          }
        },
        "13fa77028c75487d9150eb59e69a4c76": {
          "model_module": "@jupyter-widgets/controls",
          "model_name": "FloatProgressModel",
          "state": {
            "_view_name": "ProgressView",
            "style": "IPY_MODEL_b2d5459333dc42aba614c5925c0bbb5c",
            "_dom_classes": [],
            "description": "100%",
            "_model_name": "FloatProgressModel",
            "bar_style": "success",
            "max": 41967,
            "_view_module": "@jupyter-widgets/controls",
            "_model_module_version": "1.5.0",
            "value": 41967,
            "_view_count": null,
            "_view_module_version": "1.5.0",
            "orientation": "horizontal",
            "min": 0,
            "description_tooltip": null,
            "_model_module": "@jupyter-widgets/controls",
            "layout": "IPY_MODEL_33d597c70bb6465cbc5a9425c7a83ccf"
          }
        },
        "7fd9eab06073436686568190fbe5b17e": {
          "model_module": "@jupyter-widgets/controls",
          "model_name": "HTMLModel",
          "state": {
            "_view_name": "HTMLView",
            "style": "IPY_MODEL_90ed96253c244b1e8bbd374a7994139d",
            "_dom_classes": [],
            "description": "",
            "_model_name": "HTMLModel",
            "placeholder": "​",
            "_view_module": "@jupyter-widgets/controls",
            "_model_module_version": "1.5.0",
            "value": " 41967/41967 [03:10&lt;00:00, 220.73it/s]",
            "_view_count": null,
            "_view_module_version": "1.5.0",
            "description_tooltip": null,
            "_model_module": "@jupyter-widgets/controls",
            "layout": "IPY_MODEL_c92f010fdc1d4c63af1c7b712d9e311e"
          }
        },
        "b2d5459333dc42aba614c5925c0bbb5c": {
          "model_module": "@jupyter-widgets/controls",
          "model_name": "ProgressStyleModel",
          "state": {
            "_view_name": "StyleView",
            "_model_name": "ProgressStyleModel",
            "description_width": "initial",
            "_view_module": "@jupyter-widgets/base",
            "_model_module_version": "1.5.0",
            "_view_count": null,
            "_view_module_version": "1.2.0",
            "bar_color": null,
            "_model_module": "@jupyter-widgets/controls"
          }
        },
        "33d597c70bb6465cbc5a9425c7a83ccf": {
          "model_module": "@jupyter-widgets/base",
          "model_name": "LayoutModel",
          "state": {
            "_view_name": "LayoutView",
            "grid_template_rows": null,
            "right": null,
            "justify_content": null,
            "_view_module": "@jupyter-widgets/base",
            "overflow": null,
            "_model_module_version": "1.2.0",
            "_view_count": null,
            "flex_flow": null,
            "width": null,
            "min_width": null,
            "border": null,
            "align_items": null,
            "bottom": null,
            "_model_module": "@jupyter-widgets/base",
            "top": null,
            "grid_column": null,
            "overflow_y": null,
            "overflow_x": null,
            "grid_auto_flow": null,
            "grid_area": null,
            "grid_template_columns": null,
            "flex": null,
            "_model_name": "LayoutModel",
            "justify_items": null,
            "grid_row": null,
            "max_height": null,
            "align_content": null,
            "visibility": null,
            "align_self": null,
            "height": null,
            "min_height": null,
            "padding": null,
            "grid_auto_rows": null,
            "grid_gap": null,
            "max_width": null,
            "order": null,
            "_view_module_version": "1.2.0",
            "grid_template_areas": null,
            "object_position": null,
            "object_fit": null,
            "grid_auto_columns": null,
            "margin": null,
            "display": null,
            "left": null
          }
        },
        "90ed96253c244b1e8bbd374a7994139d": {
          "model_module": "@jupyter-widgets/controls",
          "model_name": "DescriptionStyleModel",
          "state": {
            "_view_name": "StyleView",
            "_model_name": "DescriptionStyleModel",
            "description_width": "",
            "_view_module": "@jupyter-widgets/base",
            "_model_module_version": "1.5.0",
            "_view_count": null,
            "_view_module_version": "1.2.0",
            "_model_module": "@jupyter-widgets/controls"
          }
        },
        "c92f010fdc1d4c63af1c7b712d9e311e": {
          "model_module": "@jupyter-widgets/base",
          "model_name": "LayoutModel",
          "state": {
            "_view_name": "LayoutView",
            "grid_template_rows": null,
            "right": null,
            "justify_content": null,
            "_view_module": "@jupyter-widgets/base",
            "overflow": null,
            "_model_module_version": "1.2.0",
            "_view_count": null,
            "flex_flow": null,
            "width": null,
            "min_width": null,
            "border": null,
            "align_items": null,
            "bottom": null,
            "_model_module": "@jupyter-widgets/base",
            "top": null,
            "grid_column": null,
            "overflow_y": null,
            "overflow_x": null,
            "grid_auto_flow": null,
            "grid_area": null,
            "grid_template_columns": null,
            "flex": null,
            "_model_name": "LayoutModel",
            "justify_items": null,
            "grid_row": null,
            "max_height": null,
            "align_content": null,
            "visibility": null,
            "align_self": null,
            "height": null,
            "min_height": null,
            "padding": null,
            "grid_auto_rows": null,
            "grid_gap": null,
            "max_width": null,
            "order": null,
            "_view_module_version": "1.2.0",
            "grid_template_areas": null,
            "object_position": null,
            "object_fit": null,
            "grid_auto_columns": null,
            "margin": null,
            "display": null,
            "left": null
          }
        },
        "70b79ced2bd8465ebf4761eaa0f4e95b": {
          "model_module": "@jupyter-widgets/controls",
          "model_name": "HBoxModel",
          "state": {
            "_view_name": "HBoxView",
            "_dom_classes": [],
            "_model_name": "HBoxModel",
            "_view_module": "@jupyter-widgets/controls",
            "_model_module_version": "1.5.0",
            "_view_count": null,
            "_view_module_version": "1.5.0",
            "box_style": "",
            "layout": "IPY_MODEL_204d6008384f4d64a96e8862917dee39",
            "_model_module": "@jupyter-widgets/controls",
            "children": [
              "IPY_MODEL_de1ae68167a94ce087dae300b40d962c",
              "IPY_MODEL_03e345454c2948d483bbf77f044be47d"
            ]
          }
        },
        "204d6008384f4d64a96e8862917dee39": {
          "model_module": "@jupyter-widgets/base",
          "model_name": "LayoutModel",
          "state": {
            "_view_name": "LayoutView",
            "grid_template_rows": null,
            "right": null,
            "justify_content": null,
            "_view_module": "@jupyter-widgets/base",
            "overflow": null,
            "_model_module_version": "1.2.0",
            "_view_count": null,
            "flex_flow": null,
            "width": null,
            "min_width": null,
            "border": null,
            "align_items": null,
            "bottom": null,
            "_model_module": "@jupyter-widgets/base",
            "top": null,
            "grid_column": null,
            "overflow_y": null,
            "overflow_x": null,
            "grid_auto_flow": null,
            "grid_area": null,
            "grid_template_columns": null,
            "flex": null,
            "_model_name": "LayoutModel",
            "justify_items": null,
            "grid_row": null,
            "max_height": null,
            "align_content": null,
            "visibility": null,
            "align_self": null,
            "height": null,
            "min_height": null,
            "padding": null,
            "grid_auto_rows": null,
            "grid_gap": null,
            "max_width": null,
            "order": null,
            "_view_module_version": "1.2.0",
            "grid_template_areas": null,
            "object_position": null,
            "object_fit": null,
            "grid_auto_columns": null,
            "margin": null,
            "display": null,
            "left": null
          }
        },
        "de1ae68167a94ce087dae300b40d962c": {
          "model_module": "@jupyter-widgets/controls",
          "model_name": "FloatProgressModel",
          "state": {
            "_view_name": "ProgressView",
            "style": "IPY_MODEL_cadd8e1ed4db4653b724e59796c079f8",
            "_dom_classes": [],
            "description": "100%",
            "_model_name": "FloatProgressModel",
            "bar_style": "success",
            "max": 41967,
            "_view_module": "@jupyter-widgets/controls",
            "_model_module_version": "1.5.0",
            "value": 41967,
            "_view_count": null,
            "_view_module_version": "1.5.0",
            "orientation": "horizontal",
            "min": 0,
            "description_tooltip": null,
            "_model_module": "@jupyter-widgets/controls",
            "layout": "IPY_MODEL_80b6d17ada56474e80f1709a559ae1ea"
          }
        },
        "03e345454c2948d483bbf77f044be47d": {
          "model_module": "@jupyter-widgets/controls",
          "model_name": "HTMLModel",
          "state": {
            "_view_name": "HTMLView",
            "style": "IPY_MODEL_8aecc541c8964f20a2c946d0342b5c25",
            "_dom_classes": [],
            "description": "",
            "_model_name": "HTMLModel",
            "placeholder": "​",
            "_view_module": "@jupyter-widgets/controls",
            "_model_module_version": "1.5.0",
            "value": " 41967/41967 [00:04&lt;00:00, 9943.87it/s]",
            "_view_count": null,
            "_view_module_version": "1.5.0",
            "description_tooltip": null,
            "_model_module": "@jupyter-widgets/controls",
            "layout": "IPY_MODEL_5da12ee1e60d49b89f388713016ae31e"
          }
        },
        "cadd8e1ed4db4653b724e59796c079f8": {
          "model_module": "@jupyter-widgets/controls",
          "model_name": "ProgressStyleModel",
          "state": {
            "_view_name": "StyleView",
            "_model_name": "ProgressStyleModel",
            "description_width": "initial",
            "_view_module": "@jupyter-widgets/base",
            "_model_module_version": "1.5.0",
            "_view_count": null,
            "_view_module_version": "1.2.0",
            "bar_color": null,
            "_model_module": "@jupyter-widgets/controls"
          }
        },
        "80b6d17ada56474e80f1709a559ae1ea": {
          "model_module": "@jupyter-widgets/base",
          "model_name": "LayoutModel",
          "state": {
            "_view_name": "LayoutView",
            "grid_template_rows": null,
            "right": null,
            "justify_content": null,
            "_view_module": "@jupyter-widgets/base",
            "overflow": null,
            "_model_module_version": "1.2.0",
            "_view_count": null,
            "flex_flow": null,
            "width": null,
            "min_width": null,
            "border": null,
            "align_items": null,
            "bottom": null,
            "_model_module": "@jupyter-widgets/base",
            "top": null,
            "grid_column": null,
            "overflow_y": null,
            "overflow_x": null,
            "grid_auto_flow": null,
            "grid_area": null,
            "grid_template_columns": null,
            "flex": null,
            "_model_name": "LayoutModel",
            "justify_items": null,
            "grid_row": null,
            "max_height": null,
            "align_content": null,
            "visibility": null,
            "align_self": null,
            "height": null,
            "min_height": null,
            "padding": null,
            "grid_auto_rows": null,
            "grid_gap": null,
            "max_width": null,
            "order": null,
            "_view_module_version": "1.2.0",
            "grid_template_areas": null,
            "object_position": null,
            "object_fit": null,
            "grid_auto_columns": null,
            "margin": null,
            "display": null,
            "left": null
          }
        },
        "8aecc541c8964f20a2c946d0342b5c25": {
          "model_module": "@jupyter-widgets/controls",
          "model_name": "DescriptionStyleModel",
          "state": {
            "_view_name": "StyleView",
            "_model_name": "DescriptionStyleModel",
            "description_width": "",
            "_view_module": "@jupyter-widgets/base",
            "_model_module_version": "1.5.0",
            "_view_count": null,
            "_view_module_version": "1.2.0",
            "_model_module": "@jupyter-widgets/controls"
          }
        },
        "5da12ee1e60d49b89f388713016ae31e": {
          "model_module": "@jupyter-widgets/base",
          "model_name": "LayoutModel",
          "state": {
            "_view_name": "LayoutView",
            "grid_template_rows": null,
            "right": null,
            "justify_content": null,
            "_view_module": "@jupyter-widgets/base",
            "overflow": null,
            "_model_module_version": "1.2.0",
            "_view_count": null,
            "flex_flow": null,
            "width": null,
            "min_width": null,
            "border": null,
            "align_items": null,
            "bottom": null,
            "_model_module": "@jupyter-widgets/base",
            "top": null,
            "grid_column": null,
            "overflow_y": null,
            "overflow_x": null,
            "grid_auto_flow": null,
            "grid_area": null,
            "grid_template_columns": null,
            "flex": null,
            "_model_name": "LayoutModel",
            "justify_items": null,
            "grid_row": null,
            "max_height": null,
            "align_content": null,
            "visibility": null,
            "align_self": null,
            "height": null,
            "min_height": null,
            "padding": null,
            "grid_auto_rows": null,
            "grid_gap": null,
            "max_width": null,
            "order": null,
            "_view_module_version": "1.2.0",
            "grid_template_areas": null,
            "object_position": null,
            "object_fit": null,
            "grid_auto_columns": null,
            "margin": null,
            "display": null,
            "left": null
          }
        },
        "8f90a75dbad84acfa0ffe0d60cabffb1": {
          "model_module": "@jupyter-widgets/controls",
          "model_name": "HBoxModel",
          "state": {
            "_view_name": "HBoxView",
            "_dom_classes": [],
            "_model_name": "HBoxModel",
            "_view_module": "@jupyter-widgets/controls",
            "_model_module_version": "1.5.0",
            "_view_count": null,
            "_view_module_version": "1.5.0",
            "box_style": "",
            "layout": "IPY_MODEL_c4120f2335934b75ae463bf0b9f17615",
            "_model_module": "@jupyter-widgets/controls",
            "children": [
              "IPY_MODEL_3157547104504b3f96edf27902546020",
              "IPY_MODEL_9a3884639f084fafbdc9b1071077e8e4"
            ]
          }
        },
        "c4120f2335934b75ae463bf0b9f17615": {
          "model_module": "@jupyter-widgets/base",
          "model_name": "LayoutModel",
          "state": {
            "_view_name": "LayoutView",
            "grid_template_rows": null,
            "right": null,
            "justify_content": null,
            "_view_module": "@jupyter-widgets/base",
            "overflow": null,
            "_model_module_version": "1.2.0",
            "_view_count": null,
            "flex_flow": null,
            "width": null,
            "min_width": null,
            "border": null,
            "align_items": null,
            "bottom": null,
            "_model_module": "@jupyter-widgets/base",
            "top": null,
            "grid_column": null,
            "overflow_y": null,
            "overflow_x": null,
            "grid_auto_flow": null,
            "grid_area": null,
            "grid_template_columns": null,
            "flex": null,
            "_model_name": "LayoutModel",
            "justify_items": null,
            "grid_row": null,
            "max_height": null,
            "align_content": null,
            "visibility": null,
            "align_self": null,
            "height": null,
            "min_height": null,
            "padding": null,
            "grid_auto_rows": null,
            "grid_gap": null,
            "max_width": null,
            "order": null,
            "_view_module_version": "1.2.0",
            "grid_template_areas": null,
            "object_position": null,
            "object_fit": null,
            "grid_auto_columns": null,
            "margin": null,
            "display": null,
            "left": null
          }
        },
        "3157547104504b3f96edf27902546020": {
          "model_module": "@jupyter-widgets/controls",
          "model_name": "FloatProgressModel",
          "state": {
            "_view_name": "ProgressView",
            "style": "IPY_MODEL_e6c411acf48e4a758bccab40e2be70e1",
            "_dom_classes": [],
            "description": "100%",
            "_model_name": "FloatProgressModel",
            "bar_style": "success",
            "max": 41967,
            "_view_module": "@jupyter-widgets/controls",
            "_model_module_version": "1.5.0",
            "value": 41967,
            "_view_count": null,
            "_view_module_version": "1.5.0",
            "orientation": "horizontal",
            "min": 0,
            "description_tooltip": null,
            "_model_module": "@jupyter-widgets/controls",
            "layout": "IPY_MODEL_d92302483bb9440d89af063bc9a4ceea"
          }
        },
        "9a3884639f084fafbdc9b1071077e8e4": {
          "model_module": "@jupyter-widgets/controls",
          "model_name": "HTMLModel",
          "state": {
            "_view_name": "HTMLView",
            "style": "IPY_MODEL_6d35c6778d1e429ba5adbe8f354be34d",
            "_dom_classes": [],
            "description": "",
            "_model_name": "HTMLModel",
            "placeholder": "​",
            "_view_module": "@jupyter-widgets/controls",
            "_model_module_version": "1.5.0",
            "value": " 41967/41967 [03:14&lt;00:00, 216.19it/s]",
            "_view_count": null,
            "_view_module_version": "1.5.0",
            "description_tooltip": null,
            "_model_module": "@jupyter-widgets/controls",
            "layout": "IPY_MODEL_c10080ff0ebc4126bc41aa4fe036bfe2"
          }
        },
        "e6c411acf48e4a758bccab40e2be70e1": {
          "model_module": "@jupyter-widgets/controls",
          "model_name": "ProgressStyleModel",
          "state": {
            "_view_name": "StyleView",
            "_model_name": "ProgressStyleModel",
            "description_width": "initial",
            "_view_module": "@jupyter-widgets/base",
            "_model_module_version": "1.5.0",
            "_view_count": null,
            "_view_module_version": "1.2.0",
            "bar_color": null,
            "_model_module": "@jupyter-widgets/controls"
          }
        },
        "d92302483bb9440d89af063bc9a4ceea": {
          "model_module": "@jupyter-widgets/base",
          "model_name": "LayoutModel",
          "state": {
            "_view_name": "LayoutView",
            "grid_template_rows": null,
            "right": null,
            "justify_content": null,
            "_view_module": "@jupyter-widgets/base",
            "overflow": null,
            "_model_module_version": "1.2.0",
            "_view_count": null,
            "flex_flow": null,
            "width": null,
            "min_width": null,
            "border": null,
            "align_items": null,
            "bottom": null,
            "_model_module": "@jupyter-widgets/base",
            "top": null,
            "grid_column": null,
            "overflow_y": null,
            "overflow_x": null,
            "grid_auto_flow": null,
            "grid_area": null,
            "grid_template_columns": null,
            "flex": null,
            "_model_name": "LayoutModel",
            "justify_items": null,
            "grid_row": null,
            "max_height": null,
            "align_content": null,
            "visibility": null,
            "align_self": null,
            "height": null,
            "min_height": null,
            "padding": null,
            "grid_auto_rows": null,
            "grid_gap": null,
            "max_width": null,
            "order": null,
            "_view_module_version": "1.2.0",
            "grid_template_areas": null,
            "object_position": null,
            "object_fit": null,
            "grid_auto_columns": null,
            "margin": null,
            "display": null,
            "left": null
          }
        },
        "6d35c6778d1e429ba5adbe8f354be34d": {
          "model_module": "@jupyter-widgets/controls",
          "model_name": "DescriptionStyleModel",
          "state": {
            "_view_name": "StyleView",
            "_model_name": "DescriptionStyleModel",
            "description_width": "",
            "_view_module": "@jupyter-widgets/base",
            "_model_module_version": "1.5.0",
            "_view_count": null,
            "_view_module_version": "1.2.0",
            "_model_module": "@jupyter-widgets/controls"
          }
        },
        "c10080ff0ebc4126bc41aa4fe036bfe2": {
          "model_module": "@jupyter-widgets/base",
          "model_name": "LayoutModel",
          "state": {
            "_view_name": "LayoutView",
            "grid_template_rows": null,
            "right": null,
            "justify_content": null,
            "_view_module": "@jupyter-widgets/base",
            "overflow": null,
            "_model_module_version": "1.2.0",
            "_view_count": null,
            "flex_flow": null,
            "width": null,
            "min_width": null,
            "border": null,
            "align_items": null,
            "bottom": null,
            "_model_module": "@jupyter-widgets/base",
            "top": null,
            "grid_column": null,
            "overflow_y": null,
            "overflow_x": null,
            "grid_auto_flow": null,
            "grid_area": null,
            "grid_template_columns": null,
            "flex": null,
            "_model_name": "LayoutModel",
            "justify_items": null,
            "grid_row": null,
            "max_height": null,
            "align_content": null,
            "visibility": null,
            "align_self": null,
            "height": null,
            "min_height": null,
            "padding": null,
            "grid_auto_rows": null,
            "grid_gap": null,
            "max_width": null,
            "order": null,
            "_view_module_version": "1.2.0",
            "grid_template_areas": null,
            "object_position": null,
            "object_fit": null,
            "grid_auto_columns": null,
            "margin": null,
            "display": null,
            "left": null
          }
        },
        "77e78f73126245e58cfc4e599e403287": {
          "model_module": "@jupyter-widgets/controls",
          "model_name": "HBoxModel",
          "state": {
            "_view_name": "HBoxView",
            "_dom_classes": [],
            "_model_name": "HBoxModel",
            "_view_module": "@jupyter-widgets/controls",
            "_model_module_version": "1.5.0",
            "_view_count": null,
            "_view_module_version": "1.5.0",
            "box_style": "",
            "layout": "IPY_MODEL_33811f4d9251416f81df98896f8cd68d",
            "_model_module": "@jupyter-widgets/controls",
            "children": [
              "IPY_MODEL_05d9e17ee67d4541aa9486de00e52e2e",
              "IPY_MODEL_367b47800a3a4c1a9d3b22d1e96a5fca"
            ]
          }
        },
        "33811f4d9251416f81df98896f8cd68d": {
          "model_module": "@jupyter-widgets/base",
          "model_name": "LayoutModel",
          "state": {
            "_view_name": "LayoutView",
            "grid_template_rows": null,
            "right": null,
            "justify_content": null,
            "_view_module": "@jupyter-widgets/base",
            "overflow": null,
            "_model_module_version": "1.2.0",
            "_view_count": null,
            "flex_flow": null,
            "width": null,
            "min_width": null,
            "border": null,
            "align_items": null,
            "bottom": null,
            "_model_module": "@jupyter-widgets/base",
            "top": null,
            "grid_column": null,
            "overflow_y": null,
            "overflow_x": null,
            "grid_auto_flow": null,
            "grid_area": null,
            "grid_template_columns": null,
            "flex": null,
            "_model_name": "LayoutModel",
            "justify_items": null,
            "grid_row": null,
            "max_height": null,
            "align_content": null,
            "visibility": null,
            "align_self": null,
            "height": null,
            "min_height": null,
            "padding": null,
            "grid_auto_rows": null,
            "grid_gap": null,
            "max_width": null,
            "order": null,
            "_view_module_version": "1.2.0",
            "grid_template_areas": null,
            "object_position": null,
            "object_fit": null,
            "grid_auto_columns": null,
            "margin": null,
            "display": null,
            "left": null
          }
        },
        "05d9e17ee67d4541aa9486de00e52e2e": {
          "model_module": "@jupyter-widgets/controls",
          "model_name": "FloatProgressModel",
          "state": {
            "_view_name": "ProgressView",
            "style": "IPY_MODEL_8908a4a46b7d4d8ab68c2a3ae723c35e",
            "_dom_classes": [],
            "description": "100%",
            "_model_name": "FloatProgressModel",
            "bar_style": "success",
            "max": 41967,
            "_view_module": "@jupyter-widgets/controls",
            "_model_module_version": "1.5.0",
            "value": 41967,
            "_view_count": null,
            "_view_module_version": "1.5.0",
            "orientation": "horizontal",
            "min": 0,
            "description_tooltip": null,
            "_model_module": "@jupyter-widgets/controls",
            "layout": "IPY_MODEL_9a79176138bf4f9c81ff1e72564ec0d6"
          }
        },
        "367b47800a3a4c1a9d3b22d1e96a5fca": {
          "model_module": "@jupyter-widgets/controls",
          "model_name": "HTMLModel",
          "state": {
            "_view_name": "HTMLView",
            "style": "IPY_MODEL_ccb407952efe45d693f33a7dad64a7a5",
            "_dom_classes": [],
            "description": "",
            "_model_name": "HTMLModel",
            "placeholder": "​",
            "_view_module": "@jupyter-widgets/controls",
            "_model_module_version": "1.5.0",
            "value": " 41967/41967 [03:13&lt;00:00, 216.54it/s]",
            "_view_count": null,
            "_view_module_version": "1.5.0",
            "description_tooltip": null,
            "_model_module": "@jupyter-widgets/controls",
            "layout": "IPY_MODEL_1d4b4b0d3f4e4f028e4eacf89bab1891"
          }
        },
        "8908a4a46b7d4d8ab68c2a3ae723c35e": {
          "model_module": "@jupyter-widgets/controls",
          "model_name": "ProgressStyleModel",
          "state": {
            "_view_name": "StyleView",
            "_model_name": "ProgressStyleModel",
            "description_width": "initial",
            "_view_module": "@jupyter-widgets/base",
            "_model_module_version": "1.5.0",
            "_view_count": null,
            "_view_module_version": "1.2.0",
            "bar_color": null,
            "_model_module": "@jupyter-widgets/controls"
          }
        },
        "9a79176138bf4f9c81ff1e72564ec0d6": {
          "model_module": "@jupyter-widgets/base",
          "model_name": "LayoutModel",
          "state": {
            "_view_name": "LayoutView",
            "grid_template_rows": null,
            "right": null,
            "justify_content": null,
            "_view_module": "@jupyter-widgets/base",
            "overflow": null,
            "_model_module_version": "1.2.0",
            "_view_count": null,
            "flex_flow": null,
            "width": null,
            "min_width": null,
            "border": null,
            "align_items": null,
            "bottom": null,
            "_model_module": "@jupyter-widgets/base",
            "top": null,
            "grid_column": null,
            "overflow_y": null,
            "overflow_x": null,
            "grid_auto_flow": null,
            "grid_area": null,
            "grid_template_columns": null,
            "flex": null,
            "_model_name": "LayoutModel",
            "justify_items": null,
            "grid_row": null,
            "max_height": null,
            "align_content": null,
            "visibility": null,
            "align_self": null,
            "height": null,
            "min_height": null,
            "padding": null,
            "grid_auto_rows": null,
            "grid_gap": null,
            "max_width": null,
            "order": null,
            "_view_module_version": "1.2.0",
            "grid_template_areas": null,
            "object_position": null,
            "object_fit": null,
            "grid_auto_columns": null,
            "margin": null,
            "display": null,
            "left": null
          }
        },
        "ccb407952efe45d693f33a7dad64a7a5": {
          "model_module": "@jupyter-widgets/controls",
          "model_name": "DescriptionStyleModel",
          "state": {
            "_view_name": "StyleView",
            "_model_name": "DescriptionStyleModel",
            "description_width": "",
            "_view_module": "@jupyter-widgets/base",
            "_model_module_version": "1.5.0",
            "_view_count": null,
            "_view_module_version": "1.2.0",
            "_model_module": "@jupyter-widgets/controls"
          }
        },
        "1d4b4b0d3f4e4f028e4eacf89bab1891": {
          "model_module": "@jupyter-widgets/base",
          "model_name": "LayoutModel",
          "state": {
            "_view_name": "LayoutView",
            "grid_template_rows": null,
            "right": null,
            "justify_content": null,
            "_view_module": "@jupyter-widgets/base",
            "overflow": null,
            "_model_module_version": "1.2.0",
            "_view_count": null,
            "flex_flow": null,
            "width": null,
            "min_width": null,
            "border": null,
            "align_items": null,
            "bottom": null,
            "_model_module": "@jupyter-widgets/base",
            "top": null,
            "grid_column": null,
            "overflow_y": null,
            "overflow_x": null,
            "grid_auto_flow": null,
            "grid_area": null,
            "grid_template_columns": null,
            "flex": null,
            "_model_name": "LayoutModel",
            "justify_items": null,
            "grid_row": null,
            "max_height": null,
            "align_content": null,
            "visibility": null,
            "align_self": null,
            "height": null,
            "min_height": null,
            "padding": null,
            "grid_auto_rows": null,
            "grid_gap": null,
            "max_width": null,
            "order": null,
            "_view_module_version": "1.2.0",
            "grid_template_areas": null,
            "object_position": null,
            "object_fit": null,
            "grid_auto_columns": null,
            "margin": null,
            "display": null,
            "left": null
          }
        },
        "36c71a307b3e473ebf5bc644317b7b77": {
          "model_module": "@jupyter-widgets/controls",
          "model_name": "HBoxModel",
          "state": {
            "_view_name": "HBoxView",
            "_dom_classes": [],
            "_model_name": "HBoxModel",
            "_view_module": "@jupyter-widgets/controls",
            "_model_module_version": "1.5.0",
            "_view_count": null,
            "_view_module_version": "1.5.0",
            "box_style": "",
            "layout": "IPY_MODEL_d324f1f10d954be08fadc5a68bcd6584",
            "_model_module": "@jupyter-widgets/controls",
            "children": [
              "IPY_MODEL_dcdfa2c6721c4809b03619ad80bb562d",
              "IPY_MODEL_f45f25c311d942be80f3f168b79e98b5"
            ]
          }
        },
        "d324f1f10d954be08fadc5a68bcd6584": {
          "model_module": "@jupyter-widgets/base",
          "model_name": "LayoutModel",
          "state": {
            "_view_name": "LayoutView",
            "grid_template_rows": null,
            "right": null,
            "justify_content": null,
            "_view_module": "@jupyter-widgets/base",
            "overflow": null,
            "_model_module_version": "1.2.0",
            "_view_count": null,
            "flex_flow": null,
            "width": null,
            "min_width": null,
            "border": null,
            "align_items": null,
            "bottom": null,
            "_model_module": "@jupyter-widgets/base",
            "top": null,
            "grid_column": null,
            "overflow_y": null,
            "overflow_x": null,
            "grid_auto_flow": null,
            "grid_area": null,
            "grid_template_columns": null,
            "flex": null,
            "_model_name": "LayoutModel",
            "justify_items": null,
            "grid_row": null,
            "max_height": null,
            "align_content": null,
            "visibility": null,
            "align_self": null,
            "height": null,
            "min_height": null,
            "padding": null,
            "grid_auto_rows": null,
            "grid_gap": null,
            "max_width": null,
            "order": null,
            "_view_module_version": "1.2.0",
            "grid_template_areas": null,
            "object_position": null,
            "object_fit": null,
            "grid_auto_columns": null,
            "margin": null,
            "display": null,
            "left": null
          }
        },
        "dcdfa2c6721c4809b03619ad80bb562d": {
          "model_module": "@jupyter-widgets/controls",
          "model_name": "FloatProgressModel",
          "state": {
            "_view_name": "ProgressView",
            "style": "IPY_MODEL_36a133653f834ca8a3e3a554067ebfbc",
            "_dom_classes": [],
            "description": "100%",
            "_model_name": "FloatProgressModel",
            "bar_style": "success",
            "max": 10,
            "_view_module": "@jupyter-widgets/controls",
            "_model_module_version": "1.5.0",
            "value": 10,
            "_view_count": null,
            "_view_module_version": "1.5.0",
            "orientation": "horizontal",
            "min": 0,
            "description_tooltip": null,
            "_model_module": "@jupyter-widgets/controls",
            "layout": "IPY_MODEL_00870c18846445b29f48874db0a772fc"
          }
        },
        "f45f25c311d942be80f3f168b79e98b5": {
          "model_module": "@jupyter-widgets/controls",
          "model_name": "HTMLModel",
          "state": {
            "_view_name": "HTMLView",
            "style": "IPY_MODEL_8ad1d2a7d8c1477491a55ea3db56f4a5",
            "_dom_classes": [],
            "description": "",
            "_model_name": "HTMLModel",
            "placeholder": "​",
            "_view_module": "@jupyter-widgets/controls",
            "_model_module_version": "1.5.0",
            "value": " 10/10 [00:01&lt;00:00,  9.24it/s]",
            "_view_count": null,
            "_view_module_version": "1.5.0",
            "description_tooltip": null,
            "_model_module": "@jupyter-widgets/controls",
            "layout": "IPY_MODEL_8192445b9a8e43dd8524e0274157fa53"
          }
        },
        "36a133653f834ca8a3e3a554067ebfbc": {
          "model_module": "@jupyter-widgets/controls",
          "model_name": "ProgressStyleModel",
          "state": {
            "_view_name": "StyleView",
            "_model_name": "ProgressStyleModel",
            "description_width": "initial",
            "_view_module": "@jupyter-widgets/base",
            "_model_module_version": "1.5.0",
            "_view_count": null,
            "_view_module_version": "1.2.0",
            "bar_color": null,
            "_model_module": "@jupyter-widgets/controls"
          }
        },
        "00870c18846445b29f48874db0a772fc": {
          "model_module": "@jupyter-widgets/base",
          "model_name": "LayoutModel",
          "state": {
            "_view_name": "LayoutView",
            "grid_template_rows": null,
            "right": null,
            "justify_content": null,
            "_view_module": "@jupyter-widgets/base",
            "overflow": null,
            "_model_module_version": "1.2.0",
            "_view_count": null,
            "flex_flow": null,
            "width": null,
            "min_width": null,
            "border": null,
            "align_items": null,
            "bottom": null,
            "_model_module": "@jupyter-widgets/base",
            "top": null,
            "grid_column": null,
            "overflow_y": null,
            "overflow_x": null,
            "grid_auto_flow": null,
            "grid_area": null,
            "grid_template_columns": null,
            "flex": null,
            "_model_name": "LayoutModel",
            "justify_items": null,
            "grid_row": null,
            "max_height": null,
            "align_content": null,
            "visibility": null,
            "align_self": null,
            "height": null,
            "min_height": null,
            "padding": null,
            "grid_auto_rows": null,
            "grid_gap": null,
            "max_width": null,
            "order": null,
            "_view_module_version": "1.2.0",
            "grid_template_areas": null,
            "object_position": null,
            "object_fit": null,
            "grid_auto_columns": null,
            "margin": null,
            "display": null,
            "left": null
          }
        },
        "8ad1d2a7d8c1477491a55ea3db56f4a5": {
          "model_module": "@jupyter-widgets/controls",
          "model_name": "DescriptionStyleModel",
          "state": {
            "_view_name": "StyleView",
            "_model_name": "DescriptionStyleModel",
            "description_width": "",
            "_view_module": "@jupyter-widgets/base",
            "_model_module_version": "1.5.0",
            "_view_count": null,
            "_view_module_version": "1.2.0",
            "_model_module": "@jupyter-widgets/controls"
          }
        },
        "8192445b9a8e43dd8524e0274157fa53": {
          "model_module": "@jupyter-widgets/base",
          "model_name": "LayoutModel",
          "state": {
            "_view_name": "LayoutView",
            "grid_template_rows": null,
            "right": null,
            "justify_content": null,
            "_view_module": "@jupyter-widgets/base",
            "overflow": null,
            "_model_module_version": "1.2.0",
            "_view_count": null,
            "flex_flow": null,
            "width": null,
            "min_width": null,
            "border": null,
            "align_items": null,
            "bottom": null,
            "_model_module": "@jupyter-widgets/base",
            "top": null,
            "grid_column": null,
            "overflow_y": null,
            "overflow_x": null,
            "grid_auto_flow": null,
            "grid_area": null,
            "grid_template_columns": null,
            "flex": null,
            "_model_name": "LayoutModel",
            "justify_items": null,
            "grid_row": null,
            "max_height": null,
            "align_content": null,
            "visibility": null,
            "align_self": null,
            "height": null,
            "min_height": null,
            "padding": null,
            "grid_auto_rows": null,
            "grid_gap": null,
            "max_width": null,
            "order": null,
            "_view_module_version": "1.2.0",
            "grid_template_areas": null,
            "object_position": null,
            "object_fit": null,
            "grid_auto_columns": null,
            "margin": null,
            "display": null,
            "left": null
          }
        },
        "d0a3163a881c4aeb811e605fc9a4e770": {
          "model_module": "@jupyter-widgets/controls",
          "model_name": "HBoxModel",
          "state": {
            "_view_name": "HBoxView",
            "_dom_classes": [],
            "_model_name": "HBoxModel",
            "_view_module": "@jupyter-widgets/controls",
            "_model_module_version": "1.5.0",
            "_view_count": null,
            "_view_module_version": "1.5.0",
            "box_style": "",
            "layout": "IPY_MODEL_cb67b703a4ef4fbdbd3569127eee7865",
            "_model_module": "@jupyter-widgets/controls",
            "children": [
              "IPY_MODEL_bb2a21fa91d545e08fa2ff2cc1b99201",
              "IPY_MODEL_32f9b8300ead4494a5a6c150d151a392"
            ]
          }
        },
        "cb67b703a4ef4fbdbd3569127eee7865": {
          "model_module": "@jupyter-widgets/base",
          "model_name": "LayoutModel",
          "state": {
            "_view_name": "LayoutView",
            "grid_template_rows": null,
            "right": null,
            "justify_content": null,
            "_view_module": "@jupyter-widgets/base",
            "overflow": null,
            "_model_module_version": "1.2.0",
            "_view_count": null,
            "flex_flow": null,
            "width": null,
            "min_width": null,
            "border": null,
            "align_items": null,
            "bottom": null,
            "_model_module": "@jupyter-widgets/base",
            "top": null,
            "grid_column": null,
            "overflow_y": null,
            "overflow_x": null,
            "grid_auto_flow": null,
            "grid_area": null,
            "grid_template_columns": null,
            "flex": null,
            "_model_name": "LayoutModel",
            "justify_items": null,
            "grid_row": null,
            "max_height": null,
            "align_content": null,
            "visibility": null,
            "align_self": null,
            "height": null,
            "min_height": null,
            "padding": null,
            "grid_auto_rows": null,
            "grid_gap": null,
            "max_width": null,
            "order": null,
            "_view_module_version": "1.2.0",
            "grid_template_areas": null,
            "object_position": null,
            "object_fit": null,
            "grid_auto_columns": null,
            "margin": null,
            "display": null,
            "left": null
          }
        },
        "bb2a21fa91d545e08fa2ff2cc1b99201": {
          "model_module": "@jupyter-widgets/controls",
          "model_name": "FloatProgressModel",
          "state": {
            "_view_name": "ProgressView",
            "style": "IPY_MODEL_4038e1d2a2ed40beb0ba9cf16f0561e7",
            "_dom_classes": [],
            "description": "100%",
            "_model_name": "FloatProgressModel",
            "bar_style": "success",
            "max": 41967,
            "_view_module": "@jupyter-widgets/controls",
            "_model_module_version": "1.5.0",
            "value": 41967,
            "_view_count": null,
            "_view_module_version": "1.5.0",
            "orientation": "horizontal",
            "min": 0,
            "description_tooltip": null,
            "_model_module": "@jupyter-widgets/controls",
            "layout": "IPY_MODEL_a70f37fa99c446d98234a94a3bb019dd"
          }
        },
        "32f9b8300ead4494a5a6c150d151a392": {
          "model_module": "@jupyter-widgets/controls",
          "model_name": "HTMLModel",
          "state": {
            "_view_name": "HTMLView",
            "style": "IPY_MODEL_ebf987b23b9f45758aa4eaf87a359ace",
            "_dom_classes": [],
            "description": "",
            "_model_name": "HTMLModel",
            "placeholder": "​",
            "_view_module": "@jupyter-widgets/controls",
            "_model_module_version": "1.5.0",
            "value": " 41967/41967 [03:12&lt;00:00, 217.95it/s]",
            "_view_count": null,
            "_view_module_version": "1.5.0",
            "description_tooltip": null,
            "_model_module": "@jupyter-widgets/controls",
            "layout": "IPY_MODEL_4a28f05fa2734b908711a20e736255cf"
          }
        },
        "4038e1d2a2ed40beb0ba9cf16f0561e7": {
          "model_module": "@jupyter-widgets/controls",
          "model_name": "ProgressStyleModel",
          "state": {
            "_view_name": "StyleView",
            "_model_name": "ProgressStyleModel",
            "description_width": "initial",
            "_view_module": "@jupyter-widgets/base",
            "_model_module_version": "1.5.0",
            "_view_count": null,
            "_view_module_version": "1.2.0",
            "bar_color": null,
            "_model_module": "@jupyter-widgets/controls"
          }
        },
        "a70f37fa99c446d98234a94a3bb019dd": {
          "model_module": "@jupyter-widgets/base",
          "model_name": "LayoutModel",
          "state": {
            "_view_name": "LayoutView",
            "grid_template_rows": null,
            "right": null,
            "justify_content": null,
            "_view_module": "@jupyter-widgets/base",
            "overflow": null,
            "_model_module_version": "1.2.0",
            "_view_count": null,
            "flex_flow": null,
            "width": null,
            "min_width": null,
            "border": null,
            "align_items": null,
            "bottom": null,
            "_model_module": "@jupyter-widgets/base",
            "top": null,
            "grid_column": null,
            "overflow_y": null,
            "overflow_x": null,
            "grid_auto_flow": null,
            "grid_area": null,
            "grid_template_columns": null,
            "flex": null,
            "_model_name": "LayoutModel",
            "justify_items": null,
            "grid_row": null,
            "max_height": null,
            "align_content": null,
            "visibility": null,
            "align_self": null,
            "height": null,
            "min_height": null,
            "padding": null,
            "grid_auto_rows": null,
            "grid_gap": null,
            "max_width": null,
            "order": null,
            "_view_module_version": "1.2.0",
            "grid_template_areas": null,
            "object_position": null,
            "object_fit": null,
            "grid_auto_columns": null,
            "margin": null,
            "display": null,
            "left": null
          }
        },
        "ebf987b23b9f45758aa4eaf87a359ace": {
          "model_module": "@jupyter-widgets/controls",
          "model_name": "DescriptionStyleModel",
          "state": {
            "_view_name": "StyleView",
            "_model_name": "DescriptionStyleModel",
            "description_width": "",
            "_view_module": "@jupyter-widgets/base",
            "_model_module_version": "1.5.0",
            "_view_count": null,
            "_view_module_version": "1.2.0",
            "_model_module": "@jupyter-widgets/controls"
          }
        },
        "4a28f05fa2734b908711a20e736255cf": {
          "model_module": "@jupyter-widgets/base",
          "model_name": "LayoutModel",
          "state": {
            "_view_name": "LayoutView",
            "grid_template_rows": null,
            "right": null,
            "justify_content": null,
            "_view_module": "@jupyter-widgets/base",
            "overflow": null,
            "_model_module_version": "1.2.0",
            "_view_count": null,
            "flex_flow": null,
            "width": null,
            "min_width": null,
            "border": null,
            "align_items": null,
            "bottom": null,
            "_model_module": "@jupyter-widgets/base",
            "top": null,
            "grid_column": null,
            "overflow_y": null,
            "overflow_x": null,
            "grid_auto_flow": null,
            "grid_area": null,
            "grid_template_columns": null,
            "flex": null,
            "_model_name": "LayoutModel",
            "justify_items": null,
            "grid_row": null,
            "max_height": null,
            "align_content": null,
            "visibility": null,
            "align_self": null,
            "height": null,
            "min_height": null,
            "padding": null,
            "grid_auto_rows": null,
            "grid_gap": null,
            "max_width": null,
            "order": null,
            "_view_module_version": "1.2.0",
            "grid_template_areas": null,
            "object_position": null,
            "object_fit": null,
            "grid_auto_columns": null,
            "margin": null,
            "display": null,
            "left": null
          }
        },
        "186bb2079f8f4965b98ab65db7a61290": {
          "model_module": "@jupyter-widgets/controls",
          "model_name": "HBoxModel",
          "state": {
            "_view_name": "HBoxView",
            "_dom_classes": [],
            "_model_name": "HBoxModel",
            "_view_module": "@jupyter-widgets/controls",
            "_model_module_version": "1.5.0",
            "_view_count": null,
            "_view_module_version": "1.5.0",
            "box_style": "",
            "layout": "IPY_MODEL_6bb62f3b16974a05ada620c272aa370a",
            "_model_module": "@jupyter-widgets/controls",
            "children": [
              "IPY_MODEL_a2a732dd6b2d4b35b207dae12aebba93",
              "IPY_MODEL_9266378d4bba4d1091565611493f0f81"
            ]
          }
        },
        "6bb62f3b16974a05ada620c272aa370a": {
          "model_module": "@jupyter-widgets/base",
          "model_name": "LayoutModel",
          "state": {
            "_view_name": "LayoutView",
            "grid_template_rows": null,
            "right": null,
            "justify_content": null,
            "_view_module": "@jupyter-widgets/base",
            "overflow": null,
            "_model_module_version": "1.2.0",
            "_view_count": null,
            "flex_flow": null,
            "width": null,
            "min_width": null,
            "border": null,
            "align_items": null,
            "bottom": null,
            "_model_module": "@jupyter-widgets/base",
            "top": null,
            "grid_column": null,
            "overflow_y": null,
            "overflow_x": null,
            "grid_auto_flow": null,
            "grid_area": null,
            "grid_template_columns": null,
            "flex": null,
            "_model_name": "LayoutModel",
            "justify_items": null,
            "grid_row": null,
            "max_height": null,
            "align_content": null,
            "visibility": null,
            "align_self": null,
            "height": null,
            "min_height": null,
            "padding": null,
            "grid_auto_rows": null,
            "grid_gap": null,
            "max_width": null,
            "order": null,
            "_view_module_version": "1.2.0",
            "grid_template_areas": null,
            "object_position": null,
            "object_fit": null,
            "grid_auto_columns": null,
            "margin": null,
            "display": null,
            "left": null
          }
        },
        "a2a732dd6b2d4b35b207dae12aebba93": {
          "model_module": "@jupyter-widgets/controls",
          "model_name": "FloatProgressModel",
          "state": {
            "_view_name": "ProgressView",
            "style": "IPY_MODEL_80142c8851ea4ea29d785dc68ec990a5",
            "_dom_classes": [],
            "description": "100%",
            "_model_name": "FloatProgressModel",
            "bar_style": "success",
            "max": 41967,
            "_view_module": "@jupyter-widgets/controls",
            "_model_module_version": "1.5.0",
            "value": 41967,
            "_view_count": null,
            "_view_module_version": "1.5.0",
            "orientation": "horizontal",
            "min": 0,
            "description_tooltip": null,
            "_model_module": "@jupyter-widgets/controls",
            "layout": "IPY_MODEL_f5c16f9877a444f2bce93eaf16a39242"
          }
        },
        "9266378d4bba4d1091565611493f0f81": {
          "model_module": "@jupyter-widgets/controls",
          "model_name": "HTMLModel",
          "state": {
            "_view_name": "HTMLView",
            "style": "IPY_MODEL_5ea1f73fad4849d2babaefc6d349bb3a",
            "_dom_classes": [],
            "description": "",
            "_model_name": "HTMLModel",
            "placeholder": "​",
            "_view_module": "@jupyter-widgets/controls",
            "_model_module_version": "1.5.0",
            "value": " 41967/41967 [00:04&lt;00:00, 8961.50it/s]",
            "_view_count": null,
            "_view_module_version": "1.5.0",
            "description_tooltip": null,
            "_model_module": "@jupyter-widgets/controls",
            "layout": "IPY_MODEL_bea4ba9017be4d95990bcfdb79854685"
          }
        },
        "80142c8851ea4ea29d785dc68ec990a5": {
          "model_module": "@jupyter-widgets/controls",
          "model_name": "ProgressStyleModel",
          "state": {
            "_view_name": "StyleView",
            "_model_name": "ProgressStyleModel",
            "description_width": "initial",
            "_view_module": "@jupyter-widgets/base",
            "_model_module_version": "1.5.0",
            "_view_count": null,
            "_view_module_version": "1.2.0",
            "bar_color": null,
            "_model_module": "@jupyter-widgets/controls"
          }
        },
        "f5c16f9877a444f2bce93eaf16a39242": {
          "model_module": "@jupyter-widgets/base",
          "model_name": "LayoutModel",
          "state": {
            "_view_name": "LayoutView",
            "grid_template_rows": null,
            "right": null,
            "justify_content": null,
            "_view_module": "@jupyter-widgets/base",
            "overflow": null,
            "_model_module_version": "1.2.0",
            "_view_count": null,
            "flex_flow": null,
            "width": null,
            "min_width": null,
            "border": null,
            "align_items": null,
            "bottom": null,
            "_model_module": "@jupyter-widgets/base",
            "top": null,
            "grid_column": null,
            "overflow_y": null,
            "overflow_x": null,
            "grid_auto_flow": null,
            "grid_area": null,
            "grid_template_columns": null,
            "flex": null,
            "_model_name": "LayoutModel",
            "justify_items": null,
            "grid_row": null,
            "max_height": null,
            "align_content": null,
            "visibility": null,
            "align_self": null,
            "height": null,
            "min_height": null,
            "padding": null,
            "grid_auto_rows": null,
            "grid_gap": null,
            "max_width": null,
            "order": null,
            "_view_module_version": "1.2.0",
            "grid_template_areas": null,
            "object_position": null,
            "object_fit": null,
            "grid_auto_columns": null,
            "margin": null,
            "display": null,
            "left": null
          }
        },
        "5ea1f73fad4849d2babaefc6d349bb3a": {
          "model_module": "@jupyter-widgets/controls",
          "model_name": "DescriptionStyleModel",
          "state": {
            "_view_name": "StyleView",
            "_model_name": "DescriptionStyleModel",
            "description_width": "",
            "_view_module": "@jupyter-widgets/base",
            "_model_module_version": "1.5.0",
            "_view_count": null,
            "_view_module_version": "1.2.0",
            "_model_module": "@jupyter-widgets/controls"
          }
        },
        "bea4ba9017be4d95990bcfdb79854685": {
          "model_module": "@jupyter-widgets/base",
          "model_name": "LayoutModel",
          "state": {
            "_view_name": "LayoutView",
            "grid_template_rows": null,
            "right": null,
            "justify_content": null,
            "_view_module": "@jupyter-widgets/base",
            "overflow": null,
            "_model_module_version": "1.2.0",
            "_view_count": null,
            "flex_flow": null,
            "width": null,
            "min_width": null,
            "border": null,
            "align_items": null,
            "bottom": null,
            "_model_module": "@jupyter-widgets/base",
            "top": null,
            "grid_column": null,
            "overflow_y": null,
            "overflow_x": null,
            "grid_auto_flow": null,
            "grid_area": null,
            "grid_template_columns": null,
            "flex": null,
            "_model_name": "LayoutModel",
            "justify_items": null,
            "grid_row": null,
            "max_height": null,
            "align_content": null,
            "visibility": null,
            "align_self": null,
            "height": null,
            "min_height": null,
            "padding": null,
            "grid_auto_rows": null,
            "grid_gap": null,
            "max_width": null,
            "order": null,
            "_view_module_version": "1.2.0",
            "grid_template_areas": null,
            "object_position": null,
            "object_fit": null,
            "grid_auto_columns": null,
            "margin": null,
            "display": null,
            "left": null
          }
        },
        "8ae0f7ce056242378ebae50fe9a139ca": {
          "model_module": "@jupyter-widgets/controls",
          "model_name": "HBoxModel",
          "state": {
            "_view_name": "HBoxView",
            "_dom_classes": [],
            "_model_name": "HBoxModel",
            "_view_module": "@jupyter-widgets/controls",
            "_model_module_version": "1.5.0",
            "_view_count": null,
            "_view_module_version": "1.5.0",
            "box_style": "",
            "layout": "IPY_MODEL_42f3f05d14a4471e91f669bd0e0e547c",
            "_model_module": "@jupyter-widgets/controls",
            "children": [
              "IPY_MODEL_8ff943a89ecf4865978e5aac33649485",
              "IPY_MODEL_e58731edbc0a448eb9767f60e67d379f"
            ]
          }
        },
        "42f3f05d14a4471e91f669bd0e0e547c": {
          "model_module": "@jupyter-widgets/base",
          "model_name": "LayoutModel",
          "state": {
            "_view_name": "LayoutView",
            "grid_template_rows": null,
            "right": null,
            "justify_content": null,
            "_view_module": "@jupyter-widgets/base",
            "overflow": null,
            "_model_module_version": "1.2.0",
            "_view_count": null,
            "flex_flow": null,
            "width": null,
            "min_width": null,
            "border": null,
            "align_items": null,
            "bottom": null,
            "_model_module": "@jupyter-widgets/base",
            "top": null,
            "grid_column": null,
            "overflow_y": null,
            "overflow_x": null,
            "grid_auto_flow": null,
            "grid_area": null,
            "grid_template_columns": null,
            "flex": null,
            "_model_name": "LayoutModel",
            "justify_items": null,
            "grid_row": null,
            "max_height": null,
            "align_content": null,
            "visibility": null,
            "align_self": null,
            "height": null,
            "min_height": null,
            "padding": null,
            "grid_auto_rows": null,
            "grid_gap": null,
            "max_width": null,
            "order": null,
            "_view_module_version": "1.2.0",
            "grid_template_areas": null,
            "object_position": null,
            "object_fit": null,
            "grid_auto_columns": null,
            "margin": null,
            "display": null,
            "left": null
          }
        },
        "8ff943a89ecf4865978e5aac33649485": {
          "model_module": "@jupyter-widgets/controls",
          "model_name": "FloatProgressModel",
          "state": {
            "_view_name": "ProgressView",
            "style": "IPY_MODEL_fe89a32c765b42878f8c8fb9c798a6bc",
            "_dom_classes": [],
            "description": "100%",
            "_model_name": "FloatProgressModel",
            "bar_style": "success",
            "max": 41967,
            "_view_module": "@jupyter-widgets/controls",
            "_model_module_version": "1.5.0",
            "value": 41967,
            "_view_count": null,
            "_view_module_version": "1.5.0",
            "orientation": "horizontal",
            "min": 0,
            "description_tooltip": null,
            "_model_module": "@jupyter-widgets/controls",
            "layout": "IPY_MODEL_36fa7761111246a084571562ed795c98"
          }
        },
        "e58731edbc0a448eb9767f60e67d379f": {
          "model_module": "@jupyter-widgets/controls",
          "model_name": "HTMLModel",
          "state": {
            "_view_name": "HTMLView",
            "style": "IPY_MODEL_7b248e27046d43a3a11ae5007010c1f2",
            "_dom_classes": [],
            "description": "",
            "_model_name": "HTMLModel",
            "placeholder": "​",
            "_view_module": "@jupyter-widgets/controls",
            "_model_module_version": "1.5.0",
            "value": " 41967/41967 [14:14&lt;00:00, 49.11it/s]",
            "_view_count": null,
            "_view_module_version": "1.5.0",
            "description_tooltip": null,
            "_model_module": "@jupyter-widgets/controls",
            "layout": "IPY_MODEL_429c33b137b74854b6ce7d4354ce67e5"
          }
        },
        "fe89a32c765b42878f8c8fb9c798a6bc": {
          "model_module": "@jupyter-widgets/controls",
          "model_name": "ProgressStyleModel",
          "state": {
            "_view_name": "StyleView",
            "_model_name": "ProgressStyleModel",
            "description_width": "initial",
            "_view_module": "@jupyter-widgets/base",
            "_model_module_version": "1.5.0",
            "_view_count": null,
            "_view_module_version": "1.2.0",
            "bar_color": null,
            "_model_module": "@jupyter-widgets/controls"
          }
        },
        "36fa7761111246a084571562ed795c98": {
          "model_module": "@jupyter-widgets/base",
          "model_name": "LayoutModel",
          "state": {
            "_view_name": "LayoutView",
            "grid_template_rows": null,
            "right": null,
            "justify_content": null,
            "_view_module": "@jupyter-widgets/base",
            "overflow": null,
            "_model_module_version": "1.2.0",
            "_view_count": null,
            "flex_flow": null,
            "width": null,
            "min_width": null,
            "border": null,
            "align_items": null,
            "bottom": null,
            "_model_module": "@jupyter-widgets/base",
            "top": null,
            "grid_column": null,
            "overflow_y": null,
            "overflow_x": null,
            "grid_auto_flow": null,
            "grid_area": null,
            "grid_template_columns": null,
            "flex": null,
            "_model_name": "LayoutModel",
            "justify_items": null,
            "grid_row": null,
            "max_height": null,
            "align_content": null,
            "visibility": null,
            "align_self": null,
            "height": null,
            "min_height": null,
            "padding": null,
            "grid_auto_rows": null,
            "grid_gap": null,
            "max_width": null,
            "order": null,
            "_view_module_version": "1.2.0",
            "grid_template_areas": null,
            "object_position": null,
            "object_fit": null,
            "grid_auto_columns": null,
            "margin": null,
            "display": null,
            "left": null
          }
        },
        "7b248e27046d43a3a11ae5007010c1f2": {
          "model_module": "@jupyter-widgets/controls",
          "model_name": "DescriptionStyleModel",
          "state": {
            "_view_name": "StyleView",
            "_model_name": "DescriptionStyleModel",
            "description_width": "",
            "_view_module": "@jupyter-widgets/base",
            "_model_module_version": "1.5.0",
            "_view_count": null,
            "_view_module_version": "1.2.0",
            "_model_module": "@jupyter-widgets/controls"
          }
        },
        "429c33b137b74854b6ce7d4354ce67e5": {
          "model_module": "@jupyter-widgets/base",
          "model_name": "LayoutModel",
          "state": {
            "_view_name": "LayoutView",
            "grid_template_rows": null,
            "right": null,
            "justify_content": null,
            "_view_module": "@jupyter-widgets/base",
            "overflow": null,
            "_model_module_version": "1.2.0",
            "_view_count": null,
            "flex_flow": null,
            "width": null,
            "min_width": null,
            "border": null,
            "align_items": null,
            "bottom": null,
            "_model_module": "@jupyter-widgets/base",
            "top": null,
            "grid_column": null,
            "overflow_y": null,
            "overflow_x": null,
            "grid_auto_flow": null,
            "grid_area": null,
            "grid_template_columns": null,
            "flex": null,
            "_model_name": "LayoutModel",
            "justify_items": null,
            "grid_row": null,
            "max_height": null,
            "align_content": null,
            "visibility": null,
            "align_self": null,
            "height": null,
            "min_height": null,
            "padding": null,
            "grid_auto_rows": null,
            "grid_gap": null,
            "max_width": null,
            "order": null,
            "_view_module_version": "1.2.0",
            "grid_template_areas": null,
            "object_position": null,
            "object_fit": null,
            "grid_auto_columns": null,
            "margin": null,
            "display": null,
            "left": null
          }
        },
        "f28e18ff8a804409ae9bcc4582b97e35": {
          "model_module": "@jupyter-widgets/controls",
          "model_name": "HBoxModel",
          "state": {
            "_view_name": "HBoxView",
            "_dom_classes": [],
            "_model_name": "HBoxModel",
            "_view_module": "@jupyter-widgets/controls",
            "_model_module_version": "1.5.0",
            "_view_count": null,
            "_view_module_version": "1.5.0",
            "box_style": "",
            "layout": "IPY_MODEL_9f7975419efe45b59132770dc471d12b",
            "_model_module": "@jupyter-widgets/controls",
            "children": [
              "IPY_MODEL_540f080057a14df2abb87ff7ea40935e",
              "IPY_MODEL_8deb98deb9f144658b55daad49f3dc62"
            ]
          }
        },
        "9f7975419efe45b59132770dc471d12b": {
          "model_module": "@jupyter-widgets/base",
          "model_name": "LayoutModel",
          "state": {
            "_view_name": "LayoutView",
            "grid_template_rows": null,
            "right": null,
            "justify_content": null,
            "_view_module": "@jupyter-widgets/base",
            "overflow": null,
            "_model_module_version": "1.2.0",
            "_view_count": null,
            "flex_flow": null,
            "width": null,
            "min_width": null,
            "border": null,
            "align_items": null,
            "bottom": null,
            "_model_module": "@jupyter-widgets/base",
            "top": null,
            "grid_column": null,
            "overflow_y": null,
            "overflow_x": null,
            "grid_auto_flow": null,
            "grid_area": null,
            "grid_template_columns": null,
            "flex": null,
            "_model_name": "LayoutModel",
            "justify_items": null,
            "grid_row": null,
            "max_height": null,
            "align_content": null,
            "visibility": null,
            "align_self": null,
            "height": null,
            "min_height": null,
            "padding": null,
            "grid_auto_rows": null,
            "grid_gap": null,
            "max_width": null,
            "order": null,
            "_view_module_version": "1.2.0",
            "grid_template_areas": null,
            "object_position": null,
            "object_fit": null,
            "grid_auto_columns": null,
            "margin": null,
            "display": null,
            "left": null
          }
        },
        "540f080057a14df2abb87ff7ea40935e": {
          "model_module": "@jupyter-widgets/controls",
          "model_name": "FloatProgressModel",
          "state": {
            "_view_name": "ProgressView",
            "style": "IPY_MODEL_f5786d50718242088072975accec3601",
            "_dom_classes": [],
            "description": "100%",
            "_model_name": "FloatProgressModel",
            "bar_style": "success",
            "max": 41967,
            "_view_module": "@jupyter-widgets/controls",
            "_model_module_version": "1.5.0",
            "value": 41967,
            "_view_count": null,
            "_view_module_version": "1.5.0",
            "orientation": "horizontal",
            "min": 0,
            "description_tooltip": null,
            "_model_module": "@jupyter-widgets/controls",
            "layout": "IPY_MODEL_3b7903239346416bb48515c045a264b4"
          }
        },
        "8deb98deb9f144658b55daad49f3dc62": {
          "model_module": "@jupyter-widgets/controls",
          "model_name": "HTMLModel",
          "state": {
            "_view_name": "HTMLView",
            "style": "IPY_MODEL_b9e5a7d34f184cd2a555c550d0a3aefc",
            "_dom_classes": [],
            "description": "",
            "_model_name": "HTMLModel",
            "placeholder": "​",
            "_view_module": "@jupyter-widgets/controls",
            "_model_module_version": "1.5.0",
            "value": " 41967/41967 [14:13&lt;00:00, 49.14it/s]",
            "_view_count": null,
            "_view_module_version": "1.5.0",
            "description_tooltip": null,
            "_model_module": "@jupyter-widgets/controls",
            "layout": "IPY_MODEL_7feba42ecb44494abb2b70a3d29a0ea3"
          }
        },
        "f5786d50718242088072975accec3601": {
          "model_module": "@jupyter-widgets/controls",
          "model_name": "ProgressStyleModel",
          "state": {
            "_view_name": "StyleView",
            "_model_name": "ProgressStyleModel",
            "description_width": "initial",
            "_view_module": "@jupyter-widgets/base",
            "_model_module_version": "1.5.0",
            "_view_count": null,
            "_view_module_version": "1.2.0",
            "bar_color": null,
            "_model_module": "@jupyter-widgets/controls"
          }
        },
        "3b7903239346416bb48515c045a264b4": {
          "model_module": "@jupyter-widgets/base",
          "model_name": "LayoutModel",
          "state": {
            "_view_name": "LayoutView",
            "grid_template_rows": null,
            "right": null,
            "justify_content": null,
            "_view_module": "@jupyter-widgets/base",
            "overflow": null,
            "_model_module_version": "1.2.0",
            "_view_count": null,
            "flex_flow": null,
            "width": null,
            "min_width": null,
            "border": null,
            "align_items": null,
            "bottom": null,
            "_model_module": "@jupyter-widgets/base",
            "top": null,
            "grid_column": null,
            "overflow_y": null,
            "overflow_x": null,
            "grid_auto_flow": null,
            "grid_area": null,
            "grid_template_columns": null,
            "flex": null,
            "_model_name": "LayoutModel",
            "justify_items": null,
            "grid_row": null,
            "max_height": null,
            "align_content": null,
            "visibility": null,
            "align_self": null,
            "height": null,
            "min_height": null,
            "padding": null,
            "grid_auto_rows": null,
            "grid_gap": null,
            "max_width": null,
            "order": null,
            "_view_module_version": "1.2.0",
            "grid_template_areas": null,
            "object_position": null,
            "object_fit": null,
            "grid_auto_columns": null,
            "margin": null,
            "display": null,
            "left": null
          }
        },
        "b9e5a7d34f184cd2a555c550d0a3aefc": {
          "model_module": "@jupyter-widgets/controls",
          "model_name": "DescriptionStyleModel",
          "state": {
            "_view_name": "StyleView",
            "_model_name": "DescriptionStyleModel",
            "description_width": "",
            "_view_module": "@jupyter-widgets/base",
            "_model_module_version": "1.5.0",
            "_view_count": null,
            "_view_module_version": "1.2.0",
            "_model_module": "@jupyter-widgets/controls"
          }
        },
        "7feba42ecb44494abb2b70a3d29a0ea3": {
          "model_module": "@jupyter-widgets/base",
          "model_name": "LayoutModel",
          "state": {
            "_view_name": "LayoutView",
            "grid_template_rows": null,
            "right": null,
            "justify_content": null,
            "_view_module": "@jupyter-widgets/base",
            "overflow": null,
            "_model_module_version": "1.2.0",
            "_view_count": null,
            "flex_flow": null,
            "width": null,
            "min_width": null,
            "border": null,
            "align_items": null,
            "bottom": null,
            "_model_module": "@jupyter-widgets/base",
            "top": null,
            "grid_column": null,
            "overflow_y": null,
            "overflow_x": null,
            "grid_auto_flow": null,
            "grid_area": null,
            "grid_template_columns": null,
            "flex": null,
            "_model_name": "LayoutModel",
            "justify_items": null,
            "grid_row": null,
            "max_height": null,
            "align_content": null,
            "visibility": null,
            "align_self": null,
            "height": null,
            "min_height": null,
            "padding": null,
            "grid_auto_rows": null,
            "grid_gap": null,
            "max_width": null,
            "order": null,
            "_view_module_version": "1.2.0",
            "grid_template_areas": null,
            "object_position": null,
            "object_fit": null,
            "grid_auto_columns": null,
            "margin": null,
            "display": null,
            "left": null
          }
        },
        "a1795f197f6b407ab7858e5281a77cdf": {
          "model_module": "@jupyter-widgets/controls",
          "model_name": "HBoxModel",
          "state": {
            "_view_name": "HBoxView",
            "_dom_classes": [],
            "_model_name": "HBoxModel",
            "_view_module": "@jupyter-widgets/controls",
            "_model_module_version": "1.5.0",
            "_view_count": null,
            "_view_module_version": "1.5.0",
            "box_style": "",
            "layout": "IPY_MODEL_605548ab413e4985b8869214d5fa9dce",
            "_model_module": "@jupyter-widgets/controls",
            "children": [
              "IPY_MODEL_e18d9595001a47bf9afff253fd6b77bf",
              "IPY_MODEL_8b43d708cf87416ab08d8600a43c173e"
            ]
          }
        },
        "605548ab413e4985b8869214d5fa9dce": {
          "model_module": "@jupyter-widgets/base",
          "model_name": "LayoutModel",
          "state": {
            "_view_name": "LayoutView",
            "grid_template_rows": null,
            "right": null,
            "justify_content": null,
            "_view_module": "@jupyter-widgets/base",
            "overflow": null,
            "_model_module_version": "1.2.0",
            "_view_count": null,
            "flex_flow": null,
            "width": null,
            "min_width": null,
            "border": null,
            "align_items": null,
            "bottom": null,
            "_model_module": "@jupyter-widgets/base",
            "top": null,
            "grid_column": null,
            "overflow_y": null,
            "overflow_x": null,
            "grid_auto_flow": null,
            "grid_area": null,
            "grid_template_columns": null,
            "flex": null,
            "_model_name": "LayoutModel",
            "justify_items": null,
            "grid_row": null,
            "max_height": null,
            "align_content": null,
            "visibility": null,
            "align_self": null,
            "height": null,
            "min_height": null,
            "padding": null,
            "grid_auto_rows": null,
            "grid_gap": null,
            "max_width": null,
            "order": null,
            "_view_module_version": "1.2.0",
            "grid_template_areas": null,
            "object_position": null,
            "object_fit": null,
            "grid_auto_columns": null,
            "margin": null,
            "display": null,
            "left": null
          }
        },
        "e18d9595001a47bf9afff253fd6b77bf": {
          "model_module": "@jupyter-widgets/controls",
          "model_name": "FloatProgressModel",
          "state": {
            "_view_name": "ProgressView",
            "style": "IPY_MODEL_10724a1d54e74a1298dea061a9f5e906",
            "_dom_classes": [],
            "description": "100%",
            "_model_name": "FloatProgressModel",
            "bar_style": "success",
            "max": 10,
            "_view_module": "@jupyter-widgets/controls",
            "_model_module_version": "1.5.0",
            "value": 10,
            "_view_count": null,
            "_view_module_version": "1.5.0",
            "orientation": "horizontal",
            "min": 0,
            "description_tooltip": null,
            "_model_module": "@jupyter-widgets/controls",
            "layout": "IPY_MODEL_82c0cf069a874c0ba74f32bbfb0660dd"
          }
        },
        "8b43d708cf87416ab08d8600a43c173e": {
          "model_module": "@jupyter-widgets/controls",
          "model_name": "HTMLModel",
          "state": {
            "_view_name": "HTMLView",
            "style": "IPY_MODEL_6ccec32c58b9451b9f8eb233369a819b",
            "_dom_classes": [],
            "description": "",
            "_model_name": "HTMLModel",
            "placeholder": "​",
            "_view_module": "@jupyter-widgets/controls",
            "_model_module_version": "1.5.0",
            "value": " 10/10 [00:00&lt;00:00, 130.66it/s]",
            "_view_count": null,
            "_view_module_version": "1.5.0",
            "description_tooltip": null,
            "_model_module": "@jupyter-widgets/controls",
            "layout": "IPY_MODEL_5a2685d05cd8494b92a211d2d747f921"
          }
        },
        "10724a1d54e74a1298dea061a9f5e906": {
          "model_module": "@jupyter-widgets/controls",
          "model_name": "ProgressStyleModel",
          "state": {
            "_view_name": "StyleView",
            "_model_name": "ProgressStyleModel",
            "description_width": "initial",
            "_view_module": "@jupyter-widgets/base",
            "_model_module_version": "1.5.0",
            "_view_count": null,
            "_view_module_version": "1.2.0",
            "bar_color": null,
            "_model_module": "@jupyter-widgets/controls"
          }
        },
        "82c0cf069a874c0ba74f32bbfb0660dd": {
          "model_module": "@jupyter-widgets/base",
          "model_name": "LayoutModel",
          "state": {
            "_view_name": "LayoutView",
            "grid_template_rows": null,
            "right": null,
            "justify_content": null,
            "_view_module": "@jupyter-widgets/base",
            "overflow": null,
            "_model_module_version": "1.2.0",
            "_view_count": null,
            "flex_flow": null,
            "width": null,
            "min_width": null,
            "border": null,
            "align_items": null,
            "bottom": null,
            "_model_module": "@jupyter-widgets/base",
            "top": null,
            "grid_column": null,
            "overflow_y": null,
            "overflow_x": null,
            "grid_auto_flow": null,
            "grid_area": null,
            "grid_template_columns": null,
            "flex": null,
            "_model_name": "LayoutModel",
            "justify_items": null,
            "grid_row": null,
            "max_height": null,
            "align_content": null,
            "visibility": null,
            "align_self": null,
            "height": null,
            "min_height": null,
            "padding": null,
            "grid_auto_rows": null,
            "grid_gap": null,
            "max_width": null,
            "order": null,
            "_view_module_version": "1.2.0",
            "grid_template_areas": null,
            "object_position": null,
            "object_fit": null,
            "grid_auto_columns": null,
            "margin": null,
            "display": null,
            "left": null
          }
        },
        "6ccec32c58b9451b9f8eb233369a819b": {
          "model_module": "@jupyter-widgets/controls",
          "model_name": "DescriptionStyleModel",
          "state": {
            "_view_name": "StyleView",
            "_model_name": "DescriptionStyleModel",
            "description_width": "",
            "_view_module": "@jupyter-widgets/base",
            "_model_module_version": "1.5.0",
            "_view_count": null,
            "_view_module_version": "1.2.0",
            "_model_module": "@jupyter-widgets/controls"
          }
        },
        "5a2685d05cd8494b92a211d2d747f921": {
          "model_module": "@jupyter-widgets/base",
          "model_name": "LayoutModel",
          "state": {
            "_view_name": "LayoutView",
            "grid_template_rows": null,
            "right": null,
            "justify_content": null,
            "_view_module": "@jupyter-widgets/base",
            "overflow": null,
            "_model_module_version": "1.2.0",
            "_view_count": null,
            "flex_flow": null,
            "width": null,
            "min_width": null,
            "border": null,
            "align_items": null,
            "bottom": null,
            "_model_module": "@jupyter-widgets/base",
            "top": null,
            "grid_column": null,
            "overflow_y": null,
            "overflow_x": null,
            "grid_auto_flow": null,
            "grid_area": null,
            "grid_template_columns": null,
            "flex": null,
            "_model_name": "LayoutModel",
            "justify_items": null,
            "grid_row": null,
            "max_height": null,
            "align_content": null,
            "visibility": null,
            "align_self": null,
            "height": null,
            "min_height": null,
            "padding": null,
            "grid_auto_rows": null,
            "grid_gap": null,
            "max_width": null,
            "order": null,
            "_view_module_version": "1.2.0",
            "grid_template_areas": null,
            "object_position": null,
            "object_fit": null,
            "grid_auto_columns": null,
            "margin": null,
            "display": null,
            "left": null
          }
        },
        "aaf029f9bbb747bfae72923e579a1433": {
          "model_module": "@jupyter-widgets/controls",
          "model_name": "HBoxModel",
          "state": {
            "_view_name": "HBoxView",
            "_dom_classes": [],
            "_model_name": "HBoxModel",
            "_view_module": "@jupyter-widgets/controls",
            "_model_module_version": "1.5.0",
            "_view_count": null,
            "_view_module_version": "1.5.0",
            "box_style": "",
            "layout": "IPY_MODEL_5619afb490e64531af7e2b25e88b7b29",
            "_model_module": "@jupyter-widgets/controls",
            "children": [
              "IPY_MODEL_77b74ffd3ca2429d8912c5f4e610278c",
              "IPY_MODEL_45cbf0378561411b8af3ec2b0f7dd85f"
            ]
          }
        },
        "5619afb490e64531af7e2b25e88b7b29": {
          "model_module": "@jupyter-widgets/base",
          "model_name": "LayoutModel",
          "state": {
            "_view_name": "LayoutView",
            "grid_template_rows": null,
            "right": null,
            "justify_content": null,
            "_view_module": "@jupyter-widgets/base",
            "overflow": null,
            "_model_module_version": "1.2.0",
            "_view_count": null,
            "flex_flow": null,
            "width": null,
            "min_width": null,
            "border": null,
            "align_items": null,
            "bottom": null,
            "_model_module": "@jupyter-widgets/base",
            "top": null,
            "grid_column": null,
            "overflow_y": null,
            "overflow_x": null,
            "grid_auto_flow": null,
            "grid_area": null,
            "grid_template_columns": null,
            "flex": null,
            "_model_name": "LayoutModel",
            "justify_items": null,
            "grid_row": null,
            "max_height": null,
            "align_content": null,
            "visibility": null,
            "align_self": null,
            "height": null,
            "min_height": null,
            "padding": null,
            "grid_auto_rows": null,
            "grid_gap": null,
            "max_width": null,
            "order": null,
            "_view_module_version": "1.2.0",
            "grid_template_areas": null,
            "object_position": null,
            "object_fit": null,
            "grid_auto_columns": null,
            "margin": null,
            "display": null,
            "left": null
          }
        },
        "77b74ffd3ca2429d8912c5f4e610278c": {
          "model_module": "@jupyter-widgets/controls",
          "model_name": "FloatProgressModel",
          "state": {
            "_view_name": "ProgressView",
            "style": "IPY_MODEL_63b14f96e5a84c7783bc405407eb0ba9",
            "_dom_classes": [],
            "description": "100%",
            "_model_name": "FloatProgressModel",
            "bar_style": "success",
            "max": 41967,
            "_view_module": "@jupyter-widgets/controls",
            "_model_module_version": "1.5.0",
            "value": 41967,
            "_view_count": null,
            "_view_module_version": "1.5.0",
            "orientation": "horizontal",
            "min": 0,
            "description_tooltip": null,
            "_model_module": "@jupyter-widgets/controls",
            "layout": "IPY_MODEL_870fbd740fb34da19e8f64fcca5a988e"
          }
        },
        "45cbf0378561411b8af3ec2b0f7dd85f": {
          "model_module": "@jupyter-widgets/controls",
          "model_name": "HTMLModel",
          "state": {
            "_view_name": "HTMLView",
            "style": "IPY_MODEL_f1c9c3d031e2480bbbee9110e4f8723f",
            "_dom_classes": [],
            "description": "",
            "_model_name": "HTMLModel",
            "placeholder": "​",
            "_view_module": "@jupyter-widgets/controls",
            "_model_module_version": "1.5.0",
            "value": " 41967/41967 [14:12&lt;00:00, 49.25it/s]",
            "_view_count": null,
            "_view_module_version": "1.5.0",
            "description_tooltip": null,
            "_model_module": "@jupyter-widgets/controls",
            "layout": "IPY_MODEL_2452e204aa994e908ef7096985633a43"
          }
        },
        "63b14f96e5a84c7783bc405407eb0ba9": {
          "model_module": "@jupyter-widgets/controls",
          "model_name": "ProgressStyleModel",
          "state": {
            "_view_name": "StyleView",
            "_model_name": "ProgressStyleModel",
            "description_width": "initial",
            "_view_module": "@jupyter-widgets/base",
            "_model_module_version": "1.5.0",
            "_view_count": null,
            "_view_module_version": "1.2.0",
            "bar_color": null,
            "_model_module": "@jupyter-widgets/controls"
          }
        },
        "870fbd740fb34da19e8f64fcca5a988e": {
          "model_module": "@jupyter-widgets/base",
          "model_name": "LayoutModel",
          "state": {
            "_view_name": "LayoutView",
            "grid_template_rows": null,
            "right": null,
            "justify_content": null,
            "_view_module": "@jupyter-widgets/base",
            "overflow": null,
            "_model_module_version": "1.2.0",
            "_view_count": null,
            "flex_flow": null,
            "width": null,
            "min_width": null,
            "border": null,
            "align_items": null,
            "bottom": null,
            "_model_module": "@jupyter-widgets/base",
            "top": null,
            "grid_column": null,
            "overflow_y": null,
            "overflow_x": null,
            "grid_auto_flow": null,
            "grid_area": null,
            "grid_template_columns": null,
            "flex": null,
            "_model_name": "LayoutModel",
            "justify_items": null,
            "grid_row": null,
            "max_height": null,
            "align_content": null,
            "visibility": null,
            "align_self": null,
            "height": null,
            "min_height": null,
            "padding": null,
            "grid_auto_rows": null,
            "grid_gap": null,
            "max_width": null,
            "order": null,
            "_view_module_version": "1.2.0",
            "grid_template_areas": null,
            "object_position": null,
            "object_fit": null,
            "grid_auto_columns": null,
            "margin": null,
            "display": null,
            "left": null
          }
        },
        "f1c9c3d031e2480bbbee9110e4f8723f": {
          "model_module": "@jupyter-widgets/controls",
          "model_name": "DescriptionStyleModel",
          "state": {
            "_view_name": "StyleView",
            "_model_name": "DescriptionStyleModel",
            "description_width": "",
            "_view_module": "@jupyter-widgets/base",
            "_model_module_version": "1.5.0",
            "_view_count": null,
            "_view_module_version": "1.2.0",
            "_model_module": "@jupyter-widgets/controls"
          }
        },
        "2452e204aa994e908ef7096985633a43": {
          "model_module": "@jupyter-widgets/base",
          "model_name": "LayoutModel",
          "state": {
            "_view_name": "LayoutView",
            "grid_template_rows": null,
            "right": null,
            "justify_content": null,
            "_view_module": "@jupyter-widgets/base",
            "overflow": null,
            "_model_module_version": "1.2.0",
            "_view_count": null,
            "flex_flow": null,
            "width": null,
            "min_width": null,
            "border": null,
            "align_items": null,
            "bottom": null,
            "_model_module": "@jupyter-widgets/base",
            "top": null,
            "grid_column": null,
            "overflow_y": null,
            "overflow_x": null,
            "grid_auto_flow": null,
            "grid_area": null,
            "grid_template_columns": null,
            "flex": null,
            "_model_name": "LayoutModel",
            "justify_items": null,
            "grid_row": null,
            "max_height": null,
            "align_content": null,
            "visibility": null,
            "align_self": null,
            "height": null,
            "min_height": null,
            "padding": null,
            "grid_auto_rows": null,
            "grid_gap": null,
            "max_width": null,
            "order": null,
            "_view_module_version": "1.2.0",
            "grid_template_areas": null,
            "object_position": null,
            "object_fit": null,
            "grid_auto_columns": null,
            "margin": null,
            "display": null,
            "left": null
          }
        }
      }
    }
  },
  "cells": [
    {
      "cell_type": "markdown",
      "metadata": {
        "id": "view-in-github",
        "colab_type": "text"
      },
      "source": [
        "<a href=\"https://colab.research.google.com/github/samantamrityunjay/ICDcoding/blob/master/NonAI_similarity.ipynb\" target=\"_parent\"><img src=\"https://colab.research.google.com/assets/colab-badge.svg\" alt=\"Open In Colab\"/></a>"
      ]
    },
    {
      "cell_type": "code",
      "metadata": {
        "colab": {
          "base_uri": "https://localhost:8080/"
        },
        "id": "D6PjZ-EoY15b",
        "outputId": "9e51236c-4e73-476e-ab3f-4056a76a238a"
      },
      "source": [
        "from google.colab import drive\n",
        "drive.mount('/content/drive')"
      ],
      "execution_count": 1,
      "outputs": [
        {
          "output_type": "stream",
          "text": [
            "Mounted at /content/drive\n"
          ],
          "name": "stdout"
        }
      ]
    },
    {
      "cell_type": "code",
      "metadata": {
        "id": "l3Dwj3SIY9ke"
      },
      "source": [
        "import pandas as pd\n",
        "import numpy as np\n",
        "from collections import Counter\n",
        "import re\n",
        "import tqdm \n",
        "from tqdm import tqdm\n",
        "from tqdm.notebook import tqdm_notebook\n",
        "tqdm_notebook.pandas()\n",
        "from ast import literal_eval\n",
        "# import nltk\n",
        "# nltk.download('punkt')\n",
        "# from nltk.tokenize import word_tokenize\n",
        "# import string\n",
        "pd.set_option(\"display.max_colwidth\",None)"
      ],
      "execution_count": 2,
      "outputs": []
    },
    {
      "cell_type": "code",
      "metadata": {
        "colab": {
          "base_uri": "https://localhost:8080/"
        },
        "id": "opLR7xC7XKCU",
        "outputId": "3856f157-4329-4d21-b3f1-a8efc39678d5"
      },
      "source": [
        "from gensim.models import KeyedVectors\n",
        "%time model = KeyedVectors.load_word2vec_format(\"/content/drive/MyDrive/BioVecModels/biowordvec\", binary=True,limit=1000000)"
      ],
      "execution_count": 3,
      "outputs": [
        {
          "output_type": "stream",
          "text": [
            "CPU times: user 14.6 s, sys: 1.24 s, total: 15.8 s\n",
            "Wall time: 19.9 s\n"
          ],
          "name": "stdout"
        }
      ]
    },
    {
      "cell_type": "code",
      "metadata": {
        "id": "3m8xH-M-aFJE"
      },
      "source": [
        "frequent_icd9category=['401','427','276','414','272','250','428','518','285','584']"
      ],
      "execution_count": 4,
      "outputs": []
    },
    {
      "cell_type": "code",
      "metadata": {
        "id": "q805RbhkE7x-"
      },
      "source": [
        ""
      ],
      "execution_count": 4,
      "outputs": []
    },
    {
      "cell_type": "code",
      "metadata": {
        "id": "exuVpCH0ej7Y"
      },
      "source": [
        "diagnosis_icd9category_token=pd.read_csv(\"/content/drive/My Drive/AlgoIntern/Data/Data2.0/diagnosis_icd9category1.csv\")"
      ],
      "execution_count": 5,
      "outputs": []
    },
    {
      "cell_type": "code",
      "metadata": {
        "colab": {
          "base_uri": "https://localhost:8080/",
          "height": 1000
        },
        "id": "nf-9GlWhElhU",
        "outputId": "25e00272-7b42-4033-89aa-5c6a48ba811f"
      },
      "source": [
        "diagnosis_icd9category_token"
      ],
      "execution_count": 6,
      "outputs": [
        {
          "output_type": "execute_result",
          "data": {
            "text/html": [
              "<div>\n",
              "<style scoped>\n",
              "    .dataframe tbody tr th:only-of-type {\n",
              "        vertical-align: middle;\n",
              "    }\n",
              "\n",
              "    .dataframe tbody tr th {\n",
              "        vertical-align: top;\n",
              "    }\n",
              "\n",
              "    .dataframe thead th {\n",
              "        text-align: right;\n",
              "    }\n",
              "</style>\n",
              "<table border=\"1\" class=\"dataframe\">\n",
              "  <thead>\n",
              "    <tr style=\"text-align: right;\">\n",
              "      <th></th>\n",
              "      <th>HADM_ID</th>\n",
              "      <th>discharge diagnosis:</th>\n",
              "      <th>icd9_category</th>\n",
              "      <th>medical_terms_list</th>\n",
              "    </tr>\n",
              "  </thead>\n",
              "  <tbody>\n",
              "    <tr>\n",
              "      <th>0</th>\n",
              "      <td>167118.0</td>\n",
              "      <td>discharge diagnosis:  copd, coronary artery disease/atypical angina (lad 30%, rca 30%,  ef 63%), hypercholesterolemia, hypothyroidism, hypertension,  hiatal hernia, cerebral vascular accident,s/p motor vehicle  colision-&gt; head injury &amp; rib fracture.  tbm- s/p tracheoplasty.      discharge condition:  good    discharge instructions:  please update dr.&lt;name&gt; &lt;telephone&gt; office for:  fever,  shortness of breath, chest pain , productive cough or if you  have any questions or concerns.      completed by: &lt;date&gt;</td>\n",
              "      <td>['496', '553', '518', '453', '519', '276']</td>\n",
              "      <td>['hypercholesterolemia', 'cerebral', 'hypothyroidism', 'cough', 'accident', 'hypertension', 'artery', 'chest', 'vascular', 'coronary', 'fracture', 'injury', 'angina', 'pain', 'head']</td>\n",
              "    </tr>\n",
              "    <tr>\n",
              "      <th>1</th>\n",
              "      <td>196489.0</td>\n",
              "      <td>discharge diagnosis:  primary:  1. chronic obstructive pulmonary disease exacerbation  2. respiratory failure with intubation  3. upper gastrointestinal bleed/peptic ulcer disease  4. hypertension  5. anxiety    secondary:  1. coronary artery disease  2. hypothyroidism      discharge condition:  mental status: confused - sometimes.  level of consciousness: alert and interactive.  activity status: out of bed with assistance to chair or  wheelchair.      discharge instructions:  you were admitted to the hospital with shortness of breath and  respiratory failure and lethargy. in the emergency department,  you were breathing very fast and a breathing tube was inserted  into your airway to help you breathe. you were admitted to the  intensive care unit. there, you were managed with steroids and  antibiotics and the tube was eventually removed from your  airway, allowing you to breathe on your own. you also underwent  bronchoscopy which looked at the inside of your airways.  .  during your time in the intensive care unit, you developed a  gastrointestinal bleed. a tube was placed into your stomach and  you underwent an endoscopic procedure to look at your esophagus  and stomach. this showed inflammation in your esophagusand  ulcers in your stomach.  .  you should continue to use nasal oxygen by nasal cannula as  needed. you should continue the steroid taper as instructed. you  should call your doctor or return to the emergency room if you  have increasing difficulty breathing or shortness of breath,  wheezing, chest pain, blood in your stool or vomiting blood.  .  there are some changes in your medications.  start pantoprazole 40 mg twice daily and stop omeprazole  start hydrochlorothiazide  start prednisone, taking 30 mg for 3 days, then 20 mg for 4  days, then 10 mg for 4 days, then 5 mg for 4 days, then stop.  start colace and senna as needed for constipation  can use morphine to alleviate symptoms of respiratory discomfort  stop furosemide  stop zolpidem  stop aspirin  increase diovan to 240 mg daily  decrease trazodone to 50 mg daily  .  follow up as indicated below.    followup instructions:  you have an appointment to follow up with dr. &lt;name&gt;, your  primary care physician, &lt;name&gt; [**8-29**] at 1pm. his address is [**location (un) 1822**], [**apartment address(1) 1823**], [**location (un) **],[**numeric identifier 1700**]. the phone is  &lt;telephone&gt;.    you have an appointment to follow up with dr. &lt;name&gt; &lt;name&gt; in  the  &lt;name&gt; at &lt;hospital&gt; on the [**location (un) 453**]. their phone number is  &lt;telephone&gt;.    department: div. of gastroenterology  when: wednesday  &lt;date&gt;  at 3:00 pm  with: &lt;name&gt; &lt;name&gt;, md &lt;telephone&gt;  building: ra &lt;name&gt; (&lt;name&gt;/&lt;name&gt; complex) [**location (un) **]  campus: east     best parking: main garage</td>\n",
              "      <td>['487', '416', '272', '530', '414', '553', '531', '518', '401', '519', '348', 'V02', '359', '584', '458', '578', '491', 'E93', '276', '244']</td>\n",
              "      <td>['pulmonary', 'hypertension', 'of', 'obstructive', 'discomfort', 'gastrointestinal', 'constipation', 'oxygen', 'breath', 'inflammation', 'artery', 'chest', 'hydrochlorothiazide', 'steroid', 'anxiety', 'omeprazole', 'senna', 'trazodone', 'failure', 'shortness', 'disease', 'pantoprazole', 'aspirin', 'hypothyroidism', 'zolpidem', 'furosemide', 'coronary', 'prednisone', 'lethargy', 'steroids', 'ulcer', 'chronic', 'respiratory', 'morphine', 'pain']</td>\n",
              "    </tr>\n",
              "    <tr>\n",
              "      <th>2</th>\n",
              "      <td>135453.0</td>\n",
              "      <td>discharge diagnosis:  1. cervical spondylosis with calcification of posterior  longitudinal ligament.  2. fracture dislocation c6-c7.  3. ossification of the posterior longitudinal ligament.  4. aspiration pneumonia      1. cervical spondylosis with calcification of posterior      longitudinal ligament.  2. fracture dislocation c6-c7.  3. ossification of the posterior longitudinal ligament.  4. aspiration pneumonia    1. cervical spondylosis with calcification of posterior      longitudinal ligament.  2. fracture dislocation c6-c7.  3. ossification of the posterior longitudinal ligament.  4. aspiration pneumonia      discharge condition:  stable to outside facility      discharge instructions:  patient has been made cmo at the request of him and his family.  he has a foley placed for urinary retention. please use morphine  as needed for pain and olanzapine as needed for agitiation.  patient has known history of aspiration documented on speech and  swallow. it is the patient and the family's wish for him to  continue to eat and drink as desired.    followup instructions:  follow up with your primary care physician as needed.</td>\n",
              "      <td>['V12', '788', '805', '507', 'V45', '401', '427', '453', 'E88', '293', '802', '428']</td>\n",
              "      <td>['ligament', 'spondylosis', 'of', 'cervical', 'urinary', 'posterior', 'calcification', 'olanzapine', 'fracture', 'pneumonia', 'dislocation', 'retention', 'longitudinal', 'morphine', 'pain']</td>\n",
              "    </tr>\n",
              "    <tr>\n",
              "      <th>3</th>\n",
              "      <td>170490.0</td>\n",
              "      <td>discharge diagnosis:  brain lesion    discharge condition:  mental status: clear and coherent.  level of consciousness: alert and interactive.  activity status: ambulatory - independent.  neuro exam intact.    discharge instructions:  ??????\\thave a friend/family member check your incision daily for  signs of infection.  ??????\\ttake your pain medicine as prescribed.  ??????\\texercise should be limited to walking; no lifting, straining,  or excessive bending.  ??????\\tyou have dissolvable sutures, you must keep that area dry for  10 days.  ??????\\tyou may shower before this time using a shower cap to cover  your head.  ??????\\tincrease your intake of fluids and fiber, as narcotic pain  medicine can cause constipation. we generally recommend taking  an over the counter stool softener, such as docusate (colace)  while taking narcotic pain medication.  ??????\\tunless directed by your doctor, do not take any  anti-inflammatory medicines such as motrin, aspirin, advil, and  ibuprofen etc.  ??????\\tif you have been prescribed dilantin (phenytoin) for  anti-seizure medicine, take it as prescribed and follow up with  laboratory blood drawing in one week.  this can be drawn at your  pcp??????s office, but please have the results faxed to &lt;telephone&gt;.  if you have been discharged on keppra (levetiracetam), you will  not require blood work monitoring.  ??????\\tif you are being sent home on steroid medication, make sure  you are taking a medication to protect your stomach (prilosec,  protonix, or pepcid), as these medications can cause stomach  irritation.  make sure to take your steroid medication with  meals, or a glass of milk.  ??????\\tclearance to drive and return to work will be addressed at  your post-operative office visit.  ??????\\tmake sure to continue to use your incentive spirometer while  at home.  call your surgeon immediately if you experience any of the  following    ??????\\tnew onset of tremors or seizures.  ??????\\tany confusion or change in mental status.  ??????\\tany numbness, tingling, weakness in your extremities.  ??????\\tpain or headache that is continually increasing, or not  relieved by pain medication.  ??????\\tany signs of infection at the wound site: increasing redness,  increased swelling, increased tenderness, or drainage.  ??????\\tfever greater than or equal to 101?????? f.    followup instructions:  ??????\\tplease return to the office in [**6-28**] days (from your date of  surgery) for a wound check. this appointment can be made with  the nurse practitioner.  please make this appointment by calling  &lt;telephone&gt;. if you live quite a distance from our office,  please make arrangements for the same, with your pcp.</td>\n",
              "      <td>['710', '225', '443', '714', '530', 'V43']</td>\n",
              "      <td>['motrin', 'aspirin', 'levetiracetam', 'seizures', 'weakness', 'phenytoin', 'fever', 'redness', 'tenderness', 'docusate', 'infection', 'steroid', 'tingling', 'confusion', 'headache', 'constipation', 'tremors', 'numbness', 'pain']</td>\n",
              "    </tr>\n",
              "    <tr>\n",
              "      <th>4</th>\n",
              "      <td>134727.0</td>\n",
              "      <td>discharge diagnosis:  pneumonia    discharge condition:  expired    discharge instructions:  na    followup instructions:  na                                 &lt;name&gt; &lt;name&gt; md [**md number(2) 1851**]</td>\n",
              "      <td>['486', '518', 'V45', 'V58', '401', '577', '415', '428']</td>\n",
              "      <td>[]</td>\n",
              "    </tr>\n",
              "    <tr>\n",
              "      <th>...</th>\n",
              "      <td>...</td>\n",
              "      <td>...</td>\n",
              "      <td>...</td>\n",
              "      <td>...</td>\n",
              "    </tr>\n",
              "    <tr>\n",
              "      <th>41962</th>\n",
              "      <td>127716.0</td>\n",
              "      <td>discharge diagnosis:  aortic stenosis and coronary artery disease s/p aortic valve  replacement and coronary artery bypass graft  past medical history:  hypertension  hyperlipidemia  diabetes mellitus  osteoarthritis  phlebitis  lung cancer  hiatal hernia  hypthyroidism  s/p right lobectomy [**2117**]  s/p lymph node dissection in neck  s/p beast lumpectomy  s/p hysterectomy  s/p c section  s/p tonsillectomy      discharge condition:  alert and oriented x3 nonfocal  ambulating, steady gait  incisional pain managed with ultram  incisions:  sternal - healing well, no erythema or drainage  1+ le edema      discharge instructions:  please shower daily including washing incisions gently with mild  soap, no baths or swimming until cleared by surgeon. look at  your incisions daily for redness or drainage  please no lotions, cream, powder, or ointments to incisions  each morning you should weigh yourself and then in the evening  take your temperature, these should be written down on the chart    no driving for one month or while taking narcotics. driving will  be discussed at follow up appointment with surgeon. no lifting  more than 10 pounds for 10 weeks  please call with any questions or concerns &lt;telephone&gt;  females: please wear bra to reduce pulling on incision, avoid  rubbing on lower edge  **please call cardiac surgery office with any questions or  concerns &lt;telephone&gt;. answering service will contact on call  person during off hours**    followup instructions:  you are scheduled for the following appointments  wound care, &lt;name&gt;, &lt;name&gt;  phone:&lt;telephone&gt;  date/time: &lt;date&gt;  10:00    surgeon: dr. &lt;name&gt; &lt;telephone&gt; date/time: &lt;date&gt;  1:15  cardiologist: dr. &lt;name&gt;  &lt;date&gt;  at 3:00p    please call to schedule appointments with your  primary care dr. &lt;name&gt; &lt;name&gt; in &lt;telephone&gt;    **please call cardiac surgery office with any questions or  concerns &lt;telephone&gt;. answering service will contact on call  person during off hours**                                   &lt;name&gt; &lt;name&gt; md [**md number(2) 748**]    completed by: &lt;date&gt;</td>\n",
              "      <td>['416', '424', '272', 'V10', 'V85', '414', '250', '401', '278', '782']</td>\n",
              "      <td>['artery', 'redness', 'edema', 'coronary', 'erythema', 'disease']</td>\n",
              "    </tr>\n",
              "    <tr>\n",
              "      <th>41963</th>\n",
              "      <td>186377.0</td>\n",
              "      <td>discharge diagnosis:  coronary artery disease  pmh:  hypertension, diabetes, copd, diastolic heart failure, ef 45-50%  past surgical history  penile implant      discharge condition:  alert and oriented x3 nonfocal  ambulating, gait steady  sternal pain managed with oral analgesics  sternal incision - healing well, no erythema or drainage  right lower extremity saph site clean/dry/intact      discharge instructions:  please draw bun/cre, inr at least every other day until they  stabilize  please shower daily including washing incisions gently with mild  soap, no baths or swimming, and look at your incisions  please no lotions, cream, powder, or ointments to incisions  each morning you should weigh yourself and then in the evening  take your temperature, these should be written down on the chart  no driving for approximately one month and while taking  narcotics, will be discussed at follow up appointment with  surgeon when you will be able to drive  no lifting more than 10 pounds for 10 weeks  please call with any questions or concerns &lt;telephone&gt;  **please call cardiac surgery office with any questions or  concerns &lt;telephone&gt;. answering service will contact on call  person during off hours**      followup instructions:  you are scheduled for the following appointments:  surgeon dr. &lt;name&gt; &lt;telephone&gt;,  &lt;date&gt;  1:00  cardiologist dr. &lt;name&gt;. &lt;name&gt; office will call you with an  appointment  please call to schedule the following:  primary care dr. &lt;name&gt;,&lt;name&gt; in [**3-8**] weeks  please follow up with dr. &lt;name&gt; &lt;name&gt; call &lt;telephone&gt; to  schedule an appointment  dialysis,schedule hemodialysis unit date/time: &lt;date&gt;  12:00  renal: dr. &lt;name&gt; &lt;telephone&gt;  diabetes: if patient requires endocrine follow-up after  discharge from rehab, please contact &lt;name&gt;, &lt;name&gt; at &lt;hospital&gt;  **please call cardiac surgery office with any questions or  concerns &lt;telephone&gt;. answering service will contact on call  person during off hours**    inr draw on [**8-16**]  goal inr [**1-5**]  indication: atrial fibrillation                                   &lt;name&gt; &lt;name&gt; md [**md number(2) 266**]    completed by: &lt;date&gt;</td>\n",
              "      <td>['424', '511', '305', '707', '403', '496', '784', '250', '414', 'V58', '427', '428', '584', '008', '997', '434', '410', '585', '041', '599']</td>\n",
              "      <td>['atrial', 'diabetes', 'diastolic', 'fibrillation', 'heart', 'failure', 'erythema', 'clean/dry/intact']</td>\n",
              "    </tr>\n",
              "    <tr>\n",
              "      <th>41964</th>\n",
              "      <td>156564.0</td>\n",
              "      <td>discharge diagnosis:  left knee infection  chronic obstructive pulmonary disease exacerbation  acute on chronic kidney injury  congestive heart failure  hypertension      discharge condition:  mental status: clear and coherent.  level of consciousness: alert and interactive.  activity status: out of bed with assistance to chair or  wheelchair.      discharge instructions:  mr. &lt;name&gt;,    you were admitted to the hospital for a infected hardware in  your left knee. our orthopaedics team cleaned out the infection  in your knee and replaced the liner of your prosthesis. they  feel you should follow up with your primary orthopaedic doctor,  dr. &lt;name&gt; &lt;name&gt; at &lt;hospital&gt; (&lt;telephone&gt;), for ongoing  issues about your knee. the cultures of the infection in your  knee grew two different organisms, so we consulted our  infectious disease doctors who recommended a course of iv  antibiotics to help treat your infection. because this infection  occured inside of a joint, a longer course of antibiotics is  required. you went multiple times to the operating room to  wash-out your knee of any remaining infection, and your hardware  was removed. most recently you had a portion of tissue grafted  to your knee to provide for better coverage of your wound, along  with skin graft. your kidney function worsened while you were in  the hospital but it appears to have normalized. this should be  followed up with your primary care physician.    we made the following changes to your medications:  started:  vancomycin (antibiotic)  ceftriaxone (antibiotic)    increased metoprolol for blood pressure    followup instructions:  department: plastic surgery  when: wednesday  &lt;date&gt;  at 3:15 pm  with: &lt;name&gt; &lt;name&gt;, md &lt;telephone&gt;  building: lm &lt;name&gt; bldg (&lt;name&gt;) [**location (un) **]  campus: west     best parking: &lt;name&gt; garage    name: &lt;name&gt;, &lt;name&gt; &lt;name&gt; &lt;name&gt;  location: community physicians associates  address: &lt;hospital&gt;,[**numeric identifier 18406**]  phone: &lt;telephone&gt;  appointment: thursday  &lt;date&gt;  1:15pm    department: infectious disease  when: friday  &lt;date&gt;  at 9:30 am  with: &lt;name&gt; &lt;name&gt;, md &lt;telephone&gt;  building: lm &lt;name&gt; bldg (&lt;name&gt;) &lt;hospital&gt;  campus: west     best parking: &lt;name&gt; garage    name: nabi,&lt;name&gt; md  address: &lt;hospital&gt;,[**numeric identifier 18406**]  phone: &lt;telephone&gt;  **please discuss with the staff at the facility a follow up  appointment with your pcp when you are ready for discharge.      department: plastic surgery  when: wednesday  &lt;date&gt;  at 3:15 pm  with: &lt;name&gt; &lt;name&gt;, md &lt;telephone&gt;  building: lm &lt;name&gt; bldg (&lt;name&gt;) [**location (un) **]  campus: west     best parking: &lt;name&gt; garage    department: infectious disease  when: friday  &lt;date&gt;  at 9:30 am  with: &lt;name&gt; &lt;name&gt;, md &lt;telephone&gt;  building: lm &lt;name&gt; bldg (&lt;name&gt;) &lt;hospital&gt;  campus: west     best parking: &lt;name&gt; garage                                   &lt;name&gt; &lt;name&gt; md [**md number(1) 348**]    completed by: &lt;date&gt;</td>\n",
              "      <td>['V10', '403', '584', 'V43', '428', '285', '496', '250', 'V58', '041', '357', '707', '365', '414', '780', '518', '711', '585', '327', 'V12', 'E84', 'E87', '996']</td>\n",
              "      <td>['pulmonary', 'infectious', 'hypertension', 'kidney', 'obstructive', 'heart', 'injury', 'failure', 'metoprolol', 'infection', 'disease']</td>\n",
              "    </tr>\n",
              "    <tr>\n",
              "      <th>41965</th>\n",
              "      <td>172559.0</td>\n",
              "      <td>discharge diagnosis:  primary:  small bowel obstruction  metastatic prostate cancer  anasarca  malnutrition  dehydration  acute renal failure  aspiration pneumonia  .  secondary:  prostate ca s/p xrt and chemo - rising psa (140), lg rp mass,  oa, lbp, diverticulosis w/ colovesical fistula s/p lar [**5-18**], s/p  ileostomy takedown [**10-18**], open ccy      discharge condition:  stable      discharge instructions:  please call your doctor or return to the er for any of the  following:  * you experience new chest pain, pressure, squeezing or  tightness.  * new or worsening cough or wheezing.  * if you are vomiting and cannot keep in fluids or your  medications.  * you are getting dehydrated due to continued vomiting,  diarrhea or other reasons. signs of dehydration include dry  mouth, rapid heartbeat or feeling dizzy or faint when standing.  * you see blood or dark/black material when you vomit or have a  bowel movement.  * your pain is not improving within 8-12 hours or not gone  within 24 hours. call or return immediately if your pain is  getting worse or is changing location or moving to your chest or    back.  *avoid lifting objects &gt; 5lbs until your follow-up appointment  with the surgeon.  *avoid driving or operating heavy machinery while taking pain  medications.  * you have shaking chills, or a fever greater than 101.5 (f)  degrees or 38(c) degrees.  * any serious change in your symptoms, or any new symptoms that  concern you.  * please resume all regular home medications and take any new  meds  as ordered.  * continue to ambulate several times per day.  .  incision care:  -your staples will be removed at your follow-up appointment with  the surgeon, and steri strips will be applied.  -your steri-strips will fall off on their own. please remove any  remaining strips 7-10 days after surgery.  -you may shower, and wash surgical incisions.  -avoid swimming and baths until your follow-up appointment.  -please call the doctor if you have increased pain, swelling,  redness, or drainage from the incision sites.      followup instructions:  1. please follow-up appointment with dr. &lt;name&gt; (&lt;telephone&gt; on  &lt;date&gt;  at 1:15pm for removal of your staples.  2. you have follow-up appointment with dr. &lt;name&gt; &lt;name&gt;, md  phone:&lt;telephone&gt; date/time: &lt;date&gt;  11:00, and chemotherapy at  provider: &lt;name&gt; &lt;name&gt;, rn phone:&lt;telephone&gt; date/time: &lt;date&gt;   12:00  3. provider: &lt;name&gt;,&lt;name&gt; &lt;name&gt; apg (sb)  phone:&lt;telephone&gt; date/time: &lt;date&gt;  10:10                                 &lt;name&gt; &lt;name&gt; md [**md number(1) 17**]    completed by: &lt;date&gt;</td>\n",
              "      <td>['197', '507', '185', '427', '261', '585', 'V66', '560', '783', '285', '276']</td>\n",
              "      <td>['dehydration', 'obstruction', 'cough', 'diverticulosis', 'fever', 'chest', 'vomiting', 'telephone', 'bowel', 'swelling', 'chills', 'prostate', 'colovesical', 'wheezing', 'phone', 'vomit', 'fistula', 'pain', 'cancer']</td>\n",
              "    </tr>\n",
              "    <tr>\n",
              "      <th>41966</th>\n",
              "      <td>135672.0</td>\n",
              "      <td>discharge diagnosis:  peritonitis secondary to small bowel perforation.  cmv enteritis  b-cell lymphoma  line infection  type 2 diabetes controlled without complications  moderate malnutrition  cad bypass vessle      discharge condition:  stable.  tolerating regular diet  pain well controlled with oral medications.      discharge instructions:  you are being discharged on an antiviral medication called  ganciclovir, which can make your diarhea worse for some time.  please contact your doctor if you experience numbness, tingling  or pain in hands or feet, as this may be a side effect of the  medication.    you will be having labs drawn every other day and sent to dr.  &lt;name&gt; of infectious diseases for monitoring of your blood  counts.    *avoid lifting objects &gt; 5lbs until your follow-up appointment  with the surgeon.    *avoid driving or operating heavy machinery while taking pain  medications.    * continue to ambulate several times per day.    incision care:  -your staples will be removed at your follow up appoinetment.  -steri-strips will be applied and will fall off on their own.  please remove any remaining strips 7-10 days after application.  -you may shower, and wash surgical incisions.  -avoid swimming and baths until your follow-up appointment.  -please call the doctor if you have increased pain, swelling,  redness, or drainage from the incision sites.    followup instructions:  you will need to have an ophthalmalogic evaluation to make sure  that there is no evidence of cmv infection of the retina - this  should happen this week.  please call: (&lt;telephone&gt; to  schedule this appointment; if you have any difficulty arranging  this, please discuss this with your primary doctor so that they  can facilitate/arrange this evaluation.    1. please call dr.&lt;name&gt; office, &lt;telephone&gt;, to make a  follow up appointment in [**11-23**] weeks.  scheduled appointments :  provider: &lt;name&gt; &lt;name&gt;, &lt;telephone&gt;  date/time: &lt;date&gt;  10:30  provider: &lt;name&gt; &lt;name&gt;, rn phone:&lt;telephone&gt;  date/time: &lt;date&gt;  11:00  provider: &lt;name&gt; chair 6  date/time: &lt;date&gt;  11:00                                   &lt;name&gt; &lt;name&gt; md [**md number(2) 431**]    completed by: &lt;date&gt;</td>\n",
              "      <td>['202', '401', '584', '255', '283', '238', '038', '785', '250', '008', '041', '272', '996', '078', 'V45', '567', '569', '273', '995', '263', '579', '782']</td>\n",
              "      <td>['infectious', 'telephone', 'bowel', 'swelling', 'diseases', 'phone', 'perforation', 'small', 'infection', 'numbness', 'pain']</td>\n",
              "    </tr>\n",
              "  </tbody>\n",
              "</table>\n",
              "<p>41967 rows × 4 columns</p>\n",
              "</div>"
            ],
            "text/plain": [
              "        HADM_ID  ...                                                                                                                                                                                                                                                                                                                                                                                                                                               medical_terms_list\n",
              "0      167118.0  ...                                                                                                                                                                                                                                                                           ['hypercholesterolemia', 'cerebral', 'hypothyroidism', 'cough', 'accident', 'hypertension', 'artery', 'chest', 'vascular', 'coronary', 'fracture', 'injury', 'angina', 'pain', 'head']\n",
              "1      196489.0  ...  ['pulmonary', 'hypertension', 'of', 'obstructive', 'discomfort', 'gastrointestinal', 'constipation', 'oxygen', 'breath', 'inflammation', 'artery', 'chest', 'hydrochlorothiazide', 'steroid', 'anxiety', 'omeprazole', 'senna', 'trazodone', 'failure', 'shortness', 'disease', 'pantoprazole', 'aspirin', 'hypothyroidism', 'zolpidem', 'furosemide', 'coronary', 'prednisone', 'lethargy', 'steroids', 'ulcer', 'chronic', 'respiratory', 'morphine', 'pain']\n",
              "2      135453.0  ...                                                                                                                                                                                                                                                                    ['ligament', 'spondylosis', 'of', 'cervical', 'urinary', 'posterior', 'calcification', 'olanzapine', 'fracture', 'pneumonia', 'dislocation', 'retention', 'longitudinal', 'morphine', 'pain']\n",
              "3      170490.0  ...                                                                                                                                                                                                                            ['motrin', 'aspirin', 'levetiracetam', 'seizures', 'weakness', 'phenytoin', 'fever', 'redness', 'tenderness', 'docusate', 'infection', 'steroid', 'tingling', 'confusion', 'headache', 'constipation', 'tremors', 'numbness', 'pain']\n",
              "4      134727.0  ...                                                                                                                                                                                                                                                                                                                                                                                                                                                               []\n",
              "...         ...  ...                                                                                                                                                                                                                                                                                                                                                                                                                                                              ...\n",
              "41962  127716.0  ...                                                                                                                                                                                                                                                                                                                                                                                                ['artery', 'redness', 'edema', 'coronary', 'erythema', 'disease']\n",
              "41963  186377.0  ...                                                                                                                                                                                                                                                                                                                                                          ['atrial', 'diabetes', 'diastolic', 'fibrillation', 'heart', 'failure', 'erythema', 'clean/dry/intact']\n",
              "41964  156564.0  ...                                                                                                                                                                                                                                                                                                                         ['pulmonary', 'infectious', 'hypertension', 'kidney', 'obstructive', 'heart', 'injury', 'failure', 'metoprolol', 'infection', 'disease']\n",
              "41965  172559.0  ...                                                                                                                                                                                                                                        ['dehydration', 'obstruction', 'cough', 'diverticulosis', 'fever', 'chest', 'vomiting', 'telephone', 'bowel', 'swelling', 'chills', 'prostate', 'colovesical', 'wheezing', 'phone', 'vomit', 'fistula', 'pain', 'cancer']\n",
              "41966  135672.0  ...                                                                                                                                                                                                                                                                                                                                   ['infectious', 'telephone', 'bowel', 'swelling', 'diseases', 'phone', 'perforation', 'small', 'infection', 'numbness', 'pain']\n",
              "\n",
              "[41967 rows x 4 columns]"
            ]
          },
          "metadata": {
            "tags": []
          },
          "execution_count": 6
        }
      ]
    },
    {
      "cell_type": "code",
      "metadata": {
        "id": "39xHisoxEzzi"
      },
      "source": [
        "diagnosis_icd9category_token['medical_terms_list']=diagnosis_icd9category_token.medical_terms_list.apply(literal_eval)\n",
        "diagnosis_icd9category_token['icd9_category']=diagnosis_icd9category_token.icd9_category.apply(literal_eval)"
      ],
      "execution_count": 7,
      "outputs": []
    },
    {
      "cell_type": "code",
      "metadata": {
        "colab": {
          "base_uri": "https://localhost:8080/",
          "height": 1000
        },
        "id": "ZVePU4SuGGe4",
        "outputId": "e39cbfab-77af-427a-eeca-f03a42691020"
      },
      "source": [
        "diagnosis_icd9category_token"
      ],
      "execution_count": 8,
      "outputs": [
        {
          "output_type": "execute_result",
          "data": {
            "text/html": [
              "<div>\n",
              "<style scoped>\n",
              "    .dataframe tbody tr th:only-of-type {\n",
              "        vertical-align: middle;\n",
              "    }\n",
              "\n",
              "    .dataframe tbody tr th {\n",
              "        vertical-align: top;\n",
              "    }\n",
              "\n",
              "    .dataframe thead th {\n",
              "        text-align: right;\n",
              "    }\n",
              "</style>\n",
              "<table border=\"1\" class=\"dataframe\">\n",
              "  <thead>\n",
              "    <tr style=\"text-align: right;\">\n",
              "      <th></th>\n",
              "      <th>HADM_ID</th>\n",
              "      <th>discharge diagnosis:</th>\n",
              "      <th>icd9_category</th>\n",
              "      <th>medical_terms_list</th>\n",
              "    </tr>\n",
              "  </thead>\n",
              "  <tbody>\n",
              "    <tr>\n",
              "      <th>0</th>\n",
              "      <td>167118.0</td>\n",
              "      <td>discharge diagnosis:  copd, coronary artery disease/atypical angina (lad 30%, rca 30%,  ef 63%), hypercholesterolemia, hypothyroidism, hypertension,  hiatal hernia, cerebral vascular accident,s/p motor vehicle  colision-&gt; head injury &amp; rib fracture.  tbm- s/p tracheoplasty.      discharge condition:  good    discharge instructions:  please update dr.&lt;name&gt; &lt;telephone&gt; office for:  fever,  shortness of breath, chest pain , productive cough or if you  have any questions or concerns.      completed by: &lt;date&gt;</td>\n",
              "      <td>[496, 553, 518, 453, 519, 276]</td>\n",
              "      <td>[hypercholesterolemia, cerebral, hypothyroidism, cough, accident, hypertension, artery, chest, vascular, coronary, fracture, injury, angina, pain, head]</td>\n",
              "    </tr>\n",
              "    <tr>\n",
              "      <th>1</th>\n",
              "      <td>196489.0</td>\n",
              "      <td>discharge diagnosis:  primary:  1. chronic obstructive pulmonary disease exacerbation  2. respiratory failure with intubation  3. upper gastrointestinal bleed/peptic ulcer disease  4. hypertension  5. anxiety    secondary:  1. coronary artery disease  2. hypothyroidism      discharge condition:  mental status: confused - sometimes.  level of consciousness: alert and interactive.  activity status: out of bed with assistance to chair or  wheelchair.      discharge instructions:  you were admitted to the hospital with shortness of breath and  respiratory failure and lethargy. in the emergency department,  you were breathing very fast and a breathing tube was inserted  into your airway to help you breathe. you were admitted to the  intensive care unit. there, you were managed with steroids and  antibiotics and the tube was eventually removed from your  airway, allowing you to breathe on your own. you also underwent  bronchoscopy which looked at the inside of your airways.  .  during your time in the intensive care unit, you developed a  gastrointestinal bleed. a tube was placed into your stomach and  you underwent an endoscopic procedure to look at your esophagus  and stomach. this showed inflammation in your esophagusand  ulcers in your stomach.  .  you should continue to use nasal oxygen by nasal cannula as  needed. you should continue the steroid taper as instructed. you  should call your doctor or return to the emergency room if you  have increasing difficulty breathing or shortness of breath,  wheezing, chest pain, blood in your stool or vomiting blood.  .  there are some changes in your medications.  start pantoprazole 40 mg twice daily and stop omeprazole  start hydrochlorothiazide  start prednisone, taking 30 mg for 3 days, then 20 mg for 4  days, then 10 mg for 4 days, then 5 mg for 4 days, then stop.  start colace and senna as needed for constipation  can use morphine to alleviate symptoms of respiratory discomfort  stop furosemide  stop zolpidem  stop aspirin  increase diovan to 240 mg daily  decrease trazodone to 50 mg daily  .  follow up as indicated below.    followup instructions:  you have an appointment to follow up with dr. &lt;name&gt;, your  primary care physician, &lt;name&gt; [**8-29**] at 1pm. his address is [**location (un) 1822**], [**apartment address(1) 1823**], [**location (un) **],[**numeric identifier 1700**]. the phone is  &lt;telephone&gt;.    you have an appointment to follow up with dr. &lt;name&gt; &lt;name&gt; in  the  &lt;name&gt; at &lt;hospital&gt; on the [**location (un) 453**]. their phone number is  &lt;telephone&gt;.    department: div. of gastroenterology  when: wednesday  &lt;date&gt;  at 3:00 pm  with: &lt;name&gt; &lt;name&gt;, md &lt;telephone&gt;  building: ra &lt;name&gt; (&lt;name&gt;/&lt;name&gt; complex) [**location (un) **]  campus: east     best parking: main garage</td>\n",
              "      <td>[487, 416, 272, 530, 414, 553, 531, 518, 401, 519, 348, V02, 359, 584, 458, 578, 491, E93, 276, 244]</td>\n",
              "      <td>[pulmonary, hypertension, of, obstructive, discomfort, gastrointestinal, constipation, oxygen, breath, inflammation, artery, chest, hydrochlorothiazide, steroid, anxiety, omeprazole, senna, trazodone, failure, shortness, disease, pantoprazole, aspirin, hypothyroidism, zolpidem, furosemide, coronary, prednisone, lethargy, steroids, ulcer, chronic, respiratory, morphine, pain]</td>\n",
              "    </tr>\n",
              "    <tr>\n",
              "      <th>2</th>\n",
              "      <td>135453.0</td>\n",
              "      <td>discharge diagnosis:  1. cervical spondylosis with calcification of posterior  longitudinal ligament.  2. fracture dislocation c6-c7.  3. ossification of the posterior longitudinal ligament.  4. aspiration pneumonia      1. cervical spondylosis with calcification of posterior      longitudinal ligament.  2. fracture dislocation c6-c7.  3. ossification of the posterior longitudinal ligament.  4. aspiration pneumonia    1. cervical spondylosis with calcification of posterior      longitudinal ligament.  2. fracture dislocation c6-c7.  3. ossification of the posterior longitudinal ligament.  4. aspiration pneumonia      discharge condition:  stable to outside facility      discharge instructions:  patient has been made cmo at the request of him and his family.  he has a foley placed for urinary retention. please use morphine  as needed for pain and olanzapine as needed for agitiation.  patient has known history of aspiration documented on speech and  swallow. it is the patient and the family's wish for him to  continue to eat and drink as desired.    followup instructions:  follow up with your primary care physician as needed.</td>\n",
              "      <td>[V12, 788, 805, 507, V45, 401, 427, 453, E88, 293, 802, 428]</td>\n",
              "      <td>[ligament, spondylosis, of, cervical, urinary, posterior, calcification, olanzapine, fracture, pneumonia, dislocation, retention, longitudinal, morphine, pain]</td>\n",
              "    </tr>\n",
              "    <tr>\n",
              "      <th>3</th>\n",
              "      <td>170490.0</td>\n",
              "      <td>discharge diagnosis:  brain lesion    discharge condition:  mental status: clear and coherent.  level of consciousness: alert and interactive.  activity status: ambulatory - independent.  neuro exam intact.    discharge instructions:  ??????\\thave a friend/family member check your incision daily for  signs of infection.  ??????\\ttake your pain medicine as prescribed.  ??????\\texercise should be limited to walking; no lifting, straining,  or excessive bending.  ??????\\tyou have dissolvable sutures, you must keep that area dry for  10 days.  ??????\\tyou may shower before this time using a shower cap to cover  your head.  ??????\\tincrease your intake of fluids and fiber, as narcotic pain  medicine can cause constipation. we generally recommend taking  an over the counter stool softener, such as docusate (colace)  while taking narcotic pain medication.  ??????\\tunless directed by your doctor, do not take any  anti-inflammatory medicines such as motrin, aspirin, advil, and  ibuprofen etc.  ??????\\tif you have been prescribed dilantin (phenytoin) for  anti-seizure medicine, take it as prescribed and follow up with  laboratory blood drawing in one week.  this can be drawn at your  pcp??????s office, but please have the results faxed to &lt;telephone&gt;.  if you have been discharged on keppra (levetiracetam), you will  not require blood work monitoring.  ??????\\tif you are being sent home on steroid medication, make sure  you are taking a medication to protect your stomach (prilosec,  protonix, or pepcid), as these medications can cause stomach  irritation.  make sure to take your steroid medication with  meals, or a glass of milk.  ??????\\tclearance to drive and return to work will be addressed at  your post-operative office visit.  ??????\\tmake sure to continue to use your incentive spirometer while  at home.  call your surgeon immediately if you experience any of the  following    ??????\\tnew onset of tremors or seizures.  ??????\\tany confusion or change in mental status.  ??????\\tany numbness, tingling, weakness in your extremities.  ??????\\tpain or headache that is continually increasing, or not  relieved by pain medication.  ??????\\tany signs of infection at the wound site: increasing redness,  increased swelling, increased tenderness, or drainage.  ??????\\tfever greater than or equal to 101?????? f.    followup instructions:  ??????\\tplease return to the office in [**6-28**] days (from your date of  surgery) for a wound check. this appointment can be made with  the nurse practitioner.  please make this appointment by calling  &lt;telephone&gt;. if you live quite a distance from our office,  please make arrangements for the same, with your pcp.</td>\n",
              "      <td>[710, 225, 443, 714, 530, V43]</td>\n",
              "      <td>[motrin, aspirin, levetiracetam, seizures, weakness, phenytoin, fever, redness, tenderness, docusate, infection, steroid, tingling, confusion, headache, constipation, tremors, numbness, pain]</td>\n",
              "    </tr>\n",
              "    <tr>\n",
              "      <th>4</th>\n",
              "      <td>134727.0</td>\n",
              "      <td>discharge diagnosis:  pneumonia    discharge condition:  expired    discharge instructions:  na    followup instructions:  na                                 &lt;name&gt; &lt;name&gt; md [**md number(2) 1851**]</td>\n",
              "      <td>[486, 518, V45, V58, 401, 577, 415, 428]</td>\n",
              "      <td>[]</td>\n",
              "    </tr>\n",
              "    <tr>\n",
              "      <th>...</th>\n",
              "      <td>...</td>\n",
              "      <td>...</td>\n",
              "      <td>...</td>\n",
              "      <td>...</td>\n",
              "    </tr>\n",
              "    <tr>\n",
              "      <th>41962</th>\n",
              "      <td>127716.0</td>\n",
              "      <td>discharge diagnosis:  aortic stenosis and coronary artery disease s/p aortic valve  replacement and coronary artery bypass graft  past medical history:  hypertension  hyperlipidemia  diabetes mellitus  osteoarthritis  phlebitis  lung cancer  hiatal hernia  hypthyroidism  s/p right lobectomy [**2117**]  s/p lymph node dissection in neck  s/p beast lumpectomy  s/p hysterectomy  s/p c section  s/p tonsillectomy      discharge condition:  alert and oriented x3 nonfocal  ambulating, steady gait  incisional pain managed with ultram  incisions:  sternal - healing well, no erythema or drainage  1+ le edema      discharge instructions:  please shower daily including washing incisions gently with mild  soap, no baths or swimming until cleared by surgeon. look at  your incisions daily for redness or drainage  please no lotions, cream, powder, or ointments to incisions  each morning you should weigh yourself and then in the evening  take your temperature, these should be written down on the chart    no driving for one month or while taking narcotics. driving will  be discussed at follow up appointment with surgeon. no lifting  more than 10 pounds for 10 weeks  please call with any questions or concerns &lt;telephone&gt;  females: please wear bra to reduce pulling on incision, avoid  rubbing on lower edge  **please call cardiac surgery office with any questions or  concerns &lt;telephone&gt;. answering service will contact on call  person during off hours**    followup instructions:  you are scheduled for the following appointments  wound care, &lt;name&gt;, &lt;name&gt;  phone:&lt;telephone&gt;  date/time: &lt;date&gt;  10:00    surgeon: dr. &lt;name&gt; &lt;telephone&gt; date/time: &lt;date&gt;  1:15  cardiologist: dr. &lt;name&gt;  &lt;date&gt;  at 3:00p    please call to schedule appointments with your  primary care dr. &lt;name&gt; &lt;name&gt; in &lt;telephone&gt;    **please call cardiac surgery office with any questions or  concerns &lt;telephone&gt;. answering service will contact on call  person during off hours**                                   &lt;name&gt; &lt;name&gt; md [**md number(2) 748**]    completed by: &lt;date&gt;</td>\n",
              "      <td>[416, 424, 272, V10, V85, 414, 250, 401, 278, 782]</td>\n",
              "      <td>[artery, redness, edema, coronary, erythema, disease]</td>\n",
              "    </tr>\n",
              "    <tr>\n",
              "      <th>41963</th>\n",
              "      <td>186377.0</td>\n",
              "      <td>discharge diagnosis:  coronary artery disease  pmh:  hypertension, diabetes, copd, diastolic heart failure, ef 45-50%  past surgical history  penile implant      discharge condition:  alert and oriented x3 nonfocal  ambulating, gait steady  sternal pain managed with oral analgesics  sternal incision - healing well, no erythema or drainage  right lower extremity saph site clean/dry/intact      discharge instructions:  please draw bun/cre, inr at least every other day until they  stabilize  please shower daily including washing incisions gently with mild  soap, no baths or swimming, and look at your incisions  please no lotions, cream, powder, or ointments to incisions  each morning you should weigh yourself and then in the evening  take your temperature, these should be written down on the chart  no driving for approximately one month and while taking  narcotics, will be discussed at follow up appointment with  surgeon when you will be able to drive  no lifting more than 10 pounds for 10 weeks  please call with any questions or concerns &lt;telephone&gt;  **please call cardiac surgery office with any questions or  concerns &lt;telephone&gt;. answering service will contact on call  person during off hours**      followup instructions:  you are scheduled for the following appointments:  surgeon dr. &lt;name&gt; &lt;telephone&gt;,  &lt;date&gt;  1:00  cardiologist dr. &lt;name&gt;. &lt;name&gt; office will call you with an  appointment  please call to schedule the following:  primary care dr. &lt;name&gt;,&lt;name&gt; in [**3-8**] weeks  please follow up with dr. &lt;name&gt; &lt;name&gt; call &lt;telephone&gt; to  schedule an appointment  dialysis,schedule hemodialysis unit date/time: &lt;date&gt;  12:00  renal: dr. &lt;name&gt; &lt;telephone&gt;  diabetes: if patient requires endocrine follow-up after  discharge from rehab, please contact &lt;name&gt;, &lt;name&gt; at &lt;hospital&gt;  **please call cardiac surgery office with any questions or  concerns &lt;telephone&gt;. answering service will contact on call  person during off hours**    inr draw on [**8-16**]  goal inr [**1-5**]  indication: atrial fibrillation                                   &lt;name&gt; &lt;name&gt; md [**md number(2) 266**]    completed by: &lt;date&gt;</td>\n",
              "      <td>[424, 511, 305, 707, 403, 496, 784, 250, 414, V58, 427, 428, 584, 008, 997, 434, 410, 585, 041, 599]</td>\n",
              "      <td>[atrial, diabetes, diastolic, fibrillation, heart, failure, erythema, clean/dry/intact]</td>\n",
              "    </tr>\n",
              "    <tr>\n",
              "      <th>41964</th>\n",
              "      <td>156564.0</td>\n",
              "      <td>discharge diagnosis:  left knee infection  chronic obstructive pulmonary disease exacerbation  acute on chronic kidney injury  congestive heart failure  hypertension      discharge condition:  mental status: clear and coherent.  level of consciousness: alert and interactive.  activity status: out of bed with assistance to chair or  wheelchair.      discharge instructions:  mr. &lt;name&gt;,    you were admitted to the hospital for a infected hardware in  your left knee. our orthopaedics team cleaned out the infection  in your knee and replaced the liner of your prosthesis. they  feel you should follow up with your primary orthopaedic doctor,  dr. &lt;name&gt; &lt;name&gt; at &lt;hospital&gt; (&lt;telephone&gt;), for ongoing  issues about your knee. the cultures of the infection in your  knee grew two different organisms, so we consulted our  infectious disease doctors who recommended a course of iv  antibiotics to help treat your infection. because this infection  occured inside of a joint, a longer course of antibiotics is  required. you went multiple times to the operating room to  wash-out your knee of any remaining infection, and your hardware  was removed. most recently you had a portion of tissue grafted  to your knee to provide for better coverage of your wound, along  with skin graft. your kidney function worsened while you were in  the hospital but it appears to have normalized. this should be  followed up with your primary care physician.    we made the following changes to your medications:  started:  vancomycin (antibiotic)  ceftriaxone (antibiotic)    increased metoprolol for blood pressure    followup instructions:  department: plastic surgery  when: wednesday  &lt;date&gt;  at 3:15 pm  with: &lt;name&gt; &lt;name&gt;, md &lt;telephone&gt;  building: lm &lt;name&gt; bldg (&lt;name&gt;) [**location (un) **]  campus: west     best parking: &lt;name&gt; garage    name: &lt;name&gt;, &lt;name&gt; &lt;name&gt; &lt;name&gt;  location: community physicians associates  address: &lt;hospital&gt;,[**numeric identifier 18406**]  phone: &lt;telephone&gt;  appointment: thursday  &lt;date&gt;  1:15pm    department: infectious disease  when: friday  &lt;date&gt;  at 9:30 am  with: &lt;name&gt; &lt;name&gt;, md &lt;telephone&gt;  building: lm &lt;name&gt; bldg (&lt;name&gt;) &lt;hospital&gt;  campus: west     best parking: &lt;name&gt; garage    name: nabi,&lt;name&gt; md  address: &lt;hospital&gt;,[**numeric identifier 18406**]  phone: &lt;telephone&gt;  **please discuss with the staff at the facility a follow up  appointment with your pcp when you are ready for discharge.      department: plastic surgery  when: wednesday  &lt;date&gt;  at 3:15 pm  with: &lt;name&gt; &lt;name&gt;, md &lt;telephone&gt;  building: lm &lt;name&gt; bldg (&lt;name&gt;) [**location (un) **]  campus: west     best parking: &lt;name&gt; garage    department: infectious disease  when: friday  &lt;date&gt;  at 9:30 am  with: &lt;name&gt; &lt;name&gt;, md &lt;telephone&gt;  building: lm &lt;name&gt; bldg (&lt;name&gt;) &lt;hospital&gt;  campus: west     best parking: &lt;name&gt; garage                                   &lt;name&gt; &lt;name&gt; md [**md number(1) 348**]    completed by: &lt;date&gt;</td>\n",
              "      <td>[V10, 403, 584, V43, 428, 285, 496, 250, V58, 041, 357, 707, 365, 414, 780, 518, 711, 585, 327, V12, E84, E87, 996]</td>\n",
              "      <td>[pulmonary, infectious, hypertension, kidney, obstructive, heart, injury, failure, metoprolol, infection, disease]</td>\n",
              "    </tr>\n",
              "    <tr>\n",
              "      <th>41965</th>\n",
              "      <td>172559.0</td>\n",
              "      <td>discharge diagnosis:  primary:  small bowel obstruction  metastatic prostate cancer  anasarca  malnutrition  dehydration  acute renal failure  aspiration pneumonia  .  secondary:  prostate ca s/p xrt and chemo - rising psa (140), lg rp mass,  oa, lbp, diverticulosis w/ colovesical fistula s/p lar [**5-18**], s/p  ileostomy takedown [**10-18**], open ccy      discharge condition:  stable      discharge instructions:  please call your doctor or return to the er for any of the  following:  * you experience new chest pain, pressure, squeezing or  tightness.  * new or worsening cough or wheezing.  * if you are vomiting and cannot keep in fluids or your  medications.  * you are getting dehydrated due to continued vomiting,  diarrhea or other reasons. signs of dehydration include dry  mouth, rapid heartbeat or feeling dizzy or faint when standing.  * you see blood or dark/black material when you vomit or have a  bowel movement.  * your pain is not improving within 8-12 hours or not gone  within 24 hours. call or return immediately if your pain is  getting worse or is changing location or moving to your chest or    back.  *avoid lifting objects &gt; 5lbs until your follow-up appointment  with the surgeon.  *avoid driving or operating heavy machinery while taking pain  medications.  * you have shaking chills, or a fever greater than 101.5 (f)  degrees or 38(c) degrees.  * any serious change in your symptoms, or any new symptoms that  concern you.  * please resume all regular home medications and take any new  meds  as ordered.  * continue to ambulate several times per day.  .  incision care:  -your staples will be removed at your follow-up appointment with  the surgeon, and steri strips will be applied.  -your steri-strips will fall off on their own. please remove any  remaining strips 7-10 days after surgery.  -you may shower, and wash surgical incisions.  -avoid swimming and baths until your follow-up appointment.  -please call the doctor if you have increased pain, swelling,  redness, or drainage from the incision sites.      followup instructions:  1. please follow-up appointment with dr. &lt;name&gt; (&lt;telephone&gt; on  &lt;date&gt;  at 1:15pm for removal of your staples.  2. you have follow-up appointment with dr. &lt;name&gt; &lt;name&gt;, md  phone:&lt;telephone&gt; date/time: &lt;date&gt;  11:00, and chemotherapy at  provider: &lt;name&gt; &lt;name&gt;, rn phone:&lt;telephone&gt; date/time: &lt;date&gt;   12:00  3. provider: &lt;name&gt;,&lt;name&gt; &lt;name&gt; apg (sb)  phone:&lt;telephone&gt; date/time: &lt;date&gt;  10:10                                 &lt;name&gt; &lt;name&gt; md [**md number(1) 17**]    completed by: &lt;date&gt;</td>\n",
              "      <td>[197, 507, 185, 427, 261, 585, V66, 560, 783, 285, 276]</td>\n",
              "      <td>[dehydration, obstruction, cough, diverticulosis, fever, chest, vomiting, telephone, bowel, swelling, chills, prostate, colovesical, wheezing, phone, vomit, fistula, pain, cancer]</td>\n",
              "    </tr>\n",
              "    <tr>\n",
              "      <th>41966</th>\n",
              "      <td>135672.0</td>\n",
              "      <td>discharge diagnosis:  peritonitis secondary to small bowel perforation.  cmv enteritis  b-cell lymphoma  line infection  type 2 diabetes controlled without complications  moderate malnutrition  cad bypass vessle      discharge condition:  stable.  tolerating regular diet  pain well controlled with oral medications.      discharge instructions:  you are being discharged on an antiviral medication called  ganciclovir, which can make your diarhea worse for some time.  please contact your doctor if you experience numbness, tingling  or pain in hands or feet, as this may be a side effect of the  medication.    you will be having labs drawn every other day and sent to dr.  &lt;name&gt; of infectious diseases for monitoring of your blood  counts.    *avoid lifting objects &gt; 5lbs until your follow-up appointment  with the surgeon.    *avoid driving or operating heavy machinery while taking pain  medications.    * continue to ambulate several times per day.    incision care:  -your staples will be removed at your follow up appoinetment.  -steri-strips will be applied and will fall off on their own.  please remove any remaining strips 7-10 days after application.  -you may shower, and wash surgical incisions.  -avoid swimming and baths until your follow-up appointment.  -please call the doctor if you have increased pain, swelling,  redness, or drainage from the incision sites.    followup instructions:  you will need to have an ophthalmalogic evaluation to make sure  that there is no evidence of cmv infection of the retina - this  should happen this week.  please call: (&lt;telephone&gt; to  schedule this appointment; if you have any difficulty arranging  this, please discuss this with your primary doctor so that they  can facilitate/arrange this evaluation.    1. please call dr.&lt;name&gt; office, &lt;telephone&gt;, to make a  follow up appointment in [**11-23**] weeks.  scheduled appointments :  provider: &lt;name&gt; &lt;name&gt;, &lt;telephone&gt;  date/time: &lt;date&gt;  10:30  provider: &lt;name&gt; &lt;name&gt;, rn phone:&lt;telephone&gt;  date/time: &lt;date&gt;  11:00  provider: &lt;name&gt; chair 6  date/time: &lt;date&gt;  11:00                                   &lt;name&gt; &lt;name&gt; md [**md number(2) 431**]    completed by: &lt;date&gt;</td>\n",
              "      <td>[202, 401, 584, 255, 283, 238, 038, 785, 250, 008, 041, 272, 996, 078, V45, 567, 569, 273, 995, 263, 579, 782]</td>\n",
              "      <td>[infectious, telephone, bowel, swelling, diseases, phone, perforation, small, infection, numbness, pain]</td>\n",
              "    </tr>\n",
              "  </tbody>\n",
              "</table>\n",
              "<p>41967 rows × 4 columns</p>\n",
              "</div>"
            ],
            "text/plain": [
              "        HADM_ID  ...                                                                                                                                                                                                                                                                                                                                                                         medical_terms_list\n",
              "0      167118.0  ...                                                                                                                                                                                                                                   [hypercholesterolemia, cerebral, hypothyroidism, cough, accident, hypertension, artery, chest, vascular, coronary, fracture, injury, angina, pain, head]\n",
              "1      196489.0  ...  [pulmonary, hypertension, of, obstructive, discomfort, gastrointestinal, constipation, oxygen, breath, inflammation, artery, chest, hydrochlorothiazide, steroid, anxiety, omeprazole, senna, trazodone, failure, shortness, disease, pantoprazole, aspirin, hypothyroidism, zolpidem, furosemide, coronary, prednisone, lethargy, steroids, ulcer, chronic, respiratory, morphine, pain]\n",
              "2      135453.0  ...                                                                                                                                                                                                                            [ligament, spondylosis, of, cervical, urinary, posterior, calcification, olanzapine, fracture, pneumonia, dislocation, retention, longitudinal, morphine, pain]\n",
              "3      170490.0  ...                                                                                                                                                                                            [motrin, aspirin, levetiracetam, seizures, weakness, phenytoin, fever, redness, tenderness, docusate, infection, steroid, tingling, confusion, headache, constipation, tremors, numbness, pain]\n",
              "4      134727.0  ...                                                                                                                                                                                                                                                                                                                                                                                         []\n",
              "...         ...  ...                                                                                                                                                                                                                                                                                                                                                                                        ...\n",
              "41962  127716.0  ...                                                                                                                                                                                                                                                                                                                                      [artery, redness, edema, coronary, erythema, disease]\n",
              "41963  186377.0  ...                                                                                                                                                                                                                                                                                                    [atrial, diabetes, diastolic, fibrillation, heart, failure, erythema, clean/dry/intact]\n",
              "41964  156564.0  ...                                                                                                                                                                                                                                                                         [pulmonary, infectious, hypertension, kidney, obstructive, heart, injury, failure, metoprolol, infection, disease]\n",
              "41965  172559.0  ...                                                                                                                                                                                                        [dehydration, obstruction, cough, diverticulosis, fever, chest, vomiting, telephone, bowel, swelling, chills, prostate, colovesical, wheezing, phone, vomit, fistula, pain, cancer]\n",
              "41966  135672.0  ...                                                                                                                                                                                                                                                                                   [infectious, telephone, bowel, swelling, diseases, phone, perforation, small, infection, numbness, pain]\n",
              "\n",
              "[41967 rows x 4 columns]"
            ]
          },
          "metadata": {
            "tags": []
          },
          "execution_count": 8
        }
      ]
    },
    {
      "cell_type": "code",
      "metadata": {
        "id": "G0b9wjNNXf0z",
        "colab": {
          "base_uri": "https://localhost:8080/",
          "height": 699
        },
        "outputId": "e91ba422-5fda-4641-96fd-dae87f2cb34e"
      },
      "source": [
        "category_med_terms={}\n",
        "common_diagnosis_terms=[\"monday\",\"telephone\",\"of\",\"phone\"]\n",
        "for i in frequent_icd9category:\n",
        "    diagnosis_x=diagnosis_icd9category_token.loc[diagnosis_icd9category_token.icd9_category.apply(lambda x: i in x)].copy()\n",
        "    y=diagnosis_x.medical_terms_list.to_list()    \n",
        "    z=[list(set(a)) for a in y]\n",
        "    z1=[a for b in z for a in b]\n",
        "    dict_med=dict(Counter(z1))\n",
        "    dict_med=dict(sorted(dict_med.items(),key= lambda x: x[1],reverse=True))\n",
        "    dict_med_list=list(dict_med)\n",
        "    dict_med_list1=[a for a in dict_med_list if a not in common_diagnosis_terms]\n",
        "    category_med_terms[i]=dict_med_list1[:50]\n",
        "\n",
        "diagnosis_icdcategory_medterms={'icd9category':[i for i in category_med_terms],\n",
        "                                'frequent_medterms':[category_med_terms[i] for i in category_med_terms]}\n",
        "diagnosis_icdcategory_medterms_df=pd.DataFrame.from_dict(diagnosis_icdcategory_medterms)\n",
        "\n",
        "diagnosis_icdcategory_medterms_df"
      ],
      "execution_count": 9,
      "outputs": [
        {
          "output_type": "execute_result",
          "data": {
            "text/html": [
              "<div>\n",
              "<style scoped>\n",
              "    .dataframe tbody tr th:only-of-type {\n",
              "        vertical-align: middle;\n",
              "    }\n",
              "\n",
              "    .dataframe tbody tr th {\n",
              "        vertical-align: top;\n",
              "    }\n",
              "\n",
              "    .dataframe thead th {\n",
              "        text-align: right;\n",
              "    }\n",
              "</style>\n",
              "<table border=\"1\" class=\"dataframe\">\n",
              "  <thead>\n",
              "    <tr style=\"text-align: right;\">\n",
              "      <th></th>\n",
              "      <th>icd9category</th>\n",
              "      <th>frequent_medterms</th>\n",
              "    </tr>\n",
              "  </thead>\n",
              "  <tbody>\n",
              "    <tr>\n",
              "      <th>0</th>\n",
              "      <td>401</td>\n",
              "      <td>[pain, fever, chest, shortness, infection, breath, redness, aspirin, hypertension, atrial, fibrillation, chills, disease, coumadin, bleeding, failure, pneumonia, vomiting, fevers, constipation, swelling, nausea, abdominal, heart, diabetes, weakness, cough, anemia, erythema, headache, metoprolol, confusion, numbness, mouth, weight, diarrhea, gain, loss, lisinopril, blood, cancer, seizures, pulmonary, infarction, myocardial, bleed, stroke, motrin, artery, tylenol]</td>\n",
              "    </tr>\n",
              "    <tr>\n",
              "      <th>1</th>\n",
              "      <td>427</td>\n",
              "      <td>[pain, atrial, fibrillation, chest, shortness, fever, coumadin, infection, breath, failure, disease, heart, redness, pneumonia, aspirin, chills, hypertension, bleeding, metoprolol, fevers, renal, vomiting, anemia, abdominal, nausea, erythema, sodium, diabetes, chronic, constipation, weight, pulmonary, gain, cough, swelling, mouth, cancer, warfarin, diarrhea, lisinopril, bleed, artery, infarction, stroke, myocardial, blood, urinary, respiratory, oxygen, congestive]</td>\n",
              "    </tr>\n",
              "    <tr>\n",
              "      <th>2</th>\n",
              "      <td>276</td>\n",
              "      <td>[pain, shortness, chest, infection, breath, failure, fever, pneumonia, disease, chills, atrial, fevers, fibrillation, vomiting, bleeding, nausea, abdominal, renal, hypertension, heart, aspirin, anemia, coumadin, diarrhea, diabetes, metoprolol, mouth, chronic, constipation, cough, redness, respiratory, swelling, sodium, urinary, confusion, blood, cancer, acute, pulmonary, oxygen, tract, alcohol, lisinopril, loss, bleed, kidney, dehydration, weakness, sepsis]</td>\n",
              "    </tr>\n",
              "    <tr>\n",
              "      <th>3</th>\n",
              "      <td>414</td>\n",
              "      <td>[pain, chest, fever, shortness, infection, breath, disease, redness, atrial, failure, fibrillation, heart, aspirin, coumadin, hypertension, myocardial, infarction, erythema, bleeding, weight, gain, diabetes, chills, metoprolol, artery, renal, coronary, pneumonia, fevers, lisinopril, sodium, anemia, chronic, vomiting, mellitus, nausea, abdominal, pulmonary, constipation, edema, swelling, congestive, bleed, cancer, cholesterol, cough, mouth, blood, loss, hyperlipidemia]</td>\n",
              "    </tr>\n",
              "    <tr>\n",
              "      <th>4</th>\n",
              "      <td>272</td>\n",
              "      <td>[pain, fever, chest, infection, shortness, breath, redness, aspirin, atrial, disease, fibrillation, failure, coumadin, hypertension, bleeding, chills, heart, erythema, pneumonia, diabetes, constipation, vomiting, fevers, metoprolol, swelling, weight, renal, gain, nausea, abdominal, anemia, infarction, myocardial, cough, lisinopril, mouth, weakness, cancer, artery, confusion, mellitus, headache, pulmonary, loss, chronic, diarrhea, hyperlipidemia, blood, numbness, tylenol]</td>\n",
              "    </tr>\n",
              "    <tr>\n",
              "      <th>5</th>\n",
              "      <td>250</td>\n",
              "      <td>[pain, chest, shortness, breath, diabetes, fever, infection, failure, disease, chills, atrial, hypertension, heart, fibrillation, aspirin, fevers, mellitus, redness, pneumonia, bleeding, vomiting, renal, coumadin, nausea, abdominal, anemia, metoprolol, chronic, constipation, swelling, sodium, blood, cough, mouth, lisinopril, diarrhea, confusion, artery, erythema, pulmonary, urinary, respiratory, infarction, loss, myocardial, bleed, coronary, weakness, weight, oxygen]</td>\n",
              "    </tr>\n",
              "    <tr>\n",
              "      <th>6</th>\n",
              "      <td>428</td>\n",
              "      <td>[pain, failure, shortness, chest, heart, breath, atrial, fibrillation, disease, infection, fever, pneumonia, coumadin, chills, renal, hypertension, sodium, fevers, aspirin, metoprolol, bleeding, chronic, anemia, diabetes, congestive, redness, pulmonary, vomiting, nausea, lisinopril, abdominal, oxygen, myocardial, infarction, respiratory, artery, systolic, coronary, mouth, cough, urinary, blood, mellitus, swelling, tract, weight, bleed, diarrhea, acute, gain]</td>\n",
              "    </tr>\n",
              "    <tr>\n",
              "      <th>7</th>\n",
              "      <td>518</td>\n",
              "      <td>[pain, shortness, breath, pneumonia, failure, chest, fever, infection, disease, chills, respiratory, atrial, fibrillation, fevers, vomiting, heart, hypertension, cough, abdominal, nausea, renal, coumadin, anemia, pulmonary, redness, bleeding, aspirin, oxygen, swelling, constipation, diarrhea, mouth, chronic, cancer, diabetes, metoprolol, sodium, confusion, fracture, blood, acute, sepsis, urinary, loss, weakness, lung, prednisone, tract, obstructive, edema]</td>\n",
              "    </tr>\n",
              "    <tr>\n",
              "      <th>8</th>\n",
              "      <td>285</td>\n",
              "      <td>[pain, shortness, chest, breath, infection, fever, disease, anemia, bleeding, failure, chills, pneumonia, fevers, atrial, fibrillation, aspirin, blood, coumadin, vomiting, loss, hypertension, renal, abdominal, redness, heart, nausea, chronic, bleed, diabetes, constipation, swelling, diarrhea, metoprolol, mouth, cough, cancer, sodium, erythema, pulmonary, urinary, fracture, respiratory, tract, lisinopril, dizziness, confusion, acute, oxygen, gastrointestinal, tylenol]</td>\n",
              "    </tr>\n",
              "    <tr>\n",
              "      <th>9</th>\n",
              "      <td>584</td>\n",
              "      <td>[pain, failure, shortness, chest, infection, breath, renal, disease, pneumonia, fever, atrial, chills, fibrillation, heart, fevers, chronic, hypertension, vomiting, bleeding, acute, abdominal, coumadin, anemia, nausea, diabetes, aspirin, metoprolol, kidney, diarrhea, sodium, respiratory, mouth, urinary, lisinopril, tract, blood, pulmonary, cough, cancer, redness, sepsis, swelling, oxygen, constipation, bleed, loss, confusion, congestive, mellitus, dizziness]</td>\n",
              "    </tr>\n",
              "  </tbody>\n",
              "</table>\n",
              "</div>"
            ],
            "text/plain": [
              "  icd9category                                                                                                                                                                                                                                                                                                                                                                                                                                                                            frequent_medterms\n",
              "0          401           [pain, fever, chest, shortness, infection, breath, redness, aspirin, hypertension, atrial, fibrillation, chills, disease, coumadin, bleeding, failure, pneumonia, vomiting, fevers, constipation, swelling, nausea, abdominal, heart, diabetes, weakness, cough, anemia, erythema, headache, metoprolol, confusion, numbness, mouth, weight, diarrhea, gain, loss, lisinopril, blood, cancer, seizures, pulmonary, infarction, myocardial, bleed, stroke, motrin, artery, tylenol]\n",
              "1          427         [pain, atrial, fibrillation, chest, shortness, fever, coumadin, infection, breath, failure, disease, heart, redness, pneumonia, aspirin, chills, hypertension, bleeding, metoprolol, fevers, renal, vomiting, anemia, abdominal, nausea, erythema, sodium, diabetes, chronic, constipation, weight, pulmonary, gain, cough, swelling, mouth, cancer, warfarin, diarrhea, lisinopril, bleed, artery, infarction, stroke, myocardial, blood, urinary, respiratory, oxygen, congestive]\n",
              "2          276                [pain, shortness, chest, infection, breath, failure, fever, pneumonia, disease, chills, atrial, fevers, fibrillation, vomiting, bleeding, nausea, abdominal, renal, hypertension, heart, aspirin, anemia, coumadin, diarrhea, diabetes, metoprolol, mouth, chronic, constipation, cough, redness, respiratory, swelling, sodium, urinary, confusion, blood, cancer, acute, pulmonary, oxygen, tract, alcohol, lisinopril, loss, bleed, kidney, dehydration, weakness, sepsis]\n",
              "3          414     [pain, chest, fever, shortness, infection, breath, disease, redness, atrial, failure, fibrillation, heart, aspirin, coumadin, hypertension, myocardial, infarction, erythema, bleeding, weight, gain, diabetes, chills, metoprolol, artery, renal, coronary, pneumonia, fevers, lisinopril, sodium, anemia, chronic, vomiting, mellitus, nausea, abdominal, pulmonary, constipation, edema, swelling, congestive, bleed, cancer, cholesterol, cough, mouth, blood, loss, hyperlipidemia]\n",
              "4          272  [pain, fever, chest, infection, shortness, breath, redness, aspirin, atrial, disease, fibrillation, failure, coumadin, hypertension, bleeding, chills, heart, erythema, pneumonia, diabetes, constipation, vomiting, fevers, metoprolol, swelling, weight, renal, gain, nausea, abdominal, anemia, infarction, myocardial, cough, lisinopril, mouth, weakness, cancer, artery, confusion, mellitus, headache, pulmonary, loss, chronic, diarrhea, hyperlipidemia, blood, numbness, tylenol]\n",
              "5          250      [pain, chest, shortness, breath, diabetes, fever, infection, failure, disease, chills, atrial, hypertension, heart, fibrillation, aspirin, fevers, mellitus, redness, pneumonia, bleeding, vomiting, renal, coumadin, nausea, abdominal, anemia, metoprolol, chronic, constipation, swelling, sodium, blood, cough, mouth, lisinopril, diarrhea, confusion, artery, erythema, pulmonary, urinary, respiratory, infarction, loss, myocardial, bleed, coronary, weakness, weight, oxygen]\n",
              "6          428               [pain, failure, shortness, chest, heart, breath, atrial, fibrillation, disease, infection, fever, pneumonia, coumadin, chills, renal, hypertension, sodium, fevers, aspirin, metoprolol, bleeding, chronic, anemia, diabetes, congestive, redness, pulmonary, vomiting, nausea, lisinopril, abdominal, oxygen, myocardial, infarction, respiratory, artery, systolic, coronary, mouth, cough, urinary, blood, mellitus, swelling, tract, weight, bleed, diarrhea, acute, gain]\n",
              "7          518                 [pain, shortness, breath, pneumonia, failure, chest, fever, infection, disease, chills, respiratory, atrial, fibrillation, fevers, vomiting, heart, hypertension, cough, abdominal, nausea, renal, coumadin, anemia, pulmonary, redness, bleeding, aspirin, oxygen, swelling, constipation, diarrhea, mouth, chronic, cancer, diabetes, metoprolol, sodium, confusion, fracture, blood, acute, sepsis, urinary, loss, weakness, lung, prednisone, tract, obstructive, edema]\n",
              "8          285      [pain, shortness, chest, breath, infection, fever, disease, anemia, bleeding, failure, chills, pneumonia, fevers, atrial, fibrillation, aspirin, blood, coumadin, vomiting, loss, hypertension, renal, abdominal, redness, heart, nausea, chronic, bleed, diabetes, constipation, swelling, diarrhea, metoprolol, mouth, cough, cancer, sodium, erythema, pulmonary, urinary, fracture, respiratory, tract, lisinopril, dizziness, confusion, acute, oxygen, gastrointestinal, tylenol]\n",
              "9          584               [pain, failure, shortness, chest, infection, breath, renal, disease, pneumonia, fever, atrial, chills, fibrillation, heart, fevers, chronic, hypertension, vomiting, bleeding, acute, abdominal, coumadin, anemia, nausea, diabetes, aspirin, metoprolol, kidney, diarrhea, sodium, respiratory, mouth, urinary, lisinopril, tract, blood, pulmonary, cough, cancer, redness, sepsis, swelling, oxygen, constipation, bleed, loss, confusion, congestive, mellitus, dizziness]"
            ]
          },
          "metadata": {
            "tags": []
          },
          "execution_count": 9
        }
      ]
    },
    {
      "cell_type": "code",
      "metadata": {
        "colab": {
          "base_uri": "https://localhost:8080/"
        },
        "id": "tZrt52vGKobf",
        "outputId": "8c5e6ade-55c8-42bb-fc3f-a38b983b1890"
      },
      "source": [
        "y=diagnosis_icdcategory_medterms_df.frequent_medterms.to_list()\n",
        "y1=[a for b in y for a in b]\n",
        "medical=dict(Counter(y1))\n",
        "print([k for (k,v) in medical.items() if v>=16])"
      ],
      "execution_count": 10,
      "outputs": [
        {
          "output_type": "stream",
          "text": [
            "[]\n"
          ],
          "name": "stdout"
        }
      ]
    },
    {
      "cell_type": "code",
      "metadata": {
        "id": "V2PMVt0XYLaA"
      },
      "source": [
        "bagofwords=list(set([a for b in diagnosis_icdcategory_medterms_df.frequent_medterms.to_list() for a in b]))"
      ],
      "execution_count": 11,
      "outputs": []
    },
    {
      "cell_type": "code",
      "metadata": {
        "colab": {
          "base_uri": "https://localhost:8080/"
        },
        "id": "ya_OSZY1ZA2N",
        "outputId": "5cf28143-4226-4693-b67c-05600402c7f2"
      },
      "source": [
        "len(bagofwords)"
      ],
      "execution_count": 12,
      "outputs": [
        {
          "output_type": "execute_result",
          "data": {
            "text/plain": [
              "76"
            ]
          },
          "metadata": {
            "tags": []
          },
          "execution_count": 12
        }
      ]
    },
    {
      "cell_type": "code",
      "metadata": {
        "colab": {
          "base_uri": "https://localhost:8080/"
        },
        "id": "oEvENIyUcVqv",
        "outputId": "23089a27-ab28-43d3-929f-1ebd34c3327e"
      },
      "source": [
        "set(bagofwords).issubset(model.vocab)"
      ],
      "execution_count": 13,
      "outputs": [
        {
          "output_type": "execute_result",
          "data": {
            "text/plain": [
              "True"
            ]
          },
          "metadata": {
            "tags": []
          },
          "execution_count": 13
        }
      ]
    },
    {
      "cell_type": "code",
      "metadata": {
        "id": "S6UeDPTTuT9K"
      },
      "source": [
        "simi_matrix=np.zeros((len(bagofwords),len(bagofwords)))"
      ],
      "execution_count": 14,
      "outputs": []
    },
    {
      "cell_type": "code",
      "metadata": {
        "colab": {
          "base_uri": "https://localhost:8080/"
        },
        "id": "15swp_iazhX_",
        "outputId": "4a892c2a-99cd-464d-c654-f8486ead0a1e"
      },
      "source": [
        "simi_matrix"
      ],
      "execution_count": 15,
      "outputs": [
        {
          "output_type": "execute_result",
          "data": {
            "text/plain": [
              "array([[0., 0., 0., ..., 0., 0., 0.],\n",
              "       [0., 0., 0., ..., 0., 0., 0.],\n",
              "       [0., 0., 0., ..., 0., 0., 0.],\n",
              "       ...,\n",
              "       [0., 0., 0., ..., 0., 0., 0.],\n",
              "       [0., 0., 0., ..., 0., 0., 0.],\n",
              "       [0., 0., 0., ..., 0., 0., 0.]])"
            ]
          },
          "metadata": {
            "tags": []
          },
          "execution_count": 15
        }
      ]
    },
    {
      "cell_type": "code",
      "metadata": {
        "colab": {
          "base_uri": "https://localhost:8080/"
        },
        "id": "vImefDkQzica",
        "outputId": "a4acb597-45f7-4ddd-dc00-c6a0b4688ce7"
      },
      "source": [
        "simi_matrix.shape"
      ],
      "execution_count": 16,
      "outputs": [
        {
          "output_type": "execute_result",
          "data": {
            "text/plain": [
              "(76, 76)"
            ]
          },
          "metadata": {
            "tags": []
          },
          "execution_count": 16
        }
      ]
    },
    {
      "cell_type": "code",
      "metadata": {
        "colab": {
          "base_uri": "https://localhost:8080/"
        },
        "id": "UEVJQYXRzl-r",
        "outputId": "39569df4-a939-4223-a0ae-18d2a73f033b"
      },
      "source": [
        "for i in tqdm(range(len(bagofwords))):\n",
        "  for j in range(len(bagofwords)):\n",
        "    simi_matrix[i][j]=model.similarity(bagofwords[i],bagofwords[j])"
      ],
      "execution_count": 17,
      "outputs": [
        {
          "output_type": "stream",
          "text": [
            "100%|██████████| 76/76 [00:00<00:00, 587.17it/s]\n"
          ],
          "name": "stderr"
        }
      ]
    },
    {
      "cell_type": "code",
      "metadata": {
        "colab": {
          "base_uri": "https://localhost:8080/"
        },
        "id": "szLrlRmq5nwl",
        "outputId": "61b9c269-c19f-4a66-df45-e86a5bcec758"
      },
      "source": [
        "simi_matrix"
      ],
      "execution_count": 18,
      "outputs": [
        {
          "output_type": "execute_result",
          "data": {
            "text/plain": [
              "array([[1.        , 0.70788604, 0.43498385, ..., 0.44902244, 0.28360549,\n",
              "        0.74148297],\n",
              "       [0.70788604, 1.        , 0.52722788, ..., 0.45991182, 0.32771045,\n",
              "        0.67368197],\n",
              "       [0.43498385, 0.52722788, 1.        , ..., 0.50694972, 0.49392176,\n",
              "        0.45901039],\n",
              "       ...,\n",
              "       [0.44902244, 0.45991182, 0.50694972, ..., 1.        , 0.36671904,\n",
              "        0.38548869],\n",
              "       [0.28360549, 0.32771045, 0.49392176, ..., 0.36671904, 1.        ,\n",
              "        0.31812355],\n",
              "       [0.74148297, 0.67368197, 0.45901039, ..., 0.38548869, 0.31812355,\n",
              "        1.        ]])"
            ]
          },
          "metadata": {
            "tags": []
          },
          "execution_count": 18
        }
      ]
    },
    {
      "cell_type": "code",
      "metadata": {
        "id": "ycG91rwf5pxg"
      },
      "source": [
        "features={}\n",
        "for i in range(len(bagofwords)-1):\n",
        "  similar=[]\n",
        "  for j in range(i+1,len(bagofwords)):\n",
        "    if simi_matrix[i][j]>=0.7:\n",
        "      similar.append(bagofwords[j])\n",
        "  features[bagofwords[i]]=similar\n",
        "features[bagofwords[-1]]=[]    \n"
      ],
      "execution_count": 19,
      "outputs": []
    },
    {
      "cell_type": "code",
      "metadata": {
        "colab": {
          "base_uri": "https://localhost:8080/"
        },
        "id": "Nb6RltULTOdv",
        "outputId": "5f325a2d-70ae-4e25-c67a-0282403584f9"
      },
      "source": [
        "print(features)"
      ],
      "execution_count": 20,
      "outputs": [
        {
          "output_type": "stream",
          "text": [
            "{'chills': ['vomiting', 'dizziness', 'shortness', 'nausea', 'fevers', 'fever'], 'vomiting': ['diarrhea', 'dizziness', 'nausea', 'constipation'], 'dehydration': [], 'seizures': [], 'edema': [], 'breath': [], 'confusion': [], 'blood': [], 'abdominal': [], 'diarrhea': ['nausea', 'constipation'], 'kidney': ['renal'], 'chronic': ['acute'], 'cough': [], 'dizziness': ['headache', 'nausea', 'numbness'], 'gain': [], 'shortness': ['fevers'], 'warfarin': ['aspirin'], 'headache': ['nausea', 'pain'], 'redness': ['erythema'], 'atrial': ['fibrillation'], 'cancer': [], 'chest': [], 'hyperlipidemia': ['mellitus', 'hypertension'], 'erythema': [], 'disease': [], 'pulmonary': ['lung'], 'tract': [], 'heart': [], 'pneumonia': ['sepsis'], 'weight': [], 'coronary': ['myocardial', 'artery'], 'myocardial': ['infarction'], 'mellitus': ['diabetes'], 'systolic': [], 'stroke': ['infarction'], 'hypertension': [], 'swelling': [], 'nausea': ['constipation'], 'weakness': ['numbness'], 'mouth': [], 'fevers': ['fever'], 'urinary': [], 'lisinopril': ['metoprolol'], 'respiratory': [], 'acute': [], 'pain': ['numbness'], 'infarction': [], 'oxygen': [], 'tylenol': ['motrin'], 'prednisone': [], 'fibrillation': [], 'obstructive': [], 'gastrointestinal': [], 'diabetes': [], 'motrin': [], 'fracture': [], 'renal': [], 'failure': ['congestive'], 'constipation': [], 'anemia': [], 'artery': [], 'congestive': [], 'sepsis': [], 'bleed': ['bleeding'], 'alcohol': [], 'coumadin': [], 'cholesterol': [], 'numbness': [], 'infection': [], 'aspirin': [], 'lung': [], 'metoprolol': [], 'bleeding': [], 'loss': [], 'sodium': [], 'fever': []}\n"
          ],
          "name": "stdout"
        }
      ]
    },
    {
      "cell_type": "code",
      "metadata": {
        "colab": {
          "base_uri": "https://localhost:8080/"
        },
        "id": "1ofjzgG2TQNB",
        "outputId": "4585139e-755b-4eb5-ecfa-dd9e30d6881a"
      },
      "source": [
        "len(features)"
      ],
      "execution_count": 21,
      "outputs": [
        {
          "output_type": "execute_result",
          "data": {
            "text/plain": [
              "76"
            ]
          },
          "metadata": {
            "tags": []
          },
          "execution_count": 21
        }
      ]
    },
    {
      "cell_type": "code",
      "metadata": {
        "id": "RGiNkKvbY_hU"
      },
      "source": [
        "features_list=[features[k]+[k] for k in list(features)]"
      ],
      "execution_count": 22,
      "outputs": []
    },
    {
      "cell_type": "code",
      "metadata": {
        "colab": {
          "base_uri": "https://localhost:8080/"
        },
        "id": "qS1fBDmy4OWW",
        "outputId": "0c5d518c-e4e4-4dfa-d774-87138b793f19"
      },
      "source": [
        "features_list"
      ],
      "execution_count": 23,
      "outputs": [
        {
          "output_type": "execute_result",
          "data": {
            "text/plain": [
              "[['vomiting', 'dizziness', 'shortness', 'nausea', 'fevers', 'fever', 'chills'],\n",
              " ['diarrhea', 'dizziness', 'nausea', 'constipation', 'vomiting'],\n",
              " ['dehydration'],\n",
              " ['seizures'],\n",
              " ['edema'],\n",
              " ['breath'],\n",
              " ['confusion'],\n",
              " ['blood'],\n",
              " ['abdominal'],\n",
              " ['nausea', 'constipation', 'diarrhea'],\n",
              " ['renal', 'kidney'],\n",
              " ['acute', 'chronic'],\n",
              " ['cough'],\n",
              " ['headache', 'nausea', 'numbness', 'dizziness'],\n",
              " ['gain'],\n",
              " ['fevers', 'shortness'],\n",
              " ['aspirin', 'warfarin'],\n",
              " ['nausea', 'pain', 'headache'],\n",
              " ['erythema', 'redness'],\n",
              " ['fibrillation', 'atrial'],\n",
              " ['cancer'],\n",
              " ['chest'],\n",
              " ['mellitus', 'hypertension', 'hyperlipidemia'],\n",
              " ['erythema'],\n",
              " ['disease'],\n",
              " ['lung', 'pulmonary'],\n",
              " ['tract'],\n",
              " ['heart'],\n",
              " ['sepsis', 'pneumonia'],\n",
              " ['weight'],\n",
              " ['myocardial', 'artery', 'coronary'],\n",
              " ['infarction', 'myocardial'],\n",
              " ['diabetes', 'mellitus'],\n",
              " ['systolic'],\n",
              " ['infarction', 'stroke'],\n",
              " ['hypertension'],\n",
              " ['swelling'],\n",
              " ['constipation', 'nausea'],\n",
              " ['numbness', 'weakness'],\n",
              " ['mouth'],\n",
              " ['fever', 'fevers'],\n",
              " ['urinary'],\n",
              " ['metoprolol', 'lisinopril'],\n",
              " ['respiratory'],\n",
              " ['acute'],\n",
              " ['numbness', 'pain'],\n",
              " ['infarction'],\n",
              " ['oxygen'],\n",
              " ['motrin', 'tylenol'],\n",
              " ['prednisone'],\n",
              " ['fibrillation'],\n",
              " ['obstructive'],\n",
              " ['gastrointestinal'],\n",
              " ['diabetes'],\n",
              " ['motrin'],\n",
              " ['fracture'],\n",
              " ['renal'],\n",
              " ['congestive', 'failure'],\n",
              " ['constipation'],\n",
              " ['anemia'],\n",
              " ['artery'],\n",
              " ['congestive'],\n",
              " ['sepsis'],\n",
              " ['bleeding', 'bleed'],\n",
              " ['alcohol'],\n",
              " ['coumadin'],\n",
              " ['cholesterol'],\n",
              " ['numbness'],\n",
              " ['infection'],\n",
              " ['aspirin'],\n",
              " ['lung'],\n",
              " ['metoprolol'],\n",
              " ['bleeding'],\n",
              " ['loss'],\n",
              " ['sodium'],\n",
              " ['fever']]"
            ]
          },
          "metadata": {
            "tags": []
          },
          "execution_count": 23
        }
      ]
    },
    {
      "cell_type": "code",
      "metadata": {
        "colab": {
          "base_uri": "https://localhost:8080/"
        },
        "id": "gfV-2Tt17vVk",
        "outputId": "e0d9e9ce-04eb-41b1-ed29-1ee35903618c"
      },
      "source": [
        "len(features_list)"
      ],
      "execution_count": 24,
      "outputs": [
        {
          "output_type": "execute_result",
          "data": {
            "text/plain": [
              "76"
            ]
          },
          "metadata": {
            "tags": []
          },
          "execution_count": 24
        }
      ]
    },
    {
      "cell_type": "code",
      "metadata": {
        "id": "OtH290oxKvRu"
      },
      "source": [
        "#Python code to merge all sublist having common elements. \n",
        "\n",
        "#Importing \n",
        "from collections import defaultdict \n",
        "\n",
        "#merge function to merge all sublist having common elements. \n",
        "def merge_common(lists): \n",
        "\tneigh = defaultdict(set) \n",
        "\tvisited = set() \n",
        "\tfor each in lists: \n",
        "\t\tfor item in each: \n",
        "\t\t\tneigh[item].update(each) \n",
        "\tdef comp(node, neigh = neigh, visited = visited, vis = visited.add): \n",
        "\t\tnodes = set([node]) \n",
        "\t\tnext_node = nodes.pop \n",
        "\t\twhile nodes: \n",
        "\t\t\tnode = next_node() \n",
        "\t\t\tvis(node) \n",
        "\t\t\tnodes |= neigh[node] - visited \n",
        "\t\t\tyield node \n",
        "\tfor node in neigh: \n",
        "\t\tif node not in visited: \n",
        "\t\t\tyield sorted(comp(node)) \n",
        "\n",
        "# #Input list initialization \n",
        "# Input = [['z','x','y'], ['y','g','e'], ['z'],['x','p'], \n",
        "# \t\t['a','b'], ['y','a'], ['d','g']] \n",
        "\n",
        "#Calling merge function \n",
        "condensed_feature = list(merge_common(features_list)) \n",
        "\n",
        "#Printing function \n",
        "# print(\"Initial list of list is :\") \n",
        "# print(Input) \n",
        "\n",
        "# print(\"List of list after merging is:\") \n",
        "# print(Output) \n"
      ],
      "execution_count": 25,
      "outputs": []
    },
    {
      "cell_type": "code",
      "metadata": {
        "colab": {
          "base_uri": "https://localhost:8080/"
        },
        "id": "Nda6bOq_PMzp",
        "outputId": "6e622824-bd18-4b58-cabd-ea2d12836255"
      },
      "source": [
        "condensed_feature"
      ],
      "execution_count": 26,
      "outputs": [
        {
          "output_type": "execute_result",
          "data": {
            "text/plain": [
              "[['chills',\n",
              "  'constipation',\n",
              "  'diarrhea',\n",
              "  'dizziness',\n",
              "  'fever',\n",
              "  'fevers',\n",
              "  'headache',\n",
              "  'nausea',\n",
              "  'numbness',\n",
              "  'pain',\n",
              "  'shortness',\n",
              "  'vomiting',\n",
              "  'weakness'],\n",
              " ['dehydration'],\n",
              " ['seizures'],\n",
              " ['edema'],\n",
              " ['breath'],\n",
              " ['confusion'],\n",
              " ['blood'],\n",
              " ['abdominal'],\n",
              " ['kidney', 'renal'],\n",
              " ['acute', 'chronic'],\n",
              " ['cough'],\n",
              " ['gain'],\n",
              " ['aspirin', 'warfarin'],\n",
              " ['erythema', 'redness'],\n",
              " ['atrial', 'fibrillation'],\n",
              " ['cancer'],\n",
              " ['chest'],\n",
              " ['diabetes', 'hyperlipidemia', 'hypertension', 'mellitus'],\n",
              " ['disease'],\n",
              " ['lung', 'pulmonary'],\n",
              " ['tract'],\n",
              " ['heart'],\n",
              " ['pneumonia', 'sepsis'],\n",
              " ['weight'],\n",
              " ['artery', 'coronary', 'infarction', 'myocardial', 'stroke'],\n",
              " ['systolic'],\n",
              " ['swelling'],\n",
              " ['mouth'],\n",
              " ['urinary'],\n",
              " ['lisinopril', 'metoprolol'],\n",
              " ['respiratory'],\n",
              " ['oxygen'],\n",
              " ['motrin', 'tylenol'],\n",
              " ['prednisone'],\n",
              " ['obstructive'],\n",
              " ['gastrointestinal'],\n",
              " ['fracture'],\n",
              " ['congestive', 'failure'],\n",
              " ['anemia'],\n",
              " ['bleed', 'bleeding'],\n",
              " ['alcohol'],\n",
              " ['coumadin'],\n",
              " ['cholesterol'],\n",
              " ['infection'],\n",
              " ['loss'],\n",
              " ['sodium']]"
            ]
          },
          "metadata": {
            "tags": []
          },
          "execution_count": 26
        }
      ]
    },
    {
      "cell_type": "code",
      "metadata": {
        "colab": {
          "base_uri": "https://localhost:8080/"
        },
        "id": "M73nO1biPxgB",
        "outputId": "8b7c5354-d7dc-4dca-831c-8f5ded8b5994"
      },
      "source": [
        "len(condensed_feature)"
      ],
      "execution_count": 27,
      "outputs": [
        {
          "output_type": "execute_result",
          "data": {
            "text/plain": [
              "46"
            ]
          },
          "metadata": {
            "tags": []
          },
          "execution_count": 27
        }
      ]
    },
    {
      "cell_type": "code",
      "metadata": {
        "colab": {
          "base_uri": "https://localhost:8080/"
        },
        "id": "JfjTqvFLPOZh",
        "outputId": "33e6cd1c-d990-4a48-a131-dee0cd42dd62"
      },
      "source": [
        "model.similarity('abdominal','edema')"
      ],
      "execution_count": 28,
      "outputs": [
        {
          "output_type": "execute_result",
          "data": {
            "text/plain": [
              "0.40815303"
            ]
          },
          "metadata": {
            "tags": []
          },
          "execution_count": 28
        }
      ]
    },
    {
      "cell_type": "code",
      "metadata": {
        "colab": {
          "base_uri": "https://localhost:8080/"
        },
        "id": "YzmZ12mIQS8x",
        "outputId": "e4521443-44f6-47d2-d763-179e986b2fde"
      },
      "source": [
        "model.similarity('gain','loss')"
      ],
      "execution_count": 29,
      "outputs": [
        {
          "output_type": "execute_result",
          "data": {
            "text/plain": [
              "0.6596458"
            ]
          },
          "metadata": {
            "tags": []
          },
          "execution_count": 29
        }
      ]
    },
    {
      "cell_type": "code",
      "metadata": {
        "id": "RINKSwHpRULx"
      },
      "source": [
        "condensed_feature_dict={}\n",
        "count=0\n",
        "for i in condensed_feature:\n",
        "  condensed_feature_dict['f'+str(count)]=i\n",
        "  count+=1"
      ],
      "execution_count": 30,
      "outputs": []
    },
    {
      "cell_type": "code",
      "metadata": {
        "colab": {
          "base_uri": "https://localhost:8080/"
        },
        "id": "dfpK-kKVUIPY",
        "outputId": "8da1a58e-335f-4578-c394-37aba48d1699"
      },
      "source": [
        "print(condensed_feature_dict)"
      ],
      "execution_count": 31,
      "outputs": [
        {
          "output_type": "stream",
          "text": [
            "{'f0': ['chills', 'constipation', 'diarrhea', 'dizziness', 'fever', 'fevers', 'headache', 'nausea', 'numbness', 'pain', 'shortness', 'vomiting', 'weakness'], 'f1': ['dehydration'], 'f2': ['seizures'], 'f3': ['edema'], 'f4': ['breath'], 'f5': ['confusion'], 'f6': ['blood'], 'f7': ['abdominal'], 'f8': ['kidney', 'renal'], 'f9': ['acute', 'chronic'], 'f10': ['cough'], 'f11': ['gain'], 'f12': ['aspirin', 'warfarin'], 'f13': ['erythema', 'redness'], 'f14': ['atrial', 'fibrillation'], 'f15': ['cancer'], 'f16': ['chest'], 'f17': ['diabetes', 'hyperlipidemia', 'hypertension', 'mellitus'], 'f18': ['disease'], 'f19': ['lung', 'pulmonary'], 'f20': ['tract'], 'f21': ['heart'], 'f22': ['pneumonia', 'sepsis'], 'f23': ['weight'], 'f24': ['artery', 'coronary', 'infarction', 'myocardial', 'stroke'], 'f25': ['systolic'], 'f26': ['swelling'], 'f27': ['mouth'], 'f28': ['urinary'], 'f29': ['lisinopril', 'metoprolol'], 'f30': ['respiratory'], 'f31': ['oxygen'], 'f32': ['motrin', 'tylenol'], 'f33': ['prednisone'], 'f34': ['obstructive'], 'f35': ['gastrointestinal'], 'f36': ['fracture'], 'f37': ['congestive', 'failure'], 'f38': ['anemia'], 'f39': ['bleed', 'bleeding'], 'f40': ['alcohol'], 'f41': ['coumadin'], 'f42': ['cholesterol'], 'f43': ['infection'], 'f44': ['loss'], 'f45': ['sodium']}\n"
          ],
          "name": "stdout"
        }
      ]
    },
    {
      "cell_type": "code",
      "metadata": {
        "colab": {
          "base_uri": "https://localhost:8080/",
          "height": 1000
        },
        "id": "jOV_DH9eUToM",
        "outputId": "a8c49bf0-d442-441d-826a-32a71d0fba37"
      },
      "source": [
        "diagnosis_icd9category_token"
      ],
      "execution_count": 32,
      "outputs": [
        {
          "output_type": "execute_result",
          "data": {
            "text/html": [
              "<div>\n",
              "<style scoped>\n",
              "    .dataframe tbody tr th:only-of-type {\n",
              "        vertical-align: middle;\n",
              "    }\n",
              "\n",
              "    .dataframe tbody tr th {\n",
              "        vertical-align: top;\n",
              "    }\n",
              "\n",
              "    .dataframe thead th {\n",
              "        text-align: right;\n",
              "    }\n",
              "</style>\n",
              "<table border=\"1\" class=\"dataframe\">\n",
              "  <thead>\n",
              "    <tr style=\"text-align: right;\">\n",
              "      <th></th>\n",
              "      <th>HADM_ID</th>\n",
              "      <th>discharge diagnosis:</th>\n",
              "      <th>icd9_category</th>\n",
              "      <th>medical_terms_list</th>\n",
              "    </tr>\n",
              "  </thead>\n",
              "  <tbody>\n",
              "    <tr>\n",
              "      <th>0</th>\n",
              "      <td>167118.0</td>\n",
              "      <td>discharge diagnosis:  copd, coronary artery disease/atypical angina (lad 30%, rca 30%,  ef 63%), hypercholesterolemia, hypothyroidism, hypertension,  hiatal hernia, cerebral vascular accident,s/p motor vehicle  colision-&gt; head injury &amp; rib fracture.  tbm- s/p tracheoplasty.      discharge condition:  good    discharge instructions:  please update dr.&lt;name&gt; &lt;telephone&gt; office for:  fever,  shortness of breath, chest pain , productive cough or if you  have any questions or concerns.      completed by: &lt;date&gt;</td>\n",
              "      <td>[496, 553, 518, 453, 519, 276]</td>\n",
              "      <td>[hypercholesterolemia, cerebral, hypothyroidism, cough, accident, hypertension, artery, chest, vascular, coronary, fracture, injury, angina, pain, head]</td>\n",
              "    </tr>\n",
              "    <tr>\n",
              "      <th>1</th>\n",
              "      <td>196489.0</td>\n",
              "      <td>discharge diagnosis:  primary:  1. chronic obstructive pulmonary disease exacerbation  2. respiratory failure with intubation  3. upper gastrointestinal bleed/peptic ulcer disease  4. hypertension  5. anxiety    secondary:  1. coronary artery disease  2. hypothyroidism      discharge condition:  mental status: confused - sometimes.  level of consciousness: alert and interactive.  activity status: out of bed with assistance to chair or  wheelchair.      discharge instructions:  you were admitted to the hospital with shortness of breath and  respiratory failure and lethargy. in the emergency department,  you were breathing very fast and a breathing tube was inserted  into your airway to help you breathe. you were admitted to the  intensive care unit. there, you were managed with steroids and  antibiotics and the tube was eventually removed from your  airway, allowing you to breathe on your own. you also underwent  bronchoscopy which looked at the inside of your airways.  .  during your time in the intensive care unit, you developed a  gastrointestinal bleed. a tube was placed into your stomach and  you underwent an endoscopic procedure to look at your esophagus  and stomach. this showed inflammation in your esophagusand  ulcers in your stomach.  .  you should continue to use nasal oxygen by nasal cannula as  needed. you should continue the steroid taper as instructed. you  should call your doctor or return to the emergency room if you  have increasing difficulty breathing or shortness of breath,  wheezing, chest pain, blood in your stool or vomiting blood.  .  there are some changes in your medications.  start pantoprazole 40 mg twice daily and stop omeprazole  start hydrochlorothiazide  start prednisone, taking 30 mg for 3 days, then 20 mg for 4  days, then 10 mg for 4 days, then 5 mg for 4 days, then stop.  start colace and senna as needed for constipation  can use morphine to alleviate symptoms of respiratory discomfort  stop furosemide  stop zolpidem  stop aspirin  increase diovan to 240 mg daily  decrease trazodone to 50 mg daily  .  follow up as indicated below.    followup instructions:  you have an appointment to follow up with dr. &lt;name&gt;, your  primary care physician, &lt;name&gt; [**8-29**] at 1pm. his address is [**location (un) 1822**], [**apartment address(1) 1823**], [**location (un) **],[**numeric identifier 1700**]. the phone is  &lt;telephone&gt;.    you have an appointment to follow up with dr. &lt;name&gt; &lt;name&gt; in  the  &lt;name&gt; at &lt;hospital&gt; on the [**location (un) 453**]. their phone number is  &lt;telephone&gt;.    department: div. of gastroenterology  when: wednesday  &lt;date&gt;  at 3:00 pm  with: &lt;name&gt; &lt;name&gt;, md &lt;telephone&gt;  building: ra &lt;name&gt; (&lt;name&gt;/&lt;name&gt; complex) [**location (un) **]  campus: east     best parking: main garage</td>\n",
              "      <td>[487, 416, 272, 530, 414, 553, 531, 518, 401, 519, 348, V02, 359, 584, 458, 578, 491, E93, 276, 244]</td>\n",
              "      <td>[pulmonary, hypertension, of, obstructive, discomfort, gastrointestinal, constipation, oxygen, breath, inflammation, artery, chest, hydrochlorothiazide, steroid, anxiety, omeprazole, senna, trazodone, failure, shortness, disease, pantoprazole, aspirin, hypothyroidism, zolpidem, furosemide, coronary, prednisone, lethargy, steroids, ulcer, chronic, respiratory, morphine, pain]</td>\n",
              "    </tr>\n",
              "    <tr>\n",
              "      <th>2</th>\n",
              "      <td>135453.0</td>\n",
              "      <td>discharge diagnosis:  1. cervical spondylosis with calcification of posterior  longitudinal ligament.  2. fracture dislocation c6-c7.  3. ossification of the posterior longitudinal ligament.  4. aspiration pneumonia      1. cervical spondylosis with calcification of posterior      longitudinal ligament.  2. fracture dislocation c6-c7.  3. ossification of the posterior longitudinal ligament.  4. aspiration pneumonia    1. cervical spondylosis with calcification of posterior      longitudinal ligament.  2. fracture dislocation c6-c7.  3. ossification of the posterior longitudinal ligament.  4. aspiration pneumonia      discharge condition:  stable to outside facility      discharge instructions:  patient has been made cmo at the request of him and his family.  he has a foley placed for urinary retention. please use morphine  as needed for pain and olanzapine as needed for agitiation.  patient has known history of aspiration documented on speech and  swallow. it is the patient and the family's wish for him to  continue to eat and drink as desired.    followup instructions:  follow up with your primary care physician as needed.</td>\n",
              "      <td>[V12, 788, 805, 507, V45, 401, 427, 453, E88, 293, 802, 428]</td>\n",
              "      <td>[ligament, spondylosis, of, cervical, urinary, posterior, calcification, olanzapine, fracture, pneumonia, dislocation, retention, longitudinal, morphine, pain]</td>\n",
              "    </tr>\n",
              "    <tr>\n",
              "      <th>3</th>\n",
              "      <td>170490.0</td>\n",
              "      <td>discharge diagnosis:  brain lesion    discharge condition:  mental status: clear and coherent.  level of consciousness: alert and interactive.  activity status: ambulatory - independent.  neuro exam intact.    discharge instructions:  ??????\\thave a friend/family member check your incision daily for  signs of infection.  ??????\\ttake your pain medicine as prescribed.  ??????\\texercise should be limited to walking; no lifting, straining,  or excessive bending.  ??????\\tyou have dissolvable sutures, you must keep that area dry for  10 days.  ??????\\tyou may shower before this time using a shower cap to cover  your head.  ??????\\tincrease your intake of fluids and fiber, as narcotic pain  medicine can cause constipation. we generally recommend taking  an over the counter stool softener, such as docusate (colace)  while taking narcotic pain medication.  ??????\\tunless directed by your doctor, do not take any  anti-inflammatory medicines such as motrin, aspirin, advil, and  ibuprofen etc.  ??????\\tif you have been prescribed dilantin (phenytoin) for  anti-seizure medicine, take it as prescribed and follow up with  laboratory blood drawing in one week.  this can be drawn at your  pcp??????s office, but please have the results faxed to &lt;telephone&gt;.  if you have been discharged on keppra (levetiracetam), you will  not require blood work monitoring.  ??????\\tif you are being sent home on steroid medication, make sure  you are taking a medication to protect your stomach (prilosec,  protonix, or pepcid), as these medications can cause stomach  irritation.  make sure to take your steroid medication with  meals, or a glass of milk.  ??????\\tclearance to drive and return to work will be addressed at  your post-operative office visit.  ??????\\tmake sure to continue to use your incentive spirometer while  at home.  call your surgeon immediately if you experience any of the  following    ??????\\tnew onset of tremors or seizures.  ??????\\tany confusion or change in mental status.  ??????\\tany numbness, tingling, weakness in your extremities.  ??????\\tpain or headache that is continually increasing, or not  relieved by pain medication.  ??????\\tany signs of infection at the wound site: increasing redness,  increased swelling, increased tenderness, or drainage.  ??????\\tfever greater than or equal to 101?????? f.    followup instructions:  ??????\\tplease return to the office in [**6-28**] days (from your date of  surgery) for a wound check. this appointment can be made with  the nurse practitioner.  please make this appointment by calling  &lt;telephone&gt;. if you live quite a distance from our office,  please make arrangements for the same, with your pcp.</td>\n",
              "      <td>[710, 225, 443, 714, 530, V43]</td>\n",
              "      <td>[motrin, aspirin, levetiracetam, seizures, weakness, phenytoin, fever, redness, tenderness, docusate, infection, steroid, tingling, confusion, headache, constipation, tremors, numbness, pain]</td>\n",
              "    </tr>\n",
              "    <tr>\n",
              "      <th>4</th>\n",
              "      <td>134727.0</td>\n",
              "      <td>discharge diagnosis:  pneumonia    discharge condition:  expired    discharge instructions:  na    followup instructions:  na                                 &lt;name&gt; &lt;name&gt; md [**md number(2) 1851**]</td>\n",
              "      <td>[486, 518, V45, V58, 401, 577, 415, 428]</td>\n",
              "      <td>[]</td>\n",
              "    </tr>\n",
              "    <tr>\n",
              "      <th>...</th>\n",
              "      <td>...</td>\n",
              "      <td>...</td>\n",
              "      <td>...</td>\n",
              "      <td>...</td>\n",
              "    </tr>\n",
              "    <tr>\n",
              "      <th>41962</th>\n",
              "      <td>127716.0</td>\n",
              "      <td>discharge diagnosis:  aortic stenosis and coronary artery disease s/p aortic valve  replacement and coronary artery bypass graft  past medical history:  hypertension  hyperlipidemia  diabetes mellitus  osteoarthritis  phlebitis  lung cancer  hiatal hernia  hypthyroidism  s/p right lobectomy [**2117**]  s/p lymph node dissection in neck  s/p beast lumpectomy  s/p hysterectomy  s/p c section  s/p tonsillectomy      discharge condition:  alert and oriented x3 nonfocal  ambulating, steady gait  incisional pain managed with ultram  incisions:  sternal - healing well, no erythema or drainage  1+ le edema      discharge instructions:  please shower daily including washing incisions gently with mild  soap, no baths or swimming until cleared by surgeon. look at  your incisions daily for redness or drainage  please no lotions, cream, powder, or ointments to incisions  each morning you should weigh yourself and then in the evening  take your temperature, these should be written down on the chart    no driving for one month or while taking narcotics. driving will  be discussed at follow up appointment with surgeon. no lifting  more than 10 pounds for 10 weeks  please call with any questions or concerns &lt;telephone&gt;  females: please wear bra to reduce pulling on incision, avoid  rubbing on lower edge  **please call cardiac surgery office with any questions or  concerns &lt;telephone&gt;. answering service will contact on call  person during off hours**    followup instructions:  you are scheduled for the following appointments  wound care, &lt;name&gt;, &lt;name&gt;  phone:&lt;telephone&gt;  date/time: &lt;date&gt;  10:00    surgeon: dr. &lt;name&gt; &lt;telephone&gt; date/time: &lt;date&gt;  1:15  cardiologist: dr. &lt;name&gt;  &lt;date&gt;  at 3:00p    please call to schedule appointments with your  primary care dr. &lt;name&gt; &lt;name&gt; in &lt;telephone&gt;    **please call cardiac surgery office with any questions or  concerns &lt;telephone&gt;. answering service will contact on call  person during off hours**                                   &lt;name&gt; &lt;name&gt; md [**md number(2) 748**]    completed by: &lt;date&gt;</td>\n",
              "      <td>[416, 424, 272, V10, V85, 414, 250, 401, 278, 782]</td>\n",
              "      <td>[artery, redness, edema, coronary, erythema, disease]</td>\n",
              "    </tr>\n",
              "    <tr>\n",
              "      <th>41963</th>\n",
              "      <td>186377.0</td>\n",
              "      <td>discharge diagnosis:  coronary artery disease  pmh:  hypertension, diabetes, copd, diastolic heart failure, ef 45-50%  past surgical history  penile implant      discharge condition:  alert and oriented x3 nonfocal  ambulating, gait steady  sternal pain managed with oral analgesics  sternal incision - healing well, no erythema or drainage  right lower extremity saph site clean/dry/intact      discharge instructions:  please draw bun/cre, inr at least every other day until they  stabilize  please shower daily including washing incisions gently with mild  soap, no baths or swimming, and look at your incisions  please no lotions, cream, powder, or ointments to incisions  each morning you should weigh yourself and then in the evening  take your temperature, these should be written down on the chart  no driving for approximately one month and while taking  narcotics, will be discussed at follow up appointment with  surgeon when you will be able to drive  no lifting more than 10 pounds for 10 weeks  please call with any questions or concerns &lt;telephone&gt;  **please call cardiac surgery office with any questions or  concerns &lt;telephone&gt;. answering service will contact on call  person during off hours**      followup instructions:  you are scheduled for the following appointments:  surgeon dr. &lt;name&gt; &lt;telephone&gt;,  &lt;date&gt;  1:00  cardiologist dr. &lt;name&gt;. &lt;name&gt; office will call you with an  appointment  please call to schedule the following:  primary care dr. &lt;name&gt;,&lt;name&gt; in [**3-8**] weeks  please follow up with dr. &lt;name&gt; &lt;name&gt; call &lt;telephone&gt; to  schedule an appointment  dialysis,schedule hemodialysis unit date/time: &lt;date&gt;  12:00  renal: dr. &lt;name&gt; &lt;telephone&gt;  diabetes: if patient requires endocrine follow-up after  discharge from rehab, please contact &lt;name&gt;, &lt;name&gt; at &lt;hospital&gt;  **please call cardiac surgery office with any questions or  concerns &lt;telephone&gt;. answering service will contact on call  person during off hours**    inr draw on [**8-16**]  goal inr [**1-5**]  indication: atrial fibrillation                                   &lt;name&gt; &lt;name&gt; md [**md number(2) 266**]    completed by: &lt;date&gt;</td>\n",
              "      <td>[424, 511, 305, 707, 403, 496, 784, 250, 414, V58, 427, 428, 584, 008, 997, 434, 410, 585, 041, 599]</td>\n",
              "      <td>[atrial, diabetes, diastolic, fibrillation, heart, failure, erythema, clean/dry/intact]</td>\n",
              "    </tr>\n",
              "    <tr>\n",
              "      <th>41964</th>\n",
              "      <td>156564.0</td>\n",
              "      <td>discharge diagnosis:  left knee infection  chronic obstructive pulmonary disease exacerbation  acute on chronic kidney injury  congestive heart failure  hypertension      discharge condition:  mental status: clear and coherent.  level of consciousness: alert and interactive.  activity status: out of bed with assistance to chair or  wheelchair.      discharge instructions:  mr. &lt;name&gt;,    you were admitted to the hospital for a infected hardware in  your left knee. our orthopaedics team cleaned out the infection  in your knee and replaced the liner of your prosthesis. they  feel you should follow up with your primary orthopaedic doctor,  dr. &lt;name&gt; &lt;name&gt; at &lt;hospital&gt; (&lt;telephone&gt;), for ongoing  issues about your knee. the cultures of the infection in your  knee grew two different organisms, so we consulted our  infectious disease doctors who recommended a course of iv  antibiotics to help treat your infection. because this infection  occured inside of a joint, a longer course of antibiotics is  required. you went multiple times to the operating room to  wash-out your knee of any remaining infection, and your hardware  was removed. most recently you had a portion of tissue grafted  to your knee to provide for better coverage of your wound, along  with skin graft. your kidney function worsened while you were in  the hospital but it appears to have normalized. this should be  followed up with your primary care physician.    we made the following changes to your medications:  started:  vancomycin (antibiotic)  ceftriaxone (antibiotic)    increased metoprolol for blood pressure    followup instructions:  department: plastic surgery  when: wednesday  &lt;date&gt;  at 3:15 pm  with: &lt;name&gt; &lt;name&gt;, md &lt;telephone&gt;  building: lm &lt;name&gt; bldg (&lt;name&gt;) [**location (un) **]  campus: west     best parking: &lt;name&gt; garage    name: &lt;name&gt;, &lt;name&gt; &lt;name&gt; &lt;name&gt;  location: community physicians associates  address: &lt;hospital&gt;,[**numeric identifier 18406**]  phone: &lt;telephone&gt;  appointment: thursday  &lt;date&gt;  1:15pm    department: infectious disease  when: friday  &lt;date&gt;  at 9:30 am  with: &lt;name&gt; &lt;name&gt;, md &lt;telephone&gt;  building: lm &lt;name&gt; bldg (&lt;name&gt;) &lt;hospital&gt;  campus: west     best parking: &lt;name&gt; garage    name: nabi,&lt;name&gt; md  address: &lt;hospital&gt;,[**numeric identifier 18406**]  phone: &lt;telephone&gt;  **please discuss with the staff at the facility a follow up  appointment with your pcp when you are ready for discharge.      department: plastic surgery  when: wednesday  &lt;date&gt;  at 3:15 pm  with: &lt;name&gt; &lt;name&gt;, md &lt;telephone&gt;  building: lm &lt;name&gt; bldg (&lt;name&gt;) [**location (un) **]  campus: west     best parking: &lt;name&gt; garage    department: infectious disease  when: friday  &lt;date&gt;  at 9:30 am  with: &lt;name&gt; &lt;name&gt;, md &lt;telephone&gt;  building: lm &lt;name&gt; bldg (&lt;name&gt;) &lt;hospital&gt;  campus: west     best parking: &lt;name&gt; garage                                   &lt;name&gt; &lt;name&gt; md [**md number(1) 348**]    completed by: &lt;date&gt;</td>\n",
              "      <td>[V10, 403, 584, V43, 428, 285, 496, 250, V58, 041, 357, 707, 365, 414, 780, 518, 711, 585, 327, V12, E84, E87, 996]</td>\n",
              "      <td>[pulmonary, infectious, hypertension, kidney, obstructive, heart, injury, failure, metoprolol, infection, disease]</td>\n",
              "    </tr>\n",
              "    <tr>\n",
              "      <th>41965</th>\n",
              "      <td>172559.0</td>\n",
              "      <td>discharge diagnosis:  primary:  small bowel obstruction  metastatic prostate cancer  anasarca  malnutrition  dehydration  acute renal failure  aspiration pneumonia  .  secondary:  prostate ca s/p xrt and chemo - rising psa (140), lg rp mass,  oa, lbp, diverticulosis w/ colovesical fistula s/p lar [**5-18**], s/p  ileostomy takedown [**10-18**], open ccy      discharge condition:  stable      discharge instructions:  please call your doctor or return to the er for any of the  following:  * you experience new chest pain, pressure, squeezing or  tightness.  * new or worsening cough or wheezing.  * if you are vomiting and cannot keep in fluids or your  medications.  * you are getting dehydrated due to continued vomiting,  diarrhea or other reasons. signs of dehydration include dry  mouth, rapid heartbeat or feeling dizzy or faint when standing.  * you see blood or dark/black material when you vomit or have a  bowel movement.  * your pain is not improving within 8-12 hours or not gone  within 24 hours. call or return immediately if your pain is  getting worse or is changing location or moving to your chest or    back.  *avoid lifting objects &gt; 5lbs until your follow-up appointment  with the surgeon.  *avoid driving or operating heavy machinery while taking pain  medications.  * you have shaking chills, or a fever greater than 101.5 (f)  degrees or 38(c) degrees.  * any serious change in your symptoms, or any new symptoms that  concern you.  * please resume all regular home medications and take any new  meds  as ordered.  * continue to ambulate several times per day.  .  incision care:  -your staples will be removed at your follow-up appointment with  the surgeon, and steri strips will be applied.  -your steri-strips will fall off on their own. please remove any  remaining strips 7-10 days after surgery.  -you may shower, and wash surgical incisions.  -avoid swimming and baths until your follow-up appointment.  -please call the doctor if you have increased pain, swelling,  redness, or drainage from the incision sites.      followup instructions:  1. please follow-up appointment with dr. &lt;name&gt; (&lt;telephone&gt; on  &lt;date&gt;  at 1:15pm for removal of your staples.  2. you have follow-up appointment with dr. &lt;name&gt; &lt;name&gt;, md  phone:&lt;telephone&gt; date/time: &lt;date&gt;  11:00, and chemotherapy at  provider: &lt;name&gt; &lt;name&gt;, rn phone:&lt;telephone&gt; date/time: &lt;date&gt;   12:00  3. provider: &lt;name&gt;,&lt;name&gt; &lt;name&gt; apg (sb)  phone:&lt;telephone&gt; date/time: &lt;date&gt;  10:10                                 &lt;name&gt; &lt;name&gt; md [**md number(1) 17**]    completed by: &lt;date&gt;</td>\n",
              "      <td>[197, 507, 185, 427, 261, 585, V66, 560, 783, 285, 276]</td>\n",
              "      <td>[dehydration, obstruction, cough, diverticulosis, fever, chest, vomiting, telephone, bowel, swelling, chills, prostate, colovesical, wheezing, phone, vomit, fistula, pain, cancer]</td>\n",
              "    </tr>\n",
              "    <tr>\n",
              "      <th>41966</th>\n",
              "      <td>135672.0</td>\n",
              "      <td>discharge diagnosis:  peritonitis secondary to small bowel perforation.  cmv enteritis  b-cell lymphoma  line infection  type 2 diabetes controlled without complications  moderate malnutrition  cad bypass vessle      discharge condition:  stable.  tolerating regular diet  pain well controlled with oral medications.      discharge instructions:  you are being discharged on an antiviral medication called  ganciclovir, which can make your diarhea worse for some time.  please contact your doctor if you experience numbness, tingling  or pain in hands or feet, as this may be a side effect of the  medication.    you will be having labs drawn every other day and sent to dr.  &lt;name&gt; of infectious diseases for monitoring of your blood  counts.    *avoid lifting objects &gt; 5lbs until your follow-up appointment  with the surgeon.    *avoid driving or operating heavy machinery while taking pain  medications.    * continue to ambulate several times per day.    incision care:  -your staples will be removed at your follow up appoinetment.  -steri-strips will be applied and will fall off on their own.  please remove any remaining strips 7-10 days after application.  -you may shower, and wash surgical incisions.  -avoid swimming and baths until your follow-up appointment.  -please call the doctor if you have increased pain, swelling,  redness, or drainage from the incision sites.    followup instructions:  you will need to have an ophthalmalogic evaluation to make sure  that there is no evidence of cmv infection of the retina - this  should happen this week.  please call: (&lt;telephone&gt; to  schedule this appointment; if you have any difficulty arranging  this, please discuss this with your primary doctor so that they  can facilitate/arrange this evaluation.    1. please call dr.&lt;name&gt; office, &lt;telephone&gt;, to make a  follow up appointment in [**11-23**] weeks.  scheduled appointments :  provider: &lt;name&gt; &lt;name&gt;, &lt;telephone&gt;  date/time: &lt;date&gt;  10:30  provider: &lt;name&gt; &lt;name&gt;, rn phone:&lt;telephone&gt;  date/time: &lt;date&gt;  11:00  provider: &lt;name&gt; chair 6  date/time: &lt;date&gt;  11:00                                   &lt;name&gt; &lt;name&gt; md [**md number(2) 431**]    completed by: &lt;date&gt;</td>\n",
              "      <td>[202, 401, 584, 255, 283, 238, 038, 785, 250, 008, 041, 272, 996, 078, V45, 567, 569, 273, 995, 263, 579, 782]</td>\n",
              "      <td>[infectious, telephone, bowel, swelling, diseases, phone, perforation, small, infection, numbness, pain]</td>\n",
              "    </tr>\n",
              "  </tbody>\n",
              "</table>\n",
              "<p>41967 rows × 4 columns</p>\n",
              "</div>"
            ],
            "text/plain": [
              "        HADM_ID  ...                                                                                                                                                                                                                                                                                                                                                                         medical_terms_list\n",
              "0      167118.0  ...                                                                                                                                                                                                                                   [hypercholesterolemia, cerebral, hypothyroidism, cough, accident, hypertension, artery, chest, vascular, coronary, fracture, injury, angina, pain, head]\n",
              "1      196489.0  ...  [pulmonary, hypertension, of, obstructive, discomfort, gastrointestinal, constipation, oxygen, breath, inflammation, artery, chest, hydrochlorothiazide, steroid, anxiety, omeprazole, senna, trazodone, failure, shortness, disease, pantoprazole, aspirin, hypothyroidism, zolpidem, furosemide, coronary, prednisone, lethargy, steroids, ulcer, chronic, respiratory, morphine, pain]\n",
              "2      135453.0  ...                                                                                                                                                                                                                            [ligament, spondylosis, of, cervical, urinary, posterior, calcification, olanzapine, fracture, pneumonia, dislocation, retention, longitudinal, morphine, pain]\n",
              "3      170490.0  ...                                                                                                                                                                                            [motrin, aspirin, levetiracetam, seizures, weakness, phenytoin, fever, redness, tenderness, docusate, infection, steroid, tingling, confusion, headache, constipation, tremors, numbness, pain]\n",
              "4      134727.0  ...                                                                                                                                                                                                                                                                                                                                                                                         []\n",
              "...         ...  ...                                                                                                                                                                                                                                                                                                                                                                                        ...\n",
              "41962  127716.0  ...                                                                                                                                                                                                                                                                                                                                      [artery, redness, edema, coronary, erythema, disease]\n",
              "41963  186377.0  ...                                                                                                                                                                                                                                                                                                    [atrial, diabetes, diastolic, fibrillation, heart, failure, erythema, clean/dry/intact]\n",
              "41964  156564.0  ...                                                                                                                                                                                                                                                                         [pulmonary, infectious, hypertension, kidney, obstructive, heart, injury, failure, metoprolol, infection, disease]\n",
              "41965  172559.0  ...                                                                                                                                                                                                        [dehydration, obstruction, cough, diverticulosis, fever, chest, vomiting, telephone, bowel, swelling, chills, prostate, colovesical, wheezing, phone, vomit, fistula, pain, cancer]\n",
              "41966  135672.0  ...                                                                                                                                                                                                                                                                                   [infectious, telephone, bowel, swelling, diseases, phone, perforation, small, infection, numbness, pain]\n",
              "\n",
              "[41967 rows x 4 columns]"
            ]
          },
          "metadata": {
            "tags": []
          },
          "execution_count": 32
        }
      ]
    },
    {
      "cell_type": "code",
      "metadata": {
        "colab": {
          "base_uri": "https://localhost:8080/"
        },
        "id": "fkvE33TaXjVG",
        "outputId": "9a40f439-2eea-4a6b-d769-a111100ed8a1"
      },
      "source": [
        "condensed_feature"
      ],
      "execution_count": 33,
      "outputs": [
        {
          "output_type": "execute_result",
          "data": {
            "text/plain": [
              "[['chills',\n",
              "  'constipation',\n",
              "  'diarrhea',\n",
              "  'dizziness',\n",
              "  'fever',\n",
              "  'fevers',\n",
              "  'headache',\n",
              "  'nausea',\n",
              "  'numbness',\n",
              "  'pain',\n",
              "  'shortness',\n",
              "  'vomiting',\n",
              "  'weakness'],\n",
              " ['dehydration'],\n",
              " ['seizures'],\n",
              " ['edema'],\n",
              " ['breath'],\n",
              " ['confusion'],\n",
              " ['blood'],\n",
              " ['abdominal'],\n",
              " ['kidney', 'renal'],\n",
              " ['acute', 'chronic'],\n",
              " ['cough'],\n",
              " ['gain'],\n",
              " ['aspirin', 'warfarin'],\n",
              " ['erythema', 'redness'],\n",
              " ['atrial', 'fibrillation'],\n",
              " ['cancer'],\n",
              " ['chest'],\n",
              " ['diabetes', 'hyperlipidemia', 'hypertension', 'mellitus'],\n",
              " ['disease'],\n",
              " ['lung', 'pulmonary'],\n",
              " ['tract'],\n",
              " ['heart'],\n",
              " ['pneumonia', 'sepsis'],\n",
              " ['weight'],\n",
              " ['artery', 'coronary', 'infarction', 'myocardial', 'stroke'],\n",
              " ['systolic'],\n",
              " ['swelling'],\n",
              " ['mouth'],\n",
              " ['urinary'],\n",
              " ['lisinopril', 'metoprolol'],\n",
              " ['respiratory'],\n",
              " ['oxygen'],\n",
              " ['motrin', 'tylenol'],\n",
              " ['prednisone'],\n",
              " ['obstructive'],\n",
              " ['gastrointestinal'],\n",
              " ['fracture'],\n",
              " ['congestive', 'failure'],\n",
              " ['anemia'],\n",
              " ['bleed', 'bleeding'],\n",
              " ['alcohol'],\n",
              " ['coumadin'],\n",
              " ['cholesterol'],\n",
              " ['infection'],\n",
              " ['loss'],\n",
              " ['sodium']]"
            ]
          },
          "metadata": {
            "tags": []
          },
          "execution_count": 33
        }
      ]
    },
    {
      "cell_type": "code",
      "metadata": {
        "id": "Oc6SnjmqXlI8"
      },
      "source": [
        "all_vocab=[a for b in condensed_feature for a in b]"
      ],
      "execution_count": 34,
      "outputs": []
    },
    {
      "cell_type": "code",
      "metadata": {
        "colab": {
          "base_uri": "https://localhost:8080/"
        },
        "id": "ZnWmGUD7sB0u",
        "outputId": "9f8297c2-4769-46d4-b985-d9a0578fc1ab"
      },
      "source": [
        "all_vocab"
      ],
      "execution_count": 35,
      "outputs": [
        {
          "output_type": "execute_result",
          "data": {
            "text/plain": [
              "['chills',\n",
              " 'constipation',\n",
              " 'diarrhea',\n",
              " 'dizziness',\n",
              " 'fever',\n",
              " 'fevers',\n",
              " 'headache',\n",
              " 'nausea',\n",
              " 'numbness',\n",
              " 'pain',\n",
              " 'shortness',\n",
              " 'vomiting',\n",
              " 'weakness',\n",
              " 'dehydration',\n",
              " 'seizures',\n",
              " 'edema',\n",
              " 'breath',\n",
              " 'confusion',\n",
              " 'blood',\n",
              " 'abdominal',\n",
              " 'kidney',\n",
              " 'renal',\n",
              " 'acute',\n",
              " 'chronic',\n",
              " 'cough',\n",
              " 'gain',\n",
              " 'aspirin',\n",
              " 'warfarin',\n",
              " 'erythema',\n",
              " 'redness',\n",
              " 'atrial',\n",
              " 'fibrillation',\n",
              " 'cancer',\n",
              " 'chest',\n",
              " 'diabetes',\n",
              " 'hyperlipidemia',\n",
              " 'hypertension',\n",
              " 'mellitus',\n",
              " 'disease',\n",
              " 'lung',\n",
              " 'pulmonary',\n",
              " 'tract',\n",
              " 'heart',\n",
              " 'pneumonia',\n",
              " 'sepsis',\n",
              " 'weight',\n",
              " 'artery',\n",
              " 'coronary',\n",
              " 'infarction',\n",
              " 'myocardial',\n",
              " 'stroke',\n",
              " 'systolic',\n",
              " 'swelling',\n",
              " 'mouth',\n",
              " 'urinary',\n",
              " 'lisinopril',\n",
              " 'metoprolol',\n",
              " 'respiratory',\n",
              " 'oxygen',\n",
              " 'motrin',\n",
              " 'tylenol',\n",
              " 'prednisone',\n",
              " 'obstructive',\n",
              " 'gastrointestinal',\n",
              " 'fracture',\n",
              " 'congestive',\n",
              " 'failure',\n",
              " 'anemia',\n",
              " 'bleed',\n",
              " 'bleeding',\n",
              " 'alcohol',\n",
              " 'coumadin',\n",
              " 'cholesterol',\n",
              " 'infection',\n",
              " 'loss',\n",
              " 'sodium']"
            ]
          },
          "metadata": {
            "tags": []
          },
          "execution_count": 35
        }
      ]
    },
    {
      "cell_type": "code",
      "metadata": {
        "colab": {
          "base_uri": "https://localhost:8080/",
          "height": 66,
          "referenced_widgets": [
            "b0b9ce582250475f8674d069f09ef4d9",
            "cc900c8440cb45d68d49d7d34029bf29",
            "56b655251ab9456abc379863b740d5b4",
            "cdf09f4b0ca7450cb0b65379cbee5cfe",
            "985b0ef7fedf4a7fa823447cb2eadd13",
            "04d8bd0ab0a042538abfec8769194b69",
            "b2c300c5629749129e02d7c81369d779",
            "0adfd8c9466c4032af5a2435ed0ff3c8"
          ]
        },
        "id": "VVv7C3juX3aw",
        "outputId": "1a69a45b-eb3b-43f9-a6bf-de055e623f47"
      },
      "source": [
        "diagnosis_icd9category_token['med_terms_condensed']=diagnosis_icd9category_token.medical_terms_list.progress_apply(lambda x:list(set(x).intersection(set(all_vocab))))"
      ],
      "execution_count": 36,
      "outputs": [
        {
          "output_type": "display_data",
          "data": {
            "application/vnd.jupyter.widget-view+json": {
              "model_id": "b0b9ce582250475f8674d069f09ef4d9",
              "version_minor": 0,
              "version_major": 2
            },
            "text/plain": [
              "HBox(children=(FloatProgress(value=0.0, max=41967.0), HTML(value='')))"
            ]
          },
          "metadata": {
            "tags": []
          }
        },
        {
          "output_type": "stream",
          "text": [
            "\n"
          ],
          "name": "stdout"
        }
      ]
    },
    {
      "cell_type": "code",
      "metadata": {
        "colab": {
          "base_uri": "https://localhost:8080/",
          "height": 1000
        },
        "id": "dHlP8tOYYlDl",
        "outputId": "c042c8de-91eb-4b5c-c0e1-deae47e6c23b"
      },
      "source": [
        "diagnosis_icd9category_token"
      ],
      "execution_count": 37,
      "outputs": [
        {
          "output_type": "execute_result",
          "data": {
            "text/html": [
              "<div>\n",
              "<style scoped>\n",
              "    .dataframe tbody tr th:only-of-type {\n",
              "        vertical-align: middle;\n",
              "    }\n",
              "\n",
              "    .dataframe tbody tr th {\n",
              "        vertical-align: top;\n",
              "    }\n",
              "\n",
              "    .dataframe thead th {\n",
              "        text-align: right;\n",
              "    }\n",
              "</style>\n",
              "<table border=\"1\" class=\"dataframe\">\n",
              "  <thead>\n",
              "    <tr style=\"text-align: right;\">\n",
              "      <th></th>\n",
              "      <th>HADM_ID</th>\n",
              "      <th>discharge diagnosis:</th>\n",
              "      <th>icd9_category</th>\n",
              "      <th>medical_terms_list</th>\n",
              "      <th>med_terms_condensed</th>\n",
              "    </tr>\n",
              "  </thead>\n",
              "  <tbody>\n",
              "    <tr>\n",
              "      <th>0</th>\n",
              "      <td>167118.0</td>\n",
              "      <td>discharge diagnosis:  copd, coronary artery disease/atypical angina (lad 30%, rca 30%,  ef 63%), hypercholesterolemia, hypothyroidism, hypertension,  hiatal hernia, cerebral vascular accident,s/p motor vehicle  colision-&gt; head injury &amp; rib fracture.  tbm- s/p tracheoplasty.      discharge condition:  good    discharge instructions:  please update dr.&lt;name&gt; &lt;telephone&gt; office for:  fever,  shortness of breath, chest pain , productive cough or if you  have any questions or concerns.      completed by: &lt;date&gt;</td>\n",
              "      <td>[496, 553, 518, 453, 519, 276]</td>\n",
              "      <td>[hypercholesterolemia, cerebral, hypothyroidism, cough, accident, hypertension, artery, chest, vascular, coronary, fracture, injury, angina, pain, head]</td>\n",
              "      <td>[hypertension, fracture, artery, chest, pain, coronary, cough]</td>\n",
              "    </tr>\n",
              "    <tr>\n",
              "      <th>1</th>\n",
              "      <td>196489.0</td>\n",
              "      <td>discharge diagnosis:  primary:  1. chronic obstructive pulmonary disease exacerbation  2. respiratory failure with intubation  3. upper gastrointestinal bleed/peptic ulcer disease  4. hypertension  5. anxiety    secondary:  1. coronary artery disease  2. hypothyroidism      discharge condition:  mental status: confused - sometimes.  level of consciousness: alert and interactive.  activity status: out of bed with assistance to chair or  wheelchair.      discharge instructions:  you were admitted to the hospital with shortness of breath and  respiratory failure and lethargy. in the emergency department,  you were breathing very fast and a breathing tube was inserted  into your airway to help you breathe. you were admitted to the  intensive care unit. there, you were managed with steroids and  antibiotics and the tube was eventually removed from your  airway, allowing you to breathe on your own. you also underwent  bronchoscopy which looked at the inside of your airways.  .  during your time in the intensive care unit, you developed a  gastrointestinal bleed. a tube was placed into your stomach and  you underwent an endoscopic procedure to look at your esophagus  and stomach. this showed inflammation in your esophagusand  ulcers in your stomach.  .  you should continue to use nasal oxygen by nasal cannula as  needed. you should continue the steroid taper as instructed. you  should call your doctor or return to the emergency room if you  have increasing difficulty breathing or shortness of breath,  wheezing, chest pain, blood in your stool or vomiting blood.  .  there are some changes in your medications.  start pantoprazole 40 mg twice daily and stop omeprazole  start hydrochlorothiazide  start prednisone, taking 30 mg for 3 days, then 20 mg for 4  days, then 10 mg for 4 days, then 5 mg for 4 days, then stop.  start colace and senna as needed for constipation  can use morphine to alleviate symptoms of respiratory discomfort  stop furosemide  stop zolpidem  stop aspirin  increase diovan to 240 mg daily  decrease trazodone to 50 mg daily  .  follow up as indicated below.    followup instructions:  you have an appointment to follow up with dr. &lt;name&gt;, your  primary care physician, &lt;name&gt; [**8-29**] at 1pm. his address is [**location (un) 1822**], [**apartment address(1) 1823**], [**location (un) **],[**numeric identifier 1700**]. the phone is  &lt;telephone&gt;.    you have an appointment to follow up with dr. &lt;name&gt; &lt;name&gt; in  the  &lt;name&gt; at &lt;hospital&gt; on the [**location (un) 453**]. their phone number is  &lt;telephone&gt;.    department: div. of gastroenterology  when: wednesday  &lt;date&gt;  at 3:00 pm  with: &lt;name&gt; &lt;name&gt;, md &lt;telephone&gt;  building: ra &lt;name&gt; (&lt;name&gt;/&lt;name&gt; complex) [**location (un) **]  campus: east     best parking: main garage</td>\n",
              "      <td>[487, 416, 272, 530, 414, 553, 531, 518, 401, 519, 348, V02, 359, 584, 458, 578, 491, E93, 276, 244]</td>\n",
              "      <td>[pulmonary, hypertension, of, obstructive, discomfort, gastrointestinal, constipation, oxygen, breath, inflammation, artery, chest, hydrochlorothiazide, steroid, anxiety, omeprazole, senna, trazodone, failure, shortness, disease, pantoprazole, aspirin, hypothyroidism, zolpidem, furosemide, coronary, prednisone, lethargy, steroids, ulcer, chronic, respiratory, morphine, pain]</td>\n",
              "      <td>[hypertension, shortness, failure, constipation, respiratory, artery, chest, disease, pulmonary, pain, breath, aspirin, coronary, oxygen, prednisone, chronic, obstructive, gastrointestinal]</td>\n",
              "    </tr>\n",
              "    <tr>\n",
              "      <th>2</th>\n",
              "      <td>135453.0</td>\n",
              "      <td>discharge diagnosis:  1. cervical spondylosis with calcification of posterior  longitudinal ligament.  2. fracture dislocation c6-c7.  3. ossification of the posterior longitudinal ligament.  4. aspiration pneumonia      1. cervical spondylosis with calcification of posterior      longitudinal ligament.  2. fracture dislocation c6-c7.  3. ossification of the posterior longitudinal ligament.  4. aspiration pneumonia    1. cervical spondylosis with calcification of posterior      longitudinal ligament.  2. fracture dislocation c6-c7.  3. ossification of the posterior longitudinal ligament.  4. aspiration pneumonia      discharge condition:  stable to outside facility      discharge instructions:  patient has been made cmo at the request of him and his family.  he has a foley placed for urinary retention. please use morphine  as needed for pain and olanzapine as needed for agitiation.  patient has known history of aspiration documented on speech and  swallow. it is the patient and the family's wish for him to  continue to eat and drink as desired.    followup instructions:  follow up with your primary care physician as needed.</td>\n",
              "      <td>[V12, 788, 805, 507, V45, 401, 427, 453, E88, 293, 802, 428]</td>\n",
              "      <td>[ligament, spondylosis, of, cervical, urinary, posterior, calcification, olanzapine, fracture, pneumonia, dislocation, retention, longitudinal, morphine, pain]</td>\n",
              "      <td>[urinary, fracture, pneumonia, pain]</td>\n",
              "    </tr>\n",
              "    <tr>\n",
              "      <th>3</th>\n",
              "      <td>170490.0</td>\n",
              "      <td>discharge diagnosis:  brain lesion    discharge condition:  mental status: clear and coherent.  level of consciousness: alert and interactive.  activity status: ambulatory - independent.  neuro exam intact.    discharge instructions:  ??????\\thave a friend/family member check your incision daily for  signs of infection.  ??????\\ttake your pain medicine as prescribed.  ??????\\texercise should be limited to walking; no lifting, straining,  or excessive bending.  ??????\\tyou have dissolvable sutures, you must keep that area dry for  10 days.  ??????\\tyou may shower before this time using a shower cap to cover  your head.  ??????\\tincrease your intake of fluids and fiber, as narcotic pain  medicine can cause constipation. we generally recommend taking  an over the counter stool softener, such as docusate (colace)  while taking narcotic pain medication.  ??????\\tunless directed by your doctor, do not take any  anti-inflammatory medicines such as motrin, aspirin, advil, and  ibuprofen etc.  ??????\\tif you have been prescribed dilantin (phenytoin) for  anti-seizure medicine, take it as prescribed and follow up with  laboratory blood drawing in one week.  this can be drawn at your  pcp??????s office, but please have the results faxed to &lt;telephone&gt;.  if you have been discharged on keppra (levetiracetam), you will  not require blood work monitoring.  ??????\\tif you are being sent home on steroid medication, make sure  you are taking a medication to protect your stomach (prilosec,  protonix, or pepcid), as these medications can cause stomach  irritation.  make sure to take your steroid medication with  meals, or a glass of milk.  ??????\\tclearance to drive and return to work will be addressed at  your post-operative office visit.  ??????\\tmake sure to continue to use your incentive spirometer while  at home.  call your surgeon immediately if you experience any of the  following    ??????\\tnew onset of tremors or seizures.  ??????\\tany confusion or change in mental status.  ??????\\tany numbness, tingling, weakness in your extremities.  ??????\\tpain or headache that is continually increasing, or not  relieved by pain medication.  ??????\\tany signs of infection at the wound site: increasing redness,  increased swelling, increased tenderness, or drainage.  ??????\\tfever greater than or equal to 101?????? f.    followup instructions:  ??????\\tplease return to the office in [**6-28**] days (from your date of  surgery) for a wound check. this appointment can be made with  the nurse practitioner.  please make this appointment by calling  &lt;telephone&gt;. if you live quite a distance from our office,  please make arrangements for the same, with your pcp.</td>\n",
              "      <td>[710, 225, 443, 714, 530, V43]</td>\n",
              "      <td>[motrin, aspirin, levetiracetam, seizures, weakness, phenytoin, fever, redness, tenderness, docusate, infection, steroid, tingling, confusion, headache, constipation, tremors, numbness, pain]</td>\n",
              "      <td>[motrin, weakness, seizures, headache, redness, constipation, numbness, confusion, aspirin, infection, pain, fever]</td>\n",
              "    </tr>\n",
              "    <tr>\n",
              "      <th>4</th>\n",
              "      <td>134727.0</td>\n",
              "      <td>discharge diagnosis:  pneumonia    discharge condition:  expired    discharge instructions:  na    followup instructions:  na                                 &lt;name&gt; &lt;name&gt; md [**md number(2) 1851**]</td>\n",
              "      <td>[486, 518, V45, V58, 401, 577, 415, 428]</td>\n",
              "      <td>[]</td>\n",
              "      <td>[]</td>\n",
              "    </tr>\n",
              "    <tr>\n",
              "      <th>...</th>\n",
              "      <td>...</td>\n",
              "      <td>...</td>\n",
              "      <td>...</td>\n",
              "      <td>...</td>\n",
              "      <td>...</td>\n",
              "    </tr>\n",
              "    <tr>\n",
              "      <th>41962</th>\n",
              "      <td>127716.0</td>\n",
              "      <td>discharge diagnosis:  aortic stenosis and coronary artery disease s/p aortic valve  replacement and coronary artery bypass graft  past medical history:  hypertension  hyperlipidemia  diabetes mellitus  osteoarthritis  phlebitis  lung cancer  hiatal hernia  hypthyroidism  s/p right lobectomy [**2117**]  s/p lymph node dissection in neck  s/p beast lumpectomy  s/p hysterectomy  s/p c section  s/p tonsillectomy      discharge condition:  alert and oriented x3 nonfocal  ambulating, steady gait  incisional pain managed with ultram  incisions:  sternal - healing well, no erythema or drainage  1+ le edema      discharge instructions:  please shower daily including washing incisions gently with mild  soap, no baths or swimming until cleared by surgeon. look at  your incisions daily for redness or drainage  please no lotions, cream, powder, or ointments to incisions  each morning you should weigh yourself and then in the evening  take your temperature, these should be written down on the chart    no driving for one month or while taking narcotics. driving will  be discussed at follow up appointment with surgeon. no lifting  more than 10 pounds for 10 weeks  please call with any questions or concerns &lt;telephone&gt;  females: please wear bra to reduce pulling on incision, avoid  rubbing on lower edge  **please call cardiac surgery office with any questions or  concerns &lt;telephone&gt;. answering service will contact on call  person during off hours**    followup instructions:  you are scheduled for the following appointments  wound care, &lt;name&gt;, &lt;name&gt;  phone:&lt;telephone&gt;  date/time: &lt;date&gt;  10:00    surgeon: dr. &lt;name&gt; &lt;telephone&gt; date/time: &lt;date&gt;  1:15  cardiologist: dr. &lt;name&gt;  &lt;date&gt;  at 3:00p    please call to schedule appointments with your  primary care dr. &lt;name&gt; &lt;name&gt; in &lt;telephone&gt;    **please call cardiac surgery office with any questions or  concerns &lt;telephone&gt;. answering service will contact on call  person during off hours**                                   &lt;name&gt; &lt;name&gt; md [**md number(2) 748**]    completed by: &lt;date&gt;</td>\n",
              "      <td>[416, 424, 272, V10, V85, 414, 250, 401, 278, 782]</td>\n",
              "      <td>[artery, redness, edema, coronary, erythema, disease]</td>\n",
              "      <td>[artery, redness, edema, erythema, disease, coronary]</td>\n",
              "    </tr>\n",
              "    <tr>\n",
              "      <th>41963</th>\n",
              "      <td>186377.0</td>\n",
              "      <td>discharge diagnosis:  coronary artery disease  pmh:  hypertension, diabetes, copd, diastolic heart failure, ef 45-50%  past surgical history  penile implant      discharge condition:  alert and oriented x3 nonfocal  ambulating, gait steady  sternal pain managed with oral analgesics  sternal incision - healing well, no erythema or drainage  right lower extremity saph site clean/dry/intact      discharge instructions:  please draw bun/cre, inr at least every other day until they  stabilize  please shower daily including washing incisions gently with mild  soap, no baths or swimming, and look at your incisions  please no lotions, cream, powder, or ointments to incisions  each morning you should weigh yourself and then in the evening  take your temperature, these should be written down on the chart  no driving for approximately one month and while taking  narcotics, will be discussed at follow up appointment with  surgeon when you will be able to drive  no lifting more than 10 pounds for 10 weeks  please call with any questions or concerns &lt;telephone&gt;  **please call cardiac surgery office with any questions or  concerns &lt;telephone&gt;. answering service will contact on call  person during off hours**      followup instructions:  you are scheduled for the following appointments:  surgeon dr. &lt;name&gt; &lt;telephone&gt;,  &lt;date&gt;  1:00  cardiologist dr. &lt;name&gt;. &lt;name&gt; office will call you with an  appointment  please call to schedule the following:  primary care dr. &lt;name&gt;,&lt;name&gt; in [**3-8**] weeks  please follow up with dr. &lt;name&gt; &lt;name&gt; call &lt;telephone&gt; to  schedule an appointment  dialysis,schedule hemodialysis unit date/time: &lt;date&gt;  12:00  renal: dr. &lt;name&gt; &lt;telephone&gt;  diabetes: if patient requires endocrine follow-up after  discharge from rehab, please contact &lt;name&gt;, &lt;name&gt; at &lt;hospital&gt;  **please call cardiac surgery office with any questions or  concerns &lt;telephone&gt;. answering service will contact on call  person during off hours**    inr draw on [**8-16**]  goal inr [**1-5**]  indication: atrial fibrillation                                   &lt;name&gt; &lt;name&gt; md [**md number(2) 266**]    completed by: &lt;date&gt;</td>\n",
              "      <td>[424, 511, 305, 707, 403, 496, 784, 250, 414, V58, 427, 428, 584, 008, 997, 434, 410, 585, 041, 599]</td>\n",
              "      <td>[atrial, diabetes, diastolic, fibrillation, heart, failure, erythema, clean/dry/intact]</td>\n",
              "      <td>[diabetes, failure, atrial, erythema, heart, fibrillation]</td>\n",
              "    </tr>\n",
              "    <tr>\n",
              "      <th>41964</th>\n",
              "      <td>156564.0</td>\n",
              "      <td>discharge diagnosis:  left knee infection  chronic obstructive pulmonary disease exacerbation  acute on chronic kidney injury  congestive heart failure  hypertension      discharge condition:  mental status: clear and coherent.  level of consciousness: alert and interactive.  activity status: out of bed with assistance to chair or  wheelchair.      discharge instructions:  mr. &lt;name&gt;,    you were admitted to the hospital for a infected hardware in  your left knee. our orthopaedics team cleaned out the infection  in your knee and replaced the liner of your prosthesis. they  feel you should follow up with your primary orthopaedic doctor,  dr. &lt;name&gt; &lt;name&gt; at &lt;hospital&gt; (&lt;telephone&gt;), for ongoing  issues about your knee. the cultures of the infection in your  knee grew two different organisms, so we consulted our  infectious disease doctors who recommended a course of iv  antibiotics to help treat your infection. because this infection  occured inside of a joint, a longer course of antibiotics is  required. you went multiple times to the operating room to  wash-out your knee of any remaining infection, and your hardware  was removed. most recently you had a portion of tissue grafted  to your knee to provide for better coverage of your wound, along  with skin graft. your kidney function worsened while you were in  the hospital but it appears to have normalized. this should be  followed up with your primary care physician.    we made the following changes to your medications:  started:  vancomycin (antibiotic)  ceftriaxone (antibiotic)    increased metoprolol for blood pressure    followup instructions:  department: plastic surgery  when: wednesday  &lt;date&gt;  at 3:15 pm  with: &lt;name&gt; &lt;name&gt;, md &lt;telephone&gt;  building: lm &lt;name&gt; bldg (&lt;name&gt;) [**location (un) **]  campus: west     best parking: &lt;name&gt; garage    name: &lt;name&gt;, &lt;name&gt; &lt;name&gt; &lt;name&gt;  location: community physicians associates  address: &lt;hospital&gt;,[**numeric identifier 18406**]  phone: &lt;telephone&gt;  appointment: thursday  &lt;date&gt;  1:15pm    department: infectious disease  when: friday  &lt;date&gt;  at 9:30 am  with: &lt;name&gt; &lt;name&gt;, md &lt;telephone&gt;  building: lm &lt;name&gt; bldg (&lt;name&gt;) &lt;hospital&gt;  campus: west     best parking: &lt;name&gt; garage    name: nabi,&lt;name&gt; md  address: &lt;hospital&gt;,[**numeric identifier 18406**]  phone: &lt;telephone&gt;  **please discuss with the staff at the facility a follow up  appointment with your pcp when you are ready for discharge.      department: plastic surgery  when: wednesday  &lt;date&gt;  at 3:15 pm  with: &lt;name&gt; &lt;name&gt;, md &lt;telephone&gt;  building: lm &lt;name&gt; bldg (&lt;name&gt;) [**location (un) **]  campus: west     best parking: &lt;name&gt; garage    department: infectious disease  when: friday  &lt;date&gt;  at 9:30 am  with: &lt;name&gt; &lt;name&gt;, md &lt;telephone&gt;  building: lm &lt;name&gt; bldg (&lt;name&gt;) &lt;hospital&gt;  campus: west     best parking: &lt;name&gt; garage                                   &lt;name&gt; &lt;name&gt; md [**md number(1) 348**]    completed by: &lt;date&gt;</td>\n",
              "      <td>[V10, 403, 584, V43, 428, 285, 496, 250, V58, 041, 357, 707, 365, 414, 780, 518, 711, 585, 327, V12, E84, E87, 996]</td>\n",
              "      <td>[pulmonary, infectious, hypertension, kidney, obstructive, heart, injury, failure, metoprolol, infection, disease]</td>\n",
              "      <td>[hypertension, failure, disease, pulmonary, heart, infection, metoprolol, kidney, obstructive]</td>\n",
              "    </tr>\n",
              "    <tr>\n",
              "      <th>41965</th>\n",
              "      <td>172559.0</td>\n",
              "      <td>discharge diagnosis:  primary:  small bowel obstruction  metastatic prostate cancer  anasarca  malnutrition  dehydration  acute renal failure  aspiration pneumonia  .  secondary:  prostate ca s/p xrt and chemo - rising psa (140), lg rp mass,  oa, lbp, diverticulosis w/ colovesical fistula s/p lar [**5-18**], s/p  ileostomy takedown [**10-18**], open ccy      discharge condition:  stable      discharge instructions:  please call your doctor or return to the er for any of the  following:  * you experience new chest pain, pressure, squeezing or  tightness.  * new or worsening cough or wheezing.  * if you are vomiting and cannot keep in fluids or your  medications.  * you are getting dehydrated due to continued vomiting,  diarrhea or other reasons. signs of dehydration include dry  mouth, rapid heartbeat or feeling dizzy or faint when standing.  * you see blood or dark/black material when you vomit or have a  bowel movement.  * your pain is not improving within 8-12 hours or not gone  within 24 hours. call or return immediately if your pain is  getting worse or is changing location or moving to your chest or    back.  *avoid lifting objects &gt; 5lbs until your follow-up appointment  with the surgeon.  *avoid driving or operating heavy machinery while taking pain  medications.  * you have shaking chills, or a fever greater than 101.5 (f)  degrees or 38(c) degrees.  * any serious change in your symptoms, or any new symptoms that  concern you.  * please resume all regular home medications and take any new  meds  as ordered.  * continue to ambulate several times per day.  .  incision care:  -your staples will be removed at your follow-up appointment with  the surgeon, and steri strips will be applied.  -your steri-strips will fall off on their own. please remove any  remaining strips 7-10 days after surgery.  -you may shower, and wash surgical incisions.  -avoid swimming and baths until your follow-up appointment.  -please call the doctor if you have increased pain, swelling,  redness, or drainage from the incision sites.      followup instructions:  1. please follow-up appointment with dr. &lt;name&gt; (&lt;telephone&gt; on  &lt;date&gt;  at 1:15pm for removal of your staples.  2. you have follow-up appointment with dr. &lt;name&gt; &lt;name&gt;, md  phone:&lt;telephone&gt; date/time: &lt;date&gt;  11:00, and chemotherapy at  provider: &lt;name&gt; &lt;name&gt;, rn phone:&lt;telephone&gt; date/time: &lt;date&gt;   12:00  3. provider: &lt;name&gt;,&lt;name&gt; &lt;name&gt; apg (sb)  phone:&lt;telephone&gt; date/time: &lt;date&gt;  10:10                                 &lt;name&gt; &lt;name&gt; md [**md number(1) 17**]    completed by: &lt;date&gt;</td>\n",
              "      <td>[197, 507, 185, 427, 261, 585, V66, 560, 783, 285, 276]</td>\n",
              "      <td>[dehydration, obstruction, cough, diverticulosis, fever, chest, vomiting, telephone, bowel, swelling, chills, prostate, colovesical, wheezing, phone, vomit, fistula, pain, cancer]</td>\n",
              "      <td>[swelling, dehydration, vomiting, chills, cancer, chest, pain, cough, fever]</td>\n",
              "    </tr>\n",
              "    <tr>\n",
              "      <th>41966</th>\n",
              "      <td>135672.0</td>\n",
              "      <td>discharge diagnosis:  peritonitis secondary to small bowel perforation.  cmv enteritis  b-cell lymphoma  line infection  type 2 diabetes controlled without complications  moderate malnutrition  cad bypass vessle      discharge condition:  stable.  tolerating regular diet  pain well controlled with oral medications.      discharge instructions:  you are being discharged on an antiviral medication called  ganciclovir, which can make your diarhea worse for some time.  please contact your doctor if you experience numbness, tingling  or pain in hands or feet, as this may be a side effect of the  medication.    you will be having labs drawn every other day and sent to dr.  &lt;name&gt; of infectious diseases for monitoring of your blood  counts.    *avoid lifting objects &gt; 5lbs until your follow-up appointment  with the surgeon.    *avoid driving or operating heavy machinery while taking pain  medications.    * continue to ambulate several times per day.    incision care:  -your staples will be removed at your follow up appoinetment.  -steri-strips will be applied and will fall off on their own.  please remove any remaining strips 7-10 days after application.  -you may shower, and wash surgical incisions.  -avoid swimming and baths until your follow-up appointment.  -please call the doctor if you have increased pain, swelling,  redness, or drainage from the incision sites.    followup instructions:  you will need to have an ophthalmalogic evaluation to make sure  that there is no evidence of cmv infection of the retina - this  should happen this week.  please call: (&lt;telephone&gt; to  schedule this appointment; if you have any difficulty arranging  this, please discuss this with your primary doctor so that they  can facilitate/arrange this evaluation.    1. please call dr.&lt;name&gt; office, &lt;telephone&gt;, to make a  follow up appointment in [**11-23**] weeks.  scheduled appointments :  provider: &lt;name&gt; &lt;name&gt;, &lt;telephone&gt;  date/time: &lt;date&gt;  10:30  provider: &lt;name&gt; &lt;name&gt;, rn phone:&lt;telephone&gt;  date/time: &lt;date&gt;  11:00  provider: &lt;name&gt; chair 6  date/time: &lt;date&gt;  11:00                                   &lt;name&gt; &lt;name&gt; md [**md number(2) 431**]    completed by: &lt;date&gt;</td>\n",
              "      <td>[202, 401, 584, 255, 283, 238, 038, 785, 250, 008, 041, 272, 996, 078, V45, 567, 569, 273, 995, 263, 579, 782]</td>\n",
              "      <td>[infectious, telephone, bowel, swelling, diseases, phone, perforation, small, infection, numbness, pain]</td>\n",
              "      <td>[swelling, numbness, infection, pain]</td>\n",
              "    </tr>\n",
              "  </tbody>\n",
              "</table>\n",
              "<p>41967 rows × 5 columns</p>\n",
              "</div>"
            ],
            "text/plain": [
              "        HADM_ID  ...                                                                                                                                                                            med_terms_condensed\n",
              "0      167118.0  ...                                                                                                                                 [hypertension, fracture, artery, chest, pain, coronary, cough]\n",
              "1      196489.0  ...  [hypertension, shortness, failure, constipation, respiratory, artery, chest, disease, pulmonary, pain, breath, aspirin, coronary, oxygen, prednisone, chronic, obstructive, gastrointestinal]\n",
              "2      135453.0  ...                                                                                                                                                           [urinary, fracture, pneumonia, pain]\n",
              "3      170490.0  ...                                                                            [motrin, weakness, seizures, headache, redness, constipation, numbness, confusion, aspirin, infection, pain, fever]\n",
              "4      134727.0  ...                                                                                                                                                                                             []\n",
              "...         ...  ...                                                                                                                                                                                            ...\n",
              "41962  127716.0  ...                                                                                                                                          [artery, redness, edema, erythema, disease, coronary]\n",
              "41963  186377.0  ...                                                                                                                                     [diabetes, failure, atrial, erythema, heart, fibrillation]\n",
              "41964  156564.0  ...                                                                                                 [hypertension, failure, disease, pulmonary, heart, infection, metoprolol, kidney, obstructive]\n",
              "41965  172559.0  ...                                                                                                                   [swelling, dehydration, vomiting, chills, cancer, chest, pain, cough, fever]\n",
              "41966  135672.0  ...                                                                                                                                                          [swelling, numbness, infection, pain]\n",
              "\n",
              "[41967 rows x 5 columns]"
            ]
          },
          "metadata": {
            "tags": []
          },
          "execution_count": 37
        }
      ]
    },
    {
      "cell_type": "code",
      "metadata": {
        "id": "YLI-gSYZYnM7"
      },
      "source": [
        "def return_feature(x):\n",
        "  feature=[]\n",
        "  for i in x:\n",
        "    for j in list(condensed_feature_dict):\n",
        "      if i in condensed_feature_dict[j]:\n",
        "        feature.append(j)\n",
        "  return list(set(feature))\n"
      ],
      "execution_count": 38,
      "outputs": []
    },
    {
      "cell_type": "code",
      "metadata": {
        "colab": {
          "base_uri": "https://localhost:8080/",
          "height": 66,
          "referenced_widgets": [
            "e7b85d2ff0f54382b48b9bf5b3a3a114",
            "06acdeb635ed4950aa8bef15bb4b49a8",
            "93869bfb571c433599b7cdbbee5bd508",
            "cf5a69d5fcff4acbb80118a4dea03071",
            "3b7ab1b941334ed1b4090fdad1874bed",
            "066f0e376f4846e29847c20701d973dd",
            "9e6b0aceb396413db8f91a75e44a8113",
            "ee7a598c41ef46f885740a57ca13deec"
          ]
        },
        "id": "bSa-h5agaEPt",
        "outputId": "93482322-90ae-4aaf-e38c-ae304839e052"
      },
      "source": [
        "diagnosis_icd9category_token['features']=diagnosis_icd9category_token.med_terms_condensed.progress_apply(lambda x:return_feature(x))"
      ],
      "execution_count": 39,
      "outputs": [
        {
          "output_type": "display_data",
          "data": {
            "application/vnd.jupyter.widget-view+json": {
              "model_id": "e7b85d2ff0f54382b48b9bf5b3a3a114",
              "version_minor": 0,
              "version_major": 2
            },
            "text/plain": [
              "HBox(children=(FloatProgress(value=0.0, max=41967.0), HTML(value='')))"
            ]
          },
          "metadata": {
            "tags": []
          }
        },
        {
          "output_type": "stream",
          "text": [
            "\n"
          ],
          "name": "stdout"
        }
      ]
    },
    {
      "cell_type": "code",
      "metadata": {
        "colab": {
          "base_uri": "https://localhost:8080/",
          "height": 1000
        },
        "id": "IQ8q2CmLaR4p",
        "outputId": "29a82380-558d-463d-c393-268b3843f8df"
      },
      "source": [
        "diagnosis_icd9category_token"
      ],
      "execution_count": 40,
      "outputs": [
        {
          "output_type": "execute_result",
          "data": {
            "text/html": [
              "<div>\n",
              "<style scoped>\n",
              "    .dataframe tbody tr th:only-of-type {\n",
              "        vertical-align: middle;\n",
              "    }\n",
              "\n",
              "    .dataframe tbody tr th {\n",
              "        vertical-align: top;\n",
              "    }\n",
              "\n",
              "    .dataframe thead th {\n",
              "        text-align: right;\n",
              "    }\n",
              "</style>\n",
              "<table border=\"1\" class=\"dataframe\">\n",
              "  <thead>\n",
              "    <tr style=\"text-align: right;\">\n",
              "      <th></th>\n",
              "      <th>HADM_ID</th>\n",
              "      <th>discharge diagnosis:</th>\n",
              "      <th>icd9_category</th>\n",
              "      <th>medical_terms_list</th>\n",
              "      <th>med_terms_condensed</th>\n",
              "      <th>features</th>\n",
              "    </tr>\n",
              "  </thead>\n",
              "  <tbody>\n",
              "    <tr>\n",
              "      <th>0</th>\n",
              "      <td>167118.0</td>\n",
              "      <td>discharge diagnosis:  copd, coronary artery disease/atypical angina (lad 30%, rca 30%,  ef 63%), hypercholesterolemia, hypothyroidism, hypertension,  hiatal hernia, cerebral vascular accident,s/p motor vehicle  colision-&gt; head injury &amp; rib fracture.  tbm- s/p tracheoplasty.      discharge condition:  good    discharge instructions:  please update dr.&lt;name&gt; &lt;telephone&gt; office for:  fever,  shortness of breath, chest pain , productive cough or if you  have any questions or concerns.      completed by: &lt;date&gt;</td>\n",
              "      <td>[496, 553, 518, 453, 519, 276]</td>\n",
              "      <td>[hypercholesterolemia, cerebral, hypothyroidism, cough, accident, hypertension, artery, chest, vascular, coronary, fracture, injury, angina, pain, head]</td>\n",
              "      <td>[hypertension, fracture, artery, chest, pain, coronary, cough]</td>\n",
              "      <td>[f0, f10, f36, f17, f16, f24]</td>\n",
              "    </tr>\n",
              "    <tr>\n",
              "      <th>1</th>\n",
              "      <td>196489.0</td>\n",
              "      <td>discharge diagnosis:  primary:  1. chronic obstructive pulmonary disease exacerbation  2. respiratory failure with intubation  3. upper gastrointestinal bleed/peptic ulcer disease  4. hypertension  5. anxiety    secondary:  1. coronary artery disease  2. hypothyroidism      discharge condition:  mental status: confused - sometimes.  level of consciousness: alert and interactive.  activity status: out of bed with assistance to chair or  wheelchair.      discharge instructions:  you were admitted to the hospital with shortness of breath and  respiratory failure and lethargy. in the emergency department,  you were breathing very fast and a breathing tube was inserted  into your airway to help you breathe. you were admitted to the  intensive care unit. there, you were managed with steroids and  antibiotics and the tube was eventually removed from your  airway, allowing you to breathe on your own. you also underwent  bronchoscopy which looked at the inside of your airways.  .  during your time in the intensive care unit, you developed a  gastrointestinal bleed. a tube was placed into your stomach and  you underwent an endoscopic procedure to look at your esophagus  and stomach. this showed inflammation in your esophagusand  ulcers in your stomach.  .  you should continue to use nasal oxygen by nasal cannula as  needed. you should continue the steroid taper as instructed. you  should call your doctor or return to the emergency room if you  have increasing difficulty breathing or shortness of breath,  wheezing, chest pain, blood in your stool or vomiting blood.  .  there are some changes in your medications.  start pantoprazole 40 mg twice daily and stop omeprazole  start hydrochlorothiazide  start prednisone, taking 30 mg for 3 days, then 20 mg for 4  days, then 10 mg for 4 days, then 5 mg for 4 days, then stop.  start colace and senna as needed for constipation  can use morphine to alleviate symptoms of respiratory discomfort  stop furosemide  stop zolpidem  stop aspirin  increase diovan to 240 mg daily  decrease trazodone to 50 mg daily  .  follow up as indicated below.    followup instructions:  you have an appointment to follow up with dr. &lt;name&gt;, your  primary care physician, &lt;name&gt; [**8-29**] at 1pm. his address is [**location (un) 1822**], [**apartment address(1) 1823**], [**location (un) **],[**numeric identifier 1700**]. the phone is  &lt;telephone&gt;.    you have an appointment to follow up with dr. &lt;name&gt; &lt;name&gt; in  the  &lt;name&gt; at &lt;hospital&gt; on the [**location (un) 453**]. their phone number is  &lt;telephone&gt;.    department: div. of gastroenterology  when: wednesday  &lt;date&gt;  at 3:00 pm  with: &lt;name&gt; &lt;name&gt;, md &lt;telephone&gt;  building: ra &lt;name&gt; (&lt;name&gt;/&lt;name&gt; complex) [**location (un) **]  campus: east     best parking: main garage</td>\n",
              "      <td>[487, 416, 272, 530, 414, 553, 531, 518, 401, 519, 348, V02, 359, 584, 458, 578, 491, E93, 276, 244]</td>\n",
              "      <td>[pulmonary, hypertension, of, obstructive, discomfort, gastrointestinal, constipation, oxygen, breath, inflammation, artery, chest, hydrochlorothiazide, steroid, anxiety, omeprazole, senna, trazodone, failure, shortness, disease, pantoprazole, aspirin, hypothyroidism, zolpidem, furosemide, coronary, prednisone, lethargy, steroids, ulcer, chronic, respiratory, morphine, pain]</td>\n",
              "      <td>[hypertension, shortness, failure, constipation, respiratory, artery, chest, disease, pulmonary, pain, breath, aspirin, coronary, oxygen, prednisone, chronic, obstructive, gastrointestinal]</td>\n",
              "      <td>[f0, f30, f35, f4, f31, f34, f33, f17, f9, f12, f18, f16, f37, f19, f24]</td>\n",
              "    </tr>\n",
              "    <tr>\n",
              "      <th>2</th>\n",
              "      <td>135453.0</td>\n",
              "      <td>discharge diagnosis:  1. cervical spondylosis with calcification of posterior  longitudinal ligament.  2. fracture dislocation c6-c7.  3. ossification of the posterior longitudinal ligament.  4. aspiration pneumonia      1. cervical spondylosis with calcification of posterior      longitudinal ligament.  2. fracture dislocation c6-c7.  3. ossification of the posterior longitudinal ligament.  4. aspiration pneumonia    1. cervical spondylosis with calcification of posterior      longitudinal ligament.  2. fracture dislocation c6-c7.  3. ossification of the posterior longitudinal ligament.  4. aspiration pneumonia      discharge condition:  stable to outside facility      discharge instructions:  patient has been made cmo at the request of him and his family.  he has a foley placed for urinary retention. please use morphine  as needed for pain and olanzapine as needed for agitiation.  patient has known history of aspiration documented on speech and  swallow. it is the patient and the family's wish for him to  continue to eat and drink as desired.    followup instructions:  follow up with your primary care physician as needed.</td>\n",
              "      <td>[V12, 788, 805, 507, V45, 401, 427, 453, E88, 293, 802, 428]</td>\n",
              "      <td>[ligament, spondylosis, of, cervical, urinary, posterior, calcification, olanzapine, fracture, pneumonia, dislocation, retention, longitudinal, morphine, pain]</td>\n",
              "      <td>[urinary, fracture, pneumonia, pain]</td>\n",
              "      <td>[f0, f36, f28, f22]</td>\n",
              "    </tr>\n",
              "    <tr>\n",
              "      <th>3</th>\n",
              "      <td>170490.0</td>\n",
              "      <td>discharge diagnosis:  brain lesion    discharge condition:  mental status: clear and coherent.  level of consciousness: alert and interactive.  activity status: ambulatory - independent.  neuro exam intact.    discharge instructions:  ??????\\thave a friend/family member check your incision daily for  signs of infection.  ??????\\ttake your pain medicine as prescribed.  ??????\\texercise should be limited to walking; no lifting, straining,  or excessive bending.  ??????\\tyou have dissolvable sutures, you must keep that area dry for  10 days.  ??????\\tyou may shower before this time using a shower cap to cover  your head.  ??????\\tincrease your intake of fluids and fiber, as narcotic pain  medicine can cause constipation. we generally recommend taking  an over the counter stool softener, such as docusate (colace)  while taking narcotic pain medication.  ??????\\tunless directed by your doctor, do not take any  anti-inflammatory medicines such as motrin, aspirin, advil, and  ibuprofen etc.  ??????\\tif you have been prescribed dilantin (phenytoin) for  anti-seizure medicine, take it as prescribed and follow up with  laboratory blood drawing in one week.  this can be drawn at your  pcp??????s office, but please have the results faxed to &lt;telephone&gt;.  if you have been discharged on keppra (levetiracetam), you will  not require blood work monitoring.  ??????\\tif you are being sent home on steroid medication, make sure  you are taking a medication to protect your stomach (prilosec,  protonix, or pepcid), as these medications can cause stomach  irritation.  make sure to take your steroid medication with  meals, or a glass of milk.  ??????\\tclearance to drive and return to work will be addressed at  your post-operative office visit.  ??????\\tmake sure to continue to use your incentive spirometer while  at home.  call your surgeon immediately if you experience any of the  following    ??????\\tnew onset of tremors or seizures.  ??????\\tany confusion or change in mental status.  ??????\\tany numbness, tingling, weakness in your extremities.  ??????\\tpain or headache that is continually increasing, or not  relieved by pain medication.  ??????\\tany signs of infection at the wound site: increasing redness,  increased swelling, increased tenderness, or drainage.  ??????\\tfever greater than or equal to 101?????? f.    followup instructions:  ??????\\tplease return to the office in [**6-28**] days (from your date of  surgery) for a wound check. this appointment can be made with  the nurse practitioner.  please make this appointment by calling  &lt;telephone&gt;. if you live quite a distance from our office,  please make arrangements for the same, with your pcp.</td>\n",
              "      <td>[710, 225, 443, 714, 530, V43]</td>\n",
              "      <td>[motrin, aspirin, levetiracetam, seizures, weakness, phenytoin, fever, redness, tenderness, docusate, infection, steroid, tingling, confusion, headache, constipation, tremors, numbness, pain]</td>\n",
              "      <td>[motrin, weakness, seizures, headache, redness, constipation, numbness, confusion, aspirin, infection, pain, fever]</td>\n",
              "      <td>[f0, f32, f43, f2, f5, f13, f12]</td>\n",
              "    </tr>\n",
              "    <tr>\n",
              "      <th>4</th>\n",
              "      <td>134727.0</td>\n",
              "      <td>discharge diagnosis:  pneumonia    discharge condition:  expired    discharge instructions:  na    followup instructions:  na                                 &lt;name&gt; &lt;name&gt; md [**md number(2) 1851**]</td>\n",
              "      <td>[486, 518, V45, V58, 401, 577, 415, 428]</td>\n",
              "      <td>[]</td>\n",
              "      <td>[]</td>\n",
              "      <td>[]</td>\n",
              "    </tr>\n",
              "    <tr>\n",
              "      <th>...</th>\n",
              "      <td>...</td>\n",
              "      <td>...</td>\n",
              "      <td>...</td>\n",
              "      <td>...</td>\n",
              "      <td>...</td>\n",
              "      <td>...</td>\n",
              "    </tr>\n",
              "    <tr>\n",
              "      <th>41962</th>\n",
              "      <td>127716.0</td>\n",
              "      <td>discharge diagnosis:  aortic stenosis and coronary artery disease s/p aortic valve  replacement and coronary artery bypass graft  past medical history:  hypertension  hyperlipidemia  diabetes mellitus  osteoarthritis  phlebitis  lung cancer  hiatal hernia  hypthyroidism  s/p right lobectomy [**2117**]  s/p lymph node dissection in neck  s/p beast lumpectomy  s/p hysterectomy  s/p c section  s/p tonsillectomy      discharge condition:  alert and oriented x3 nonfocal  ambulating, steady gait  incisional pain managed with ultram  incisions:  sternal - healing well, no erythema or drainage  1+ le edema      discharge instructions:  please shower daily including washing incisions gently with mild  soap, no baths or swimming until cleared by surgeon. look at  your incisions daily for redness or drainage  please no lotions, cream, powder, or ointments to incisions  each morning you should weigh yourself and then in the evening  take your temperature, these should be written down on the chart    no driving for one month or while taking narcotics. driving will  be discussed at follow up appointment with surgeon. no lifting  more than 10 pounds for 10 weeks  please call with any questions or concerns &lt;telephone&gt;  females: please wear bra to reduce pulling on incision, avoid  rubbing on lower edge  **please call cardiac surgery office with any questions or  concerns &lt;telephone&gt;. answering service will contact on call  person during off hours**    followup instructions:  you are scheduled for the following appointments  wound care, &lt;name&gt;, &lt;name&gt;  phone:&lt;telephone&gt;  date/time: &lt;date&gt;  10:00    surgeon: dr. &lt;name&gt; &lt;telephone&gt; date/time: &lt;date&gt;  1:15  cardiologist: dr. &lt;name&gt;  &lt;date&gt;  at 3:00p    please call to schedule appointments with your  primary care dr. &lt;name&gt; &lt;name&gt; in &lt;telephone&gt;    **please call cardiac surgery office with any questions or  concerns &lt;telephone&gt;. answering service will contact on call  person during off hours**                                   &lt;name&gt; &lt;name&gt; md [**md number(2) 748**]    completed by: &lt;date&gt;</td>\n",
              "      <td>[416, 424, 272, V10, V85, 414, 250, 401, 278, 782]</td>\n",
              "      <td>[artery, redness, edema, coronary, erythema, disease]</td>\n",
              "      <td>[artery, redness, edema, erythema, disease, coronary]</td>\n",
              "      <td>[f3, f18, f24, f13]</td>\n",
              "    </tr>\n",
              "    <tr>\n",
              "      <th>41963</th>\n",
              "      <td>186377.0</td>\n",
              "      <td>discharge diagnosis:  coronary artery disease  pmh:  hypertension, diabetes, copd, diastolic heart failure, ef 45-50%  past surgical history  penile implant      discharge condition:  alert and oriented x3 nonfocal  ambulating, gait steady  sternal pain managed with oral analgesics  sternal incision - healing well, no erythema or drainage  right lower extremity saph site clean/dry/intact      discharge instructions:  please draw bun/cre, inr at least every other day until they  stabilize  please shower daily including washing incisions gently with mild  soap, no baths or swimming, and look at your incisions  please no lotions, cream, powder, or ointments to incisions  each morning you should weigh yourself and then in the evening  take your temperature, these should be written down on the chart  no driving for approximately one month and while taking  narcotics, will be discussed at follow up appointment with  surgeon when you will be able to drive  no lifting more than 10 pounds for 10 weeks  please call with any questions or concerns &lt;telephone&gt;  **please call cardiac surgery office with any questions or  concerns &lt;telephone&gt;. answering service will contact on call  person during off hours**      followup instructions:  you are scheduled for the following appointments:  surgeon dr. &lt;name&gt; &lt;telephone&gt;,  &lt;date&gt;  1:00  cardiologist dr. &lt;name&gt;. &lt;name&gt; office will call you with an  appointment  please call to schedule the following:  primary care dr. &lt;name&gt;,&lt;name&gt; in [**3-8**] weeks  please follow up with dr. &lt;name&gt; &lt;name&gt; call &lt;telephone&gt; to  schedule an appointment  dialysis,schedule hemodialysis unit date/time: &lt;date&gt;  12:00  renal: dr. &lt;name&gt; &lt;telephone&gt;  diabetes: if patient requires endocrine follow-up after  discharge from rehab, please contact &lt;name&gt;, &lt;name&gt; at &lt;hospital&gt;  **please call cardiac surgery office with any questions or  concerns &lt;telephone&gt;. answering service will contact on call  person during off hours**    inr draw on [**8-16**]  goal inr [**1-5**]  indication: atrial fibrillation                                   &lt;name&gt; &lt;name&gt; md [**md number(2) 266**]    completed by: &lt;date&gt;</td>\n",
              "      <td>[424, 511, 305, 707, 403, 496, 784, 250, 414, V58, 427, 428, 584, 008, 997, 434, 410, 585, 041, 599]</td>\n",
              "      <td>[atrial, diabetes, diastolic, fibrillation, heart, failure, erythema, clean/dry/intact]</td>\n",
              "      <td>[diabetes, failure, atrial, erythema, heart, fibrillation]</td>\n",
              "      <td>[f21, f17, f13, f14, f37]</td>\n",
              "    </tr>\n",
              "    <tr>\n",
              "      <th>41964</th>\n",
              "      <td>156564.0</td>\n",
              "      <td>discharge diagnosis:  left knee infection  chronic obstructive pulmonary disease exacerbation  acute on chronic kidney injury  congestive heart failure  hypertension      discharge condition:  mental status: clear and coherent.  level of consciousness: alert and interactive.  activity status: out of bed with assistance to chair or  wheelchair.      discharge instructions:  mr. &lt;name&gt;,    you were admitted to the hospital for a infected hardware in  your left knee. our orthopaedics team cleaned out the infection  in your knee and replaced the liner of your prosthesis. they  feel you should follow up with your primary orthopaedic doctor,  dr. &lt;name&gt; &lt;name&gt; at &lt;hospital&gt; (&lt;telephone&gt;), for ongoing  issues about your knee. the cultures of the infection in your  knee grew two different organisms, so we consulted our  infectious disease doctors who recommended a course of iv  antibiotics to help treat your infection. because this infection  occured inside of a joint, a longer course of antibiotics is  required. you went multiple times to the operating room to  wash-out your knee of any remaining infection, and your hardware  was removed. most recently you had a portion of tissue grafted  to your knee to provide for better coverage of your wound, along  with skin graft. your kidney function worsened while you were in  the hospital but it appears to have normalized. this should be  followed up with your primary care physician.    we made the following changes to your medications:  started:  vancomycin (antibiotic)  ceftriaxone (antibiotic)    increased metoprolol for blood pressure    followup instructions:  department: plastic surgery  when: wednesday  &lt;date&gt;  at 3:15 pm  with: &lt;name&gt; &lt;name&gt;, md &lt;telephone&gt;  building: lm &lt;name&gt; bldg (&lt;name&gt;) [**location (un) **]  campus: west     best parking: &lt;name&gt; garage    name: &lt;name&gt;, &lt;name&gt; &lt;name&gt; &lt;name&gt;  location: community physicians associates  address: &lt;hospital&gt;,[**numeric identifier 18406**]  phone: &lt;telephone&gt;  appointment: thursday  &lt;date&gt;  1:15pm    department: infectious disease  when: friday  &lt;date&gt;  at 9:30 am  with: &lt;name&gt; &lt;name&gt;, md &lt;telephone&gt;  building: lm &lt;name&gt; bldg (&lt;name&gt;) &lt;hospital&gt;  campus: west     best parking: &lt;name&gt; garage    name: nabi,&lt;name&gt; md  address: &lt;hospital&gt;,[**numeric identifier 18406**]  phone: &lt;telephone&gt;  **please discuss with the staff at the facility a follow up  appointment with your pcp when you are ready for discharge.      department: plastic surgery  when: wednesday  &lt;date&gt;  at 3:15 pm  with: &lt;name&gt; &lt;name&gt;, md &lt;telephone&gt;  building: lm &lt;name&gt; bldg (&lt;name&gt;) [**location (un) **]  campus: west     best parking: &lt;name&gt; garage    department: infectious disease  when: friday  &lt;date&gt;  at 9:30 am  with: &lt;name&gt; &lt;name&gt;, md &lt;telephone&gt;  building: lm &lt;name&gt; bldg (&lt;name&gt;) &lt;hospital&gt;  campus: west     best parking: &lt;name&gt; garage                                   &lt;name&gt; &lt;name&gt; md [**md number(1) 348**]    completed by: &lt;date&gt;</td>\n",
              "      <td>[V10, 403, 584, V43, 428, 285, 496, 250, V58, 041, 357, 707, 365, 414, 780, 518, 711, 585, 327, V12, E84, E87, 996]</td>\n",
              "      <td>[pulmonary, infectious, hypertension, kidney, obstructive, heart, injury, failure, metoprolol, infection, disease]</td>\n",
              "      <td>[hypertension, failure, disease, pulmonary, heart, infection, metoprolol, kidney, obstructive]</td>\n",
              "      <td>[f8, f29, f43, f21, f34, f17, f18, f37, f19]</td>\n",
              "    </tr>\n",
              "    <tr>\n",
              "      <th>41965</th>\n",
              "      <td>172559.0</td>\n",
              "      <td>discharge diagnosis:  primary:  small bowel obstruction  metastatic prostate cancer  anasarca  malnutrition  dehydration  acute renal failure  aspiration pneumonia  .  secondary:  prostate ca s/p xrt and chemo - rising psa (140), lg rp mass,  oa, lbp, diverticulosis w/ colovesical fistula s/p lar [**5-18**], s/p  ileostomy takedown [**10-18**], open ccy      discharge condition:  stable      discharge instructions:  please call your doctor or return to the er for any of the  following:  * you experience new chest pain, pressure, squeezing or  tightness.  * new or worsening cough or wheezing.  * if you are vomiting and cannot keep in fluids or your  medications.  * you are getting dehydrated due to continued vomiting,  diarrhea or other reasons. signs of dehydration include dry  mouth, rapid heartbeat or feeling dizzy or faint when standing.  * you see blood or dark/black material when you vomit or have a  bowel movement.  * your pain is not improving within 8-12 hours or not gone  within 24 hours. call or return immediately if your pain is  getting worse or is changing location or moving to your chest or    back.  *avoid lifting objects &gt; 5lbs until your follow-up appointment  with the surgeon.  *avoid driving or operating heavy machinery while taking pain  medications.  * you have shaking chills, or a fever greater than 101.5 (f)  degrees or 38(c) degrees.  * any serious change in your symptoms, or any new symptoms that  concern you.  * please resume all regular home medications and take any new  meds  as ordered.  * continue to ambulate several times per day.  .  incision care:  -your staples will be removed at your follow-up appointment with  the surgeon, and steri strips will be applied.  -your steri-strips will fall off on their own. please remove any  remaining strips 7-10 days after surgery.  -you may shower, and wash surgical incisions.  -avoid swimming and baths until your follow-up appointment.  -please call the doctor if you have increased pain, swelling,  redness, or drainage from the incision sites.      followup instructions:  1. please follow-up appointment with dr. &lt;name&gt; (&lt;telephone&gt; on  &lt;date&gt;  at 1:15pm for removal of your staples.  2. you have follow-up appointment with dr. &lt;name&gt; &lt;name&gt;, md  phone:&lt;telephone&gt; date/time: &lt;date&gt;  11:00, and chemotherapy at  provider: &lt;name&gt; &lt;name&gt;, rn phone:&lt;telephone&gt; date/time: &lt;date&gt;   12:00  3. provider: &lt;name&gt;,&lt;name&gt; &lt;name&gt; apg (sb)  phone:&lt;telephone&gt; date/time: &lt;date&gt;  10:10                                 &lt;name&gt; &lt;name&gt; md [**md number(1) 17**]    completed by: &lt;date&gt;</td>\n",
              "      <td>[197, 507, 185, 427, 261, 585, V66, 560, 783, 285, 276]</td>\n",
              "      <td>[dehydration, obstruction, cough, diverticulosis, fever, chest, vomiting, telephone, bowel, swelling, chills, prostate, colovesical, wheezing, phone, vomit, fistula, pain, cancer]</td>\n",
              "      <td>[swelling, dehydration, vomiting, chills, cancer, chest, pain, cough, fever]</td>\n",
              "      <td>[f0, f26, f10, f1, f16, f15]</td>\n",
              "    </tr>\n",
              "    <tr>\n",
              "      <th>41966</th>\n",
              "      <td>135672.0</td>\n",
              "      <td>discharge diagnosis:  peritonitis secondary to small bowel perforation.  cmv enteritis  b-cell lymphoma  line infection  type 2 diabetes controlled without complications  moderate malnutrition  cad bypass vessle      discharge condition:  stable.  tolerating regular diet  pain well controlled with oral medications.      discharge instructions:  you are being discharged on an antiviral medication called  ganciclovir, which can make your diarhea worse for some time.  please contact your doctor if you experience numbness, tingling  or pain in hands or feet, as this may be a side effect of the  medication.    you will be having labs drawn every other day and sent to dr.  &lt;name&gt; of infectious diseases for monitoring of your blood  counts.    *avoid lifting objects &gt; 5lbs until your follow-up appointment  with the surgeon.    *avoid driving or operating heavy machinery while taking pain  medications.    * continue to ambulate several times per day.    incision care:  -your staples will be removed at your follow up appoinetment.  -steri-strips will be applied and will fall off on their own.  please remove any remaining strips 7-10 days after application.  -you may shower, and wash surgical incisions.  -avoid swimming and baths until your follow-up appointment.  -please call the doctor if you have increased pain, swelling,  redness, or drainage from the incision sites.    followup instructions:  you will need to have an ophthalmalogic evaluation to make sure  that there is no evidence of cmv infection of the retina - this  should happen this week.  please call: (&lt;telephone&gt; to  schedule this appointment; if you have any difficulty arranging  this, please discuss this with your primary doctor so that they  can facilitate/arrange this evaluation.    1. please call dr.&lt;name&gt; office, &lt;telephone&gt;, to make a  follow up appointment in [**11-23**] weeks.  scheduled appointments :  provider: &lt;name&gt; &lt;name&gt;, &lt;telephone&gt;  date/time: &lt;date&gt;  10:30  provider: &lt;name&gt; &lt;name&gt;, rn phone:&lt;telephone&gt;  date/time: &lt;date&gt;  11:00  provider: &lt;name&gt; chair 6  date/time: &lt;date&gt;  11:00                                   &lt;name&gt; &lt;name&gt; md [**md number(2) 431**]    completed by: &lt;date&gt;</td>\n",
              "      <td>[202, 401, 584, 255, 283, 238, 038, 785, 250, 008, 041, 272, 996, 078, V45, 567, 569, 273, 995, 263, 579, 782]</td>\n",
              "      <td>[infectious, telephone, bowel, swelling, diseases, phone, perforation, small, infection, numbness, pain]</td>\n",
              "      <td>[swelling, numbness, infection, pain]</td>\n",
              "      <td>[f0, f43, f26]</td>\n",
              "    </tr>\n",
              "  </tbody>\n",
              "</table>\n",
              "<p>41967 rows × 6 columns</p>\n",
              "</div>"
            ],
            "text/plain": [
              "        HADM_ID  ...                                                                  features\n",
              "0      167118.0  ...                                             [f0, f10, f36, f17, f16, f24]\n",
              "1      196489.0  ...  [f0, f30, f35, f4, f31, f34, f33, f17, f9, f12, f18, f16, f37, f19, f24]\n",
              "2      135453.0  ...                                                       [f0, f36, f28, f22]\n",
              "3      170490.0  ...                                          [f0, f32, f43, f2, f5, f13, f12]\n",
              "4      134727.0  ...                                                                        []\n",
              "...         ...  ...                                                                       ...\n",
              "41962  127716.0  ...                                                       [f3, f18, f24, f13]\n",
              "41963  186377.0  ...                                                 [f21, f17, f13, f14, f37]\n",
              "41964  156564.0  ...                              [f8, f29, f43, f21, f34, f17, f18, f37, f19]\n",
              "41965  172559.0  ...                                              [f0, f26, f10, f1, f16, f15]\n",
              "41966  135672.0  ...                                                            [f0, f43, f26]\n",
              "\n",
              "[41967 rows x 6 columns]"
            ]
          },
          "metadata": {
            "tags": []
          },
          "execution_count": 40
        }
      ]
    },
    {
      "cell_type": "code",
      "metadata": {
        "colab": {
          "base_uri": "https://localhost:8080/",
          "height": 699
        },
        "id": "vapoji4EaZ_r",
        "outputId": "5f59cfc9-c088-4360-b951-cb2dd041305f"
      },
      "source": [
        "diagnosis_icdcategory_medterms_df"
      ],
      "execution_count": 41,
      "outputs": [
        {
          "output_type": "execute_result",
          "data": {
            "text/html": [
              "<div>\n",
              "<style scoped>\n",
              "    .dataframe tbody tr th:only-of-type {\n",
              "        vertical-align: middle;\n",
              "    }\n",
              "\n",
              "    .dataframe tbody tr th {\n",
              "        vertical-align: top;\n",
              "    }\n",
              "\n",
              "    .dataframe thead th {\n",
              "        text-align: right;\n",
              "    }\n",
              "</style>\n",
              "<table border=\"1\" class=\"dataframe\">\n",
              "  <thead>\n",
              "    <tr style=\"text-align: right;\">\n",
              "      <th></th>\n",
              "      <th>icd9category</th>\n",
              "      <th>frequent_medterms</th>\n",
              "    </tr>\n",
              "  </thead>\n",
              "  <tbody>\n",
              "    <tr>\n",
              "      <th>0</th>\n",
              "      <td>401</td>\n",
              "      <td>[pain, fever, chest, shortness, infection, breath, redness, aspirin, hypertension, atrial, fibrillation, chills, disease, coumadin, bleeding, failure, pneumonia, vomiting, fevers, constipation, swelling, nausea, abdominal, heart, diabetes, weakness, cough, anemia, erythema, headache, metoprolol, confusion, numbness, mouth, weight, diarrhea, gain, loss, lisinopril, blood, cancer, seizures, pulmonary, infarction, myocardial, bleed, stroke, motrin, artery, tylenol]</td>\n",
              "    </tr>\n",
              "    <tr>\n",
              "      <th>1</th>\n",
              "      <td>427</td>\n",
              "      <td>[pain, atrial, fibrillation, chest, shortness, fever, coumadin, infection, breath, failure, disease, heart, redness, pneumonia, aspirin, chills, hypertension, bleeding, metoprolol, fevers, renal, vomiting, anemia, abdominal, nausea, erythema, sodium, diabetes, chronic, constipation, weight, pulmonary, gain, cough, swelling, mouth, cancer, warfarin, diarrhea, lisinopril, bleed, artery, infarction, stroke, myocardial, blood, urinary, respiratory, oxygen, congestive]</td>\n",
              "    </tr>\n",
              "    <tr>\n",
              "      <th>2</th>\n",
              "      <td>276</td>\n",
              "      <td>[pain, shortness, chest, infection, breath, failure, fever, pneumonia, disease, chills, atrial, fevers, fibrillation, vomiting, bleeding, nausea, abdominal, renal, hypertension, heart, aspirin, anemia, coumadin, diarrhea, diabetes, metoprolol, mouth, chronic, constipation, cough, redness, respiratory, swelling, sodium, urinary, confusion, blood, cancer, acute, pulmonary, oxygen, tract, alcohol, lisinopril, loss, bleed, kidney, dehydration, weakness, sepsis]</td>\n",
              "    </tr>\n",
              "    <tr>\n",
              "      <th>3</th>\n",
              "      <td>414</td>\n",
              "      <td>[pain, chest, fever, shortness, infection, breath, disease, redness, atrial, failure, fibrillation, heart, aspirin, coumadin, hypertension, myocardial, infarction, erythema, bleeding, weight, gain, diabetes, chills, metoprolol, artery, renal, coronary, pneumonia, fevers, lisinopril, sodium, anemia, chronic, vomiting, mellitus, nausea, abdominal, pulmonary, constipation, edema, swelling, congestive, bleed, cancer, cholesterol, cough, mouth, blood, loss, hyperlipidemia]</td>\n",
              "    </tr>\n",
              "    <tr>\n",
              "      <th>4</th>\n",
              "      <td>272</td>\n",
              "      <td>[pain, fever, chest, infection, shortness, breath, redness, aspirin, atrial, disease, fibrillation, failure, coumadin, hypertension, bleeding, chills, heart, erythema, pneumonia, diabetes, constipation, vomiting, fevers, metoprolol, swelling, weight, renal, gain, nausea, abdominal, anemia, infarction, myocardial, cough, lisinopril, mouth, weakness, cancer, artery, confusion, mellitus, headache, pulmonary, loss, chronic, diarrhea, hyperlipidemia, blood, numbness, tylenol]</td>\n",
              "    </tr>\n",
              "    <tr>\n",
              "      <th>5</th>\n",
              "      <td>250</td>\n",
              "      <td>[pain, chest, shortness, breath, diabetes, fever, infection, failure, disease, chills, atrial, hypertension, heart, fibrillation, aspirin, fevers, mellitus, redness, pneumonia, bleeding, vomiting, renal, coumadin, nausea, abdominal, anemia, metoprolol, chronic, constipation, swelling, sodium, blood, cough, mouth, lisinopril, diarrhea, confusion, artery, erythema, pulmonary, urinary, respiratory, infarction, loss, myocardial, bleed, coronary, weakness, weight, oxygen]</td>\n",
              "    </tr>\n",
              "    <tr>\n",
              "      <th>6</th>\n",
              "      <td>428</td>\n",
              "      <td>[pain, failure, shortness, chest, heart, breath, atrial, fibrillation, disease, infection, fever, pneumonia, coumadin, chills, renal, hypertension, sodium, fevers, aspirin, metoprolol, bleeding, chronic, anemia, diabetes, congestive, redness, pulmonary, vomiting, nausea, lisinopril, abdominal, oxygen, myocardial, infarction, respiratory, artery, systolic, coronary, mouth, cough, urinary, blood, mellitus, swelling, tract, weight, bleed, diarrhea, acute, gain]</td>\n",
              "    </tr>\n",
              "    <tr>\n",
              "      <th>7</th>\n",
              "      <td>518</td>\n",
              "      <td>[pain, shortness, breath, pneumonia, failure, chest, fever, infection, disease, chills, respiratory, atrial, fibrillation, fevers, vomiting, heart, hypertension, cough, abdominal, nausea, renal, coumadin, anemia, pulmonary, redness, bleeding, aspirin, oxygen, swelling, constipation, diarrhea, mouth, chronic, cancer, diabetes, metoprolol, sodium, confusion, fracture, blood, acute, sepsis, urinary, loss, weakness, lung, prednisone, tract, obstructive, edema]</td>\n",
              "    </tr>\n",
              "    <tr>\n",
              "      <th>8</th>\n",
              "      <td>285</td>\n",
              "      <td>[pain, shortness, chest, breath, infection, fever, disease, anemia, bleeding, failure, chills, pneumonia, fevers, atrial, fibrillation, aspirin, blood, coumadin, vomiting, loss, hypertension, renal, abdominal, redness, heart, nausea, chronic, bleed, diabetes, constipation, swelling, diarrhea, metoprolol, mouth, cough, cancer, sodium, erythema, pulmonary, urinary, fracture, respiratory, tract, lisinopril, dizziness, confusion, acute, oxygen, gastrointestinal, tylenol]</td>\n",
              "    </tr>\n",
              "    <tr>\n",
              "      <th>9</th>\n",
              "      <td>584</td>\n",
              "      <td>[pain, failure, shortness, chest, infection, breath, renal, disease, pneumonia, fever, atrial, chills, fibrillation, heart, fevers, chronic, hypertension, vomiting, bleeding, acute, abdominal, coumadin, anemia, nausea, diabetes, aspirin, metoprolol, kidney, diarrhea, sodium, respiratory, mouth, urinary, lisinopril, tract, blood, pulmonary, cough, cancer, redness, sepsis, swelling, oxygen, constipation, bleed, loss, confusion, congestive, mellitus, dizziness]</td>\n",
              "    </tr>\n",
              "  </tbody>\n",
              "</table>\n",
              "</div>"
            ],
            "text/plain": [
              "  icd9category                                                                                                                                                                                                                                                                                                                                                                                                                                                                            frequent_medterms\n",
              "0          401           [pain, fever, chest, shortness, infection, breath, redness, aspirin, hypertension, atrial, fibrillation, chills, disease, coumadin, bleeding, failure, pneumonia, vomiting, fevers, constipation, swelling, nausea, abdominal, heart, diabetes, weakness, cough, anemia, erythema, headache, metoprolol, confusion, numbness, mouth, weight, diarrhea, gain, loss, lisinopril, blood, cancer, seizures, pulmonary, infarction, myocardial, bleed, stroke, motrin, artery, tylenol]\n",
              "1          427         [pain, atrial, fibrillation, chest, shortness, fever, coumadin, infection, breath, failure, disease, heart, redness, pneumonia, aspirin, chills, hypertension, bleeding, metoprolol, fevers, renal, vomiting, anemia, abdominal, nausea, erythema, sodium, diabetes, chronic, constipation, weight, pulmonary, gain, cough, swelling, mouth, cancer, warfarin, diarrhea, lisinopril, bleed, artery, infarction, stroke, myocardial, blood, urinary, respiratory, oxygen, congestive]\n",
              "2          276                [pain, shortness, chest, infection, breath, failure, fever, pneumonia, disease, chills, atrial, fevers, fibrillation, vomiting, bleeding, nausea, abdominal, renal, hypertension, heart, aspirin, anemia, coumadin, diarrhea, diabetes, metoprolol, mouth, chronic, constipation, cough, redness, respiratory, swelling, sodium, urinary, confusion, blood, cancer, acute, pulmonary, oxygen, tract, alcohol, lisinopril, loss, bleed, kidney, dehydration, weakness, sepsis]\n",
              "3          414     [pain, chest, fever, shortness, infection, breath, disease, redness, atrial, failure, fibrillation, heart, aspirin, coumadin, hypertension, myocardial, infarction, erythema, bleeding, weight, gain, diabetes, chills, metoprolol, artery, renal, coronary, pneumonia, fevers, lisinopril, sodium, anemia, chronic, vomiting, mellitus, nausea, abdominal, pulmonary, constipation, edema, swelling, congestive, bleed, cancer, cholesterol, cough, mouth, blood, loss, hyperlipidemia]\n",
              "4          272  [pain, fever, chest, infection, shortness, breath, redness, aspirin, atrial, disease, fibrillation, failure, coumadin, hypertension, bleeding, chills, heart, erythema, pneumonia, diabetes, constipation, vomiting, fevers, metoprolol, swelling, weight, renal, gain, nausea, abdominal, anemia, infarction, myocardial, cough, lisinopril, mouth, weakness, cancer, artery, confusion, mellitus, headache, pulmonary, loss, chronic, diarrhea, hyperlipidemia, blood, numbness, tylenol]\n",
              "5          250      [pain, chest, shortness, breath, diabetes, fever, infection, failure, disease, chills, atrial, hypertension, heart, fibrillation, aspirin, fevers, mellitus, redness, pneumonia, bleeding, vomiting, renal, coumadin, nausea, abdominal, anemia, metoprolol, chronic, constipation, swelling, sodium, blood, cough, mouth, lisinopril, diarrhea, confusion, artery, erythema, pulmonary, urinary, respiratory, infarction, loss, myocardial, bleed, coronary, weakness, weight, oxygen]\n",
              "6          428               [pain, failure, shortness, chest, heart, breath, atrial, fibrillation, disease, infection, fever, pneumonia, coumadin, chills, renal, hypertension, sodium, fevers, aspirin, metoprolol, bleeding, chronic, anemia, diabetes, congestive, redness, pulmonary, vomiting, nausea, lisinopril, abdominal, oxygen, myocardial, infarction, respiratory, artery, systolic, coronary, mouth, cough, urinary, blood, mellitus, swelling, tract, weight, bleed, diarrhea, acute, gain]\n",
              "7          518                 [pain, shortness, breath, pneumonia, failure, chest, fever, infection, disease, chills, respiratory, atrial, fibrillation, fevers, vomiting, heart, hypertension, cough, abdominal, nausea, renal, coumadin, anemia, pulmonary, redness, bleeding, aspirin, oxygen, swelling, constipation, diarrhea, mouth, chronic, cancer, diabetes, metoprolol, sodium, confusion, fracture, blood, acute, sepsis, urinary, loss, weakness, lung, prednisone, tract, obstructive, edema]\n",
              "8          285      [pain, shortness, chest, breath, infection, fever, disease, anemia, bleeding, failure, chills, pneumonia, fevers, atrial, fibrillation, aspirin, blood, coumadin, vomiting, loss, hypertension, renal, abdominal, redness, heart, nausea, chronic, bleed, diabetes, constipation, swelling, diarrhea, metoprolol, mouth, cough, cancer, sodium, erythema, pulmonary, urinary, fracture, respiratory, tract, lisinopril, dizziness, confusion, acute, oxygen, gastrointestinal, tylenol]\n",
              "9          584               [pain, failure, shortness, chest, infection, breath, renal, disease, pneumonia, fever, atrial, chills, fibrillation, heart, fevers, chronic, hypertension, vomiting, bleeding, acute, abdominal, coumadin, anemia, nausea, diabetes, aspirin, metoprolol, kidney, diarrhea, sodium, respiratory, mouth, urinary, lisinopril, tract, blood, pulmonary, cough, cancer, redness, sepsis, swelling, oxygen, constipation, bleed, loss, confusion, congestive, mellitus, dizziness]"
            ]
          },
          "metadata": {
            "tags": []
          },
          "execution_count": 41
        }
      ]
    },
    {
      "cell_type": "code",
      "metadata": {
        "colab": {
          "base_uri": "https://localhost:8080/",
          "height": 66,
          "referenced_widgets": [
            "59d8ad1930624ad7b6985451c1e2b9dd",
            "e4b94c62f9ef4412a8e27f96cefa76d8",
            "1af36c2b706547f28942e901cbff9c0d",
            "a749fc0edc0d4c469c9e46f690d8d03d",
            "412e41813e6e4d21b71f36ffb829854b",
            "8867e4f65d2b4cf389cf0eb93680640a",
            "d84015786dc54dc68f6d72de1fb8ccba",
            "afcad09d749d4685b0f3adda48077339"
          ]
        },
        "id": "nNAaQXN7Mt1d",
        "outputId": "e8b9d791-6803-4aed-9ff6-caadd7370b20"
      },
      "source": [
        "diagnosis_icdcategory_medterms_df['feature']=diagnosis_icdcategory_medterms_df.frequent_medterms.progress_apply(lambda x:return_feature(x))"
      ],
      "execution_count": 42,
      "outputs": [
        {
          "output_type": "display_data",
          "data": {
            "application/vnd.jupyter.widget-view+json": {
              "model_id": "59d8ad1930624ad7b6985451c1e2b9dd",
              "version_minor": 0,
              "version_major": 2
            },
            "text/plain": [
              "HBox(children=(FloatProgress(value=0.0, max=10.0), HTML(value='')))"
            ]
          },
          "metadata": {
            "tags": []
          }
        },
        {
          "output_type": "stream",
          "text": [
            "\n"
          ],
          "name": "stdout"
        }
      ]
    },
    {
      "cell_type": "code",
      "metadata": {
        "colab": {
          "base_uri": "https://localhost:8080/",
          "height": 869
        },
        "id": "fxD-V0h8NWUb",
        "outputId": "d3ae3e58-9ffc-4f06-af39-92dc042f2bbd"
      },
      "source": [
        "diagnosis_icdcategory_medterms_df"
      ],
      "execution_count": 43,
      "outputs": [
        {
          "output_type": "execute_result",
          "data": {
            "text/html": [
              "<div>\n",
              "<style scoped>\n",
              "    .dataframe tbody tr th:only-of-type {\n",
              "        vertical-align: middle;\n",
              "    }\n",
              "\n",
              "    .dataframe tbody tr th {\n",
              "        vertical-align: top;\n",
              "    }\n",
              "\n",
              "    .dataframe thead th {\n",
              "        text-align: right;\n",
              "    }\n",
              "</style>\n",
              "<table border=\"1\" class=\"dataframe\">\n",
              "  <thead>\n",
              "    <tr style=\"text-align: right;\">\n",
              "      <th></th>\n",
              "      <th>icd9category</th>\n",
              "      <th>frequent_medterms</th>\n",
              "      <th>feature</th>\n",
              "    </tr>\n",
              "  </thead>\n",
              "  <tbody>\n",
              "    <tr>\n",
              "      <th>0</th>\n",
              "      <td>401</td>\n",
              "      <td>[pain, fever, chest, shortness, infection, breath, redness, aspirin, hypertension, atrial, fibrillation, chills, disease, coumadin, bleeding, failure, pneumonia, vomiting, fevers, constipation, swelling, nausea, abdominal, heart, diabetes, weakness, cough, anemia, erythema, headache, metoprolol, confusion, numbness, mouth, weight, diarrhea, gain, loss, lisinopril, blood, cancer, seizures, pulmonary, infarction, myocardial, bleed, stroke, motrin, artery, tylenol]</td>\n",
              "      <td>[f29, f4, f37, f24, f7, f0, f44, f22, f32, f18, f15, f27, f23, f43, f10, f2, f38, f17, f13, f5, f16, f19, f39, f26, f41, f21, f6, f12, f14, f11]</td>\n",
              "    </tr>\n",
              "    <tr>\n",
              "      <th>1</th>\n",
              "      <td>427</td>\n",
              "      <td>[pain, atrial, fibrillation, chest, shortness, fever, coumadin, infection, breath, failure, disease, heart, redness, pneumonia, aspirin, chills, hypertension, bleeding, metoprolol, fevers, renal, vomiting, anemia, abdominal, nausea, erythema, sodium, diabetes, chronic, constipation, weight, pulmonary, gain, cough, swelling, mouth, cancer, warfarin, diarrhea, lisinopril, bleed, artery, infarction, stroke, myocardial, blood, urinary, respiratory, oxygen, congestive]</td>\n",
              "      <td>[f11, f29, f4, f45, f37, f24, f7, f0, f22, f31, f9, f18, f15, f27, f23, f28, f43, f10, f38, f17, f13, f16, f19, f30, f39, f26, f41, f21, f6, f12, f14, f8]</td>\n",
              "    </tr>\n",
              "    <tr>\n",
              "      <th>2</th>\n",
              "      <td>276</td>\n",
              "      <td>[pain, shortness, chest, infection, breath, failure, fever, pneumonia, disease, chills, atrial, fevers, fibrillation, vomiting, bleeding, nausea, abdominal, renal, hypertension, heart, aspirin, anemia, coumadin, diarrhea, diabetes, metoprolol, mouth, chronic, constipation, cough, redness, respiratory, swelling, sodium, urinary, confusion, blood, cancer, acute, pulmonary, oxygen, tract, alcohol, lisinopril, loss, bleed, kidney, dehydration, weakness, sepsis]</td>\n",
              "      <td>[f29, f4, f1, f37, f45, f7, f0, f44, f22, f40, f31, f9, f18, f20, f15, f27, f28, f43, f10, f38, f17, f13, f5, f16, f19, f30, f39, f26, f41, f21, f6, f12, f14, f8]</td>\n",
              "    </tr>\n",
              "    <tr>\n",
              "      <th>3</th>\n",
              "      <td>414</td>\n",
              "      <td>[pain, chest, fever, shortness, infection, breath, disease, redness, atrial, failure, fibrillation, heart, aspirin, coumadin, hypertension, myocardial, infarction, erythema, bleeding, weight, gain, diabetes, chills, metoprolol, artery, renal, coronary, pneumonia, fevers, lisinopril, sodium, anemia, chronic, vomiting, mellitus, nausea, abdominal, pulmonary, constipation, edema, swelling, congestive, bleed, cancer, cholesterol, cough, mouth, blood, loss, hyperlipidemia]</td>\n",
              "      <td>[f11, f29, f4, f45, f37, f24, f7, f0, f44, f22, f9, f3, f18, f15, f42, f27, f23, f43, f10, f38, f17, f13, f16, f19, f39, f26, f41, f21, f6, f12, f14, f8]</td>\n",
              "    </tr>\n",
              "    <tr>\n",
              "      <th>4</th>\n",
              "      <td>272</td>\n",
              "      <td>[pain, fever, chest, infection, shortness, breath, redness, aspirin, atrial, disease, fibrillation, failure, coumadin, hypertension, bleeding, chills, heart, erythema, pneumonia, diabetes, constipation, vomiting, fevers, metoprolol, swelling, weight, renal, gain, nausea, abdominal, anemia, infarction, myocardial, cough, lisinopril, mouth, weakness, cancer, artery, confusion, mellitus, headache, pulmonary, loss, chronic, diarrhea, hyperlipidemia, blood, numbness, tylenol]</td>\n",
              "      <td>[f29, f4, f37, f24, f7, f0, f44, f22, f32, f9, f18, f15, f27, f23, f43, f10, f38, f17, f13, f5, f16, f8, f19, f39, f26, f41, f21, f6, f12, f14, f11]</td>\n",
              "    </tr>\n",
              "    <tr>\n",
              "      <th>5</th>\n",
              "      <td>250</td>\n",
              "      <td>[pain, chest, shortness, breath, diabetes, fever, infection, failure, disease, chills, atrial, hypertension, heart, fibrillation, aspirin, fevers, mellitus, redness, pneumonia, bleeding, vomiting, renal, coumadin, nausea, abdominal, anemia, metoprolol, chronic, constipation, swelling, sodium, blood, cough, mouth, lisinopril, diarrhea, confusion, artery, erythema, pulmonary, urinary, respiratory, infarction, loss, myocardial, bleed, coronary, weakness, weight, oxygen]</td>\n",
              "      <td>[f29, f4, f45, f37, f24, f7, f0, f44, f22, f31, f9, f18, f27, f23, f28, f43, f10, f38, f17, f13, f5, f16, f19, f30, f39, f26, f41, f21, f6, f12, f14, f8]</td>\n",
              "    </tr>\n",
              "    <tr>\n",
              "      <th>6</th>\n",
              "      <td>428</td>\n",
              "      <td>[pain, failure, shortness, chest, heart, breath, atrial, fibrillation, disease, infection, fever, pneumonia, coumadin, chills, renal, hypertension, sodium, fevers, aspirin, metoprolol, bleeding, chronic, anemia, diabetes, congestive, redness, pulmonary, vomiting, nausea, lisinopril, abdominal, oxygen, myocardial, infarction, respiratory, artery, systolic, coronary, mouth, cough, urinary, blood, mellitus, swelling, tract, weight, bleed, diarrhea, acute, gain]</td>\n",
              "      <td>[f11, f25, f29, f4, f45, f37, f24, f7, f0, f22, f31, f9, f18, f20, f27, f23, f28, f43, f10, f38, f17, f13, f16, f19, f30, f39, f26, f41, f21, f6, f12, f14, f8]</td>\n",
              "    </tr>\n",
              "    <tr>\n",
              "      <th>7</th>\n",
              "      <td>518</td>\n",
              "      <td>[pain, shortness, breath, pneumonia, failure, chest, fever, infection, disease, chills, respiratory, atrial, fibrillation, fevers, vomiting, heart, hypertension, cough, abdominal, nausea, renal, coumadin, anemia, pulmonary, redness, bleeding, aspirin, oxygen, swelling, constipation, diarrhea, mouth, chronic, cancer, diabetes, metoprolol, sodium, confusion, fracture, blood, acute, sepsis, urinary, loss, weakness, lung, prednisone, tract, obstructive, edema]</td>\n",
              "      <td>[f29, f4, f33, f37, f45, f7, f0, f44, f22, f31, f9, f3, f18, f20, f15, f27, f28, f43, f10, f36, f38, f17, f13, f5, f34, f16, f19, f30, f39, f26, f41, f21, f6, f12, f14, f8]</td>\n",
              "    </tr>\n",
              "    <tr>\n",
              "      <th>8</th>\n",
              "      <td>285</td>\n",
              "      <td>[pain, shortness, chest, breath, infection, fever, disease, anemia, bleeding, failure, chills, pneumonia, fevers, atrial, fibrillation, aspirin, blood, coumadin, vomiting, loss, hypertension, renal, abdominal, redness, heart, nausea, chronic, bleed, diabetes, constipation, swelling, diarrhea, metoprolol, mouth, cough, cancer, sodium, erythema, pulmonary, urinary, fracture, respiratory, tract, lisinopril, dizziness, confusion, acute, oxygen, gastrointestinal, tylenol]</td>\n",
              "      <td>[f29, f4, f37, f45, f7, f0, f44, f22, f32, f35, f31, f9, f18, f20, f15, f27, f28, f43, f10, f36, f38, f17, f13, f5, f16, f19, f30, f39, f26, f41, f21, f6, f12, f14, f8]</td>\n",
              "    </tr>\n",
              "    <tr>\n",
              "      <th>9</th>\n",
              "      <td>584</td>\n",
              "      <td>[pain, failure, shortness, chest, infection, breath, renal, disease, pneumonia, fever, atrial, chills, fibrillation, heart, fevers, chronic, hypertension, vomiting, bleeding, acute, abdominal, coumadin, anemia, nausea, diabetes, aspirin, metoprolol, kidney, diarrhea, sodium, respiratory, mouth, urinary, lisinopril, tract, blood, pulmonary, cough, cancer, redness, sepsis, swelling, oxygen, constipation, bleed, loss, confusion, congestive, mellitus, dizziness]</td>\n",
              "      <td>[f29, f4, f45, f37, f7, f0, f44, f22, f31, f9, f18, f20, f15, f27, f28, f43, f10, f38, f17, f13, f5, f16, f19, f30, f39, f26, f41, f21, f6, f12, f14, f8]</td>\n",
              "    </tr>\n",
              "  </tbody>\n",
              "</table>\n",
              "</div>"
            ],
            "text/plain": [
              "  icd9category  ...                                                                                                                                                                       feature\n",
              "0          401  ...                              [f29, f4, f37, f24, f7, f0, f44, f22, f32, f18, f15, f27, f23, f43, f10, f2, f38, f17, f13, f5, f16, f19, f39, f26, f41, f21, f6, f12, f14, f11]\n",
              "1          427  ...                    [f11, f29, f4, f45, f37, f24, f7, f0, f22, f31, f9, f18, f15, f27, f23, f28, f43, f10, f38, f17, f13, f16, f19, f30, f39, f26, f41, f21, f6, f12, f14, f8]\n",
              "2          276  ...            [f29, f4, f1, f37, f45, f7, f0, f44, f22, f40, f31, f9, f18, f20, f15, f27, f28, f43, f10, f38, f17, f13, f5, f16, f19, f30, f39, f26, f41, f21, f6, f12, f14, f8]\n",
              "3          414  ...                     [f11, f29, f4, f45, f37, f24, f7, f0, f44, f22, f9, f3, f18, f15, f42, f27, f23, f43, f10, f38, f17, f13, f16, f19, f39, f26, f41, f21, f6, f12, f14, f8]\n",
              "4          272  ...                          [f29, f4, f37, f24, f7, f0, f44, f22, f32, f9, f18, f15, f27, f23, f43, f10, f38, f17, f13, f5, f16, f8, f19, f39, f26, f41, f21, f6, f12, f14, f11]\n",
              "5          250  ...                     [f29, f4, f45, f37, f24, f7, f0, f44, f22, f31, f9, f18, f27, f23, f28, f43, f10, f38, f17, f13, f5, f16, f19, f30, f39, f26, f41, f21, f6, f12, f14, f8]\n",
              "6          428  ...               [f11, f25, f29, f4, f45, f37, f24, f7, f0, f22, f31, f9, f18, f20, f27, f23, f28, f43, f10, f38, f17, f13, f16, f19, f30, f39, f26, f41, f21, f6, f12, f14, f8]\n",
              "7          518  ...  [f29, f4, f33, f37, f45, f7, f0, f44, f22, f31, f9, f3, f18, f20, f15, f27, f28, f43, f10, f36, f38, f17, f13, f5, f34, f16, f19, f30, f39, f26, f41, f21, f6, f12, f14, f8]\n",
              "8          285  ...      [f29, f4, f37, f45, f7, f0, f44, f22, f32, f35, f31, f9, f18, f20, f15, f27, f28, f43, f10, f36, f38, f17, f13, f5, f16, f19, f30, f39, f26, f41, f21, f6, f12, f14, f8]\n",
              "9          584  ...                     [f29, f4, f45, f37, f7, f0, f44, f22, f31, f9, f18, f20, f15, f27, f28, f43, f10, f38, f17, f13, f5, f16, f19, f30, f39, f26, f41, f21, f6, f12, f14, f8]\n",
              "\n",
              "[10 rows x 3 columns]"
            ]
          },
          "metadata": {
            "tags": []
          },
          "execution_count": 43
        }
      ]
    },
    {
      "cell_type": "code",
      "metadata": {
        "id": "sBc44dmfNZF4"
      },
      "source": [
        "def predict_icd(x):\n",
        "  category_weights={}\n",
        "  if len(x):\n",
        "    for item1 in frequent_icd9category:\n",
        "      category_features=[a for b in diagnosis_icdcategory_medterms_df.loc[diagnosis_icdcategory_medterms_df.icd9category==item1].feature.to_list() for a in b]\n",
        "      count=len(list(set(x).intersection(set(category_features))))\n",
        "      category_weights[item1]=count/len(x)/len(category_features)\n",
        "  else:\n",
        "    for item1 in frequent_icd9category:\n",
        "      category_weights[item1]=0.0\n",
        "\n",
        "      \n",
        "  return category_weights\n",
        "  "
      ],
      "execution_count": 44,
      "outputs": []
    },
    {
      "cell_type": "code",
      "metadata": {
        "colab": {
          "base_uri": "https://localhost:8080/",
          "height": 66,
          "referenced_widgets": [
            "62b1e56758c244efa9361b2cc0489858",
            "dd88467d8c21491487c1d07c83f39672",
            "0a381f34c4644c12b5057ef4f1a0a38a",
            "c033ad6e0fa0448f907b22794bed55d5",
            "4e34e2e1a08344db84b308b80ac9fa99",
            "faecf89e8f104431bef4750a712ea165",
            "26548100cc85493cb68c6151721fdafb",
            "d534f01f32a8449197ff3d2b10533fcc"
          ]
        },
        "id": "PeCkmP_zUGAq",
        "outputId": "a22cf67b-e25d-4db0-f49f-969645ecccf5"
      },
      "source": [
        "diagnosis_icd9category_token['predicted_icd_weigths']=diagnosis_icd9category_token.features.progress_apply(lambda x:predict_icd(x))"
      ],
      "execution_count": 45,
      "outputs": [
        {
          "output_type": "display_data",
          "data": {
            "application/vnd.jupyter.widget-view+json": {
              "model_id": "62b1e56758c244efa9361b2cc0489858",
              "version_minor": 0,
              "version_major": 2
            },
            "text/plain": [
              "HBox(children=(FloatProgress(value=0.0, max=41967.0), HTML(value='')))"
            ]
          },
          "metadata": {
            "tags": []
          }
        },
        {
          "output_type": "stream",
          "text": [
            "\n"
          ],
          "name": "stdout"
        }
      ]
    },
    {
      "cell_type": "code",
      "metadata": {
        "colab": {
          "base_uri": "https://localhost:8080/",
          "height": 1000
        },
        "id": "_LM7upmpXK3S",
        "outputId": "633ed137-054a-4eaa-dfd5-365b99d787fe"
      },
      "source": [
        "diagnosis_icd9category_token"
      ],
      "execution_count": 46,
      "outputs": [
        {
          "output_type": "execute_result",
          "data": {
            "text/html": [
              "<div>\n",
              "<style scoped>\n",
              "    .dataframe tbody tr th:only-of-type {\n",
              "        vertical-align: middle;\n",
              "    }\n",
              "\n",
              "    .dataframe tbody tr th {\n",
              "        vertical-align: top;\n",
              "    }\n",
              "\n",
              "    .dataframe thead th {\n",
              "        text-align: right;\n",
              "    }\n",
              "</style>\n",
              "<table border=\"1\" class=\"dataframe\">\n",
              "  <thead>\n",
              "    <tr style=\"text-align: right;\">\n",
              "      <th></th>\n",
              "      <th>HADM_ID</th>\n",
              "      <th>discharge diagnosis:</th>\n",
              "      <th>icd9_category</th>\n",
              "      <th>medical_terms_list</th>\n",
              "      <th>med_terms_condensed</th>\n",
              "      <th>features</th>\n",
              "      <th>predicted_icd_weigths</th>\n",
              "    </tr>\n",
              "  </thead>\n",
              "  <tbody>\n",
              "    <tr>\n",
              "      <th>0</th>\n",
              "      <td>167118.0</td>\n",
              "      <td>discharge diagnosis:  copd, coronary artery disease/atypical angina (lad 30%, rca 30%,  ef 63%), hypercholesterolemia, hypothyroidism, hypertension,  hiatal hernia, cerebral vascular accident,s/p motor vehicle  colision-&gt; head injury &amp; rib fracture.  tbm- s/p tracheoplasty.      discharge condition:  good    discharge instructions:  please update dr.&lt;name&gt; &lt;telephone&gt; office for:  fever,  shortness of breath, chest pain , productive cough or if you  have any questions or concerns.      completed by: &lt;date&gt;</td>\n",
              "      <td>[496, 553, 518, 453, 519, 276]</td>\n",
              "      <td>[hypercholesterolemia, cerebral, hypothyroidism, cough, accident, hypertension, artery, chest, vascular, coronary, fracture, injury, angina, pain, head]</td>\n",
              "      <td>[hypertension, fracture, artery, chest, pain, coronary, cough]</td>\n",
              "      <td>[f0, f10, f36, f17, f16, f24]</td>\n",
              "      <td>{'401': 0.02777777777777778, '427': 0.026041666666666668, '276': 0.0196078431372549, '414': 0.026041666666666668, '272': 0.026881720430107527, '250': 0.026041666666666668, '428': 0.025252525252525252, '518': 0.02314814814814815, '285': 0.02380952380952381, '584': 0.020833333333333332}</td>\n",
              "    </tr>\n",
              "    <tr>\n",
              "      <th>1</th>\n",
              "      <td>196489.0</td>\n",
              "      <td>discharge diagnosis:  primary:  1. chronic obstructive pulmonary disease exacerbation  2. respiratory failure with intubation  3. upper gastrointestinal bleed/peptic ulcer disease  4. hypertension  5. anxiety    secondary:  1. coronary artery disease  2. hypothyroidism      discharge condition:  mental status: confused - sometimes.  level of consciousness: alert and interactive.  activity status: out of bed with assistance to chair or  wheelchair.      discharge instructions:  you were admitted to the hospital with shortness of breath and  respiratory failure and lethargy. in the emergency department,  you were breathing very fast and a breathing tube was inserted  into your airway to help you breathe. you were admitted to the  intensive care unit. there, you were managed with steroids and  antibiotics and the tube was eventually removed from your  airway, allowing you to breathe on your own. you also underwent  bronchoscopy which looked at the inside of your airways.  .  during your time in the intensive care unit, you developed a  gastrointestinal bleed. a tube was placed into your stomach and  you underwent an endoscopic procedure to look at your esophagus  and stomach. this showed inflammation in your esophagusand  ulcers in your stomach.  .  you should continue to use nasal oxygen by nasal cannula as  needed. you should continue the steroid taper as instructed. you  should call your doctor or return to the emergency room if you  have increasing difficulty breathing or shortness of breath,  wheezing, chest pain, blood in your stool or vomiting blood.  .  there are some changes in your medications.  start pantoprazole 40 mg twice daily and stop omeprazole  start hydrochlorothiazide  start prednisone, taking 30 mg for 3 days, then 20 mg for 4  days, then 10 mg for 4 days, then 5 mg for 4 days, then stop.  start colace and senna as needed for constipation  can use morphine to alleviate symptoms of respiratory discomfort  stop furosemide  stop zolpidem  stop aspirin  increase diovan to 240 mg daily  decrease trazodone to 50 mg daily  .  follow up as indicated below.    followup instructions:  you have an appointment to follow up with dr. &lt;name&gt;, your  primary care physician, &lt;name&gt; [**8-29**] at 1pm. his address is [**location (un) 1822**], [**apartment address(1) 1823**], [**location (un) **],[**numeric identifier 1700**]. the phone is  &lt;telephone&gt;.    you have an appointment to follow up with dr. &lt;name&gt; &lt;name&gt; in  the  &lt;name&gt; at &lt;hospital&gt; on the [**location (un) 453**]. their phone number is  &lt;telephone&gt;.    department: div. of gastroenterology  when: wednesday  &lt;date&gt;  at 3:00 pm  with: &lt;name&gt; &lt;name&gt;, md &lt;telephone&gt;  building: ra &lt;name&gt; (&lt;name&gt;/&lt;name&gt; complex) [**location (un) **]  campus: east     best parking: main garage</td>\n",
              "      <td>[487, 416, 272, 530, 414, 553, 531, 518, 401, 519, 348, V02, 359, 584, 458, 578, 491, E93, 276, 244]</td>\n",
              "      <td>[pulmonary, hypertension, of, obstructive, discomfort, gastrointestinal, constipation, oxygen, breath, inflammation, artery, chest, hydrochlorothiazide, steroid, anxiety, omeprazole, senna, trazodone, failure, shortness, disease, pantoprazole, aspirin, hypothyroidism, zolpidem, furosemide, coronary, prednisone, lethargy, steroids, ulcer, chronic, respiratory, morphine, pain]</td>\n",
              "      <td>[hypertension, shortness, failure, constipation, respiratory, artery, chest, disease, pulmonary, pain, breath, aspirin, coronary, oxygen, prednisone, chronic, obstructive, gastrointestinal]</td>\n",
              "      <td>[f0, f30, f35, f4, f31, f34, f33, f17, f9, f12, f18, f16, f37, f19, f24]</td>\n",
              "      <td>{'401': 0.02, '427': 0.025, '276': 0.021568627450980392, '414': 0.020833333333333332, '272': 0.02150537634408602, '250': 0.025, '428': 0.024242424242424242, '518': 0.024074074074074074, '285': 0.022857142857142857, '584': 0.022916666666666665}</td>\n",
              "    </tr>\n",
              "    <tr>\n",
              "      <th>2</th>\n",
              "      <td>135453.0</td>\n",
              "      <td>discharge diagnosis:  1. cervical spondylosis with calcification of posterior  longitudinal ligament.  2. fracture dislocation c6-c7.  3. ossification of the posterior longitudinal ligament.  4. aspiration pneumonia      1. cervical spondylosis with calcification of posterior      longitudinal ligament.  2. fracture dislocation c6-c7.  3. ossification of the posterior longitudinal ligament.  4. aspiration pneumonia    1. cervical spondylosis with calcification of posterior      longitudinal ligament.  2. fracture dislocation c6-c7.  3. ossification of the posterior longitudinal ligament.  4. aspiration pneumonia      discharge condition:  stable to outside facility      discharge instructions:  patient has been made cmo at the request of him and his family.  he has a foley placed for urinary retention. please use morphine  as needed for pain and olanzapine as needed for agitiation.  patient has known history of aspiration documented on speech and  swallow. it is the patient and the family's wish for him to  continue to eat and drink as desired.    followup instructions:  follow up with your primary care physician as needed.</td>\n",
              "      <td>[V12, 788, 805, 507, V45, 401, 427, 453, E88, 293, 802, 428]</td>\n",
              "      <td>[ligament, spondylosis, of, cervical, urinary, posterior, calcification, olanzapine, fracture, pneumonia, dislocation, retention, longitudinal, morphine, pain]</td>\n",
              "      <td>[urinary, fracture, pneumonia, pain]</td>\n",
              "      <td>[f0, f36, f28, f22]</td>\n",
              "      <td>{'401': 0.016666666666666666, '427': 0.0234375, '276': 0.022058823529411766, '414': 0.015625, '272': 0.016129032258064516, '250': 0.0234375, '428': 0.022727272727272728, '518': 0.027777777777777776, '285': 0.02857142857142857, '584': 0.0234375}</td>\n",
              "    </tr>\n",
              "    <tr>\n",
              "      <th>3</th>\n",
              "      <td>170490.0</td>\n",
              "      <td>discharge diagnosis:  brain lesion    discharge condition:  mental status: clear and coherent.  level of consciousness: alert and interactive.  activity status: ambulatory - independent.  neuro exam intact.    discharge instructions:  ??????\\thave a friend/family member check your incision daily for  signs of infection.  ??????\\ttake your pain medicine as prescribed.  ??????\\texercise should be limited to walking; no lifting, straining,  or excessive bending.  ??????\\tyou have dissolvable sutures, you must keep that area dry for  10 days.  ??????\\tyou may shower before this time using a shower cap to cover  your head.  ??????\\tincrease your intake of fluids and fiber, as narcotic pain  medicine can cause constipation. we generally recommend taking  an over the counter stool softener, such as docusate (colace)  while taking narcotic pain medication.  ??????\\tunless directed by your doctor, do not take any  anti-inflammatory medicines such as motrin, aspirin, advil, and  ibuprofen etc.  ??????\\tif you have been prescribed dilantin (phenytoin) for  anti-seizure medicine, take it as prescribed and follow up with  laboratory blood drawing in one week.  this can be drawn at your  pcp??????s office, but please have the results faxed to &lt;telephone&gt;.  if you have been discharged on keppra (levetiracetam), you will  not require blood work monitoring.  ??????\\tif you are being sent home on steroid medication, make sure  you are taking a medication to protect your stomach (prilosec,  protonix, or pepcid), as these medications can cause stomach  irritation.  make sure to take your steroid medication with  meals, or a glass of milk.  ??????\\tclearance to drive and return to work will be addressed at  your post-operative office visit.  ??????\\tmake sure to continue to use your incentive spirometer while  at home.  call your surgeon immediately if you experience any of the  following    ??????\\tnew onset of tremors or seizures.  ??????\\tany confusion or change in mental status.  ??????\\tany numbness, tingling, weakness in your extremities.  ??????\\tpain or headache that is continually increasing, or not  relieved by pain medication.  ??????\\tany signs of infection at the wound site: increasing redness,  increased swelling, increased tenderness, or drainage.  ??????\\tfever greater than or equal to 101?????? f.    followup instructions:  ??????\\tplease return to the office in [**6-28**] days (from your date of  surgery) for a wound check. this appointment can be made with  the nurse practitioner.  please make this appointment by calling  &lt;telephone&gt;. if you live quite a distance from our office,  please make arrangements for the same, with your pcp.</td>\n",
              "      <td>[710, 225, 443, 714, 530, V43]</td>\n",
              "      <td>[motrin, aspirin, levetiracetam, seizures, weakness, phenytoin, fever, redness, tenderness, docusate, infection, steroid, tingling, confusion, headache, constipation, tremors, numbness, pain]</td>\n",
              "      <td>[motrin, weakness, seizures, headache, redness, constipation, numbness, confusion, aspirin, infection, pain, fever]</td>\n",
              "      <td>[f0, f32, f43, f2, f5, f13, f12]</td>\n",
              "      <td>{'401': 0.03333333333333333, '427': 0.017857142857142856, '276': 0.02100840336134454, '414': 0.017857142857142856, '272': 0.027649769585253454, '250': 0.022321428571428572, '428': 0.017316017316017316, '518': 0.01984126984126984, '285': 0.024489795918367346, '584': 0.022321428571428572}</td>\n",
              "    </tr>\n",
              "    <tr>\n",
              "      <th>4</th>\n",
              "      <td>134727.0</td>\n",
              "      <td>discharge diagnosis:  pneumonia    discharge condition:  expired    discharge instructions:  na    followup instructions:  na                                 &lt;name&gt; &lt;name&gt; md [**md number(2) 1851**]</td>\n",
              "      <td>[486, 518, V45, V58, 401, 577, 415, 428]</td>\n",
              "      <td>[]</td>\n",
              "      <td>[]</td>\n",
              "      <td>[]</td>\n",
              "      <td>{'401': 0.0, '427': 0.0, '276': 0.0, '414': 0.0, '272': 0.0, '250': 0.0, '428': 0.0, '518': 0.0, '285': 0.0, '584': 0.0}</td>\n",
              "    </tr>\n",
              "    <tr>\n",
              "      <th>...</th>\n",
              "      <td>...</td>\n",
              "      <td>...</td>\n",
              "      <td>...</td>\n",
              "      <td>...</td>\n",
              "      <td>...</td>\n",
              "      <td>...</td>\n",
              "      <td>...</td>\n",
              "    </tr>\n",
              "    <tr>\n",
              "      <th>41962</th>\n",
              "      <td>127716.0</td>\n",
              "      <td>discharge diagnosis:  aortic stenosis and coronary artery disease s/p aortic valve  replacement and coronary artery bypass graft  past medical history:  hypertension  hyperlipidemia  diabetes mellitus  osteoarthritis  phlebitis  lung cancer  hiatal hernia  hypthyroidism  s/p right lobectomy [**2117**]  s/p lymph node dissection in neck  s/p beast lumpectomy  s/p hysterectomy  s/p c section  s/p tonsillectomy      discharge condition:  alert and oriented x3 nonfocal  ambulating, steady gait  incisional pain managed with ultram  incisions:  sternal - healing well, no erythema or drainage  1+ le edema      discharge instructions:  please shower daily including washing incisions gently with mild  soap, no baths or swimming until cleared by surgeon. look at  your incisions daily for redness or drainage  please no lotions, cream, powder, or ointments to incisions  each morning you should weigh yourself and then in the evening  take your temperature, these should be written down on the chart    no driving for one month or while taking narcotics. driving will  be discussed at follow up appointment with surgeon. no lifting  more than 10 pounds for 10 weeks  please call with any questions or concerns &lt;telephone&gt;  females: please wear bra to reduce pulling on incision, avoid  rubbing on lower edge  **please call cardiac surgery office with any questions or  concerns &lt;telephone&gt;. answering service will contact on call  person during off hours**    followup instructions:  you are scheduled for the following appointments  wound care, &lt;name&gt;, &lt;name&gt;  phone:&lt;telephone&gt;  date/time: &lt;date&gt;  10:00    surgeon: dr. &lt;name&gt; &lt;telephone&gt; date/time: &lt;date&gt;  1:15  cardiologist: dr. &lt;name&gt;  &lt;date&gt;  at 3:00p    please call to schedule appointments with your  primary care dr. &lt;name&gt; &lt;name&gt; in &lt;telephone&gt;    **please call cardiac surgery office with any questions or  concerns &lt;telephone&gt;. answering service will contact on call  person during off hours**                                   &lt;name&gt; &lt;name&gt; md [**md number(2) 748**]    completed by: &lt;date&gt;</td>\n",
              "      <td>[416, 424, 272, V10, V85, 414, 250, 401, 278, 782]</td>\n",
              "      <td>[artery, redness, edema, coronary, erythema, disease]</td>\n",
              "      <td>[artery, redness, edema, erythema, disease, coronary]</td>\n",
              "      <td>[f3, f18, f24, f13]</td>\n",
              "      <td>{'401': 0.025, '427': 0.0234375, '276': 0.014705882352941176, '414': 0.03125, '272': 0.024193548387096774, '250': 0.0234375, '428': 0.022727272727272728, '518': 0.020833333333333332, '285': 0.014285714285714285, '584': 0.015625}</td>\n",
              "    </tr>\n",
              "    <tr>\n",
              "      <th>41963</th>\n",
              "      <td>186377.0</td>\n",
              "      <td>discharge diagnosis:  coronary artery disease  pmh:  hypertension, diabetes, copd, diastolic heart failure, ef 45-50%  past surgical history  penile implant      discharge condition:  alert and oriented x3 nonfocal  ambulating, gait steady  sternal pain managed with oral analgesics  sternal incision - healing well, no erythema or drainage  right lower extremity saph site clean/dry/intact      discharge instructions:  please draw bun/cre, inr at least every other day until they  stabilize  please shower daily including washing incisions gently with mild  soap, no baths or swimming, and look at your incisions  please no lotions, cream, powder, or ointments to incisions  each morning you should weigh yourself and then in the evening  take your temperature, these should be written down on the chart  no driving for approximately one month and while taking  narcotics, will be discussed at follow up appointment with  surgeon when you will be able to drive  no lifting more than 10 pounds for 10 weeks  please call with any questions or concerns &lt;telephone&gt;  **please call cardiac surgery office with any questions or  concerns &lt;telephone&gt;. answering service will contact on call  person during off hours**      followup instructions:  you are scheduled for the following appointments:  surgeon dr. &lt;name&gt; &lt;telephone&gt;,  &lt;date&gt;  1:00  cardiologist dr. &lt;name&gt;. &lt;name&gt; office will call you with an  appointment  please call to schedule the following:  primary care dr. &lt;name&gt;,&lt;name&gt; in [**3-8**] weeks  please follow up with dr. &lt;name&gt; &lt;name&gt; call &lt;telephone&gt; to  schedule an appointment  dialysis,schedule hemodialysis unit date/time: &lt;date&gt;  12:00  renal: dr. &lt;name&gt; &lt;telephone&gt;  diabetes: if patient requires endocrine follow-up after  discharge from rehab, please contact &lt;name&gt;, &lt;name&gt; at &lt;hospital&gt;  **please call cardiac surgery office with any questions or  concerns &lt;telephone&gt;. answering service will contact on call  person during off hours**    inr draw on [**8-16**]  goal inr [**1-5**]  indication: atrial fibrillation                                   &lt;name&gt; &lt;name&gt; md [**md number(2) 266**]    completed by: &lt;date&gt;</td>\n",
              "      <td>[424, 511, 305, 707, 403, 496, 784, 250, 414, V58, 427, 428, 584, 008, 997, 434, 410, 585, 041, 599]</td>\n",
              "      <td>[atrial, diabetes, diastolic, fibrillation, heart, failure, erythema, clean/dry/intact]</td>\n",
              "      <td>[diabetes, failure, atrial, erythema, heart, fibrillation]</td>\n",
              "      <td>[f21, f17, f13, f14, f37]</td>\n",
              "      <td>{'401': 0.03333333333333333, '427': 0.03125, '276': 0.029411764705882353, '414': 0.03125, '272': 0.03225806451612903, '250': 0.03125, '428': 0.030303030303030304, '518': 0.027777777777777776, '285': 0.02857142857142857, '584': 0.03125}</td>\n",
              "    </tr>\n",
              "    <tr>\n",
              "      <th>41964</th>\n",
              "      <td>156564.0</td>\n",
              "      <td>discharge diagnosis:  left knee infection  chronic obstructive pulmonary disease exacerbation  acute on chronic kidney injury  congestive heart failure  hypertension      discharge condition:  mental status: clear and coherent.  level of consciousness: alert and interactive.  activity status: out of bed with assistance to chair or  wheelchair.      discharge instructions:  mr. &lt;name&gt;,    you were admitted to the hospital for a infected hardware in  your left knee. our orthopaedics team cleaned out the infection  in your knee and replaced the liner of your prosthesis. they  feel you should follow up with your primary orthopaedic doctor,  dr. &lt;name&gt; &lt;name&gt; at &lt;hospital&gt; (&lt;telephone&gt;), for ongoing  issues about your knee. the cultures of the infection in your  knee grew two different organisms, so we consulted our  infectious disease doctors who recommended a course of iv  antibiotics to help treat your infection. because this infection  occured inside of a joint, a longer course of antibiotics is  required. you went multiple times to the operating room to  wash-out your knee of any remaining infection, and your hardware  was removed. most recently you had a portion of tissue grafted  to your knee to provide for better coverage of your wound, along  with skin graft. your kidney function worsened while you were in  the hospital but it appears to have normalized. this should be  followed up with your primary care physician.    we made the following changes to your medications:  started:  vancomycin (antibiotic)  ceftriaxone (antibiotic)    increased metoprolol for blood pressure    followup instructions:  department: plastic surgery  when: wednesday  &lt;date&gt;  at 3:15 pm  with: &lt;name&gt; &lt;name&gt;, md &lt;telephone&gt;  building: lm &lt;name&gt; bldg (&lt;name&gt;) [**location (un) **]  campus: west     best parking: &lt;name&gt; garage    name: &lt;name&gt;, &lt;name&gt; &lt;name&gt; &lt;name&gt;  location: community physicians associates  address: &lt;hospital&gt;,[**numeric identifier 18406**]  phone: &lt;telephone&gt;  appointment: thursday  &lt;date&gt;  1:15pm    department: infectious disease  when: friday  &lt;date&gt;  at 9:30 am  with: &lt;name&gt; &lt;name&gt;, md &lt;telephone&gt;  building: lm &lt;name&gt; bldg (&lt;name&gt;) &lt;hospital&gt;  campus: west     best parking: &lt;name&gt; garage    name: nabi,&lt;name&gt; md  address: &lt;hospital&gt;,[**numeric identifier 18406**]  phone: &lt;telephone&gt;  **please discuss with the staff at the facility a follow up  appointment with your pcp when you are ready for discharge.      department: plastic surgery  when: wednesday  &lt;date&gt;  at 3:15 pm  with: &lt;name&gt; &lt;name&gt;, md &lt;telephone&gt;  building: lm &lt;name&gt; bldg (&lt;name&gt;) [**location (un) **]  campus: west     best parking: &lt;name&gt; garage    department: infectious disease  when: friday  &lt;date&gt;  at 9:30 am  with: &lt;name&gt; &lt;name&gt;, md &lt;telephone&gt;  building: lm &lt;name&gt; bldg (&lt;name&gt;) &lt;hospital&gt;  campus: west     best parking: &lt;name&gt; garage                                   &lt;name&gt; &lt;name&gt; md [**md number(1) 348**]    completed by: &lt;date&gt;</td>\n",
              "      <td>[V10, 403, 584, V43, 428, 285, 496, 250, V58, 041, 357, 707, 365, 414, 780, 518, 711, 585, 327, V12, E84, E87, 996]</td>\n",
              "      <td>[pulmonary, infectious, hypertension, kidney, obstructive, heart, injury, failure, metoprolol, infection, disease]</td>\n",
              "      <td>[hypertension, failure, disease, pulmonary, heart, infection, metoprolol, kidney, obstructive]</td>\n",
              "      <td>[f8, f29, f43, f21, f34, f17, f18, f37, f19]</td>\n",
              "      <td>{'401': 0.025925925925925925, '427': 0.027777777777777776, '276': 0.0261437908496732, '414': 0.027777777777777776, '272': 0.02867383512544803, '250': 0.027777777777777776, '428': 0.026936026936026935, '518': 0.027777777777777776, '285': 0.025396825396825397, '584': 0.027777777777777776}</td>\n",
              "    </tr>\n",
              "    <tr>\n",
              "      <th>41965</th>\n",
              "      <td>172559.0</td>\n",
              "      <td>discharge diagnosis:  primary:  small bowel obstruction  metastatic prostate cancer  anasarca  malnutrition  dehydration  acute renal failure  aspiration pneumonia  .  secondary:  prostate ca s/p xrt and chemo - rising psa (140), lg rp mass,  oa, lbp, diverticulosis w/ colovesical fistula s/p lar [**5-18**], s/p  ileostomy takedown [**10-18**], open ccy      discharge condition:  stable      discharge instructions:  please call your doctor or return to the er for any of the  following:  * you experience new chest pain, pressure, squeezing or  tightness.  * new or worsening cough or wheezing.  * if you are vomiting and cannot keep in fluids or your  medications.  * you are getting dehydrated due to continued vomiting,  diarrhea or other reasons. signs of dehydration include dry  mouth, rapid heartbeat or feeling dizzy or faint when standing.  * you see blood or dark/black material when you vomit or have a  bowel movement.  * your pain is not improving within 8-12 hours or not gone  within 24 hours. call or return immediately if your pain is  getting worse or is changing location or moving to your chest or    back.  *avoid lifting objects &gt; 5lbs until your follow-up appointment  with the surgeon.  *avoid driving or operating heavy machinery while taking pain  medications.  * you have shaking chills, or a fever greater than 101.5 (f)  degrees or 38(c) degrees.  * any serious change in your symptoms, or any new symptoms that  concern you.  * please resume all regular home medications and take any new  meds  as ordered.  * continue to ambulate several times per day.  .  incision care:  -your staples will be removed at your follow-up appointment with  the surgeon, and steri strips will be applied.  -your steri-strips will fall off on their own. please remove any  remaining strips 7-10 days after surgery.  -you may shower, and wash surgical incisions.  -avoid swimming and baths until your follow-up appointment.  -please call the doctor if you have increased pain, swelling,  redness, or drainage from the incision sites.      followup instructions:  1. please follow-up appointment with dr. &lt;name&gt; (&lt;telephone&gt; on  &lt;date&gt;  at 1:15pm for removal of your staples.  2. you have follow-up appointment with dr. &lt;name&gt; &lt;name&gt;, md  phone:&lt;telephone&gt; date/time: &lt;date&gt;  11:00, and chemotherapy at  provider: &lt;name&gt; &lt;name&gt;, rn phone:&lt;telephone&gt; date/time: &lt;date&gt;   12:00  3. provider: &lt;name&gt;,&lt;name&gt; &lt;name&gt; apg (sb)  phone:&lt;telephone&gt; date/time: &lt;date&gt;  10:10                                 &lt;name&gt; &lt;name&gt; md [**md number(1) 17**]    completed by: &lt;date&gt;</td>\n",
              "      <td>[197, 507, 185, 427, 261, 585, V66, 560, 783, 285, 276]</td>\n",
              "      <td>[dehydration, obstruction, cough, diverticulosis, fever, chest, vomiting, telephone, bowel, swelling, chills, prostate, colovesical, wheezing, phone, vomit, fistula, pain, cancer]</td>\n",
              "      <td>[swelling, dehydration, vomiting, chills, cancer, chest, pain, cough, fever]</td>\n",
              "      <td>[f0, f26, f10, f1, f16, f15]</td>\n",
              "      <td>{'401': 0.02777777777777778, '427': 0.026041666666666668, '276': 0.029411764705882353, '414': 0.026041666666666668, '272': 0.026881720430107527, '250': 0.020833333333333332, '428': 0.0202020202020202, '518': 0.02314814814814815, '285': 0.02380952380952381, '584': 0.026041666666666668}</td>\n",
              "    </tr>\n",
              "    <tr>\n",
              "      <th>41966</th>\n",
              "      <td>135672.0</td>\n",
              "      <td>discharge diagnosis:  peritonitis secondary to small bowel perforation.  cmv enteritis  b-cell lymphoma  line infection  type 2 diabetes controlled without complications  moderate malnutrition  cad bypass vessle      discharge condition:  stable.  tolerating regular diet  pain well controlled with oral medications.      discharge instructions:  you are being discharged on an antiviral medication called  ganciclovir, which can make your diarhea worse for some time.  please contact your doctor if you experience numbness, tingling  or pain in hands or feet, as this may be a side effect of the  medication.    you will be having labs drawn every other day and sent to dr.  &lt;name&gt; of infectious diseases for monitoring of your blood  counts.    *avoid lifting objects &gt; 5lbs until your follow-up appointment  with the surgeon.    *avoid driving or operating heavy machinery while taking pain  medications.    * continue to ambulate several times per day.    incision care:  -your staples will be removed at your follow up appoinetment.  -steri-strips will be applied and will fall off on their own.  please remove any remaining strips 7-10 days after application.  -you may shower, and wash surgical incisions.  -avoid swimming and baths until your follow-up appointment.  -please call the doctor if you have increased pain, swelling,  redness, or drainage from the incision sites.    followup instructions:  you will need to have an ophthalmalogic evaluation to make sure  that there is no evidence of cmv infection of the retina - this  should happen this week.  please call: (&lt;telephone&gt; to  schedule this appointment; if you have any difficulty arranging  this, please discuss this with your primary doctor so that they  can facilitate/arrange this evaluation.    1. please call dr.&lt;name&gt; office, &lt;telephone&gt;, to make a  follow up appointment in [**11-23**] weeks.  scheduled appointments :  provider: &lt;name&gt; &lt;name&gt;, &lt;telephone&gt;  date/time: &lt;date&gt;  10:30  provider: &lt;name&gt; &lt;name&gt;, rn phone:&lt;telephone&gt;  date/time: &lt;date&gt;  11:00  provider: &lt;name&gt; chair 6  date/time: &lt;date&gt;  11:00                                   &lt;name&gt; &lt;name&gt; md [**md number(2) 431**]    completed by: &lt;date&gt;</td>\n",
              "      <td>[202, 401, 584, 255, 283, 238, 038, 785, 250, 008, 041, 272, 996, 078, V45, 567, 569, 273, 995, 263, 579, 782]</td>\n",
              "      <td>[infectious, telephone, bowel, swelling, diseases, phone, perforation, small, infection, numbness, pain]</td>\n",
              "      <td>[swelling, numbness, infection, pain]</td>\n",
              "      <td>[f0, f43, f26]</td>\n",
              "      <td>{'401': 0.03333333333333333, '427': 0.03125, '276': 0.029411764705882353, '414': 0.03125, '272': 0.03225806451612903, '250': 0.03125, '428': 0.030303030303030304, '518': 0.027777777777777776, '285': 0.02857142857142857, '584': 0.03125}</td>\n",
              "    </tr>\n",
              "  </tbody>\n",
              "</table>\n",
              "<p>41967 rows × 7 columns</p>\n",
              "</div>"
            ],
            "text/plain": [
              "        HADM_ID  ...                                                                                                                                                                                                                                                                            predicted_icd_weigths\n",
              "0      167118.0  ...    {'401': 0.02777777777777778, '427': 0.026041666666666668, '276': 0.0196078431372549, '414': 0.026041666666666668, '272': 0.026881720430107527, '250': 0.026041666666666668, '428': 0.025252525252525252, '518': 0.02314814814814815, '285': 0.02380952380952381, '584': 0.020833333333333332}\n",
              "1      196489.0  ...                                              {'401': 0.02, '427': 0.025, '276': 0.021568627450980392, '414': 0.020833333333333332, '272': 0.02150537634408602, '250': 0.025, '428': 0.024242424242424242, '518': 0.024074074074074074, '285': 0.022857142857142857, '584': 0.022916666666666665}\n",
              "2      135453.0  ...                                             {'401': 0.016666666666666666, '427': 0.0234375, '276': 0.022058823529411766, '414': 0.015625, '272': 0.016129032258064516, '250': 0.0234375, '428': 0.022727272727272728, '518': 0.027777777777777776, '285': 0.02857142857142857, '584': 0.0234375}\n",
              "3      170490.0  ...  {'401': 0.03333333333333333, '427': 0.017857142857142856, '276': 0.02100840336134454, '414': 0.017857142857142856, '272': 0.027649769585253454, '250': 0.022321428571428572, '428': 0.017316017316017316, '518': 0.01984126984126984, '285': 0.024489795918367346, '584': 0.022321428571428572}\n",
              "4      134727.0  ...                                                                                                                                                                         {'401': 0.0, '427': 0.0, '276': 0.0, '414': 0.0, '272': 0.0, '250': 0.0, '428': 0.0, '518': 0.0, '285': 0.0, '584': 0.0}\n",
              "...         ...  ...                                                                                                                                                                                                                                                                                              ...\n",
              "41962  127716.0  ...                                                             {'401': 0.025, '427': 0.0234375, '276': 0.014705882352941176, '414': 0.03125, '272': 0.024193548387096774, '250': 0.0234375, '428': 0.022727272727272728, '518': 0.020833333333333332, '285': 0.014285714285714285, '584': 0.015625}\n",
              "41963  186377.0  ...                                                      {'401': 0.03333333333333333, '427': 0.03125, '276': 0.029411764705882353, '414': 0.03125, '272': 0.03225806451612903, '250': 0.03125, '428': 0.030303030303030304, '518': 0.027777777777777776, '285': 0.02857142857142857, '584': 0.03125}\n",
              "41964  156564.0  ...  {'401': 0.025925925925925925, '427': 0.027777777777777776, '276': 0.0261437908496732, '414': 0.027777777777777776, '272': 0.02867383512544803, '250': 0.027777777777777776, '428': 0.026936026936026935, '518': 0.027777777777777776, '285': 0.025396825396825397, '584': 0.027777777777777776}\n",
              "41965  172559.0  ...    {'401': 0.02777777777777778, '427': 0.026041666666666668, '276': 0.029411764705882353, '414': 0.026041666666666668, '272': 0.026881720430107527, '250': 0.020833333333333332, '428': 0.0202020202020202, '518': 0.02314814814814815, '285': 0.02380952380952381, '584': 0.026041666666666668}\n",
              "41966  135672.0  ...                                                      {'401': 0.03333333333333333, '427': 0.03125, '276': 0.029411764705882353, '414': 0.03125, '272': 0.03225806451612903, '250': 0.03125, '428': 0.030303030303030304, '518': 0.027777777777777776, '285': 0.02857142857142857, '584': 0.03125}\n",
              "\n",
              "[41967 rows x 7 columns]"
            ]
          },
          "metadata": {
            "tags": []
          },
          "execution_count": 46
        }
      ]
    },
    {
      "cell_type": "code",
      "metadata": {
        "id": "PrrIblENaDyw"
      },
      "source": [
        "def predictbasedonwts(x):\n",
        "  x1=dict(sorted(x.items(),key= lambda y: y[1],reverse=True))\n",
        "  x2={k:v for (k,v) in x1.items() if v>0}\n",
        "  repeatedval=dict(Counter(list(x2.values())))\n",
        "  repeatedvalgreaterthan1=[k for (k,v) in repeatedval.items() if v>1]\n",
        "  x3=dict(list(x2.items())[:10])\n",
        "  x4=[v for (k,v) in x3.items() if v in repeatedvalgreaterthan1]\n",
        "  x5={k:v for (k,v) in x2.items() if v in x4}\n",
        "  x3.update(x5)\n",
        "  return list(x3.keys())"
      ],
      "execution_count": 47,
      "outputs": []
    },
    {
      "cell_type": "code",
      "metadata": {
        "colab": {
          "base_uri": "https://localhost:8080/",
          "height": 66,
          "referenced_widgets": [
            "98385ce897ae47ce86dda6f932875207",
            "cc533db33ca14189b36f752d8ed8bd1d",
            "f5d56989a3e9487faed2a738cf7f529a",
            "5acc99ece140435ca78e97a9a2c6b9d4",
            "636c8a504903468da765f1f7873dd947",
            "db3c1613f45845e6970a25bd011a9c53",
            "e287b718d1c24a4891ada0a0b4ac9b3f",
            "8a9904ad1d1e49d3bd6d9e2035ecedd8"
          ]
        },
        "id": "HmYUl85McLuR",
        "outputId": "45973bdc-ea37-45ee-8590-692079570fc3"
      },
      "source": [
        "diagnosis_icd9category_token['predicted_icd']=diagnosis_icd9category_token.predicted_icd_weigths.progress_apply(predictbasedonwts)"
      ],
      "execution_count": 48,
      "outputs": [
        {
          "output_type": "display_data",
          "data": {
            "application/vnd.jupyter.widget-view+json": {
              "model_id": "98385ce897ae47ce86dda6f932875207",
              "version_minor": 0,
              "version_major": 2
            },
            "text/plain": [
              "HBox(children=(FloatProgress(value=0.0, max=41967.0), HTML(value='')))"
            ]
          },
          "metadata": {
            "tags": []
          }
        },
        {
          "output_type": "stream",
          "text": [
            "\n"
          ],
          "name": "stdout"
        }
      ]
    },
    {
      "cell_type": "code",
      "metadata": {
        "colab": {
          "base_uri": "https://localhost:8080/",
          "height": 1000
        },
        "id": "q7fclE2PcoH0",
        "outputId": "9e969659-049f-443d-dcee-bec231a8dcb2"
      },
      "source": [
        "diagnosis_icd9category_token"
      ],
      "execution_count": 49,
      "outputs": [
        {
          "output_type": "execute_result",
          "data": {
            "text/html": [
              "<div>\n",
              "<style scoped>\n",
              "    .dataframe tbody tr th:only-of-type {\n",
              "        vertical-align: middle;\n",
              "    }\n",
              "\n",
              "    .dataframe tbody tr th {\n",
              "        vertical-align: top;\n",
              "    }\n",
              "\n",
              "    .dataframe thead th {\n",
              "        text-align: right;\n",
              "    }\n",
              "</style>\n",
              "<table border=\"1\" class=\"dataframe\">\n",
              "  <thead>\n",
              "    <tr style=\"text-align: right;\">\n",
              "      <th></th>\n",
              "      <th>HADM_ID</th>\n",
              "      <th>discharge diagnosis:</th>\n",
              "      <th>icd9_category</th>\n",
              "      <th>medical_terms_list</th>\n",
              "      <th>med_terms_condensed</th>\n",
              "      <th>features</th>\n",
              "      <th>predicted_icd_weigths</th>\n",
              "      <th>predicted_icd</th>\n",
              "    </tr>\n",
              "  </thead>\n",
              "  <tbody>\n",
              "    <tr>\n",
              "      <th>0</th>\n",
              "      <td>167118.0</td>\n",
              "      <td>discharge diagnosis:  copd, coronary artery disease/atypical angina (lad 30%, rca 30%,  ef 63%), hypercholesterolemia, hypothyroidism, hypertension,  hiatal hernia, cerebral vascular accident,s/p motor vehicle  colision-&gt; head injury &amp; rib fracture.  tbm- s/p tracheoplasty.      discharge condition:  good    discharge instructions:  please update dr.&lt;name&gt; &lt;telephone&gt; office for:  fever,  shortness of breath, chest pain , productive cough or if you  have any questions or concerns.      completed by: &lt;date&gt;</td>\n",
              "      <td>[496, 553, 518, 453, 519, 276]</td>\n",
              "      <td>[hypercholesterolemia, cerebral, hypothyroidism, cough, accident, hypertension, artery, chest, vascular, coronary, fracture, injury, angina, pain, head]</td>\n",
              "      <td>[hypertension, fracture, artery, chest, pain, coronary, cough]</td>\n",
              "      <td>[f0, f10, f36, f17, f16, f24]</td>\n",
              "      <td>{'401': 0.02777777777777778, '427': 0.026041666666666668, '276': 0.0196078431372549, '414': 0.026041666666666668, '272': 0.026881720430107527, '250': 0.026041666666666668, '428': 0.025252525252525252, '518': 0.02314814814814815, '285': 0.02380952380952381, '584': 0.020833333333333332}</td>\n",
              "      <td>[401, 272, 427, 414, 250, 428, 285, 518, 584, 276]</td>\n",
              "    </tr>\n",
              "    <tr>\n",
              "      <th>1</th>\n",
              "      <td>196489.0</td>\n",
              "      <td>discharge diagnosis:  primary:  1. chronic obstructive pulmonary disease exacerbation  2. respiratory failure with intubation  3. upper gastrointestinal bleed/peptic ulcer disease  4. hypertension  5. anxiety    secondary:  1. coronary artery disease  2. hypothyroidism      discharge condition:  mental status: confused - sometimes.  level of consciousness: alert and interactive.  activity status: out of bed with assistance to chair or  wheelchair.      discharge instructions:  you were admitted to the hospital with shortness of breath and  respiratory failure and lethargy. in the emergency department,  you were breathing very fast and a breathing tube was inserted  into your airway to help you breathe. you were admitted to the  intensive care unit. there, you were managed with steroids and  antibiotics and the tube was eventually removed from your  airway, allowing you to breathe on your own. you also underwent  bronchoscopy which looked at the inside of your airways.  .  during your time in the intensive care unit, you developed a  gastrointestinal bleed. a tube was placed into your stomach and  you underwent an endoscopic procedure to look at your esophagus  and stomach. this showed inflammation in your esophagusand  ulcers in your stomach.  .  you should continue to use nasal oxygen by nasal cannula as  needed. you should continue the steroid taper as instructed. you  should call your doctor or return to the emergency room if you  have increasing difficulty breathing or shortness of breath,  wheezing, chest pain, blood in your stool or vomiting blood.  .  there are some changes in your medications.  start pantoprazole 40 mg twice daily and stop omeprazole  start hydrochlorothiazide  start prednisone, taking 30 mg for 3 days, then 20 mg for 4  days, then 10 mg for 4 days, then 5 mg for 4 days, then stop.  start colace and senna as needed for constipation  can use morphine to alleviate symptoms of respiratory discomfort  stop furosemide  stop zolpidem  stop aspirin  increase diovan to 240 mg daily  decrease trazodone to 50 mg daily  .  follow up as indicated below.    followup instructions:  you have an appointment to follow up with dr. &lt;name&gt;, your  primary care physician, &lt;name&gt; [**8-29**] at 1pm. his address is [**location (un) 1822**], [**apartment address(1) 1823**], [**location (un) **],[**numeric identifier 1700**]. the phone is  &lt;telephone&gt;.    you have an appointment to follow up with dr. &lt;name&gt; &lt;name&gt; in  the  &lt;name&gt; at &lt;hospital&gt; on the [**location (un) 453**]. their phone number is  &lt;telephone&gt;.    department: div. of gastroenterology  when: wednesday  &lt;date&gt;  at 3:00 pm  with: &lt;name&gt; &lt;name&gt;, md &lt;telephone&gt;  building: ra &lt;name&gt; (&lt;name&gt;/&lt;name&gt; complex) [**location (un) **]  campus: east     best parking: main garage</td>\n",
              "      <td>[487, 416, 272, 530, 414, 553, 531, 518, 401, 519, 348, V02, 359, 584, 458, 578, 491, E93, 276, 244]</td>\n",
              "      <td>[pulmonary, hypertension, of, obstructive, discomfort, gastrointestinal, constipation, oxygen, breath, inflammation, artery, chest, hydrochlorothiazide, steroid, anxiety, omeprazole, senna, trazodone, failure, shortness, disease, pantoprazole, aspirin, hypothyroidism, zolpidem, furosemide, coronary, prednisone, lethargy, steroids, ulcer, chronic, respiratory, morphine, pain]</td>\n",
              "      <td>[hypertension, shortness, failure, constipation, respiratory, artery, chest, disease, pulmonary, pain, breath, aspirin, coronary, oxygen, prednisone, chronic, obstructive, gastrointestinal]</td>\n",
              "      <td>[f0, f30, f35, f4, f31, f34, f33, f17, f9, f12, f18, f16, f37, f19, f24]</td>\n",
              "      <td>{'401': 0.02, '427': 0.025, '276': 0.021568627450980392, '414': 0.020833333333333332, '272': 0.02150537634408602, '250': 0.025, '428': 0.024242424242424242, '518': 0.024074074074074074, '285': 0.022857142857142857, '584': 0.022916666666666665}</td>\n",
              "      <td>[427, 250, 428, 518, 584, 285, 276, 272, 414, 401]</td>\n",
              "    </tr>\n",
              "    <tr>\n",
              "      <th>2</th>\n",
              "      <td>135453.0</td>\n",
              "      <td>discharge diagnosis:  1. cervical spondylosis with calcification of posterior  longitudinal ligament.  2. fracture dislocation c6-c7.  3. ossification of the posterior longitudinal ligament.  4. aspiration pneumonia      1. cervical spondylosis with calcification of posterior      longitudinal ligament.  2. fracture dislocation c6-c7.  3. ossification of the posterior longitudinal ligament.  4. aspiration pneumonia    1. cervical spondylosis with calcification of posterior      longitudinal ligament.  2. fracture dislocation c6-c7.  3. ossification of the posterior longitudinal ligament.  4. aspiration pneumonia      discharge condition:  stable to outside facility      discharge instructions:  patient has been made cmo at the request of him and his family.  he has a foley placed for urinary retention. please use morphine  as needed for pain and olanzapine as needed for agitiation.  patient has known history of aspiration documented on speech and  swallow. it is the patient and the family's wish for him to  continue to eat and drink as desired.    followup instructions:  follow up with your primary care physician as needed.</td>\n",
              "      <td>[V12, 788, 805, 507, V45, 401, 427, 453, E88, 293, 802, 428]</td>\n",
              "      <td>[ligament, spondylosis, of, cervical, urinary, posterior, calcification, olanzapine, fracture, pneumonia, dislocation, retention, longitudinal, morphine, pain]</td>\n",
              "      <td>[urinary, fracture, pneumonia, pain]</td>\n",
              "      <td>[f0, f36, f28, f22]</td>\n",
              "      <td>{'401': 0.016666666666666666, '427': 0.0234375, '276': 0.022058823529411766, '414': 0.015625, '272': 0.016129032258064516, '250': 0.0234375, '428': 0.022727272727272728, '518': 0.027777777777777776, '285': 0.02857142857142857, '584': 0.0234375}</td>\n",
              "      <td>[285, 518, 427, 250, 584, 428, 276, 401, 272, 414]</td>\n",
              "    </tr>\n",
              "    <tr>\n",
              "      <th>3</th>\n",
              "      <td>170490.0</td>\n",
              "      <td>discharge diagnosis:  brain lesion    discharge condition:  mental status: clear and coherent.  level of consciousness: alert and interactive.  activity status: ambulatory - independent.  neuro exam intact.    discharge instructions:  ??????\\thave a friend/family member check your incision daily for  signs of infection.  ??????\\ttake your pain medicine as prescribed.  ??????\\texercise should be limited to walking; no lifting, straining,  or excessive bending.  ??????\\tyou have dissolvable sutures, you must keep that area dry for  10 days.  ??????\\tyou may shower before this time using a shower cap to cover  your head.  ??????\\tincrease your intake of fluids and fiber, as narcotic pain  medicine can cause constipation. we generally recommend taking  an over the counter stool softener, such as docusate (colace)  while taking narcotic pain medication.  ??????\\tunless directed by your doctor, do not take any  anti-inflammatory medicines such as motrin, aspirin, advil, and  ibuprofen etc.  ??????\\tif you have been prescribed dilantin (phenytoin) for  anti-seizure medicine, take it as prescribed and follow up with  laboratory blood drawing in one week.  this can be drawn at your  pcp??????s office, but please have the results faxed to &lt;telephone&gt;.  if you have been discharged on keppra (levetiracetam), you will  not require blood work monitoring.  ??????\\tif you are being sent home on steroid medication, make sure  you are taking a medication to protect your stomach (prilosec,  protonix, or pepcid), as these medications can cause stomach  irritation.  make sure to take your steroid medication with  meals, or a glass of milk.  ??????\\tclearance to drive and return to work will be addressed at  your post-operative office visit.  ??????\\tmake sure to continue to use your incentive spirometer while  at home.  call your surgeon immediately if you experience any of the  following    ??????\\tnew onset of tremors or seizures.  ??????\\tany confusion or change in mental status.  ??????\\tany numbness, tingling, weakness in your extremities.  ??????\\tpain or headache that is continually increasing, or not  relieved by pain medication.  ??????\\tany signs of infection at the wound site: increasing redness,  increased swelling, increased tenderness, or drainage.  ??????\\tfever greater than or equal to 101?????? f.    followup instructions:  ??????\\tplease return to the office in [**6-28**] days (from your date of  surgery) for a wound check. this appointment can be made with  the nurse practitioner.  please make this appointment by calling  &lt;telephone&gt;. if you live quite a distance from our office,  please make arrangements for the same, with your pcp.</td>\n",
              "      <td>[710, 225, 443, 714, 530, V43]</td>\n",
              "      <td>[motrin, aspirin, levetiracetam, seizures, weakness, phenytoin, fever, redness, tenderness, docusate, infection, steroid, tingling, confusion, headache, constipation, tremors, numbness, pain]</td>\n",
              "      <td>[motrin, weakness, seizures, headache, redness, constipation, numbness, confusion, aspirin, infection, pain, fever]</td>\n",
              "      <td>[f0, f32, f43, f2, f5, f13, f12]</td>\n",
              "      <td>{'401': 0.03333333333333333, '427': 0.017857142857142856, '276': 0.02100840336134454, '414': 0.017857142857142856, '272': 0.027649769585253454, '250': 0.022321428571428572, '428': 0.017316017316017316, '518': 0.01984126984126984, '285': 0.024489795918367346, '584': 0.022321428571428572}</td>\n",
              "      <td>[401, 272, 285, 250, 584, 276, 518, 427, 414, 428]</td>\n",
              "    </tr>\n",
              "    <tr>\n",
              "      <th>4</th>\n",
              "      <td>134727.0</td>\n",
              "      <td>discharge diagnosis:  pneumonia    discharge condition:  expired    discharge instructions:  na    followup instructions:  na                                 &lt;name&gt; &lt;name&gt; md [**md number(2) 1851**]</td>\n",
              "      <td>[486, 518, V45, V58, 401, 577, 415, 428]</td>\n",
              "      <td>[]</td>\n",
              "      <td>[]</td>\n",
              "      <td>[]</td>\n",
              "      <td>{'401': 0.0, '427': 0.0, '276': 0.0, '414': 0.0, '272': 0.0, '250': 0.0, '428': 0.0, '518': 0.0, '285': 0.0, '584': 0.0}</td>\n",
              "      <td>[]</td>\n",
              "    </tr>\n",
              "    <tr>\n",
              "      <th>...</th>\n",
              "      <td>...</td>\n",
              "      <td>...</td>\n",
              "      <td>...</td>\n",
              "      <td>...</td>\n",
              "      <td>...</td>\n",
              "      <td>...</td>\n",
              "      <td>...</td>\n",
              "      <td>...</td>\n",
              "    </tr>\n",
              "    <tr>\n",
              "      <th>41962</th>\n",
              "      <td>127716.0</td>\n",
              "      <td>discharge diagnosis:  aortic stenosis and coronary artery disease s/p aortic valve  replacement and coronary artery bypass graft  past medical history:  hypertension  hyperlipidemia  diabetes mellitus  osteoarthritis  phlebitis  lung cancer  hiatal hernia  hypthyroidism  s/p right lobectomy [**2117**]  s/p lymph node dissection in neck  s/p beast lumpectomy  s/p hysterectomy  s/p c section  s/p tonsillectomy      discharge condition:  alert and oriented x3 nonfocal  ambulating, steady gait  incisional pain managed with ultram  incisions:  sternal - healing well, no erythema or drainage  1+ le edema      discharge instructions:  please shower daily including washing incisions gently with mild  soap, no baths or swimming until cleared by surgeon. look at  your incisions daily for redness or drainage  please no lotions, cream, powder, or ointments to incisions  each morning you should weigh yourself and then in the evening  take your temperature, these should be written down on the chart    no driving for one month or while taking narcotics. driving will  be discussed at follow up appointment with surgeon. no lifting  more than 10 pounds for 10 weeks  please call with any questions or concerns &lt;telephone&gt;  females: please wear bra to reduce pulling on incision, avoid  rubbing on lower edge  **please call cardiac surgery office with any questions or  concerns &lt;telephone&gt;. answering service will contact on call  person during off hours**    followup instructions:  you are scheduled for the following appointments  wound care, &lt;name&gt;, &lt;name&gt;  phone:&lt;telephone&gt;  date/time: &lt;date&gt;  10:00    surgeon: dr. &lt;name&gt; &lt;telephone&gt; date/time: &lt;date&gt;  1:15  cardiologist: dr. &lt;name&gt;  &lt;date&gt;  at 3:00p    please call to schedule appointments with your  primary care dr. &lt;name&gt; &lt;name&gt; in &lt;telephone&gt;    **please call cardiac surgery office with any questions or  concerns &lt;telephone&gt;. answering service will contact on call  person during off hours**                                   &lt;name&gt; &lt;name&gt; md [**md number(2) 748**]    completed by: &lt;date&gt;</td>\n",
              "      <td>[416, 424, 272, V10, V85, 414, 250, 401, 278, 782]</td>\n",
              "      <td>[artery, redness, edema, coronary, erythema, disease]</td>\n",
              "      <td>[artery, redness, edema, erythema, disease, coronary]</td>\n",
              "      <td>[f3, f18, f24, f13]</td>\n",
              "      <td>{'401': 0.025, '427': 0.0234375, '276': 0.014705882352941176, '414': 0.03125, '272': 0.024193548387096774, '250': 0.0234375, '428': 0.022727272727272728, '518': 0.020833333333333332, '285': 0.014285714285714285, '584': 0.015625}</td>\n",
              "      <td>[414, 401, 272, 427, 250, 428, 518, 584, 276, 285]</td>\n",
              "    </tr>\n",
              "    <tr>\n",
              "      <th>41963</th>\n",
              "      <td>186377.0</td>\n",
              "      <td>discharge diagnosis:  coronary artery disease  pmh:  hypertension, diabetes, copd, diastolic heart failure, ef 45-50%  past surgical history  penile implant      discharge condition:  alert and oriented x3 nonfocal  ambulating, gait steady  sternal pain managed with oral analgesics  sternal incision - healing well, no erythema or drainage  right lower extremity saph site clean/dry/intact      discharge instructions:  please draw bun/cre, inr at least every other day until they  stabilize  please shower daily including washing incisions gently with mild  soap, no baths or swimming, and look at your incisions  please no lotions, cream, powder, or ointments to incisions  each morning you should weigh yourself and then in the evening  take your temperature, these should be written down on the chart  no driving for approximately one month and while taking  narcotics, will be discussed at follow up appointment with  surgeon when you will be able to drive  no lifting more than 10 pounds for 10 weeks  please call with any questions or concerns &lt;telephone&gt;  **please call cardiac surgery office with any questions or  concerns &lt;telephone&gt;. answering service will contact on call  person during off hours**      followup instructions:  you are scheduled for the following appointments:  surgeon dr. &lt;name&gt; &lt;telephone&gt;,  &lt;date&gt;  1:00  cardiologist dr. &lt;name&gt;. &lt;name&gt; office will call you with an  appointment  please call to schedule the following:  primary care dr. &lt;name&gt;,&lt;name&gt; in [**3-8**] weeks  please follow up with dr. &lt;name&gt; &lt;name&gt; call &lt;telephone&gt; to  schedule an appointment  dialysis,schedule hemodialysis unit date/time: &lt;date&gt;  12:00  renal: dr. &lt;name&gt; &lt;telephone&gt;  diabetes: if patient requires endocrine follow-up after  discharge from rehab, please contact &lt;name&gt;, &lt;name&gt; at &lt;hospital&gt;  **please call cardiac surgery office with any questions or  concerns &lt;telephone&gt;. answering service will contact on call  person during off hours**    inr draw on [**8-16**]  goal inr [**1-5**]  indication: atrial fibrillation                                   &lt;name&gt; &lt;name&gt; md [**md number(2) 266**]    completed by: &lt;date&gt;</td>\n",
              "      <td>[424, 511, 305, 707, 403, 496, 784, 250, 414, V58, 427, 428, 584, 008, 997, 434, 410, 585, 041, 599]</td>\n",
              "      <td>[atrial, diabetes, diastolic, fibrillation, heart, failure, erythema, clean/dry/intact]</td>\n",
              "      <td>[diabetes, failure, atrial, erythema, heart, fibrillation]</td>\n",
              "      <td>[f21, f17, f13, f14, f37]</td>\n",
              "      <td>{'401': 0.03333333333333333, '427': 0.03125, '276': 0.029411764705882353, '414': 0.03125, '272': 0.03225806451612903, '250': 0.03125, '428': 0.030303030303030304, '518': 0.027777777777777776, '285': 0.02857142857142857, '584': 0.03125}</td>\n",
              "      <td>[401, 272, 427, 414, 250, 584, 428, 276, 285, 518]</td>\n",
              "    </tr>\n",
              "    <tr>\n",
              "      <th>41964</th>\n",
              "      <td>156564.0</td>\n",
              "      <td>discharge diagnosis:  left knee infection  chronic obstructive pulmonary disease exacerbation  acute on chronic kidney injury  congestive heart failure  hypertension      discharge condition:  mental status: clear and coherent.  level of consciousness: alert and interactive.  activity status: out of bed with assistance to chair or  wheelchair.      discharge instructions:  mr. &lt;name&gt;,    you were admitted to the hospital for a infected hardware in  your left knee. our orthopaedics team cleaned out the infection  in your knee and replaced the liner of your prosthesis. they  feel you should follow up with your primary orthopaedic doctor,  dr. &lt;name&gt; &lt;name&gt; at &lt;hospital&gt; (&lt;telephone&gt;), for ongoing  issues about your knee. the cultures of the infection in your  knee grew two different organisms, so we consulted our  infectious disease doctors who recommended a course of iv  antibiotics to help treat your infection. because this infection  occured inside of a joint, a longer course of antibiotics is  required. you went multiple times to the operating room to  wash-out your knee of any remaining infection, and your hardware  was removed. most recently you had a portion of tissue grafted  to your knee to provide for better coverage of your wound, along  with skin graft. your kidney function worsened while you were in  the hospital but it appears to have normalized. this should be  followed up with your primary care physician.    we made the following changes to your medications:  started:  vancomycin (antibiotic)  ceftriaxone (antibiotic)    increased metoprolol for blood pressure    followup instructions:  department: plastic surgery  when: wednesday  &lt;date&gt;  at 3:15 pm  with: &lt;name&gt; &lt;name&gt;, md &lt;telephone&gt;  building: lm &lt;name&gt; bldg (&lt;name&gt;) [**location (un) **]  campus: west     best parking: &lt;name&gt; garage    name: &lt;name&gt;, &lt;name&gt; &lt;name&gt; &lt;name&gt;  location: community physicians associates  address: &lt;hospital&gt;,[**numeric identifier 18406**]  phone: &lt;telephone&gt;  appointment: thursday  &lt;date&gt;  1:15pm    department: infectious disease  when: friday  &lt;date&gt;  at 9:30 am  with: &lt;name&gt; &lt;name&gt;, md &lt;telephone&gt;  building: lm &lt;name&gt; bldg (&lt;name&gt;) &lt;hospital&gt;  campus: west     best parking: &lt;name&gt; garage    name: nabi,&lt;name&gt; md  address: &lt;hospital&gt;,[**numeric identifier 18406**]  phone: &lt;telephone&gt;  **please discuss with the staff at the facility a follow up  appointment with your pcp when you are ready for discharge.      department: plastic surgery  when: wednesday  &lt;date&gt;  at 3:15 pm  with: &lt;name&gt; &lt;name&gt;, md &lt;telephone&gt;  building: lm &lt;name&gt; bldg (&lt;name&gt;) [**location (un) **]  campus: west     best parking: &lt;name&gt; garage    department: infectious disease  when: friday  &lt;date&gt;  at 9:30 am  with: &lt;name&gt; &lt;name&gt;, md &lt;telephone&gt;  building: lm &lt;name&gt; bldg (&lt;name&gt;) &lt;hospital&gt;  campus: west     best parking: &lt;name&gt; garage                                   &lt;name&gt; &lt;name&gt; md [**md number(1) 348**]    completed by: &lt;date&gt;</td>\n",
              "      <td>[V10, 403, 584, V43, 428, 285, 496, 250, V58, 041, 357, 707, 365, 414, 780, 518, 711, 585, 327, V12, E84, E87, 996]</td>\n",
              "      <td>[pulmonary, infectious, hypertension, kidney, obstructive, heart, injury, failure, metoprolol, infection, disease]</td>\n",
              "      <td>[hypertension, failure, disease, pulmonary, heart, infection, metoprolol, kidney, obstructive]</td>\n",
              "      <td>[f8, f29, f43, f21, f34, f17, f18, f37, f19]</td>\n",
              "      <td>{'401': 0.025925925925925925, '427': 0.027777777777777776, '276': 0.0261437908496732, '414': 0.027777777777777776, '272': 0.02867383512544803, '250': 0.027777777777777776, '428': 0.026936026936026935, '518': 0.027777777777777776, '285': 0.025396825396825397, '584': 0.027777777777777776}</td>\n",
              "      <td>[272, 427, 414, 250, 518, 584, 428, 276, 401, 285]</td>\n",
              "    </tr>\n",
              "    <tr>\n",
              "      <th>41965</th>\n",
              "      <td>172559.0</td>\n",
              "      <td>discharge diagnosis:  primary:  small bowel obstruction  metastatic prostate cancer  anasarca  malnutrition  dehydration  acute renal failure  aspiration pneumonia  .  secondary:  prostate ca s/p xrt and chemo - rising psa (140), lg rp mass,  oa, lbp, diverticulosis w/ colovesical fistula s/p lar [**5-18**], s/p  ileostomy takedown [**10-18**], open ccy      discharge condition:  stable      discharge instructions:  please call your doctor or return to the er for any of the  following:  * you experience new chest pain, pressure, squeezing or  tightness.  * new or worsening cough or wheezing.  * if you are vomiting and cannot keep in fluids or your  medications.  * you are getting dehydrated due to continued vomiting,  diarrhea or other reasons. signs of dehydration include dry  mouth, rapid heartbeat or feeling dizzy or faint when standing.  * you see blood or dark/black material when you vomit or have a  bowel movement.  * your pain is not improving within 8-12 hours or not gone  within 24 hours. call or return immediately if your pain is  getting worse or is changing location or moving to your chest or    back.  *avoid lifting objects &gt; 5lbs until your follow-up appointment  with the surgeon.  *avoid driving or operating heavy machinery while taking pain  medications.  * you have shaking chills, or a fever greater than 101.5 (f)  degrees or 38(c) degrees.  * any serious change in your symptoms, or any new symptoms that  concern you.  * please resume all regular home medications and take any new  meds  as ordered.  * continue to ambulate several times per day.  .  incision care:  -your staples will be removed at your follow-up appointment with  the surgeon, and steri strips will be applied.  -your steri-strips will fall off on their own. please remove any  remaining strips 7-10 days after surgery.  -you may shower, and wash surgical incisions.  -avoid swimming and baths until your follow-up appointment.  -please call the doctor if you have increased pain, swelling,  redness, or drainage from the incision sites.      followup instructions:  1. please follow-up appointment with dr. &lt;name&gt; (&lt;telephone&gt; on  &lt;date&gt;  at 1:15pm for removal of your staples.  2. you have follow-up appointment with dr. &lt;name&gt; &lt;name&gt;, md  phone:&lt;telephone&gt; date/time: &lt;date&gt;  11:00, and chemotherapy at  provider: &lt;name&gt; &lt;name&gt;, rn phone:&lt;telephone&gt; date/time: &lt;date&gt;   12:00  3. provider: &lt;name&gt;,&lt;name&gt; &lt;name&gt; apg (sb)  phone:&lt;telephone&gt; date/time: &lt;date&gt;  10:10                                 &lt;name&gt; &lt;name&gt; md [**md number(1) 17**]    completed by: &lt;date&gt;</td>\n",
              "      <td>[197, 507, 185, 427, 261, 585, V66, 560, 783, 285, 276]</td>\n",
              "      <td>[dehydration, obstruction, cough, diverticulosis, fever, chest, vomiting, telephone, bowel, swelling, chills, prostate, colovesical, wheezing, phone, vomit, fistula, pain, cancer]</td>\n",
              "      <td>[swelling, dehydration, vomiting, chills, cancer, chest, pain, cough, fever]</td>\n",
              "      <td>[f0, f26, f10, f1, f16, f15]</td>\n",
              "      <td>{'401': 0.02777777777777778, '427': 0.026041666666666668, '276': 0.029411764705882353, '414': 0.026041666666666668, '272': 0.026881720430107527, '250': 0.020833333333333332, '428': 0.0202020202020202, '518': 0.02314814814814815, '285': 0.02380952380952381, '584': 0.026041666666666668}</td>\n",
              "      <td>[276, 401, 272, 427, 414, 584, 285, 518, 250, 428]</td>\n",
              "    </tr>\n",
              "    <tr>\n",
              "      <th>41966</th>\n",
              "      <td>135672.0</td>\n",
              "      <td>discharge diagnosis:  peritonitis secondary to small bowel perforation.  cmv enteritis  b-cell lymphoma  line infection  type 2 diabetes controlled without complications  moderate malnutrition  cad bypass vessle      discharge condition:  stable.  tolerating regular diet  pain well controlled with oral medications.      discharge instructions:  you are being discharged on an antiviral medication called  ganciclovir, which can make your diarhea worse for some time.  please contact your doctor if you experience numbness, tingling  or pain in hands or feet, as this may be a side effect of the  medication.    you will be having labs drawn every other day and sent to dr.  &lt;name&gt; of infectious diseases for monitoring of your blood  counts.    *avoid lifting objects &gt; 5lbs until your follow-up appointment  with the surgeon.    *avoid driving or operating heavy machinery while taking pain  medications.    * continue to ambulate several times per day.    incision care:  -your staples will be removed at your follow up appoinetment.  -steri-strips will be applied and will fall off on their own.  please remove any remaining strips 7-10 days after application.  -you may shower, and wash surgical incisions.  -avoid swimming and baths until your follow-up appointment.  -please call the doctor if you have increased pain, swelling,  redness, or drainage from the incision sites.    followup instructions:  you will need to have an ophthalmalogic evaluation to make sure  that there is no evidence of cmv infection of the retina - this  should happen this week.  please call: (&lt;telephone&gt; to  schedule this appointment; if you have any difficulty arranging  this, please discuss this with your primary doctor so that they  can facilitate/arrange this evaluation.    1. please call dr.&lt;name&gt; office, &lt;telephone&gt;, to make a  follow up appointment in [**11-23**] weeks.  scheduled appointments :  provider: &lt;name&gt; &lt;name&gt;, &lt;telephone&gt;  date/time: &lt;date&gt;  10:30  provider: &lt;name&gt; &lt;name&gt;, rn phone:&lt;telephone&gt;  date/time: &lt;date&gt;  11:00  provider: &lt;name&gt; chair 6  date/time: &lt;date&gt;  11:00                                   &lt;name&gt; &lt;name&gt; md [**md number(2) 431**]    completed by: &lt;date&gt;</td>\n",
              "      <td>[202, 401, 584, 255, 283, 238, 038, 785, 250, 008, 041, 272, 996, 078, V45, 567, 569, 273, 995, 263, 579, 782]</td>\n",
              "      <td>[infectious, telephone, bowel, swelling, diseases, phone, perforation, small, infection, numbness, pain]</td>\n",
              "      <td>[swelling, numbness, infection, pain]</td>\n",
              "      <td>[f0, f43, f26]</td>\n",
              "      <td>{'401': 0.03333333333333333, '427': 0.03125, '276': 0.029411764705882353, '414': 0.03125, '272': 0.03225806451612903, '250': 0.03125, '428': 0.030303030303030304, '518': 0.027777777777777776, '285': 0.02857142857142857, '584': 0.03125}</td>\n",
              "      <td>[401, 272, 427, 414, 250, 584, 428, 276, 285, 518]</td>\n",
              "    </tr>\n",
              "  </tbody>\n",
              "</table>\n",
              "<p>41967 rows × 8 columns</p>\n",
              "</div>"
            ],
            "text/plain": [
              "        HADM_ID  ...                                       predicted_icd\n",
              "0      167118.0  ...  [401, 272, 427, 414, 250, 428, 285, 518, 584, 276]\n",
              "1      196489.0  ...  [427, 250, 428, 518, 584, 285, 276, 272, 414, 401]\n",
              "2      135453.0  ...  [285, 518, 427, 250, 584, 428, 276, 401, 272, 414]\n",
              "3      170490.0  ...  [401, 272, 285, 250, 584, 276, 518, 427, 414, 428]\n",
              "4      134727.0  ...                                                  []\n",
              "...         ...  ...                                                 ...\n",
              "41962  127716.0  ...  [414, 401, 272, 427, 250, 428, 518, 584, 276, 285]\n",
              "41963  186377.0  ...  [401, 272, 427, 414, 250, 584, 428, 276, 285, 518]\n",
              "41964  156564.0  ...  [272, 427, 414, 250, 518, 584, 428, 276, 401, 285]\n",
              "41965  172559.0  ...  [276, 401, 272, 427, 414, 584, 285, 518, 250, 428]\n",
              "41966  135672.0  ...  [401, 272, 427, 414, 250, 584, 428, 276, 285, 518]\n",
              "\n",
              "[41967 rows x 8 columns]"
            ]
          },
          "metadata": {
            "tags": []
          },
          "execution_count": 49
        }
      ]
    },
    {
      "cell_type": "code",
      "metadata": {
        "id": "yc3DJkI-cslh"
      },
      "source": [
        "result_predict={'category':[],'precision':[],'recall':[],'f1':[]}\n",
        "for i in frequent_icd9category:\n",
        "  actual_p=diagnosis_icd9category_token.loc[diagnosis_icd9category_token.icd9_category.apply(lambda x:i in x)].HADM_ID.count()\n",
        "  tp=diagnosis_icd9category_token.loc[(diagnosis_icd9category_token.icd9_category.apply(lambda x:i in x))&(diagnosis_icd9category_token.predicted_icd.apply(lambda x:i in x))].HADM_ID.count()\n",
        "  predict_p=diagnosis_icd9category_token.loc[diagnosis_icd9category_token.predicted_icd.apply(lambda x:i in x)].HADM_ID.count()\n",
        "  precision=tp/predict_p\n",
        "  recall=tp/actual_p\n",
        "  f1=2*precision*recall/(precision+recall)\n",
        "  result_predict['category'].append(i)\n",
        "  result_predict['precision'].append(precision)\n",
        "  result_predict['recall'].append(recall)\n",
        "  result_predict['f1'].append(f1)"
      ],
      "execution_count": 50,
      "outputs": []
    },
    {
      "cell_type": "code",
      "metadata": {
        "colab": {
          "base_uri": "https://localhost:8080/",
          "height": 359
        },
        "id": "S8aSnzN9eLpw",
        "outputId": "15bb4906-f12a-40eb-d98b-7a733b015b75"
      },
      "source": [
        "pd.DataFrame.from_dict(result_predict)"
      ],
      "execution_count": 51,
      "outputs": [
        {
          "output_type": "execute_result",
          "data": {
            "text/html": [
              "<div>\n",
              "<style scoped>\n",
              "    .dataframe tbody tr th:only-of-type {\n",
              "        vertical-align: middle;\n",
              "    }\n",
              "\n",
              "    .dataframe tbody tr th {\n",
              "        vertical-align: top;\n",
              "    }\n",
              "\n",
              "    .dataframe thead th {\n",
              "        text-align: right;\n",
              "    }\n",
              "</style>\n",
              "<table border=\"1\" class=\"dataframe\">\n",
              "  <thead>\n",
              "    <tr style=\"text-align: right;\">\n",
              "      <th></th>\n",
              "      <th>category</th>\n",
              "      <th>precision</th>\n",
              "      <th>recall</th>\n",
              "      <th>f1</th>\n",
              "    </tr>\n",
              "  </thead>\n",
              "  <tbody>\n",
              "    <tr>\n",
              "      <th>0</th>\n",
              "      <td>401</td>\n",
              "      <td>0.432877</td>\n",
              "      <td>0.854584</td>\n",
              "      <td>0.574665</td>\n",
              "    </tr>\n",
              "    <tr>\n",
              "      <th>1</th>\n",
              "      <td>427</td>\n",
              "      <td>0.346660</td>\n",
              "      <td>0.853080</td>\n",
              "      <td>0.492988</td>\n",
              "    </tr>\n",
              "    <tr>\n",
              "      <th>2</th>\n",
              "      <td>276</td>\n",
              "      <td>0.312711</td>\n",
              "      <td>0.837563</td>\n",
              "      <td>0.455396</td>\n",
              "    </tr>\n",
              "    <tr>\n",
              "      <th>3</th>\n",
              "      <td>414</td>\n",
              "      <td>0.292055</td>\n",
              "      <td>0.874852</td>\n",
              "      <td>0.437918</td>\n",
              "    </tr>\n",
              "    <tr>\n",
              "      <th>4</th>\n",
              "      <td>272</td>\n",
              "      <td>0.320960</td>\n",
              "      <td>0.879334</td>\n",
              "      <td>0.470270</td>\n",
              "    </tr>\n",
              "    <tr>\n",
              "      <th>5</th>\n",
              "      <td>250</td>\n",
              "      <td>0.296993</td>\n",
              "      <td>0.866474</td>\n",
              "      <td>0.442362</td>\n",
              "    </tr>\n",
              "    <tr>\n",
              "      <th>6</th>\n",
              "      <td>428</td>\n",
              "      <td>0.279617</td>\n",
              "      <td>0.870110</td>\n",
              "      <td>0.423227</td>\n",
              "    </tr>\n",
              "    <tr>\n",
              "      <th>7</th>\n",
              "      <td>518</td>\n",
              "      <td>0.256174</td>\n",
              "      <td>0.807617</td>\n",
              "      <td>0.388969</td>\n",
              "    </tr>\n",
              "    <tr>\n",
              "      <th>8</th>\n",
              "      <td>285</td>\n",
              "      <td>0.291350</td>\n",
              "      <td>0.892718</td>\n",
              "      <td>0.439322</td>\n",
              "    </tr>\n",
              "    <tr>\n",
              "      <th>9</th>\n",
              "      <td>584</td>\n",
              "      <td>0.239515</td>\n",
              "      <td>0.834991</td>\n",
              "      <td>0.372251</td>\n",
              "    </tr>\n",
              "  </tbody>\n",
              "</table>\n",
              "</div>"
            ],
            "text/plain": [
              "  category  precision    recall        f1\n",
              "0      401   0.432877  0.854584  0.574665\n",
              "1      427   0.346660  0.853080  0.492988\n",
              "2      276   0.312711  0.837563  0.455396\n",
              "3      414   0.292055  0.874852  0.437918\n",
              "4      272   0.320960  0.879334  0.470270\n",
              "5      250   0.296993  0.866474  0.442362\n",
              "6      428   0.279617  0.870110  0.423227\n",
              "7      518   0.256174  0.807617  0.388969\n",
              "8      285   0.291350  0.892718  0.439322\n",
              "9      584   0.239515  0.834991  0.372251"
            ]
          },
          "metadata": {
            "tags": []
          },
          "execution_count": 51
        }
      ]
    },
    {
      "cell_type": "code",
      "metadata": {
        "colab": {
          "base_uri": "https://localhost:8080/"
        },
        "id": "jnHk3YkCp8PX",
        "outputId": "45cc6a3a-9fbc-4cb0-ec13-60f250196e8f"
      },
      "source": [
        "total_predicted=len([a for b in diagnosis_icd9category_token.predicted_icd.to_list() for a in b])\n",
        "print(total_predicted)\n",
        "actual=len([a for b in diagnosis_icd9category_token.icd9_category.apply(lambda x : [i for i in x if i in frequent_icd9category]).to_list() for a in b])\n",
        "print(actual)\n",
        "actual_predicted=0\n",
        "for i in frequent_icd9category:\n",
        "  actual_predicted += diagnosis_icd9category_token.loc[(diagnosis_icd9category_token.icd9_category.apply(lambda x:i in x))&(diagnosis_icd9category_token.predicted_icd.apply(lambda x:i in x))].HADM_ID.count()\n",
        "print(actual_predicted)\n",
        "recall=actual_predicted/actual\n",
        "presicion=actual_predicted/total_predicted\n",
        "print(recall)\n",
        "print(presicion)\n",
        "print(2*presicion*recall/(presicion + recall))"
      ],
      "execution_count": 52,
      "outputs": [
        {
          "output_type": "stream",
          "text": [
            "352853\n",
            "126319\n",
            "108297\n",
            "0.8573294595429033\n",
            "0.30691817839156815\n",
            "0.4520172297212692\n"
          ],
          "name": "stdout"
        }
      ]
    },
    {
      "cell_type": "code",
      "metadata": {
        "id": "nJZplSS323LQ"
      },
      "source": [
        "from sklearn.metrics import accuracy_score, hamming_loss\r\n",
        "from sklearn.metrics import f1_score\r\n",
        "from sklearn.metrics import roc_auc_score \r\n",
        "from sklearn.metrics import average_precision_score\r\n",
        "from sklearn.metrics import recall_score,precision_score\r\n",
        "from sklearn.metrics import classification_report\r\n",
        "from sklearn.preprocessing import MultiLabelBinarizer"
      ],
      "execution_count": 56,
      "outputs": []
    },
    {
      "cell_type": "code",
      "metadata": {
        "colab": {
          "base_uri": "https://localhost:8080/"
        },
        "id": "QN_eKp8DXzEb",
        "outputId": "83e53544-9165-49a2-950b-56a7cb79b2c5"
      },
      "source": [
        "mlb = MultiLabelBinarizer(frequent_icd9category)\r\n",
        "print(accuracy_score(mlb.fit_transform(diagnosis_icd9category_token.icd9_category.values),mlb.fit_transform(diagnosis_icd9category_token.predicted_icd.values)))\r\n",
        "print(hamming_loss(mlb.fit_transform(diagnosis_icd9category_token.icd9_category.values),mlb.fit_transform(diagnosis_icd9category_token.predicted_icd.values)))\r\n",
        "print(precision_score(mlb.fit_transform(diagnosis_icd9category_token.icd9_category.values),mlb.fit_transform(diagnosis_icd9category_token.predicted_icd.values), average = \"micro\"))\r\n",
        "print(recall_score(mlb.fit_transform(diagnosis_icd9category_token.icd9_category.values),mlb.fit_transform(diagnosis_icd9category_token.predicted_icd.values),average = \"micro\"))\r\n",
        "print(f1_score(mlb.fit_transform(diagnosis_icd9category_token.icd9_category.values),mlb.fit_transform(diagnosis_icd9category_token.predicted_icd.values),average = \"micro\"))\r\n",
        "print(classification_report(mlb.fit_transform(diagnosis_icd9category_token.icd9_category.values),mlb.fit_transform(diagnosis_icd9category_token.predicted_icd.values),target_names=mlb.classes_))"
      ],
      "execution_count": 58,
      "outputs": [
        {
          "output_type": "stream",
          "text": [
            "/usr/local/lib/python3.6/dist-packages/sklearn/preprocessing/_label.py:987: UserWarning: unknown class(es) ['003', '004', '005', '007', '008', '009', '010', '011', '012', '013', '014', '015', '018', '021', '023', '027', '030', '031', '032', '033', '034', '035', '036', '038', '039', '040', '041', '042', '045', '046', '047', '048', '049', '052', '053', '054', '057', '058', '062', '066', '070', '075', '077', '078', '079', '082', '084', '086', '088', '091', '093', '094', '096', '097', '099', '110', '111', '112', '114', '115', '116', '117', '118', '120', '121', '122', '123', '125', '127', '130', '131', '132', '133', '134', '135', '136', '137', '138', '139', '140', '141', '142', '143', '144', '145', '146', '147', '148', '149', '150', '151', '152', '153', '154', '155', '156', '157', '158', '159', '161', '162', '163', '164', '170', '171', '172', '173', '174', '175', '176', '179', '180', '182', '183', '184', '185', '186', '187', '188', '189', '190', '191', '192', '193', '194', '195', '196', '197', '198', '199', '200', '201', '202', '203', '204', '205', '206', '207', '208', '209', '210', '211', '212', '213', '214', '215', '216', '217', '218', '220', '221', '223', '225', '226', '227', '228', '229', '230', '231', '232', '233', '235', '236', '237', '238', '239', '240', '241', '242', '243', '244', '245', '246', '249', '251', '252', '253', '254', '255', '256', '257', '258', '259', '260', '261', '262', '263', '265', '266', '267', '268', '269', '270', '271', '273', '274', '275', '277', '278', '279', '280', '281', '282', '283', '284', '286', '287', '288', '289', '290', '291', '292', '293', '294', '295', '296', '297', '298', '299', '300', '301', '302', '303', '304', '305', '306', '307', '308', '309', '310', '311', '312', '313', '314', '315', '316', '317', '318', '319', '320', '321', '322', '323', '324', '325', '326', '327', '330', '331', '332', '333', '334', '335', '336', '337', '338', '339', '340', '341', '342', '343', '344', '345', '346', '347', '348', '349', '350', '351', '352', '353', '354', '355', '356', '357', '358', '359', '360', '361', '362', '363', '364', '365', '366', '367', '368', '369', '370', '371', '372', '373', '374', '375', '376', '377', '378', '379', '380', '381', '382', '383', '384', '385', '386', '387', '388', '389', '390', '391', '393', '394', '395', '396', '397', '398', '402', '403', '404', '405', '410', '411', '412', '413', '415', '416', '417', '420', '421', '422', '423', '424', '425', '426', '429', '430', '431', '432', '433', '434', '435', '436', '437', '438', '440', '441', '442', '443', '444', '445', '446', '447', '448', '449', '451', '452', '453', '454', '455', '456', '457', '458', '459', '461', '462', '463', '464', '465', '466', '470', '471', '472', '473', '474', '475', '477', '478', '480', '481', '482', '483', '484', '485', '486', '487', '488', '490', '491', '492', '493', '494', '495', '496', '500', '501', '502', '506', '507', '508', '510', '511', '512', '513', '514', '515', '516', '517', '519', '520', '521', '522', '523', '524', '525', '526', '527', '528', '529', '530', '531', '532', '533', '534', '535', '536', '537', '538', '539', '540', '541', '542', '543', '550', '551', '552', '553', '555', '556', '557', '558', '560', '562', '564', '565', '566', '567', '568', '569', '570', '571', '572', '573', '574', '575', '576', '577', '578', '579', '580', '581', '582', '583', '585', '586', '587', '588', '589', '590', '591', '592', '593', '594', '595', '596', '597', '598', '599', '600', '601', '602', '603', '604', '605', '607', '608', '610', '611', '614', '615', '616', '617', '618', '619', '620', '621', '622', '623', '624', '625', '626', '627', '628', '629', '632', '633', '634', '635', '639', '641', '642', '643', '644', '645', '646', '647', '648', '649', '651', '652', '654', '655', '656', '657', '658', '659', '660', '661', '663', '664', '665', '666', '668', '669', '670', '671', '672', '673', '674', '677', '680', '681', '682', '683', '684', '685', '686', '690', '691', '692', '693', '694', '695', '696', '697', '698', '700', '701', '702', '703', '704', '705', '706', '707', '708', '709', '710', '711', '712', '713', '714', '715', '716', '717', '718', '719', '720', '721', '722', '723', '724', '725', '726', '727', '728', '729', '730', '731', '732', '733', '734', '735', '736', '737', '738', '741', '742', '743', '744', '745', '746', '747', '748', '749', '750', '751', '752', '753', '754', '755', '756', '757', '758', '759', '760', '761', '762', '763', '764', '765', '766', '767', '768', '769', '770', '771', '772', '773', '774', '775', '776', '777', '778', '779', '780', '781', '782', '783', '784', '785', '786', '787', '788', '789', '790', '791', '792', '793', '794', '795', '796', '799', '800', '801', '802', '803', '804', '805', '806', '807', '808', '810', '811', '812', '813', '814', '815', '816', '817', '819', '820', '821', '822', '823', '824', '825', '826', '828', '830', '831', '832', '833', '834', '835', '836', '837', '838', '839', '840', '841', '842', '843', '844', '845', '846', '847', '848', '850', '851', '852', '853', '854', '860', '861', '862', '863', '864', '865', '866', '867', '868', '869', '870', '871', '872', '873', '874', '875', '876', '877', '878', '879', '880', '881', '882', '883', '884', '885', '886', '887', '890', '891', '892', '893', '894', '896', '897', '900', '901', '902', '903', '904', '905', '906', '907', '908', '909', '910', '911', '912', '913', '914', '915', '916', '917', '918', '919', '920', '921', '922', '923', '924', '925', '926', '927', '928', '930', '932', '933', '934', '935', '936', '937', '938', '939', '941', '942', '943', '944', '945', '946', '947', '948', '950', '951', '952', '953', '954', '955', '956', '957', '958', '959', '960', '961', '962', '963', '964', '965', '966', '967', '968', '969', '970', '971', '972', '973', '974', '975', '976', '977', '980', '982', '983', '985', '986', '987', '988', '989', '990', '991', '992', '994', '995', '996', '997', '998', '999', 'E00', 'E01', 'E02', 'E03', 'E80', 'E81', 'E82', 'E83', 'E84', 'E85', 'E86', 'E87', 'E88', 'E89', 'E90', 'E91', 'E92', 'E93', 'E94', 'E95', 'E96', 'E97', 'E98', 'E99', 'V01', 'V02', 'V03', 'V04', 'V05', 'V06', 'V07', 'V08', 'V09', 'V10', 'V11', 'V12', 'V13', 'V14', 'V15', 'V16', 'V17', 'V18', 'V19', 'V20', 'V22', 'V23', 'V25', 'V26', 'V27', 'V28', 'V29', 'V30', 'V31', 'V32', 'V34', 'V40', 'V42', 'V43', 'V44', 'V45', 'V46', 'V48', 'V49', 'V50', 'V51', 'V53', 'V54', 'V55', 'V56', 'V58', 'V59', 'V60', 'V61', 'V62', 'V63', 'V64', 'V65', 'V66', 'V67', 'V69', 'V70', 'V71', 'V72', 'V74', 'V76', 'V78', 'V81', 'V83', 'V84', 'V85', 'V86', 'V87', 'V88', 'V90', 'V91'] will be ignored\n",
            "  .format(sorted(unknown, key=str)))\n"
          ],
          "name": "stderr"
        },
        {
          "output_type": "stream",
          "text": [
            "0.019920413658350608\n",
            "0.6256773178926299\n",
            "0.30691817839156815\n",
            "0.8573294595429033\n",
            "0.4520172297212692\n",
            "              precision    recall  f1-score   support\n",
            "\n",
            "         401       0.43      0.85      0.57     17866\n",
            "         427       0.35      0.85      0.49     14382\n",
            "         276       0.31      0.84      0.46     13162\n",
            "         414       0.29      0.87      0.44     11786\n",
            "         272       0.32      0.88      0.47     12862\n",
            "         250       0.30      0.87      0.44     12095\n",
            "         428       0.28      0.87      0.42     11325\n",
            "         518       0.26      0.81      0.39     11238\n",
            "         285       0.29      0.89      0.44     11549\n",
            "         584       0.24      0.83      0.37     10054\n",
            "\n",
            "   micro avg       0.31      0.86      0.45    126319\n",
            "   macro avg       0.31      0.86      0.45    126319\n",
            "weighted avg       0.32      0.86      0.46    126319\n",
            " samples avg       0.26      0.76      0.37    126319\n",
            "\n"
          ],
          "name": "stdout"
        },
        {
          "output_type": "stream",
          "text": [
            "/usr/local/lib/python3.6/dist-packages/sklearn/metrics/_classification.py:1272: UndefinedMetricWarning: Precision and F-score are ill-defined and being set to 0.0 in samples with no predicted labels. Use `zero_division` parameter to control this behavior.\n",
            "  _warn_prf(average, modifier, msg_start, len(result))\n",
            "/usr/local/lib/python3.6/dist-packages/sklearn/metrics/_classification.py:1272: UndefinedMetricWarning: Recall and F-score are ill-defined and being set to 0.0 in samples with no true labels. Use `zero_division` parameter to control this behavior.\n",
            "  _warn_prf(average, modifier, msg_start, len(result))\n"
          ],
          "name": "stderr"
        }
      ]
    },
    {
      "cell_type": "code",
      "metadata": {
        "id": "tcP7obqhWF6I"
      },
      "source": [
        ""
      ],
      "execution_count": 58,
      "outputs": []
    },
    {
      "cell_type": "code",
      "metadata": {
        "id": "MP7n7zdcZQsP"
      },
      "source": [
        "adm_icd = pd.read_csv(\"/content/drive/My Drive/AlgoIntern/Data/Data1.0/adm_icd.csv\")"
      ],
      "execution_count": 59,
      "outputs": []
    },
    {
      "cell_type": "code",
      "metadata": {
        "colab": {
          "base_uri": "https://localhost:8080/",
          "height": 1000
        },
        "id": "8KBrTYyy3zrJ",
        "outputId": "3b429913-8761-4a72-f45c-26da4a28d04e"
      },
      "source": [
        "diagnosis_icd9category_token"
      ],
      "execution_count": 61,
      "outputs": [
        {
          "output_type": "execute_result",
          "data": {
            "text/html": [
              "<div>\n",
              "<style scoped>\n",
              "    .dataframe tbody tr th:only-of-type {\n",
              "        vertical-align: middle;\n",
              "    }\n",
              "\n",
              "    .dataframe tbody tr th {\n",
              "        vertical-align: top;\n",
              "    }\n",
              "\n",
              "    .dataframe thead th {\n",
              "        text-align: right;\n",
              "    }\n",
              "</style>\n",
              "<table border=\"1\" class=\"dataframe\">\n",
              "  <thead>\n",
              "    <tr style=\"text-align: right;\">\n",
              "      <th></th>\n",
              "      <th>HADM_ID</th>\n",
              "      <th>discharge diagnosis:</th>\n",
              "      <th>icd9_category</th>\n",
              "      <th>medical_terms_list</th>\n",
              "      <th>med_terms_condensed</th>\n",
              "      <th>features</th>\n",
              "      <th>predicted_icd_weigths</th>\n",
              "      <th>predicted_icd</th>\n",
              "    </tr>\n",
              "  </thead>\n",
              "  <tbody>\n",
              "    <tr>\n",
              "      <th>0</th>\n",
              "      <td>167118.0</td>\n",
              "      <td>discharge diagnosis:  copd, coronary artery disease/atypical angina (lad 30%, rca 30%,  ef 63%), hypercholesterolemia, hypothyroidism, hypertension,  hiatal hernia, cerebral vascular accident,s/p motor vehicle  colision-&gt; head injury &amp; rib fracture.  tbm- s/p tracheoplasty.      discharge condition:  good    discharge instructions:  please update dr.&lt;name&gt; &lt;telephone&gt; office for:  fever,  shortness of breath, chest pain , productive cough or if you  have any questions or concerns.      completed by: &lt;date&gt;</td>\n",
              "      <td>[496, 553, 518, 453, 519, 276]</td>\n",
              "      <td>[hypercholesterolemia, cerebral, hypothyroidism, cough, accident, hypertension, artery, chest, vascular, coronary, fracture, injury, angina, pain, head]</td>\n",
              "      <td>[hypertension, fracture, artery, chest, pain, coronary, cough]</td>\n",
              "      <td>[f0, f10, f36, f17, f16, f24]</td>\n",
              "      <td>{'401': 0.02777777777777778, '427': 0.026041666666666668, '276': 0.0196078431372549, '414': 0.026041666666666668, '272': 0.026881720430107527, '250': 0.026041666666666668, '428': 0.025252525252525252, '518': 0.02314814814814815, '285': 0.02380952380952381, '584': 0.020833333333333332}</td>\n",
              "      <td>[401, 272, 427, 414, 250, 428, 285, 518, 584, 276]</td>\n",
              "    </tr>\n",
              "    <tr>\n",
              "      <th>1</th>\n",
              "      <td>196489.0</td>\n",
              "      <td>discharge diagnosis:  primary:  1. chronic obstructive pulmonary disease exacerbation  2. respiratory failure with intubation  3. upper gastrointestinal bleed/peptic ulcer disease  4. hypertension  5. anxiety    secondary:  1. coronary artery disease  2. hypothyroidism      discharge condition:  mental status: confused - sometimes.  level of consciousness: alert and interactive.  activity status: out of bed with assistance to chair or  wheelchair.      discharge instructions:  you were admitted to the hospital with shortness of breath and  respiratory failure and lethargy. in the emergency department,  you were breathing very fast and a breathing tube was inserted  into your airway to help you breathe. you were admitted to the  intensive care unit. there, you were managed with steroids and  antibiotics and the tube was eventually removed from your  airway, allowing you to breathe on your own. you also underwent  bronchoscopy which looked at the inside of your airways.  .  during your time in the intensive care unit, you developed a  gastrointestinal bleed. a tube was placed into your stomach and  you underwent an endoscopic procedure to look at your esophagus  and stomach. this showed inflammation in your esophagusand  ulcers in your stomach.  .  you should continue to use nasal oxygen by nasal cannula as  needed. you should continue the steroid taper as instructed. you  should call your doctor or return to the emergency room if you  have increasing difficulty breathing or shortness of breath,  wheezing, chest pain, blood in your stool or vomiting blood.  .  there are some changes in your medications.  start pantoprazole 40 mg twice daily and stop omeprazole  start hydrochlorothiazide  start prednisone, taking 30 mg for 3 days, then 20 mg for 4  days, then 10 mg for 4 days, then 5 mg for 4 days, then stop.  start colace and senna as needed for constipation  can use morphine to alleviate symptoms of respiratory discomfort  stop furosemide  stop zolpidem  stop aspirin  increase diovan to 240 mg daily  decrease trazodone to 50 mg daily  .  follow up as indicated below.    followup instructions:  you have an appointment to follow up with dr. &lt;name&gt;, your  primary care physician, &lt;name&gt; [**8-29**] at 1pm. his address is [**location (un) 1822**], [**apartment address(1) 1823**], [**location (un) **],[**numeric identifier 1700**]. the phone is  &lt;telephone&gt;.    you have an appointment to follow up with dr. &lt;name&gt; &lt;name&gt; in  the  &lt;name&gt; at &lt;hospital&gt; on the [**location (un) 453**]. their phone number is  &lt;telephone&gt;.    department: div. of gastroenterology  when: wednesday  &lt;date&gt;  at 3:00 pm  with: &lt;name&gt; &lt;name&gt;, md &lt;telephone&gt;  building: ra &lt;name&gt; (&lt;name&gt;/&lt;name&gt; complex) [**location (un) **]  campus: east     best parking: main garage</td>\n",
              "      <td>[487, 416, 272, 530, 414, 553, 531, 518, 401, 519, 348, V02, 359, 584, 458, 578, 491, E93, 276, 244]</td>\n",
              "      <td>[pulmonary, hypertension, of, obstructive, discomfort, gastrointestinal, constipation, oxygen, breath, inflammation, artery, chest, hydrochlorothiazide, steroid, anxiety, omeprazole, senna, trazodone, failure, shortness, disease, pantoprazole, aspirin, hypothyroidism, zolpidem, furosemide, coronary, prednisone, lethargy, steroids, ulcer, chronic, respiratory, morphine, pain]</td>\n",
              "      <td>[hypertension, shortness, failure, constipation, respiratory, artery, chest, disease, pulmonary, pain, breath, aspirin, coronary, oxygen, prednisone, chronic, obstructive, gastrointestinal]</td>\n",
              "      <td>[f0, f30, f35, f4, f31, f34, f33, f17, f9, f12, f18, f16, f37, f19, f24]</td>\n",
              "      <td>{'401': 0.02, '427': 0.025, '276': 0.021568627450980392, '414': 0.020833333333333332, '272': 0.02150537634408602, '250': 0.025, '428': 0.024242424242424242, '518': 0.024074074074074074, '285': 0.022857142857142857, '584': 0.022916666666666665}</td>\n",
              "      <td>[427, 250, 428, 518, 584, 285, 276, 272, 414, 401]</td>\n",
              "    </tr>\n",
              "    <tr>\n",
              "      <th>2</th>\n",
              "      <td>135453.0</td>\n",
              "      <td>discharge diagnosis:  1. cervical spondylosis with calcification of posterior  longitudinal ligament.  2. fracture dislocation c6-c7.  3. ossification of the posterior longitudinal ligament.  4. aspiration pneumonia      1. cervical spondylosis with calcification of posterior      longitudinal ligament.  2. fracture dislocation c6-c7.  3. ossification of the posterior longitudinal ligament.  4. aspiration pneumonia    1. cervical spondylosis with calcification of posterior      longitudinal ligament.  2. fracture dislocation c6-c7.  3. ossification of the posterior longitudinal ligament.  4. aspiration pneumonia      discharge condition:  stable to outside facility      discharge instructions:  patient has been made cmo at the request of him and his family.  he has a foley placed for urinary retention. please use morphine  as needed for pain and olanzapine as needed for agitiation.  patient has known history of aspiration documented on speech and  swallow. it is the patient and the family's wish for him to  continue to eat and drink as desired.    followup instructions:  follow up with your primary care physician as needed.</td>\n",
              "      <td>[V12, 788, 805, 507, V45, 401, 427, 453, E88, 293, 802, 428]</td>\n",
              "      <td>[ligament, spondylosis, of, cervical, urinary, posterior, calcification, olanzapine, fracture, pneumonia, dislocation, retention, longitudinal, morphine, pain]</td>\n",
              "      <td>[urinary, fracture, pneumonia, pain]</td>\n",
              "      <td>[f0, f36, f28, f22]</td>\n",
              "      <td>{'401': 0.016666666666666666, '427': 0.0234375, '276': 0.022058823529411766, '414': 0.015625, '272': 0.016129032258064516, '250': 0.0234375, '428': 0.022727272727272728, '518': 0.027777777777777776, '285': 0.02857142857142857, '584': 0.0234375}</td>\n",
              "      <td>[285, 518, 427, 250, 584, 428, 276, 401, 272, 414]</td>\n",
              "    </tr>\n",
              "    <tr>\n",
              "      <th>3</th>\n",
              "      <td>170490.0</td>\n",
              "      <td>discharge diagnosis:  brain lesion    discharge condition:  mental status: clear and coherent.  level of consciousness: alert and interactive.  activity status: ambulatory - independent.  neuro exam intact.    discharge instructions:  ??????\\thave a friend/family member check your incision daily for  signs of infection.  ??????\\ttake your pain medicine as prescribed.  ??????\\texercise should be limited to walking; no lifting, straining,  or excessive bending.  ??????\\tyou have dissolvable sutures, you must keep that area dry for  10 days.  ??????\\tyou may shower before this time using a shower cap to cover  your head.  ??????\\tincrease your intake of fluids and fiber, as narcotic pain  medicine can cause constipation. we generally recommend taking  an over the counter stool softener, such as docusate (colace)  while taking narcotic pain medication.  ??????\\tunless directed by your doctor, do not take any  anti-inflammatory medicines such as motrin, aspirin, advil, and  ibuprofen etc.  ??????\\tif you have been prescribed dilantin (phenytoin) for  anti-seizure medicine, take it as prescribed and follow up with  laboratory blood drawing in one week.  this can be drawn at your  pcp??????s office, but please have the results faxed to &lt;telephone&gt;.  if you have been discharged on keppra (levetiracetam), you will  not require blood work monitoring.  ??????\\tif you are being sent home on steroid medication, make sure  you are taking a medication to protect your stomach (prilosec,  protonix, or pepcid), as these medications can cause stomach  irritation.  make sure to take your steroid medication with  meals, or a glass of milk.  ??????\\tclearance to drive and return to work will be addressed at  your post-operative office visit.  ??????\\tmake sure to continue to use your incentive spirometer while  at home.  call your surgeon immediately if you experience any of the  following    ??????\\tnew onset of tremors or seizures.  ??????\\tany confusion or change in mental status.  ??????\\tany numbness, tingling, weakness in your extremities.  ??????\\tpain or headache that is continually increasing, or not  relieved by pain medication.  ??????\\tany signs of infection at the wound site: increasing redness,  increased swelling, increased tenderness, or drainage.  ??????\\tfever greater than or equal to 101?????? f.    followup instructions:  ??????\\tplease return to the office in [**6-28**] days (from your date of  surgery) for a wound check. this appointment can be made with  the nurse practitioner.  please make this appointment by calling  &lt;telephone&gt;. if you live quite a distance from our office,  please make arrangements for the same, with your pcp.</td>\n",
              "      <td>[710, 225, 443, 714, 530, V43]</td>\n",
              "      <td>[motrin, aspirin, levetiracetam, seizures, weakness, phenytoin, fever, redness, tenderness, docusate, infection, steroid, tingling, confusion, headache, constipation, tremors, numbness, pain]</td>\n",
              "      <td>[motrin, weakness, seizures, headache, redness, constipation, numbness, confusion, aspirin, infection, pain, fever]</td>\n",
              "      <td>[f0, f32, f43, f2, f5, f13, f12]</td>\n",
              "      <td>{'401': 0.03333333333333333, '427': 0.017857142857142856, '276': 0.02100840336134454, '414': 0.017857142857142856, '272': 0.027649769585253454, '250': 0.022321428571428572, '428': 0.017316017316017316, '518': 0.01984126984126984, '285': 0.024489795918367346, '584': 0.022321428571428572}</td>\n",
              "      <td>[401, 272, 285, 250, 584, 276, 518, 427, 414, 428]</td>\n",
              "    </tr>\n",
              "    <tr>\n",
              "      <th>4</th>\n",
              "      <td>134727.0</td>\n",
              "      <td>discharge diagnosis:  pneumonia    discharge condition:  expired    discharge instructions:  na    followup instructions:  na                                 &lt;name&gt; &lt;name&gt; md [**md number(2) 1851**]</td>\n",
              "      <td>[486, 518, V45, V58, 401, 577, 415, 428]</td>\n",
              "      <td>[]</td>\n",
              "      <td>[]</td>\n",
              "      <td>[]</td>\n",
              "      <td>{'401': 0.0, '427': 0.0, '276': 0.0, '414': 0.0, '272': 0.0, '250': 0.0, '428': 0.0, '518': 0.0, '285': 0.0, '584': 0.0}</td>\n",
              "      <td>[]</td>\n",
              "    </tr>\n",
              "    <tr>\n",
              "      <th>...</th>\n",
              "      <td>...</td>\n",
              "      <td>...</td>\n",
              "      <td>...</td>\n",
              "      <td>...</td>\n",
              "      <td>...</td>\n",
              "      <td>...</td>\n",
              "      <td>...</td>\n",
              "      <td>...</td>\n",
              "    </tr>\n",
              "    <tr>\n",
              "      <th>41962</th>\n",
              "      <td>127716.0</td>\n",
              "      <td>discharge diagnosis:  aortic stenosis and coronary artery disease s/p aortic valve  replacement and coronary artery bypass graft  past medical history:  hypertension  hyperlipidemia  diabetes mellitus  osteoarthritis  phlebitis  lung cancer  hiatal hernia  hypthyroidism  s/p right lobectomy [**2117**]  s/p lymph node dissection in neck  s/p beast lumpectomy  s/p hysterectomy  s/p c section  s/p tonsillectomy      discharge condition:  alert and oriented x3 nonfocal  ambulating, steady gait  incisional pain managed with ultram  incisions:  sternal - healing well, no erythema or drainage  1+ le edema      discharge instructions:  please shower daily including washing incisions gently with mild  soap, no baths or swimming until cleared by surgeon. look at  your incisions daily for redness or drainage  please no lotions, cream, powder, or ointments to incisions  each morning you should weigh yourself and then in the evening  take your temperature, these should be written down on the chart    no driving for one month or while taking narcotics. driving will  be discussed at follow up appointment with surgeon. no lifting  more than 10 pounds for 10 weeks  please call with any questions or concerns &lt;telephone&gt;  females: please wear bra to reduce pulling on incision, avoid  rubbing on lower edge  **please call cardiac surgery office with any questions or  concerns &lt;telephone&gt;. answering service will contact on call  person during off hours**    followup instructions:  you are scheduled for the following appointments  wound care, &lt;name&gt;, &lt;name&gt;  phone:&lt;telephone&gt;  date/time: &lt;date&gt;  10:00    surgeon: dr. &lt;name&gt; &lt;telephone&gt; date/time: &lt;date&gt;  1:15  cardiologist: dr. &lt;name&gt;  &lt;date&gt;  at 3:00p    please call to schedule appointments with your  primary care dr. &lt;name&gt; &lt;name&gt; in &lt;telephone&gt;    **please call cardiac surgery office with any questions or  concerns &lt;telephone&gt;. answering service will contact on call  person during off hours**                                   &lt;name&gt; &lt;name&gt; md [**md number(2) 748**]    completed by: &lt;date&gt;</td>\n",
              "      <td>[416, 424, 272, V10, V85, 414, 250, 401, 278, 782]</td>\n",
              "      <td>[artery, redness, edema, coronary, erythema, disease]</td>\n",
              "      <td>[artery, redness, edema, erythema, disease, coronary]</td>\n",
              "      <td>[f3, f18, f24, f13]</td>\n",
              "      <td>{'401': 0.025, '427': 0.0234375, '276': 0.014705882352941176, '414': 0.03125, '272': 0.024193548387096774, '250': 0.0234375, '428': 0.022727272727272728, '518': 0.020833333333333332, '285': 0.014285714285714285, '584': 0.015625}</td>\n",
              "      <td>[414, 401, 272, 427, 250, 428, 518, 584, 276, 285]</td>\n",
              "    </tr>\n",
              "    <tr>\n",
              "      <th>41963</th>\n",
              "      <td>186377.0</td>\n",
              "      <td>discharge diagnosis:  coronary artery disease  pmh:  hypertension, diabetes, copd, diastolic heart failure, ef 45-50%  past surgical history  penile implant      discharge condition:  alert and oriented x3 nonfocal  ambulating, gait steady  sternal pain managed with oral analgesics  sternal incision - healing well, no erythema or drainage  right lower extremity saph site clean/dry/intact      discharge instructions:  please draw bun/cre, inr at least every other day until they  stabilize  please shower daily including washing incisions gently with mild  soap, no baths or swimming, and look at your incisions  please no lotions, cream, powder, or ointments to incisions  each morning you should weigh yourself and then in the evening  take your temperature, these should be written down on the chart  no driving for approximately one month and while taking  narcotics, will be discussed at follow up appointment with  surgeon when you will be able to drive  no lifting more than 10 pounds for 10 weeks  please call with any questions or concerns &lt;telephone&gt;  **please call cardiac surgery office with any questions or  concerns &lt;telephone&gt;. answering service will contact on call  person during off hours**      followup instructions:  you are scheduled for the following appointments:  surgeon dr. &lt;name&gt; &lt;telephone&gt;,  &lt;date&gt;  1:00  cardiologist dr. &lt;name&gt;. &lt;name&gt; office will call you with an  appointment  please call to schedule the following:  primary care dr. &lt;name&gt;,&lt;name&gt; in [**3-8**] weeks  please follow up with dr. &lt;name&gt; &lt;name&gt; call &lt;telephone&gt; to  schedule an appointment  dialysis,schedule hemodialysis unit date/time: &lt;date&gt;  12:00  renal: dr. &lt;name&gt; &lt;telephone&gt;  diabetes: if patient requires endocrine follow-up after  discharge from rehab, please contact &lt;name&gt;, &lt;name&gt; at &lt;hospital&gt;  **please call cardiac surgery office with any questions or  concerns &lt;telephone&gt;. answering service will contact on call  person during off hours**    inr draw on [**8-16**]  goal inr [**1-5**]  indication: atrial fibrillation                                   &lt;name&gt; &lt;name&gt; md [**md number(2) 266**]    completed by: &lt;date&gt;</td>\n",
              "      <td>[424, 511, 305, 707, 403, 496, 784, 250, 414, V58, 427, 428, 584, 008, 997, 434, 410, 585, 041, 599]</td>\n",
              "      <td>[atrial, diabetes, diastolic, fibrillation, heart, failure, erythema, clean/dry/intact]</td>\n",
              "      <td>[diabetes, failure, atrial, erythema, heart, fibrillation]</td>\n",
              "      <td>[f21, f17, f13, f14, f37]</td>\n",
              "      <td>{'401': 0.03333333333333333, '427': 0.03125, '276': 0.029411764705882353, '414': 0.03125, '272': 0.03225806451612903, '250': 0.03125, '428': 0.030303030303030304, '518': 0.027777777777777776, '285': 0.02857142857142857, '584': 0.03125}</td>\n",
              "      <td>[401, 272, 427, 414, 250, 584, 428, 276, 285, 518]</td>\n",
              "    </tr>\n",
              "    <tr>\n",
              "      <th>41964</th>\n",
              "      <td>156564.0</td>\n",
              "      <td>discharge diagnosis:  left knee infection  chronic obstructive pulmonary disease exacerbation  acute on chronic kidney injury  congestive heart failure  hypertension      discharge condition:  mental status: clear and coherent.  level of consciousness: alert and interactive.  activity status: out of bed with assistance to chair or  wheelchair.      discharge instructions:  mr. &lt;name&gt;,    you were admitted to the hospital for a infected hardware in  your left knee. our orthopaedics team cleaned out the infection  in your knee and replaced the liner of your prosthesis. they  feel you should follow up with your primary orthopaedic doctor,  dr. &lt;name&gt; &lt;name&gt; at &lt;hospital&gt; (&lt;telephone&gt;), for ongoing  issues about your knee. the cultures of the infection in your  knee grew two different organisms, so we consulted our  infectious disease doctors who recommended a course of iv  antibiotics to help treat your infection. because this infection  occured inside of a joint, a longer course of antibiotics is  required. you went multiple times to the operating room to  wash-out your knee of any remaining infection, and your hardware  was removed. most recently you had a portion of tissue grafted  to your knee to provide for better coverage of your wound, along  with skin graft. your kidney function worsened while you were in  the hospital but it appears to have normalized. this should be  followed up with your primary care physician.    we made the following changes to your medications:  started:  vancomycin (antibiotic)  ceftriaxone (antibiotic)    increased metoprolol for blood pressure    followup instructions:  department: plastic surgery  when: wednesday  &lt;date&gt;  at 3:15 pm  with: &lt;name&gt; &lt;name&gt;, md &lt;telephone&gt;  building: lm &lt;name&gt; bldg (&lt;name&gt;) [**location (un) **]  campus: west     best parking: &lt;name&gt; garage    name: &lt;name&gt;, &lt;name&gt; &lt;name&gt; &lt;name&gt;  location: community physicians associates  address: &lt;hospital&gt;,[**numeric identifier 18406**]  phone: &lt;telephone&gt;  appointment: thursday  &lt;date&gt;  1:15pm    department: infectious disease  when: friday  &lt;date&gt;  at 9:30 am  with: &lt;name&gt; &lt;name&gt;, md &lt;telephone&gt;  building: lm &lt;name&gt; bldg (&lt;name&gt;) &lt;hospital&gt;  campus: west     best parking: &lt;name&gt; garage    name: nabi,&lt;name&gt; md  address: &lt;hospital&gt;,[**numeric identifier 18406**]  phone: &lt;telephone&gt;  **please discuss with the staff at the facility a follow up  appointment with your pcp when you are ready for discharge.      department: plastic surgery  when: wednesday  &lt;date&gt;  at 3:15 pm  with: &lt;name&gt; &lt;name&gt;, md &lt;telephone&gt;  building: lm &lt;name&gt; bldg (&lt;name&gt;) [**location (un) **]  campus: west     best parking: &lt;name&gt; garage    department: infectious disease  when: friday  &lt;date&gt;  at 9:30 am  with: &lt;name&gt; &lt;name&gt;, md &lt;telephone&gt;  building: lm &lt;name&gt; bldg (&lt;name&gt;) &lt;hospital&gt;  campus: west     best parking: &lt;name&gt; garage                                   &lt;name&gt; &lt;name&gt; md [**md number(1) 348**]    completed by: &lt;date&gt;</td>\n",
              "      <td>[V10, 403, 584, V43, 428, 285, 496, 250, V58, 041, 357, 707, 365, 414, 780, 518, 711, 585, 327, V12, E84, E87, 996]</td>\n",
              "      <td>[pulmonary, infectious, hypertension, kidney, obstructive, heart, injury, failure, metoprolol, infection, disease]</td>\n",
              "      <td>[hypertension, failure, disease, pulmonary, heart, infection, metoprolol, kidney, obstructive]</td>\n",
              "      <td>[f8, f29, f43, f21, f34, f17, f18, f37, f19]</td>\n",
              "      <td>{'401': 0.025925925925925925, '427': 0.027777777777777776, '276': 0.0261437908496732, '414': 0.027777777777777776, '272': 0.02867383512544803, '250': 0.027777777777777776, '428': 0.026936026936026935, '518': 0.027777777777777776, '285': 0.025396825396825397, '584': 0.027777777777777776}</td>\n",
              "      <td>[272, 427, 414, 250, 518, 584, 428, 276, 401, 285]</td>\n",
              "    </tr>\n",
              "    <tr>\n",
              "      <th>41965</th>\n",
              "      <td>172559.0</td>\n",
              "      <td>discharge diagnosis:  primary:  small bowel obstruction  metastatic prostate cancer  anasarca  malnutrition  dehydration  acute renal failure  aspiration pneumonia  .  secondary:  prostate ca s/p xrt and chemo - rising psa (140), lg rp mass,  oa, lbp, diverticulosis w/ colovesical fistula s/p lar [**5-18**], s/p  ileostomy takedown [**10-18**], open ccy      discharge condition:  stable      discharge instructions:  please call your doctor or return to the er for any of the  following:  * you experience new chest pain, pressure, squeezing or  tightness.  * new or worsening cough or wheezing.  * if you are vomiting and cannot keep in fluids or your  medications.  * you are getting dehydrated due to continued vomiting,  diarrhea or other reasons. signs of dehydration include dry  mouth, rapid heartbeat or feeling dizzy or faint when standing.  * you see blood or dark/black material when you vomit or have a  bowel movement.  * your pain is not improving within 8-12 hours or not gone  within 24 hours. call or return immediately if your pain is  getting worse or is changing location or moving to your chest or    back.  *avoid lifting objects &gt; 5lbs until your follow-up appointment  with the surgeon.  *avoid driving or operating heavy machinery while taking pain  medications.  * you have shaking chills, or a fever greater than 101.5 (f)  degrees or 38(c) degrees.  * any serious change in your symptoms, or any new symptoms that  concern you.  * please resume all regular home medications and take any new  meds  as ordered.  * continue to ambulate several times per day.  .  incision care:  -your staples will be removed at your follow-up appointment with  the surgeon, and steri strips will be applied.  -your steri-strips will fall off on their own. please remove any  remaining strips 7-10 days after surgery.  -you may shower, and wash surgical incisions.  -avoid swimming and baths until your follow-up appointment.  -please call the doctor if you have increased pain, swelling,  redness, or drainage from the incision sites.      followup instructions:  1. please follow-up appointment with dr. &lt;name&gt; (&lt;telephone&gt; on  &lt;date&gt;  at 1:15pm for removal of your staples.  2. you have follow-up appointment with dr. &lt;name&gt; &lt;name&gt;, md  phone:&lt;telephone&gt; date/time: &lt;date&gt;  11:00, and chemotherapy at  provider: &lt;name&gt; &lt;name&gt;, rn phone:&lt;telephone&gt; date/time: &lt;date&gt;   12:00  3. provider: &lt;name&gt;,&lt;name&gt; &lt;name&gt; apg (sb)  phone:&lt;telephone&gt; date/time: &lt;date&gt;  10:10                                 &lt;name&gt; &lt;name&gt; md [**md number(1) 17**]    completed by: &lt;date&gt;</td>\n",
              "      <td>[197, 507, 185, 427, 261, 585, V66, 560, 783, 285, 276]</td>\n",
              "      <td>[dehydration, obstruction, cough, diverticulosis, fever, chest, vomiting, telephone, bowel, swelling, chills, prostate, colovesical, wheezing, phone, vomit, fistula, pain, cancer]</td>\n",
              "      <td>[swelling, dehydration, vomiting, chills, cancer, chest, pain, cough, fever]</td>\n",
              "      <td>[f0, f26, f10, f1, f16, f15]</td>\n",
              "      <td>{'401': 0.02777777777777778, '427': 0.026041666666666668, '276': 0.029411764705882353, '414': 0.026041666666666668, '272': 0.026881720430107527, '250': 0.020833333333333332, '428': 0.0202020202020202, '518': 0.02314814814814815, '285': 0.02380952380952381, '584': 0.026041666666666668}</td>\n",
              "      <td>[276, 401, 272, 427, 414, 584, 285, 518, 250, 428]</td>\n",
              "    </tr>\n",
              "    <tr>\n",
              "      <th>41966</th>\n",
              "      <td>135672.0</td>\n",
              "      <td>discharge diagnosis:  peritonitis secondary to small bowel perforation.  cmv enteritis  b-cell lymphoma  line infection  type 2 diabetes controlled without complications  moderate malnutrition  cad bypass vessle      discharge condition:  stable.  tolerating regular diet  pain well controlled with oral medications.      discharge instructions:  you are being discharged on an antiviral medication called  ganciclovir, which can make your diarhea worse for some time.  please contact your doctor if you experience numbness, tingling  or pain in hands or feet, as this may be a side effect of the  medication.    you will be having labs drawn every other day and sent to dr.  &lt;name&gt; of infectious diseases for monitoring of your blood  counts.    *avoid lifting objects &gt; 5lbs until your follow-up appointment  with the surgeon.    *avoid driving or operating heavy machinery while taking pain  medications.    * continue to ambulate several times per day.    incision care:  -your staples will be removed at your follow up appoinetment.  -steri-strips will be applied and will fall off on their own.  please remove any remaining strips 7-10 days after application.  -you may shower, and wash surgical incisions.  -avoid swimming and baths until your follow-up appointment.  -please call the doctor if you have increased pain, swelling,  redness, or drainage from the incision sites.    followup instructions:  you will need to have an ophthalmalogic evaluation to make sure  that there is no evidence of cmv infection of the retina - this  should happen this week.  please call: (&lt;telephone&gt; to  schedule this appointment; if you have any difficulty arranging  this, please discuss this with your primary doctor so that they  can facilitate/arrange this evaluation.    1. please call dr.&lt;name&gt; office, &lt;telephone&gt;, to make a  follow up appointment in [**11-23**] weeks.  scheduled appointments :  provider: &lt;name&gt; &lt;name&gt;, &lt;telephone&gt;  date/time: &lt;date&gt;  10:30  provider: &lt;name&gt; &lt;name&gt;, rn phone:&lt;telephone&gt;  date/time: &lt;date&gt;  11:00  provider: &lt;name&gt; chair 6  date/time: &lt;date&gt;  11:00                                   &lt;name&gt; &lt;name&gt; md [**md number(2) 431**]    completed by: &lt;date&gt;</td>\n",
              "      <td>[202, 401, 584, 255, 283, 238, 038, 785, 250, 008, 041, 272, 996, 078, V45, 567, 569, 273, 995, 263, 579, 782]</td>\n",
              "      <td>[infectious, telephone, bowel, swelling, diseases, phone, perforation, small, infection, numbness, pain]</td>\n",
              "      <td>[swelling, numbness, infection, pain]</td>\n",
              "      <td>[f0, f43, f26]</td>\n",
              "      <td>{'401': 0.03333333333333333, '427': 0.03125, '276': 0.029411764705882353, '414': 0.03125, '272': 0.03225806451612903, '250': 0.03125, '428': 0.030303030303030304, '518': 0.027777777777777776, '285': 0.02857142857142857, '584': 0.03125}</td>\n",
              "      <td>[401, 272, 427, 414, 250, 584, 428, 276, 285, 518]</td>\n",
              "    </tr>\n",
              "  </tbody>\n",
              "</table>\n",
              "<p>41967 rows × 8 columns</p>\n",
              "</div>"
            ],
            "text/plain": [
              "        HADM_ID  ...                                       predicted_icd\n",
              "0      167118.0  ...  [401, 272, 427, 414, 250, 428, 285, 518, 584, 276]\n",
              "1      196489.0  ...  [427, 250, 428, 518, 584, 285, 276, 272, 414, 401]\n",
              "2      135453.0  ...  [285, 518, 427, 250, 584, 428, 276, 401, 272, 414]\n",
              "3      170490.0  ...  [401, 272, 285, 250, 584, 276, 518, 427, 414, 428]\n",
              "4      134727.0  ...                                                  []\n",
              "...         ...  ...                                                 ...\n",
              "41962  127716.0  ...  [414, 401, 272, 427, 250, 428, 518, 584, 276, 285]\n",
              "41963  186377.0  ...  [401, 272, 427, 414, 250, 584, 428, 276, 285, 518]\n",
              "41964  156564.0  ...  [272, 427, 414, 250, 518, 584, 428, 276, 401, 285]\n",
              "41965  172559.0  ...  [276, 401, 272, 427, 414, 584, 285, 518, 250, 428]\n",
              "41966  135672.0  ...  [401, 272, 427, 414, 250, 584, 428, 276, 285, 518]\n",
              "\n",
              "[41967 rows x 8 columns]"
            ]
          },
          "metadata": {
            "tags": []
          },
          "execution_count": 61
        }
      ]
    },
    {
      "cell_type": "code",
      "metadata": {
        "id": "tl1VKjND8OVh"
      },
      "source": [
        "diagnosis_icd10category=pd.merge(diagnosis_icd9category_token[['HADM_ID','discharge diagnosis:', 'medical_terms_list']],adm_icd[['HADM_ID','ICD10']],on=\"HADM_ID\",how=\"left\")"
      ],
      "execution_count": 62,
      "outputs": []
    },
    {
      "cell_type": "code",
      "metadata": {
        "colab": {
          "base_uri": "https://localhost:8080/",
          "height": 1000
        },
        "id": "_9m2mH2Z8S4-",
        "outputId": "f3d31b75-d48b-4435-c159-409a353f8bcf"
      },
      "source": [
        "diagnosis_icd10category"
      ],
      "execution_count": 63,
      "outputs": [
        {
          "output_type": "execute_result",
          "data": {
            "text/html": [
              "<div>\n",
              "<style scoped>\n",
              "    .dataframe tbody tr th:only-of-type {\n",
              "        vertical-align: middle;\n",
              "    }\n",
              "\n",
              "    .dataframe tbody tr th {\n",
              "        vertical-align: top;\n",
              "    }\n",
              "\n",
              "    .dataframe thead th {\n",
              "        text-align: right;\n",
              "    }\n",
              "</style>\n",
              "<table border=\"1\" class=\"dataframe\">\n",
              "  <thead>\n",
              "    <tr style=\"text-align: right;\">\n",
              "      <th></th>\n",
              "      <th>HADM_ID</th>\n",
              "      <th>discharge diagnosis:</th>\n",
              "      <th>medical_terms_list</th>\n",
              "      <th>ICD10</th>\n",
              "    </tr>\n",
              "  </thead>\n",
              "  <tbody>\n",
              "    <tr>\n",
              "      <th>0</th>\n",
              "      <td>167118.0</td>\n",
              "      <td>discharge diagnosis:  copd, coronary artery disease/atypical angina (lad 30%, rca 30%,  ef 63%), hypercholesterolemia, hypothyroidism, hypertension,  hiatal hernia, cerebral vascular accident,s/p motor vehicle  colision-&gt; head injury &amp; rib fracture.  tbm- s/p tracheoplasty.      discharge condition:  good    discharge instructions:  please update dr.&lt;name&gt; &lt;telephone&gt; office for:  fever,  shortness of breath, chest pain , productive cough or if you  have any questions or concerns.      completed by: &lt;date&gt;</td>\n",
              "      <td>[hypercholesterolemia, cerebral, hypothyroidism, cough, accident, hypertension, artery, chest, vascular, coronary, fracture, injury, angina, pain, head]</td>\n",
              "      <td>J449,Misc,E872</td>\n",
              "    </tr>\n",
              "    <tr>\n",
              "      <th>1</th>\n",
              "      <td>196489.0</td>\n",
              "      <td>discharge diagnosis:  primary:  1. chronic obstructive pulmonary disease exacerbation  2. respiratory failure with intubation  3. upper gastrointestinal bleed/peptic ulcer disease  4. hypertension  5. anxiety    secondary:  1. coronary artery disease  2. hypothyroidism      discharge condition:  mental status: confused - sometimes.  level of consciousness: alert and interactive.  activity status: out of bed with assistance to chair or  wheelchair.      discharge instructions:  you were admitted to the hospital with shortness of breath and  respiratory failure and lethargy. in the emergency department,  you were breathing very fast and a breathing tube was inserted  into your airway to help you breathe. you were admitted to the  intensive care unit. there, you were managed with steroids and  antibiotics and the tube was eventually removed from your  airway, allowing you to breathe on your own. you also underwent  bronchoscopy which looked at the inside of your airways.  .  during your time in the intensive care unit, you developed a  gastrointestinal bleed. a tube was placed into your stomach and  you underwent an endoscopic procedure to look at your esophagus  and stomach. this showed inflammation in your esophagusand  ulcers in your stomach.  .  you should continue to use nasal oxygen by nasal cannula as  needed. you should continue the steroid taper as instructed. you  should call your doctor or return to the emergency room if you  have increasing difficulty breathing or shortness of breath,  wheezing, chest pain, blood in your stool or vomiting blood.  .  there are some changes in your medications.  start pantoprazole 40 mg twice daily and stop omeprazole  start hydrochlorothiazide  start prednisone, taking 30 mg for 3 days, then 20 mg for 4  days, then 10 mg for 4 days, then 5 mg for 4 days, then stop.  start colace and senna as needed for constipation  can use morphine to alleviate symptoms of respiratory discomfort  stop furosemide  stop zolpidem  stop aspirin  increase diovan to 240 mg daily  decrease trazodone to 50 mg daily  .  follow up as indicated below.    followup instructions:  you have an appointment to follow up with dr. &lt;name&gt;, your  primary care physician, &lt;name&gt; [**8-29**] at 1pm. his address is [**location (un) 1822**], [**apartment address(1) 1823**], [**location (un) **],[**numeric identifier 1700**]. the phone is  &lt;telephone&gt;.    you have an appointment to follow up with dr. &lt;name&gt; &lt;name&gt; in  the  &lt;name&gt; at &lt;hospital&gt; on the [**location (un) 453**]. their phone number is  &lt;telephone&gt;.    department: div. of gastroenterology  when: wednesday  &lt;date&gt;  at 3:00 pm  with: &lt;name&gt; &lt;name&gt;, md &lt;telephone&gt;  building: ra &lt;name&gt; (&lt;name&gt;/&lt;name&gt; complex) [**location (un) **]  campus: east     best parking: main garage</td>\n",
              "      <td>[pulmonary, hypertension, of, obstructive, discomfort, gastrointestinal, constipation, oxygen, breath, inflammation, artery, chest, hydrochlorothiazide, steroid, anxiety, omeprazole, senna, trazodone, failure, shortness, disease, pantoprazole, aspirin, hypothyroidism, zolpidem, furosemide, coronary, prednisone, lethargy, steroids, ulcer, chronic, respiratory, morphine, pain]</td>\n",
              "      <td>I2510,E872,I9581,N179,E039,E784,I10,I952,Misc,E870,E785</td>\n",
              "    </tr>\n",
              "    <tr>\n",
              "      <th>2</th>\n",
              "      <td>135453.0</td>\n",
              "      <td>discharge diagnosis:  1. cervical spondylosis with calcification of posterior  longitudinal ligament.  2. fracture dislocation c6-c7.  3. ossification of the posterior longitudinal ligament.  4. aspiration pneumonia      1. cervical spondylosis with calcification of posterior      longitudinal ligament.  2. fracture dislocation c6-c7.  3. ossification of the posterior longitudinal ligament.  4. aspiration pneumonia    1. cervical spondylosis with calcification of posterior      longitudinal ligament.  2. fracture dislocation c6-c7.  3. ossification of the posterior longitudinal ligament.  4. aspiration pneumonia      discharge condition:  stable to outside facility      discharge instructions:  patient has been made cmo at the request of him and his family.  he has a foley placed for urinary retention. please use morphine  as needed for pain and olanzapine as needed for agitiation.  patient has known history of aspiration documented on speech and  swallow. it is the patient and the family's wish for him to  continue to eat and drink as desired.    followup instructions:  follow up with your primary care physician as needed.</td>\n",
              "      <td>[ligament, spondylosis, of, cervical, urinary, posterior, calcification, olanzapine, fracture, pneumonia, dislocation, retention, longitudinal, morphine, pain]</td>\n",
              "      <td>J690,Z951,I4891,Misc,I509,F05</td>\n",
              "    </tr>\n",
              "    <tr>\n",
              "      <th>3</th>\n",
              "      <td>170490.0</td>\n",
              "      <td>discharge diagnosis:  brain lesion    discharge condition:  mental status: clear and coherent.  level of consciousness: alert and interactive.  activity status: ambulatory - independent.  neuro exam intact.    discharge instructions:  ??????\\thave a friend/family member check your incision daily for  signs of infection.  ??????\\ttake your pain medicine as prescribed.  ??????\\texercise should be limited to walking; no lifting, straining,  or excessive bending.  ??????\\tyou have dissolvable sutures, you must keep that area dry for  10 days.  ??????\\tyou may shower before this time using a shower cap to cover  your head.  ??????\\tincrease your intake of fluids and fiber, as narcotic pain  medicine can cause constipation. we generally recommend taking  an over the counter stool softener, such as docusate (colace)  while taking narcotic pain medication.  ??????\\tunless directed by your doctor, do not take any  anti-inflammatory medicines such as motrin, aspirin, advil, and  ibuprofen etc.  ??????\\tif you have been prescribed dilantin (phenytoin) for  anti-seizure medicine, take it as prescribed and follow up with  laboratory blood drawing in one week.  this can be drawn at your  pcp??????s office, but please have the results faxed to &lt;telephone&gt;.  if you have been discharged on keppra (levetiracetam), you will  not require blood work monitoring.  ??????\\tif you are being sent home on steroid medication, make sure  you are taking a medication to protect your stomach (prilosec,  protonix, or pepcid), as these medications can cause stomach  irritation.  make sure to take your steroid medication with  meals, or a glass of milk.  ??????\\tclearance to drive and return to work will be addressed at  your post-operative office visit.  ??????\\tmake sure to continue to use your incentive spirometer while  at home.  call your surgeon immediately if you experience any of the  following    ??????\\tnew onset of tremors or seizures.  ??????\\tany confusion or change in mental status.  ??????\\tany numbness, tingling, weakness in your extremities.  ??????\\tpain or headache that is continually increasing, or not  relieved by pain medication.  ??????\\tany signs of infection at the wound site: increasing redness,  increased swelling, increased tenderness, or drainage.  ??????\\tfever greater than or equal to 101?????? f.    followup instructions:  ??????\\tplease return to the office in [**6-28**] days (from your date of  surgery) for a wound check. this appointment can be made with  the nurse practitioner.  please make this appointment by calling  &lt;telephone&gt;. if you live quite a distance from our office,  please make arrangements for the same, with your pcp.</td>\n",
              "      <td>[motrin, aspirin, levetiracetam, seizures, weakness, phenytoin, fever, redness, tenderness, docusate, infection, steroid, tingling, confusion, headache, constipation, tremors, numbness, pain]</td>\n",
              "      <td>K219,Misc</td>\n",
              "    </tr>\n",
              "    <tr>\n",
              "      <th>4</th>\n",
              "      <td>134727.0</td>\n",
              "      <td>discharge diagnosis:  pneumonia    discharge condition:  expired    discharge instructions:  na    followup instructions:  na                                 &lt;name&gt; &lt;name&gt; md [**md number(2) 1851**]</td>\n",
              "      <td>[]</td>\n",
              "      <td>J189,Z7901,I10,Z9861,J9600,Misc,I509,J9690</td>\n",
              "    </tr>\n",
              "    <tr>\n",
              "      <th>...</th>\n",
              "      <td>...</td>\n",
              "      <td>...</td>\n",
              "      <td>...</td>\n",
              "      <td>...</td>\n",
              "    </tr>\n",
              "    <tr>\n",
              "      <th>41962</th>\n",
              "      <td>127716.0</td>\n",
              "      <td>discharge diagnosis:  aortic stenosis and coronary artery disease s/p aortic valve  replacement and coronary artery bypass graft  past medical history:  hypertension  hyperlipidemia  diabetes mellitus  osteoarthritis  phlebitis  lung cancer  hiatal hernia  hypthyroidism  s/p right lobectomy [**2117**]  s/p lymph node dissection in neck  s/p beast lumpectomy  s/p hysterectomy  s/p c section  s/p tonsillectomy      discharge condition:  alert and oriented x3 nonfocal  ambulating, steady gait  incisional pain managed with ultram  incisions:  sternal - healing well, no erythema or drainage  1+ le edema      discharge instructions:  please shower daily including washing incisions gently with mild  soap, no baths or swimming until cleared by surgeon. look at  your incisions daily for redness or drainage  please no lotions, cream, powder, or ointments to incisions  each morning you should weigh yourself and then in the evening  take your temperature, these should be written down on the chart    no driving for one month or while taking narcotics. driving will  be discussed at follow up appointment with surgeon. no lifting  more than 10 pounds for 10 weeks  please call with any questions or concerns &lt;telephone&gt;  females: please wear bra to reduce pulling on incision, avoid  rubbing on lower edge  **please call cardiac surgery office with any questions or  concerns &lt;telephone&gt;. answering service will contact on call  person during off hours**    followup instructions:  you are scheduled for the following appointments  wound care, &lt;name&gt;, &lt;name&gt;  phone:&lt;telephone&gt;  date/time: &lt;date&gt;  10:00    surgeon: dr. &lt;name&gt; &lt;telephone&gt; date/time: &lt;date&gt;  1:15  cardiologist: dr. &lt;name&gt;  &lt;date&gt;  at 3:00p    please call to schedule appointments with your  primary care dr. &lt;name&gt; &lt;name&gt; in &lt;telephone&gt;    **please call cardiac surgery office with any questions or  concerns &lt;telephone&gt;. answering service will contact on call  person during off hours**                                   &lt;name&gt; &lt;name&gt; md [**md number(2) 748**]    completed by: &lt;date&gt;</td>\n",
              "      <td>[artery, redness, edema, coronary, erythema, disease]</td>\n",
              "      <td>I359,I2510,I10,E784,E669,I352,I350,E119,Misc,I272,I2789,I358,E785,I351</td>\n",
              "    </tr>\n",
              "    <tr>\n",
              "      <th>41963</th>\n",
              "      <td>186377.0</td>\n",
              "      <td>discharge diagnosis:  coronary artery disease  pmh:  hypertension, diabetes, copd, diastolic heart failure, ef 45-50%  past surgical history  penile implant      discharge condition:  alert and oriented x3 nonfocal  ambulating, gait steady  sternal pain managed with oral analgesics  sternal incision - healing well, no erythema or drainage  right lower extremity saph site clean/dry/intact      discharge instructions:  please draw bun/cre, inr at least every other day until they  stabilize  please shower daily including washing incisions gently with mild  soap, no baths or swimming, and look at your incisions  please no lotions, cream, powder, or ointments to incisions  each morning you should weigh yourself and then in the evening  take your temperature, these should be written down on the chart  no driving for approximately one month and while taking  narcotics, will be discussed at follow up appointment with  surgeon when you will be able to drive  no lifting more than 10 pounds for 10 weeks  please call with any questions or concerns &lt;telephone&gt;  **please call cardiac surgery office with any questions or  concerns &lt;telephone&gt;. answering service will contact on call  person during off hours**      followup instructions:  you are scheduled for the following appointments:  surgeon dr. &lt;name&gt; &lt;telephone&gt;,  &lt;date&gt;  1:00  cardiologist dr. &lt;name&gt;. &lt;name&gt; office will call you with an  appointment  please call to schedule the following:  primary care dr. &lt;name&gt;,&lt;name&gt; in [**3-8**] weeks  please follow up with dr. &lt;name&gt; &lt;name&gt; call &lt;telephone&gt; to  schedule an appointment  dialysis,schedule hemodialysis unit date/time: &lt;date&gt;  12:00  renal: dr. &lt;name&gt; &lt;telephone&gt;  diabetes: if patient requires endocrine follow-up after  discharge from rehab, please contact &lt;name&gt;, &lt;name&gt; at &lt;hospital&gt;  **please call cardiac surgery office with any questions or  concerns &lt;telephone&gt;. answering service will contact on call  person during off hours**    inr draw on [**8-16**]  goal inr [**1-5**]  indication: atrial fibrillation                                   &lt;name&gt; &lt;name&gt; md [**md number(2) 266**]    completed by: &lt;date&gt;</td>\n",
              "      <td>[atrial, diabetes, diastolic, fibrillation, heart, failure, erythema, clean/dry/intact]</td>\n",
              "      <td>A047,F17200,N170,I2510,I129,I340,I5033,I4891,N390,J918,Misc,I509,I214,J449,I348</td>\n",
              "    </tr>\n",
              "    <tr>\n",
              "      <th>41964</th>\n",
              "      <td>156564.0</td>\n",
              "      <td>discharge diagnosis:  left knee infection  chronic obstructive pulmonary disease exacerbation  acute on chronic kidney injury  congestive heart failure  hypertension      discharge condition:  mental status: clear and coherent.  level of consciousness: alert and interactive.  activity status: out of bed with assistance to chair or  wheelchair.      discharge instructions:  mr. &lt;name&gt;,    you were admitted to the hospital for a infected hardware in  your left knee. our orthopaedics team cleaned out the infection  in your knee and replaced the liner of your prosthesis. they  feel you should follow up with your primary orthopaedic doctor,  dr. &lt;name&gt; &lt;name&gt; at &lt;hospital&gt; (&lt;telephone&gt;), for ongoing  issues about your knee. the cultures of the infection in your  knee grew two different organisms, so we consulted our  infectious disease doctors who recommended a course of iv  antibiotics to help treat your infection. because this infection  occured inside of a joint, a longer course of antibiotics is  required. you went multiple times to the operating room to  wash-out your knee of any remaining infection, and your hardware  was removed. most recently you had a portion of tissue grafted  to your knee to provide for better coverage of your wound, along  with skin graft. your kidney function worsened while you were in  the hospital but it appears to have normalized. this should be  followed up with your primary care physician.    we made the following changes to your medications:  started:  vancomycin (antibiotic)  ceftriaxone (antibiotic)    increased metoprolol for blood pressure    followup instructions:  department: plastic surgery  when: wednesday  &lt;date&gt;  at 3:15 pm  with: &lt;name&gt; &lt;name&gt;, md &lt;telephone&gt;  building: lm &lt;name&gt; bldg (&lt;name&gt;) [**location (un) **]  campus: west     best parking: &lt;name&gt; garage    name: &lt;name&gt;, &lt;name&gt; &lt;name&gt; &lt;name&gt;  location: community physicians associates  address: &lt;hospital&gt;,[**numeric identifier 18406**]  phone: &lt;telephone&gt;  appointment: thursday  &lt;date&gt;  1:15pm    department: infectious disease  when: friday  &lt;date&gt;  at 9:30 am  with: &lt;name&gt; &lt;name&gt;, md &lt;telephone&gt;  building: lm &lt;name&gt; bldg (&lt;name&gt;) &lt;hospital&gt;  campus: west     best parking: &lt;name&gt; garage    name: nabi,&lt;name&gt; md  address: &lt;hospital&gt;,[**numeric identifier 18406**]  phone: &lt;telephone&gt;  **please discuss with the staff at the facility a follow up  appointment with your pcp when you are ready for discharge.      department: plastic surgery  when: wednesday  &lt;date&gt;  at 3:15 pm  with: &lt;name&gt; &lt;name&gt;, md &lt;telephone&gt;  building: lm &lt;name&gt; bldg (&lt;name&gt;) [**location (un) **]  campus: west     best parking: &lt;name&gt; garage    department: infectious disease  when: friday  &lt;date&gt;  at 9:30 am  with: &lt;name&gt; &lt;name&gt;, md &lt;telephone&gt;  building: lm &lt;name&gt; bldg (&lt;name&gt;) &lt;hospital&gt;  campus: west     best parking: &lt;name&gt; garage                                   &lt;name&gt; &lt;name&gt; md [**md number(1) 348**]    completed by: &lt;date&gt;</td>\n",
              "      <td>[pulmonary, infectious, hypertension, kidney, obstructive, heart, injury, failure, metoprolol, infection, disease]</td>\n",
              "      <td>E1342,I5032,N170,I2510,E0942,E1042,E1142,G4733,Z794,I129,Misc,I509,D62,J449,E0842</td>\n",
              "    </tr>\n",
              "    <tr>\n",
              "      <th>41965</th>\n",
              "      <td>172559.0</td>\n",
              "      <td>discharge diagnosis:  primary:  small bowel obstruction  metastatic prostate cancer  anasarca  malnutrition  dehydration  acute renal failure  aspiration pneumonia  .  secondary:  prostate ca s/p xrt and chemo - rising psa (140), lg rp mass,  oa, lbp, diverticulosis w/ colovesical fistula s/p lar [**5-18**], s/p  ileostomy takedown [**10-18**], open ccy      discharge condition:  stable      discharge instructions:  please call your doctor or return to the er for any of the  following:  * you experience new chest pain, pressure, squeezing or  tightness.  * new or worsening cough or wheezing.  * if you are vomiting and cannot keep in fluids or your  medications.  * you are getting dehydrated due to continued vomiting,  diarrhea or other reasons. signs of dehydration include dry  mouth, rapid heartbeat or feeling dizzy or faint when standing.  * you see blood or dark/black material when you vomit or have a  bowel movement.  * your pain is not improving within 8-12 hours or not gone  within 24 hours. call or return immediately if your pain is  getting worse or is changing location or moving to your chest or    back.  *avoid lifting objects &gt; 5lbs until your follow-up appointment  with the surgeon.  *avoid driving or operating heavy machinery while taking pain  medications.  * you have shaking chills, or a fever greater than 101.5 (f)  degrees or 38(c) degrees.  * any serious change in your symptoms, or any new symptoms that  concern you.  * please resume all regular home medications and take any new  meds  as ordered.  * continue to ambulate several times per day.  .  incision care:  -your staples will be removed at your follow-up appointment with  the surgeon, and steri strips will be applied.  -your steri-strips will fall off on their own. please remove any  remaining strips 7-10 days after surgery.  -you may shower, and wash surgical incisions.  -avoid swimming and baths until your follow-up appointment.  -please call the doctor if you have increased pain, swelling,  redness, or drainage from the incision sites.      followup instructions:  1. please follow-up appointment with dr. &lt;name&gt; (&lt;telephone&gt; on  &lt;date&gt;  at 1:15pm for removal of your staples.  2. you have follow-up appointment with dr. &lt;name&gt; &lt;name&gt;, md  phone:&lt;telephone&gt; date/time: &lt;date&gt;  11:00, and chemotherapy at  provider: &lt;name&gt; &lt;name&gt;, rn phone:&lt;telephone&gt; date/time: &lt;date&gt;   12:00  3. provider: &lt;name&gt;,&lt;name&gt; &lt;name&gt; apg (sb)  phone:&lt;telephone&gt; date/time: &lt;date&gt;  10:10                                 &lt;name&gt; &lt;name&gt; md [**md number(1) 17**]    completed by: &lt;date&gt;</td>\n",
              "      <td>[dehydration, obstruction, cough, diverticulosis, fever, chest, vomiting, telephone, bowel, swelling, chills, prostate, colovesical, wheezing, phone, vomit, fistula, pain, cancer]</td>\n",
              "      <td>E860,N189,J690,I4892,R001,Misc,I498</td>\n",
              "    </tr>\n",
              "    <tr>\n",
              "      <th>41966</th>\n",
              "      <td>135672.0</td>\n",
              "      <td>discharge diagnosis:  peritonitis secondary to small bowel perforation.  cmv enteritis  b-cell lymphoma  line infection  type 2 diabetes controlled without complications  moderate malnutrition  cad bypass vessle      discharge condition:  stable.  tolerating regular diet  pain well controlled with oral medications.      discharge instructions:  you are being discharged on an antiviral medication called  ganciclovir, which can make your diarhea worse for some time.  please contact your doctor if you experience numbness, tingling  or pain in hands or feet, as this may be a side effect of the  medication.    you will be having labs drawn every other day and sent to dr.  &lt;name&gt; of infectious diseases for monitoring of your blood  counts.    *avoid lifting objects &gt; 5lbs until your follow-up appointment  with the surgeon.    *avoid driving or operating heavy machinery while taking pain  medications.    * continue to ambulate several times per day.    incision care:  -your staples will be removed at your follow up appoinetment.  -steri-strips will be applied and will fall off on their own.  please remove any remaining strips 7-10 days after application.  -you may shower, and wash surgical incisions.  -avoid swimming and baths until your follow-up appointment.  -please call the doctor if you have increased pain, swelling,  redness, or drainage from the incision sites.    followup instructions:  you will need to have an ophthalmalogic evaluation to make sure  that there is no evidence of cmv infection of the retina - this  should happen this week.  please call: (&lt;telephone&gt; to  schedule this appointment; if you have any difficulty arranging  this, please discuss this with your primary doctor so that they  can facilitate/arrange this evaluation.    1. please call dr.&lt;name&gt; office, &lt;telephone&gt;, to make a  follow up appointment in [**11-23**] weeks.  scheduled appointments :  provider: &lt;name&gt; &lt;name&gt;, &lt;telephone&gt;  date/time: &lt;date&gt;  10:30  provider: &lt;name&gt; &lt;name&gt;, rn phone:&lt;telephone&gt;  date/time: &lt;date&gt;  11:00  provider: &lt;name&gt; chair 6  date/time: &lt;date&gt;  11:00                                   &lt;name&gt; &lt;name&gt; md [**md number(2) 431**]    completed by: &lt;date&gt;</td>\n",
              "      <td>[infectious, telephone, bowel, swelling, diseases, phone, perforation, small, infection, numbness, pain]</td>\n",
              "      <td>I10,N179,Z951,E784,R6521,A419,Misc,R6520,E785,E119</td>\n",
              "    </tr>\n",
              "  </tbody>\n",
              "</table>\n",
              "<p>41967 rows × 4 columns</p>\n",
              "</div>"
            ],
            "text/plain": [
              "        HADM_ID  ...                                                                              ICD10\n",
              "0      167118.0  ...                                                                     J449,Misc,E872\n",
              "1      196489.0  ...                            I2510,E872,I9581,N179,E039,E784,I10,I952,Misc,E870,E785\n",
              "2      135453.0  ...                                                      J690,Z951,I4891,Misc,I509,F05\n",
              "3      170490.0  ...                                                                          K219,Misc\n",
              "4      134727.0  ...                                         J189,Z7901,I10,Z9861,J9600,Misc,I509,J9690\n",
              "...         ...  ...                                                                                ...\n",
              "41962  127716.0  ...             I359,I2510,I10,E784,E669,I352,I350,E119,Misc,I272,I2789,I358,E785,I351\n",
              "41963  186377.0  ...    A047,F17200,N170,I2510,I129,I340,I5033,I4891,N390,J918,Misc,I509,I214,J449,I348\n",
              "41964  156564.0  ...  E1342,I5032,N170,I2510,E0942,E1042,E1142,G4733,Z794,I129,Misc,I509,D62,J449,E0842\n",
              "41965  172559.0  ...                                                E860,N189,J690,I4892,R001,Misc,I498\n",
              "41966  135672.0  ...                                 I10,N179,Z951,E784,R6521,A419,Misc,R6520,E785,E119\n",
              "\n",
              "[41967 rows x 4 columns]"
            ]
          },
          "metadata": {
            "tags": []
          },
          "execution_count": 63
        }
      ]
    },
    {
      "cell_type": "code",
      "metadata": {
        "id": "4qoc9mkn9rPJ"
      },
      "source": [
        "diagnosis_icd10category['ICD10']=diagnosis_icd10category.ICD10.apply(lambda x:list(set(re.split(\",\",x))))"
      ],
      "execution_count": 64,
      "outputs": []
    },
    {
      "cell_type": "code",
      "metadata": {
        "id": "XL1m9Rz79rJ2"
      },
      "source": [
        "def icd10codes_into_category(x):\r\n",
        "    return list(set([re.split(\"([A-Z]\\d{2})\",i)[1] for i in x]))"
      ],
      "execution_count": 65,
      "outputs": []
    },
    {
      "cell_type": "code",
      "metadata": {
        "id": "8lj3bNRi9rFm"
      },
      "source": [
        "diagnosis_icd10category['ICD10']=diagnosis_icd10category.ICD10.apply(lambda x: [a for a in x if a!=\"Misc\"])"
      ],
      "execution_count": 66,
      "outputs": []
    },
    {
      "cell_type": "code",
      "metadata": {
        "id": "W2hSjpLE9rBq"
      },
      "source": [
        "diagnosis_icd10category['icd10category']=diagnosis_icd10category.ICD10.apply(icd10codes_into_category)"
      ],
      "execution_count": 67,
      "outputs": []
    },
    {
      "cell_type": "code",
      "metadata": {
        "colab": {
          "base_uri": "https://localhost:8080/",
          "height": 1000
        },
        "id": "-ho9-yD19q9v",
        "outputId": "61a4429c-c314-4aa1-d010-8d9f9c829817"
      },
      "source": [
        "diagnosis_icd10category"
      ],
      "execution_count": 68,
      "outputs": [
        {
          "output_type": "execute_result",
          "data": {
            "text/html": [
              "<div>\n",
              "<style scoped>\n",
              "    .dataframe tbody tr th:only-of-type {\n",
              "        vertical-align: middle;\n",
              "    }\n",
              "\n",
              "    .dataframe tbody tr th {\n",
              "        vertical-align: top;\n",
              "    }\n",
              "\n",
              "    .dataframe thead th {\n",
              "        text-align: right;\n",
              "    }\n",
              "</style>\n",
              "<table border=\"1\" class=\"dataframe\">\n",
              "  <thead>\n",
              "    <tr style=\"text-align: right;\">\n",
              "      <th></th>\n",
              "      <th>HADM_ID</th>\n",
              "      <th>discharge diagnosis:</th>\n",
              "      <th>medical_terms_list</th>\n",
              "      <th>ICD10</th>\n",
              "      <th>icd10category</th>\n",
              "    </tr>\n",
              "  </thead>\n",
              "  <tbody>\n",
              "    <tr>\n",
              "      <th>0</th>\n",
              "      <td>167118.0</td>\n",
              "      <td>discharge diagnosis:  copd, coronary artery disease/atypical angina (lad 30%, rca 30%,  ef 63%), hypercholesterolemia, hypothyroidism, hypertension,  hiatal hernia, cerebral vascular accident,s/p motor vehicle  colision-&gt; head injury &amp; rib fracture.  tbm- s/p tracheoplasty.      discharge condition:  good    discharge instructions:  please update dr.&lt;name&gt; &lt;telephone&gt; office for:  fever,  shortness of breath, chest pain , productive cough or if you  have any questions or concerns.      completed by: &lt;date&gt;</td>\n",
              "      <td>[hypercholesterolemia, cerebral, hypothyroidism, cough, accident, hypertension, artery, chest, vascular, coronary, fracture, injury, angina, pain, head]</td>\n",
              "      <td>[J449, E872]</td>\n",
              "      <td>[E87, J44]</td>\n",
              "    </tr>\n",
              "    <tr>\n",
              "      <th>1</th>\n",
              "      <td>196489.0</td>\n",
              "      <td>discharge diagnosis:  primary:  1. chronic obstructive pulmonary disease exacerbation  2. respiratory failure with intubation  3. upper gastrointestinal bleed/peptic ulcer disease  4. hypertension  5. anxiety    secondary:  1. coronary artery disease  2. hypothyroidism      discharge condition:  mental status: confused - sometimes.  level of consciousness: alert and interactive.  activity status: out of bed with assistance to chair or  wheelchair.      discharge instructions:  you were admitted to the hospital with shortness of breath and  respiratory failure and lethargy. in the emergency department,  you were breathing very fast and a breathing tube was inserted  into your airway to help you breathe. you were admitted to the  intensive care unit. there, you were managed with steroids and  antibiotics and the tube was eventually removed from your  airway, allowing you to breathe on your own. you also underwent  bronchoscopy which looked at the inside of your airways.  .  during your time in the intensive care unit, you developed a  gastrointestinal bleed. a tube was placed into your stomach and  you underwent an endoscopic procedure to look at your esophagus  and stomach. this showed inflammation in your esophagusand  ulcers in your stomach.  .  you should continue to use nasal oxygen by nasal cannula as  needed. you should continue the steroid taper as instructed. you  should call your doctor or return to the emergency room if you  have increasing difficulty breathing or shortness of breath,  wheezing, chest pain, blood in your stool or vomiting blood.  .  there are some changes in your medications.  start pantoprazole 40 mg twice daily and stop omeprazole  start hydrochlorothiazide  start prednisone, taking 30 mg for 3 days, then 20 mg for 4  days, then 10 mg for 4 days, then 5 mg for 4 days, then stop.  start colace and senna as needed for constipation  can use morphine to alleviate symptoms of respiratory discomfort  stop furosemide  stop zolpidem  stop aspirin  increase diovan to 240 mg daily  decrease trazodone to 50 mg daily  .  follow up as indicated below.    followup instructions:  you have an appointment to follow up with dr. &lt;name&gt;, your  primary care physician, &lt;name&gt; [**8-29**] at 1pm. his address is [**location (un) 1822**], [**apartment address(1) 1823**], [**location (un) **],[**numeric identifier 1700**]. the phone is  &lt;telephone&gt;.    you have an appointment to follow up with dr. &lt;name&gt; &lt;name&gt; in  the  &lt;name&gt; at &lt;hospital&gt; on the [**location (un) 453**]. their phone number is  &lt;telephone&gt;.    department: div. of gastroenterology  when: wednesday  &lt;date&gt;  at 3:00 pm  with: &lt;name&gt; &lt;name&gt;, md &lt;telephone&gt;  building: ra &lt;name&gt; (&lt;name&gt;/&lt;name&gt; complex) [**location (un) **]  campus: east     best parking: main garage</td>\n",
              "      <td>[pulmonary, hypertension, of, obstructive, discomfort, gastrointestinal, constipation, oxygen, breath, inflammation, artery, chest, hydrochlorothiazide, steroid, anxiety, omeprazole, senna, trazodone, failure, shortness, disease, pantoprazole, aspirin, hypothyroidism, zolpidem, furosemide, coronary, prednisone, lethargy, steroids, ulcer, chronic, respiratory, morphine, pain]</td>\n",
              "      <td>[E039, N179, I2510, I952, I9581, E785, E872, E784, I10, E870]</td>\n",
              "      <td>[N17, E87, I95, I25, I10, E78, E03]</td>\n",
              "    </tr>\n",
              "    <tr>\n",
              "      <th>2</th>\n",
              "      <td>135453.0</td>\n",
              "      <td>discharge diagnosis:  1. cervical spondylosis with calcification of posterior  longitudinal ligament.  2. fracture dislocation c6-c7.  3. ossification of the posterior longitudinal ligament.  4. aspiration pneumonia      1. cervical spondylosis with calcification of posterior      longitudinal ligament.  2. fracture dislocation c6-c7.  3. ossification of the posterior longitudinal ligament.  4. aspiration pneumonia    1. cervical spondylosis with calcification of posterior      longitudinal ligament.  2. fracture dislocation c6-c7.  3. ossification of the posterior longitudinal ligament.  4. aspiration pneumonia      discharge condition:  stable to outside facility      discharge instructions:  patient has been made cmo at the request of him and his family.  he has a foley placed for urinary retention. please use morphine  as needed for pain and olanzapine as needed for agitiation.  patient has known history of aspiration documented on speech and  swallow. it is the patient and the family's wish for him to  continue to eat and drink as desired.    followup instructions:  follow up with your primary care physician as needed.</td>\n",
              "      <td>[ligament, spondylosis, of, cervical, urinary, posterior, calcification, olanzapine, fracture, pneumonia, dislocation, retention, longitudinal, morphine, pain]</td>\n",
              "      <td>[I4891, I509, F05, Z951, J690]</td>\n",
              "      <td>[Z95, I50, F05, J69, I48]</td>\n",
              "    </tr>\n",
              "    <tr>\n",
              "      <th>3</th>\n",
              "      <td>170490.0</td>\n",
              "      <td>discharge diagnosis:  brain lesion    discharge condition:  mental status: clear and coherent.  level of consciousness: alert and interactive.  activity status: ambulatory - independent.  neuro exam intact.    discharge instructions:  ??????\\thave a friend/family member check your incision daily for  signs of infection.  ??????\\ttake your pain medicine as prescribed.  ??????\\texercise should be limited to walking; no lifting, straining,  or excessive bending.  ??????\\tyou have dissolvable sutures, you must keep that area dry for  10 days.  ??????\\tyou may shower before this time using a shower cap to cover  your head.  ??????\\tincrease your intake of fluids and fiber, as narcotic pain  medicine can cause constipation. we generally recommend taking  an over the counter stool softener, such as docusate (colace)  while taking narcotic pain medication.  ??????\\tunless directed by your doctor, do not take any  anti-inflammatory medicines such as motrin, aspirin, advil, and  ibuprofen etc.  ??????\\tif you have been prescribed dilantin (phenytoin) for  anti-seizure medicine, take it as prescribed and follow up with  laboratory blood drawing in one week.  this can be drawn at your  pcp??????s office, but please have the results faxed to &lt;telephone&gt;.  if you have been discharged on keppra (levetiracetam), you will  not require blood work monitoring.  ??????\\tif you are being sent home on steroid medication, make sure  you are taking a medication to protect your stomach (prilosec,  protonix, or pepcid), as these medications can cause stomach  irritation.  make sure to take your steroid medication with  meals, or a glass of milk.  ??????\\tclearance to drive and return to work will be addressed at  your post-operative office visit.  ??????\\tmake sure to continue to use your incentive spirometer while  at home.  call your surgeon immediately if you experience any of the  following    ??????\\tnew onset of tremors or seizures.  ??????\\tany confusion or change in mental status.  ??????\\tany numbness, tingling, weakness in your extremities.  ??????\\tpain or headache that is continually increasing, or not  relieved by pain medication.  ??????\\tany signs of infection at the wound site: increasing redness,  increased swelling, increased tenderness, or drainage.  ??????\\tfever greater than or equal to 101?????? f.    followup instructions:  ??????\\tplease return to the office in [**6-28**] days (from your date of  surgery) for a wound check. this appointment can be made with  the nurse practitioner.  please make this appointment by calling  &lt;telephone&gt;. if you live quite a distance from our office,  please make arrangements for the same, with your pcp.</td>\n",
              "      <td>[motrin, aspirin, levetiracetam, seizures, weakness, phenytoin, fever, redness, tenderness, docusate, infection, steroid, tingling, confusion, headache, constipation, tremors, numbness, pain]</td>\n",
              "      <td>[K219]</td>\n",
              "      <td>[K21]</td>\n",
              "    </tr>\n",
              "    <tr>\n",
              "      <th>4</th>\n",
              "      <td>134727.0</td>\n",
              "      <td>discharge diagnosis:  pneumonia    discharge condition:  expired    discharge instructions:  na    followup instructions:  na                                 &lt;name&gt; &lt;name&gt; md [**md number(2) 1851**]</td>\n",
              "      <td>[]</td>\n",
              "      <td>[J9600, Z7901, Z9861, J189, I509, I10, J9690]</td>\n",
              "      <td>[J18, Z79, I50, Z98, I10, J96]</td>\n",
              "    </tr>\n",
              "    <tr>\n",
              "      <th>...</th>\n",
              "      <td>...</td>\n",
              "      <td>...</td>\n",
              "      <td>...</td>\n",
              "      <td>...</td>\n",
              "      <td>...</td>\n",
              "    </tr>\n",
              "    <tr>\n",
              "      <th>41962</th>\n",
              "      <td>127716.0</td>\n",
              "      <td>discharge diagnosis:  aortic stenosis and coronary artery disease s/p aortic valve  replacement and coronary artery bypass graft  past medical history:  hypertension  hyperlipidemia  diabetes mellitus  osteoarthritis  phlebitis  lung cancer  hiatal hernia  hypthyroidism  s/p right lobectomy [**2117**]  s/p lymph node dissection in neck  s/p beast lumpectomy  s/p hysterectomy  s/p c section  s/p tonsillectomy      discharge condition:  alert and oriented x3 nonfocal  ambulating, steady gait  incisional pain managed with ultram  incisions:  sternal - healing well, no erythema or drainage  1+ le edema      discharge instructions:  please shower daily including washing incisions gently with mild  soap, no baths or swimming until cleared by surgeon. look at  your incisions daily for redness or drainage  please no lotions, cream, powder, or ointments to incisions  each morning you should weigh yourself and then in the evening  take your temperature, these should be written down on the chart    no driving for one month or while taking narcotics. driving will  be discussed at follow up appointment with surgeon. no lifting  more than 10 pounds for 10 weeks  please call with any questions or concerns &lt;telephone&gt;  females: please wear bra to reduce pulling on incision, avoid  rubbing on lower edge  **please call cardiac surgery office with any questions or  concerns &lt;telephone&gt;. answering service will contact on call  person during off hours**    followup instructions:  you are scheduled for the following appointments  wound care, &lt;name&gt;, &lt;name&gt;  phone:&lt;telephone&gt;  date/time: &lt;date&gt;  10:00    surgeon: dr. &lt;name&gt; &lt;telephone&gt; date/time: &lt;date&gt;  1:15  cardiologist: dr. &lt;name&gt;  &lt;date&gt;  at 3:00p    please call to schedule appointments with your  primary care dr. &lt;name&gt; &lt;name&gt; in &lt;telephone&gt;    **please call cardiac surgery office with any questions or  concerns &lt;telephone&gt;. answering service will contact on call  person during off hours**                                   &lt;name&gt; &lt;name&gt; md [**md number(2) 748**]    completed by: &lt;date&gt;</td>\n",
              "      <td>[artery, redness, edema, coronary, erythema, disease]</td>\n",
              "      <td>[I359, I350, I2510, I2789, I358, E785, I351, E669, E784, E119, I352, I10, I272]</td>\n",
              "      <td>[E66, I25, I35, E11, I10, E78, I27]</td>\n",
              "    </tr>\n",
              "    <tr>\n",
              "      <th>41963</th>\n",
              "      <td>186377.0</td>\n",
              "      <td>discharge diagnosis:  coronary artery disease  pmh:  hypertension, diabetes, copd, diastolic heart failure, ef 45-50%  past surgical history  penile implant      discharge condition:  alert and oriented x3 nonfocal  ambulating, gait steady  sternal pain managed with oral analgesics  sternal incision - healing well, no erythema or drainage  right lower extremity saph site clean/dry/intact      discharge instructions:  please draw bun/cre, inr at least every other day until they  stabilize  please shower daily including washing incisions gently with mild  soap, no baths or swimming, and look at your incisions  please no lotions, cream, powder, or ointments to incisions  each morning you should weigh yourself and then in the evening  take your temperature, these should be written down on the chart  no driving for approximately one month and while taking  narcotics, will be discussed at follow up appointment with  surgeon when you will be able to drive  no lifting more than 10 pounds for 10 weeks  please call with any questions or concerns &lt;telephone&gt;  **please call cardiac surgery office with any questions or  concerns &lt;telephone&gt;. answering service will contact on call  person during off hours**      followup instructions:  you are scheduled for the following appointments:  surgeon dr. &lt;name&gt; &lt;telephone&gt;,  &lt;date&gt;  1:00  cardiologist dr. &lt;name&gt;. &lt;name&gt; office will call you with an  appointment  please call to schedule the following:  primary care dr. &lt;name&gt;,&lt;name&gt; in [**3-8**] weeks  please follow up with dr. &lt;name&gt; &lt;name&gt; call &lt;telephone&gt; to  schedule an appointment  dialysis,schedule hemodialysis unit date/time: &lt;date&gt;  12:00  renal: dr. &lt;name&gt; &lt;telephone&gt;  diabetes: if patient requires endocrine follow-up after  discharge from rehab, please contact &lt;name&gt;, &lt;name&gt; at &lt;hospital&gt;  **please call cardiac surgery office with any questions or  concerns &lt;telephone&gt;. answering service will contact on call  person during off hours**    inr draw on [**8-16**]  goal inr [**1-5**]  indication: atrial fibrillation                                   &lt;name&gt; &lt;name&gt; md [**md number(2) 266**]    completed by: &lt;date&gt;</td>\n",
              "      <td>[atrial, diabetes, diastolic, fibrillation, heart, failure, erythema, clean/dry/intact]</td>\n",
              "      <td>[I214, I2510, I5033, F17200, N390, I129, J918, J449, I4891, I348, I509, A047, I340, N170]</td>\n",
              "      <td>[N17, N39, I12, I50, A04, J91, J44, I25, F17, I34, I48, I21]</td>\n",
              "    </tr>\n",
              "    <tr>\n",
              "      <th>41964</th>\n",
              "      <td>156564.0</td>\n",
              "      <td>discharge diagnosis:  left knee infection  chronic obstructive pulmonary disease exacerbation  acute on chronic kidney injury  congestive heart failure  hypertension      discharge condition:  mental status: clear and coherent.  level of consciousness: alert and interactive.  activity status: out of bed with assistance to chair or  wheelchair.      discharge instructions:  mr. &lt;name&gt;,    you were admitted to the hospital for a infected hardware in  your left knee. our orthopaedics team cleaned out the infection  in your knee and replaced the liner of your prosthesis. they  feel you should follow up with your primary orthopaedic doctor,  dr. &lt;name&gt; &lt;name&gt; at &lt;hospital&gt; (&lt;telephone&gt;), for ongoing  issues about your knee. the cultures of the infection in your  knee grew two different organisms, so we consulted our  infectious disease doctors who recommended a course of iv  antibiotics to help treat your infection. because this infection  occured inside of a joint, a longer course of antibiotics is  required. you went multiple times to the operating room to  wash-out your knee of any remaining infection, and your hardware  was removed. most recently you had a portion of tissue grafted  to your knee to provide for better coverage of your wound, along  with skin graft. your kidney function worsened while you were in  the hospital but it appears to have normalized. this should be  followed up with your primary care physician.    we made the following changes to your medications:  started:  vancomycin (antibiotic)  ceftriaxone (antibiotic)    increased metoprolol for blood pressure    followup instructions:  department: plastic surgery  when: wednesday  &lt;date&gt;  at 3:15 pm  with: &lt;name&gt; &lt;name&gt;, md &lt;telephone&gt;  building: lm &lt;name&gt; bldg (&lt;name&gt;) [**location (un) **]  campus: west     best parking: &lt;name&gt; garage    name: &lt;name&gt;, &lt;name&gt; &lt;name&gt; &lt;name&gt;  location: community physicians associates  address: &lt;hospital&gt;,[**numeric identifier 18406**]  phone: &lt;telephone&gt;  appointment: thursday  &lt;date&gt;  1:15pm    department: infectious disease  when: friday  &lt;date&gt;  at 9:30 am  with: &lt;name&gt; &lt;name&gt;, md &lt;telephone&gt;  building: lm &lt;name&gt; bldg (&lt;name&gt;) &lt;hospital&gt;  campus: west     best parking: &lt;name&gt; garage    name: nabi,&lt;name&gt; md  address: &lt;hospital&gt;,[**numeric identifier 18406**]  phone: &lt;telephone&gt;  **please discuss with the staff at the facility a follow up  appointment with your pcp when you are ready for discharge.      department: plastic surgery  when: wednesday  &lt;date&gt;  at 3:15 pm  with: &lt;name&gt; &lt;name&gt;, md &lt;telephone&gt;  building: lm &lt;name&gt; bldg (&lt;name&gt;) [**location (un) **]  campus: west     best parking: &lt;name&gt; garage    department: infectious disease  when: friday  &lt;date&gt;  at 9:30 am  with: &lt;name&gt; &lt;name&gt;, md &lt;telephone&gt;  building: lm &lt;name&gt; bldg (&lt;name&gt;) &lt;hospital&gt;  campus: west     best parking: &lt;name&gt; garage                                   &lt;name&gt; &lt;name&gt; md [**md number(1) 348**]    completed by: &lt;date&gt;</td>\n",
              "      <td>[pulmonary, infectious, hypertension, kidney, obstructive, heart, injury, failure, metoprolol, infection, disease]</td>\n",
              "      <td>[E1342, E1042, I2510, J449, E1142, I129, G4733, I5032, I509, E0942, D62, Z794, E0842, N170]</td>\n",
              "      <td>[N17, Z79, I12, I50, J44, I25, E08, E10, E11, G47, E09, D62, E13]</td>\n",
              "    </tr>\n",
              "    <tr>\n",
              "      <th>41965</th>\n",
              "      <td>172559.0</td>\n",
              "      <td>discharge diagnosis:  primary:  small bowel obstruction  metastatic prostate cancer  anasarca  malnutrition  dehydration  acute renal failure  aspiration pneumonia  .  secondary:  prostate ca s/p xrt and chemo - rising psa (140), lg rp mass,  oa, lbp, diverticulosis w/ colovesical fistula s/p lar [**5-18**], s/p  ileostomy takedown [**10-18**], open ccy      discharge condition:  stable      discharge instructions:  please call your doctor or return to the er for any of the  following:  * you experience new chest pain, pressure, squeezing or  tightness.  * new or worsening cough or wheezing.  * if you are vomiting and cannot keep in fluids or your  medications.  * you are getting dehydrated due to continued vomiting,  diarrhea or other reasons. signs of dehydration include dry  mouth, rapid heartbeat or feeling dizzy or faint when standing.  * you see blood or dark/black material when you vomit or have a  bowel movement.  * your pain is not improving within 8-12 hours or not gone  within 24 hours. call or return immediately if your pain is  getting worse or is changing location or moving to your chest or    back.  *avoid lifting objects &gt; 5lbs until your follow-up appointment  with the surgeon.  *avoid driving or operating heavy machinery while taking pain  medications.  * you have shaking chills, or a fever greater than 101.5 (f)  degrees or 38(c) degrees.  * any serious change in your symptoms, or any new symptoms that  concern you.  * please resume all regular home medications and take any new  meds  as ordered.  * continue to ambulate several times per day.  .  incision care:  -your staples will be removed at your follow-up appointment with  the surgeon, and steri strips will be applied.  -your steri-strips will fall off on their own. please remove any  remaining strips 7-10 days after surgery.  -you may shower, and wash surgical incisions.  -avoid swimming and baths until your follow-up appointment.  -please call the doctor if you have increased pain, swelling,  redness, or drainage from the incision sites.      followup instructions:  1. please follow-up appointment with dr. &lt;name&gt; (&lt;telephone&gt; on  &lt;date&gt;  at 1:15pm for removal of your staples.  2. you have follow-up appointment with dr. &lt;name&gt; &lt;name&gt;, md  phone:&lt;telephone&gt; date/time: &lt;date&gt;  11:00, and chemotherapy at  provider: &lt;name&gt; &lt;name&gt;, rn phone:&lt;telephone&gt; date/time: &lt;date&gt;   12:00  3. provider: &lt;name&gt;,&lt;name&gt; &lt;name&gt; apg (sb)  phone:&lt;telephone&gt; date/time: &lt;date&gt;  10:10                                 &lt;name&gt; &lt;name&gt; md [**md number(1) 17**]    completed by: &lt;date&gt;</td>\n",
              "      <td>[dehydration, obstruction, cough, diverticulosis, fever, chest, vomiting, telephone, bowel, swelling, chills, prostate, colovesical, wheezing, phone, vomit, fistula, pain, cancer]</td>\n",
              "      <td>[I4892, R001, I498, N189, E860, J690]</td>\n",
              "      <td>[E86, R00, I48, I49, J69, N18]</td>\n",
              "    </tr>\n",
              "    <tr>\n",
              "      <th>41966</th>\n",
              "      <td>135672.0</td>\n",
              "      <td>discharge diagnosis:  peritonitis secondary to small bowel perforation.  cmv enteritis  b-cell lymphoma  line infection  type 2 diabetes controlled without complications  moderate malnutrition  cad bypass vessle      discharge condition:  stable.  tolerating regular diet  pain well controlled with oral medications.      discharge instructions:  you are being discharged on an antiviral medication called  ganciclovir, which can make your diarhea worse for some time.  please contact your doctor if you experience numbness, tingling  or pain in hands or feet, as this may be a side effect of the  medication.    you will be having labs drawn every other day and sent to dr.  &lt;name&gt; of infectious diseases for monitoring of your blood  counts.    *avoid lifting objects &gt; 5lbs until your follow-up appointment  with the surgeon.    *avoid driving or operating heavy machinery while taking pain  medications.    * continue to ambulate several times per day.    incision care:  -your staples will be removed at your follow up appoinetment.  -steri-strips will be applied and will fall off on their own.  please remove any remaining strips 7-10 days after application.  -you may shower, and wash surgical incisions.  -avoid swimming and baths until your follow-up appointment.  -please call the doctor if you have increased pain, swelling,  redness, or drainage from the incision sites.    followup instructions:  you will need to have an ophthalmalogic evaluation to make sure  that there is no evidence of cmv infection of the retina - this  should happen this week.  please call: (&lt;telephone&gt; to  schedule this appointment; if you have any difficulty arranging  this, please discuss this with your primary doctor so that they  can facilitate/arrange this evaluation.    1. please call dr.&lt;name&gt; office, &lt;telephone&gt;, to make a  follow up appointment in [**11-23**] weeks.  scheduled appointments :  provider: &lt;name&gt; &lt;name&gt;, &lt;telephone&gt;  date/time: &lt;date&gt;  10:30  provider: &lt;name&gt; &lt;name&gt;, rn phone:&lt;telephone&gt;  date/time: &lt;date&gt;  11:00  provider: &lt;name&gt; chair 6  date/time: &lt;date&gt;  11:00                                   &lt;name&gt; &lt;name&gt; md [**md number(2) 431**]    completed by: &lt;date&gt;</td>\n",
              "      <td>[infectious, telephone, bowel, swelling, diseases, phone, perforation, small, infection, numbness, pain]</td>\n",
              "      <td>[N179, E785, R6521, E784, E119, I10, Z951, A419, R6520]</td>\n",
              "      <td>[R65, Z95, N17, A41, E11, I10, E78]</td>\n",
              "    </tr>\n",
              "  </tbody>\n",
              "</table>\n",
              "<p>41967 rows × 5 columns</p>\n",
              "</div>"
            ],
            "text/plain": [
              "        HADM_ID  ...                                                      icd10category\n",
              "0      167118.0  ...                                                         [E87, J44]\n",
              "1      196489.0  ...                                [N17, E87, I95, I25, I10, E78, E03]\n",
              "2      135453.0  ...                                          [Z95, I50, F05, J69, I48]\n",
              "3      170490.0  ...                                                              [K21]\n",
              "4      134727.0  ...                                     [J18, Z79, I50, Z98, I10, J96]\n",
              "...         ...  ...                                                                ...\n",
              "41962  127716.0  ...                                [E66, I25, I35, E11, I10, E78, I27]\n",
              "41963  186377.0  ...       [N17, N39, I12, I50, A04, J91, J44, I25, F17, I34, I48, I21]\n",
              "41964  156564.0  ...  [N17, Z79, I12, I50, J44, I25, E08, E10, E11, G47, E09, D62, E13]\n",
              "41965  172559.0  ...                                     [E86, R00, I48, I49, J69, N18]\n",
              "41966  135672.0  ...                                [R65, Z95, N17, A41, E11, I10, E78]\n",
              "\n",
              "[41967 rows x 5 columns]"
            ]
          },
          "metadata": {
            "tags": []
          },
          "execution_count": 68
        }
      ]
    },
    {
      "cell_type": "code",
      "metadata": {
        "id": "12wWECagBvhx"
      },
      "source": [
        "frequent_icd10category = ['I10', 'I25', 'E78', 'I50', 'I48', 'N17', 'E87', 'E11', 'J96', 'N39']"
      ],
      "execution_count": 69,
      "outputs": []
    },
    {
      "cell_type": "code",
      "metadata": {
        "colab": {
          "base_uri": "https://localhost:8080/",
          "height": 699
        },
        "id": "JJswrIqA9q54",
        "outputId": "b8534512-b1d1-4232-dd2a-0aaea118c97e"
      },
      "source": [
        "category_med_terms={}\r\n",
        "common_diagnosis_terms=[\"monday\",\"telephone\",\"of\",\"phone\"]\r\n",
        "for i in frequent_icd10category:\r\n",
        "    diagnosis_x=diagnosis_icd10category.loc[diagnosis_icd10category.icd10category.apply(lambda x: i in x)].copy()\r\n",
        "    y=diagnosis_x.medical_terms_list.to_list()    \r\n",
        "    z=[list(set(a)) for a in y]\r\n",
        "    z1=[a for b in z for a in b]\r\n",
        "    dict_med=dict(Counter(z1))\r\n",
        "    dict_med=dict(sorted(dict_med.items(),key= lambda x: x[1],reverse=True))\r\n",
        "    dict_med_list=list(dict_med)\r\n",
        "    dict_med_list1=[a for a in dict_med_list if a not in common_diagnosis_terms]\r\n",
        "    category_med_terms[i]=dict_med_list1[:50]\r\n",
        "\r\n",
        "diagnosis_icdcategory_medterms={'icd10category':[i for i in category_med_terms],\r\n",
        "                                'frequent_medterms':[category_med_terms[i] for i in category_med_terms]}\r\n",
        "diagnosis_icdcategory_medterms_df=pd.DataFrame.from_dict(diagnosis_icdcategory_medterms)\r\n",
        "\r\n",
        "diagnosis_icdcategory_medterms_df"
      ],
      "execution_count": 70,
      "outputs": [
        {
          "output_type": "execute_result",
          "data": {
            "text/html": [
              "<div>\n",
              "<style scoped>\n",
              "    .dataframe tbody tr th:only-of-type {\n",
              "        vertical-align: middle;\n",
              "    }\n",
              "\n",
              "    .dataframe tbody tr th {\n",
              "        vertical-align: top;\n",
              "    }\n",
              "\n",
              "    .dataframe thead th {\n",
              "        text-align: right;\n",
              "    }\n",
              "</style>\n",
              "<table border=\"1\" class=\"dataframe\">\n",
              "  <thead>\n",
              "    <tr style=\"text-align: right;\">\n",
              "      <th></th>\n",
              "      <th>icd10category</th>\n",
              "      <th>frequent_medterms</th>\n",
              "    </tr>\n",
              "  </thead>\n",
              "  <tbody>\n",
              "    <tr>\n",
              "      <th>0</th>\n",
              "      <td>I10</td>\n",
              "      <td>[pain, fever, chest, shortness, infection, breath, redness, aspirin, hypertension, atrial, fibrillation, chills, disease, coumadin, bleeding, failure, pneumonia, vomiting, fevers, constipation, swelling, nausea, abdominal, heart, diabetes, erythema, cough, weakness, anemia, metoprolol, headache, confusion, mouth, numbness, weight, diarrhea, gain, lisinopril, loss, cancer, blood, infarction, seizures, pulmonary, myocardial, stroke, bleed, motrin, artery, tylenol]</td>\n",
              "    </tr>\n",
              "    <tr>\n",
              "      <th>1</th>\n",
              "      <td>I25</td>\n",
              "      <td>[pain, chest, fever, shortness, infection, breath, disease, redness, atrial, failure, fibrillation, aspirin, heart, coumadin, hypertension, myocardial, infarction, erythema, bleeding, weight, chills, gain, diabetes, metoprolol, artery, renal, coronary, pneumonia, fevers, lisinopril, anemia, vomiting, sodium, chronic, nausea, mellitus, abdominal, constipation, pulmonary, swelling, edema, cough, mouth, congestive, cholesterol, bleed, cancer, blood, loss, diarrhea]</td>\n",
              "    </tr>\n",
              "    <tr>\n",
              "      <th>2</th>\n",
              "      <td>E78</td>\n",
              "      <td>[pain, fever, chest, infection, shortness, breath, redness, aspirin, atrial, disease, fibrillation, failure, coumadin, hypertension, bleeding, chills, heart, erythema, pneumonia, diabetes, constipation, vomiting, fevers, metoprolol, swelling, weight, renal, gain, nausea, anemia, abdominal, infarction, myocardial, lisinopril, cough, mouth, weakness, cancer, artery, confusion, mellitus, headache, pulmonary, loss, chronic, hyperlipidemia, diarrhea, blood, numbness, tylenol]</td>\n",
              "    </tr>\n",
              "    <tr>\n",
              "      <th>3</th>\n",
              "      <td>I50</td>\n",
              "      <td>[pain, failure, shortness, chest, heart, breath, atrial, fibrillation, disease, infection, fever, pneumonia, coumadin, chills, renal, hypertension, fevers, sodium, aspirin, metoprolol, bleeding, chronic, anemia, congestive, diabetes, redness, pulmonary, vomiting, nausea, lisinopril, abdominal, oxygen, myocardial, infarction, respiratory, artery, systolic, coronary, mouth, urinary, cough, blood, mellitus, swelling, tract, bleed, weight, acute, diarrhea, gain]</td>\n",
              "    </tr>\n",
              "    <tr>\n",
              "      <th>4</th>\n",
              "      <td>I48</td>\n",
              "      <td>[atrial, pain, fibrillation, coumadin, shortness, chest, fever, failure, infection, breath, disease, heart, redness, pneumonia, chills, aspirin, hypertension, bleeding, metoprolol, renal, fevers, anemia, erythema, vomiting, abdominal, sodium, weight, gain, nausea, chronic, diabetes, pulmonary, warfarin, constipation, bleed, stroke, cough, swelling, cancer, mouth, diarrhea, artery, urinary, congestive, blood, tract, respiratory, oxygen, lisinopril, amiodarone]</td>\n",
              "    </tr>\n",
              "    <tr>\n",
              "      <th>5</th>\n",
              "      <td>N17</td>\n",
              "      <td>[pain, failure, shortness, chest, infection, breath, renal, disease, pneumonia, fever, atrial, chills, fibrillation, heart, fevers, chronic, hypertension, vomiting, bleeding, acute, abdominal, coumadin, anemia, nausea, diabetes, aspirin, metoprolol, kidney, diarrhea, sodium, respiratory, mouth, urinary, lisinopril, tract, blood, pulmonary, cough, cancer, redness, sepsis, swelling, oxygen, constipation, bleed, loss, confusion, congestive, mellitus, dizziness]</td>\n",
              "    </tr>\n",
              "    <tr>\n",
              "      <th>6</th>\n",
              "      <td>E87</td>\n",
              "      <td>[pain, infection, shortness, failure, chest, breath, pneumonia, fever, disease, chills, atrial, fibrillation, fevers, renal, bleeding, vomiting, hypertension, abdominal, heart, nausea, aspirin, anemia, coumadin, chronic, diabetes, diarrhea, metoprolol, respiratory, mouth, sodium, constipation, redness, confusion, urinary, swelling, acute, cough, tract, alcohol, blood, pulmonary, cancer, lisinopril, oxygen, kidney, loss, bleed, sepsis, weakness, seizures]</td>\n",
              "    </tr>\n",
              "    <tr>\n",
              "      <th>7</th>\n",
              "      <td>E11</td>\n",
              "      <td>[pain, shortness, chest, fever, breath, infection, failure, diabetes, disease, chills, atrial, fibrillation, redness, heart, aspirin, hypertension, bleeding, coumadin, fevers, pneumonia, mellitus, vomiting, renal, nausea, abdominal, metoprolol, anemia, constipation, swelling, chronic, sodium, cough, erythema, mouth, lisinopril, diarrhea, blood, confusion, artery, weight, pulmonary, infarction, gain, bleed, weakness, myocardial, respiratory, oxygen, urinary, loss]</td>\n",
              "    </tr>\n",
              "    <tr>\n",
              "      <th>8</th>\n",
              "      <td>J96</td>\n",
              "      <td>[pain, pneumonia, failure, shortness, breath, chest, respiratory, infection, disease, fever, chills, atrial, fibrillation, fevers, heart, hypertension, renal, vomiting, oxygen, pulmonary, nausea, anemia, cough, abdominal, aspirin, coumadin, bleeding, chronic, metoprolol, mouth, diarrhea, diabetes, sepsis, cancer, constipation, confusion, acute, sodium, swelling, prednisone, arrest, urinary, weakness, blood, lisinopril, lung, redness, tract, obstructive, seizures]</td>\n",
              "    </tr>\n",
              "    <tr>\n",
              "      <th>9</th>\n",
              "      <td>N39</td>\n",
              "      <td>[pain, infection, urinary, tract, shortness, chest, breath, fever, failure, disease, atrial, fibrillation, chills, pneumonia, fevers, bleeding, aspirin, coumadin, hypertension, renal, heart, vomiting, anemia, nausea, abdominal, redness, constipation, chronic, confusion, diarrhea, metoprolol, diabetes, weakness, swelling, mouth, sodium, blood, cancer, seizures, respiratory, bleed, stroke, cough, pulmonary, loss, headache, numbness, acute, fracture, sepsis]</td>\n",
              "    </tr>\n",
              "  </tbody>\n",
              "</table>\n",
              "</div>"
            ],
            "text/plain": [
              "  icd10category                                                                                                                                                                                                                                                                                                                                                                                                                                                                            frequent_medterms\n",
              "0           I10           [pain, fever, chest, shortness, infection, breath, redness, aspirin, hypertension, atrial, fibrillation, chills, disease, coumadin, bleeding, failure, pneumonia, vomiting, fevers, constipation, swelling, nausea, abdominal, heart, diabetes, erythema, cough, weakness, anemia, metoprolol, headache, confusion, mouth, numbness, weight, diarrhea, gain, lisinopril, loss, cancer, blood, infarction, seizures, pulmonary, myocardial, stroke, bleed, motrin, artery, tylenol]\n",
              "1           I25           [pain, chest, fever, shortness, infection, breath, disease, redness, atrial, failure, fibrillation, aspirin, heart, coumadin, hypertension, myocardial, infarction, erythema, bleeding, weight, chills, gain, diabetes, metoprolol, artery, renal, coronary, pneumonia, fevers, lisinopril, anemia, vomiting, sodium, chronic, nausea, mellitus, abdominal, constipation, pulmonary, swelling, edema, cough, mouth, congestive, cholesterol, bleed, cancer, blood, loss, diarrhea]\n",
              "2           E78  [pain, fever, chest, infection, shortness, breath, redness, aspirin, atrial, disease, fibrillation, failure, coumadin, hypertension, bleeding, chills, heart, erythema, pneumonia, diabetes, constipation, vomiting, fevers, metoprolol, swelling, weight, renal, gain, nausea, anemia, abdominal, infarction, myocardial, lisinopril, cough, mouth, weakness, cancer, artery, confusion, mellitus, headache, pulmonary, loss, chronic, hyperlipidemia, diarrhea, blood, numbness, tylenol]\n",
              "3           I50               [pain, failure, shortness, chest, heart, breath, atrial, fibrillation, disease, infection, fever, pneumonia, coumadin, chills, renal, hypertension, fevers, sodium, aspirin, metoprolol, bleeding, chronic, anemia, congestive, diabetes, redness, pulmonary, vomiting, nausea, lisinopril, abdominal, oxygen, myocardial, infarction, respiratory, artery, systolic, coronary, mouth, urinary, cough, blood, mellitus, swelling, tract, bleed, weight, acute, diarrhea, gain]\n",
              "4           I48              [atrial, pain, fibrillation, coumadin, shortness, chest, fever, failure, infection, breath, disease, heart, redness, pneumonia, chills, aspirin, hypertension, bleeding, metoprolol, renal, fevers, anemia, erythema, vomiting, abdominal, sodium, weight, gain, nausea, chronic, diabetes, pulmonary, warfarin, constipation, bleed, stroke, cough, swelling, cancer, mouth, diarrhea, artery, urinary, congestive, blood, tract, respiratory, oxygen, lisinopril, amiodarone]\n",
              "5           N17               [pain, failure, shortness, chest, infection, breath, renal, disease, pneumonia, fever, atrial, chills, fibrillation, heart, fevers, chronic, hypertension, vomiting, bleeding, acute, abdominal, coumadin, anemia, nausea, diabetes, aspirin, metoprolol, kidney, diarrhea, sodium, respiratory, mouth, urinary, lisinopril, tract, blood, pulmonary, cough, cancer, redness, sepsis, swelling, oxygen, constipation, bleed, loss, confusion, congestive, mellitus, dizziness]\n",
              "6           E87                   [pain, infection, shortness, failure, chest, breath, pneumonia, fever, disease, chills, atrial, fibrillation, fevers, renal, bleeding, vomiting, hypertension, abdominal, heart, nausea, aspirin, anemia, coumadin, chronic, diabetes, diarrhea, metoprolol, respiratory, mouth, sodium, constipation, redness, confusion, urinary, swelling, acute, cough, tract, alcohol, blood, pulmonary, cancer, lisinopril, oxygen, kidney, loss, bleed, sepsis, weakness, seizures]\n",
              "7           E11          [pain, shortness, chest, fever, breath, infection, failure, diabetes, disease, chills, atrial, fibrillation, redness, heart, aspirin, hypertension, bleeding, coumadin, fevers, pneumonia, mellitus, vomiting, renal, nausea, abdominal, metoprolol, anemia, constipation, swelling, chronic, sodium, cough, erythema, mouth, lisinopril, diarrhea, blood, confusion, artery, weight, pulmonary, infarction, gain, bleed, weakness, myocardial, respiratory, oxygen, urinary, loss]\n",
              "8           J96          [pain, pneumonia, failure, shortness, breath, chest, respiratory, infection, disease, fever, chills, atrial, fibrillation, fevers, heart, hypertension, renal, vomiting, oxygen, pulmonary, nausea, anemia, cough, abdominal, aspirin, coumadin, bleeding, chronic, metoprolol, mouth, diarrhea, diabetes, sepsis, cancer, constipation, confusion, acute, sodium, swelling, prednisone, arrest, urinary, weakness, blood, lisinopril, lung, redness, tract, obstructive, seizures]\n",
              "9           N39                  [pain, infection, urinary, tract, shortness, chest, breath, fever, failure, disease, atrial, fibrillation, chills, pneumonia, fevers, bleeding, aspirin, coumadin, hypertension, renal, heart, vomiting, anemia, nausea, abdominal, redness, constipation, chronic, confusion, diarrhea, metoprolol, diabetes, weakness, swelling, mouth, sodium, blood, cancer, seizures, respiratory, bleed, stroke, cough, pulmonary, loss, headache, numbness, acute, fracture, sepsis]"
            ]
          },
          "metadata": {
            "tags": []
          },
          "execution_count": 70
        }
      ]
    },
    {
      "cell_type": "code",
      "metadata": {
        "id": "7LUg1NM49qsv"
      },
      "source": [
        "bagofwords=list(set([a for b in diagnosis_icdcategory_medterms_df.frequent_medterms.to_list() for a in b]))"
      ],
      "execution_count": 71,
      "outputs": []
    },
    {
      "cell_type": "code",
      "metadata": {
        "id": "dige6yxAD1UR"
      },
      "source": [
        "simi_matrix=np.zeros((len(bagofwords),len(bagofwords)))"
      ],
      "execution_count": 72,
      "outputs": []
    },
    {
      "cell_type": "code",
      "metadata": {
        "colab": {
          "base_uri": "https://localhost:8080/"
        },
        "id": "yjbBulauEE_C",
        "outputId": "60a445c3-ca67-4d75-aed6-cf8728c4ada8"
      },
      "source": [
        "simi_matrix.shape"
      ],
      "execution_count": 73,
      "outputs": [
        {
          "output_type": "execute_result",
          "data": {
            "text/plain": [
              "(76, 76)"
            ]
          },
          "metadata": {
            "tags": []
          },
          "execution_count": 73
        }
      ]
    },
    {
      "cell_type": "code",
      "metadata": {
        "colab": {
          "base_uri": "https://localhost:8080/"
        },
        "id": "4HylygWREE6g",
        "outputId": "e60b94d0-a20e-45ce-8a05-f4abb41cac24"
      },
      "source": [
        "for i in tqdm(range(len(bagofwords))):\r\n",
        "  for j in range(len(bagofwords)):\r\n",
        "    simi_matrix[i][j]=model.similarity(bagofwords[i],bagofwords[j])"
      ],
      "execution_count": 74,
      "outputs": [
        {
          "output_type": "stream",
          "text": [
            "100%|██████████| 76/76 [00:00<00:00, 585.72it/s]\n"
          ],
          "name": "stderr"
        }
      ]
    },
    {
      "cell_type": "code",
      "metadata": {
        "id": "6qssXgGzEE1m"
      },
      "source": [
        "features={}\r\n",
        "for i in range(len(bagofwords)-1):\r\n",
        "  similar=[]\r\n",
        "  for j in range(i+1,len(bagofwords)):\r\n",
        "    if simi_matrix[i][j]>=0.7:\r\n",
        "      similar.append(bagofwords[j])\r\n",
        "  features[bagofwords[i]]=similar\r\n",
        "features[bagofwords[-1]]=[]    \r\n"
      ],
      "execution_count": 75,
      "outputs": []
    },
    {
      "cell_type": "code",
      "metadata": {
        "colab": {
          "base_uri": "https://localhost:8080/"
        },
        "id": "wH0RIJ5NEEwS",
        "outputId": "2fbdeaa4-ff54-4918-d78d-bd4f269bcaca"
      },
      "source": [
        "len(features)"
      ],
      "execution_count": 76,
      "outputs": [
        {
          "output_type": "execute_result",
          "data": {
            "text/plain": [
              "76"
            ]
          },
          "metadata": {
            "tags": []
          },
          "execution_count": 76
        }
      ]
    },
    {
      "cell_type": "code",
      "metadata": {
        "id": "sHQCIoRbEEsA"
      },
      "source": [
        "features_list=[features[k]+[k] for k in list(features)]"
      ],
      "execution_count": 77,
      "outputs": []
    },
    {
      "cell_type": "code",
      "metadata": {
        "id": "BrH8EhkBEEmd"
      },
      "source": [
        "condensed_feature = list(merge_common(features_list)) "
      ],
      "execution_count": 78,
      "outputs": []
    },
    {
      "cell_type": "code",
      "metadata": {
        "id": "Z4Bj8fCvEEbi"
      },
      "source": [
        "condensed_feature_dict={}\r\n",
        "count=0\r\n",
        "for i in condensed_feature:\r\n",
        "  condensed_feature_dict['f'+str(count)]=i\r\n",
        "  count+=1"
      ],
      "execution_count": 79,
      "outputs": []
    },
    {
      "cell_type": "code",
      "metadata": {
        "id": "lVOAQdFwEEQI"
      },
      "source": [
        "all_vocab=[a for b in condensed_feature for a in b]"
      ],
      "execution_count": 80,
      "outputs": []
    },
    {
      "cell_type": "code",
      "metadata": {
        "colab": {
          "base_uri": "https://localhost:8080/",
          "height": 115,
          "referenced_widgets": [
            "6f40872cfc4c40afa6005a2d8ce549d5",
            "6adb6c02b6af43c7b9114293e96f696c",
            "0ba286c32d76479087cf957396624799",
            "978ba63e520f4a12a443333d1e9e6ef0",
            "dfacc199e5644aff8cc2f66fe74e9459",
            "116340b53d7c43bcb8577cfd1e8bd38e",
            "7f377426ce8b4a37b6ef4ccc37f8784e",
            "c415a83453d54667b589abf1de8ee44a",
            "5c38c43409ca46d99ddc9b9f9acf24ba",
            "7f27459050f14cf88cd71d2504abd293",
            "6b088b0cec994ebbb6e6a79c947a7556",
            "c738836c437046f39eab9da6f4b5e0d2",
            "5ae0003d7dac4ac19056e055ab1d3d08",
            "6fd9892a41a644e1a57d7fc4dc563a41",
            "1742aa658208476390421eedc71b7402",
            "77a861bcf7ac4cd785fcb64d4e21aa90"
          ]
        },
        "id": "9IUPH-dzHFtC",
        "outputId": "a0077bdd-d23f-43aa-f3e8-9f2204618796"
      },
      "source": [
        "diagnosis_icd10category['med_terms_condensed']=diagnosis_icd10category.medical_terms_list.progress_apply(lambda x:list(set(x).intersection(set(all_vocab))))\n",
        "diagnosis_icd10category['features']=diagnosis_icd10category.med_terms_condensed.progress_apply(lambda x:return_feature(x))"
      ],
      "execution_count": 81,
      "outputs": [
        {
          "output_type": "display_data",
          "data": {
            "application/vnd.jupyter.widget-view+json": {
              "model_id": "6f40872cfc4c40afa6005a2d8ce549d5",
              "version_minor": 0,
              "version_major": 2
            },
            "text/plain": [
              "HBox(children=(FloatProgress(value=0.0, max=41967.0), HTML(value='')))"
            ]
          },
          "metadata": {
            "tags": []
          }
        },
        {
          "output_type": "stream",
          "text": [
            "\n"
          ],
          "name": "stdout"
        },
        {
          "output_type": "display_data",
          "data": {
            "application/vnd.jupyter.widget-view+json": {
              "model_id": "5c38c43409ca46d99ddc9b9f9acf24ba",
              "version_minor": 0,
              "version_major": 2
            },
            "text/plain": [
              "HBox(children=(FloatProgress(value=0.0, max=41967.0), HTML(value='')))"
            ]
          },
          "metadata": {
            "tags": []
          }
        },
        {
          "output_type": "stream",
          "text": [
            "\n"
          ],
          "name": "stdout"
        }
      ]
    },
    {
      "cell_type": "code",
      "metadata": {
        "colab": {
          "base_uri": "https://localhost:8080/",
          "height": 66,
          "referenced_widgets": [
            "4b434a78110a4c8cb1b9331ebfd29745",
            "aaf54691af354f5aa01c4352b4eb45ed",
            "5c58de2736614d9783cbff47d206bc87",
            "b292cb3b645a4890acb9d2aeda0f92d4",
            "f0b6a5042a2b4b4385c4028561d19ffd",
            "78fc9961607340a9a5dabc099d33e9ba",
            "1341b264f9b84d4faa647d99448eb859",
            "afa3a035c8634a939dbee42500734dbe"
          ]
        },
        "id": "m3_Ml0grHFkH",
        "outputId": "7a66eed2-ac15-4793-a6ca-34941ee39a52"
      },
      "source": [
        "diagnosis_icdcategory_medterms_df['feature']=diagnosis_icdcategory_medterms_df.frequent_medterms.progress_apply(lambda x:return_feature(x))"
      ],
      "execution_count": 82,
      "outputs": [
        {
          "output_type": "display_data",
          "data": {
            "application/vnd.jupyter.widget-view+json": {
              "model_id": "4b434a78110a4c8cb1b9331ebfd29745",
              "version_minor": 0,
              "version_major": 2
            },
            "text/plain": [
              "HBox(children=(FloatProgress(value=0.0, max=10.0), HTML(value='')))"
            ]
          },
          "metadata": {
            "tags": []
          }
        },
        {
          "output_type": "stream",
          "text": [
            "\n"
          ],
          "name": "stdout"
        }
      ]
    },
    {
      "cell_type": "code",
      "metadata": {
        "id": "bldqNOqBHFfz"
      },
      "source": [
        "def predict_icd(x):\r\n",
        "  category_weights={}\r\n",
        "  if len(x):\r\n",
        "    for item1 in frequent_icd10category:\r\n",
        "      category_features=[a for b in diagnosis_icdcategory_medterms_df.loc[diagnosis_icdcategory_medterms_df.icd10category==item1].feature.to_list() for a in b]\r\n",
        "      count=len(list(set(x).intersection(set(category_features))))\r\n",
        "      category_weights[item1]=count/len(x)/len(category_features)\r\n",
        "  else:\r\n",
        "    for item1 in frequent_icd10category:\r\n",
        "      category_weights[item1]=0.0\r\n",
        "\r\n",
        "      \r\n",
        "  return category_weights\r\n",
        "  "
      ],
      "execution_count": 83,
      "outputs": []
    },
    {
      "cell_type": "code",
      "metadata": {
        "colab": {
          "base_uri": "https://localhost:8080/",
          "height": 115,
          "referenced_widgets": [
            "22614c07f67944fda790e8eb92684ee1",
            "b4a6923f1f3f4e41994e698f9c888efe",
            "6c3a7ee240eb4855859841566195c191",
            "74f88d3b067744e3ba8bf15c291f9927",
            "a9a1ddbf0b3b404ea7757c02ba73bb19",
            "75a516f44e28492dafcf7b4e927708c7",
            "27caa45c6ca84ed58c9ea4b9fae2ce92",
            "93a52d12e530475da1a37c28f4168058",
            "595f4b81abaa4417b81614defd91ade4",
            "b98b20eebaaf4c8499d08f1c5b5caf78",
            "0bd0f9c1ce1d405f9100e8e5673bb875",
            "2ab597ece84e41d5b15d66015a96ebf7",
            "fdf290e343774b8da03c6b47237ba7ff",
            "ef942876bf88498bb21cff6e6d375677",
            "ff37cb4358cc47beab117175cbf968bb",
            "fa20f2b749bb434486e554bec1881fe9"
          ]
        },
        "id": "iyobkpQLHFbY",
        "outputId": "508cadd0-7f55-4424-cc16-33da166b0ef4"
      },
      "source": [
        "diagnosis_icd10category['predicted_icd_weigths']=diagnosis_icd10category.features.progress_apply(lambda x:predict_icd(x))\n",
        "diagnosis_icd10category['predicted_icd']=diagnosis_icd10category.predicted_icd_weigths.progress_apply(predictbasedonwts)"
      ],
      "execution_count": 84,
      "outputs": [
        {
          "output_type": "display_data",
          "data": {
            "application/vnd.jupyter.widget-view+json": {
              "model_id": "22614c07f67944fda790e8eb92684ee1",
              "version_minor": 0,
              "version_major": 2
            },
            "text/plain": [
              "HBox(children=(FloatProgress(value=0.0, max=41967.0), HTML(value='')))"
            ]
          },
          "metadata": {
            "tags": []
          }
        },
        {
          "output_type": "stream",
          "text": [
            "\n"
          ],
          "name": "stdout"
        },
        {
          "output_type": "display_data",
          "data": {
            "application/vnd.jupyter.widget-view+json": {
              "model_id": "595f4b81abaa4417b81614defd91ade4",
              "version_minor": 0,
              "version_major": 2
            },
            "text/plain": [
              "HBox(children=(FloatProgress(value=0.0, max=41967.0), HTML(value='')))"
            ]
          },
          "metadata": {
            "tags": []
          }
        },
        {
          "output_type": "stream",
          "text": [
            "\n"
          ],
          "name": "stdout"
        }
      ]
    },
    {
      "cell_type": "code",
      "metadata": {
        "id": "ou8WihqoJT9d"
      },
      "source": [
        "result_predict={'category':[],'precision':[],'recall':[],'f1':[]}\r\n",
        "for i in frequent_icd10category:\r\n",
        "  actual_p=diagnosis_icd10category.loc[diagnosis_icd10category.icd10category.apply(lambda x:i in x)].HADM_ID.count()\r\n",
        "  tp=diagnosis_icd10category.loc[(diagnosis_icd10category.icd10category.apply(lambda x:i in x))&(diagnosis_icd10category.predicted_icd.apply(lambda x:i in x))].HADM_ID.count()\r\n",
        "  predict_p=diagnosis_icd10category.loc[diagnosis_icd10category.predicted_icd.apply(lambda x:i in x)].HADM_ID.count()\r\n",
        "  precision=tp/predict_p\r\n",
        "  recall=tp/actual_p\r\n",
        "  f1=2*precision*recall/(precision+recall)\r\n",
        "  result_predict['category'].append(i)\r\n",
        "  result_predict['precision'].append(precision)\r\n",
        "  result_predict['recall'].append(recall)\r\n",
        "  result_predict['f1'].append(f1)"
      ],
      "execution_count": 85,
      "outputs": []
    },
    {
      "cell_type": "code",
      "metadata": {
        "colab": {
          "base_uri": "https://localhost:8080/"
        },
        "id": "H0pvKqlEJT4-",
        "outputId": "7a50a873-159e-47d4-8721-31321d501ec9"
      },
      "source": [
        "pd.DataFrame.from_dict(result_predict)"
      ],
      "execution_count": 86,
      "outputs": [
        {
          "output_type": "execute_result",
          "data": {
            "text/html": [
              "<div>\n",
              "<style scoped>\n",
              "    .dataframe tbody tr th:only-of-type {\n",
              "        vertical-align: middle;\n",
              "    }\n",
              "\n",
              "    .dataframe tbody tr th {\n",
              "        vertical-align: top;\n",
              "    }\n",
              "\n",
              "    .dataframe thead th {\n",
              "        text-align: right;\n",
              "    }\n",
              "</style>\n",
              "<table border=\"1\" class=\"dataframe\">\n",
              "  <thead>\n",
              "    <tr style=\"text-align: right;\">\n",
              "      <th></th>\n",
              "      <th>category</th>\n",
              "      <th>precision</th>\n",
              "      <th>recall</th>\n",
              "      <th>f1</th>\n",
              "    </tr>\n",
              "  </thead>\n",
              "  <tbody>\n",
              "    <tr>\n",
              "      <th>0</th>\n",
              "      <td>I10</td>\n",
              "      <td>0.418209</td>\n",
              "      <td>0.853474</td>\n",
              "      <td>0.561351</td>\n",
              "    </tr>\n",
              "    <tr>\n",
              "      <th>1</th>\n",
              "      <td>I25</td>\n",
              "      <td>0.299332</td>\n",
              "      <td>0.875290</td>\n",
              "      <td>0.446104</td>\n",
              "    </tr>\n",
              "    <tr>\n",
              "      <th>2</th>\n",
              "      <td>E78</td>\n",
              "      <td>0.318987</td>\n",
              "      <td>0.879665</td>\n",
              "      <td>0.468195</td>\n",
              "    </tr>\n",
              "    <tr>\n",
              "      <th>3</th>\n",
              "      <td>I50</td>\n",
              "      <td>0.270710</td>\n",
              "      <td>0.870620</td>\n",
              "      <td>0.413002</td>\n",
              "    </tr>\n",
              "    <tr>\n",
              "      <th>4</th>\n",
              "      <td>I48</td>\n",
              "      <td>0.274746</td>\n",
              "      <td>0.867231</td>\n",
              "      <td>0.417291</td>\n",
              "    </tr>\n",
              "    <tr>\n",
              "      <th>5</th>\n",
              "      <td>N17</td>\n",
              "      <td>0.238269</td>\n",
              "      <td>0.835049</td>\n",
              "      <td>0.370750</td>\n",
              "    </tr>\n",
              "    <tr>\n",
              "      <th>6</th>\n",
              "      <td>E87</td>\n",
              "      <td>0.227958</td>\n",
              "      <td>0.830825</td>\n",
              "      <td>0.357756</td>\n",
              "    </tr>\n",
              "    <tr>\n",
              "      <th>7</th>\n",
              "      <td>E11</td>\n",
              "      <td>0.223692</td>\n",
              "      <td>0.863975</td>\n",
              "      <td>0.355375</td>\n",
              "    </tr>\n",
              "    <tr>\n",
              "      <th>8</th>\n",
              "      <td>J96</td>\n",
              "      <td>0.139011</td>\n",
              "      <td>0.783100</td>\n",
              "      <td>0.236110</td>\n",
              "    </tr>\n",
              "    <tr>\n",
              "      <th>9</th>\n",
              "      <td>N39</td>\n",
              "      <td>0.139946</td>\n",
              "      <td>0.877344</td>\n",
              "      <td>0.241388</td>\n",
              "    </tr>\n",
              "  </tbody>\n",
              "</table>\n",
              "</div>"
            ],
            "text/plain": [
              "  category  precision    recall        f1\n",
              "0      I10   0.418209  0.853474  0.561351\n",
              "1      I25   0.299332  0.875290  0.446104\n",
              "2      E78   0.318987  0.879665  0.468195\n",
              "3      I50   0.270710  0.870620  0.413002\n",
              "4      I48   0.274746  0.867231  0.417291\n",
              "5      N17   0.238269  0.835049  0.370750\n",
              "6      E87   0.227958  0.830825  0.357756\n",
              "7      E11   0.223692  0.863975  0.355375\n",
              "8      J96   0.139011  0.783100  0.236110\n",
              "9      N39   0.139946  0.877344  0.241388"
            ]
          },
          "metadata": {
            "tags": []
          },
          "execution_count": 86
        }
      ]
    },
    {
      "cell_type": "code",
      "metadata": {
        "colab": {
          "base_uri": "https://localhost:8080/"
        },
        "id": "xkC1ZkoLJTz5",
        "outputId": "a2724b92-1848-43d4-fc7c-06af59434e2e"
      },
      "source": [
        "total_predicted=len([a for b in diagnosis_icd10category.predicted_icd.to_list() for a in b])\r\n",
        "print(total_predicted)\r\n",
        "actual=len([a for b in diagnosis_icd10category.icd10category.apply(lambda x : [i for i in x if i in frequent_icd10category]).to_list() for a in b])\r\n",
        "print(actual)\r\n",
        "actual_predicted=0\r\n",
        "for i in frequent_icd10category:\r\n",
        "  actual_predicted += diagnosis_icd10category.loc[(diagnosis_icd10category.icd10category.apply(lambda x:i in x))&(diagnosis_icd10category.predicted_icd.apply(lambda x:i in x))].HADM_ID.count()\r\n",
        "print(actual_predicted)\r\n",
        "recall=actual_predicted/actual\r\n",
        "presicion=actual_predicted/total_predicted\r\n",
        "print(recall)\r\n",
        "print(presicion)\r\n",
        "print(2*presicion*recall/(presicion + recall))"
      ],
      "execution_count": 87,
      "outputs": [
        {
          "output_type": "stream",
          "text": [
            "353367\n",
            "105151\n",
            "90070\n",
            "0.8565776835217924\n",
            "0.2548908075739953\n",
            "0.3928744345914446\n"
          ],
          "name": "stdout"
        }
      ]
    },
    {
      "cell_type": "code",
      "metadata": {
        "colab": {
          "base_uri": "https://localhost:8080/"
        },
        "id": "RR7vY1lMKBKd",
        "outputId": "32adda80-01fd-4d0a-9693-637e7be2455c"
      },
      "source": [
        "mlb = MultiLabelBinarizer(frequent_icd10category)\r\n",
        "print(accuracy_score(mlb.fit_transform(diagnosis_icd10category.icd10category.values),mlb.fit_transform(diagnosis_icd10category.predicted_icd.values)))\r\n",
        "print(hamming_loss(mlb.fit_transform(diagnosis_icd10category.icd10category.values),mlb.fit_transform(diagnosis_icd10category.predicted_icd.values)))\r\n",
        "print(precision_score(mlb.fit_transform(diagnosis_icd10category.icd10category.values),mlb.fit_transform(diagnosis_icd10category.predicted_icd.values), average = \"micro\"))\r\n",
        "print(recall_score(mlb.fit_transform(diagnosis_icd10category.icd10category.values),mlb.fit_transform(diagnosis_icd10category.predicted_icd.values),average = \"micro\"))\r\n",
        "print(f1_score(mlb.fit_transform(diagnosis_icd10category.icd10category.values),mlb.fit_transform(diagnosis_icd10category.predicted_icd.values),average = \"micro\"))\r\n",
        "print(classification_report(mlb.fit_transform(diagnosis_icd10category.icd10category.values),mlb.fit_transform(diagnosis_icd10category.predicted_icd.values),target_names=mlb.classes_))"
      ],
      "execution_count": 88,
      "outputs": [
        {
          "output_type": "stream",
          "text": [
            "/usr/local/lib/python3.6/dist-packages/sklearn/preprocessing/_label.py:987: UserWarning: unknown class(es) ['A04', 'A41', 'B18', 'D62', 'D63', 'D64', 'D69', 'E03', 'E08', 'E09', 'E10', 'E13', 'E46', 'E66', 'E86', 'F05', 'F17', 'F32', 'F41', 'G47', 'I12', 'I20', 'I21', 'I27', 'I34', 'I35', 'I42', 'I46', 'I47', 'I49', 'I61', 'I73', 'I95', 'I97', 'J18', 'J44', 'J45', 'J69', 'J91', 'J98', 'K21', 'K74', 'K92', 'L89', 'M10', 'M81', 'N18', 'N40', 'P00', 'P22', 'P59', 'R00', 'R09', 'R56', 'R65', 'R78', 'Y83', 'Y84', 'Z23', 'Z38', 'Z41', 'Z66', 'Z79', 'Z85', 'Z86', 'Z87', 'Z95', 'Z98'] will be ignored\n",
            "  .format(sorted(unknown, key=str)))\n"
          ],
          "name": "stderr"
        },
        {
          "output_type": "stream",
          "text": [
            "0.02556770796101699\n",
            "0.6633259465770724\n",
            "0.2548908075739953\n",
            "0.8565776835217924\n",
            "0.3928744345914446\n",
            "              precision    recall  f1-score   support\n",
            "\n",
            "         I10       0.42      0.85      0.56     17287\n",
            "         I25       0.30      0.88      0.45     12076\n",
            "         E78       0.32      0.88      0.47     12781\n",
            "         I50       0.27      0.87      0.41     10960\n",
            "         I48       0.27      0.87      0.42     11215\n",
            "         N17       0.24      0.84      0.37     10003\n",
            "         E87       0.23      0.83      0.36      9700\n",
            "         E11       0.22      0.86      0.36      9138\n",
            "         J96       0.14      0.78      0.24      6284\n",
            "         N39       0.14      0.88      0.24      5707\n",
            "\n",
            "   micro avg       0.25      0.86      0.39    105151\n",
            "   macro avg       0.26      0.85      0.39    105151\n",
            "weighted avg       0.28      0.86      0.41    105151\n",
            " samples avg       0.22      0.72      0.32    105151\n",
            "\n"
          ],
          "name": "stdout"
        },
        {
          "output_type": "stream",
          "text": [
            "/usr/local/lib/python3.6/dist-packages/sklearn/metrics/_classification.py:1272: UndefinedMetricWarning: Precision and F-score are ill-defined and being set to 0.0 in samples with no predicted labels. Use `zero_division` parameter to control this behavior.\n",
            "  _warn_prf(average, modifier, msg_start, len(result))\n",
            "/usr/local/lib/python3.6/dist-packages/sklearn/metrics/_classification.py:1272: UndefinedMetricWarning: Recall and F-score are ill-defined and being set to 0.0 in samples with no true labels. Use `zero_division` parameter to control this behavior.\n",
            "  _warn_prf(average, modifier, msg_start, len(result))\n"
          ],
          "name": "stderr"
        }
      ]
    },
    {
      "cell_type": "code",
      "metadata": {
        "id": "vUd4cWO_Kqid"
      },
      "source": [
        ""
      ],
      "execution_count": 88,
      "outputs": []
    },
    {
      "cell_type": "code",
      "metadata": {
        "id": "iNXf8x4eKqCv"
      },
      "source": [
        "diagnosis_terms_codes=pd.merge(diagnosis_icd9category_token[['HADM_ID','discharge diagnosis:', 'medical_terms_list']],adm_icd,on=\"HADM_ID\",how=\"left\")"
      ],
      "execution_count": 91,
      "outputs": []
    },
    {
      "cell_type": "code",
      "metadata": {
        "id": "k6nrIGqZOBms"
      },
      "source": [
        "diagnosis_terms_codes['ICD9_CODE']=diagnosis_terms_codes.ICD9_CODE.apply(lambda x:list(set(re.split(\",\",x))))\r\n",
        "diagnosis_terms_codes['ICD10']=diagnosis_terms_codes.ICD10.apply(lambda x:list(set(re.split(\",\",x))))"
      ],
      "execution_count": 92,
      "outputs": []
    },
    {
      "cell_type": "code",
      "metadata": {
        "id": "Xtcmo9NYOBPQ"
      },
      "source": [
        "diagnosis_terms_codes['ICD10']=diagnosis_terms_codes.ICD10.apply(lambda x:[a for a in x if a!=\"Misc\"])"
      ],
      "execution_count": 93,
      "outputs": []
    },
    {
      "cell_type": "code",
      "metadata": {
        "id": "cfr578Y1OUFN"
      },
      "source": [
        "frequent_icd9codes = ['4019', '4280', '42731', '41401', '5849', '25000', '2724', '51881', '5990', '53081']"
      ],
      "execution_count": 94,
      "outputs": []
    },
    {
      "cell_type": "code",
      "metadata": {
        "colab": {
          "base_uri": "https://localhost:8080/",
          "height": 1000,
          "referenced_widgets": [
            "d1fb62daa29d4ce0a1f1d57a0b2aa8e1",
            "02073bd26c344b05ba8f3e0c2a65ea72",
            "6750bc703e9940f786ff801ebea897a7",
            "4156d8fbd0a949c0b3d15bac3b11ab98",
            "a8ecb76b80a34e5cb5a572c24f9f5b86",
            "b185cae99fcf41d8ab1061abbbf38385",
            "38d2d63cce3442dfb3f2a26ccd281418",
            "29960dbc86174721830921a52afb2184",
            "e384eca94bca4071b03e7e68a59347f0",
            "60b56904558640f5af166f52d1a4f2e1",
            "84026647883e4883ba6cf5c54896845a",
            "1ebca8c5880b453d8e50c38a00919e9f",
            "d7f9c0b6ee5a40d6960c04cd14807f5b",
            "bfe0de684bb9439a890c1e36b5e21619",
            "e2fb55632b0444229709d9e9f992cca8",
            "dda3b67377474fd98940692bf6606db4",
            "838f1f9b1ff6479b94fde326b7ba7703",
            "62acaecdf2aa48f89d5eab212b04e418",
            "af42de2487194a5f9f8ca2c0d44f4520",
            "201a798f56884ce1a0e268d674c3ee9c",
            "182c2c8e7b5a48ca9309e7fb3c470798",
            "9ca89de6fc3143fd89a0a364e43195df",
            "705b2e020362461cb2c4694ba9a3853e",
            "7ee5be0cb0bf449097a725b80e6358a9",
            "30672db5d047419190a57dff7787c1dd",
            "a5a94d2d848b4976967e3c0a45798c97",
            "13fa77028c75487d9150eb59e69a4c76",
            "7fd9eab06073436686568190fbe5b17e",
            "b2d5459333dc42aba614c5925c0bbb5c",
            "33d597c70bb6465cbc5a9425c7a83ccf",
            "90ed96253c244b1e8bbd374a7994139d",
            "c92f010fdc1d4c63af1c7b712d9e311e",
            "70b79ced2bd8465ebf4761eaa0f4e95b",
            "204d6008384f4d64a96e8862917dee39",
            "de1ae68167a94ce087dae300b40d962c",
            "03e345454c2948d483bbf77f044be47d",
            "cadd8e1ed4db4653b724e59796c079f8",
            "80b6d17ada56474e80f1709a559ae1ea",
            "8aecc541c8964f20a2c946d0342b5c25",
            "5da12ee1e60d49b89f388713016ae31e"
          ]
        },
        "id": "PKOR1s2iOg09",
        "outputId": "b1c7ef52-338f-40e6-e98b-7bf9a81dd122"
      },
      "source": [
        "code_med_terms={}\r\n",
        "common_diagnosis_terms=[\"monday\",\"telephone\",\"of\",\"phone\"]\r\n",
        "for i in frequent_icd9codes:\r\n",
        "    diagnosis_x=diagnosis_terms_codes.loc[diagnosis_terms_codes.ICD9_CODE.apply(lambda x: i in x)].copy()\r\n",
        "    y=diagnosis_x.medical_terms_list.to_list()    \r\n",
        "    z=[list(set(a)) for a in y]\r\n",
        "    z1=[a for b in z for a in b]\r\n",
        "    dict_med=dict(Counter(z1))\r\n",
        "    dict_med=dict(sorted(dict_med.items(),key= lambda x: x[1],reverse=True))\r\n",
        "    dict_med_list=list(dict_med)\r\n",
        "    dict_med_list1=[a for a in dict_med_list if a not in common_diagnosis_terms]\r\n",
        "    code_med_terms[i]=dict_med_list1[:50]\r\n",
        "\r\n",
        "diagnosis_icdcategory_medterms={'icd9code':[i for i in code_med_terms],\r\n",
        "                                'frequent_medterms':[code_med_terms[i] for i in code_med_terms]}\r\n",
        "diagnosis_icdcategory_medterms_df=pd.DataFrame.from_dict(diagnosis_icdcategory_medterms)\r\n",
        "\r\n",
        "display(diagnosis_icdcategory_medterms_df)\r\n",
        "\r\n",
        "bagofwords=list(set([a for b in diagnosis_icdcategory_medterms_df.frequent_medterms.to_list() for a in b]))\r\n",
        "simi_matrix=np.zeros((len(bagofwords),len(bagofwords)))\r\n",
        "\r\n",
        "for i in tqdm(range(len(bagofwords))):\r\n",
        "  for j in range(len(bagofwords)):\r\n",
        "    simi_matrix[i][j]=model.similarity(bagofwords[i],bagofwords[j])\r\n",
        "\r\n",
        "features={}\r\n",
        "for i in range(len(bagofwords)-1):\r\n",
        "  similar=[]\r\n",
        "  for j in range(i+1,len(bagofwords)):\r\n",
        "    if simi_matrix[i][j]>=0.7:\r\n",
        "      similar.append(bagofwords[j])\r\n",
        "  features[bagofwords[i]]=similar\r\n",
        "features[bagofwords[-1]]=[]    \r\n",
        "\r\n",
        "features_list=[features[k]+[k] for k in list(features)]\r\n",
        "\r\n",
        "condensed_feature = list(merge_common(features_list)) \r\n",
        "\r\n",
        "condensed_feature_dict={}\r\n",
        "count=0\r\n",
        "for i in condensed_feature:\r\n",
        "  condensed_feature_dict['f'+str(count)]=i\r\n",
        "  count+=1\r\n",
        "\r\n",
        "all_vocab=[a for b in condensed_feature for a in b]\r\n",
        "\r\n",
        "diagnosis_terms_codes['med_terms_condensed']=diagnosis_terms_codes.medical_terms_list.progress_apply(lambda x:list(set(x).intersection(set(all_vocab))))\r\n",
        "diagnosis_terms_codes['features']=diagnosis_terms_codes.med_terms_condensed.progress_apply(lambda x:return_feature(x))\r\n",
        "\r\n",
        "diagnosis_icdcategory_medterms_df['feature']=diagnosis_icdcategory_medterms_df.frequent_medterms.progress_apply(lambda x:return_feature(x))\r\n",
        "\r\n",
        "\r\n",
        "def predict_icd(x):\r\n",
        "  category_weights={}\r\n",
        "  if len(x):\r\n",
        "    for item1 in frequent_icd9codes:\r\n",
        "      category_features=[a for b in diagnosis_icdcategory_medterms_df.loc[diagnosis_icdcategory_medterms_df.icd9code==item1].feature.to_list() for a in b]\r\n",
        "      count=len(list(set(x).intersection(set(category_features))))\r\n",
        "      category_weights[item1]=count/len(x)/len(category_features)\r\n",
        "  else:\r\n",
        "    for item1 in frequent_icd9codes:\r\n",
        "      category_weights[item1]=0.0\r\n",
        "\r\n",
        "      \r\n",
        "  return category_weights\r\n",
        "\r\n",
        "\r\n",
        "\r\n",
        "diagnosis_terms_codes['predicted_icd_weigths']=diagnosis_terms_codes.features.progress_apply(lambda x:predict_icd(x))\r\n",
        "diagnosis_terms_codes['predicted_icd']=diagnosis_terms_codes.predicted_icd_weigths.progress_apply(predictbasedonwts)\r\n",
        "\r\n",
        "\r\n",
        "result_predict={'category':[],'precision':[],'recall':[],'f1':[]}\r\n",
        "for i in frequent_icd9codes:\r\n",
        "  actual_p=diagnosis_terms_codes.loc[diagnosis_terms_codes.ICD9_CODE.apply(lambda x:i in x)].HADM_ID.count()\r\n",
        "  tp=diagnosis_terms_codes.loc[(diagnosis_terms_codes.ICD9_CODE.apply(lambda x:i in x))&(diagnosis_terms_codes.predicted_icd.apply(lambda x:i in x))].HADM_ID.count()\r\n",
        "  predict_p=diagnosis_terms_codes.loc[diagnosis_terms_codes.predicted_icd.apply(lambda x:i in x)].HADM_ID.count()\r\n",
        "  precision=tp/predict_p\r\n",
        "  recall=tp/actual_p\r\n",
        "  f1=2*precision*recall/(precision+recall)\r\n",
        "  result_predict['category'].append(i)\r\n",
        "  result_predict['precision'].append(precision)\r\n",
        "  result_predict['recall'].append(recall)\r\n",
        "  result_predict['f1'].append(f1)\r\n",
        "\r\n",
        "\r\n",
        "\r\n",
        "display(pd.DataFrame.from_dict(result_predict))\r\n",
        "\r\n",
        "\r\n",
        "total_predicted=len([a for b in diagnosis_terms_codes.predicted_icd.to_list() for a in b])\r\n",
        "print(total_predicted)\r\n",
        "actual=len([a for b in diagnosis_terms_codes.ICD9_CODE.apply(lambda x : [i for i in x if i in frequent_icd9codes]).to_list() for a in b])\r\n",
        "print(actual)\r\n",
        "actual_predicted=0\r\n",
        "for i in frequent_icd9codes:\r\n",
        "  actual_predicted += diagnosis_terms_codes.loc[(diagnosis_terms_codes.ICD9_CODE.apply(lambda x:i in x))&(diagnosis_terms_codes.predicted_icd.apply(lambda x:i in x))].HADM_ID.count()\r\n",
        "print(actual_predicted)\r\n",
        "recall=actual_predicted/actual\r\n",
        "presicion=actual_predicted/total_predicted\r\n",
        "print(recall)\r\n",
        "print(presicion)\r\n",
        "print(2*presicion*recall/(presicion + recall))\r\n"
      ],
      "execution_count": 95,
      "outputs": [
        {
          "output_type": "display_data",
          "data": {
            "text/html": [
              "<div>\n",
              "<style scoped>\n",
              "    .dataframe tbody tr th:only-of-type {\n",
              "        vertical-align: middle;\n",
              "    }\n",
              "\n",
              "    .dataframe tbody tr th {\n",
              "        vertical-align: top;\n",
              "    }\n",
              "\n",
              "    .dataframe thead th {\n",
              "        text-align: right;\n",
              "    }\n",
              "</style>\n",
              "<table border=\"1\" class=\"dataframe\">\n",
              "  <thead>\n",
              "    <tr style=\"text-align: right;\">\n",
              "      <th></th>\n",
              "      <th>icd9code</th>\n",
              "      <th>frequent_medterms</th>\n",
              "    </tr>\n",
              "  </thead>\n",
              "  <tbody>\n",
              "    <tr>\n",
              "      <th>0</th>\n",
              "      <td>4019</td>\n",
              "      <td>[pain, fever, chest, shortness, infection, breath, redness, aspirin, hypertension, atrial, fibrillation, chills, disease, coumadin, bleeding, failure, pneumonia, vomiting, fevers, constipation, swelling, nausea, abdominal, heart, diabetes, erythema, cough, weakness, anemia, metoprolol, headache, confusion, mouth, numbness, weight, diarrhea, gain, lisinopril, loss, cancer, blood, infarction, seizures, pulmonary, myocardial, stroke, bleed, motrin, artery, tylenol]</td>\n",
              "    </tr>\n",
              "    <tr>\n",
              "      <th>1</th>\n",
              "      <td>4280</td>\n",
              "      <td>[pain, failure, shortness, chest, heart, breath, atrial, fibrillation, disease, infection, fever, pneumonia, coumadin, chills, hypertension, renal, fevers, sodium, aspirin, metoprolol, bleeding, chronic, anemia, congestive, diabetes, redness, pulmonary, vomiting, nausea, lisinopril, abdominal, oxygen, myocardial, infarction, respiratory, artery, systolic, coronary, mouth, cough, urinary, blood, mellitus, swelling, tract, bleed, weight, acute, diarrhea, gain]</td>\n",
              "    </tr>\n",
              "    <tr>\n",
              "      <th>2</th>\n",
              "      <td>42731</td>\n",
              "      <td>[atrial, fibrillation, pain, coumadin, shortness, fever, chest, infection, failure, breath, disease, heart, redness, pneumonia, chills, aspirin, hypertension, bleeding, metoprolol, renal, fevers, anemia, erythema, vomiting, abdominal, sodium, weight, gain, nausea, chronic, diabetes, pulmonary, warfarin, stroke, constipation, bleed, cough, swelling, cancer, diarrhea, mouth, urinary, artery, congestive, blood, tract, oxygen, lisinopril, respiratory, coronary]</td>\n",
              "    </tr>\n",
              "    <tr>\n",
              "      <th>3</th>\n",
              "      <td>41401</td>\n",
              "      <td>[pain, fever, chest, shortness, redness, infection, disease, breath, atrial, fibrillation, failure, aspirin, heart, myocardial, infarction, hypertension, coumadin, erythema, weight, gain, diabetes, artery, metoprolol, coronary, bleeding, chills, renal, pneumonia, fevers, lisinopril, mellitus, anemia, sodium, chronic, nausea, vomiting, abdominal, pulmonary, edema, cholesterol, cancer, constipation, swelling, congestive, bleed, hyperlipidemia, cough, atorvastatin, mouth, blood]</td>\n",
              "    </tr>\n",
              "    <tr>\n",
              "      <th>4</th>\n",
              "      <td>5849</td>\n",
              "      <td>[pain, failure, shortness, chest, breath, infection, disease, renal, pneumonia, fever, chills, atrial, heart, fibrillation, fevers, chronic, hypertension, coumadin, bleeding, vomiting, anemia, abdominal, nausea, diabetes, acute, aspirin, metoprolol, sodium, diarrhea, kidney, urinary, lisinopril, mouth, respiratory, tract, blood, pulmonary, cough, cancer, oxygen, bleed, redness, swelling, sepsis, constipation, congestive, loss, confusion, dizziness, mellitus]</td>\n",
              "    </tr>\n",
              "    <tr>\n",
              "      <th>5</th>\n",
              "      <td>25000</td>\n",
              "      <td>[pain, shortness, chest, fever, breath, infection, failure, diabetes, disease, atrial, fibrillation, chills, redness, aspirin, heart, hypertension, bleeding, coumadin, pneumonia, fevers, mellitus, vomiting, renal, abdominal, metoprolol, nausea, constipation, swelling, anemia, cough, sodium, chronic, erythema, mouth, lisinopril, diarrhea, pulmonary, weight, confusion, artery, gain, bleed, weakness, blood, infarction, respiratory, oxygen, myocardial, cancer, loss]</td>\n",
              "    </tr>\n",
              "    <tr>\n",
              "      <th>6</th>\n",
              "      <td>2724</td>\n",
              "      <td>[pain, infection, chest, fever, shortness, redness, breath, aspirin, atrial, disease, fibrillation, failure, coumadin, hypertension, bleeding, heart, erythema, pneumonia, chills, metoprolol, diabetes, constipation, vomiting, fevers, swelling, weight, renal, lisinopril, gain, mouth, nausea, infarction, hyperlipidemia, myocardial, anemia, cough, abdominal, tylenol, pulmonary, cancer, mellitus, blood, chronic, artery, weakness, stroke, loss, edema, diarrhea, confusion]</td>\n",
              "    </tr>\n",
              "    <tr>\n",
              "      <th>7</th>\n",
              "      <td>51881</td>\n",
              "      <td>[pain, pneumonia, failure, shortness, breath, chest, respiratory, infection, disease, fever, chills, atrial, fibrillation, fevers, heart, hypertension, renal, vomiting, oxygen, pulmonary, nausea, anemia, cough, abdominal, aspirin, coumadin, bleeding, chronic, metoprolol, mouth, diarrhea, diabetes, sepsis, cancer, constipation, confusion, acute, sodium, swelling, prednisone, arrest, urinary, weakness, blood, lisinopril, lung, redness, tract, obstructive, seizures]</td>\n",
              "    </tr>\n",
              "    <tr>\n",
              "      <th>8</th>\n",
              "      <td>5990</td>\n",
              "      <td>[pain, infection, urinary, tract, shortness, chest, breath, fever, failure, disease, atrial, fibrillation, chills, pneumonia, fevers, bleeding, aspirin, coumadin, hypertension, renal, heart, vomiting, anemia, nausea, abdominal, redness, constipation, chronic, confusion, diarrhea, metoprolol, diabetes, weakness, swelling, mouth, sodium, blood, cancer, seizures, respiratory, bleed, stroke, cough, pulmonary, loss, headache, numbness, acute, fracture, sepsis]</td>\n",
              "    </tr>\n",
              "    <tr>\n",
              "      <th>9</th>\n",
              "      <td>53081</td>\n",
              "      <td>[pain, chest, shortness, fever, breath, infection, disease, redness, chills, aspirin, atrial, failure, fibrillation, pneumonia, vomiting, bleeding, coumadin, hypertension, fevers, nausea, heart, swelling, abdominal, cough, constipation, diabetes, metoprolol, anemia, mouth, diarrhea, erythema, renal, pulmonary, oxygen, confusion, myocardial, cancer, blood, chronic, infarction, weight, lisinopril, gain, urinary, loss, tylenol, weakness, headache, tract, bleed]</td>\n",
              "    </tr>\n",
              "  </tbody>\n",
              "</table>\n",
              "</div>"
            ],
            "text/plain": [
              "  icd9code                                                                                                                                                                                                                                                                                                                                                                                                                                                                                 frequent_medterms\n",
              "0     4019                [pain, fever, chest, shortness, infection, breath, redness, aspirin, hypertension, atrial, fibrillation, chills, disease, coumadin, bleeding, failure, pneumonia, vomiting, fevers, constipation, swelling, nausea, abdominal, heart, diabetes, erythema, cough, weakness, anemia, metoprolol, headache, confusion, mouth, numbness, weight, diarrhea, gain, lisinopril, loss, cancer, blood, infarction, seizures, pulmonary, myocardial, stroke, bleed, motrin, artery, tylenol]\n",
              "1     4280                    [pain, failure, shortness, chest, heart, breath, atrial, fibrillation, disease, infection, fever, pneumonia, coumadin, chills, hypertension, renal, fevers, sodium, aspirin, metoprolol, bleeding, chronic, anemia, congestive, diabetes, redness, pulmonary, vomiting, nausea, lisinopril, abdominal, oxygen, myocardial, infarction, respiratory, artery, systolic, coronary, mouth, cough, urinary, blood, mellitus, swelling, tract, bleed, weight, acute, diarrhea, gain]\n",
              "2    42731                     [atrial, fibrillation, pain, coumadin, shortness, fever, chest, infection, failure, breath, disease, heart, redness, pneumonia, chills, aspirin, hypertension, bleeding, metoprolol, renal, fevers, anemia, erythema, vomiting, abdominal, sodium, weight, gain, nausea, chronic, diabetes, pulmonary, warfarin, stroke, constipation, bleed, cough, swelling, cancer, diarrhea, mouth, urinary, artery, congestive, blood, tract, oxygen, lisinopril, respiratory, coronary]\n",
              "3    41401  [pain, fever, chest, shortness, redness, infection, disease, breath, atrial, fibrillation, failure, aspirin, heart, myocardial, infarction, hypertension, coumadin, erythema, weight, gain, diabetes, artery, metoprolol, coronary, bleeding, chills, renal, pneumonia, fevers, lisinopril, mellitus, anemia, sodium, chronic, nausea, vomiting, abdominal, pulmonary, edema, cholesterol, cancer, constipation, swelling, congestive, bleed, hyperlipidemia, cough, atorvastatin, mouth, blood]\n",
              "4     5849                    [pain, failure, shortness, chest, breath, infection, disease, renal, pneumonia, fever, chills, atrial, heart, fibrillation, fevers, chronic, hypertension, coumadin, bleeding, vomiting, anemia, abdominal, nausea, diabetes, acute, aspirin, metoprolol, sodium, diarrhea, kidney, urinary, lisinopril, mouth, respiratory, tract, blood, pulmonary, cough, cancer, oxygen, bleed, redness, swelling, sepsis, constipation, congestive, loss, confusion, dizziness, mellitus]\n",
              "5    25000                [pain, shortness, chest, fever, breath, infection, failure, diabetes, disease, atrial, fibrillation, chills, redness, aspirin, heart, hypertension, bleeding, coumadin, pneumonia, fevers, mellitus, vomiting, renal, abdominal, metoprolol, nausea, constipation, swelling, anemia, cough, sodium, chronic, erythema, mouth, lisinopril, diarrhea, pulmonary, weight, confusion, artery, gain, bleed, weakness, blood, infarction, respiratory, oxygen, myocardial, cancer, loss]\n",
              "6     2724            [pain, infection, chest, fever, shortness, redness, breath, aspirin, atrial, disease, fibrillation, failure, coumadin, hypertension, bleeding, heart, erythema, pneumonia, chills, metoprolol, diabetes, constipation, vomiting, fevers, swelling, weight, renal, lisinopril, gain, mouth, nausea, infarction, hyperlipidemia, myocardial, anemia, cough, abdominal, tylenol, pulmonary, cancer, mellitus, blood, chronic, artery, weakness, stroke, loss, edema, diarrhea, confusion]\n",
              "7    51881               [pain, pneumonia, failure, shortness, breath, chest, respiratory, infection, disease, fever, chills, atrial, fibrillation, fevers, heart, hypertension, renal, vomiting, oxygen, pulmonary, nausea, anemia, cough, abdominal, aspirin, coumadin, bleeding, chronic, metoprolol, mouth, diarrhea, diabetes, sepsis, cancer, constipation, confusion, acute, sodium, swelling, prednisone, arrest, urinary, weakness, blood, lisinopril, lung, redness, tract, obstructive, seizures]\n",
              "8     5990                       [pain, infection, urinary, tract, shortness, chest, breath, fever, failure, disease, atrial, fibrillation, chills, pneumonia, fevers, bleeding, aspirin, coumadin, hypertension, renal, heart, vomiting, anemia, nausea, abdominal, redness, constipation, chronic, confusion, diarrhea, metoprolol, diabetes, weakness, swelling, mouth, sodium, blood, cancer, seizures, respiratory, bleed, stroke, cough, pulmonary, loss, headache, numbness, acute, fracture, sepsis]\n",
              "9    53081                    [pain, chest, shortness, fever, breath, infection, disease, redness, chills, aspirin, atrial, failure, fibrillation, pneumonia, vomiting, bleeding, coumadin, hypertension, fevers, nausea, heart, swelling, abdominal, cough, constipation, diabetes, metoprolol, anemia, mouth, diarrhea, erythema, renal, pulmonary, oxygen, confusion, myocardial, cancer, blood, chronic, infarction, weight, lisinopril, gain, urinary, loss, tylenol, weakness, headache, tract, bleed]"
            ]
          },
          "metadata": {
            "tags": []
          }
        },
        {
          "output_type": "stream",
          "text": [
            "100%|██████████| 75/75 [00:00<00:00, 664.34it/s]\n"
          ],
          "name": "stderr"
        },
        {
          "output_type": "display_data",
          "data": {
            "application/vnd.jupyter.widget-view+json": {
              "model_id": "d1fb62daa29d4ce0a1f1d57a0b2aa8e1",
              "version_minor": 0,
              "version_major": 2
            },
            "text/plain": [
              "HBox(children=(FloatProgress(value=0.0, max=41967.0), HTML(value='')))"
            ]
          },
          "metadata": {
            "tags": []
          }
        },
        {
          "output_type": "stream",
          "text": [
            "\n"
          ],
          "name": "stdout"
        },
        {
          "output_type": "display_data",
          "data": {
            "application/vnd.jupyter.widget-view+json": {
              "model_id": "e384eca94bca4071b03e7e68a59347f0",
              "version_minor": 0,
              "version_major": 2
            },
            "text/plain": [
              "HBox(children=(FloatProgress(value=0.0, max=41967.0), HTML(value='')))"
            ]
          },
          "metadata": {
            "tags": []
          }
        },
        {
          "output_type": "stream",
          "text": [
            "\n"
          ],
          "name": "stdout"
        },
        {
          "output_type": "display_data",
          "data": {
            "application/vnd.jupyter.widget-view+json": {
              "model_id": "838f1f9b1ff6479b94fde326b7ba7703",
              "version_minor": 0,
              "version_major": 2
            },
            "text/plain": [
              "HBox(children=(FloatProgress(value=0.0, max=10.0), HTML(value='')))"
            ]
          },
          "metadata": {
            "tags": []
          }
        },
        {
          "output_type": "stream",
          "text": [
            "\n"
          ],
          "name": "stdout"
        },
        {
          "output_type": "display_data",
          "data": {
            "application/vnd.jupyter.widget-view+json": {
              "model_id": "30672db5d047419190a57dff7787c1dd",
              "version_minor": 0,
              "version_major": 2
            },
            "text/plain": [
              "HBox(children=(FloatProgress(value=0.0, max=41967.0), HTML(value='')))"
            ]
          },
          "metadata": {
            "tags": []
          }
        },
        {
          "output_type": "stream",
          "text": [
            "\n"
          ],
          "name": "stdout"
        },
        {
          "output_type": "display_data",
          "data": {
            "application/vnd.jupyter.widget-view+json": {
              "model_id": "70b79ced2bd8465ebf4761eaa0f4e95b",
              "version_minor": 0,
              "version_major": 2
            },
            "text/plain": [
              "HBox(children=(FloatProgress(value=0.0, max=41967.0), HTML(value='')))"
            ]
          },
          "metadata": {
            "tags": []
          }
        },
        {
          "output_type": "stream",
          "text": [
            "\n"
          ],
          "name": "stdout"
        },
        {
          "output_type": "display_data",
          "data": {
            "text/html": [
              "<div>\n",
              "<style scoped>\n",
              "    .dataframe tbody tr th:only-of-type {\n",
              "        vertical-align: middle;\n",
              "    }\n",
              "\n",
              "    .dataframe tbody tr th {\n",
              "        vertical-align: top;\n",
              "    }\n",
              "\n",
              "    .dataframe thead th {\n",
              "        text-align: right;\n",
              "    }\n",
              "</style>\n",
              "<table border=\"1\" class=\"dataframe\">\n",
              "  <thead>\n",
              "    <tr style=\"text-align: right;\">\n",
              "      <th></th>\n",
              "      <th>category</th>\n",
              "      <th>precision</th>\n",
              "      <th>recall</th>\n",
              "      <th>f1</th>\n",
              "    </tr>\n",
              "  </thead>\n",
              "  <tbody>\n",
              "    <tr>\n",
              "      <th>0</th>\n",
              "      <td>4019</td>\n",
              "      <td>0.418235</td>\n",
              "      <td>0.853358</td>\n",
              "      <td>0.561350</td>\n",
              "    </tr>\n",
              "    <tr>\n",
              "      <th>1</th>\n",
              "      <td>4280</td>\n",
              "      <td>0.269253</td>\n",
              "      <td>0.869992</td>\n",
              "      <td>0.411233</td>\n",
              "    </tr>\n",
              "    <tr>\n",
              "      <th>2</th>\n",
              "      <td>42731</td>\n",
              "      <td>0.266684</td>\n",
              "      <td>0.866520</td>\n",
              "      <td>0.407847</td>\n",
              "    </tr>\n",
              "    <tr>\n",
              "      <th>3</th>\n",
              "      <td>41401</td>\n",
              "      <td>0.249306</td>\n",
              "      <td>0.878319</td>\n",
              "      <td>0.388374</td>\n",
              "    </tr>\n",
              "    <tr>\n",
              "      <th>4</th>\n",
              "      <td>5849</td>\n",
              "      <td>0.195995</td>\n",
              "      <td>0.847730</td>\n",
              "      <td>0.318380</td>\n",
              "    </tr>\n",
              "    <tr>\n",
              "      <th>5</th>\n",
              "      <td>25000</td>\n",
              "      <td>0.186916</td>\n",
              "      <td>0.859126</td>\n",
              "      <td>0.307033</td>\n",
              "    </tr>\n",
              "    <tr>\n",
              "      <th>6</th>\n",
              "      <td>2724</td>\n",
              "      <td>0.214788</td>\n",
              "      <td>0.902012</td>\n",
              "      <td>0.346958</td>\n",
              "    </tr>\n",
              "    <tr>\n",
              "      <th>7</th>\n",
              "      <td>51881</td>\n",
              "      <td>0.139003</td>\n",
              "      <td>0.782941</td>\n",
              "      <td>0.236090</td>\n",
              "    </tr>\n",
              "    <tr>\n",
              "      <th>8</th>\n",
              "      <td>5990</td>\n",
              "      <td>0.139970</td>\n",
              "      <td>0.877344</td>\n",
              "      <td>0.241423</td>\n",
              "    </tr>\n",
              "    <tr>\n",
              "      <th>9</th>\n",
              "      <td>53081</td>\n",
              "      <td>0.139486</td>\n",
              "      <td>0.882121</td>\n",
              "      <td>0.240883</td>\n",
              "    </tr>\n",
              "  </tbody>\n",
              "</table>\n",
              "</div>"
            ],
            "text/plain": [
              "  category  precision    recall        f1\n",
              "0     4019   0.418235  0.853358  0.561350\n",
              "1     4280   0.269253  0.869992  0.411233\n",
              "2    42731   0.266684  0.866520  0.407847\n",
              "3    41401   0.249306  0.878319  0.388374\n",
              "4     5849   0.195995  0.847730  0.318380\n",
              "5    25000   0.186916  0.859126  0.307033\n",
              "6     2724   0.214788  0.902012  0.346958\n",
              "7    51881   0.139003  0.782941  0.236090\n",
              "8     5990   0.139970  0.877344  0.241423\n",
              "9    53081   0.139486  0.882121  0.240883"
            ]
          },
          "metadata": {
            "tags": []
          }
        },
        {
          "output_type": "stream",
          "text": [
            "353427\n",
            "90890\n",
            "78399\n",
            "0.8625701397293432\n",
            "0.2218251576704666\n",
            "0.35289669312675415\n"
          ],
          "name": "stdout"
        }
      ]
    },
    {
      "cell_type": "code",
      "metadata": {
        "colab": {
          "base_uri": "https://localhost:8080/"
        },
        "id": "BN_FE2CQW61e",
        "outputId": "b0e6a1a5-b03e-47e9-9328-81672d7a37b3"
      },
      "source": [
        "mlb = MultiLabelBinarizer(frequent_icd9codes)\r\n",
        "print(accuracy_score(mlb.fit_transform(diagnosis_terms_codes.ICD9_CODE.values),mlb.fit_transform(diagnosis_terms_codes.predicted_icd.values)))\r\n",
        "print(hamming_loss(mlb.fit_transform(diagnosis_terms_codes.ICD9_CODE.values),mlb.fit_transform(diagnosis_terms_codes.predicted_icd.values)))\r\n",
        "print(precision_score(mlb.fit_transform(diagnosis_terms_codes.ICD9_CODE.values),mlb.fit_transform(diagnosis_terms_codes.predicted_icd.values), average = \"micro\"))\r\n",
        "print(recall_score(mlb.fit_transform(diagnosis_terms_codes.ICD9_CODE.values),mlb.fit_transform(diagnosis_terms_codes.predicted_icd.values),average = \"micro\"))\r\n",
        "print(f1_score(mlb.fit_transform(diagnosis_terms_codes.ICD9_CODE.values),mlb.fit_transform(diagnosis_terms_codes.predicted_icd.values),average = \"micro\"))\r\n",
        "print(classification_report(mlb.fit_transform(diagnosis_terms_codes.ICD9_CODE.values),mlb.fit_transform(diagnosis_terms_codes.predicted_icd.values),target_names=mlb.classes_))"
      ],
      "execution_count": 96,
      "outputs": [
        {
          "output_type": "stream",
          "text": [
            "/usr/local/lib/python3.6/dist-packages/sklearn/preprocessing/_label.py:987: UserWarning: unknown class(es) ['0030', '0031', '0038', '0039', '0041', '0048', '0049', '0051', '00581', '0059', '0071', '0074', '00804', '00841', '00843', '00845', '00847', '0085', '00861', '00862', '00863', '00869', '0088', '0090', '0091', '0092', '0093', '01085', '01123', '01164', '01186', '01190', '01193', '01194', '01205', '01215', '01300', '01304', '01325', '01330', '01354', '01402', '01405', '01485', '01504', '01505', '01803', '01805', '01880', '01890', '01894', '01895', '01896', '0218', '0239', '0270', '0272', '0279', '0309', '0310', '0311', '0312', '0318', '0319', '03285', '03289', '0329', '0338', '0340', '035', '0360', '0362', '03641', '0380', '03810', '03811', '03812', '03819', '0382', '0383', '03840', '03841', '03842', '03843', '03844', '03849', '0388', '0389', '0391', '0398', '0400', '04082', '04100', '04101', '04102', '04103', '04104', '04105', '04109', '04110', '04111', '04112', '04119', '0412', '0413', '0414', '04149', '0415', '0416', '0417', '04182', '04183', '04184', '04185', '04186', '04189', '0419', '042', '04590', '0463', '04671', '0470', '0478', '0479', '048', '0491', '0498', '0499', '0520', '0521', '0527', '0529', '0530', '05311', '05312', '05313', '05314', '05319', '05320', '05329', '05371', '05379', '0539', '0540', '05410', '05412', '05413', '05419', '0542', '0543', '05440', '05443', '0545', '05471', '05472', '05479', '0549', '0578', '0579', '05821', '05829', '05881', '05889', '0622', '06641', '06642', '0701', '07020', '07022', '07030', '07031', '07032', '07033', '07041', '07044', '07049', '07051', '07052', '07054', '07059', '07070', '07071', '075', '0778', '07799', '0780', '07810', '07811', '07819', '0785', '07889', '0790', '0793', '0794', '07951', '07953', '0796', '07983', '07989', '07998', '07999', '08240', '08249', '0840', '0844', '0849', '0860', '0880', '08881', '08882', '0912', '09152', '09181', '0919', '0931', '0940', '0949', '096', '0970', '0971', '0979', '0993', '1100', '1101', '1103', '1104', '1105', '1106', '1108', '1109', '1110', '1118', '1119', '1120', '1121', '1122', '1123', '1124', '1125', '11281', '11283', '11284', '11285', '11289', '1129', '1140', '1149', '11505', '11519', '11590', '11599', '1160', '1173', '1174', '1175', '1177', '1179', '118', '1208', '1209', '1211', '1228', '1231', '1251', '1270', '1272', '1273', '1300', '1307', '1309', '13101', '13109', '1320', '1329', '1330', '1348', '135', '1361', '1363', '1369', '1370', '1373', '138', '1390', '1398', '1400', '1401', '1409', '1410', '1414', '1418', '1419', '1420', '1429', '1430', '1440', '1448', '1449', '1450', '1452', '1453', '1455', '1460', '1461', '1463', '1468', '1469', '1471', '1478', '1479', '1481', '1488', '1489', '1490', '1498', '1500', '1501', '1503', '1504', '1505', '1508', '1509', '1510', '1511', '1512', '1513', '1514', '1515', '1516', '1518', '1519', '1520', '1521', '1522', '1528', '1529', '1530', '1531', '1532', '1533', '1534', '1535', '1536', '1537', '1538', '1539', '1540', '1541', '1542', '1543', '1548', '1550', '1551', '1552', '1560', '1561', '1562', '1568', '1569', '1570', '1571', '1572', '1573', '1574', '1578', '1579', '1580', '1588', '1589', '1598', '1599', '1610', '1611', '1612', '1613', '1618', '1619', '1620', '1622', '1623', '1624', '1625', '1628', '1629', '1630', '1638', '1639', '1640', '1641', '1642', '1643', '1648', '1649', '1700', '1702', '1703', '1707', '1710', '1712', '1713', '1714', '1715', '1716', '1717', '1718', '1720', '1723', '1724', '1725', '1726', '1727', '1728', '1729', '1731', '1732', '17322', '1733', '17331', '17332', '1734', '17341', '17342', '1735', '1736', '1737', '17372', '1738', '1739', '1743', '1744', '1745', '1748', '1749', '1759', '1760', '1761', '1763', '1764', '1765', '1768', '1769', '179', '1800', '1808', '1809', '1820', '1830', '1832', '1838', '1840', '1844', '1848', '185', '1869', '1874', '1880', '1881', '1882', '1883', '1884', '1885', '1888', '1889', '1890', '1891', '1892', '1893', '1898', '1905', '1906', '1910', '1911', '1912', '1913', '1914', '1915', '1916', '1917', '1918', '1919', '1920', '1921', '1922', '193', '1940', '1941', '1943', '1945', '1950', '1951', '1952', '1953', '1958', '1960', '1961', '1962', '1963', '1965', '1966', '1968', '1969', '1970', '1971', '1972', '1973', '1974', '1975', '1976', '1977', '1978', '1980', '1981', '1982', '1983', '1984', '1985', '1986', '1987', '19881', '19882', '19889', '1990', '1991', '20000', '20001', '20002', '20003', '20010', '20011', '20018', '20020', '20021', '20022', '20023', '20024', '20028', '20030', '20033', '20037', '20040', '20042', '20047', '20048', '20050', '20060', '20070', '20071', '20078', '20080', '20148', '20150', '20152', '20158', '20190', '20191', '20192', '20198', '20200', '20201', '20203', '20205', '20206', '20208', '20210', '20211', '20212', '20213', '20218', '20240', '20243', '20252', '20260', '20270', '20278', '20280', '20281', '20282', '20283', '20285', '20287', '20288', '20300', '20301', '20302', '20310', '20312', '20380', '20382', '20400', '20401', '20402', '20410', '20411', '20412', '20480', '20500', '20501', '20502', '20510', '20511', '20512', '20530', '20590', '20600', '20722', '20780', '20800', '20890', '20891', '20903', '20917', '20920', '20921', '20925', '20929', '20930', '20936', '20943', '20951', '20957', '20961', '20963', '20969', '20971', '20972', '20973', '20974', '20975', '20979', '2101', '2102', '2104', '2110', '2111', '2112', '2113', '2114', '2115', '2116', '2117', '2118', '2119', '2120', '2121', '2122', '2123', '2125', '2126', '2127', '2130', '2132', '2137', '2140', '2141', '2142', '2143', '2144', '2148', '2149', '2150', '2153', '2154', '2155', '2156', '2163', '2165', '2166', '2167', '2169', '217', '2180', '2181', '2182', '2189', '220', '2218', '2230', '2250', '2251', '2252', '2253', '2254', '226', '2270', '2271', '2273', '22801', '22802', '22804', '22809', '2281', '2298', '2300', '2301', '2302', '2306', '2308', '2309', '2312', '2325', '2329', '2330', '2331', '2333', '23331', '2334', '2337', '2339', '2352', '2353', '2354', '2355', '2356', '2357', '2358', '2362', '2367', '23691', '2370', '2371', '2373', '2375', '2376', '23770', '23771', '23772', '23773', '2379', '2380', '2381', '2382', '2384', '2386', '2387', '23871', '23872', '23873', '23874', '23875', '23876', '23877', '23879', '2388', '2390', '2391', '2392', '2394', '2395', '2396', '2397', '23989', '2409', '2410', '2411', '2419', '24200', '24201', '24210', '24220', '24221', '24230', '24280', '24290', '24291', '243', '2440', '2441', '2442', '2443', '2448', '2449', '2452', '2454', '2458', '2459', '2462', '2468', '2469', '24900', '24901', '24911', '24950', '24960', '24980', '24981', '24990', '24991', '25001', '25002', '25003', '25010', '25011', '25012', '25013', '25020', '25021', '25022', '25023', '25030', '25031', '25032', '25033', '25040', '25041', '25042', '25043', '25050', '25051', '25052', '25053', '25060', '25061', '25062', '25063', '25070', '25071', '25072', '25073', '25080', '25081', '25082', '25083', '25090', '25091', '25092', '25093', '2511', '2512', '2513', '2515', '2518', '2519', '2520', '25200', '25201', '25202', '25208', '2521', '2528', '2530', '2531', '2532', '2533', '2534', '2535', '2536', '2537', '2538', '2539', '2540', '2541', '2548', '2550', '25510', '25512', '2552', '2553', '2554', '25541', '25542', '2555', '2558', '2559', '2561', '25639', '2564', '2571', '2572', '25801', '2581', '2588', '2589', '2592', '2594', '2598', '2599', '260', '261', '262', '2630', '2631', '2638', '2639', '2650', '2651', '2652', '2662', '2669', '267', '2682', '2689', '2690', '2692', '2693', '2698', '2699', '2700', '2702', '2704', '2706', '2707', '2710', '2713', '2718', '2720', '2721', '2722', '2725', '2726', '2727', '2728', '2729', '2730', '2731', '2732', '2733', '2734', '2738', '2739', '2740', '27400', '27401', '27402', '27403', '27411', '27482', '27489', '2749', '2750', '27501', '27502', '27503', '27509', '2751', '2752', '2753', '27540', '27541', '27542', '27549', '2755', '2758', '2759', '2760', '2761', '2762', '2763', '2764', '2765', '27650', '27651', '27652', '2766', '27661', '27669', '2767', '2768', '2769', '27700', '27702', '27709', '2771', '2773', '27730', '27731', '27739', '2774', '2776', '2777', '27787', '27788', '27789', '2779', '27800', '27801', '27802', '27803', '2781', '2788', '27900', '27901', '27903', '27906', '2793', '2794', '27941', '27949', '27950', '27951', '27952', '27953', '2798', '2800', '2808', '2809', '2810', '2811', '2812', '2813', '2818', '2819', '2820', '2821', '2822', '2823', '2824', '28240', '28241', '28243', '28244', '28246', '28249', '2825', '28260', '28262', '28264', '2827', '2829', '2830', '28310', '28311', '28319', '2832', '2839', '2840', '2841', '28411', '28412', '28419', '2842', '2848', '28489', '2849', '2851', '28521', '28522', '28529', '2853', '2858', '2859', '2860', '2861', '2862', '2863', '2864', '2865', '28652', '2866', '2867', '2869', '2870', '2871', '2872', '2873', '28730', '28731', '28732', '2874', '28749', '2875', '2879', '2880', '28800', '28801', '28802', '28803', '28804', '28809', '2881', '2882', '2883', '2884', '28850', '28851', '28859', '28860', '28861', '28862', '28863', '28866', '2888', '2890', '2891', '2893', '2894', '28950', '28951', '28952', '28959', '2897', '28981', '28982', '28983', '28984', '28989', '2899', '2900', '29010', '29012', '2903', '29040', '29041', '29042', '29043', '2910', '2911', '2912', '2913', '29181', '29189', '2920', '29211', '29212', '29281', '29282', '29284', '29285', '29289', '2929', '2930', '2931', '29381', '29382', '29383', '29389', '2939', '2940', '29410', '29411', '29420', '29421', '2948', '2949', '29502', '29512', '29520', '29522', '29524', '29530', '29532', '29540', '29544', '29560', '29562', '29564', '29570', '29572', '29573', '29574', '29575', '29580', '29590', '29592', '29600', '29604', '29614', '29620', '29621', '29622', '29623', '29624', '29625', '29630', '29631', '29632', '29633', '29634', '29640', '29644', '29650', '29651', '29653', '29654', '2967', '29680', '29681', '29689', '29690', '29699', '2971', '2972', '2978', '2979', '2980', '2982', '2989', '29900', '29980', '29990', '30000', '30001', '30002', '30009', '30011', '30012', '30014', '30015', '30016', '30021', '30022', '30029', '3003', '3004', '3007', '30089', '3009', '3010', '30113', '30120', '30122', '3013', '3014', '30150', '30151', '3017', '30181', '30183', '3019', '30250', '30285', '3029', '30300', '30301', '30302', '30303', '30390', '30391', '30392', '30393', '30400', '30401', '30402', '30403', '30410', '30411', '30420', '30421', '30422', '30423', '30430', '30431', '30440', '30441', '30443', '30460', '30461', '30470', '30471', '30472', '30473', '30480', '30481', '30483', '30490', '30491', '30493', '30500', '30501', '30502', '30503', '3051', '30520', '30521', '30522', '30523', '30530', '30531', '30540', '30541', '30543', '30550', '30551', '30552', '30553', '30560', '30561', '30562', '30563', '30570', '30571', '30573', '30580', '30583', '30590', '30591', '30592', '30593', '3060', '3061', '3062', '3068', '3069', '3071', '30723', '30742', '30747', '30749', '30750', '30751', '30752', '30759', '3076', '30781', '30789', '3079', '3080', '3081', '3082', '3083', '3089', '3090', '3091', '30924', '30928', '3093', '3094', '30981', '30989', '3099', '3100', '3101', '3102', '3108', '3109', '311', '31230', '31234', '31239', '31289', '3129', '31381', '31400', '31401', '3152', '31531', '31539', '3154', '3158', '3159', '316', '317', '3180', '3181', '3182', '319', '3200', '3201', '3202', '3203', '3207', '32082', '32089', '3209', '3210', '3212', '3220', '3221', '3222', '3229', '32341', '32351', '32361', '32362', '32372', '3238', '32381', '32382', '3239', '3240', '3241', '325', '326', '32713', '32719', '32720', '32721', '32723', '32724', '32725', '32726', '32727', '32737', '32742', '3300', '3301', '3308', '3310', '33119', '3313', '3314', '3315', '33182', '33183', '33189', '3319', '3320', '3321', '3330', '3331', '3332', '3334', '3335', '3336', '3337', '33372', '33379', '33381', '33382', '33384', '33385', '33390', '33391', '33392', '33394', '33399', '3340', '3341', '3342', '3343', '3344', '3348', '3349', '33510', '33511', '33520', '33522', '33523', '3360', '3361', '3363', '3368', '3369', '3370', '33701', '33709', '3371', '33720', '33721', '33722', '33729', '3373', '3379', '3380', '33811', '33812', '33818', '33819', '33821', '33822', '33828', '33829', '3383', '3384', '33900', '33902', '33912', '33920', '3393', '33989', '340', '3410', '3411', '34120', '3418', '3419', '34200', '34201', '34202', '34210', '34211', '34212', '34280', '34281', '34282', '34290', '34291', '34292', '3430', '3431', '3432', '3434', '3438', '3439', '34400', '34401', '34402', '34403', '34404', '34409', '3441', '3442', '34430', '34431', '34440', '34441', '34442', '3445', '34460', '34461', '34481', '34489', '3449', '34500', '34501', '34510', '34511', '3452', '3453', '34540', '34541', '34550', '34551', '34570', '34571', '34580', '34581', '34590', '34591', '34600', '34620', '34670', '34680', '34690', '34691', '34693', '34700', '34701', '34710', '3480', '3481', '3482', '3483', '34830', '34831', '34839', '3484', '3485', '3488', '34881', '34882', '34889', '3489', '3490', '3491', '3492', '34931', '34939', '34981', '34982', '34989', '3499', '3501', '3502', '3509', '3510', '3518', '3519', '3522', '3523', '3524', '3526', '3529', '3530', '3536', '3540', '3541', '3542', '3543', '3545', '3548', '3549', '3550', '3551', '3552', '3553', '3556', '35571', '35579', '3558', '3559', '3561', '3562', '3568', '3569', '3570', '3571', '3572', '3573', '3574', '3575', '3576', '3577', '3578', '35781', '35782', '35789', '3580', '35800', '35801', '3581', '3588', '3589', '3590', '3591', '3592', '35921', '35922', '3593', '3594', '3595', '35971', '35981', '35989', '3599', '36000', '36001', '36002', '36003', '36012', '36019', '36040', '36043', '36100', '36101', '36105', '36106', '36107', '3612', '36189', '3619', '36201', '36202', '36203', '36204', '36205', '36206', '36207', '36210', '36211', '36213', '36221', '36230', '36231', '36232', '36233', '36234', '36241', '36250', '36251', '36252', '36253', '36274', '36275', '36281', '36283', '36284', '36289', '3629', '36315', '36320', '36362', '36372', '36400', '36403', '3643', '36441', '36470', '36500', '36510', '36511', '36512', '36520', '36522', '36523', '36544', '36552', '36563', '36565', '36570', '36573', '36589', '3659', '36616', '36641', '36646', '3668', '3669', '3671', '3674', '36800', '36801', '36811', '36812', '36813', '36815', '36816', '3682', '36840', '36841', '36844', '36846', '36847', '36859', '3688', '3689', '36900', '36901', '36910', '3693', '3694', '36960', '36970', '3698', '3699', '37000', '37005', '37024', '37034', '3708', '3709', '37140', '37143', '37182', '37189', '37200', '37203', '37210', '37214', '37230', '37239', '37240', '37272', '37273', '37274', '37275', '37289', '3729', '37300', '37311', '37312', '37313', '3732', '3739', '37410', '37420', '37430', '37431', '37432', '37443', '37452', '37489', '3749', '37500', '37501', '37515', '37520', '37530', '37556', '3759', '37601', '37603', '37630', '37632', '37633', '37652', '37689', '3769', '37700', '37701', '37702', '37710', '37716', '37730', '37733', '37739', '37741', '37749', '37751', '37775', '37800', '37810', '37820', '37842', '37850', '37851', '37852', '37853', '37854', '37855', '37871', '37881', '37882', '37886', '37887', '3789', '37900', '37909', '37921', '37922', '37923', '37924', '37940', '37941', '37942', '37943', '37950', '37952', '37955', '37956', '3798', '37990', '37991', '37992', '37993', '37999', '38000', '38003', '38010', '38014', '38015', '38021', '38022', '38023', '3804', '38100', '3814', '38201', '3824', '3829', '38300', '38302', '3831', '38321', '3839', '38401', '38420', '38582', '38589', '38600', '38610', '38611', '38612', '38619', '3862', '38630', '3869', '3879', '38830', '38832', '38842', '3885', '38860', '38861', '38869', '38870', '38871', '38872', '3888', '38900', '38903', '38905', '38906', '38908', '38910', '38912', '38915', '38917', '38918', '38921', '38922', '3897', '3898', '3899', '390', '3910', '3911', '3918', '393', '3940', '3941', '3942', '3949', '3950', '3951', '3952', '3960', '3961', '3962', '3963', '3968', '3969', '3970', '3971', '39890', '39891', '39899', '4010', '4011', '40200', '40201', '40210', '40211', '40290', '40291', '40300', '40301', '40310', '40311', '40390', '40391', '40400', '40401', '40403', '40411', '40490', '40491', '40492', '40493', '40501', '40511', '40591', '40599', '41000', '41001', '41002', '41010', '41011', '41012', '41020', '41021', '41022', '41031', '41032', '41040', '41041', '41042', '41051', '41061', '41071', '41072', '41081', '41082', '41090', '41091', '41092', '4110', '4111', '41181', '41189', '412', '4131', '4139', '41400', '41402', '41403', '41404', '41405', '41410', '41411', '41412', '41419', '4142', '4144', '4148', '4149', '4150', '41511', '41512', '41513', '41519', '4160', '4162', '4168', '4169', '4170', '4171', '4178', '4179', '4200', '42090', '42091', '42099', '4210', '4219', '4220', '42290', '42291', '42293', '4230', '4231', '4232', '4233', '4238', '4239', '4240', '4241', '4242', '4243', '42490', '42491', '4251', '42511', '42518', '4253', '4254', '4255', '4257', '4258', '4259', '4260', '42610', '42611', '42612', '42613', '4262', '4263', '4264', '42650', '42651', '42652', '42653', '42654', '4266', '4267', '42682', '42689', '4269', '4270', '4271', '4272', '42732', '42741', '42742', '4275', '42761', '42769', '42781', '42789', '4279', '4281', '42820', '42821', '42822', '42823', '42830', '42831', '42832', '42833', '42840', '42841', '42842', '42843', '4289', '4290', '4291', '4292', '4293', '4294', '4295', '4296', '42971', '42979', '42981', '42983', '42989', '4299', '430', '431', '4320', '4321', '4329', '43300', '43301', '43310', '43311', '43320', '43321', '43330', '43331', '43380', '43381', '43391', '43400', '43401', '43410', '43411', '43490', '43491', '4350', '4351', '4352', '4358', '4359', '436', '4370', '4371', '4372', '4373', '4374', '4375', '4376', '4377', '4378', '4379', '4380', '43810', '43811', '43812', '43813', '43814', '43819', '43820', '43821', '43822', '43830', '43840', '43850', '43852', '43853', '4386', '4387', '43881', '43882', '43883', '43884', '43885', '43889', '4389', '4400', '4401', '44020', '44021', '44022', '44023', '44024', '44029', '44030', '44031', '44032', '4404', '4408', '4409', '44100', '44101', '44102', '44103', '4411', '4412', '4413', '4414', '4416', '4417', '4419', '4420', '4421', '4422', '4423', '44281', '44282', '44283', '44284', '44289', '4430', '4431', '44321', '44322', '44323', '44324', '44329', '44381', '44382', '44389', '4439', '4440', '44409', '4441', '44421', '44422', '44481', '44489', '4449', '44502', '44581', '44589', '4460', '44620', '44621', '44629', '4464', '4465', '4466', '4467', '4470', '4471', '4472', '4473', '4474', '4475', '4476', '44771', '44772', '44773', '4478', '4479', '4480', '4481', '4489', '449', '4510', '45111', '45119', '4512', '45181', '45182', '45183', '45184', '45189', '4519', '452', '4530', '4531', '4532', '4533', '45340', '45341', '45342', '45350', '45351', '45352', '4536', '45371', '45372', '45374', '45375', '45376', '45377', '45379', '4538', '45381', '45382', '45383', '45384', '45385', '45386', '45387', '45389', '4539', '4540', '4541', '4548', '4549', '4550', '4551', '4552', '4553', '4554', '4555', '4556', '4558', '4559', '4560', '4561', '45620', '45621', '4568', '4570', '4571', '4572', '4578', '4580', '4581', '4582', '45821', '45829', '4588', '4589', '4590', '45910', '4592', '45981', '45989', '4599', '4610', '4611', '4612', '4613', '4618', '4619', '462', '463', '46400', '46410', '46411', '46430', '46431', '46450', '46451', '4659', '4660', '46611', '46619', '470', '4710', '4718', '4719', '4720', '4730', '4731', '4732', '4733', '4738', '4739', '47400', '47411', '47412', '4748', '4749', '475', '4770', '4772', '4778', '4779', '4780', '4781', '47819', '47820', '47821', '47822', '47824', '47825', '47829', '47830', '47831', '47832', '47833', '47834', '4784', '4785', '4786', '47870', '47871', '47874', '47875', '47879', '4789', '4801', '4802', '4808', '4809', '481', '4820', '4821', '4822', '48230', '48231', '48232', '48239', '48240', '48241', '48242', '48249', '48281', '48282', '48283', '48284', '48289', '4829', '4830', '4838', '4841', '4843', '4846', '4847', '4848', '485', '486', '4870', '4871', '4878', '48801', '4881', '490', '4910', '49120', '49121', '49122', '4918', '4919', '4920', '4928', '49300', '49301', '49302', '49320', '49321', '49322', '49381', '49382', '49390', '49391', '49392', '4940', '4941', '4957', '4958', '4959', '496', '500', '501', '502', '5060', '5070', '5071', '5078', '5080', '5081', '5082', '5100', '5109', '5110', '5111', '5118', '51181', '51189', '5119', '5120', '5121', '5122', '5128', '51283', '51284', '51289', '5130', '5131', '514', '515', '5160', '5161', '5163', '51631', '51633', '51634', '51636', '5164', '5168', '5169', '5172', '5173', '5178', '5180', '5181', '5183', '5184', '5185', '51851', '51852', '51853', '5186', '5187', '51882', '51883', '51884', '51889', '51900', '51901', '51902', '51909', '5191', '51911', '51919', '5192', '5193', '5194', '5198', '5199', '5200', '5206', '52100', '52108', '52109', '52181', '5219', '5224', '5225', '5226', '52310', '5233', '52330', '52331', '52333', '5234', '52340', '52342', '5235', '5238', '5239', '52400', '52410', '5244', '52460', '52462', '52469', '52489', '52510', '52511', '52512', '5253', '52540', '52550', '52563', '52579', '5258', '5259', '5260', '5262', '5264', '5265', '52689', '5269', '5272', '5273', '5275', '5277', '5278', '5279', '5280', '52800', '52801', '52809', '5282', '5283', '5285', '5289', '5290', '5291', '5293', '5296', '5298', '5300', '53010', '53011', '53012', '53013', '53019', '5302', '53020', '53021', '5303', '5304', '5305', '5306', '5307', '53082', '53084', '53085', '53087', '53089', '5309', '53100', '53101', '53110', '53111', '53120', '53130', '53140', '53141', '53150', '53160', '53170', '53171', '53190', '53191', '53200', '53201', '53210', '53211', '53220', '53230', '53240', '53241', '53250', '53251', '53260', '53261', '53270', '53290', '53291', '53300', '53311', '53340', '53341', '53370', '53390', '53400', '53401', '53410', '53430', '53440', '53441', '53450', '53490', '53500', '53501', '53510', '53511', '53520', '53521', '53530', '53531', '53540', '53541', '53550', '53551', '53560', '53561', '53570', '5361', '5362', '5363', '53640', '53641', '53642', '53649', '5368', '5369', '5370', '5371', '5373', '5374', '53781', '53782', '53783', '53784', '53789', '5379', '538', '53989', '5400', '5401', '5409', '541', '542', '5439', '55000', '55001', '55010', '55011', '55012', '55090', '55091', '55092', '55093', '55100', '5511', '55120', '55121', '5513', '5518', '55200', '55202', '5521', '55220', '55221', '55229', '5523', '5528', '5529', '55300', '5531', '55320', '55321', '55329', '5533', '5538', '5539', '5550', '5551', '5552', '5559', '5560', '5561', '5562', '5563', '5564', '5565', '5566', '5568', '5569', '5570', '5571', '5579', '5581', '5582', '5583', '55841', '5589', '5600', '5601', '5602', '56030', '56031', '56032', '56039', '56081', '56089', '5609', '56200', '56201', '56202', '56210', '56211', '56212', '56213', '56400', '56401', '56409', '5641', '5642', '5643', '5644', '5646', '5647', '56481', '56489', '5650', '5651', '566', '5670', '5671', '5672', '56721', '56722', '56723', '56729', '56731', '56738', '5678', '56781', '56782', '56789', '5679', '5680', '56881', '56882', '56889', '5690', '5691', '5692', '5693', '56941', '56942', '56944', '56949', '5695', '56960', '56961', '56962', '56969', '56971', '56981', '56982', '56983', '56984', '56985', '56986', '56987', '56989', '5699', '570', '5710', '5711', '5712', '5713', '57140', '57142', '57149', '5715', '5716', '5718', '5719', '5720', '5721', '5722', '5723', '5724', '5728', '5730', '5731', '5733', '5734', '5735', '5738', '5739', '57400', '57401', '57410', '57411', '57420', '57421', '57430', '57431', '57440', '57441', '57450', '57451', '57460', '57461', '57470', '57471', '57480', '57481', '57490', '57491', '5750', '57510', '57511', '57512', '5752', '5753', '5754', '5755', '5756', '5758', '5759', '5761', '5762', '5763', '5764', '5768', '5769', '5770', '5771', '5772', '5778', '5779', '5780', '5781', '5789', '5790', '5793', '5798', '5799', '5800', '5804', '58081', '58089', '5809', '5810', '5811', '5812', '58181', '58189', '5819', '5820', '5821', '5822', '5824', '58281', '58289', '5829', '5830', '5831', '5832', '5834', '58381', '58389', '5839', '5845', '5846', '5847', '5848', '585', '5851', '5852', '5853', '5854', '5855', '5856', '5859', '586', '587', '5880', '5881', '5888', '58881', '58889', '5890', '59000', '59001', '59010', '59011', '5902', '59080', '591', '5920', '5921', '5929', '5931', '5932', '5933', '5934', '5935', '59370', '59373', '59381', '59382', '59389', '5939', '5940', '5941', '5942', '5949', '5950', '5951', '5952', '59581', '59582', '59589', '5959', '5960', '5961', '5963', '5964', '59651', '59654', '59655', '59659', '5966', '5967', '5968', '59689', '5969', '5970', '59789', '59800', '5981', '5982', '5988', '5989', '5991', '5993', '5994', '5995', '5996', '59960', '59969', '5997', '59970', '59971', '59972', '59984', '6000', '60000', '60001', '60010', '60011', '60090', '60091', '6010', '6011', '6012', '6018', '6019', '6021', '6023', '6028', '6031', '6038', '6039', '6040', '60490', '60499', '605', '6072', '6073', '60781', '60782', '60783', '60784', '60785', '60789', '6079', '6080', '60820', '6084', '60883', '60886', '60889', '6089', '6101', '6110', '6111', '6116', '61171', '61172', '61179', '6118', '61189', '6119', '6140', '6142', '6143', '6144', '6145', '6146', '6149', '6150', '6151', '6159', '6160', '61610', '6162', '6164', '61650', '6168', '61689', '6169', '6170', '6171', '6172', '6173', '6175', '6178', '6179', '6180', '61800', '61801', '61804', '6181', '6182', '6183', '6184', '6185', '61882', '6190', '6191', '6192', '6198', '6200', '6201', '6202', '6203', '6205', '6208', '6209', '6210', '6212', '62130', '6214', '6218', '62210', '62211', '6232', '6235', '6238', '62402', '6248', '6249', '6251', '6253', '6254', '6255', '6256', '62570', '6258', '6259', '6260', '6261', '6262', '6264', '6266', '6268', '6269', '6270', '6271', '6272', '6273', '6274', '6279', '6289', '62981', '62989', '632', '63320', '63380', '63401', '63411', '63412', '63421', '63491', '63512', '63522', '63572', '6390', '6391', '6392', '6396', '6398', '64101', '64103', '64121', '64131', '64133', '64201', '64203', '64204', '64214', '64224', '64231', '64233', '64234', '64241', '64243', '64244', '64251', '64252', '64254', '64261', '64263', '64264', '64271', '64274', '64292', '64293', '64294', '64303', '64313', '64403', '64421', '64511', '64621', '64623', '64653', '64663', '64664', '64671', '64673', '64681', '64682', '64683', '64761', '64781', '64782', '64783', '64784', '64793', '64801', '64803', '64804', '64811', '64813', '64814', '64821', '64822', '64823', '64824', '64831', '64833', '64841', '64842', '64843', '64844', '64852', '64861', '64862', '64863', '64864', '64881', '64883', '64884', '64891', '64892', '64893', '64894', '64903', '64904', '64913', '64914', '64931', '64933', '64934', '64943', '64944', '65101', '65221', '65251', '65261', '65404', '65411', '65414', '65421', '65423', '65441', '65444', '65451', '65571', '65583', '65641', '65651', '65661', '65701', '65801', '65821', '65921', '65951', '65953', '65961', '65963', '65971', '66001', '66021', '66111', '66131', '66331', '66401', '66411', '66524', '66531', '66534', '66541', '66551', '66554', '66561', '66574', '66602', '66604', '66612', '66614', '66622', '66624', '66632', '66634', '66822', '66911', '66914', '66921', '66932', '66934', '66942', '66944', '67002', '67004', '67012', '67014', '67154', '67202', '67204', '67323', '67324', '67333', '67401', '67403', '67404', '67412', '67414', '67432', '67434', '67451', '67454', '67482', '67484', '677', '6802', '6805', '6806', '6809', '68100', '68101', '68102', '68110', '68111', '6820', '6821', '6822', '6823', '6824', '6825', '6826', '6827', '6828', '6829', '683', '684', '6850', '6851', '68601', '68609', '6861', '6868', '6869', '69010', '69018', '6910', '6918', '6920', '6923', '6924', '6926', '69279', '69282', '69289', '6929', '6930', '6931', '6940', '6944', '6945', '6948', '6950', '6951', '69510', '69512', '69513', '69514', '69515', '6952', '6953', '6954', '69550', '69551', '69581', '69589', '6959', '6960', '6961', '6962', '6963', '6965', '6970', '6979', '6981', '6982', '6983', '6984', '6988', '6989', '700', '7010', '7011', '7012', '7013', '7015', '7018', '7019', '7020', '70219', '7028', '7030', '7038', '70400', '70401', '70409', '7041', '7048', '7051', '70521', '70583', '7061', '7062', '7068', '7069', '7070', '70700', '70701', '70702', '70703', '70704', '70705', '70706', '70707', '70709', '70710', '70711', '70712', '70713', '70714', '70715', '70719', '70720', '70721', '70722', '70723', '70724', '70725', '7078', '7079', '7080', '7083', '7088', '7089', '70900', '70901', '70909', '7092', '7093', '7094', '7098', '7099', '7100', '7101', '7102', '7103', '7104', '7105', '7108', '7109', '71101', '71102', '71103', '71105', '71106', '71107', '71108', '71109', '71120', '71155', '71191', '71195', '71198', '71213', '71216', '71222', '71226', '71230', '71233', '71235', '71236', '71237', '71238', '71239', '71296', '7131', '7135', '7138', '7140', '7141', '7142', '71430', '71481', '71489', '7149', '71500', '71509', '71515', '71516', '71530', '71531', '71533', '71534', '71535', '71536', '71537', '71580', '71589', '71590', '71591', '71592', '71593', '71594', '71595', '71596', '71597', '71598', '71615', '71616', '71650', '71666', '71680', '71687', '71690', '71691', '71693', '71694', '71695', '71696', '71697', '71698', '71699', '7176', '71784', '71821', '71828', '71831', '71835', '71840', '71842', '71843', '71844', '71845', '71846', '71847', '71848', '71849', '71855', '71856', '71865', '71887', '71888', '71891', '71895', '71897', '71901', '71902', '71903', '71904', '71905', '71906', '71907', '71909', '71911', '71912', '71913', '71916', '71918', '71930', '71940', '71941', '71942', '71943', '71944', '71945', '71946', '71947', '71949', '71950', '71958', '71965', '71966', '7197', '71970', '71985', '71986', '71990', '71996', '7200', '7202', '7209', '7210', '7211', '7212', '7213', '72141', '72142', '7217', '7218', '72190', '72191', '7220', '72210', '72211', '7222', '72230', '7224', '72251', '72252', '7226', '72270', '72271', '72272', '72273', '72283', '72290', '72291', '72292', '72293', '7230', '7231', '7234', '7235', '7237', '7238', '72400', '72401', '72402', '72403', '72409', '7242', '7243', '7244', '7245', '7246', '7248', '7249', '725', '7260', '72610', '72611', '72612', '72619', '7262', '72632', '72633', '7265', '72660', '72664', '72665', '72669', '72671', '72672', '72673', '72679', '72690', '72691', '72700', '72703', '72704', '72705', '72706', '72709', '7271', '7273', '72740', '72741', '72742', '72743', '72751', '72761', '72762', '72763', '72781', '72782', '72789', '7279', '7280', '72813', '7282', '7283', '7286', '72871', '72879', '72882', '72883', '72884', '72885', '72886', '72887', '72888', '72889', '7289', '7291', '7292', '72930', '72939', '7294', '7295', '7296', '72971', '72972', '72973', '72981', '72982', '72989', '7299', '72990', '72991', '72992', '72999', '73001', '73002', '73004', '73005', '73006', '73007', '73008', '73009', '73012', '73013', '73015', '73016', '73017', '73018', '73019', '73020', '73022', '73023', '73024', '73025', '73026', '73027', '73028', '73029', '73088', '73089', '7310', '7313', '7318', '7320', '7321', '7323', '7324', '7325', '73300', '73301', '73302', '73309', '73311', '73312', '73313', '73314', '73315', '73316', '73319', '73320', '73329', '7333', '73341', '73342', '73345', '73349', '7335', '7336', '73381', '73382', '73390', '73393', '73396', '73399', '734', '7350', '7354', '7355', '7358', '7359', '73600', '73605', '73609', '73620', '73629', '73630', '7366', '73670', '73671', '73672', '73679', '73681', '73689', '73710', '73711', '73712', '73719', '73722', '73729', '73730', '73732', '73733', '73734', '73739', '73741', '73743', '7380', '73810', '73819', '7383', '7384', '7385', '7386', '7388', '74100', '74101', '74103', '74190', '74193', '7420', '7421', '7422', '7423', '7424', '74259', '7429', '74320', '74349', '74361', '74362', '74363', '74365', '74401', '74423', '74429', '74441', '74442', '7450', '74510', '74512', '7452', '7454', '7455', '74560', '74561', '74569', '7458', '7459', '74601', '74602', '74609', '7461', '7462', '7463', '7464', '7466', '7467', '74681', '74682', '74683', '74684', '74685', '74686', '74687', '74689', '7469', '7470', '74710', '74711', '74720', '74721', '74722', '74729', '7473', '74732', '74740', '74741', '74742', '74749', '7475', '74761', '74762', '74763', '74769', '74781', '74782', '74783', '7480', '7481', '7482', '7483', '7485', '74861', '74869', '74900', '74910', '74912', '75019', '75029', '7503', '7504', '7508', '7509', '7510', '7511', '7512', '7513', '7514', '7515', '75160', '75162', '75169', '7517', '7520', '75219', '7522', '7523', '75251', '75261', '75263', '75289', '7530', '75310', '75311', '75312', '75313', '75314', '75315', '75317', '75319', '75321', '75322', '75323', '75329', '7533', '7534', '7535', '7539', '7541', '7542', '75432', '75461', '75470', '75481', '75482', '75489', '75501', '75502', '75521', '75526', '75530', '75531', '75550', '75559', '75563', '75564', '75567', '7560', '75610', '75612', '75613', '75614', '75615', '75616', '75617', '75619', '7563', '7564', '75651', '7566', '75679', '75683', '75689', '7569', '7570', '7571', '75732', '75733', '75739', '7580', '7581', '75839', '7585', '7586', '7587', '75881', '7589', '7590', '7592', '7593', '7595', '7596', '75981', '75982', '75983', '75989', '7600', '76072', '76075', '76076', '76079', '7608', '7612', '7613', '7615', '7617', '7621', '7622', '7623', '7624', '7625', '7626', '7630', '7631', '7633', '76382', '76383', '76384', '76389', '76402', '76403', '76404', '76405', '76406', '76407', '76408', '76409', '76492', '76493', '76494', '76495', '76496', '76497', '76498', '76499', '76501', '76502', '76503', '76504', '76505', '76508', '76510', '76512', '76513', '76514', '76515', '76516', '76517', '76518', '76519', '76522', '76523', '76524', '76525', '76526', '76527', '76528', '76529', '7661', '76621', '7670', '7671', '76719', '7673', '7676', '7678', '7683', '7686', '7687', '7689', '769', '7700', '7701', '77012', '77016', '77018', '7702', '7703', '7704', '7705', '7706', '7707', '7708', '77081', '77082', '77083', '77089', '7712', '7714', '7716', '7717', '7718', '77181', '77182', '77183', '7720', '7721', '77210', '77211', '77212', '77213', '77214', '7722', '7724', '7726', '7728', '7730', '7731', '7732', '7742', '77430', '77431', '77439', '7744', '7746', '7750', '7755', '7756', '7757', '7758', '7760', '7761', '7762', '7764', '7765', '7766', '7767', '7771', '7774', '7775', '7776', '7778', '7780', '7783', '7784', '7786', '7788', '7789', '7790', '7792', '7793', '7795', '7797', '7798', '77981', '77982', '77989', '78001', '78002', '78003', '78009', '7801', '7802', '78033', '78039', '7804', '78050', '78051', '78052', '78053', '78054', '78055', '78057', '78059', '7806', '78060', '78061', '78062', '78064', '78065', '78066', '78071', '78072', '78079', '7808', '7809', '78093', '78094', '78096', '78097', '78099', '7810', '7811', '7812', '7813', '7816', '7818', '78194', '78199', '7820', '7821', '7822', '7823', '7824', '7825', '78261', '78262', '7827', '7828', '7830', '7831', '78321', '7833', '78340', '78341', '78343', '7835', '7836', '7837', '7840', '7841', '7842', '7843', '78441', '78442', '78443', '78449', '7845', '78451', '78459', '78461', '78469', '7847', '78491', '78492', '78499', '7850', '7851', '7852', '7854', '78550', '78551', '78552', '78559', '7856', '7859', '78600', '78601', '78602', '78603', '78604', '78605', '78606', '78607', '78609', '7861', '7862', '7863', '78630', '78639', '7864', '78650', '78651', '78652', '78659', '7866', '7868', '7869', '78701', '78702', '78703', '78704', '7871', '7872', '78720', '78721', '78722', '78723', '78724', '78729', '7873', '7874', '7876', '78760', '78791', '78799', '7881', '78820', '78821', '78829', '78830', '78831', '78832', '78833', '78834', '78837', '78838', '78839', '78841', '78842', '78843', '7885', '78862', '78863', '78864', '78865', '78869', '7887', '7888', '78891', '78899', '78900', '78901', '78902', '78903', '78904', '78905', '78906', '78907', '78909', '7891', '7892', '78930', '78931', '78932', '78933', '78934', '78937', '78939', '78947', '7895', '78951', '78959', '78960', '78961', '79001', '79009', '7901', '7902', '79021', '79022', '79029', '7904', '7905', '7906', '7907', '7908', '79092', '79093', '79094', '79095', '79099', '7910', '7912', '7913', '7915', '7916', '7919', '7920', '7921', '7929', '7930', '7931', '79311', '79319', '7932', '7933', '7934', '7935', '7936', '7937', '79380', '79381', '79389', '79399', '79400', '79401', '79402', '79409', '79415', '7942', '79431', '79439', '7944', '7945', '7946', '7947', '7948', '7949', '79500', '79509', '79510', '79539', '7955', '79551', '79552', '79579', '79589', '7960', '7961', '7962', '7963', '7964', '79671', '7969', '7990', '79901', '79902', '7991', '7992', '79923', '79929', '7993', '7994', '79953', '79955', '79959', '79989', '80000', '80001', '80002', '80006', '80009', '80010', '80011', '80012', '80013', '80015', '80016', '80020', '80021', '80022', '80023', '80024', '80025', '80026', '80030', '80031', '80034', '80036', '80060', '80061', '80070', '80071', '80075', '80076', '80080', '80082', '80085', '80100', '80101', '80102', '80105', '80106', '80109', '80110', '80111', '80112', '80113', '80114', '80115', '80116', '80119', '80120', '80121', '80122', '80123', '80124', '80125', '80126', '80130', '80131', '80132', '80135', '80136', '80141', '80142', '80144', '80145', '80146', '80150', '80152', '80160', '80161', '80165', '80170', '80171', '80172', '80175', '80176', '80180', '80182', '80196', '8020', '8021', '80220', '80221', '80222', '80223', '80224', '80225', '80226', '80227', '80228', '80229', '80230', '80234', '80235', '80236', '80238', '80239', '8024', '8025', '8026', '8027', '8028', '8029', '80311', '80312', '80315', '80316', '80320', '80321', '80322', '80324', '80325', '80326', '80332', '80336', '80341', '80350', '80360', '80362', '80366', '80372', '80375', '80376', '80400', '80412', '80420', '80421', '80422', '80423', '80425', '80426', '80432', '80435', '80436', '80466', '80470', '80475', '80476', '80485', '80500', '80501', '80502', '80503', '80504', '80505', '80506', '80507', '80508', '8052', '8053', '8054', '8055', '8056', '8058', '80600', '80601', '80602', '80603', '80604', '80605', '80606', '80607', '80608', '80609', '80610', '80616', '80620', '80621', '80622', '80623', '80624', '80625', '80626', '80629', '80631', '80639', '8064', '8065', '80660', '80662', '8068', '80700', '80701', '80702', '80703', '80704', '80705', '80706', '80707', '80708', '80709', '80710', '80711', '80718', '8072', '8073', '8074', '8075', '8076', '8080', '8081', '8082', '8083', '80841', '80842', '80843', '80849', '80851', '80853', '80859', '8088', '8089', '81000', '81001', '81002', '81003', '81010', '81012', '81100', '81101', '81102', '81103', '81109', '81110', '81200', '81201', '81202', '81203', '81209', '81210', '81212', '81219', '81220', '81221', '81230', '81231', '81240', '81241', '81242', '81243', '81244', '81249', '81250', '81251', '81252', '81254', '81259', '81301', '81302', '81303', '81305', '81307', '81308', '81311', '81313', '81314', '81318', '81321', '81322', '81323', '81331', '81332', '81333', '81341', '81342', '81343', '81344', '81351', '81352', '81353', '81354', '81381', '81382', '81383', '81391', '81392', '81393', '81400', '81401', '81402', '81403', '81404', '81405', '81406', '81407', '81408', '81409', '81411', '81412', '81418', '81419', '81500', '81501', '81502', '81503', '81504', '81509', '81510', '81512', '81513', '81519', '81600', '81601', '81602', '81610', '81611', '81612', '81613', '8170', '8171', '8190', '8191', '82001', '82002', '82003', '82009', '82019', '82020', '82021', '82022', '82030', '82032', '8208', '8209', '82100', '82101', '82110', '82111', '82120', '82121', '82122', '82123', '82129', '82130', '82131', '82132', '82133', '82139', '8220', '8221', '82300', '82301', '82302', '82310', '82312', '82320', '82321', '82322', '82330', '82331', '82332', '82380', '82381', '82382', '82390', '82392', '8240', '8241', '8242', '8243', '8244', '8245', '8246', '8247', '8248', '8249', '8250', '8251', '82520', '82521', '82522', '82523', '82524', '82525', '82529', '82531', '82532', '82534', '82535', '82539', '8260', '8261', '8280', '8281', '8300', '83100', '83101', '83103', '83104', '83109', '83114', '83200', '83202', '83209', '83300', '83301', '83303', '83305', '83309', '83311', '83313', '83400', '83401', '83402', '83411', '83500', '83501', '83503', '8360', '8361', '8362', '8363', '8364', '83650', '83651', '83652', '83661', '8370', '8371', '83801', '83805', '83809', '83813', '83900', '83901', '83902', '83903', '83904', '83905', '83906', '83907', '83908', '83920', '83921', '83942', '83961', '83969', '8400', '8404', '8406', '8407', '8408', '8409', '8418', '84200', '84209', '8438', '8439', '8440', '8441', '8442', '8448', '8449', '84500', '84503', '84509', '8460', '8461', '8469', '8470', '8471', '8472', '8479', '8488', '8500', '85011', '8502', '8504', '8505', '8509', '85100', '85101', '85102', '85103', '85105', '85106', '85121', '85125', '85131', '85135', '85140', '85141', '85142', '85146', '85150', '85162', '85175', '85180', '85181', '85182', '85183', '85185', '85186', '85189', '85190', '85194', '85196', '85200', '85201', '85202', '85203', '85204', '85205', '85206', '85209', '85211', '85216', '85219', '85220', '85221', '85222', '85223', '85224', '85225', '85226', '85229', '85231', '85232', '85239', '85240', '85241', '85242', '85245', '85246', '85256', '85300', '85301', '85302', '85304', '85305', '85306', '85309', '85310', '85316', '85401', '85402', '85403', '85404', '85405', '85406', '8600', '8601', '8602', '8603', '8604', '8605', '86100', '86101', '86102', '86103', '86110', '86112', '86113', '86120', '86121', '86122', '86130', '86131', '86132', '8620', '8621', '86222', '86229', '86232', '86239', '8629', '8630', '8631', '86320', '86321', '86329', '86330', '86331', '86339', '86340', '86342', '86343', '86344', '86345', '86349', '86350', '86351', '86352', '86353', '86354', '86355', '86381', '86383', '86384', '86389', '86393', '86394', '86399', '86400', '86401', '86402', '86403', '86404', '86405', '86409', '86411', '86412', '86413', '86414', '86415', '86419', '86500', '86501', '86502', '86503', '86504', '86509', '86510', '86511', '86512', '86513', '86514', '86600', '86601', '86602', '86603', '86610', '86611', '86612', '86613', '8670', '8671', '8672', '8676', '8678', '8679', '86800', '86801', '86802', '86803', '86804', '86809', '86810', '86812', '86813', '86814', '86819', '8690', '8691', '8700', '8701', '8702', '8703', '8704', '8708', '8711', '8712', '87200', '87201', '87202', '87261', '87264', '87269', '8728', '8730', '8731', '87320', '87321', '87322', '87323', '87330', '87340', '87341', '87342', '87343', '87344', '87349', '87350', '87351', '87352', '87353', '87354', '87359', '87360', '87361', '87363', '87364', '87365', '87371', '87373', '87374', '8738', '87402', '87411', '87412', '8744', '8745', '8748', '8749', '8750', '8751', '8760', '8761', '8770', '8780', '8782', '8783', '8785', '8786', '8787', '8790', '8792', '8793', '8794', '8795', '8796', '8797', '8798', '8799', '88000', '88001', '88002', '88003', '88012', '88013', '88020', '88023', '88029', '88100', '88101', '88102', '88110', '88111', '88112', '88120', '88121', '88122', '8820', '8821', '8822', '8830', '8831', '8832', '8840', '8850', '8860', '8870', '8871', '8872', '8873', '8875', '8900', '8901', '8902', '8910', '8911', '8912', '8920', '8921', '8922', '8930', '8940', '8960', '8961', '8970', '8972', '8973', '8977', '90001', '90002', '90003', '9001', '90081', '90082', '90089', '9009', '9010', '9011', '9012', '9013', '90140', '90141', '90142', '90181', '90182', '9019', '9020', '90210', '90220', '90221', '90222', '90223', '90225', '90226', '90229', '90233', '90234', '90241', '90242', '90251', '90253', '90254', '90287', '90289', '9029', '90301', '9031', '9032', '9033', '9034', '9035', '9038', '9039', '9040', '9041', '9042', '90441', '90442', '90451', '90453', '9047', '9050', '9051', '9052', '9053', '9054', '9055', '9056', '9060', '9061', '9063', '9064', '9065', '9067', '9068', '9070', '9072', '9074', '9080', '9081', '9082', '9083', '9086', '9089', '9090', '9092', '9093', '9094', '9095', '9099', '9100', '9102', '9104', '9108', '9110', '9112', '9114', '9116', '9120', '9122', '9125', '9130', '9132', '9140', '9142', '9152', '9160', '9161', '9162', '9164', '9165', '9170', '9171', '9172', '9173', '9180', '9181', '9189', '9190', '9191', '9196', '9198', '920', '9210', '9211', '9212', '9213', '9219', '9220', '9221', '9222', '92231', '92232', '9224', '9228', '9229', '92300', '92301', '92303', '92309', '92310', '92311', '92320', '92321', '9233', '9239', '92400', '92401', '92410', '92411', '92420', '92421', '9243', '9245', '9248', '9249', '9252', '92612', '92619', '92701', '92710', '92720', '9273', '9278', '92800', '92801', '92810', '92811', '92820', '92821', '9301', '9308', '9309', '932', '9330', '9331', '9340', '9341', '9348', '9349', '9351', '9352', '936', '937', '938', '9390', '9392', '9393', '94100', '94108', '94126', '94127', '94128', '94203', '94204', '94209', '94214', '94224', '94232', '94320', '94321', '94325', '94335', '94401', '94420', '94421', '94423', '94425', '94504', '94519', '94522', '94524', '94532', '94536', '9462', '9471', '9472', '9473', '94800', '94840', '94850', '9500', '9509', '9510', '9513', '9514', '9515', '9517', '95200', '95202', '95203', '95204', '95205', '95206', '95207', '95208', '95209', '95214', '95219', '9528', '9529', '9530', '9531', '9534', '9535', '9540', '9551', '9552', '9553', '9556', '9557', '9558', '9559', '9561', '9562', '9563', '9569', '9570', '9571', '9578', '9579', '9580', '9581', '9582', '9583', '9584', '9585', '9587', '9588', '95891', '95892', '95893', '95899', '95901', '95909', '95911', '95912', '95914', '95919', '9592', '9593', '9594', '9595', '9596', '9597', '9598', '9599', '9600', '9604', '9605', '9610', '9617', '9619', '9623', '9627', '9630', '9631', '9635', '9642', '96500', '96501', '96502', '96509', '9651', '9654', '96561', '96569', '9658', '9661', '9663', '9664', '9670', '9671', '9678', '9679', '9680', '9683', '9684', '9685', '9690', '96903', '96905', '96909', '9691', '9693', '9694', '9695', '9696', '9697', '96971', '96972', '96979', '9698', '9701', '9708', '97081', '9711', '9712', '9713', '9720', '9721', '9722', '9724', '9725', '9726', '9729', '9733', '9735', '9744', '9747', '9752', '9754', '9755', '9760', '9766', '9767', '9773', '9778', '9779', '9800', '9802', '9809', '9828', '9831', '9832', '9839', '9851', '9858', '986', '9878', '9879', '9881', '9890', '9894', '9895', '98989', '9899', '990', '9911', '9912', '9913', '9916', '9920', '9941', '9942', '9947', '9948', '9949', '9950', '9951', '9952', '99527', '99529', '9953', '99561', '99563', '99564', '99565', '99567', '99569', '9957', '99580', '99581', '99582', '99583', '99585', '99586', '99589', '99590', '99591', '99592', '99593', '99594', '99601', '99602', '99603', '99604', '99609', '9961', '9962', '99631', '99639', '9964', '99640', '99641', '99642', '99643', '99644', '99645', '99647', '99649', '99651', '99652', '99653', '99654', '99656', '99657', '99659', '99661', '99662', '99663', '99664', '99665', '99666', '99667', '99668', '99669', '99670', '99671', '99672', '99673', '99674', '99675', '99676', '99677', '99678', '99679', '99680', '99681', '99682', '99684', '99685', '99686', '99687', '99688', '99689', '99693', '99700', '99701', '99702', '99709', '9971', '9972', '9973', '99731', '99732', '99739', '9974', '99741', '99749', '9975', '99762', '99769', '99771', '99772', '99779', '99791', '99799', '9980', '99800', '99801', '99802', '99809', '99811', '99812', '99813', '9982', '9983', '99830', '99831', '99832', '99833', '9984', '99851', '99859', '9986', '99881', '99883', '99889', '9989', '9991', '9992', '9993', '99931', '99932', '99933', '99939', '9994', '99941', '9995', '99971', '9998', '99982', '99984', '99989', '9999', 'E0000', 'E0008', 'E0009', 'E0010', 'E0011', 'E0020', 'E0026', 'E0030', 'E0031', 'E0032', 'E0039', 'E0060', 'E0061', 'E0062', 'E0064', 'E0069', 'E0070', 'E0071', 'E0073', 'E0076', 'E0080', 'E0089', 'E0138', 'E0139', 'E0162', 'E0190', 'E0291', 'E0299', 'E030', 'E8012', 'E8041', 'E8042', 'E8052', 'E8058', 'E8062', 'E8110', 'E8120', 'E8121', 'E8122', 'E8123', 'E8126', 'E8127', 'E8129', 'E8130', 'E8131', 'E8132', 'E8133', 'E8136', 'E8138', 'E8141', 'E8142', 'E8145', 'E8146', 'E8147', 'E8150', 'E8151', 'E8152', 'E8160', 'E8161', 'E8162', 'E8163', 'E8169', 'E8170', 'E8171', 'E8178', 'E8180', 'E8181', 'E8182', 'E8187', 'E8188', 'E8189', 'E8190', 'E8191', 'E8192', 'E8193', 'E8196', 'E8197', 'E8199', 'E8200', 'E8210', 'E8211', 'E8212', 'E8217', 'E8219', 'E8230', 'E8231', 'E8232', 'E8233', 'E8238', 'E8240', 'E8241', 'E8242', 'E8248', 'E8249', 'E8250', 'E8251', 'E8252', 'E8257', 'E8258', 'E8260', 'E8261', 'E8278', 'E8282', 'E8298', 'E8311', 'E8314', 'E8318', 'E8341', 'E8343', 'E8348', 'E8353', 'E8381', 'E8384', 'E8405', 'E8415', 'E848', 'E8490', 'E8493', 'E8494', 'E8495', 'E8496', 'E8497', 'E8498', 'E8499', 'E8500', 'E8501', 'E8502', 'E8503', 'E8504', 'E8508', 'E851', 'E8528', 'E8529', 'E8532', 'E8538', 'E8540', 'E8541', 'E8542', 'E8543', 'E8548', 'E8550', 'E8551', 'E8552', 'E8554', 'E8555', 'E8556', 'E856', 'E857', 'E8580', 'E8581', 'E8582', 'E8583', 'E8584', 'E8585', 'E8586', 'E8587', 'E8588', 'E8589', 'E8600', 'E8603', 'E8609', 'E8613', 'E8619', 'E8624', 'E8637', 'E8641', 'E8654', 'E8655', 'E8663', 'E8668', 'E8669', 'E8694', 'E8698', 'E8700', 'E8702', 'E8703', 'E8704', 'E8705', 'E8706', 'E8708', 'E8709', 'E8710', 'E8714', 'E8716', 'E8717', 'E8718', 'E8735', 'E8740', 'E8742', 'E8744', 'E8748', 'E8761', 'E8762', 'E8764', 'E8767', 'E8768', 'E8769', 'E8780', 'E8781', 'E8782', 'E8783', 'E8784', 'E8785', 'E8786', 'E8788', 'E8789', 'E8790', 'E8791', 'E8792', 'E8793', 'E8794', 'E8795', 'E8796', 'E8797', 'E8798', 'E8799', 'E8801', 'E8809', 'E8810', 'E8811', 'E882', 'E8830', 'E8839', 'E8840', 'E8841', 'E8842', 'E8843', 'E8844', 'E8845', 'E8846', 'E8849', 'E8850', 'E8852', 'E8853', 'E8854', 'E8859', 'E8860', 'E887', 'E888', 'E8880', 'E8881', 'E8888', 'E8889', 'E8902', 'E8908', 'E8918', 'E899', 'E9000', 'E9001', 'E9010', 'E9011', 'E9018', 'E9019', 'E9051', 'E9060', 'E9063', 'E9064', 'E9068', 'E9081', 'E9100', 'E9102', 'E9108', 'E911', 'E912', 'E9132', 'E9138', 'E915', 'E916', 'E9170', 'E9173', 'E9174', 'E9175', 'E9177', 'E9178', 'E9179', 'E918', 'E9190', 'E9192', 'E9194', 'E9196', 'E9198', 'E9200', 'E9201', 'E9203', 'E9204', 'E9205', 'E9208', 'E9209', 'E9211', 'E9220', 'E9225', 'E9229', 'E9240', 'E9241', 'E9242', 'E9248', 'E9249', 'E9250', 'E9262', 'E927', 'E9270', 'E9274', 'E9278', 'E9283', 'E9288', 'E9289', 'E9290', 'E9291', 'E9292', 'E9293', 'E9294', 'E9295', 'E9298', 'E9299', 'E9300', 'E9301', 'E9303', 'E9304', 'E9305', 'E9306', 'E9307', 'E9308', 'E9309', 'E9310', 'E9313', 'E9314', 'E9315', 'E9317', 'E9318', 'E9319', 'E9320', 'E9322', 'E9323', 'E9324', 'E9325', 'E9328', 'E9329', 'E9330', 'E9331', 'E9334', 'E9335', 'E9340', 'E9342', 'E9343', 'E9344', 'E9345', 'E9346', 'E9347', 'E9348', 'E9351', 'E9352', 'E9353', 'E9354', 'E9356', 'E9357', 'E9358', 'E9359', 'E9360', 'E9361', 'E9363', 'E9364', 'E9370', 'E9378', 'E9379', 'E9380', 'E9382', 'E9383', 'E9384', 'E9385', 'E9386', 'E9387', 'E9389', 'E9390', 'E9391', 'E9392', 'E9393', 'E9394', 'E9395', 'E9397', 'E9398', 'E9399', 'E9401', 'E9408', 'E9410', 'E9411', 'E9412', 'E9413', 'E9419', 'E9420', 'E9421', 'E9422', 'E9424', 'E9425', 'E9426', 'E9429', 'E9430', 'E9433', 'E9438', 'E9441', 'E9443', 'E9444', 'E9445', 'E9447', 'E9451', 'E9452', 'E9453', 'E9455', 'E9457', 'E9460', 'E9463', 'E9466', 'E9470', 'E9478', 'E9479', 'E9496', 'E9499', 'E9500', 'E9501', 'E9502', 'E9503', 'E9504', 'E9505', 'E9506', 'E9507', 'E9509', 'E9530', 'E954', 'E9550', 'E9554', 'E9559', 'E956', 'E9570', 'E9571', 'E9572', 'E9579', 'E9580', 'E9581', 'E9583', 'E9585', 'E9588', 'E9589', 'E959', 'E9600', 'E9601', 'E9620', 'E9650', 'E9651', 'E9654', 'E9659', 'E966', 'E9670', 'E9671', 'E9673', 'E9674', 'E9677', 'E9678', 'E9679', 'E9682', 'E9687', 'E9688', 'E9689', 'E969', 'E970', 'E975', 'E976', 'E977', 'E9800', 'E9801', 'E9803', 'E9804', 'E9805', 'E9809', 'E9821', 'E9850', 'E9854', 'E986', 'E9871', 'E9888', 'E9889', 'E989', 'E9991', 'V011', 'V016', 'V017', 'V0179', 'V0189', 'V020', 'V023', 'V024', 'V0251', 'V0252', 'V0253', 'V0254', 'V0259', 'V0261', 'V0262', 'V029', 'V037', 'V0381', 'V0382', 'V0389', 'V040', 'V045', 'V0481', 'V0482', 'V0489', 'V052', 'V053', 'V058', 'V061', 'V063', 'V065', 'V066', 'V068', 'V071', 'V0739', 'V074', 'V078', 'V08', 'V090', 'V091', 'V0950', 'V0971', 'V0980', 'V0981', 'V0990', 'V0991', 'V1000', 'V1001', 'V1002', 'V1003', 'V1004', 'V1005', 'V1006', 'V1007', 'V1009', 'V1011', 'V1012', 'V1020', 'V1021', 'V1022', 'V1029', 'V103', 'V1041', 'V1042', 'V1043', 'V1044', 'V1046', 'V1047', 'V1049', 'V1050', 'V1051', 'V1052', 'V1053', 'V1059', 'V1060', 'V1061', 'V1062', 'V1069', 'V1071', 'V1072', 'V1079', 'V1081', 'V1082', 'V1083', 'V1084', 'V1085', 'V1086', 'V1087', 'V1088', 'V1089', 'V109', 'V1090', 'V1091', 'V113', 'V118', 'V1201', 'V1202', 'V1203', 'V1204', 'V1209', 'V1241', 'V1242', 'V1251', 'V1252', 'V1253', 'V1254', 'V1255', 'V1259', 'V1261', 'V1271', 'V1272', 'V1279', 'V1301', 'V1302', 'V1309', 'V1351', 'V1352', 'V1364', 'V1365', 'V1369', 'V138', 'V1381', 'V1389', 'V140', 'V141', 'V142', 'V143', 'V145', 'V146', 'V148', 'V1501', 'V1502', 'V1504', 'V1505', 'V1506', 'V1507', 'V1508', 'V1509', 'V151', 'V152', 'V1529', 'V153', 'V1541', 'V1542', 'V155', 'V1551', 'V1552', 'V1553', 'V1559', 'V1581', 'V1582', 'V1584', 'V1585', 'V1586', 'V1588', 'V1589', 'V160', 'V161', 'V162', 'V163', 'V1641', 'V1642', 'V1643', 'V1649', 'V1651', 'V1652', 'V1659', 'V166', 'V167', 'V168', 'V169', 'V170', 'V171', 'V173', 'V174', 'V1741', 'V1749', 'V175', 'V180', 'V181', 'V1811', 'V1819', 'V182', 'V183', 'V1851', 'V1859', 'V1869', 'V189', 'V195', 'V198', 'V202', 'V222', 'V230', 'V239', 'V2501', 'V252', 'V2541', 'V2651', 'V2652', 'V270', 'V271', 'V272', 'V289', 'V290', 'V291', 'V293', 'V298', 'V3000', 'V3001', 'V301', 'V3100', 'V3101', 'V3201', 'V3401', 'V400', 'V403', 'V4031', 'V420', 'V421', 'V422', 'V425', 'V426', 'V427', 'V4281', 'V4282', 'V4283', 'V4289', 'V430', 'V431', 'V433', 'V434', 'V435', 'V4361', 'V4363', 'V4364', 'V4365', 'V4382', 'V440', 'V441', 'V442', 'V443', 'V444', 'V4450', 'V4451', 'V4459', 'V446', 'V448', 'V449', 'V4501', 'V4502', 'V4509', 'V451', 'V4511', 'V4512', 'V452', 'V453', 'V454', 'V4561', 'V4569', 'V4571', 'V4572', 'V4573', 'V4574', 'V4575', 'V4576', 'V4577', 'V4578', 'V4579', 'V4581', 'V4582', 'V4585', 'V4586', 'V4587', 'V4588', 'V4589', 'V461', 'V4611', 'V4614', 'V462', 'V463', 'V469', 'V486', 'V489', 'V4960', 'V4961', 'V4962', 'V4963', 'V4965', 'V4966', 'V4971', 'V4972', 'V4973', 'V4975', 'V4976', 'V4981', 'V4983', 'V4984', 'V4985', 'V4986', 'V4987', 'V4989', 'V502', 'V5041', 'V5049', 'V51', 'V510', 'V5301', 'V5302', 'V5309', 'V5331', 'V5332', 'V5339', 'V536', 'V537', 'V5391', 'V5399', 'V5401', 'V5410', 'V5411', 'V5412', 'V5413', 'V5415', 'V5416', 'V5417', 'V5419', 'V5422', 'V5423', 'V5426', 'V5427', 'V5481', 'V5482', 'V5489', 'V549', 'V550', 'V551', 'V552', 'V553', 'V554', 'V555', 'V556', 'V558', 'V560', 'V561', 'V568', 'V580', 'V581', 'V5811', 'V5812', 'V583', 'V5831', 'V5841', 'V5843', 'V5844', 'V5849', 'V5861', 'V5862', 'V5863', 'V5864', 'V5865', 'V5866', 'V5867', 'V5869', 'V5873', 'V5881', 'V5883', 'V596', 'V600', 'V601', 'V602', 'V604', 'V608', 'V610', 'V6103', 'V6104', 'V6107', 'V6109', 'V6110', 'V6111', 'V6129', 'V6141', 'V6142', 'V618', 'V620', 'V624', 'V625', 'V626', 'V6282', 'V6284', 'V6285', 'V6289', 'V632', 'V638', 'V6406', 'V641', 'V642', 'V643', 'V644', 'V6441', 'V6442', 'V6443', 'V652', 'V653', 'V6542', 'V6549', 'V655', 'V660', 'V667', 'V671', 'V672', 'V694', 'V698', 'V707', 'V708', 'V714', 'V716', 'V721', 'V7281', 'V741', 'V7651', 'V789', 'V812', 'V8381', 'V8389', 'V8401', 'V8409', 'V8489', 'V850', 'V851', 'V8521', 'V8522', 'V8523', 'V8524', 'V8525', 'V8530', 'V8531', 'V8532', 'V8533', 'V8534', 'V8535', 'V8536', 'V8537', 'V8538', 'V8539', 'V854', 'V8541', 'V8542', 'V8543', 'V8544', 'V8545', 'V860', 'V861', 'V8709', 'V872', 'V8741', 'V8745', 'V8801', 'V8811', 'V8812', 'V8821', 'V9010', 'V9039', 'V9081', 'V9089', 'V9103'] will be ignored\n",
            "  .format(sorted(unknown, key=str)))\n"
          ],
          "name": "stderr"
        },
        {
          "output_type": "stream",
          "text": [
            "0.030857578573641194\n",
            "0.6851073462482427\n",
            "0.2218251576704666\n",
            "0.8625701397293432\n",
            "0.35289669312675415\n",
            "              precision    recall  f1-score   support\n",
            "\n",
            "        4019       0.42      0.85      0.56     17287\n",
            "        4280       0.27      0.87      0.41     10907\n",
            "       42731       0.27      0.87      0.41     10893\n",
            "       41401       0.25      0.88      0.39     10018\n",
            "        5849       0.20      0.85      0.32      8104\n",
            "       25000       0.19      0.86      0.31      7709\n",
            "        2724       0.21      0.90      0.35      8399\n",
            "       51881       0.14      0.78      0.24      6284\n",
            "        5990       0.14      0.88      0.24      5707\n",
            "       53081       0.14      0.88      0.24      5582\n",
            "\n",
            "   micro avg       0.22      0.86      0.35     90890\n",
            "   macro avg       0.22      0.86      0.35     90890\n",
            "weighted avg       0.25      0.86      0.38     90890\n",
            " samples avg       0.19      0.70      0.28     90890\n",
            "\n"
          ],
          "name": "stdout"
        },
        {
          "output_type": "stream",
          "text": [
            "/usr/local/lib/python3.6/dist-packages/sklearn/metrics/_classification.py:1272: UndefinedMetricWarning: Precision and F-score are ill-defined and being set to 0.0 in samples with no predicted labels. Use `zero_division` parameter to control this behavior.\n",
            "  _warn_prf(average, modifier, msg_start, len(result))\n",
            "/usr/local/lib/python3.6/dist-packages/sklearn/metrics/_classification.py:1272: UndefinedMetricWarning: Recall and F-score are ill-defined and being set to 0.0 in samples with no true labels. Use `zero_division` parameter to control this behavior.\n",
            "  _warn_prf(average, modifier, msg_start, len(result))\n"
          ],
          "name": "stderr"
        }
      ]
    },
    {
      "cell_type": "code",
      "metadata": {
        "id": "_N5vfzpvOgnE"
      },
      "source": [
        ""
      ],
      "execution_count": 96,
      "outputs": []
    },
    {
      "cell_type": "code",
      "metadata": {
        "id": "5KGo3xWoOgWT"
      },
      "source": [
        "frequent_icd10codes = ['I10', 'I2510', 'I509', 'I4891', 'N179', 'E119', 'E784', 'E785', 'J9690', 'J9600']"
      ],
      "execution_count": 140,
      "outputs": []
    },
    {
      "cell_type": "code",
      "metadata": {
        "colab": {
          "base_uri": "https://localhost:8080/",
          "height": 1000,
          "referenced_widgets": [
            "8f90a75dbad84acfa0ffe0d60cabffb1",
            "c4120f2335934b75ae463bf0b9f17615",
            "3157547104504b3f96edf27902546020",
            "9a3884639f084fafbdc9b1071077e8e4",
            "e6c411acf48e4a758bccab40e2be70e1",
            "d92302483bb9440d89af063bc9a4ceea",
            "6d35c6778d1e429ba5adbe8f354be34d",
            "c10080ff0ebc4126bc41aa4fe036bfe2",
            "77e78f73126245e58cfc4e599e403287",
            "33811f4d9251416f81df98896f8cd68d",
            "05d9e17ee67d4541aa9486de00e52e2e",
            "367b47800a3a4c1a9d3b22d1e96a5fca",
            "8908a4a46b7d4d8ab68c2a3ae723c35e",
            "9a79176138bf4f9c81ff1e72564ec0d6",
            "ccb407952efe45d693f33a7dad64a7a5",
            "1d4b4b0d3f4e4f028e4eacf89bab1891",
            "36c71a307b3e473ebf5bc644317b7b77",
            "d324f1f10d954be08fadc5a68bcd6584",
            "dcdfa2c6721c4809b03619ad80bb562d",
            "f45f25c311d942be80f3f168b79e98b5",
            "36a133653f834ca8a3e3a554067ebfbc",
            "00870c18846445b29f48874db0a772fc",
            "8ad1d2a7d8c1477491a55ea3db56f4a5",
            "8192445b9a8e43dd8524e0274157fa53",
            "d0a3163a881c4aeb811e605fc9a4e770",
            "cb67b703a4ef4fbdbd3569127eee7865",
            "bb2a21fa91d545e08fa2ff2cc1b99201",
            "32f9b8300ead4494a5a6c150d151a392",
            "4038e1d2a2ed40beb0ba9cf16f0561e7",
            "a70f37fa99c446d98234a94a3bb019dd",
            "ebf987b23b9f45758aa4eaf87a359ace",
            "4a28f05fa2734b908711a20e736255cf",
            "186bb2079f8f4965b98ab65db7a61290",
            "6bb62f3b16974a05ada620c272aa370a",
            "a2a732dd6b2d4b35b207dae12aebba93",
            "9266378d4bba4d1091565611493f0f81",
            "80142c8851ea4ea29d785dc68ec990a5",
            "f5c16f9877a444f2bce93eaf16a39242",
            "5ea1f73fad4849d2babaefc6d349bb3a",
            "bea4ba9017be4d95990bcfdb79854685"
          ]
        },
        "id": "7cUzkCsyTJp6",
        "outputId": "cf98d14d-9715-4039-87dc-d4119ca12b42"
      },
      "source": [
        "code_med_terms={}\r\n",
        "common_diagnosis_terms=[\"monday\",\"telephone\",\"of\",\"phone\"]\r\n",
        "for i in frequent_icd10codes:\r\n",
        "    diagnosis_x=diagnosis_terms_codes.loc[diagnosis_terms_codes.ICD10.apply(lambda x: i in x)].copy()\r\n",
        "    y=diagnosis_x.medical_terms_list.to_list()    \r\n",
        "    z=[list(set(a)) for a in y]\r\n",
        "    z1=[a for b in z for a in b]\r\n",
        "    dict_med=dict(Counter(z1))\r\n",
        "    dict_med=dict(sorted(dict_med.items(),key= lambda x: x[1],reverse=True))\r\n",
        "    dict_med_list=list(dict_med)\r\n",
        "    dict_med_list1=[a for a in dict_med_list if a not in common_diagnosis_terms]\r\n",
        "    code_med_terms[i]=dict_med_list1[:50]\r\n",
        "\r\n",
        "diagnosis_icdcategory_medterms={'icd10code':[i for i in code_med_terms],\r\n",
        "                                'frequent_medterms':[code_med_terms[i] for i in code_med_terms]}\r\n",
        "diagnosis_icdcategory_medterms_df=pd.DataFrame.from_dict(diagnosis_icdcategory_medterms)\r\n",
        "\r\n",
        "display(diagnosis_icdcategory_medterms_df)\r\n",
        "\r\n",
        "bagofwords=list(set([a for b in diagnosis_icdcategory_medterms_df.frequent_medterms.to_list() for a in b]))\r\n",
        "simi_matrix=np.zeros((len(bagofwords),len(bagofwords)))\r\n",
        "\r\n",
        "for i in tqdm(range(len(bagofwords))):\r\n",
        "  for j in range(len(bagofwords)):\r\n",
        "    simi_matrix[i][j]=model.similarity(bagofwords[i],bagofwords[j])\r\n",
        "\r\n",
        "features={}\r\n",
        "for i in range(len(bagofwords)-1):\r\n",
        "  similar=[]\r\n",
        "  for j in range(i+1,len(bagofwords)):\r\n",
        "    if simi_matrix[i][j]>=0.7:\r\n",
        "      similar.append(bagofwords[j])\r\n",
        "  features[bagofwords[i]]=similar\r\n",
        "features[bagofwords[-1]]=[]    \r\n",
        "\r\n",
        "features_list=[features[k]+[k] for k in list(features)]\r\n",
        "\r\n",
        "condensed_feature = list(merge_common(features_list)) \r\n",
        "\r\n",
        "condensed_feature_dict={}\r\n",
        "count=0\r\n",
        "for i in condensed_feature:\r\n",
        "  condensed_feature_dict['f'+str(count)]=i\r\n",
        "  count+=1\r\n",
        "\r\n",
        "all_vocab=[a for b in condensed_feature for a in b]\r\n",
        "\r\n",
        "diagnosis_terms_codes['med_terms_condensed']=diagnosis_terms_codes.medical_terms_list.progress_apply(lambda x:list(set(x).intersection(set(all_vocab))))\r\n",
        "diagnosis_terms_codes['features']=diagnosis_terms_codes.med_terms_condensed.progress_apply(lambda x:return_feature(x))\r\n",
        "\r\n",
        "diagnosis_icdcategory_medterms_df['feature']=diagnosis_icdcategory_medterms_df.frequent_medterms.progress_apply(lambda x:return_feature(x))\r\n",
        "\r\n",
        "\r\n",
        "def predict_icd(x):\r\n",
        "  category_weights={}\r\n",
        "  if len(x):\r\n",
        "    for item1 in frequent_icd10codes:\r\n",
        "      category_features=[a for b in diagnosis_icdcategory_medterms_df.loc[diagnosis_icdcategory_medterms_df.icd10code==item1].feature.to_list() for a in b]\r\n",
        "      count=len(list(set(x).intersection(set(category_features))))\r\n",
        "      category_weights[item1]=count/len(x)/len(category_features)\r\n",
        "  else:\r\n",
        "    for item1 in frequent_icd10codes:\r\n",
        "      category_weights[item1]=0.0\r\n",
        "\r\n",
        "      \r\n",
        "  return category_weights\r\n",
        "\r\n",
        "\r\n",
        "\r\n",
        "diagnosis_terms_codes['predicted_icd_weigths']=diagnosis_terms_codes.features.progress_apply(lambda x:predict_icd(x))\r\n",
        "diagnosis_terms_codes['predicted_icd']=diagnosis_terms_codes.predicted_icd_weigths.progress_apply(predictbasedonwts)\r\n",
        "\r\n",
        "\r\n",
        "result_predict={'category':[],'precision':[],'recall':[],'f1':[]}\r\n",
        "for i in frequent_icd10codes:\r\n",
        "  actual_p=diagnosis_terms_codes.loc[diagnosis_terms_codes.ICD10.apply(lambda x:i in x)].HADM_ID.count()\r\n",
        "  tp=diagnosis_terms_codes.loc[(diagnosis_terms_codes.ICD10.apply(lambda x:i in x))&(diagnosis_terms_codes.predicted_icd.apply(lambda x:i in x))].HADM_ID.count()\r\n",
        "  predict_p=diagnosis_terms_codes.loc[diagnosis_terms_codes.predicted_icd.apply(lambda x:i in x)].HADM_ID.count()\r\n",
        "  precision=tp/predict_p\r\n",
        "  recall=tp/actual_p\r\n",
        "  f1=2*precision*recall/(precision+recall)\r\n",
        "  result_predict['category'].append(i)\r\n",
        "  result_predict['precision'].append(precision)\r\n",
        "  result_predict['recall'].append(recall)\r\n",
        "  result_predict['f1'].append(f1)\r\n",
        "\r\n",
        "\r\n",
        "\r\n",
        "display(pd.DataFrame.from_dict(result_predict))\r\n",
        "\r\n",
        "\r\n",
        "total_predicted=len([a for b in diagnosis_terms_codes.predicted_icd.to_list() for a in b])\r\n",
        "print(total_predicted)\r\n",
        "actual=len([a for b in diagnosis_terms_codes.ICD10.apply(lambda x : [i for i in x if i in frequent_icd10codes]).to_list() for a in b])\r\n",
        "print(actual)\r\n",
        "actual_predicted=0\r\n",
        "for i in frequent_icd10codes:\r\n",
        "  actual_predicted += diagnosis_terms_codes.loc[(diagnosis_terms_codes.ICD10.apply(lambda x:i in x))&(diagnosis_terms_codes.predicted_icd.apply(lambda x:i in x))].HADM_ID.count()\r\n",
        "print(actual_predicted)\r\n",
        "recall=actual_predicted/actual\r\n",
        "presicion=actual_predicted/total_predicted\r\n",
        "print(recall)\r\n",
        "print(presicion)\r\n",
        "print(2*presicion*recall/(presicion + recall))\r\n"
      ],
      "execution_count": 141,
      "outputs": [
        {
          "output_type": "display_data",
          "data": {
            "text/html": [
              "<div>\n",
              "<style scoped>\n",
              "    .dataframe tbody tr th:only-of-type {\n",
              "        vertical-align: middle;\n",
              "    }\n",
              "\n",
              "    .dataframe tbody tr th {\n",
              "        vertical-align: top;\n",
              "    }\n",
              "\n",
              "    .dataframe thead th {\n",
              "        text-align: right;\n",
              "    }\n",
              "</style>\n",
              "<table border=\"1\" class=\"dataframe\">\n",
              "  <thead>\n",
              "    <tr style=\"text-align: right;\">\n",
              "      <th></th>\n",
              "      <th>icd10code</th>\n",
              "      <th>frequent_medterms</th>\n",
              "    </tr>\n",
              "  </thead>\n",
              "  <tbody>\n",
              "    <tr>\n",
              "      <th>0</th>\n",
              "      <td>I10</td>\n",
              "      <td>[pain, fever, chest, shortness, infection, breath, redness, aspirin, hypertension, atrial, fibrillation, chills, disease, coumadin, bleeding, failure, pneumonia, vomiting, fevers, constipation, swelling, nausea, abdominal, heart, diabetes, erythema, cough, weakness, anemia, metoprolol, headache, confusion, mouth, numbness, weight, diarrhea, gain, lisinopril, loss, cancer, blood, infarction, seizures, pulmonary, myocardial, stroke, bleed, motrin, artery, tylenol]</td>\n",
              "    </tr>\n",
              "    <tr>\n",
              "      <th>1</th>\n",
              "      <td>I2510</td>\n",
              "      <td>[pain, chest, fever, shortness, infection, disease, breath, redness, atrial, fibrillation, failure, aspirin, heart, coumadin, hypertension, myocardial, infarction, erythema, weight, gain, bleeding, diabetes, artery, chills, metoprolol, coronary, renal, pneumonia, fevers, lisinopril, anemia, sodium, vomiting, chronic, mellitus, nausea, abdominal, pulmonary, constipation, edema, swelling, congestive, bleed, cholesterol, cancer, cough, mouth, blood, loss, hyperlipidemia]</td>\n",
              "    </tr>\n",
              "    <tr>\n",
              "      <th>2</th>\n",
              "      <td>I509</td>\n",
              "      <td>[pain, failure, shortness, chest, heart, breath, atrial, fibrillation, disease, infection, fever, pneumonia, coumadin, chills, hypertension, renal, fevers, sodium, aspirin, metoprolol, bleeding, chronic, anemia, congestive, diabetes, redness, pulmonary, vomiting, nausea, lisinopril, abdominal, oxygen, myocardial, infarction, respiratory, artery, systolic, coronary, mouth, cough, urinary, blood, mellitus, swelling, tract, bleed, weight, acute, diarrhea, gain]</td>\n",
              "    </tr>\n",
              "    <tr>\n",
              "      <th>3</th>\n",
              "      <td>I4891</td>\n",
              "      <td>[atrial, fibrillation, pain, coumadin, shortness, fever, chest, infection, failure, breath, disease, heart, redness, pneumonia, chills, aspirin, hypertension, bleeding, metoprolol, renal, fevers, anemia, erythema, vomiting, abdominal, sodium, weight, gain, nausea, chronic, diabetes, pulmonary, warfarin, stroke, constipation, bleed, cough, swelling, cancer, diarrhea, mouth, urinary, artery, congestive, blood, tract, oxygen, lisinopril, respiratory, coronary]</td>\n",
              "    </tr>\n",
              "    <tr>\n",
              "      <th>4</th>\n",
              "      <td>N179</td>\n",
              "      <td>[pain, failure, shortness, chest, breath, infection, disease, renal, pneumonia, fever, chills, atrial, heart, fibrillation, fevers, chronic, hypertension, coumadin, bleeding, vomiting, anemia, abdominal, nausea, diabetes, acute, aspirin, metoprolol, sodium, diarrhea, kidney, urinary, lisinopril, mouth, respiratory, tract, blood, pulmonary, cough, cancer, oxygen, bleed, redness, swelling, sepsis, constipation, congestive, loss, confusion, dizziness, mellitus]</td>\n",
              "    </tr>\n",
              "    <tr>\n",
              "      <th>5</th>\n",
              "      <td>E119</td>\n",
              "      <td>[pain, shortness, chest, fever, breath, infection, failure, diabetes, disease, atrial, fibrillation, chills, redness, aspirin, heart, hypertension, bleeding, coumadin, pneumonia, fevers, mellitus, vomiting, renal, abdominal, metoprolol, nausea, constipation, swelling, anemia, cough, sodium, chronic, erythema, mouth, lisinopril, diarrhea, pulmonary, weight, confusion, artery, gain, bleed, weakness, blood, infarction, respiratory, oxygen, myocardial, cancer, loss]</td>\n",
              "    </tr>\n",
              "    <tr>\n",
              "      <th>6</th>\n",
              "      <td>E784</td>\n",
              "      <td>[pain, infection, chest, fever, shortness, redness, breath, aspirin, atrial, disease, fibrillation, failure, coumadin, hypertension, bleeding, heart, erythema, pneumonia, chills, metoprolol, diabetes, constipation, vomiting, fevers, swelling, weight, renal, lisinopril, gain, mouth, nausea, infarction, hyperlipidemia, myocardial, anemia, cough, abdominal, tylenol, pulmonary, cancer, mellitus, blood, chronic, artery, weakness, stroke, loss, edema, diarrhea, confusion]</td>\n",
              "    </tr>\n",
              "    <tr>\n",
              "      <th>7</th>\n",
              "      <td>E785</td>\n",
              "      <td>[pain, infection, chest, fever, shortness, redness, breath, aspirin, atrial, disease, fibrillation, failure, coumadin, hypertension, bleeding, heart, erythema, pneumonia, chills, metoprolol, diabetes, constipation, vomiting, fevers, swelling, weight, renal, lisinopril, gain, mouth, nausea, infarction, hyperlipidemia, myocardial, anemia, cough, abdominal, tylenol, pulmonary, cancer, mellitus, blood, chronic, artery, weakness, stroke, loss, edema, diarrhea, confusion]</td>\n",
              "    </tr>\n",
              "    <tr>\n",
              "      <th>8</th>\n",
              "      <td>J9690</td>\n",
              "      <td>[pain, pneumonia, failure, shortness, breath, chest, respiratory, infection, disease, fever, chills, atrial, fibrillation, fevers, heart, hypertension, renal, vomiting, oxygen, pulmonary, nausea, anemia, cough, abdominal, aspirin, coumadin, bleeding, chronic, metoprolol, mouth, diarrhea, diabetes, sepsis, cancer, constipation, confusion, acute, sodium, swelling, prednisone, arrest, urinary, weakness, blood, lisinopril, lung, redness, tract, obstructive, seizures]</td>\n",
              "    </tr>\n",
              "    <tr>\n",
              "      <th>9</th>\n",
              "      <td>J9600</td>\n",
              "      <td>[pain, pneumonia, failure, shortness, breath, chest, respiratory, infection, disease, fever, chills, atrial, fibrillation, fevers, heart, hypertension, renal, vomiting, oxygen, pulmonary, nausea, anemia, cough, abdominal, aspirin, coumadin, bleeding, chronic, metoprolol, mouth, diarrhea, diabetes, sepsis, cancer, constipation, confusion, acute, sodium, swelling, prednisone, arrest, urinary, weakness, blood, lisinopril, lung, redness, tract, obstructive, seizures]</td>\n",
              "    </tr>\n",
              "  </tbody>\n",
              "</table>\n",
              "</div>"
            ],
            "text/plain": [
              "  icd10code                                                                                                                                                                                                                                                                                                                                                                                                                                                                         frequent_medterms\n",
              "0       I10        [pain, fever, chest, shortness, infection, breath, redness, aspirin, hypertension, atrial, fibrillation, chills, disease, coumadin, bleeding, failure, pneumonia, vomiting, fevers, constipation, swelling, nausea, abdominal, heart, diabetes, erythema, cough, weakness, anemia, metoprolol, headache, confusion, mouth, numbness, weight, diarrhea, gain, lisinopril, loss, cancer, blood, infarction, seizures, pulmonary, myocardial, stroke, bleed, motrin, artery, tylenol]\n",
              "1     I2510  [pain, chest, fever, shortness, infection, disease, breath, redness, atrial, fibrillation, failure, aspirin, heart, coumadin, hypertension, myocardial, infarction, erythema, weight, gain, bleeding, diabetes, artery, chills, metoprolol, coronary, renal, pneumonia, fevers, lisinopril, anemia, sodium, vomiting, chronic, mellitus, nausea, abdominal, pulmonary, constipation, edema, swelling, congestive, bleed, cholesterol, cancer, cough, mouth, blood, loss, hyperlipidemia]\n",
              "2      I509            [pain, failure, shortness, chest, heart, breath, atrial, fibrillation, disease, infection, fever, pneumonia, coumadin, chills, hypertension, renal, fevers, sodium, aspirin, metoprolol, bleeding, chronic, anemia, congestive, diabetes, redness, pulmonary, vomiting, nausea, lisinopril, abdominal, oxygen, myocardial, infarction, respiratory, artery, systolic, coronary, mouth, cough, urinary, blood, mellitus, swelling, tract, bleed, weight, acute, diarrhea, gain]\n",
              "3     I4891             [atrial, fibrillation, pain, coumadin, shortness, fever, chest, infection, failure, breath, disease, heart, redness, pneumonia, chills, aspirin, hypertension, bleeding, metoprolol, renal, fevers, anemia, erythema, vomiting, abdominal, sodium, weight, gain, nausea, chronic, diabetes, pulmonary, warfarin, stroke, constipation, bleed, cough, swelling, cancer, diarrhea, mouth, urinary, artery, congestive, blood, tract, oxygen, lisinopril, respiratory, coronary]\n",
              "4      N179            [pain, failure, shortness, chest, breath, infection, disease, renal, pneumonia, fever, chills, atrial, heart, fibrillation, fevers, chronic, hypertension, coumadin, bleeding, vomiting, anemia, abdominal, nausea, diabetes, acute, aspirin, metoprolol, sodium, diarrhea, kidney, urinary, lisinopril, mouth, respiratory, tract, blood, pulmonary, cough, cancer, oxygen, bleed, redness, swelling, sepsis, constipation, congestive, loss, confusion, dizziness, mellitus]\n",
              "5      E119        [pain, shortness, chest, fever, breath, infection, failure, diabetes, disease, atrial, fibrillation, chills, redness, aspirin, heart, hypertension, bleeding, coumadin, pneumonia, fevers, mellitus, vomiting, renal, abdominal, metoprolol, nausea, constipation, swelling, anemia, cough, sodium, chronic, erythema, mouth, lisinopril, diarrhea, pulmonary, weight, confusion, artery, gain, bleed, weakness, blood, infarction, respiratory, oxygen, myocardial, cancer, loss]\n",
              "6      E784    [pain, infection, chest, fever, shortness, redness, breath, aspirin, atrial, disease, fibrillation, failure, coumadin, hypertension, bleeding, heart, erythema, pneumonia, chills, metoprolol, diabetes, constipation, vomiting, fevers, swelling, weight, renal, lisinopril, gain, mouth, nausea, infarction, hyperlipidemia, myocardial, anemia, cough, abdominal, tylenol, pulmonary, cancer, mellitus, blood, chronic, artery, weakness, stroke, loss, edema, diarrhea, confusion]\n",
              "7      E785    [pain, infection, chest, fever, shortness, redness, breath, aspirin, atrial, disease, fibrillation, failure, coumadin, hypertension, bleeding, heart, erythema, pneumonia, chills, metoprolol, diabetes, constipation, vomiting, fevers, swelling, weight, renal, lisinopril, gain, mouth, nausea, infarction, hyperlipidemia, myocardial, anemia, cough, abdominal, tylenol, pulmonary, cancer, mellitus, blood, chronic, artery, weakness, stroke, loss, edema, diarrhea, confusion]\n",
              "8     J9690       [pain, pneumonia, failure, shortness, breath, chest, respiratory, infection, disease, fever, chills, atrial, fibrillation, fevers, heart, hypertension, renal, vomiting, oxygen, pulmonary, nausea, anemia, cough, abdominal, aspirin, coumadin, bleeding, chronic, metoprolol, mouth, diarrhea, diabetes, sepsis, cancer, constipation, confusion, acute, sodium, swelling, prednisone, arrest, urinary, weakness, blood, lisinopril, lung, redness, tract, obstructive, seizures]\n",
              "9     J9600       [pain, pneumonia, failure, shortness, breath, chest, respiratory, infection, disease, fever, chills, atrial, fibrillation, fevers, heart, hypertension, renal, vomiting, oxygen, pulmonary, nausea, anemia, cough, abdominal, aspirin, coumadin, bleeding, chronic, metoprolol, mouth, diarrhea, diabetes, sepsis, cancer, constipation, confusion, acute, sodium, swelling, prednisone, arrest, urinary, weakness, blood, lisinopril, lung, redness, tract, obstructive, seizures]"
            ]
          },
          "metadata": {
            "tags": []
          }
        },
        {
          "output_type": "stream",
          "text": [
            "100%|██████████| 73/73 [00:00<00:00, 692.73it/s]\n"
          ],
          "name": "stderr"
        },
        {
          "output_type": "display_data",
          "data": {
            "application/vnd.jupyter.widget-view+json": {
              "model_id": "8f90a75dbad84acfa0ffe0d60cabffb1",
              "version_minor": 0,
              "version_major": 2
            },
            "text/plain": [
              "HBox(children=(FloatProgress(value=0.0, max=41967.0), HTML(value='')))"
            ]
          },
          "metadata": {
            "tags": []
          }
        },
        {
          "output_type": "stream",
          "text": [
            "\n"
          ],
          "name": "stdout"
        },
        {
          "output_type": "display_data",
          "data": {
            "application/vnd.jupyter.widget-view+json": {
              "model_id": "77e78f73126245e58cfc4e599e403287",
              "version_minor": 0,
              "version_major": 2
            },
            "text/plain": [
              "HBox(children=(FloatProgress(value=0.0, max=41967.0), HTML(value='')))"
            ]
          },
          "metadata": {
            "tags": []
          }
        },
        {
          "output_type": "stream",
          "text": [
            "\n"
          ],
          "name": "stdout"
        },
        {
          "output_type": "display_data",
          "data": {
            "application/vnd.jupyter.widget-view+json": {
              "model_id": "36c71a307b3e473ebf5bc644317b7b77",
              "version_minor": 0,
              "version_major": 2
            },
            "text/plain": [
              "HBox(children=(FloatProgress(value=0.0, max=10.0), HTML(value='')))"
            ]
          },
          "metadata": {
            "tags": []
          }
        },
        {
          "output_type": "stream",
          "text": [
            "\n"
          ],
          "name": "stdout"
        },
        {
          "output_type": "display_data",
          "data": {
            "application/vnd.jupyter.widget-view+json": {
              "model_id": "d0a3163a881c4aeb811e605fc9a4e770",
              "version_minor": 0,
              "version_major": 2
            },
            "text/plain": [
              "HBox(children=(FloatProgress(value=0.0, max=41967.0), HTML(value='')))"
            ]
          },
          "metadata": {
            "tags": []
          }
        },
        {
          "output_type": "stream",
          "text": [
            "\n"
          ],
          "name": "stdout"
        },
        {
          "output_type": "display_data",
          "data": {
            "application/vnd.jupyter.widget-view+json": {
              "model_id": "186bb2079f8f4965b98ab65db7a61290",
              "version_minor": 0,
              "version_major": 2
            },
            "text/plain": [
              "HBox(children=(FloatProgress(value=0.0, max=41967.0), HTML(value='')))"
            ]
          },
          "metadata": {
            "tags": []
          }
        },
        {
          "output_type": "stream",
          "text": [
            "\n"
          ],
          "name": "stdout"
        },
        {
          "output_type": "display_data",
          "data": {
            "text/html": [
              "<div>\n",
              "<style scoped>\n",
              "    .dataframe tbody tr th:only-of-type {\n",
              "        vertical-align: middle;\n",
              "    }\n",
              "\n",
              "    .dataframe tbody tr th {\n",
              "        vertical-align: top;\n",
              "    }\n",
              "\n",
              "    .dataframe thead th {\n",
              "        text-align: right;\n",
              "    }\n",
              "</style>\n",
              "<table border=\"1\" class=\"dataframe\">\n",
              "  <thead>\n",
              "    <tr style=\"text-align: right;\">\n",
              "      <th></th>\n",
              "      <th>category</th>\n",
              "      <th>precision</th>\n",
              "      <th>recall</th>\n",
              "      <th>f1</th>\n",
              "    </tr>\n",
              "  </thead>\n",
              "  <tbody>\n",
              "    <tr>\n",
              "      <th>0</th>\n",
              "      <td>I10</td>\n",
              "      <td>0.418247</td>\n",
              "      <td>0.853358</td>\n",
              "      <td>0.561361</td>\n",
              "    </tr>\n",
              "    <tr>\n",
              "      <th>1</th>\n",
              "      <td>I2510</td>\n",
              "      <td>0.281575</td>\n",
              "      <td>0.876168</td>\n",
              "      <td>0.426186</td>\n",
              "    </tr>\n",
              "    <tr>\n",
              "      <th>2</th>\n",
              "      <td>I509</td>\n",
              "      <td>0.269232</td>\n",
              "      <td>0.869900</td>\n",
              "      <td>0.411199</td>\n",
              "    </tr>\n",
              "    <tr>\n",
              "      <th>3</th>\n",
              "      <td>I4891</td>\n",
              "      <td>0.266691</td>\n",
              "      <td>0.866520</td>\n",
              "      <td>0.407856</td>\n",
              "    </tr>\n",
              "    <tr>\n",
              "      <th>4</th>\n",
              "      <td>N179</td>\n",
              "      <td>0.195977</td>\n",
              "      <td>0.847606</td>\n",
              "      <td>0.318348</td>\n",
              "    </tr>\n",
              "    <tr>\n",
              "      <th>5</th>\n",
              "      <td>E119</td>\n",
              "      <td>0.186921</td>\n",
              "      <td>0.859126</td>\n",
              "      <td>0.307040</td>\n",
              "    </tr>\n",
              "    <tr>\n",
              "      <th>6</th>\n",
              "      <td>E784</td>\n",
              "      <td>0.214766</td>\n",
              "      <td>0.901893</td>\n",
              "      <td>0.346920</td>\n",
              "    </tr>\n",
              "    <tr>\n",
              "      <th>7</th>\n",
              "      <td>E785</td>\n",
              "      <td>0.214766</td>\n",
              "      <td>0.901893</td>\n",
              "      <td>0.346920</td>\n",
              "    </tr>\n",
              "    <tr>\n",
              "      <th>8</th>\n",
              "      <td>J9690</td>\n",
              "      <td>0.139011</td>\n",
              "      <td>0.782941</td>\n",
              "      <td>0.236101</td>\n",
              "    </tr>\n",
              "    <tr>\n",
              "      <th>9</th>\n",
              "      <td>J9600</td>\n",
              "      <td>0.139011</td>\n",
              "      <td>0.782941</td>\n",
              "      <td>0.236101</td>\n",
              "    </tr>\n",
              "  </tbody>\n",
              "</table>\n",
              "</div>"
            ],
            "text/plain": [
              "  category  precision    recall        f1\n",
              "0      I10   0.418247  0.853358  0.561361\n",
              "1    I2510   0.281575  0.876168  0.426186\n",
              "2     I509   0.269232  0.869900  0.411199\n",
              "3    I4891   0.266691  0.866520  0.407856\n",
              "4     N179   0.195977  0.847606  0.318348\n",
              "5     E119   0.186921  0.859126  0.307040\n",
              "6     E784   0.214766  0.901893  0.346920\n",
              "7     E785   0.214766  0.901893  0.346920\n",
              "8    J9690   0.139011  0.782941  0.236101\n",
              "9    J9600   0.139011  0.782941  0.236101"
            ]
          },
          "metadata": {
            "tags": []
          }
        },
        {
          "output_type": "stream",
          "text": [
            "353020\n",
            "95612\n",
            "82102\n",
            "0.8586997448019077\n",
            "0.23257039261231657\n",
            "0.36601044954439277\n"
          ],
          "name": "stdout"
        }
      ]
    },
    {
      "cell_type": "code",
      "metadata": {
        "colab": {
          "base_uri": "https://localhost:8080/"
        },
        "id": "9L0GOCgwWQ2v",
        "outputId": "476cc1f7-a1ac-4e6a-8a93-fc86f2209bd0"
      },
      "source": [
        "mlb = MultiLabelBinarizer(frequent_icd10codes)\r\n",
        "print(accuracy_score(mlb.fit_transform(diagnosis_terms_codes.ICD10.values),mlb.fit_transform(diagnosis_terms_codes.predicted_icd.values)))\r\n",
        "print(hamming_loss(mlb.fit_transform(diagnosis_terms_codes.ICD10.values),mlb.fit_transform(diagnosis_terms_codes.predicted_icd.values)))\r\n",
        "print(precision_score(mlb.fit_transform(diagnosis_terms_codes.ICD10.values),mlb.fit_transform(diagnosis_terms_codes.predicted_icd.values), average = \"micro\"))\r\n",
        "print(recall_score(mlb.fit_transform(diagnosis_terms_codes.ICD10.values),mlb.fit_transform(diagnosis_terms_codes.predicted_icd.values),average = \"micro\"))\r\n",
        "print(f1_score(mlb.fit_transform(diagnosis_terms_codes.ICD10.values),mlb.fit_transform(diagnosis_terms_codes.predicted_icd.values),average = \"micro\"))\r\n",
        "print(classification_report(mlb.fit_transform(diagnosis_terms_codes.ICD10.values),mlb.fit_transform(diagnosis_terms_codes.predicted_icd.values),target_names=mlb.classes_))"
      ],
      "execution_count": 142,
      "outputs": [
        {
          "output_type": "stream",
          "text": [
            "/usr/local/lib/python3.6/dist-packages/sklearn/preprocessing/_label.py:987: UserWarning: unknown class(es) ['A047', 'A419', 'B182', 'D62', 'D631', 'D649', 'D696', 'E039', 'E0842', 'E0942', 'E1042', 'E1142', 'E1342', 'E46', 'E669', 'E780', 'E860', 'E861', 'E870', 'E871', 'E872', 'E875', 'E876', 'F05', 'F17200', 'F329', 'F419', 'G4733', 'I120', 'I129', 'I200', 'I214', 'I252', 'I272', 'I2789', 'I340', 'I348', 'I350', 'I351', 'I352', 'I358', 'I359', 'I425', 'I428', 'I469', 'I472', 'I4892', 'I498', 'I5032', 'I5033', 'I619', 'I739', 'I952', 'I9581', 'I959', 'I97710', 'I97790', 'I9788', 'I9789', 'J189', 'J449', 'J45909', 'J45998', 'J690', 'J918', 'J9811', 'J9819', 'K219', 'K740', 'K7460', 'K7469', 'K922', 'L89139', 'L89149', 'L89159', 'M109', 'M810', 'N170', 'N186', 'N189', 'N390', 'N400', 'P002', 'P220', 'P590', 'R001', 'R0902', 'R569', 'R6520', 'R6521', 'R7881', 'Y832', 'Y838', 'Y848', 'Z23', 'Z3800', 'Z3801', 'Z412', 'Z66', 'Z7901', 'Z794', 'Z853', 'Z8546', 'Z86718', 'Z87891', 'Z950', 'Z951', 'Z9861'] will be ignored\n",
            "  .format(sorted(unknown, key=str)))\n"
          ],
          "name": "stderr"
        },
        {
          "output_type": "stream",
          "text": [
            "0.038053708866490336\n",
            "0.6777420354087735\n",
            "0.23257039261231657\n",
            "0.8586997448019077\n",
            "0.36601044954439277\n",
            "              precision    recall  f1-score   support\n",
            "\n",
            "         I10       0.42      0.85      0.56     17287\n",
            "       I2510       0.28      0.88      0.43     11346\n",
            "        I509       0.27      0.87      0.41     10907\n",
            "       I4891       0.27      0.87      0.41     10893\n",
            "        N179       0.20      0.85      0.32      8104\n",
            "        E119       0.19      0.86      0.31      7709\n",
            "        E784       0.21      0.90      0.35      8399\n",
            "        E785       0.21      0.90      0.35      8399\n",
            "       J9690       0.14      0.78      0.24      6284\n",
            "       J9600       0.14      0.78      0.24      6284\n",
            "\n",
            "   micro avg       0.23      0.86      0.37     95612\n",
            "   macro avg       0.23      0.85      0.36     95612\n",
            "weighted avg       0.26      0.86      0.39     95612\n",
            " samples avg       0.20      0.67      0.29     95612\n",
            "\n"
          ],
          "name": "stdout"
        },
        {
          "output_type": "stream",
          "text": [
            "/usr/local/lib/python3.6/dist-packages/sklearn/metrics/_classification.py:1272: UndefinedMetricWarning: Precision and F-score are ill-defined and being set to 0.0 in samples with no predicted labels. Use `zero_division` parameter to control this behavior.\n",
            "  _warn_prf(average, modifier, msg_start, len(result))\n",
            "/usr/local/lib/python3.6/dist-packages/sklearn/metrics/_classification.py:1272: UndefinedMetricWarning: Recall and F-score are ill-defined and being set to 0.0 in samples with no true labels. Use `zero_division` parameter to control this behavior.\n",
            "  _warn_prf(average, modifier, msg_start, len(result))\n"
          ],
          "name": "stderr"
        }
      ]
    },
    {
      "cell_type": "code",
      "metadata": {
        "id": "D3zHWNysZRNs"
      },
      "source": [
        "# diagnosis_icd9category=pd.read_csv(\"/content/drive/My Drive/AlgoIntern/Data/Data2.0/diagnosis_icd9category.csv\")\n",
        "# diagnosis_icd9category['icd9_category']=diagnosis_icd9category.icd9_category.apply(literal_eval)\n",
        "# diagnosis_icd9category.dropna(subset=['discharge diagnosis:'],inplace=True)\n",
        "# diagnosis_icd9category.reset_index(drop=True,inplace=True)"
      ],
      "execution_count": null,
      "outputs": []
    },
    {
      "cell_type": "code",
      "metadata": {
        "id": "L9eCYtTScL1V"
      },
      "source": [
        "# ! pip install scispacy\n",
        "# ! pip install https://s3-us-west-2.amazonaws.com/ai2-s2-scispacy/releases/v0.2.5/en_core_sci_md-0.2.5.tar.gz"
      ],
      "execution_count": null,
      "outputs": []
    },
    {
      "cell_type": "code",
      "metadata": {
        "id": "JqVhIuD8eNQm"
      },
      "source": [
        "# import spacy\n",
        "# import scispacy\n",
        "# import en_core_sci_md"
      ],
      "execution_count": null,
      "outputs": []
    },
    {
      "cell_type": "code",
      "metadata": {
        "id": "6LNu4IjbeZTZ"
      },
      "source": [
        "# nlp=en_core_sci_md.load()"
      ],
      "execution_count": null,
      "outputs": []
    },
    {
      "cell_type": "code",
      "metadata": {
        "id": "KvulA14LecuL"
      },
      "source": [
        "# diagnosis_icd9category['medical_terms_list']=diagnosis_icd9category['discharge diagnosis:'].progress_apply(lambda x: nlp(x).ents)\n",
        "# diagnosis_icd9category['medical_terms_list']=diagnosis_icd9category.medical_terms_list.progress_apply(lambda x: [i.text for a in x for i in a])\n",
        "# diagnosis_icd9category['medical_terms_list']=diagnosis_icd9category.medical_terms_list.apply(lambda x:list(set([str(i) for i in x])))\n",
        "# diagnosis_icd9category['med_terms_token']=diagnosis_icd9category.medical_terms_list.progress_apply(lambda x: [word_tokenize(i) for i in x])\n",
        "# diagnosis_icd9category['med_terms_token']=diagnosis_icd9category.med_terms_token.apply(lambda x:list(set([a for b in x for a in b if a not in list(string.punctuation)])))"
      ],
      "execution_count": null,
      "outputs": []
    },
    {
      "cell_type": "code",
      "metadata": {
        "id": "ailzjfpc34m1"
      },
      "source": [
        "# diagnosis_icd9category.to_csv(\"/content/drive/My Drive/AlgoIntern/Data/Data2.0/diagnosis_icd9category_tokens_scimd.csv\",index=False)"
      ],
      "execution_count": null,
      "outputs": []
    },
    {
      "cell_type": "code",
      "metadata": {
        "id": "P3fT4fqg4YuI"
      },
      "source": [
        "diagnosis_icd9category=pd.read_csv(\"/content/drive/My Drive/AlgoIntern/Data/Data2.0/diagnosis_icd9category_tokens_scimd.csv\")"
      ],
      "execution_count": null,
      "outputs": []
    },
    {
      "cell_type": "code",
      "metadata": {
        "id": "1aFuHZg3X8ZM"
      },
      "source": [
        "diagnosis_icd9category['icd9_category']=diagnosis_icd9category.icd9_category.apply(literal_eval)\n",
        "diagnosis_icd9category['med_terms_token']=diagnosis_icd9category.med_terms_token.apply(literal_eval)"
      ],
      "execution_count": null,
      "outputs": []
    },
    {
      "cell_type": "code",
      "metadata": {
        "id": "PZua1elhY9Wa"
      },
      "source": [
        "diagnosis_icd9category"
      ],
      "execution_count": null,
      "outputs": []
    },
    {
      "cell_type": "code",
      "metadata": {
        "id": "OmDtEFftXKHY"
      },
      "source": [
        "category_med_terms={}\n",
        "common_diagnosis_terms=[\"monday\",\"telephone\",\"of\",\"phone\",'diagnosis', 'discharge', 'condition', 'followup', 'your', 'instructions','weeks', 'medications', 'appointment', 'hospital', 'care', 'md','admitted', 'office','primary', 'follow-up', 'day', 'appointments', 'prescribed', 'coherent', 'week', 'name', 'ambulatory', 'home', '**location', 'daily','days', 'increased', 'clinic', 'changes','medication','physician','no','doctor','patient','parking','scheduled','schedule','question','treated','independent','month','morning','garage']\n",
        "for i in frequent_icd9category:\n",
        "    diagnosis_x=diagnosis_icd9category.loc[diagnosis_icd9category.icd9_category.apply(lambda x: i in x)].copy()\n",
        "    y=diagnosis_x.med_terms_token.to_list()    \n",
        "    z=[list(set(a)) for a in y]\n",
        "    z1=[a for b in z for a in b]\n",
        "    dict_med=dict(Counter(z1))\n",
        "    dict_med=dict(sorted(dict_med.items(),key= lambda x: x[1],reverse=True))\n",
        "    dict_med_list=list(dict_med)\n",
        "    dict_med_list1=[a for a in dict_med_list if a not in common_diagnosis_terms]\n",
        "    category_med_terms[i]=dict_med_list1[:30]"
      ],
      "execution_count": null,
      "outputs": []
    },
    {
      "cell_type": "code",
      "metadata": {
        "id": "B32EjRXaZUXd"
      },
      "source": [
        "diagnosis_icdcategory_medterms={'icd9category':[i for i in category_med_terms],\n",
        "                                'frequent_medterms':[category_med_terms[i] for i in category_med_terms]}\n",
        "diagnosis_icdcategory_medterms_df=pd.DataFrame.from_dict(diagnosis_icdcategory_medterms)"
      ],
      "execution_count": null,
      "outputs": []
    },
    {
      "cell_type": "code",
      "metadata": {
        "id": "O395L6IoZoCh"
      },
      "source": [
        "diagnosis_icdcategory_medterms_df"
      ],
      "execution_count": null,
      "outputs": []
    },
    {
      "cell_type": "code",
      "metadata": {
        "id": "9nxb9QAdZsTK"
      },
      "source": [
        "y=diagnosis_icdcategory_medterms_df.frequent_medterms.to_list()\n",
        "y1=[a for b in y for a in b]\n",
        "medical=dict(Counter(y1))\n",
        "print([k for (k,v) in medical.items() if v>=16])"
      ],
      "execution_count": null,
      "outputs": []
    },
    {
      "cell_type": "code",
      "metadata": {
        "id": "qkJ3yVJfZ7yM"
      },
      "source": [
        "bagofwords=list(set([a for b in diagnosis_icdcategory_medterms_df.frequent_medterms.to_list() for a in b]))"
      ],
      "execution_count": null,
      "outputs": []
    },
    {
      "cell_type": "code",
      "metadata": {
        "id": "wKu3bssScaLo"
      },
      "source": [
        "len(bagofwords)"
      ],
      "execution_count": null,
      "outputs": []
    },
    {
      "cell_type": "code",
      "metadata": {
        "id": "9UwRL3Ldcbni"
      },
      "source": [
        "set(bagofwords).issubset(model.vocab)"
      ],
      "execution_count": null,
      "outputs": []
    },
    {
      "cell_type": "code",
      "metadata": {
        "id": "f6_ffBXScoOa"
      },
      "source": [
        "simi_matrix=np.zeros((len(bagofwords),len(bagofwords)))"
      ],
      "execution_count": null,
      "outputs": []
    },
    {
      "cell_type": "code",
      "metadata": {
        "id": "xtc6IbLpcvTB"
      },
      "source": [
        "for i in tqdm(range(len(bagofwords))):\n",
        "  for j in range(len(bagofwords)):\n",
        "    simi_matrix[i][j]=model.similarity(bagofwords[i],bagofwords[j])"
      ],
      "execution_count": null,
      "outputs": []
    },
    {
      "cell_type": "code",
      "metadata": {
        "id": "3eV-qH6sc3DM"
      },
      "source": [
        "simi_matrix"
      ],
      "execution_count": null,
      "outputs": []
    },
    {
      "cell_type": "code",
      "metadata": {
        "id": "BJDAh5mkc440"
      },
      "source": [
        "features={}\n",
        "for i in range(len(bagofwords)-1):\n",
        "  similar=[]\n",
        "  for j in range(i+1,len(bagofwords)):\n",
        "    if simi_matrix[i][j]>=0.7:\n",
        "      similar.append(bagofwords[j])\n",
        "  features[bagofwords[i]]=similar\n",
        "features[bagofwords[-1]]=[]    \n"
      ],
      "execution_count": null,
      "outputs": []
    },
    {
      "cell_type": "code",
      "metadata": {
        "id": "2os0b1W1dCag"
      },
      "source": [
        "features_list=[features[k]+[k] for k in list(features)]"
      ],
      "execution_count": null,
      "outputs": []
    },
    {
      "cell_type": "code",
      "metadata": {
        "id": "uZhzONDAdEMH"
      },
      "source": [
        "len(features_list)"
      ],
      "execution_count": null,
      "outputs": []
    },
    {
      "cell_type": "code",
      "metadata": {
        "id": "KAL8jvJUdNbS"
      },
      "source": [
        "condensed_feature = list(merge_common(features_list))"
      ],
      "execution_count": null,
      "outputs": []
    },
    {
      "cell_type": "code",
      "metadata": {
        "id": "Yb9JWBVYdZvy"
      },
      "source": [
        "condensed_feature"
      ],
      "execution_count": null,
      "outputs": []
    },
    {
      "cell_type": "code",
      "metadata": {
        "id": "ef8TdritdpSq"
      },
      "source": [
        "len(condensed_feature)"
      ],
      "execution_count": null,
      "outputs": []
    },
    {
      "cell_type": "code",
      "metadata": {
        "id": "mjfF0zB4daqP"
      },
      "source": [
        "condensed_feature_dict={}\n",
        "count=0\n",
        "for i in condensed_feature:\n",
        "  condensed_feature_dict['f'+str(count)]=i\n",
        "  count+=1"
      ],
      "execution_count": null,
      "outputs": []
    },
    {
      "cell_type": "code",
      "metadata": {
        "id": "cbrkfgRldr3j"
      },
      "source": [
        "print(condensed_feature_dict)"
      ],
      "execution_count": null,
      "outputs": []
    },
    {
      "cell_type": "code",
      "metadata": {
        "id": "jAWjmAZQdvOb"
      },
      "source": [
        "all_vocab=[a for b in condensed_feature for a in b]"
      ],
      "execution_count": 127,
      "outputs": []
    },
    {
      "cell_type": "code",
      "metadata": {
        "colab": {
          "base_uri": "https://localhost:8080/",
          "height": 66,
          "referenced_widgets": [
            "8ae0f7ce056242378ebae50fe9a139ca",
            "42f3f05d14a4471e91f669bd0e0e547c",
            "8ff943a89ecf4865978e5aac33649485",
            "e58731edbc0a448eb9767f60e67d379f",
            "fe89a32c765b42878f8c8fb9c798a6bc",
            "36fa7761111246a084571562ed795c98",
            "7b248e27046d43a3a11ae5007010c1f2",
            "429c33b137b74854b6ce7d4354ce67e5"
          ]
        },
        "id": "rhBCXIr0d5T1",
        "outputId": "7209c4aa-4ba6-4baf-a2b4-819e9bf438fa"
      },
      "source": [
        "diagnosis_icd9category['med_terms_condensed']=diagnosis_icd9category.med_terms_token.progress_apply(lambda x:list(set(x).intersection(set(all_vocab))))"
      ],
      "execution_count": 128,
      "outputs": [
        {
          "output_type": "display_data",
          "data": {
            "application/vnd.jupyter.widget-view+json": {
              "model_id": "8ae0f7ce056242378ebae50fe9a139ca",
              "version_minor": 0,
              "version_major": 2
            },
            "text/plain": [
              "HBox(children=(FloatProgress(value=0.0, max=41967.0), HTML(value='')))"
            ]
          },
          "metadata": {
            "tags": []
          }
        },
        {
          "output_type": "stream",
          "text": [
            "\n"
          ],
          "name": "stdout"
        }
      ]
    },
    {
      "cell_type": "code",
      "metadata": {
        "colab": {
          "base_uri": "https://localhost:8080/",
          "height": 1000
        },
        "id": "zlzpdQMIexyH",
        "outputId": "f8d7d5f8-67d0-4433-a595-deae4962af5d"
      },
      "source": [
        "diagnosis_icd9category"
      ],
      "execution_count": 129,
      "outputs": [
        {
          "output_type": "execute_result",
          "data": {
            "text/html": [
              "<div>\n",
              "<style scoped>\n",
              "    .dataframe tbody tr th:only-of-type {\n",
              "        vertical-align: middle;\n",
              "    }\n",
              "\n",
              "    .dataframe tbody tr th {\n",
              "        vertical-align: top;\n",
              "    }\n",
              "\n",
              "    .dataframe thead th {\n",
              "        text-align: right;\n",
              "    }\n",
              "</style>\n",
              "<table border=\"1\" class=\"dataframe\">\n",
              "  <thead>\n",
              "    <tr style=\"text-align: right;\">\n",
              "      <th></th>\n",
              "      <th>HADM_ID</th>\n",
              "      <th>discharge diagnosis:</th>\n",
              "      <th>icd9_category</th>\n",
              "      <th>medical_terms_list</th>\n",
              "      <th>med_terms_token</th>\n",
              "      <th>med_terms_condensed</th>\n",
              "    </tr>\n",
              "  </thead>\n",
              "  <tbody>\n",
              "    <tr>\n",
              "      <th>0</th>\n",
              "      <td>167118.0</td>\n",
              "      <td>discharge diagnosis:  copd, coronary artery disease/atypical angina (lad 30%, rca 30%,  ef 63%), hypercholesterolemia, hypothyroidism, hypertension,  hiatal hernia, cerebral vascular accident,s/p motor vehicle  colision-&gt; head injury &amp; rib fracture.  tbm- s/p tracheoplasty.      discharge condition:  good    discharge instructions:  please update dr.&lt;name&gt; &lt;telephone&gt; office for:  fever,  shortness of breath, chest pain , productive cough or if you  have any questions or concerns.      completed by: &lt;date&gt;</td>\n",
              "      <td>[496, 553, 518, 453, 519, 276]</td>\n",
              "      <td>['discharge diagnosis', 'coronary artery disease/atypical angina', 'hypothyroidism', 'rca', 'cerebral vascular accident', 'questions', 'hypertension', 'discharge condition', 'productive cough', 'concerns', 'chest pain', 'hypercholesterolemia', 'discharge', 'hiatal hernia', 'rib fracture', 's/p motor vehicle', 'office', 'telephone']</td>\n",
              "      <td>[fracture, pain, rib, s/p, discharge, artery, accident, diagnosis, rca, hernia, productive, concerns, cerebral, hiatal, vehicle, telephone, questions, hypothyroidism, hypertension, angina, condition, disease/atypical, office, chest, coronary, hypercholesterolemia, vascular, motor, cough]</td>\n",
              "      <td>[s/p, artery, questions, chest, pain, coronary]</td>\n",
              "    </tr>\n",
              "    <tr>\n",
              "      <th>1</th>\n",
              "      <td>196489.0</td>\n",
              "      <td>discharge diagnosis:  primary:  1. chronic obstructive pulmonary disease exacerbation  2. respiratory failure with intubation  3. upper gastrointestinal bleed/peptic ulcer disease  4. hypertension  5. anxiety    secondary:  1. coronary artery disease  2. hypothyroidism      discharge condition:  mental status: confused - sometimes.  level of consciousness: alert and interactive.  activity status: out of bed with assistance to chair or  wheelchair.      discharge instructions:  you were admitted to the hospital with shortness of breath and  respiratory failure and lethargy. in the emergency department,  you were breathing very fast and a breathing tube was inserted  into your airway to help you breathe. you were admitted to the  intensive care unit. there, you were managed with steroids and  antibiotics and the tube was eventually removed from your  airway, allowing you to breathe on your own. you also underwent  bronchoscopy which looked at the inside of your airways.  .  during your time in the intensive care unit, you developed a  gastrointestinal bleed. a tube was placed into your stomach and  you underwent an endoscopic procedure to look at your esophagus  and stomach. this showed inflammation in your esophagusand  ulcers in your stomach.  .  you should continue to use nasal oxygen by nasal cannula as  needed. you should continue the steroid taper as instructed. you  should call your doctor or return to the emergency room if you  have increasing difficulty breathing or shortness of breath,  wheezing, chest pain, blood in your stool or vomiting blood.  .  there are some changes in your medications.  start pantoprazole 40 mg twice daily and stop omeprazole  start hydrochlorothiazide  start prednisone, taking 30 mg for 3 days, then 20 mg for 4  days, then 10 mg for 4 days, then 5 mg for 4 days, then stop.  start colace and senna as needed for constipation  can use morphine to alleviate symptoms of respiratory discomfort  stop furosemide  stop zolpidem  stop aspirin  increase diovan to 240 mg daily  decrease trazodone to 50 mg daily  .  follow up as indicated below.    followup instructions:  you have an appointment to follow up with dr. &lt;name&gt;, your  primary care physician, &lt;name&gt; [**8-29**] at 1pm. his address is [**location (un) 1822**], [**apartment address(1) 1823**], [**location (un) **],[**numeric identifier 1700**]. the phone is  &lt;telephone&gt;.    you have an appointment to follow up with dr. &lt;name&gt; &lt;name&gt; in  the  &lt;name&gt; at &lt;hospital&gt; on the [**location (un) 453**]. their phone number is  &lt;telephone&gt;.    department: div. of gastroenterology  when: wednesday  &lt;date&gt;  at 3:00 pm  with: &lt;name&gt; &lt;name&gt;, md &lt;telephone&gt;  building: ra &lt;name&gt; (&lt;name&gt;/&lt;name&gt; complex) [**location (un) **]  campus: east     best parking: main garage</td>\n",
              "      <td>[487, 416, 272, 530, 414, 553, 531, 518, 401, 519, 348, V02, 359, 584, 458, 578, 491, E93, 276, 244]</td>\n",
              "      <td>['your airway', 'followup', 'increasing', 'alert', 'shortness of breath', 'your airways', 'your time', 'changes', 'garage', 'anxiety', 'tube', 'respiratory failure', 'intensive care unit', 'return to', 'days', 'gastroenterology', 'stop omeprazole', 'prednisone', 'stop', 'alleviate', 'east', 'parking', 'respiratory discomfort', 'pantoprazole', 'furosemide', 'daily', 'appointment', 'breathe', 'md &lt;telephone', 'admitted', '**apartment address(1', 'endoscopic procedure', 'discharge condition', 'nasal cannula', 'breathing', 'steroid taper', 'discharge diagnosis', 'intubation', 'hypothyroidism', '**numeric identifier 1700**', 'stomach', 'vomiting blood', 'hypertension', 'confused', 'hospital', 'chair', 'symptoms', 'trazodone', 'phone', 'div', 'chronic obstructive pulmonary disease', 'lethargy', 'constipation', 'aspirin', 'phone number', 'nasal oxygen', 'discharge instructions', 'emergency department', 'your doctor', 'chest pain', 'your medications', 'hydrochlorothiazide', 'morphine', 'breathing tube', 'exacerbation', 'your esophagus', 'difficulty breathing', 'blood', 'instructed', 'your stool', 'sometimes', 'senna', 'emergency room', '**location', 'physician', 'upper gastrointestinal bleed/peptic ulcer disease', 'consciousness', 'coronary artery disease', 'your stomach', 'your esophagusand', 'inflammation', 'gastrointestinal bleed', 'steroids', 'interactive']</td>\n",
              "      <td>[discharge, omeprazole, discomfort, gastroenterology, prednisone, time, pantoprazole, doctor, intensive, appointment, number, telephone, steroid, airways, stomach, confused, hospital, md, condition, bleed, **location, stool, coronary, steroids, phone, alert, your, 1700**, anxiety, tube, diagnosis, address, identifier, alleviate, breath, respiratory, furosemide, taper, unit, daily, admitted, breathing, shortness, morphine, hydrochlorothiazide, gastrointestinal, upper, instructed, senna, instructions, chronic, failure, inflammation, div, vomiting, followup, 1, ulcer, disease, days, **apartment, cannula, to, hypothyroidism, chair, symptoms, oxygen, return, of, lethargy, aspirin, pulmonary, esophagusand, department, blood, chest, medications, room, intubation, changes, interactive, increasing, emergency, pain, care, artery, procedure, parking, east, stop, breathe, obstructive, nasal, bleed/peptic, hypertension, trazodone, constipation, airway, esophagus, exacerbation, ...]</td>\n",
              "      <td>[interactive, shortness, consciousness, failure, respiratory, artery, emergency, chest, disease, symptoms, pulmonary, pain, breath, blood, alert, coronary, breathing, aspirin, department, chronic]</td>\n",
              "    </tr>\n",
              "    <tr>\n",
              "      <th>2</th>\n",
              "      <td>135453.0</td>\n",
              "      <td>discharge diagnosis:  1. cervical spondylosis with calcification of posterior  longitudinal ligament.  2. fracture dislocation c6-c7.  3. ossification of the posterior longitudinal ligament.  4. aspiration pneumonia      1. cervical spondylosis with calcification of posterior      longitudinal ligament.  2. fracture dislocation c6-c7.  3. ossification of the posterior longitudinal ligament.  4. aspiration pneumonia    1. cervical spondylosis with calcification of posterior      longitudinal ligament.  2. fracture dislocation c6-c7.  3. ossification of the posterior longitudinal ligament.  4. aspiration pneumonia      discharge condition:  stable to outside facility      discharge instructions:  patient has been made cmo at the request of him and his family.  he has a foley placed for urinary retention. please use morphine  as needed for pain and olanzapine as needed for agitiation.  patient has known history of aspiration documented on speech and  swallow. it is the patient and the family's wish for him to  continue to eat and drink as desired.    followup instructions:  follow up with your primary care physician as needed.</td>\n",
              "      <td>[V12, 788, 805, 507, V45, 401, 427, 453, E88, 293, 802, 428]</td>\n",
              "      <td>['family', 'followup', 'aspiration', 'agitiation', 'drink', 'fracture', 'pain', 'longitudinal ligament', 'fracture dislocation', 'aspiration pneumonia', 'history', 'posterior longitudinal ligament', 'discharge condition', 'cervical spondylosis', 'discharge diagnosis', 'ossification', 'foley', 'eat', 'calcification', 'patient', 'c6-c7', 'dislocation', 'olanzapine', 'discharge instructions', 'morphine', 'posterior  longitudinal ligament', 'facility', \"family's\", 'speech', 'primary care physician', 'urinary retention', 'posterior']</td>\n",
              "      <td>[family, followup, aspiration, drink, fracture, pain, retention, discharge, care, primary, pneumonia, diagnosis, urinary, history, spondylosis, ligament, longitudinal, ossification, eat, foley, calcification, cervical, patient, c6-c7, dislocation, olanzapine, condition, morphine, facility, physician, instructions, speech, 's, agitiation, posterior]</td>\n",
              "      <td>[pain, pneumonia]</td>\n",
              "    </tr>\n",
              "    <tr>\n",
              "      <th>3</th>\n",
              "      <td>170490.0</td>\n",
              "      <td>discharge diagnosis:  brain lesion    discharge condition:  mental status: clear and coherent.  level of consciousness: alert and interactive.  activity status: ambulatory - independent.  neuro exam intact.    discharge instructions:  ??????\\thave a friend/family member check your incision daily for  signs of infection.  ??????\\ttake your pain medicine as prescribed.  ??????\\texercise should be limited to walking; no lifting, straining,  or excessive bending.  ??????\\tyou have dissolvable sutures, you must keep that area dry for  10 days.  ??????\\tyou may shower before this time using a shower cap to cover  your head.  ??????\\tincrease your intake of fluids and fiber, as narcotic pain  medicine can cause constipation. we generally recommend taking  an over the counter stool softener, such as docusate (colace)  while taking narcotic pain medication.  ??????\\tunless directed by your doctor, do not take any  anti-inflammatory medicines such as motrin, aspirin, advil, and  ibuprofen etc.  ??????\\tif you have been prescribed dilantin (phenytoin) for  anti-seizure medicine, take it as prescribed and follow up with  laboratory blood drawing in one week.  this can be drawn at your  pcp??????s office, but please have the results faxed to &lt;telephone&gt;.  if you have been discharged on keppra (levetiracetam), you will  not require blood work monitoring.  ??????\\tif you are being sent home on steroid medication, make sure  you are taking a medication to protect your stomach (prilosec,  protonix, or pepcid), as these medications can cause stomach  irritation.  make sure to take your steroid medication with  meals, or a glass of milk.  ??????\\tclearance to drive and return to work will be addressed at  your post-operative office visit.  ??????\\tmake sure to continue to use your incentive spirometer while  at home.  call your surgeon immediately if you experience any of the  following    ??????\\tnew onset of tremors or seizures.  ??????\\tany confusion or change in mental status.  ??????\\tany numbness, tingling, weakness in your extremities.  ??????\\tpain or headache that is continually increasing, or not  relieved by pain medication.  ??????\\tany signs of infection at the wound site: increasing redness,  increased swelling, increased tenderness, or drainage.  ??????\\tfever greater than or equal to 101?????? f.    followup instructions:  ??????\\tplease return to the office in [**6-28**] days (from your date of  surgery) for a wound check. this appointment can be made with  the nurse practitioner.  please make this appointment by calling  &lt;telephone&gt;. if you live quite a distance from our office,  please make arrangements for the same, with your pcp.</td>\n",
              "      <td>[710, 225, 443, 714, 530, V43]</td>\n",
              "      <td>['change', 'increased', 'fiber', 'blood work', 'week', 'pepcid', 'clearance', 'straining', 'prilosec', 'appointment', 'follow up', 'exercise', 'fever', 'stomach', 'anti-seizure medicine', 'tremors', 'numbness', 'incentive', 'drainage', 'ibuprofen', 'seizures', 'discharged', 'alert', 'dissolvable sutures', 'milk', 'bending', 'prescribed', 'colace', 'levetiracetam', 'discharge condition', 'discharge diagnosis', 'medication', 'post-operative', 'weakness', 'fluids', 'spirometer', 'phenytoin', 'shower cap', 'narcotic pain', 'excessive', 'results', 'redness', 'exam', 'surgeon', 'area dry', 'docusate', 'faxed', 'walking', 'confusion', 'days', 'nurse practitioner', 'coherent', 'ambulatory', 'increase', 'your pain medicine', 'motrin', 'stool softener', 'steroid medication', 'wound check', 'glass', 'aspirin', 'distance', 'discharge instructions', 'your doctor', 'office', 'keppra', 'medications', 'your pcp', 'headache', 'laboratory blood drawing', 'tenderness', 'mental status', 'interactive', 'your intake', 'increasing', 'advil', 'wound site', 'your extremities', 'return to', 'monitoring', 'intact', 'tingling', 'pain medication', 'independent', 'constipation', 'live', 'no lifting', 'infection', 'consciousness', 'anti-inflammatory medicines', 'your stomach', 'home']</td>\n",
              "      <td>[change, increased, fiber, discharge, narcotic, week, intake, pepcid, clearance, shower, straining, doctor, prilosec, appointment, up, medicines, exercise, fever, steroid, stomach, anti-inflammatory, condition, wound, tremors, numbness, incentive, drainage, ibuprofen, seizures, lifting, nurse, stool, discharged, alert, your, milk, diagnosis, bending, extremities, prescribed, colace, mental, levetiracetam, sutures, medication, post-operative, weakness, fluids, spirometer, phenytoin, softener, anti-seizure, excessive, instructions, results, redness, exam, surgeon, medicine, docusate, practitioner, faxed, dissolvable, walking, confusion, pcp, days, coherent, ambulatory, area, drawing, increase, to, dry, motrin, glass, return, aspirin, check, distance, office, keppra, blood, work, medications, headache, tenderness, interactive, laboratory, increasing, advil, pain, cap, status, monitoring, intact, follow, tingling, independent, constipation, ...]</td>\n",
              "      <td>[interactive, pcp, surgeon, redness, pain, blood, alert, drainage, infection, aspirin, consciousness, fever]</td>\n",
              "    </tr>\n",
              "    <tr>\n",
              "      <th>4</th>\n",
              "      <td>134727.0</td>\n",
              "      <td>discharge diagnosis:  pneumonia    discharge condition:  expired    discharge instructions:  na    followup instructions:  na                                 &lt;name&gt; &lt;name&gt; md [**md number(2) 1851**]</td>\n",
              "      <td>[486, 518, V45, V58, 401, 577, 415, 428]</td>\n",
              "      <td>['discharge diagnosis', 'discharge instructions', 'pneumonia', 'discharge condition']</td>\n",
              "      <td>[instructions, condition, discharge, pneumonia, diagnosis]</td>\n",
              "      <td>[pneumonia]</td>\n",
              "    </tr>\n",
              "    <tr>\n",
              "      <th>...</th>\n",
              "      <td>...</td>\n",
              "      <td>...</td>\n",
              "      <td>...</td>\n",
              "      <td>...</td>\n",
              "      <td>...</td>\n",
              "      <td>...</td>\n",
              "    </tr>\n",
              "    <tr>\n",
              "      <th>41962</th>\n",
              "      <td>127716.0</td>\n",
              "      <td>discharge diagnosis:  aortic stenosis and coronary artery disease s/p aortic valve  replacement and coronary artery bypass graft  past medical history:  hypertension  hyperlipidemia  diabetes mellitus  osteoarthritis  phlebitis  lung cancer  hiatal hernia  hypthyroidism  s/p right lobectomy [**2117**]  s/p lymph node dissection in neck  s/p beast lumpectomy  s/p hysterectomy  s/p c section  s/p tonsillectomy      discharge condition:  alert and oriented x3 nonfocal  ambulating, steady gait  incisional pain managed with ultram  incisions:  sternal - healing well, no erythema or drainage  1+ le edema      discharge instructions:  please shower daily including washing incisions gently with mild  soap, no baths or swimming until cleared by surgeon. look at  your incisions daily for redness or drainage  please no lotions, cream, powder, or ointments to incisions  each morning you should weigh yourself and then in the evening  take your temperature, these should be written down on the chart    no driving for one month or while taking narcotics. driving will  be discussed at follow up appointment with surgeon. no lifting  more than 10 pounds for 10 weeks  please call with any questions or concerns &lt;telephone&gt;  females: please wear bra to reduce pulling on incision, avoid  rubbing on lower edge  **please call cardiac surgery office with any questions or  concerns &lt;telephone&gt;. answering service will contact on call  person during off hours**    followup instructions:  you are scheduled for the following appointments  wound care, &lt;name&gt;, &lt;name&gt;  phone:&lt;telephone&gt;  date/time: &lt;date&gt;  10:00    surgeon: dr. &lt;name&gt; &lt;telephone&gt; date/time: &lt;date&gt;  1:15  cardiologist: dr. &lt;name&gt;  &lt;date&gt;  at 3:00p    please call to schedule appointments with your  primary care dr. &lt;name&gt; &lt;name&gt; in &lt;telephone&gt;    **please call cardiac surgery office with any questions or  concerns &lt;telephone&gt;. answering service will contact on call  person during off hours**                                   &lt;name&gt; &lt;name&gt; md [**md number(2) 748**]    completed by: &lt;date&gt;</td>\n",
              "      <td>[416, 424, 272, V10, V85, 414, 250, 401, 278, 782]</td>\n",
              "      <td>['pulling', 'no driving', 'off hours**', 'chart', 'washing', 'cardiac surgery', 'schedule appointments', 'drainage  1', 's/p aortic valve  replacement', 'no baths', 'cream', 'no erythema', 'contact', 'evening', 'medical history', 'scheduled', 'sternal', 'coronary artery bypass graft', 'incisions', 'narcotics', 'appointment', 'incision', 'discharge condition', 'swimming', 'telephone', 'discharge diagnosis', 'questions', 'month', '**2117**', 'powder', 'reduce', 'neck  s/p beast', 'mild', 'incisional pain', 'steady gait', 'nonfocal', 'discharge instructions', 'hiatal hernia', 'off hours', 'office', 'drainage', 'lotions', 'your temperature', 'morning', 'appointments', 'weeks', '**md number(2', 'lower edge', 'redness', 'coronary artery disease', 'healing', 'surgeon', 'written down', 'wear bra', 'ointments']</td>\n",
              "      <td>[wear, pulling, 1, lower, medical, chart, washing, pain, 2, s/p, down, valve, artery, discharge, gait, replacement, your, cream, disease, hours**, diagnosis, hernia, schedule, contact, evening, hiatal, edge, history, scheduled, aortic, sternal, neck, bypass, incisions, narcotics, appointment, driving, incision, swimming, cardiac, telephone, **md, number, questions, month, incisional, **2117**, temperature, off, powder, condition, reduce, mild, nonfocal, no, office, drainage, beast, lotions, written, appointments, steady, morning, weeks, bra, instructions, erythema, redness, surgery, healing, graft, surgeon, hours, baths, coronary, ointments]</td>\n",
              "      <td>[lotions, s/p, redness, surgeon, questions, baths, artery, cardiac, disease, surgery, pain, drainage, coronary, ointments, incisions, hours, incision, swimming, medical]</td>\n",
              "    </tr>\n",
              "    <tr>\n",
              "      <th>41963</th>\n",
              "      <td>186377.0</td>\n",
              "      <td>discharge diagnosis:  coronary artery disease  pmh:  hypertension, diabetes, copd, diastolic heart failure, ef 45-50%  past surgical history  penile implant      discharge condition:  alert and oriented x3 nonfocal  ambulating, gait steady  sternal pain managed with oral analgesics  sternal incision - healing well, no erythema or drainage  right lower extremity saph site clean/dry/intact      discharge instructions:  please draw bun/cre, inr at least every other day until they  stabilize  please shower daily including washing incisions gently with mild  soap, no baths or swimming, and look at your incisions  please no lotions, cream, powder, or ointments to incisions  each morning you should weigh yourself and then in the evening  take your temperature, these should be written down on the chart  no driving for approximately one month and while taking  narcotics, will be discussed at follow up appointment with  surgeon when you will be able to drive  no lifting more than 10 pounds for 10 weeks  please call with any questions or concerns &lt;telephone&gt;  **please call cardiac surgery office with any questions or  concerns &lt;telephone&gt;. answering service will contact on call  person during off hours**      followup instructions:  you are scheduled for the following appointments:  surgeon dr. &lt;name&gt; &lt;telephone&gt;,  &lt;date&gt;  1:00  cardiologist dr. &lt;name&gt;. &lt;name&gt; office will call you with an  appointment  please call to schedule the following:  primary care dr. &lt;name&gt;,&lt;name&gt; in [**3-8**] weeks  please follow up with dr. &lt;name&gt; &lt;name&gt; call &lt;telephone&gt; to  schedule an appointment  dialysis,schedule hemodialysis unit date/time: &lt;date&gt;  12:00  renal: dr. &lt;name&gt; &lt;telephone&gt;  diabetes: if patient requires endocrine follow-up after  discharge from rehab, please contact &lt;name&gt;, &lt;name&gt; at &lt;hospital&gt;  **please call cardiac surgery office with any questions or  concerns &lt;telephone&gt;. answering service will contact on call  person during off hours**    inr draw on [**8-16**]  goal inr [**1-5**]  indication: atrial fibrillation                                   &lt;name&gt; &lt;name&gt; md [**md number(2) 266**]    completed by: &lt;date&gt;</td>\n",
              "      <td>[424, 511, 305, 707, 403, 496, 784, 250, 414, V58, 427, 428, 584, 008, 997, 434, 410, 585, 041, 599]</td>\n",
              "      <td>['bun/cre', 'chart', 'off hours**      ', 'please contact', 'washing', 'schedule hemodialysis unit', 'endocrine follow-up', 'cardiac surgery', 'gait', 'day', 'sternal incision', 'nonfocal  ambulating', 'no baths', 'cream', 'no erythema', 'contact', 'evening', 'schedule', 'inr', 'surgical history', 'scheduled', 'incisions', 'narcotics', 'appointment', 'oral analgesics', 'discharge condition', 'diastolic heart failure', 'swimming', 'telephone', 'discharge diagnosis', 'questions', 'name&gt;.', 'your incisions', 'hospital', 'month', 'patient', 'copd', 'powder', 'mild', 'rehab', 'off hours', 'discharge instructions', 'office', 'atrial fibrillation', 'drainage', 'your temperature', 'morning', 'appointments', 'weeks', 'coronary artery disease', 'healing', '**8', 'written down', 'diabetes', 'ointments']</td>\n",
              "      <td>[bun/cre, follow-up, endocrine, please, surgical, analgesics, chart, diastolic, heart, washing, down, gait, discharge, your, day, ambulating, artery, cream, disease, hours**, diagnosis, diabetes, contact, schedule, evening, inr, history, scheduled, sternal, unit, incisions, narcotics, appointment, incision, swimming, cardiac, telephone, questions, hemodialysis, hospital, month, patient, copd, temperature, off, powder, oral, condition, mild, nonfocal, rehab, fibrillation, no, office, drainage, written, atrial, morning, appointments, weeks, instructions, erythema, surgery, failure, healing, **8, name, hours, baths, coronary, ointments]</td>\n",
              "      <td>[diabetes, failure, artery, atrial, questions, baths, cardiac, disease, surgery, heart, drainage, coronary, ointments, incisions, hours, incision, swimming, fibrillation]</td>\n",
              "    </tr>\n",
              "    <tr>\n",
              "      <th>41964</th>\n",
              "      <td>156564.0</td>\n",
              "      <td>discharge diagnosis:  left knee infection  chronic obstructive pulmonary disease exacerbation  acute on chronic kidney injury  congestive heart failure  hypertension      discharge condition:  mental status: clear and coherent.  level of consciousness: alert and interactive.  activity status: out of bed with assistance to chair or  wheelchair.      discharge instructions:  mr. &lt;name&gt;,    you were admitted to the hospital for a infected hardware in  your left knee. our orthopaedics team cleaned out the infection  in your knee and replaced the liner of your prosthesis. they  feel you should follow up with your primary orthopaedic doctor,  dr. &lt;name&gt; &lt;name&gt; at &lt;hospital&gt; (&lt;telephone&gt;), for ongoing  issues about your knee. the cultures of the infection in your  knee grew two different organisms, so we consulted our  infectious disease doctors who recommended a course of iv  antibiotics to help treat your infection. because this infection  occured inside of a joint, a longer course of antibiotics is  required. you went multiple times to the operating room to  wash-out your knee of any remaining infection, and your hardware  was removed. most recently you had a portion of tissue grafted  to your knee to provide for better coverage of your wound, along  with skin graft. your kidney function worsened while you were in  the hospital but it appears to have normalized. this should be  followed up with your primary care physician.    we made the following changes to your medications:  started:  vancomycin (antibiotic)  ceftriaxone (antibiotic)    increased metoprolol for blood pressure    followup instructions:  department: plastic surgery  when: wednesday  &lt;date&gt;  at 3:15 pm  with: &lt;name&gt; &lt;name&gt;, md &lt;telephone&gt;  building: lm &lt;name&gt; bldg (&lt;name&gt;) [**location (un) **]  campus: west     best parking: &lt;name&gt; garage    name: &lt;name&gt;, &lt;name&gt; &lt;name&gt; &lt;name&gt;  location: community physicians associates  address: &lt;hospital&gt;,[**numeric identifier 18406**]  phone: &lt;telephone&gt;  appointment: thursday  &lt;date&gt;  1:15pm    department: infectious disease  when: friday  &lt;date&gt;  at 9:30 am  with: &lt;name&gt; &lt;name&gt;, md &lt;telephone&gt;  building: lm &lt;name&gt; bldg (&lt;name&gt;) &lt;hospital&gt;  campus: west     best parking: &lt;name&gt; garage    name: nabi,&lt;name&gt; md  address: &lt;hospital&gt;,[**numeric identifier 18406**]  phone: &lt;telephone&gt;  **please discuss with the staff at the facility a follow up  appointment with your pcp when you are ready for discharge.      department: plastic surgery  when: wednesday  &lt;date&gt;  at 3:15 pm  with: &lt;name&gt; &lt;name&gt;, md &lt;telephone&gt;  building: lm &lt;name&gt; bldg (&lt;name&gt;) [**location (un) **]  campus: west     best parking: &lt;name&gt; garage    department: infectious disease  when: friday  &lt;date&gt;  at 9:30 am  with: &lt;name&gt; &lt;name&gt;, md &lt;telephone&gt;  building: lm &lt;name&gt; bldg (&lt;name&gt;) &lt;hospital&gt;  campus: west     best parking: &lt;name&gt; garage                                   &lt;name&gt; &lt;name&gt; md [**md number(1) 348**]    completed by: &lt;date&gt;</td>\n",
              "      <td>[V10, 403, 584, V43, 428, 285, 496, 250, V58, 041, 357, 707, 365, 414, 780, 518, 711, 585, 327, V12, E84, E87, 996]</td>\n",
              "      <td>['orthopaedic doctor', 'followup', 'alert', 'hardware', 'nabi,&lt;name', 'congestive heart failure', 'skin graft', 'metoprolol', 'increased', 'operating room', 'worsened', 'changes', 'your infection', 'discharge', 'infected', 'your wound', 'treat', 'cultures', 'parking', 'coherent', 'staff', 'bldg', 'community', 'consulted', 'hospital&gt;,[**numeric identifier 18406*', 'course', 'blood pressure', 'md &lt;telephone', 'admitted', 'liner', 'discharge condition', 'telephone', 'organisms', 'discharge diagnosis', 'hospital', 'chronic kidney injury', 'chair', 'your prosthesis', 'physicians', 'chronic obstructive pulmonary disease', 'grafted', 'normalized', 'west', 'antibiotic', 'antibiotics', 'discharge instructions', 'your medications', 'plastic surgery', 'doctors', 'department', 'portion', 'exacerbation', 'left knee infection', 'orthopaedics', 'infection', 'infectious disease', 'your hardware  ', 'facility', 'recommended', '**location', 'your knee', 'your pcp', 'consciousness', 'joint', 'primary care physician', 'garage', 'tissue', 'your kidney function', 'interactive']</td>\n",
              "      <td>[followup, alert, hardware, heart, infectious, increased, worsened, pressure, prosthesis, your, discharge, infected, disease, care, primary, diagnosis, treat, pcp, identifier, cultures, parking, garage, coherent, tissue, staff, bldg, community, doctor, consulted, course, interactive, injury, knee, operating, admitted, left, obstructive, liner, telephone, organisms, plastic, nabi, skin, hospital, md, chair, physicians, function, grafted, normalized, west, condition, antibiotic, wound, pulmonary, antibiotics, kidney, doctors, 18406*, department, portion, blood, infection, exacerbation, orthopaedics, orthopaedic, facility, recommended, **location, physician, instructions, congestive, chronic, medications, surgery, failure, graft, consciousness, name, room, joint, **numeric, metoprolol, changes]</td>\n",
              "      <td>[interactive, antibiotics, pressure, consciousness, failure, congestive, pcp, disease, pulmonary, surgery, blood, heart, alert, infection, left, kidney, department, chronic]</td>\n",
              "    </tr>\n",
              "    <tr>\n",
              "      <th>41965</th>\n",
              "      <td>172559.0</td>\n",
              "      <td>discharge diagnosis:  primary:  small bowel obstruction  metastatic prostate cancer  anasarca  malnutrition  dehydration  acute renal failure  aspiration pneumonia  .  secondary:  prostate ca s/p xrt and chemo - rising psa (140), lg rp mass,  oa, lbp, diverticulosis w/ colovesical fistula s/p lar [**5-18**], s/p  ileostomy takedown [**10-18**], open ccy      discharge condition:  stable      discharge instructions:  please call your doctor or return to the er for any of the  following:  * you experience new chest pain, pressure, squeezing or  tightness.  * new or worsening cough or wheezing.  * if you are vomiting and cannot keep in fluids or your  medications.  * you are getting dehydrated due to continued vomiting,  diarrhea or other reasons. signs of dehydration include dry  mouth, rapid heartbeat or feeling dizzy or faint when standing.  * you see blood or dark/black material when you vomit or have a  bowel movement.  * your pain is not improving within 8-12 hours or not gone  within 24 hours. call or return immediately if your pain is  getting worse or is changing location or moving to your chest or    back.  *avoid lifting objects &gt; 5lbs until your follow-up appointment  with the surgeon.  *avoid driving or operating heavy machinery while taking pain  medications.  * you have shaking chills, or a fever greater than 101.5 (f)  degrees or 38(c) degrees.  * any serious change in your symptoms, or any new symptoms that  concern you.  * please resume all regular home medications and take any new  meds  as ordered.  * continue to ambulate several times per day.  .  incision care:  -your staples will be removed at your follow-up appointment with  the surgeon, and steri strips will be applied.  -your steri-strips will fall off on their own. please remove any  remaining strips 7-10 days after surgery.  -you may shower, and wash surgical incisions.  -avoid swimming and baths until your follow-up appointment.  -please call the doctor if you have increased pain, swelling,  redness, or drainage from the incision sites.      followup instructions:  1. please follow-up appointment with dr. &lt;name&gt; (&lt;telephone&gt; on  &lt;date&gt;  at 1:15pm for removal of your staples.  2. you have follow-up appointment with dr. &lt;name&gt; &lt;name&gt;, md  phone:&lt;telephone&gt; date/time: &lt;date&gt;  11:00, and chemotherapy at  provider: &lt;name&gt; &lt;name&gt;, rn phone:&lt;telephone&gt; date/time: &lt;date&gt;   12:00  3. provider: &lt;name&gt;,&lt;name&gt; &lt;name&gt; apg (sb)  phone:&lt;telephone&gt; date/time: &lt;date&gt;  10:10                                 &lt;name&gt; &lt;name&gt; md [**md number(1) 17**]    completed by: &lt;date&gt;</td>\n",
              "      <td>[197, 507, 185, 427, 261, 585, V66, 560, 783, 285, 276]</td>\n",
              "      <td>['colovesical fistula s/p lar', 'vomiting', 'diverticulosis', 'dehydrated', 'dry  mouth', 'follow-up', 'followup', 'your symptoms', 'vomit', 'pain', 'pressure', 'increased', 'home medications', 'removal', 'discharge', 'day', 'swelling', 'your pain', 'rapid', 'rp mass', 'psa', 'days', 'signs', 'doctor', 'operating heavy machinery', 'appointment', 'incision sites', 'heartbeat', 'worsening', 'location', 'steri strips', 'discharge condition', 'swimming', 'telephone', 's/p  ileostomy takedown', 'discharge diagnosis', 'fever', 'objects', 'fluids', 'symptoms', 'staples', 'steri-strips', 'md  phone:&lt;telephone&gt; date/time', 'rising', 'small bowel obstruction', 'return', 'wheezing', 'shaking chills', 'acute renal failure', 'chest pain', 'ambulate', 'movement', 'chemo', 'blood', 'dark/black material', 'drainage', 'provider', 'surgical incisions', 'dehydration', 'feeling dizzy', 'your chest', 'prostate cancer', 'lifting', 'surgery', 'surgeon', 'your staples', 'standing', 'hours', 'baths', 'chemotherapy', 'cough', 'squeezing', 'your follow-up']</td>\n",
              "      <td>[surgical, mouth, vomit, increased, removal, discharge, machinery, doctor, heavy, appointment, heartbeat, telephone, fever, md, steri-strips, rising, condition, movement, chemo, drainage, lifting, surgery, chemotherapy, obstruction, standing, hours, bowel, squeezing, phone, fistula, dizzy, your, swelling, diagnosis, signs, rp, incisions, location, operating, swimming, fluids, wheezing, material, renal, acute, takedown, provider, failure, surgeon, dehydrated, vomiting, diverticulosis, followup, strips, day, rapid, psa, days, worsening, cancer, dry, symptoms, return, ambulate, blood, chest, mass, medications, dark/black, colovesical, ileostomy, baths, cough, follow-up, pain, pressure, s/p, shaking, feeling, steri, date/time, incision, objects, staples, prostate, sites, dehydration, small, chills, home, lar]</td>\n",
              "      <td>[chills, s/p, pressure, renal, failure, surgeon, acute, chest, baths, symptoms, surgery, pain, blood, drainage, hours, incisions, incision, swimming, fever]</td>\n",
              "    </tr>\n",
              "    <tr>\n",
              "      <th>41966</th>\n",
              "      <td>135672.0</td>\n",
              "      <td>discharge diagnosis:  peritonitis secondary to small bowel perforation.  cmv enteritis  b-cell lymphoma  line infection  type 2 diabetes controlled without complications  moderate malnutrition  cad bypass vessle      discharge condition:  stable.  tolerating regular diet  pain well controlled with oral medications.      discharge instructions:  you are being discharged on an antiviral medication called  ganciclovir, which can make your diarhea worse for some time.  please contact your doctor if you experience numbness, tingling  or pain in hands or feet, as this may be a side effect of the  medication.    you will be having labs drawn every other day and sent to dr.  &lt;name&gt; of infectious diseases for monitoring of your blood  counts.    *avoid lifting objects &gt; 5lbs until your follow-up appointment  with the surgeon.    *avoid driving or operating heavy machinery while taking pain  medications.    * continue to ambulate several times per day.    incision care:  -your staples will be removed at your follow up appoinetment.  -steri-strips will be applied and will fall off on their own.  please remove any remaining strips 7-10 days after application.  -you may shower, and wash surgical incisions.  -avoid swimming and baths until your follow-up appointment.  -please call the doctor if you have increased pain, swelling,  redness, or drainage from the incision sites.    followup instructions:  you will need to have an ophthalmalogic evaluation to make sure  that there is no evidence of cmv infection of the retina - this  should happen this week.  please call: (&lt;telephone&gt; to  schedule this appointment; if you have any difficulty arranging  this, please discuss this with your primary doctor so that they  can facilitate/arrange this evaluation.    1. please call dr.&lt;name&gt; office, &lt;telephone&gt;, to make a  follow up appointment in [**11-23**] weeks.  scheduled appointments :  provider: &lt;name&gt; &lt;name&gt;, &lt;telephone&gt;  date/time: &lt;date&gt;  10:30  provider: &lt;name&gt; &lt;name&gt;, rn phone:&lt;telephone&gt;  date/time: &lt;date&gt;  11:00  provider: &lt;name&gt; chair 6  date/time: &lt;date&gt;  11:00                                   &lt;name&gt; &lt;name&gt; md [**md number(2) 431**]    completed by: &lt;date&gt;</td>\n",
              "      <td>[202, 401, 584, 255, 283, 238, 038, 785, 250, 008, 041, 272, 996, 078, V45, 567, 569, 273, 995, 263, 579, 782]</td>\n",
              "      <td>['followup', 'primary doctor', 'discharged', 'appoinetment', 'infectious diseases', 'strips', 'hands', 'increased', 'pain', 'complications', 'day', 'swelling', 'contact your', 'controlled', 'week', 'days', 'labs', 'shower', 'evaluation', 'ophthalmalogic', 'doctor', 'regular diet', 'wash', 'operating heavy machinery', 'monitoring', 'appointment', 'incision sites', 'your blood', 'discharge condition', 'oral medications', 'swimming', 'telephone', 'discharge diagnosis', 'application', 'objects', 'cmv infection', 'small bowel perforation', 'staples', 'chair', 'evidence', 'numbness', 'your diarhea', 'discharge instructions', 'side effect', 'antiviral medication', 'office', 'retina', 'drainage', 'incision care', 'appointments', 'surgical incisions', 'weeks', 'feet', 'lifting', 'difficulty', 'surgeon', 'ganciclovir', 'baths', 'tingling  ', 'your follow-up']</td>\n",
              "      <td>[follow-up, followup, discharged, appoinetment, strips, diseases, surgical, hands, infectious, increased, pain, complications, your, discharge, care, day, swelling, primary, week, controlled, machinery, diagnosis, days, labs, perforation, contact, shower, evaluation, ophthalmalogic, doctor, heavy, wash, effect, monitoring, appointment, incisions, operating, incision, swimming, telephone, application, objects, baths, medication, tingling, staples, chair, sites, evidence, condition, oral, regular, numbness, office, retina, blood, infection, drainage, appointments, side, weeks, feet, antiviral, diet, medications, instructions, lifting, difficulty, cmv, small, surgeon, ganciclovir, diarhea, bowel]</td>\n",
              "      <td>[surgeon, baths, pain, blood, drainage, infection, incisions, incision, diet, swimming]</td>\n",
              "    </tr>\n",
              "  </tbody>\n",
              "</table>\n",
              "<p>41967 rows × 6 columns</p>\n",
              "</div>"
            ],
            "text/plain": [
              "        HADM_ID  ...                                                                                                                                                                                   med_terms_condensed\n",
              "0      167118.0  ...                                                                                                                                                       [s/p, artery, questions, chest, pain, coronary]\n",
              "1      196489.0  ...  [interactive, shortness, consciousness, failure, respiratory, artery, emergency, chest, disease, symptoms, pulmonary, pain, breath, blood, alert, coronary, breathing, aspirin, department, chronic]\n",
              "2      135453.0  ...                                                                                                                                                                                     [pain, pneumonia]\n",
              "3      170490.0  ...                                                                                          [interactive, pcp, surgeon, redness, pain, blood, alert, drainage, infection, aspirin, consciousness, fever]\n",
              "4      134727.0  ...                                                                                                                                                                                           [pneumonia]\n",
              "...         ...  ...                                                                                                                                                                                                   ...\n",
              "41962  127716.0  ...                             [lotions, s/p, redness, surgeon, questions, baths, artery, cardiac, disease, surgery, pain, drainage, coronary, ointments, incisions, hours, incision, swimming, medical]\n",
              "41963  186377.0  ...                            [diabetes, failure, artery, atrial, questions, baths, cardiac, disease, surgery, heart, drainage, coronary, ointments, incisions, hours, incision, swimming, fibrillation]\n",
              "41964  156564.0  ...                         [interactive, antibiotics, pressure, consciousness, failure, congestive, pcp, disease, pulmonary, surgery, blood, heart, alert, infection, left, kidney, department, chronic]\n",
              "41965  172559.0  ...                                          [chills, s/p, pressure, renal, failure, surgeon, acute, chest, baths, symptoms, surgery, pain, blood, drainage, hours, incisions, incision, swimming, fever]\n",
              "41966  135672.0  ...                                                                                                               [surgeon, baths, pain, blood, drainage, infection, incisions, incision, diet, swimming]\n",
              "\n",
              "[41967 rows x 6 columns]"
            ]
          },
          "metadata": {
            "tags": []
          },
          "execution_count": 129
        }
      ]
    },
    {
      "cell_type": "code",
      "metadata": {
        "id": "gRXnIi_BfJcv"
      },
      "source": [
        "def return_feature(x):\n",
        "  feature=[]\n",
        "  for i in x:\n",
        "    for j in list(condensed_feature_dict):\n",
        "      if i in condensed_feature_dict[j]:\n",
        "        feature.append(j)\n",
        "  return list(set(feature))\n"
      ],
      "execution_count": 130,
      "outputs": []
    },
    {
      "cell_type": "code",
      "metadata": {
        "colab": {
          "base_uri": "https://localhost:8080/",
          "height": 66,
          "referenced_widgets": [
            "f28e18ff8a804409ae9bcc4582b97e35",
            "9f7975419efe45b59132770dc471d12b",
            "540f080057a14df2abb87ff7ea40935e",
            "8deb98deb9f144658b55daad49f3dc62",
            "f5786d50718242088072975accec3601",
            "3b7903239346416bb48515c045a264b4",
            "b9e5a7d34f184cd2a555c550d0a3aefc",
            "7feba42ecb44494abb2b70a3d29a0ea3"
          ]
        },
        "id": "pj7lFS62fevi",
        "outputId": "d5df0ff7-ecfb-4acb-c344-2f1e8e186b64"
      },
      "source": [
        "diagnosis_icd9category['features']=diagnosis_icd9category.med_terms_condensed.progress_apply(lambda x:return_feature(x))"
      ],
      "execution_count": 131,
      "outputs": [
        {
          "output_type": "display_data",
          "data": {
            "application/vnd.jupyter.widget-view+json": {
              "model_id": "f28e18ff8a804409ae9bcc4582b97e35",
              "version_minor": 0,
              "version_major": 2
            },
            "text/plain": [
              "HBox(children=(FloatProgress(value=0.0, max=41967.0), HTML(value='')))"
            ]
          },
          "metadata": {
            "tags": []
          }
        },
        {
          "output_type": "stream",
          "text": [
            "\n"
          ],
          "name": "stdout"
        }
      ]
    },
    {
      "cell_type": "code",
      "metadata": {
        "colab": {
          "base_uri": "https://localhost:8080/",
          "height": 66,
          "referenced_widgets": [
            "a1795f197f6b407ab7858e5281a77cdf",
            "605548ab413e4985b8869214d5fa9dce",
            "e18d9595001a47bf9afff253fd6b77bf",
            "8b43d708cf87416ab08d8600a43c173e",
            "10724a1d54e74a1298dea061a9f5e906",
            "82c0cf069a874c0ba74f32bbfb0660dd",
            "6ccec32c58b9451b9f8eb233369a819b",
            "5a2685d05cd8494b92a211d2d747f921"
          ]
        },
        "id": "ejGDwbfSf-06",
        "outputId": "1428ce0e-2fcf-42fb-f5b0-a6e4e3d34ff7"
      },
      "source": [
        "diagnosis_icdcategory_medterms_df['feature']=diagnosis_icdcategory_medterms_df.frequent_medterms.progress_apply(lambda x:return_feature(x))"
      ],
      "execution_count": 132,
      "outputs": [
        {
          "output_type": "display_data",
          "data": {
            "application/vnd.jupyter.widget-view+json": {
              "model_id": "a1795f197f6b407ab7858e5281a77cdf",
              "version_minor": 0,
              "version_major": 2
            },
            "text/plain": [
              "HBox(children=(FloatProgress(value=0.0, max=10.0), HTML(value='')))"
            ]
          },
          "metadata": {
            "tags": []
          }
        },
        {
          "output_type": "stream",
          "text": [
            "\n"
          ],
          "name": "stdout"
        }
      ]
    },
    {
      "cell_type": "code",
      "metadata": {
        "id": "SozWU1SbgF_s"
      },
      "source": [
        "def predict_icd(x):\n",
        "  category_weights={}\n",
        "  if len(x):\n",
        "    for item1 in frequent_icd9category:\n",
        "      category_features=[a for b in diagnosis_icdcategory_medterms_df.loc[diagnosis_icdcategory_medterms_df.icd9category==item1].feature.to_list() for a in b]\n",
        "      count=len(list(set(x).intersection(set(category_features))))\n",
        "      category_weights[item1]=count/len(x)/len(category_features)\n",
        "  else:\n",
        "    for item1 in frequent_icd9category:\n",
        "      category_weights[item1]=0.0\n",
        "\n",
        "      \n",
        "  return category_weights\n",
        "  "
      ],
      "execution_count": 133,
      "outputs": []
    },
    {
      "cell_type": "code",
      "metadata": {
        "colab": {
          "base_uri": "https://localhost:8080/",
          "height": 66,
          "referenced_widgets": [
            "aaf029f9bbb747bfae72923e579a1433",
            "5619afb490e64531af7e2b25e88b7b29",
            "77b74ffd3ca2429d8912c5f4e610278c",
            "45cbf0378561411b8af3ec2b0f7dd85f",
            "63b14f96e5a84c7783bc405407eb0ba9",
            "870fbd740fb34da19e8f64fcca5a988e",
            "f1c9c3d031e2480bbbee9110e4f8723f",
            "2452e204aa994e908ef7096985633a43"
          ]
        },
        "id": "o4q4pejDgwlk",
        "outputId": "848157c2-ae17-41f0-f50e-4fec45cab72e"
      },
      "source": [
        "diagnosis_icd9category['predicted_icd_weigths']=diagnosis_icd9category.features.progress_apply(lambda x:predict_icd(x))"
      ],
      "execution_count": 134,
      "outputs": [
        {
          "output_type": "display_data",
          "data": {
            "application/vnd.jupyter.widget-view+json": {
              "model_id": "aaf029f9bbb747bfae72923e579a1433",
              "version_minor": 0,
              "version_major": 2
            },
            "text/plain": [
              "HBox(children=(FloatProgress(value=0.0, max=41967.0), HTML(value='')))"
            ]
          },
          "metadata": {
            "tags": []
          }
        },
        {
          "output_type": "stream",
          "text": [
            "\n"
          ],
          "name": "stdout"
        }
      ]
    },
    {
      "cell_type": "code",
      "metadata": {
        "id": "RTJj6ct7g3te"
      },
      "source": [
        "diagnosis_icd9category"
      ],
      "execution_count": null,
      "outputs": []
    },
    {
      "cell_type": "code",
      "metadata": {
        "id": "4n69wjAXhOFE"
      },
      "source": [
        "diagnosis_icd9category['predicted_icd']=diagnosis_icd9category.predicted_icd_weigths.progress_apply(predictbasedonwts)"
      ],
      "execution_count": null,
      "outputs": []
    },
    {
      "cell_type": "code",
      "metadata": {
        "id": "rZ8lcAgAhSAR"
      },
      "source": [
        "result_predict={'category':[],'precision':[],'recall':[],'f1':[]}\n",
        "for i in frequent_icd9category:\n",
        "  actual_p=diagnosis_icd9category.loc[diagnosis_icd9category.icd9_category.apply(lambda x:i in x)].HADM_ID.count()\n",
        "  tp=diagnosis_icd9category.loc[(diagnosis_icd9category.icd9_category.apply(lambda x:i in x))&(diagnosis_icd9category.predicted_icd.apply(lambda x:i in x))].HADM_ID.count()\n",
        "  predict_p=diagnosis_icd9category.loc[diagnosis_icd9category.predicted_icd.apply(lambda x:i in x)].HADM_ID.count()\n",
        "  precision=tp/predict_p\n",
        "  recall=tp/actual_p\n",
        "  f1=2*precision*recall/(precision+recall)\n",
        "  result_predict['category'].append(i)\n",
        "  result_predict['precision'].append(precision)\n",
        "  result_predict['recall'].append(recall)\n",
        "  result_predict['f1'].append(f1)"
      ],
      "execution_count": null,
      "outputs": []
    },
    {
      "cell_type": "code",
      "metadata": {
        "id": "R-B7Y4UyiUo1"
      },
      "source": [
        "pd.DataFrame.from_dict(result_predict)"
      ],
      "execution_count": null,
      "outputs": []
    },
    {
      "cell_type": "code",
      "metadata": {
        "id": "78Fxe5KaiY8j"
      },
      "source": [
        "total_predicted=len([a for b in diagnosis_icd9category.predicted_icd.to_list() for a in b])\n",
        "print(total_predicted)\n",
        "actual=len([a for b in diagnosis_icd9category.icd9_category.apply(lambda x : [i for i in x if i in frequent_icd9category]).to_list() for a in b])\n",
        "print(actual)\n",
        "actual_predicted=0\n",
        "for i in frequent_icd9category:\n",
        "  actual_predicted+=diagnosis_icd9category.loc[(diagnosis_icd9category.icd9_category.apply(lambda x:i in x))&(diagnosis_icd9category.predicted_icd.apply(lambda x:i in x))].HADM_ID.count()\n",
        "print(actual_predicted)\n",
        "recall=actual_predicted/actual\n",
        "presicion=actual_predicted/total_predicted\n",
        "print(recall)\n",
        "print(presicion)\n",
        "print(2*presicion*recall/(presicion+recall))"
      ],
      "execution_count": null,
      "outputs": []
    },
    {
      "cell_type": "code",
      "metadata": {
        "id": "BiIQ0nW_cSVY"
      },
      "source": [
        ""
      ],
      "execution_count": 139,
      "outputs": []
    }
  ]
}