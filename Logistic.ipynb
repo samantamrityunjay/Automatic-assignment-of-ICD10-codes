{
  "nbformat": 4,
  "nbformat_minor": 0,
  "metadata": {
    "colab": {
      "name": "Logistic.ipynb",
      "provenance": [],
      "authorship_tag": "ABX9TyP8gE9bSDCX7gsXielxzVo1",
      "include_colab_link": true
    },
    "kernelspec": {
      "name": "python3",
      "display_name": "Python 3"
    }
  },
  "cells": [
    {
      "cell_type": "markdown",
      "metadata": {
        "id": "view-in-github",
        "colab_type": "text"
      },
      "source": [
        "<a href=\"https://colab.research.google.com/github/samantamrityunjay/ICDcoding/blob/master/Logistic.ipynb\" target=\"_parent\"><img src=\"https://colab.research.google.com/assets/colab-badge.svg\" alt=\"Open In Colab\"/></a>"
      ]
    },
    {
      "cell_type": "code",
      "metadata": {
        "id": "3gWph1JdXJhV",
        "colab": {
          "base_uri": "https://localhost:8080/"
        },
        "outputId": "551634e1-b336-4756-bd4a-1d9967418ea0"
      },
      "source": [
        "from google.colab import drive\n",
        "drive.mount(\"/content/drive\")"
      ],
      "execution_count": 1,
      "outputs": [
        {
          "output_type": "stream",
          "text": [
            "Mounted at /content/drive\n"
          ],
          "name": "stdout"
        }
      ]
    },
    {
      "cell_type": "code",
      "metadata": {
        "id": "m8I6ezBquG25"
      },
      "source": [
        "import pandas as pd\n",
        "import numpy as np\n",
        "from collections import Counter\n",
        "import re\n",
        "import math\n",
        "from ast import literal_eval"
      ],
      "execution_count": 2,
      "outputs": []
    },
    {
      "cell_type": "code",
      "metadata": {
        "id": "JBoGdrAzftl-"
      },
      "source": [
        "diagnosis_icd9category=pd.read_csv(\"/content/drive/My Drive/AlgoIntern/Data/Data2.0/diagnosis_icd9category.csv\")"
      ],
      "execution_count": 3,
      "outputs": []
    },
    {
      "cell_type": "code",
      "metadata": {
        "id": "BQYDLWT7gOmQ",
        "colab": {
          "base_uri": "https://localhost:8080/",
          "height": 419
        },
        "outputId": "42e00c20-cc2d-48e6-a08d-e8826b42536d"
      },
      "source": [
        "diagnosis_icd9category"
      ],
      "execution_count": 4,
      "outputs": [
        {
          "output_type": "execute_result",
          "data": {
            "text/html": [
              "<div>\n",
              "<style scoped>\n",
              "    .dataframe tbody tr th:only-of-type {\n",
              "        vertical-align: middle;\n",
              "    }\n",
              "\n",
              "    .dataframe tbody tr th {\n",
              "        vertical-align: top;\n",
              "    }\n",
              "\n",
              "    .dataframe thead th {\n",
              "        text-align: right;\n",
              "    }\n",
              "</style>\n",
              "<table border=\"1\" class=\"dataframe\">\n",
              "  <thead>\n",
              "    <tr style=\"text-align: right;\">\n",
              "      <th></th>\n",
              "      <th>HADM_ID</th>\n",
              "      <th>discharge diagnosis:</th>\n",
              "      <th>icd9_category</th>\n",
              "      <th>medical_terms_list</th>\n",
              "    </tr>\n",
              "  </thead>\n",
              "  <tbody>\n",
              "    <tr>\n",
              "      <th>0</th>\n",
              "      <td>167853.0</td>\n",
              "      <td>NaN</td>\n",
              "      <td>['511', '263', '211', '011', '507', '427', '42...</td>\n",
              "      <td>[]</td>\n",
              "    </tr>\n",
              "    <tr>\n",
              "      <th>1</th>\n",
              "      <td>107527.0</td>\n",
              "      <td>NaN</td>\n",
              "      <td>['311', '486', '518', '519', '491', '276', '244']</td>\n",
              "      <td>[]</td>\n",
              "    </tr>\n",
              "    <tr>\n",
              "      <th>2</th>\n",
              "      <td>167118.0</td>\n",
              "      <td>discharge diagnosis:  copd, coronary artery di...</td>\n",
              "      <td>['496', '553', '518', '453', '519', '276']</td>\n",
              "      <td>['coronary artery disease/atypical angina', 'h...</td>\n",
              "    </tr>\n",
              "    <tr>\n",
              "      <th>3</th>\n",
              "      <td>196489.0</td>\n",
              "      <td>discharge diagnosis:  primary:  1. chronic obs...</td>\n",
              "      <td>['487', '416', '272', '530', '414', '553', '53...</td>\n",
              "      <td>['chronic obstructive pulmonary disease', 'res...</td>\n",
              "    </tr>\n",
              "    <tr>\n",
              "      <th>4</th>\n",
              "      <td>135453.0</td>\n",
              "      <td>discharge diagnosis:  1. cervical spondylosis ...</td>\n",
              "      <td>['V12', '788', '805', '507', 'V45', '401', '42...</td>\n",
              "      <td>['spondylosis', 'calcification of posterior', ...</td>\n",
              "    </tr>\n",
              "    <tr>\n",
              "      <th>...</th>\n",
              "      <td>...</td>\n",
              "      <td>...</td>\n",
              "      <td>...</td>\n",
              "      <td>...</td>\n",
              "    </tr>\n",
              "    <tr>\n",
              "      <th>59641</th>\n",
              "      <td>135672.0</td>\n",
              "      <td>discharge diagnosis:  peritonitis secondary to...</td>\n",
              "      <td>['202', '401', '584', '255', '283', '238', '03...</td>\n",
              "      <td>['small bowel perforation', 'numbness', 'pain'...</td>\n",
              "    </tr>\n",
              "    <tr>\n",
              "      <th>59642</th>\n",
              "      <td>155710.0</td>\n",
              "      <td>NaN</td>\n",
              "      <td>['285', '038', '486', '518', '401', '584', '53...</td>\n",
              "      <td>[]</td>\n",
              "    </tr>\n",
              "    <tr>\n",
              "      <th>59643</th>\n",
              "      <td>183951.0</td>\n",
              "      <td>NaN</td>\n",
              "      <td>['780', '724', '518', '331', '401', '348', '430']</td>\n",
              "      <td>[]</td>\n",
              "    </tr>\n",
              "    <tr>\n",
              "      <th>59644</th>\n",
              "      <td>169165.0</td>\n",
              "      <td>NaN</td>\n",
              "      <td>['355', '424', '272', 'V12', '426', '414', '72...</td>\n",
              "      <td>[]</td>\n",
              "    </tr>\n",
              "    <tr>\n",
              "      <th>59645</th>\n",
              "      <td>157100.0</td>\n",
              "      <td>NaN</td>\n",
              "      <td>['456', '197', '287', '693', '553', '530', '15...</td>\n",
              "      <td>[]</td>\n",
              "    </tr>\n",
              "  </tbody>\n",
              "</table>\n",
              "<p>59646 rows × 4 columns</p>\n",
              "</div>"
            ],
            "text/plain": [
              "        HADM_ID  ...                                 medical_terms_list\n",
              "0      167853.0  ...                                                 []\n",
              "1      107527.0  ...                                                 []\n",
              "2      167118.0  ...  ['coronary artery disease/atypical angina', 'h...\n",
              "3      196489.0  ...  ['chronic obstructive pulmonary disease', 'res...\n",
              "4      135453.0  ...  ['spondylosis', 'calcification of posterior', ...\n",
              "...         ...  ...                                                ...\n",
              "59641  135672.0  ...  ['small bowel perforation', 'numbness', 'pain'...\n",
              "59642  155710.0  ...                                                 []\n",
              "59643  183951.0  ...                                                 []\n",
              "59644  169165.0  ...                                                 []\n",
              "59645  157100.0  ...                                                 []\n",
              "\n",
              "[59646 rows x 4 columns]"
            ]
          },
          "metadata": {
            "tags": []
          },
          "execution_count": 4
        }
      ]
    },
    {
      "cell_type": "code",
      "metadata": {
        "id": "quJTtu6SgR-t"
      },
      "source": [
        "diagnosis_icd9category.dropna(subset=[\"discharge diagnosis:\"],inplace=True)"
      ],
      "execution_count": 5,
      "outputs": []
    },
    {
      "cell_type": "code",
      "metadata": {
        "id": "pnX0QHnXhUFm"
      },
      "source": [
        "diagnosis_icd9category['icd9_category']=diagnosis_icd9category.icd9_category.apply(literal_eval)\n",
        "diagnosis_icd9category['medical_terms_list']=diagnosis_icd9category.medical_terms_list.apply(literal_eval)"
      ],
      "execution_count": 6,
      "outputs": []
    },
    {
      "cell_type": "code",
      "metadata": {
        "colab": {
          "base_uri": "https://localhost:8080/",
          "height": 419
        },
        "id": "njDSgAQV0yPl",
        "outputId": "f1f56584-64a1-4c0d-ee3d-c4afb7d9f3cc"
      },
      "source": [
        "diagnosis_icd9category"
      ],
      "execution_count": 7,
      "outputs": [
        {
          "output_type": "execute_result",
          "data": {
            "text/html": [
              "<div>\n",
              "<style scoped>\n",
              "    .dataframe tbody tr th:only-of-type {\n",
              "        vertical-align: middle;\n",
              "    }\n",
              "\n",
              "    .dataframe tbody tr th {\n",
              "        vertical-align: top;\n",
              "    }\n",
              "\n",
              "    .dataframe thead th {\n",
              "        text-align: right;\n",
              "    }\n",
              "</style>\n",
              "<table border=\"1\" class=\"dataframe\">\n",
              "  <thead>\n",
              "    <tr style=\"text-align: right;\">\n",
              "      <th></th>\n",
              "      <th>HADM_ID</th>\n",
              "      <th>discharge diagnosis:</th>\n",
              "      <th>icd9_category</th>\n",
              "      <th>medical_terms_list</th>\n",
              "    </tr>\n",
              "  </thead>\n",
              "  <tbody>\n",
              "    <tr>\n",
              "      <th>2</th>\n",
              "      <td>167118.0</td>\n",
              "      <td>discharge diagnosis:  copd, coronary artery di...</td>\n",
              "      <td>[496, 553, 518, 453, 519, 276]</td>\n",
              "      <td>[coronary artery disease/atypical angina, hype...</td>\n",
              "    </tr>\n",
              "    <tr>\n",
              "      <th>3</th>\n",
              "      <td>196489.0</td>\n",
              "      <td>discharge diagnosis:  primary:  1. chronic obs...</td>\n",
              "      <td>[487, 416, 272, 530, 414, 553, 531, 518, 401, ...</td>\n",
              "      <td>[chronic obstructive pulmonary disease, respir...</td>\n",
              "    </tr>\n",
              "    <tr>\n",
              "      <th>4</th>\n",
              "      <td>135453.0</td>\n",
              "      <td>discharge diagnosis:  1. cervical spondylosis ...</td>\n",
              "      <td>[V12, 788, 805, 507, V45, 401, 427, 453, E88, ...</td>\n",
              "      <td>[spondylosis, calcification of posterior, frac...</td>\n",
              "    </tr>\n",
              "    <tr>\n",
              "      <th>5</th>\n",
              "      <td>170490.0</td>\n",
              "      <td>discharge diagnosis:  brain lesion    discharg...</td>\n",
              "      <td>[710, 225, 443, 714, 530, V43]</td>\n",
              "      <td>[infection, pain, pain, constipation, docusate...</td>\n",
              "    </tr>\n",
              "    <tr>\n",
              "      <th>6</th>\n",
              "      <td>134727.0</td>\n",
              "      <td>discharge diagnosis:  pneumonia    discharge c...</td>\n",
              "      <td>[486, 518, V45, V58, 401, 577, 415, 428]</td>\n",
              "      <td>[]</td>\n",
              "    </tr>\n",
              "    <tr>\n",
              "      <th>...</th>\n",
              "      <td>...</td>\n",
              "      <td>...</td>\n",
              "      <td>...</td>\n",
              "      <td>...</td>\n",
              "    </tr>\n",
              "    <tr>\n",
              "      <th>59606</th>\n",
              "      <td>127716.0</td>\n",
              "      <td>discharge diagnosis:  aortic stenosis and coro...</td>\n",
              "      <td>[416, 424, 272, V10, V85, 414, 250, 401, 278, ...</td>\n",
              "      <td>[coronary artery disease, erythema, edema, red...</td>\n",
              "    </tr>\n",
              "    <tr>\n",
              "      <th>59609</th>\n",
              "      <td>186377.0</td>\n",
              "      <td>discharge diagnosis:  coronary artery disease ...</td>\n",
              "      <td>[424, 511, 305, 707, 403, 496, 784, 250, 414, ...</td>\n",
              "      <td>[diabetes, diastolic heart failure, erythema, ...</td>\n",
              "    </tr>\n",
              "    <tr>\n",
              "      <th>59615</th>\n",
              "      <td>156564.0</td>\n",
              "      <td>discharge diagnosis:  left knee infection  chr...</td>\n",
              "      <td>[V10, 403, 584, V43, 428, 285, 496, 250, V58, ...</td>\n",
              "      <td>[obstructive pulmonary disease, kidney injury,...</td>\n",
              "    </tr>\n",
              "    <tr>\n",
              "      <th>59631</th>\n",
              "      <td>172559.0</td>\n",
              "      <td>discharge diagnosis:  primary:  small bowel ob...</td>\n",
              "      <td>[197, 507, 185, 427, 261, 585, V66, 560, 783, ...</td>\n",
              "      <td>[bowel obstruction, prostate cancer, diverticu...</td>\n",
              "    </tr>\n",
              "    <tr>\n",
              "      <th>59641</th>\n",
              "      <td>135672.0</td>\n",
              "      <td>discharge diagnosis:  peritonitis secondary to...</td>\n",
              "      <td>[202, 401, 584, 255, 283, 238, 038, 785, 250, ...</td>\n",
              "      <td>[small bowel perforation, numbness, pain, infe...</td>\n",
              "    </tr>\n",
              "  </tbody>\n",
              "</table>\n",
              "<p>41967 rows × 4 columns</p>\n",
              "</div>"
            ],
            "text/plain": [
              "        HADM_ID  ...                                 medical_terms_list\n",
              "2      167118.0  ...  [coronary artery disease/atypical angina, hype...\n",
              "3      196489.0  ...  [chronic obstructive pulmonary disease, respir...\n",
              "4      135453.0  ...  [spondylosis, calcification of posterior, frac...\n",
              "5      170490.0  ...  [infection, pain, pain, constipation, docusate...\n",
              "6      134727.0  ...                                                 []\n",
              "...         ...  ...                                                ...\n",
              "59606  127716.0  ...  [coronary artery disease, erythema, edema, red...\n",
              "59609  186377.0  ...  [diabetes, diastolic heart failure, erythema, ...\n",
              "59615  156564.0  ...  [obstructive pulmonary disease, kidney injury,...\n",
              "59631  172559.0  ...  [bowel obstruction, prostate cancer, diverticu...\n",
              "59641  135672.0  ...  [small bowel perforation, numbness, pain, infe...\n",
              "\n",
              "[41967 rows x 4 columns]"
            ]
          },
          "metadata": {
            "tags": []
          },
          "execution_count": 7
        }
      ]
    },
    {
      "cell_type": "code",
      "metadata": {
        "id": "B88AKycu4UJ5"
      },
      "source": [
        "from sklearn.model_selection import train_test_split"
      ],
      "execution_count": 8,
      "outputs": []
    },
    {
      "cell_type": "code",
      "metadata": {
        "id": "_Mtopaz90_bz"
      },
      "source": [
        "X_train, X_test, y_train, y_test = train_test_split(diagnosis_icd9category['discharge diagnosis:'].values, diagnosis_icd9category['icd9_category'].values, test_size=0.3, random_state=2020)"
      ],
      "execution_count": 9,
      "outputs": []
    },
    {
      "cell_type": "code",
      "metadata": {
        "colab": {
          "base_uri": "https://localhost:8080/"
        },
        "id": "O_ij_oe849xS",
        "outputId": "77fd01ea-9836-4aa5-dcf8-ae0b6bfef895"
      },
      "source": [
        "print(X_train.shape,X_test.shape)"
      ],
      "execution_count": 10,
      "outputs": [
        {
          "output_type": "stream",
          "text": [
            "(29376,) (12591,)\n"
          ],
          "name": "stdout"
        }
      ]
    },
    {
      "cell_type": "code",
      "metadata": {
        "colab": {
          "base_uri": "https://localhost:8080/"
        },
        "id": "MeOSo2Uv5hNk",
        "outputId": "86de8da5-6c5e-42f6-d260-1e522771fd8e"
      },
      "source": [
        "X_train[:20]"
      ],
      "execution_count": 11,
      "outputs": [
        {
          "output_type": "execute_result",
          "data": {
            "text/plain": [
              "array(['discharge diagnosis:  cad  post-op dysphagia      discharge condition:  good    discharge instructions:  no lifting > 10# or driving for 1 month  may shower, no bathing or swimming for 1 month  no creams, lotions or powders to any incisions    followup instructions:  with dr. <name> tomorrow in [**location (un) 37361**], and again in 2 weeks  with dr. <name> in [**3-9**] weeks        completed by: <date> ',\n",
              "       'discharge diagnosis:  primary diagnosis:  septic shock    secondary diagnoses:  urinary tract infection  pneumonia  sacral decubitus ulcer      discharge condition:  mental status: confused - always.  level of consciousness: lethargic but arousable.  activity status: bedbound.      discharge instructions:  dear ms. <name>,    it was a privilege to provide care for you here at the <hospital> hospital. you were admitted because you were  found to be somnolent. you were treated in the intensive care  unit with intravenous fluids and antibiotics, and were intubated  for a short time. you were transferred to the regular medical  floor, where in consultation with your son and family members,  the focus was on transitioning your care to maximal comfort  care. we sincerely wish you all the best at your rehab facility.    the following changes were made to your medications:  new:  -morphine solution as needed for pain  -miconazole powder for groin    changed: none    stopped:  carvedilol 3.125mg daily  lasix 20mg daily  remeron 15mg qhs  fentanyl 12mcg/hr patch: 1 patch q72h  dilaudid 1mg/ml: 1mg po q4h prn  tylenol 650mg po q6h prn pain/fever  vitamin c 500mg daily  mvi w/minerals 1 tab daily  vitamin d 1000iu daily  tums daily  calcium 800 + d3 600mg daily  bisacodyl 10mg pr daily prn  milk of mag 30ml daily prn    followup instructions:  none        completed by: <date> ',\n",
              "       'discharge diagnosis:  primary diagnosis:  - c. difficile infection  - bleeding gastric ulcer s/p endoclip placement  - l knee swelling s/p arthrocentesis    secondary diagnosis:  - hypertension  - hyperlipidemia  - prior stroke      discharge condition:  mental status: confused - sometimes. alert and oriented x 3 at  discharge.  level of consciousness: lethargic but arousable.  activity status: out of bed with assistance to chair or  wheelchair.      discharge instructions:  dear mr. <name>,    you were admitted to the hospital for lethargy, fevers, diarrhea  and an elevated white blood cell count at the outside hospital.  on admission, you were found to have an infection of your gi  tract called c. difficile.  we treated you with antibiotics and  your infection eventually resolved. you should continue taking  antibiotics (oral vancomycin) for the c. difficile infection  through  <date> .    during your hospitalization, you were also found to have low red  blood cell counts (anemia) and had bleeding from your gi tract.  we consulted our gi colleagues who put a scope in your stomach  (egd) and found a bleeding ulcer, which was clipped. your blood  counts stabilized and the bloody stools resolved.    you should follow up with gi as an outpatient to have a  colonoscopy and another endoscopy when you are discharged from  rehab.    followup instructions:  please schedule an appointment with your pcp when you are  discharged from rehab.    please call dr. <name> <name> of <hospital> gastroenterology to  schedule follow up for repeat endoscopy in several weeks to  evaluate for resolution of ulcer and for colonoscopy when your  current illness resolves: <name> <name>, md <telephone>        completed by: <date> ',\n",
              "       'discharge diagnosis:  hyponatremia  acute renal failure  s/p liver transplant  <date>       discharge condition:  stable/good      discharge instructions:  please call the transplant clinic at <telephone> for fever,  chills, nausea, vomiting, diarrhea, constipation, inability to  take or keep down food, fluids or medications or difficulty  tolerating your tube feeds.  continue labwork per transplant clinic recommendations  drink to your thirst, no need to drink  a lot of plain water.  drink fluids such as supplements, gatorade or juices  labs saturday  and monday, faxed to <telephone>    followup instructions:  <name> <name>, md phone:<telephone> date/time: <date>  1:40  <name> <name>, md phone:<telephone> date/time: <date>  1:00  <name>,<name> transplant social work date/time: <date>  11:30                                   <name> <name> md, [**md number(3) 709**]    completed by: <date> ',\n",
              "       'discharge diagnosis:  patient expired    discharge condition:  patient expired    discharge instructions:  patient expired    followup instructions:  patient expired      completed by: <date> ',\n",
              "       'discharge diagnosis:  bilateral subdural hematoma      discharge condition:  neurologically stable      discharge instructions:  call for severe headache, change in consciousness, visual  changes, or any problems.    followup instructions:  follow up in 4 weeks with head ct with dr. <name> - call  <telephone> for appt.  talk to your primary care doctor about your blood sugar levels.                                   <name> <name> md [**md number(2) 1273**]    completed by: <date> ',\n",
              "       'discharge diagnosis:  coronary artery disease s/p cabg  hyperlipidemia  hypertension  gerd  tia  neuropathy  rheumatoid arthritis  parkinson disease      discharge condition:  good      discharge instructions:  please shower daily including washing incisions, no baths or  swimming  monitor wounds for infection - redness, drainage, or increased  pain  report any fever greater than 101  report any weight gain of greater than 2 pounds in 24 hours or 5  pounds in a week  no creams, lotions, powders, or ointments to incisions  no driving for approximately one month  no lifting more than 10 pounds for 10 weeks  please call with any questions or concerns <telephone>      <name>p instructions:  dr <name> in 4 weeks (<telephone>) please call for  appointment  dr <name> in 1 week (<telephone>) please call for appointment    dr <name> in [**12-27**] weeks - please call for appointment    wound check appointment <name> 2 as instructed by nurse  (<telephone>)        completed by: <date> ',\n",
              "       'discharge diagnosis:  st elevation myocardial infarction  hypertension  diabetes mellitus      discharge condition:  stable      discharge instructions:  you had a heart attack and received two drug eluting stents to  open your left coronary artery. you will need to be on plavix  every day for at least one year to prevent the stents from  clotting off. you will need to be on aspirin for the rest of  your life to prevent blood clots. no lifting more than 10 pounds  for one week. please look at your right groin regularly and call  dr. <name> if you notice any increasing swelling, tenderness,  redness at the groin site. no swimming or pools for one week,  you may shower.  call dr. <name> for any fevers, trouble breathing, vomiting,  leg  swelling or any other unusual symptoms.  medication changes:  1. increase simvastatin to 80 md daily  2. increase metoprolol to 200 mg long acting  3. increase your lisinopril to 10 mg daily  4. start plavix daily  5. restart aspirin daily  6. restart metformin on thursday [**10-6**] evening.  .  we encourage you to attend cardiac rehabilitation after dr.  <name> clears you.    followup instructions:  cardiology:  <name> <name>, md phone: <telephone> date/time: [**11-16**] at  2:00pm.  [**location (un) **]  .  primary care:  <name>,<name>  phone: <telephone> date/time: [**10-18**] at  3:15pm.        completed by: <date> ',\n",
              "       'discharge diagnosis:  1. hematochezia, source unknown  2. dementia  3. acute blood loss anemia  4. pressure ulcers  5. htn      discharge condition:  hct stable with tube feeds.      discharge instructions:  you have been admitted to the hospital for bleeding from below.  while you were here you were observed in the micu and on the  medical floor.  you were transfused one unit of blood for  slightly low blood counts after your bleeding had stopped.  you  and your family (hcp) decided against further work up for this  bleeding at this time.    please check a hct weekly for two weeks (every friday).    while you were here you were seen by the vascular surgeons that  operated on your legs.  they will see you in clinic on [**2-1**].    please take your medicines as directed.  we are continuing  aspirin, but you do not need to take plavix.    please continue to take iron 3 times a day for 6 months, please  take colace to prevent constipation.    please call your doctor for any chest pain, shortness of breath,  bleeding from below or any other medical problem.    followup instructions:  please follow with vascular surgery dr. <name> on <telephone> for time and  directions.    please make an appointment with dr. <name> at <telephone> within  2 weeks of discharge.        ',\n",
              "       ' discharge diagnosis:  parapharyngeal cellulitis.    history of the present illness:  the patient is a 55-year-old  man who was referred by his primary care doctor, dr.  <name>, to <hospital> emergency department for dysphagia  otherwise healthy gentleman with a distant history of  ludwig\\'s angina treated at <hospital> 19 years ago.    the patient was in his usual state of health until about five  days prior to admission, at which time he noted a gradual  onset of left throat pain accompanied by a fever to 102  degrees fahrenheit, odynophagia, and neck swelling.  the patient describes an initial sensation of \"thorn stuck in  throat on left side\".  the patient was seen by his primary  care doctor <name> <name>,  <date> .  by report, rapid strep test  as well as monospot were negative.  he was prescribed over  the counter analgesics and sent home.  the patient states  that the pain and fever persisted over the next weekend with  concomitant development of left maxillary sinus fullness and  tenderness.  this was associated with a thick mucus nasal  discharge tinged with blood.  the patient subsequently became  intolerant of solid food and intake secondary to a feeling of  obstruction.  this occurred on sunday.    over the day before admission, the patient had decreased  liquid intake also due to pain and feeling of obstruction.  the patient was seen by his primary care doctor on the  morning of admission, who advised evaluation in the emergency  department.  he was brought to the <hospital> by his wife.  the  patient denied dyspnea, trismus, hearing changes, and nausea,  vomiting, or diarrhea.  he noted a headache over the weekend  which is now resolved.  there is no recent history of dental  work.  there is no history of throat trauma, sick contacts,  or recent travel, but he returned from a trip to <country> in  [**month (only) **].    ',\n",
              "       'discharge diagnosis:  none    discharge condition:  expired    discharge instructions:  none    followup instructions:  none      ',\n",
              "       'discharge diagnosis:  expired    discharge condition:  expired    discharge instructions:  expired    followup instructions:  expired      completed by: <date> ',\n",
              "       'discharge diagnosis:  pneumonia      discharge condition:  stable, without fevers    discharge instructions:  please take your medications as directed    followup instructions:  please have your inr followed daily.  your goal is 2.5-3.    follow up with rheumatology is recommended within 2-3 weeks.  your enbrel was held, this medication should be restarted under  their supervision.    your prednisone dose will also be tapered slowly.                                   <name> <name> md [**md number(1) 910**]    ',\n",
              "       'discharge diagnosis:  1. acute alcohol withdrawal  2. benzodiapene and opiate overdose      discharge condition:  stable    discharge instructions:  please continue to take all medications as prescribed.    please return to the ed or call your pcp if you experience any  worsening fevers/chills, nausea or vomiting, confusion or any  other concerning symptoms.    followup instructions:  you should follow-up with a dentist to obtain appropriate  evaluation and x rays for your tooth pain.    you should obtain a pcp <name> <name> <hospital>) for an appointment.        completed by: <date> ',\n",
              "       'discharge diagnosis:  gastrointestinal bleed      discharge condition:  good    discharge instructions:  contact physician if you experience further blood in stools,  dark stools, fever > 100.5, shortness of breath/chest pain or  dizziness.    followup instructions:  follow up with your primary care provider <name> 2 weeks - call for  appt.        ',\n",
              "       'discharge diagnosis:  enterococcus septic shock  bacillus species septic shock  polysubstance abuse      discharge condition:  vss      discharge instructions:  you have been treated for your blood stream infection with iv  antibiotics and medications to support your blood pressure. you  are being discharged home on ciprofloxacin and linezolid to  complete a total of 14 days worth of treatment. please note that  use of linezolid in conjunction with fluoxetine can cause a  serotonin syndrom. please observe for symptoms that may include  irritability, alerted consciousness, double vision, nausea,  confusion, anxiety, hyperthermia, increased muscle tone,  rigidity, or myoclonus. if you develop any of these symptoms  please discontinue the use of linezolid and go to the nearest  hospital.    during your stay, chest xrays documented an enlarged heart. it  is possible that this is related to your acute illness and will  improve with time. please follow up with your primary care  doctor to have a repeat chest xray performed in the next 6 weeks  to ensure your heart size has returned to [**location 213**].    please discontinue all use of injectable drugs or illegal  substances. it is recommended that you establish care with a  provider that specializes in substance use disorders. you may  find such resources by contacting <name> or  through <hospital> hospital crisis unit.    please call your pcp or return to the hospital if you have fever  >100.8, chills, nightsweats, shortness of breath or any other  new concerning symptoms. please also monitor for the serotonin  syndrome as above.    followup instructions:  please follow up with dr. <name> on monday [**8-26**] at  5:15 pm to review the events of this hospital admission and  arrange for monitoring of your heart size.        ',\n",
              "       'discharge diagnosis:  pulmonic valve regurgitation, patent foramen ovale  history of tetralogy of fallot, s/p repair at age 19  palpitations  right bundle-branch block  history of gi bleed related to a nonsteroidal antiinflammatory      discharge condition:  stable      discharge instructions:  1)no driving for one month  2)no lifting more than 10 lbs for at least 10 weeks from the  date of surgery  3)please shower daily. wash surgical incisions with soap and  water only.  4)do not apply lotions, creams or ointments to any surgical  incision.  5)please call cardiac surgeon immediately if you experience  fever, excessive weight gain and/or signs of a wound  infection(erythema, drainage, etc...). office number is  <telephone>.  6)call with any additional questions or concerns.      followup instructions:  dr. <name> in [**2-20**] weeks, call for appt  dr. <name> in [**12-21**] weeks, call for appt  local pcp <name> [**12-21**] weeks, call for appt        completed by: <date> ',\n",
              "       'discharge diagnosis:  coronary artery disease  myocardial infarction [**11-20**]  diabetes mellitus-type ii  hypertension  hepatitis b [**2111**]  iron deficient anemia  gastroesophageal reflux disease  nonsustained ventricular tachycardia  colon cancer s/p colectomy  <date>   s/p cholecystectomy  s/p tonsillectomy  s/p hysterectomy  s/p ganglion cyst removal from foot    discharge condition:  good    discharge instructions:  shower daily, no baths or swimming  no lotions, creams or powders to incisions  no driving for 4 weeks and off all narcotics  no lifting more than 10 pounds for 10 weeks  report any redness of, or drainage from incisions  report any fever greater than 100.5  report any weight gain greater than 2 pounds a day or 5 pounds a  week  take all medications as directed    followup instructions:  dr. <name> in 4 weeks  dr. <name> in [**2-16**] weeks  dr. <name> in [**1-15**] weeks  dr. <name> (or <name>) -neurology 6-8 weeks <telephone>  have echo and holter monitor in 4 weeks (our office will call  you to arrange this)        completed by: <date> ',\n",
              "       'discharge diagnosis:  endometrial cancer    discharge condition:  stable    discharge instructions:  pelvic rest x 6 wks (2 for laparoscopy)  no heavy lifting x 6 wks  call for fevers >101o  no driving while taking narcotics      followup instructions:  you have the following appointments scheduled:    1. provider: <name>,<name> b. gyn onc pps (sb) date/time: <date>   1:00  provider: <name>,<name> b.  <telephone>  2. provider: <name> call phone:<telephone>  date/time: <date>  10:30  3. provider:  <name> clinic phone:<telephone>  date/time: <date>  4:00        completed by: <date> ',\n",
              "       'discharge diagnosis:  primary: l sided subdural hematoma and subarachnoid hemorrhage,  post-concussive syndrome  secondary:  hypercholesterolemia  depression  hypothyroidism treated with synthroid      discharge condition:  neurologically stable with resolution of headaches. low-grade  fever (100.0) without source of infection upon workup with other  vss. ambulating well and taking po well. mental status at  baseline.      discharge instructions:  you were transferred to <hospital> after sustaining head trauma from  a fall. no clear cause for the fall was found. you were found to  have a small amount of bleeding called a subdural and  subarachnoid hemorrhage on admission. this was found to be  stable on ct scans throughout your hospital course. during your  hospitalization your aspirin was held because this increases the  risk of bleeding immediately following the fall. this should be  restarted upon discharge from the hospital. you were also  diagnosed with a urinary tract infection for which you should  complete a course of ampicillin.  .  please continue to take all of your medications as prescribed.  please attend all of your follow-up appointments.  .  discharge instructions for head injury  ??????\\ttake your pain medicine as prescribed  ??????\\texercise should be limited to walking; no lifting, straining,  excessive bending  ??????\\tincrease your intake of fluids and fiber as pain medicine  (narcotics) can cause constipation  ??????\\tunless directed by your doctor, do not take any  anti-inflammatory medicines such as motrin, aspirin, advil,  ibuprofen etc.  .  call your surgeon immediately if you experience any of the  following:    ??????\\tnew onset of tremors or seizures  ??????\\tany confusion or change in mental status  ??????\\tany numbness, tingling, weakness in your extremities  ??????\\tpain or headache that is continually increasing or not  relieved by pain medication      followup instructions:  please contact your pcp upon discharge for a follow-up  appointment within 1-2 weeks.  please call <telephone> to schedule an appointment with dr.  <name> (neurosurgery) to be seen within 4 weeks. you will  need a ct scan of the brain with or without contrast prior to  this visit.                                   <name> <name> md, [**md number(3) 1673**]    '],\n",
              "      dtype=object)"
            ]
          },
          "metadata": {
            "tags": []
          },
          "execution_count": 11
        }
      ]
    },
    {
      "cell_type": "code",
      "metadata": {
        "colab": {
          "base_uri": "https://localhost:8080/"
        },
        "id": "nYduvgcO5sOK",
        "outputId": "74d12dd0-20e2-4d22-f9a3-8ad4cc187d0c"
      },
      "source": [
        "y_train[:20]"
      ],
      "execution_count": 12,
      "outputs": [
        {
          "output_type": "execute_result",
          "data": {
            "text/plain": [
              "array([list(['583', '355', '571', '272', '305', '784', '414', '250', '443', '070', '401', 'V58', '427', '789', '428']),\n",
              "       list(['349', '401', '584', '285', '459', '428', '311', '038', '785', '427', 'V49', '355', '907', '707', '414', 'E92', '518', 'V45', '530', '276', '482', '287', '995', '507', '345', '599']),\n",
              "       list(['719', '531', '535', '401', '428', '285', '728', '799', '453', '008', '790', '438', '272', '707', '600', '715', '530', '276', '482', '263', '789', '288']),\n",
              "       list(['305', 'V42', '572', '584', '455', '285', '571', '998', '250', '790', '041', '576', '693', '537', '518', '997', 'E93', '276', '416', '456', '263', '789', '288', '695']),\n",
              "       list(['038', '728', '995', '250', '401', 'V58', '348', '427', '584', '493', '570', '410', '530', '428']),\n",
              "       list(['432', '401']),\n",
              "       list(['272', 'V12', '414', '714', '411', '401', 'V17', '285', '332']),\n",
              "       list(['410', '414', '427', '428']),\n",
              "       list(['238', '599', '707', '274', '600', '294', '401', '428', '578', '276', 'V44', '285', '440']),\n",
              "       list(['784', '272', '478', '599']),\n",
              "       list(['V10', '038', '785', '995', '998', 'V42', '518', '519', '428', '427', '276', '041', '599']),\n",
              "       list(['V15', 'E87', 'V10', '197', '157', '576', '038', '785', '788', '250', '995', '518', '401', 'V87', '584', '997', '789', '276', '782']),\n",
              "       list(['571', '038', '995', '496', '280', '294', '733', '714', '507', '572', '790', '428', '284']),\n",
              "       list(['291', 'E85', '522', '305', '965', '969', 'V60', '070', '276']),\n",
              "       list(['272', '535', 'V45', 'V58', '427', '562', '455', '285']),\n",
              "       list(['304', '511', '038', '785', '995', '787', '570', '285']),\n",
              "       list(['745', '396', '397', '426']),\n",
              "       list(['434', '272', 'V10', '403', '414', '443', '342', '427', '585', '997', '278', '412', '428']),\n",
              "       list(['E87', '285', '511', 'V10', '220', '564', 'E84', '518', '507', 'V45', '427', '733', '182', '458', '041', '428', '599']),\n",
              "       list(['311', '272', '426', '599', '780', '310', 'E88', '851', '244', '041', '438'])],\n",
              "      dtype=object)"
            ]
          },
          "metadata": {
            "tags": []
          },
          "execution_count": 12
        }
      ]
    },
    {
      "cell_type": "code",
      "metadata": {
        "id": "xmzhmepa52QP"
      },
      "source": [
        "y_train = [set(i) for i in y_train]\r\n",
        "y_test = [set(i) for i in y_test]"
      ],
      "execution_count": 13,
      "outputs": []
    },
    {
      "cell_type": "code",
      "metadata": {
        "id": "2c-vDZqW8vHK"
      },
      "source": [
        "from sklearn.preprocessing import MultiLabelBinarizer\r\n",
        "mlb = MultiLabelBinarizer(['401','427','276','414','272','250','428','518','285','584'])"
      ],
      "execution_count": 14,
      "outputs": []
    },
    {
      "cell_type": "code",
      "metadata": {
        "colab": {
          "base_uri": "https://localhost:8080/"
        },
        "id": "Q7c6ieV997lA",
        "outputId": "0cef25b3-e03a-4a96-b348-6a3d684486f1"
      },
      "source": [
        "y_train = mlb.fit_transform(y_train)\r\n",
        "y_test = mlb.fit_transform(y_test)"
      ],
      "execution_count": 15,
      "outputs": [
        {
          "output_type": "stream",
          "text": [
            "/usr/local/lib/python3.6/dist-packages/sklearn/preprocessing/_label.py:987: UserWarning: unknown class(es) ['003', '004', '005', '007', '008', '009', '010', '011', '012', '013', '014', '015', '018', '027', '031', '032', '033', '034', '035', '036', '038', '039', '040', '041', '042', '045', '046', '047', '048', '049', '052', '053', '054', '057', '058', '066', '070', '075', '077', '078', '079', '082', '084', '086', '088', '091', '093', '094', '096', '097', '099', '110', '111', '112', '114', '115', '116', '117', '118', '120', '122', '123', '125', '127', '130', '132', '133', '134', '135', '136', '137', '138', '139', '140', '141', '142', '143', '144', '145', '146', '147', '148', '149', '150', '151', '152', '153', '154', '155', '156', '157', '158', '159', '161', '162', '163', '164', '170', '171', '172', '173', '174', '175', '176', '179', '180', '182', '183', '184', '185', '186', '187', '188', '189', '190', '191', '192', '193', '194', '195', '196', '197', '198', '199', '200', '201', '202', '203', '204', '205', '206', '207', '208', '209', '210', '211', '212', '213', '214', '215', '216', '217', '218', '220', '223', '225', '226', '227', '228', '229', '230', '231', '232', '233', '235', '236', '237', '238', '239', '240', '241', '242', '243', '244', '245', '246', '249', '251', '252', '253', '254', '255', '256', '257', '258', '259', '260', '261', '262', '263', '265', '266', '267', '268', '269', '270', '271', '273', '274', '275', '277', '278', '279', '280', '281', '282', '283', '284', '286', '287', '288', '289', '290', '291', '292', '293', '294', '295', '296', '297', '298', '299', '300', '301', '302', '303', '304', '305', '306', '307', '308', '309', '310', '311', '312', '313', '314', '315', '317', '318', '319', '320', '321', '322', '323', '324', '325', '326', '327', '330', '331', '332', '333', '334', '335', '336', '337', '338', '339', '340', '341', '342', '343', '344', '345', '346', '347', '348', '349', '350', '351', '352', '353', '354', '355', '356', '357', '358', '359', '360', '361', '362', '363', '364', '365', '366', '367', '368', '369', '370', '371', '372', '373', '374', '375', '376', '377', '378', '379', '380', '381', '382', '383', '384', '385', '386', '387', '388', '389', '391', '393', '394', '395', '396', '397', '398', '402', '403', '404', '405', '410', '411', '412', '413', '415', '416', '417', '420', '421', '422', '423', '424', '425', '426', '429', '430', '431', '432', '433', '434', '435', '436', '437', '438', '440', '441', '442', '443', '444', '445', '446', '447', '448', '449', '451', '452', '453', '454', '455', '456', '457', '458', '459', '461', '462', '463', '464', '465', '466', '470', '471', '472', '473', '474', '475', '477', '478', '480', '481', '482', '483', '484', '485', '486', '487', '488', '490', '491', '492', '493', '494', '495', '496', '500', '501', '502', '506', '507', '508', '510', '511', '512', '513', '514', '515', '516', '517', '519', '520', '521', '522', '523', '524', '525', '526', '527', '528', '529', '530', '531', '532', '533', '534', '535', '536', '537', '538', '539', '540', '541', '542', '543', '550', '551', '552', '553', '555', '556', '557', '558', '560', '562', '564', '565', '566', '567', '568', '569', '570', '571', '572', '573', '574', '575', '576', '577', '578', '579', '580', '581', '582', '583', '585', '586', '587', '588', '590', '591', '592', '593', '594', '595', '596', '597', '598', '599', '600', '601', '602', '603', '604', '605', '607', '608', '610', '611', '614', '615', '616', '617', '618', '619', '620', '621', '622', '623', '624', '625', '626', '627', '628', '629', '632', '633', '634', '639', '641', '642', '643', '644', '645', '646', '647', '648', '649', '651', '652', '654', '655', '656', '658', '659', '660', '661', '663', '664', '665', '666', '668', '669', '670', '671', '672', '673', '674', '677', '680', '681', '682', '683', '685', '686', '690', '691', '692', '693', '694', '695', '696', '697', '698', '700', '701', '702', '703', '704', '705', '706', '707', '708', '709', '710', '711', '712', '713', '714', '715', '716', '717', '718', '719', '720', '721', '722', '723', '724', '725', '726', '727', '728', '729', '730', '731', '732', '733', '734', '735', '736', '737', '738', '741', '742', '743', '744', '745', '746', '747', '748', '749', '750', '751', '752', '753', '754', '755', '756', '757', '758', '759', '760', '761', '762', '763', '764', '765', '766', '767', '768', '769', '770', '771', '772', '773', '774', '775', '776', '777', '778', '779', '780', '781', '782', '783', '784', '785', '786', '787', '788', '789', '790', '791', '792', '793', '794', '795', '796', '799', '800', '801', '802', '803', '804', '805', '806', '807', '808', '810', '811', '812', '813', '814', '815', '816', '817', '819', '820', '821', '822', '823', '824', '825', '826', '828', '830', '831', '832', '833', '834', '835', '836', '837', '838', '839', '840', '841', '842', '843', '844', '845', '846', '847', '848', '850', '851', '852', '853', '854', '860', '861', '862', '863', '864', '865', '866', '867', '868', '869', '870', '871', '872', '873', '874', '875', '876', '877', '878', '879', '880', '881', '882', '883', '884', '885', '886', '887', '890', '891', '892', '893', '894', '896', '897', '900', '901', '902', '903', '904', '905', '906', '907', '908', '909', '910', '911', '912', '913', '914', '916', '917', '918', '919', '920', '921', '922', '923', '924', '925', '926', '927', '928', '930', '933', '934', '935', '936', '937', '938', '939', '941', '942', '943', '944', '945', '946', '947', '948', '950', '951', '952', '953', '954', '955', '956', '957', '958', '959', '960', '961', '962', '963', '964', '965', '966', '967', '968', '969', '970', '971', '972', '974', '975', '976', '977', '980', '982', '983', '985', '986', '987', '988', '989', '990', '991', '992', '994', '995', '996', '997', '998', '999', 'E00', 'E01', 'E02', 'E03', 'E80', 'E81', 'E82', 'E83', 'E84', 'E85', 'E86', 'E87', 'E88', 'E89', 'E90', 'E91', 'E92', 'E93', 'E94', 'E95', 'E96', 'E97', 'E98', 'E99', 'V01', 'V02', 'V03', 'V04', 'V05', 'V06', 'V07', 'V08', 'V09', 'V10', 'V11', 'V12', 'V13', 'V14', 'V15', 'V16', 'V17', 'V18', 'V19', 'V20', 'V23', 'V25', 'V26', 'V27', 'V28', 'V29', 'V30', 'V31', 'V32', 'V34', 'V40', 'V42', 'V43', 'V44', 'V45', 'V46', 'V48', 'V49', 'V50', 'V51', 'V53', 'V54', 'V55', 'V56', 'V58', 'V60', 'V61', 'V62', 'V63', 'V64', 'V65', 'V66', 'V67', 'V69', 'V70', 'V71', 'V72', 'V74', 'V83', 'V84', 'V85', 'V86', 'V87', 'V88', 'V90'] will be ignored\n",
            "  .format(sorted(unknown, key=str)))\n",
            "/usr/local/lib/python3.6/dist-packages/sklearn/preprocessing/_label.py:987: UserWarning: unknown class(es) ['004', '005', '007', '008', '009', '011', '013', '015', '018', '021', '023', '027', '030', '031', '034', '038', '039', '040', '041', '042', '046', '047', '049', '052', '053', '054', '057', '058', '062', '070', '075', '077', '078', '079', '082', '084', '086', '088', '094', '097', '099', '110', '111', '112', '115', '117', '118', '120', '121', '123', '127', '130', '131', '133', '135', '136', '137', '138', '139', '140', '141', '144', '145', '146', '147', '148', '149', '150', '151', '152', '153', '154', '155', '156', '157', '158', '159', '161', '162', '163', '164', '170', '171', '172', '173', '174', '176', '180', '182', '183', '184', '185', '187', '188', '189', '191', '192', '193', '194', '195', '196', '197', '198', '199', '200', '201', '202', '203', '204', '205', '206', '207', '208', '209', '210', '211', '212', '213', '214', '215', '216', '218', '220', '221', '223', '225', '226', '227', '228', '230', '232', '233', '235', '236', '237', '238', '239', '240', '241', '242', '243', '244', '245', '246', '249', '251', '252', '253', '255', '256', '257', '258', '259', '261', '262', '263', '265', '266', '268', '269', '270', '271', '273', '274', '275', '277', '278', '279', '280', '281', '282', '283', '284', '286', '287', '288', '289', '290', '291', '292', '293', '294', '295', '296', '297', '298', '299', '300', '301', '302', '303', '304', '305', '306', '307', '308', '309', '310', '311', '312', '314', '315', '316', '317', '318', '319', '320', '321', '322', '323', '324', '325', '326', '327', '331', '332', '333', '334', '335', '336', '337', '338', '339', '340', '341', '342', '343', '344', '345', '346', '347', '348', '349', '350', '351', '352', '353', '354', '355', '356', '357', '358', '359', '360', '361', '362', '363', '364', '365', '366', '367', '368', '369', '370', '371', '372', '373', '374', '375', '376', '377', '378', '379', '380', '381', '382', '383', '384', '385', '386', '388', '389', '390', '391', '393', '394', '395', '396', '397', '398', '402', '403', '404', '405', '410', '411', '412', '413', '415', '416', '417', '420', '421', '422', '423', '424', '425', '426', '429', '430', '431', '432', '433', '434', '435', '436', '437', '438', '440', '441', '442', '443', '444', '445', '446', '447', '448', '449', '451', '452', '453', '454', '455', '456', '457', '458', '459', '461', '462', '464', '465', '466', '470', '471', '472', '473', '474', '475', '477', '478', '480', '481', '482', '483', '484', '485', '486', '487', '488', '490', '491', '492', '493', '494', '495', '496', '500', '501', '502', '506', '507', '508', '510', '511', '512', '513', '514', '515', '516', '517', '519', '520', '521', '522', '523', '524', '525', '526', '527', '528', '529', '530', '531', '532', '533', '534', '535', '536', '537', '539', '540', '541', '542', '543', '550', '551', '552', '553', '555', '556', '557', '558', '560', '562', '564', '565', '566', '567', '568', '569', '570', '571', '572', '573', '574', '575', '576', '577', '578', '579', '580', '581', '582', '583', '585', '586', '587', '588', '589', '590', '591', '592', '593', '594', '595', '596', '597', '598', '599', '600', '601', '602', '603', '604', '605', '607', '608', '610', '611', '614', '615', '616', '617', '618', '619', '620', '621', '622', '623', '624', '625', '626', '627', '629', '633', '634', '635', '639', '641', '642', '643', '644', '646', '647', '648', '649', '651', '652', '654', '655', '656', '657', '658', '659', '660', '664', '665', '666', '669', '670', '672', '673', '674', '677', '680', '681', '682', '683', '684', '685', '686', '690', '691', '692', '693', '694', '695', '696', '697', '698', '700', '701', '702', '703', '704', '705', '706', '707', '708', '709', '710', '711', '712', '713', '714', '715', '716', '717', '718', '719', '720', '721', '722', '723', '724', '725', '726', '727', '728', '729', '730', '731', '732', '733', '734', '735', '736', '737', '738', '741', '742', '743', '744', '745', '746', '747', '748', '749', '750', '751', '752', '753', '754', '755', '756', '757', '758', '759', '760', '761', '762', '763', '764', '765', '766', '767', '768', '769', '770', '771', '772', '773', '774', '775', '776', '777', '778', '779', '780', '781', '782', '783', '784', '785', '786', '787', '788', '789', '790', '791', '792', '793', '794', '795', '796', '799', '800', '801', '802', '803', '804', '805', '806', '807', '808', '810', '811', '812', '813', '814', '815', '816', '820', '821', '822', '823', '824', '825', '826', '830', '831', '832', '833', '834', '835', '836', '837', '838', '839', '840', '842', '844', '845', '846', '847', '850', '851', '852', '853', '854', '860', '861', '862', '863', '864', '865', '866', '867', '868', '869', '870', '871', '872', '873', '874', '875', '876', '877', '878', '879', '880', '881', '882', '883', '884', '885', '886', '887', '890', '891', '892', '893', '897', '900', '901', '902', '903', '904', '905', '906', '907', '908', '909', '910', '911', '912', '913', '914', '915', '916', '917', '918', '919', '920', '921', '922', '923', '924', '927', '930', '932', '933', '934', '935', '936', '938', '939', '941', '942', '943', '944', '945', '946', '947', '948', '950', '951', '952', '953', '955', '956', '957', '958', '959', '960', '961', '962', '963', '964', '965', '966', '967', '968', '969', '970', '971', '972', '973', '975', '976', '977', '980', '982', '983', '987', '988', '989', '990', '991', '992', '994', '995', '996', '997', '998', '999', 'E00', 'E02', 'E80', 'E81', 'E82', 'E83', 'E84', 'E85', 'E86', 'E87', 'E88', 'E89', 'E90', 'E91', 'E92', 'E93', 'E94', 'E95', 'E96', 'E97', 'E98', 'V01', 'V02', 'V03', 'V04', 'V05', 'V06', 'V07', 'V08', 'V09', 'V10', 'V11', 'V12', 'V13', 'V14', 'V15', 'V16', 'V17', 'V18', 'V19', 'V20', 'V22', 'V26', 'V27', 'V29', 'V30', 'V31', 'V32', 'V34', 'V42', 'V43', 'V44', 'V45', 'V46', 'V49', 'V50', 'V53', 'V54', 'V55', 'V56', 'V58', 'V59', 'V60', 'V61', 'V62', 'V63', 'V64', 'V65', 'V66', 'V69', 'V70', 'V71', 'V72', 'V76', 'V78', 'V81', 'V83', 'V85', 'V86', 'V87', 'V88', 'V90', 'V91'] will be ignored\n",
            "  .format(sorted(unknown, key=str)))\n"
          ],
          "name": "stderr"
        }
      ]
    },
    {
      "cell_type": "code",
      "metadata": {
        "colab": {
          "base_uri": "https://localhost:8080/"
        },
        "id": "CS_9S2il97hX",
        "outputId": "3758063d-0700-49dd-ed93-20b840e5b805"
      },
      "source": [
        "y_train[0]"
      ],
      "execution_count": 16,
      "outputs": [
        {
          "output_type": "execute_result",
          "data": {
            "text/plain": [
              "array([1, 1, 0, 1, 1, 1, 1, 0, 0, 0])"
            ]
          },
          "metadata": {
            "tags": []
          },
          "execution_count": 16
        }
      ]
    },
    {
      "cell_type": "code",
      "metadata": {
        "colab": {
          "base_uri": "https://localhost:8080/"
        },
        "id": "-DfPENzr97Za",
        "outputId": "a2d80e1b-b2f1-4cc7-b716-3eff6b4f2662"
      },
      "source": [
        "mlb.classes_"
      ],
      "execution_count": 17,
      "outputs": [
        {
          "output_type": "execute_result",
          "data": {
            "text/plain": [
              "array(['401', '427', '276', '414', '272', '250', '428', '518', '285',\n",
              "       '584'], dtype=object)"
            ]
          },
          "metadata": {
            "tags": []
          },
          "execution_count": 17
        }
      ]
    },
    {
      "cell_type": "code",
      "metadata": {
        "colab": {
          "base_uri": "https://localhost:8080/",
          "height": 69
        },
        "id": "FW6_Oyvu97Ty",
        "outputId": "9f6cb4f4-7725-4454-8dd3-871bcfc5e91b"
      },
      "source": [
        "X_train[0]"
      ],
      "execution_count": 18,
      "outputs": [
        {
          "output_type": "execute_result",
          "data": {
            "application/vnd.google.colaboratory.intrinsic+json": {
              "type": "string"
            },
            "text/plain": [
              "'discharge diagnosis:  cad  post-op dysphagia      discharge condition:  good    discharge instructions:  no lifting > 10# or driving for 1 month  may shower, no bathing or swimming for 1 month  no creams, lotions or powders to any incisions    followup instructions:  with dr. <name> tomorrow in [**location (un) 37361**], and again in 2 weeks  with dr. <name> in [**3-9**] weeks        completed by: <date> '"
            ]
          },
          "metadata": {
            "tags": []
          },
          "execution_count": 18
        }
      ]
    },
    {
      "cell_type": "code",
      "metadata": {
        "colab": {
          "base_uri": "https://localhost:8080/"
        },
        "id": "QE82JJhkCH5h",
        "outputId": "62153413-5f2d-423a-b3d6-fb132fd82378"
      },
      "source": [
        "import nltk\r\n",
        "import string\r\n",
        "nltk.download('punkt')\r\n",
        "nltk.download('stopwords')\r\n",
        "nltk.download('wordnet')\r\n",
        "from nltk import sent_tokenize, word_tokenize\r\n",
        "from nltk.stem import WordNetLemmatizer\r\n",
        "from nltk.corpus import stopwords\r\n",
        "stop_words = set(stopwords.words('english')).union(set(string.punctuation)) # stopwords + punctuation\r\n",
        "\r\n"
      ],
      "execution_count": 19,
      "outputs": [
        {
          "output_type": "stream",
          "text": [
            "[nltk_data] Downloading package punkt to /root/nltk_data...\n",
            "[nltk_data]   Unzipping tokenizers/punkt.zip.\n",
            "[nltk_data] Downloading package stopwords to /root/nltk_data...\n",
            "[nltk_data]   Unzipping corpora/stopwords.zip.\n",
            "[nltk_data] Downloading package wordnet to /root/nltk_data...\n",
            "[nltk_data]   Unzipping corpora/wordnet.zip.\n"
          ],
          "name": "stdout"
        }
      ]
    },
    {
      "cell_type": "code",
      "metadata": {
        "id": "QECjXE0u97Qt"
      },
      "source": [
        "def preprocess(text):\r\n",
        "\r\n",
        "  text = re.sub(\"discharge diagnosis:\" , ' ', text)\r\n",
        "\r\n",
        "  text = re.sub(\"\\[\\*\\*.*?\\*\\*\\]\",\" \",text)\r\n",
        "\r\n",
        "  words=word_tokenize(text)\r\n",
        "  filtered_sentence = [] \r\n",
        "  # remove stopwords\r\n",
        "  for word in words: \r\n",
        "    if word not in stop_words: \r\n",
        "        filtered_sentence.append(word) \r\n",
        "  text = ' '.join(filtered_sentence)\r\n",
        "  # lemmatize\r\n",
        "  # lemma_word = []\r\n",
        "  # wordnet_lemmatizer = WordNetLemmatizer()\r\n",
        "  # for w in filtered_sentence:\r\n",
        "  #   word1 = wordnet_lemmatizer.lemmatize(w, pos = \"n\")\r\n",
        "  #   word2 = wordnet_lemmatizer.lemmatize(word1, pos = \"v\")\r\n",
        "  #   word3 = wordnet_lemmatizer.lemmatize(word2, pos = (\"a\"))\r\n",
        "  #   lemma_word.append(word3)\r\n",
        "  return text\r\n",
        "\r\n"
      ],
      "execution_count": 20,
      "outputs": []
    },
    {
      "cell_type": "code",
      "metadata": {
        "colab": {
          "base_uri": "https://localhost:8080/",
          "height": 69
        },
        "id": "B-wrgzKaDrew",
        "outputId": "f5b3d6b0-1c81-4d5a-a8b7-1e9de4bc13e3"
      },
      "source": [
        "X_train[0]"
      ],
      "execution_count": 21,
      "outputs": [
        {
          "output_type": "execute_result",
          "data": {
            "application/vnd.google.colaboratory.intrinsic+json": {
              "type": "string"
            },
            "text/plain": [
              "'discharge diagnosis:  cad  post-op dysphagia      discharge condition:  good    discharge instructions:  no lifting > 10# or driving for 1 month  may shower, no bathing or swimming for 1 month  no creams, lotions or powders to any incisions    followup instructions:  with dr. <name> tomorrow in [**location (un) 37361**], and again in 2 weeks  with dr. <name> in [**3-9**] weeks        completed by: <date> '"
            ]
          },
          "metadata": {
            "tags": []
          },
          "execution_count": 21
        }
      ]
    },
    {
      "cell_type": "code",
      "metadata": {
        "id": "ZlIzznnp97Nb"
      },
      "source": [
        "X_train = [preprocess(x) for x in X_train]\r\n",
        "X_test = [preprocess(x) for x in X_test]"
      ],
      "execution_count": 22,
      "outputs": []
    },
    {
      "cell_type": "code",
      "metadata": {
        "colab": {
          "base_uri": "https://localhost:8080/",
          "height": 52
        },
        "id": "I9qJECat97KD",
        "outputId": "d71af374-f88f-4357-d406-7dbaed3fa19b"
      },
      "source": [
        "X_train[0]"
      ],
      "execution_count": 23,
      "outputs": [
        {
          "output_type": "execute_result",
          "data": {
            "application/vnd.google.colaboratory.intrinsic+json": {
              "type": "string"
            },
            "text/plain": [
              "'cad post-op dysphagia discharge condition good discharge instructions lifting 10 driving 1 month may shower bathing swimming 1 month creams lotions powders incisions followup instructions dr. name tomorrow 2 weeks dr. name weeks completed date'"
            ]
          },
          "metadata": {
            "tags": []
          },
          "execution_count": 23
        }
      ]
    },
    {
      "cell_type": "code",
      "metadata": {
        "id": "gOl_T6fP97Gw"
      },
      "source": [
        "from sklearn.feature_extraction.text import TfidfVectorizer"
      ],
      "execution_count": 24,
      "outputs": []
    },
    {
      "cell_type": "code",
      "metadata": {
        "id": "6bkF3JhL97Dl"
      },
      "source": [
        "tfidf_vectorizer = TfidfVectorizer(X_train,ngram_range=(1,2),max_df=0.9,min_df=5,token_pattern=r'(\\S+)')"
      ],
      "execution_count": 25,
      "outputs": []
    },
    {
      "cell_type": "code",
      "metadata": {
        "id": "qAzeHo6G96_t"
      },
      "source": [
        "X_train = tfidf_vectorizer.fit_transform(X_train)\r\n",
        "X_test = tfidf_vectorizer.transform(X_test)"
      ],
      "execution_count": 26,
      "outputs": []
    },
    {
      "cell_type": "code",
      "metadata": {
        "colab": {
          "base_uri": "https://localhost:8080/"
        },
        "id": "GGf5X7xI9662",
        "outputId": "0cc461a0-9f74-49fb-a649-f60106fbc750"
      },
      "source": [
        "X_test.shape"
      ],
      "execution_count": 27,
      "outputs": [
        {
          "output_type": "execute_result",
          "data": {
            "text/plain": [
              "(12591, 72989)"
            ]
          },
          "metadata": {
            "tags": []
          },
          "execution_count": 27
        }
      ]
    },
    {
      "cell_type": "code",
      "metadata": {
        "id": "25-0m0E-962t"
      },
      "source": [
        "# For multiclass classification\r\n",
        "from sklearn.multiclass import OneVsRestClassifier\r\n",
        "\r\n",
        "# Models\r\n",
        "from sklearn.linear_model import LogisticRegression\r\n",
        "from sklearn.discriminant_analysis import LinearDiscriminantAnalysis\r\n",
        "from sklearn.svm import LinearSVC\r\n",
        "from sklearn.naive_bayes import MultinomialNB\r\n",
        "from lightgbm import LGBMClassifier\r\n",
        "\r\n",
        "def train_classifier(X_train, y_train, X_valid=None, y_valid=None, C=1.0, model='lr'):\r\n",
        "    \"\"\"\r\n",
        "      X_train, y_train — training data\r\n",
        "      \r\n",
        "      return: trained classifier\r\n",
        "      \r\n",
        "    \"\"\"\r\n",
        "    \r\n",
        "    if model=='lr':\r\n",
        "        model = LogisticRegression(C=C, penalty='l1', dual=False, solver='liblinear')\r\n",
        "        model = OneVsRestClassifier(model)\r\n",
        "        model.fit(X_train, y_train)\r\n",
        "    \r\n",
        "    elif model=='svm':\r\n",
        "        model = LinearSVC(C=C, penalty='l1', dual=False, loss='squared_hinge')\r\n",
        "        model = OneVsRestClassifier(model)\r\n",
        "        model.fit(X_train, y_train)\r\n",
        "    \r\n",
        "    elif model=='nbayes':\r\n",
        "        model = MultinomialNB(alpha=1.0)\r\n",
        "        model = OneVsRestClassifier(model)\r\n",
        "        model.fit(X_train, y_train)\r\n",
        "        \r\n",
        "    elif model=='lda':\r\n",
        "        model = LinearDiscriminantAnalysis(solver='svd')\r\n",
        "        model = OneVsRestClassifier(model)\r\n",
        "        model.fit(X_train, y_train)\r\n",
        "\r\n",
        "    return model\r\n"
      ],
      "execution_count": 28,
      "outputs": []
    },
    {
      "cell_type": "code",
      "metadata": {
        "colab": {
          "base_uri": "https://localhost:8080/"
        },
        "id": "A0sQ0PGK96zH",
        "outputId": "9316755b-bbba-4e68-844d-4ea1e45963fc"
      },
      "source": [
        "%time classifier_tfidf = train_classifier(X_train, y_train, C=1.0, model='lr')"
      ],
      "execution_count": 29,
      "outputs": [
        {
          "output_type": "stream",
          "text": [
            "CPU times: user 19.2 s, sys: 203 ms, total: 19.4 s\n",
            "Wall time: 19.9 s\n"
          ],
          "name": "stdout"
        }
      ]
    },
    {
      "cell_type": "code",
      "metadata": {
        "id": "EkOZ_xjK96op"
      },
      "source": [
        "y_test_predicted_labels_tfidf = classifier_tfidf.predict(X_test)"
      ],
      "execution_count": 30,
      "outputs": []
    },
    {
      "cell_type": "code",
      "metadata": {
        "id": "VAZOOyqZRRLe"
      },
      "source": [
        "# y_test_pred_inversed = mlb.inverse_transform(y_test_predicted_labels_tfidf)\r\n",
        "# y_test_inversed = mlb.inverse_transform(y_test)\r\n",
        "# for i in range(3):\r\n",
        "#     print('Text:\\t{}\\nTrue labels:\\t{}\\nPredicted labels:\\t{}\\n\\n'.format(\r\n",
        "#         X_test[i],\r\n",
        "#         ','.join(y_test_inversed[i]),\r\n",
        "#         ','.join(y_test_pred_inversed[i])\r\n",
        "#     ))"
      ],
      "execution_count": 31,
      "outputs": []
    },
    {
      "cell_type": "code",
      "metadata": {
        "id": "5IL2DoUeRRHu"
      },
      "source": [
        "from sklearn.metrics import accuracy_score, hamming_loss\r\n",
        "from sklearn.metrics import f1_score\r\n",
        "from sklearn.metrics import roc_auc_score \r\n",
        "from sklearn.metrics import average_precision_score\r\n",
        "from sklearn.metrics import recall_score,precision_score\r\n",
        "from sklearn.metrics import classification_report"
      ],
      "execution_count": 32,
      "outputs": []
    },
    {
      "cell_type": "code",
      "metadata": {
        "colab": {
          "base_uri": "https://localhost:8080/"
        },
        "id": "UVC1V97MRRDf",
        "outputId": "abf23b51-7589-411b-9769-79f2a637f171"
      },
      "source": [
        "print(\"Accuracy score for Logistic Regression:\")\r\n",
        "print(accuracy_score(y_test, y_test_predicted_labels_tfidf))\r\n",
        "print(\"Hamming loss for Logistic Regression:\")\r\n",
        "print(hamming_loss(y_test, y_test_predicted_labels_tfidf))\r\n",
        "print(precision_score(y_test, y_test_predicted_labels_tfidf,average='micro'))\r\n",
        "print(recall_score(y_test, y_test_predicted_labels_tfidf,average='micro'))\r\n",
        "print(f1_score(y_test, y_test_predicted_labels_tfidf,average='micro'))"
      ],
      "execution_count": 33,
      "outputs": [
        {
          "output_type": "stream",
          "text": [
            "Accuracy score for Logistic Regression:\n",
            "0.1863235644507982\n",
            "Hamming loss for Logistic Regression:\n",
            "0.19861011833849576\n",
            "0.7932182047130779\n",
            "0.4635845138907141\n",
            "0.5851732660949189\n"
          ],
          "name": "stdout"
        }
      ]
    },
    {
      "cell_type": "code",
      "metadata": {
        "colab": {
          "base_uri": "https://localhost:8080/"
        },
        "id": "5AJCYcSwRQ_f",
        "outputId": "c9b62c54-a57f-422c-a34c-ef44ffca53e1"
      },
      "source": [
        "print(classification_report(y_test, y_test_predicted_labels_tfidf, target_names=mlb.classes_))"
      ],
      "execution_count": 34,
      "outputs": [
        {
          "output_type": "stream",
          "text": [
            "              precision    recall  f1-score   support\n",
            "\n",
            "         401       0.72      0.51      0.60      5408\n",
            "         427       0.86      0.53      0.66      4324\n",
            "         276       0.66      0.34      0.44      3994\n",
            "         414       0.86      0.61      0.72      3577\n",
            "         272       0.77      0.40      0.53      3843\n",
            "         250       0.91      0.55      0.68      3592\n",
            "         428       0.88      0.52      0.66      3480\n",
            "         518       0.75      0.43      0.54      3313\n",
            "         285       0.72      0.27      0.39      3496\n",
            "         584       0.79      0.45      0.57      3020\n",
            "\n",
            "   micro avg       0.79      0.46      0.59     38047\n",
            "   macro avg       0.79      0.46      0.58     38047\n",
            "weighted avg       0.79      0.46      0.58     38047\n",
            " samples avg       0.56      0.40      0.44     38047\n",
            "\n"
          ],
          "name": "stdout"
        },
        {
          "output_type": "stream",
          "text": [
            "/usr/local/lib/python3.6/dist-packages/sklearn/metrics/_classification.py:1272: UndefinedMetricWarning: Precision and F-score are ill-defined and being set to 0.0 in samples with no predicted labels. Use `zero_division` parameter to control this behavior.\n",
            "  _warn_prf(average, modifier, msg_start, len(result))\n",
            "/usr/local/lib/python3.6/dist-packages/sklearn/metrics/_classification.py:1272: UndefinedMetricWarning: Recall and F-score are ill-defined and being set to 0.0 in samples with no true labels. Use `zero_division` parameter to control this behavior.\n",
            "  _warn_prf(average, modifier, msg_start, len(result))\n"
          ],
          "name": "stderr"
        }
      ]
    },
    {
      "cell_type": "code",
      "metadata": {
        "id": "gqvaEfFTRQ7H"
      },
      "source": [
        "from functools import partial\r\n",
        "def print_evaluation_scores(y_val, predicted):\r\n",
        "    f1_score_macro = partial(f1_score,average=\"macro\")\r\n",
        "    f1_score_micro = partial(f1_score,average=\"micro\")\r\n",
        "    f1_score_weighted = partial(f1_score,average=\"weighted\")\r\n",
        "    \r\n",
        "    average_precision_score_macro = partial(average_precision_score,average=\"macro\")\r\n",
        "    average_precision_score_micro = partial(average_precision_score,average=\"micro\")\r\n",
        "    average_precision_score_weighted = partial(average_precision_score,average=\"weighted\")\r\n",
        "    \r\n",
        "    scores = [accuracy_score,f1_score_macro,f1_score_micro,f1_score_weighted,average_precision_score_macro,\r\n",
        "             average_precision_score_micro,average_precision_score_weighted]\r\n",
        "    for score in scores:\r\n",
        "        print(score,score(y_val,predicted))\r\n"
      ],
      "execution_count": 35,
      "outputs": []
    },
    {
      "cell_type": "code",
      "metadata": {
        "colab": {
          "base_uri": "https://localhost:8080/"
        },
        "id": "zCpqLn_nRQ16",
        "outputId": "d0de744d-2e78-4ee5-eba5-95f0e18192eb"
      },
      "source": [
        "print('Tfidf')\r\n",
        "print_evaluation_scores(y_test, y_test_predicted_labels_tfidf)"
      ],
      "execution_count": 36,
      "outputs": [
        {
          "output_type": "stream",
          "text": [
            "Tfidf\n",
            "<function accuracy_score at 0x7f6408f17e18> 0.1863235644507982\n",
            "functools.partial(<function f1_score at 0x7f6408f202f0>, average='macro') 0.5791877511616665\n",
            "functools.partial(<function f1_score at 0x7f6408f202f0>, average='micro') 0.5851732660949189\n",
            "functools.partial(<function f1_score at 0x7f6408f202f0>, average='weighted') 0.5804556430064562\n",
            "functools.partial(<function average_precision_score at 0x7f6408f18ea0>, average='macro') 0.5330362811025338\n",
            "functools.partial(<function average_precision_score at 0x7f6408f18ea0>, average='micro') 0.5298156462962642\n",
            "functools.partial(<function average_precision_score at 0x7f6408f18ea0>, average='weighted') 0.5368702331564653\n"
          ],
          "name": "stdout"
        }
      ]
    },
    {
      "cell_type": "code",
      "metadata": {
        "colab": {
          "base_uri": "https://localhost:8080/"
        },
        "id": "n66zDcZ8RQxF",
        "outputId": "036a16ce-f2ce-49d4-cc37-ee1b87bf8987"
      },
      "source": [
        "y_test[:5]"
      ],
      "execution_count": 37,
      "outputs": [
        {
          "output_type": "execute_result",
          "data": {
            "text/plain": [
              "array([[0, 0, 0, 0, 0, 0, 0, 0, 0, 0],\n",
              "       [0, 0, 1, 0, 0, 0, 0, 0, 0, 0],\n",
              "       [1, 0, 0, 1, 0, 1, 0, 0, 0, 0],\n",
              "       [1, 1, 0, 1, 0, 0, 1, 0, 0, 0],\n",
              "       [0, 0, 0, 0, 0, 1, 0, 0, 0, 0]])"
            ]
          },
          "metadata": {
            "tags": []
          },
          "execution_count": 37
        }
      ]
    },
    {
      "cell_type": "code",
      "metadata": {
        "colab": {
          "base_uri": "https://localhost:8080/"
        },
        "id": "GCw74wXiVNFn",
        "outputId": "5b0fa88c-feb2-495f-d48b-8240c7dd09bd"
      },
      "source": [
        "y_test_predicted_labels_tfidf[:5]"
      ],
      "execution_count": 38,
      "outputs": [
        {
          "output_type": "execute_result",
          "data": {
            "text/plain": [
              "array([[0, 0, 0, 0, 0, 0, 0, 0, 0, 0],\n",
              "       [1, 0, 0, 0, 0, 0, 0, 0, 0, 0],\n",
              "       [1, 0, 0, 1, 0, 0, 0, 0, 0, 0],\n",
              "       [0, 1, 0, 0, 0, 0, 0, 0, 0, 1],\n",
              "       [1, 0, 0, 0, 0, 0, 0, 0, 0, 0]])"
            ]
          },
          "metadata": {
            "tags": []
          },
          "execution_count": 38
        }
      ]
    },
    {
      "cell_type": "code",
      "metadata": {
        "id": "3loL_5rCA3ml"
      },
      "source": [
        ""
      ],
      "execution_count": 38,
      "outputs": []
    },
    {
      "cell_type": "code",
      "metadata": {
        "id": "Jal3QJwEZ8Ad"
      },
      "source": [
        "adm_icd=pd.read_csv(\"/content/drive/My Drive/AlgoIntern/Data/Data1.0/adm_icd.csv\")"
      ],
      "execution_count": 39,
      "outputs": []
    },
    {
      "cell_type": "code",
      "metadata": {
        "id": "5gXpLMUkao7X"
      },
      "source": [
        "diagnosis_icd = pd.merge(diagnosis_icd9category,adm_icd,on=\"HADM_ID\",how=\"left\")"
      ],
      "execution_count": 40,
      "outputs": []
    },
    {
      "cell_type": "code",
      "metadata": {
        "id": "RZxw87MWchxK"
      },
      "source": [
        "diagnosis_icd['ICD9_CODE'] = diagnosis_icd.ICD9_CODE.apply(lambda x: list(set(re.split(\",\",x))))\n",
        "diagnosis_icd['ICD10'] = diagnosis_icd.ICD10.apply(lambda x: list(set(re.split(\",\",x))))\n",
        "diagnosis_icd['ICD10']=diagnosis_icd.ICD10.apply(lambda x: [a for a in x if a!=\"Misc\"])\n",
        "diagnosis_icd['icd10category']=diagnosis_icd.ICD10.apply(lambda x:list(set([re.split(\"([A-Z]\\d{2})\",i)[1] for i in x])))"
      ],
      "execution_count": 41,
      "outputs": []
    },
    {
      "cell_type": "code",
      "metadata": {
        "id": "aibhMtHedFdb"
      },
      "source": [
        "X_train_icd10cat, X_test_icd10cat, y_train_icd10cat, y_test_icd10cat = train_test_split(diagnosis_icd['discharge diagnosis:'].values, diagnosis_icd['icd10category'].values, test_size=0.3, random_state=2020)"
      ],
      "execution_count": 42,
      "outputs": []
    },
    {
      "cell_type": "code",
      "metadata": {
        "colab": {
          "base_uri": "https://localhost:8080/"
        },
        "id": "_f0ZxdHbgpE4",
        "outputId": "e5422d9b-3d99-4da8-b41e-6c8dfa3d150b"
      },
      "source": [
        "mlb_icd10cat = MultiLabelBinarizer(['I10', 'I25', 'E78', 'I50', 'I48', 'N17', 'E87', 'E11', 'J96', 'N39'])\r\n",
        "y_train_icd10cat = [set(i) for i in y_train_icd10cat]\r\n",
        "y_test_icd10cat = [set(i) for i in y_test_icd10cat]\r\n",
        "y_train_icd10cat = mlb_icd10cat.fit_transform(y_train_icd10cat)\r\n",
        "y_test_icd10cat = mlb_icd10cat.fit_transform(y_test_icd10cat)"
      ],
      "execution_count": 43,
      "outputs": [
        {
          "output_type": "stream",
          "text": [
            "/usr/local/lib/python3.6/dist-packages/sklearn/preprocessing/_label.py:987: UserWarning: unknown class(es) ['A04', 'A41', 'B18', 'D62', 'D63', 'D64', 'D69', 'E03', 'E08', 'E09', 'E10', 'E13', 'E46', 'E66', 'E86', 'F05', 'F17', 'F32', 'F41', 'G47', 'I12', 'I20', 'I21', 'I27', 'I34', 'I35', 'I42', 'I46', 'I47', 'I49', 'I61', 'I73', 'I95', 'I97', 'J18', 'J44', 'J45', 'J69', 'J91', 'J98', 'K21', 'K74', 'K92', 'L89', 'M10', 'M81', 'N18', 'N40', 'P00', 'P22', 'P59', 'R00', 'R09', 'R56', 'R65', 'R78', 'Y83', 'Y84', 'Z23', 'Z38', 'Z41', 'Z66', 'Z79', 'Z85', 'Z86', 'Z87', 'Z95', 'Z98'] will be ignored\n",
            "  .format(sorted(unknown, key=str)))\n"
          ],
          "name": "stderr"
        }
      ]
    },
    {
      "cell_type": "code",
      "metadata": {
        "id": "9R-djs-wiqkx"
      },
      "source": [
        "X_train_icd10cat = [preprocess(x) for x in X_train_icd10cat]\r\n",
        "X_test_icd10cat = [preprocess(x) for x in X_test_icd10cat]\r\n"
      ],
      "execution_count": 44,
      "outputs": []
    },
    {
      "cell_type": "code",
      "metadata": {
        "id": "0UYl6fInsx1z"
      },
      "source": [
        "tfidf_vectorizer_icd10cat = TfidfVectorizer(X_train_icd10cat,ngram_range=(1,2),max_df=0.9,min_df=5,token_pattern=r'(\\S+)')"
      ],
      "execution_count": 45,
      "outputs": []
    },
    {
      "cell_type": "code",
      "metadata": {
        "id": "_A3bCgjntKRW"
      },
      "source": [
        "X_train_icd10cat = tfidf_vectorizer_icd10cat.fit_transform(X_train_icd10cat)\r\n",
        "X_test_icd10cat = tfidf_vectorizer_icd10cat.transform(X_test_icd10cat)"
      ],
      "execution_count": 46,
      "outputs": []
    },
    {
      "cell_type": "code",
      "metadata": {
        "colab": {
          "base_uri": "https://localhost:8080/"
        },
        "id": "OeKkxiDqtcg5",
        "outputId": "147b33da-6ddc-4c9f-fddd-8e604c6d1e3d"
      },
      "source": [
        "%time classifiericd10cat_tfidf = train_classifier(X_train_icd10cat, y_train_icd10cat, C=1.0, model='lr')"
      ],
      "execution_count": 47,
      "outputs": [
        {
          "output_type": "stream",
          "text": [
            "CPU times: user 16.1 s, sys: 165 ms, total: 16.2 s\n",
            "Wall time: 16.3 s\n"
          ],
          "name": "stdout"
        }
      ]
    },
    {
      "cell_type": "code",
      "metadata": {
        "id": "1dzGLJqKuV16"
      },
      "source": [
        "y_test_icd10cat_predicted_tfidf = classifiericd10cat_tfidf.predict(X_test_icd10cat)"
      ],
      "execution_count": 48,
      "outputs": []
    },
    {
      "cell_type": "code",
      "metadata": {
        "colab": {
          "base_uri": "https://localhost:8080/"
        },
        "id": "l-uKZbn4ujEL",
        "outputId": "25a2dbe9-3063-4dba-dc18-9f3d40bc5b54"
      },
      "source": [
        "print(\"Accuracy score for Logistic Regression:\")\r\n",
        "print(accuracy_score(y_test_icd10cat, y_test_icd10cat_predicted_tfidf))\r\n",
        "print(\"Hamming loss for Logistic Regression:\")\r\n",
        "print(hamming_loss(y_test_icd10cat, y_test_icd10cat_predicted_tfidf))\r\n",
        "print(precision_score(y_test_icd10cat, y_test_icd10cat_predicted_tfidf,average='micro'))\r\n",
        "print(recall_score(y_test_icd10cat, y_test_icd10cat_predicted_tfidf,average='micro'))\r\n",
        "print(f1_score(y_test_icd10cat, y_test_icd10cat_predicted_tfidf,average='micro'))"
      ],
      "execution_count": 49,
      "outputs": [
        {
          "output_type": "stream",
          "text": [
            "Accuracy score for Logistic Regression:\n",
            "0.2493050591692479\n",
            "Hamming loss for Logistic Regression:\n",
            "0.1721626558653006\n",
            "0.7873326467559217\n",
            "0.43381356199363197\n",
            "0.5594016138539402\n"
          ],
          "name": "stdout"
        }
      ]
    },
    {
      "cell_type": "code",
      "metadata": {
        "colab": {
          "base_uri": "https://localhost:8080/"
        },
        "id": "l04TFCndOYb2",
        "outputId": "45ed092b-22ff-4c1e-f341-df7a54c0bfef"
      },
      "source": [
        "print_evaluation_scores(y_test_icd10cat, y_test_icd10cat_predicted_tfidf)"
      ],
      "execution_count": 50,
      "outputs": [
        {
          "output_type": "stream",
          "text": [
            "<function accuracy_score at 0x7f6408f17e18> 0.2493050591692479\n",
            "functools.partial(<function f1_score at 0x7f6408f202f0>, average='macro') 0.5357713365392287\n",
            "functools.partial(<function f1_score at 0x7f6408f202f0>, average='micro') 0.5594016138539402\n",
            "functools.partial(<function f1_score at 0x7f6408f202f0>, average='weighted') 0.551832218920549\n",
            "functools.partial(<function average_precision_score at 0x7f6408f18ea0>, average='macro') 0.4740775964902487\n",
            "functools.partial(<function average_precision_score at 0x7f6408f18ea0>, average='micro') 0.4841971493380108\n",
            "functools.partial(<function average_precision_score at 0x7f6408f18ea0>, average='weighted') 0.49684763531128834\n"
          ],
          "name": "stdout"
        }
      ]
    },
    {
      "cell_type": "code",
      "metadata": {
        "id": "kL2NRP9Eu7BV"
      },
      "source": [
        ""
      ],
      "execution_count": 50,
      "outputs": []
    },
    {
      "cell_type": "code",
      "metadata": {
        "id": "KdEDATNHvdZJ"
      },
      "source": [
        "X_train_icd9, X_test_icd9, y_train_icd9, y_test_icd9 = train_test_split(diagnosis_icd['discharge diagnosis:'].values, diagnosis_icd['ICD9_CODE'].values, test_size=0.3, random_state=2020)"
      ],
      "execution_count": 51,
      "outputs": []
    },
    {
      "cell_type": "code",
      "metadata": {
        "colab": {
          "base_uri": "https://localhost:8080/"
        },
        "id": "rEHan3HBvqUs",
        "outputId": "cabb2652-d6ec-4dc5-b34d-41349b419c63"
      },
      "source": [
        "mlb_icd9 = MultiLabelBinarizer(['4019', '4280', '42731', '41401', '5849', '25000', '2724', '51881', '5990', '53081'])\r\n",
        "y_train_icd9 = [set(i) for i in y_train_icd9]\r\n",
        "y_test_icd9 = [set(i) for i in y_test_icd9]\r\n",
        "y_train_icd9 = mlb_icd9.fit_transform(y_train_icd9)\r\n",
        "y_test_icd9 = mlb_icd9.fit_transform(y_test_icd9)"
      ],
      "execution_count": 52,
      "outputs": [
        {
          "output_type": "stream",
          "text": [
            "/usr/local/lib/python3.6/dist-packages/sklearn/preprocessing/_label.py:987: UserWarning: unknown class(es) ['0030', '0031', '0038', '0039', '0041', '0048', '00581', '0059', '0071', '0074', '00841', '00843', '00845', '00847', '0085', '00861', '00862', '00863', '00869', '0088', '0090', '0091', '0092', '0093', '01085', '01123', '01190', '01205', '01215', '01300', '01325', '01330', '01402', '01405', '01485', '01504', '01505', '01805', '01890', '01894', '01895', '0270', '0272', '0279', '0310', '0311', '0312', '0318', '0319', '03285', '03289', '0329', '0338', '0340', '035', '0360', '0362', '03641', '0380', '03810', '03811', '03812', '03819', '0382', '0383', '03840', '03841', '03842', '03843', '03844', '03849', '0388', '0389', '0391', '0398', '0400', '04082', '04100', '04101', '04102', '04103', '04104', '04105', '04109', '04110', '04111', '04112', '04119', '0412', '0413', '0414', '04149', '0415', '0416', '0417', '04182', '04183', '04184', '04185', '04186', '04189', '0419', '042', '04590', '0463', '04671', '0478', '0479', '048', '0498', '0499', '0520', '0521', '0527', '0529', '0530', '05311', '05312', '05313', '05319', '05320', '05329', '05371', '05379', '0539', '0540', '05410', '05412', '05413', '05419', '0542', '0543', '05443', '0545', '05471', '05479', '0549', '0578', '0579', '05821', '05889', '06641', '06642', '0701', '07020', '07022', '07030', '07031', '07032', '07033', '07041', '07044', '07049', '07051', '07054', '07059', '07070', '07071', '075', '0778', '07799', '0780', '07810', '07811', '07819', '0785', '07889', '0790', '0793', '0794', '07951', '07953', '0796', '07983', '07989', '07999', '08240', '08249', '0840', '0844', '0860', '0880', '08881', '08882', '0912', '09152', '09181', '0919', '0931', '0940', '0949', '096', '0970', '0971', '0979', '0993', '1101', '1103', '1104', '1105', '1108', '1109', '1110', '1119', '1120', '1121', '1122', '1123', '1124', '1125', '11281', '11283', '11284', '11285', '11289', '1129', '1140', '1149', '11505', '11519', '11590', '11599', '1160', '1173', '1175', '1177', '1179', '118', '1208', '1209', '1228', '1231', '1251', '1272', '1273', '1300', '1307', '1309', '1320', '1329', '1330', '1348', '135', '1361', '1363', '1369', '1370', '138', '1390', '1398', '1400', '1401', '1409', '1410', '1414', '1418', '1419', '1420', '1429', '1430', '1440', '1448', '1449', '1450', '1452', '1453', '1460', '1461', '1468', '1471', '1478', '1479', '1481', '1488', '1490', '1498', '1501', '1503', '1504', '1505', '1508', '1509', '1510', '1511', '1512', '1513', '1514', '1515', '1516', '1518', '1519', '1520', '1522', '1528', '1529', '1530', '1531', '1532', '1533', '1534', '1535', '1536', '1537', '1538', '1539', '1540', '1541', '1542', '1543', '1548', '1550', '1551', '1552', '1560', '1561', '1562', '1568', '1569', '1570', '1571', '1572', '1573', '1574', '1578', '1579', '1580', '1588', '1589', '1598', '1599', '1610', '1611', '1612', '1613', '1618', '1619', '1620', '1622', '1623', '1624', '1625', '1628', '1629', '1630', '1639', '1640', '1641', '1642', '1648', '1700', '1702', '1703', '1707', '1710', '1712', '1713', '1714', '1715', '1716', '1717', '1718', '1720', '1723', '1724', '1725', '1726', '1727', '1728', '1729', '1731', '1732', '17322', '1733', '17331', '17332', '1734', '17341', '17342', '1735', '1736', '1737', '1738', '1739', '1744', '1745', '1748', '1749', '1759', '1760', '1763', '1764', '1765', '179', '1800', '1808', '1809', '1820', '1830', '1832', '1838', '1840', '1844', '1848', '185', '1869', '1874', '1880', '1881', '1882', '1883', '1884', '1888', '1889', '1890', '1891', '1892', '1893', '1905', '1906', '1910', '1911', '1912', '1913', '1914', '1915', '1916', '1917', '1918', '1919', '1920', '1921', '1922', '193', '1940', '1941', '1943', '1945', '1950', '1953', '1958', '1960', '1961', '1962', '1963', '1965', '1966', '1968', '1969', '1970', '1971', '1972', '1973', '1974', '1975', '1976', '1977', '1978', '1980', '1981', '1982', '1983', '1984', '1985', '1986', '1987', '19881', '19882', '19889', '1990', '1991', '20000', '20002', '20003', '20010', '20011', '20018', '20020', '20021', '20023', '20024', '20028', '20030', '20037', '20040', '20042', '20047', '20048', '20050', '20070', '20071', '20078', '20080', '20148', '20150', '20152', '20158', '20190', '20191', '20192', '20198', '20200', '20201', '20203', '20205', '20206', '20208', '20210', '20212', '20213', '20218', '20240', '20252', '20260', '20270', '20278', '20280', '20281', '20282', '20283', '20285', '20287', '20288', '20300', '20301', '20302', '20310', '20312', '20380', '20382', '20400', '20401', '20402', '20410', '20411', '20412', '20480', '20500', '20501', '20502', '20510', '20511', '20512', '20530', '20590', '20600', '20722', '20780', '20800', '20890', '20891', '20903', '20920', '20921', '20925', '20929', '20930', '20936', '20957', '20961', '20963', '20969', '20971', '20972', '20973', '20974', '20975', '20979', '2102', '2110', '2111', '2112', '2113', '2114', '2115', '2116', '2117', '2118', '2119', '2120', '2121', '2122', '2123', '2125', '2126', '2127', '2130', '2132', '2140', '2141', '2143', '2144', '2148', '2149', '2150', '2153', '2154', '2155', '2163', '2165', '2166', '2167', '2169', '217', '2180', '2181', '2182', '2189', '220', '2230', '2250', '2251', '2252', '2253', '2254', '226', '2270', '2271', '2273', '22801', '22802', '22804', '22809', '2281', '2298', '2300', '2301', '2309', '2312', '2325', '2330', '2331', '2333', '23331', '2334', '2337', '2339', '2352', '2353', '2354', '2355', '2356', '2357', '2358', '2362', '2367', '23691', '2370', '2373', '2375', '2376', '23770', '23771', '23772', '23773', '2379', '2380', '2381', '2382', '2384', '2386', '2387', '23871', '23872', '23873', '23874', '23875', '23876', '23877', '23879', '2388', '2390', '2391', '2392', '2394', '2395', '2396', '2397', '23989', '2409', '2410', '2411', '2419', '24200', '24201', '24210', '24220', '24221', '24230', '24280', '24290', '24291', '243', '2440', '2441', '2442', '2443', '2448', '2449', '2452', '2454', '2459', '2462', '2468', '2469', '24900', '24901', '24911', '24950', '24960', '24980', '24981', '24991', '25001', '25002', '25003', '25010', '25011', '25012', '25013', '25020', '25021', '25022', '25023', '25030', '25031', '25032', '25033', '25040', '25041', '25042', '25043', '25050', '25051', '25052', '25053', '25060', '25061', '25062', '25063', '25070', '25071', '25072', '25073', '25080', '25081', '25082', '25083', '25090', '25091', '25092', '25093', '2511', '2512', '2513', '2515', '2518', '2519', '2520', '25200', '25201', '25202', '25208', '2521', '2528', '2530', '2531', '2532', '2534', '2535', '2536', '2537', '2538', '2539', '2540', '2541', '2548', '2550', '25510', '25512', '2552', '2553', '2554', '25541', '25542', '2555', '2558', '2559', '2561', '25639', '2564', '2571', '2572', '25801', '2581', '2588', '2589', '2592', '2594', '2598', '2599', '260', '261', '262', '2630', '2631', '2638', '2639', '2650', '2651', '2652', '2662', '2669', '267', '2682', '2689', '2690', '2692', '2693', '2698', '2699', '2700', '2702', '2704', '2706', '2710', '2713', '2718', '2720', '2721', '2722', '2725', '2726', '2727', '2728', '2729', '2730', '2731', '2732', '2733', '2734', '2738', '2739', '2740', '27400', '27401', '27402', '27403', '27411', '27482', '2749', '2750', '27501', '27502', '27503', '2751', '2752', '2753', '27540', '27541', '27542', '27549', '2755', '2759', '2760', '2761', '2762', '2763', '2764', '2765', '27650', '27651', '27652', '2766', '27661', '27669', '2767', '2768', '2769', '27702', '27709', '2771', '2773', '27730', '27731', '27739', '2774', '2776', '2777', '27787', '27788', '27789', '2779', '27800', '27801', '27802', '27803', '2781', '2788', '27900', '27901', '27903', '27906', '2793', '2794', '27941', '27949', '27950', '27951', '27952', '27953', '2798', '2800', '2808', '2809', '2810', '2811', '2812', '2818', '2819', '2820', '2821', '2822', '2823', '2824', '28240', '28241', '28243', '28244', '28246', '28249', '2825', '28260', '28262', '28264', '2827', '2829', '2830', '28310', '28311', '28319', '2832', '2839', '2841', '28411', '28412', '28419', '2842', '2848', '28489', '2849', '2851', '28521', '28522', '28529', '2853', '2858', '2859', '2860', '2861', '2862', '2863', '2864', '2865', '2866', '2867', '2869', '2870', '2871', '2872', '2873', '28730', '28731', '28732', '2874', '28749', '2875', '2879', '2880', '28800', '28801', '28802', '28803', '28804', '28809', '2881', '2883', '2884', '28850', '28860', '28861', '28862', '28863', '28866', '2888', '2890', '2891', '2893', '2894', '28950', '28951', '28952', '28959', '2897', '28981', '28982', '28983', '28984', '28989', '2899', '2900', '29010', '29012', '2903', '29040', '29041', '29042', '29043', '2910', '2911', '2912', '2913', '29181', '29189', '2920', '29211', '29212', '29281', '29284', '29285', '29289', '2929', '2930', '2931', '29381', '29382', '29383', '29389', '2939', '2940', '29410', '29411', '29420', '29421', '2948', '2949', '29512', '29520', '29524', '29530', '29532', '29540', '29560', '29562', '29564', '29570', '29572', '29573', '29574', '29575', '29580', '29590', '29592', '29600', '29604', '29614', '29620', '29621', '29622', '29623', '29624', '29625', '29630', '29631', '29632', '29633', '29634', '29640', '29644', '29650', '29653', '2967', '29680', '29681', '29689', '29690', '29699', '2971', '2972', '2978', '2979', '2982', '2989', '29900', '29980', '30000', '30001', '30002', '30011', '30014', '30015', '30016', '30021', '30022', '30029', '3003', '3004', '3007', '3009', '3010', '30113', '30120', '30122', '3013', '3014', '30150', '30151', '3017', '30181', '30183', '3019', '30250', '30285', '3029', '30300', '30301', '30302', '30303', '30390', '30391', '30392', '30393', '30400', '30401', '30402', '30403', '30410', '30411', '30420', '30421', '30422', '30423', '30430', '30431', '30440', '30441', '30443', '30460', '30461', '30470', '30471', '30472', '30473', '30481', '30483', '30490', '30491', '30493', '30500', '30501', '30502', '30503', '3051', '30520', '30521', '30522', '30523', '30530', '30531', '30540', '30541', '30543', '30550', '30551', '30552', '30553', '30560', '30561', '30562', '30563', '30570', '30571', '30573', '30580', '30583', '30590', '30591', '30592', '30593', '3060', '3061', '3062', '3068', '3069', '3071', '30723', '30742', '30747', '30750', '30751', '30752', '30759', '3076', '30781', '30789', '3079', '3080', '3081', '3082', '3083', '3089', '3090', '3091', '30924', '30928', '3093', '3094', '30981', '30989', '3099', '3100', '3101', '3102', '3108', '3109', '311', '31230', '31239', '31289', '3129', '31381', '31400', '31401', '3152', '31539', '3154', '3158', '3159', '317', '3180', '3181', '3182', '319', '3200', '3201', '3202', '3203', '3207', '32082', '32089', '3209', '3210', '3212', '3220', '3221', '3222', '3229', '32341', '32361', '32362', '32372', '3238', '32381', '32382', '3239', '3240', '3241', '325', '326', '32713', '32719', '32720', '32721', '32723', '32724', '32726', '32727', '32737', '32742', '3300', '3301', '3308', '3310', '33119', '3313', '3314', '3315', '33182', '33183', '33189', '3319', '3320', '3321', '3330', '3331', '3332', '3334', '3335', '3336', '3337', '33372', '33379', '33381', '33382', '33384', '33385', '33390', '33391', '33392', '33394', '33399', '3340', '3341', '3342', '3343', '3344', '3348', '3349', '33510', '33511', '33520', '33522', '33523', '3360', '3361', '3363', '3368', '3369', '3371', '33720', '33721', '33722', '33729', '3373', '3379', '3380', '33811', '33812', '33818', '33819', '33821', '33822', '33828', '33829', '3383', '3384', '33900', '33902', '33912', '3393', '33989', '340', '3410', '3411', '34120', '3418', '3419', '34200', '34201', '34202', '34210', '34211', '34280', '34281', '34282', '34290', '34291', '34292', '3430', '3431', '3432', '3434', '3438', '3439', '34400', '34401', '34402', '34403', '34404', '34409', '3441', '3442', '34430', '34440', '34441', '34442', '3445', '34460', '34461', '34481', '34489', '3449', '34500', '34501', '34510', '34511', '3452', '3453', '34540', '34541', '34550', '34551', '34570', '34571', '34580', '34581', '34590', '34591', '34600', '34620', '34670', '34680', '34690', '34691', '34700', '34701', '34710', '3480', '3481', '3482', '3483', '34830', '34831', '34839', '3484', '3485', '3488', '34881', '34882', '34889', '3489', '3490', '3491', '3492', '34931', '34939', '34981', '34982', '34989', '3499', '3501', '3502', '3509', '3510', '3518', '3519', '3522', '3523', '3524', '3526', '3529', '3530', '3536', '3540', '3541', '3542', '3543', '3545', '3548', '3549', '3550', '3551', '3552', '3553', '3556', '35579', '3558', '3559', '3561', '3562', '3568', '3569', '3570', '3571', '3572', '3573', '3574', '3575', '3576', '3577', '3578', '35781', '35782', '35789', '3580', '35800', '35801', '3581', '3588', '3589', '3591', '3592', '35921', '35922', '3593', '3594', '3595', '35971', '35981', '35989', '3599', '36000', '36001', '36002', '36012', '36019', '36040', '36043', '36100', '36106', '36107', '3612', '36189', '3619', '36201', '36202', '36203', '36206', '36207', '36210', '36211', '36221', '36230', '36231', '36232', '36233', '36234', '36241', '36250', '36251', '36252', '36253', '36274', '36275', '36281', '36284', '36315', '36320', '36362', '36372', '36400', '36403', '3643', '36441', '36470', '36510', '36511', '36520', '36522', '36523', '36544', '36563', '36565', '36570', '36573', '36589', '3659', '36616', '36641', '36646', '3668', '3669', '3671', '3674', '36801', '36812', '36813', '36815', '36816', '3682', '36840', '36841', '36844', '36846', '36847', '3688', '3689', '36900', '36901', '36910', '3693', '3694', '36960', '36970', '3698', '3699', '37000', '37005', '37024', '37034', '3708', '3709', '37140', '37143', '37182', '37200', '37203', '37210', '37214', '37230', '37239', '37240', '37272', '37273', '37274', '37275', '37289', '3729', '37300', '37311', '37312', '37313', '3732', '37410', '37430', '37431', '37432', '37443', '37452', '37500', '37515', '37556', '3759', '37601', '37630', '37632', '37633', '37652', '37689', '3769', '37700', '37701', '37702', '37710', '37716', '37730', '37733', '37739', '37741', '37749', '37751', '37775', '37800', '37810', '37842', '37851', '37852', '37853', '37854', '37855', '37871', '37881', '37886', '37887', '3789', '37900', '37909', '37921', '37922', '37923', '37924', '37941', '37942', '37943', '37950', '37952', '37955', '37956', '3798', '37990', '37991', '37992', '37993', '37999', '38003', '38010', '38014', '38015', '38022', '38023', '3804', '38100', '3814', '38201', '3824', '3829', '38300', '3839', '38401', '38420', '38589', '38600', '38610', '38611', '38612', '38619', '3862', '38630', '3869', '3879', '38830', '38832', '38842', '3885', '38861', '38869', '38870', '38871', '38872', '3888', '38900', '38903', '38906', '38910', '38912', '38915', '38918', '38921', '38922', '3897', '3898', '3899', '3910', '3911', '3918', '393', '3940', '3941', '3942', '3949', '3950', '3951', '3952', '3960', '3961', '3962', '3963', '3968', '3969', '3970', '3971', '39890', '39891', '39899', '4010', '4011', '40200', '40201', '40210', '40211', '40290', '40291', '40300', '40301', '40310', '40311', '40390', '40391', '40401', '40403', '40490', '40491', '40492', '40493', '40501', '40511', '40591', '40599', '41000', '41001', '41002', '41010', '41011', '41012', '41020', '41021', '41022', '41031', '41032', '41040', '41041', '41042', '41051', '41061', '41071', '41072', '41081', '41082', '41090', '41091', '41092', '4110', '4111', '41181', '41189', '412', '4131', '4139', '41400', '41402', '41403', '41404', '41405', '41410', '41411', '41412', '41419', '4142', '4148', '4149', '4150', '41511', '41512', '41513', '41519', '4160', '4162', '4168', '4169', '4170', '4171', '4178', '4179', '4200', '42090', '42091', '42099', '4210', '4219', '4220', '42290', '42291', '4230', '4231', '4232', '4233', '4238', '4239', '4240', '4241', '4242', '4243', '42490', '42491', '4251', '42511', '42518', '4253', '4254', '4255', '4257', '4258', '4259', '4260', '42610', '42611', '42612', '42613', '4262', '4263', '4264', '42650', '42651', '42652', '42653', '42654', '4266', '4267', '42682', '42689', '4269', '4270', '4271', '4272', '42732', '42741', '42742', '4275', '42761', '42769', '42781', '42789', '4279', '4281', '42820', '42821', '42822', '42823', '42830', '42831', '42832', '42833', '42840', '42841', '42842', '42843', '4289', '4290', '4291', '4292', '4293', '4294', '4295', '4296', '42971', '42979', '42981', '42983', '42989', '4299', '430', '431', '4320', '4321', '4329', '43300', '43301', '43310', '43311', '43320', '43321', '43330', '43331', '43380', '43381', '43391', '43400', '43401', '43410', '43411', '43490', '43491', '4352', '4358', '4359', '436', '4370', '4371', '4372', '4373', '4374', '4375', '4376', '4377', '4378', '4379', '4380', '43810', '43811', '43812', '43813', '43814', '43819', '43820', '43821', '43822', '43830', '43850', '43852', '43853', '4386', '4387', '43881', '43882', '43883', '43884', '43889', '4389', '4400', '4401', '44020', '44021', '44022', '44023', '44024', '44029', '44030', '44031', '44032', '4404', '4408', '4409', '44100', '44101', '44102', '44103', '4411', '4412', '4413', '4414', '4416', '4417', '4419', '4420', '4421', '4422', '4423', '44281', '44282', '44283', '44284', '44289', '4430', '44321', '44322', '44323', '44324', '44329', '44381', '44382', '44389', '4439', '4440', '44409', '4441', '44421', '44422', '44481', '44489', '4449', '44502', '44581', '44589', '4460', '44621', '44629', '4464', '4465', '4466', '4467', '4470', '4471', '4472', '4473', '4474', '4475', '4476', '44771', '44772', '4478', '4479', '4480', '4481', '4489', '449', '4510', '45119', '4512', '45182', '45183', '45184', '45189', '4519', '452', '4530', '4531', '4532', '4533', '45340', '45341', '45342', '45350', '45351', '45352', '4536', '45371', '45372', '45375', '45376', '45377', '45379', '4538', '45381', '45382', '45383', '45384', '45385', '45386', '45387', '45389', '4539', '4540', '4541', '4549', '4550', '4551', '4552', '4553', '4554', '4555', '4556', '4558', '4559', '4560', '4561', '45620', '45621', '4568', '4570', '4571', '4572', '4578', '4580', '4581', '4582', '45821', '45829', '4588', '4589', '4590', '4592', '45981', '45989', '4599', '4610', '4611', '4612', '4613', '4618', '4619', '462', '463', '46400', '46410', '46411', '46430', '46431', '46450', '46451', '4659', '4660', '46611', '46619', '470', '4710', '4718', '4719', '4720', '4730', '4731', '4732', '4733', '4738', '4739', '47400', '47411', '47412', '4748', '475', '4770', '4778', '4779', '4780', '4781', '47819', '47820', '47821', '47822', '47824', '47825', '47829', '47830', '47831', '47832', '47833', '47834', '4784', '4785', '4786', '47870', '47871', '47874', '47875', '47879', '4789', '4801', '4802', '4808', '4809', '481', '4820', '4821', '4822', '48230', '48231', '48232', '48239', '48240', '48241', '48242', '48249', '48281', '48282', '48283', '48284', '48289', '4829', '4830', '4838', '4841', '4843', '4846', '4847', '4848', '485', '486', '4870', '4871', '4878', '48801', '4881', '490', '4910', '49120', '49121', '49122', '4918', '4919', '4920', '4928', '49300', '49302', '49320', '49321', '49322', '49381', '49382', '49390', '49391', '49392', '4940', '4941', '4957', '4958', '4959', '496', '500', '501', '502', '5060', '5070', '5071', '5078', '5080', '5081', '5082', '5100', '5109', '5110', '5111', '5118', '51181', '51189', '5119', '5120', '5121', '5122', '5128', '51283', '51284', '51289', '5130', '5131', '514', '515', '5160', '5161', '5163', '51631', '51633', '51636', '5164', '5168', '5169', '5172', '5173', '5178', '5180', '5181', '5183', '5184', '5185', '51851', '51852', '51853', '5186', '5187', '51882', '51883', '51884', '51889', '51900', '51901', '51902', '51909', '5191', '51911', '51919', '5192', '5193', '5194', '5198', '5199', '5200', '5206', '52100', '52108', '52109', '52181', '5219', '5224', '5225', '5226', '52310', '5233', '52330', '52331', '52333', '5234', '52340', '52342', '5235', '5238', '5239', '52410', '5244', '52460', '52462', '52469', '52510', '52511', '52512', '5253', '52540', '52550', '52563', '52579', '5258', '5259', '5262', '5264', '5265', '52689', '5269', '5272', '5273', '5275', '5278', '5279', '5280', '52800', '52801', '52809', '5282', '5283', '5285', '5289', '5290', '5291', '5296', '5298', '5300', '53010', '53011', '53012', '53013', '53019', '5302', '53020', '53021', '5303', '5304', '5305', '5306', '5307', '53082', '53084', '53085', '53087', '53089', '5309', '53100', '53101', '53110', '53111', '53120', '53130', '53140', '53141', '53150', '53160', '53170', '53190', '53191', '53200', '53201', '53210', '53211', '53220', '53230', '53240', '53241', '53250', '53251', '53260', '53270', '53290', '53291', '53311', '53340', '53341', '53370', '53390', '53400', '53401', '53410', '53430', '53440', '53441', '53450', '53490', '53500', '53501', '53510', '53511', '53520', '53521', '53530', '53531', '53540', '53541', '53550', '53551', '53560', '53561', '53570', '5361', '5362', '5363', '53640', '53641', '53642', '53649', '5368', '5370', '5371', '5373', '5374', '53781', '53782', '53783', '53784', '53789', '5379', '538', '53989', '5400', '5401', '5409', '541', '542', '5439', '55000', '55010', '55011', '55012', '55090', '55091', '55092', '5511', '55120', '55121', '5513', '5518', '55200', '55202', '5521', '55220', '55221', '55229', '5523', '5528', '5529', '55300', '5531', '55320', '55321', '55329', '5533', '5538', '5539', '5550', '5551', '5552', '5559', '5560', '5561', '5562', '5563', '5564', '5565', '5566', '5568', '5569', '5570', '5571', '5579', '5581', '5582', '5583', '55841', '5589', '5600', '5601', '5602', '56030', '56031', '56032', '56039', '56081', '56089', '5609', '56200', '56201', '56202', '56210', '56211', '56212', '56213', '56400', '56401', '56409', '5641', '5642', '5643', '5647', '56481', '56489', '5650', '5651', '566', '5670', '5671', '5672', '56721', '56722', '56723', '56729', '56731', '56738', '5678', '56781', '56782', '56789', '5679', '5680', '56881', '56882', '56889', '5690', '5691', '5692', '5693', '56941', '56942', '56944', '56949', '5695', '56960', '56961', '56962', '56969', '56971', '56981', '56982', '56983', '56984', '56985', '56986', '56989', '5699', '570', '5710', '5711', '5712', '5713', '57140', '57142', '57149', '5715', '5716', '5718', '5720', '5721', '5722', '5723', '5724', '5728', '5730', '5731', '5733', '5734', '5735', '5738', '5739', '57400', '57401', '57410', '57411', '57420', '57421', '57430', '57431', '57440', '57441', '57450', '57451', '57460', '57461', '57470', '57471', '57480', '57481', '57490', '57491', '5750', '57510', '57511', '57512', '5752', '5753', '5754', '5755', '5756', '5758', '5759', '5761', '5762', '5763', '5764', '5768', '5769', '5770', '5771', '5772', '5778', '5779', '5780', '5781', '5789', '5790', '5793', '5798', '5799', '5804', '58081', '58089', '5809', '5810', '5811', '5812', '58181', '58189', '5819', '5820', '5821', '5822', '5824', '58281', '58289', '5829', '5830', '5831', '5832', '5834', '58381', '58389', '5839', '5845', '5846', '5847', '5848', '585', '5851', '5852', '5853', '5854', '5855', '5856', '5859', '586', '587', '5880', '5881', '5888', '58881', '58889', '59000', '59010', '59011', '5902', '59080', '591', '5920', '5921', '5929', '5932', '5933', '5934', '5935', '59370', '59373', '59381', '59382', '59389', '5939', '5940', '5941', '5950', '5951', '5952', '59582', '59589', '5959', '5960', '5961', '5963', '5964', '59651', '59654', '59655', '59659', '5966', '5967', '5968', '59689', '5969', '5970', '59789', '5982', '5988', '5989', '5991', '5993', '5994', '5995', '5996', '59960', '59969', '5997', '59970', '59971', '59972', '59984', '6000', '60000', '60001', '60010', '60011', '60090', '60091', '6010', '6011', '6012', '6018', '6019', '6021', '6023', '6028', '6031', '6038', '6039', '6040', '60490', '605', '6072', '6073', '60781', '60782', '60783', '60784', '60789', '6079', '60820', '6084', '60883', '60886', '60889', '6089', '6101', '6110', '6111', '6116', '61171', '61172', '61179', '6118', '61189', '6140', '6142', '6143', '6144', '6145', '6146', '6149', '6150', '6151', '6159', '6160', '61610', '6162', '6164', '61650', '6168', '61689', '6169', '6170', '6171', '6172', '6173', '6175', '6179', '6180', '61800', '61801', '61804', '6181', '6182', '6183', '6184', '6185', '6190', '6191', '6192', '6198', '6200', '6201', '6202', '6205', '6208', '6209', '6210', '6212', '62130', '6214', '6218', '62210', '62211', '6235', '6238', '62402', '6248', '6249', '6253', '6256', '6258', '6259', '6260', '6261', '6262', '6264', '6266', '6268', '6269', '6270', '6271', '6272', '6273', '6274', '6279', '6289', '62981', '632', '63320', '63401', '63411', '63412', '63421', '63491', '6390', '6391', '6392', '6396', '6398', '64101', '64121', '64131', '64133', '64201', '64203', '64214', '64224', '64231', '64233', '64234', '64241', '64244', '64251', '64254', '64264', '64271', '64274', '64292', '64294', '64303', '64403', '64421', '64511', '64621', '64623', '64653', '64663', '64664', '64673', '64682', '64683', '64761', '64781', '64782', '64783', '64784', '64793', '64801', '64803', '64804', '64811', '64813', '64814', '64821', '64822', '64823', '64824', '64833', '64842', '64843', '64844', '64861', '64862', '64863', '64864', '64881', '64884', '64891', '64892', '64893', '64894', '64903', '64904', '64913', '64914', '64931', '64934', '64943', '64944', '65101', '65221', '65251', '65261', '65404', '65414', '65421', '65423', '65441', '65451', '65583', '65641', '65651', '65801', '65951', '65961', '65963', '65971', '66001', '66111', '66131', '66331', '66401', '66411', '66524', '66531', '66534', '66541', '66551', '66554', '66574', '66602', '66604', '66612', '66614', '66622', '66624', '66632', '66634', '66822', '66914', '66932', '66934', '66942', '67002', '67004', '67012', '67014', '67154', '67202', '67204', '67323', '67324', '67333', '67401', '67403', '67404', '67412', '67432', '67434', '67451', '67454', '67482', '67484', '677', '6802', '6805', '6806', '6809', '68100', '68101', '68102', '68110', '68111', '6820', '6821', '6822', '6823', '6824', '6825', '6826', '6827', '6828', '6829', '683', '6851', '68601', '68609', '6861', '6868', '6869', '69010', '69018', '6910', '6918', '6920', '6923', '6924', '6926', '69282', '69289', '6929', '6930', '6931', '6940', '6944', '6945', '6948', '6950', '6951', '69510', '69512', '69514', '69515', '6952', '6953', '6954', '69550', '69581', '69589', '6959', '6960', '6961', '6965', '6970', '6981', '6982', '6983', '6984', '6988', '6989', '700', '7010', '7011', '7012', '7013', '7015', '7018', '7019', '7020', '70219', '7030', '7038', '70400', '70409', '7041', '7048', '7051', '70583', '7061', '7062', '7068', '7069', '7070', '70700', '70701', '70702', '70703', '70704', '70705', '70706', '70707', '70709', '70710', '70711', '70712', '70713', '70714', '70715', '70719', '70720', '70721', '70722', '70723', '70724', '70725', '7078', '7079', '7080', '7083', '7088', '7089', '70900', '70901', '70909', '7092', '7093', '7098', '7099', '7100', '7101', '7102', '7103', '7104', '7108', '7109', '71101', '71102', '71103', '71105', '71106', '71107', '71109', '71120', '71155', '71191', '71195', '71216', '71222', '71230', '71233', '71235', '71236', '71237', '71238', '71239', '71296', '7131', '7135', '7138', '7140', '7141', '7142', '71430', '71481', '71489', '7149', '71500', '71509', '71515', '71516', '71530', '71531', '71533', '71534', '71535', '71536', '71537', '71580', '71589', '71590', '71591', '71593', '71594', '71595', '71596', '71597', '71598', '71615', '71650', '71680', '71687', '71690', '71691', '71693', '71694', '71695', '71696', '71697', '71698', '71699', '7176', '71784', '71821', '71828', '71831', '71842', '71843', '71844', '71846', '71847', '71848', '71849', '71855', '71856', '71887', '71888', '71895', '71897', '71901', '71902', '71903', '71905', '71906', '71907', '71909', '71911', '71912', '71913', '71916', '71930', '71940', '71941', '71942', '71943', '71944', '71945', '71946', '71947', '71949', '71950', '71958', '71966', '7197', '71970', '71985', '71986', '71990', '71996', '7200', '7202', '7209', '7210', '7211', '7212', '7213', '72141', '72142', '7217', '7218', '72190', '72191', '7220', '72210', '72211', '7222', '72230', '7224', '72251', '72252', '7226', '72270', '72271', '72272', '72273', '72283', '72290', '72291', '72292', '72293', '7230', '7231', '7234', '7235', '7237', '7238', '72400', '72401', '72402', '72403', '7242', '7243', '7244', '7245', '7246', '7248', '7249', '725', '7260', '72610', '72611', '72612', '72619', '7262', '72632', '72633', '7265', '72660', '72664', '72665', '72669', '72671', '72672', '72673', '72679', '72690', '72691', '72700', '72703', '72704', '72705', '72706', '72709', '7273', '72740', '72743', '72751', '72761', '72762', '72763', '72781', '72782', '72789', '7279', '7280', '72813', '7282', '7283', '7286', '72871', '72882', '72884', '72885', '72886', '72887', '72888', '72889', '7289', '7291', '7292', '72939', '7294', '7295', '7296', '72971', '72972', '72973', '72981', '72982', '72989', '7299', '72990', '72992', '72999', '73001', '73002', '73004', '73005', '73006', '73007', '73008', '73009', '73012', '73013', '73015', '73016', '73017', '73018', '73019', '73020', '73022', '73023', '73024', '73025', '73026', '73027', '73028', '73029', '73088', '7310', '7313', '7318', '7320', '7321', '7324', '7325', '73300', '73309', '73311', '73313', '73314', '73315', '73316', '73319', '73329', '73341', '73342', '73345', '73349', '7335', '7336', '73381', '73382', '73390', '73399', '734', '7350', '7354', '7355', '7359', '73600', '73605', '73620', '73629', '73630', '7366', '73671', '73672', '73679', '73681', '73689', '73710', '73711', '73712', '73719', '73722', '73729', '73730', '73732', '73734', '73739', '73741', '73743', '7380', '73810', '73819', '7383', '7384', '7385', '7386', '7388', '74100', '74101', '74190', '74193', '7420', '7421', '7422', '7423', '7424', '7429', '74320', '74349', '74361', '74365', '74401', '74423', '74441', '74510', '74512', '7452', '7454', '7455', '74560', '74561', '74569', '7458', '7459', '74601', '74602', '74609', '7461', '7462', '7463', '7464', '7466', '7467', '74681', '74682', '74683', '74684', '74685', '74686', '74687', '74689', '7469', '7470', '74710', '74711', '74720', '74721', '74722', '74729', '7473', '74732', '74740', '74741', '74742', '74749', '7475', '74761', '74762', '74763', '74769', '74781', '74782', '74783', '7480', '7481', '7482', '7483', '7485', '74861', '74869', '74900', '74910', '74912', '75019', '75029', '7503', '7504', '7509', '7510', '7511', '7512', '7513', '7514', '7515', '75160', '75162', '75169', '7517', '7520', '75251', '75261', '75263', '75289', '7530', '75310', '75311', '75312', '75313', '75314', '75317', '75319', '75321', '75322', '75323', '75329', '7533', '7534', '7539', '7541', '7542', '75461', '75481', '75482', '75489', '75501', '75502', '75521', '75526', '75531', '75550', '75559', '75563', '75567', '75610', '75612', '75614', '75616', '75617', '75619', '7564', '75651', '7566', '75679', '75683', '75689', '7569', '7570', '7571', '75732', '75733', '75739', '7580', '7581', '7585', '7586', '7587', '75881', '7589', '7590', '7592', '7593', '7595', '7596', '75981', '75982', '75983', '75989', '7600', '76072', '76075', '76076', '76079', '7608', '7612', '7615', '7617', '7621', '7622', '7623', '7625', '7630', '76382', '76383', '76384', '76402', '76403', '76405', '76406', '76407', '76408', '76409', '76492', '76493', '76494', '76495', '76496', '76497', '76498', '76499', '76501', '76502', '76503', '76504', '76505', '76510', '76512', '76513', '76514', '76515', '76516', '76517', '76518', '76519', '76522', '76523', '76524', '76525', '76526', '76527', '76528', '76529', '7661', '76621', '7670', '7671', '76719', '7673', '7676', '7678', '7687', '7689', '769', '7700', '7701', '77012', '77018', '7702', '7703', '7704', '7705', '7706', '7707', '7708', '77081', '77082', '77083', '77089', '7712', '7714', '7716', '7717', '7718', '77181', '77183', '7721', '77210', '77211', '77212', '77213', '77214', '7724', '7726', '7728', '7730', '7731', '7732', '7742', '77430', '77431', '77439', '7744', '7746', '7750', '7755', '7756', '7757', '7758', '7760', '7761', '7762', '7764', '7765', '7766', '7767', '7771', '7774', '7775', '7776', '7778', '7780', '7783', '7784', '7786', '7788', '7790', '7792', '7793', '7795', '7797', '7798', '77981', '77982', '77989', '78001', '78002', '78003', '78009', '7801', '7802', '78033', '78039', '7804', '78050', '78051', '78052', '78053', '78055', '78057', '78059', '7806', '78060', '78061', '78062', '78064', '78065', '78066', '78071', '78072', '78079', '7808', '7809', '78093', '78094', '78096', '78097', '78099', '7810', '7811', '7812', '7813', '7816', '7818', '78194', '78199', '7820', '7821', '7822', '7823', '7824', '7825', '78261', '7827', '7828', '7830', '7831', '78321', '7833', '78340', '78341', '78343', '7835', '7836', '7837', '7840', '7841', '7842', '7843', '78441', '78442', '78443', '78449', '7845', '78451', '78459', '78461', '78469', '7847', '78492', '7850', '7851', '7852', '7854', '78550', '78551', '78552', '78559', '7856', '7859', '78600', '78601', '78602', '78603', '78604', '78605', '78606', '78607', '78609', '7861', '7862', '7863', '78630', '78639', '7864', '78650', '78651', '78652', '78659', '7866', '7868', '7869', '78701', '78702', '78703', '78704', '7871', '7872', '78720', '78721', '78722', '78723', '78724', '78729', '7873', '7876', '78760', '78791', '78799', '7881', '78820', '78821', '78829', '78830', '78831', '78832', '78833', '78834', '78837', '78838', '78839', '78841', '78842', '78843', '7885', '78863', '78864', '78869', '7888', '78891', '78899', '78900', '78901', '78902', '78903', '78904', '78905', '78906', '78907', '78909', '7891', '7892', '78930', '78933', '78934', '78937', '78939', '7895', '78951', '78959', '78960', '78961', '79001', '79009', '7901', '7902', '79021', '79022', '79029', '7904', '7905', '7906', '7907', '7908', '79092', '79093', '79094', '79095', '79099', '7910', '7913', '7915', '7916', '7919', '7920', '7921', '7929', '7930', '7931', '79311', '79319', '7932', '7934', '7935', '7936', '7937', '79380', '79381', '79389', '79399', '79400', '79401', '79402', '79409', '7942', '79431', '79439', '7944', '7945', '7948', '7949', '79500', '79510', '79539', '7955', '79551', '79552', '79579', '79589', '7960', '7961', '7962', '7963', '7964', '7969', '7990', '79901', '79902', '7991', '79923', '79929', '7993', '7994', '79953', '79959', '79989', '80000', '80001', '80002', '80006', '80009', '80010', '80011', '80012', '80015', '80016', '80020', '80021', '80022', '80024', '80025', '80026', '80031', '80034', '80036', '80061', '80071', '80075', '80076', '80080', '80085', '80100', '80101', '80102', '80105', '80106', '80110', '80111', '80112', '80114', '80115', '80116', '80120', '80121', '80122', '80123', '80124', '80125', '80126', '80130', '80131', '80132', '80135', '80136', '80141', '80142', '80145', '80146', '80150', '80152', '80160', '80161', '80165', '80170', '80171', '80172', '80175', '80176', '80180', '80182', '80196', '8020', '8021', '80220', '80221', '80222', '80223', '80224', '80225', '80226', '80227', '80228', '80229', '80230', '80234', '80235', '80236', '80238', '80239', '8024', '8025', '8026', '8027', '8028', '8029', '80311', '80312', '80315', '80316', '80320', '80321', '80322', '80324', '80325', '80326', '80332', '80336', '80360', '80362', '80375', '80400', '80412', '80420', '80421', '80422', '80423', '80425', '80426', '80432', '80435', '80436', '80466', '80476', '80500', '80501', '80502', '80503', '80504', '80505', '80506', '80507', '80508', '8052', '8053', '8054', '8055', '8056', '8058', '80600', '80601', '80602', '80603', '80604', '80605', '80606', '80607', '80608', '80609', '80616', '80620', '80621', '80622', '80623', '80624', '80625', '80626', '80629', '80631', '8064', '8065', '80660', '80662', '8068', '80700', '80701', '80702', '80703', '80704', '80705', '80706', '80707', '80708', '80709', '80711', '8072', '8073', '8074', '8075', '8076', '8080', '8081', '8082', '8083', '80841', '80842', '80843', '80849', '80851', '80853', '80859', '8088', '8089', '81000', '81001', '81002', '81003', '81010', '81012', '81100', '81101', '81102', '81103', '81109', '81110', '81200', '81201', '81202', '81203', '81209', '81210', '81212', '81220', '81221', '81230', '81231', '81240', '81241', '81242', '81243', '81244', '81249', '81250', '81251', '81254', '81259', '81301', '81302', '81303', '81305', '81307', '81308', '81311', '81313', '81314', '81321', '81322', '81323', '81331', '81332', '81333', '81341', '81342', '81343', '81344', '81352', '81353', '81354', '81381', '81382', '81383', '81391', '81392', '81393', '81400', '81401', '81402', '81403', '81405', '81406', '81407', '81409', '81411', '81412', '81419', '81500', '81501', '81502', '81503', '81509', '81510', '81512', '81513', '81519', '81600', '81601', '81602', '81610', '81611', '81612', '81613', '8170', '8171', '8190', '8191', '82001', '82002', '82003', '82009', '82019', '82020', '82021', '82022', '82032', '8208', '8209', '82100', '82101', '82110', '82111', '82120', '82121', '82122', '82123', '82129', '82130', '82131', '82132', '82133', '82139', '8220', '8221', '82300', '82301', '82302', '82310', '82312', '82320', '82321', '82322', '82330', '82332', '82380', '82381', '82382', '82390', '82392', '8240', '8241', '8242', '8243', '8244', '8245', '8246', '8247', '8248', '8249', '8250', '8251', '82520', '82521', '82522', '82523', '82524', '82525', '82529', '82531', '82532', '82534', '82535', '8260', '8261', '8280', '8281', '8300', '83100', '83101', '83103', '83104', '83109', '83200', '83202', '83209', '83300', '83301', '83303', '83305', '83309', '83313', '83400', '83402', '83500', '83501', '83503', '8360', '8361', '8362', '8363', '8364', '83650', '83651', '83661', '8370', '8371', '83801', '83809', '83813', '83901', '83902', '83903', '83904', '83905', '83906', '83907', '83908', '83920', '83921', '83942', '83961', '83969', '8404', '8406', '8407', '8408', '8409', '8418', '84200', '84209', '8438', '8439', '8441', '8442', '8448', '8449', '84500', '84503', '84509', '8460', '8461', '8469', '8470', '8471', '8472', '8479', '8488', '8500', '85011', '8502', '8504', '8505', '8509', '85100', '85101', '85102', '85103', '85105', '85106', '85121', '85125', '85135', '85140', '85141', '85142', '85146', '85150', '85162', '85175', '85180', '85181', '85182', '85185', '85186', '85189', '85190', '85194', '85196', '85200', '85201', '85202', '85203', '85204', '85205', '85206', '85209', '85211', '85216', '85220', '85221', '85222', '85223', '85224', '85225', '85226', '85229', '85231', '85232', '85239', '85240', '85241', '85242', '85245', '85246', '85300', '85301', '85302', '85304', '85305', '85306', '85309', '85310', '85316', '85401', '85402', '85404', '85405', '85406', '8600', '8601', '8602', '8603', '8604', '8605', '86100', '86101', '86102', '86103', '86110', '86112', '86113', '86120', '86121', '86122', '86130', '86131', '86132', '8620', '8621', '86222', '86229', '86232', '86239', '8629', '8630', '8631', '86320', '86321', '86329', '86330', '86331', '86339', '86340', '86342', '86343', '86344', '86345', '86349', '86350', '86351', '86352', '86353', '86354', '86355', '86381', '86383', '86384', '86389', '86394', '86399', '86400', '86401', '86402', '86403', '86404', '86405', '86409', '86411', '86412', '86413', '86414', '86415', '86419', '86500', '86501', '86502', '86503', '86504', '86509', '86510', '86511', '86512', '86513', '86600', '86601', '86602', '86603', '86610', '86612', '86613', '8670', '8671', '8672', '8676', '8678', '8679', '86800', '86801', '86802', '86803', '86804', '86809', '86810', '86812', '86813', '86814', '8690', '8700', '8701', '8702', '8703', '8704', '8708', '8711', '8712', '87200', '87201', '87202', '87261', '87269', '8728', '8730', '8731', '87320', '87321', '87322', '87330', '87340', '87341', '87342', '87343', '87344', '87349', '87350', '87351', '87352', '87353', '87354', '87359', '87360', '87361', '87363', '87364', '87365', '87371', '87373', '87374', '8738', '87402', '87412', '8744', '8745', '8748', '8749', '8750', '8751', '8760', '8770', '8780', '8782', '8783', '8785', '8786', '8787', '8790', '8792', '8793', '8794', '8795', '8796', '8797', '8798', '8799', '88000', '88001', '88002', '88003', '88012', '88013', '88020', '88023', '88029', '88100', '88101', '88102', '88110', '88111', '88112', '88120', '88121', '88122', '8820', '8821', '8822', '8830', '8831', '8832', '8840', '8850', '8860', '8870', '8871', '8872', '8900', '8901', '8902', '8910', '8911', '8912', '8920', '8921', '8922', '8930', '8940', '8960', '8961', '8970', '8972', '8973', '8977', '90001', '90003', '9001', '90081', '90082', '90089', '9010', '9011', '9012', '9013', '90140', '90142', '90181', '90182', '9019', '9020', '90220', '90221', '90222', '90223', '90226', '90229', '90241', '90242', '90251', '90253', '90254', '90287', '90289', '9029', '90301', '9031', '9032', '9033', '9035', '9038', '9039', '9040', '9041', '9042', '90441', '90442', '90451', '90453', '9047', '9050', '9051', '9052', '9053', '9054', '9055', '9060', '9061', '9063', '9064', '9065', '9067', '9068', '9070', '9072', '9074', '9080', '9081', '9082', '9083', '9089', '9090', '9092', '9093', '9094', '9095', '9099', '9100', '9102', '9108', '9110', '9112', '9114', '9116', '9120', '9125', '9130', '9132', '9140', '9142', '9160', '9162', '9164', '9165', '9170', '9171', '9172', '9173', '9180', '9181', '9189', '9190', '9191', '920', '9210', '9211', '9212', '9213', '9219', '9220', '9221', '9222', '92231', '92232', '9224', '9228', '9229', '92300', '92303', '92310', '92311', '92320', '92321', '9239', '92400', '92401', '92410', '92411', '92420', '92421', '9243', '9245', '9248', '9249', '9252', '92612', '92619', '92701', '92710', '92720', '9273', '9278', '92800', '92801', '92810', '92811', '92820', '92821', '9301', '9309', '9330', '9331', '9340', '9341', '9348', '9349', '9351', '9352', '936', '937', '938', '9390', '9392', '9393', '94126', '94127', '94128', '94203', '94204', '94209', '94214', '94224', '94232', '94321', '94335', '94401', '94420', '94423', '94425', '94504', '94522', '94524', '94536', '9462', '9471', '9472', '9473', '94800', '9500', '9509', '9510', '9513', '9514', '9515', '9517', '95200', '95203', '95204', '95205', '95206', '95207', '95208', '95209', '95214', '95219', '9528', '9529', '9531', '9534', '9535', '9540', '9551', '9552', '9553', '9556', '9557', '9559', '9561', '9562', '9563', '9569', '9570', '9571', '9578', '9579', '9580', '9581', '9582', '9583', '9584', '9585', '9587', '9588', '95891', '95892', '95893', '95899', '95901', '95909', '95911', '95912', '95914', '95919', '9592', '9595', '9596', '9597', '9598', '9599', '9600', '9604', '9610', '9623', '9627', '9630', '9631', '9635', '9642', '96500', '96501', '96502', '96509', '9651', '9654', '96561', '96569', '9658', '9661', '9663', '9664', '9670', '9671', '9678', '9679', '9680', '9683', '9684', '9685', '9690', '96903', '96905', '96909', '9691', '9693', '9694', '9695', '9696', '9697', '96972', '96979', '9698', '9701', '9708', '97081', '9711', '9712', '9713', '9720', '9721', '9722', '9724', '9726', '9729', '9744', '9747', '9752', '9754', '9755', '9760', '9766', '9767', '9773', '9778', '9779', '9800', '9802', '9809', '9828', '9831', '9832', '9839', '9851', '9858', '986', '9878', '9879', '9881', '9890', '9894', '9895', '98989', '9899', '990', '9911', '9912', '9913', '9916', '9920', '9941', '9942', '9947', '9948', '9950', '9951', '9952', '99527', '99529', '9953', '99561', '99564', '99565', '99567', '9957', '99580', '99581', '99582', '99583', '99586', '99589', '99590', '99591', '99592', '99593', '99594', '99601', '99602', '99603', '99604', '99609', '9961', '9962', '99631', '99639', '9964', '99640', '99641', '99642', '99643', '99644', '99645', '99647', '99649', '99652', '99653', '99654', '99656', '99657', '99659', '99661', '99662', '99663', '99664', '99665', '99666', '99667', '99668', '99669', '99670', '99671', '99672', '99673', '99674', '99675', '99676', '99677', '99678', '99679', '99681', '99682', '99684', '99685', '99686', '99687', '99688', '99689', '99693', '99700', '99701', '99702', '99709', '9971', '9972', '9973', '99731', '99732', '99739', '9974', '99741', '99749', '9975', '99762', '99769', '99771', '99772', '99779', '99791', '99799', '9980', '99800', '99801', '99802', '99809', '99811', '99812', '99813', '9982', '9983', '99830', '99831', '99832', '99833', '9984', '99851', '99859', '9986', '99881', '99883', '99889', '9991', '9992', '9993', '99931', '99932', '99933', '99939', '9995', '99971', '9998', '99982', '99984', '99989', '9999', 'E0000', 'E0008', 'E0009', 'E0010', 'E0020', 'E0026', 'E0030', 'E0031', 'E0032', 'E0039', 'E0064', 'E0069', 'E0071', 'E0073', 'E0076', 'E0080', 'E0089', 'E0138', 'E0139', 'E0162', 'E0190', 'E0291', 'E030', 'E8012', 'E8042', 'E8052', 'E8058', 'E8120', 'E8121', 'E8122', 'E8123', 'E8126', 'E8127', 'E8129', 'E8130', 'E8131', 'E8132', 'E8136', 'E8138', 'E8141', 'E8145', 'E8146', 'E8147', 'E8150', 'E8151', 'E8152', 'E8160', 'E8161', 'E8162', 'E8163', 'E8169', 'E8170', 'E8171', 'E8178', 'E8180', 'E8181', 'E8182', 'E8187', 'E8188', 'E8189', 'E8190', 'E8191', 'E8192', 'E8196', 'E8197', 'E8199', 'E8200', 'E8210', 'E8211', 'E8212', 'E8217', 'E8219', 'E8230', 'E8231', 'E8232', 'E8238', 'E8240', 'E8241', 'E8242', 'E8248', 'E8249', 'E8250', 'E8251', 'E8252', 'E8257', 'E8258', 'E8261', 'E8282', 'E8298', 'E8311', 'E8318', 'E8341', 'E8343', 'E8348', 'E8381', 'E8384', 'E8415', 'E848', 'E8490', 'E8493', 'E8494', 'E8495', 'E8496', 'E8497', 'E8498', 'E8499', 'E8500', 'E8501', 'E8502', 'E8503', 'E8504', 'E8508', 'E851', 'E8528', 'E8529', 'E8532', 'E8538', 'E8540', 'E8541', 'E8542', 'E8543', 'E8548', 'E8550', 'E8551', 'E8552', 'E8555', 'E8556', 'E857', 'E8580', 'E8581', 'E8582', 'E8583', 'E8585', 'E8586', 'E8588', 'E8600', 'E8603', 'E8609', 'E8619', 'E8624', 'E8637', 'E8641', 'E8654', 'E8655', 'E8663', 'E8668', 'E8669', 'E8694', 'E8698', 'E8700', 'E8704', 'E8705', 'E8706', 'E8708', 'E8709', 'E8710', 'E8714', 'E8716', 'E8718', 'E8744', 'E8748', 'E8762', 'E8764', 'E8767', 'E8768', 'E8769', 'E8780', 'E8781', 'E8782', 'E8783', 'E8784', 'E8785', 'E8786', 'E8788', 'E8789', 'E8790', 'E8791', 'E8792', 'E8794', 'E8796', 'E8797', 'E8798', 'E8799', 'E8801', 'E8809', 'E8810', 'E8811', 'E882', 'E8830', 'E8839', 'E8840', 'E8841', 'E8842', 'E8843', 'E8844', 'E8845', 'E8846', 'E8849', 'E8850', 'E8852', 'E8853', 'E8854', 'E8859', 'E8860', 'E887', 'E888', 'E8880', 'E8881', 'E8888', 'E8889', 'E8902', 'E8908', 'E8918', 'E899', 'E9000', 'E9001', 'E9010', 'E9018', 'E9019', 'E9051', 'E9060', 'E9063', 'E9064', 'E9068', 'E9081', 'E9102', 'E9108', 'E911', 'E912', 'E9132', 'E9138', 'E915', 'E916', 'E9170', 'E9173', 'E9174', 'E9175', 'E9177', 'E9178', 'E9179', 'E918', 'E9190', 'E9192', 'E9194', 'E9198', 'E9200', 'E9201', 'E9203', 'E9205', 'E9208', 'E9209', 'E9211', 'E9220', 'E9225', 'E9229', 'E9240', 'E9241', 'E9242', 'E9248', 'E9250', 'E9262', 'E927', 'E9270', 'E9274', 'E9278', 'E9283', 'E9288', 'E9289', 'E9290', 'E9291', 'E9292', 'E9293', 'E9294', 'E9295', 'E9298', 'E9299', 'E9300', 'E9301', 'E9303', 'E9304', 'E9305', 'E9306', 'E9307', 'E9308', 'E9309', 'E9310', 'E9313', 'E9314', 'E9315', 'E9317', 'E9318', 'E9319', 'E9320', 'E9322', 'E9323', 'E9324', 'E9325', 'E9328', 'E9329', 'E9330', 'E9331', 'E9334', 'E9335', 'E9340', 'E9342', 'E9343', 'E9344', 'E9345', 'E9346', 'E9347', 'E9348', 'E9351', 'E9352', 'E9353', 'E9354', 'E9356', 'E9357', 'E9358', 'E9359', 'E9360', 'E9361', 'E9363', 'E9364', 'E9370', 'E9378', 'E9379', 'E9380', 'E9382', 'E9383', 'E9384', 'E9385', 'E9386', 'E9387', 'E9389', 'E9390', 'E9391', 'E9392', 'E9393', 'E9394', 'E9395', 'E9397', 'E9398', 'E9399', 'E9401', 'E9408', 'E9411', 'E9412', 'E9413', 'E9419', 'E9420', 'E9421', 'E9422', 'E9424', 'E9425', 'E9426', 'E9429', 'E9430', 'E9433', 'E9438', 'E9441', 'E9443', 'E9444', 'E9445', 'E9447', 'E9451', 'E9452', 'E9453', 'E9455', 'E9457', 'E9460', 'E9463', 'E9466', 'E9470', 'E9478', 'E9479', 'E9496', 'E9500', 'E9501', 'E9502', 'E9503', 'E9504', 'E9505', 'E9506', 'E9507', 'E9509', 'E9530', 'E954', 'E9550', 'E9554', 'E9559', 'E956', 'E9571', 'E9579', 'E9580', 'E9581', 'E9583', 'E9585', 'E9588', 'E9589', 'E959', 'E9600', 'E9601', 'E9620', 'E9650', 'E9651', 'E9654', 'E966', 'E9670', 'E9673', 'E9674', 'E9677', 'E9679', 'E9682', 'E9687', 'E9688', 'E9689', 'E969', 'E970', 'E975', 'E976', 'E9800', 'E9801', 'E9803', 'E9804', 'E9805', 'E9809', 'E9821', 'E9850', 'E9854', 'E986', 'E9871', 'E9888', 'E9889', 'E989', 'E9991', 'V011', 'V016', 'V0179', 'V0189', 'V020', 'V023', 'V024', 'V0251', 'V0252', 'V0253', 'V0254', 'V0259', 'V0261', 'V0262', 'V029', 'V037', 'V0381', 'V0382', 'V0389', 'V045', 'V0481', 'V0482', 'V052', 'V053', 'V058', 'V061', 'V063', 'V066', 'V071', 'V074', 'V08', 'V090', 'V091', 'V0950', 'V0971', 'V0980', 'V0981', 'V0990', 'V0991', 'V1000', 'V1001', 'V1002', 'V1003', 'V1004', 'V1005', 'V1006', 'V1007', 'V1009', 'V1011', 'V1012', 'V1020', 'V1021', 'V1022', 'V1029', 'V103', 'V1041', 'V1042', 'V1043', 'V1044', 'V1046', 'V1047', 'V1049', 'V1050', 'V1051', 'V1052', 'V1053', 'V1059', 'V1060', 'V1061', 'V1062', 'V1069', 'V1071', 'V1072', 'V1079', 'V1081', 'V1082', 'V1083', 'V1084', 'V1085', 'V1086', 'V1087', 'V1088', 'V1089', 'V109', 'V1090', 'V1091', 'V113', 'V118', 'V1201', 'V1202', 'V1203', 'V1204', 'V1209', 'V1241', 'V1242', 'V1251', 'V1252', 'V1253', 'V1254', 'V1255', 'V1259', 'V1261', 'V1271', 'V1272', 'V1279', 'V1301', 'V1302', 'V1309', 'V1351', 'V1365', 'V1369', 'V138', 'V1381', 'V1389', 'V140', 'V141', 'V142', 'V143', 'V145', 'V146', 'V148', 'V1501', 'V1502', 'V1504', 'V1505', 'V1507', 'V1508', 'V1509', 'V151', 'V152', 'V1529', 'V153', 'V1541', 'V1542', 'V155', 'V1551', 'V1552', 'V1553', 'V1559', 'V1581', 'V1582', 'V1584', 'V1586', 'V1588', 'V1589', 'V160', 'V161', 'V162', 'V163', 'V1641', 'V1642', 'V1643', 'V1649', 'V1651', 'V1652', 'V1659', 'V166', 'V167', 'V168', 'V169', 'V170', 'V171', 'V173', 'V174', 'V1741', 'V1749', 'V175', 'V180', 'V181', 'V1811', 'V1819', 'V182', 'V183', 'V1851', 'V1859', 'V1869', 'V189', 'V195', 'V198', 'V202', 'V230', 'V239', 'V2501', 'V252', 'V2541', 'V2651', 'V2652', 'V270', 'V271', 'V272', 'V289', 'V290', 'V291', 'V293', 'V3000', 'V3001', 'V301', 'V3100', 'V3101', 'V3201', 'V3401', 'V400', 'V403', 'V4031', 'V420', 'V421', 'V422', 'V425', 'V426', 'V427', 'V4281', 'V4282', 'V4283', 'V4289', 'V430', 'V431', 'V433', 'V434', 'V435', 'V4361', 'V4363', 'V4364', 'V4365', 'V4382', 'V440', 'V441', 'V442', 'V443', 'V444', 'V4450', 'V4451', 'V4459', 'V446', 'V448', 'V4501', 'V4502', 'V4509', 'V451', 'V4511', 'V4512', 'V452', 'V453', 'V454', 'V4561', 'V4569', 'V4571', 'V4572', 'V4573', 'V4574', 'V4575', 'V4576', 'V4577', 'V4578', 'V4579', 'V4581', 'V4582', 'V4585', 'V4586', 'V4587', 'V4588', 'V4589', 'V461', 'V4611', 'V462', 'V463', 'V486', 'V489', 'V4960', 'V4961', 'V4962', 'V4963', 'V4965', 'V4966', 'V4971', 'V4972', 'V4973', 'V4975', 'V4976', 'V4981', 'V4983', 'V4984', 'V4985', 'V4986', 'V4987', 'V4989', 'V502', 'V5041', 'V5049', 'V51', 'V510', 'V5301', 'V5302', 'V5309', 'V5331', 'V5332', 'V5339', 'V536', 'V537', 'V5391', 'V5399', 'V5401', 'V5410', 'V5411', 'V5412', 'V5413', 'V5415', 'V5416', 'V5417', 'V5419', 'V5423', 'V5427', 'V5481', 'V5482', 'V5489', 'V549', 'V550', 'V551', 'V552', 'V553', 'V554', 'V555', 'V556', 'V558', 'V560', 'V561', 'V568', 'V580', 'V581', 'V5811', 'V5812', 'V583', 'V5831', 'V5841', 'V5843', 'V5844', 'V5849', 'V5861', 'V5862', 'V5863', 'V5864', 'V5865', 'V5866', 'V5867', 'V5869', 'V5873', 'V5881', 'V5883', 'V600', 'V601', 'V602', 'V604', 'V610', 'V6104', 'V6110', 'V6129', 'V6142', 'V618', 'V620', 'V624', 'V625', 'V626', 'V6282', 'V6284', 'V6285', 'V6289', 'V632', 'V638', 'V6406', 'V641', 'V642', 'V643', 'V644', 'V6441', 'V6442', 'V6443', 'V652', 'V653', 'V6542', 'V6549', 'V655', 'V660', 'V667', 'V671', 'V672', 'V694', 'V698', 'V707', 'V708', 'V714', 'V716', 'V721', 'V7281', 'V741', 'V8381', 'V8389', 'V8401', 'V8409', 'V8489', 'V850', 'V851', 'V8521', 'V8522', 'V8523', 'V8524', 'V8525', 'V8530', 'V8531', 'V8532', 'V8533', 'V8534', 'V8535', 'V8536', 'V8537', 'V8538', 'V8539', 'V854', 'V8541', 'V8542', 'V8543', 'V8544', 'V8545', 'V860', 'V861', 'V8709', 'V872', 'V8741', 'V8801', 'V8811', 'V8812', 'V8821', 'V9010', 'V9081', 'V9089'] will be ignored\n",
            "  .format(sorted(unknown, key=str)))\n",
            "/usr/local/lib/python3.6/dist-packages/sklearn/preprocessing/_label.py:987: UserWarning: unknown class(es) ['0049', '0051', '0074', '00804', '00845', '0085', '00862', '00869', '0088', '0090', '0091', '01164', '01186', '01190', '01193', '01194', '01300', '01304', '01354', '01504', '01803', '01880', '01894', '01896', '0218', '0239', '0270', '0272', '0309', '0310', '0311', '0312', '0340', '0380', '03810', '03811', '03812', '03819', '0382', '0383', '03840', '03841', '03842', '03843', '03844', '03849', '0388', '0389', '0391', '0398', '0400', '04082', '04100', '04101', '04102', '04103', '04104', '04105', '04109', '04110', '04111', '04112', '04119', '0412', '0413', '0414', '04149', '0415', '0416', '0417', '04182', '04183', '04184', '04185', '04186', '04189', '0419', '042', '0463', '0470', '0479', '0491', '0498', '0499', '0520', '0521', '0529', '0530', '05312', '05314', '05319', '05379', '0539', '05410', '05419', '0542', '0543', '05440', '05472', '05479', '0549', '0579', '05829', '05881', '0622', '0701', '07020', '07022', '07030', '07031', '07032', '07041', '07044', '07051', '07052', '07054', '07070', '07071', '075', '07799', '07811', '07819', '0785', '0790', '0793', '0794', '07951', '0796', '07989', '07998', '07999', '08240', '0840', '0849', '0860', '08881', '08882', '0940', '0949', '0971', '0993', '1100', '1101', '1103', '1104', '1105', '1106', '1108', '1110', '1118', '1119', '1120', '1121', '1122', '1123', '1124', '1125', '11281', '11284', '11289', '1129', '11590', '11599', '1173', '1174', '1175', '1177', '1179', '118', '1208', '1209', '1211', '1231', '1270', '1272', '1300', '1307', '1309', '13101', '13109', '1330', '135', '1363', '1369', '1373', '138', '1398', '1409', '1410', '1418', '1419', '1440', '1452', '1455', '1463', '1468', '1469', '1478', '1479', '1481', '1489', '1490', '1500', '1501', '1503', '1504', '1505', '1508', '1509', '1510', '1511', '1512', '1514', '1516', '1518', '1519', '1520', '1521', '1522', '1530', '1531', '1532', '1533', '1534', '1536', '1537', '1538', '1539', '1540', '1541', '1542', '1543', '1548', '1550', '1551', '1552', '1560', '1561', '1562', '1568', '1569', '1570', '1571', '1572', '1573', '1574', '1578', '1579', '1580', '1588', '1598', '1599', '1610', '1611', '1612', '1618', '1619', '1620', '1622', '1623', '1624', '1625', '1628', '1629', '1630', '1638', '1639', '1640', '1641', '1643', '1649', '1700', '1707', '1710', '1713', '1714', '1715', '1723', '1724', '1725', '1726', '1727', '1728', '1729', '1732', '1733', '1735', '1737', '17372', '1738', '1743', '1748', '1749', '1761', '1768', '1769', '1808', '1809', '1820', '1830', '1844', '185', '1874', '1881', '1882', '1884', '1885', '1888', '1889', '1890', '1891', '1892', '1893', '1898', '1911', '1912', '1913', '1914', '1915', '1917', '1918', '1919', '1921', '1922', '193', '1940', '1950', '1951', '1952', '1958', '1960', '1961', '1962', '1963', '1965', '1966', '1968', '1969', '1970', '1971', '1972', '1973', '1974', '1975', '1976', '1977', '1978', '1980', '1981', '1982', '1983', '1984', '1985', '1986', '1987', '19881', '19882', '19889', '1990', '1991', '20000', '20001', '20002', '20010', '20020', '20021', '20022', '20023', '20033', '20040', '20050', '20060', '20070', '20080', '20150', '20152', '20158', '20190', '20192', '20198', '20200', '20201', '20210', '20211', '20240', '20243', '20260', '20270', '20278', '20280', '20281', '20282', '20283', '20285', '20288', '20300', '20301', '20302', '20312', '20380', '20400', '20402', '20410', '20412', '20500', '20501', '20502', '20510', '20511', '20600', '20780', '20800', '20890', '20891', '20917', '20921', '20929', '20943', '20951', '20972', '20973', '20979', '2101', '2102', '2104', '2111', '2112', '2113', '2114', '2115', '2116', '2118', '2119', '2125', '2126', '2127', '2130', '2137', '2142', '2143', '2148', '2154', '2155', '2156', '2163', '2165', '2180', '2181', '2182', '2189', '220', '2218', '2230', '2250', '2251', '2252', '2254', '226', '2270', '2271', '2273', '22802', '22804', '22809', '2301', '2302', '2306', '2308', '2329', '2330', '2337', '2353', '2354', '2355', '2356', '2357', '2367', '23691', '2370', '2371', '2373', '2375', '23770', '23771', '23772', '23773', '2381', '2382', '2384', '2386', '2387', '23871', '23872', '23873', '23875', '23876', '23879', '2390', '2391', '2392', '2395', '2396', '2397', '2409', '2410', '2411', '2419', '24200', '24220', '24280', '24290', '24291', '243', '2440', '2441', '2442', '2443', '2448', '2449', '2452', '2458', '2462', '2468', '2469', '24900', '24911', '24980', '24981', '24990', '25001', '25002', '25003', '25010', '25011', '25012', '25013', '25020', '25022', '25030', '25032', '25033', '25040', '25041', '25042', '25043', '25050', '25051', '25052', '25053', '25060', '25061', '25062', '25063', '25070', '25071', '25072', '25073', '25080', '25081', '25082', '25083', '25090', '25092', '25093', '2511', '2512', '2513', '2515', '2518', '25200', '25201', '25202', '25208', '2521', '2528', '2530', '2532', '2533', '2534', '2535', '2536', '2537', '2538', '2539', '2550', '25510', '2552', '2554', '25541', '25542', '2555', '2558', '2559', '2561', '25639', '2564', '2572', '2588', '2594', '2599', '261', '262', '2630', '2631', '2638', '2639', '2651', '2652', '2662', '2669', '2682', '2689', '2690', '2698', '2699', '2700', '2704', '2706', '2707', '2710', '2713', '2720', '2721', '2722', '2726', '2728', '2731', '2732', '2733', '2734', '2738', '2739', '2740', '27400', '27401', '27403', '27482', '27489', '2749', '2750', '27501', '27503', '27509', '2752', '2753', '27541', '27542', '27549', '2755', '2758', '2760', '2761', '2762', '2763', '2764', '2765', '27650', '27651', '27652', '2766', '27661', '27669', '2767', '2768', '2769', '27700', '2771', '2773', '27730', '27739', '2774', '2777', '27787', '27788', '2779', '27800', '27801', '27802', '27803', '2781', '2788', '27900', '27901', '27903', '27906', '2794', '27949', '27950', '27951', '27952', '27953', '2798', '2800', '2808', '2809', '2810', '2811', '2812', '2813', '2819', '2822', '2823', '28240', '28249', '2825', '28260', '28262', '2830', '28311', '28319', '2832', '2839', '2840', '2841', '28411', '28412', '28419', '2842', '2848', '28489', '2849', '2851', '28521', '28522', '28529', '2853', '2858', '2859', '2860', '2861', '2862', '2863', '2864', '2865', '28652', '2866', '2867', '2869', '2870', '2871', '2873', '28730', '28731', '2874', '28749', '2875', '2879', '2880', '28800', '28802', '28803', '28804', '28809', '2882', '2883', '2884', '28850', '28851', '28859', '28860', '28861', '28862', '28863', '28866', '2888', '2890', '2891', '2894', '28951', '28952', '28959', '2897', '28981', '28982', '28983', '28984', '28989', '2899', '2900', '29012', '2903', '29040', '29041', '29043', '2910', '2911', '2912', '2913', '29181', '2920', '29211', '29212', '29281', '29282', '29284', '29285', '29289', '2929', '2930', '2931', '29389', '2939', '2940', '29410', '29411', '29420', '29421', '2948', '2949', '29502', '29520', '29522', '29530', '29532', '29540', '29544', '29560', '29562', '29564', '29570', '29572', '29574', '29580', '29590', '29592', '29600', '29620', '29623', '29624', '29630', '29632', '29633', '29634', '29640', '29644', '29650', '29651', '29654', '2967', '29680', '29689', '29690', '2971', '2978', '2980', '2989', '29900', '29980', '29990', '30000', '30001', '30002', '30009', '30011', '30012', '30014', '30021', '30022', '30029', '3003', '3004', '30089', '3009', '30120', '30122', '3013', '3014', '30151', '3017', '30181', '30183', '3019', '30250', '30300', '30301', '30302', '30303', '30390', '30391', '30392', '30393', '30400', '30401', '30402', '30403', '30410', '30411', '30420', '30421', '30422', '30423', '30430', '30431', '30440', '30441', '30443', '30460', '30470', '30471', '30473', '30480', '30490', '30491', '30493', '30500', '30501', '30502', '30503', '3051', '30520', '30521', '30523', '30540', '30541', '30550', '30551', '30552', '30553', '30560', '30561', '30562', '30563', '30570', '30571', '30590', '30591', '30593', '3061', '3071', '30749', '30750', '30751', '30752', '30759', '30781', '30789', '3079', '3083', '3090', '30924', '30928', '30981', '30989', '3099', '3100', '3101', '3102', '3108', '3109', '311', '31230', '31234', '31239', '3129', '31400', '31401', '31531', '3158', '3159', '316', '317', '3180', '3181', '3182', '319', '3200', '3201', '3202', '3203', '3207', '32082', '3209', '3210', '3229', '32341', '32351', '32361', '3238', '32381', '32382', '3239', '3240', '3241', '325', '326', '32721', '32723', '32725', '32726', '32727', '32737', '32742', '3310', '33119', '3313', '3314', '3315', '33182', '33183', '33189', '3319', '3320', '3321', '3330', '3331', '3332', '3337', '33372', '33382', '33385', '33390', '33392', '33394', '33399', '3340', '3341', '3342', '3344', '33520', '33522', '33523', '3360', '3361', '3363', '3368', '3369', '3370', '33701', '33709', '3371', '33720', '33721', '33722', '33729', '3373', '3379', '33811', '33812', '33818', '33819', '33821', '33828', '33829', '3383', '3384', '33900', '33920', '340', '3410', '34120', '3418', '3419', '34200', '34201', '34202', '34210', '34211', '34212', '34280', '34281', '34282', '34290', '34291', '34292', '3430', '3431', '3432', '3439', '34400', '34401', '34403', '34404', '34409', '3441', '3442', '34431', '34440', '34460', '34461', '34481', '34489', '3449', '34500', '34501', '34510', '34511', '3453', '34540', '34541', '34550', '34570', '34571', '34580', '34581', '34590', '34591', '34600', '34620', '34680', '34690', '34693', '34700', '34710', '3480', '3481', '3482', '3483', '34830', '34831', '34839', '3484', '3485', '3488', '34881', '34882', '34889', '3489', '3490', '3492', '34931', '34981', '34982', '34989', '3499', '3501', '3509', '3510', '3518', '3519', '3526', '3530', '3536', '3540', '3541', '3542', '3543', '3548', '3549', '3551', '3552', '3553', '35571', '3558', '3559', '3561', '3562', '3568', '3569', '3570', '3572', '3573', '3574', '3575', '3576', '3577', '35781', '35782', '3580', '35800', '35801', '3581', '3590', '3591', '3592', '35921', '3593', '3594', '35971', '35981', '35989', '3599', '36000', '36001', '36003', '36101', '36105', '36189', '3619', '36201', '36202', '36203', '36204', '36205', '36206', '36210', '36213', '36221', '36230', '36232', '36234', '36250', '36251', '36281', '36283', '36289', '3629', '36320', '36362', '3643', '36500', '36510', '36511', '36512', '36520', '36552', '36563', '36565', '36570', '36589', '3659', '3668', '3669', '3674', '36800', '36811', '36813', '36815', '36816', '3682', '36840', '36844', '36846', '36859', '3688', '3689', '36900', '36910', '3693', '3694', '36960', '36970', '3698', '3699', '37000', '37034', '3709', '37140', '37189', '37200', '37203', '37230', '37240', '37272', '37273', '37300', '37311', '3739', '37410', '37420', '37430', '37432', '37443', '37489', '3749', '37501', '37515', '37520', '37530', '37556', '37601', '37603', '37632', '37633', '37689', '37700', '37701', '37710', '37716', '37730', '37739', '37741', '37749', '37751', '37775', '37810', '37820', '37850', '37851', '37852', '37853', '37854', '37855', '37871', '37882', '37887', '3789', '37900', '37909', '37921', '37923', '37940', '37941', '37943', '37950', '37956', '3798', '37991', '37992', '37999', '38000', '38010', '38021', '38022', '3804', '38100', '3814', '38201', '3829', '38300', '38302', '3831', '38321', '3839', '38420', '38582', '38589', '38600', '38610', '38611', '38612', '38630', '38830', '38860', '38861', '38869', '38872', '3888', '38903', '38905', '38908', '38910', '38915', '38917', '38922', '3897', '3898', '3899', '390', '3910', '3911', '393', '3940', '3941', '3942', '3949', '3950', '3951', '3952', '3960', '3961', '3962', '3963', '3968', '3970', '39890', '39891', '4010', '4011', '40200', '40290', '40291', '40300', '40301', '40310', '40311', '40390', '40391', '40400', '40411', '40490', '40491', '40492', '40493', '40501', '40591', '40599', '41001', '41002', '41011', '41012', '41021', '41022', '41031', '41041', '41042', '41051', '41061', '41071', '41072', '41081', '41082', '41090', '41091', '41092', '4110', '4111', '41181', '41189', '412', '4131', '4139', '41400', '41402', '41404', '41405', '41410', '41411', '41412', '41419', '4142', '4144', '4148', '4149', '4150', '41511', '41512', '41513', '41519', '4160', '4162', '4168', '4169', '4178', '4200', '42090', '42091', '42099', '4210', '4219', '4220', '42290', '42291', '42293', '4230', '4231', '4232', '4233', '4238', '4239', '4240', '4241', '4242', '4243', '42490', '4251', '42511', '42518', '4253', '4254', '4255', '4257', '4258', '4259', '4260', '42610', '42611', '42612', '42613', '4262', '4263', '4264', '42650', '42651', '42652', '42653', '4266', '4267', '42682', '42689', '4269', '4270', '4271', '4272', '42732', '42741', '42742', '4275', '42761', '42769', '42781', '42789', '4279', '4281', '42820', '42821', '42822', '42823', '42830', '42831', '42832', '42833', '42840', '42841', '42842', '42843', '4289', '4290', '4291', '4293', '4294', '4295', '4296', '42971', '42979', '42983', '42989', '4299', '430', '431', '4321', '4329', '43300', '43301', '43310', '43311', '43320', '43321', '43330', '43331', '43380', '43381', '43400', '43401', '43410', '43411', '43490', '43491', '4350', '4351', '4352', '4358', '4359', '436', '4370', '4371', '4372', '4373', '4374', '4375', '4376', '4377', '4378', '4379', '4380', '43810', '43811', '43812', '43813', '43819', '43820', '43821', '43822', '43830', '43840', '43850', '43853', '4386', '4387', '43881', '43882', '43883', '43884', '43885', '43889', '4389', '4400', '4401', '44020', '44021', '44022', '44023', '44024', '44029', '44030', '44031', '44032', '4404', '4408', '4409', '44100', '44101', '44102', '44103', '4411', '4412', '4413', '4414', '4416', '4417', '4419', '4420', '4421', '4422', '4423', '44281', '44282', '44283', '44284', '44289', '4430', '4431', '44321', '44322', '44323', '44324', '44329', '44381', '44389', '4439', '4440', '44409', '4441', '44421', '44422', '44481', '44489', '44502', '44581', '4460', '44620', '44621', '44629', '4464', '4465', '4466', '4470', '4471', '4472', '4474', '4476', '44772', '44773', '4478', '4479', '4480', '449', '4510', '45111', '45119', '4512', '45181', '45182', '45183', '45184', '45189', '452', '4530', '4532', '4533', '45340', '45341', '45342', '45350', '45351', '45352', '4536', '45371', '45372', '45374', '45375', '45377', '45379', '4538', '45381', '45382', '45383', '45384', '45385', '45386', '45387', '45389', '4539', '4541', '4548', '4549', '4550', '4551', '4552', '4553', '4554', '4555', '4556', '4558', '4559', '4560', '4561', '45620', '45621', '4568', '4570', '4571', '4578', '4580', '4581', '4582', '45821', '45829', '4588', '4589', '4590', '45910', '4592', '45981', '45989', '4599', '4610', '4612', '4618', '4619', '462', '46400', '46410', '46411', '46430', '46431', '46450', '46451', '4659', '4660', '46611', '46619', '470', '4710', '4718', '4719', '4720', '4730', '4731', '4732', '4733', '4738', '4739', '47411', '4749', '475', '4770', '4772', '4778', '4779', '4780', '4781', '47819', '47820', '47822', '47824', '47825', '47829', '47830', '47831', '47832', '47833', '47834', '4784', '4785', '4786', '47874', '47875', '47879', '4801', '4808', '4809', '481', '4820', '4821', '4822', '48230', '48232', '48239', '48240', '48241', '48242', '48249', '48281', '48282', '48283', '48284', '48289', '4829', '4830', '4838', '4841', '4846', '4847', '485', '486', '4870', '4871', '48801', '4881', '490', '49120', '49121', '49122', '4918', '4919', '4920', '4928', '49300', '49301', '49302', '49320', '49321', '49322', '49381', '49390', '49391', '49392', '4940', '4941', '4958', '4959', '496', '500', '501', '502', '5060', '5070', '5071', '5078', '5080', '5081', '5100', '5109', '5110', '5111', '5118', '51181', '51189', '5119', '5120', '5121', '5128', '51283', '51284', '51289', '5130', '5131', '514', '515', '5160', '5163', '51631', '51634', '5168', '5169', '5172', '5173', '5178', '5180', '5181', '5183', '5184', '5185', '51851', '51852', '51853', '5186', '5187', '51882', '51883', '51884', '51889', '51901', '51902', '51909', '5191', '51911', '51919', '5192', '5193', '5194', '5198', '5199', '5206', '52100', '52109', '52181', '5224', '5225', '52310', '5233', '52330', '52331', '52333', '52340', '52342', '5239', '52400', '52460', '52469', '52489', '52510', '52511', '52550', '5258', '5259', '5260', '5264', '5269', '5272', '5275', '5277', '5280', '52800', '52801', '52809', '5282', '5283', '5285', '5289', '5293', '5296', '5298', '5300', '53010', '53011', '53012', '53019', '5302', '53020', '53021', '5303', '5304', '5305', '5306', '5307', '53082', '53084', '53085', '53087', '53089', '53100', '53110', '53130', '53140', '53141', '53150', '53170', '53171', '53190', '53200', '53210', '53220', '53230', '53240', '53241', '53250', '53260', '53261', '53270', '53290', '53300', '53340', '53370', '53390', '53400', '53440', '53441', '53490', '53500', '53501', '53510', '53511', '53530', '53531', '53540', '53541', '53550', '53551', '53560', '53561', '5361', '5362', '5363', '53640', '53641', '53642', '53649', '5368', '5369', '5370', '5371', '5373', '5374', '53782', '53783', '53784', '53789', '5379', '53989', '5400', '5401', '5409', '541', '542', '5439', '55000', '55001', '55010', '55011', '55012', '55090', '55091', '55092', '55093', '55100', '5513', '55200', '5521', '55220', '55221', '55229', '5523', '5528', '5531', '55320', '55321', '55329', '5533', '5538', '5539', '5550', '5551', '5552', '5559', '5562', '5563', '5564', '5566', '5568', '5569', '5570', '5571', '5579', '5581', '5582', '5589', '5600', '5601', '5602', '56032', '56039', '56081', '56089', '5609', '56200', '56202', '56210', '56211', '56212', '56213', '56400', '56409', '5641', '5642', '5643', '5644', '5646', '5647', '56481', '56489', '5650', '5651', '566', '5672', '56721', '56722', '56723', '56729', '56731', '56738', '5678', '56781', '56782', '56789', '5679', '5680', '56881', '56889', '5690', '5691', '5692', '5693', '56941', '56942', '56944', '56949', '5695', '56961', '56962', '56969', '56981', '56982', '56983', '56984', '56985', '56987', '56989', '5699', '570', '5710', '5711', '5712', '5713', '57142', '57149', '5715', '5716', '5718', '5719', '5720', '5721', '5722', '5723', '5724', '5728', '5730', '5731', '5733', '5734', '5735', '5738', '5739', '57400', '57401', '57410', '57411', '57420', '57421', '57430', '57431', '57440', '57441', '57450', '57451', '57460', '57461', '57470', '57471', '57480', '57481', '57490', '57491', '5750', '57510', '57511', '57512', '5753', '5754', '5755', '5756', '5758', '5759', '5761', '5762', '5763', '5764', '5768', '5769', '5770', '5771', '5772', '5778', '5779', '5780', '5781', '5789', '5790', '5793', '5798', '5799', '5800', '58081', '58089', '5809', '58181', '58189', '5819', '5821', '5822', '58281', '58289', '5829', '5831', '58381', '58389', '5839', '5845', '5846', '5848', '585', '5851', '5852', '5853', '5854', '5855', '5856', '5859', '586', '587', '5880', '5881', '5888', '58881', '58889', '5890', '59000', '59001', '59010', '5902', '59080', '591', '5920', '5921', '5931', '5932', '5933', '5934', '5935', '59373', '59381', '59382', '59389', '5939', '5941', '5942', '5949', '5950', '5951', '59581', '59582', '59589', '5959', '5960', '5961', '5963', '5964', '59651', '59654', '59659', '5966', '5967', '5968', '59689', '5969', '5970', '59800', '5981', '5988', '5989', '5991', '5993', '5994', '59960', '59969', '5997', '59970', '59971', '59972', '59984', '6000', '60000', '60001', '60090', '60091', '6010', '6011', '6012', '6019', '6021', '6038', '6039', '6040', '60490', '60499', '605', '6072', '6073', '60782', '60783', '60784', '60785', '60789', '6079', '6080', '6084', '60883', '60886', '60889', '6089', '6101', '6110', '6111', '61172', '61179', '61189', '6119', '6143', '6144', '6146', '6151', '6159', '6160', '61610', '6164', '6170', '6171', '6175', '6178', '6179', '6180', '61801', '6181', '6184', '61882', '6191', '6198', '6201', '6202', '6203', '6205', '6208', '6210', '62130', '6218', '62210', '62211', '6232', '6238', '6248', '6249', '6251', '6253', '6254', '6255', '6256', '62570', '6258', '6259', '6262', '6264', '6266', '6268', '6270', '6271', '6272', '6273', '6279', '62989', '63380', '63401', '63491', '63512', '63522', '63572', '6390', '6398', '64103', '64204', '64233', '64243', '64251', '64252', '64254', '64261', '64263', '64264', '64293', '64313', '64403', '64421', '64623', '64653', '64663', '64664', '64671', '64681', '64761', '64781', '64783', '64784', '64813', '64821', '64822', '64823', '64824', '64831', '64841', '64842', '64844', '64852', '64861', '64864', '64881', '64883', '64891', '64892', '64893', '64894', '64903', '64913', '64931', '64933', '65101', '65221', '65261', '65404', '65411', '65421', '65423', '65441', '65444', '65571', '65583', '65651', '65661', '65701', '65821', '65921', '65951', '65953', '65961', '65971', '66021', '66401', '66411', '66534', '66551', '66561', '66612', '66624', '66632', '66634', '66911', '66921', '66932', '66934', '66944', '67004', '67202', '67323', '67414', '67432', '67434', '67454', '67482', '67484', '677', '6802', '6805', '6806', '68100', '68102', '68110', '68111', '6820', '6821', '6822', '6823', '6824', '6825', '6826', '6827', '6828', '6829', '683', '684', '6850', '6851', '68601', '68609', '6861', '6869', '69010', '6910', '6918', '6923', '6924', '6926', '69279', '69282', '6929', '6930', '6944', '6945', '6948', '6950', '6951', '69513', '69514', '6952', '6953', '6954', '69550', '69551', '69589', '6959', '6960', '6961', '6962', '6963', '6970', '6979', '6981', '6983', '6988', '6989', '700', '7010', '7011', '7012', '7015', '7018', '7019', '7020', '70219', '7028', '7030', '7038', '70400', '70401', '7041', '7048', '7051', '70521', '70583', '7061', '7062', '7068', '7070', '70700', '70701', '70702', '70703', '70704', '70705', '70706', '70707', '70709', '70710', '70711', '70712', '70713', '70714', '70715', '70719', '70720', '70721', '70722', '70723', '70724', '70725', '7078', '7080', '7083', '7088', '7089', '70901', '70909', '7092', '7093', '7094', '7098', '7099', '7100', '7101', '7102', '7103', '7104', '7105', '7108', '7109', '71101', '71102', '71103', '71105', '71106', '71107', '71108', '71109', '71198', '71213', '71226', '71230', '71233', '71236', '7131', '7135', '7140', '7141', '7142', '71430', '71481', '7149', '71500', '71516', '71531', '71534', '71535', '71536', '71537', '71580', '71589', '71590', '71591', '71592', '71593', '71595', '71596', '71598', '71616', '71666', '71680', '71690', '71691', '71695', '71696', '71697', '71698', '71699', '7176', '71831', '71835', '71840', '71844', '71845', '71849', '71865', '71887', '71888', '71891', '71901', '71902', '71903', '71904', '71906', '71912', '71916', '71918', '71940', '71941', '71942', '71943', '71945', '71946', '71947', '71949', '71965', '7197', '7200', '7202', '7209', '7210', '7211', '7212', '7213', '72142', '7217', '7218', '72190', '7220', '72210', '72211', '7222', '7224', '72252', '7226', '72271', '72272', '72283', '72290', '72291', '72292', '72293', '7230', '7231', '7234', '7238', '72400', '72401', '72402', '72403', '72409', '7242', '7243', '7244', '7245', '7248', '7249', '725', '7260', '72610', '72611', '72633', '7265', '72660', '72691', '72700', '72703', '72704', '72705', '72709', '7271', '7273', '72741', '72742', '72743', '72751', '72761', '72762', '72789', '7280', '72813', '7282', '7283', '7286', '72871', '72879', '72883', '72884', '72885', '72886', '72887', '72888', '72889', '7289', '7291', '7292', '72930', '72939', '7294', '7295', '72971', '72972', '72973', '72981', '72982', '72989', '7299', '72991', '72992', '73004', '73005', '73006', '73007', '73008', '73012', '73013', '73015', '73016', '73017', '73018', '73024', '73025', '73026', '73027', '73028', '73088', '73089', '7310', '7313', '7318', '7323', '7324', '73300', '73301', '73302', '73309', '73311', '73312', '73313', '73314', '73315', '73319', '73320', '73329', '7333', '73342', '73349', '7336', '73381', '73382', '73390', '73393', '73396', '73399', '734', '7354', '7358', '73609', '7366', '73670', '73672', '73679', '73710', '73711', '73712', '73719', '73730', '73732', '73733', '73734', '73739', '73741', '73743', '7380', '73819', '7383', '7384', '7385', '74100', '74103', '74190', '7421', '7423', '7424', '74259', '7429', '74361', '74362', '74363', '74429', '74442', '7450', '7452', '7454', '7455', '7458', '74601', '74602', '7462', '7463', '7464', '7466', '7467', '74681', '74685', '74686', '74687', '74689', '7469', '7470', '74710', '74721', '74729', '7473', '74740', '74742', '74749', '74761', '74763', '74769', '74781', '7481', '7482', '7483', '7485', '74900', '7503', '7504', '7508', '7509', '7510', '7514', '7515', '75162', '75169', '7517', '7520', '75219', '7522', '7523', '75261', '7530', '75310', '75312', '75313', '75314', '75315', '75317', '75319', '75329', '7533', '7534', '7535', '75432', '75461', '75470', '75481', '75489', '75530', '75550', '75559', '75563', '75564', '7560', '75612', '75613', '75614', '75615', '75619', '7563', '75651', '7566', '75679', '75683', '75689', '7570', '75739', '7580', '75839', '7585', '7586', '7587', '7589', '7590', '7592', '7595', '7596', '75981', '75982', '75989', '7608', '7613', '7624', '7626', '7630', '7631', '7633', '76383', '76389', '76402', '76404', '76405', '76406', '76407', '76408', '76493', '76495', '76496', '76497', '76498', '76502', '76503', '76504', '76505', '76508', '76512', '76513', '76514', '76515', '76516', '76517', '76518', '76519', '76522', '76523', '76524', '76525', '76526', '76527', '76528', '76529', '7661', '76621', '7670', '7671', '7676', '7678', '7683', '7686', '7689', '769', '7700', '7701', '77012', '77016', '7702', '7705', '7706', '7707', '7708', '77081', '77082', '77083', '77089', '7714', '7716', '7717', '7718', '77181', '77182', '77183', '7720', '77210', '77211', '77212', '77213', '7722', '7726', '7730', '7731', '7732', '7742', '7746', '7750', '7755', '7756', '7757', '7758', '7761', '7764', '7765', '7766', '7774', '7775', '7776', '7783', '7784', '7786', '7788', '7789', '7790', '7793', '7795', '7798', '77981', '77989', '78001', '78003', '78009', '7801', '7802', '78033', '78039', '7804', '78050', '78052', '78054', '78057', '7806', '78060', '78061', '78062', '78064', '78065', '78066', '78071', '78072', '78079', '7808', '7809', '78093', '78094', '78096', '78097', '78099', '7810', '7811', '7812', '7813', '7816', '7818', '78194', '78199', '7820', '7821', '7822', '7823', '7824', '7825', '78261', '78262', '7827', '7830', '7831', '78321', '7833', '78340', '78341', '78343', '7835', '7836', '7837', '7840', '7841', '7842', '7843', '78441', '78442', '78449', '7845', '78451', '78459', '78469', '7847', '78491', '78492', '78499', '7850', '7851', '7852', '7854', '78550', '78551', '78552', '78559', '7856', '78601', '78602', '78603', '78604', '78605', '78606', '78607', '78609', '7861', '7862', '7863', '78630', '78639', '7864', '78650', '78651', '78652', '78659', '7866', '7868', '78701', '78702', '78703', '7871', '7872', '78720', '78721', '78722', '78723', '78729', '7873', '7874', '7876', '78760', '78791', '78799', '7881', '78820', '78821', '78829', '78830', '78831', '78832', '78838', '78839', '78841', '78842', '78843', '7885', '78862', '78863', '78864', '78865', '7887', '78891', '78899', '78900', '78901', '78902', '78903', '78904', '78905', '78906', '78907', '78909', '7891', '7892', '78930', '78931', '78932', '78933', '78939', '78947', '7895', '78951', '78959', '79001', '7901', '7902', '79021', '79029', '7904', '7905', '7906', '7907', '7908', '79092', '79093', '79094', '79099', '7910', '7912', '7915', '7919', '7921', '7930', '7931', '79311', '79319', '7933', '7934', '7935', '7937', '79389', '79399', '79402', '79409', '79415', '7942', '79431', '79439', '7944', '7945', '7946', '7947', '7948', '7949', '79509', '7955', '79551', '79579', '7960', '7961', '7962', '7963', '7964', '79671', '7990', '79902', '7991', '7992', '7993', '7994', '79953', '79955', '79989', '80000', '80001', '80006', '80012', '80013', '80020', '80021', '80022', '80023', '80024', '80025', '80026', '80030', '80031', '80060', '80061', '80070', '80071', '80082', '80100', '80101', '80102', '80106', '80109', '80110', '80111', '80112', '80113', '80115', '80116', '80119', '80120', '80121', '80122', '80124', '80125', '80126', '80130', '80131', '80132', '80135', '80136', '80144', '80160', '80161', '80171', '80175', '80176', '80180', '8020', '8021', '80220', '80221', '80222', '80223', '80224', '80225', '80226', '80227', '80229', '80235', '80236', '80238', '80239', '8024', '8026', '8028', '8029', '80311', '80312', '80315', '80320', '80321', '80322', '80326', '80332', '80336', '80341', '80350', '80366', '80372', '80376', '80400', '80421', '80422', '80425', '80426', '80432', '80470', '80475', '80485', '80500', '80501', '80502', '80503', '80504', '80505', '80506', '80507', '80508', '8052', '8054', '8055', '8056', '80600', '80601', '80602', '80604', '80605', '80606', '80607', '80609', '80610', '80616', '80620', '80621', '80625', '80626', '80629', '80631', '80639', '8064', '80660', '80700', '80701', '80702', '80703', '80704', '80705', '80706', '80707', '80708', '80709', '80710', '80718', '8072', '8073', '8074', '8075', '8076', '8080', '8082', '8083', '80841', '80842', '80843', '80849', '80851', '8088', '8089', '81000', '81001', '81002', '81003', '81010', '81100', '81101', '81102', '81103', '81109', '81200', '81201', '81203', '81209', '81219', '81220', '81221', '81231', '81240', '81241', '81242', '81244', '81250', '81252', '81254', '81301', '81303', '81305', '81311', '81318', '81321', '81322', '81323', '81332', '81333', '81341', '81342', '81343', '81344', '81351', '81352', '81353', '81354', '81382', '81400', '81401', '81402', '81403', '81404', '81406', '81408', '81409', '81418', '81419', '81500', '81501', '81502', '81503', '81504', '81509', '81512', '81519', '81600', '81601', '81602', '81611', '81612', '82002', '82003', '82009', '82020', '82021', '82022', '82030', '82032', '8208', '82100', '82101', '82111', '82120', '82121', '82122', '82123', '82129', '82130', '82131', '82133', '82139', '8220', '8221', '82300', '82301', '82302', '82310', '82312', '82320', '82321', '82322', '82330', '82331', '82332', '82380', '82382', '82390', '82392', '8240', '8241', '8242', '8244', '8245', '8246', '8247', '8248', '8249', '8250', '8251', '82521', '82522', '82523', '82525', '82531', '82535', '82539', '8260', '8261', '8300', '83100', '83101', '83104', '83114', '83200', '83209', '83311', '83400', '83401', '83402', '83411', '83500', '83501', '8360', '8362', '83650', '83651', '83652', '8370', '83805', '83900', '83901', '83902', '83903', '83905', '83908', '83920', '83942', '83961', '8400', '8404', '8409', '84200', '8440', '8441', '8448', '8449', '84500', '8461', '8470', '8500', '85011', '8505', '8509', '85100', '85101', '85102', '85106', '85131', '85140', '85141', '85142', '85146', '85180', '85181', '85182', '85183', '85185', '85186', '85189', '85200', '85201', '85202', '85205', '85206', '85211', '85219', '85220', '85221', '85222', '85224', '85225', '85226', '85229', '85231', '85239', '85240', '85241', '85256', '85300', '85301', '85302', '85305', '85306', '85402', '85403', '85405', '85406', '8600', '8601', '8602', '8603', '8604', '8605', '86101', '86103', '86112', '86113', '86121', '86122', '86131', '86132', '8620', '8621', '86222', '86229', '86232', '86239', '8630', '8631', '86321', '86329', '86331', '86339', '86343', '86345', '86349', '86352', '86381', '86384', '86389', '86393', '86399', '86400', '86401', '86402', '86403', '86404', '86405', '86409', '86412', '86413', '86414', '86415', '86419', '86500', '86501', '86502', '86503', '86504', '86509', '86512', '86513', '86514', '86600', '86601', '86602', '86603', '86611', '86612', '86613', '8670', '8671', '8672', '8676', '8678', '86801', '86802', '86803', '86804', '86809', '86810', '86812', '86813', '86814', '86819', '8691', '8700', '8702', '8708', '8711', '87200', '87201', '87202', '87264', '8728', '8730', '8731', '87320', '87322', '87323', '87340', '87341', '87342', '87343', '87344', '87349', '87352', '87359', '87361', '87363', '87364', '87365', '87371', '87373', '87374', '8738', '87402', '87411', '87412', '8744', '8745', '8748', '8749', '8750', '8760', '8761', '8770', '8780', '8792', '8794', '8795', '8797', '8798', '88000', '88001', '88002', '88013', '88020', '88023', '88100', '88101', '88102', '88110', '88111', '88112', '88120', '88121', '88122', '8820', '8821', '8822', '8830', '8831', '8832', '8840', '8850', '8860', '8870', '8872', '8873', '8875', '8900', '8901', '8910', '8911', '8912', '8920', '8921', '8930', '8970', '90001', '90002', '90003', '9001', '90081', '90082', '90089', '9009', '9010', '9011', '9013', '90141', '90181', '90210', '90220', '90222', '90223', '90225', '90233', '90234', '90241', '90242', '90253', '90254', '90289', '9031', '9032', '9033', '9034', '9035', '9038', '9039', '9040', '90441', '90442', '90451', '90453', '9047', '9050', '9051', '9053', '9054', '9056', '9064', '9068', '9070', '9072', '9081', '9082', '9086', '9089', '9092', '9093', '9094', '9099', '9100', '9104', '9110', '9112', '9120', '9122', '9130', '9142', '9152', '9160', '9161', '9162', '9165', '9171', '9181', '9190', '9196', '9198', '920', '9210', '9211', '9212', '9213', '9219', '9221', '9222', '92231', '92232', '9224', '9228', '92300', '92301', '92303', '92309', '92320', '9233', '92400', '92401', '92410', '92411', '9248', '9249', '92710', '92720', '9273', '9308', '932', '9331', '9340', '9341', '9348', '9349', '9351', '9352', '936', '938', '9392', '94100', '94108', '94127', '94204', '94320', '94325', '94421', '94423', '94425', '94519', '94522', '94532', '9462', '9472', '94800', '94840', '94850', '9500', '9510', '9513', '9514', '9515', '95200', '95202', '95203', '95204', '95205', '95206', '95208', '9528', '9530', '9534', '9551', '9552', '9556', '9557', '9558', '9563', '9570', '9571', '9579', '9581', '9582', '9584', '9585', '9587', '9588', '95891', '95892', '95893', '95899', '95901', '95909', '95912', '9593', '9594', '9597', '9599', '9600', '9605', '9617', '9619', '9623', '9630', '9642', '96500', '96501', '96502', '96509', '9651', '9654', '96561', '9658', '9661', '9663', '9670', '9678', '9679', '9680', '9684', '9685', '9690', '96905', '96909', '9691', '9693', '9694', '9695', '9696', '9697', '96971', '96972', '9698', '9708', '97081', '9711', '9713', '9720', '9721', '9724', '9725', '9726', '9729', '9733', '9735', '9752', '9766', '9778', '9779', '9800', '9802', '9809', '9828', '9839', '9879', '9881', '9894', '98989', '990', '9911', '9912', '9916', '9920', '9941', '9947', '9949', '9950', '9951', '9952', '99527', '99529', '9953', '99561', '99563', '99569', '9957', '99581', '99583', '99585', '99590', '99591', '99592', '99593', '99594', '99601', '99602', '99604', '99609', '9961', '9962', '99631', '99639', '9964', '99640', '99641', '99642', '99643', '99644', '99645', '99649', '99651', '99652', '99653', '99656', '99657', '99659', '99661', '99662', '99663', '99664', '99665', '99666', '99667', '99668', '99669', '99671', '99672', '99673', '99674', '99675', '99676', '99677', '99678', '99679', '99680', '99681', '99682', '99684', '99685', '99686', '99687', '99689', '99693', '99701', '99702', '99709', '9971', '9972', '9973', '99731', '99732', '99739', '9974', '99749', '9975', '99762', '99769', '99779', '99791', '99799', '9980', '99800', '99801', '99802', '99809', '99811', '99812', '99813', '9982', '9983', '99830', '99831', '99832', '9984', '99851', '99859', '9986', '99881', '99883', '99889', '9989', '9991', '9992', '9993', '99931', '99932', '99933', '99939', '9994', '99941', '9995', '9998', '99982', '99989', '9999', 'E0008', 'E0009', 'E0010', 'E0011', 'E0020', 'E0026', 'E0039', 'E0060', 'E0061', 'E0062', 'E0070', 'E0076', 'E0299', 'E8041', 'E8062', 'E8110', 'E8120', 'E8121', 'E8122', 'E8129', 'E8130', 'E8131', 'E8132', 'E8133', 'E8136', 'E8141', 'E8142', 'E8147', 'E8150', 'E8151', 'E8152', 'E8160', 'E8161', 'E8162', 'E8170', 'E8171', 'E8180', 'E8181', 'E8182', 'E8187', 'E8190', 'E8192', 'E8193', 'E8199', 'E8210', 'E8217', 'E8230', 'E8231', 'E8232', 'E8233', 'E8240', 'E8252', 'E8257', 'E8260', 'E8261', 'E8278', 'E8282', 'E8311', 'E8314', 'E8353', 'E8405', 'E8490', 'E8493', 'E8494', 'E8495', 'E8496', 'E8497', 'E8498', 'E8499', 'E8500', 'E8501', 'E8502', 'E8503', 'E8504', 'E8508', 'E8528', 'E8529', 'E8532', 'E8540', 'E8541', 'E8542', 'E8543', 'E8548', 'E8550', 'E8551', 'E8552', 'E8554', 'E8556', 'E856', 'E8580', 'E8581', 'E8582', 'E8583', 'E8584', 'E8587', 'E8588', 'E8589', 'E8600', 'E8603', 'E8609', 'E8613', 'E8655', 'E8668', 'E8700', 'E8702', 'E8703', 'E8704', 'E8705', 'E8706', 'E8708', 'E8716', 'E8717', 'E8718', 'E8735', 'E8740', 'E8742', 'E8748', 'E8761', 'E8764', 'E8768', 'E8769', 'E8780', 'E8781', 'E8782', 'E8783', 'E8784', 'E8785', 'E8786', 'E8788', 'E8789', 'E8790', 'E8791', 'E8792', 'E8793', 'E8794', 'E8795', 'E8796', 'E8797', 'E8798', 'E8799', 'E8801', 'E8809', 'E8810', 'E8811', 'E882', 'E8830', 'E8841', 'E8842', 'E8843', 'E8844', 'E8845', 'E8846', 'E8849', 'E8850', 'E8852', 'E8859', 'E8860', 'E887', 'E888', 'E8880', 'E8881', 'E8888', 'E8889', 'E8902', 'E899', 'E9000', 'E9010', 'E9011', 'E9019', 'E9060', 'E9063', 'E9064', 'E9068', 'E9100', 'E9102', 'E9108', 'E911', 'E912', 'E915', 'E916', 'E9170', 'E9173', 'E9174', 'E9175', 'E9177', 'E9179', 'E918', 'E9192', 'E9194', 'E9196', 'E9198', 'E9201', 'E9204', 'E9208', 'E9209', 'E9220', 'E9229', 'E9241', 'E9248', 'E9249', 'E927', 'E9270', 'E9278', 'E9283', 'E9288', 'E9289', 'E9290', 'E9291', 'E9292', 'E9293', 'E9298', 'E9299', 'E9300', 'E9301', 'E9303', 'E9304', 'E9305', 'E9306', 'E9307', 'E9308', 'E9309', 'E9310', 'E9313', 'E9315', 'E9317', 'E9319', 'E9320', 'E9322', 'E9323', 'E9330', 'E9331', 'E9342', 'E9344', 'E9345', 'E9346', 'E9347', 'E9348', 'E9351', 'E9352', 'E9353', 'E9354', 'E9356', 'E9357', 'E9358', 'E9359', 'E9361', 'E9363', 'E9378', 'E9379', 'E9380', 'E9383', 'E9384', 'E9385', 'E9387', 'E9389', 'E9390', 'E9391', 'E9392', 'E9393', 'E9394', 'E9397', 'E9398', 'E9401', 'E9410', 'E9411', 'E9412', 'E9413', 'E9420', 'E9421', 'E9422', 'E9424', 'E9425', 'E9426', 'E9429', 'E9430', 'E9438', 'E9441', 'E9443', 'E9444', 'E9447', 'E9452', 'E9457', 'E9460', 'E9478', 'E9479', 'E9499', 'E9500', 'E9501', 'E9502', 'E9503', 'E9504', 'E9505', 'E9506', 'E9507', 'E9509', 'E9530', 'E9550', 'E956', 'E9570', 'E9572', 'E9585', 'E9588', 'E9589', 'E9600', 'E9601', 'E9650', 'E9651', 'E9654', 'E9659', 'E966', 'E9670', 'E9671', 'E9678', 'E9679', 'E9682', 'E9687', 'E9688', 'E9689', 'E969', 'E970', 'E976', 'E977', 'E9800', 'E9803', 'E9804', 'E9888', 'E989', 'V011', 'V017', 'V0179', 'V0189', 'V023', 'V0251', 'V0253', 'V0254', 'V0259', 'V0261', 'V0262', 'V029', 'V0381', 'V0382', 'V040', 'V0481', 'V0482', 'V0489', 'V053', 'V058', 'V061', 'V065', 'V066', 'V068', 'V071', 'V0739', 'V074', 'V078', 'V08', 'V090', 'V0980', 'V0981', 'V0991', 'V1000', 'V1001', 'V1002', 'V1003', 'V1004', 'V1005', 'V1006', 'V1007', 'V1009', 'V1011', 'V1012', 'V1021', 'V103', 'V1041', 'V1042', 'V1043', 'V1044', 'V1046', 'V1047', 'V1049', 'V1051', 'V1052', 'V1053', 'V1059', 'V1061', 'V1062', 'V1069', 'V1072', 'V1079', 'V1081', 'V1082', 'V1083', 'V1084', 'V1085', 'V1087', 'V1088', 'V1089', 'V109', 'V1090', 'V1091', 'V113', 'V1201', 'V1202', 'V1203', 'V1204', 'V1209', 'V1241', 'V1242', 'V1251', 'V1252', 'V1253', 'V1254', 'V1255', 'V1259', 'V1261', 'V1271', 'V1272', 'V1279', 'V1301', 'V1302', 'V1309', 'V1351', 'V1352', 'V1364', 'V1365', 'V138', 'V1389', 'V140', 'V141', 'V142', 'V145', 'V146', 'V148', 'V1502', 'V1504', 'V1505', 'V1506', 'V1507', 'V1508', 'V1509', 'V151', 'V1529', 'V153', 'V1541', 'V155', 'V1551', 'V1552', 'V1559', 'V1581', 'V1582', 'V1584', 'V1585', 'V1588', 'V1589', 'V160', 'V161', 'V162', 'V163', 'V1641', 'V1642', 'V1659', 'V166', 'V167', 'V168', 'V169', 'V170', 'V171', 'V173', 'V174', 'V1741', 'V1749', 'V175', 'V180', 'V182', 'V183', 'V195', 'V202', 'V222', 'V2651', 'V2652', 'V270', 'V272', 'V290', 'V293', 'V298', 'V3000', 'V3001', 'V3100', 'V3101', 'V3201', 'V3401', 'V420', 'V421', 'V422', 'V425', 'V426', 'V427', 'V4281', 'V4282', 'V4283', 'V430', 'V431', 'V433', 'V434', 'V4361', 'V4364', 'V4365', 'V440', 'V441', 'V442', 'V443', 'V444', 'V4450', 'V4459', 'V446', 'V448', 'V449', 'V4501', 'V4502', 'V4509', 'V451', 'V4511', 'V4512', 'V452', 'V453', 'V454', 'V4561', 'V4569', 'V4571', 'V4572', 'V4573', 'V4574', 'V4575', 'V4576', 'V4577', 'V4578', 'V4579', 'V4581', 'V4582', 'V4585', 'V4586', 'V4587', 'V4588', 'V4589', 'V461', 'V4611', 'V4614', 'V462', 'V463', 'V469', 'V4960', 'V4961', 'V4962', 'V4971', 'V4972', 'V4973', 'V4975', 'V4976', 'V4981', 'V4983', 'V4984', 'V4985', 'V4986', 'V4987', 'V502', 'V5041', 'V5309', 'V5331', 'V5332', 'V5339', 'V536', 'V5399', 'V5401', 'V5411', 'V5412', 'V5413', 'V5416', 'V5417', 'V5419', 'V5422', 'V5426', 'V5481', 'V5489', 'V549', 'V550', 'V551', 'V552', 'V553', 'V554', 'V555', 'V556', 'V560', 'V561', 'V568', 'V581', 'V5811', 'V5812', 'V583', 'V5831', 'V5841', 'V5849', 'V5861', 'V5862', 'V5863', 'V5864', 'V5865', 'V5866', 'V5867', 'V5869', 'V5883', 'V596', 'V600', 'V602', 'V608', 'V6103', 'V6107', 'V6109', 'V6111', 'V6141', 'V6142', 'V618', 'V620', 'V625', 'V626', 'V6284', 'V632', 'V638', 'V641', 'V642', 'V643', 'V6441', 'V6442', 'V652', 'V653', 'V6549', 'V667', 'V694', 'V707', 'V714', 'V721', 'V7651', 'V789', 'V812', 'V8389', 'V850', 'V851', 'V8521', 'V8522', 'V8523', 'V8524', 'V8525', 'V8530', 'V8531', 'V8532', 'V8533', 'V8534', 'V8535', 'V8536', 'V8537', 'V8538', 'V8539', 'V854', 'V8541', 'V8542', 'V8543', 'V8544', 'V8545', 'V860', 'V8741', 'V8745', 'V8801', 'V8812', 'V8821', 'V9039', 'V9103'] will be ignored\n",
            "  .format(sorted(unknown, key=str)))\n"
          ],
          "name": "stderr"
        }
      ]
    },
    {
      "cell_type": "code",
      "metadata": {
        "id": "ObXH3UEovqQc"
      },
      "source": [
        "X_train_icd9 = [preprocess(x) for x in X_train_icd9]\r\n",
        "X_test_icd9 = [preprocess(x) for x in X_test_icd9]"
      ],
      "execution_count": 53,
      "outputs": []
    },
    {
      "cell_type": "code",
      "metadata": {
        "id": "3_5MGlk6vqLp"
      },
      "source": [
        "tfidf_vectorizer_icd9 = TfidfVectorizer(X_train_icd9,ngram_range=(1,2),max_df=0.9,min_df=5,token_pattern=r'(\\S+)')"
      ],
      "execution_count": 54,
      "outputs": []
    },
    {
      "cell_type": "code",
      "metadata": {
        "id": "KzR5ZvtovqDk"
      },
      "source": [
        "X_train_icd9 = tfidf_vectorizer_icd9.fit_transform(X_train_icd9)\r\n",
        "X_test_icd9 = tfidf_vectorizer_icd9.transform(X_test_icd9)"
      ],
      "execution_count": 55,
      "outputs": []
    },
    {
      "cell_type": "code",
      "metadata": {
        "colab": {
          "base_uri": "https://localhost:8080/"
        },
        "id": "XsFKQ9QGvp8j",
        "outputId": "587eb3b4-746c-4b73-d22e-4c78b7b8a340"
      },
      "source": [
        "%time classifiericd9_tfidf = train_classifier(X_train_icd9, y_train_icd9, C=1.0, model='lr')"
      ],
      "execution_count": 56,
      "outputs": [
        {
          "output_type": "stream",
          "text": [
            "CPU times: user 16.1 s, sys: 198 ms, total: 16.3 s\n",
            "Wall time: 16.3 s\n"
          ],
          "name": "stdout"
        }
      ]
    },
    {
      "cell_type": "code",
      "metadata": {
        "id": "J6ejN0y2vp0b"
      },
      "source": [
        "y_test_icd9_predicted_tfidf = classifiericd9_tfidf.predict(X_test_icd9)"
      ],
      "execution_count": 57,
      "outputs": []
    },
    {
      "cell_type": "code",
      "metadata": {
        "colab": {
          "base_uri": "https://localhost:8080/"
        },
        "id": "1s-3dA6TvpuJ",
        "outputId": "235bbcc5-f84e-4449-f8eb-098ed95244d5"
      },
      "source": [
        "print(\"Accuracy score for Logistic Regression:\")\r\n",
        "print(accuracy_score(y_test_icd9, y_test_icd9_predicted_tfidf))\r\n",
        "print(\"Hamming loss for Logistic Regression:\")\r\n",
        "print(hamming_loss(y_test_icd9, y_test_icd9_predicted_tfidf))\r\n",
        "print(precision_score(y_test_icd9, y_test_icd9_predicted_tfidf,average='micro'))\r\n",
        "print(recall_score(y_test_icd9, y_test_icd9_predicted_tfidf, average = 'micro'))\r\n",
        "print(f1_score(y_test_icd9, y_test_icd9_predicted_tfidf, average ='micro'))\r\n"
      ],
      "execution_count": 58,
      "outputs": [
        {
          "output_type": "stream",
          "text": [
            "Accuracy score for Logistic Regression:\n",
            "0.27662616154395997\n",
            "Hamming loss for Logistic Regression:\n",
            "0.15273608132793265\n",
            "0.7816654039534403\n",
            "0.4140459686245896\n",
            "0.5413437000643946\n"
          ],
          "name": "stdout"
        }
      ]
    },
    {
      "cell_type": "code",
      "metadata": {
        "colab": {
          "base_uri": "https://localhost:8080/"
        },
        "id": "hM_DOTS9Okrj",
        "outputId": "1d991246-67b1-4583-83e6-7ed2f1708d4e"
      },
      "source": [
        "print_evaluation_scores(y_test_icd9, y_test_icd9_predicted_tfidf)"
      ],
      "execution_count": 59,
      "outputs": [
        {
          "output_type": "stream",
          "text": [
            "<function accuracy_score at 0x7f6408f17e18> 0.27662616154395997\n",
            "functools.partial(<function f1_score at 0x7f6408f202f0>, average='macro') 0.506200514240289\n",
            "functools.partial(<function f1_score at 0x7f6408f202f0>, average='micro') 0.5413437000643946\n",
            "functools.partial(<function f1_score at 0x7f6408f202f0>, average='weighted') 0.5324129167272913\n",
            "functools.partial(<function average_precision_score at 0x7f6408f18ea0>, average='macro') 0.4321823815095076\n",
            "functools.partial(<function average_precision_score at 0x7f6408f18ea0>, average='micro') 0.4512047771226318\n",
            "functools.partial(<function average_precision_score at 0x7f6408f18ea0>, average='weighted') 0.46586195116780216\n"
          ],
          "name": "stdout"
        }
      ]
    },
    {
      "cell_type": "code",
      "metadata": {
        "id": "KexEsXq4vpmJ"
      },
      "source": [
        ""
      ],
      "execution_count": 59,
      "outputs": []
    },
    {
      "cell_type": "code",
      "metadata": {
        "id": "B8dYMJMiztjP"
      },
      "source": [
        "X_train_icd10, X_test_icd10, y_train_icd10, y_test_icd10 = train_test_split(diagnosis_icd['discharge diagnosis:'].values, diagnosis_icd['ICD10'].values, test_size=0.3, random_state=2020)"
      ],
      "execution_count": 60,
      "outputs": []
    },
    {
      "cell_type": "code",
      "metadata": {
        "colab": {
          "base_uri": "https://localhost:8080/"
        },
        "id": "Q9qeGPoV0CzN",
        "outputId": "34cdd503-32b7-490a-a7a3-00e4d9a4789c"
      },
      "source": [
        "mlb_icd10 = MultiLabelBinarizer(['I10', 'I2510', 'I509', 'I4891', 'N179', 'E119', 'E784', 'E785', 'J9690', 'J9600'])\r\n",
        "y_train_icd10 = [set(i) for i in y_train_icd10]\r\n",
        "y_test_icd10 = [set(i) for i in y_test_icd10]\r\n",
        "y_train_icd10 = mlb_icd10.fit_transform(y_train_icd10)\r\n",
        "y_test_icd10 = mlb_icd10.fit_transform(y_test_icd10)"
      ],
      "execution_count": 61,
      "outputs": [
        {
          "output_type": "stream",
          "text": [
            "/usr/local/lib/python3.6/dist-packages/sklearn/preprocessing/_label.py:987: UserWarning: unknown class(es) ['A047', 'A419', 'B182', 'D62', 'D631', 'D649', 'D696', 'E039', 'E0842', 'E0942', 'E1042', 'E1142', 'E1342', 'E46', 'E669', 'E780', 'E860', 'E861', 'E870', 'E871', 'E872', 'E875', 'E876', 'F05', 'F17200', 'F329', 'F419', 'G4733', 'I120', 'I129', 'I200', 'I214', 'I252', 'I272', 'I2789', 'I340', 'I348', 'I350', 'I351', 'I352', 'I358', 'I359', 'I425', 'I428', 'I469', 'I472', 'I4892', 'I498', 'I5032', 'I5033', 'I619', 'I739', 'I952', 'I9581', 'I959', 'I97710', 'I97790', 'I9788', 'I9789', 'J189', 'J449', 'J45909', 'J45998', 'J690', 'J918', 'J9811', 'J9819', 'K219', 'K740', 'K7460', 'K7469', 'K922', 'L89139', 'L89149', 'L89159', 'M109', 'M810', 'N170', 'N186', 'N189', 'N390', 'N400', 'P002', 'P220', 'P590', 'R001', 'R0902', 'R569', 'R6520', 'R6521', 'R7881', 'Y832', 'Y838', 'Y848', 'Z23', 'Z3800', 'Z3801', 'Z412', 'Z66', 'Z7901', 'Z794', 'Z853', 'Z8546', 'Z86718', 'Z87891', 'Z950', 'Z951', 'Z9861'] will be ignored\n",
            "  .format(sorted(unknown, key=str)))\n"
          ],
          "name": "stderr"
        }
      ]
    },
    {
      "cell_type": "code",
      "metadata": {
        "id": "PsWwwhdn0wrs"
      },
      "source": [
        "X_train_icd10 = [preprocess(x) for x in X_train_icd10]\r\n",
        "X_test_icd10 = [preprocess(x) for x in X_test_icd10]"
      ],
      "execution_count": 62,
      "outputs": []
    },
    {
      "cell_type": "code",
      "metadata": {
        "id": "CbzkH-Nz4sCK"
      },
      "source": [
        "tfidf_vectorizer_icd10 = TfidfVectorizer(X_train_icd10,ngram_range=(1,2),max_df=0.9,min_df=5,token_pattern=r'(\\S+)')"
      ],
      "execution_count": 63,
      "outputs": []
    },
    {
      "cell_type": "code",
      "metadata": {
        "id": "200vRHqu46ly"
      },
      "source": [
        "X_train_icd10 = tfidf_vectorizer_icd10.fit_transform(X_train_icd10)\r\n",
        "X_test_icd10 = tfidf_vectorizer_icd10.transform(X_test_icd10)"
      ],
      "execution_count": 64,
      "outputs": []
    },
    {
      "cell_type": "code",
      "metadata": {
        "colab": {
          "base_uri": "https://localhost:8080/"
        },
        "id": "9YyINPMv01ys",
        "outputId": "f6564868-4b80-43bd-8a40-837286fab399"
      },
      "source": [
        "%time classifiericd10_tfidf = train_classifier(X_train_icd10, y_train_icd10, C=1.0, model='lr')"
      ],
      "execution_count": 65,
      "outputs": [
        {
          "output_type": "stream",
          "text": [
            "CPU times: user 16.2 s, sys: 180 ms, total: 16.4 s\n",
            "Wall time: 16.4 s\n"
          ],
          "name": "stdout"
        }
      ]
    },
    {
      "cell_type": "code",
      "metadata": {
        "id": "j6ZbkEEyNAA4"
      },
      "source": [
        "y_test_icd10_predicted_tfidf = classifiericd10_tfidf.predict(X_test_icd10)"
      ],
      "execution_count": 66,
      "outputs": []
    },
    {
      "cell_type": "code",
      "metadata": {
        "colab": {
          "base_uri": "https://localhost:8080/"
        },
        "id": "8YhXhw1GNm8V",
        "outputId": "f100bf1a-8abf-4ed3-92aa-b80635147c3b"
      },
      "source": [
        "print(\"Accuracy score for Logistic Regression:\")\r\n",
        "print(accuracy_score(y_test_icd10, y_test_icd10_predicted_tfidf))\r\n",
        "print(\"Hamming loss for Logistic Regression:\")\r\n",
        "print(hamming_loss(y_test_icd10, y_test_icd10_predicted_tfidf))\r\n",
        "print(precision_score(y_test_icd10, y_test_icd10_predicted_tfidf, average ='micro'))\r\n",
        "print(recall_score(y_test_icd10, y_test_icd10_predicted_tfidf, average='micro'))\r\n",
        "print(f1_score(y_test_icd10, y_test_icd10_predicted_tfidf, average='micro'))"
      ],
      "execution_count": 67,
      "outputs": [
        {
          "output_type": "stream",
          "text": [
            "Accuracy score for Logistic Regression:\n",
            "0.3181637677706298\n",
            "Hamming loss for Logistic Regression:\n",
            "0.16333889285997935\n",
            "0.7696874796111437\n",
            "0.40914923871952275\n",
            "0.534284420289855\n"
          ],
          "name": "stdout"
        }
      ]
    },
    {
      "cell_type": "code",
      "metadata": {
        "colab": {
          "base_uri": "https://localhost:8080/"
        },
        "id": "lEZbLSVKPIK-",
        "outputId": "50364ab2-737e-4576-dab1-8d04542515b6"
      },
      "source": [
        "print_evaluation_scores(y_test_icd10, y_test_icd10_predicted_tfidf)"
      ],
      "execution_count": 68,
      "outputs": [
        {
          "output_type": "stream",
          "text": [
            "<function accuracy_score at 0x7f6408f17e18> 0.3181637677706298\n",
            "functools.partial(<function f1_score at 0x7f6408f202f0>, average='macro') 0.4953250469932871\n",
            "functools.partial(<function f1_score at 0x7f6408f202f0>, average='micro') 0.534284420289855\n",
            "functools.partial(<function f1_score at 0x7f6408f202f0>, average='weighted') 0.5250658159214745\n",
            "functools.partial(<function average_precision_score at 0x7f6408f18ea0>, average='macro') 0.42689011520572534\n",
            "functools.partial(<function average_precision_score at 0x7f6408f18ea0>, average='micro') 0.45022004053705555\n",
            "functools.partial(<function average_precision_score at 0x7f6408f18ea0>, average='weighted') 0.46196710171866723\n"
          ],
          "name": "stdout"
        }
      ]
    },
    {
      "cell_type": "code",
      "metadata": {
        "id": "fVE_Q9KY5Rsu"
      },
      "source": [
        ""
      ],
      "execution_count": 68,
      "outputs": []
    }
  ]
}