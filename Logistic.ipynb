{
  "nbformat": 4,
  "nbformat_minor": 0,
  "metadata": {
    "colab": {
      "name": "Logistic.ipynb",
      "provenance": [],
      "authorship_tag": "ABX9TyMhW/J2bU52xAZ9/o6gA8YO",
      "include_colab_link": true
    },
    "kernelspec": {
      "name": "python3",
      "display_name": "Python 3"
    }
  },
  "cells": [
    {
      "cell_type": "markdown",
      "metadata": {
        "id": "view-in-github",
        "colab_type": "text"
      },
      "source": [
        "<a href=\"https://colab.research.google.com/github/samantamrityunjay/ICDcoding/blob/master/Logistic.ipynb\" target=\"_parent\"><img src=\"https://colab.research.google.com/assets/colab-badge.svg\" alt=\"Open In Colab\"/></a>"
      ]
    },
    {
      "cell_type": "code",
      "metadata": {
        "id": "3gWph1JdXJhV",
        "colab": {
          "base_uri": "https://localhost:8080/"
        },
        "outputId": "355e00b8-ef3f-4549-8692-0e30dcd0aafc"
      },
      "source": [
        "from google.colab import drive\n",
        "drive.mount(\"/content/drive\")"
      ],
      "execution_count": 1,
      "outputs": [
        {
          "output_type": "stream",
          "text": [
            "Mounted at /content/drive\n"
          ],
          "name": "stdout"
        }
      ]
    },
    {
      "cell_type": "code",
      "metadata": {
        "id": "m8I6ezBquG25"
      },
      "source": [
        "import pandas as pd\n",
        "import numpy as np\n",
        "from collections import Counter\n",
        "import re\n",
        "import math\n",
        "from ast import literal_eval"
      ],
      "execution_count": 2,
      "outputs": []
    },
    {
      "cell_type": "code",
      "metadata": {
        "id": "JBoGdrAzftl-"
      },
      "source": [
        "diagnosis_icd9category=pd.read_csv(\"/content/drive/My Drive/AlgoIntern/Data/Data2.0/diagnosis_icd9category.csv\")"
      ],
      "execution_count": 3,
      "outputs": []
    },
    {
      "cell_type": "code",
      "metadata": {
        "id": "BQYDLWT7gOmQ",
        "colab": {
          "base_uri": "https://localhost:8080/",
          "height": 419
        },
        "outputId": "09a68e40-09ee-43e9-b44c-5e05a4d2b764"
      },
      "source": [
        "diagnosis_icd9category"
      ],
      "execution_count": 4,
      "outputs": [
        {
          "output_type": "execute_result",
          "data": {
            "text/html": [
              "<div>\n",
              "<style scoped>\n",
              "    .dataframe tbody tr th:only-of-type {\n",
              "        vertical-align: middle;\n",
              "    }\n",
              "\n",
              "    .dataframe tbody tr th {\n",
              "        vertical-align: top;\n",
              "    }\n",
              "\n",
              "    .dataframe thead th {\n",
              "        text-align: right;\n",
              "    }\n",
              "</style>\n",
              "<table border=\"1\" class=\"dataframe\">\n",
              "  <thead>\n",
              "    <tr style=\"text-align: right;\">\n",
              "      <th></th>\n",
              "      <th>HADM_ID</th>\n",
              "      <th>discharge diagnosis:</th>\n",
              "      <th>icd9_category</th>\n",
              "      <th>medical_terms_list</th>\n",
              "    </tr>\n",
              "  </thead>\n",
              "  <tbody>\n",
              "    <tr>\n",
              "      <th>0</th>\n",
              "      <td>167853.0</td>\n",
              "      <td>NaN</td>\n",
              "      <td>['511', '263', '211', '011', '507', '427', '42...</td>\n",
              "      <td>[]</td>\n",
              "    </tr>\n",
              "    <tr>\n",
              "      <th>1</th>\n",
              "      <td>107527.0</td>\n",
              "      <td>NaN</td>\n",
              "      <td>['311', '486', '518', '519', '491', '276', '244']</td>\n",
              "      <td>[]</td>\n",
              "    </tr>\n",
              "    <tr>\n",
              "      <th>2</th>\n",
              "      <td>167118.0</td>\n",
              "      <td>discharge diagnosis:  copd, coronary artery di...</td>\n",
              "      <td>['496', '553', '518', '453', '519', '276']</td>\n",
              "      <td>['coronary artery disease/atypical angina', 'h...</td>\n",
              "    </tr>\n",
              "    <tr>\n",
              "      <th>3</th>\n",
              "      <td>196489.0</td>\n",
              "      <td>discharge diagnosis:  primary:  1. chronic obs...</td>\n",
              "      <td>['487', '416', '272', '530', '414', '553', '53...</td>\n",
              "      <td>['chronic obstructive pulmonary disease', 'res...</td>\n",
              "    </tr>\n",
              "    <tr>\n",
              "      <th>4</th>\n",
              "      <td>135453.0</td>\n",
              "      <td>discharge diagnosis:  1. cervical spondylosis ...</td>\n",
              "      <td>['V12', '788', '805', '507', 'V45', '401', '42...</td>\n",
              "      <td>['spondylosis', 'calcification of posterior', ...</td>\n",
              "    </tr>\n",
              "    <tr>\n",
              "      <th>...</th>\n",
              "      <td>...</td>\n",
              "      <td>...</td>\n",
              "      <td>...</td>\n",
              "      <td>...</td>\n",
              "    </tr>\n",
              "    <tr>\n",
              "      <th>59641</th>\n",
              "      <td>135672.0</td>\n",
              "      <td>discharge diagnosis:  peritonitis secondary to...</td>\n",
              "      <td>['202', '401', '584', '255', '283', '238', '03...</td>\n",
              "      <td>['small bowel perforation', 'numbness', 'pain'...</td>\n",
              "    </tr>\n",
              "    <tr>\n",
              "      <th>59642</th>\n",
              "      <td>155710.0</td>\n",
              "      <td>NaN</td>\n",
              "      <td>['285', '038', '486', '518', '401', '584', '53...</td>\n",
              "      <td>[]</td>\n",
              "    </tr>\n",
              "    <tr>\n",
              "      <th>59643</th>\n",
              "      <td>183951.0</td>\n",
              "      <td>NaN</td>\n",
              "      <td>['780', '724', '518', '331', '401', '348', '430']</td>\n",
              "      <td>[]</td>\n",
              "    </tr>\n",
              "    <tr>\n",
              "      <th>59644</th>\n",
              "      <td>169165.0</td>\n",
              "      <td>NaN</td>\n",
              "      <td>['355', '424', '272', 'V12', '426', '414', '72...</td>\n",
              "      <td>[]</td>\n",
              "    </tr>\n",
              "    <tr>\n",
              "      <th>59645</th>\n",
              "      <td>157100.0</td>\n",
              "      <td>NaN</td>\n",
              "      <td>['456', '197', '287', '693', '553', '530', '15...</td>\n",
              "      <td>[]</td>\n",
              "    </tr>\n",
              "  </tbody>\n",
              "</table>\n",
              "<p>59646 rows × 4 columns</p>\n",
              "</div>"
            ],
            "text/plain": [
              "        HADM_ID  ...                                 medical_terms_list\n",
              "0      167853.0  ...                                                 []\n",
              "1      107527.0  ...                                                 []\n",
              "2      167118.0  ...  ['coronary artery disease/atypical angina', 'h...\n",
              "3      196489.0  ...  ['chronic obstructive pulmonary disease', 'res...\n",
              "4      135453.0  ...  ['spondylosis', 'calcification of posterior', ...\n",
              "...         ...  ...                                                ...\n",
              "59641  135672.0  ...  ['small bowel perforation', 'numbness', 'pain'...\n",
              "59642  155710.0  ...                                                 []\n",
              "59643  183951.0  ...                                                 []\n",
              "59644  169165.0  ...                                                 []\n",
              "59645  157100.0  ...                                                 []\n",
              "\n",
              "[59646 rows x 4 columns]"
            ]
          },
          "metadata": {
            "tags": []
          },
          "execution_count": 4
        }
      ]
    },
    {
      "cell_type": "code",
      "metadata": {
        "id": "quJTtu6SgR-t"
      },
      "source": [
        "diagnosis_icd9category.dropna(subset=[\"discharge diagnosis:\"],inplace=True)"
      ],
      "execution_count": 5,
      "outputs": []
    },
    {
      "cell_type": "code",
      "metadata": {
        "id": "pnX0QHnXhUFm"
      },
      "source": [
        "diagnosis_icd9category['icd9_category']=diagnosis_icd9category.icd9_category.apply(literal_eval)\n",
        "diagnosis_icd9category['medical_terms_list']=diagnosis_icd9category.medical_terms_list.apply(literal_eval)"
      ],
      "execution_count": 6,
      "outputs": []
    },
    {
      "cell_type": "code",
      "metadata": {
        "colab": {
          "base_uri": "https://localhost:8080/",
          "height": 419
        },
        "id": "njDSgAQV0yPl",
        "outputId": "1aeb2f5b-c2d9-4100-aaa4-04cabb8ac068"
      },
      "source": [
        "diagnosis_icd9category"
      ],
      "execution_count": 7,
      "outputs": [
        {
          "output_type": "execute_result",
          "data": {
            "text/html": [
              "<div>\n",
              "<style scoped>\n",
              "    .dataframe tbody tr th:only-of-type {\n",
              "        vertical-align: middle;\n",
              "    }\n",
              "\n",
              "    .dataframe tbody tr th {\n",
              "        vertical-align: top;\n",
              "    }\n",
              "\n",
              "    .dataframe thead th {\n",
              "        text-align: right;\n",
              "    }\n",
              "</style>\n",
              "<table border=\"1\" class=\"dataframe\">\n",
              "  <thead>\n",
              "    <tr style=\"text-align: right;\">\n",
              "      <th></th>\n",
              "      <th>HADM_ID</th>\n",
              "      <th>discharge diagnosis:</th>\n",
              "      <th>icd9_category</th>\n",
              "      <th>medical_terms_list</th>\n",
              "    </tr>\n",
              "  </thead>\n",
              "  <tbody>\n",
              "    <tr>\n",
              "      <th>2</th>\n",
              "      <td>167118.0</td>\n",
              "      <td>discharge diagnosis:  copd, coronary artery di...</td>\n",
              "      <td>[496, 553, 518, 453, 519, 276]</td>\n",
              "      <td>[coronary artery disease/atypical angina, hype...</td>\n",
              "    </tr>\n",
              "    <tr>\n",
              "      <th>3</th>\n",
              "      <td>196489.0</td>\n",
              "      <td>discharge diagnosis:  primary:  1. chronic obs...</td>\n",
              "      <td>[487, 416, 272, 530, 414, 553, 531, 518, 401, ...</td>\n",
              "      <td>[chronic obstructive pulmonary disease, respir...</td>\n",
              "    </tr>\n",
              "    <tr>\n",
              "      <th>4</th>\n",
              "      <td>135453.0</td>\n",
              "      <td>discharge diagnosis:  1. cervical spondylosis ...</td>\n",
              "      <td>[V12, 788, 805, 507, V45, 401, 427, 453, E88, ...</td>\n",
              "      <td>[spondylosis, calcification of posterior, frac...</td>\n",
              "    </tr>\n",
              "    <tr>\n",
              "      <th>5</th>\n",
              "      <td>170490.0</td>\n",
              "      <td>discharge diagnosis:  brain lesion    discharg...</td>\n",
              "      <td>[710, 225, 443, 714, 530, V43]</td>\n",
              "      <td>[infection, pain, pain, constipation, docusate...</td>\n",
              "    </tr>\n",
              "    <tr>\n",
              "      <th>6</th>\n",
              "      <td>134727.0</td>\n",
              "      <td>discharge diagnosis:  pneumonia    discharge c...</td>\n",
              "      <td>[486, 518, V45, V58, 401, 577, 415, 428]</td>\n",
              "      <td>[]</td>\n",
              "    </tr>\n",
              "    <tr>\n",
              "      <th>...</th>\n",
              "      <td>...</td>\n",
              "      <td>...</td>\n",
              "      <td>...</td>\n",
              "      <td>...</td>\n",
              "    </tr>\n",
              "    <tr>\n",
              "      <th>59606</th>\n",
              "      <td>127716.0</td>\n",
              "      <td>discharge diagnosis:  aortic stenosis and coro...</td>\n",
              "      <td>[416, 424, 272, V10, V85, 414, 250, 401, 278, ...</td>\n",
              "      <td>[coronary artery disease, erythema, edema, red...</td>\n",
              "    </tr>\n",
              "    <tr>\n",
              "      <th>59609</th>\n",
              "      <td>186377.0</td>\n",
              "      <td>discharge diagnosis:  coronary artery disease ...</td>\n",
              "      <td>[424, 511, 305, 707, 403, 496, 784, 250, 414, ...</td>\n",
              "      <td>[diabetes, diastolic heart failure, erythema, ...</td>\n",
              "    </tr>\n",
              "    <tr>\n",
              "      <th>59615</th>\n",
              "      <td>156564.0</td>\n",
              "      <td>discharge diagnosis:  left knee infection  chr...</td>\n",
              "      <td>[V10, 403, 584, V43, 428, 285, 496, 250, V58, ...</td>\n",
              "      <td>[obstructive pulmonary disease, kidney injury,...</td>\n",
              "    </tr>\n",
              "    <tr>\n",
              "      <th>59631</th>\n",
              "      <td>172559.0</td>\n",
              "      <td>discharge diagnosis:  primary:  small bowel ob...</td>\n",
              "      <td>[197, 507, 185, 427, 261, 585, V66, 560, 783, ...</td>\n",
              "      <td>[bowel obstruction, prostate cancer, diverticu...</td>\n",
              "    </tr>\n",
              "    <tr>\n",
              "      <th>59641</th>\n",
              "      <td>135672.0</td>\n",
              "      <td>discharge diagnosis:  peritonitis secondary to...</td>\n",
              "      <td>[202, 401, 584, 255, 283, 238, 038, 785, 250, ...</td>\n",
              "      <td>[small bowel perforation, numbness, pain, infe...</td>\n",
              "    </tr>\n",
              "  </tbody>\n",
              "</table>\n",
              "<p>41967 rows × 4 columns</p>\n",
              "</div>"
            ],
            "text/plain": [
              "        HADM_ID  ...                                 medical_terms_list\n",
              "2      167118.0  ...  [coronary artery disease/atypical angina, hype...\n",
              "3      196489.0  ...  [chronic obstructive pulmonary disease, respir...\n",
              "4      135453.0  ...  [spondylosis, calcification of posterior, frac...\n",
              "5      170490.0  ...  [infection, pain, pain, constipation, docusate...\n",
              "6      134727.0  ...                                                 []\n",
              "...         ...  ...                                                ...\n",
              "59606  127716.0  ...  [coronary artery disease, erythema, edema, red...\n",
              "59609  186377.0  ...  [diabetes, diastolic heart failure, erythema, ...\n",
              "59615  156564.0  ...  [obstructive pulmonary disease, kidney injury,...\n",
              "59631  172559.0  ...  [bowel obstruction, prostate cancer, diverticu...\n",
              "59641  135672.0  ...  [small bowel perforation, numbness, pain, infe...\n",
              "\n",
              "[41967 rows x 4 columns]"
            ]
          },
          "metadata": {
            "tags": []
          },
          "execution_count": 7
        }
      ]
    },
    {
      "cell_type": "code",
      "metadata": {
        "id": "B88AKycu4UJ5"
      },
      "source": [
        "from sklearn.model_selection import train_test_split"
      ],
      "execution_count": 9,
      "outputs": []
    },
    {
      "cell_type": "code",
      "metadata": {
        "id": "_Mtopaz90_bz"
      },
      "source": [
        "X_train, X_test, y_train, y_test = train_test_split(diagnosis_icd9category['discharge diagnosis:'].values, diagnosis_icd9category['icd9_category'].values, test_size=0.3, random_state=2020)"
      ],
      "execution_count": 58,
      "outputs": []
    },
    {
      "cell_type": "code",
      "metadata": {
        "colab": {
          "base_uri": "https://localhost:8080/"
        },
        "id": "O_ij_oe849xS",
        "outputId": "41cf0ffc-eff0-4cfe-9f76-7f37dc2de0c3"
      },
      "source": [
        "print(X_train.shape,X_test.shape)"
      ],
      "execution_count": 11,
      "outputs": [
        {
          "output_type": "stream",
          "text": [
            "(29376,) (12591,)\n"
          ],
          "name": "stdout"
        }
      ]
    },
    {
      "cell_type": "code",
      "metadata": {
        "colab": {
          "base_uri": "https://localhost:8080/"
        },
        "id": "MeOSo2Uv5hNk",
        "outputId": "2855c1ca-0e44-42fb-adc6-7618df8a155a"
      },
      "source": [
        "X_train[:20]"
      ],
      "execution_count": 51,
      "outputs": [
        {
          "output_type": "execute_result",
          "data": {
            "text/plain": [
              "array(['discharge diagnosis:  cad  post-op dysphagia      discharge condition:  good    discharge instructions:  no lifting > 10# or driving for 1 month  may shower, no bathing or swimming for 1 month  no creams, lotions or powders to any incisions    followup instructions:  with dr. <name> tomorrow in [**location (un) 37361**], and again in 2 weeks  with dr. <name> in [**3-9**] weeks        completed by: <date> ',\n",
              "       'discharge diagnosis:  primary diagnosis:  septic shock    secondary diagnoses:  urinary tract infection  pneumonia  sacral decubitus ulcer      discharge condition:  mental status: confused - always.  level of consciousness: lethargic but arousable.  activity status: bedbound.      discharge instructions:  dear ms. <name>,    it was a privilege to provide care for you here at the <hospital> hospital. you were admitted because you were  found to be somnolent. you were treated in the intensive care  unit with intravenous fluids and antibiotics, and were intubated  for a short time. you were transferred to the regular medical  floor, where in consultation with your son and family members,  the focus was on transitioning your care to maximal comfort  care. we sincerely wish you all the best at your rehab facility.    the following changes were made to your medications:  new:  -morphine solution as needed for pain  -miconazole powder for groin    changed: none    stopped:  carvedilol 3.125mg daily  lasix 20mg daily  remeron 15mg qhs  fentanyl 12mcg/hr patch: 1 patch q72h  dilaudid 1mg/ml: 1mg po q4h prn  tylenol 650mg po q6h prn pain/fever  vitamin c 500mg daily  mvi w/minerals 1 tab daily  vitamin d 1000iu daily  tums daily  calcium 800 + d3 600mg daily  bisacodyl 10mg pr daily prn  milk of mag 30ml daily prn    followup instructions:  none        completed by: <date> ',\n",
              "       'discharge diagnosis:  primary diagnosis:  - c. difficile infection  - bleeding gastric ulcer s/p endoclip placement  - l knee swelling s/p arthrocentesis    secondary diagnosis:  - hypertension  - hyperlipidemia  - prior stroke      discharge condition:  mental status: confused - sometimes. alert and oriented x 3 at  discharge.  level of consciousness: lethargic but arousable.  activity status: out of bed with assistance to chair or  wheelchair.      discharge instructions:  dear mr. <name>,    you were admitted to the hospital for lethargy, fevers, diarrhea  and an elevated white blood cell count at the outside hospital.  on admission, you were found to have an infection of your gi  tract called c. difficile.  we treated you with antibiotics and  your infection eventually resolved. you should continue taking  antibiotics (oral vancomycin) for the c. difficile infection  through  <date> .    during your hospitalization, you were also found to have low red  blood cell counts (anemia) and had bleeding from your gi tract.  we consulted our gi colleagues who put a scope in your stomach  (egd) and found a bleeding ulcer, which was clipped. your blood  counts stabilized and the bloody stools resolved.    you should follow up with gi as an outpatient to have a  colonoscopy and another endoscopy when you are discharged from  rehab.    followup instructions:  please schedule an appointment with your pcp when you are  discharged from rehab.    please call dr. <name> <name> of <hospital> gastroenterology to  schedule follow up for repeat endoscopy in several weeks to  evaluate for resolution of ulcer and for colonoscopy when your  current illness resolves: <name> <name>, md <telephone>        completed by: <date> ',\n",
              "       'discharge diagnosis:  hyponatremia  acute renal failure  s/p liver transplant  <date>       discharge condition:  stable/good      discharge instructions:  please call the transplant clinic at <telephone> for fever,  chills, nausea, vomiting, diarrhea, constipation, inability to  take or keep down food, fluids or medications or difficulty  tolerating your tube feeds.  continue labwork per transplant clinic recommendations  drink to your thirst, no need to drink  a lot of plain water.  drink fluids such as supplements, gatorade or juices  labs saturday  and monday, faxed to <telephone>    followup instructions:  <name> <name>, md phone:<telephone> date/time: <date>  1:40  <name> <name>, md phone:<telephone> date/time: <date>  1:00  <name>,<name> transplant social work date/time: <date>  11:30                                   <name> <name> md, [**md number(3) 709**]    completed by: <date> ',\n",
              "       'discharge diagnosis:  patient expired    discharge condition:  patient expired    discharge instructions:  patient expired    followup instructions:  patient expired      completed by: <date> ',\n",
              "       'discharge diagnosis:  bilateral subdural hematoma      discharge condition:  neurologically stable      discharge instructions:  call for severe headache, change in consciousness, visual  changes, or any problems.    followup instructions:  follow up in 4 weeks with head ct with dr. <name> - call  <telephone> for appt.  talk to your primary care doctor about your blood sugar levels.                                   <name> <name> md [**md number(2) 1273**]    completed by: <date> ',\n",
              "       'discharge diagnosis:  coronary artery disease s/p cabg  hyperlipidemia  hypertension  gerd  tia  neuropathy  rheumatoid arthritis  parkinson disease      discharge condition:  good      discharge instructions:  please shower daily including washing incisions, no baths or  swimming  monitor wounds for infection - redness, drainage, or increased  pain  report any fever greater than 101  report any weight gain of greater than 2 pounds in 24 hours or 5  pounds in a week  no creams, lotions, powders, or ointments to incisions  no driving for approximately one month  no lifting more than 10 pounds for 10 weeks  please call with any questions or concerns <telephone>      <name>p instructions:  dr <name> in 4 weeks (<telephone>) please call for  appointment  dr <name> in 1 week (<telephone>) please call for appointment    dr <name> in [**12-27**] weeks - please call for appointment    wound check appointment <name> 2 as instructed by nurse  (<telephone>)        completed by: <date> ',\n",
              "       'discharge diagnosis:  st elevation myocardial infarction  hypertension  diabetes mellitus      discharge condition:  stable      discharge instructions:  you had a heart attack and received two drug eluting stents to  open your left coronary artery. you will need to be on plavix  every day for at least one year to prevent the stents from  clotting off. you will need to be on aspirin for the rest of  your life to prevent blood clots. no lifting more than 10 pounds  for one week. please look at your right groin regularly and call  dr. <name> if you notice any increasing swelling, tenderness,  redness at the groin site. no swimming or pools for one week,  you may shower.  call dr. <name> for any fevers, trouble breathing, vomiting,  leg  swelling or any other unusual symptoms.  medication changes:  1. increase simvastatin to 80 md daily  2. increase metoprolol to 200 mg long acting  3. increase your lisinopril to 10 mg daily  4. start plavix daily  5. restart aspirin daily  6. restart metformin on thursday [**10-6**] evening.  .  we encourage you to attend cardiac rehabilitation after dr.  <name> clears you.    followup instructions:  cardiology:  <name> <name>, md phone: <telephone> date/time: [**11-16**] at  2:00pm.  [**location (un) **]  .  primary care:  <name>,<name>  phone: <telephone> date/time: [**10-18**] at  3:15pm.        completed by: <date> ',\n",
              "       'discharge diagnosis:  1. hematochezia, source unknown  2. dementia  3. acute blood loss anemia  4. pressure ulcers  5. htn      discharge condition:  hct stable with tube feeds.      discharge instructions:  you have been admitted to the hospital for bleeding from below.  while you were here you were observed in the micu and on the  medical floor.  you were transfused one unit of blood for  slightly low blood counts after your bleeding had stopped.  you  and your family (hcp) decided against further work up for this  bleeding at this time.    please check a hct weekly for two weeks (every friday).    while you were here you were seen by the vascular surgeons that  operated on your legs.  they will see you in clinic on [**2-1**].    please take your medicines as directed.  we are continuing  aspirin, but you do not need to take plavix.    please continue to take iron 3 times a day for 6 months, please  take colace to prevent constipation.    please call your doctor for any chest pain, shortness of breath,  bleeding from below or any other medical problem.    followup instructions:  please follow with vascular surgery dr. <name> on <telephone> for time and  directions.    please make an appointment with dr. <name> at <telephone> within  2 weeks of discharge.        ',\n",
              "       ' discharge diagnosis:  parapharyngeal cellulitis.    history of the present illness:  the patient is a 55-year-old  man who was referred by his primary care doctor, dr.  <name>, to <hospital> emergency department for dysphagia  otherwise healthy gentleman with a distant history of  ludwig\\'s angina treated at <hospital> 19 years ago.    the patient was in his usual state of health until about five  days prior to admission, at which time he noted a gradual  onset of left throat pain accompanied by a fever to 102  degrees fahrenheit, odynophagia, and neck swelling.  the patient describes an initial sensation of \"thorn stuck in  throat on left side\".  the patient was seen by his primary  care doctor <name> <name>,  <date> .  by report, rapid strep test  as well as monospot were negative.  he was prescribed over  the counter analgesics and sent home.  the patient states  that the pain and fever persisted over the next weekend with  concomitant development of left maxillary sinus fullness and  tenderness.  this was associated with a thick mucus nasal  discharge tinged with blood.  the patient subsequently became  intolerant of solid food and intake secondary to a feeling of  obstruction.  this occurred on sunday.    over the day before admission, the patient had decreased  liquid intake also due to pain and feeling of obstruction.  the patient was seen by his primary care doctor on the  morning of admission, who advised evaluation in the emergency  department.  he was brought to the <hospital> by his wife.  the  patient denied dyspnea, trismus, hearing changes, and nausea,  vomiting, or diarrhea.  he noted a headache over the weekend  which is now resolved.  there is no recent history of dental  work.  there is no history of throat trauma, sick contacts,  or recent travel, but he returned from a trip to <country> in  [**month (only) **].    ',\n",
              "       'discharge diagnosis:  none    discharge condition:  expired    discharge instructions:  none    followup instructions:  none      ',\n",
              "       'discharge diagnosis:  expired    discharge condition:  expired    discharge instructions:  expired    followup instructions:  expired      completed by: <date> ',\n",
              "       'discharge diagnosis:  pneumonia      discharge condition:  stable, without fevers    discharge instructions:  please take your medications as directed    followup instructions:  please have your inr followed daily.  your goal is 2.5-3.    follow up with rheumatology is recommended within 2-3 weeks.  your enbrel was held, this medication should be restarted under  their supervision.    your prednisone dose will also be tapered slowly.                                   <name> <name> md [**md number(1) 910**]    ',\n",
              "       'discharge diagnosis:  1. acute alcohol withdrawal  2. benzodiapene and opiate overdose      discharge condition:  stable    discharge instructions:  please continue to take all medications as prescribed.    please return to the ed or call your pcp if you experience any  worsening fevers/chills, nausea or vomiting, confusion or any  other concerning symptoms.    followup instructions:  you should follow-up with a dentist to obtain appropriate  evaluation and x rays for your tooth pain.    you should obtain a pcp <name> <name> <hospital>) for an appointment.        completed by: <date> ',\n",
              "       'discharge diagnosis:  gastrointestinal bleed      discharge condition:  good    discharge instructions:  contact physician if you experience further blood in stools,  dark stools, fever > 100.5, shortness of breath/chest pain or  dizziness.    followup instructions:  follow up with your primary care provider <name> 2 weeks - call for  appt.        ',\n",
              "       'discharge diagnosis:  enterococcus septic shock  bacillus species septic shock  polysubstance abuse      discharge condition:  vss      discharge instructions:  you have been treated for your blood stream infection with iv  antibiotics and medications to support your blood pressure. you  are being discharged home on ciprofloxacin and linezolid to  complete a total of 14 days worth of treatment. please note that  use of linezolid in conjunction with fluoxetine can cause a  serotonin syndrom. please observe for symptoms that may include  irritability, alerted consciousness, double vision, nausea,  confusion, anxiety, hyperthermia, increased muscle tone,  rigidity, or myoclonus. if you develop any of these symptoms  please discontinue the use of linezolid and go to the nearest  hospital.    during your stay, chest xrays documented an enlarged heart. it  is possible that this is related to your acute illness and will  improve with time. please follow up with your primary care  doctor to have a repeat chest xray performed in the next 6 weeks  to ensure your heart size has returned to [**location 213**].    please discontinue all use of injectable drugs or illegal  substances. it is recommended that you establish care with a  provider that specializes in substance use disorders. you may  find such resources by contacting <name> or  through <hospital> hospital crisis unit.    please call your pcp or return to the hospital if you have fever  >100.8, chills, nightsweats, shortness of breath or any other  new concerning symptoms. please also monitor for the serotonin  syndrome as above.    followup instructions:  please follow up with dr. <name> on monday [**8-26**] at  5:15 pm to review the events of this hospital admission and  arrange for monitoring of your heart size.        ',\n",
              "       'discharge diagnosis:  pulmonic valve regurgitation, patent foramen ovale  history of tetralogy of fallot, s/p repair at age 19  palpitations  right bundle-branch block  history of gi bleed related to a nonsteroidal antiinflammatory      discharge condition:  stable      discharge instructions:  1)no driving for one month  2)no lifting more than 10 lbs for at least 10 weeks from the  date of surgery  3)please shower daily. wash surgical incisions with soap and  water only.  4)do not apply lotions, creams or ointments to any surgical  incision.  5)please call cardiac surgeon immediately if you experience  fever, excessive weight gain and/or signs of a wound  infection(erythema, drainage, etc...). office number is  <telephone>.  6)call with any additional questions or concerns.      followup instructions:  dr. <name> in [**2-20**] weeks, call for appt  dr. <name> in [**12-21**] weeks, call for appt  local pcp <name> [**12-21**] weeks, call for appt        completed by: <date> ',\n",
              "       'discharge diagnosis:  coronary artery disease  myocardial infarction [**11-20**]  diabetes mellitus-type ii  hypertension  hepatitis b [**2111**]  iron deficient anemia  gastroesophageal reflux disease  nonsustained ventricular tachycardia  colon cancer s/p colectomy  <date>   s/p cholecystectomy  s/p tonsillectomy  s/p hysterectomy  s/p ganglion cyst removal from foot    discharge condition:  good    discharge instructions:  shower daily, no baths or swimming  no lotions, creams or powders to incisions  no driving for 4 weeks and off all narcotics  no lifting more than 10 pounds for 10 weeks  report any redness of, or drainage from incisions  report any fever greater than 100.5  report any weight gain greater than 2 pounds a day or 5 pounds a  week  take all medications as directed    followup instructions:  dr. <name> in 4 weeks  dr. <name> in [**2-16**] weeks  dr. <name> in [**1-15**] weeks  dr. <name> (or <name>) -neurology 6-8 weeks <telephone>  have echo and holter monitor in 4 weeks (our office will call  you to arrange this)        completed by: <date> ',\n",
              "       'discharge diagnosis:  endometrial cancer    discharge condition:  stable    discharge instructions:  pelvic rest x 6 wks (2 for laparoscopy)  no heavy lifting x 6 wks  call for fevers >101o  no driving while taking narcotics      followup instructions:  you have the following appointments scheduled:    1. provider: <name>,<name> b. gyn onc pps (sb) date/time: <date>   1:00  provider: <name>,<name> b.  <telephone>  2. provider: <name> call phone:<telephone>  date/time: <date>  10:30  3. provider:  <name> clinic phone:<telephone>  date/time: <date>  4:00        completed by: <date> ',\n",
              "       'discharge diagnosis:  primary: l sided subdural hematoma and subarachnoid hemorrhage,  post-concussive syndrome  secondary:  hypercholesterolemia  depression  hypothyroidism treated with synthroid      discharge condition:  neurologically stable with resolution of headaches. low-grade  fever (100.0) without source of infection upon workup with other  vss. ambulating well and taking po well. mental status at  baseline.      discharge instructions:  you were transferred to <hospital> after sustaining head trauma from  a fall. no clear cause for the fall was found. you were found to  have a small amount of bleeding called a subdural and  subarachnoid hemorrhage on admission. this was found to be  stable on ct scans throughout your hospital course. during your  hospitalization your aspirin was held because this increases the  risk of bleeding immediately following the fall. this should be  restarted upon discharge from the hospital. you were also  diagnosed with a urinary tract infection for which you should  complete a course of ampicillin.  .  please continue to take all of your medications as prescribed.  please attend all of your follow-up appointments.  .  discharge instructions for head injury  ??????\\ttake your pain medicine as prescribed  ??????\\texercise should be limited to walking; no lifting, straining,  excessive bending  ??????\\tincrease your intake of fluids and fiber as pain medicine  (narcotics) can cause constipation  ??????\\tunless directed by your doctor, do not take any  anti-inflammatory medicines such as motrin, aspirin, advil,  ibuprofen etc.  .  call your surgeon immediately if you experience any of the  following:    ??????\\tnew onset of tremors or seizures  ??????\\tany confusion or change in mental status  ??????\\tany numbness, tingling, weakness in your extremities  ??????\\tpain or headache that is continually increasing or not  relieved by pain medication      followup instructions:  please contact your pcp upon discharge for a follow-up  appointment within 1-2 weeks.  please call <telephone> to schedule an appointment with dr.  <name> (neurosurgery) to be seen within 4 weeks. you will  need a ct scan of the brain with or without contrast prior to  this visit.                                   <name> <name> md, [**md number(3) 1673**]    '],\n",
              "      dtype=object)"
            ]
          },
          "metadata": {
            "tags": []
          },
          "execution_count": 51
        }
      ]
    },
    {
      "cell_type": "code",
      "metadata": {
        "colab": {
          "base_uri": "https://localhost:8080/"
        },
        "id": "nYduvgcO5sOK",
        "outputId": "3587ef0b-b840-47b8-d79b-45201883ffd9"
      },
      "source": [
        "y_train[:20]"
      ],
      "execution_count": 13,
      "outputs": [
        {
          "output_type": "execute_result",
          "data": {
            "text/plain": [
              "array([list(['583', '355', '571', '272', '305', '784', '414', '250', '443', '070', '401', 'V58', '427', '789', '428']),\n",
              "       list(['349', '401', '584', '285', '459', '428', '311', '038', '785', '427', 'V49', '355', '907', '707', '414', 'E92', '518', 'V45', '530', '276', '482', '287', '995', '507', '345', '599']),\n",
              "       list(['719', '531', '535', '401', '428', '285', '728', '799', '453', '008', '790', '438', '272', '707', '600', '715', '530', '276', '482', '263', '789', '288']),\n",
              "       list(['305', 'V42', '572', '584', '455', '285', '571', '998', '250', '790', '041', '576', '693', '537', '518', '997', 'E93', '276', '416', '456', '263', '789', '288', '695']),\n",
              "       list(['038', '728', '995', '250', '401', 'V58', '348', '427', '584', '493', '570', '410', '530', '428']),\n",
              "       list(['432', '401']),\n",
              "       list(['272', 'V12', '414', '714', '411', '401', 'V17', '285', '332']),\n",
              "       list(['410', '414', '427', '428']),\n",
              "       list(['238', '599', '707', '274', '600', '294', '401', '428', '578', '276', 'V44', '285', '440']),\n",
              "       list(['784', '272', '478', '599']),\n",
              "       list(['V10', '038', '785', '995', '998', 'V42', '518', '519', '428', '427', '276', '041', '599']),\n",
              "       list(['V15', 'E87', 'V10', '197', '157', '576', '038', '785', '788', '250', '995', '518', '401', 'V87', '584', '997', '789', '276', '782']),\n",
              "       list(['571', '038', '995', '496', '280', '294', '733', '714', '507', '572', '790', '428', '284']),\n",
              "       list(['291', 'E85', '522', '305', '965', '969', 'V60', '070', '276']),\n",
              "       list(['272', '535', 'V45', 'V58', '427', '562', '455', '285']),\n",
              "       list(['304', '511', '038', '785', '995', '787', '570', '285']),\n",
              "       list(['745', '396', '397', '426']),\n",
              "       list(['434', '272', 'V10', '403', '414', '443', '342', '427', '585', '997', '278', '412', '428']),\n",
              "       list(['E87', '285', '511', 'V10', '220', '564', 'E84', '518', '507', 'V45', '427', '733', '182', '458', '041', '428', '599']),\n",
              "       list(['311', '272', '426', '599', '780', '310', 'E88', '851', '244', '041', '438'])],\n",
              "      dtype=object)"
            ]
          },
          "metadata": {
            "tags": []
          },
          "execution_count": 13
        }
      ]
    },
    {
      "cell_type": "code",
      "metadata": {
        "id": "xmzhmepa52QP"
      },
      "source": [
        "y_train = [set(i) for i in y_train]\r\n",
        "y_test = [set(i) for i in y_test]"
      ],
      "execution_count": 71,
      "outputs": []
    },
    {
      "cell_type": "code",
      "metadata": {
        "id": "2c-vDZqW8vHK"
      },
      "source": [
        "from sklearn.preprocessing import MultiLabelBinarizer\r\n",
        "mlb = MultiLabelBinarizer(['401','427','276','414','272','250','428','518','285','584'])"
      ],
      "execution_count": 72,
      "outputs": []
    },
    {
      "cell_type": "code",
      "metadata": {
        "colab": {
          "base_uri": "https://localhost:8080/"
        },
        "id": "Q7c6ieV997lA",
        "outputId": "c0ee34e5-443a-4e30-f7de-41c0b9ffaff7"
      },
      "source": [
        "y_train = mlb.fit_transform(y_train)\r\n",
        "y_test = mlb.fit_transform(y_test)"
      ],
      "execution_count": 73,
      "outputs": [
        {
          "output_type": "stream",
          "text": [
            "/usr/local/lib/python3.6/dist-packages/sklearn/preprocessing/_label.py:987: UserWarning: unknown class(es) ['003', '004', '005', '007', '008', '009', '010', '011', '012', '013', '014', '015', '018', '027', '031', '032', '033', '034', '035', '036', '038', '039', '040', '041', '042', '045', '046', '047', '048', '049', '052', '053', '054', '057', '058', '066', '070', '075', '077', '078', '079', '082', '084', '086', '088', '091', '093', '094', '096', '097', '099', '110', '111', '112', '114', '115', '116', '117', '118', '120', '122', '123', '125', '127', '130', '132', '133', '134', '135', '136', '137', '138', '139', '140', '141', '142', '143', '144', '145', '146', '147', '148', '149', '150', '151', '152', '153', '154', '155', '156', '157', '158', '159', '161', '162', '163', '164', '170', '171', '172', '173', '174', '175', '176', '179', '180', '182', '183', '184', '185', '186', '187', '188', '189', '190', '191', '192', '193', '194', '195', '196', '197', '198', '199', '200', '201', '202', '203', '204', '205', '206', '207', '208', '209', '210', '211', '212', '213', '214', '215', '216', '217', '218', '220', '223', '225', '226', '227', '228', '229', '230', '231', '232', '233', '235', '236', '237', '238', '239', '240', '241', '242', '243', '244', '245', '246', '249', '251', '252', '253', '254', '255', '256', '257', '258', '259', '260', '261', '262', '263', '265', '266', '267', '268', '269', '270', '271', '273', '274', '275', '277', '278', '279', '280', '281', '282', '283', '284', '286', '287', '288', '289', '290', '291', '292', '293', '294', '295', '296', '297', '298', '299', '300', '301', '302', '303', '304', '305', '306', '307', '308', '309', '310', '311', '312', '313', '314', '315', '317', '318', '319', '320', '321', '322', '323', '324', '325', '326', '327', '330', '331', '332', '333', '334', '335', '336', '337', '338', '339', '340', '341', '342', '343', '344', '345', '346', '347', '348', '349', '350', '351', '352', '353', '354', '355', '356', '357', '358', '359', '360', '361', '362', '363', '364', '365', '366', '367', '368', '369', '370', '371', '372', '373', '374', '375', '376', '377', '378', '379', '380', '381', '382', '383', '384', '385', '386', '387', '388', '389', '391', '393', '394', '395', '396', '397', '398', '402', '403', '404', '405', '410', '411', '412', '413', '415', '416', '417', '420', '421', '422', '423', '424', '425', '426', '429', '430', '431', '432', '433', '434', '435', '436', '437', '438', '440', '441', '442', '443', '444', '445', '446', '447', '448', '449', '451', '452', '453', '454', '455', '456', '457', '458', '459', '461', '462', '463', '464', '465', '466', '470', '471', '472', '473', '474', '475', '477', '478', '480', '481', '482', '483', '484', '485', '486', '487', '488', '490', '491', '492', '493', '494', '495', '496', '500', '501', '502', '506', '507', '508', '510', '511', '512', '513', '514', '515', '516', '517', '519', '520', '521', '522', '523', '524', '525', '526', '527', '528', '529', '530', '531', '532', '533', '534', '535', '536', '537', '538', '539', '540', '541', '542', '543', '550', '551', '552', '553', '555', '556', '557', '558', '560', '562', '564', '565', '566', '567', '568', '569', '570', '571', '572', '573', '574', '575', '576', '577', '578', '579', '580', '581', '582', '583', '585', '586', '587', '588', '590', '591', '592', '593', '594', '595', '596', '597', '598', '599', '600', '601', '602', '603', '604', '605', '607', '608', '610', '611', '614', '615', '616', '617', '618', '619', '620', '621', '622', '623', '624', '625', '626', '627', '628', '629', '632', '633', '634', '639', '641', '642', '643', '644', '645', '646', '647', '648', '649', '651', '652', '654', '655', '656', '658', '659', '660', '661', '663', '664', '665', '666', '668', '669', '670', '671', '672', '673', '674', '677', '680', '681', '682', '683', '685', '686', '690', '691', '692', '693', '694', '695', '696', '697', '698', '700', '701', '702', '703', '704', '705', '706', '707', '708', '709', '710', '711', '712', '713', '714', '715', '716', '717', '718', '719', '720', '721', '722', '723', '724', '725', '726', '727', '728', '729', '730', '731', '732', '733', '734', '735', '736', '737', '738', '741', '742', '743', '744', '745', '746', '747', '748', '749', '750', '751', '752', '753', '754', '755', '756', '757', '758', '759', '760', '761', '762', '763', '764', '765', '766', '767', '768', '769', '770', '771', '772', '773', '774', '775', '776', '777', '778', '779', '780', '781', '782', '783', '784', '785', '786', '787', '788', '789', '790', '791', '792', '793', '794', '795', '796', '799', '800', '801', '802', '803', '804', '805', '806', '807', '808', '810', '811', '812', '813', '814', '815', '816', '817', '819', '820', '821', '822', '823', '824', '825', '826', '828', '830', '831', '832', '833', '834', '835', '836', '837', '838', '839', '840', '841', '842', '843', '844', '845', '846', '847', '848', '850', '851', '852', '853', '854', '860', '861', '862', '863', '864', '865', '866', '867', '868', '869', '870', '871', '872', '873', '874', '875', '876', '877', '878', '879', '880', '881', '882', '883', '884', '885', '886', '887', '890', '891', '892', '893', '894', '896', '897', '900', '901', '902', '903', '904', '905', '906', '907', '908', '909', '910', '911', '912', '913', '914', '916', '917', '918', '919', '920', '921', '922', '923', '924', '925', '926', '927', '928', '930', '933', '934', '935', '936', '937', '938', '939', '941', '942', '943', '944', '945', '946', '947', '948', '950', '951', '952', '953', '954', '955', '956', '957', '958', '959', '960', '961', '962', '963', '964', '965', '966', '967', '968', '969', '970', '971', '972', '974', '975', '976', '977', '980', '982', '983', '985', '986', '987', '988', '989', '990', '991', '992', '994', '995', '996', '997', '998', '999', 'E00', 'E01', 'E02', 'E03', 'E80', 'E81', 'E82', 'E83', 'E84', 'E85', 'E86', 'E87', 'E88', 'E89', 'E90', 'E91', 'E92', 'E93', 'E94', 'E95', 'E96', 'E97', 'E98', 'E99', 'V01', 'V02', 'V03', 'V04', 'V05', 'V06', 'V07', 'V08', 'V09', 'V10', 'V11', 'V12', 'V13', 'V14', 'V15', 'V16', 'V17', 'V18', 'V19', 'V20', 'V23', 'V25', 'V26', 'V27', 'V28', 'V29', 'V30', 'V31', 'V32', 'V34', 'V40', 'V42', 'V43', 'V44', 'V45', 'V46', 'V48', 'V49', 'V50', 'V51', 'V53', 'V54', 'V55', 'V56', 'V58', 'V60', 'V61', 'V62', 'V63', 'V64', 'V65', 'V66', 'V67', 'V69', 'V70', 'V71', 'V72', 'V74', 'V83', 'V84', 'V85', 'V86', 'V87', 'V88', 'V90'] will be ignored\n",
            "  .format(sorted(unknown, key=str)))\n",
            "/usr/local/lib/python3.6/dist-packages/sklearn/preprocessing/_label.py:987: UserWarning: unknown class(es) ['004', '005', '007', '008', '009', '011', '013', '015', '018', '021', '023', '027', '030', '031', '034', '038', '039', '040', '041', '042', '046', '047', '049', '052', '053', '054', '057', '058', '062', '070', '075', '077', '078', '079', '082', '084', '086', '088', '094', '097', '099', '110', '111', '112', '115', '117', '118', '120', '121', '123', '127', '130', '131', '133', '135', '136', '137', '138', '139', '140', '141', '144', '145', '146', '147', '148', '149', '150', '151', '152', '153', '154', '155', '156', '157', '158', '159', '161', '162', '163', '164', '170', '171', '172', '173', '174', '176', '180', '182', '183', '184', '185', '187', '188', '189', '191', '192', '193', '194', '195', '196', '197', '198', '199', '200', '201', '202', '203', '204', '205', '206', '207', '208', '209', '210', '211', '212', '213', '214', '215', '216', '218', '220', '221', '223', '225', '226', '227', '228', '230', '232', '233', '235', '236', '237', '238', '239', '240', '241', '242', '243', '244', '245', '246', '249', '251', '252', '253', '255', '256', '257', '258', '259', '261', '262', '263', '265', '266', '268', '269', '270', '271', '273', '274', '275', '277', '278', '279', '280', '281', '282', '283', '284', '286', '287', '288', '289', '290', '291', '292', '293', '294', '295', '296', '297', '298', '299', '300', '301', '302', '303', '304', '305', '306', '307', '308', '309', '310', '311', '312', '314', '315', '316', '317', '318', '319', '320', '321', '322', '323', '324', '325', '326', '327', '331', '332', '333', '334', '335', '336', '337', '338', '339', '340', '341', '342', '343', '344', '345', '346', '347', '348', '349', '350', '351', '352', '353', '354', '355', '356', '357', '358', '359', '360', '361', '362', '363', '364', '365', '366', '367', '368', '369', '370', '371', '372', '373', '374', '375', '376', '377', '378', '379', '380', '381', '382', '383', '384', '385', '386', '388', '389', '390', '391', '393', '394', '395', '396', '397', '398', '402', '403', '404', '405', '410', '411', '412', '413', '415', '416', '417', '420', '421', '422', '423', '424', '425', '426', '429', '430', '431', '432', '433', '434', '435', '436', '437', '438', '440', '441', '442', '443', '444', '445', '446', '447', '448', '449', '451', '452', '453', '454', '455', '456', '457', '458', '459', '461', '462', '464', '465', '466', '470', '471', '472', '473', '474', '475', '477', '478', '480', '481', '482', '483', '484', '485', '486', '487', '488', '490', '491', '492', '493', '494', '495', '496', '500', '501', '502', '506', '507', '508', '510', '511', '512', '513', '514', '515', '516', '517', '519', '520', '521', '522', '523', '524', '525', '526', '527', '528', '529', '530', '531', '532', '533', '534', '535', '536', '537', '539', '540', '541', '542', '543', '550', '551', '552', '553', '555', '556', '557', '558', '560', '562', '564', '565', '566', '567', '568', '569', '570', '571', '572', '573', '574', '575', '576', '577', '578', '579', '580', '581', '582', '583', '585', '586', '587', '588', '589', '590', '591', '592', '593', '594', '595', '596', '597', '598', '599', '600', '601', '602', '603', '604', '605', '607', '608', '610', '611', '614', '615', '616', '617', '618', '619', '620', '621', '622', '623', '624', '625', '626', '627', '629', '633', '634', '635', '639', '641', '642', '643', '644', '646', '647', '648', '649', '651', '652', '654', '655', '656', '657', '658', '659', '660', '664', '665', '666', '669', '670', '672', '673', '674', '677', '680', '681', '682', '683', '684', '685', '686', '690', '691', '692', '693', '694', '695', '696', '697', '698', '700', '701', '702', '703', '704', '705', '706', '707', '708', '709', '710', '711', '712', '713', '714', '715', '716', '717', '718', '719', '720', '721', '722', '723', '724', '725', '726', '727', '728', '729', '730', '731', '732', '733', '734', '735', '736', '737', '738', '741', '742', '743', '744', '745', '746', '747', '748', '749', '750', '751', '752', '753', '754', '755', '756', '757', '758', '759', '760', '761', '762', '763', '764', '765', '766', '767', '768', '769', '770', '771', '772', '773', '774', '775', '776', '777', '778', '779', '780', '781', '782', '783', '784', '785', '786', '787', '788', '789', '790', '791', '792', '793', '794', '795', '796', '799', '800', '801', '802', '803', '804', '805', '806', '807', '808', '810', '811', '812', '813', '814', '815', '816', '820', '821', '822', '823', '824', '825', '826', '830', '831', '832', '833', '834', '835', '836', '837', '838', '839', '840', '842', '844', '845', '846', '847', '850', '851', '852', '853', '854', '860', '861', '862', '863', '864', '865', '866', '867', '868', '869', '870', '871', '872', '873', '874', '875', '876', '877', '878', '879', '880', '881', '882', '883', '884', '885', '886', '887', '890', '891', '892', '893', '897', '900', '901', '902', '903', '904', '905', '906', '907', '908', '909', '910', '911', '912', '913', '914', '915', '916', '917', '918', '919', '920', '921', '922', '923', '924', '927', '930', '932', '933', '934', '935', '936', '938', '939', '941', '942', '943', '944', '945', '946', '947', '948', '950', '951', '952', '953', '955', '956', '957', '958', '959', '960', '961', '962', '963', '964', '965', '966', '967', '968', '969', '970', '971', '972', '973', '975', '976', '977', '980', '982', '983', '987', '988', '989', '990', '991', '992', '994', '995', '996', '997', '998', '999', 'E00', 'E02', 'E80', 'E81', 'E82', 'E83', 'E84', 'E85', 'E86', 'E87', 'E88', 'E89', 'E90', 'E91', 'E92', 'E93', 'E94', 'E95', 'E96', 'E97', 'E98', 'V01', 'V02', 'V03', 'V04', 'V05', 'V06', 'V07', 'V08', 'V09', 'V10', 'V11', 'V12', 'V13', 'V14', 'V15', 'V16', 'V17', 'V18', 'V19', 'V20', 'V22', 'V26', 'V27', 'V29', 'V30', 'V31', 'V32', 'V34', 'V42', 'V43', 'V44', 'V45', 'V46', 'V49', 'V50', 'V53', 'V54', 'V55', 'V56', 'V58', 'V59', 'V60', 'V61', 'V62', 'V63', 'V64', 'V65', 'V66', 'V69', 'V70', 'V71', 'V72', 'V76', 'V78', 'V81', 'V83', 'V85', 'V86', 'V87', 'V88', 'V90', 'V91'] will be ignored\n",
            "  .format(sorted(unknown, key=str)))\n"
          ],
          "name": "stderr"
        }
      ]
    },
    {
      "cell_type": "code",
      "metadata": {
        "colab": {
          "base_uri": "https://localhost:8080/"
        },
        "id": "CS_9S2il97hX",
        "outputId": "bd504a21-553e-4b7e-b3fa-216513f036bb"
      },
      "source": [
        "y_train[0]"
      ],
      "execution_count": 74,
      "outputs": [
        {
          "output_type": "execute_result",
          "data": {
            "text/plain": [
              "array([1, 1, 0, 1, 1, 1, 1, 0, 0, 0])"
            ]
          },
          "metadata": {
            "tags": []
          },
          "execution_count": 74
        }
      ]
    },
    {
      "cell_type": "code",
      "metadata": {
        "colab": {
          "base_uri": "https://localhost:8080/"
        },
        "id": "-DfPENzr97Za",
        "outputId": "93f90270-2bb6-4883-bd35-71e28268f67d"
      },
      "source": [
        "mlb.classes_"
      ],
      "execution_count": 23,
      "outputs": [
        {
          "output_type": "execute_result",
          "data": {
            "text/plain": [
              "array(['401', '427', '276', '414', '272', '250', '428', '518', '285',\n",
              "       '584'], dtype=object)"
            ]
          },
          "metadata": {
            "tags": []
          },
          "execution_count": 23
        }
      ]
    },
    {
      "cell_type": "code",
      "metadata": {
        "colab": {
          "base_uri": "https://localhost:8080/",
          "height": 69
        },
        "id": "FW6_Oyvu97Ty",
        "outputId": "cd2e84c5-7d42-42d1-b68d-385ba1023804"
      },
      "source": [
        "X_train[0]"
      ],
      "execution_count": 24,
      "outputs": [
        {
          "output_type": "execute_result",
          "data": {
            "application/vnd.google.colaboratory.intrinsic+json": {
              "type": "string"
            },
            "text/plain": [
              "'discharge diagnosis:  cad  post-op dysphagia      discharge condition:  good    discharge instructions:  no lifting > 10# or driving for 1 month  may shower, no bathing or swimming for 1 month  no creams, lotions or powders to any incisions    followup instructions:  with dr. <name> tomorrow in [**location (un) 37361**], and again in 2 weeks  with dr. <name> in [**3-9**] weeks        completed by: <date> '"
            ]
          },
          "metadata": {
            "tags": []
          },
          "execution_count": 24
        }
      ]
    },
    {
      "cell_type": "code",
      "metadata": {
        "colab": {
          "base_uri": "https://localhost:8080/"
        },
        "id": "QE82JJhkCH5h",
        "outputId": "8a3079a6-e5e5-42e5-e305-9230205e761c"
      },
      "source": [
        "import nltk\r\n",
        "import string\r\n",
        "nltk.download('punkt')\r\n",
        "nltk.download('stopwords')\r\n",
        "nltk.download('wordnet')\r\n",
        "from nltk import sent_tokenize, word_tokenize\r\n",
        "from nltk.stem import WordNetLemmatizer\r\n",
        "from nltk.corpus import stopwords\r\n",
        "stop_words = set(stopwords.words('english')).union(set(string.punctuation)) # stopwords + punctuation\r\n",
        "\r\n"
      ],
      "execution_count": 54,
      "outputs": [
        {
          "output_type": "stream",
          "text": [
            "[nltk_data] Downloading package punkt to /root/nltk_data...\n",
            "[nltk_data]   Unzipping tokenizers/punkt.zip.\n",
            "[nltk_data] Downloading package stopwords to /root/nltk_data...\n",
            "[nltk_data]   Package stopwords is already up-to-date!\n",
            "[nltk_data] Downloading package wordnet to /root/nltk_data...\n",
            "[nltk_data]   Unzipping corpora/wordnet.zip.\n"
          ],
          "name": "stdout"
        }
      ]
    },
    {
      "cell_type": "code",
      "metadata": {
        "id": "QECjXE0u97Qt"
      },
      "source": [
        "def preprocess(text):\r\n",
        "\r\n",
        "  text = re.sub(\"discharge diagnosis:\" , ' ', text)\r\n",
        "\r\n",
        "  text = re.sub(\"\\[\\*\\*.*?\\*\\*\\]\",\" \",text)\r\n",
        "\r\n",
        "  words=word_tokenize(text)\r\n",
        "  filtered_sentence = [] \r\n",
        "  # remove stopwords\r\n",
        "  for word in words: \r\n",
        "    if word not in stop_words: \r\n",
        "        filtered_sentence.append(word) \r\n",
        "  text = ' '.join(filtered_sentence)\r\n",
        "  # lemmatize\r\n",
        "  # lemma_word = []\r\n",
        "  # wordnet_lemmatizer = WordNetLemmatizer()\r\n",
        "  # for w in filtered_sentence:\r\n",
        "  #   word1 = wordnet_lemmatizer.lemmatize(w, pos = \"n\")\r\n",
        "  #   word2 = wordnet_lemmatizer.lemmatize(word1, pos = \"v\")\r\n",
        "  #   word3 = wordnet_lemmatizer.lemmatize(word2, pos = (\"a\"))\r\n",
        "  #   lemma_word.append(word3)\r\n",
        "  return text\r\n",
        "\r\n"
      ],
      "execution_count": 59,
      "outputs": []
    },
    {
      "cell_type": "code",
      "metadata": {
        "colab": {
          "base_uri": "https://localhost:8080/",
          "height": 69
        },
        "id": "B-wrgzKaDrew",
        "outputId": "e3eca9ff-261c-4304-e784-bd1bdef8e2b2"
      },
      "source": [
        "X_train[0]"
      ],
      "execution_count": 60,
      "outputs": [
        {
          "output_type": "execute_result",
          "data": {
            "application/vnd.google.colaboratory.intrinsic+json": {
              "type": "string"
            },
            "text/plain": [
              "'discharge diagnosis:  cad  post-op dysphagia      discharge condition:  good    discharge instructions:  no lifting > 10# or driving for 1 month  may shower, no bathing or swimming for 1 month  no creams, lotions or powders to any incisions    followup instructions:  with dr. <name> tomorrow in [**location (un) 37361**], and again in 2 weeks  with dr. <name> in [**3-9**] weeks        completed by: <date> '"
            ]
          },
          "metadata": {
            "tags": []
          },
          "execution_count": 60
        }
      ]
    },
    {
      "cell_type": "code",
      "metadata": {
        "id": "ZlIzznnp97Nb"
      },
      "source": [
        "X_train = [preprocess(x) for x in X_train]\r\n",
        "X_test = [preprocess(x) for x in X_test]"
      ],
      "execution_count": 61,
      "outputs": []
    },
    {
      "cell_type": "code",
      "metadata": {
        "colab": {
          "base_uri": "https://localhost:8080/",
          "height": 52
        },
        "id": "I9qJECat97KD",
        "outputId": "cf5e66b3-418a-48c5-c6d8-689391dadc69"
      },
      "source": [
        "X_train[0]"
      ],
      "execution_count": 62,
      "outputs": [
        {
          "output_type": "execute_result",
          "data": {
            "application/vnd.google.colaboratory.intrinsic+json": {
              "type": "string"
            },
            "text/plain": [
              "'cad post-op dysphagia discharge condition good discharge instructions lifting 10 driving 1 month may shower bathing swimming 1 month creams lotions powders incisions followup instructions dr. name tomorrow 2 weeks dr. name weeks completed date'"
            ]
          },
          "metadata": {
            "tags": []
          },
          "execution_count": 62
        }
      ]
    },
    {
      "cell_type": "code",
      "metadata": {
        "id": "gOl_T6fP97Gw"
      },
      "source": [
        "from sklearn.feature_extraction.text import TfidfVectorizer"
      ],
      "execution_count": 63,
      "outputs": []
    },
    {
      "cell_type": "code",
      "metadata": {
        "id": "6bkF3JhL97Dl"
      },
      "source": [
        "tfidf_vectorizer = TfidfVectorizer(X_train,ngram_range=(1,2),max_df=0.9,min_df=5,token_pattern=r'(\\S+)')"
      ],
      "execution_count": 64,
      "outputs": []
    },
    {
      "cell_type": "code",
      "metadata": {
        "id": "qAzeHo6G96_t"
      },
      "source": [
        "X_train = tfidf_vectorizer.fit_transform(X_train)\r\n",
        "X_test = tfidf_vectorizer.transform(X_test)"
      ],
      "execution_count": 65,
      "outputs": []
    },
    {
      "cell_type": "code",
      "metadata": {
        "colab": {
          "base_uri": "https://localhost:8080/"
        },
        "id": "GGf5X7xI9662",
        "outputId": "d6bdb5a3-9486-42db-f728-9394dab5948f"
      },
      "source": [
        "X_test.shape"
      ],
      "execution_count": 68,
      "outputs": [
        {
          "output_type": "execute_result",
          "data": {
            "text/plain": [
              "(12591, 72989)"
            ]
          },
          "metadata": {
            "tags": []
          },
          "execution_count": 68
        }
      ]
    },
    {
      "cell_type": "code",
      "metadata": {
        "id": "25-0m0E-962t"
      },
      "source": [
        "# For multiclass classification\r\n",
        "from sklearn.multiclass import OneVsRestClassifier\r\n",
        "\r\n",
        "# Models\r\n",
        "from sklearn.linear_model import LogisticRegression\r\n",
        "from sklearn.discriminant_analysis import LinearDiscriminantAnalysis\r\n",
        "from sklearn.svm import LinearSVC\r\n",
        "from sklearn.naive_bayes import MultinomialNB\r\n",
        "from lightgbm import LGBMClassifier\r\n",
        "\r\n",
        "def train_classifier(X_train, y_train, X_valid=None, y_valid=None, C=1.0, model='lr'):\r\n",
        "    \"\"\"\r\n",
        "      X_train, y_train — training data\r\n",
        "      \r\n",
        "      return: trained classifier\r\n",
        "      \r\n",
        "    \"\"\"\r\n",
        "    \r\n",
        "    if model=='lr':\r\n",
        "        model = LogisticRegression(C=C, penalty='l1', dual=False, solver='liblinear')\r\n",
        "        model = OneVsRestClassifier(model)\r\n",
        "        model.fit(X_train, y_train)\r\n",
        "    \r\n",
        "    elif model=='svm':\r\n",
        "        model = LinearSVC(C=C, penalty='l1', dual=False, loss='squared_hinge')\r\n",
        "        model = OneVsRestClassifier(model)\r\n",
        "        model.fit(X_train, y_train)\r\n",
        "    \r\n",
        "    elif model=='nbayes':\r\n",
        "        model = MultinomialNB(alpha=1.0)\r\n",
        "        model = OneVsRestClassifier(model)\r\n",
        "        model.fit(X_train, y_train)\r\n",
        "        \r\n",
        "    elif model=='lda':\r\n",
        "        model = LinearDiscriminantAnalysis(solver='svd')\r\n",
        "        model = OneVsRestClassifier(model)\r\n",
        "        model.fit(X_train, y_train)\r\n",
        "\r\n",
        "    return model\r\n"
      ],
      "execution_count": 69,
      "outputs": []
    },
    {
      "cell_type": "code",
      "metadata": {
        "colab": {
          "base_uri": "https://localhost:8080/"
        },
        "id": "A0sQ0PGK96zH",
        "outputId": "029cd5cd-fb67-4c9b-beb8-d984cc28ebb9"
      },
      "source": [
        "%time classifier_tfidf = train_classifier(X_train, y_train, C=1.0, model='lr')"
      ],
      "execution_count": 75,
      "outputs": [
        {
          "output_type": "stream",
          "text": [
            "CPU times: user 16.6 s, sys: 98.9 ms, total: 16.7 s\n",
            "Wall time: 16.8 s\n"
          ],
          "name": "stdout"
        }
      ]
    },
    {
      "cell_type": "code",
      "metadata": {
        "id": "EkOZ_xjK96op"
      },
      "source": [
        "y_test_predicted_labels_tfidf = classifier_tfidf.predict(X_test)"
      ],
      "execution_count": 76,
      "outputs": []
    },
    {
      "cell_type": "code",
      "metadata": {
        "id": "VAZOOyqZRRLe"
      },
      "source": [
        "# y_test_pred_inversed = mlb.inverse_transform(y_test_predicted_labels_tfidf)\r\n",
        "# y_test_inversed = mlb.inverse_transform(y_test)\r\n",
        "# for i in range(3):\r\n",
        "#     print('Text:\\t{}\\nTrue labels:\\t{}\\nPredicted labels:\\t{}\\n\\n'.format(\r\n",
        "#         X_test[i],\r\n",
        "#         ','.join(y_test_inversed[i]),\r\n",
        "#         ','.join(y_test_pred_inversed[i])\r\n",
        "#     ))"
      ],
      "execution_count": 78,
      "outputs": []
    },
    {
      "cell_type": "code",
      "metadata": {
        "id": "5IL2DoUeRRHu"
      },
      "source": [
        "from sklearn.metrics import accuracy_score, hamming_loss\r\n",
        "from sklearn.metrics import f1_score\r\n",
        "from sklearn.metrics import roc_auc_score \r\n",
        "from sklearn.metrics import average_precision_score\r\n",
        "from sklearn.metrics import recall_score\r\n",
        "from sklearn.metrics import classification_report"
      ],
      "execution_count": 85,
      "outputs": []
    },
    {
      "cell_type": "code",
      "metadata": {
        "colab": {
          "base_uri": "https://localhost:8080/"
        },
        "id": "UVC1V97MRRDf",
        "outputId": "fe34aa76-25e8-47e1-a0e6-980acd2cf0f7"
      },
      "source": [
        "print(\"Accuracy score for Logistic Regression:\")\r\n",
        "print(accuracy_score(y_test, y_test_predicted_labels_tfidf))\r\n",
        "print(\"Hamming loss for Logistic Regression:\")\r\n",
        "print(hamming_loss(y_test, y_test_predicted_labels_tfidf))"
      ],
      "execution_count": 86,
      "outputs": [
        {
          "output_type": "stream",
          "text": [
            "Accuracy score for Logistic Regression:\n",
            "0.1863235644507982\n",
            "Hamming loss for Logistic Regression:\n",
            "0.19861806051941863\n"
          ],
          "name": "stdout"
        }
      ]
    },
    {
      "cell_type": "code",
      "metadata": {
        "colab": {
          "base_uri": "https://localhost:8080/"
        },
        "id": "5AJCYcSwRQ_f",
        "outputId": "50090b21-14f1-4eb7-fce2-a944ee96f049"
      },
      "source": [
        "print(classification_report(y_test, y_test_predicted_labels_tfidf, target_names=mlb.classes_))"
      ],
      "execution_count": 82,
      "outputs": [
        {
          "output_type": "stream",
          "text": [
            "              precision    recall  f1-score   support\n",
            "\n",
            "         401       0.72      0.51      0.60      5408\n",
            "         427       0.86      0.53      0.66      4324\n",
            "         276       0.66      0.34      0.44      3994\n",
            "         414       0.86      0.61      0.72      3577\n",
            "         272       0.77      0.40      0.53      3843\n",
            "         250       0.91      0.55      0.68      3592\n",
            "         428       0.88      0.52      0.66      3480\n",
            "         518       0.75      0.43      0.54      3313\n",
            "         285       0.71      0.27      0.39      3496\n",
            "         584       0.79      0.45      0.57      3020\n",
            "\n",
            "   micro avg       0.79      0.46      0.59     38047\n",
            "   macro avg       0.79      0.46      0.58     38047\n",
            "weighted avg       0.79      0.46      0.58     38047\n",
            " samples avg       0.56      0.40      0.44     38047\n",
            "\n"
          ],
          "name": "stdout"
        },
        {
          "output_type": "stream",
          "text": [
            "/usr/local/lib/python3.6/dist-packages/sklearn/metrics/_classification.py:1272: UndefinedMetricWarning: Precision and F-score are ill-defined and being set to 0.0 in samples with no predicted labels. Use `zero_division` parameter to control this behavior.\n",
            "  _warn_prf(average, modifier, msg_start, len(result))\n",
            "/usr/local/lib/python3.6/dist-packages/sklearn/metrics/_classification.py:1272: UndefinedMetricWarning: Recall and F-score are ill-defined and being set to 0.0 in samples with no true labels. Use `zero_division` parameter to control this behavior.\n",
            "  _warn_prf(average, modifier, msg_start, len(result))\n"
          ],
          "name": "stderr"
        }
      ]
    },
    {
      "cell_type": "code",
      "metadata": {
        "id": "gqvaEfFTRQ7H"
      },
      "source": [
        "from functools import partial\r\n",
        "def print_evaluation_scores(y_val, predicted):\r\n",
        "    f1_score_macro = partial(f1_score,average=\"macro\")\r\n",
        "    f1_score_micro = partial(f1_score,average=\"micro\")\r\n",
        "    f1_score_weighted = partial(f1_score,average=\"weighted\")\r\n",
        "    \r\n",
        "    average_precision_score_macro = partial(average_precision_score,average=\"macro\")\r\n",
        "    average_precision_score_micro = partial(average_precision_score,average=\"micro\")\r\n",
        "    average_precision_score_weighted = partial(average_precision_score,average=\"weighted\")\r\n",
        "    \r\n",
        "    scores = [accuracy_score,f1_score_macro,f1_score_micro,f1_score_weighted,average_precision_score_macro,\r\n",
        "             average_precision_score_micro,average_precision_score_weighted]\r\n",
        "    for score in scores:\r\n",
        "        print(score,score(y_val,predicted))\r\n"
      ],
      "execution_count": 83,
      "outputs": []
    },
    {
      "cell_type": "code",
      "metadata": {
        "colab": {
          "base_uri": "https://localhost:8080/"
        },
        "id": "zCpqLn_nRQ16",
        "outputId": "3d9fa31a-83e8-42f6-f69b-2292195e19df"
      },
      "source": [
        "print('Tfidf')\r\n",
        "print_evaluation_scores(y_test, y_test_predicted_labels_tfidf)"
      ],
      "execution_count": 84,
      "outputs": [
        {
          "output_type": "stream",
          "text": [
            "Tfidf\n",
            "<function accuracy_score at 0x7f0301047378> 0.1863235644507982\n",
            "functools.partial(<function f1_score at 0x7f03010477b8>, average='macro') 0.5791747875797232\n",
            "functools.partial(<function f1_score at 0x7f03010477b8>, average='micro') 0.5851497959589929\n",
            "functools.partial(<function f1_score at 0x7f03010477b8>, average='weighted') 0.5804358716235078\n",
            "functools.partial(<function average_precision_score at 0x7f0301043400>, average='macro') 0.533027800631674\n",
            "functools.partial(<function average_precision_score at 0x7f0301043400>, average='micro') 0.5297984290857475\n",
            "functools.partial(<function average_precision_score at 0x7f0301043400>, average='weighted') 0.5368613300085798\n"
          ],
          "name": "stdout"
        }
      ]
    },
    {
      "cell_type": "code",
      "metadata": {
        "colab": {
          "base_uri": "https://localhost:8080/"
        },
        "id": "n66zDcZ8RQxF",
        "outputId": "14647b75-5c90-40d3-d59f-e35bc0f019e9"
      },
      "source": [
        "y_test[:5]"
      ],
      "execution_count": 92,
      "outputs": [
        {
          "output_type": "execute_result",
          "data": {
            "text/plain": [
              "array([[0, 0, 0, 0, 0, 0, 0, 0, 0, 0],\n",
              "       [0, 0, 1, 0, 0, 0, 0, 0, 0, 0],\n",
              "       [1, 0, 0, 1, 0, 1, 0, 0, 0, 0],\n",
              "       [1, 1, 0, 1, 0, 0, 1, 0, 0, 0],\n",
              "       [0, 0, 0, 0, 0, 1, 0, 0, 0, 0]])"
            ]
          },
          "metadata": {
            "tags": []
          },
          "execution_count": 92
        }
      ]
    },
    {
      "cell_type": "code",
      "metadata": {
        "colab": {
          "base_uri": "https://localhost:8080/"
        },
        "id": "GCw74wXiVNFn",
        "outputId": "888887ec-72c9-48ed-9ea0-ceac2e80fad0"
      },
      "source": [
        "y_test_predicted_labels_tfidf[:5]"
      ],
      "execution_count": 93,
      "outputs": [
        {
          "output_type": "execute_result",
          "data": {
            "text/plain": [
              "array([[0, 0, 0, 0, 0, 0, 0, 0, 0, 0],\n",
              "       [1, 0, 0, 0, 0, 0, 0, 0, 0, 0],\n",
              "       [1, 0, 0, 1, 0, 0, 0, 0, 0, 0],\n",
              "       [0, 1, 0, 0, 0, 0, 0, 0, 0, 1],\n",
              "       [1, 0, 0, 0, 0, 0, 0, 0, 0, 0]])"
            ]
          },
          "metadata": {
            "tags": []
          },
          "execution_count": 93
        }
      ]
    },
    {
      "cell_type": "code",
      "metadata": {
        "id": "3loL_5rCA3ml"
      },
      "source": [
        ""
      ],
      "execution_count": null,
      "outputs": []
    }
  ]
}