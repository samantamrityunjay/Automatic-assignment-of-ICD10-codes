{
  "nbformat": 4,
  "nbformat_minor": 0,
  "metadata": {
    "colab": {
      "name": "metric.ipynb",
      "provenance": []
    },
    "kernelspec": {
      "name": "python3",
      "display_name": "Python 3"
    }
  },
  "cells": [
    {
      "cell_type": "code",
      "metadata": {
        "id": "GU1H_skUHli_"
      },
      "source": [
        "import numpy as np"
      ],
      "execution_count": null,
      "outputs": []
    },
    {
      "cell_type": "code",
      "metadata": {
        "id": "sA2fKG5wHpqW"
      },
      "source": [
        "import sklearn\r\n",
        "from sklearn.metrics import hamming_loss, f1_score, precision_score, recall_score"
      ],
      "execution_count": null,
      "outputs": []
    },
    {
      "cell_type": "code",
      "metadata": {
        "id": "8CJPwGBTH6EE"
      },
      "source": [
        "true = np.array([[1,0,1,0], [0,1,0,1], [1,0,0,1],[0,1,1,0],[1,0,0,0]])"
      ],
      "execution_count": null,
      "outputs": []
    },
    {
      "cell_type": "code",
      "metadata": {
        "colab": {
          "base_uri": "https://localhost:8080/"
        },
        "id": "o05vUJ4DIV4B",
        "outputId": "982c4661-e856-48bb-c3df-babfaf275253"
      },
      "source": [
        "true"
      ],
      "execution_count": null,
      "outputs": [
        {
          "output_type": "execute_result",
          "data": {
            "text/plain": [
              "array([[1, 0, 1, 0],\n",
              "       [0, 1, 0, 1],\n",
              "       [1, 0, 0, 1],\n",
              "       [0, 1, 1, 0],\n",
              "       [1, 0, 0, 0]])"
            ]
          },
          "metadata": {
            "tags": []
          },
          "execution_count": 4
        }
      ]
    },
    {
      "cell_type": "code",
      "metadata": {
        "id": "h6ha_TIOIWxx"
      },
      "source": [
        "predicted = np.array([[1,0,0,1],[0,1,1,1],[1,0,0,1],[0,1,0,0],[1,0,0,1]])"
      ],
      "execution_count": null,
      "outputs": []
    },
    {
      "cell_type": "code",
      "metadata": {
        "colab": {
          "base_uri": "https://localhost:8080/"
        },
        "id": "A-Ck0VXNcMmK",
        "outputId": "540b0c09-ecd8-42f3-ce6b-12998632d9c2"
      },
      "source": [
        "predicted"
      ],
      "execution_count": null,
      "outputs": [
        {
          "output_type": "execute_result",
          "data": {
            "text/plain": [
              "array([[1, 0, 0, 1],\n",
              "       [0, 1, 1, 1],\n",
              "       [1, 0, 0, 1],\n",
              "       [0, 1, 0, 0],\n",
              "       [1, 0, 0, 1]])"
            ]
          },
          "metadata": {
            "tags": []
          },
          "execution_count": 6
        }
      ]
    },
    {
      "cell_type": "code",
      "metadata": {
        "colab": {
          "base_uri": "https://localhost:8080/"
        },
        "id": "QKA5wD-kIlkc",
        "outputId": "f0f5773b-b891-4e6c-d86c-d388a5310b13"
      },
      "source": [
        "hamming_loss(true,predicted)"
      ],
      "execution_count": null,
      "outputs": [
        {
          "output_type": "execute_result",
          "data": {
            "text/plain": [
              "0.25"
            ]
          },
          "metadata": {
            "tags": []
          },
          "execution_count": 7
        }
      ]
    },
    {
      "cell_type": "code",
      "metadata": {
        "colab": {
          "base_uri": "https://localhost:8080/"
        },
        "id": "Dez7eeXSIoy5",
        "outputId": "b1f66e36-c29f-4fb8-fafc-a1dc719e6667"
      },
      "source": [
        "precision_score(true,predicted,average='micro')"
      ],
      "execution_count": null,
      "outputs": [
        {
          "output_type": "execute_result",
          "data": {
            "text/plain": [
              "0.7"
            ]
          },
          "metadata": {
            "tags": []
          },
          "execution_count": 8
        }
      ]
    },
    {
      "cell_type": "code",
      "metadata": {
        "colab": {
          "base_uri": "https://localhost:8080/"
        },
        "id": "UZ6iEPlUIwHq",
        "outputId": "d5675db9-d645-43a0-99e5-382fafe5735d"
      },
      "source": [
        "recall_score(true,predicted,average='micro')"
      ],
      "execution_count": null,
      "outputs": [
        {
          "output_type": "execute_result",
          "data": {
            "text/plain": [
              "0.7777777777777778"
            ]
          },
          "metadata": {
            "tags": []
          },
          "execution_count": 9
        }
      ]
    },
    {
      "cell_type": "code",
      "metadata": {
        "colab": {
          "base_uri": "https://localhost:8080/",
          "height": 102
        },
        "id": "i0oO1tZWJZkS",
        "outputId": "56ff8d6e-530c-4742-8362-067d8d565882"
      },
      "source": [
        "display(true)"
      ],
      "execution_count": null,
      "outputs": [
        {
          "output_type": "display_data",
          "data": {
            "text/plain": [
              "array([[1, 0, 1, 0],\n",
              "       [0, 1, 0, 1],\n",
              "       [1, 0, 0, 1],\n",
              "       [0, 1, 1, 0],\n",
              "       [1, 0, 0, 0]])"
            ]
          },
          "metadata": {
            "tags": []
          }
        }
      ]
    },
    {
      "cell_type": "code",
      "metadata": {
        "id": "5FrAXgr_KCwJ"
      },
      "source": [
        ""
      ],
      "execution_count": null,
      "outputs": []
    }
  ]
}